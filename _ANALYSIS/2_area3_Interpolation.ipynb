{
 "cells": [
  {
   "cell_type": "markdown",
   "metadata": {},
   "source": [
    "# Interpolation\n",
    "___"
   ]
  },
  {
   "cell_type": "markdown",
   "metadata": {},
   "source": [
    "**Remarks**\n",
    "- Code will need to be modified a bit to reflect the use of a certain group of data instead of all data"
   ]
  },
  {
   "cell_type": "code",
   "execution_count": 157,
   "metadata": {},
   "outputs": [],
   "source": [
    "import numpy as np\n",
    "import pandas as pd\n",
    "import os\n",
    "import pickle\n",
    "\n",
    "import matplotlib.pyplot as plt\n",
    "import seaborn as sns\n",
    "\n",
    "from collections import Counter\n",
    "from itertools import combinations\n",
    "\n",
    "# from scipy.spatial.distance import pdist\n",
    "# from scipy.stats import chisquare, chi2\n",
    "from scipy.stats import ttest_1samp, t\n",
    "\n",
    "from pykrige.ok import OrdinaryKriging\n",
    "from pykrige.rk import Krige\n",
    "import pykrige.kriging_tools as kt\n",
    "\n",
    "from sklearn.model_selection import cross_val_predict\n",
    "\n",
    "from joblib import Parallel, delayed\n",
    "import multiprocessing"
   ]
  },
  {
   "cell_type": "code",
   "execution_count": 158,
   "metadata": {},
   "outputs": [],
   "source": [
    "import prepostprocessing.pre_processing as preproc\n",
    "import prepostprocessing.post_processing as postproc\n",
    "import nugget_estimation.kriging_tools as krigingtools\n",
    "import nugget_estimation.detrending as detrending\n",
    "import plots.plots as plots\n",
    "import prepostprocessing.cleaning as cleaning\n",
    "import cross_validation.leave_one_out_cross_validation as loocv\n",
    "\n",
    "import qapf.qapf as qapf\n",
    "import statistics.ttest as ttest\n",
    "import statistics.simulations as sim\n",
    "\n",
    "import toolbox.toolbox as tb"
   ]
  },
  {
   "cell_type": "code",
   "execution_count": 159,
   "metadata": {},
   "outputs": [
    {
     "name": "stdout",
     "output_type": "stream",
     "text": [
      "The autoreload extension is already loaded. To reload it, use:\n",
      "  %reload_ext autoreload\n"
     ]
    }
   ],
   "source": [
    "# Load jupyter extension to reload packages before executing user code.\n",
    "# https://ipython.readtheMLcs.io/en/stable/config/extensions/autoreload.html\n",
    "%load_ext autoreload\n",
    "# Reload all packages (except those excluded by %aimport) every time before executing the Python code typed.\n",
    "%autoreload 2"
   ]
  },
  {
   "cell_type": "code",
   "execution_count": 160,
   "metadata": {},
   "outputs": [],
   "source": [
    "# You only need to run this cell once if you want to have multiple outputs in all your notebooks.\n",
    "# It is a general setting so you can set this cell's status to 'raw'\n",
    "from IPython.core.interactiveshell import InteractiveShell\n",
    "InteractiveShell.ast_node_interactivity = \"all\""
   ]
  },
  {
   "cell_type": "code",
   "execution_count": 161,
   "metadata": {},
   "outputs": [],
   "source": [
    "coordinates_latlon = preproc.load_obj(\"coordinates_area3\")\n",
    "coordinates_utm = preproc.load_obj(\"coordinates_utm_area3\")\n",
    "mineralogy = preproc.load_obj(\"mineralogy_area3\")\n",
    "mineralogy_clr = preproc.load_obj(\"mineralogy_clr_area3\")\n",
    "mineralogy_pca = preproc.load_obj(\"mineralogy_pca_area3\")\n",
    "mineralogy_pca_df = preproc.load_obj(\"mineralogy_pca_area3_df\")\n",
    "metadata = preproc.load_obj(\"metadata_area3\")"
   ]
  },
  {
   "cell_type": "markdown",
   "metadata": {},
   "source": [
    "## EDA\n",
    "___"
   ]
  },
  {
   "cell_type": "code",
   "execution_count": 162,
   "metadata": {},
   "outputs": [
    {
     "data": {
      "text/plain": [
       "1110"
      ]
     },
     "execution_count": 162,
     "metadata": {},
     "output_type": "execute_result"
    }
   ],
   "source": [
    "# Get number of control points that will be used\n",
    "number_of_control_points = coordinates_utm.shape[0]\n",
    "number_of_control_points"
   ]
  },
  {
   "cell_type": "code",
   "execution_count": 163,
   "metadata": {},
   "outputs": [
    {
     "data": {
      "text/html": [
       "<div>\n",
       "<style scoped>\n",
       "    .dataframe tbody tr th:only-of-type {\n",
       "        vertical-align: middle;\n",
       "    }\n",
       "\n",
       "    .dataframe tbody tr th {\n",
       "        vertical-align: top;\n",
       "    }\n",
       "\n",
       "    .dataframe thead th {\n",
       "        text-align: right;\n",
       "    }\n",
       "</style>\n",
       "<table border=\"1\" class=\"dataframe\">\n",
       "  <thead>\n",
       "    <tr style=\"text-align: right;\">\n",
       "      <th></th>\n",
       "      <th>Y_UTM</th>\n",
       "      <th>X_UTM</th>\n",
       "      <th>ZoneNumber</th>\n",
       "      <th>ZoneLetter</th>\n",
       "    </tr>\n",
       "  </thead>\n",
       "  <tbody>\n",
       "    <tr>\n",
       "      <th>3</th>\n",
       "      <td>1.544245e+06</td>\n",
       "      <td>7.110278e+06</td>\n",
       "      <td>53</td>\n",
       "      <td>V</td>\n",
       "    </tr>\n",
       "    <tr>\n",
       "      <th>4</th>\n",
       "      <td>1.083775e+06</td>\n",
       "      <td>6.877413e+06</td>\n",
       "      <td>53</td>\n",
       "      <td>V</td>\n",
       "    </tr>\n",
       "    <tr>\n",
       "      <th>12</th>\n",
       "      <td>1.257863e+06</td>\n",
       "      <td>6.881257e+06</td>\n",
       "      <td>53</td>\n",
       "      <td>V</td>\n",
       "    </tr>\n",
       "    <tr>\n",
       "      <th>15</th>\n",
       "      <td>1.062527e+06</td>\n",
       "      <td>7.781132e+06</td>\n",
       "      <td>53</td>\n",
       "      <td>V</td>\n",
       "    </tr>\n",
       "    <tr>\n",
       "      <th>18</th>\n",
       "      <td>7.552345e+05</td>\n",
       "      <td>7.733147e+06</td>\n",
       "      <td>53</td>\n",
       "      <td>V</td>\n",
       "    </tr>\n",
       "    <tr>\n",
       "      <th>...</th>\n",
       "      <td>...</td>\n",
       "      <td>...</td>\n",
       "      <td>...</td>\n",
       "      <td>...</td>\n",
       "    </tr>\n",
       "    <tr>\n",
       "      <th>4645</th>\n",
       "      <td>1.094202e+06</td>\n",
       "      <td>7.789042e+06</td>\n",
       "      <td>53</td>\n",
       "      <td>V</td>\n",
       "    </tr>\n",
       "    <tr>\n",
       "      <th>4648</th>\n",
       "      <td>1.299501e+06</td>\n",
       "      <td>6.808221e+06</td>\n",
       "      <td>53</td>\n",
       "      <td>V</td>\n",
       "    </tr>\n",
       "    <tr>\n",
       "      <th>4652</th>\n",
       "      <td>1.766361e+06</td>\n",
       "      <td>7.168888e+06</td>\n",
       "      <td>53</td>\n",
       "      <td>V</td>\n",
       "    </tr>\n",
       "    <tr>\n",
       "      <th>4653</th>\n",
       "      <td>1.321263e+06</td>\n",
       "      <td>6.795969e+06</td>\n",
       "      <td>53</td>\n",
       "      <td>V</td>\n",
       "    </tr>\n",
       "    <tr>\n",
       "      <th>4658</th>\n",
       "      <td>1.177291e+06</td>\n",
       "      <td>6.811066e+06</td>\n",
       "      <td>53</td>\n",
       "      <td>V</td>\n",
       "    </tr>\n",
       "  </tbody>\n",
       "</table>\n",
       "<p>1110 rows × 4 columns</p>\n",
       "</div>"
      ],
      "text/plain": [
       "             Y_UTM         X_UTM  ZoneNumber ZoneLetter\n",
       "3     1.544245e+06  7.110278e+06          53          V\n",
       "4     1.083775e+06  6.877413e+06          53          V\n",
       "12    1.257863e+06  6.881257e+06          53          V\n",
       "15    1.062527e+06  7.781132e+06          53          V\n",
       "18    7.552345e+05  7.733147e+06          53          V\n",
       "...            ...           ...         ...        ...\n",
       "4645  1.094202e+06  7.789042e+06          53          V\n",
       "4648  1.299501e+06  6.808221e+06          53          V\n",
       "4652  1.766361e+06  7.168888e+06          53          V\n",
       "4653  1.321263e+06  6.795969e+06          53          V\n",
       "4658  1.177291e+06  6.811066e+06          53          V\n",
       "\n",
       "[1110 rows x 4 columns]"
      ]
     },
     "execution_count": 163,
     "metadata": {},
     "output_type": "execute_result"
    }
   ],
   "source": [
    "coordinates_utm"
   ]
  },
  {
   "cell_type": "code",
   "execution_count": 164,
   "metadata": {},
   "outputs": [],
   "source": [
    "coordinates_utm = coordinates_utm.rename({\"X_UTM\": \"Y\", \"Y_UTM\": \"X\"}, axis=1)"
   ]
  },
  {
   "cell_type": "code",
   "execution_count": 165,
   "metadata": {},
   "outputs": [],
   "source": [
    "# FILL IN SHORT NAME HERE THAT WILL BE USED WHEN SAVING THE PLOT (e.g. \"G1\")\n",
    "group_name = \"area3\""
   ]
  },
  {
   "cell_type": "code",
   "execution_count": 166,
   "metadata": {},
   "outputs": [
    {
     "data": {
      "image/png": "[encoded data removed]",
      "text/plain": [
       "<Figure size 432x288 with 1 Axes>"
      ]
     },
     "metadata": {},
     "output_type": "display_data"
    }
   ],
   "source": [
    "# Plot control points with labels\n",
    "plots.plot_map_with_control_points(coordinates_utm, group_name, label_size=4, subset=[\"X\", \"Y\"],\n",
    "                                   show_labels=False,\n",
    "                                  skip_xaxis_label=2, skip_yaxis_label=2, \n",
    "                                  skip_xaxis_start=1, skip_yaxis_start=1)"
   ]
  },
  {
   "cell_type": "code",
   "execution_count": 167,
   "metadata": {},
   "outputs": [
    {
     "data": {
      "text/plain": [
       "array([53], dtype=int64)"
      ]
     },
     "execution_count": 167,
     "metadata": {},
     "output_type": "execute_result"
    },
    {
     "data": {
      "text/plain": [
       "array(['V'], dtype=object)"
      ]
     },
     "execution_count": 167,
     "metadata": {},
     "output_type": "execute_result"
    }
   ],
   "source": [
    "# Show unique zone letters and zone numbers of utm coordinates\n",
    "coordinates_utm[\"ZoneNumber\"].unique()\n",
    "coordinates_utm[\"ZoneLetter\"].unique()"
   ]
  },
  {
   "cell_type": "code",
   "execution_count": 168,
   "metadata": {},
   "outputs": [
    {
     "data": {
      "text/plain": [
       "(0.11434160253847162, 1506297.6330380423)"
      ]
     },
     "execution_count": 168,
     "metadata": {},
     "output_type": "execute_result"
    }
   ],
   "source": [
    "# Calculate minimum and maxmin lag distance between two points of the dataset\n",
    "distance_matrix = krigingtools.calculate_and_sort_square_distance_matrix(coordinates_utm[[\"X\", \"Y\"]])\n",
    "\n",
    "min_lag_distance = np.amin(distance_matrix)\n",
    "max_lag_distance = np.amax(distance_matrix)\n",
    "min_lag_distance, max_lag_distance"
   ]
  },
  {
   "cell_type": "code",
   "execution_count": 169,
   "metadata": {},
   "outputs": [
    {
     "data": {
      "text/plain": [
       "(array([14756., 18994., 23836., 24602., 31744., 35250., 39594., 38748.,\n",
       "        42058., 43652., 49748., 48640., 46404., 41646., 44378., 46428.,\n",
       "        46170., 43474., 42942., 42312., 42888., 44826., 47376., 44334.,\n",
       "        46052., 42146., 40850., 39692., 32974., 27688., 18860., 15064.,\n",
       "         8632.,  6544.,  3220.,  1950.,  1514.,   612.,    84.,   308.]),\n",
       " array([1.14341603e-01, 3.76575523e+04, 7.53149903e+04, 1.12972428e+05,\n",
       "        1.50629866e+05, 1.88287304e+05, 2.25944742e+05, 2.63602180e+05,\n",
       "        3.01259618e+05, 3.38917056e+05, 3.76574494e+05, 4.14231932e+05,\n",
       "        4.51889370e+05, 4.89546808e+05, 5.27204246e+05, 5.64861684e+05,\n",
       "        6.02519122e+05, 6.40176560e+05, 6.77833998e+05, 7.15491436e+05,\n",
       "        7.53148874e+05, 7.90806312e+05, 8.28463750e+05, 8.66121188e+05,\n",
       "        9.03778626e+05, 9.41436064e+05, 9.79093501e+05, 1.01675094e+06,\n",
       "        1.05440838e+06, 1.09206582e+06, 1.12972325e+06, 1.16738069e+06,\n",
       "        1.20503813e+06, 1.24269557e+06, 1.28035301e+06, 1.31801044e+06,\n",
       "        1.35566788e+06, 1.39332532e+06, 1.43098276e+06, 1.46864020e+06,\n",
       "        1.50629763e+06]),\n",
       " <a list of 40 Patch objects>)"
      ]
     },
     "execution_count": 169,
     "metadata": {},
     "output_type": "execute_result"
    },
    {
     "data": {
      "image/png": "[encoded data removed]",
      "text/plain": [
       "<Figure size 432x288 with 1 Axes>"
      ]
     },
     "metadata": {
      "needs_background": "light"
     },
     "output_type": "display_data"
    }
   ],
   "source": [
    "plt.hist(distance_matrix.flatten(), bins=40)"
   ]
  },
  {
   "cell_type": "code",
   "execution_count": 170,
   "metadata": {},
   "outputs": [
    {
     "data": {
      "text/plain": [
       "(array([], dtype=int64), array([], dtype=int64))"
      ]
     },
     "execution_count": 170,
     "metadata": {},
     "output_type": "execute_result"
    }
   ],
   "source": [
    "np.where(distance_matrix == 0)"
   ]
  },
  {
   "cell_type": "markdown",
   "metadata": {},
   "source": [
    "## Critical distance estimation\n",
    "___"
   ]
  },
  {
   "cell_type": "code",
   "execution_count": 171,
   "metadata": {},
   "outputs": [],
   "source": [
    "# Range (lag distance at which the sill is reached; in meters)\n",
    "\n",
    "# Depending on how many principal components you will use, \n",
    "# you will have to add more entries to tis list.\n",
    "\n",
    "# Modified the range since variograms are not correct yet\n",
    "# range_ = [100000] * 15\n",
    "range_ = [75000, 75000, 75000, 75000, 75000, 75000, 75000, 75000, 75000, 100000, 100000, 100000, 100000, 100000, 100000]\n",
    "\n"
   ]
  },
  {
   "cell_type": "code",
   "execution_count": 172,
   "metadata": {},
   "outputs": [
    {
     "data": {
      "image/png": "[encoded data removed]",
      "text/plain": [
       "<Figure size 1728x864 with 3 Axes>"
      ]
     },
     "metadata": {
      "needs_background": "light"
     },
     "output_type": "display_data"
    }
   ],
   "source": [
    "# You can adjust the radius parameters below to change the slider settings\n",
    "# to visualize the figures interactively\n",
    "plots.interactive_plot_search_radius(coordinates_utm, orient='rows', \n",
    "                                     radius_default=46000, # Default slider position\n",
    "                                     radius_min=30000,  # Slider start\n",
    "                                     radius_max=60000, # Slider stop\n",
    "                                     radius_step=1000,  # Slider step\n",
    "                                     radius_offset=1000) # Offset between visualizations shown\n",
    "\n",
    "# The x-axis stands for 'n_neighbours'"
   ]
  },
  {
   "cell_type": "code",
   "execution_count": 173,
   "metadata": {},
   "outputs": [],
   "source": [
    "# Critical distance (in meters)\n",
    "# This is the distance where at least 95% of your samples\n",
    "# will have at least 3 neighbours within that distance\n",
    "\n",
    "# You can refine this value later on, or we can use the range \n",
    "# instead of the critical distance as the only value for the search radius\n",
    "critical_distance = 46000"
   ]
  },
  {
   "cell_type": "code",
   "execution_count": 174,
   "metadata": {},
   "outputs": [],
   "source": [
    "# This is basically creating a list of how many neighbours each data point has \n",
    "# within the critical_distance and within the range\n",
    "nvalues_control_points = {}\n",
    "\n",
    "for radius in (0.05, critical_distance, range_[0]):\n",
    "    temp = krigingtools.find_points_within_search_radius(\n",
    "               krigingtools.calculate_and_sort_square_distance_matrix(coordinates_utm),\n",
    "               search_radius=radius # 'search_radius' should be equal to 'radius' here, not 'critical_distance'\n",
    "           )\n",
    "    nvalues_control_points[radius] = pd.Series(temp, index=coordinates_utm.index)\n",
    "    \n",
    "# You're performing a calculation in a for loop so we want to check how many neighbours each data point has \n",
    "# within the specified radius in the tuple (0.05, critical_distance, range_[0]). \n",
    "# So for each of these specified distances, the function will be executed and \n",
    "# the result stored in the nvalues_control_points dictionary"
   ]
  },
  {
   "cell_type": "code",
   "execution_count": 175,
   "metadata": {},
   "outputs": [
    {
     "data": {
      "text/plain": [
       "55.5"
      ]
     },
     "execution_count": 175,
     "metadata": {},
     "output_type": "execute_result"
    }
   ],
   "source": [
    "# Number of samples that may still have less than 3 neighbours within the critical distance\n",
    "number_of_control_points * 0.05"
   ]
  },
  {
   "cell_type": "code",
   "execution_count": 176,
   "metadata": {},
   "outputs": [
    {
     "data": {
      "text/plain": [
       "56"
      ]
     },
     "execution_count": 176,
     "metadata": {},
     "output_type": "execute_result"
    }
   ],
   "source": [
    "# Check number of samples outside of critical distance\n",
    "samples_outside_critical_distance = nvalues_control_points[critical_distance][nvalues_control_points[critical_distance] < 3].index.tolist()\n",
    "len(samples_outside_critical_distance)\n",
    "\n",
    "# 0.5 sample above 55.5"
   ]
  },
  {
   "cell_type": "code",
   "execution_count": 177,
   "metadata": {},
   "outputs": [
    {
     "data": {
      "text/html": [
       "<div>\n",
       "<style scoped>\n",
       "    .dataframe tbody tr th:only-of-type {\n",
       "        vertical-align: middle;\n",
       "    }\n",
       "\n",
       "    .dataframe tbody tr th {\n",
       "        vertical-align: top;\n",
       "    }\n",
       "\n",
       "    .dataframe thead th {\n",
       "        text-align: right;\n",
       "    }\n",
       "</style>\n",
       "<table border=\"1\" class=\"dataframe\">\n",
       "  <thead>\n",
       "    <tr style=\"text-align: right;\">\n",
       "      <th></th>\n",
       "      <th>PC01</th>\n",
       "      <th>PC02</th>\n",
       "      <th>PC03</th>\n",
       "      <th>PC04</th>\n",
       "      <th>PC05</th>\n",
       "      <th>PC06</th>\n",
       "      <th>PC07</th>\n",
       "      <th>PC08</th>\n",
       "      <th>PC09</th>\n",
       "      <th>PC10</th>\n",
       "      <th>PC11</th>\n",
       "    </tr>\n",
       "  </thead>\n",
       "  <tbody>\n",
       "    <tr>\n",
       "      <th>287</th>\n",
       "      <td>1.970445</td>\n",
       "      <td>-0.252776</td>\n",
       "      <td>-0.253029</td>\n",
       "      <td>-0.424779</td>\n",
       "      <td>-0.839199</td>\n",
       "      <td>0.513184</td>\n",
       "      <td>-0.258733</td>\n",
       "      <td>-0.048704</td>\n",
       "      <td>-0.059883</td>\n",
       "      <td>0.060421</td>\n",
       "      <td>3.533993e-16</td>\n",
       "    </tr>\n",
       "    <tr>\n",
       "      <th>693</th>\n",
       "      <td>1.084228</td>\n",
       "      <td>0.991341</td>\n",
       "      <td>0.337803</td>\n",
       "      <td>0.724028</td>\n",
       "      <td>-0.613870</td>\n",
       "      <td>-1.082102</td>\n",
       "      <td>-0.365133</td>\n",
       "      <td>-0.026624</td>\n",
       "      <td>0.174164</td>\n",
       "      <td>-0.020925</td>\n",
       "      <td>-4.526674e-17</td>\n",
       "    </tr>\n",
       "    <tr>\n",
       "      <th>719</th>\n",
       "      <td>1.196362</td>\n",
       "      <td>0.956468</td>\n",
       "      <td>0.084712</td>\n",
       "      <td>-0.773674</td>\n",
       "      <td>-0.965620</td>\n",
       "      <td>0.061269</td>\n",
       "      <td>-0.416051</td>\n",
       "      <td>1.212965</td>\n",
       "      <td>0.129261</td>\n",
       "      <td>0.033392</td>\n",
       "      <td>8.104161e-16</td>\n",
       "    </tr>\n",
       "    <tr>\n",
       "      <th>736</th>\n",
       "      <td>0.472162</td>\n",
       "      <td>0.076130</td>\n",
       "      <td>0.183462</td>\n",
       "      <td>0.229210</td>\n",
       "      <td>-0.062890</td>\n",
       "      <td>-0.796958</td>\n",
       "      <td>0.672387</td>\n",
       "      <td>-0.020582</td>\n",
       "      <td>0.038195</td>\n",
       "      <td>0.060404</td>\n",
       "      <td>6.263958e-17</td>\n",
       "    </tr>\n",
       "    <tr>\n",
       "      <th>1006</th>\n",
       "      <td>2.740249</td>\n",
       "      <td>-0.907356</td>\n",
       "      <td>-0.487074</td>\n",
       "      <td>-0.310957</td>\n",
       "      <td>-0.765645</td>\n",
       "      <td>-0.390600</td>\n",
       "      <td>-0.500970</td>\n",
       "      <td>0.459783</td>\n",
       "      <td>0.137965</td>\n",
       "      <td>-0.148069</td>\n",
       "      <td>6.623761e-17</td>\n",
       "    </tr>\n",
       "    <tr>\n",
       "      <th>1081</th>\n",
       "      <td>1.128135</td>\n",
       "      <td>-1.433732</td>\n",
       "      <td>0.028293</td>\n",
       "      <td>-0.484533</td>\n",
       "      <td>0.817148</td>\n",
       "      <td>-0.762498</td>\n",
       "      <td>0.329963</td>\n",
       "      <td>-0.024171</td>\n",
       "      <td>-0.022741</td>\n",
       "      <td>0.060204</td>\n",
       "      <td>-6.307719e-16</td>\n",
       "    </tr>\n",
       "    <tr>\n",
       "      <th>1482</th>\n",
       "      <td>-0.098717</td>\n",
       "      <td>0.667165</td>\n",
       "      <td>0.031641</td>\n",
       "      <td>0.754098</td>\n",
       "      <td>0.138714</td>\n",
       "      <td>0.212880</td>\n",
       "      <td>-0.196563</td>\n",
       "      <td>0.103445</td>\n",
       "      <td>0.057099</td>\n",
       "      <td>0.040971</td>\n",
       "      <td>-2.914739e-16</td>\n",
       "    </tr>\n",
       "    <tr>\n",
       "      <th>1507</th>\n",
       "      <td>0.640880</td>\n",
       "      <td>0.891520</td>\n",
       "      <td>-1.108722</td>\n",
       "      <td>-0.712797</td>\n",
       "      <td>-0.122138</td>\n",
       "      <td>0.489578</td>\n",
       "      <td>-0.172641</td>\n",
       "      <td>-0.064401</td>\n",
       "      <td>0.086069</td>\n",
       "      <td>0.003877</td>\n",
       "      <td>5.995929e-17</td>\n",
       "    </tr>\n",
       "    <tr>\n",
       "      <th>1510</th>\n",
       "      <td>0.506488</td>\n",
       "      <td>-0.588305</td>\n",
       "      <td>-0.692158</td>\n",
       "      <td>-0.149323</td>\n",
       "      <td>-0.210596</td>\n",
       "      <td>-0.283171</td>\n",
       "      <td>-0.199781</td>\n",
       "      <td>-0.076808</td>\n",
       "      <td>0.025290</td>\n",
       "      <td>0.057021</td>\n",
       "      <td>1.360973e-16</td>\n",
       "    </tr>\n",
       "    <tr>\n",
       "      <th>1718</th>\n",
       "      <td>0.490845</td>\n",
       "      <td>0.747040</td>\n",
       "      <td>-0.709082</td>\n",
       "      <td>-0.483478</td>\n",
       "      <td>-0.545665</td>\n",
       "      <td>-0.088834</td>\n",
       "      <td>-0.196959</td>\n",
       "      <td>-0.121936</td>\n",
       "      <td>-0.065431</td>\n",
       "      <td>0.044242</td>\n",
       "      <td>1.913541e-16</td>\n",
       "    </tr>\n",
       "    <tr>\n",
       "      <th>2023</th>\n",
       "      <td>1.046979</td>\n",
       "      <td>-0.291826</td>\n",
       "      <td>-1.349420</td>\n",
       "      <td>0.491429</td>\n",
       "      <td>-0.175808</td>\n",
       "      <td>0.412575</td>\n",
       "      <td>-0.138964</td>\n",
       "      <td>-0.149319</td>\n",
       "      <td>-0.243449</td>\n",
       "      <td>0.019380</td>\n",
       "      <td>-2.152909e-16</td>\n",
       "    </tr>\n",
       "    <tr>\n",
       "      <th>2034</th>\n",
       "      <td>0.590846</td>\n",
       "      <td>-0.815867</td>\n",
       "      <td>-1.203468</td>\n",
       "      <td>1.109244</td>\n",
       "      <td>-0.424811</td>\n",
       "      <td>0.015547</td>\n",
       "      <td>0.937901</td>\n",
       "      <td>0.077819</td>\n",
       "      <td>-0.238529</td>\n",
       "      <td>0.037323</td>\n",
       "      <td>6.174347e-16</td>\n",
       "    </tr>\n",
       "    <tr>\n",
       "      <th>2080</th>\n",
       "      <td>0.666515</td>\n",
       "      <td>0.246714</td>\n",
       "      <td>-1.481045</td>\n",
       "      <td>0.265961</td>\n",
       "      <td>0.839959</td>\n",
       "      <td>0.595951</td>\n",
       "      <td>-0.395628</td>\n",
       "      <td>-0.199064</td>\n",
       "      <td>-0.110221</td>\n",
       "      <td>-0.031939</td>\n",
       "      <td>4.925884e-17</td>\n",
       "    </tr>\n",
       "    <tr>\n",
       "      <th>2125</th>\n",
       "      <td>0.387066</td>\n",
       "      <td>0.050793</td>\n",
       "      <td>0.614862</td>\n",
       "      <td>-0.287682</td>\n",
       "      <td>-0.070351</td>\n",
       "      <td>-0.125887</td>\n",
       "      <td>-0.015378</td>\n",
       "      <td>-0.248801</td>\n",
       "      <td>-0.004864</td>\n",
       "      <td>0.002193</td>\n",
       "      <td>-1.996952e-16</td>\n",
       "    </tr>\n",
       "    <tr>\n",
       "      <th>2153</th>\n",
       "      <td>0.749751</td>\n",
       "      <td>-1.307858</td>\n",
       "      <td>0.885328</td>\n",
       "      <td>-1.054653</td>\n",
       "      <td>-0.245427</td>\n",
       "      <td>0.220539</td>\n",
       "      <td>-0.281830</td>\n",
       "      <td>0.562231</td>\n",
       "      <td>-0.034230</td>\n",
       "      <td>0.076062</td>\n",
       "      <td>1.312183e-16</td>\n",
       "    </tr>\n",
       "    <tr>\n",
       "      <th>2159</th>\n",
       "      <td>0.544883</td>\n",
       "      <td>-0.305755</td>\n",
       "      <td>0.485253</td>\n",
       "      <td>0.402695</td>\n",
       "      <td>-0.095684</td>\n",
       "      <td>-0.346291</td>\n",
       "      <td>-0.241449</td>\n",
       "      <td>0.169243</td>\n",
       "      <td>-0.054568</td>\n",
       "      <td>-0.046651</td>\n",
       "      <td>-3.898229e-16</td>\n",
       "    </tr>\n",
       "    <tr>\n",
       "      <th>2241</th>\n",
       "      <td>0.769301</td>\n",
       "      <td>-0.700118</td>\n",
       "      <td>0.526850</td>\n",
       "      <td>0.762235</td>\n",
       "      <td>-0.099299</td>\n",
       "      <td>-0.020661</td>\n",
       "      <td>-0.184848</td>\n",
       "      <td>0.097647</td>\n",
       "      <td>-0.194443</td>\n",
       "      <td>0.025058</td>\n",
       "      <td>-2.032846e-16</td>\n",
       "    </tr>\n",
       "    <tr>\n",
       "      <th>2295</th>\n",
       "      <td>0.700398</td>\n",
       "      <td>-0.869677</td>\n",
       "      <td>-0.197334</td>\n",
       "      <td>-0.653433</td>\n",
       "      <td>-0.228960</td>\n",
       "      <td>-0.734773</td>\n",
       "      <td>0.079251</td>\n",
       "      <td>-0.374675</td>\n",
       "      <td>0.034479</td>\n",
       "      <td>-0.041560</td>\n",
       "      <td>-1.814306e-16</td>\n",
       "    </tr>\n",
       "    <tr>\n",
       "      <th>2326</th>\n",
       "      <td>-0.204867</td>\n",
       "      <td>0.213876</td>\n",
       "      <td>-0.202689</td>\n",
       "      <td>0.245323</td>\n",
       "      <td>0.065045</td>\n",
       "      <td>-0.082014</td>\n",
       "      <td>-0.040651</td>\n",
       "      <td>-0.252310</td>\n",
       "      <td>0.068794</td>\n",
       "      <td>0.004297</td>\n",
       "      <td>-2.861166e-16</td>\n",
       "    </tr>\n",
       "    <tr>\n",
       "      <th>2373</th>\n",
       "      <td>2.856894</td>\n",
       "      <td>-0.851782</td>\n",
       "      <td>-0.616928</td>\n",
       "      <td>0.871004</td>\n",
       "      <td>-0.620044</td>\n",
       "      <td>-0.446526</td>\n",
       "      <td>-0.353034</td>\n",
       "      <td>0.289415</td>\n",
       "      <td>-0.026378</td>\n",
       "      <td>-0.295908</td>\n",
       "      <td>-4.426094e-16</td>\n",
       "    </tr>\n",
       "    <tr>\n",
       "      <th>2383</th>\n",
       "      <td>1.463447</td>\n",
       "      <td>-1.078551</td>\n",
       "      <td>-0.144584</td>\n",
       "      <td>-0.175077</td>\n",
       "      <td>-0.833851</td>\n",
       "      <td>-0.055147</td>\n",
       "      <td>0.650556</td>\n",
       "      <td>0.410508</td>\n",
       "      <td>-0.108383</td>\n",
       "      <td>-0.080484</td>\n",
       "      <td>7.487584e-16</td>\n",
       "    </tr>\n",
       "    <tr>\n",
       "      <th>2395</th>\n",
       "      <td>0.078673</td>\n",
       "      <td>-0.523542</td>\n",
       "      <td>0.074891</td>\n",
       "      <td>0.688538</td>\n",
       "      <td>0.322905</td>\n",
       "      <td>-0.225752</td>\n",
       "      <td>0.061753</td>\n",
       "      <td>0.085861</td>\n",
       "      <td>0.119517</td>\n",
       "      <td>-0.089893</td>\n",
       "      <td>-3.949906e-16</td>\n",
       "    </tr>\n",
       "    <tr>\n",
       "      <th>2474</th>\n",
       "      <td>0.022878</td>\n",
       "      <td>0.003207</td>\n",
       "      <td>0.383380</td>\n",
       "      <td>-0.394694</td>\n",
       "      <td>-0.206508</td>\n",
       "      <td>1.037886</td>\n",
       "      <td>0.024711</td>\n",
       "      <td>-0.106071</td>\n",
       "      <td>0.029036</td>\n",
       "      <td>0.057304</td>\n",
       "      <td>6.368985e-16</td>\n",
       "    </tr>\n",
       "    <tr>\n",
       "      <th>2523</th>\n",
       "      <td>0.832466</td>\n",
       "      <td>0.123237</td>\n",
       "      <td>-1.025992</td>\n",
       "      <td>-0.054767</td>\n",
       "      <td>0.791981</td>\n",
       "      <td>-0.228443</td>\n",
       "      <td>-0.325440</td>\n",
       "      <td>0.310019</td>\n",
       "      <td>-0.388508</td>\n",
       "      <td>-0.052907</td>\n",
       "      <td>-8.455648e-16</td>\n",
       "    </tr>\n",
       "    <tr>\n",
       "      <th>2596</th>\n",
       "      <td>-0.028738</td>\n",
       "      <td>0.359532</td>\n",
       "      <td>1.395330</td>\n",
       "      <td>-0.342261</td>\n",
       "      <td>-0.031319</td>\n",
       "      <td>-0.072449</td>\n",
       "      <td>-0.411211</td>\n",
       "      <td>-0.084699</td>\n",
       "      <td>-0.032278</td>\n",
       "      <td>0.029528</td>\n",
       "      <td>-1.822261e-16</td>\n",
       "    </tr>\n",
       "    <tr>\n",
       "      <th>2697</th>\n",
       "      <td>-0.519059</td>\n",
       "      <td>-0.152851</td>\n",
       "      <td>-1.569895</td>\n",
       "      <td>0.628004</td>\n",
       "      <td>-0.061306</td>\n",
       "      <td>0.356170</td>\n",
       "      <td>0.459534</td>\n",
       "      <td>0.224313</td>\n",
       "      <td>0.033100</td>\n",
       "      <td>0.012621</td>\n",
       "      <td>1.073635e-16</td>\n",
       "    </tr>\n",
       "    <tr>\n",
       "      <th>2721</th>\n",
       "      <td>-0.401403</td>\n",
       "      <td>0.917040</td>\n",
       "      <td>0.978175</td>\n",
       "      <td>0.908015</td>\n",
       "      <td>0.302398</td>\n",
       "      <td>0.052809</td>\n",
       "      <td>-0.191916</td>\n",
       "      <td>-0.115022</td>\n",
       "      <td>0.026652</td>\n",
       "      <td>-0.003300</td>\n",
       "      <td>-2.101463e-16</td>\n",
       "    </tr>\n",
       "    <tr>\n",
       "      <th>2963</th>\n",
       "      <td>-0.668073</td>\n",
       "      <td>-0.009163</td>\n",
       "      <td>-0.606933</td>\n",
       "      <td>0.294395</td>\n",
       "      <td>-0.108241</td>\n",
       "      <td>0.270064</td>\n",
       "      <td>0.151350</td>\n",
       "      <td>-0.133270</td>\n",
       "      <td>0.072765</td>\n",
       "      <td>0.019629</td>\n",
       "      <td>5.416409e-17</td>\n",
       "    </tr>\n",
       "    <tr>\n",
       "      <th>3019</th>\n",
       "      <td>-0.799364</td>\n",
       "      <td>-0.172362</td>\n",
       "      <td>0.197228</td>\n",
       "      <td>0.159112</td>\n",
       "      <td>0.112980</td>\n",
       "      <td>0.058546</td>\n",
       "      <td>-0.089016</td>\n",
       "      <td>-0.112675</td>\n",
       "      <td>0.114871</td>\n",
       "      <td>0.018887</td>\n",
       "      <td>-2.849173e-16</td>\n",
       "    </tr>\n",
       "    <tr>\n",
       "      <th>3174</th>\n",
       "      <td>-0.535079</td>\n",
       "      <td>0.525916</td>\n",
       "      <td>-0.147922</td>\n",
       "      <td>0.486213</td>\n",
       "      <td>0.081196</td>\n",
       "      <td>0.099941</td>\n",
       "      <td>0.518673</td>\n",
       "      <td>0.038566</td>\n",
       "      <td>-0.153729</td>\n",
       "      <td>-0.037669</td>\n",
       "      <td>1.831269e-16</td>\n",
       "    </tr>\n",
       "    <tr>\n",
       "      <th>3219</th>\n",
       "      <td>-0.267650</td>\n",
       "      <td>-0.915234</td>\n",
       "      <td>-0.237056</td>\n",
       "      <td>-0.428600</td>\n",
       "      <td>-0.113321</td>\n",
       "      <td>0.161872</td>\n",
       "      <td>-0.139634</td>\n",
       "      <td>-0.163088</td>\n",
       "      <td>-0.128951</td>\n",
       "      <td>0.062742</td>\n",
       "      <td>1.069906e-16</td>\n",
       "    </tr>\n",
       "    <tr>\n",
       "      <th>3260</th>\n",
       "      <td>-1.168348</td>\n",
       "      <td>0.182514</td>\n",
       "      <td>-1.006930</td>\n",
       "      <td>-0.350830</td>\n",
       "      <td>-0.113781</td>\n",
       "      <td>0.221067</td>\n",
       "      <td>0.374319</td>\n",
       "      <td>0.771819</td>\n",
       "      <td>0.045601</td>\n",
       "      <td>0.036526</td>\n",
       "      <td>4.950552e-16</td>\n",
       "    </tr>\n",
       "    <tr>\n",
       "      <th>3263</th>\n",
       "      <td>-1.148270</td>\n",
       "      <td>1.445590</td>\n",
       "      <td>0.066919</td>\n",
       "      <td>0.196279</td>\n",
       "      <td>-0.343061</td>\n",
       "      <td>0.356851</td>\n",
       "      <td>0.392366</td>\n",
       "      <td>0.069025</td>\n",
       "      <td>0.015670</td>\n",
       "      <td>0.053371</td>\n",
       "      <td>4.257121e-17</td>\n",
       "    </tr>\n",
       "    <tr>\n",
       "      <th>3288</th>\n",
       "      <td>-1.264575</td>\n",
       "      <td>1.693677</td>\n",
       "      <td>-0.118490</td>\n",
       "      <td>-0.732306</td>\n",
       "      <td>-0.412702</td>\n",
       "      <td>-0.371710</td>\n",
       "      <td>0.231429</td>\n",
       "      <td>0.100495</td>\n",
       "      <td>-0.006621</td>\n",
       "      <td>0.043569</td>\n",
       "      <td>3.617279e-16</td>\n",
       "    </tr>\n",
       "    <tr>\n",
       "      <th>3297</th>\n",
       "      <td>-0.222458</td>\n",
       "      <td>-0.686259</td>\n",
       "      <td>-0.278077</td>\n",
       "      <td>-0.236852</td>\n",
       "      <td>0.262749</td>\n",
       "      <td>0.103007</td>\n",
       "      <td>0.489053</td>\n",
       "      <td>-0.233315</td>\n",
       "      <td>-0.045325</td>\n",
       "      <td>-0.050246</td>\n",
       "      <td>-1.452415e-16</td>\n",
       "    </tr>\n",
       "    <tr>\n",
       "      <th>3298</th>\n",
       "      <td>0.033512</td>\n",
       "      <td>-0.659186</td>\n",
       "      <td>-1.411352</td>\n",
       "      <td>-0.227416</td>\n",
       "      <td>0.032361</td>\n",
       "      <td>0.279613</td>\n",
       "      <td>-0.336720</td>\n",
       "      <td>-0.328127</td>\n",
       "      <td>-0.028887</td>\n",
       "      <td>-0.064258</td>\n",
       "      <td>-3.821286e-16</td>\n",
       "    </tr>\n",
       "    <tr>\n",
       "      <th>3409</th>\n",
       "      <td>-1.028146</td>\n",
       "      <td>0.564382</td>\n",
       "      <td>-0.918943</td>\n",
       "      <td>0.020329</td>\n",
       "      <td>-0.332675</td>\n",
       "      <td>-0.238204</td>\n",
       "      <td>0.278132</td>\n",
       "      <td>-0.056416</td>\n",
       "      <td>-0.019528</td>\n",
       "      <td>-0.020311</td>\n",
       "      <td>4.234885e-16</td>\n",
       "    </tr>\n",
       "    <tr>\n",
       "      <th>3460</th>\n",
       "      <td>1.705101</td>\n",
       "      <td>-0.866754</td>\n",
       "      <td>1.857899</td>\n",
       "      <td>0.594398</td>\n",
       "      <td>-0.371578</td>\n",
       "      <td>-0.505922</td>\n",
       "      <td>-0.079706</td>\n",
       "      <td>0.328179</td>\n",
       "      <td>-0.323975</td>\n",
       "      <td>-0.221580</td>\n",
       "      <td>-2.968622e-16</td>\n",
       "    </tr>\n",
       "    <tr>\n",
       "      <th>3517</th>\n",
       "      <td>-0.950689</td>\n",
       "      <td>-0.274686</td>\n",
       "      <td>0.047701</td>\n",
       "      <td>0.388878</td>\n",
       "      <td>-0.217277</td>\n",
       "      <td>-0.050926</td>\n",
       "      <td>-0.018425</td>\n",
       "      <td>0.036002</td>\n",
       "      <td>-0.085070</td>\n",
       "      <td>0.042620</td>\n",
       "      <td>3.944545e-16</td>\n",
       "    </tr>\n",
       "    <tr>\n",
       "      <th>3540</th>\n",
       "      <td>-0.901068</td>\n",
       "      <td>-0.932809</td>\n",
       "      <td>-0.827138</td>\n",
       "      <td>0.131170</td>\n",
       "      <td>-0.602464</td>\n",
       "      <td>0.399844</td>\n",
       "      <td>0.356192</td>\n",
       "      <td>0.371573</td>\n",
       "      <td>0.072405</td>\n",
       "      <td>0.024563</td>\n",
       "      <td>5.298222e-16</td>\n",
       "    </tr>\n",
       "    <tr>\n",
       "      <th>3561</th>\n",
       "      <td>-0.369297</td>\n",
       "      <td>-1.315859</td>\n",
       "      <td>0.333361</td>\n",
       "      <td>-0.380672</td>\n",
       "      <td>-0.115036</td>\n",
       "      <td>-0.139319</td>\n",
       "      <td>0.612132</td>\n",
       "      <td>0.086675</td>\n",
       "      <td>0.023685</td>\n",
       "      <td>-0.045770</td>\n",
       "      <td>5.456480e-16</td>\n",
       "    </tr>\n",
       "    <tr>\n",
       "      <th>3567</th>\n",
       "      <td>0.160416</td>\n",
       "      <td>-0.594849</td>\n",
       "      <td>0.219885</td>\n",
       "      <td>-0.492455</td>\n",
       "      <td>-0.132877</td>\n",
       "      <td>0.306187</td>\n",
       "      <td>0.352717</td>\n",
       "      <td>-0.067897</td>\n",
       "      <td>-0.303169</td>\n",
       "      <td>-0.046866</td>\n",
       "      <td>2.800663e-16</td>\n",
       "    </tr>\n",
       "    <tr>\n",
       "      <th>3722</th>\n",
       "      <td>-0.744855</td>\n",
       "      <td>-1.420772</td>\n",
       "      <td>-0.132171</td>\n",
       "      <td>0.065009</td>\n",
       "      <td>-0.519456</td>\n",
       "      <td>-0.121514</td>\n",
       "      <td>0.052773</td>\n",
       "      <td>0.138583</td>\n",
       "      <td>-0.186327</td>\n",
       "      <td>0.094686</td>\n",
       "      <td>2.972852e-16</td>\n",
       "    </tr>\n",
       "    <tr>\n",
       "      <th>3723</th>\n",
       "      <td>-1.105021</td>\n",
       "      <td>0.257136</td>\n",
       "      <td>-0.678780</td>\n",
       "      <td>-0.027722</td>\n",
       "      <td>-0.316026</td>\n",
       "      <td>-0.088470</td>\n",
       "      <td>-0.013367</td>\n",
       "      <td>-0.119274</td>\n",
       "      <td>-0.013304</td>\n",
       "      <td>-0.025725</td>\n",
       "      <td>-5.621678e-18</td>\n",
       "    </tr>\n",
       "    <tr>\n",
       "      <th>3725</th>\n",
       "      <td>-0.772612</td>\n",
       "      <td>-1.231529</td>\n",
       "      <td>-0.386795</td>\n",
       "      <td>0.580484</td>\n",
       "      <td>0.175837</td>\n",
       "      <td>-0.080319</td>\n",
       "      <td>0.275193</td>\n",
       "      <td>0.260677</td>\n",
       "      <td>-0.100390</td>\n",
       "      <td>-0.000007</td>\n",
       "      <td>-2.714185e-16</td>\n",
       "    </tr>\n",
       "    <tr>\n",
       "      <th>3778</th>\n",
       "      <td>-0.512437</td>\n",
       "      <td>-0.337093</td>\n",
       "      <td>1.668725</td>\n",
       "      <td>-1.377135</td>\n",
       "      <td>0.053767</td>\n",
       "      <td>-0.046486</td>\n",
       "      <td>0.153546</td>\n",
       "      <td>-0.009763</td>\n",
       "      <td>-0.115330</td>\n",
       "      <td>-0.044665</td>\n",
       "      <td>-2.141987e-16</td>\n",
       "    </tr>\n",
       "    <tr>\n",
       "      <th>3783</th>\n",
       "      <td>-0.776513</td>\n",
       "      <td>0.222370</td>\n",
       "      <td>0.103908</td>\n",
       "      <td>-0.204095</td>\n",
       "      <td>-0.123772</td>\n",
       "      <td>0.197321</td>\n",
       "      <td>-0.102809</td>\n",
       "      <td>-0.087600</td>\n",
       "      <td>-0.120605</td>\n",
       "      <td>-0.008318</td>\n",
       "      <td>-1.397869e-16</td>\n",
       "    </tr>\n",
       "    <tr>\n",
       "      <th>3931</th>\n",
       "      <td>-1.574334</td>\n",
       "      <td>0.448773</td>\n",
       "      <td>-0.442916</td>\n",
       "      <td>-0.396090</td>\n",
       "      <td>-0.176782</td>\n",
       "      <td>-0.017828</td>\n",
       "      <td>-0.107749</td>\n",
       "      <td>0.163558</td>\n",
       "      <td>0.010930</td>\n",
       "      <td>0.066709</td>\n",
       "      <td>-2.809022e-16</td>\n",
       "    </tr>\n",
       "    <tr>\n",
       "      <th>4067</th>\n",
       "      <td>-1.247426</td>\n",
       "      <td>-0.104985</td>\n",
       "      <td>0.653175</td>\n",
       "      <td>0.716104</td>\n",
       "      <td>0.451629</td>\n",
       "      <td>-0.146606</td>\n",
       "      <td>-0.029316</td>\n",
       "      <td>-0.029796</td>\n",
       "      <td>-0.032224</td>\n",
       "      <td>-0.030786</td>\n",
       "      <td>-5.459110e-16</td>\n",
       "    </tr>\n",
       "    <tr>\n",
       "      <th>4183</th>\n",
       "      <td>-1.358142</td>\n",
       "      <td>0.314467</td>\n",
       "      <td>0.336664</td>\n",
       "      <td>-0.059940</td>\n",
       "      <td>-0.392362</td>\n",
       "      <td>0.014464</td>\n",
       "      <td>-0.356456</td>\n",
       "      <td>-0.129265</td>\n",
       "      <td>-0.047252</td>\n",
       "      <td>0.025345</td>\n",
       "      <td>-2.222803e-16</td>\n",
       "    </tr>\n",
       "    <tr>\n",
       "      <th>4254</th>\n",
       "      <td>-1.265119</td>\n",
       "      <td>-0.267032</td>\n",
       "      <td>0.185034</td>\n",
       "      <td>0.283955</td>\n",
       "      <td>-0.087030</td>\n",
       "      <td>-0.020243</td>\n",
       "      <td>0.001233</td>\n",
       "      <td>0.008238</td>\n",
       "      <td>-0.070294</td>\n",
       "      <td>-0.069466</td>\n",
       "      <td>-5.938068e-16</td>\n",
       "    </tr>\n",
       "    <tr>\n",
       "      <th>4313</th>\n",
       "      <td>-1.698005</td>\n",
       "      <td>-0.752201</td>\n",
       "      <td>0.449745</td>\n",
       "      <td>0.165085</td>\n",
       "      <td>0.411424</td>\n",
       "      <td>0.121152</td>\n",
       "      <td>-0.070208</td>\n",
       "      <td>0.189296</td>\n",
       "      <td>0.194124</td>\n",
       "      <td>-0.048849</td>\n",
       "      <td>-2.265423e-16</td>\n",
       "    </tr>\n",
       "    <tr>\n",
       "      <th>4435</th>\n",
       "      <td>-1.323001</td>\n",
       "      <td>-0.587434</td>\n",
       "      <td>0.135556</td>\n",
       "      <td>-0.103881</td>\n",
       "      <td>-0.032123</td>\n",
       "      <td>0.249860</td>\n",
       "      <td>-0.014063</td>\n",
       "      <td>-0.007084</td>\n",
       "      <td>-0.155097</td>\n",
       "      <td>-0.046690</td>\n",
       "      <td>-5.010761e-16</td>\n",
       "    </tr>\n",
       "    <tr>\n",
       "      <th>4547</th>\n",
       "      <td>-1.400910</td>\n",
       "      <td>-1.269517</td>\n",
       "      <td>0.897266</td>\n",
       "      <td>0.320034</td>\n",
       "      <td>0.007236</td>\n",
       "      <td>0.247449</td>\n",
       "      <td>-0.063924</td>\n",
       "      <td>0.276285</td>\n",
       "      <td>-0.088327</td>\n",
       "      <td>-0.106181</td>\n",
       "      <td>-1.206885e-16</td>\n",
       "    </tr>\n",
       "    <tr>\n",
       "      <th>4637</th>\n",
       "      <td>-1.707880</td>\n",
       "      <td>-1.722500</td>\n",
       "      <td>0.656438</td>\n",
       "      <td>0.119756</td>\n",
       "      <td>0.162139</td>\n",
       "      <td>0.192069</td>\n",
       "      <td>-0.003082</td>\n",
       "      <td>-0.002686</td>\n",
       "      <td>-0.003042</td>\n",
       "      <td>-0.163283</td>\n",
       "      <td>-6.065427e-16</td>\n",
       "    </tr>\n",
       "    <tr>\n",
       "      <th>4640</th>\n",
       "      <td>-2.084253</td>\n",
       "      <td>-0.836242</td>\n",
       "      <td>0.030277</td>\n",
       "      <td>-0.488393</td>\n",
       "      <td>-0.291349</td>\n",
       "      <td>0.719500</td>\n",
       "      <td>-0.082130</td>\n",
       "      <td>0.412195</td>\n",
       "      <td>0.206428</td>\n",
       "      <td>-0.187632</td>\n",
       "      <td>-6.183825e-16</td>\n",
       "    </tr>\n",
       "  </tbody>\n",
       "</table>\n",
       "</div>"
      ],
      "text/plain": [
       "          PC01      PC02      PC03      PC04      PC05      PC06      PC07  \\\n",
       "287   1.970445 -0.252776 -0.253029 -0.424779 -0.839199  0.513184 -0.258733   \n",
       "693   1.084228  0.991341  0.337803  0.724028 -0.613870 -1.082102 -0.365133   \n",
       "719   1.196362  0.956468  0.084712 -0.773674 -0.965620  0.061269 -0.416051   \n",
       "736   0.472162  0.076130  0.183462  0.229210 -0.062890 -0.796958  0.672387   \n",
       "1006  2.740249 -0.907356 -0.487074 -0.310957 -0.765645 -0.390600 -0.500970   \n",
       "1081  1.128135 -1.433732  0.028293 -0.484533  0.817148 -0.762498  0.329963   \n",
       "1482 -0.098717  0.667165  0.031641  0.754098  0.138714  0.212880 -0.196563   \n",
       "1507  0.640880  0.891520 -1.108722 -0.712797 -0.122138  0.489578 -0.172641   \n",
       "1510  0.506488 -0.588305 -0.692158 -0.149323 -0.210596 -0.283171 -0.199781   \n",
       "1718  0.490845  0.747040 -0.709082 -0.483478 -0.545665 -0.088834 -0.196959   \n",
       "2023  1.046979 -0.291826 -1.349420  0.491429 -0.175808  0.412575 -0.138964   \n",
       "2034  0.590846 -0.815867 -1.203468  1.109244 -0.424811  0.015547  0.937901   \n",
       "2080  0.666515  0.246714 -1.481045  0.265961  0.839959  0.595951 -0.395628   \n",
       "2125  0.387066  0.050793  0.614862 -0.287682 -0.070351 -0.125887 -0.015378   \n",
       "2153  0.749751 -1.307858  0.885328 -1.054653 -0.245427  0.220539 -0.281830   \n",
       "2159  0.544883 -0.305755  0.485253  0.402695 -0.095684 -0.346291 -0.241449   \n",
       "2241  0.769301 -0.700118  0.526850  0.762235 -0.099299 -0.020661 -0.184848   \n",
       "2295  0.700398 -0.869677 -0.197334 -0.653433 -0.228960 -0.734773  0.079251   \n",
       "2326 -0.204867  0.213876 -0.202689  0.245323  0.065045 -0.082014 -0.040651   \n",
       "2373  2.856894 -0.851782 -0.616928  0.871004 -0.620044 -0.446526 -0.353034   \n",
       "2383  1.463447 -1.078551 -0.144584 -0.175077 -0.833851 -0.055147  0.650556   \n",
       "2395  0.078673 -0.523542  0.074891  0.688538  0.322905 -0.225752  0.061753   \n",
       "2474  0.022878  0.003207  0.383380 -0.394694 -0.206508  1.037886  0.024711   \n",
       "2523  0.832466  0.123237 -1.025992 -0.054767  0.791981 -0.228443 -0.325440   \n",
       "2596 -0.028738  0.359532  1.395330 -0.342261 -0.031319 -0.072449 -0.411211   \n",
       "2697 -0.519059 -0.152851 -1.569895  0.628004 -0.061306  0.356170  0.459534   \n",
       "2721 -0.401403  0.917040  0.978175  0.908015  0.302398  0.052809 -0.191916   \n",
       "2963 -0.668073 -0.009163 -0.606933  0.294395 -0.108241  0.270064  0.151350   \n",
       "3019 -0.799364 -0.172362  0.197228  0.159112  0.112980  0.058546 -0.089016   \n",
       "3174 -0.535079  0.525916 -0.147922  0.486213  0.081196  0.099941  0.518673   \n",
       "3219 -0.267650 -0.915234 -0.237056 -0.428600 -0.113321  0.161872 -0.139634   \n",
       "3260 -1.168348  0.182514 -1.006930 -0.350830 -0.113781  0.221067  0.374319   \n",
       "3263 -1.148270  1.445590  0.066919  0.196279 -0.343061  0.356851  0.392366   \n",
       "3288 -1.264575  1.693677 -0.118490 -0.732306 -0.412702 -0.371710  0.231429   \n",
       "3297 -0.222458 -0.686259 -0.278077 -0.236852  0.262749  0.103007  0.489053   \n",
       "3298  0.033512 -0.659186 -1.411352 -0.227416  0.032361  0.279613 -0.336720   \n",
       "3409 -1.028146  0.564382 -0.918943  0.020329 -0.332675 -0.238204  0.278132   \n",
       "3460  1.705101 -0.866754  1.857899  0.594398 -0.371578 -0.505922 -0.079706   \n",
       "3517 -0.950689 -0.274686  0.047701  0.388878 -0.217277 -0.050926 -0.018425   \n",
       "3540 -0.901068 -0.932809 -0.827138  0.131170 -0.602464  0.399844  0.356192   \n",
       "3561 -0.369297 -1.315859  0.333361 -0.380672 -0.115036 -0.139319  0.612132   \n",
       "3567  0.160416 -0.594849  0.219885 -0.492455 -0.132877  0.306187  0.352717   \n",
       "3722 -0.744855 -1.420772 -0.132171  0.065009 -0.519456 -0.121514  0.052773   \n",
       "3723 -1.105021  0.257136 -0.678780 -0.027722 -0.316026 -0.088470 -0.013367   \n",
       "3725 -0.772612 -1.231529 -0.386795  0.580484  0.175837 -0.080319  0.275193   \n",
       "3778 -0.512437 -0.337093  1.668725 -1.377135  0.053767 -0.046486  0.153546   \n",
       "3783 -0.776513  0.222370  0.103908 -0.204095 -0.123772  0.197321 -0.102809   \n",
       "3931 -1.574334  0.448773 -0.442916 -0.396090 -0.176782 -0.017828 -0.107749   \n",
       "4067 -1.247426 -0.104985  0.653175  0.716104  0.451629 -0.146606 -0.029316   \n",
       "4183 -1.358142  0.314467  0.336664 -0.059940 -0.392362  0.014464 -0.356456   \n",
       "4254 -1.265119 -0.267032  0.185034  0.283955 -0.087030 -0.020243  0.001233   \n",
       "4313 -1.698005 -0.752201  0.449745  0.165085  0.411424  0.121152 -0.070208   \n",
       "4435 -1.323001 -0.587434  0.135556 -0.103881 -0.032123  0.249860 -0.014063   \n",
       "4547 -1.400910 -1.269517  0.897266  0.320034  0.007236  0.247449 -0.063924   \n",
       "4637 -1.707880 -1.722500  0.656438  0.119756  0.162139  0.192069 -0.003082   \n",
       "4640 -2.084253 -0.836242  0.030277 -0.488393 -0.291349  0.719500 -0.082130   \n",
       "\n",
       "          PC08      PC09      PC10          PC11  \n",
       "287  -0.048704 -0.059883  0.060421  3.533993e-16  \n",
       "693  -0.026624  0.174164 -0.020925 -4.526674e-17  \n",
       "719   1.212965  0.129261  0.033392  8.104161e-16  \n",
       "736  -0.020582  0.038195  0.060404  6.263958e-17  \n",
       "1006  0.459783  0.137965 -0.148069  6.623761e-17  \n",
       "1081 -0.024171 -0.022741  0.060204 -6.307719e-16  \n",
       "1482  0.103445  0.057099  0.040971 -2.914739e-16  \n",
       "1507 -0.064401  0.086069  0.003877  5.995929e-17  \n",
       "1510 -0.076808  0.025290  0.057021  1.360973e-16  \n",
       "1718 -0.121936 -0.065431  0.044242  1.913541e-16  \n",
       "2023 -0.149319 -0.243449  0.019380 -2.152909e-16  \n",
       "2034  0.077819 -0.238529  0.037323  6.174347e-16  \n",
       "2080 -0.199064 -0.110221 -0.031939  4.925884e-17  \n",
       "2125 -0.248801 -0.004864  0.002193 -1.996952e-16  \n",
       "2153  0.562231 -0.034230  0.076062  1.312183e-16  \n",
       "2159  0.169243 -0.054568 -0.046651 -3.898229e-16  \n",
       "2241  0.097647 -0.194443  0.025058 -2.032846e-16  \n",
       "2295 -0.374675  0.034479 -0.041560 -1.814306e-16  \n",
       "2326 -0.252310  0.068794  0.004297 -2.861166e-16  \n",
       "2373  0.289415 -0.026378 -0.295908 -4.426094e-16  \n",
       "2383  0.410508 -0.108383 -0.080484  7.487584e-16  \n",
       "2395  0.085861  0.119517 -0.089893 -3.949906e-16  \n",
       "2474 -0.106071  0.029036  0.057304  6.368985e-16  \n",
       "2523  0.310019 -0.388508 -0.052907 -8.455648e-16  \n",
       "2596 -0.084699 -0.032278  0.029528 -1.822261e-16  \n",
       "2697  0.224313  0.033100  0.012621  1.073635e-16  \n",
       "2721 -0.115022  0.026652 -0.003300 -2.101463e-16  \n",
       "2963 -0.133270  0.072765  0.019629  5.416409e-17  \n",
       "3019 -0.112675  0.114871  0.018887 -2.849173e-16  \n",
       "3174  0.038566 -0.153729 -0.037669  1.831269e-16  \n",
       "3219 -0.163088 -0.128951  0.062742  1.069906e-16  \n",
       "3260  0.771819  0.045601  0.036526  4.950552e-16  \n",
       "3263  0.069025  0.015670  0.053371  4.257121e-17  \n",
       "3288  0.100495 -0.006621  0.043569  3.617279e-16  \n",
       "3297 -0.233315 -0.045325 -0.050246 -1.452415e-16  \n",
       "3298 -0.328127 -0.028887 -0.064258 -3.821286e-16  \n",
       "3409 -0.056416 -0.019528 -0.020311  4.234885e-16  \n",
       "3460  0.328179 -0.323975 -0.221580 -2.968622e-16  \n",
       "3517  0.036002 -0.085070  0.042620  3.944545e-16  \n",
       "3540  0.371573  0.072405  0.024563  5.298222e-16  \n",
       "3561  0.086675  0.023685 -0.045770  5.456480e-16  \n",
       "3567 -0.067897 -0.303169 -0.046866  2.800663e-16  \n",
       "3722  0.138583 -0.186327  0.094686  2.972852e-16  \n",
       "3723 -0.119274 -0.013304 -0.025725 -5.621678e-18  \n",
       "3725  0.260677 -0.100390 -0.000007 -2.714185e-16  \n",
       "3778 -0.009763 -0.115330 -0.044665 -2.141987e-16  \n",
       "3783 -0.087600 -0.120605 -0.008318 -1.397869e-16  \n",
       "3931  0.163558  0.010930  0.066709 -2.809022e-16  \n",
       "4067 -0.029796 -0.032224 -0.030786 -5.459110e-16  \n",
       "4183 -0.129265 -0.047252  0.025345 -2.222803e-16  \n",
       "4254  0.008238 -0.070294 -0.069466 -5.938068e-16  \n",
       "4313  0.189296  0.194124 -0.048849 -2.265423e-16  \n",
       "4435 -0.007084 -0.155097 -0.046690 -5.010761e-16  \n",
       "4547  0.276285 -0.088327 -0.106181 -1.206885e-16  \n",
       "4637 -0.002686 -0.003042 -0.163283 -6.065427e-16  \n",
       "4640  0.412195  0.206428 -0.187632 -6.183825e-16  "
      ]
     },
     "execution_count": 177,
     "metadata": {},
     "output_type": "execute_result"
    }
   ],
   "source": [
    "# Overview of samples that are outside search_radius\n",
    "mineralogy_pca_df.loc[samples_outside_critical_distance, :]"
   ]
  },
  {
   "cell_type": "markdown",
   "metadata": {},
   "source": [
    "____"
   ]
  },
  {
   "cell_type": "markdown",
   "metadata": {},
   "source": [
    "## Create high resolution grids\n",
    "____"
   ]
  },
  {
   "cell_type": "code",
   "execution_count": 178,
   "metadata": {},
   "outputs": [
    {
     "data": {
      "text/plain": [
       "array([[380837.0749136983, 1814660.677663528],\n",
       "       [(6478037.441791461,), 7886720.807331166]], dtype=object)"
      ]
     },
     "execution_count": 178,
     "metadata": {},
     "output_type": "execute_result"
    }
   ],
   "source": [
    "# Determine (wide) grid boundaries\n",
    "X = coordinates_utm.iloc[:, 0].values\n",
    "Xmin = np.min(X) - critical_distance * 1.05\n",
    "Xmax = np.max(X) + critical_distance * 1.05\n",
    "\n",
    "Y = coordinates_utm.iloc[:, 1].values\n",
    "Ymin = np.min(Y) - critical_distance * 1.05, \n",
    "Ymax = np.max(Y) + critical_distance * 1.05\n",
    "\n",
    "coordinates_boundaries = np.array([[Xmin, Xmax], [Ymin, Ymax]])\n",
    "coordinates_boundaries"
   ]
  },
  {
   "cell_type": "code",
   "execution_count": 179,
   "metadata": {},
   "outputs": [
    {
     "name": "stdout",
     "output_type": "stream",
     "text": [
      "x [380837.0749136983 1814660.677663528]\n",
      "y [(6478037.441791461,) 7886720.807331166]\n",
      "x range:  1433823\n",
      "y range:  1408683\n",
      "smallest dimension y\n",
      "theoretical x spacing:  2393.69549707818\n",
      "actual x spacing:  2351.7251511514187\n",
      "actual y spacing:  2351.7251511514187\n",
      "Number of points:  367812\n",
      "xy grid:  612 601 \n",
      "\n"
     ]
    }
   ],
   "source": [
    "# Set approximate number of points along each axis\n",
    "n_points = 600\n",
    "\n",
    "temp = {}\n",
    "x, y = coordinates_boundaries\n",
    "\n",
    "temp[\"x_start (m)\"] = int(np.floor(x[0]))\n",
    "temp[\"x_end (m)\"] = int(np.floor(x[1]))\n",
    "temp[\"y_start (m)\"] = int(np.floor(y[0]))\n",
    "temp[\"y_end (m)\"] = int(np.floor(y[1]))\n",
    "\n",
    "print(\"x\", x)\n",
    "print(\"y\", y)\n",
    "\n",
    "temp[\"x_range (m)\"] = int(np.floor(x[1])) - int(np.floor(x[0]))\n",
    "temp[\"y_range (m)\"] = int(np.floor(y[1])) - int(np.floor(y[0]))\n",
    "print(\"x range: \", temp[\"x_range (m)\"])\n",
    "print(\"y range: \", temp[\"y_range (m)\"])\n",
    "\n",
    "ranges = {\"x\": temp[\"x_range (m)\"],\n",
    "          \"y\": temp[\"y_range (m)\"],\n",
    "         }\n",
    "\n",
    "threshold = 10000000\n",
    "for dimension, ranger in ranges.items():\n",
    "    if ranger < threshold:\n",
    "        smallest_dimension = dimension\n",
    "        threshold = ranger\n",
    "print(\"smallest dimension\", smallest_dimension)\n",
    "\n",
    "x_spacing, dx = np.linspace(x[0], x[1], n_points, retstep=True)\n",
    "y_spacing, dy = np.linspace(y[0], y[1], n_points, retstep=True)\n",
    "\n",
    "steps = {\"x\": dx,\n",
    "         \"y\": dy,\n",
    "        }\n",
    "\n",
    "print(\"theoretical x spacing: \", dx)\n",
    "\n",
    "xgrid = np.arange(x[0]-dx, x[1]+dx, steps[smallest_dimension])\n",
    "ygrid = np.arange(y[0]-dy, y[1]+dy, steps[smallest_dimension])\n",
    "\n",
    "print(\"actual x spacing: \", xgrid[1] - xgrid[0])\n",
    "print(\"actual y spacing: \", ygrid[1] - ygrid[0])\n",
    "\n",
    "temp[\"x_spacing (m)\"] = np.round(xgrid[1] - xgrid[0], 2)\n",
    "temp[\"y_spacing (m)\"] = np.round(ygrid[1] - ygrid[0], 2)\n",
    "\n",
    "print(\"Number of points: \", len(xgrid) * len(ygrid))\n",
    "print(\"xy grid: \", len(xgrid), len(ygrid), \"\\n\")\n",
    "\n",
    "temp[\"#xgrid_points\"] = len(xgrid)\n",
    "temp[\"#ygrid_points\"] = len(ygrid)\n",
    "temp[\"#total_grid_nodes\"] = len(xgrid) * len(ygrid)\n",
    "\n",
    "coordinates_grids = [xgrid, ygrid]\n",
    "coordinates_grids_details = temp\n",
    "\n",
    "# Assigned to a different variable (name) because later on 'grid' gets used in the code\n",
    "grid = coordinates_grids"
   ]
  },
  {
   "cell_type": "markdown",
   "metadata": {},
   "source": [
    "## Classification map\n",
    "___"
   ]
  },
  {
   "cell_type": "markdown",
   "metadata": {},
   "source": [
    "We will have to decide on a certain classification scheme before we could use this.  \n",
    "Another option might be to use a condensed version of the 'type_granite' column."
   ]
  },
  {
   "cell_type": "markdown",
   "metadata": {},
   "source": [
    "**Yep**"
   ]
  },
  {
   "cell_type": "markdown",
   "metadata": {},
   "source": [
    "## Detrending\n",
    "____"
   ]
  },
  {
   "cell_type": "code",
   "execution_count": 180,
   "metadata": {},
   "outputs": [
    {
     "name": "stdout",
     "output_type": "stream",
     "text": [
      "R² for PC01 order = 1 :\n"
     ]
    },
    {
     "data": {
      "text/plain": [
       "0.06703014028830967"
      ]
     },
     "execution_count": 180,
     "metadata": {},
     "output_type": "execute_result"
    },
    {
     "name": "stdout",
     "output_type": "stream",
     "text": [
      "R² for PC01 order = 2 :\n"
     ]
    },
    {
     "data": {
      "text/plain": [
       "0.0932551899580929"
      ]
     },
     "execution_count": 180,
     "metadata": {},
     "output_type": "execute_result"
    },
    {
     "name": "stdout",
     "output_type": "stream",
     "text": [
      "R² for PC02 order = 1 :\n"
     ]
    },
    {
     "data": {
      "text/plain": [
       "0.19942427933834872"
      ]
     },
     "execution_count": 180,
     "metadata": {},
     "output_type": "execute_result"
    },
    {
     "name": "stdout",
     "output_type": "stream",
     "text": [
      "R² for PC02 order = 2 :\n"
     ]
    },
    {
     "data": {
      "text/plain": [
       "0.20616091356481803"
      ]
     },
     "execution_count": 180,
     "metadata": {},
     "output_type": "execute_result"
    },
    {
     "name": "stdout",
     "output_type": "stream",
     "text": [
      "R² for PC03 order = 1 :\n"
     ]
    },
    {
     "data": {
      "text/plain": [
       "0.0044743732761040045"
      ]
     },
     "execution_count": 180,
     "metadata": {},
     "output_type": "execute_result"
    },
    {
     "name": "stdout",
     "output_type": "stream",
     "text": [
      "R² for PC03 order = 2 :\n"
     ]
    },
    {
     "data": {
      "text/plain": [
       "0.012660244140598742"
      ]
     },
     "execution_count": 180,
     "metadata": {},
     "output_type": "execute_result"
    },
    {
     "name": "stdout",
     "output_type": "stream",
     "text": [
      "R² for PC04 order = 1 :\n"
     ]
    },
    {
     "data": {
      "text/plain": [
       "0.0021023421973018763"
      ]
     },
     "execution_count": 180,
     "metadata": {},
     "output_type": "execute_result"
    },
    {
     "name": "stdout",
     "output_type": "stream",
     "text": [
      "R² for PC04 order = 2 :\n"
     ]
    },
    {
     "data": {
      "text/plain": [
       "0.0046223486886192156"
      ]
     },
     "execution_count": 180,
     "metadata": {},
     "output_type": "execute_result"
    },
    {
     "name": "stdout",
     "output_type": "stream",
     "text": [
      "R² for PC05 order = 1 :\n"
     ]
    },
    {
     "data": {
      "text/plain": [
       "0.001192464828594253"
      ]
     },
     "execution_count": 180,
     "metadata": {},
     "output_type": "execute_result"
    },
    {
     "name": "stdout",
     "output_type": "stream",
     "text": [
      "R² for PC05 order = 2 :\n"
     ]
    },
    {
     "data": {
      "text/plain": [
       "0.007526252033861924"
      ]
     },
     "execution_count": 180,
     "metadata": {},
     "output_type": "execute_result"
    },
    {
     "name": "stdout",
     "output_type": "stream",
     "text": [
      "R² for PC06 order = 1 :\n"
     ]
    },
    {
     "data": {
      "text/plain": [
       "0.0007544381316645365"
      ]
     },
     "execution_count": 180,
     "metadata": {},
     "output_type": "execute_result"
    },
    {
     "name": "stdout",
     "output_type": "stream",
     "text": [
      "R² for PC06 order = 2 :\n"
     ]
    },
    {
     "data": {
      "text/plain": [
       "0.027717086851883566"
      ]
     },
     "execution_count": 180,
     "metadata": {},
     "output_type": "execute_result"
    },
    {
     "name": "stdout",
     "output_type": "stream",
     "text": [
      "R² for PC07 order = 1 :\n"
     ]
    },
    {
     "data": {
      "text/plain": [
       "0.0006956862183695733"
      ]
     },
     "execution_count": 180,
     "metadata": {},
     "output_type": "execute_result"
    },
    {
     "name": "stdout",
     "output_type": "stream",
     "text": [
      "R² for PC07 order = 2 :\n"
     ]
    },
    {
     "data": {
      "text/plain": [
       "0.007061403148894363"
      ]
     },
     "execution_count": 180,
     "metadata": {},
     "output_type": "execute_result"
    },
    {
     "name": "stdout",
     "output_type": "stream",
     "text": [
      "R² for PC08 order = 1 :\n"
     ]
    },
    {
     "data": {
      "text/plain": [
       "0.00812488391095878"
      ]
     },
     "execution_count": 180,
     "metadata": {},
     "output_type": "execute_result"
    },
    {
     "name": "stdout",
     "output_type": "stream",
     "text": [
      "R² for PC08 order = 2 :\n"
     ]
    },
    {
     "data": {
      "text/plain": [
       "0.023337873394523645"
      ]
     },
     "execution_count": 180,
     "metadata": {},
     "output_type": "execute_result"
    },
    {
     "name": "stdout",
     "output_type": "stream",
     "text": [
      "R² for PC09 order = 1 :\n"
     ]
    },
    {
     "data": {
      "text/plain": [
       "0.008483598240836776"
      ]
     },
     "execution_count": 180,
     "metadata": {},
     "output_type": "execute_result"
    },
    {
     "name": "stdout",
     "output_type": "stream",
     "text": [
      "R² for PC09 order = 2 :\n"
     ]
    },
    {
     "data": {
      "text/plain": [
       "0.056232791275913185"
      ]
     },
     "execution_count": 180,
     "metadata": {},
     "output_type": "execute_result"
    },
    {
     "name": "stdout",
     "output_type": "stream",
     "text": [
      "R² for PC10 order = 1 :\n"
     ]
    },
    {
     "data": {
      "text/plain": [
       "0.0014369648031982152"
      ]
     },
     "execution_count": 180,
     "metadata": {},
     "output_type": "execute_result"
    },
    {
     "name": "stdout",
     "output_type": "stream",
     "text": [
      "R² for PC10 order = 2 :\n"
     ]
    },
    {
     "data": {
      "text/plain": [
       "0.0022853688757182855"
      ]
     },
     "execution_count": 180,
     "metadata": {},
     "output_type": "execute_result"
    }
   ],
   "source": [
    "# Check if there is a trend present in the data\n",
    "# This is the case if R² is above say 0.70 \n",
    "\n",
    "for component in mineralogy_pca_df.columns.tolist()[:-1]:\n",
    "    for order in [1, 2]:\n",
    "        print(\"R² for\", component, \"order =\", order, \":\")\n",
    "        detrending.detrend(coordinates_utm, \n",
    "                           mineralogy_pca_df[component], \n",
    "                           order=order, \n",
    "                           verbose=False, \n",
    "                           plot_points=False)[1]"
   ]
  },
  {
   "cell_type": "markdown",
   "metadata": {},
   "source": [
    "## Variogram modelling\n",
    "___"
   ]
  },
  {
   "cell_type": "markdown",
   "metadata": {},
   "source": [
    "* Variogram model (str)\n",
    "* Sill (float)\n",
    "* Range (float)\n",
    "* Nugget (float)\n",
    "* Number of lag bins (int)\n",
    "* Weighted (Bool)"
   ]
  },
  {
   "cell_type": "code",
   "execution_count": 181,
   "metadata": {},
   "outputs": [],
   "source": [
    "# Nugget (variance at lag=0 metric)\n",
    "\n",
    "# Since we are not dealing with point count data here,\n",
    "# we can not use the formulas from our paper we have talked about\n",
    "# Therefore I would just start with nugget=0 and perhaps later change this\n",
    "\n",
    "# Depending on how many principal components you will use, \n",
    "# you will have to add more entries to this list.\n",
    "\n",
    "# nugget_ = [0.9021, 0.7235, 0.3317, 0.2334, 0.1514, 0.1430, 0.1084, 0.04346, 0.01539, 0., 0., 0., 0., 0., 0.]\n",
    "\n",
    "nugget_ = [0.7518, 0.6331, 0.3317, 0.2334, 0.1298, 0.1252, 0.1084, 0.0435, 0.01539, 0., 0., 0., 0., 0., 0.]"
   ]
  },
  {
   "cell_type": "code",
   "execution_count": 182,
   "metadata": {},
   "outputs": [
    {
     "data": {
      "text/plain": [
       "['01', '02', '03', '04', '05', '06', '07', '08', '09', '10', '11']"
      ]
     },
     "execution_count": 182,
     "metadata": {},
     "output_type": "execute_result"
    }
   ],
   "source": [
    "PC_nr_list = [nr[2:] for nr in mineralogy_pca_df.columns]\n",
    "PC_nr_list"
   ]
  },
  {
   "cell_type": "code",
   "execution_count": 183,
   "metadata": {},
   "outputs": [],
   "source": [
    "# Sill (total variance metric)\n",
    "\n",
    "# A 'list comprehension' construction is used here\n",
    "sill_ = [mineralogy_pca_df.loc[:, f\"PC{i}\"].values.var(ddof=1) \n",
    "         for i in PC_nr_list]"
   ]
  },
  {
   "cell_type": "code",
   "execution_count": 184,
   "metadata": {},
   "outputs": [],
   "source": [
    "# Variogram model parameters dictionary\n",
    "\n",
    "variogram_model_parameters = {}\n",
    "\n",
    "for i, PC in enumerate(mineralogy_pca_df.columns):\n",
    "    parameters = {}\n",
    "    parameters[\"sill\"] = sill_[i]\n",
    "    parameters[\"range\"] = range_[i]\n",
    "    parameters[\"nugget\"] = nugget_[i]\n",
    "        \n",
    "    variogram_model_parameters[PC] = parameters"
   ]
  },
  {
   "cell_type": "code",
   "execution_count": 185,
   "metadata": {},
   "outputs": [],
   "source": [
    "# Variogram model\n",
    "\n",
    "# You can choose between [\"exponential\", \"linear\", \"spherical\", \"power\", \"gaussian\"]\n",
    "# see https://pykrige.readthedocs.io/en/latest/variogram_models.html for equations\n",
    "variogram_model = \"exponential\""
   ]
  },
  {
   "cell_type": "code",
   "execution_count": 186,
   "metadata": {},
   "outputs": [
    {
     "data": {
      "text/plain": [
       "33"
      ]
     },
     "execution_count": 186,
     "metadata": {},
     "output_type": "execute_result"
    }
   ],
   "source": [
    "# Number of lag bins\n",
    "\n",
    "n_lags = int(np.floor(np.sqrt(coordinates_utm.shape[0])))\n",
    "n_lags"
   ]
  },
  {
   "cell_type": "code",
   "execution_count": 187,
   "metadata": {},
   "outputs": [],
   "source": [
    "# Set utm coordinates to use in variogram\n",
    "\n",
    "X = coordinates_utm.iloc[:, 0].values\n",
    "Y = coordinates_utm.iloc[:, 1].values"
   ]
  },
  {
   "cell_type": "code",
   "execution_count": 188,
   "metadata": {},
   "outputs": [
    {
     "name": "stdout",
     "output_type": "stream",
     "text": [
      "PC01\n",
      "Plotting Enabled\n",
      "\n",
      "Adjusting data for anisotropy...\n",
      "Initializing variogram model...\n",
      "Coordinates type: 'euclidean' \n",
      "\n",
      "Using 'exponential' Variogram Model\n",
      "Partial Sill: 0.751662179805227\n",
      "Full Sill: 1.503462179805227\n",
      "Range: 75000\n",
      "Nugget: 0.7518 \n",
      "\n"
     ]
    },
    {
     "data": {
      "image/png": "[encoded data removed]",
      "text/plain": [
       "<Figure size 432x288 with 1 Axes>"
      ]
     },
     "metadata": {
      "needs_background": "light"
     },
     "output_type": "display_data"
    },
    {
     "name": "stdout",
     "output_type": "stream",
     "text": [
      "Calculating statistics on variogram model fit...\n",
      "PC02\n",
      "Plotting Enabled\n",
      "\n",
      "Adjusting data for anisotropy...\n",
      "Initializing variogram model...\n",
      "Coordinates type: 'euclidean' \n",
      "\n",
      "Using 'exponential' Variogram Model\n",
      "Partial Sill: 0.27130633950637095\n",
      "Full Sill: 0.904406339506371\n",
      "Range: 75000\n",
      "Nugget: 0.6331 \n",
      "\n"
     ]
    },
    {
     "data": {
      "image/png": "[encoded data removed]",
      "text/plain": [
       "<Figure size 432x288 with 1 Axes>"
      ]
     },
     "metadata": {
      "needs_background": "light"
     },
     "output_type": "display_data"
    },
    {
     "name": "stdout",
     "output_type": "stream",
     "text": [
      "Calculating statistics on variogram model fit...\n",
      "PC03\n",
      "Plotting Enabled\n",
      "\n",
      "Adjusting data for anisotropy...\n",
      "Initializing variogram model...\n",
      "Coordinates type: 'euclidean' \n",
      "\n",
      "Using 'exponential' Variogram Model\n",
      "Partial Sill: 0.036896739840901416\n",
      "Full Sill: 0.3685967398409014\n",
      "Range: 75000\n",
      "Nugget: 0.3317 \n",
      "\n"
     ]
    },
    {
     "data": {
      "image/png": "[encoded data removed]",
      "text/plain": [
       "<Figure size 432x288 with 1 Axes>"
      ]
     },
     "metadata": {
      "needs_background": "light"
     },
     "output_type": "display_data"
    },
    {
     "name": "stdout",
     "output_type": "stream",
     "text": [
      "Calculating statistics on variogram model fit...\n",
      "PC04\n",
      "Plotting Enabled\n",
      "\n",
      "Adjusting data for anisotropy...\n",
      "Initializing variogram model...\n",
      "Coordinates type: 'euclidean' \n",
      "\n",
      "Using 'exponential' Variogram Model\n",
      "Partial Sill: 0.09996020575231501\n",
      "Full Sill: 0.333360205752315\n",
      "Range: 75000\n",
      "Nugget: 0.2334 \n",
      "\n"
     ]
    },
    {
     "data": {
      "image/png": "[encoded data removed]",
      "text/plain": [
       "<Figure size 432x288 with 1 Axes>"
      ]
     },
     "metadata": {
      "needs_background": "light"
     },
     "output_type": "display_data"
    },
    {
     "name": "stdout",
     "output_type": "stream",
     "text": [
      "Calculating statistics on variogram model fit...\n",
      "PC05\n",
      "Plotting Enabled\n",
      "\n",
      "Adjusting data for anisotropy...\n",
      "Initializing variogram model...\n",
      "Coordinates type: 'euclidean' \n",
      "\n",
      "Using 'exponential' Variogram Model\n",
      "Partial Sill: 0.08646693998289418\n",
      "Full Sill: 0.21626693998289417\n",
      "Range: 75000\n",
      "Nugget: 0.1298 \n",
      "\n"
     ]
    },
    {
     "data": {
      "image/png": "[encoded data removed]",
      "text/plain": [
       "<Figure size 432x288 with 1 Axes>"
      ]
     },
     "metadata": {
      "needs_background": "light"
     },
     "output_type": "display_data"
    },
    {
     "name": "stdout",
     "output_type": "stream",
     "text": [
      "Calculating statistics on variogram model fit...\n",
      "PC06\n",
      "Plotting Enabled\n",
      "\n",
      "Adjusting data for anisotropy...\n",
      "Initializing variogram model...\n",
      "Coordinates type: 'euclidean' \n",
      "\n",
      "Using 'exponential' Variogram Model\n",
      "Partial Sill: 0.053558177292484827\n",
      "Full Sill: 0.17875817729248483\n",
      "Range: 75000\n",
      "Nugget: 0.1252 \n",
      "\n"
     ]
    },
    {
     "data": {
      "image/png": "[encoded data removed]",
      "text/plain": [
       "<Figure size 432x288 with 1 Axes>"
      ]
     },
     "metadata": {
      "needs_background": "light"
     },
     "output_type": "display_data"
    },
    {
     "name": "stdout",
     "output_type": "stream",
     "text": [
      "Calculating statistics on variogram model fit...\n",
      "PC07\n",
      "Plotting Enabled\n",
      "\n",
      "Adjusting data for anisotropy...\n",
      "Initializing variogram model...\n",
      "Coordinates type: 'euclidean' \n",
      "\n",
      "Using 'exponential' Variogram Model\n",
      "Partial Sill: 0.0465282449801718\n",
      "Full Sill: 0.1549282449801718\n",
      "Range: 75000\n",
      "Nugget: 0.1084 \n",
      "\n"
     ]
    },
    {
     "data": {
      "image/png": "[encoded data removed]",
      "text/plain": [
       "<Figure size 432x288 with 1 Axes>"
      ]
     },
     "metadata": {
      "needs_background": "light"
     },
     "output_type": "display_data"
    },
    {
     "name": "stdout",
     "output_type": "stream",
     "text": [
      "Calculating statistics on variogram model fit...\n",
      "PC08\n",
      "Plotting Enabled\n",
      "\n",
      "Adjusting data for anisotropy...\n",
      "Initializing variogram model...\n",
      "Coordinates type: 'euclidean' \n",
      "\n",
      "Using 'exponential' Variogram Model\n",
      "Partial Sill: 0.018593260424165925\n",
      "Full Sill: 0.06209326042416592\n",
      "Range: 75000\n",
      "Nugget: 0.0435 \n",
      "\n"
     ]
    },
    {
     "data": {
      "image/png": "[encoded data removed]",
      "text/plain": [
       "<Figure size 432x288 with 1 Axes>"
      ]
     },
     "metadata": {
      "needs_background": "light"
     },
     "output_type": "display_data"
    },
    {
     "name": "stdout",
     "output_type": "stream",
     "text": [
      "Calculating statistics on variogram model fit...\n",
      "PC09\n",
      "Plotting Enabled\n",
      "\n",
      "Adjusting data for anisotropy...\n",
      "Initializing variogram model...\n",
      "Coordinates type: 'euclidean' \n",
      "\n",
      "Using 'exponential' Variogram Model\n",
      "Partial Sill: 0.006585510180417023\n",
      "Full Sill: 0.021975510180417022\n",
      "Range: 75000\n",
      "Nugget: 0.01539 \n",
      "\n"
     ]
    },
    {
     "data": {
      "image/png": "[encoded data removed]",
      "text/plain": [
       "<Figure size 432x288 with 1 Axes>"
      ]
     },
     "metadata": {
      "needs_background": "light"
     },
     "output_type": "display_data"
    },
    {
     "name": "stdout",
     "output_type": "stream",
     "text": [
      "Calculating statistics on variogram model fit...\n",
      "PC10\n",
      "Plotting Enabled\n",
      "\n",
      "Adjusting data for anisotropy...\n",
      "Initializing variogram model...\n",
      "Coordinates type: 'euclidean' \n",
      "\n",
      "Using 'exponential' Variogram Model\n",
      "Partial Sill: 0.004846480457840512\n",
      "Full Sill: 0.004846480457840512\n",
      "Range: 100000\n",
      "Nugget: 0.0 \n",
      "\n"
     ]
    },
    {
     "data": {
      "image/png": "[encoded data removed]",
      "text/plain": [
       "<Figure size 432x288 with 1 Axes>"
      ]
     },
     "metadata": {
      "needs_background": "light"
     },
     "output_type": "display_data"
    },
    {
     "name": "stdout",
     "output_type": "stream",
     "text": [
      "Calculating statistics on variogram model fit...\n",
      "Wall time: 5.91 s\n"
     ]
    }
   ],
   "source": [
    "%%time\n",
    "# Initialize empty dictionary\n",
    "variograms = {}\n",
    "\n",
    "# Loop though the diiferent principal components\n",
    "for component in mineralogy_pca_df.columns.tolist()[:-1]:\n",
    "    print(component)\n",
    "    # Subset principal component to use\n",
    "    data = mineralogy_pca_df.loc[:, component].values\n",
    "    variograms[component] = \\\n",
    "        OrdinaryKriging(X, Y, data,\n",
    "                        variogram_model='exponential',\n",
    "                        variogram_parameters=variogram_model_parameters[component],\n",
    "                        nlags=n_lags,\n",
    "                        verbose=True,\n",
    "                        enable_statistics=False,\n",
    "                        enable_plotting=True,\n",
    "                        weight=True,\n",
    "                        saveplot=True,\n",
    "                        coordinates_type='euclidean',\n",
    "                        saveloc=\"../_FIGURES/variograms/\",\n",
    "                        principal_component=component,\n",
    "                        pluton=group_name,\n",
    "                        show_nlag_pairs=False, # Turn off displaying number of lag pairs in lag bin\n",
    "                        show_range_determine_guide=True, # 0.95 * sill highlighted with blue line to help determining range\n",
    "                        range_estimate=75000) # Pass in value in meters to display a line at range estimate; set value to None to not display line\n",
    "    \n",
    "# NOTE that ideally Q1 is close to zero, Q2 is close to 1, and cR is as small as possible."
   ]
  },
  {
   "cell_type": "markdown",
   "metadata": {},
   "source": [
    "## Leave One Out Cross Validation (LOOCV) of PCA\n",
    "____"
   ]
  },
  {
   "cell_type": "code",
   "execution_count": 189,
   "metadata": {},
   "outputs": [],
   "source": [
    "# If you have run the cross validation before you can load the results by\n",
    "# running this cell and don't have to run the next cell anymore.\n",
    "CV_results = preproc.load_obj(\"CV_results_fast\")"
   ]
  },
  {
   "cell_type": "code",
   "execution_count": 190,
   "metadata": {},
   "outputs": [],
   "source": [
    "# Use this cross validation to check the hyper-parameters of your chosen variogram model \n",
    "# such as the search_radius, variogram_model, lag_bins etc.\n",
    "\n",
    "# Cross validation parameter dictionary to use\n",
    "# You can remove or add options here which will decrease or increase the number \n",
    "# of combinations of parameters the cross validation will run\n",
    "cv_param_dict = {}\n",
    "\n",
    "for component in mineralogy_pca_df.columns.tolist()[:-1]:\n",
    "    cv_param_dict[component] = {\"method\": [\"ordinary\"],\n",
    "                                \"variogram_model\": [\"exponential\", \"spherical\"],\n",
    "                                \"variogram_model_parameters\": [variogram_model_parameters[component]],\n",
    "                                \"nlags\": [n_lags],\n",
    "                                \"weight\": [True],\n",
    "                                \"n_closest_points\": [number_of_control_points],\n",
    "                                \"search_radius\": [range_[0]]\n",
    "                                }\n",
    "\n",
    "# The CV function below uses parallel processing to speed things up\n",
    "# Your CPU will thus reach 100% probably\n",
    "# To reduce the number of parallel processes to use you can change the following value\n",
    "# Defaults to -1 to use all available CPU cores; change to number between 1 and 8 e.g. \n",
    "# depending on how many cores your CPU has\n",
    "n_jobs = -1 "
   ]
  },
  {
   "cell_type": "code",
   "execution_count": 191,
   "metadata": {},
   "outputs": [
    {
     "name": "stdout",
     "output_type": "stream",
     "text": [
      "PC01\n",
      "Fitting 10 folds for each of 2 candidates, totalling 20 fits\n"
     ]
    },
    {
     "name": "stderr",
     "output_type": "stream",
     "text": [
      "[Parallel(n_jobs=-1)]: Using backend LokyBackend with 8 concurrent workers.\n",
      "[Parallel(n_jobs=-1)]: Done   2 tasks      | elapsed:    7.4s\n",
      "[Parallel(n_jobs=-1)]: Done  10 out of  20 | elapsed:    8.7s remaining:    8.7s\n",
      "[Parallel(n_jobs=-1)]: Done  15 out of  20 | elapsed:    8.7s remaining:    2.8s\n",
      "[Parallel(n_jobs=-1)]: Done  20 out of  20 | elapsed:    9.5s remaining:    0.0s\n",
      "[Parallel(n_jobs=-1)]: Done  20 out of  20 | elapsed:    9.5s finished\n",
      "C:\\Users\\Sebastian\\Anaconda3\\envs\\main\\lib\\site-packages\\sklearn\\model_selection\\_search.py:825: FutureWarning: The parameter 'iid' is deprecated in 0.22 and will be removed in 0.24.\n",
      "  \"removed in 0.24.\", FutureWarning\n"
     ]
    },
    {
     "name": "stdout",
     "output_type": "stream",
     "text": [
      "PC02\n",
      "Fitting 10 folds for each of 2 candidates, totalling 20 fits\n"
     ]
    },
    {
     "name": "stderr",
     "output_type": "stream",
     "text": [
      "[Parallel(n_jobs=-1)]: Using backend LokyBackend with 8 concurrent workers.\n",
      "[Parallel(n_jobs=-1)]: Done   2 tasks      | elapsed:    1.2s\n",
      "[Parallel(n_jobs=-1)]: Done  10 out of  20 | elapsed:    2.5s remaining:    2.5s\n",
      "[Parallel(n_jobs=-1)]: Done  15 out of  20 | elapsed:    2.7s remaining:    0.8s\n",
      "[Parallel(n_jobs=-1)]: Done  20 out of  20 | elapsed:    3.4s remaining:    0.0s\n",
      "[Parallel(n_jobs=-1)]: Done  20 out of  20 | elapsed:    3.4s finished\n",
      "[Parallel(n_jobs=-1)]: Using backend LokyBackend with 8 concurrent workers.\n"
     ]
    },
    {
     "name": "stdout",
     "output_type": "stream",
     "text": [
      "PC03\n",
      "Fitting 10 folds for each of 2 candidates, totalling 20 fits\n"
     ]
    },
    {
     "name": "stderr",
     "output_type": "stream",
     "text": [
      "[Parallel(n_jobs=-1)]: Done   2 tasks      | elapsed:    1.2s\n",
      "[Parallel(n_jobs=-1)]: Done  10 out of  20 | elapsed:    2.4s remaining:    2.4s\n",
      "[Parallel(n_jobs=-1)]: Done  15 out of  20 | elapsed:    2.6s remaining:    0.8s\n",
      "[Parallel(n_jobs=-1)]: Done  20 out of  20 | elapsed:    3.3s remaining:    0.0s\n",
      "[Parallel(n_jobs=-1)]: Done  20 out of  20 | elapsed:    3.3s finished\n"
     ]
    },
    {
     "name": "stdout",
     "output_type": "stream",
     "text": [
      "PC04\n",
      "Fitting 10 folds for each of 2 candidates, totalling 20 fits\n"
     ]
    },
    {
     "name": "stderr",
     "output_type": "stream",
     "text": [
      "[Parallel(n_jobs=-1)]: Using backend LokyBackend with 8 concurrent workers.\n",
      "[Parallel(n_jobs=-1)]: Done   2 tasks      | elapsed:    1.2s\n",
      "[Parallel(n_jobs=-1)]: Done  10 out of  20 | elapsed:    2.3s remaining:    2.3s\n",
      "[Parallel(n_jobs=-1)]: Done  15 out of  20 | elapsed:    2.7s remaining:    0.8s\n",
      "[Parallel(n_jobs=-1)]: Done  20 out of  20 | elapsed:    3.3s remaining:    0.0s\n",
      "[Parallel(n_jobs=-1)]: Done  20 out of  20 | elapsed:    3.3s finished\n"
     ]
    },
    {
     "name": "stdout",
     "output_type": "stream",
     "text": [
      "PC05\n",
      "Fitting 10 folds for each of 2 candidates, totalling 20 fits\n"
     ]
    },
    {
     "name": "stderr",
     "output_type": "stream",
     "text": [
      "[Parallel(n_jobs=-1)]: Using backend LokyBackend with 8 concurrent workers.\n",
      "[Parallel(n_jobs=-1)]: Done   2 tasks      | elapsed:    1.3s\n",
      "[Parallel(n_jobs=-1)]: Done  10 out of  20 | elapsed:    2.5s remaining:    2.5s\n",
      "[Parallel(n_jobs=-1)]: Done  15 out of  20 | elapsed:    2.6s remaining:    0.8s\n",
      "[Parallel(n_jobs=-1)]: Done  20 out of  20 | elapsed:    3.3s remaining:    0.0s\n",
      "[Parallel(n_jobs=-1)]: Done  20 out of  20 | elapsed:    3.3s finished\n"
     ]
    },
    {
     "name": "stdout",
     "output_type": "stream",
     "text": [
      "PC06\n",
      "Fitting 10 folds for each of 2 candidates, totalling 20 fits\n"
     ]
    },
    {
     "name": "stderr",
     "output_type": "stream",
     "text": [
      "[Parallel(n_jobs=-1)]: Using backend LokyBackend with 8 concurrent workers.\n",
      "[Parallel(n_jobs=-1)]: Done   2 tasks      | elapsed:    1.2s\n",
      "[Parallel(n_jobs=-1)]: Done  10 out of  20 | elapsed:    2.5s remaining:    2.5s\n",
      "[Parallel(n_jobs=-1)]: Done  15 out of  20 | elapsed:    2.6s remaining:    0.8s\n",
      "[Parallel(n_jobs=-1)]: Done  20 out of  20 | elapsed:    3.4s remaining:    0.0s\n",
      "[Parallel(n_jobs=-1)]: Done  20 out of  20 | elapsed:    3.4s finished\n"
     ]
    },
    {
     "name": "stdout",
     "output_type": "stream",
     "text": [
      "PC07\n",
      "Fitting 10 folds for each of 2 candidates, totalling 20 fits\n"
     ]
    },
    {
     "name": "stderr",
     "output_type": "stream",
     "text": [
      "[Parallel(n_jobs=-1)]: Using backend LokyBackend with 8 concurrent workers.\n",
      "[Parallel(n_jobs=-1)]: Done   2 tasks      | elapsed:    1.2s\n",
      "[Parallel(n_jobs=-1)]: Done  10 out of  20 | elapsed:    2.4s remaining:    2.4s\n",
      "[Parallel(n_jobs=-1)]: Done  15 out of  20 | elapsed:    2.9s remaining:    0.9s\n",
      "[Parallel(n_jobs=-1)]: Done  20 out of  20 | elapsed:    3.5s remaining:    0.0s\n",
      "[Parallel(n_jobs=-1)]: Done  20 out of  20 | elapsed:    3.5s finished\n"
     ]
    },
    {
     "name": "stdout",
     "output_type": "stream",
     "text": [
      "PC08\n",
      "Fitting 10 folds for each of 2 candidates, totalling 20 fits\n"
     ]
    },
    {
     "name": "stderr",
     "output_type": "stream",
     "text": [
      "[Parallel(n_jobs=-1)]: Using backend LokyBackend with 8 concurrent workers.\n",
      "[Parallel(n_jobs=-1)]: Done   2 tasks      | elapsed:    1.1s\n",
      "[Parallel(n_jobs=-1)]: Done  10 out of  20 | elapsed:    2.4s remaining:    2.4s\n",
      "[Parallel(n_jobs=-1)]: Done  15 out of  20 | elapsed:    2.7s remaining:    0.8s\n",
      "[Parallel(n_jobs=-1)]: Done  20 out of  20 | elapsed:    3.4s remaining:    0.0s\n",
      "[Parallel(n_jobs=-1)]: Done  20 out of  20 | elapsed:    3.4s finished\n"
     ]
    },
    {
     "name": "stdout",
     "output_type": "stream",
     "text": [
      "PC09\n",
      "Fitting 10 folds for each of 2 candidates, totalling 20 fits\n"
     ]
    },
    {
     "name": "stderr",
     "output_type": "stream",
     "text": [
      "[Parallel(n_jobs=-1)]: Using backend LokyBackend with 8 concurrent workers.\n",
      "[Parallel(n_jobs=-1)]: Done   2 tasks      | elapsed:    1.1s\n",
      "[Parallel(n_jobs=-1)]: Done  10 out of  20 | elapsed:    2.4s remaining:    2.4s\n",
      "[Parallel(n_jobs=-1)]: Done  15 out of  20 | elapsed:    2.6s remaining:    0.8s\n",
      "[Parallel(n_jobs=-1)]: Done  20 out of  20 | elapsed:    3.3s remaining:    0.0s\n",
      "[Parallel(n_jobs=-1)]: Done  20 out of  20 | elapsed:    3.3s finished\n"
     ]
    },
    {
     "name": "stdout",
     "output_type": "stream",
     "text": [
      "Wall time: 39.2 s\n"
     ]
    }
   ],
   "source": [
    "%%time\n",
    "# Run CV and get estimators (using default MSE scorer)\n",
    "\n",
    "# Instead of running the CV for all the PCs, let's start with only the first 3 \n",
    "# to get an idea of what are the best parameters to use for the first 3 PCs.\n",
    "# In a later step we can then obtain the best parameters for all PCs that have \n",
    "# a sensible variogram; here this would mean up to and including PC09.\n",
    "# To specify which PCs to use, you can pass them in as list to the 'components_to_use' variable\n",
    "\n",
    "# Another change I've made, is that instead of performing leave-one-out-CV \n",
    "# where the train set is equal to n_sample - 1 and the test set is equal to 1,\n",
    "# it makes sense to here use a different strategy, since you're dealing with many more samples.\n",
    "# Therefore I've included the 'cv_folds' parameter where you can specify \n",
    "# the number of train/test groups you want to use during CV\n",
    "# Let's start with ten groups, which basically means that \n",
    "# you use 90% of the samples as train set and 10% as test test\n",
    "# and this in 10 combinations.\n",
    "\n",
    "# A a later stage we could change the CV to use a statified cv_fold\n",
    "# meaning that it ensures for example that for every train/test grouping of the 10 groups\n",
    "# equal numbers of samples of spcified grouping variable are used \n",
    "# (for example your time category or classification later on)\n",
    "\n",
    "# I've also included the '%%time' statement at the beginning of the cell,\n",
    "# so that at the end of the calculation you can see how much time it took.\n",
    "\n",
    "# Have a look here if you want some background info on the CV method used:\n",
    "# https://scikit-learn.org/stable/modules/generated/sklearn.model_selection.GridSearchCV.html\n",
    "\n",
    "estimators = loocv.perform_loocv(mineralogy_pca_df,\n",
    "                                 coordinates_utm,\n",
    "                                 cv_param_dict,\n",
    "                                 n_jobs=n_jobs,\n",
    "                                 cv_folds=10,\n",
    "                                 components_to_use=[f\"PC0{i}\" for i in range(1, 10)])"
   ]
  },
  {
   "cell_type": "code",
   "execution_count": 192,
   "metadata": {},
   "outputs": [],
   "source": [
    "# Convert estimators to dict of dataframes\n",
    "CV_results = loocv.convert_scores_to_df(estimators)"
   ]
  },
  {
   "cell_type": "code",
   "execution_count": 193,
   "metadata": {},
   "outputs": [],
   "source": [
    "# Save CV_results to pickle file for easy use later\n",
    "# These are the results from the 56min CV above (with only first 3 PCs)\n",
    "preproc.save_obj(CV_results, \"CV_results_summarized\")"
   ]
  },
  {
   "cell_type": "code",
   "execution_count": 194,
   "metadata": {},
   "outputs": [],
   "source": [
    "# Save CV_results to pickle file for easy use later\n",
    "# These are the results from the 2min CV above (with only first 9 PCs, simple parameters)\n",
    "preproc.save_obj(CV_results, \"CV_results_fast\")"
   ]
  },
  {
   "cell_type": "code",
   "execution_count": 195,
   "metadata": {},
   "outputs": [
    {
     "name": "stdout",
     "output_type": "stream",
     "text": [
      "PC01\n",
      "rank_test_score                    2\n",
      "mean_test_score              1.35937\n",
      "std_test_score               0.90573\n",
      "mean_train_score         1.26169e-31\n",
      "param_method                ordinary\n",
      "param_variogram_model    exponential\n",
      "param_search_radius            75000\n",
      "Name: 0, dtype: object\n",
      "\n",
      "\n",
      "PC02\n",
      "rank_test_score                  2\n",
      "mean_test_score           0.662259\n",
      "std_test_score             0.12043\n",
      "mean_train_score                 0\n",
      "param_method              ordinary\n",
      "param_variogram_model    spherical\n",
      "param_search_radius          75000\n",
      "Name: 1, dtype: object\n",
      "\n",
      "\n",
      "PC03\n",
      "rank_test_score                    2\n",
      "mean_test_score             0.356903\n",
      "std_test_score              0.110795\n",
      "mean_train_score                   0\n",
      "param_method                ordinary\n",
      "param_variogram_model    exponential\n",
      "param_search_radius            75000\n",
      "Name: 0, dtype: object\n",
      "\n",
      "\n",
      "PC04\n",
      "rank_test_score                    2\n",
      "mean_test_score             0.305205\n",
      "std_test_score              0.072509\n",
      "mean_train_score                   0\n",
      "param_method                ordinary\n",
      "param_variogram_model    exponential\n",
      "param_search_radius            75000\n",
      "Name: 0, dtype: object\n",
      "\n",
      "\n",
      "PC05\n",
      "rank_test_score                  2\n",
      "mean_test_score           0.204552\n",
      "std_test_score            0.136116\n",
      "mean_train_score                 0\n",
      "param_method              ordinary\n",
      "param_variogram_model    spherical\n",
      "param_search_radius          75000\n",
      "Name: 1, dtype: object\n",
      "\n",
      "\n",
      "PC06\n",
      "rank_test_score                  2\n",
      "mean_test_score           0.170088\n",
      "std_test_score             0.10159\n",
      "mean_train_score                 0\n",
      "param_method              ordinary\n",
      "param_variogram_model    spherical\n",
      "param_search_radius          75000\n",
      "Name: 1, dtype: object\n",
      "\n",
      "\n",
      "PC07\n",
      "rank_test_score                  2\n",
      "mean_test_score           0.129523\n",
      "std_test_score           0.0627391\n",
      "mean_train_score                 0\n",
      "param_method              ordinary\n",
      "param_variogram_model    spherical\n",
      "param_search_radius          75000\n",
      "Name: 1, dtype: object\n",
      "\n",
      "\n",
      "PC08\n",
      "rank_test_score                    2\n",
      "mean_test_score            0.0544448\n",
      "std_test_score             0.0169192\n",
      "mean_train_score                   0\n",
      "param_method                ordinary\n",
      "param_variogram_model    exponential\n",
      "param_search_radius            75000\n",
      "Name: 0, dtype: object\n",
      "\n",
      "\n",
      "PC09\n",
      "rank_test_score                   2\n",
      "mean_test_score           0.0177275\n",
      "std_test_score           0.00666725\n",
      "mean_train_score                  0\n",
      "param_method               ordinary\n",
      "param_variogram_model     spherical\n",
      "param_search_radius           75000\n",
      "Name: 1, dtype: object\n",
      "\n",
      "\n"
     ]
    }
   ],
   "source": [
    "# Quick look at best results per PC\n",
    "loocv.print_best_scores(CV_results)"
   ]
  },
  {
   "cell_type": "markdown",
   "metadata": {},
   "source": [
    "## Calculating predictions for best model\n",
    "____"
   ]
  },
  {
   "cell_type": "code",
   "execution_count": 196,
   "metadata": {},
   "outputs": [],
   "source": [
    "# Here you can specify the components and search_radii you want to use \n",
    "# when performing the kriging and performing the postprocessing calculations\n",
    "components_to_use = [f\"PC0{i}\" for i in range(1, 3)]\n",
    "search_radii = [range_[0]]"
   ]
  },
  {
   "cell_type": "code",
   "execution_count": 197,
   "metadata": {},
   "outputs": [],
   "source": [
    "estimators_final = {}\n",
    "\n",
    "for component in components_to_use:  # Changed to only first 9 PCs\n",
    "    for radius in search_radii:  # Removed critical_distance\n",
    "        for variable_to_fit in [\"estimates\"]:\n",
    "\n",
    "            estimators_final[f\"{component}_{radius}_{variable_to_fit}\"] = \\\n",
    "                Krige(method='ordinary',\n",
    "                      variogram_model=variogram_model,\n",
    "                      variogram_model_parameters=variogram_model_parameters[component],\n",
    "                      nlags=n_lags,\n",
    "                      weight=True,\n",
    "                      n_closest_points=number_of_control_points,\n",
    "                      search_radius=radius,\n",
    "                      variable_to_fit=variable_to_fit)"
   ]
  },
  {
   "cell_type": "code",
   "execution_count": 198,
   "metadata": {},
   "outputs": [],
   "source": [
    "# Run this cell if you have previously run the next cell and saved its outcome\n",
    "kriging_predictions = preproc.load_obj(\"kriging_predictions\")"
   ]
  },
  {
   "cell_type": "code",
   "execution_count": 199,
   "metadata": {},
   "outputs": [
    {
     "name": "stdout",
     "output_type": "stream",
     "text": [
      "PC01 75000 estimates\n"
     ]
    },
    {
     "name": "stderr",
     "output_type": "stream",
     "text": [
      "[Parallel(n_jobs=-1)]: Using backend LokyBackend with 8 concurrent workers.\n",
      "[Parallel(n_jobs=-1)]: Done   4 out of  10 | elapsed:    0.7s remaining:    1.1s\n",
      "[Parallel(n_jobs=-1)]: Done   7 out of  10 | elapsed:    0.8s remaining:    0.3s\n",
      "[Parallel(n_jobs=-1)]: Done  10 out of  10 | elapsed:    1.0s remaining:    0.0s\n",
      "[Parallel(n_jobs=-1)]: Done  10 out of  10 | elapsed:    1.0s finished\n",
      "[Parallel(n_jobs=-1)]: Using backend LokyBackend with 8 concurrent workers.\n"
     ]
    },
    {
     "name": "stdout",
     "output_type": "stream",
     "text": [
      "PC02 75000 estimates\n"
     ]
    },
    {
     "name": "stderr",
     "output_type": "stream",
     "text": [
      "[Parallel(n_jobs=-1)]: Done   4 out of  10 | elapsed:    0.7s remaining:    1.0s\n",
      "[Parallel(n_jobs=-1)]: Done   7 out of  10 | elapsed:    0.7s remaining:    0.2s\n"
     ]
    },
    {
     "name": "stdout",
     "output_type": "stream",
     "text": [
      "Wall time: 2.24 s\n"
     ]
    },
    {
     "name": "stderr",
     "output_type": "stream",
     "text": [
      "[Parallel(n_jobs=-1)]: Done  10 out of  10 | elapsed:    1.0s remaining:    0.0s\n",
      "[Parallel(n_jobs=-1)]: Done  10 out of  10 | elapsed:    1.0s finished\n"
     ]
    }
   ],
   "source": [
    "%%time\n",
    "# You can again change the n_jobs to lower the #CPU cores used for parallel processing\n",
    "# Also set the cv_folds variable below\n",
    "cv_folds = 10\n",
    "\n",
    "kriging_predictions = {}\n",
    "\n",
    "for component in components_to_use:  # Changed to only first 9 PCs\n",
    "    for radius in search_radii:  # Removed critical_distance\n",
    "        for variable_to_fit in [\"estimates\"]:\n",
    "            \n",
    "            # Let's print out the combination to see where we are in the loops\n",
    "            print(component, radius, variable_to_fit)\n",
    "            \n",
    "            kriging_predictions[f\"{component}_{radius}_{variable_to_fit}\"] = \\\n",
    "                cross_val_predict(estimators_final[f\"{component}_{radius}_{variable_to_fit}\"], \n",
    "                                  X=np.stack((coordinates_utm[\"X\"],\n",
    "                                              coordinates_utm[\"Y\"]), axis=1),\n",
    "                                  y=mineralogy_pca_df[component],\n",
    "                                  cv=cv_folds,\n",
    "                                  n_jobs=-1,\n",
    "                                  verbose=5)"
   ]
  },
  {
   "cell_type": "code",
   "execution_count": 200,
   "metadata": {},
   "outputs": [],
   "source": [
    "preproc.save_obj(kriging_predictions, \"kriging_predictions\")"
   ]
  },
  {
   "cell_type": "markdown",
   "metadata": {},
   "source": [
    "## Calculate clr solutions\n",
    "____"
   ]
  },
  {
   "cell_type": "code",
   "execution_count": 201,
   "metadata": {},
   "outputs": [
    {
     "name": "stdout",
     "output_type": "stream",
     "text": [
      "75000\n"
     ]
    },
    {
     "data": {
      "text/html": [
       "<div>\n",
       "<style scoped>\n",
       "    .dataframe tbody tr th:only-of-type {\n",
       "        vertical-align: middle;\n",
       "    }\n",
       "\n",
       "    .dataframe tbody tr th {\n",
       "        vertical-align: top;\n",
       "    }\n",
       "\n",
       "    .dataframe thead th {\n",
       "        text-align: right;\n",
       "    }\n",
       "</style>\n",
       "<table border=\"1\" class=\"dataframe\">\n",
       "  <thead>\n",
       "    <tr style=\"text-align: right;\">\n",
       "      <th></th>\n",
       "      <th>PC01</th>\n",
       "      <th>PC02</th>\n",
       "    </tr>\n",
       "  </thead>\n",
       "  <tbody>\n",
       "    <tr>\n",
       "      <th>3</th>\n",
       "      <td>0.706684</td>\n",
       "      <td>0.088002</td>\n",
       "    </tr>\n",
       "    <tr>\n",
       "      <th>4</th>\n",
       "      <td>0.054136</td>\n",
       "      <td>-0.330935</td>\n",
       "    </tr>\n",
       "    <tr>\n",
       "      <th>12</th>\n",
       "      <td>0.844339</td>\n",
       "      <td>-0.267586</td>\n",
       "    </tr>\n",
       "    <tr>\n",
       "      <th>15</th>\n",
       "      <td>-0.937257</td>\n",
       "      <td>0.072275</td>\n",
       "    </tr>\n",
       "    <tr>\n",
       "      <th>18</th>\n",
       "      <td>-0.630217</td>\n",
       "      <td>0.840968</td>\n",
       "    </tr>\n",
       "  </tbody>\n",
       "</table>\n",
       "</div>"
      ],
      "text/plain": [
       "        PC01      PC02\n",
       "3   0.706684  0.088002\n",
       "4   0.054136 -0.330935\n",
       "12  0.844339 -0.267586\n",
       "15 -0.937257  0.072275\n",
       "18 -0.630217  0.840968"
      ]
     },
     "execution_count": 201,
     "metadata": {},
     "output_type": "execute_result"
    }
   ],
   "source": [
    "kriging_estimates_df = {}\n",
    "\n",
    "for radius in search_radii:\n",
    "    temp = {}\n",
    "    \n",
    "    for component in components_to_use:\n",
    "        key = f\"{component}_{radius}_estimates\"\n",
    "        temp[key] = kriging_predictions[key]\n",
    "\n",
    "    kriging_estimates_df[f\"{radius}\"] = pd.DataFrame.from_dict(temp)\n",
    "    kriging_estimates_df[f\"{radius}\"].index = mineralogy_pca_df.index\n",
    "    kriging_estimates_df[f\"{radius}\"].columns = components_to_use\n",
    "    \n",
    "    print(f\"{radius}\")\n",
    "    kriging_estimates_df[f\"{radius}\"].head()"
   ]
  },
  {
   "cell_type": "raw",
   "metadata": {},
   "source": [
    "kriging_variances_df = {}\n",
    "\n",
    "\n",
    "for radius in search_radii:\n",
    "    temp = {}\n",
    "    \n",
    "    for component in components_to_use:\n",
    "        key = f\"{component}_{radius}_variances\"\n",
    "        temp[key] = kriging_predictions[key]\n",
    "        \n",
    "    kriging_variances_df[f\"{radius}\"] = pd.DataFrame.from_dict(temp)\n",
    "    kriging_variances_df[f\"{radius}\"].index = mineralogy_pca_df.index\n",
    "    kriging_variances_df[f\"{radius}\"].columns = components_to_use\n",
    "    \n",
    "    print(f\"{radius}\")\n",
    "    kriging_variances_df[f\"{radius}\"].head()"
   ]
  },
  {
   "cell_type": "raw",
   "metadata": {},
   "source": [
    "kriging_variances_mean_df = {}\n",
    "\n",
    "for radius in search_radii:\n",
    "    kriging_variances_mean_df[f\"{radius}\"] = \\\n",
    "        kriging_variances_df[f\"{radius}\"].mean(axis=0)\n",
    "\n",
    "    print(f\"{radius}\")\n",
    "    kriging_variances_mean_df[f\"{radius}\"]"
   ]
  },
  {
   "cell_type": "code",
   "execution_count": 202,
   "metadata": {},
   "outputs": [],
   "source": [
    "kriging_estimates_clr = {}\n",
    "\n",
    "for ncomp in range(1, len(components_to_use) + 1):\n",
    "    for radius in search_radii:\n",
    "\n",
    "        kriging_estimates_clr[f\"{ncomp}_{radius}\"] = \\\n",
    "            postproc.reverse_pca(mineralogy_pca, \n",
    "                                 kriging_estimates_df[f\"{radius}\"],\n",
    "                                 mineralogy_clr,\n",
    "                                 n_comp=ncomp)"
   ]
  },
  {
   "cell_type": "code",
   "execution_count": 203,
   "metadata": {},
   "outputs": [],
   "source": [
    "solutions_clr = {}\n",
    "\n",
    "for ncomp in range(1, len(components_to_use) + 1):\n",
    "    for radius in search_radii:\n",
    "\n",
    "        solutions_clr[f\"{ncomp}_{radius}\"] = \\\n",
    "            pd.DataFrame(kriging_estimates_clr[f\"{ncomp}_{radius}\"], \n",
    "                         index=mineralogy_clr.index, \n",
    "                         columns=mineralogy_clr.columns)"
   ]
  },
  {
   "cell_type": "code",
   "execution_count": 204,
   "metadata": {},
   "outputs": [],
   "source": [
    "residuals_clr = {}\n",
    "\n",
    "for ncomp in range(1, len(components_to_use) + 1):\n",
    "    for radius in search_radii:\n",
    "\n",
    "        residuals_clr[f\"{ncomp}_{radius}\"] = \\\n",
    "            mineralogy_clr.subtract(solutions_clr[f\"{ncomp}_{radius}\"])"
   ]
  },
  {
   "cell_type": "code",
   "execution_count": 205,
   "metadata": {},
   "outputs": [],
   "source": [
    "for ncomp in range(1, len(components_to_use) + 1):\n",
    "    for radius in search_radii:\n",
    "        temp = pd.merge(residuals_clr[f\"{ncomp}_{radius}\"], \n",
    "                        pd.DataFrame(nvalues_control_points[radius], \n",
    "                                     columns=[\"n_closest_points\"]), \n",
    "                        left_index=True, \n",
    "                        right_index=True)\\\n",
    "                 .sort_values(\"n_closest_points\")\n",
    "        \n",
    "        temp.to_excel(f\"../_RESULTS/Residuals/residuals_clr_{ncomp}_{radius}_{group_name}.xlsx\")"
   ]
  },
  {
   "cell_type": "code",
   "execution_count": 206,
   "metadata": {},
   "outputs": [],
   "source": [
    "preproc.save_obj(residuals_clr, \"residuals_clr\")"
   ]
  },
  {
   "cell_type": "code",
   "execution_count": 207,
   "metadata": {},
   "outputs": [],
   "source": [
    "preproc.save_obj(nvalues_control_points, \"nvalues_control_points\")"
   ]
  },
  {
   "cell_type": "markdown",
   "metadata": {},
   "source": [
    "## Model selection\n",
    "____"
   ]
  },
  {
   "cell_type": "code",
   "execution_count": 208,
   "metadata": {},
   "outputs": [
    {
     "data": {
      "text/plain": [
       "{'1_75000': 3.602579562328429, '2_75000': 3.3636685309936913}"
      ]
     },
     "execution_count": 208,
     "metadata": {},
     "output_type": "execute_result"
    },
    {
     "data": {
      "text/plain": [
       "3.3636685309936913"
      ]
     },
     "execution_count": 208,
     "metadata": {},
     "output_type": "execute_result"
    },
    {
     "data": {
      "text/plain": [
       "'2_75000'"
      ]
     },
     "execution_count": 208,
     "metadata": {},
     "output_type": "execute_result"
    }
   ],
   "source": [
    "# Get MSPE_Q values and select best model based on it\n",
    "# Make sure the selected model passes the Hotelling's T² 2-sample test above, though\n",
    "MSPE_Q = {}\n",
    "best_MSPE_Q = 1000\n",
    "\n",
    "for ncomp in range(1, len(components_to_use) + 1):\n",
    "    for radius in search_radii:\n",
    "\n",
    "        # Calculate MSPE_Q from clr residuals\n",
    "        MSPE_Q_temp = np.mean(np.sum(residuals_clr[f\"{ncomp}_{radius}\"] ** 2, axis=1), axis=0)\n",
    "\n",
    "        if MSPE_Q_temp < best_MSPE_Q:\n",
    "            # Store best MSPE_Q en corresponding model\n",
    "            best_MSPE_Q = MSPE_Q_temp\n",
    "            selected_model = f\"{ncomp}_{radius}\"\n",
    "\n",
    "        MSPE_Q[f\"{ncomp}_{radius}\"] = MSPE_Q_temp\n",
    "                \n",
    "MSPE_Q\n",
    "best_MSPE_Q\n",
    "selected_model\n",
    "selected_model_PCs = selected_model.split(\"_\")[0]"
   ]
  },
  {
   "cell_type": "code",
   "execution_count": 209,
   "metadata": {},
   "outputs": [],
   "source": [
    "# Number of PCs to use for reverse calculations based on selected model\n",
    "n_comp = int(selected_model.split(\"_\")[0])\n",
    "# Whcih PCs to use moving forward\n",
    "selected_components_to_use = [f\"PC{i:02d}\" for i in range(1, n_comp + 1)]"
   ]
  },
  {
   "cell_type": "code",
   "execution_count": 210,
   "metadata": {},
   "outputs": [
    {
     "data": {
      "text/plain": [
       "['PC01', 'PC02']"
      ]
     },
     "execution_count": 210,
     "metadata": {},
     "output_type": "execute_result"
    }
   ],
   "source": [
    "selected_components_to_use"
   ]
  },
  {
   "cell_type": "markdown",
   "metadata": {},
   "source": [
    "## Contour plots\n",
    "____"
   ]
  },
  {
   "cell_type": "code",
   "execution_count": 211,
   "metadata": {},
   "outputs": [
    {
     "name": "stdout",
     "output_type": "stream",
     "text": [
      "(1110, 2)\n",
      "(367812, 2)\n",
      "612 601\n"
     ]
    },
    {
     "data": {
      "text/plain": [
       "(601, 612)"
      ]
     },
     "execution_count": 211,
     "metadata": {},
     "output_type": "execute_result"
    }
   ],
   "source": [
    "nvalues_critical_distance = \\\n",
    "    variograms[\"PC01\"].determine_mask_array(grid[0], \n",
    "                                            grid[1], \n",
    "                                            search_radius=critical_distance)\n",
    "mask_critical_distance = nvalues_critical_distance < 3\n",
    "mask_critical_distance.shape"
   ]
  },
  {
   "cell_type": "code",
   "execution_count": 212,
   "metadata": {},
   "outputs": [
    {
     "data": {
      "text/plain": [
       "245098"
      ]
     },
     "execution_count": 212,
     "metadata": {},
     "output_type": "execute_result"
    }
   ],
   "source": [
    "mask_critical_distance[mask_critical_distance == 1].sum()"
   ]
  },
  {
   "cell_type": "code",
   "execution_count": 213,
   "metadata": {},
   "outputs": [],
   "source": [
    "non_masked_grid_nodes = \\\n",
    "    grid[0].shape[0] * grid[1].shape[0] \\\n",
    "    - mask_critical_distance[mask_critical_distance == 1].sum()"
   ]
  },
  {
   "cell_type": "code",
   "execution_count": 214,
   "metadata": {},
   "outputs": [],
   "source": [
    "grid_cell_spacing = grid[0][1] - grid[0][0]\n",
    "grid_cell_area = grid_cell_spacing ** 2"
   ]
  },
  {
   "cell_type": "code",
   "execution_count": 215,
   "metadata": {},
   "outputs": [],
   "source": [
    "# Pluton area in m²\n",
    "pluton_area_m2 = non_masked_grid_nodes * grid_cell_area\n",
    "\n",
    "# Pluton area in km²\n",
    "pluton_area_km2 = pluton_area_m2 / 1_000_000"
   ]
  },
  {
   "cell_type": "code",
   "execution_count": 216,
   "metadata": {},
   "outputs": [
    {
     "data": {
      "text/plain": [
       "678683.4211472983"
      ]
     },
     "execution_count": 216,
     "metadata": {},
     "output_type": "execute_result"
    }
   ],
   "source": [
    "pluton_area_km2"
   ]
  },
  {
   "cell_type": "markdown",
   "metadata": {},
   "source": [
    "____"
   ]
  },
  {
   "cell_type": "code",
   "execution_count": 217,
   "metadata": {},
   "outputs": [],
   "source": [
    "interpolated_dict = preproc.load_obj(\"interpolated_dict\")"
   ]
  },
  {
   "cell_type": "code",
   "execution_count": 218,
   "metadata": {},
   "outputs": [],
   "source": [
    "# Since my desktop (with 32GB of RAM) ran out of memory,\n",
    "# I've reduced the grid spacing so that there are fewer grid points \n",
    "# to perform the interpolation for\n",
    "\n",
    "# You could also reduce the number of active CPU cores by decreasing 'n_jobs'\n",
    "# which would reduce memory consumption\n",
    "# so that you could still get a more detailed interpolation grid.\n",
    "# The interpolation will take a bit longer than since \n",
    "# not the maximum number of 'workers' can be used in that case."
   ]
  },
  {
   "cell_type": "code",
   "execution_count": 219,
   "metadata": {},
   "outputs": [
    {
     "name": "stdout",
     "output_type": "stream",
     "text": [
      "Wall time: 9min 41s\n"
     ]
    }
   ],
   "source": [
    "%%time\n",
    "interpolated_parallel = Parallel(n_jobs=1)(delayed(\n",
    "    variograms[component].execute)('masked', \n",
    "                     grid[0], \n",
    "                     grid[1],\n",
    "                     mask_critical_distance,\n",
    "                     n_closest_points=number_of_control_points, \n",
    "                     search_radius=range_[0], \n",
    "                     backend='loop') for component in components_to_use)"
   ]
  },
  {
   "cell_type": "code",
   "execution_count": 220,
   "metadata": {},
   "outputs": [],
   "source": [
    "interpolated_dict = {}\n",
    "for i, item in enumerate(interpolated_parallel, start=1):\n",
    "    interpolated_dict[f\"PC0{i}\"] = item"
   ]
  },
  {
   "cell_type": "code",
   "execution_count": 221,
   "metadata": {},
   "outputs": [],
   "source": [
    "preproc.save_obj(interpolated_dict, \"interpolated_dict\")"
   ]
  },
  {
   "cell_type": "code",
   "execution_count": 222,
   "metadata": {},
   "outputs": [
    {
     "name": "stdout",
     "output_type": "stream",
     "text": [
      "1\n",
      "2\n",
      "(2, 601, 612)\n"
     ]
    },
    {
     "name": "stderr",
     "output_type": "stream",
     "text": [
      "C:\\Users\\Sebastian\\Anaconda3\\envs\\main\\lib\\site-packages\\IPython\\core\\interactiveshell.py:3331: FutureWarning: arrays to stack must be passed as a \"sequence\" type such as list or tuple. Support for non-sequence iterables such as generators is deprecated as of NumPy 1.16 and will raise an error in the future.\n",
      "  exec(code_obj, self.user_global_ns, self.user_ns)\n"
     ]
    }
   ],
   "source": [
    "interpolated_array = postproc.convert_grid_to_array_of_scores(interpolated_dict)\n",
    "\n",
    "interpolated_reverse_pca = postproc.reverse_pca(mineralogy_pca, \n",
    "                                                interpolated_array, \n",
    "                                                mineralogy_clr, \n",
    "                                                n_comp=n_comp)\n",
    "\n",
    "interpolated_reverse_clr = postproc.reverse_clr(interpolated_reverse_pca, \n",
    "                                                mineralogy_clr)\n",
    "\n",
    "# You will get a FutureWarning here, that's fine"
   ]
  },
  {
   "cell_type": "code",
   "execution_count": 223,
   "metadata": {},
   "outputs": [
    {
     "data": {
      "text/plain": [
       "0.6900868030522065"
      ]
     },
     "execution_count": 223,
     "metadata": {},
     "output_type": "execute_result"
    }
   ],
   "source": [
    "# Get kriging surface variance for error_budget\n",
    "var_OK = np.array(pd.DataFrame(interpolated_array).var(axis=0, ddof=1))\n",
    "var_OK.sum()"
   ]
  },
  {
   "cell_type": "code",
   "execution_count": 224,
   "metadata": {},
   "outputs": [],
   "source": [
    "# Check if the number of points based on the specified grid is equal to\n",
    "# the sum of the number of masked points and the number of interpolated points\n",
    "assert grid[0].shape[0] * grid[1].shape[0] == np.sum(np.isclose(interpolated_reverse_clr.sum(axis=1), 0.0)) + \\\n",
    "                                              np.sum(np.isclose(interpolated_reverse_clr.sum(axis=1), 100.0))"
   ]
  },
  {
   "cell_type": "code",
   "execution_count": 225,
   "metadata": {},
   "outputs": [],
   "source": [
    "interpolated_modal = {}\n",
    "for mineral in interpolated_reverse_clr.columns.tolist():\n",
    "    interpolated_modal[mineral] = np.reshape(interpolated_reverse_clr.loc[:, mineral].values, \n",
    "                                             (grid[1].shape[0], grid[0].shape[0]))"
   ]
  },
  {
   "cell_type": "code",
   "execution_count": 226,
   "metadata": {},
   "outputs": [
    {
     "name": "stdout",
     "output_type": "stream",
     "text": [
      "(601, 612)\n",
      "SiO2\n",
      "(601, 612)\n",
      "TiO2\n",
      "(601, 612)\n",
      "Al2O3\n",
      "(601, 612)\n",
      "Fe2O3\n",
      "(601, 612)\n",
      "FeO\n",
      "(601, 612)\n",
      "MnO\n",
      "(601, 612)\n",
      "MgO\n",
      "(601, 612)\n",
      "CaO\n",
      "(601, 612)\n",
      "Na2O\n",
      "(601, 612)\n",
      "K2O\n",
      "(601, 612)\n",
      "oth\n"
     ]
    }
   ],
   "source": [
    "# If you get an error related to an non-esixting save location\n",
    "# Please first create a folder on your pc with the same name that \n",
    "# you used for the variable 'group_name'\n",
    "\n",
    "for mineral, interpolation in interpolated_modal.items(): \n",
    "    for variable in [\"estimates\"]:\n",
    "        print(interpolation.shape)\n",
    "        plots.plot_contour_map(interpolation,\n",
    "                               grid,\n",
    "                               coordinates_utm,\n",
    "                               group_name,\n",
    "                               variable=variable,\n",
    "                               title=f\"{mineral} radius={range_[0]}m {variable} masked {critical_distance}m\",\n",
    "                               show_plot=False,\n",
    "                               single_mineral=True,\n",
    "                               mineral=mineral,                               \n",
    "                               label_pos = (0.03, 0.94),\n",
    "                               skip_xaxis_label=2,\n",
    "                               skip_yaxis_label=2,\n",
    "                               skip_xaxis_start=1,\n",
    "                               skip_yaxis_start=1,\n",
    "                               marker_symbol='.',\n",
    "                               marker_size=0.1,\n",
    "                               marker_color='r',)\n",
    "        \n",
    "# Added some options to function so that yu can easily change the appearance \n",
    "# of the markers used to show the position of the control points"
   ]
  },
  {
   "cell_type": "code",
   "execution_count": 227,
   "metadata": {},
   "outputs": [
    {
     "data": {
      "image/png": "[encoded data removed]",
      "text/plain": [
       "<Figure size 864x648 with 26 Axes>"
      ]
     },
     "metadata": {},
     "output_type": "display_data"
    }
   ],
   "source": [
    "# Specify how many rows and columns you want to use in the following figure\n",
    "# This will ofcourse depend an the number of variables you would like to plot\n",
    "# You can also set the figure size\n",
    "n_cols = 3\n",
    "n_rows = 5\n",
    "\n",
    "# Figure with single mineral maps as subplots\n",
    "plots.plot_contour_map_all(interpolated_modal,\n",
    "                           grid,\n",
    "                           coordinates_utm,\n",
    "                           group_name,\n",
    "                           title=f\"radius={range_[0]}m masked {critical_distance}m\",\n",
    "                           show_plot=True,\n",
    "                           label_pos = (0.03, 0.94),\n",
    "                           skip_xaxis_label=2,\n",
    "                           skip_yaxis_label=2,\n",
    "                           skip_xaxis_start=1,\n",
    "                           skip_yaxis_start=1,\n",
    "                           marker_size=0.1,\n",
    "                           marker_color='r',\n",
    "                           marker_symbol='.',\n",
    "                           figsize=(12, 9),\n",
    "                           ncols=n_cols,\n",
    "                           nrows=n_rows,\n",
    "                           sharex=True,\n",
    "                           sharey=True)"
   ]
  },
  {
   "cell_type": "markdown",
   "metadata": {},
   "source": [
    "## Biplots\n",
    "____"
   ]
  },
  {
   "cell_type": "markdown",
   "metadata": {},
   "source": [
    "Not relevant for now"
   ]
  },
  {
   "cell_type": "markdown",
   "metadata": {},
   "source": [
    "## Simulations\n",
    "____"
   ]
  },
  {
   "cell_type": "markdown",
   "metadata": {},
   "source": [
    "Not relevant for now"
   ]
  },
  {
   "cell_type": "markdown",
   "metadata": {},
   "source": [
    "## Error budget\n",
    "____"
   ]
  },
  {
   "cell_type": "code",
   "execution_count": 228,
   "metadata": {},
   "outputs": [],
   "source": [
    "# A = Variance of kriging surface\n",
    "# B = mean squared prediction error (MSPE)\n",
    "# C = Sum of nugget\n",
    "# D = Total variance based on simulation (not yet available)\n",
    "# E = Variance of original data set\n",
    "\n",
    "error_budget = {}\n",
    "\n",
    "for radius in search_radii:\n",
    "    for ncomp in range(1, len(components_to_use) + 1):\n",
    "        A = var_OK[:ncomp].sum()\n",
    "        B = np.mean(np.sum(residuals_clr[f\"{ncomp}_{radius}\"] ** 2, axis=1), axis=0) # MSPE\n",
    "        C = np.array(nugget_)[:ncomp].sum()\n",
    "        D = np.nan\n",
    "        E = mineralogy_clr.var(axis=0).sum()\n",
    "        \n",
    "\n",
    "        error_budget[f\"{ncomp}_{radius}\"] = [A, B, C, D, E]"
   ]
  },
  {
   "cell_type": "code",
   "execution_count": 229,
   "metadata": {},
   "outputs": [
    {
     "data": {
      "text/html": [
       "<div>\n",
       "<style scoped>\n",
       "    .dataframe tbody tr th:only-of-type {\n",
       "        vertical-align: middle;\n",
       "    }\n",
       "\n",
       "    .dataframe tbody tr th {\n",
       "        vertical-align: top;\n",
       "    }\n",
       "\n",
       "    .dataframe thead th {\n",
       "        text-align: right;\n",
       "    }\n",
       "</style>\n",
       "<table border=\"1\" class=\"dataframe\">\n",
       "  <thead>\n",
       "    <tr style=\"text-align: right;\">\n",
       "      <th></th>\n",
       "      <th>search_radius</th>\n",
       "      <th>#PCs</th>\n",
       "      <th>VAR(OK)</th>\n",
       "      <th>MSPE</th>\n",
       "      <th>S_nugget</th>\n",
       "      <th>VAR(TOTAL)</th>\n",
       "      <th>VAR(DATA)</th>\n",
       "    </tr>\n",
       "  </thead>\n",
       "  <tbody>\n",
       "    <tr>\n",
       "      <th>0</th>\n",
       "      <td>75000</td>\n",
       "      <td>1</td>\n",
       "      <td>0.380330</td>\n",
       "      <td>3.602580</td>\n",
       "      <td>0.7518</td>\n",
       "      <td>NaN</td>\n",
       "      <td>3.748694</td>\n",
       "    </tr>\n",
       "    <tr>\n",
       "      <th>1</th>\n",
       "      <td>75000</td>\n",
       "      <td>2</td>\n",
       "      <td>0.690087</td>\n",
       "      <td>3.363669</td>\n",
       "      <td>1.3849</td>\n",
       "      <td>NaN</td>\n",
       "      <td>3.748694</td>\n",
       "    </tr>\n",
       "  </tbody>\n",
       "</table>\n",
       "</div>"
      ],
      "text/plain": [
       "   search_radius  #PCs   VAR(OK)      MSPE  S_nugget  VAR(TOTAL)  VAR(DATA)\n",
       "0          75000     1  0.380330  3.602580    0.7518         NaN   3.748694\n",
       "1          75000     2  0.690087  3.363669    1.3849         NaN   3.748694"
      ]
     },
     "execution_count": 229,
     "metadata": {},
     "output_type": "execute_result"
    }
   ],
   "source": [
    "error_budget_df = \\\n",
    "    ttest.convert_summary_test_results_to_df(error_budget, \n",
    "                                             variable_names=[\"VAR(OK)\",\n",
    "                                                             \"MSPE\", \n",
    "                                                             \"S_nugget\", # Sum of nuggets\n",
    "                                                             \"VAR(TOTAL)\",\n",
    "                                                             \"VAR(DATA)\"], \n",
    "                                             order=[\"search_radius\", \n",
    "                                                    \"#PCs\"])\n",
    "error_budget_df"
   ]
  },
  {
   "cell_type": "code",
   "execution_count": 231,
   "metadata": {},
   "outputs": [],
   "source": [
    "error_budget_df.to_excel(f\"../_RESULTS/Error_budget/error_budget_{group_name}.xlsx\")"
   ]
  },
  {
   "cell_type": "markdown",
   "metadata": {},
   "source": [
    "-----"
   ]
  },
  {
   "cell_type": "markdown",
   "metadata": {},
   "source": [
    "## variance for each time class"
   ]
  },
  {
   "cell_type": "code",
   "execution_count": 232,
   "metadata": {},
   "outputs": [
    {
     "data": {
      "text/html": [
       "<div>\n",
       "<style scoped>\n",
       "    .dataframe tbody tr th:only-of-type {\n",
       "        vertical-align: middle;\n",
       "    }\n",
       "\n",
       "    .dataframe tbody tr th {\n",
       "        vertical-align: top;\n",
       "    }\n",
       "\n",
       "    .dataframe thead th {\n",
       "        text-align: right;\n",
       "    }\n",
       "</style>\n",
       "<table border=\"1\" class=\"dataframe\">\n",
       "  <thead>\n",
       "    <tr style=\"text-align: right;\">\n",
       "      <th></th>\n",
       "      <th>type_granite</th>\n",
       "      <th>time</th>\n",
       "      <th>massif</th>\n",
       "      <th>sampler</th>\n",
       "      <th>others</th>\n",
       "      <th>sampler+year</th>\n",
       "    </tr>\n",
       "  </thead>\n",
       "  <tbody>\n",
       "    <tr>\n",
       "      <th>3</th>\n",
       "      <td>Granite leucocratic coarse-grained</td>\n",
       "      <td>K</td>\n",
       "      <td>Omsukchan massif</td>\n",
       "      <td>P.M.Bosek</td>\n",
       "      <td>NaN</td>\n",
       "      <td>O.S.Gracheva,1948</td>\n",
       "    </tr>\n",
       "    <tr>\n",
       "      <th>4</th>\n",
       "      <td>Granite leucocratic</td>\n",
       "      <td>K</td>\n",
       "      <td>Buksandzhin massif</td>\n",
       "      <td>A.Kh.Brovtman</td>\n",
       "      <td>NaN</td>\n",
       "      <td>A.F.Mikhaylov,1948</td>\n",
       "    </tr>\n",
       "    <tr>\n",
       "      <th>12</th>\n",
       "      <td>Bt granite leucocratic coarse-grained</td>\n",
       "      <td>K</td>\n",
       "      <td>Butugychag massif</td>\n",
       "      <td>K.A.Baklanova</td>\n",
       "      <td>NaN</td>\n",
       "      <td>M.S.Venchugova,1937</td>\n",
       "    </tr>\n",
       "    <tr>\n",
       "      <th>15</th>\n",
       "      <td>Granodiorite</td>\n",
       "      <td>K</td>\n",
       "      <td>Ulakhan-Sis massif</td>\n",
       "      <td>A.I.Kalischuk</td>\n",
       "      <td>NaN</td>\n",
       "      <td>G.S.Sonin,1976</td>\n",
       "    </tr>\n",
       "    <tr>\n",
       "      <th>18</th>\n",
       "      <td>Granite fine-grained</td>\n",
       "      <td>K</td>\n",
       "      <td>Omchikandin massif</td>\n",
       "      <td>NaN</td>\n",
       "      <td>NaN</td>\n",
       "      <td>L.A.Musalitin,1967</td>\n",
       "    </tr>\n",
       "    <tr>\n",
       "      <th>...</th>\n",
       "      <td>...</td>\n",
       "      <td>...</td>\n",
       "      <td>...</td>\n",
       "      <td>...</td>\n",
       "      <td>...</td>\n",
       "      <td>...</td>\n",
       "    </tr>\n",
       "    <tr>\n",
       "      <th>4645</th>\n",
       "      <td>Bt-Amf granodiorite</td>\n",
       "      <td>K</td>\n",
       "      <td>Ulakhan-Sis massif</td>\n",
       "      <td>E.A.Lagovskaya</td>\n",
       "      <td>Oth:Ba2o3-0.32.Det.:H2o+-0.80</td>\n",
       "      <td>M.F.Dement'ev,1967</td>\n",
       "    </tr>\n",
       "    <tr>\n",
       "      <th>4648</th>\n",
       "      <td>Diorite</td>\n",
       "      <td>K</td>\n",
       "      <td>Seymkan massif</td>\n",
       "      <td>P.I.Levin</td>\n",
       "      <td>Oth:Sno2-0.05</td>\n",
       "      <td>I.V.Mariich,1949</td>\n",
       "    </tr>\n",
       "    <tr>\n",
       "      <th>4652</th>\n",
       "      <td>Diorite</td>\n",
       "      <td>K</td>\n",
       "      <td>NaN</td>\n",
       "      <td>O.M.Sidorova</td>\n",
       "      <td>Oth:C02-0.12</td>\n",
       "      <td>V.K.Politov,1967</td>\n",
       "    </tr>\n",
       "    <tr>\n",
       "      <th>4653</th>\n",
       "      <td>Px-Hb diorite</td>\n",
       "      <td>K</td>\n",
       "      <td>Upper-Seymkan massif</td>\n",
       "      <td>NaN</td>\n",
       "      <td>NaN</td>\n",
       "      <td>E.K.Ustiev,1942</td>\n",
       "    </tr>\n",
       "    <tr>\n",
       "      <th>4658</th>\n",
       "      <td>Diorite</td>\n",
       "      <td>K</td>\n",
       "      <td>NaN</td>\n",
       "      <td>NaN</td>\n",
       "      <td>NaN</td>\n",
       "      <td>A.P.Osipov,1966</td>\n",
       "    </tr>\n",
       "  </tbody>\n",
       "</table>\n",
       "<p>1110 rows × 6 columns</p>\n",
       "</div>"
      ],
      "text/plain": [
       "                               type_granite time                massif  \\\n",
       "3        Granite leucocratic coarse-grained    K      Omsukchan massif   \n",
       "4                       Granite leucocratic    K    Buksandzhin massif   \n",
       "12    Bt granite leucocratic coarse-grained    K     Butugychag massif   \n",
       "15                             Granodiorite    K    Ulakhan-Sis massif   \n",
       "18                     Granite fine-grained    K    Omchikandin massif   \n",
       "...                                     ...  ...                   ...   \n",
       "4645                    Bt-Amf granodiorite    K    Ulakhan-Sis massif   \n",
       "4648                                Diorite    K        Seymkan massif   \n",
       "4652                                Diorite    K                   NaN   \n",
       "4653                          Px-Hb diorite    K  Upper-Seymkan massif   \n",
       "4658                                Diorite    K                   NaN   \n",
       "\n",
       "             sampler                         others         sampler+year  \n",
       "3          P.M.Bosek                            NaN    O.S.Gracheva,1948  \n",
       "4      A.Kh.Brovtman                            NaN   A.F.Mikhaylov,1948  \n",
       "12     K.A.Baklanova                            NaN  M.S.Venchugova,1937  \n",
       "15     A.I.Kalischuk                            NaN       G.S.Sonin,1976  \n",
       "18               NaN                            NaN   L.A.Musalitin,1967  \n",
       "...              ...                            ...                  ...  \n",
       "4645  E.A.Lagovskaya  Oth:Ba2o3-0.32.Det.:H2o+-0.80   M.F.Dement'ev,1967  \n",
       "4648       P.I.Levin                  Oth:Sno2-0.05     I.V.Mariich,1949  \n",
       "4652    O.M.Sidorova                   Oth:C02-0.12     V.K.Politov,1967  \n",
       "4653             NaN                            NaN      E.K.Ustiev,1942  \n",
       "4658             NaN                            NaN      A.P.Osipov,1966  \n",
       "\n",
       "[1110 rows x 6 columns]"
      ]
     },
     "execution_count": 232,
     "metadata": {},
     "output_type": "execute_result"
    }
   ],
   "source": [
    "metadata"
   ]
  },
  {
   "cell_type": "code",
   "execution_count": 233,
   "metadata": {},
   "outputs": [
    {
     "data": {
      "text/plain": [
       "K     1002\n",
       "J       99\n",
       "Pg       7\n",
       "Tr       1\n",
       "Name: time, dtype: int64"
      ]
     },
     "execution_count": 233,
     "metadata": {},
     "output_type": "execute_result"
    }
   ],
   "source": [
    "metadata['time'].value_counts()"
   ]
  },
  {
   "cell_type": "code",
   "execution_count": 234,
   "metadata": {},
   "outputs": [],
   "source": [
    "mineralogy_clr1 = mineralogy_clr.loc[metadata['time'] == 'K']\n",
    "mineralogy_clr2 = mineralogy_clr.loc[metadata['time'] == 'J']\n",
    "mineralogy_clr3 = mineralogy_clr.loc[metadata['time'] == 'Pg']\n",
    "mineralogy_clr4 = mineralogy_clr.loc[metadata['time'] == 'Tr']"
   ]
  },
  {
   "cell_type": "code",
   "execution_count": 235,
   "metadata": {},
   "outputs": [
    {
     "name": "stdout",
     "output_type": "stream",
     "text": [
      "variance for subset K is 3.771246308421891\n",
      "variance for subset J is 3.3294260209485937\n",
      "variance for subset Pg is 3.156746518365993\n",
      "variance for subset Tr is 0.0\n"
     ]
    }
   ],
   "source": [
    "print('variance for subset K is' ,  mineralogy_clr1.var(axis=0).sum())\n",
    "print('variance for subset J is' ,  mineralogy_clr2.var(axis=0).sum())\n",
    "print('variance for subset Pg is' ,  mineralogy_clr3.var(axis=0).sum())\n",
    "print('variance for subset Tr is' ,  mineralogy_clr4.var(axis=0).sum())"
   ]
  },
  {
   "cell_type": "code",
   "execution_count": null,
   "metadata": {},
   "outputs": [],
   "source": []
  },
  {
   "cell_type": "code",
   "execution_count": null,
   "metadata": {},
   "outputs": [],
   "source": []
  },
  {
   "cell_type": "code",
   "execution_count": null,
   "metadata": {},
   "outputs": [],
   "source": []
  }
 ],
 "metadata": {
  "kernelspec": {
   "display_name": "Python 3",
   "language": "python",
   "name": "python3"
  },
  "language_info": {
   "codemirror_mode": {
    "name": "ipython",
    "version": 3
   },
   "file_extension": ".py",
   "mimetype": "text/x-python",
   "name": "python",
   "nbconvert_exporter": "python",
   "pygments_lexer": "ipython3",
   "version": "3.7.3"
  }
 },
 "nbformat": 4,
 "nbformat_minor": 4
}
