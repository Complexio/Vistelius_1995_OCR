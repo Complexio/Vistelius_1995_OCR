{
 "cells": [
  {
   "cell_type": "markdown",
   "metadata": {},
   "source": [
    "# Interpolation\n",
    "___"
   ]
  },
  {
   "cell_type": "markdown",
   "metadata": {},
   "source": [
    "**Remarks**\n",
    "- Code will need to be modified a bit to reflect the use of a certain group of data instead of all data"
   ]
  },
  {
   "cell_type": "code",
   "execution_count": 87,
   "metadata": {},
   "outputs": [],
   "source": [
    "import numpy as np\n",
    "import pandas as pd\n",
    "import os\n",
    "import pickle\n",
    "\n",
    "import matplotlib.pyplot as plt\n",
    "import seaborn as sns\n",
    "\n",
    "from collections import Counter\n",
    "from itertools import combinations\n",
    "\n",
    "# from scipy.spatial.distance import pdist\n",
    "# from scipy.stats import chisquare, chi2\n",
    "from scipy.stats import ttest_1samp, t\n",
    "\n",
    "from pykrige.ok import OrdinaryKriging\n",
    "from pykrige.rk import Krige\n",
    "import pykrige.kriging_tools as kt\n",
    "\n",
    "from sklearn.model_selection import cross_val_predict\n",
    "\n",
    "from joblib import Parallel, delayed\n",
    "import multiprocessing"
   ]
  },
  {
   "cell_type": "code",
   "execution_count": 88,
   "metadata": {},
   "outputs": [],
   "source": [
    "import prepostprocessing.pre_processing as preproc\n",
    "import prepostprocessing.post_processing as postproc\n",
    "import nugget_estimation.kriging_tools as krigingtools\n",
    "import nugget_estimation.detrending as detrending\n",
    "import plots.plots as plots\n",
    "import prepostprocessing.cleaning as cleaning\n",
    "import cross_validation.leave_one_out_cross_validation as loocv\n",
    "\n",
    "import qapf.qapf as qapf\n",
    "import statistics.ttest as ttest\n",
    "import statistics.simulations as sim\n",
    "\n",
    "import toolbox.toolbox as tb"
   ]
  },
  {
   "cell_type": "code",
   "execution_count": 89,
   "metadata": {},
   "outputs": [
    {
     "name": "stdout",
     "output_type": "stream",
     "text": [
      "The autoreload extension is already loaded. To reload it, use:\n",
      "  %reload_ext autoreload\n"
     ]
    }
   ],
   "source": [
    "# Load jupyter extension to reload packages before executing user code.\n",
    "# https://ipython.readtheMLcs.io/en/stable/config/extensions/autoreload.html\n",
    "%load_ext autoreload\n",
    "# Reload all packages (except those excluded by %aimport) every time before executing the Python code typed.\n",
    "%autoreload 2"
   ]
  },
  {
   "cell_type": "code",
   "execution_count": 90,
   "metadata": {},
   "outputs": [],
   "source": [
    "# You only need to run this cell once if you want to have multiple outputs in all your notebooks.\n",
    "# It is a general setting so you can set this cell's status to 'raw'\n",
    "from IPython.core.interactiveshell import InteractiveShell\n",
    "InteractiveShell.ast_node_interactivity = \"all\""
   ]
  },
  {
   "cell_type": "code",
   "execution_count": 91,
   "metadata": {},
   "outputs": [],
   "source": [
    "coordinates_latlon = preproc.load_obj(\"coordinates_area3\")\n",
    "coordinates_utm = preproc.load_obj(\"coordinates_utm_area3\")\n",
    "mineralogy = preproc.load_obj(\"mineralogy_area3\")\n",
    "mineralogy_clr = preproc.load_obj(\"mineralogy_clr_area3\")\n",
    "mineralogy_pca = preproc.load_obj(\"mineralogy_pca_area3\")\n",
    "mineralogy_pca_df = preproc.load_obj(\"mineralogy_pca_area3_df\")\n",
    "metadata = preproc.load_obj(\"metadata_area3\")"
   ]
  },
  {
   "cell_type": "markdown",
   "metadata": {},
   "source": [
    "## EDA\n",
    "___"
   ]
  },
  {
   "cell_type": "code",
   "execution_count": 92,
   "metadata": {},
   "outputs": [
    {
     "data": {
      "text/plain": [
       "1110"
      ]
     },
     "execution_count": 92,
     "metadata": {},
     "output_type": "execute_result"
    }
   ],
   "source": [
    "# Get number of control points that will be used\n",
    "number_of_control_points = coordinates_utm.shape[0]\n",
    "number_of_control_points"
   ]
  },
  {
   "cell_type": "code",
   "execution_count": 93,
   "metadata": {},
   "outputs": [
    {
     "data": {
      "text/html": [
       "<div>\n",
       "<style scoped>\n",
       "    .dataframe tbody tr th:only-of-type {\n",
       "        vertical-align: middle;\n",
       "    }\n",
       "\n",
       "    .dataframe tbody tr th {\n",
       "        vertical-align: top;\n",
       "    }\n",
       "\n",
       "    .dataframe thead th {\n",
       "        text-align: right;\n",
       "    }\n",
       "</style>\n",
       "<table border=\"1\" class=\"dataframe\">\n",
       "  <thead>\n",
       "    <tr style=\"text-align: right;\">\n",
       "      <th></th>\n",
       "      <th>Y_UTM</th>\n",
       "      <th>X_UTM</th>\n",
       "      <th>ZoneNumber</th>\n",
       "      <th>ZoneLetter</th>\n",
       "    </tr>\n",
       "  </thead>\n",
       "  <tbody>\n",
       "    <tr>\n",
       "      <th>3</th>\n",
       "      <td>1.544245e+06</td>\n",
       "      <td>7.110278e+06</td>\n",
       "      <td>53</td>\n",
       "      <td>V</td>\n",
       "    </tr>\n",
       "    <tr>\n",
       "      <th>4</th>\n",
       "      <td>1.083775e+06</td>\n",
       "      <td>6.877413e+06</td>\n",
       "      <td>53</td>\n",
       "      <td>V</td>\n",
       "    </tr>\n",
       "    <tr>\n",
       "      <th>12</th>\n",
       "      <td>1.257863e+06</td>\n",
       "      <td>6.881257e+06</td>\n",
       "      <td>53</td>\n",
       "      <td>V</td>\n",
       "    </tr>\n",
       "    <tr>\n",
       "      <th>15</th>\n",
       "      <td>1.062527e+06</td>\n",
       "      <td>7.781132e+06</td>\n",
       "      <td>53</td>\n",
       "      <td>V</td>\n",
       "    </tr>\n",
       "    <tr>\n",
       "      <th>18</th>\n",
       "      <td>7.552345e+05</td>\n",
       "      <td>7.733147e+06</td>\n",
       "      <td>53</td>\n",
       "      <td>V</td>\n",
       "    </tr>\n",
       "    <tr>\n",
       "      <th>...</th>\n",
       "      <td>...</td>\n",
       "      <td>...</td>\n",
       "      <td>...</td>\n",
       "      <td>...</td>\n",
       "    </tr>\n",
       "    <tr>\n",
       "      <th>4645</th>\n",
       "      <td>1.094202e+06</td>\n",
       "      <td>7.789042e+06</td>\n",
       "      <td>53</td>\n",
       "      <td>V</td>\n",
       "    </tr>\n",
       "    <tr>\n",
       "      <th>4648</th>\n",
       "      <td>1.299501e+06</td>\n",
       "      <td>6.808221e+06</td>\n",
       "      <td>53</td>\n",
       "      <td>V</td>\n",
       "    </tr>\n",
       "    <tr>\n",
       "      <th>4652</th>\n",
       "      <td>1.766361e+06</td>\n",
       "      <td>7.168888e+06</td>\n",
       "      <td>53</td>\n",
       "      <td>V</td>\n",
       "    </tr>\n",
       "    <tr>\n",
       "      <th>4653</th>\n",
       "      <td>1.321263e+06</td>\n",
       "      <td>6.795969e+06</td>\n",
       "      <td>53</td>\n",
       "      <td>V</td>\n",
       "    </tr>\n",
       "    <tr>\n",
       "      <th>4658</th>\n",
       "      <td>1.177291e+06</td>\n",
       "      <td>6.811066e+06</td>\n",
       "      <td>53</td>\n",
       "      <td>V</td>\n",
       "    </tr>\n",
       "  </tbody>\n",
       "</table>\n",
       "<p>1110 rows × 4 columns</p>\n",
       "</div>"
      ],
      "text/plain": [
       "             Y_UTM         X_UTM  ZoneNumber ZoneLetter\n",
       "3     1.544245e+06  7.110278e+06          53          V\n",
       "4     1.083775e+06  6.877413e+06          53          V\n",
       "12    1.257863e+06  6.881257e+06          53          V\n",
       "15    1.062527e+06  7.781132e+06          53          V\n",
       "18    7.552345e+05  7.733147e+06          53          V\n",
       "...            ...           ...         ...        ...\n",
       "4645  1.094202e+06  7.789042e+06          53          V\n",
       "4648  1.299501e+06  6.808221e+06          53          V\n",
       "4652  1.766361e+06  7.168888e+06          53          V\n",
       "4653  1.321263e+06  6.795969e+06          53          V\n",
       "4658  1.177291e+06  6.811066e+06          53          V\n",
       "\n",
       "[1110 rows x 4 columns]"
      ]
     },
     "execution_count": 93,
     "metadata": {},
     "output_type": "execute_result"
    }
   ],
   "source": [
    "coordinates_utm"
   ]
  },
  {
   "cell_type": "code",
   "execution_count": 94,
   "metadata": {},
   "outputs": [],
   "source": [
    "coordinates_utm = coordinates_utm.rename({\"X_UTM\": \"Y\", \"Y_UTM\": \"X\"}, axis=1)"
   ]
  },
  {
   "cell_type": "code",
   "execution_count": 95,
   "metadata": {},
   "outputs": [],
   "source": [
    "# FILL IN SHORT NAME HERE THAT WILL BE USED WHEN SAVING THE PLOT (e.g. \"G1\")\n",
    "group_name = \"area3\""
   ]
  },
  {
   "cell_type": "code",
   "execution_count": 96,
   "metadata": {},
   "outputs": [
    {
     "data": {
      "image/png": "[encoded data removed]",
      "text/plain": [
       "<Figure size 432x288 with 1 Axes>"
      ]
     },
     "metadata": {},
     "output_type": "display_data"
    }
   ],
   "source": [
    "# Plot control points with labels\n",
    "plots.plot_map_with_control_points(coordinates_utm, group_name, label_size=4, subset=[\"X\", \"Y\"],\n",
    "                                   show_labels=False,\n",
    "                                  skip_xaxis_label=2, skip_yaxis_label=2, \n",
    "                                  skip_xaxis_start=1, skip_yaxis_start=1)"
   ]
  },
  {
   "cell_type": "code",
   "execution_count": 97,
   "metadata": {},
   "outputs": [
    {
     "data": {
      "text/plain": [
       "array([53], dtype=int64)"
      ]
     },
     "execution_count": 97,
     "metadata": {},
     "output_type": "execute_result"
    },
    {
     "data": {
      "text/plain": [
       "array(['V'], dtype=object)"
      ]
     },
     "execution_count": 97,
     "metadata": {},
     "output_type": "execute_result"
    }
   ],
   "source": [
    "# Show unique zone letters and zone numbers of utm coordinates\n",
    "coordinates_utm[\"ZoneNumber\"].unique()\n",
    "coordinates_utm[\"ZoneLetter\"].unique()"
   ]
  },
  {
   "cell_type": "code",
   "execution_count": 98,
   "metadata": {},
   "outputs": [
    {
     "data": {
      "text/plain": [
       "(0.11434160253847162, 1506297.6330380423)"
      ]
     },
     "execution_count": 98,
     "metadata": {},
     "output_type": "execute_result"
    }
   ],
   "source": [
    "# Calculate minimum and maxmin lag distance between two points of the dataset\n",
    "distance_matrix = krigingtools.calculate_and_sort_square_distance_matrix(coordinates_utm[[\"X\", \"Y\"]])\n",
    "\n",
    "min_lag_distance = np.amin(distance_matrix)\n",
    "max_lag_distance = np.amax(distance_matrix)\n",
    "min_lag_distance, max_lag_distance"
   ]
  },
  {
   "cell_type": "code",
   "execution_count": 99,
   "metadata": {},
   "outputs": [
    {
     "data": {
      "text/plain": [
       "(array([14756., 18994., 23836., 24602., 31744., 35250., 39594., 38748.,\n",
       "        42058., 43652., 49748., 48640., 46404., 41646., 44378., 46428.,\n",
       "        46170., 43474., 42942., 42312., 42888., 44826., 47376., 44334.,\n",
       "        46052., 42146., 40850., 39692., 32974., 27688., 18860., 15064.,\n",
       "         8632.,  6544.,  3220.,  1950.,  1514.,   612.,    84.,   308.]),\n",
       " array([1.14341603e-01, 3.76575523e+04, 7.53149903e+04, 1.12972428e+05,\n",
       "        1.50629866e+05, 1.88287304e+05, 2.25944742e+05, 2.63602180e+05,\n",
       "        3.01259618e+05, 3.38917056e+05, 3.76574494e+05, 4.14231932e+05,\n",
       "        4.51889370e+05, 4.89546808e+05, 5.27204246e+05, 5.64861684e+05,\n",
       "        6.02519122e+05, 6.40176560e+05, 6.77833998e+05, 7.15491436e+05,\n",
       "        7.53148874e+05, 7.90806312e+05, 8.28463750e+05, 8.66121188e+05,\n",
       "        9.03778626e+05, 9.41436064e+05, 9.79093501e+05, 1.01675094e+06,\n",
       "        1.05440838e+06, 1.09206582e+06, 1.12972325e+06, 1.16738069e+06,\n",
       "        1.20503813e+06, 1.24269557e+06, 1.28035301e+06, 1.31801044e+06,\n",
       "        1.35566788e+06, 1.39332532e+06, 1.43098276e+06, 1.46864020e+06,\n",
       "        1.50629763e+06]),\n",
       " <a list of 40 Patch objects>)"
      ]
     },
     "execution_count": 99,
     "metadata": {},
     "output_type": "execute_result"
    },
    {
     "data": {
      "image/png": "[encoded data removed]",
      "text/plain": [
       "<Figure size 432x288 with 1 Axes>"
      ]
     },
     "metadata": {
      "needs_background": "light"
     },
     "output_type": "display_data"
    }
   ],
   "source": [
    "plt.hist(distance_matrix.flatten(), bins=40)"
   ]
  },
  {
   "cell_type": "code",
   "execution_count": 100,
   "metadata": {},
   "outputs": [
    {
     "data": {
      "text/plain": [
       "(array([], dtype=int64), array([], dtype=int64))"
      ]
     },
     "execution_count": 100,
     "metadata": {},
     "output_type": "execute_result"
    }
   ],
   "source": [
    "np.where(distance_matrix == 0)"
   ]
  },
  {
   "cell_type": "markdown",
   "metadata": {},
   "source": [
    "## Critical distance estimation\n",
    "___"
   ]
  },
  {
   "cell_type": "code",
   "execution_count": 107,
   "metadata": {},
   "outputs": [],
   "source": [
    "# Range (lag distance at which the sill is reached; in meters)\n",
    "\n",
    "# Depending on how many principal components you will use, \n",
    "# you will have to add more entries to this list.\n",
    "\n",
    "# Modified the range since variograms are not correct yet\n",
    "# range_ = [100000] * 15\n",
    "range_ = [130000, 130000, 130000, 130000, 130000, 130000, 130000, 130000, 130000, 100000, 100000, 100000, 100000, 100000, 100000]\n",
    "\n"
   ]
  },
  {
   "cell_type": "code",
   "execution_count": 108,
   "metadata": {},
   "outputs": [
    {
     "data": {
      "image/png": "[encoded data removed]",
      "text/plain": [
       "<Figure size 1728x864 with 3 Axes>"
      ]
     },
     "metadata": {
      "needs_background": "light"
     },
     "output_type": "display_data"
    }
   ],
   "source": [
    "# You can adjust the radius parameters below to change the slider settings\n",
    "# to visualize the figures interactively\n",
    "plots.interactive_plot_search_radius(coordinates_utm, orient='rows', \n",
    "                                     radius_default=46000, # Default slider position\n",
    "                                     radius_min=30000,  # Slider start\n",
    "                                     radius_max=60000, # Slider stop\n",
    "                                     radius_step=1000,  # Slider step\n",
    "                                     radius_offset=1000) # Offset between visualizations shown\n",
    "\n",
    "# The x-axis stands for 'n_neighbours'"
   ]
  },
  {
   "cell_type": "code",
   "execution_count": 109,
   "metadata": {},
   "outputs": [],
   "source": [
    "# Critical distance (in meters)\n",
    "# This is the distance where at least 95% of your samples\n",
    "# will have at least 3 neighbours within that distance\n",
    "\n",
    "# You can refine this value later on, or we can use the range \n",
    "# instead of the critical distance as the only value for the search radius\n",
    "critical_distance = 46000"
   ]
  },
  {
   "cell_type": "code",
   "execution_count": 110,
   "metadata": {},
   "outputs": [],
   "source": [
    "# This is basically creating a list of how many neighbours each data point has \n",
    "# within the critical_distance and within the range\n",
    "nvalues_control_points = {}\n",
    "\n",
    "for radius in (0.05, critical_distance, range_[0]):\n",
    "    temp = krigingtools.find_points_within_search_radius(\n",
    "               krigingtools.calculate_and_sort_square_distance_matrix(coordinates_utm),\n",
    "               search_radius=radius # 'search_radius' should be equal to 'radius' here, not 'critical_distance'\n",
    "           )\n",
    "    nvalues_control_points[radius] = pd.Series(temp, index=coordinates_utm.index)\n",
    "    \n",
    "# You're performing a calculation in a for loop so we want to check how many neighbours each data point has \n",
    "# within the specified radius in the tuple (0.05, critical_distance, range_[0]). \n",
    "# So for each of these specified distances, the function will be executed and \n",
    "# the result stored in the nvalues_control_points dictionary"
   ]
  },
  {
   "cell_type": "code",
   "execution_count": 111,
   "metadata": {},
   "outputs": [
    {
     "data": {
      "text/plain": [
       "55.5"
      ]
     },
     "execution_count": 111,
     "metadata": {},
     "output_type": "execute_result"
    }
   ],
   "source": [
    "# Number of samples that may still have less than 3 neighbours within the critical distance\n",
    "number_of_control_points * 0.05"
   ]
  },
  {
   "cell_type": "code",
   "execution_count": 113,
   "metadata": {},
   "outputs": [
    {
     "data": {
      "text/plain": [
       "56"
      ]
     },
     "execution_count": 113,
     "metadata": {},
     "output_type": "execute_result"
    }
   ],
   "source": [
    "# Check number of samples outside of critical distance\n",
    "samples_outside_critical_distance = nvalues_control_points[critical_distance][nvalues_control_points[critical_distance] < 3].index.tolist()\n",
    "len(samples_outside_critical_distance)\n",
    "\n",
    "# 0.5 sample above 55.5"
   ]
  },
  {
   "cell_type": "code",
   "execution_count": 114,
   "metadata": {},
   "outputs": [
    {
     "data": {
      "text/html": [
       "<div>\n",
       "<style scoped>\n",
       "    .dataframe tbody tr th:only-of-type {\n",
       "        vertical-align: middle;\n",
       "    }\n",
       "\n",
       "    .dataframe tbody tr th {\n",
       "        vertical-align: top;\n",
       "    }\n",
       "\n",
       "    .dataframe thead th {\n",
       "        text-align: right;\n",
       "    }\n",
       "</style>\n",
       "<table border=\"1\" class=\"dataframe\">\n",
       "  <thead>\n",
       "    <tr style=\"text-align: right;\">\n",
       "      <th></th>\n",
       "      <th>PC01</th>\n",
       "      <th>PC02</th>\n",
       "      <th>PC03</th>\n",
       "      <th>PC04</th>\n",
       "      <th>PC05</th>\n",
       "      <th>PC06</th>\n",
       "      <th>PC07</th>\n",
       "      <th>PC08</th>\n",
       "      <th>PC09</th>\n",
       "      <th>PC10</th>\n",
       "      <th>PC11</th>\n",
       "      <th>PC12</th>\n",
       "      <th>PC13</th>\n",
       "    </tr>\n",
       "  </thead>\n",
       "  <tbody>\n",
       "    <tr>\n",
       "      <th>287</th>\n",
       "      <td>2.023179</td>\n",
       "      <td>-1.631951</td>\n",
       "      <td>-0.045546</td>\n",
       "      <td>0.410599</td>\n",
       "      <td>-0.723310</td>\n",
       "      <td>0.148865</td>\n",
       "      <td>-0.844686</td>\n",
       "      <td>0.509066</td>\n",
       "      <td>-0.227443</td>\n",
       "      <td>-0.032340</td>\n",
       "      <td>-0.086642</td>\n",
       "      <td>0.053270</td>\n",
       "      <td>-6.039554e-17</td>\n",
       "    </tr>\n",
       "    <tr>\n",
       "      <th>693</th>\n",
       "      <td>1.339837</td>\n",
       "      <td>-0.613449</td>\n",
       "      <td>0.054702</td>\n",
       "      <td>1.553010</td>\n",
       "      <td>0.416966</td>\n",
       "      <td>-0.128732</td>\n",
       "      <td>-0.665985</td>\n",
       "      <td>-1.051673</td>\n",
       "      <td>-0.280873</td>\n",
       "      <td>-0.032920</td>\n",
       "      <td>0.134035</td>\n",
       "      <td>-0.017620</td>\n",
       "      <td>-1.499875e-16</td>\n",
       "    </tr>\n",
       "    <tr>\n",
       "      <th>719</th>\n",
       "      <td>0.732949</td>\n",
       "      <td>-0.144117</td>\n",
       "      <td>1.271032</td>\n",
       "      <td>0.490136</td>\n",
       "      <td>-0.767232</td>\n",
       "      <td>0.551470</td>\n",
       "      <td>-0.974184</td>\n",
       "      <td>0.068468</td>\n",
       "      <td>-0.433922</td>\n",
       "      <td>1.216093</td>\n",
       "      <td>0.120821</td>\n",
       "      <td>0.035605</td>\n",
       "      <td>4.243792e-16</td>\n",
       "    </tr>\n",
       "    <tr>\n",
       "      <th>736</th>\n",
       "      <td>0.817752</td>\n",
       "      <td>-1.129235</td>\n",
       "      <td>-0.710986</td>\n",
       "      <td>1.004385</td>\n",
       "      <td>0.016985</td>\n",
       "      <td>0.048206</td>\n",
       "      <td>-0.102495</td>\n",
       "      <td>-0.759342</td>\n",
       "      <td>0.760899</td>\n",
       "      <td>-0.011096</td>\n",
       "      <td>-0.014796</td>\n",
       "      <td>0.056565</td>\n",
       "      <td>-4.978209e-16</td>\n",
       "    </tr>\n",
       "    <tr>\n",
       "      <th>1006</th>\n",
       "      <td>3.505137</td>\n",
       "      <td>0.582321</td>\n",
       "      <td>0.177569</td>\n",
       "      <td>-1.453389</td>\n",
       "      <td>-0.331755</td>\n",
       "      <td>-0.018903</td>\n",
       "      <td>-0.757241</td>\n",
       "      <td>-0.416307</td>\n",
       "      <td>-0.442460</td>\n",
       "      <td>0.468881</td>\n",
       "      <td>0.121082</td>\n",
       "      <td>-0.149531</td>\n",
       "      <td>5.740144e-16</td>\n",
       "    </tr>\n",
       "    <tr>\n",
       "      <th>1081</th>\n",
       "      <td>0.382417</td>\n",
       "      <td>-1.129547</td>\n",
       "      <td>0.551928</td>\n",
       "      <td>-1.541311</td>\n",
       "      <td>-0.230208</td>\n",
       "      <td>0.207610</td>\n",
       "      <td>0.813403</td>\n",
       "      <td>-0.759604</td>\n",
       "      <td>0.297312</td>\n",
       "      <td>-0.030250</td>\n",
       "      <td>0.003533</td>\n",
       "      <td>0.063080</td>\n",
       "      <td>-3.473610e-16</td>\n",
       "    </tr>\n",
       "    <tr>\n",
       "      <th>1482</th>\n",
       "      <td>-0.327999</td>\n",
       "      <td>0.024740</td>\n",
       "      <td>0.376622</td>\n",
       "      <td>0.668230</td>\n",
       "      <td>0.453877</td>\n",
       "      <td>-0.487020</td>\n",
       "      <td>0.129249</td>\n",
       "      <td>0.231292</td>\n",
       "      <td>-0.235248</td>\n",
       "      <td>0.088282</td>\n",
       "      <td>0.061787</td>\n",
       "      <td>0.047153</td>\n",
       "      <td>1.928436e-16</td>\n",
       "    </tr>\n",
       "    <tr>\n",
       "      <th>1507</th>\n",
       "      <td>1.023100</td>\n",
       "      <td>-0.837424</td>\n",
       "      <td>-0.343502</td>\n",
       "      <td>1.486691</td>\n",
       "      <td>-1.649948</td>\n",
       "      <td>-0.252339</td>\n",
       "      <td>-0.129684</td>\n",
       "      <td>0.463226</td>\n",
       "      <td>-0.117886</td>\n",
       "      <td>-0.032136</td>\n",
       "      <td>0.052569</td>\n",
       "      <td>-0.006985</td>\n",
       "      <td>5.499858e-16</td>\n",
       "    </tr>\n",
       "    <tr>\n",
       "      <th>1510</th>\n",
       "      <td>0.891398</td>\n",
       "      <td>-1.559629</td>\n",
       "      <td>-1.110514</td>\n",
       "      <td>0.509039</td>\n",
       "      <td>-0.802894</td>\n",
       "      <td>-0.335536</td>\n",
       "      <td>-0.230477</td>\n",
       "      <td>-0.296438</td>\n",
       "      <td>-0.130671</td>\n",
       "      <td>-0.057953</td>\n",
       "      <td>-0.007067</td>\n",
       "      <td>0.049603</td>\n",
       "      <td>-5.864376e-16</td>\n",
       "    </tr>\n",
       "    <tr>\n",
       "      <th>1718</th>\n",
       "      <td>0.077326</td>\n",
       "      <td>-0.251384</td>\n",
       "      <td>0.805157</td>\n",
       "      <td>0.488302</td>\n",
       "      <td>-1.108366</td>\n",
       "      <td>-0.239162</td>\n",
       "      <td>-0.555995</td>\n",
       "      <td>-0.079460</td>\n",
       "      <td>-0.223437</td>\n",
       "      <td>-0.118457</td>\n",
       "      <td>-0.055716</td>\n",
       "      <td>0.042909</td>\n",
       "      <td>-2.586587e-16</td>\n",
       "    </tr>\n",
       "    <tr>\n",
       "      <th>2023</th>\n",
       "      <td>0.166631</td>\n",
       "      <td>-0.238794</td>\n",
       "      <td>1.277729</td>\n",
       "      <td>-0.949626</td>\n",
       "      <td>-0.435029</td>\n",
       "      <td>-1.470373</td>\n",
       "      <td>-0.153782</td>\n",
       "      <td>0.423597</td>\n",
       "      <td>-0.279859</td>\n",
       "      <td>-0.166658</td>\n",
       "      <td>-0.183895</td>\n",
       "      <td>0.023579</td>\n",
       "      <td>2.551618e-16</td>\n",
       "    </tr>\n",
       "    <tr>\n",
       "      <th>2034</th>\n",
       "      <td>0.566873</td>\n",
       "      <td>-1.082326</td>\n",
       "      <td>-0.469003</td>\n",
       "      <td>-0.240303</td>\n",
       "      <td>-0.088329</td>\n",
       "      <td>-1.653337</td>\n",
       "      <td>-0.435632</td>\n",
       "      <td>0.080208</td>\n",
       "      <td>0.891703</td>\n",
       "      <td>0.071762</td>\n",
       "      <td>-0.251444</td>\n",
       "      <td>0.036424</td>\n",
       "      <td>3.078133e-16</td>\n",
       "    </tr>\n",
       "    <tr>\n",
       "      <th>2080</th>\n",
       "      <td>1.086805</td>\n",
       "      <td>-1.009710</td>\n",
       "      <td>-0.681733</td>\n",
       "      <td>1.038776</td>\n",
       "      <td>-1.100111</td>\n",
       "      <td>-1.170955</td>\n",
       "      <td>0.832428</td>\n",
       "      <td>0.566028</td>\n",
       "      <td>-0.379867</td>\n",
       "      <td>-0.185027</td>\n",
       "      <td>-0.130215</td>\n",
       "      <td>-0.039423</td>\n",
       "      <td>8.815968e-17</td>\n",
       "    </tr>\n",
       "    <tr>\n",
       "      <th>2125</th>\n",
       "      <td>0.715970</td>\n",
       "      <td>-1.389399</td>\n",
       "      <td>-0.824180</td>\n",
       "      <td>1.128035</td>\n",
       "      <td>-0.117890</td>\n",
       "      <td>0.736074</td>\n",
       "      <td>-0.099106</td>\n",
       "      <td>-0.124242</td>\n",
       "      <td>0.077668</td>\n",
       "      <td>-0.234721</td>\n",
       "      <td>-0.052154</td>\n",
       "      <td>-0.004200</td>\n",
       "      <td>-3.469069e-17</td>\n",
       "    </tr>\n",
       "    <tr>\n",
       "      <th>2153</th>\n",
       "      <td>-0.267978</td>\n",
       "      <td>-1.005347</td>\n",
       "      <td>0.859886</td>\n",
       "      <td>-1.617615</td>\n",
       "      <td>-0.069253</td>\n",
       "      <td>1.199987</td>\n",
       "      <td>-0.228860</td>\n",
       "      <td>0.211031</td>\n",
       "      <td>-0.349414</td>\n",
       "      <td>0.554971</td>\n",
       "      <td>-0.000141</td>\n",
       "      <td>0.079949</td>\n",
       "      <td>5.126979e-16</td>\n",
       "    </tr>\n",
       "    <tr>\n",
       "      <th>2159</th>\n",
       "      <td>0.869294</td>\n",
       "      <td>-1.437509</td>\n",
       "      <td>-0.908395</td>\n",
       "      <td>0.826559</td>\n",
       "      <td>0.363539</td>\n",
       "      <td>0.182853</td>\n",
       "      <td>-0.129541</td>\n",
       "      <td>-0.336258</td>\n",
       "      <td>-0.168748</td>\n",
       "      <td>0.169484</td>\n",
       "      <td>-0.097987</td>\n",
       "      <td>-0.048763</td>\n",
       "      <td>-3.315318e-16</td>\n",
       "    </tr>\n",
       "    <tr>\n",
       "      <th>2241</th>\n",
       "      <td>0.527868</td>\n",
       "      <td>-0.238024</td>\n",
       "      <td>0.274192</td>\n",
       "      <td>-0.742310</td>\n",
       "      <td>1.265957</td>\n",
       "      <td>-0.172360</td>\n",
       "      <td>-0.083731</td>\n",
       "      <td>-0.025173</td>\n",
       "      <td>-0.216382</td>\n",
       "      <td>0.080141</td>\n",
       "      <td>-0.172953</td>\n",
       "      <td>0.028185</td>\n",
       "      <td>2.547526e-16</td>\n",
       "    </tr>\n",
       "    <tr>\n",
       "      <th>2295</th>\n",
       "      <td>0.108192</td>\n",
       "      <td>-1.083389</td>\n",
       "      <td>0.360150</td>\n",
       "      <td>-0.831064</td>\n",
       "      <td>-0.692969</td>\n",
       "      <td>0.196096</td>\n",
       "      <td>-0.241348</td>\n",
       "      <td>-0.724632</td>\n",
       "      <td>0.069100</td>\n",
       "      <td>-0.372970</td>\n",
       "      <td>0.053538</td>\n",
       "      <td>-0.040954</td>\n",
       "      <td>-4.055513e-16</td>\n",
       "    </tr>\n",
       "    <tr>\n",
       "      <th>2326</th>\n",
       "      <td>-0.368998</td>\n",
       "      <td>-0.411564</td>\n",
       "      <td>-0.017535</td>\n",
       "      <td>0.447423</td>\n",
       "      <td>-0.169485</td>\n",
       "      <td>-0.316523</td>\n",
       "      <td>0.048031</td>\n",
       "      <td>-0.063719</td>\n",
       "      <td>-0.052231</td>\n",
       "      <td>-0.257099</td>\n",
       "      <td>0.068119</td>\n",
       "      <td>0.006941</td>\n",
       "      <td>-2.129885e-16</td>\n",
       "    </tr>\n",
       "    <tr>\n",
       "      <th>2373</th>\n",
       "      <td>4.346146</td>\n",
       "      <td>0.687696</td>\n",
       "      <td>-0.760040</td>\n",
       "      <td>-0.743301</td>\n",
       "      <td>1.682823</td>\n",
       "      <td>-0.941444</td>\n",
       "      <td>-0.533616</td>\n",
       "      <td>-0.588114</td>\n",
       "      <td>-0.205963</td>\n",
       "      <td>0.328102</td>\n",
       "      <td>-0.020386</td>\n",
       "      <td>-0.314087</td>\n",
       "      <td>-1.676197e-16</td>\n",
       "    </tr>\n",
       "    <tr>\n",
       "      <th>2383</th>\n",
       "      <td>0.908562</td>\n",
       "      <td>-1.320903</td>\n",
       "      <td>0.446708</td>\n",
       "      <td>-0.967783</td>\n",
       "      <td>-0.261479</td>\n",
       "      <td>-0.085755</td>\n",
       "      <td>-0.836118</td>\n",
       "      <td>-0.009118</td>\n",
       "      <td>0.607265</td>\n",
       "      <td>0.409222</td>\n",
       "      <td>-0.107905</td>\n",
       "      <td>-0.080250</td>\n",
       "      <td>2.421885e-16</td>\n",
       "    </tr>\n",
       "    <tr>\n",
       "      <th>2395</th>\n",
       "      <td>0.535994</td>\n",
       "      <td>-1.341587</td>\n",
       "      <td>-1.287981</td>\n",
       "      <td>0.711235</td>\n",
       "      <td>0.315900</td>\n",
       "      <td>-0.305350</td>\n",
       "      <td>0.291068</td>\n",
       "      <td>-0.209371</td>\n",
       "      <td>0.124105</td>\n",
       "      <td>0.087938</td>\n",
       "      <td>0.075982</td>\n",
       "      <td>-0.090259</td>\n",
       "      <td>-2.974244e-16</td>\n",
       "    </tr>\n",
       "    <tr>\n",
       "      <th>2474</th>\n",
       "      <td>-0.797532</td>\n",
       "      <td>-0.172677</td>\n",
       "      <td>0.977792</td>\n",
       "      <td>-0.456189</td>\n",
       "      <td>-0.044923</td>\n",
       "      <td>0.427967</td>\n",
       "      <td>-0.184603</td>\n",
       "      <td>1.048977</td>\n",
       "      <td>-0.072242</td>\n",
       "      <td>-0.113621</td>\n",
       "      <td>0.062736</td>\n",
       "      <td>0.061734</td>\n",
       "      <td>8.188043e-16</td>\n",
       "    </tr>\n",
       "    <tr>\n",
       "      <th>2523</th>\n",
       "      <td>0.840221</td>\n",
       "      <td>-0.098561</td>\n",
       "      <td>0.300962</td>\n",
       "      <td>-0.029346</td>\n",
       "      <td>-0.880565</td>\n",
       "      <td>-0.701508</td>\n",
       "      <td>0.782923</td>\n",
       "      <td>-0.244593</td>\n",
       "      <td>-0.341674</td>\n",
       "      <td>0.306401</td>\n",
       "      <td>-0.386442</td>\n",
       "      <td>-0.056506</td>\n",
       "      <td>1.040970e-16</td>\n",
       "    </tr>\n",
       "    <tr>\n",
       "      <th>2596</th>\n",
       "      <td>-0.563711</td>\n",
       "      <td>-0.388745</td>\n",
       "      <td>0.602705</td>\n",
       "      <td>0.351711</td>\n",
       "      <td>0.570281</td>\n",
       "      <td>1.213142</td>\n",
       "      <td>-0.043275</td>\n",
       "      <td>-0.070984</td>\n",
       "      <td>-0.411800</td>\n",
       "      <td>-0.096350</td>\n",
       "      <td>-0.025759</td>\n",
       "      <td>0.033315</td>\n",
       "      <td>1.785008e-16</td>\n",
       "    </tr>\n",
       "    <tr>\n",
       "      <th>2697</th>\n",
       "      <td>0.189030</td>\n",
       "      <td>0.920977</td>\n",
       "      <td>-0.749557</td>\n",
       "      <td>-0.274466</td>\n",
       "      <td>-0.698930</td>\n",
       "      <td>-1.480353</td>\n",
       "      <td>-0.061621</td>\n",
       "      <td>0.386299</td>\n",
       "      <td>0.436494</td>\n",
       "      <td>0.226730</td>\n",
       "      <td>0.014418</td>\n",
       "      <td>0.012676</td>\n",
       "      <td>2.403300e-16</td>\n",
       "    </tr>\n",
       "    <tr>\n",
       "      <th>2721</th>\n",
       "      <td>-0.759257</td>\n",
       "      <td>0.287725</td>\n",
       "      <td>0.573288</td>\n",
       "      <td>0.853183</td>\n",
       "      <td>1.595937</td>\n",
       "      <td>0.051227</td>\n",
       "      <td>0.313561</td>\n",
       "      <td>0.041509</td>\n",
       "      <td>-0.210962</td>\n",
       "      <td>-0.130672</td>\n",
       "      <td>0.049583</td>\n",
       "      <td>0.001673</td>\n",
       "      <td>3.704578e-16</td>\n",
       "    </tr>\n",
       "    <tr>\n",
       "      <th>2963</th>\n",
       "      <td>-0.825990</td>\n",
       "      <td>-0.347620</td>\n",
       "      <td>-0.239300</td>\n",
       "      <td>0.227744</td>\n",
       "      <td>-0.398080</td>\n",
       "      <td>-0.661377</td>\n",
       "      <td>-0.116592</td>\n",
       "      <td>0.296350</td>\n",
       "      <td>0.111614</td>\n",
       "      <td>-0.136040</td>\n",
       "      <td>0.075357</td>\n",
       "      <td>0.022033</td>\n",
       "      <td>6.937569e-17</td>\n",
       "    </tr>\n",
       "    <tr>\n",
       "      <th>3019</th>\n",
       "      <td>0.666940</td>\n",
       "      <td>2.528310</td>\n",
       "      <td>-1.120641</td>\n",
       "      <td>-0.662347</td>\n",
       "      <td>1.348170</td>\n",
       "      <td>0.146372</td>\n",
       "      <td>0.187281</td>\n",
       "      <td>-0.051075</td>\n",
       "      <td>0.019847</td>\n",
       "      <td>-0.084862</td>\n",
       "      <td>0.121568</td>\n",
       "      <td>0.007954</td>\n",
       "      <td>7.039103e-16</td>\n",
       "    </tr>\n",
       "    <tr>\n",
       "      <th>3174</th>\n",
       "      <td>-1.226552</td>\n",
       "      <td>0.357106</td>\n",
       "      <td>0.894502</td>\n",
       "      <td>0.045108</td>\n",
       "      <td>0.549229</td>\n",
       "      <td>-0.595327</td>\n",
       "      <td>0.105644</td>\n",
       "      <td>0.109873</td>\n",
       "      <td>0.437272</td>\n",
       "      <td>0.028941</td>\n",
       "      <td>-0.111772</td>\n",
       "      <td>-0.035725</td>\n",
       "      <td>4.819149e-16</td>\n",
       "    </tr>\n",
       "    <tr>\n",
       "      <th>3219</th>\n",
       "      <td>-0.803176</td>\n",
       "      <td>-0.885150</td>\n",
       "      <td>-0.032766</td>\n",
       "      <td>-0.772450</td>\n",
       "      <td>-0.579962</td>\n",
       "      <td>0.030087</td>\n",
       "      <td>-0.112472</td>\n",
       "      <td>0.166514</td>\n",
       "      <td>-0.191876</td>\n",
       "      <td>-0.166801</td>\n",
       "      <td>-0.106971</td>\n",
       "      <td>0.063194</td>\n",
       "      <td>3.750654e-17</td>\n",
       "    </tr>\n",
       "    <tr>\n",
       "      <th>3260</th>\n",
       "      <td>-0.706123</td>\n",
       "      <td>1.014366</td>\n",
       "      <td>-0.512160</td>\n",
       "      <td>-0.108301</td>\n",
       "      <td>-1.133185</td>\n",
       "      <td>-0.449487</td>\n",
       "      <td>-0.116304</td>\n",
       "      <td>0.239539</td>\n",
       "      <td>0.363618</td>\n",
       "      <td>0.781114</td>\n",
       "      <td>0.023912</td>\n",
       "      <td>0.035166</td>\n",
       "      <td>5.004327e-16</td>\n",
       "    </tr>\n",
       "    <tr>\n",
       "      <th>3263</th>\n",
       "      <td>-1.530977</td>\n",
       "      <td>0.684746</td>\n",
       "      <td>0.679589</td>\n",
       "      <td>1.073518</td>\n",
       "      <td>0.007913</td>\n",
       "      <td>-0.137794</td>\n",
       "      <td>-0.346406</td>\n",
       "      <td>0.394981</td>\n",
       "      <td>0.341086</td>\n",
       "      <td>0.062358</td>\n",
       "      <td>0.021669</td>\n",
       "      <td>0.056774</td>\n",
       "      <td>2.521618e-16</td>\n",
       "    </tr>\n",
       "    <tr>\n",
       "      <th>3288</th>\n",
       "      <td>-0.477898</td>\n",
       "      <td>2.177684</td>\n",
       "      <td>-0.030456</td>\n",
       "      <td>0.972289</td>\n",
       "      <td>-0.925365</td>\n",
       "      <td>0.538607</td>\n",
       "      <td>-0.432965</td>\n",
       "      <td>-0.353705</td>\n",
       "      <td>0.298522</td>\n",
       "      <td>0.111749</td>\n",
       "      <td>-0.044888</td>\n",
       "      <td>0.039922</td>\n",
       "      <td>-9.135564e-17</td>\n",
       "    </tr>\n",
       "    <tr>\n",
       "      <th>3297</th>\n",
       "      <td>0.002249</td>\n",
       "      <td>-1.406784</td>\n",
       "      <td>-1.133553</td>\n",
       "      <td>0.334939</td>\n",
       "      <td>-0.587222</td>\n",
       "      <td>-0.015533</td>\n",
       "      <td>0.248680</td>\n",
       "      <td>0.112046</td>\n",
       "      <td>0.530706</td>\n",
       "      <td>-0.216822</td>\n",
       "      <td>-0.075732</td>\n",
       "      <td>-0.057257</td>\n",
       "      <td>-2.600161e-16</td>\n",
       "    </tr>\n",
       "    <tr>\n",
       "      <th>3298</th>\n",
       "      <td>1.032331</td>\n",
       "      <td>1.928335</td>\n",
       "      <td>-0.534522</td>\n",
       "      <td>-1.500067</td>\n",
       "      <td>-1.029500</td>\n",
       "      <td>-0.737954</td>\n",
       "      <td>0.049163</td>\n",
       "      <td>0.258558</td>\n",
       "      <td>-0.336178</td>\n",
       "      <td>-0.323302</td>\n",
       "      <td>-0.026790</td>\n",
       "      <td>-0.066001</td>\n",
       "      <td>-6.253397e-17</td>\n",
       "    </tr>\n",
       "    <tr>\n",
       "      <th>3409</th>\n",
       "      <td>-1.354803</td>\n",
       "      <td>0.113338</td>\n",
       "      <td>0.188135</td>\n",
       "      <td>0.433879</td>\n",
       "      <td>-0.831406</td>\n",
       "      <td>-0.750587</td>\n",
       "      <td>-0.344966</td>\n",
       "      <td>-0.207050</td>\n",
       "      <td>0.234548</td>\n",
       "      <td>-0.057678</td>\n",
       "      <td>-0.007750</td>\n",
       "      <td>-0.019155</td>\n",
       "      <td>5.410733e-17</td>\n",
       "    </tr>\n",
       "    <tr>\n",
       "      <th>3460</th>\n",
       "      <td>1.691826</td>\n",
       "      <td>-2.018897</td>\n",
       "      <td>-0.410640</td>\n",
       "      <td>0.280342</td>\n",
       "      <td>1.509597</td>\n",
       "      <td>1.030720</td>\n",
       "      <td>-0.411957</td>\n",
       "      <td>-0.467982</td>\n",
       "      <td>-0.011300</td>\n",
       "      <td>0.311052</td>\n",
       "      <td>-0.370391</td>\n",
       "      <td>-0.221112</td>\n",
       "      <td>-9.081931e-17</td>\n",
       "    </tr>\n",
       "    <tr>\n",
       "      <th>3517</th>\n",
       "      <td>-0.301228</td>\n",
       "      <td>-1.310380</td>\n",
       "      <td>-1.840786</td>\n",
       "      <td>1.231784</td>\n",
       "      <td>-0.005263</td>\n",
       "      <td>-0.102005</td>\n",
       "      <td>-0.247816</td>\n",
       "      <td>-0.040795</td>\n",
       "      <td>0.064692</td>\n",
       "      <td>0.046618</td>\n",
       "      <td>-0.139204</td>\n",
       "      <td>0.036121</td>\n",
       "      <td>6.167902e-16</td>\n",
       "    </tr>\n",
       "    <tr>\n",
       "      <th>3540</th>\n",
       "      <td>0.066094</td>\n",
       "      <td>1.204091</td>\n",
       "      <td>-1.250221</td>\n",
       "      <td>-1.085290</td>\n",
       "      <td>-0.447866</td>\n",
       "      <td>-0.567858</td>\n",
       "      <td>-0.595350</td>\n",
       "      <td>0.423453</td>\n",
       "      <td>0.362120</td>\n",
       "      <td>0.377254</td>\n",
       "      <td>0.045384</td>\n",
       "      <td>0.024065</td>\n",
       "      <td>4.536304e-16</td>\n",
       "    </tr>\n",
       "    <tr>\n",
       "      <th>3561</th>\n",
       "      <td>-1.014148</td>\n",
       "      <td>-0.929194</td>\n",
       "      <td>-0.041964</td>\n",
       "      <td>-1.186701</td>\n",
       "      <td>-0.011696</td>\n",
       "      <td>0.368808</td>\n",
       "      <td>-0.113271</td>\n",
       "      <td>-0.109385</td>\n",
       "      <td>0.565557</td>\n",
       "      <td>0.082925</td>\n",
       "      <td>0.040779</td>\n",
       "      <td>-0.042866</td>\n",
       "      <td>5.707757e-18</td>\n",
       "    </tr>\n",
       "    <tr>\n",
       "      <th>3567</th>\n",
       "      <td>0.234583</td>\n",
       "      <td>0.096300</td>\n",
       "      <td>-0.081001</td>\n",
       "      <td>-0.765586</td>\n",
       "      <td>-0.289556</td>\n",
       "      <td>0.504436</td>\n",
       "      <td>-0.131164</td>\n",
       "      <td>0.325983</td>\n",
       "      <td>0.342817</td>\n",
       "      <td>-0.068702</td>\n",
       "      <td>-0.312077</td>\n",
       "      <td>-0.050024</td>\n",
       "      <td>-2.338586e-16</td>\n",
       "    </tr>\n",
       "    <tr>\n",
       "      <th>3722</th>\n",
       "      <td>-1.030246</td>\n",
       "      <td>-1.175622</td>\n",
       "      <td>-0.805807</td>\n",
       "      <td>-0.802999</td>\n",
       "      <td>-0.115864</td>\n",
       "      <td>-0.196763</td>\n",
       "      <td>-0.527420</td>\n",
       "      <td>-0.098138</td>\n",
       "      <td>0.021787</td>\n",
       "      <td>0.132138</td>\n",
       "      <td>-0.181906</td>\n",
       "      <td>0.094923</td>\n",
       "      <td>6.618155e-16</td>\n",
       "    </tr>\n",
       "    <tr>\n",
       "      <th>3723</th>\n",
       "      <td>-1.400594</td>\n",
       "      <td>-0.115087</td>\n",
       "      <td>-0.057047</td>\n",
       "      <td>0.304753</td>\n",
       "      <td>-0.703566</td>\n",
       "      <td>-0.526196</td>\n",
       "      <td>-0.327150</td>\n",
       "      <td>-0.068509</td>\n",
       "      <td>-0.051850</td>\n",
       "      <td>-0.121542</td>\n",
       "      <td>-0.000939</td>\n",
       "      <td>-0.024372</td>\n",
       "      <td>5.221366e-16</td>\n",
       "    </tr>\n",
       "    <tr>\n",
       "      <th>3725</th>\n",
       "      <td>-1.280387</td>\n",
       "      <td>-0.579489</td>\n",
       "      <td>-0.274182</td>\n",
       "      <td>-1.070996</td>\n",
       "      <td>0.354128</td>\n",
       "      <td>-0.794989</td>\n",
       "      <td>0.185590</td>\n",
       "      <td>-0.063524</td>\n",
       "      <td>0.196965</td>\n",
       "      <td>0.246422</td>\n",
       "      <td>-0.069081</td>\n",
       "      <td>0.004475</td>\n",
       "      <td>7.841940e-16</td>\n",
       "    </tr>\n",
       "    <tr>\n",
       "      <th>3778</th>\n",
       "      <td>-1.110933</td>\n",
       "      <td>-0.924572</td>\n",
       "      <td>0.160235</td>\n",
       "      <td>-0.121436</td>\n",
       "      <td>-0.087345</td>\n",
       "      <td>2.073363</td>\n",
       "      <td>0.042266</td>\n",
       "      <td>-0.040729</td>\n",
       "      <td>0.172264</td>\n",
       "      <td>-0.006700</td>\n",
       "      <td>-0.120879</td>\n",
       "      <td>-0.046541</td>\n",
       "      <td>3.800326e-16</td>\n",
       "    </tr>\n",
       "    <tr>\n",
       "      <th>3783</th>\n",
       "      <td>-0.182189</td>\n",
       "      <td>-1.221073</td>\n",
       "      <td>-1.509568</td>\n",
       "      <td>1.567916</td>\n",
       "      <td>-0.461166</td>\n",
       "      <td>0.333902</td>\n",
       "      <td>-0.148428</td>\n",
       "      <td>0.189900</td>\n",
       "      <td>-0.011078</td>\n",
       "      <td>-0.067864</td>\n",
       "      <td>-0.173815</td>\n",
       "      <td>-0.018442</td>\n",
       "      <td>-5.587889e-16</td>\n",
       "    </tr>\n",
       "    <tr>\n",
       "      <th>3931</th>\n",
       "      <td>-1.752769</td>\n",
       "      <td>0.003267</td>\n",
       "      <td>-0.264222</td>\n",
       "      <td>0.563422</td>\n",
       "      <td>-0.881360</td>\n",
       "      <td>-0.083631</td>\n",
       "      <td>-0.189639</td>\n",
       "      <td>-0.009152</td>\n",
       "      <td>-0.125696</td>\n",
       "      <td>0.166733</td>\n",
       "      <td>0.011586</td>\n",
       "      <td>0.066515</td>\n",
       "      <td>2.377500e-16</td>\n",
       "    </tr>\n",
       "    <tr>\n",
       "      <th>4067</th>\n",
       "      <td>-1.500678</td>\n",
       "      <td>-0.183436</td>\n",
       "      <td>-0.326389</td>\n",
       "      <td>0.226002</td>\n",
       "      <td>1.047041</td>\n",
       "      <td>-0.045235</td>\n",
       "      <td>0.446811</td>\n",
       "      <td>-0.139276</td>\n",
       "      <td>-0.049501</td>\n",
       "      <td>-0.046011</td>\n",
       "      <td>-0.019857</td>\n",
       "      <td>-0.025855</td>\n",
       "      <td>3.280210e-16</td>\n",
       "    </tr>\n",
       "    <tr>\n",
       "      <th>4183</th>\n",
       "      <td>-1.941972</td>\n",
       "      <td>0.154091</td>\n",
       "      <td>0.331805</td>\n",
       "      <td>0.125305</td>\n",
       "      <td>0.171694</td>\n",
       "      <td>0.195933</td>\n",
       "      <td>-0.389460</td>\n",
       "      <td>0.016553</td>\n",
       "      <td>-0.407068</td>\n",
       "      <td>-0.140653</td>\n",
       "      <td>-0.015034</td>\n",
       "      <td>0.029309</td>\n",
       "      <td>4.144110e-16</td>\n",
       "    </tr>\n",
       "    <tr>\n",
       "      <th>4254</th>\n",
       "      <td>-0.564419</td>\n",
       "      <td>-1.333533</td>\n",
       "      <td>-2.029510</td>\n",
       "      <td>1.344470</td>\n",
       "      <td>-0.005997</td>\n",
       "      <td>0.075709</td>\n",
       "      <td>-0.118227</td>\n",
       "      <td>-0.014149</td>\n",
       "      <td>0.094433</td>\n",
       "      <td>0.021336</td>\n",
       "      <td>-0.127004</td>\n",
       "      <td>-0.076726</td>\n",
       "      <td>3.970895e-16</td>\n",
       "    </tr>\n",
       "    <tr>\n",
       "      <th>4313</th>\n",
       "      <td>-0.127915</td>\n",
       "      <td>2.143862</td>\n",
       "      <td>-1.890420</td>\n",
       "      <td>-0.811308</td>\n",
       "      <td>1.142067</td>\n",
       "      <td>0.383858</td>\n",
       "      <td>0.455854</td>\n",
       "      <td>0.046907</td>\n",
       "      <td>0.035607</td>\n",
       "      <td>0.207985</td>\n",
       "      <td>0.176137</td>\n",
       "      <td>-0.054771</td>\n",
       "      <td>4.335738e-16</td>\n",
       "    </tr>\n",
       "    <tr>\n",
       "      <th>4435</th>\n",
       "      <td>-1.293491</td>\n",
       "      <td>0.402258</td>\n",
       "      <td>-0.512429</td>\n",
       "      <td>-0.655217</td>\n",
       "      <td>0.013515</td>\n",
       "      <td>0.163778</td>\n",
       "      <td>-0.027390</td>\n",
       "      <td>0.257353</td>\n",
       "      <td>-0.042891</td>\n",
       "      <td>-0.014225</td>\n",
       "      <td>-0.146783</td>\n",
       "      <td>-0.045700</td>\n",
       "      <td>8.931942e-16</td>\n",
       "    </tr>\n",
       "    <tr>\n",
       "      <th>4547</th>\n",
       "      <td>-2.035409</td>\n",
       "      <td>-0.514153</td>\n",
       "      <td>-0.342645</td>\n",
       "      <td>-1.034824</td>\n",
       "      <td>1.376925</td>\n",
       "      <td>0.281676</td>\n",
       "      <td>0.044618</td>\n",
       "      <td>0.221678</td>\n",
       "      <td>-0.124530</td>\n",
       "      <td>0.265368</td>\n",
       "      <td>-0.040776</td>\n",
       "      <td>-0.103453</td>\n",
       "      <td>-1.004071e-16</td>\n",
       "    </tr>\n",
       "    <tr>\n",
       "      <th>4637</th>\n",
       "      <td>-0.076916</td>\n",
       "      <td>2.178017</td>\n",
       "      <td>-2.249932</td>\n",
       "      <td>-1.735472</td>\n",
       "      <td>2.375000</td>\n",
       "      <td>0.435027</td>\n",
       "      <td>0.288497</td>\n",
       "      <td>0.016429</td>\n",
       "      <td>0.129152</td>\n",
       "      <td>0.039637</td>\n",
       "      <td>0.029159</td>\n",
       "      <td>-0.182146</td>\n",
       "      <td>1.081528e-15</td>\n",
       "    </tr>\n",
       "    <tr>\n",
       "      <th>4640</th>\n",
       "      <td>-2.208688</td>\n",
       "      <td>-0.586982</td>\n",
       "      <td>-1.100264</td>\n",
       "      <td>-0.277018</td>\n",
       "      <td>-0.550252</td>\n",
       "      <td>0.328155</td>\n",
       "      <td>-0.290154</td>\n",
       "      <td>0.726674</td>\n",
       "      <td>-0.115287</td>\n",
       "      <td>0.417823</td>\n",
       "      <td>0.205438</td>\n",
       "      <td>-0.185769</td>\n",
       "      <td>3.453282e-16</td>\n",
       "    </tr>\n",
       "  </tbody>\n",
       "</table>\n",
       "</div>"
      ],
      "text/plain": [
       "          PC01      PC02      PC03      PC04      PC05      PC06      PC07  \\\n",
       "287   2.023179 -1.631951 -0.045546  0.410599 -0.723310  0.148865 -0.844686   \n",
       "693   1.339837 -0.613449  0.054702  1.553010  0.416966 -0.128732 -0.665985   \n",
       "719   0.732949 -0.144117  1.271032  0.490136 -0.767232  0.551470 -0.974184   \n",
       "736   0.817752 -1.129235 -0.710986  1.004385  0.016985  0.048206 -0.102495   \n",
       "1006  3.505137  0.582321  0.177569 -1.453389 -0.331755 -0.018903 -0.757241   \n",
       "1081  0.382417 -1.129547  0.551928 -1.541311 -0.230208  0.207610  0.813403   \n",
       "1482 -0.327999  0.024740  0.376622  0.668230  0.453877 -0.487020  0.129249   \n",
       "1507  1.023100 -0.837424 -0.343502  1.486691 -1.649948 -0.252339 -0.129684   \n",
       "1510  0.891398 -1.559629 -1.110514  0.509039 -0.802894 -0.335536 -0.230477   \n",
       "1718  0.077326 -0.251384  0.805157  0.488302 -1.108366 -0.239162 -0.555995   \n",
       "2023  0.166631 -0.238794  1.277729 -0.949626 -0.435029 -1.470373 -0.153782   \n",
       "2034  0.566873 -1.082326 -0.469003 -0.240303 -0.088329 -1.653337 -0.435632   \n",
       "2080  1.086805 -1.009710 -0.681733  1.038776 -1.100111 -1.170955  0.832428   \n",
       "2125  0.715970 -1.389399 -0.824180  1.128035 -0.117890  0.736074 -0.099106   \n",
       "2153 -0.267978 -1.005347  0.859886 -1.617615 -0.069253  1.199987 -0.228860   \n",
       "2159  0.869294 -1.437509 -0.908395  0.826559  0.363539  0.182853 -0.129541   \n",
       "2241  0.527868 -0.238024  0.274192 -0.742310  1.265957 -0.172360 -0.083731   \n",
       "2295  0.108192 -1.083389  0.360150 -0.831064 -0.692969  0.196096 -0.241348   \n",
       "2326 -0.368998 -0.411564 -0.017535  0.447423 -0.169485 -0.316523  0.048031   \n",
       "2373  4.346146  0.687696 -0.760040 -0.743301  1.682823 -0.941444 -0.533616   \n",
       "2383  0.908562 -1.320903  0.446708 -0.967783 -0.261479 -0.085755 -0.836118   \n",
       "2395  0.535994 -1.341587 -1.287981  0.711235  0.315900 -0.305350  0.291068   \n",
       "2474 -0.797532 -0.172677  0.977792 -0.456189 -0.044923  0.427967 -0.184603   \n",
       "2523  0.840221 -0.098561  0.300962 -0.029346 -0.880565 -0.701508  0.782923   \n",
       "2596 -0.563711 -0.388745  0.602705  0.351711  0.570281  1.213142 -0.043275   \n",
       "2697  0.189030  0.920977 -0.749557 -0.274466 -0.698930 -1.480353 -0.061621   \n",
       "2721 -0.759257  0.287725  0.573288  0.853183  1.595937  0.051227  0.313561   \n",
       "2963 -0.825990 -0.347620 -0.239300  0.227744 -0.398080 -0.661377 -0.116592   \n",
       "3019  0.666940  2.528310 -1.120641 -0.662347  1.348170  0.146372  0.187281   \n",
       "3174 -1.226552  0.357106  0.894502  0.045108  0.549229 -0.595327  0.105644   \n",
       "3219 -0.803176 -0.885150 -0.032766 -0.772450 -0.579962  0.030087 -0.112472   \n",
       "3260 -0.706123  1.014366 -0.512160 -0.108301 -1.133185 -0.449487 -0.116304   \n",
       "3263 -1.530977  0.684746  0.679589  1.073518  0.007913 -0.137794 -0.346406   \n",
       "3288 -0.477898  2.177684 -0.030456  0.972289 -0.925365  0.538607 -0.432965   \n",
       "3297  0.002249 -1.406784 -1.133553  0.334939 -0.587222 -0.015533  0.248680   \n",
       "3298  1.032331  1.928335 -0.534522 -1.500067 -1.029500 -0.737954  0.049163   \n",
       "3409 -1.354803  0.113338  0.188135  0.433879 -0.831406 -0.750587 -0.344966   \n",
       "3460  1.691826 -2.018897 -0.410640  0.280342  1.509597  1.030720 -0.411957   \n",
       "3517 -0.301228 -1.310380 -1.840786  1.231784 -0.005263 -0.102005 -0.247816   \n",
       "3540  0.066094  1.204091 -1.250221 -1.085290 -0.447866 -0.567858 -0.595350   \n",
       "3561 -1.014148 -0.929194 -0.041964 -1.186701 -0.011696  0.368808 -0.113271   \n",
       "3567  0.234583  0.096300 -0.081001 -0.765586 -0.289556  0.504436 -0.131164   \n",
       "3722 -1.030246 -1.175622 -0.805807 -0.802999 -0.115864 -0.196763 -0.527420   \n",
       "3723 -1.400594 -0.115087 -0.057047  0.304753 -0.703566 -0.526196 -0.327150   \n",
       "3725 -1.280387 -0.579489 -0.274182 -1.070996  0.354128 -0.794989  0.185590   \n",
       "3778 -1.110933 -0.924572  0.160235 -0.121436 -0.087345  2.073363  0.042266   \n",
       "3783 -0.182189 -1.221073 -1.509568  1.567916 -0.461166  0.333902 -0.148428   \n",
       "3931 -1.752769  0.003267 -0.264222  0.563422 -0.881360 -0.083631 -0.189639   \n",
       "4067 -1.500678 -0.183436 -0.326389  0.226002  1.047041 -0.045235  0.446811   \n",
       "4183 -1.941972  0.154091  0.331805  0.125305  0.171694  0.195933 -0.389460   \n",
       "4254 -0.564419 -1.333533 -2.029510  1.344470 -0.005997  0.075709 -0.118227   \n",
       "4313 -0.127915  2.143862 -1.890420 -0.811308  1.142067  0.383858  0.455854   \n",
       "4435 -1.293491  0.402258 -0.512429 -0.655217  0.013515  0.163778 -0.027390   \n",
       "4547 -2.035409 -0.514153 -0.342645 -1.034824  1.376925  0.281676  0.044618   \n",
       "4637 -0.076916  2.178017 -2.249932 -1.735472  2.375000  0.435027  0.288497   \n",
       "4640 -2.208688 -0.586982 -1.100264 -0.277018 -0.550252  0.328155 -0.290154   \n",
       "\n",
       "          PC08      PC09      PC10      PC11      PC12          PC13  \n",
       "287   0.509066 -0.227443 -0.032340 -0.086642  0.053270 -6.039554e-17  \n",
       "693  -1.051673 -0.280873 -0.032920  0.134035 -0.017620 -1.499875e-16  \n",
       "719   0.068468 -0.433922  1.216093  0.120821  0.035605  4.243792e-16  \n",
       "736  -0.759342  0.760899 -0.011096 -0.014796  0.056565 -4.978209e-16  \n",
       "1006 -0.416307 -0.442460  0.468881  0.121082 -0.149531  5.740144e-16  \n",
       "1081 -0.759604  0.297312 -0.030250  0.003533  0.063080 -3.473610e-16  \n",
       "1482  0.231292 -0.235248  0.088282  0.061787  0.047153  1.928436e-16  \n",
       "1507  0.463226 -0.117886 -0.032136  0.052569 -0.006985  5.499858e-16  \n",
       "1510 -0.296438 -0.130671 -0.057953 -0.007067  0.049603 -5.864376e-16  \n",
       "1718 -0.079460 -0.223437 -0.118457 -0.055716  0.042909 -2.586587e-16  \n",
       "2023  0.423597 -0.279859 -0.166658 -0.183895  0.023579  2.551618e-16  \n",
       "2034  0.080208  0.891703  0.071762 -0.251444  0.036424  3.078133e-16  \n",
       "2080  0.566028 -0.379867 -0.185027 -0.130215 -0.039423  8.815968e-17  \n",
       "2125 -0.124242  0.077668 -0.234721 -0.052154 -0.004200 -3.469069e-17  \n",
       "2153  0.211031 -0.349414  0.554971 -0.000141  0.079949  5.126979e-16  \n",
       "2159 -0.336258 -0.168748  0.169484 -0.097987 -0.048763 -3.315318e-16  \n",
       "2241 -0.025173 -0.216382  0.080141 -0.172953  0.028185  2.547526e-16  \n",
       "2295 -0.724632  0.069100 -0.372970  0.053538 -0.040954 -4.055513e-16  \n",
       "2326 -0.063719 -0.052231 -0.257099  0.068119  0.006941 -2.129885e-16  \n",
       "2373 -0.588114 -0.205963  0.328102 -0.020386 -0.314087 -1.676197e-16  \n",
       "2383 -0.009118  0.607265  0.409222 -0.107905 -0.080250  2.421885e-16  \n",
       "2395 -0.209371  0.124105  0.087938  0.075982 -0.090259 -2.974244e-16  \n",
       "2474  1.048977 -0.072242 -0.113621  0.062736  0.061734  8.188043e-16  \n",
       "2523 -0.244593 -0.341674  0.306401 -0.386442 -0.056506  1.040970e-16  \n",
       "2596 -0.070984 -0.411800 -0.096350 -0.025759  0.033315  1.785008e-16  \n",
       "2697  0.386299  0.436494  0.226730  0.014418  0.012676  2.403300e-16  \n",
       "2721  0.041509 -0.210962 -0.130672  0.049583  0.001673  3.704578e-16  \n",
       "2963  0.296350  0.111614 -0.136040  0.075357  0.022033  6.937569e-17  \n",
       "3019 -0.051075  0.019847 -0.084862  0.121568  0.007954  7.039103e-16  \n",
       "3174  0.109873  0.437272  0.028941 -0.111772 -0.035725  4.819149e-16  \n",
       "3219  0.166514 -0.191876 -0.166801 -0.106971  0.063194  3.750654e-17  \n",
       "3260  0.239539  0.363618  0.781114  0.023912  0.035166  5.004327e-16  \n",
       "3263  0.394981  0.341086  0.062358  0.021669  0.056774  2.521618e-16  \n",
       "3288 -0.353705  0.298522  0.111749 -0.044888  0.039922 -9.135564e-17  \n",
       "3297  0.112046  0.530706 -0.216822 -0.075732 -0.057257 -2.600161e-16  \n",
       "3298  0.258558 -0.336178 -0.323302 -0.026790 -0.066001 -6.253397e-17  \n",
       "3409 -0.207050  0.234548 -0.057678 -0.007750 -0.019155  5.410733e-17  \n",
       "3460 -0.467982 -0.011300  0.311052 -0.370391 -0.221112 -9.081931e-17  \n",
       "3517 -0.040795  0.064692  0.046618 -0.139204  0.036121  6.167902e-16  \n",
       "3540  0.423453  0.362120  0.377254  0.045384  0.024065  4.536304e-16  \n",
       "3561 -0.109385  0.565557  0.082925  0.040779 -0.042866  5.707757e-18  \n",
       "3567  0.325983  0.342817 -0.068702 -0.312077 -0.050024 -2.338586e-16  \n",
       "3722 -0.098138  0.021787  0.132138 -0.181906  0.094923  6.618155e-16  \n",
       "3723 -0.068509 -0.051850 -0.121542 -0.000939 -0.024372  5.221366e-16  \n",
       "3725 -0.063524  0.196965  0.246422 -0.069081  0.004475  7.841940e-16  \n",
       "3778 -0.040729  0.172264 -0.006700 -0.120879 -0.046541  3.800326e-16  \n",
       "3783  0.189900 -0.011078 -0.067864 -0.173815 -0.018442 -5.587889e-16  \n",
       "3931 -0.009152 -0.125696  0.166733  0.011586  0.066515  2.377500e-16  \n",
       "4067 -0.139276 -0.049501 -0.046011 -0.019857 -0.025855  3.280210e-16  \n",
       "4183  0.016553 -0.407068 -0.140653 -0.015034  0.029309  4.144110e-16  \n",
       "4254 -0.014149  0.094433  0.021336 -0.127004 -0.076726  3.970895e-16  \n",
       "4313  0.046907  0.035607  0.207985  0.176137 -0.054771  4.335738e-16  \n",
       "4435  0.257353 -0.042891 -0.014225 -0.146783 -0.045700  8.931942e-16  \n",
       "4547  0.221678 -0.124530  0.265368 -0.040776 -0.103453 -1.004071e-16  \n",
       "4637  0.016429  0.129152  0.039637  0.029159 -0.182146  1.081528e-15  \n",
       "4640  0.726674 -0.115287  0.417823  0.205438 -0.185769  3.453282e-16  "
      ]
     },
     "execution_count": 114,
     "metadata": {},
     "output_type": "execute_result"
    }
   ],
   "source": [
    "# Overview of samples that are outside search_radius\n",
    "mineralogy_pca_df.loc[samples_outside_critical_distance, :]"
   ]
  },
  {
   "cell_type": "markdown",
   "metadata": {},
   "source": [
    "____"
   ]
  },
  {
   "cell_type": "markdown",
   "metadata": {},
   "source": [
    "## Create high resolution grids\n",
    "____"
   ]
  },
  {
   "cell_type": "code",
   "execution_count": 22,
   "metadata": {},
   "outputs": [
    {
     "data": {
      "text/plain": [
       "array([[460733.4762430764, 2101992.14133941],\n",
       "       [(6525242.883059224,), 8284318.063633715]], dtype=object)"
      ]
     },
     "execution_count": 22,
     "metadata": {},
     "output_type": "execute_result"
    }
   ],
   "source": [
    "# Determine (wide) grid boundaries\n",
    "X = coordinates_utm.iloc[:, 0].values\n",
    "Xmin = np.min(X) - critical_distance * 1.05\n",
    "Xmax = np.max(X) + critical_distance * 1.05\n",
    "\n",
    "Y = coordinates_utm.iloc[:, 1].values\n",
    "Ymin = np.min(Y) - critical_distance * 1.05, \n",
    "Ymax = np.max(Y) + critical_distance * 1.05\n",
    "\n",
    "coordinates_boundaries = np.array([[Xmin, Xmax], [Ymin, Ymax]])\n",
    "coordinates_boundaries"
   ]
  },
  {
   "cell_type": "code",
   "execution_count": 23,
   "metadata": {},
   "outputs": [
    {
     "name": "stdout",
     "output_type": "stream",
     "text": [
      "x [460733.4762430764 2101992.14133941]\n",
      "y [(6525242.883059224,) 8284318.063633715]\n",
      "x range:  1641259\n",
      "y range:  1759076\n",
      "smallest dimension x\n",
      "theoretical x spacing:  5489.159415037905\n",
      "actual x spacing:  5489.159415037895\n",
      "actual y spacing:  5489.1594150383025\n",
      "Number of points:  97223\n",
      "xy grid:  301 323 \n",
      "\n"
     ]
    }
   ],
   "source": [
    "# Set approximate number of points along each axis\n",
    "n_points = 300\n",
    "\n",
    "temp = {}\n",
    "x, y = coordinates_boundaries\n",
    "\n",
    "temp[\"x_start (m)\"] = int(np.floor(x[0]))\n",
    "temp[\"x_end (m)\"] = int(np.floor(x[1]))\n",
    "temp[\"y_start (m)\"] = int(np.floor(y[0]))\n",
    "temp[\"y_end (m)\"] = int(np.floor(y[1]))\n",
    "\n",
    "print(\"x\", x)\n",
    "print(\"y\", y)\n",
    "\n",
    "temp[\"x_range (m)\"] = int(np.floor(x[1])) - int(np.floor(x[0]))\n",
    "temp[\"y_range (m)\"] = int(np.floor(y[1])) - int(np.floor(y[0]))\n",
    "print(\"x range: \", temp[\"x_range (m)\"])\n",
    "print(\"y range: \", temp[\"y_range (m)\"])\n",
    "\n",
    "ranges = {\"x\": temp[\"x_range (m)\"],\n",
    "          \"y\": temp[\"y_range (m)\"],\n",
    "         }\n",
    "\n",
    "threshold = 10000000\n",
    "for dimension, ranger in ranges.items():\n",
    "    if ranger < threshold:\n",
    "        smallest_dimension = dimension\n",
    "        threshold = ranger\n",
    "print(\"smallest dimension\", smallest_dimension)\n",
    "\n",
    "x_spacing, dx = np.linspace(x[0], x[1], n_points, retstep=True)\n",
    "y_spacing, dy = np.linspace(y[0], y[1], n_points, retstep=True)\n",
    "\n",
    "steps = {\"x\": dx,\n",
    "         \"y\": dy,\n",
    "        }\n",
    "\n",
    "print(\"theoretical x spacing: \", dx)\n",
    "\n",
    "xgrid = np.arange(x[0]-dx, x[1]+dx, steps[smallest_dimension])\n",
    "ygrid = np.arange(y[0]-dy, y[1]+dy, steps[smallest_dimension])\n",
    "\n",
    "print(\"actual x spacing: \", xgrid[1] - xgrid[0])\n",
    "print(\"actual y spacing: \", ygrid[1] - ygrid[0])\n",
    "\n",
    "temp[\"x_spacing (m)\"] = np.round(xgrid[1] - xgrid[0], 2)\n",
    "temp[\"y_spacing (m)\"] = np.round(ygrid[1] - ygrid[0], 2)\n",
    "\n",
    "print(\"Number of points: \", len(xgrid) * len(ygrid))\n",
    "print(\"xy grid: \", len(xgrid), len(ygrid), \"\\n\")\n",
    "\n",
    "temp[\"#xgrid_points\"] = len(xgrid)\n",
    "temp[\"#ygrid_points\"] = len(ygrid)\n",
    "temp[\"#total_grid_nodes\"] = len(xgrid) * len(ygrid)\n",
    "\n",
    "coordinates_grids = [xgrid, ygrid]\n",
    "coordinates_grids_details = temp\n",
    "\n",
    "# Assigned to a different variable (name) because later on 'grid' gets used in the code\n",
    "grid = coordinates_grids"
   ]
  },
  {
   "cell_type": "markdown",
   "metadata": {},
   "source": [
    "## Classification map\n",
    "___"
   ]
  },
  {
   "cell_type": "markdown",
   "metadata": {},
   "source": [
    "We will have to decide on a certain classification scheme before we could use this.  \n",
    "Another option might be to use a condensed version of the 'type_granite' column."
   ]
  },
  {
   "cell_type": "markdown",
   "metadata": {},
   "source": [
    "**Yep**"
   ]
  },
  {
   "cell_type": "markdown",
   "metadata": {},
   "source": [
    "## Detrending\n",
    "____"
   ]
  },
  {
   "cell_type": "code",
   "execution_count": 24,
   "metadata": {},
   "outputs": [
    {
     "name": "stdout",
     "output_type": "stream",
     "text": [
      "R² for PC01 order = 1 :\n"
     ]
    },
    {
     "data": {
      "text/plain": [
       "0.06821376760383502"
      ]
     },
     "execution_count": 24,
     "metadata": {},
     "output_type": "execute_result"
    },
    {
     "name": "stdout",
     "output_type": "stream",
     "text": [
      "R² for PC01 order = 2 :\n"
     ]
    },
    {
     "data": {
      "text/plain": [
       "0.0771636484295033"
      ]
     },
     "execution_count": 24,
     "metadata": {},
     "output_type": "execute_result"
    },
    {
     "name": "stdout",
     "output_type": "stream",
     "text": [
      "R² for PC02 order = 1 :\n"
     ]
    },
    {
     "data": {
      "text/plain": [
       "0.13751318266641355"
      ]
     },
     "execution_count": 24,
     "metadata": {},
     "output_type": "execute_result"
    },
    {
     "name": "stdout",
     "output_type": "stream",
     "text": [
      "R² for PC02 order = 2 :\n"
     ]
    },
    {
     "data": {
      "text/plain": [
       "0.14350565899959822"
      ]
     },
     "execution_count": 24,
     "metadata": {},
     "output_type": "execute_result"
    },
    {
     "name": "stdout",
     "output_type": "stream",
     "text": [
      "R² for PC03 order = 1 :\n"
     ]
    },
    {
     "data": {
      "text/plain": [
       "0.030249997159371378"
      ]
     },
     "execution_count": 24,
     "metadata": {},
     "output_type": "execute_result"
    },
    {
     "name": "stdout",
     "output_type": "stream",
     "text": [
      "R² for PC03 order = 2 :\n"
     ]
    },
    {
     "data": {
      "text/plain": [
       "0.03169333728148194"
      ]
     },
     "execution_count": 24,
     "metadata": {},
     "output_type": "execute_result"
    },
    {
     "name": "stdout",
     "output_type": "stream",
     "text": [
      "R² for PC04 order = 1 :\n"
     ]
    },
    {
     "data": {
      "text/plain": [
       "0.052663806768355026"
      ]
     },
     "execution_count": 24,
     "metadata": {},
     "output_type": "execute_result"
    },
    {
     "name": "stdout",
     "output_type": "stream",
     "text": [
      "R² for PC04 order = 2 :\n"
     ]
    },
    {
     "data": {
      "text/plain": [
       "0.0528500807360226"
      ]
     },
     "execution_count": 24,
     "metadata": {},
     "output_type": "execute_result"
    },
    {
     "name": "stdout",
     "output_type": "stream",
     "text": [
      "R² for PC05 order = 1 :\n"
     ]
    },
    {
     "data": {
      "text/plain": [
       "0.0015471244171509912"
      ]
     },
     "execution_count": 24,
     "metadata": {},
     "output_type": "execute_result"
    },
    {
     "name": "stdout",
     "output_type": "stream",
     "text": [
      "R² for PC05 order = 2 :\n"
     ]
    },
    {
     "data": {
      "text/plain": [
       "0.005576769512666502"
      ]
     },
     "execution_count": 24,
     "metadata": {},
     "output_type": "execute_result"
    },
    {
     "name": "stdout",
     "output_type": "stream",
     "text": [
      "R² for PC06 order = 1 :\n"
     ]
    },
    {
     "data": {
      "text/plain": [
       "0.014393829576929695"
      ]
     },
     "execution_count": 24,
     "metadata": {},
     "output_type": "execute_result"
    },
    {
     "name": "stdout",
     "output_type": "stream",
     "text": [
      "R² for PC06 order = 2 :\n"
     ]
    },
    {
     "data": {
      "text/plain": [
       "0.02224297134643438"
      ]
     },
     "execution_count": 24,
     "metadata": {},
     "output_type": "execute_result"
    },
    {
     "name": "stdout",
     "output_type": "stream",
     "text": [
      "R² for PC07 order = 1 :\n"
     ]
    },
    {
     "data": {
      "text/plain": [
       "0.0008392560107092217"
      ]
     },
     "execution_count": 24,
     "metadata": {},
     "output_type": "execute_result"
    },
    {
     "name": "stdout",
     "output_type": "stream",
     "text": [
      "R² for PC07 order = 2 :\n"
     ]
    },
    {
     "data": {
      "text/plain": [
       "0.0011227986667855516"
      ]
     },
     "execution_count": 24,
     "metadata": {},
     "output_type": "execute_result"
    },
    {
     "name": "stdout",
     "output_type": "stream",
     "text": [
      "R² for PC08 order = 1 :\n"
     ]
    },
    {
     "data": {
      "text/plain": [
       "0.0012339335273389151"
      ]
     },
     "execution_count": 24,
     "metadata": {},
     "output_type": "execute_result"
    },
    {
     "name": "stdout",
     "output_type": "stream",
     "text": [
      "R² for PC08 order = 2 :\n"
     ]
    },
    {
     "data": {
      "text/plain": [
       "0.010511911722694056"
      ]
     },
     "execution_count": 24,
     "metadata": {},
     "output_type": "execute_result"
    },
    {
     "name": "stdout",
     "output_type": "stream",
     "text": [
      "R² for PC09 order = 1 :\n"
     ]
    },
    {
     "data": {
      "text/plain": [
       "0.0007911239906036593"
      ]
     },
     "execution_count": 24,
     "metadata": {},
     "output_type": "execute_result"
    },
    {
     "name": "stdout",
     "output_type": "stream",
     "text": [
      "R² for PC09 order = 2 :\n"
     ]
    },
    {
     "data": {
      "text/plain": [
       "0.011299886860149266"
      ]
     },
     "execution_count": 24,
     "metadata": {},
     "output_type": "execute_result"
    },
    {
     "name": "stdout",
     "output_type": "stream",
     "text": [
      "R² for PC10 order = 1 :\n"
     ]
    },
    {
     "data": {
      "text/plain": [
       "0.010089178539265165"
      ]
     },
     "execution_count": 24,
     "metadata": {},
     "output_type": "execute_result"
    },
    {
     "name": "stdout",
     "output_type": "stream",
     "text": [
      "R² for PC10 order = 2 :\n"
     ]
    },
    {
     "data": {
      "text/plain": [
       "0.02182036523219333"
      ]
     },
     "execution_count": 24,
     "metadata": {},
     "output_type": "execute_result"
    },
    {
     "name": "stdout",
     "output_type": "stream",
     "text": [
      "R² for PC11 order = 1 :\n"
     ]
    },
    {
     "data": {
      "text/plain": [
       "0.0033076943175098794"
      ]
     },
     "execution_count": 24,
     "metadata": {},
     "output_type": "execute_result"
    },
    {
     "name": "stdout",
     "output_type": "stream",
     "text": [
      "R² for PC11 order = 2 :\n"
     ]
    },
    {
     "data": {
      "text/plain": [
       "0.02771764891099493"
      ]
     },
     "execution_count": 24,
     "metadata": {},
     "output_type": "execute_result"
    },
    {
     "name": "stdout",
     "output_type": "stream",
     "text": [
      "R² for PC12 order = 1 :\n"
     ]
    },
    {
     "data": {
      "text/plain": [
       "0.00973906974592964"
      ]
     },
     "execution_count": 24,
     "metadata": {},
     "output_type": "execute_result"
    },
    {
     "name": "stdout",
     "output_type": "stream",
     "text": [
      "R² for PC12 order = 2 :\n"
     ]
    },
    {
     "data": {
      "text/plain": [
       "0.016586305553799252"
      ]
     },
     "execution_count": 24,
     "metadata": {},
     "output_type": "execute_result"
    }
   ],
   "source": [
    "# Check if there is a trend present in the data\n",
    "# This is the case if R² is above say 0.70 \n",
    "\n",
    "for component in mineralogy_pca_df.columns.tolist()[:-1]:\n",
    "    for order in [1, 2]:\n",
    "        print(\"R² for\", component, \"order =\", order, \":\")\n",
    "        detrending.detrend(coordinates_utm, \n",
    "                           mineralogy_pca_df[component], \n",
    "                           order=order, \n",
    "                           verbose=False, \n",
    "                           plot_points=False)[1]"
   ]
  },
  {
   "cell_type": "markdown",
   "metadata": {},
   "source": [
    "## Variogram modelling\n",
    "___"
   ]
  },
  {
   "cell_type": "markdown",
   "metadata": {},
   "source": [
    "* Variogram model (str)\n",
    "* Sill (float)\n",
    "* Range (float)\n",
    "* Nugget (float)\n",
    "* Number of lag bins (int)\n",
    "* Weighted (Bool)"
   ]
  },
  {
   "cell_type": "code",
   "execution_count": 25,
   "metadata": {},
   "outputs": [],
   "source": [
    "# Nugget (variance at lag=0 metric)\n",
    "\n",
    "# Since we are not dealing with point count data here,\n",
    "# we can not use the formulas from our paper we have talked about\n",
    "# Therefore I would just start with nugget=0 and perhaps later change this\n",
    "\n",
    "# Depending on how many principal components you will use, \n",
    "# you will have to add more entries to this list.\n",
    "nugget_ = [0.872, 0.648, 0.426, 0.525, 0.328, 0.301, 0.132, 0.117, 0.0715, 0., 0., 0., 0., 0., 0.]"
   ]
  },
  {
   "cell_type": "code",
   "execution_count": 26,
   "metadata": {},
   "outputs": [
    {
     "data": {
      "text/plain": [
       "['01', '02', '03', '04', '05', '06', '07', '08', '09', '10', '11', '12', '13']"
      ]
     },
     "execution_count": 26,
     "metadata": {},
     "output_type": "execute_result"
    }
   ],
   "source": [
    "PC_nr_list = [nr[2:] for nr in mineralogy_pca_df.columns]\n",
    "PC_nr_list"
   ]
  },
  {
   "cell_type": "code",
   "execution_count": 27,
   "metadata": {},
   "outputs": [],
   "source": [
    "# Sill (total variance metric)\n",
    "\n",
    "# A 'list comprehension' construction is used here\n",
    "sill_ = [mineralogy_pca_df.loc[:, f\"PC{i}\"].values.var(ddof=1) \n",
    "         for i in PC_nr_list]"
   ]
  },
  {
   "cell_type": "code",
   "execution_count": 28,
   "metadata": {},
   "outputs": [],
   "source": [
    "# Variogram model parameters dictionary\n",
    "\n",
    "variogram_model_parameters = {}\n",
    "\n",
    "for i, PC in enumerate(mineralogy_pca_df.columns):\n",
    "    parameters = {}\n",
    "    parameters[\"sill\"] = sill_[i]\n",
    "    parameters[\"range\"] = range_[i]\n",
    "    parameters[\"nugget\"] = nugget_[i]\n",
    "        \n",
    "    variogram_model_parameters[PC] = parameters"
   ]
  },
  {
   "cell_type": "code",
   "execution_count": 29,
   "metadata": {},
   "outputs": [],
   "source": [
    "# Variogram model\n",
    "\n",
    "# You can choose between [\"exponential\", \"linear\", \"spherical\", \"power\", \"gaussian\"]\n",
    "# see https://pykrige.readthedocs.io/en/latest/variogram_models.html for equations\n",
    "variogram_model = \"exponential\""
   ]
  },
  {
   "cell_type": "code",
   "execution_count": 30,
   "metadata": {},
   "outputs": [
    {
     "data": {
      "text/plain": [
       "34"
      ]
     },
     "execution_count": 30,
     "metadata": {},
     "output_type": "execute_result"
    }
   ],
   "source": [
    "# Number of lag bins\n",
    "\n",
    "n_lags = int(np.floor(np.sqrt(coordinates_utm.shape[0])))\n",
    "n_lags"
   ]
  },
  {
   "cell_type": "code",
   "execution_count": 31,
   "metadata": {},
   "outputs": [],
   "source": [
    "# Set utm coordinates to use in variogram\n",
    "\n",
    "X = coordinates_utm.iloc[:, 0].values\n",
    "Y = coordinates_utm.iloc[:, 1].values"
   ]
  },
  {
   "cell_type": "code",
   "execution_count": 32,
   "metadata": {},
   "outputs": [
    {
     "name": "stdout",
     "output_type": "stream",
     "text": [
      "PC01\n",
      "Plotting Enabled\n",
      "\n",
      "Adjusting data for anisotropy...\n",
      "Initializing variogram model...\n",
      "Coordinates type: 'euclidean' \n",
      "\n",
      "Using 'exponential' Variogram Model\n",
      "Partial Sill: 0.8716258994644103\n",
      "Full Sill: 1.7436258994644103\n",
      "Range: 130000\n",
      "Nugget: 0.872 \n",
      "\n"
     ]
    },
    {
     "data": {
      "image/png": "[encoded data removed]",
      "text/plain": [
       "<Figure size 432x288 with 1 Axes>"
      ]
     },
     "metadata": {
      "needs_background": "light"
     },
     "output_type": "display_data"
    },
    {
     "name": "stdout",
     "output_type": "stream",
     "text": [
      "Calculating statistics on variogram model fit...\n",
      "PC02\n",
      "Plotting Enabled\n",
      "\n",
      "Adjusting data for anisotropy...\n",
      "Initializing variogram model...\n",
      "Coordinates type: 'euclidean' \n",
      "\n",
      "Using 'exponential' Variogram Model\n",
      "Partial Sill: 0.6472462898748822\n",
      "Full Sill: 1.2952462898748822\n",
      "Range: 130000\n",
      "Nugget: 0.648 \n",
      "\n"
     ]
    },
    {
     "data": {
      "image/png": "[encoded data removed]",
      "text/plain": [
       "<Figure size 432x288 with 1 Axes>"
      ]
     },
     "metadata": {
      "needs_background": "light"
     },
     "output_type": "display_data"
    },
    {
     "name": "stdout",
     "output_type": "stream",
     "text": [
      "Calculating statistics on variogram model fit...\n",
      "PC03\n",
      "Plotting Enabled\n",
      "\n",
      "Adjusting data for anisotropy...\n",
      "Initializing variogram model...\n",
      "Coordinates type: 'euclidean' \n",
      "\n",
      "Using 'exponential' Variogram Model\n",
      "Partial Sill: 0.639904633535217\n",
      "Full Sill: 1.065904633535217\n",
      "Range: 130000\n",
      "Nugget: 0.426 \n",
      "\n"
     ]
    },
    {
     "data": {
      "image/png": "[encoded data removed]",
      "text/plain": [
       "<Figure size 432x288 with 1 Axes>"
      ]
     },
     "metadata": {
      "needs_background": "light"
     },
     "output_type": "display_data"
    },
    {
     "name": "stdout",
     "output_type": "stream",
     "text": [
      "Calculating statistics on variogram model fit...\n",
      "PC04\n",
      "Plotting Enabled\n",
      "\n",
      "Adjusting data for anisotropy...\n",
      "Initializing variogram model...\n",
      "Coordinates type: 'euclidean' \n",
      "\n",
      "Using 'exponential' Variogram Model\n",
      "Partial Sill: 0.22518967404952472\n",
      "Full Sill: 0.7501896740495247\n",
      "Range: 130000\n",
      "Nugget: 0.525 \n",
      "\n"
     ]
    },
    {
     "data": {
      "image/png": "[encoded data removed]",
      "text/plain": [
       "<Figure size 432x288 with 1 Axes>"
      ]
     },
     "metadata": {
      "needs_background": "light"
     },
     "output_type": "display_data"
    },
    {
     "name": "stdout",
     "output_type": "stream",
     "text": [
      "Calculating statistics on variogram model fit...\n",
      "PC05\n",
      "Plotting Enabled\n",
      "\n",
      "Adjusting data for anisotropy...\n",
      "Initializing variogram model...\n",
      "Coordinates type: 'euclidean' \n",
      "\n",
      "Using 'exponential' Variogram Model\n",
      "Partial Sill: 0.1407548091041691\n",
      "Full Sill: 0.4687548091041691\n",
      "Range: 130000\n",
      "Nugget: 0.328 \n",
      "\n"
     ]
    },
    {
     "data": {
      "image/png": "[encoded data removed]",
      "text/plain": [
       "<Figure size 432x288 with 1 Axes>"
      ]
     },
     "metadata": {
      "needs_background": "light"
     },
     "output_type": "display_data"
    },
    {
     "name": "stdout",
     "output_type": "stream",
     "text": [
      "Calculating statistics on variogram model fit...\n",
      "PC06\n",
      "Plotting Enabled\n",
      "\n",
      "Adjusting data for anisotropy...\n",
      "Initializing variogram model...\n",
      "Coordinates type: 'euclidean' \n",
      "\n",
      "Using 'exponential' Variogram Model\n",
      "Partial Sill: 0.03309054424836916\n",
      "Full Sill: 0.33409054424836915\n",
      "Range: 130000\n",
      "Nugget: 0.301 \n",
      "\n"
     ]
    },
    {
     "data": {
      "image/png": "[encoded data removed]",
      "text/plain": [
       "<Figure size 432x288 with 1 Axes>"
      ]
     },
     "metadata": {
      "needs_background": "light"
     },
     "output_type": "display_data"
    },
    {
     "name": "stdout",
     "output_type": "stream",
     "text": [
      "Calculating statistics on variogram model fit...\n",
      "PC07\n",
      "Plotting Enabled\n",
      "\n",
      "Adjusting data for anisotropy...\n",
      "Initializing variogram model...\n",
      "Coordinates type: 'euclidean' \n",
      "\n",
      "Using 'exponential' Variogram Model\n",
      "Partial Sill: 0.087305882006533\n",
      "Full Sill: 0.219305882006533\n",
      "Range: 130000\n",
      "Nugget: 0.132 \n",
      "\n"
     ]
    },
    {
     "data": {
      "image/png": "[encoded data removed]",
      "text/plain": [
       "<Figure size 432x288 with 1 Axes>"
      ]
     },
     "metadata": {
      "needs_background": "light"
     },
     "output_type": "display_data"
    },
    {
     "name": "stdout",
     "output_type": "stream",
     "text": [
      "Calculating statistics on variogram model fit...\n",
      "PC08\n",
      "Plotting Enabled\n",
      "\n",
      "Adjusting data for anisotropy...\n",
      "Initializing variogram model...\n",
      "Coordinates type: 'euclidean' \n",
      "\n",
      "Using 'exponential' Variogram Model\n",
      "Partial Sill: 0.050691699430289686\n",
      "Full Sill: 0.1676916994302897\n",
      "Range: 130000\n",
      "Nugget: 0.117 \n",
      "\n"
     ]
    },
    {
     "data": {
      "image/png": "[encoded data removed]",
      "text/plain": [
       "<Figure size 432x288 with 1 Axes>"
      ]
     },
     "metadata": {
      "needs_background": "light"
     },
     "output_type": "display_data"
    },
    {
     "name": "stdout",
     "output_type": "stream",
     "text": [
      "Calculating statistics on variogram model fit...\n",
      "PC09\n",
      "Plotting Enabled\n",
      "\n",
      "Adjusting data for anisotropy...\n",
      "Initializing variogram model...\n",
      "Coordinates type: 'euclidean' \n",
      "\n",
      "Using 'exponential' Variogram Model\n",
      "Partial Sill: 0.07154099823624031\n",
      "Full Sill: 0.1430409982362403\n",
      "Range: 130000\n",
      "Nugget: 0.0715 \n",
      "\n"
     ]
    },
    {
     "data": {
      "image/png": "[encoded data removed]",
      "text/plain": [
       "<Figure size 432x288 with 1 Axes>"
      ]
     },
     "metadata": {
      "needs_background": "light"
     },
     "output_type": "display_data"
    },
    {
     "name": "stdout",
     "output_type": "stream",
     "text": [
      "Calculating statistics on variogram model fit...\n",
      "PC10\n",
      "Plotting Enabled\n",
      "\n",
      "Adjusting data for anisotropy...\n",
      "Initializing variogram model...\n",
      "Coordinates type: 'euclidean' \n",
      "\n",
      "Using 'exponential' Variogram Model\n",
      "Partial Sill: 0.05908493424998765\n",
      "Full Sill: 0.05908493424998765\n",
      "Range: 100000\n",
      "Nugget: 0.0 \n",
      "\n"
     ]
    },
    {
     "data": {
      "image/png": "[encoded data removed]",
      "text/plain": [
       "<Figure size 432x288 with 1 Axes>"
      ]
     },
     "metadata": {
      "needs_background": "light"
     },
     "output_type": "display_data"
    },
    {
     "name": "stdout",
     "output_type": "stream",
     "text": [
      "Calculating statistics on variogram model fit...\n",
      "PC11\n",
      "Plotting Enabled\n",
      "\n",
      "Adjusting data for anisotropy...\n",
      "Initializing variogram model...\n",
      "Coordinates type: 'euclidean' \n",
      "\n",
      "Using 'exponential' Variogram Model\n",
      "Partial Sill: 0.019942385441333622\n",
      "Full Sill: 0.019942385441333622\n",
      "Range: 100000\n",
      "Nugget: 0.0 \n",
      "\n"
     ]
    },
    {
     "data": {
      "image/png": "[encoded data removed]",
      "text/plain": [
       "<Figure size 432x288 with 1 Axes>"
      ]
     },
     "metadata": {
      "needs_background": "light"
     },
     "output_type": "display_data"
    },
    {
     "name": "stdout",
     "output_type": "stream",
     "text": [
      "Calculating statistics on variogram model fit...\n",
      "PC12\n",
      "Plotting Enabled\n",
      "\n",
      "Adjusting data for anisotropy...\n",
      "Initializing variogram model...\n",
      "Coordinates type: 'euclidean' \n",
      "\n",
      "Using 'exponential' Variogram Model\n",
      "Partial Sill: 0.004801137504239962\n",
      "Full Sill: 0.004801137504239962\n",
      "Range: 100000\n",
      "Nugget: 0.0 \n",
      "\n"
     ]
    },
    {
     "data": {
      "image/png": "[encoded data removed]",
      "text/plain": [
       "<Figure size 432x288 with 1 Axes>"
      ]
     },
     "metadata": {
      "needs_background": "light"
     },
     "output_type": "display_data"
    },
    {
     "name": "stdout",
     "output_type": "stream",
     "text": [
      "Calculating statistics on variogram model fit...\n",
      "Wall time: 8.35 s\n"
     ]
    }
   ],
   "source": [
    "%%time\n",
    "# Initialize empty dictionary\n",
    "variograms = {}\n",
    "\n",
    "# Loop though the diiferent principal components\n",
    "for component in mineralogy_pca_df.columns.tolist()[:-1]:\n",
    "    print(component)\n",
    "    # Subset principal component to use\n",
    "    data = mineralogy_pca_df.loc[:, component].values\n",
    "    variograms[component] = \\\n",
    "        OrdinaryKriging(X, Y, data,\n",
    "                        variogram_model='exponential',\n",
    "                        variogram_parameters=variogram_model_parameters[component],\n",
    "                        nlags=n_lags,\n",
    "                        verbose=True,\n",
    "                        enable_statistics=False,\n",
    "                        enable_plotting=True,\n",
    "                        weight=True,\n",
    "                        saveplot=True,\n",
    "                        coordinates_type='euclidean',\n",
    "                        saveloc=\"../_FIGURES/variograms/\",\n",
    "                        principal_component=component,\n",
    "                        pluton=group_name,\n",
    "                        show_nlag_pairs=False, # Turn off displaying number of lag pairs in lag bin\n",
    "                        show_range_determine_guide=True, # 0.95 * sill highlighted with blue line to help determining range\n",
    "                        range_estimate=150000) # Pass in value in meters to display a line at range estimate; set value to None to not display line\n",
    "    \n",
    "# NOTE that ideally Q1 is close to zero, Q2 is close to 1, and cR is as small as possible."
   ]
  },
  {
   "cell_type": "markdown",
   "metadata": {},
   "source": [
    "## Leave One Out Cross Validation (LOOCV) of PCA\n",
    "____"
   ]
  },
  {
   "cell_type": "code",
   "execution_count": 33,
   "metadata": {},
   "outputs": [],
   "source": [
    "# If you have run the cross validation before you can load the results by\n",
    "# running this cell and don't have to run the next cell anymore.\n",
    "CV_results = preproc.load_obj(\"CV_results_fast\")"
   ]
  },
  {
   "cell_type": "code",
   "execution_count": 34,
   "metadata": {},
   "outputs": [],
   "source": [
    "# Use this cross validation to check the hyper-parameters of your chosen variogram model \n",
    "# such as the search_radius, variogram_model, lag_bins etc.\n",
    "\n",
    "# Cross validation parameter dictionary to use\n",
    "# You can remove or add options here which will decrease or increase the number \n",
    "# of combinations of parameters the cross validation will run\n",
    "cv_param_dict = {}\n",
    "\n",
    "for component in mineralogy_pca_df.columns.tolist()[:-1]:\n",
    "    cv_param_dict[component] = {\"method\": [\"ordinary\"],\n",
    "                                \"variogram_model\": [\"exponential\", \"spherical\"],\n",
    "                                \"variogram_model_parameters\": [variogram_model_parameters[component]],\n",
    "                                \"nlags\": [n_lags],\n",
    "                                \"weight\": [True],\n",
    "                                \"n_closest_points\": [number_of_control_points],\n",
    "                                \"search_radius\": [range_[0]]\n",
    "                                }\n",
    "\n",
    "# The CV function below uses parallel processing to speed things up\n",
    "# Your CPU will thus reach 100% probably\n",
    "# To reduce the number of parallel processes to use you can change the following value\n",
    "# Defaults to -1 to use all available CPU cores; change to number between 1 and 8 e.g. \n",
    "# depending on how many cores your CPU has\n",
    "n_jobs = -1 "
   ]
  },
  {
   "cell_type": "code",
   "execution_count": 35,
   "metadata": {},
   "outputs": [
    {
     "name": "stdout",
     "output_type": "stream",
     "text": [
      "PC01\n",
      "Fitting 10 folds for each of 2 candidates, totalling 20 fits\n"
     ]
    },
    {
     "name": "stderr",
     "output_type": "stream",
     "text": [
      "[Parallel(n_jobs=-1)]: Using backend LokyBackend with 8 concurrent workers.\n",
      "[Parallel(n_jobs=-1)]: Done   2 tasks      | elapsed:    4.3s\n",
      "[Parallel(n_jobs=-1)]: Done  10 out of  20 | elapsed:    6.1s remaining:    6.1s\n",
      "[Parallel(n_jobs=-1)]: Done  15 out of  20 | elapsed:    6.5s remaining:    2.1s\n",
      "[Parallel(n_jobs=-1)]: Done  20 out of  20 | elapsed:    7.3s remaining:    0.0s\n",
      "[Parallel(n_jobs=-1)]: Done  20 out of  20 | elapsed:    7.3s finished\n",
      "C:\\Users\\Sebastian\\Anaconda3\\envs\\main\\lib\\site-packages\\sklearn\\model_selection\\_search.py:825: FutureWarning: The parameter 'iid' is deprecated in 0.22 and will be removed in 0.24.\n",
      "  \"removed in 0.24.\", FutureWarning\n"
     ]
    },
    {
     "name": "stdout",
     "output_type": "stream",
     "text": [
      "PC02\n",
      "Fitting 10 folds for each of 2 candidates, totalling 20 fits\n"
     ]
    },
    {
     "name": "stderr",
     "output_type": "stream",
     "text": [
      "[Parallel(n_jobs=-1)]: Using backend LokyBackend with 8 concurrent workers.\n",
      "[Parallel(n_jobs=-1)]: Done   2 tasks      | elapsed:    1.5s\n",
      "[Parallel(n_jobs=-1)]: Done  10 out of  20 | elapsed:    3.3s remaining:    3.3s\n",
      "[Parallel(n_jobs=-1)]: Done  15 out of  20 | elapsed:    3.6s remaining:    1.1s\n",
      "[Parallel(n_jobs=-1)]: Done  20 out of  20 | elapsed:    4.4s remaining:    0.0s\n",
      "[Parallel(n_jobs=-1)]: Done  20 out of  20 | elapsed:    4.4s finished\n"
     ]
    },
    {
     "name": "stdout",
     "output_type": "stream",
     "text": [
      "PC03\n",
      "Fitting 10 folds for each of 2 candidates, totalling 20 fits\n"
     ]
    },
    {
     "name": "stderr",
     "output_type": "stream",
     "text": [
      "[Parallel(n_jobs=-1)]: Using backend LokyBackend with 8 concurrent workers.\n",
      "[Parallel(n_jobs=-1)]: Done   2 tasks      | elapsed:    1.6s\n",
      "[Parallel(n_jobs=-1)]: Done  10 out of  20 | elapsed:    3.2s remaining:    3.2s\n",
      "[Parallel(n_jobs=-1)]: Done  15 out of  20 | elapsed:    3.5s remaining:    1.1s\n",
      "[Parallel(n_jobs=-1)]: Done  20 out of  20 | elapsed:    4.4s remaining:    0.0s\n",
      "[Parallel(n_jobs=-1)]: Done  20 out of  20 | elapsed:    4.4s finished\n"
     ]
    },
    {
     "name": "stdout",
     "output_type": "stream",
     "text": [
      "PC04\n",
      "Fitting 10 folds for each of 2 candidates, totalling 20 fits\n"
     ]
    },
    {
     "name": "stderr",
     "output_type": "stream",
     "text": [
      "[Parallel(n_jobs=-1)]: Using backend LokyBackend with 8 concurrent workers.\n",
      "[Parallel(n_jobs=-1)]: Done   2 tasks      | elapsed:    1.6s\n",
      "[Parallel(n_jobs=-1)]: Done  10 out of  20 | elapsed:    3.3s remaining:    3.3s\n",
      "[Parallel(n_jobs=-1)]: Done  15 out of  20 | elapsed:    3.5s remaining:    1.1s\n",
      "[Parallel(n_jobs=-1)]: Done  20 out of  20 | elapsed:    4.4s remaining:    0.0s\n",
      "[Parallel(n_jobs=-1)]: Done  20 out of  20 | elapsed:    4.4s finished\n"
     ]
    },
    {
     "name": "stdout",
     "output_type": "stream",
     "text": [
      "PC05\n",
      "Fitting 10 folds for each of 2 candidates, totalling 20 fits\n"
     ]
    },
    {
     "name": "stderr",
     "output_type": "stream",
     "text": [
      "[Parallel(n_jobs=-1)]: Using backend LokyBackend with 8 concurrent workers.\n",
      "[Parallel(n_jobs=-1)]: Done   2 tasks      | elapsed:    1.6s\n",
      "[Parallel(n_jobs=-1)]: Done  10 out of  20 | elapsed:    3.3s remaining:    3.3s\n",
      "[Parallel(n_jobs=-1)]: Done  15 out of  20 | elapsed:    3.6s remaining:    1.1s\n",
      "[Parallel(n_jobs=-1)]: Done  20 out of  20 | elapsed:    4.5s remaining:    0.0s\n",
      "[Parallel(n_jobs=-1)]: Done  20 out of  20 | elapsed:    4.5s finished\n"
     ]
    },
    {
     "name": "stdout",
     "output_type": "stream",
     "text": [
      "PC06\n",
      "Fitting 10 folds for each of 2 candidates, totalling 20 fits\n"
     ]
    },
    {
     "name": "stderr",
     "output_type": "stream",
     "text": [
      "[Parallel(n_jobs=-1)]: Using backend LokyBackend with 8 concurrent workers.\n",
      "[Parallel(n_jobs=-1)]: Done   2 tasks      | elapsed:    1.6s\n",
      "[Parallel(n_jobs=-1)]: Done  10 out of  20 | elapsed:    3.3s remaining:    3.3s\n",
      "[Parallel(n_jobs=-1)]: Done  15 out of  20 | elapsed:    3.5s remaining:    1.1s\n",
      "[Parallel(n_jobs=-1)]: Done  20 out of  20 | elapsed:    4.5s remaining:    0.0s\n",
      "[Parallel(n_jobs=-1)]: Done  20 out of  20 | elapsed:    4.5s finished\n"
     ]
    },
    {
     "name": "stdout",
     "output_type": "stream",
     "text": [
      "PC07\n",
      "Fitting 10 folds for each of 2 candidates, totalling 20 fits\n"
     ]
    },
    {
     "name": "stderr",
     "output_type": "stream",
     "text": [
      "[Parallel(n_jobs=-1)]: Using backend LokyBackend with 8 concurrent workers.\n",
      "[Parallel(n_jobs=-1)]: Done   2 tasks      | elapsed:    1.6s\n",
      "[Parallel(n_jobs=-1)]: Done  10 out of  20 | elapsed:    3.3s remaining:    3.3s\n",
      "[Parallel(n_jobs=-1)]: Done  15 out of  20 | elapsed:    3.7s remaining:    1.2s\n",
      "[Parallel(n_jobs=-1)]: Done  20 out of  20 | elapsed:    4.5s remaining:    0.0s\n",
      "[Parallel(n_jobs=-1)]: Done  20 out of  20 | elapsed:    4.5s finished\n"
     ]
    },
    {
     "name": "stdout",
     "output_type": "stream",
     "text": [
      "PC08\n",
      "Fitting 10 folds for each of 2 candidates, totalling 20 fits\n"
     ]
    },
    {
     "name": "stderr",
     "output_type": "stream",
     "text": [
      "[Parallel(n_jobs=-1)]: Using backend LokyBackend with 8 concurrent workers.\n",
      "[Parallel(n_jobs=-1)]: Done   2 tasks      | elapsed:    1.6s\n",
      "[Parallel(n_jobs=-1)]: Done  10 out of  20 | elapsed:    3.3s remaining:    3.3s\n",
      "[Parallel(n_jobs=-1)]: Done  15 out of  20 | elapsed:    3.6s remaining:    1.1s\n",
      "[Parallel(n_jobs=-1)]: Done  20 out of  20 | elapsed:    4.5s remaining:    0.0s\n",
      "[Parallel(n_jobs=-1)]: Done  20 out of  20 | elapsed:    4.5s finished\n"
     ]
    },
    {
     "name": "stdout",
     "output_type": "stream",
     "text": [
      "PC09\n",
      "Fitting 10 folds for each of 2 candidates, totalling 20 fits\n"
     ]
    },
    {
     "name": "stderr",
     "output_type": "stream",
     "text": [
      "[Parallel(n_jobs=-1)]: Using backend LokyBackend with 8 concurrent workers.\n",
      "[Parallel(n_jobs=-1)]: Done   2 tasks      | elapsed:    1.6s\n",
      "[Parallel(n_jobs=-1)]: Done  10 out of  20 | elapsed:    3.5s remaining:    3.5s\n",
      "[Parallel(n_jobs=-1)]: Done  15 out of  20 | elapsed:    3.6s remaining:    1.1s\n",
      "[Parallel(n_jobs=-1)]: Done  20 out of  20 | elapsed:    4.6s remaining:    0.0s\n",
      "[Parallel(n_jobs=-1)]: Done  20 out of  20 | elapsed:    4.6s finished\n"
     ]
    },
    {
     "name": "stdout",
     "output_type": "stream",
     "text": [
      "Wall time: 46.5 s\n"
     ]
    }
   ],
   "source": [
    "%%time\n",
    "# Run CV and get estimators (using default MSE scorer)\n",
    "\n",
    "# Instead of running the CV for all the PCs, let's start with only the first 3 \n",
    "# to get an idea of what are the best parameters to use for the first 3 PCs.\n",
    "# In a later step we can then obtain the best parameters for all PCs that have \n",
    "# a sensible variogram; here this would mean up to and including PC09.\n",
    "# To specify which PCs to use, you can pass them in as list to the 'components_to_use' variable\n",
    "\n",
    "# Another change I've made, is that instead of performing leave-one-out-CV \n",
    "# where the train set is equal to n_sample - 1 and the test set is equal to 1,\n",
    "# it makes sense to here use a different strategy, since you're dealing with many more samples.\n",
    "# Therefore I've included the 'cv_folds' parameter where you can specify \n",
    "# the number of train/test groups you want to use during CV\n",
    "# Let's start with ten groups, which basically means that \n",
    "# you use 90% of the samples as train set and 10% as test test\n",
    "# and this in 10 combinations.\n",
    "\n",
    "# A a later stage we could change the CV to use a statified cv_fold\n",
    "# meaning that it ensures for example that for every train/test grouping of the 10 groups\n",
    "# equal numbers of samples of spcified grouping variable are used \n",
    "# (for example your time category or classification later on)\n",
    "\n",
    "# I've also included the '%%time' statement at the beginning of the cell,\n",
    "# so that at the end of the calculation you can see how much time it took.\n",
    "\n",
    "# Have a look here if you want some background info on the CV method used:\n",
    "# https://scikit-learn.org/stable/modules/generated/sklearn.model_selection.GridSearchCV.html\n",
    "\n",
    "estimators = loocv.perform_loocv(mineralogy_pca_df,\n",
    "                                 coordinates_utm,\n",
    "                                 cv_param_dict,\n",
    "                                 n_jobs=n_jobs,\n",
    "                                 cv_folds=10,\n",
    "                                 components_to_use=[f\"PC0{i}\" for i in range(1, 10)])"
   ]
  },
  {
   "cell_type": "code",
   "execution_count": 36,
   "metadata": {},
   "outputs": [],
   "source": [
    "# Convert estimators to dict of dataframes\n",
    "CV_results = loocv.convert_scores_to_df(estimators)"
   ]
  },
  {
   "cell_type": "code",
   "execution_count": 37,
   "metadata": {},
   "outputs": [],
   "source": [
    "# Save CV_results to pickle file for easy use later\n",
    "# These are the results from the 56min CV above (with only first 3 PCs)\n",
    "preproc.save_obj(CV_results, \"CV_results_summarized\")"
   ]
  },
  {
   "cell_type": "code",
   "execution_count": 38,
   "metadata": {},
   "outputs": [],
   "source": [
    "# Save CV_results to pickle file for easy use later\n",
    "# These are the results from the 2min CV above (with only first 9 PCs, simple parameters)\n",
    "preproc.save_obj(CV_results, \"CV_results_fast\")"
   ]
  },
  {
   "cell_type": "code",
   "execution_count": 39,
   "metadata": {},
   "outputs": [
    {
     "name": "stdout",
     "output_type": "stream",
     "text": [
      "PC01\n",
      "rank_test_score                    2\n",
      "mean_test_score              1.48191\n",
      "std_test_score              0.819285\n",
      "mean_train_score         3.25131e-31\n",
      "param_method                ordinary\n",
      "param_variogram_model    exponential\n",
      "param_search_radius           130000\n",
      "Name: 0, dtype: object\n",
      "\n",
      "\n",
      "PC02\n",
      "rank_test_score                    2\n",
      "mean_test_score             0.933638\n",
      "std_test_score              0.151326\n",
      "mean_train_score         2.38238e-31\n",
      "param_method                ordinary\n",
      "param_variogram_model    exponential\n",
      "param_search_radius           130000\n",
      "Name: 0, dtype: object\n",
      "\n",
      "\n",
      "PC03\n",
      "rank_test_score                    2\n",
      "mean_test_score             0.853785\n",
      "std_test_score              0.266554\n",
      "mean_train_score         2.00524e-31\n",
      "param_method                ordinary\n",
      "param_variogram_model    exponential\n",
      "param_search_radius           130000\n",
      "Name: 0, dtype: object\n",
      "\n",
      "\n",
      "PC04\n",
      "rank_test_score                    2\n",
      "mean_test_score             0.638854\n",
      "std_test_score             0.0894688\n",
      "mean_train_score                   0\n",
      "param_method                ordinary\n",
      "param_variogram_model    exponential\n",
      "param_search_radius           130000\n",
      "Name: 0, dtype: object\n",
      "\n",
      "\n",
      "PC05\n",
      "rank_test_score                    2\n",
      "mean_test_score             0.425489\n",
      "std_test_score             0.0930999\n",
      "mean_train_score                   0\n",
      "param_method                ordinary\n",
      "param_variogram_model    exponential\n",
      "param_search_radius           130000\n",
      "Name: 0, dtype: object\n",
      "\n",
      "\n",
      "PC06\n",
      "rank_test_score                    2\n",
      "mean_test_score              0.33479\n",
      "std_test_score             0.0923597\n",
      "mean_train_score                   0\n",
      "param_method                ordinary\n",
      "param_variogram_model    exponential\n",
      "param_search_radius           130000\n",
      "Name: 0, dtype: object\n",
      "\n",
      "\n",
      "PC07\n",
      "rank_test_score                    2\n",
      "mean_test_score             0.203315\n",
      "std_test_score              0.159835\n",
      "mean_train_score                   0\n",
      "param_method                ordinary\n",
      "param_variogram_model    exponential\n",
      "param_search_radius           130000\n",
      "Name: 0, dtype: object\n",
      "\n",
      "\n",
      "PC08\n",
      "rank_test_score                    2\n",
      "mean_test_score             0.160105\n",
      "std_test_score              0.106781\n",
      "mean_train_score                   0\n",
      "param_method                ordinary\n",
      "param_variogram_model    exponential\n",
      "param_search_radius           130000\n",
      "Name: 0, dtype: object\n",
      "\n",
      "\n",
      "PC09\n",
      "rank_test_score                    2\n",
      "mean_test_score             0.120841\n",
      "std_test_score             0.0635983\n",
      "mean_train_score                   0\n",
      "param_method                ordinary\n",
      "param_variogram_model    exponential\n",
      "param_search_radius           130000\n",
      "Name: 0, dtype: object\n",
      "\n",
      "\n"
     ]
    }
   ],
   "source": [
    "# Quick look at best results per PC\n",
    "loocv.print_best_scores(CV_results)"
   ]
  },
  {
   "cell_type": "markdown",
   "metadata": {},
   "source": [
    "## Calculating predictions for best model\n",
    "____"
   ]
  },
  {
   "cell_type": "code",
   "execution_count": 40,
   "metadata": {},
   "outputs": [],
   "source": [
    "# Here you can specify the components and search_radii you want to use \n",
    "# when performing the kriging and performing the postprocessing calculations\n",
    "components_to_use = [f\"PC0{i}\" for i in range(1, 10)]\n",
    "search_radii = [range_[0]]"
   ]
  },
  {
   "cell_type": "code",
   "execution_count": 41,
   "metadata": {},
   "outputs": [],
   "source": [
    "estimators_final = {}\n",
    "\n",
    "for component in components_to_use:  # Changed to only first 9 PCs\n",
    "    for radius in search_radii:  # Removed critical_distance\n",
    "        for variable_to_fit in [\"estimates\"]:\n",
    "\n",
    "            estimators_final[f\"{component}_{radius}_{variable_to_fit}\"] = \\\n",
    "                Krige(method='ordinary',\n",
    "                      variogram_model=variogram_model,\n",
    "                      variogram_model_parameters=variogram_model_parameters[component],\n",
    "                      nlags=n_lags,\n",
    "                      weight=True,\n",
    "                      n_closest_points=number_of_control_points,\n",
    "                      search_radius=radius,\n",
    "                      variable_to_fit=variable_to_fit)"
   ]
  },
  {
   "cell_type": "code",
   "execution_count": 42,
   "metadata": {},
   "outputs": [],
   "source": [
    "# Run this cell if you have previously run the next cell and saved its outcome\n",
    "kriging_predictions = preproc.load_obj(\"kriging_predictions\")"
   ]
  },
  {
   "cell_type": "code",
   "execution_count": 43,
   "metadata": {},
   "outputs": [
    {
     "name": "stdout",
     "output_type": "stream",
     "text": [
      "PC01 130000 estimates\n"
     ]
    },
    {
     "name": "stderr",
     "output_type": "stream",
     "text": [
      "[Parallel(n_jobs=-1)]: Using backend LokyBackend with 8 concurrent workers.\n",
      "[Parallel(n_jobs=-1)]: Done   4 out of  10 | elapsed:    0.8s remaining:    1.3s\n",
      "[Parallel(n_jobs=-1)]: Done   7 out of  10 | elapsed:    0.9s remaining:    0.3s\n",
      "[Parallel(n_jobs=-1)]: Done  10 out of  10 | elapsed:    1.2s remaining:    0.0s\n",
      "[Parallel(n_jobs=-1)]: Done  10 out of  10 | elapsed:    1.2s finished\n",
      "[Parallel(n_jobs=-1)]: Using backend LokyBackend with 8 concurrent workers.\n"
     ]
    },
    {
     "name": "stdout",
     "output_type": "stream",
     "text": [
      "PC02 130000 estimates\n"
     ]
    },
    {
     "name": "stderr",
     "output_type": "stream",
     "text": [
      "[Parallel(n_jobs=-1)]: Done   4 out of  10 | elapsed:    0.8s remaining:    1.3s\n",
      "[Parallel(n_jobs=-1)]: Done   7 out of  10 | elapsed:    0.8s remaining:    0.3s\n",
      "[Parallel(n_jobs=-1)]: Done  10 out of  10 | elapsed:    1.2s remaining:    0.0s\n",
      "[Parallel(n_jobs=-1)]: Done  10 out of  10 | elapsed:    1.2s finished\n",
      "[Parallel(n_jobs=-1)]: Using backend LokyBackend with 8 concurrent workers.\n"
     ]
    },
    {
     "name": "stdout",
     "output_type": "stream",
     "text": [
      "PC03 130000 estimates\n"
     ]
    },
    {
     "name": "stderr",
     "output_type": "stream",
     "text": [
      "[Parallel(n_jobs=-1)]: Done   4 out of  10 | elapsed:    0.8s remaining:    1.3s\n",
      "[Parallel(n_jobs=-1)]: Done   7 out of  10 | elapsed:    0.8s remaining:    0.3s\n",
      "[Parallel(n_jobs=-1)]: Done  10 out of  10 | elapsed:    1.2s remaining:    0.0s\n",
      "[Parallel(n_jobs=-1)]: Done  10 out of  10 | elapsed:    1.2s finished\n",
      "[Parallel(n_jobs=-1)]: Using backend LokyBackend with 8 concurrent workers.\n"
     ]
    },
    {
     "name": "stdout",
     "output_type": "stream",
     "text": [
      "PC04 130000 estimates\n"
     ]
    },
    {
     "name": "stderr",
     "output_type": "stream",
     "text": [
      "[Parallel(n_jobs=-1)]: Done   4 out of  10 | elapsed:    0.8s remaining:    1.3s\n",
      "[Parallel(n_jobs=-1)]: Done   7 out of  10 | elapsed:    0.8s remaining:    0.3s\n",
      "[Parallel(n_jobs=-1)]: Done  10 out of  10 | elapsed:    1.2s remaining:    0.0s\n",
      "[Parallel(n_jobs=-1)]: Done  10 out of  10 | elapsed:    1.2s finished\n",
      "[Parallel(n_jobs=-1)]: Using backend LokyBackend with 8 concurrent workers.\n"
     ]
    },
    {
     "name": "stdout",
     "output_type": "stream",
     "text": [
      "PC05 130000 estimates\n"
     ]
    },
    {
     "name": "stderr",
     "output_type": "stream",
     "text": [
      "[Parallel(n_jobs=-1)]: Done   4 out of  10 | elapsed:    0.8s remaining:    1.3s\n",
      "[Parallel(n_jobs=-1)]: Done   7 out of  10 | elapsed:    0.8s remaining:    0.3s\n",
      "[Parallel(n_jobs=-1)]: Done  10 out of  10 | elapsed:    1.2s remaining:    0.0s\n",
      "[Parallel(n_jobs=-1)]: Done  10 out of  10 | elapsed:    1.2s finished\n",
      "[Parallel(n_jobs=-1)]: Using backend LokyBackend with 8 concurrent workers.\n"
     ]
    },
    {
     "name": "stdout",
     "output_type": "stream",
     "text": [
      "PC06 130000 estimates\n"
     ]
    },
    {
     "name": "stderr",
     "output_type": "stream",
     "text": [
      "[Parallel(n_jobs=-1)]: Done   4 out of  10 | elapsed:    0.8s remaining:    1.2s\n",
      "[Parallel(n_jobs=-1)]: Done   7 out of  10 | elapsed:    0.9s remaining:    0.3s\n",
      "[Parallel(n_jobs=-1)]: Done  10 out of  10 | elapsed:    1.2s remaining:    0.0s\n",
      "[Parallel(n_jobs=-1)]: Done  10 out of  10 | elapsed:    1.2s finished\n",
      "[Parallel(n_jobs=-1)]: Using backend LokyBackend with 8 concurrent workers.\n"
     ]
    },
    {
     "name": "stdout",
     "output_type": "stream",
     "text": [
      "PC07 130000 estimates\n"
     ]
    },
    {
     "name": "stderr",
     "output_type": "stream",
     "text": [
      "[Parallel(n_jobs=-1)]: Done   4 out of  10 | elapsed:    0.8s remaining:    1.3s\n",
      "[Parallel(n_jobs=-1)]: Done   7 out of  10 | elapsed:    0.8s remaining:    0.3s\n",
      "[Parallel(n_jobs=-1)]: Done  10 out of  10 | elapsed:    1.2s remaining:    0.0s\n",
      "[Parallel(n_jobs=-1)]: Done  10 out of  10 | elapsed:    1.2s finished\n",
      "[Parallel(n_jobs=-1)]: Using backend LokyBackend with 8 concurrent workers.\n"
     ]
    },
    {
     "name": "stdout",
     "output_type": "stream",
     "text": [
      "PC08 130000 estimates\n"
     ]
    },
    {
     "name": "stderr",
     "output_type": "stream",
     "text": [
      "[Parallel(n_jobs=-1)]: Done   4 out of  10 | elapsed:    0.8s remaining:    1.3s\n",
      "[Parallel(n_jobs=-1)]: Done   7 out of  10 | elapsed:    0.8s remaining:    0.3s\n",
      "[Parallel(n_jobs=-1)]: Done  10 out of  10 | elapsed:    1.2s remaining:    0.0s\n",
      "[Parallel(n_jobs=-1)]: Done  10 out of  10 | elapsed:    1.2s finished\n",
      "[Parallel(n_jobs=-1)]: Using backend LokyBackend with 8 concurrent workers.\n"
     ]
    },
    {
     "name": "stdout",
     "output_type": "stream",
     "text": [
      "PC09 130000 estimates\n"
     ]
    },
    {
     "name": "stderr",
     "output_type": "stream",
     "text": [
      "[Parallel(n_jobs=-1)]: Done   4 out of  10 | elapsed:    0.8s remaining:    1.3s\n",
      "[Parallel(n_jobs=-1)]: Done   7 out of  10 | elapsed:    0.8s remaining:    0.3s\n"
     ]
    },
    {
     "name": "stdout",
     "output_type": "stream",
     "text": [
      "Wall time: 11.6 s\n"
     ]
    },
    {
     "name": "stderr",
     "output_type": "stream",
     "text": [
      "[Parallel(n_jobs=-1)]: Done  10 out of  10 | elapsed:    1.2s remaining:    0.0s\n",
      "[Parallel(n_jobs=-1)]: Done  10 out of  10 | elapsed:    1.2s finished\n"
     ]
    }
   ],
   "source": [
    "%%time\n",
    "# You can again change the n_jobs to lower the #CPU cores used for parallel processing\n",
    "# Also set the cv_folds variable below\n",
    "cv_folds = 10\n",
    "\n",
    "kriging_predictions = {}\n",
    "\n",
    "for component in components_to_use:  # Changed to only first 9 PCs\n",
    "    for radius in search_radii:  # Removed critical_distance\n",
    "        for variable_to_fit in [\"estimates\"]:\n",
    "            \n",
    "            # Let's print out the combination to see where we are in the loops\n",
    "            print(component, radius, variable_to_fit)\n",
    "            \n",
    "            kriging_predictions[f\"{component}_{radius}_{variable_to_fit}\"] = \\\n",
    "                cross_val_predict(estimators_final[f\"{component}_{radius}_{variable_to_fit}\"], \n",
    "                                  X=np.stack((coordinates_utm[\"X\"],\n",
    "                                              coordinates_utm[\"Y\"]), axis=1),\n",
    "                                  y=mineralogy_pca_df[component],\n",
    "                                  cv=cv_folds,\n",
    "                                  n_jobs=-1,\n",
    "                                  verbose=5)"
   ]
  },
  {
   "cell_type": "code",
   "execution_count": 44,
   "metadata": {},
   "outputs": [],
   "source": [
    "preproc.save_obj(kriging_predictions, \"kriging_predictions\")"
   ]
  },
  {
   "cell_type": "markdown",
   "metadata": {},
   "source": [
    "## Calculate clr solutions\n",
    "____"
   ]
  },
  {
   "cell_type": "code",
   "execution_count": 45,
   "metadata": {},
   "outputs": [
    {
     "name": "stdout",
     "output_type": "stream",
     "text": [
      "130000\n"
     ]
    },
    {
     "data": {
      "text/html": [
       "<div>\n",
       "<style scoped>\n",
       "    .dataframe tbody tr th:only-of-type {\n",
       "        vertical-align: middle;\n",
       "    }\n",
       "\n",
       "    .dataframe tbody tr th {\n",
       "        vertical-align: top;\n",
       "    }\n",
       "\n",
       "    .dataframe thead th {\n",
       "        text-align: right;\n",
       "    }\n",
       "</style>\n",
       "<table border=\"1\" class=\"dataframe\">\n",
       "  <thead>\n",
       "    <tr style=\"text-align: right;\">\n",
       "      <th></th>\n",
       "      <th>PC01</th>\n",
       "      <th>PC02</th>\n",
       "      <th>PC03</th>\n",
       "      <th>PC04</th>\n",
       "      <th>PC05</th>\n",
       "      <th>PC06</th>\n",
       "      <th>PC07</th>\n",
       "      <th>PC08</th>\n",
       "      <th>PC09</th>\n",
       "    </tr>\n",
       "  </thead>\n",
       "  <tbody>\n",
       "    <tr>\n",
       "      <th>3</th>\n",
       "      <td>1.518405</td>\n",
       "      <td>0.228376</td>\n",
       "      <td>-0.583792</td>\n",
       "      <td>0.156464</td>\n",
       "      <td>-0.359686</td>\n",
       "      <td>0.184096</td>\n",
       "      <td>-0.044064</td>\n",
       "      <td>-0.085514</td>\n",
       "      <td>-0.104504</td>\n",
       "    </tr>\n",
       "    <tr>\n",
       "      <th>4</th>\n",
       "      <td>0.134412</td>\n",
       "      <td>-0.519397</td>\n",
       "      <td>-0.370151</td>\n",
       "      <td>-0.157613</td>\n",
       "      <td>0.006174</td>\n",
       "      <td>0.047189</td>\n",
       "      <td>0.223441</td>\n",
       "      <td>0.123082</td>\n",
       "      <td>0.030345</td>\n",
       "    </tr>\n",
       "    <tr>\n",
       "      <th>12</th>\n",
       "      <td>1.136918</td>\n",
       "      <td>-0.886715</td>\n",
       "      <td>-0.607637</td>\n",
       "      <td>0.429025</td>\n",
       "      <td>0.335428</td>\n",
       "      <td>0.065247</td>\n",
       "      <td>-0.072028</td>\n",
       "      <td>0.192140</td>\n",
       "      <td>-0.179065</td>\n",
       "    </tr>\n",
       "    <tr>\n",
       "      <th>15</th>\n",
       "      <td>-0.469401</td>\n",
       "      <td>0.672341</td>\n",
       "      <td>-0.464301</td>\n",
       "      <td>-0.037831</td>\n",
       "      <td>0.243573</td>\n",
       "      <td>0.095650</td>\n",
       "      <td>0.095789</td>\n",
       "      <td>0.191466</td>\n",
       "      <td>0.196948</td>\n",
       "    </tr>\n",
       "    <tr>\n",
       "      <th>18</th>\n",
       "      <td>-0.720615</td>\n",
       "      <td>0.265477</td>\n",
       "      <td>0.182554</td>\n",
       "      <td>0.763607</td>\n",
       "      <td>0.374766</td>\n",
       "      <td>0.035695</td>\n",
       "      <td>0.172545</td>\n",
       "      <td>-0.107616</td>\n",
       "      <td>0.010173</td>\n",
       "    </tr>\n",
       "  </tbody>\n",
       "</table>\n",
       "</div>"
      ],
      "text/plain": [
       "        PC01      PC02      PC03      PC04      PC05      PC06      PC07  \\\n",
       "3   1.518405  0.228376 -0.583792  0.156464 -0.359686  0.184096 -0.044064   \n",
       "4   0.134412 -0.519397 -0.370151 -0.157613  0.006174  0.047189  0.223441   \n",
       "12  1.136918 -0.886715 -0.607637  0.429025  0.335428  0.065247 -0.072028   \n",
       "15 -0.469401  0.672341 -0.464301 -0.037831  0.243573  0.095650  0.095789   \n",
       "18 -0.720615  0.265477  0.182554  0.763607  0.374766  0.035695  0.172545   \n",
       "\n",
       "        PC08      PC09  \n",
       "3  -0.085514 -0.104504  \n",
       "4   0.123082  0.030345  \n",
       "12  0.192140 -0.179065  \n",
       "15  0.191466  0.196948  \n",
       "18 -0.107616  0.010173  "
      ]
     },
     "execution_count": 45,
     "metadata": {},
     "output_type": "execute_result"
    }
   ],
   "source": [
    "kriging_estimates_df = {}\n",
    "\n",
    "for radius in search_radii:\n",
    "    temp = {}\n",
    "    \n",
    "    for component in components_to_use:\n",
    "        key = f\"{component}_{radius}_estimates\"\n",
    "        temp[key] = kriging_predictions[key]\n",
    "\n",
    "    kriging_estimates_df[f\"{radius}\"] = pd.DataFrame.from_dict(temp)\n",
    "    kriging_estimates_df[f\"{radius}\"].index = mineralogy_pca_df.index\n",
    "    kriging_estimates_df[f\"{radius}\"].columns = components_to_use\n",
    "    \n",
    "    print(f\"{radius}\")\n",
    "    kriging_estimates_df[f\"{radius}\"].head()"
   ]
  },
  {
   "cell_type": "raw",
   "metadata": {},
   "source": [
    "kriging_variances_df = {}\n",
    "\n",
    "\n",
    "for radius in search_radii:\n",
    "    temp = {}\n",
    "    \n",
    "    for component in components_to_use:\n",
    "        key = f\"{component}_{radius}_variances\"\n",
    "        temp[key] = kriging_predictions[key]\n",
    "        \n",
    "    kriging_variances_df[f\"{radius}\"] = pd.DataFrame.from_dict(temp)\n",
    "    kriging_variances_df[f\"{radius}\"].index = mineralogy_pca_df.index\n",
    "    kriging_variances_df[f\"{radius}\"].columns = components_to_use\n",
    "    \n",
    "    print(f\"{radius}\")\n",
    "    kriging_variances_df[f\"{radius}\"].head()"
   ]
  },
  {
   "cell_type": "raw",
   "metadata": {},
   "source": [
    "kriging_variances_mean_df = {}\n",
    "\n",
    "for radius in search_radii:\n",
    "    kriging_variances_mean_df[f\"{radius}\"] = \\\n",
    "        kriging_variances_df[f\"{radius}\"].mean(axis=0)\n",
    "\n",
    "    print(f\"{radius}\")\n",
    "    kriging_variances_mean_df[f\"{radius}\"]"
   ]
  },
  {
   "cell_type": "code",
   "execution_count": 46,
   "metadata": {},
   "outputs": [],
   "source": [
    "kriging_estimates_clr = {}\n",
    "\n",
    "for ncomp in range(1, len(components_to_use) + 1):\n",
    "    for radius in search_radii:\n",
    "\n",
    "        kriging_estimates_clr[f\"{ncomp}_{radius}\"] = \\\n",
    "            postproc.reverse_pca(mineralogy_pca, \n",
    "                                 kriging_estimates_df[f\"{radius}\"],\n",
    "                                 mineralogy_clr,\n",
    "                                 n_comp=ncomp)"
   ]
  },
  {
   "cell_type": "code",
   "execution_count": 47,
   "metadata": {},
   "outputs": [],
   "source": [
    "solutions_clr = {}\n",
    "\n",
    "for ncomp in range(1, len(components_to_use) + 1):\n",
    "    for radius in search_radii:\n",
    "\n",
    "        solutions_clr[f\"{ncomp}_{radius}\"] = \\\n",
    "            pd.DataFrame(kriging_estimates_clr[f\"{ncomp}_{radius}\"], \n",
    "                         index=mineralogy_clr.index, \n",
    "                         columns=mineralogy_clr.columns)"
   ]
  },
  {
   "cell_type": "code",
   "execution_count": 48,
   "metadata": {},
   "outputs": [],
   "source": [
    "residuals_clr = {}\n",
    "\n",
    "for ncomp in range(1, len(components_to_use) + 1):\n",
    "    for radius in search_radii:\n",
    "\n",
    "        residuals_clr[f\"{ncomp}_{radius}\"] = \\\n",
    "            mineralogy_clr.subtract(solutions_clr[f\"{ncomp}_{radius}\"])"
   ]
  },
  {
   "cell_type": "code",
   "execution_count": 49,
   "metadata": {},
   "outputs": [],
   "source": [
    "for ncomp in range(1, len(components_to_use) + 1):\n",
    "    for radius in search_radii:\n",
    "        temp = pd.merge(residuals_clr[f\"{ncomp}_{radius}\"], \n",
    "                        pd.DataFrame(nvalues_control_points[radius], \n",
    "                                     columns=[\"n_closest_points\"]), \n",
    "                        left_index=True, \n",
    "                        right_index=True)\\\n",
    "                 .sort_values(\"n_closest_points\")\n",
    "        \n",
    "        temp.to_excel(f\"../_RESULTS/Residuals/residuals_clr_{ncomp}_{radius}_{group_name}.xlsx\")"
   ]
  },
  {
   "cell_type": "code",
   "execution_count": 50,
   "metadata": {},
   "outputs": [],
   "source": [
    "preproc.save_obj(residuals_clr, \"residuals_clr\")"
   ]
  },
  {
   "cell_type": "code",
   "execution_count": 51,
   "metadata": {},
   "outputs": [],
   "source": [
    "preproc.save_obj(nvalues_control_points, \"nvalues_control_points\")"
   ]
  },
  {
   "cell_type": "markdown",
   "metadata": {},
   "source": [
    "## Model selection\n",
    "____"
   ]
  },
  {
   "cell_type": "code",
   "execution_count": 52,
   "metadata": {},
   "outputs": [
    {
     "data": {
      "text/plain": [
       "{'1_130000': 6.007579774263109,\n",
       " '2_130000': 5.647059265271208,\n",
       " '3_130000': 5.4360320133090445,\n",
       " '4_130000': 5.3252882255736615,\n",
       " '5_130000': 5.282569863103799,\n",
       " '6_130000': 5.283611792198738,\n",
       " '7_130000': 5.268120449567762,\n",
       " '8_130000': 5.260866388526964,\n",
       " '9_130000': 5.238918301141971}"
      ]
     },
     "execution_count": 52,
     "metadata": {},
     "output_type": "execute_result"
    },
    {
     "data": {
      "text/plain": [
       "5.238918301141971"
      ]
     },
     "execution_count": 52,
     "metadata": {},
     "output_type": "execute_result"
    },
    {
     "data": {
      "text/plain": [
       "'9_130000'"
      ]
     },
     "execution_count": 52,
     "metadata": {},
     "output_type": "execute_result"
    }
   ],
   "source": [
    "# Get MSPE_Q values and select best model based on it\n",
    "# Make sure the selected model passes the Hotelling's T² 2-sample test above, though\n",
    "MSPE_Q = {}\n",
    "best_MSPE_Q = 1000\n",
    "\n",
    "for ncomp in range(1, len(components_to_use) + 1):\n",
    "    for radius in search_radii:\n",
    "\n",
    "        # Calculate MSPE_Q from clr residuals\n",
    "        MSPE_Q_temp = np.mean(np.sum(residuals_clr[f\"{ncomp}_{radius}\"] ** 2, axis=1), axis=0)\n",
    "\n",
    "        if MSPE_Q_temp < best_MSPE_Q:\n",
    "            # Store best MSPE_Q en corresponding model\n",
    "            best_MSPE_Q = MSPE_Q_temp\n",
    "            selected_model = f\"{ncomp}_{radius}\"\n",
    "\n",
    "        MSPE_Q[f\"{ncomp}_{radius}\"] = MSPE_Q_temp\n",
    "                \n",
    "MSPE_Q\n",
    "best_MSPE_Q\n",
    "selected_model\n",
    "selected_model_PCs = selected_model.split(\"_\")[0]"
   ]
  },
  {
   "cell_type": "code",
   "execution_count": 53,
   "metadata": {},
   "outputs": [],
   "source": [
    "# Number of PCs to use for reverse calculations based on selected model\n",
    "n_comp = int(selected_model.split(\"_\")[0])\n",
    "# Whcih PCs to use moving forward\n",
    "selected_components_to_use = [f\"PC{i:02d}\" for i in range(1, n_comp + 1)]"
   ]
  },
  {
   "cell_type": "code",
   "execution_count": 54,
   "metadata": {},
   "outputs": [
    {
     "data": {
      "text/plain": [
       "['PC01', 'PC02', 'PC03', 'PC04', 'PC05', 'PC06', 'PC07', 'PC08', 'PC09']"
      ]
     },
     "execution_count": 54,
     "metadata": {},
     "output_type": "execute_result"
    }
   ],
   "source": [
    "selected_components_to_use"
   ]
  },
  {
   "cell_type": "markdown",
   "metadata": {},
   "source": [
    "## Contour plots\n",
    "____"
   ]
  },
  {
   "cell_type": "code",
   "execution_count": 55,
   "metadata": {},
   "outputs": [
    {
     "name": "stdout",
     "output_type": "stream",
     "text": [
      "(1201, 2)\n",
      "(97223, 2)\n",
      "301 323\n"
     ]
    },
    {
     "data": {
      "text/plain": [
       "(323, 301)"
      ]
     },
     "execution_count": 55,
     "metadata": {},
     "output_type": "execute_result"
    }
   ],
   "source": [
    "nvalues_critical_distance = \\\n",
    "    variograms[\"PC01\"].determine_mask_array(grid[0], \n",
    "                                            grid[1], \n",
    "                                            search_radius=critical_distance)\n",
    "mask_critical_distance = nvalues_critical_distance < 3\n",
    "mask_critical_distance.shape"
   ]
  },
  {
   "cell_type": "code",
   "execution_count": 56,
   "metadata": {},
   "outputs": [
    {
     "data": {
      "text/plain": [
       "73414"
      ]
     },
     "execution_count": 56,
     "metadata": {},
     "output_type": "execute_result"
    }
   ],
   "source": [
    "mask_critical_distance[mask_critical_distance == 1].sum()"
   ]
  },
  {
   "cell_type": "code",
   "execution_count": 57,
   "metadata": {},
   "outputs": [],
   "source": [
    "non_masked_grid_nodes = \\\n",
    "    grid[0].shape[0] * grid[1].shape[0] \\\n",
    "    - mask_critical_distance[mask_critical_distance == 1].sum()"
   ]
  },
  {
   "cell_type": "code",
   "execution_count": 58,
   "metadata": {},
   "outputs": [],
   "source": [
    "grid_cell_spacing = grid[0][1] - grid[0][0]\n",
    "grid_cell_area = grid_cell_spacing ** 2"
   ]
  },
  {
   "cell_type": "code",
   "execution_count": 59,
   "metadata": {},
   "outputs": [],
   "source": [
    "# Pluton area in m²\n",
    "pluton_area_m2 = non_masked_grid_nodes * grid_cell_area\n",
    "\n",
    "# Pluton area in km²\n",
    "pluton_area_km2 = pluton_area_m2 / 1_000_000"
   ]
  },
  {
   "cell_type": "code",
   "execution_count": 60,
   "metadata": {},
   "outputs": [
    {
     "data": {
      "text/plain": [
       "717385.9096317935"
      ]
     },
     "execution_count": 60,
     "metadata": {},
     "output_type": "execute_result"
    }
   ],
   "source": [
    "pluton_area_km2"
   ]
  },
  {
   "cell_type": "markdown",
   "metadata": {},
   "source": [
    "____"
   ]
  },
  {
   "cell_type": "code",
   "execution_count": 61,
   "metadata": {},
   "outputs": [],
   "source": [
    "interpolated_dict = preproc.load_obj(\"interpolated_dict\")"
   ]
  },
  {
   "cell_type": "code",
   "execution_count": 62,
   "metadata": {},
   "outputs": [],
   "source": [
    "# Since my desktop (with 32GB of RAM) ran out of memory,\n",
    "# I've reduced the grid spacing so that there are fewer grid points \n",
    "# to perform the interpolation for\n",
    "\n",
    "# You could also reduce the number of active CPU cores by decreasing 'n_jobs'\n",
    "# which would reduce memory consumption\n",
    "# so that you could still get a more detailed interpolation grid.\n",
    "# The interpolation will take a bit longer than since \n",
    "# not the maximum number of 'workers' can be used in that case."
   ]
  },
  {
   "cell_type": "code",
   "execution_count": 63,
   "metadata": {},
   "outputs": [
    {
     "name": "stdout",
     "output_type": "stream",
     "text": [
      "Wall time: 1min 13s\n"
     ]
    }
   ],
   "source": [
    "%%time\n",
    "interpolated_parallel = Parallel(n_jobs=-6)(delayed(\n",
    "    variograms[component].execute)('masked', \n",
    "                     grid[0], \n",
    "                     grid[1],\n",
    "                     mask_critical_distance,\n",
    "                     n_closest_points=number_of_control_points, \n",
    "                     search_radius=range_[0], \n",
    "                     backend='loop') for component in components_to_use)"
   ]
  },
  {
   "cell_type": "code",
   "execution_count": 64,
   "metadata": {},
   "outputs": [],
   "source": [
    "interpolated_dict = {}\n",
    "for i, item in enumerate(interpolated_parallel, start=1):\n",
    "    interpolated_dict[f\"PC0{i}\"] = item"
   ]
  },
  {
   "cell_type": "code",
   "execution_count": 65,
   "metadata": {},
   "outputs": [],
   "source": [
    "preproc.save_obj(interpolated_dict, \"interpolated_dict\")"
   ]
  },
  {
   "cell_type": "code",
   "execution_count": 66,
   "metadata": {},
   "outputs": [
    {
     "name": "stdout",
     "output_type": "stream",
     "text": [
      "1\n",
      "2\n",
      "3\n",
      "4\n",
      "5\n",
      "6\n",
      "7\n",
      "8\n",
      "9\n",
      "10\n",
      "11\n",
      "12\n",
      "(12, 323, 301)\n"
     ]
    },
    {
     "name": "stderr",
     "output_type": "stream",
     "text": [
      "C:\\Users\\Sebastian\\Anaconda3\\envs\\main\\lib\\site-packages\\IPython\\core\\interactiveshell.py:3331: FutureWarning: arrays to stack must be passed as a \"sequence\" type such as list or tuple. Support for non-sequence iterables such as generators is deprecated as of NumPy 1.16 and will raise an error in the future.\n",
      "  exec(code_obj, self.user_global_ns, self.user_ns)\n"
     ]
    }
   ],
   "source": [
    "interpolated_array = postproc.convert_grid_to_array_of_scores(interpolated_dict)\n",
    "\n",
    "interpolated_reverse_pca = postproc.reverse_pca(mineralogy_pca, \n",
    "                                                interpolated_array, \n",
    "                                                mineralogy_clr, \n",
    "                                                n_comp=n_comp)\n",
    "\n",
    "interpolated_reverse_clr = postproc.reverse_clr(interpolated_reverse_pca, \n",
    "                                                mineralogy_clr)\n",
    "\n",
    "# You will get a FutureWarning here, that's fine"
   ]
  },
  {
   "cell_type": "code",
   "execution_count": 67,
   "metadata": {},
   "outputs": [
    {
     "data": {
      "text/plain": [
       "1.3222748152018031"
      ]
     },
     "execution_count": 67,
     "metadata": {},
     "output_type": "execute_result"
    }
   ],
   "source": [
    "# Get kriging surface variance for error_budget\n",
    "var_OK = np.array(pd.DataFrame(interpolated_array).var(axis=0, ddof=1))\n",
    "var_OK.sum()"
   ]
  },
  {
   "cell_type": "code",
   "execution_count": 68,
   "metadata": {},
   "outputs": [],
   "source": [
    "# Check if the number of points based on the specified grid is equal to\n",
    "# the sum of the number of masked points and the number of interpolated points\n",
    "assert grid[0].shape[0] * grid[1].shape[0] == np.sum(np.isclose(interpolated_reverse_clr.sum(axis=1), 0.0)) + \\\n",
    "                                              np.sum(np.isclose(interpolated_reverse_clr.sum(axis=1), 100.0))"
   ]
  },
  {
   "cell_type": "code",
   "execution_count": 69,
   "metadata": {},
   "outputs": [],
   "source": [
    "interpolated_modal = {}\n",
    "for mineral in interpolated_reverse_clr.columns.tolist():\n",
    "    interpolated_modal[mineral] = np.reshape(interpolated_reverse_clr.loc[:, mineral].values, \n",
    "                                             (grid[1].shape[0], grid[0].shape[0]))"
   ]
  },
  {
   "cell_type": "code",
   "execution_count": 70,
   "metadata": {},
   "outputs": [
    {
     "name": "stdout",
     "output_type": "stream",
     "text": [
      "(323, 301)\n",
      "SiO2\n",
      "(323, 301)\n",
      "TiO2\n",
      "(323, 301)\n",
      "Al2O3\n",
      "(323, 301)\n",
      "Fe2O3\n",
      "(323, 301)\n",
      "FeO\n",
      "(323, 301)\n",
      "MnO\n",
      "(323, 301)\n",
      "MgO\n",
      "(323, 301)\n",
      "CaO\n",
      "(323, 301)\n",
      "Na2O\n",
      "(323, 301)\n",
      "K2O\n",
      "(323, 301)\n",
      "P2O5\n",
      "(323, 301)\n",
      "l.i.\n",
      "(323, 301)\n",
      "oth\n"
     ]
    }
   ],
   "source": [
    "# If you get an error related to an non-esixting save location\n",
    "# Please first create a folder on your pc with the same name that \n",
    "# you used for the variable 'group_name'\n",
    "\n",
    "for mineral, interpolation in interpolated_modal.items(): \n",
    "    for variable in [\"estimates\"]:\n",
    "        print(interpolation.shape)\n",
    "        plots.plot_contour_map(interpolation,\n",
    "                               grid,\n",
    "                               coordinates_utm,\n",
    "                               group_name,\n",
    "                               variable=variable,\n",
    "                               title=f\"{mineral} radius={range_[0]}m {variable} masked {critical_distance}m\",\n",
    "                               show_plot=False,\n",
    "                               single_mineral=True,\n",
    "                               mineral=mineral,                               \n",
    "                               label_pos = (0.03, 0.94),\n",
    "                               skip_xaxis_label=2,\n",
    "                               skip_yaxis_label=2,\n",
    "                               skip_xaxis_start=1,\n",
    "                               skip_yaxis_start=1,\n",
    "                               marker_symbol='.',\n",
    "                               marker_size=0.1,\n",
    "                               marker_color='r',)\n",
    "        \n",
    "# Added some options to function so that yu can easily change the appearance \n",
    "# of the markers used to show the position of the control points"
   ]
  },
  {
   "cell_type": "code",
   "execution_count": 71,
   "metadata": {},
   "outputs": [
    {
     "data": {
      "image/png": "[encoded data removed]",
      "text/plain": [
       "<Figure size 864x648 with 28 Axes>"
      ]
     },
     "metadata": {},
     "output_type": "display_data"
    }
   ],
   "source": [
    "# Specify how many rows and columns you want to use in the following figure\n",
    "# This will ofcourse depend an the number of variables you would like to plot\n",
    "# You can also set the figure size\n",
    "n_cols = 3\n",
    "n_rows = 5\n",
    "\n",
    "# Figure with single mineral maps as subplots\n",
    "plots.plot_contour_map_all(interpolated_modal,\n",
    "                           grid,\n",
    "                           coordinates_utm,\n",
    "                           group_name,\n",
    "                           title=f\"radius={range_[0]}m masked {critical_distance}m\",\n",
    "                           show_plot=True,\n",
    "                           label_pos = (0.03, 0.94),\n",
    "                           skip_xaxis_label=2,\n",
    "                           skip_yaxis_label=2,\n",
    "                           skip_xaxis_start=1,\n",
    "                           skip_yaxis_start=1,\n",
    "                           marker_size=0.1,\n",
    "                           marker_color='r',\n",
    "                           marker_symbol='.',\n",
    "                           figsize=(12, 9),\n",
    "                           ncols=n_cols,\n",
    "                           nrows=n_rows,\n",
    "                           sharex=True,\n",
    "                           sharey=True)"
   ]
  },
  {
   "cell_type": "markdown",
   "metadata": {},
   "source": [
    "## Biplots\n",
    "____"
   ]
  },
  {
   "cell_type": "markdown",
   "metadata": {},
   "source": [
    "Not relevant for now"
   ]
  },
  {
   "cell_type": "markdown",
   "metadata": {},
   "source": [
    "## Simulations\n",
    "____"
   ]
  },
  {
   "cell_type": "markdown",
   "metadata": {},
   "source": [
    "Not relevant for now"
   ]
  },
  {
   "cell_type": "markdown",
   "metadata": {},
   "source": [
    "## Error budget\n",
    "____"
   ]
  },
  {
   "cell_type": "code",
   "execution_count": 72,
   "metadata": {},
   "outputs": [],
   "source": [
    "# A = Variance of kriging surface\n",
    "# B = mean squared prediction error (MSPE)\n",
    "# C = Sum of nugget\n",
    "# D = Total variance based on simulation (not yet available)\n",
    "# E = Variance of original data set\n",
    "\n",
    "error_budget = {}\n",
    "\n",
    "for radius in search_radii:\n",
    "    for ncomp in range(1, len(components_to_use) + 1):\n",
    "        A = var_OK[:ncomp].sum()\n",
    "        B = np.mean(np.sum(residuals_clr[f\"{ncomp}_{radius}\"] ** 2, axis=1), axis=0) # MSPE\n",
    "        C = np.array(nugget_)[:ncomp].sum()\n",
    "        D = np.nan\n",
    "        E = mineralogy_clr.var(axis=0).sum()\n",
    "        \n",
    "\n",
    "        error_budget[f\"{ncomp}_{radius}\"] = [A, B, C, D, E]"
   ]
  },
  {
   "cell_type": "code",
   "execution_count": 73,
   "metadata": {},
   "outputs": [
    {
     "data": {
      "text/html": [
       "<div>\n",
       "<style scoped>\n",
       "    .dataframe tbody tr th:only-of-type {\n",
       "        vertical-align: middle;\n",
       "    }\n",
       "\n",
       "    .dataframe tbody tr th {\n",
       "        vertical-align: top;\n",
       "    }\n",
       "\n",
       "    .dataframe thead th {\n",
       "        text-align: right;\n",
       "    }\n",
       "</style>\n",
       "<table border=\"1\" class=\"dataframe\">\n",
       "  <thead>\n",
       "    <tr style=\"text-align: right;\">\n",
       "      <th></th>\n",
       "      <th>search_radius</th>\n",
       "      <th>#PCs</th>\n",
       "      <th>VAR(OK)</th>\n",
       "      <th>MSPE</th>\n",
       "      <th>S_nugget</th>\n",
       "      <th>VAR(TOTAL)</th>\n",
       "      <th>VAR(DATA)</th>\n",
       "    </tr>\n",
       "  </thead>\n",
       "  <tbody>\n",
       "    <tr>\n",
       "      <th>0</th>\n",
       "      <td>130000</td>\n",
       "      <td>1</td>\n",
       "      <td>0.363461</td>\n",
       "      <td>6.007580</td>\n",
       "      <td>0.8720</td>\n",
       "      <td>NaN</td>\n",
       "      <td>6.271679</td>\n",
       "    </tr>\n",
       "    <tr>\n",
       "      <th>1</th>\n",
       "      <td>130000</td>\n",
       "      <td>2</td>\n",
       "      <td>0.708866</td>\n",
       "      <td>5.647059</td>\n",
       "      <td>1.5200</td>\n",
       "      <td>NaN</td>\n",
       "      <td>6.271679</td>\n",
       "    </tr>\n",
       "    <tr>\n",
       "      <th>2</th>\n",
       "      <td>130000</td>\n",
       "      <td>3</td>\n",
       "      <td>0.963690</td>\n",
       "      <td>5.436032</td>\n",
       "      <td>1.9460</td>\n",
       "      <td>NaN</td>\n",
       "      <td>6.271679</td>\n",
       "    </tr>\n",
       "    <tr>\n",
       "      <th>3</th>\n",
       "      <td>130000</td>\n",
       "      <td>4</td>\n",
       "      <td>1.116633</td>\n",
       "      <td>5.325288</td>\n",
       "      <td>2.4710</td>\n",
       "      <td>NaN</td>\n",
       "      <td>6.271679</td>\n",
       "    </tr>\n",
       "    <tr>\n",
       "      <th>4</th>\n",
       "      <td>130000</td>\n",
       "      <td>5</td>\n",
       "      <td>1.175169</td>\n",
       "      <td>5.282570</td>\n",
       "      <td>2.7990</td>\n",
       "      <td>NaN</td>\n",
       "      <td>6.271679</td>\n",
       "    </tr>\n",
       "    <tr>\n",
       "      <th>5</th>\n",
       "      <td>130000</td>\n",
       "      <td>6</td>\n",
       "      <td>1.200872</td>\n",
       "      <td>5.283612</td>\n",
       "      <td>3.1000</td>\n",
       "      <td>NaN</td>\n",
       "      <td>6.271679</td>\n",
       "    </tr>\n",
       "    <tr>\n",
       "      <th>6</th>\n",
       "      <td>130000</td>\n",
       "      <td>7</td>\n",
       "      <td>1.233435</td>\n",
       "      <td>5.268120</td>\n",
       "      <td>3.2320</td>\n",
       "      <td>NaN</td>\n",
       "      <td>6.271679</td>\n",
       "    </tr>\n",
       "    <tr>\n",
       "      <th>7</th>\n",
       "      <td>130000</td>\n",
       "      <td>8</td>\n",
       "      <td>1.255965</td>\n",
       "      <td>5.260866</td>\n",
       "      <td>3.3490</td>\n",
       "      <td>NaN</td>\n",
       "      <td>6.271679</td>\n",
       "    </tr>\n",
       "    <tr>\n",
       "      <th>8</th>\n",
       "      <td>130000</td>\n",
       "      <td>9</td>\n",
       "      <td>1.286243</td>\n",
       "      <td>5.238918</td>\n",
       "      <td>3.4205</td>\n",
       "      <td>NaN</td>\n",
       "      <td>6.271679</td>\n",
       "    </tr>\n",
       "  </tbody>\n",
       "</table>\n",
       "</div>"
      ],
      "text/plain": [
       "   search_radius  #PCs   VAR(OK)      MSPE  S_nugget  VAR(TOTAL)  VAR(DATA)\n",
       "0         130000     1  0.363461  6.007580    0.8720         NaN   6.271679\n",
       "1         130000     2  0.708866  5.647059    1.5200         NaN   6.271679\n",
       "2         130000     3  0.963690  5.436032    1.9460         NaN   6.271679\n",
       "3         130000     4  1.116633  5.325288    2.4710         NaN   6.271679\n",
       "4         130000     5  1.175169  5.282570    2.7990         NaN   6.271679\n",
       "5         130000     6  1.200872  5.283612    3.1000         NaN   6.271679\n",
       "6         130000     7  1.233435  5.268120    3.2320         NaN   6.271679\n",
       "7         130000     8  1.255965  5.260866    3.3490         NaN   6.271679\n",
       "8         130000     9  1.286243  5.238918    3.4205         NaN   6.271679"
      ]
     },
     "execution_count": 73,
     "metadata": {},
     "output_type": "execute_result"
    }
   ],
   "source": [
    "error_budget_df = \\\n",
    "    ttest.convert_summary_test_results_to_df(error_budget, \n",
    "                                             variable_names=[\"VAR(OK)\",\n",
    "                                                             \"MSPE\", \n",
    "                                                             \"S_nugget\", # Sum of nuggets\n",
    "                                                             \"VAR(TOTAL)\",\n",
    "                                                             \"VAR(DATA)\"], \n",
    "                                             order=[\"search_radius\", \n",
    "                                                    \"#PCs\"])\n",
    "error_budget_df"
   ]
  },
  {
   "cell_type": "code",
   "execution_count": 74,
   "metadata": {},
   "outputs": [],
   "source": [
    "error_budget_df.to_excel(f\"../_RESULTS/Error_budget/error_budget_{group_name}.xlsx\")"
   ]
  },
  {
   "cell_type": "code",
   "execution_count": null,
   "metadata": {},
   "outputs": [],
   "source": []
  },
  {
   "cell_type": "code",
   "execution_count": null,
   "metadata": {},
   "outputs": [],
   "source": []
  }
 ],
 "metadata": {
  "kernelspec": {
   "display_name": "Python 3",
   "language": "python",
   "name": "python3"
  },
  "language_info": {
   "codemirror_mode": {
    "name": "ipython",
    "version": 3
   },
   "file_extension": ".py",
   "mimetype": "text/x-python",
   "name": "python",
   "nbconvert_exporter": "python",
   "pygments_lexer": "ipython3",
   "version": "3.7.3"
  }
 },
 "nbformat": 4,
 "nbformat_minor": 4
}
