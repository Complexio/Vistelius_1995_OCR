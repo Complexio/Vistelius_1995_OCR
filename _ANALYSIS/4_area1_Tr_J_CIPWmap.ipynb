{
 "cells": [
  {
   "cell_type": "code",
   "execution_count": 1,
   "metadata": {},
   "outputs": [],
   "source": [
    "import numpy as np\n",
    "import pandas as pd"
   ]
  },
  {
   "cell_type": "code",
   "execution_count": 2,
   "metadata": {},
   "outputs": [],
   "source": [
    "import prepostprocessing.cleaning as cleaning\n",
    "import prepostprocessing.pre_processing as preproc\n",
    "from qapf import qapf\n",
    "from qapf import cipw"
   ]
  },
  {
   "cell_type": "markdown",
   "metadata": {},
   "source": [
    "___"
   ]
  },
  {
   "cell_type": "markdown",
   "metadata": {},
   "source": [
    "# CIPWFULL normalized data"
   ]
  },
  {
   "cell_type": "markdown",
   "metadata": {},
   "source": [
    "## Convert to CIPWFULL format"
   ]
  },
  {
   "cell_type": "markdown",
   "metadata": {},
   "source": [
    "**I used an arbitrary version of the mineralogical data, not sure if this is the correct one** -->is a good one"
   ]
  },
  {
   "cell_type": "code",
   "execution_count": 3,
   "metadata": {},
   "outputs": [
    {
     "data": {
      "text/plain": [
       "Index(['SiO2', 'TiO2', 'Al2O3', 'Fe2O3', 'FeO', 'MnO', 'MgO', 'CaO', 'Na2O',\n",
       "       'K2O', 'oth'],\n",
       "      dtype='object')"
      ]
     },
     "execution_count": 3,
     "metadata": {},
     "output_type": "execute_result"
    }
   ],
   "source": [
    "mineralogy_original = pd.read_excel(\"../_CIPW/CIPW/AREA1_Tr_J/interpolated_data.xlsx\", index_col=0)\n",
    "# Only iterested in sample number and oxides\n",
    "mineralogy = mineralogy_original[['SiO2', 'TiO2', 'Al2O3', 'Fe2O3','FeO', 'MnO', 'MgO', 'CaO', 'Na2O', 'K2O', 'oth']]\n",
    "mineralogy.columns"
   ]
  },
  {
   "cell_type": "code",
   "execution_count": 4,
   "metadata": {},
   "outputs": [],
   "source": [
    "mineralogy = mineralogy.dropna()"
   ]
  },
  {
   "cell_type": "code",
   "execution_count": 5,
   "metadata": {},
   "outputs": [],
   "source": [
    "# Check for closed sum\n",
    "assert all(np.isclose(mineralogy.sum(axis=1), 100.0))"
   ]
  },
  {
   "cell_type": "code",
   "execution_count": 6,
   "metadata": {},
   "outputs": [],
   "source": [
    "# Remove 'l.i.'' and 'oth' columns and immediately normalize data\n",
    "mineralogy = preproc.normalize(mineralogy.drop([\"oth\"], axis=1))"
   ]
  },
  {
   "cell_type": "code",
   "execution_count": 7,
   "metadata": {},
   "outputs": [],
   "source": [
    "# Check for closed sum\n",
    "assert all(np.isclose(mineralogy.sum(axis=1), 100.0))"
   ]
  },
  {
   "cell_type": "code",
   "execution_count": 8,
   "metadata": {},
   "outputs": [
    {
     "data": {
      "text/html": [
       "<div>\n",
       "<style scoped>\n",
       "    .dataframe tbody tr th:only-of-type {\n",
       "        vertical-align: middle;\n",
       "    }\n",
       "\n",
       "    .dataframe tbody tr th {\n",
       "        vertical-align: top;\n",
       "    }\n",
       "\n",
       "    .dataframe thead th {\n",
       "        text-align: right;\n",
       "    }\n",
       "</style>\n",
       "<table border=\"1\" class=\"dataframe\">\n",
       "  <thead>\n",
       "    <tr style=\"text-align: right;\">\n",
       "      <th></th>\n",
       "      <th>SiO2</th>\n",
       "      <th>TiO2</th>\n",
       "      <th>Al2O3</th>\n",
       "      <th>Fe2O3</th>\n",
       "      <th>FeO</th>\n",
       "      <th>MnO</th>\n",
       "      <th>MgO</th>\n",
       "      <th>CaO</th>\n",
       "      <th>Na2O</th>\n",
       "      <th>K2O</th>\n",
       "    </tr>\n",
       "  </thead>\n",
       "  <tbody>\n",
       "    <tr>\n",
       "      <th>19846</th>\n",
       "      <td>70.441084</td>\n",
       "      <td>0.371688</td>\n",
       "      <td>14.930385</td>\n",
       "      <td>0.895400</td>\n",
       "      <td>1.830435</td>\n",
       "      <td>0.057119</td>\n",
       "      <td>0.866247</td>\n",
       "      <td>1.743451</td>\n",
       "      <td>4.468076</td>\n",
       "      <td>4.396114</td>\n",
       "    </tr>\n",
       "    <tr>\n",
       "      <th>19847</th>\n",
       "      <td>70.445469</td>\n",
       "      <td>0.371500</td>\n",
       "      <td>14.929297</td>\n",
       "      <td>0.895397</td>\n",
       "      <td>1.829782</td>\n",
       "      <td>0.057101</td>\n",
       "      <td>0.865378</td>\n",
       "      <td>1.741588</td>\n",
       "      <td>4.468006</td>\n",
       "      <td>4.396482</td>\n",
       "    </tr>\n",
       "    <tr>\n",
       "      <th>19848</th>\n",
       "      <td>70.450608</td>\n",
       "      <td>0.371279</td>\n",
       "      <td>14.928022</td>\n",
       "      <td>0.895394</td>\n",
       "      <td>1.829017</td>\n",
       "      <td>0.057079</td>\n",
       "      <td>0.864360</td>\n",
       "      <td>1.739406</td>\n",
       "      <td>4.467923</td>\n",
       "      <td>4.396912</td>\n",
       "    </tr>\n",
       "    <tr>\n",
       "      <th>19849</th>\n",
       "      <td>70.456460</td>\n",
       "      <td>0.371028</td>\n",
       "      <td>14.926567</td>\n",
       "      <td>0.895390</td>\n",
       "      <td>1.828146</td>\n",
       "      <td>0.057054</td>\n",
       "      <td>0.863201</td>\n",
       "      <td>1.736923</td>\n",
       "      <td>4.467828</td>\n",
       "      <td>4.397403</td>\n",
       "    </tr>\n",
       "    <tr>\n",
       "      <th>20334</th>\n",
       "      <td>69.486228</td>\n",
       "      <td>0.412294</td>\n",
       "      <td>15.144012</td>\n",
       "      <td>0.895242</td>\n",
       "      <td>1.968498</td>\n",
       "      <td>0.061023</td>\n",
       "      <td>1.064592</td>\n",
       "      <td>2.171610</td>\n",
       "      <td>4.478991</td>\n",
       "      <td>4.317511</td>\n",
       "    </tr>\n",
       "  </tbody>\n",
       "</table>\n",
       "</div>"
      ],
      "text/plain": [
       "            SiO2      TiO2      Al2O3     Fe2O3       FeO       MnO       MgO  \\\n",
       "19846  70.441084  0.371688  14.930385  0.895400  1.830435  0.057119  0.866247   \n",
       "19847  70.445469  0.371500  14.929297  0.895397  1.829782  0.057101  0.865378   \n",
       "19848  70.450608  0.371279  14.928022  0.895394  1.829017  0.057079  0.864360   \n",
       "19849  70.456460  0.371028  14.926567  0.895390  1.828146  0.057054  0.863201   \n",
       "20334  69.486228  0.412294  15.144012  0.895242  1.968498  0.061023  1.064592   \n",
       "\n",
       "            CaO      Na2O       K2O  \n",
       "19846  1.743451  4.468076  4.396114  \n",
       "19847  1.741588  4.468006  4.396482  \n",
       "19848  1.739406  4.467923  4.396912  \n",
       "19849  1.736923  4.467828  4.397403  \n",
       "20334  2.171610  4.478991  4.317511  "
      ]
     },
     "execution_count": 8,
     "metadata": {},
     "output_type": "execute_result"
    }
   ],
   "source": [
    "mineralogy.head()"
   ]
  },
  {
   "cell_type": "code",
   "execution_count": 9,
   "metadata": {},
   "outputs": [
    {
     "data": {
      "text/html": [
       "<div>\n",
       "<style scoped>\n",
       "    .dataframe tbody tr th:only-of-type {\n",
       "        vertical-align: middle;\n",
       "    }\n",
       "\n",
       "    .dataframe tbody tr th {\n",
       "        vertical-align: top;\n",
       "    }\n",
       "\n",
       "    .dataframe thead th {\n",
       "        text-align: right;\n",
       "    }\n",
       "</style>\n",
       "<table border=\"1\" class=\"dataframe\">\n",
       "  <thead>\n",
       "    <tr style=\"text-align: right;\">\n",
       "      <th></th>\n",
       "      <th>SiO2</th>\n",
       "      <th>TiO2</th>\n",
       "      <th>Al2O3</th>\n",
       "      <th>Fe2O3</th>\n",
       "      <th>FeO</th>\n",
       "      <th>MnO</th>\n",
       "      <th>MgO</th>\n",
       "      <th>CaO</th>\n",
       "      <th>Na2O</th>\n",
       "      <th>K2O</th>\n",
       "    </tr>\n",
       "  </thead>\n",
       "  <tbody>\n",
       "    <tr>\n",
       "      <th>19846</th>\n",
       "      <td>70.441084</td>\n",
       "      <td>0.371688</td>\n",
       "      <td>14.930385</td>\n",
       "      <td>0.895400</td>\n",
       "      <td>1.830435</td>\n",
       "      <td>0.057119</td>\n",
       "      <td>0.866247</td>\n",
       "      <td>1.743451</td>\n",
       "      <td>4.468076</td>\n",
       "      <td>4.396114</td>\n",
       "    </tr>\n",
       "    <tr>\n",
       "      <th>19847</th>\n",
       "      <td>70.445469</td>\n",
       "      <td>0.371500</td>\n",
       "      <td>14.929297</td>\n",
       "      <td>0.895397</td>\n",
       "      <td>1.829782</td>\n",
       "      <td>0.057101</td>\n",
       "      <td>0.865378</td>\n",
       "      <td>1.741588</td>\n",
       "      <td>4.468006</td>\n",
       "      <td>4.396482</td>\n",
       "    </tr>\n",
       "    <tr>\n",
       "      <th>19848</th>\n",
       "      <td>70.450608</td>\n",
       "      <td>0.371279</td>\n",
       "      <td>14.928022</td>\n",
       "      <td>0.895394</td>\n",
       "      <td>1.829017</td>\n",
       "      <td>0.057079</td>\n",
       "      <td>0.864360</td>\n",
       "      <td>1.739406</td>\n",
       "      <td>4.467923</td>\n",
       "      <td>4.396912</td>\n",
       "    </tr>\n",
       "    <tr>\n",
       "      <th>19849</th>\n",
       "      <td>70.456460</td>\n",
       "      <td>0.371028</td>\n",
       "      <td>14.926567</td>\n",
       "      <td>0.895390</td>\n",
       "      <td>1.828146</td>\n",
       "      <td>0.057054</td>\n",
       "      <td>0.863201</td>\n",
       "      <td>1.736923</td>\n",
       "      <td>4.467828</td>\n",
       "      <td>4.397403</td>\n",
       "    </tr>\n",
       "    <tr>\n",
       "      <th>20334</th>\n",
       "      <td>69.486228</td>\n",
       "      <td>0.412294</td>\n",
       "      <td>15.144012</td>\n",
       "      <td>0.895242</td>\n",
       "      <td>1.968498</td>\n",
       "      <td>0.061023</td>\n",
       "      <td>1.064592</td>\n",
       "      <td>2.171610</td>\n",
       "      <td>4.478991</td>\n",
       "      <td>4.317511</td>\n",
       "    </tr>\n",
       "    <tr>\n",
       "      <th>...</th>\n",
       "      <td>...</td>\n",
       "      <td>...</td>\n",
       "      <td>...</td>\n",
       "      <td>...</td>\n",
       "      <td>...</td>\n",
       "      <td>...</td>\n",
       "      <td>...</td>\n",
       "      <td>...</td>\n",
       "      <td>...</td>\n",
       "      <td>...</td>\n",
       "    </tr>\n",
       "    <tr>\n",
       "      <th>208816</th>\n",
       "      <td>73.434814</td>\n",
       "      <td>0.242304</td>\n",
       "      <td>13.923243</td>\n",
       "      <td>0.884466</td>\n",
       "      <td>1.350652</td>\n",
       "      <td>0.043278</td>\n",
       "      <td>0.374717</td>\n",
       "      <td>0.714728</td>\n",
       "      <td>4.367559</td>\n",
       "      <td>4.664239</td>\n",
       "    </tr>\n",
       "    <tr>\n",
       "      <th>208817</th>\n",
       "      <td>73.450299</td>\n",
       "      <td>0.241647</td>\n",
       "      <td>13.916517</td>\n",
       "      <td>0.884356</td>\n",
       "      <td>1.348033</td>\n",
       "      <td>0.043201</td>\n",
       "      <td>0.372749</td>\n",
       "      <td>0.710736</td>\n",
       "      <td>4.366730</td>\n",
       "      <td>4.665733</td>\n",
       "    </tr>\n",
       "    <tr>\n",
       "      <th>208818</th>\n",
       "      <td>73.464622</td>\n",
       "      <td>0.241041</td>\n",
       "      <td>13.910280</td>\n",
       "      <td>0.884253</td>\n",
       "      <td>1.345609</td>\n",
       "      <td>0.043130</td>\n",
       "      <td>0.370934</td>\n",
       "      <td>0.707055</td>\n",
       "      <td>4.365959</td>\n",
       "      <td>4.667117</td>\n",
       "    </tr>\n",
       "    <tr>\n",
       "      <th>208819</th>\n",
       "      <td>73.477805</td>\n",
       "      <td>0.240482</td>\n",
       "      <td>13.904527</td>\n",
       "      <td>0.884158</td>\n",
       "      <td>1.343378</td>\n",
       "      <td>0.043065</td>\n",
       "      <td>0.369268</td>\n",
       "      <td>0.703679</td>\n",
       "      <td>4.365247</td>\n",
       "      <td>4.668391</td>\n",
       "    </tr>\n",
       "    <tr>\n",
       "      <th>208820</th>\n",
       "      <td>73.489866</td>\n",
       "      <td>0.239972</td>\n",
       "      <td>13.899253</td>\n",
       "      <td>0.884071</td>\n",
       "      <td>1.341336</td>\n",
       "      <td>0.043005</td>\n",
       "      <td>0.367748</td>\n",
       "      <td>0.700599</td>\n",
       "      <td>4.364593</td>\n",
       "      <td>4.669558</td>\n",
       "    </tr>\n",
       "  </tbody>\n",
       "</table>\n",
       "<p>50445 rows × 10 columns</p>\n",
       "</div>"
      ],
      "text/plain": [
       "             SiO2      TiO2      Al2O3     Fe2O3       FeO       MnO  \\\n",
       "19846   70.441084  0.371688  14.930385  0.895400  1.830435  0.057119   \n",
       "19847   70.445469  0.371500  14.929297  0.895397  1.829782  0.057101   \n",
       "19848   70.450608  0.371279  14.928022  0.895394  1.829017  0.057079   \n",
       "19849   70.456460  0.371028  14.926567  0.895390  1.828146  0.057054   \n",
       "20334   69.486228  0.412294  15.144012  0.895242  1.968498  0.061023   \n",
       "...           ...       ...        ...       ...       ...       ...   \n",
       "208816  73.434814  0.242304  13.923243  0.884466  1.350652  0.043278   \n",
       "208817  73.450299  0.241647  13.916517  0.884356  1.348033  0.043201   \n",
       "208818  73.464622  0.241041  13.910280  0.884253  1.345609  0.043130   \n",
       "208819  73.477805  0.240482  13.904527  0.884158  1.343378  0.043065   \n",
       "208820  73.489866  0.239972  13.899253  0.884071  1.341336  0.043005   \n",
       "\n",
       "             MgO       CaO      Na2O       K2O  \n",
       "19846   0.866247  1.743451  4.468076  4.396114  \n",
       "19847   0.865378  1.741588  4.468006  4.396482  \n",
       "19848   0.864360  1.739406  4.467923  4.396912  \n",
       "19849   0.863201  1.736923  4.467828  4.397403  \n",
       "20334   1.064592  2.171610  4.478991  4.317511  \n",
       "...          ...       ...       ...       ...  \n",
       "208816  0.374717  0.714728  4.367559  4.664239  \n",
       "208817  0.372749  0.710736  4.366730  4.665733  \n",
       "208818  0.370934  0.707055  4.365959  4.667117  \n",
       "208819  0.369268  0.703679  4.365247  4.668391  \n",
       "208820  0.367748  0.700599  4.364593  4.669558  \n",
       "\n",
       "[50445 rows x 10 columns]"
      ]
     },
     "execution_count": 9,
     "metadata": {},
     "output_type": "execute_result"
    }
   ],
   "source": [
    "mineralogy"
   ]
  },
  {
   "cell_type": "code",
   "execution_count": 10,
   "metadata": {},
   "outputs": [],
   "source": [
    "mineralogy1 = mineralogy.iloc[0:45000]\n",
    "mineralogy2 = mineralogy.iloc[45001:90000]"
   ]
  },
  {
   "cell_type": "raw",
   "metadata": {},
   "source": [
    "def convert_to_CIPWFULL_format(df, path, dataset_name=\"Dataset\", index_prefix=None, rock_type=\"P\", \n",
    "                               rock_suite_column=None, normalization=False):\n",
    "    \"\"\"Converts a pandas DataFrame to a txt file compatible \n",
    "    as an input file for the CIPWFULL program by AL-Mishwat (2015)\n",
    "    \n",
    "    Parameters:\n",
    "    -----------\n",
    "    df : pd.DataFrame\n",
    "        mineralogy data in the form of oxides\n",
    "    path : str\n",
    "        path to where to save resulting file\n",
    "    dataset_name : str (optional)\n",
    "        Name opf dataset to use in CIPWFULL\n",
    "        defaults to 'Dataset'\n",
    "    index_prefix : str (optional)\n",
    "        Prefix to use before index\n",
    "        defaults to None\n",
    "    rock_type : str (optional)\n",
    "        Rock type indicator:\n",
    "            'P' for plutonic\n",
    "            'V' for volcanic\n",
    "        defaults to 'P'\n",
    "    rock_suite_column : str (optional)\n",
    "        Which column name to use a 'rock suite' in CIPWFULL\n",
    "        The rock suite acts as a grouping variable\n",
    "        defaults to None\n",
    "    normalization : bool (optional)\n",
    "        Write flag to file whether to let CIPWFULL \n",
    "        normalize the data before norm calculation\n",
    "        defaults to False\n",
    "        \n",
    "    Returns:\n",
    "    --------\n",
    "    df_CIPW : pd.DataFrame\n",
    "        altered mineralogy data according to CIPWFULL input format\n",
    "    \n",
    "    (file is written to disk)\n",
    "    \n",
    "    \"\"\"\n",
    "    \n",
    "    # Get copy of original df so that it doesn't get altered\n",
    "    df_CIPW = df.copy()\n",
    "    \n",
    "    # Add prefix to index if required\n",
    "    if index_prefix:\n",
    "        df_CIPW.index = f\"{index_prefix}\" + df_CIPW.index.astype(str)\n",
    "        \n",
    "    # Add additional columns to be moved to index\n",
    "    df_CIPW[\"Type\"] = \"P\"\n",
    "    df_CIPW[\"Cancrinite\"] = 0\n",
    "    if rock_suite_column:\n",
    "        df_CIPW[\"Rock suite\"] = df_CIPW[rock_suite_column]\n",
    "        df_CIPW.drop(rock_suite_column, axis=1)\n",
    "    else:\n",
    "        df_CIPW[\"Rock suite\"] = 1 # This could be changed to a grouping variable such as geographic area, time\n",
    "        \n",
    "    # Move additional columns to index\n",
    "    df_CIPW = df_CIPW.set_index([\"Type\", \"Cancrinite\", \"Rock suite\"], append=True)\n",
    "    \n",
    "    # Start writing file (file saving/closing is handled automatically)\n",
    "    with open(path, 'w') as f:\n",
    "\n",
    "        # Write a '1' before the dataset name if you want CIPWFULL \n",
    "        # to normalize the data before the calculation; else write space\n",
    "        if normalization:\n",
    "            f.write(\"1\")\n",
    "        else:\n",
    "            f.write(\" \")\n",
    "\n",
    "        # Write dataset name\n",
    "        f.write(f\"{dataset_name}\\n\")\n",
    "\n",
    "        # Write column names and index+data\n",
    "        # The floating point number need to be formatted so as not \n",
    "        # to go over the 120 character line limit of CIPWFULL\n",
    "        df_CIPW.to_csv(f, mode='w', sep=\" \", line_terminator=\"\\n\", \n",
    "                       index_label=False, float_format=\"%2.5f\")\n",
    "\n",
    "        # Write '0' to indicate end of data entries\n",
    "        f.write(\"0\")\n",
    "\n",
    "        # Write rock suite names if needed\n",
    "        if rock_suite_column:\n",
    "            f.write(\"\\n\")\n",
    "            f.write(rock_suite_column.unique())\n",
    "            f.write(\"\\n\")"
   ]
  },
  {
   "cell_type": "code",
   "execution_count": 11,
   "metadata": {},
   "outputs": [],
   "source": [
    "cipw.convert_to_CIPWFULL_format(mineralogy1, \"../_CIPW/CIPW/AREA1_Tr_J/area1_Tr_J_1.txt\", dataset_name=\"Vistelius (1995)\")\n",
    "cipw.convert_to_CIPWFULL_format(mineralogy2, \"../_CIPW/CIPW/AREA1_Tr_J/area1_Tr_J_2.txt\", dataset_name=\"Vistelius (1995)\")"
   ]
  },
  {
   "cell_type": "markdown",
   "metadata": {},
   "source": [
    "_____"
   ]
  },
  {
   "cell_type": "markdown",
   "metadata": {},
   "source": [
    "## Extract results from CIPWFULL results file"
   ]
  },
  {
   "cell_type": "markdown",
   "metadata": {},
   "source": [
    "**I only selected quartz, plagioclase and alkali feldspar here as they are of interest to us for the QAPF classification**  \n",
    "**Feel free to extract addiotnal minerals if they would be of any interest to you**"
   ]
  },
  {
   "cell_type": "markdown",
   "metadata": {},
   "source": [
    "**Not sure what to do with albite in the final assignments as by the book it should be accounted for as an alkali feldspar and thus be included in the sum of plagioclase but then the resulting plagioclase contents seem quite low.   \n",
    "This is something you might look into although the method used here seems to be correct according to te resulting QAPF diagram.**\n",
    "\n",
    "--> indeed when reading the paper of Streckeisen (and other sources), albite should be accounted for as an alkali feldspar, also saw that the datapoints were generally located more to the right side (plagioclase), maybe an overestimation of plagioclase?\n",
    "\n",
    "--> I changed the settings below so that albite belongs to the alkali feldspars, Think this figure should be more correct according to the papers, but the cotent of plagioclase is indeed quite low. "
   ]
  },
  {
   "cell_type": "raw",
   "metadata": {},
   "source": [
    "def extract_CIPW_results(path, columns_of_interest=['  QZ', '  OR', '  AB', '  AN'], \n",
    "                         print_columns=False):\n",
    "    \"\"\"Extract the results from CIPWFULL run\n",
    "    \n",
    "    Parameters:\n",
    "    -----------\n",
    "    path : str\n",
    "        Path to results file\n",
    "    columns_of_interest : list (optional)\n",
    "        List of minerals to select in results file\n",
    "        defaults to Q, A, P minerals\n",
    "    print_columns : bool (optional)\n",
    "        Print original df's column names\n",
    "        defaults to False\n",
    "        \n",
    "    Returns:\n",
    "    --------\n",
    "    df_final : pd.DataFrame\n",
    "        Minerals of interest in tabular format\n",
    "    \"\"\"\n",
    "    \n",
    "    df = pd.read_csv(path, sep=\"\\t\", index_col=0)\n",
    "    \n",
    "    if print_columns:\n",
    "        print(df.colums)\n",
    "    \n",
    "    # Drop last row which states the column names again\n",
    "    df = df.iloc[:-1, :]\n",
    "    \n",
    "    # Quary columns in which we're interested\n",
    "    columns_of_interest = ['  QZ', '  OR', '  AB', '  AN']\n",
    "    df_query = df.loc[:, columns_of_interest]\n",
    "    \n",
    "    # Convert values to floats\n",
    "    df_query = df_query.astype(float)\n",
    "    \n",
    "    # Create new dataframe to hold final data\n",
    "    df_final = pd.DataFrame()\n",
    "\n",
    "    df_final[\"Q\"] = df_query[\"  QZ\"]\n",
    "    df_final[\"P\"] = df_query[\"  AB\"] + df_query[\"  AN\"]\n",
    "    df_final[\"K\"] = df_query[\"  OR\"]\n",
    "    \n",
    "    return df_final"
   ]
  },
  {
   "cell_type": "code",
   "execution_count": 14,
   "metadata": {},
   "outputs": [],
   "source": [
    "df_final1 = cipw.extract_CIPW_results(\"../_CIPW/CIPW/AREA1_Tr_J/area1_Tr_J_1_results_excel.txt\")\n",
    "df_final2 = cipw.extract_CIPW_results(\"../_CIPW/CIPW/AREA1_Tr_J/area1_Tr_J_2_results_excel.txt\")"
   ]
  },
  {
   "cell_type": "code",
   "execution_count": 15,
   "metadata": {},
   "outputs": [],
   "source": [
    "df_final = pd.concat([df_final1, df_final2])"
   ]
  },
  {
   "cell_type": "code",
   "execution_count": 16,
   "metadata": {},
   "outputs": [
    {
     "data": {
      "text/html": [
       "<div>\n",
       "<style scoped>\n",
       "    .dataframe tbody tr th:only-of-type {\n",
       "        vertical-align: middle;\n",
       "    }\n",
       "\n",
       "    .dataframe tbody tr th {\n",
       "        vertical-align: top;\n",
       "    }\n",
       "\n",
       "    .dataframe thead th {\n",
       "        text-align: right;\n",
       "    }\n",
       "</style>\n",
       "<table border=\"1\" class=\"dataframe\">\n",
       "  <thead>\n",
       "    <tr style=\"text-align: right;\">\n",
       "      <th></th>\n",
       "      <th>Q</th>\n",
       "      <th>P</th>\n",
       "      <th>K</th>\n",
       "    </tr>\n",
       "    <tr>\n",
       "      <th>SAMPLE</th>\n",
       "      <th></th>\n",
       "      <th></th>\n",
       "      <th></th>\n",
       "    </tr>\n",
       "  </thead>\n",
       "  <tbody>\n",
       "    <tr>\n",
       "      <th>19846</th>\n",
       "      <td>21.839468</td>\n",
       "      <td>41.724163</td>\n",
       "      <td>29.757681</td>\n",
       "    </tr>\n",
       "    <tr>\n",
       "      <th>19847</th>\n",
       "      <td>21.847382</td>\n",
       "      <td>41.719882</td>\n",
       "      <td>29.759805</td>\n",
       "    </tr>\n",
       "    <tr>\n",
       "      <th>19848</th>\n",
       "      <td>21.856672</td>\n",
       "      <td>41.714834</td>\n",
       "      <td>29.762271</td>\n",
       "    </tr>\n",
       "    <tr>\n",
       "      <th>19849</th>\n",
       "      <td>21.867210</td>\n",
       "      <td>41.709151</td>\n",
       "      <td>29.765091</td>\n",
       "    </tr>\n",
       "    <tr>\n",
       "      <th>20334</th>\n",
       "      <td>20.113865</td>\n",
       "      <td>42.573269</td>\n",
       "      <td>29.302453</td>\n",
       "    </tr>\n",
       "    <tr>\n",
       "      <th>...</th>\n",
       "      <td>...</td>\n",
       "      <td>...</td>\n",
       "      <td>...</td>\n",
       "    </tr>\n",
       "    <tr>\n",
       "      <th>208816</th>\n",
       "      <td>27.435339</td>\n",
       "      <td>36.804602</td>\n",
       "      <td>31.257043</td>\n",
       "    </tr>\n",
       "    <tr>\n",
       "      <th>208817</th>\n",
       "      <td>27.463169</td>\n",
       "      <td>36.778487</td>\n",
       "      <td>31.265145</td>\n",
       "    </tr>\n",
       "    <tr>\n",
       "      <th>208818</th>\n",
       "      <td>27.488833</td>\n",
       "      <td>36.754368</td>\n",
       "      <td>31.272709</td>\n",
       "    </tr>\n",
       "    <tr>\n",
       "      <th>208819</th>\n",
       "      <td>27.512484</td>\n",
       "      <td>36.732197</td>\n",
       "      <td>31.279610</td>\n",
       "    </tr>\n",
       "    <tr>\n",
       "      <th>208820</th>\n",
       "      <td>27.534100</td>\n",
       "      <td>36.711891</td>\n",
       "      <td>31.285967</td>\n",
       "    </tr>\n",
       "  </tbody>\n",
       "</table>\n",
       "<p>50444 rows × 3 columns</p>\n",
       "</div>"
      ],
      "text/plain": [
       "                   Q          P          K\n",
       " SAMPLE                                   \n",
       "19846      21.839468  41.724163  29.757681\n",
       "19847      21.847382  41.719882  29.759805\n",
       "19848      21.856672  41.714834  29.762271\n",
       "19849      21.867210  41.709151  29.765091\n",
       "20334      20.113865  42.573269  29.302453\n",
       "...              ...        ...        ...\n",
       " 208816    27.435339  36.804602  31.257043\n",
       " 208817    27.463169  36.778487  31.265145\n",
       " 208818    27.488833  36.754368  31.272709\n",
       " 208819    27.512484  36.732197  31.279610\n",
       " 208820    27.534100  36.711891  31.285967\n",
       "\n",
       "[50444 rows x 3 columns]"
      ]
     },
     "execution_count": 16,
     "metadata": {},
     "output_type": "execute_result"
    }
   ],
   "source": [
    "df_final"
   ]
  },
  {
   "cell_type": "markdown",
   "metadata": {},
   "source": [
    "## QAPF classification"
   ]
  },
  {
   "cell_type": "code",
   "execution_count": 17,
   "metadata": {},
   "outputs": [],
   "source": [
    "df_final[\"QAPF\"] = qapf.check_QAPF_region(df_final)"
   ]
  },
  {
   "cell_type": "code",
   "execution_count": 18,
   "metadata": {},
   "outputs": [
    {
     "data": {
      "text/plain": [
       "array(['monzo granite', 'quartz monzonite'], dtype=object)"
      ]
     },
     "execution_count": 18,
     "metadata": {},
     "output_type": "execute_result"
    }
   ],
   "source": [
    "df_final[\"QAPF\"].unique()"
   ]
  },
  {
   "cell_type": "raw",
   "metadata": {},
   "source": [
    "import plotly.express as px\n",
    "import plotly.graph_objects as go\n",
    "\n",
    "fig = px.scatter_ternary(df_final, a=\"Q\", b=\"K\", c=\"P\", color=\"QAPF\")\n",
    "\n",
    "fig.write_image(f\"../_FIGURES/geomap/qapf_ternary/area1_QAPF.pdf\")\n",
    "fig.show()"
   ]
  },
  {
   "cell_type": "code",
   "execution_count": 19,
   "metadata": {},
   "outputs": [],
   "source": [
    "df_final.to_excel(\"../_CIPW/CIPW/AREA1_Tr_J/qapf.xlsx\", index=True)"
   ]
  },
  {
   "cell_type": "markdown",
   "metadata": {},
   "source": [
    "-------"
   ]
  },
  {
   "cell_type": "code",
   "execution_count": 20,
   "metadata": {},
   "outputs": [],
   "source": [
    "df_final.iloc[:, 3].value_counts().to_excel(\"../_CIPW/CIPW/AREA1_Tr_J/QAPF_counts.xlsx\")"
   ]
  },
  {
   "cell_type": "markdown",
   "metadata": {},
   "source": [
    "-----"
   ]
  },
  {
   "cell_type": "code",
   "execution_count": 21,
   "metadata": {},
   "outputs": [],
   "source": [
    "QAPF_control = pd.read_excel(\"../_CIPW/CIPW/1_normalized.xlsx\", index_col=0)\n",
    "Area = pd.read_excel(\"../_INTERPOLATION/area1_Tr_J.xlsx\", index_col=0, usecols = [0, 1, 2, 3, 4, 29])"
   ]
  },
  {
   "cell_type": "code",
   "execution_count": 22,
   "metadata": {},
   "outputs": [],
   "source": [
    "QAPF_control = pd.concat([Area, QAPF_control], axis = 1)\n",
    "QAPF_control = QAPF_control.dropna()\n",
    "QAPF_control\n",
    "QAPF_control.to_excel(\"../_CIPW/CIPW/AREA1_Tr_J/QAPF_control_points.xlsx\", index=True)"
   ]
  },
  {
   "cell_type": "raw",
   "metadata": {},
   "source": [
    "QAPF_control_area1 = QAPF_control[QAPF_control['area'] ==1]\n",
    "QAPF_control_area1.to_excel(\"../_CIPW/CIPW/AREA1/QAPF_control_points.xlsx\", index=True)"
   ]
  },
  {
   "cell_type": "code",
   "execution_count": null,
   "metadata": {},
   "outputs": [],
   "source": []
  }
 ],
 "metadata": {
  "kernelspec": {
   "display_name": "Python 3",
   "language": "python",
   "name": "python3"
  },
  "language_info": {
   "codemirror_mode": {
    "name": "ipython",
    "version": 3
   },
   "file_extension": ".py",
   "mimetype": "text/x-python",
   "name": "python",
   "nbconvert_exporter": "python",
   "pygments_lexer": "ipython3",
   "version": "3.7.3"
  }
 },
 "nbformat": 4,
 "nbformat_minor": 4
}
