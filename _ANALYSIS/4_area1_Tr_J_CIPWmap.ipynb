{
 "cells": [
  {
   "cell_type": "code",
   "execution_count": 27,
   "metadata": {},
   "outputs": [],
   "source": [
    "import numpy as np\n",
    "import pandas as pd"
   ]
  },
  {
   "cell_type": "code",
   "execution_count": 28,
   "metadata": {},
   "outputs": [],
   "source": [
    "import prepostprocessing.cleaning as cleaning\n",
    "import prepostprocessing.pre_processing as preproc\n",
    "from qapf import qapf\n",
    "from qapf import cipw"
   ]
  },
  {
   "cell_type": "markdown",
   "metadata": {},
   "source": [
    "___"
   ]
  },
  {
   "cell_type": "markdown",
   "metadata": {},
   "source": [
    "# CIPWFULL normalized data"
   ]
  },
  {
   "cell_type": "markdown",
   "metadata": {},
   "source": [
    "## Convert to CIPWFULL format"
   ]
  },
  {
   "cell_type": "markdown",
   "metadata": {},
   "source": [
    "**I used an arbitrary version of the mineralogical data, not sure if this is the correct one** -->is a good one"
   ]
  },
  {
   "cell_type": "code",
   "execution_count": 29,
   "metadata": {},
   "outputs": [
    {
     "data": {
      "text/plain": [
       "Index(['SiO2', 'TiO2', 'Al2O3', 'Fe2O3', 'FeO', 'MnO', 'MgO', 'CaO', 'Na2O',\n",
       "       'K2O', 'oth'],\n",
       "      dtype='object')"
      ]
     },
     "execution_count": 29,
     "metadata": {},
     "output_type": "execute_result"
    }
   ],
   "source": [
    "mineralogy_original = pd.read_excel(\"../_CIPW/CIPW/AREA1_Tr_J/interpolated_data.xlsx\", index_col=0)\n",
    "# Only iterested in sample number and oxides\n",
    "mineralogy = mineralogy_original[['SiO2', 'TiO2', 'Al2O3', 'Fe2O3','FeO', 'MnO', 'MgO', 'CaO', 'Na2O', 'K2O', 'oth']]\n",
    "mineralogy.columns"
   ]
  },
  {
   "cell_type": "code",
   "execution_count": 30,
   "metadata": {},
   "outputs": [],
   "source": [
    "mineralogy = mineralogy.dropna()"
   ]
  },
  {
   "cell_type": "code",
   "execution_count": 31,
   "metadata": {},
   "outputs": [],
   "source": [
    "# Check for closed sum\n",
    "assert all(np.isclose(mineralogy.sum(axis=1), 100.0))"
   ]
  },
  {
   "cell_type": "code",
   "execution_count": 32,
   "metadata": {},
   "outputs": [],
   "source": [
    "# Remove 'l.i.'' and 'oth' columns and immediately normalize data\n",
    "mineralogy = preproc.normalize(mineralogy.drop([\"oth\"], axis=1))"
   ]
  },
  {
   "cell_type": "code",
   "execution_count": 33,
   "metadata": {},
   "outputs": [],
   "source": [
    "# Check for closed sum\n",
    "assert all(np.isclose(mineralogy.sum(axis=1), 100.0))"
   ]
  },
  {
   "cell_type": "code",
   "execution_count": 34,
   "metadata": {},
   "outputs": [
    {
     "data": {
      "text/html": [
       "<div>\n",
       "<style scoped>\n",
       "    .dataframe tbody tr th:only-of-type {\n",
       "        vertical-align: middle;\n",
       "    }\n",
       "\n",
       "    .dataframe tbody tr th {\n",
       "        vertical-align: top;\n",
       "    }\n",
       "\n",
       "    .dataframe thead th {\n",
       "        text-align: right;\n",
       "    }\n",
       "</style>\n",
       "<table border=\"1\" class=\"dataframe\">\n",
       "  <thead>\n",
       "    <tr style=\"text-align: right;\">\n",
       "      <th></th>\n",
       "      <th>SiO2</th>\n",
       "      <th>TiO2</th>\n",
       "      <th>Al2O3</th>\n",
       "      <th>Fe2O3</th>\n",
       "      <th>FeO</th>\n",
       "      <th>MnO</th>\n",
       "      <th>MgO</th>\n",
       "      <th>CaO</th>\n",
       "      <th>Na2O</th>\n",
       "      <th>K2O</th>\n",
       "    </tr>\n",
       "  </thead>\n",
       "  <tbody>\n",
       "    <tr>\n",
       "      <th>19846</th>\n",
       "      <td>68.902419</td>\n",
       "      <td>0.436649</td>\n",
       "      <td>15.253316</td>\n",
       "      <td>0.894456</td>\n",
       "      <td>2.048878</td>\n",
       "      <td>0.063279</td>\n",
       "      <td>1.194222</td>\n",
       "      <td>2.454456</td>\n",
       "      <td>4.481631</td>\n",
       "      <td>4.270694</td>\n",
       "    </tr>\n",
       "    <tr>\n",
       "      <th>19847</th>\n",
       "      <td>68.895685</td>\n",
       "      <td>0.436928</td>\n",
       "      <td>15.254489</td>\n",
       "      <td>0.894444</td>\n",
       "      <td>2.049787</td>\n",
       "      <td>0.063305</td>\n",
       "      <td>1.195752</td>\n",
       "      <td>2.457807</td>\n",
       "      <td>4.481645</td>\n",
       "      <td>4.270159</td>\n",
       "    </tr>\n",
       "    <tr>\n",
       "      <th>19848</th>\n",
       "      <td>68.889270</td>\n",
       "      <td>0.437193</td>\n",
       "      <td>15.255604</td>\n",
       "      <td>0.894433</td>\n",
       "      <td>2.050653</td>\n",
       "      <td>0.063329</td>\n",
       "      <td>1.197210</td>\n",
       "      <td>2.461001</td>\n",
       "      <td>4.481658</td>\n",
       "      <td>4.269649</td>\n",
       "    </tr>\n",
       "    <tr>\n",
       "      <th>19849</th>\n",
       "      <td>68.883235</td>\n",
       "      <td>0.437442</td>\n",
       "      <td>15.256652</td>\n",
       "      <td>0.894422</td>\n",
       "      <td>2.051467</td>\n",
       "      <td>0.063352</td>\n",
       "      <td>1.198582</td>\n",
       "      <td>2.464008</td>\n",
       "      <td>4.481670</td>\n",
       "      <td>4.269170</td>\n",
       "    </tr>\n",
       "    <tr>\n",
       "      <th>20334</th>\n",
       "      <td>68.952628</td>\n",
       "      <td>0.434570</td>\n",
       "      <td>15.244511</td>\n",
       "      <td>0.894543</td>\n",
       "      <td>2.042086</td>\n",
       "      <td>0.063089</td>\n",
       "      <td>1.182839</td>\n",
       "      <td>2.429532</td>\n",
       "      <td>4.481516</td>\n",
       "      <td>4.274687</td>\n",
       "    </tr>\n",
       "  </tbody>\n",
       "</table>\n",
       "</div>"
      ],
      "text/plain": [
       "            SiO2      TiO2      Al2O3     Fe2O3       FeO       MnO       MgO  \\\n",
       "19846  68.902419  0.436649  15.253316  0.894456  2.048878  0.063279  1.194222   \n",
       "19847  68.895685  0.436928  15.254489  0.894444  2.049787  0.063305  1.195752   \n",
       "19848  68.889270  0.437193  15.255604  0.894433  2.050653  0.063329  1.197210   \n",
       "19849  68.883235  0.437442  15.256652  0.894422  2.051467  0.063352  1.198582   \n",
       "20334  68.952628  0.434570  15.244511  0.894543  2.042086  0.063089  1.182839   \n",
       "\n",
       "            CaO      Na2O       K2O  \n",
       "19846  2.454456  4.481631  4.270694  \n",
       "19847  2.457807  4.481645  4.270159  \n",
       "19848  2.461001  4.481658  4.269649  \n",
       "19849  2.464008  4.481670  4.269170  \n",
       "20334  2.429532  4.481516  4.274687  "
      ]
     },
     "execution_count": 34,
     "metadata": {},
     "output_type": "execute_result"
    }
   ],
   "source": [
    "mineralogy.head()"
   ]
  },
  {
   "cell_type": "code",
   "execution_count": 35,
   "metadata": {},
   "outputs": [
    {
     "data": {
      "text/html": [
       "<div>\n",
       "<style scoped>\n",
       "    .dataframe tbody tr th:only-of-type {\n",
       "        vertical-align: middle;\n",
       "    }\n",
       "\n",
       "    .dataframe tbody tr th {\n",
       "        vertical-align: top;\n",
       "    }\n",
       "\n",
       "    .dataframe thead th {\n",
       "        text-align: right;\n",
       "    }\n",
       "</style>\n",
       "<table border=\"1\" class=\"dataframe\">\n",
       "  <thead>\n",
       "    <tr style=\"text-align: right;\">\n",
       "      <th></th>\n",
       "      <th>SiO2</th>\n",
       "      <th>TiO2</th>\n",
       "      <th>Al2O3</th>\n",
       "      <th>Fe2O3</th>\n",
       "      <th>FeO</th>\n",
       "      <th>MnO</th>\n",
       "      <th>MgO</th>\n",
       "      <th>CaO</th>\n",
       "      <th>Na2O</th>\n",
       "      <th>K2O</th>\n",
       "    </tr>\n",
       "  </thead>\n",
       "  <tbody>\n",
       "    <tr>\n",
       "      <th>19846</th>\n",
       "      <td>68.902419</td>\n",
       "      <td>0.436649</td>\n",
       "      <td>15.253316</td>\n",
       "      <td>0.894456</td>\n",
       "      <td>2.048878</td>\n",
       "      <td>0.063279</td>\n",
       "      <td>1.194222</td>\n",
       "      <td>2.454456</td>\n",
       "      <td>4.481631</td>\n",
       "      <td>4.270694</td>\n",
       "    </tr>\n",
       "    <tr>\n",
       "      <th>19847</th>\n",
       "      <td>68.895685</td>\n",
       "      <td>0.436928</td>\n",
       "      <td>15.254489</td>\n",
       "      <td>0.894444</td>\n",
       "      <td>2.049787</td>\n",
       "      <td>0.063305</td>\n",
       "      <td>1.195752</td>\n",
       "      <td>2.457807</td>\n",
       "      <td>4.481645</td>\n",
       "      <td>4.270159</td>\n",
       "    </tr>\n",
       "    <tr>\n",
       "      <th>19848</th>\n",
       "      <td>68.889270</td>\n",
       "      <td>0.437193</td>\n",
       "      <td>15.255604</td>\n",
       "      <td>0.894433</td>\n",
       "      <td>2.050653</td>\n",
       "      <td>0.063329</td>\n",
       "      <td>1.197210</td>\n",
       "      <td>2.461001</td>\n",
       "      <td>4.481658</td>\n",
       "      <td>4.269649</td>\n",
       "    </tr>\n",
       "    <tr>\n",
       "      <th>19849</th>\n",
       "      <td>68.883235</td>\n",
       "      <td>0.437442</td>\n",
       "      <td>15.256652</td>\n",
       "      <td>0.894422</td>\n",
       "      <td>2.051467</td>\n",
       "      <td>0.063352</td>\n",
       "      <td>1.198582</td>\n",
       "      <td>2.464008</td>\n",
       "      <td>4.481670</td>\n",
       "      <td>4.269170</td>\n",
       "    </tr>\n",
       "    <tr>\n",
       "      <th>20334</th>\n",
       "      <td>68.952628</td>\n",
       "      <td>0.434570</td>\n",
       "      <td>15.244511</td>\n",
       "      <td>0.894543</td>\n",
       "      <td>2.042086</td>\n",
       "      <td>0.063089</td>\n",
       "      <td>1.182839</td>\n",
       "      <td>2.429532</td>\n",
       "      <td>4.481516</td>\n",
       "      <td>4.274687</td>\n",
       "    </tr>\n",
       "    <tr>\n",
       "      <th>...</th>\n",
       "      <td>...</td>\n",
       "      <td>...</td>\n",
       "      <td>...</td>\n",
       "      <td>...</td>\n",
       "      <td>...</td>\n",
       "      <td>...</td>\n",
       "      <td>...</td>\n",
       "      <td>...</td>\n",
       "      <td>...</td>\n",
       "      <td>...</td>\n",
       "    </tr>\n",
       "    <tr>\n",
       "      <th>208816</th>\n",
       "      <td>73.404988</td>\n",
       "      <td>0.243569</td>\n",
       "      <td>13.936151</td>\n",
       "      <td>0.884677</td>\n",
       "      <td>1.355695</td>\n",
       "      <td>0.043426</td>\n",
       "      <td>0.378526</td>\n",
       "      <td>0.722456</td>\n",
       "      <td>4.369148</td>\n",
       "      <td>4.661364</td>\n",
       "    </tr>\n",
       "    <tr>\n",
       "      <th>208817</th>\n",
       "      <td>73.419325</td>\n",
       "      <td>0.242961</td>\n",
       "      <td>13.929954</td>\n",
       "      <td>0.884576</td>\n",
       "      <td>1.353271</td>\n",
       "      <td>0.043355</td>\n",
       "      <td>0.376692</td>\n",
       "      <td>0.718735</td>\n",
       "      <td>4.368386</td>\n",
       "      <td>4.662746</td>\n",
       "    </tr>\n",
       "    <tr>\n",
       "      <th>208818</th>\n",
       "      <td>73.432466</td>\n",
       "      <td>0.242403</td>\n",
       "      <td>13.924261</td>\n",
       "      <td>0.884483</td>\n",
       "      <td>1.351049</td>\n",
       "      <td>0.043290</td>\n",
       "      <td>0.375016</td>\n",
       "      <td>0.715334</td>\n",
       "      <td>4.367685</td>\n",
       "      <td>4.664013</td>\n",
       "    </tr>\n",
       "    <tr>\n",
       "      <th>208819</th>\n",
       "      <td>73.444446</td>\n",
       "      <td>0.241895</td>\n",
       "      <td>13.919061</td>\n",
       "      <td>0.884398</td>\n",
       "      <td>1.349023</td>\n",
       "      <td>0.043230</td>\n",
       "      <td>0.373492</td>\n",
       "      <td>0.712243</td>\n",
       "      <td>4.367044</td>\n",
       "      <td>4.665168</td>\n",
       "    </tr>\n",
       "    <tr>\n",
       "      <th>208820</th>\n",
       "      <td>73.455292</td>\n",
       "      <td>0.241436</td>\n",
       "      <td>13.914344</td>\n",
       "      <td>0.884320</td>\n",
       "      <td>1.347188</td>\n",
       "      <td>0.043176</td>\n",
       "      <td>0.372116</td>\n",
       "      <td>0.709451</td>\n",
       "      <td>4.366461</td>\n",
       "      <td>4.666216</td>\n",
       "    </tr>\n",
       "  </tbody>\n",
       "</table>\n",
       "<p>50445 rows × 10 columns</p>\n",
       "</div>"
      ],
      "text/plain": [
       "             SiO2      TiO2      Al2O3     Fe2O3       FeO       MnO  \\\n",
       "19846   68.902419  0.436649  15.253316  0.894456  2.048878  0.063279   \n",
       "19847   68.895685  0.436928  15.254489  0.894444  2.049787  0.063305   \n",
       "19848   68.889270  0.437193  15.255604  0.894433  2.050653  0.063329   \n",
       "19849   68.883235  0.437442  15.256652  0.894422  2.051467  0.063352   \n",
       "20334   68.952628  0.434570  15.244511  0.894543  2.042086  0.063089   \n",
       "...           ...       ...        ...       ...       ...       ...   \n",
       "208816  73.404988  0.243569  13.936151  0.884677  1.355695  0.043426   \n",
       "208817  73.419325  0.242961  13.929954  0.884576  1.353271  0.043355   \n",
       "208818  73.432466  0.242403  13.924261  0.884483  1.351049  0.043290   \n",
       "208819  73.444446  0.241895  13.919061  0.884398  1.349023  0.043230   \n",
       "208820  73.455292  0.241436  13.914344  0.884320  1.347188  0.043176   \n",
       "\n",
       "             MgO       CaO      Na2O       K2O  \n",
       "19846   1.194222  2.454456  4.481631  4.270694  \n",
       "19847   1.195752  2.457807  4.481645  4.270159  \n",
       "19848   1.197210  2.461001  4.481658  4.269649  \n",
       "19849   1.198582  2.464008  4.481670  4.269170  \n",
       "20334   1.182839  2.429532  4.481516  4.274687  \n",
       "...          ...       ...       ...       ...  \n",
       "208816  0.378526  0.722456  4.369148  4.661364  \n",
       "208817  0.376692  0.718735  4.368386  4.662746  \n",
       "208818  0.375016  0.715334  4.367685  4.664013  \n",
       "208819  0.373492  0.712243  4.367044  4.665168  \n",
       "208820  0.372116  0.709451  4.366461  4.666216  \n",
       "\n",
       "[50445 rows x 10 columns]"
      ]
     },
     "execution_count": 35,
     "metadata": {},
     "output_type": "execute_result"
    }
   ],
   "source": [
    "mineralogy"
   ]
  },
  {
   "cell_type": "code",
   "execution_count": 37,
   "metadata": {},
   "outputs": [],
   "source": [
    "mineralogy1 = mineralogy.iloc[0:45000]\n",
    "mineralogy2 = mineralogy.iloc[45001:90000]"
   ]
  },
  {
   "cell_type": "raw",
   "metadata": {},
   "source": [
    "def convert_to_CIPWFULL_format(df, path, dataset_name=\"Dataset\", index_prefix=None, rock_type=\"P\", \n",
    "                               rock_suite_column=None, normalization=False):\n",
    "    \"\"\"Converts a pandas DataFrame to a txt file compatible \n",
    "    as an input file for the CIPWFULL program by AL-Mishwat (2015)\n",
    "    \n",
    "    Parameters:\n",
    "    -----------\n",
    "    df : pd.DataFrame\n",
    "        mineralogy data in the form of oxides\n",
    "    path : str\n",
    "        path to where to save resulting file\n",
    "    dataset_name : str (optional)\n",
    "        Name opf dataset to use in CIPWFULL\n",
    "        defaults to 'Dataset'\n",
    "    index_prefix : str (optional)\n",
    "        Prefix to use before index\n",
    "        defaults to None\n",
    "    rock_type : str (optional)\n",
    "        Rock type indicator:\n",
    "            'P' for plutonic\n",
    "            'V' for volcanic\n",
    "        defaults to 'P'\n",
    "    rock_suite_column : str (optional)\n",
    "        Which column name to use a 'rock suite' in CIPWFULL\n",
    "        The rock suite acts as a grouping variable\n",
    "        defaults to None\n",
    "    normalization : bool (optional)\n",
    "        Write flag to file whether to let CIPWFULL \n",
    "        normalize the data before norm calculation\n",
    "        defaults to False\n",
    "        \n",
    "    Returns:\n",
    "    --------\n",
    "    df_CIPW : pd.DataFrame\n",
    "        altered mineralogy data according to CIPWFULL input format\n",
    "    \n",
    "    (file is written to disk)\n",
    "    \n",
    "    \"\"\"\n",
    "    \n",
    "    # Get copy of original df so that it doesn't get altered\n",
    "    df_CIPW = df.copy()\n",
    "    \n",
    "    # Add prefix to index if required\n",
    "    if index_prefix:\n",
    "        df_CIPW.index = f\"{index_prefix}\" + df_CIPW.index.astype(str)\n",
    "        \n",
    "    # Add additional columns to be moved to index\n",
    "    df_CIPW[\"Type\"] = \"P\"\n",
    "    df_CIPW[\"Cancrinite\"] = 0\n",
    "    if rock_suite_column:\n",
    "        df_CIPW[\"Rock suite\"] = df_CIPW[rock_suite_column]\n",
    "        df_CIPW.drop(rock_suite_column, axis=1)\n",
    "    else:\n",
    "        df_CIPW[\"Rock suite\"] = 1 # This could be changed to a grouping variable such as geographic area, time\n",
    "        \n",
    "    # Move additional columns to index\n",
    "    df_CIPW = df_CIPW.set_index([\"Type\", \"Cancrinite\", \"Rock suite\"], append=True)\n",
    "    \n",
    "    # Start writing file (file saving/closing is handled automatically)\n",
    "    with open(path, 'w') as f:\n",
    "\n",
    "        # Write a '1' before the dataset name if you want CIPWFULL \n",
    "        # to normalize the data before the calculation; else write space\n",
    "        if normalization:\n",
    "            f.write(\"1\")\n",
    "        else:\n",
    "            f.write(\" \")\n",
    "\n",
    "        # Write dataset name\n",
    "        f.write(f\"{dataset_name}\\n\")\n",
    "\n",
    "        # Write column names and index+data\n",
    "        # The floating point number need to be formatted so as not \n",
    "        # to go over the 120 character line limit of CIPWFULL\n",
    "        df_CIPW.to_csv(f, mode='w', sep=\" \", line_terminator=\"\\n\", \n",
    "                       index_label=False, float_format=\"%2.5f\")\n",
    "\n",
    "        # Write '0' to indicate end of data entries\n",
    "        f.write(\"0\")\n",
    "\n",
    "        # Write rock suite names if needed\n",
    "        if rock_suite_column:\n",
    "            f.write(\"\\n\")\n",
    "            f.write(rock_suite_column.unique())\n",
    "            f.write(\"\\n\")"
   ]
  },
  {
   "cell_type": "code",
   "execution_count": 38,
   "metadata": {},
   "outputs": [],
   "source": [
    "cipw.convert_to_CIPWFULL_format(mineralogy1, \"../_CIPW/CIPW/AREA1_Tr_J/area1_Tr_J_1.txt\", dataset_name=\"Vistelius (1995)\")\n",
    "cipw.convert_to_CIPWFULL_format(mineralogy2, \"../_CIPW/CIPW/AREA1_Tr_J/area1_Tr_J_2.txt\", dataset_name=\"Vistelius (1995)\")"
   ]
  },
  {
   "cell_type": "markdown",
   "metadata": {},
   "source": [
    "_____"
   ]
  },
  {
   "cell_type": "markdown",
   "metadata": {},
   "source": [
    "## Extract results from CIPWFULL results file"
   ]
  },
  {
   "cell_type": "markdown",
   "metadata": {},
   "source": [
    "**I only selected quartz, plagioclase and alkali feldspar here as they are of interest to us for the QAPF classification**  \n",
    "**Feel free to extract addiotnal minerals if they would be of any interest to you**"
   ]
  },
  {
   "cell_type": "markdown",
   "metadata": {},
   "source": [
    "**Not sure what to do with albite in the final assignments as by the book it should be accounted for as an alkali feldspar and thus be included in the sum of plagioclase but then the resulting plagioclase contents seem quite low.   \n",
    "This is something you might look into although the method used here seems to be correct according to te resulting QAPF diagram.**\n",
    "\n",
    "--> indeed when reading the paper of Streckeisen (and other sources), albite should be accounted for as an alkali feldspar, also saw that the datapoints were generally located more to the right side (plagioclase), maybe an overestimation of plagioclase?\n",
    "\n",
    "--> I changed the settings below so that albite belongs to the alkali feldspars, Think this figure should be more correct according to the papers, but the cotent of plagioclase is indeed quite low. "
   ]
  },
  {
   "cell_type": "raw",
   "metadata": {},
   "source": [
    "def extract_CIPW_results(path, columns_of_interest=['  QZ', '  OR', '  AB', '  AN'], \n",
    "                         print_columns=False):\n",
    "    \"\"\"Extract the results from CIPWFULL run\n",
    "    \n",
    "    Parameters:\n",
    "    -----------\n",
    "    path : str\n",
    "        Path to results file\n",
    "    columns_of_interest : list (optional)\n",
    "        List of minerals to select in results file\n",
    "        defaults to Q, A, P minerals\n",
    "    print_columns : bool (optional)\n",
    "        Print original df's column names\n",
    "        defaults to False\n",
    "        \n",
    "    Returns:\n",
    "    --------\n",
    "    df_final : pd.DataFrame\n",
    "        Minerals of interest in tabular format\n",
    "    \"\"\"\n",
    "    \n",
    "    df = pd.read_csv(path, sep=\"\\t\", index_col=0)\n",
    "    \n",
    "    if print_columns:\n",
    "        print(df.colums)\n",
    "    \n",
    "    # Drop last row which states the column names again\n",
    "    df = df.iloc[:-1, :]\n",
    "    \n",
    "    # Quary columns in which we're interested\n",
    "    columns_of_interest = ['  QZ', '  OR', '  AB', '  AN']\n",
    "    df_query = df.loc[:, columns_of_interest]\n",
    "    \n",
    "    # Convert values to floats\n",
    "    df_query = df_query.astype(float)\n",
    "    \n",
    "    # Create new dataframe to hold final data\n",
    "    df_final = pd.DataFrame()\n",
    "\n",
    "    df_final[\"Q\"] = df_query[\"  QZ\"]\n",
    "    df_final[\"P\"] = df_query[\"  AB\"] + df_query[\"  AN\"]\n",
    "    df_final[\"K\"] = df_query[\"  OR\"]\n",
    "    \n",
    "    return df_final"
   ]
  },
  {
   "cell_type": "code",
   "execution_count": 41,
   "metadata": {},
   "outputs": [],
   "source": [
    "df_final1 = cipw.extract_CIPW_results(\"../_CIPW/CIPW/AREA1_Tr_J/area1_Tr_J_1_results_excel.txt\")\n",
    "df_final2 = cipw.extract_CIPW_results(\"../_CIPW/CIPW/AREA1_Tr_J/area1_Tr_J_2_results_excel.txt\")"
   ]
  },
  {
   "cell_type": "code",
   "execution_count": 42,
   "metadata": {},
   "outputs": [],
   "source": [
    "df_final = pd.concat([df_final1, df_final2])"
   ]
  },
  {
   "cell_type": "code",
   "execution_count": 44,
   "metadata": {},
   "outputs": [
    {
     "data": {
      "text/html": [
       "<div>\n",
       "<style scoped>\n",
       "    .dataframe tbody tr th:only-of-type {\n",
       "        vertical-align: middle;\n",
       "    }\n",
       "\n",
       "    .dataframe tbody tr th {\n",
       "        vertical-align: top;\n",
       "    }\n",
       "\n",
       "    .dataframe thead th {\n",
       "        text-align: right;\n",
       "    }\n",
       "</style>\n",
       "<table border=\"1\" class=\"dataframe\">\n",
       "  <thead>\n",
       "    <tr style=\"text-align: right;\">\n",
       "      <th></th>\n",
       "      <th>Q</th>\n",
       "      <th>P</th>\n",
       "      <th>K</th>\n",
       "    </tr>\n",
       "    <tr>\n",
       "      <th>SAMPLE</th>\n",
       "      <th></th>\n",
       "      <th></th>\n",
       "      <th></th>\n",
       "    </tr>\n",
       "  </thead>\n",
       "  <tbody>\n",
       "    <tr>\n",
       "      <th>19846</th>\n",
       "      <td>19.054792</td>\n",
       "      <td>43.018048</td>\n",
       "      <td>29.028022</td>\n",
       "    </tr>\n",
       "    <tr>\n",
       "      <th>19847</th>\n",
       "      <td>19.042517</td>\n",
       "      <td>43.022871</td>\n",
       "      <td>29.024907</td>\n",
       "    </tr>\n",
       "    <tr>\n",
       "      <th>19848</th>\n",
       "      <td>19.030882</td>\n",
       "      <td>43.027438</td>\n",
       "      <td>29.021900</td>\n",
       "    </tr>\n",
       "    <tr>\n",
       "      <th>19849</th>\n",
       "      <td>19.019936</td>\n",
       "      <td>43.031750</td>\n",
       "      <td>29.019072</td>\n",
       "    </tr>\n",
       "    <tr>\n",
       "      <th>20334</th>\n",
       "      <td>19.145943</td>\n",
       "      <td>42.981854</td>\n",
       "      <td>29.051565</td>\n",
       "    </tr>\n",
       "    <tr>\n",
       "      <th>...</th>\n",
       "      <td>...</td>\n",
       "      <td>...</td>\n",
       "      <td>...</td>\n",
       "    </tr>\n",
       "    <tr>\n",
       "      <th>208816</th>\n",
       "      <td>27.381741</td>\n",
       "      <td>36.855054</td>\n",
       "      <td>31.241367</td>\n",
       "    </tr>\n",
       "    <tr>\n",
       "      <th>208817</th>\n",
       "      <td>27.407507</td>\n",
       "      <td>36.830765</td>\n",
       "      <td>31.248939</td>\n",
       "    </tr>\n",
       "    <tr>\n",
       "      <th>208818</th>\n",
       "      <td>27.431187</td>\n",
       "      <td>36.808491</td>\n",
       "      <td>31.255787</td>\n",
       "    </tr>\n",
       "    <tr>\n",
       "      <th>208819</th>\n",
       "      <td>27.452692</td>\n",
       "      <td>36.788291</td>\n",
       "      <td>31.262100</td>\n",
       "    </tr>\n",
       "    <tr>\n",
       "      <th>208820</th>\n",
       "      <td>27.472101</td>\n",
       "      <td>36.770032</td>\n",
       "      <td>31.267814</td>\n",
       "    </tr>\n",
       "  </tbody>\n",
       "</table>\n",
       "<p>50444 rows × 3 columns</p>\n",
       "</div>"
      ],
      "text/plain": [
       "                   Q          P          K\n",
       " SAMPLE                                   \n",
       "19846      19.054792  43.018048  29.028022\n",
       "19847      19.042517  43.022871  29.024907\n",
       "19848      19.030882  43.027438  29.021900\n",
       "19849      19.019936  43.031750  29.019072\n",
       "20334      19.145943  42.981854  29.051565\n",
       "...              ...        ...        ...\n",
       " 208816    27.381741  36.855054  31.241367\n",
       " 208817    27.407507  36.830765  31.248939\n",
       " 208818    27.431187  36.808491  31.255787\n",
       " 208819    27.452692  36.788291  31.262100\n",
       " 208820    27.472101  36.770032  31.267814\n",
       "\n",
       "[50444 rows x 3 columns]"
      ]
     },
     "execution_count": 44,
     "metadata": {},
     "output_type": "execute_result"
    }
   ],
   "source": [
    "df_final"
   ]
  },
  {
   "cell_type": "markdown",
   "metadata": {},
   "source": [
    "## QAPF classification"
   ]
  },
  {
   "cell_type": "code",
   "execution_count": 45,
   "metadata": {},
   "outputs": [],
   "source": [
    "df_final[\"QAPF\"] = qapf.check_QAPF_region(df_final)"
   ]
  },
  {
   "cell_type": "code",
   "execution_count": 46,
   "metadata": {},
   "outputs": [
    {
     "data": {
      "text/plain": [
       "array(['monzo granite', 'quartz monzonite'], dtype=object)"
      ]
     },
     "execution_count": 46,
     "metadata": {},
     "output_type": "execute_result"
    }
   ],
   "source": [
    "df_final[\"QAPF\"].unique()"
   ]
  },
  {
   "cell_type": "raw",
   "metadata": {},
   "source": [
    "import plotly.express as px\n",
    "import plotly.graph_objects as go\n",
    "\n",
    "fig = px.scatter_ternary(df_final, a=\"Q\", b=\"K\", c=\"P\", color=\"QAPF\")\n",
    "\n",
    "fig.write_image(f\"../_FIGURES/geomap/qapf_ternary/area1_QAPF.pdf\")\n",
    "fig.show()"
   ]
  },
  {
   "cell_type": "code",
   "execution_count": 47,
   "metadata": {},
   "outputs": [],
   "source": [
    "df_final.to_excel(\"../_CIPW/CIPW/AREA1_Tr_J/qapf.xlsx\", index=True)"
   ]
  },
  {
   "cell_type": "markdown",
   "metadata": {},
   "source": [
    "-------"
   ]
  },
  {
   "cell_type": "code",
   "execution_count": 48,
   "metadata": {},
   "outputs": [],
   "source": [
    "df_final.iloc[:, 3].value_counts().to_excel(\"../_CIPW/CIPW/AREA1_Tr_J/QAPF_counts.xlsx\")"
   ]
  },
  {
   "cell_type": "markdown",
   "metadata": {},
   "source": [
    "-----"
   ]
  },
  {
   "cell_type": "code",
   "execution_count": 49,
   "metadata": {},
   "outputs": [],
   "source": [
    "QAPF_control = pd.read_excel(\"../_CIPW/CIPW/1_normalized.xlsx\", index_col=0)\n",
    "Area = pd.read_excel(\"../_INTERPOLATION/area1_Tr_J.xlsx\", index_col=0, usecols = [0, 1, 2, 3, 4, 29])"
   ]
  },
  {
   "cell_type": "code",
   "execution_count": 50,
   "metadata": {},
   "outputs": [],
   "source": [
    "QAPF_control = pd.concat([Area, QAPF_control], axis = 1)\n",
    "QAPF_control = QAPF_control.dropna()\n",
    "QAPF_control\n",
    "QAPF_control.to_excel(\"../_CIPW/CIPW/AREA1_Tr_J/QAPF_control_points.xlsx\", index=True)"
   ]
  },
  {
   "cell_type": "raw",
   "metadata": {},
   "source": [
    "QAPF_control_area1 = QAPF_control[QAPF_control['area'] ==1]\n",
    "QAPF_control_area1.to_excel(\"../_CIPW/CIPW/AREA1/QAPF_control_points.xlsx\", index=True)"
   ]
  },
  {
   "cell_type": "code",
   "execution_count": null,
   "metadata": {},
   "outputs": [],
   "source": []
  }
 ],
 "metadata": {
  "kernelspec": {
   "display_name": "Python 3",
   "language": "python",
   "name": "python3"
  },
  "language_info": {
   "codemirror_mode": {
    "name": "ipython",
    "version": 3
   },
   "file_extension": ".py",
   "mimetype": "text/x-python",
   "name": "python",
   "nbconvert_exporter": "python",
   "pygments_lexer": "ipython3",
   "version": "3.7.3"
  }
 },
 "nbformat": 4,
 "nbformat_minor": 4
}
