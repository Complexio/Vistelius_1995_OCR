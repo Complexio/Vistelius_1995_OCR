{
 "cells": [
  {
   "cell_type": "code",
   "execution_count": 1,
   "metadata": {},
   "outputs": [],
   "source": [
    "import numpy as np\n",
    "import pandas as pd"
   ]
  },
  {
   "cell_type": "code",
   "execution_count": 2,
   "metadata": {},
   "outputs": [],
   "source": [
    "import prepostprocessing.cleaning as cleaning\n",
    "import prepostprocessing.pre_processing as preproc\n",
    "from qapf import qapf\n",
    "from qapf import cipw"
   ]
  },
  {
   "cell_type": "markdown",
   "metadata": {},
   "source": [
    "___"
   ]
  },
  {
   "cell_type": "markdown",
   "metadata": {},
   "source": [
    "# CIPWFULL normalized data"
   ]
  },
  {
   "cell_type": "markdown",
   "metadata": {},
   "source": [
    "## Convert to CIPWFULL format"
   ]
  },
  {
   "cell_type": "markdown",
   "metadata": {},
   "source": [
    "**I used an arbitrary version of the mineralogical data, not sure if this is the correct one** -->is a good one"
   ]
  },
  {
   "cell_type": "code",
   "execution_count": null,
   "metadata": {},
   "outputs": [],
   "source": [
    "mineralogy_original = pd.read_excel(\"../_CIPW/CIPW/AREA5/interpolated_data.xlsx\", index_col=0)\n",
    "# Only iterested in sample number and oxides\n",
    "mineralogy = mineralogy_original[['SiO2', 'TiO2', 'Al2O3', 'Fe2O3','FeO', 'MnO', 'MgO', 'CaO', 'Na2O', 'K2O', 'P2O5', 'l.i.', 'oth']]\n",
    "mineralogy.columns"
   ]
  },
  {
   "cell_type": "code",
   "execution_count": null,
   "metadata": {},
   "outputs": [],
   "source": [
    "mineralogy = mineralogy.dropna()"
   ]
  },
  {
   "cell_type": "code",
   "execution_count": null,
   "metadata": {},
   "outputs": [],
   "source": [
    "# Check for closed sum\n",
    "assert all(np.isclose(mineralogy.sum(axis=1), 100.0))"
   ]
  },
  {
   "cell_type": "code",
   "execution_count": null,
   "metadata": {},
   "outputs": [],
   "source": [
    "# Remove 'l.i.'' and 'oth' columns and immediately normalize data\n",
    "mineralogy = preproc.normalize(mineralogy.drop([\"l.i.\", \"oth\"], axis=1))"
   ]
  },
  {
   "cell_type": "code",
   "execution_count": null,
   "metadata": {},
   "outputs": [],
   "source": [
    "# Check for closed sum\n",
    "assert all(np.isclose(mineralogy.sum(axis=1), 100.0))"
   ]
  },
  {
   "cell_type": "code",
   "execution_count": null,
   "metadata": {},
   "outputs": [],
   "source": [
    "mineralogy.head()"
   ]
  },
  {
   "cell_type": "code",
   "execution_count": null,
   "metadata": {},
   "outputs": [],
   "source": [
    "mineralogy1 = mineralogy.iloc[0:45000]\n",
    "mineralogy2 = mineralogy.iloc[45000:90000]\n",
    "mineralogy3 = mineralogy.iloc[90000:135000]\n",
    "mineralogy4 = mineralogy.iloc[135000:180000]\n",
    "\n"
   ]
  },
  {
   "cell_type": "raw",
   "metadata": {},
   "source": [
    "def convert_to_CIPWFULL_format(df, path, dataset_name=\"Dataset\", index_prefix=None, rock_type=\"P\", \n",
    "                               rock_suite_column=None, normalization=False):\n",
    "    \"\"\"Converts a pandas DataFrame to a txt file compatible \n",
    "    as an input file for the CIPWFULL program by AL-Mishwat (2015)\n",
    "    \n",
    "    Parameters:\n",
    "    -----------\n",
    "    df : pd.DataFrame\n",
    "        mineralogy data in the form of oxides\n",
    "    path : str\n",
    "        path to where to save resulting file\n",
    "    dataset_name : str (optional)\n",
    "        Name opf dataset to use in CIPWFULL\n",
    "        defaults to 'Dataset'\n",
    "    index_prefix : str (optional)\n",
    "        Prefix to use before index\n",
    "        defaults to None\n",
    "    rock_type : str (optional)\n",
    "        Rock type indicator:\n",
    "            'P' for plutonic\n",
    "            'V' for volcanic\n",
    "        defaults to 'P'\n",
    "    rock_suite_column : str (optional)\n",
    "        Which column name to use a 'rock suite' in CIPWFULL\n",
    "        The rock suite acts as a grouping variable\n",
    "        defaults to None\n",
    "    normalization : bool (optional)\n",
    "        Write flag to file whether to let CIPWFULL \n",
    "        normalize the data before norm calculation\n",
    "        defaults to False\n",
    "        \n",
    "    Returns:\n",
    "    --------\n",
    "    df_CIPW : pd.DataFrame\n",
    "        altered mineralogy data according to CIPWFULL input format\n",
    "    \n",
    "    (file is written to disk)\n",
    "    \n",
    "    \"\"\"\n",
    "    \n",
    "    # Get copy of original df so that it doesn't get altered\n",
    "    df_CIPW = df.copy()\n",
    "    \n",
    "    # Add prefix to index if required\n",
    "    if index_prefix:\n",
    "        df_CIPW.index = f\"{index_prefix}\" + df_CIPW.index.astype(str)\n",
    "        \n",
    "    # Add additional columns to be moved to index\n",
    "    df_CIPW[\"Type\"] = \"P\"\n",
    "    df_CIPW[\"Cancrinite\"] = 0\n",
    "    if rock_suite_column:\n",
    "        df_CIPW[\"Rock suite\"] = df_CIPW[rock_suite_column]\n",
    "        df_CIPW.drop(rock_suite_column, axis=1)\n",
    "    else:\n",
    "        df_CIPW[\"Rock suite\"] = 1 # This could be changed to a grouping variable such as geographic area, time\n",
    "        \n",
    "    # Move additional columns to index\n",
    "    df_CIPW = df_CIPW.set_index([\"Type\", \"Cancrinite\", \"Rock suite\"], append=True)\n",
    "    \n",
    "    # Start writing file (file saving/closing is handled automatically)\n",
    "    with open(path, 'w') as f:\n",
    "\n",
    "        # Write a '1' before the dataset name if you want CIPWFULL \n",
    "        # to normalize the data before the calculation; else write space\n",
    "        if normalization:\n",
    "            f.write(\"1\")\n",
    "        else:\n",
    "            f.write(\" \")\n",
    "\n",
    "        # Write dataset name\n",
    "        f.write(f\"{dataset_name}\\n\")\n",
    "\n",
    "        # Write column names and index+data\n",
    "        # The floating point number need to be formatted so as not \n",
    "        # to go over the 120 character line limit of CIPWFULL\n",
    "        df_CIPW.to_csv(f, mode='w', sep=\" \", line_terminator=\"\\n\", \n",
    "                       index_label=False, float_format=\"%2.5f\")\n",
    "\n",
    "        # Write '0' to indicate end of data entries\n",
    "        f.write(\"0\")\n",
    "\n",
    "        # Write rock suite names if needed\n",
    "        if rock_suite_column:\n",
    "            f.write(\"\\n\")\n",
    "            f.write(rock_suite_column.unique())\n",
    "            f.write(\"\\n\")"
   ]
  },
  {
   "cell_type": "code",
   "execution_count": 11,
   "metadata": {},
   "outputs": [],
   "source": [
    "cipw.convert_to_CIPWFULL_format(mineralogy1, \"../_CIPW/CIPW/AREA5/area5_1.txt\", dataset_name=\"Vistelius (1995)\")\n",
    "cipw.convert_to_CIPWFULL_format(mineralogy2, \"../_CIPW/CIPW/AREA5/area5_2.txt\", dataset_name=\"Vistelius (1995)\")\n",
    "cipw.convert_to_CIPWFULL_format(mineralogy3, \"../_CIPW/CIPW/AREA5/area5_3.txt\", dataset_name=\"Vistelius (1995)\")\n",
    "cipw.convert_to_CIPWFULL_format(mineralogy4, \"../_CIPW/CIPW/AREA5/area5_4.txt\", dataset_name=\"Vistelius (1995)\")"
   ]
  },
  {
   "cell_type": "markdown",
   "metadata": {},
   "source": [
    "_____"
   ]
  },
  {
   "cell_type": "markdown",
   "metadata": {},
   "source": [
    "## Extract results from CIPWFULL results file"
   ]
  },
  {
   "cell_type": "markdown",
   "metadata": {},
   "source": [
    "**I only selected quartz, plagioclase and alkali feldspar here as they are of interest to us for the QAPF classification**  \n",
    "**Feel free to extract addiotnal minerals if they would be of any interest to you**"
   ]
  },
  {
   "cell_type": "markdown",
   "metadata": {},
   "source": [
    "**Not sure what to do with albite in the final assignments as by the book it should be accounted for as an alkali feldspar and thus be included in the sum of plagioclase but then the resulting plagioclase contents seem quite low.   \n",
    "This is something you might look into although the method used here seems to be correct according to te resulting QAPF diagram.**\n",
    "\n",
    "--> indeed when reading the paper of Streckeisen (and other sources), albite should be accounted for as an alkali feldspar, also saw that the datapoints were generally located more to the right side (plagioclase), maybe an overestimation of plagioclase?\n",
    "\n",
    "--> I changed the settings below so that albite belongs to the alkali feldspars, Think this figure should be more correct according to the papers, but the cotent of plagioclase is indeed quite low. "
   ]
  },
  {
   "cell_type": "raw",
   "metadata": {},
   "source": [
    "def extract_CIPW_results(path, columns_of_interest=['  QZ', '  OR', '  AB', '  AN'], \n",
    "                         print_columns=False):\n",
    "    \"\"\"Extract the results from CIPWFULL run\n",
    "    \n",
    "    Parameters:\n",
    "    -----------\n",
    "    path : str\n",
    "        Path to results file\n",
    "    columns_of_interest : list (optional)\n",
    "        List of minerals to select in results file\n",
    "        defaults to Q, A, P minerals\n",
    "    print_columns : bool (optional)\n",
    "        Print original df's column names\n",
    "        defaults to False\n",
    "        \n",
    "    Returns:\n",
    "    --------\n",
    "    df_final : pd.DataFrame\n",
    "        Minerals of interest in tabular format\n",
    "    \"\"\"\n",
    "    \n",
    "    df = pd.read_csv(path, sep=\"\\t\", index_col=0)\n",
    "    \n",
    "    if print_columns:\n",
    "        print(df.colums)\n",
    "    \n",
    "    # Drop last row which states the column names again\n",
    "    df = df.iloc[:-1, :]\n",
    "    \n",
    "    # Quary columns in which we're interested\n",
    "    columns_of_interest = ['  QZ', '  OR', '  AB', '  AN']\n",
    "    df_query = df.loc[:, columns_of_interest]\n",
    "    \n",
    "    # Convert values to floats\n",
    "    df_query = df_query.astype(float)\n",
    "    \n",
    "    # Create new dataframe to hold final data\n",
    "    df_final = pd.DataFrame()\n",
    "\n",
    "    df_final[\"Q\"] = df_query[\"  QZ\"]\n",
    "    df_final[\"P\"] = df_query[\"  AB\"] + df_query[\"  AN\"]\n",
    "    df_final[\"K\"] = df_query[\"  OR\"]\n",
    "    \n",
    "    return df_final"
   ]
  },
  {
   "cell_type": "code",
   "execution_count": 25,
   "metadata": {},
   "outputs": [],
   "source": [
    "df_final = cipw.extract_CIPW_results(\"../_CIPW/CIPW/AREA5/area5_1_results_excel.txt\")"
   ]
  },
  {
   "cell_type": "code",
   "execution_count": 26,
   "metadata": {},
   "outputs": [],
   "source": [
    "df_final.to_excel(\"../_CIPW/CIPW/AREA5/qapf.xlsx\", index=True)"
   ]
  },
  {
   "cell_type": "raw",
   "metadata": {},
   "source": [
    "df_final = cipw.extract_CIPW_results(\"../_CIPW/CIPW/AREA5/area5_1_results_excel.txt\")\n",
    "df_final2 = cipw.extract_CIPW_results(\"../_CIPW/CIPW/AREA5/area5_2_results_excel.txt\")\n",
    "df_final3 = cipw.extract_CIPW_results(\"../_CIPW/CIPW/AREA5/area5_3_results_excel.txt\")\n",
    "df_final4 = cipw.extract_CIPW_results(\"../_CIPW/CIPW/AREA5/area5_4_results_excel.txt\")"
   ]
  },
  {
   "cell_type": "code",
   "execution_count": 24,
   "metadata": {},
   "outputs": [
    {
     "data": {
      "text/html": [
       "<div>\n",
       "<style scoped>\n",
       "    .dataframe tbody tr th:only-of-type {\n",
       "        vertical-align: middle;\n",
       "    }\n",
       "\n",
       "    .dataframe tbody tr th {\n",
       "        vertical-align: top;\n",
       "    }\n",
       "\n",
       "    .dataframe thead th {\n",
       "        text-align: right;\n",
       "    }\n",
       "</style>\n",
       "<table border=\"1\" class=\"dataframe\">\n",
       "  <thead>\n",
       "    <tr style=\"text-align: right;\">\n",
       "      <th></th>\n",
       "      <th>Q</th>\n",
       "      <th>P</th>\n",
       "      <th>K</th>\n",
       "    </tr>\n",
       "    <tr>\n",
       "      <th>SAMPLE</th>\n",
       "      <th></th>\n",
       "      <th></th>\n",
       "      <th></th>\n",
       "    </tr>\n",
       "  </thead>\n",
       "  <tbody>\n",
       "    <tr>\n",
       "      <th>5249</th>\n",
       "      <td>27.208198</td>\n",
       "      <td>36.628164</td>\n",
       "      <td>27.326432</td>\n",
       "    </tr>\n",
       "    <tr>\n",
       "      <th>5250</th>\n",
       "      <td>27.167389</td>\n",
       "      <td>36.656974</td>\n",
       "      <td>27.315743</td>\n",
       "    </tr>\n",
       "    <tr>\n",
       "      <th>5251</th>\n",
       "      <td>27.126472</td>\n",
       "      <td>36.685809</td>\n",
       "      <td>27.305004</td>\n",
       "    </tr>\n",
       "    <tr>\n",
       "      <th>5252</th>\n",
       "      <td>27.085567</td>\n",
       "      <td>36.714535</td>\n",
       "      <td>27.294222</td>\n",
       "    </tr>\n",
       "    <tr>\n",
       "      <th>5253</th>\n",
       "      <td>27.044643</td>\n",
       "      <td>36.743102</td>\n",
       "      <td>27.283505</td>\n",
       "    </tr>\n",
       "    <tr>\n",
       "      <th>...</th>\n",
       "      <td>...</td>\n",
       "      <td>...</td>\n",
       "      <td>...</td>\n",
       "    </tr>\n",
       "    <tr>\n",
       "      <th>111751</th>\n",
       "      <td>30.801493</td>\n",
       "      <td>32.987579</td>\n",
       "      <td>27.919390</td>\n",
       "    </tr>\n",
       "    <tr>\n",
       "      <th>111752</th>\n",
       "      <td>30.846561</td>\n",
       "      <td>32.971570</td>\n",
       "      <td>27.937194</td>\n",
       "    </tr>\n",
       "    <tr>\n",
       "      <th>111753</th>\n",
       "      <td>30.890490</td>\n",
       "      <td>32.956188</td>\n",
       "      <td>27.954603</td>\n",
       "    </tr>\n",
       "    <tr>\n",
       "      <th>111754</th>\n",
       "      <td>30.933058</td>\n",
       "      <td>32.941655</td>\n",
       "      <td>27.971809</td>\n",
       "    </tr>\n",
       "    <tr>\n",
       "      <th>111755</th>\n",
       "      <td>30.974508</td>\n",
       "      <td>32.927816</td>\n",
       "      <td>27.988617</td>\n",
       "    </tr>\n",
       "  </tbody>\n",
       "</table>\n",
       "<p>45000 rows × 3 columns</p>\n",
       "</div>"
      ],
      "text/plain": [
       "                   Q          P          K\n",
       " SAMPLE                                   \n",
       "5249       27.208198  36.628164  27.326432\n",
       "5250       27.167389  36.656974  27.315743\n",
       "5251       27.126472  36.685809  27.305004\n",
       "5252       27.085567  36.714535  27.294222\n",
       "5253       27.044643  36.743102  27.283505\n",
       "...              ...        ...        ...\n",
       " 111751    30.801493  32.987579  27.919390\n",
       " 111752    30.846561  32.971570  27.937194\n",
       " 111753    30.890490  32.956188  27.954603\n",
       " 111754    30.933058  32.941655  27.971809\n",
       " 111755    30.974508  32.927816  27.988617\n",
       "\n",
       "[45000 rows x 3 columns]"
      ]
     },
     "execution_count": 24,
     "metadata": {},
     "output_type": "execute_result"
    }
   ],
   "source": [
    "df_final"
   ]
  },
  {
   "cell_type": "code",
   "execution_count": 14,
   "metadata": {},
   "outputs": [],
   "source": [
    "df_final = pd.concat([df_final1, df_final2, df_final3, df_final4])"
   ]
  },
  {
   "cell_type": "code",
   "execution_count": 15,
   "metadata": {},
   "outputs": [
    {
     "data": {
      "text/html": [
       "<div>\n",
       "<style scoped>\n",
       "    .dataframe tbody tr th:only-of-type {\n",
       "        vertical-align: middle;\n",
       "    }\n",
       "\n",
       "    .dataframe tbody tr th {\n",
       "        vertical-align: top;\n",
       "    }\n",
       "\n",
       "    .dataframe thead th {\n",
       "        text-align: right;\n",
       "    }\n",
       "</style>\n",
       "<table border=\"1\" class=\"dataframe\">\n",
       "  <thead>\n",
       "    <tr style=\"text-align: right;\">\n",
       "      <th></th>\n",
       "      <th>Q</th>\n",
       "      <th>P</th>\n",
       "      <th>K</th>\n",
       "    </tr>\n",
       "    <tr>\n",
       "      <th>SAMPLE</th>\n",
       "      <th></th>\n",
       "      <th></th>\n",
       "      <th></th>\n",
       "    </tr>\n",
       "  </thead>\n",
       "  <tbody>\n",
       "    <tr>\n",
       "      <th>5249</th>\n",
       "      <td>27.208198</td>\n",
       "      <td>36.628164</td>\n",
       "      <td>27.326432</td>\n",
       "    </tr>\n",
       "    <tr>\n",
       "      <th>5250</th>\n",
       "      <td>27.167389</td>\n",
       "      <td>36.656974</td>\n",
       "      <td>27.315743</td>\n",
       "    </tr>\n",
       "    <tr>\n",
       "      <th>5251</th>\n",
       "      <td>27.126472</td>\n",
       "      <td>36.685809</td>\n",
       "      <td>27.305004</td>\n",
       "    </tr>\n",
       "    <tr>\n",
       "      <th>5252</th>\n",
       "      <td>27.085567</td>\n",
       "      <td>36.714535</td>\n",
       "      <td>27.294222</td>\n",
       "    </tr>\n",
       "    <tr>\n",
       "      <th>5253</th>\n",
       "      <td>27.044643</td>\n",
       "      <td>36.743102</td>\n",
       "      <td>27.283505</td>\n",
       "    </tr>\n",
       "    <tr>\n",
       "      <th>...</th>\n",
       "      <td>...</td>\n",
       "      <td>...</td>\n",
       "      <td>...</td>\n",
       "    </tr>\n",
       "    <tr>\n",
       "      <th>363036</th>\n",
       "      <td>29.914730</td>\n",
       "      <td>34.397391</td>\n",
       "      <td>28.094479</td>\n",
       "    </tr>\n",
       "    <tr>\n",
       "      <th>363037</th>\n",
       "      <td>29.915543</td>\n",
       "      <td>34.396695</td>\n",
       "      <td>28.094040</td>\n",
       "    </tr>\n",
       "    <tr>\n",
       "      <th>363038</th>\n",
       "      <td>29.916504</td>\n",
       "      <td>34.395953</td>\n",
       "      <td>28.093617</td>\n",
       "    </tr>\n",
       "    <tr>\n",
       "      <th>363039</th>\n",
       "      <td>29.917698</td>\n",
       "      <td>34.395012</td>\n",
       "      <td>28.093254</td>\n",
       "    </tr>\n",
       "    <tr>\n",
       "      <th>363040</th>\n",
       "      <td>29.919018</td>\n",
       "      <td>34.393884</td>\n",
       "      <td>28.093016</td>\n",
       "    </tr>\n",
       "  </tbody>\n",
       "</table>\n",
       "<p>177302 rows × 3 columns</p>\n",
       "</div>"
      ],
      "text/plain": [
       "                   Q          P          K\n",
       " SAMPLE                                   \n",
       "5249       27.208198  36.628164  27.326432\n",
       "5250       27.167389  36.656974  27.315743\n",
       "5251       27.126472  36.685809  27.305004\n",
       "5252       27.085567  36.714535  27.294222\n",
       "5253       27.044643  36.743102  27.283505\n",
       "...              ...        ...        ...\n",
       " 363036    29.914730  34.397391  28.094479\n",
       " 363037    29.915543  34.396695  28.094040\n",
       " 363038    29.916504  34.395953  28.093617\n",
       " 363039    29.917698  34.395012  28.093254\n",
       " 363040    29.919018  34.393884  28.093016\n",
       "\n",
       "[177302 rows x 3 columns]"
      ]
     },
     "execution_count": 15,
     "metadata": {},
     "output_type": "execute_result"
    }
   ],
   "source": [
    "df_final"
   ]
  },
  {
   "cell_type": "markdown",
   "metadata": {},
   "source": [
    "## QAPF classification"
   ]
  },
  {
   "cell_type": "code",
   "execution_count": 27,
   "metadata": {},
   "outputs": [],
   "source": [
    "df_final[\"QAPF\"] = qapf.check_QAPF_region(df_final)"
   ]
  },
  {
   "cell_type": "code",
   "execution_count": 28,
   "metadata": {},
   "outputs": [
    {
     "data": {
      "text/plain": [
       "array(['monzo granite'], dtype=object)"
      ]
     },
     "execution_count": 28,
     "metadata": {},
     "output_type": "execute_result"
    }
   ],
   "source": [
    "df_final[\"QAPF\"].unique()"
   ]
  },
  {
   "cell_type": "code",
   "execution_count": null,
   "metadata": {},
   "outputs": [],
   "source": [
    "import plotly.express as px\n",
    "import plotly.graph_objects as go\n",
    "\n",
    "fig = px.scatter_ternary(df_final, a=\"Q\", b=\"K\", c=\"P\", color=\"QAPF\")\n",
    "\n",
    "fig.write_image(f\"../_FIGURES/geomap/qapf_ternary/area5_QAPF.pdf\")\n",
    "fig.show()"
   ]
  },
  {
   "cell_type": "code",
   "execution_count": 18,
   "metadata": {},
   "outputs": [],
   "source": [
    "df_final.to_excel(\"../_CIPW/CIPW/AREA5/qapf.xlsx\", index=True)"
   ]
  },
  {
   "cell_type": "markdown",
   "metadata": {},
   "source": [
    "-------"
   ]
  }
 ],
 "metadata": {
  "kernelspec": {
   "display_name": "Python 3",
   "language": "python",
   "name": "python3"
  },
  "language_info": {
   "codemirror_mode": {
    "name": "ipython",
    "version": 3
   },
   "file_extension": ".py",
   "mimetype": "text/x-python",
   "name": "python",
   "nbconvert_exporter": "python",
   "pygments_lexer": "ipython3",
   "version": "3.7.3"
  }
 },
 "nbformat": 4,
 "nbformat_minor": 4
}
