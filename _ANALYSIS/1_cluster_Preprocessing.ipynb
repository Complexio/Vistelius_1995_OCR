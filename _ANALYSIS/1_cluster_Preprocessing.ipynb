{
 "cells": [
  {
   "cell_type": "markdown",
   "metadata": {},
   "source": [
    "# Preprocessing"
   ]
  },
  {
   "cell_type": "code",
   "execution_count": 1,
   "metadata": {},
   "outputs": [],
   "source": [
    "import numpy as np\n",
    "import pandas as pd\n",
    "import os\n",
    "import pickle\n",
    "import utm\n",
    "import random"
   ]
  },
  {
   "cell_type": "code",
   "execution_count": 2,
   "metadata": {},
   "outputs": [],
   "source": [
    "import prepostprocessing.cleaning as cleaning\n",
    "import prepostprocessing.pre_processing as preproc"
   ]
  },
  {
   "cell_type": "code",
   "execution_count": 53,
   "metadata": {},
   "outputs": [],
   "source": [
    "from sklearn.preprocessing import StandardScaler"
   ]
  },
  {
   "cell_type": "code",
   "execution_count": 3,
   "metadata": {},
   "outputs": [],
   "source": [
    "# Load jupyter extension to reload packages before executing user code.\n",
    "# https://ipython.readthedocs.io/en/stable/config/extensions/autoreload.html\n",
    "%load_ext autoreload\n",
    "# Reload all packages (except those excluded by %aimport) every time before executing the Python code typed.\n",
    "%autoreload 2"
   ]
  },
  {
   "cell_type": "markdown",
   "metadata": {},
   "source": [
    "## Mineralogy"
   ]
  },
  {
   "cell_type": "markdown",
   "metadata": {},
   "source": [
    "**To do**\n",
    "* ~~Clean last points in Excel file while using \"sum\" as check~~"
   ]
  },
  {
   "cell_type": "code",
   "execution_count": 4,
   "metadata": {},
   "outputs": [],
   "source": [
    "mineralogy = pd.read_excel(\"../_CLEANED/Vistelius_data_cleaned_all.xlsx\", index_col=0)\n",
    "\n",
    "mineralogyP = pd.read_excel(\"../_CLEANED/Vistelius_data_cleaned_all.xlsx\", index_col=0)"
   ]
  },
  {
   "cell_type": "markdown",
   "metadata": {},
   "source": [
    "### Check for wrong entries"
   ]
  },
  {
   "cell_type": "code",
   "execution_count": 5,
   "metadata": {},
   "outputs": [
    {
     "data": {
      "text/plain": [
       "array([ True,  True,  True, ...,  True,  True,  True])"
      ]
     },
     "execution_count": 5,
     "metadata": {},
     "output_type": "execute_result"
    }
   ],
   "source": [
    "np.isclose(mineralogy.loc[:, :\"oth\"].sum(axis=1), mineralogy.loc[:, \"sum\"])"
   ]
  },
  {
   "cell_type": "code",
   "execution_count": 6,
   "metadata": {},
   "outputs": [],
   "source": [
    "wrong_sum = mineralogy.loc[~np.isclose(mineralogy.loc[:, :\"oth\"].sum(axis=1), mineralogy.loc[:, \"sum\"]), :]"
   ]
  },
  {
   "cell_type": "code",
   "execution_count": 7,
   "metadata": {},
   "outputs": [
    {
     "data": {
      "text/html": [
       "<div>\n",
       "<style scoped>\n",
       "    .dataframe tbody tr th:only-of-type {\n",
       "        vertical-align: middle;\n",
       "    }\n",
       "\n",
       "    .dataframe tbody tr th {\n",
       "        vertical-align: top;\n",
       "    }\n",
       "\n",
       "    .dataframe thead th {\n",
       "        text-align: right;\n",
       "    }\n",
       "</style>\n",
       "<table border=\"1\" class=\"dataframe\">\n",
       "  <thead>\n",
       "    <tr style=\"text-align: right;\">\n",
       "      <th></th>\n",
       "      <th>SiO2</th>\n",
       "      <th>TiO2</th>\n",
       "      <th>Al2O3</th>\n",
       "      <th>Fe2O3</th>\n",
       "      <th>FeO</th>\n",
       "      <th>MnO</th>\n",
       "      <th>MgO</th>\n",
       "      <th>CaO</th>\n",
       "      <th>Na2O</th>\n",
       "      <th>K2O</th>\n",
       "      <th>P2O5</th>\n",
       "      <th>l.i.</th>\n",
       "      <th>oth</th>\n",
       "      <th>sum</th>\n",
       "      <th>hs</th>\n",
       "    </tr>\n",
       "  </thead>\n",
       "  <tbody>\n",
       "  </tbody>\n",
       "</table>\n",
       "</div>"
      ],
      "text/plain": [
       "Empty DataFrame\n",
       "Columns: [SiO2, TiO2, Al2O3, Fe2O3, FeO, MnO, MgO, CaO, Na2O, K2O, P2O5, l.i., oth, sum, hs]\n",
       "Index: []"
      ]
     },
     "execution_count": 7,
     "metadata": {},
     "output_type": "execute_result"
    }
   ],
   "source": [
    "# Check to see if any remaining incorrect lines are present\n",
    "wrong_sum"
   ]
  },
  {
   "cell_type": "code",
   "execution_count": 8,
   "metadata": {},
   "outputs": [
    {
     "name": "stdout",
     "output_type": "stream",
     "text": [
      "<class 'pandas.core.frame.DataFrame'>\n",
      "Int64Index: 4659 entries, 1 to 4659\n",
      "Data columns (total 15 columns):\n",
      "SiO2     4659 non-null float64\n",
      "TiO2     4626 non-null float64\n",
      "Al2O3    4659 non-null float64\n",
      "Fe2O3    4657 non-null float64\n",
      "FeO      4659 non-null float64\n",
      "MnO      4544 non-null float64\n",
      "MgO      4658 non-null float64\n",
      "CaO      4659 non-null float64\n",
      "Na2O     4659 non-null float64\n",
      "K2O      4659 non-null float64\n",
      "P2O5     3834 non-null float64\n",
      "l.i.     4659 non-null float64\n",
      "oth      874 non-null float64\n",
      "sum      4659 non-null float64\n",
      "hs       2240 non-null float64\n",
      "dtypes: float64(15)\n",
      "memory usage: 582.4 KB\n"
     ]
    }
   ],
   "source": [
    "mineralogy.info()"
   ]
  },
  {
   "cell_type": "code",
   "execution_count": 9,
   "metadata": {},
   "outputs": [
    {
     "data": {
      "text/plain": [
       "Series([], dtype: float64)"
      ]
     },
     "execution_count": 9,
     "metadata": {},
     "output_type": "execute_result"
    }
   ],
   "source": [
    "wrong_sum.loc[:, :\"oth\"].sum(axis=1)"
   ]
  },
  {
   "cell_type": "code",
   "execution_count": 10,
   "metadata": {},
   "outputs": [],
   "source": [
    "mineralogy = preproc.replace_nan(mineralogy, 0)\n",
    "mineralogyP = preproc.replace_nan(mineralogyP, 0)"
   ]
  },
  {
   "cell_type": "code",
   "execution_count": 11,
   "metadata": {},
   "outputs": [],
   "source": [
    "mineralogy['oth'] = mineralogy['P2O5'] + mineralogy['l.i.'] + mineralogy['oth']\n",
    "mineralogy.drop([\"l.i.\", \"P2O5\", ], axis = 1, inplace = True)\n",
    "mineralogyP.drop([\"l.i.\", ], axis = 1, inplace = True)"
   ]
  },
  {
   "cell_type": "code",
   "execution_count": 12,
   "metadata": {},
   "outputs": [
    {
     "data": {
      "text/html": [
       "<div>\n",
       "<style scoped>\n",
       "    .dataframe tbody tr th:only-of-type {\n",
       "        vertical-align: middle;\n",
       "    }\n",
       "\n",
       "    .dataframe tbody tr th {\n",
       "        vertical-align: top;\n",
       "    }\n",
       "\n",
       "    .dataframe thead th {\n",
       "        text-align: right;\n",
       "    }\n",
       "</style>\n",
       "<table border=\"1\" class=\"dataframe\">\n",
       "  <thead>\n",
       "    <tr style=\"text-align: right;\">\n",
       "      <th></th>\n",
       "      <th>SiO2</th>\n",
       "      <th>TiO2</th>\n",
       "      <th>Al2O3</th>\n",
       "      <th>Fe2O3</th>\n",
       "      <th>FeO</th>\n",
       "      <th>MnO</th>\n",
       "      <th>MgO</th>\n",
       "      <th>CaO</th>\n",
       "      <th>Na2O</th>\n",
       "      <th>K2O</th>\n",
       "      <th>P2O5</th>\n",
       "      <th>oth</th>\n",
       "      <th>sum</th>\n",
       "      <th>hs</th>\n",
       "    </tr>\n",
       "  </thead>\n",
       "  <tbody>\n",
       "    <tr>\n",
       "      <th>1</th>\n",
       "      <td>80.80</td>\n",
       "      <td>0.04</td>\n",
       "      <td>10.16</td>\n",
       "      <td>0.61</td>\n",
       "      <td>1.72</td>\n",
       "      <td>0.00</td>\n",
       "      <td>0.40</td>\n",
       "      <td>0.55</td>\n",
       "      <td>2.00</td>\n",
       "      <td>3.59</td>\n",
       "      <td>0.00</td>\n",
       "      <td>0.00</td>\n",
       "      <td>100.22</td>\n",
       "      <td>0.00</td>\n",
       "    </tr>\n",
       "    <tr>\n",
       "      <th>2</th>\n",
       "      <td>80.00</td>\n",
       "      <td>0.10</td>\n",
       "      <td>10.10</td>\n",
       "      <td>0.17</td>\n",
       "      <td>0.56</td>\n",
       "      <td>0.02</td>\n",
       "      <td>0.40</td>\n",
       "      <td>0.35</td>\n",
       "      <td>2.30</td>\n",
       "      <td>5.10</td>\n",
       "      <td>0.05</td>\n",
       "      <td>0.00</td>\n",
       "      <td>99.65</td>\n",
       "      <td>0.00</td>\n",
       "    </tr>\n",
       "    <tr>\n",
       "      <th>3</th>\n",
       "      <td>79.92</td>\n",
       "      <td>0.05</td>\n",
       "      <td>9.89</td>\n",
       "      <td>0.16</td>\n",
       "      <td>1.73</td>\n",
       "      <td>0.02</td>\n",
       "      <td>0.12</td>\n",
       "      <td>0.14</td>\n",
       "      <td>0.75</td>\n",
       "      <td>6.15</td>\n",
       "      <td>0.00</td>\n",
       "      <td>0.08</td>\n",
       "      <td>100.03</td>\n",
       "      <td>0.30</td>\n",
       "    </tr>\n",
       "    <tr>\n",
       "      <th>4</th>\n",
       "      <td>79.65</td>\n",
       "      <td>0.04</td>\n",
       "      <td>9.64</td>\n",
       "      <td>1.15</td>\n",
       "      <td>0.75</td>\n",
       "      <td>0.10</td>\n",
       "      <td>0.45</td>\n",
       "      <td>0.67</td>\n",
       "      <td>3.71</td>\n",
       "      <td>4.25</td>\n",
       "      <td>0.00</td>\n",
       "      <td>0.00</td>\n",
       "      <td>100.67</td>\n",
       "      <td>0.01</td>\n",
       "    </tr>\n",
       "    <tr>\n",
       "      <th>5</th>\n",
       "      <td>79.18</td>\n",
       "      <td>0.08</td>\n",
       "      <td>10.24</td>\n",
       "      <td>0.64</td>\n",
       "      <td>2.60</td>\n",
       "      <td>0.04</td>\n",
       "      <td>0.05</td>\n",
       "      <td>1.25</td>\n",
       "      <td>1.52</td>\n",
       "      <td>3.08</td>\n",
       "      <td>0.01</td>\n",
       "      <td>0.16</td>\n",
       "      <td>100.60</td>\n",
       "      <td>0.28</td>\n",
       "    </tr>\n",
       "  </tbody>\n",
       "</table>\n",
       "</div>"
      ],
      "text/plain": [
       "    SiO2  TiO2  Al2O3  Fe2O3   FeO   MnO   MgO   CaO  Na2O   K2O  P2O5   oth  \\\n",
       "1  80.80  0.04  10.16   0.61  1.72  0.00  0.40  0.55  2.00  3.59  0.00  0.00   \n",
       "2  80.00  0.10  10.10   0.17  0.56  0.02  0.40  0.35  2.30  5.10  0.05  0.00   \n",
       "3  79.92  0.05   9.89   0.16  1.73  0.02  0.12  0.14  0.75  6.15  0.00  0.08   \n",
       "4  79.65  0.04   9.64   1.15  0.75  0.10  0.45  0.67  3.71  4.25  0.00  0.00   \n",
       "5  79.18  0.08  10.24   0.64  2.60  0.04  0.05  1.25  1.52  3.08  0.01  0.16   \n",
       "\n",
       "      sum    hs  \n",
       "1  100.22  0.00  \n",
       "2   99.65  0.00  \n",
       "3  100.03  0.30  \n",
       "4  100.67  0.01  \n",
       "5  100.60  0.28  "
      ]
     },
     "execution_count": 12,
     "metadata": {},
     "output_type": "execute_result"
    }
   ],
   "source": [
    "mineralogyP.head()"
   ]
  },
  {
   "cell_type": "markdown",
   "metadata": {},
   "source": [
    "### Cleaning\n",
    "**To do**\n",
    "* ~~Replace zero values~~\n"
   ]
  },
  {
   "cell_type": "code",
   "execution_count": 13,
   "metadata": {},
   "outputs": [],
   "source": [
    "# Would not do this this way since it becomes less clear what the variable means\n",
    "# You should also replace 'minralogy' in all remaining cells by 'x' if you would want to do this\n",
    "# x = mineralogy"
   ]
  },
  {
   "cell_type": "code",
   "execution_count": 14,
   "metadata": {},
   "outputs": [],
   "source": [
    "# Replace zero values\n",
    "mineralogy = preproc.replace_zero(mineralogy, 0.01)\n",
    "mineralogyP = preproc.replace_zero(mineralogyP, 0.01)"
   ]
  },
  {
   "cell_type": "markdown",
   "metadata": {},
   "source": [
    "* ~~Normalize~~"
   ]
  },
  {
   "cell_type": "code",
   "execution_count": 15,
   "metadata": {},
   "outputs": [],
   "source": [
    "# Normalize specific columns\n",
    "mineralogy.loc[:, :\"oth\"] = preproc.normalize(mineralogy.loc[:, :\"oth\"])# , total=mineralogy['sum'])\n",
    "mineralogyP.loc[:, :\"oth\"] = preproc.normalize(mineralogyP.loc[:, :\"oth\"])# , total=mineralogy['sum'])"
   ]
  },
  {
   "cell_type": "code",
   "execution_count": 16,
   "metadata": {},
   "outputs": [],
   "source": [
    "# Renew 'sum' column to reflect changes applied during cleaning\n",
    "mineralogy[\"sum\"] = mineralogy.loc[:, :\"oth\"].sum(axis=1)\n",
    "mineralogyP[\"sum\"] = mineralogyP.loc[:, :\"oth\"].sum(axis=1)"
   ]
  },
  {
   "cell_type": "code",
   "execution_count": 17,
   "metadata": {},
   "outputs": [],
   "source": [
    "# Check that sum of all variables + 'sum' == 200\n",
    "assert all(np.isclose(mineralogy.loc[:, :'sum'].sum(axis=1), 200.0))\n",
    "assert all(np.isclose(mineralogyP.loc[:, :'sum'].sum(axis=1), 200.0))"
   ]
  },
  {
   "cell_type": "markdown",
   "metadata": {},
   "source": [
    "### centred log-ratio (clr) transformation"
   ]
  },
  {
   "cell_type": "code",
   "execution_count": 18,
   "metadata": {},
   "outputs": [],
   "source": [
    "mineralogy1 = mineralogy.drop(columns=['oth', 'hs', 'sum'])\n",
    "mineralogyP1 = mineralogyP.drop(columns=['oth', 'hs', 'sum'])"
   ]
  },
  {
   "cell_type": "code",
   "execution_count": 19,
   "metadata": {},
   "outputs": [
    {
     "data": {
      "text/html": [
       "<div>\n",
       "<style scoped>\n",
       "    .dataframe tbody tr th:only-of-type {\n",
       "        vertical-align: middle;\n",
       "    }\n",
       "\n",
       "    .dataframe tbody tr th {\n",
       "        vertical-align: top;\n",
       "    }\n",
       "\n",
       "    .dataframe thead th {\n",
       "        text-align: right;\n",
       "    }\n",
       "</style>\n",
       "<table border=\"1\" class=\"dataframe\">\n",
       "  <thead>\n",
       "    <tr style=\"text-align: right;\">\n",
       "      <th></th>\n",
       "      <th>SiO2</th>\n",
       "      <th>TiO2</th>\n",
       "      <th>Al2O3</th>\n",
       "      <th>Fe2O3</th>\n",
       "      <th>FeO</th>\n",
       "      <th>MnO</th>\n",
       "      <th>MgO</th>\n",
       "      <th>CaO</th>\n",
       "      <th>Na2O</th>\n",
       "      <th>K2O</th>\n",
       "      <th>P2O5</th>\n",
       "    </tr>\n",
       "  </thead>\n",
       "  <tbody>\n",
       "    <tr>\n",
       "      <th>1</th>\n",
       "      <td>4.865939</td>\n",
       "      <td>-2.744914</td>\n",
       "      <td>2.792420</td>\n",
       "      <td>-0.020334</td>\n",
       "      <td>1.016286</td>\n",
       "      <td>-4.131208</td>\n",
       "      <td>-0.442329</td>\n",
       "      <td>-0.123875</td>\n",
       "      <td>1.167109</td>\n",
       "      <td>1.752114</td>\n",
       "      <td>-4.131208</td>\n",
       "    </tr>\n",
       "    <tr>\n",
       "      <th>2</th>\n",
       "      <td>4.779437</td>\n",
       "      <td>-1.905174</td>\n",
       "      <td>2.709946</td>\n",
       "      <td>-1.374546</td>\n",
       "      <td>-0.182408</td>\n",
       "      <td>-3.514612</td>\n",
       "      <td>-0.518880</td>\n",
       "      <td>-0.652412</td>\n",
       "      <td>1.230320</td>\n",
       "      <td>2.026651</td>\n",
       "      <td>-2.598322</td>\n",
       "    </tr>\n",
       "    <tr>\n",
       "      <th>3</th>\n",
       "      <td>5.170339</td>\n",
       "      <td>-2.206419</td>\n",
       "      <td>3.080837</td>\n",
       "      <td>-1.043269</td>\n",
       "      <td>1.337434</td>\n",
       "      <td>-3.122710</td>\n",
       "      <td>-1.330951</td>\n",
       "      <td>-1.176800</td>\n",
       "      <td>0.501631</td>\n",
       "      <td>2.605765</td>\n",
       "      <td>-3.815857</td>\n",
       "    </tr>\n",
       "    <tr>\n",
       "      <th>4</th>\n",
       "      <td>4.566008</td>\n",
       "      <td>-3.030510</td>\n",
       "      <td>2.454287</td>\n",
       "      <td>0.328128</td>\n",
       "      <td>-0.099316</td>\n",
       "      <td>-2.114219</td>\n",
       "      <td>-0.610142</td>\n",
       "      <td>-0.212112</td>\n",
       "      <td>1.499398</td>\n",
       "      <td>1.635285</td>\n",
       "      <td>-4.416805</td>\n",
       "    </tr>\n",
       "    <tr>\n",
       "      <th>5</th>\n",
       "      <td>4.769130</td>\n",
       "      <td>-2.128322</td>\n",
       "      <td>2.723708</td>\n",
       "      <td>-0.048880</td>\n",
       "      <td>1.352918</td>\n",
       "      <td>-2.821469</td>\n",
       "      <td>-2.598326</td>\n",
       "      <td>0.620550</td>\n",
       "      <td>0.816117</td>\n",
       "      <td>1.522336</td>\n",
       "      <td>-4.207763</td>\n",
       "    </tr>\n",
       "  </tbody>\n",
       "</table>\n",
       "</div>"
      ],
      "text/plain": [
       "       SiO2      TiO2     Al2O3     Fe2O3       FeO       MnO       MgO  \\\n",
       "1  4.865939 -2.744914  2.792420 -0.020334  1.016286 -4.131208 -0.442329   \n",
       "2  4.779437 -1.905174  2.709946 -1.374546 -0.182408 -3.514612 -0.518880   \n",
       "3  5.170339 -2.206419  3.080837 -1.043269  1.337434 -3.122710 -1.330951   \n",
       "4  4.566008 -3.030510  2.454287  0.328128 -0.099316 -2.114219 -0.610142   \n",
       "5  4.769130 -2.128322  2.723708 -0.048880  1.352918 -2.821469 -2.598326   \n",
       "\n",
       "        CaO      Na2O       K2O      P2O5  \n",
       "1 -0.123875  1.167109  1.752114 -4.131208  \n",
       "2 -0.652412  1.230320  2.026651 -2.598322  \n",
       "3 -1.176800  0.501631  2.605765 -3.815857  \n",
       "4 -0.212112  1.499398  1.635285 -4.416805  \n",
       "5  0.620550  0.816117  1.522336 -4.207763  "
      ]
     },
     "execution_count": 19,
     "metadata": {},
     "output_type": "execute_result"
    }
   ],
   "source": [
    "mineralogy_clr1 = preproc.clr(mineralogy1)\n",
    "mineralogy_clr1.head()\n",
    "\n",
    "mineralogy_clrP1 = preproc.clr(mineralogyP1)\n",
    "mineralogy_clrP1.head()"
   ]
  },
  {
   "cell_type": "markdown",
   "metadata": {},
   "source": [
    "### Principal Component Analysis (PCA)"
   ]
  },
  {
   "cell_type": "code",
   "execution_count": 20,
   "metadata": {},
   "outputs": [
    {
     "name": "stdout",
     "output_type": "stream",
     "text": [
      "6 PCA components  out of 10 components with variance sum 0.9653845247577469 needed for obtaining sum of variance > 0.95\n"
     ]
    },
    {
     "data": {
      "text/plain": [
       "array([4.36495556e-01, 2.24309391e-01, 1.14379085e-01, 7.92733011e-02,\n",
       "       6.47910351e-02, 4.61361562e-02, 2.56884815e-02, 7.25584036e-03,\n",
       "       1.67115334e-03, 2.35922349e-32])"
      ]
     },
     "execution_count": 20,
     "metadata": {},
     "output_type": "execute_result"
    }
   ],
   "source": [
    "mineralogy_pca1 = preproc.pca(mineralogy_clr1)\n",
    "preproc.pca_variance(mineralogy_pca1)"
   ]
  },
  {
   "cell_type": "code",
   "execution_count": 21,
   "metadata": {},
   "outputs": [],
   "source": [
    "mineralogy_pca_df1 = preproc.create_pca_df(mineralogy_pca1, mineralogy_clr1)"
   ]
  },
  {
   "cell_type": "code",
   "execution_count": 22,
   "metadata": {},
   "outputs": [
    {
     "data": {
      "text/html": [
       "<div>\n",
       "<style scoped>\n",
       "    .dataframe tbody tr th:only-of-type {\n",
       "        vertical-align: middle;\n",
       "    }\n",
       "\n",
       "    .dataframe tbody tr th {\n",
       "        vertical-align: top;\n",
       "    }\n",
       "\n",
       "    .dataframe thead th {\n",
       "        text-align: right;\n",
       "    }\n",
       "</style>\n",
       "<table border=\"1\" class=\"dataframe\">\n",
       "  <thead>\n",
       "    <tr style=\"text-align: right;\">\n",
       "      <th></th>\n",
       "      <th>PC01</th>\n",
       "      <th>PC02</th>\n",
       "      <th>PC03</th>\n",
       "      <th>PC04</th>\n",
       "      <th>PC05</th>\n",
       "      <th>PC06</th>\n",
       "      <th>PC07</th>\n",
       "      <th>PC08</th>\n",
       "      <th>PC09</th>\n",
       "      <th>PC10</th>\n",
       "    </tr>\n",
       "  </thead>\n",
       "  <tbody>\n",
       "    <tr>\n",
       "      <th>1</th>\n",
       "      <td>-0.989677</td>\n",
       "      <td>0.063658</td>\n",
       "      <td>-1.077309</td>\n",
       "      <td>0.949276</td>\n",
       "      <td>0.196830</td>\n",
       "      <td>-1.052766</td>\n",
       "      <td>-0.196021</td>\n",
       "      <td>0.313477</td>\n",
       "      <td>0.228518</td>\n",
       "      <td>-3.805685e-16</td>\n",
       "    </tr>\n",
       "    <tr>\n",
       "      <th>2</th>\n",
       "      <td>-1.170683</td>\n",
       "      <td>0.906362</td>\n",
       "      <td>-0.457936</td>\n",
       "      <td>0.315585</td>\n",
       "      <td>0.836318</td>\n",
       "      <td>0.547351</td>\n",
       "      <td>-0.165217</td>\n",
       "      <td>0.278892</td>\n",
       "      <td>0.207743</td>\n",
       "      <td>2.205780e-16</td>\n",
       "    </tr>\n",
       "    <tr>\n",
       "      <th>3</th>\n",
       "      <td>-1.952305</td>\n",
       "      <td>1.084163</td>\n",
       "      <td>0.126341</td>\n",
       "      <td>-0.059648</td>\n",
       "      <td>0.787068</td>\n",
       "      <td>-1.028997</td>\n",
       "      <td>-0.907513</td>\n",
       "      <td>0.941895</td>\n",
       "      <td>0.141972</td>\n",
       "      <td>-5.419556e-17</td>\n",
       "    </tr>\n",
       "    <tr>\n",
       "      <th>4</th>\n",
       "      <td>-1.265500</td>\n",
       "      <td>-0.665278</td>\n",
       "      <td>0.792680</td>\n",
       "      <td>1.554351</td>\n",
       "      <td>0.290969</td>\n",
       "      <td>0.026927</td>\n",
       "      <td>-0.145361</td>\n",
       "      <td>-0.158186</td>\n",
       "      <td>0.272325</td>\n",
       "      <td>-2.268773e-16</td>\n",
       "    </tr>\n",
       "    <tr>\n",
       "      <th>5</th>\n",
       "      <td>-1.401423</td>\n",
       "      <td>0.090158</td>\n",
       "      <td>0.667637</td>\n",
       "      <td>-0.203788</td>\n",
       "      <td>-1.529623</td>\n",
       "      <td>-1.127234</td>\n",
       "      <td>-0.414450</td>\n",
       "      <td>0.462700</td>\n",
       "      <td>0.259138</td>\n",
       "      <td>-2.570066e-16</td>\n",
       "    </tr>\n",
       "    <tr>\n",
       "      <th>...</th>\n",
       "      <td>...</td>\n",
       "      <td>...</td>\n",
       "      <td>...</td>\n",
       "      <td>...</td>\n",
       "      <td>...</td>\n",
       "      <td>...</td>\n",
       "      <td>...</td>\n",
       "      <td>...</td>\n",
       "      <td>...</td>\n",
       "      <td>...</td>\n",
       "    </tr>\n",
       "    <tr>\n",
       "      <th>4655</th>\n",
       "      <td>1.969576</td>\n",
       "      <td>-1.154415</td>\n",
       "      <td>0.734286</td>\n",
       "      <td>0.877843</td>\n",
       "      <td>-0.311676</td>\n",
       "      <td>-0.413926</td>\n",
       "      <td>0.060452</td>\n",
       "      <td>-0.189310</td>\n",
       "      <td>-0.243017</td>\n",
       "      <td>1.875335e-16</td>\n",
       "    </tr>\n",
       "    <tr>\n",
       "      <th>4656</th>\n",
       "      <td>2.765959</td>\n",
       "      <td>-0.679754</td>\n",
       "      <td>0.061989</td>\n",
       "      <td>-0.052525</td>\n",
       "      <td>-0.149849</td>\n",
       "      <td>-0.699663</td>\n",
       "      <td>0.034609</td>\n",
       "      <td>0.112326</td>\n",
       "      <td>-0.131631</td>\n",
       "      <td>2.651447e-18</td>\n",
       "    </tr>\n",
       "    <tr>\n",
       "      <th>4657</th>\n",
       "      <td>2.610638</td>\n",
       "      <td>-1.211222</td>\n",
       "      <td>0.315811</td>\n",
       "      <td>0.056660</td>\n",
       "      <td>-0.001314</td>\n",
       "      <td>-0.147221</td>\n",
       "      <td>-0.224187</td>\n",
       "      <td>0.059057</td>\n",
       "      <td>-0.149794</td>\n",
       "      <td>-8.143807e-16</td>\n",
       "    </tr>\n",
       "    <tr>\n",
       "      <th>4658</th>\n",
       "      <td>2.415960</td>\n",
       "      <td>-0.786335</td>\n",
       "      <td>0.173592</td>\n",
       "      <td>-0.202025</td>\n",
       "      <td>-0.649209</td>\n",
       "      <td>-0.020704</td>\n",
       "      <td>0.652916</td>\n",
       "      <td>0.082545</td>\n",
       "      <td>-0.300729</td>\n",
       "      <td>2.716508e-17</td>\n",
       "    </tr>\n",
       "    <tr>\n",
       "      <th>4659</th>\n",
       "      <td>2.930744</td>\n",
       "      <td>-1.608133</td>\n",
       "      <td>-2.061326</td>\n",
       "      <td>0.066617</td>\n",
       "      <td>-0.769559</td>\n",
       "      <td>-0.620677</td>\n",
       "      <td>0.711245</td>\n",
       "      <td>0.317989</td>\n",
       "      <td>-0.195724</td>\n",
       "      <td>1.252166e-16</td>\n",
       "    </tr>\n",
       "  </tbody>\n",
       "</table>\n",
       "<p>4659 rows × 10 columns</p>\n",
       "</div>"
      ],
      "text/plain": [
       "          PC01      PC02      PC03      PC04      PC05      PC06      PC07  \\\n",
       "1    -0.989677  0.063658 -1.077309  0.949276  0.196830 -1.052766 -0.196021   \n",
       "2    -1.170683  0.906362 -0.457936  0.315585  0.836318  0.547351 -0.165217   \n",
       "3    -1.952305  1.084163  0.126341 -0.059648  0.787068 -1.028997 -0.907513   \n",
       "4    -1.265500 -0.665278  0.792680  1.554351  0.290969  0.026927 -0.145361   \n",
       "5    -1.401423  0.090158  0.667637 -0.203788 -1.529623 -1.127234 -0.414450   \n",
       "...        ...       ...       ...       ...       ...       ...       ...   \n",
       "4655  1.969576 -1.154415  0.734286  0.877843 -0.311676 -0.413926  0.060452   \n",
       "4656  2.765959 -0.679754  0.061989 -0.052525 -0.149849 -0.699663  0.034609   \n",
       "4657  2.610638 -1.211222  0.315811  0.056660 -0.001314 -0.147221 -0.224187   \n",
       "4658  2.415960 -0.786335  0.173592 -0.202025 -0.649209 -0.020704  0.652916   \n",
       "4659  2.930744 -1.608133 -2.061326  0.066617 -0.769559 -0.620677  0.711245   \n",
       "\n",
       "          PC08      PC09          PC10  \n",
       "1     0.313477  0.228518 -3.805685e-16  \n",
       "2     0.278892  0.207743  2.205780e-16  \n",
       "3     0.941895  0.141972 -5.419556e-17  \n",
       "4    -0.158186  0.272325 -2.268773e-16  \n",
       "5     0.462700  0.259138 -2.570066e-16  \n",
       "...        ...       ...           ...  \n",
       "4655 -0.189310 -0.243017  1.875335e-16  \n",
       "4656  0.112326 -0.131631  2.651447e-18  \n",
       "4657  0.059057 -0.149794 -8.143807e-16  \n",
       "4658  0.082545 -0.300729  2.716508e-17  \n",
       "4659  0.317989 -0.195724  1.252166e-16  \n",
       "\n",
       "[4659 rows x 10 columns]"
      ]
     },
     "execution_count": 22,
     "metadata": {},
     "output_type": "execute_result"
    }
   ],
   "source": [
    "mineralogy_pca_df1"
   ]
  },
  {
   "cell_type": "code",
   "execution_count": 23,
   "metadata": {},
   "outputs": [],
   "source": [
    "preproc.save_obj(mineralogy_pca_df1, \"mineralogy_pca_df1\")"
   ]
  },
  {
   "cell_type": "code",
   "execution_count": 24,
   "metadata": {},
   "outputs": [],
   "source": [
    "metadata = pd.read_excel(\"../_INTERPOLATION/coordinates_full_data.xlsx\", index_col=0, usecols=[0, 23, 24, 25, 26, 27, 28])"
   ]
  },
  {
   "cell_type": "code",
   "execution_count": 25,
   "metadata": {},
   "outputs": [],
   "source": [
    "preproc.save_obj(metadata, \"metadata\")"
   ]
  },
  {
   "cell_type": "code",
   "execution_count": 26,
   "metadata": {},
   "outputs": [],
   "source": [
    "preproc.save_obj(mineralogy_clr1, \"mineralogy_clr1\")"
   ]
  },
  {
   "cell_type": "markdown",
   "metadata": {},
   "source": [
    "----"
   ]
  },
  {
   "cell_type": "markdown",
   "metadata": {},
   "source": [
    "# Feature engineering: Frost"
   ]
  },
  {
   "cell_type": "markdown",
   "metadata": {},
   "source": [
    "## Fe_Number"
   ]
  },
  {
   "cell_type": "code",
   "execution_count": 27,
   "metadata": {},
   "outputs": [
    {
     "data": {
      "text/html": [
       "<div>\n",
       "<style scoped>\n",
       "    .dataframe tbody tr th:only-of-type {\n",
       "        vertical-align: middle;\n",
       "    }\n",
       "\n",
       "    .dataframe tbody tr th {\n",
       "        vertical-align: top;\n",
       "    }\n",
       "\n",
       "    .dataframe thead th {\n",
       "        text-align: right;\n",
       "    }\n",
       "</style>\n",
       "<table border=\"1\" class=\"dataframe\">\n",
       "  <thead>\n",
       "    <tr style=\"text-align: right;\">\n",
       "      <th></th>\n",
       "      <th>SiO2</th>\n",
       "      <th>TiO2</th>\n",
       "      <th>Al2O3</th>\n",
       "      <th>Fe2O3</th>\n",
       "      <th>FeO</th>\n",
       "      <th>MnO</th>\n",
       "      <th>MgO</th>\n",
       "      <th>CaO</th>\n",
       "      <th>Na2O</th>\n",
       "      <th>K2O</th>\n",
       "    </tr>\n",
       "  </thead>\n",
       "  <tbody>\n",
       "    <tr>\n",
       "      <th>1</th>\n",
       "      <td>4.452818</td>\n",
       "      <td>-3.158035</td>\n",
       "      <td>2.379300</td>\n",
       "      <td>-0.433455</td>\n",
       "      <td>0.603165</td>\n",
       "      <td>-4.544329</td>\n",
       "      <td>-0.855450</td>\n",
       "      <td>-0.536996</td>\n",
       "      <td>0.753988</td>\n",
       "      <td>1.338993</td>\n",
       "    </tr>\n",
       "    <tr>\n",
       "      <th>2</th>\n",
       "      <td>4.519605</td>\n",
       "      <td>-2.165007</td>\n",
       "      <td>2.450114</td>\n",
       "      <td>-1.634378</td>\n",
       "      <td>-0.442240</td>\n",
       "      <td>-3.774445</td>\n",
       "      <td>-0.778712</td>\n",
       "      <td>-0.912244</td>\n",
       "      <td>0.970488</td>\n",
       "      <td>1.766819</td>\n",
       "    </tr>\n",
       "    <tr>\n",
       "      <th>3</th>\n",
       "      <td>4.788753</td>\n",
       "      <td>-2.588005</td>\n",
       "      <td>2.699251</td>\n",
       "      <td>-1.424854</td>\n",
       "      <td>0.955849</td>\n",
       "      <td>-3.504296</td>\n",
       "      <td>-1.712536</td>\n",
       "      <td>-1.558386</td>\n",
       "      <td>0.120045</td>\n",
       "      <td>2.224179</td>\n",
       "    </tr>\n",
       "    <tr>\n",
       "      <th>4</th>\n",
       "      <td>4.124327</td>\n",
       "      <td>-3.472191</td>\n",
       "      <td>2.012606</td>\n",
       "      <td>-0.113553</td>\n",
       "      <td>-0.540997</td>\n",
       "      <td>-2.555900</td>\n",
       "      <td>-1.051822</td>\n",
       "      <td>-0.653792</td>\n",
       "      <td>1.057717</td>\n",
       "      <td>1.193604</td>\n",
       "    </tr>\n",
       "    <tr>\n",
       "      <th>5</th>\n",
       "      <td>4.348354</td>\n",
       "      <td>-2.549098</td>\n",
       "      <td>2.302932</td>\n",
       "      <td>-0.469657</td>\n",
       "      <td>0.932142</td>\n",
       "      <td>-3.242245</td>\n",
       "      <td>-3.019102</td>\n",
       "      <td>0.199774</td>\n",
       "      <td>0.395341</td>\n",
       "      <td>1.101560</td>\n",
       "    </tr>\n",
       "    <tr>\n",
       "      <th>...</th>\n",
       "      <td>...</td>\n",
       "      <td>...</td>\n",
       "      <td>...</td>\n",
       "      <td>...</td>\n",
       "      <td>...</td>\n",
       "      <td>...</td>\n",
       "      <td>...</td>\n",
       "      <td>...</td>\n",
       "      <td>...</td>\n",
       "      <td>...</td>\n",
       "    </tr>\n",
       "    <tr>\n",
       "      <th>4655</th>\n",
       "      <td>2.635045</td>\n",
       "      <td>-2.240153</td>\n",
       "      <td>1.668789</td>\n",
       "      <td>0.110001</td>\n",
       "      <td>0.304876</td>\n",
       "      <td>-2.812672</td>\n",
       "      <td>0.033822</td>\n",
       "      <td>0.783394</td>\n",
       "      <td>0.117309</td>\n",
       "      <td>-0.600410</td>\n",
       "    </tr>\n",
       "    <tr>\n",
       "      <th>4656</th>\n",
       "      <td>2.640723</td>\n",
       "      <td>-1.289140</td>\n",
       "      <td>1.587809</td>\n",
       "      <td>-0.329790</td>\n",
       "      <td>0.906973</td>\n",
       "      <td>-3.591725</td>\n",
       "      <td>0.334201</td>\n",
       "      <td>0.846209</td>\n",
       "      <td>-0.310814</td>\n",
       "      <td>-0.794444</td>\n",
       "    </tr>\n",
       "    <tr>\n",
       "      <th>4657</th>\n",
       "      <td>2.529955</td>\n",
       "      <td>-1.250274</td>\n",
       "      <td>1.502001</td>\n",
       "      <td>0.047427</td>\n",
       "      <td>0.262462</td>\n",
       "      <td>-3.222617</td>\n",
       "      <td>0.374695</td>\n",
       "      <td>0.744131</td>\n",
       "      <td>-0.404219</td>\n",
       "      <td>-0.583560</td>\n",
       "    </tr>\n",
       "    <tr>\n",
       "      <th>4658</th>\n",
       "      <td>2.737015</td>\n",
       "      <td>-1.059568</td>\n",
       "      <td>1.909712</td>\n",
       "      <td>-0.357610</td>\n",
       "      <td>0.248526</td>\n",
       "      <td>-3.484370</td>\n",
       "      <td>-0.177484</td>\n",
       "      <td>1.059988</td>\n",
       "      <td>0.219398</td>\n",
       "      <td>-1.095607</td>\n",
       "    </tr>\n",
       "    <tr>\n",
       "      <th>4659</th>\n",
       "      <td>2.923753</td>\n",
       "      <td>-1.215206</td>\n",
       "      <td>1.975784</td>\n",
       "      <td>0.681288</td>\n",
       "      <td>0.418924</td>\n",
       "      <td>-5.597233</td>\n",
       "      <td>0.605302</td>\n",
       "      <td>1.435391</td>\n",
       "      <td>0.051741</td>\n",
       "      <td>-1.279745</td>\n",
       "    </tr>\n",
       "  </tbody>\n",
       "</table>\n",
       "<p>4659 rows × 10 columns</p>\n",
       "</div>"
      ],
      "text/plain": [
       "          SiO2      TiO2     Al2O3     Fe2O3       FeO       MnO       MgO  \\\n",
       "1     4.452818 -3.158035  2.379300 -0.433455  0.603165 -4.544329 -0.855450   \n",
       "2     4.519605 -2.165007  2.450114 -1.634378 -0.442240 -3.774445 -0.778712   \n",
       "3     4.788753 -2.588005  2.699251 -1.424854  0.955849 -3.504296 -1.712536   \n",
       "4     4.124327 -3.472191  2.012606 -0.113553 -0.540997 -2.555900 -1.051822   \n",
       "5     4.348354 -2.549098  2.302932 -0.469657  0.932142 -3.242245 -3.019102   \n",
       "...        ...       ...       ...       ...       ...       ...       ...   \n",
       "4655  2.635045 -2.240153  1.668789  0.110001  0.304876 -2.812672  0.033822   \n",
       "4656  2.640723 -1.289140  1.587809 -0.329790  0.906973 -3.591725  0.334201   \n",
       "4657  2.529955 -1.250274  1.502001  0.047427  0.262462 -3.222617  0.374695   \n",
       "4658  2.737015 -1.059568  1.909712 -0.357610  0.248526 -3.484370 -0.177484   \n",
       "4659  2.923753 -1.215206  1.975784  0.681288  0.418924 -5.597233  0.605302   \n",
       "\n",
       "           CaO      Na2O       K2O  \n",
       "1    -0.536996  0.753988  1.338993  \n",
       "2    -0.912244  0.970488  1.766819  \n",
       "3    -1.558386  0.120045  2.224179  \n",
       "4    -0.653792  1.057717  1.193604  \n",
       "5     0.199774  0.395341  1.101560  \n",
       "...        ...       ...       ...  \n",
       "4655  0.783394  0.117309 -0.600410  \n",
       "4656  0.846209 -0.310814 -0.794444  \n",
       "4657  0.744131 -0.404219 -0.583560  \n",
       "4658  1.059988  0.219398 -1.095607  \n",
       "4659  1.435391  0.051741 -1.279745  \n",
       "\n",
       "[4659 rows x 10 columns]"
      ]
     },
     "execution_count": 27,
     "metadata": {},
     "output_type": "execute_result"
    }
   ],
   "source": [
    "mineralogy_clr1"
   ]
  },
  {
   "cell_type": "code",
   "execution_count": 28,
   "metadata": {},
   "outputs": [
    {
     "name": "stderr",
     "output_type": "stream",
     "text": [
      "C:\\Users\\Sebastian\\Anaconda3\\envs\\main\\lib\\site-packages\\pandas\\io\\excel\\_base.py:445: FutureWarning: Passing in an integer for `usecols` has been deprecated. Please pass in a list of int from 0 to `usecols` inclusive instead.\n",
      "  usecols = _maybe_convert_usecols(usecols)\n"
     ]
    }
   ],
   "source": [
    "Fe_num = pd.read_excel(\"../_CLEANED/Vistelius_data_cleaned_all.xlsx\", index_col=0, usecols = 0)"
   ]
  },
  {
   "cell_type": "code",
   "execution_count": 29,
   "metadata": {},
   "outputs": [],
   "source": [
    "#Fe_num['SiO2'] = mineralogy_clr1['SiO2']\n",
    "Fe_num['Fe'] = mineralogy_clr1['FeO'] + mineralogy_clr1['Fe2O3'] \n",
    "Fe_num['Fe+Mg']= mineralogy_clr1['MgO'] +mineralogy_clr1['FeO'] + mineralogy_clr1['Fe2O3']"
   ]
  },
  {
   "cell_type": "code",
   "execution_count": 30,
   "metadata": {},
   "outputs": [],
   "source": [
    "preproc.save_obj(Fe_num, \"Fe_num\")"
   ]
  },
  {
   "cell_type": "code",
   "execution_count": 31,
   "metadata": {},
   "outputs": [
    {
     "data": {
      "text/html": [
       "<div>\n",
       "<style scoped>\n",
       "    .dataframe tbody tr th:only-of-type {\n",
       "        vertical-align: middle;\n",
       "    }\n",
       "\n",
       "    .dataframe tbody tr th {\n",
       "        vertical-align: top;\n",
       "    }\n",
       "\n",
       "    .dataframe thead th {\n",
       "        text-align: right;\n",
       "    }\n",
       "</style>\n",
       "<table border=\"1\" class=\"dataframe\">\n",
       "  <thead>\n",
       "    <tr style=\"text-align: right;\">\n",
       "      <th></th>\n",
       "      <th>Fe</th>\n",
       "      <th>Fe+Mg</th>\n",
       "    </tr>\n",
       "  </thead>\n",
       "  <tbody>\n",
       "    <tr>\n",
       "      <th>1</th>\n",
       "      <td>0.169710</td>\n",
       "      <td>-0.685739</td>\n",
       "    </tr>\n",
       "    <tr>\n",
       "      <th>2</th>\n",
       "      <td>-2.076618</td>\n",
       "      <td>-2.855331</td>\n",
       "    </tr>\n",
       "    <tr>\n",
       "      <th>3</th>\n",
       "      <td>-0.469006</td>\n",
       "      <td>-2.181542</td>\n",
       "    </tr>\n",
       "    <tr>\n",
       "      <th>4</th>\n",
       "      <td>-0.654550</td>\n",
       "      <td>-1.706372</td>\n",
       "    </tr>\n",
       "    <tr>\n",
       "      <th>5</th>\n",
       "      <td>0.462485</td>\n",
       "      <td>-2.556617</td>\n",
       "    </tr>\n",
       "    <tr>\n",
       "      <th>...</th>\n",
       "      <td>...</td>\n",
       "      <td>...</td>\n",
       "    </tr>\n",
       "    <tr>\n",
       "      <th>4655</th>\n",
       "      <td>0.414876</td>\n",
       "      <td>0.448698</td>\n",
       "    </tr>\n",
       "    <tr>\n",
       "      <th>4656</th>\n",
       "      <td>0.577183</td>\n",
       "      <td>0.911383</td>\n",
       "    </tr>\n",
       "    <tr>\n",
       "      <th>4657</th>\n",
       "      <td>0.309888</td>\n",
       "      <td>0.684583</td>\n",
       "    </tr>\n",
       "    <tr>\n",
       "      <th>4658</th>\n",
       "      <td>-0.109084</td>\n",
       "      <td>-0.286567</td>\n",
       "    </tr>\n",
       "    <tr>\n",
       "      <th>4659</th>\n",
       "      <td>1.100212</td>\n",
       "      <td>1.705515</td>\n",
       "    </tr>\n",
       "  </tbody>\n",
       "</table>\n",
       "<p>4659 rows × 2 columns</p>\n",
       "</div>"
      ],
      "text/plain": [
       "            Fe     Fe+Mg\n",
       "1     0.169710 -0.685739\n",
       "2    -2.076618 -2.855331\n",
       "3    -0.469006 -2.181542\n",
       "4    -0.654550 -1.706372\n",
       "5     0.462485 -2.556617\n",
       "...        ...       ...\n",
       "4655  0.414876  0.448698\n",
       "4656  0.577183  0.911383\n",
       "4657  0.309888  0.684583\n",
       "4658 -0.109084 -0.286567\n",
       "4659  1.100212  1.705515\n",
       "\n",
       "[4659 rows x 2 columns]"
      ]
     },
     "execution_count": 31,
     "metadata": {},
     "output_type": "execute_result"
    }
   ],
   "source": [
    "Fe_num"
   ]
  },
  {
   "cell_type": "code",
   "execution_count": 32,
   "metadata": {},
   "outputs": [
    {
     "name": "stdout",
     "output_type": "stream",
     "text": [
      "2 PCA components  out of 2 components with variance sum 1.0 needed for obtaining sum of variance > 0.95\n"
     ]
    },
    {
     "data": {
      "text/plain": [
       "array([0.86126701, 0.13873299])"
      ]
     },
     "execution_count": 32,
     "metadata": {},
     "output_type": "execute_result"
    }
   ],
   "source": [
    "Fe_num_pca = preproc.pca(Fe_num)\n",
    "preproc.pca_variance(Fe_num_pca)"
   ]
  },
  {
   "cell_type": "code",
   "execution_count": 33,
   "metadata": {},
   "outputs": [],
   "source": [
    "Fe_num_pca_df = preproc.create_pca_df(Fe_num_pca, Fe_num)"
   ]
  },
  {
   "cell_type": "code",
   "execution_count": 34,
   "metadata": {},
   "outputs": [],
   "source": [
    "preproc.save_obj(Fe_num_pca_df, \"Fe_num_pca_df\")"
   ]
  },
  {
   "cell_type": "markdown",
   "metadata": {},
   "source": [
    "## MALI"
   ]
  },
  {
   "cell_type": "code",
   "execution_count": 35,
   "metadata": {},
   "outputs": [
    {
     "name": "stderr",
     "output_type": "stream",
     "text": [
      "C:\\Users\\Sebastian\\Anaconda3\\envs\\main\\lib\\site-packages\\pandas\\io\\excel\\_base.py:445: FutureWarning: Passing in an integer for `usecols` has been deprecated. Please pass in a list of int from 0 to `usecols` inclusive instead.\n",
      "  usecols = _maybe_convert_usecols(usecols)\n"
     ]
    }
   ],
   "source": [
    "MALI = pd.read_excel(\"../_CLEANED/Vistelius_data_cleaned_all.xlsx\", index_col=0, usecols = 0)"
   ]
  },
  {
   "cell_type": "code",
   "execution_count": 36,
   "metadata": {},
   "outputs": [],
   "source": [
    "MALI['Na2O'] = mineralogy_clr1['Na2O']\n",
    "MALI['K2O'] = mineralogy_clr1['K2O']\n",
    "MALI['CaO'] = mineralogy_clr1['CaO']\n",
    "\n"
   ]
  },
  {
   "cell_type": "code",
   "execution_count": 37,
   "metadata": {},
   "outputs": [
    {
     "data": {
      "text/html": [
       "<div>\n",
       "<style scoped>\n",
       "    .dataframe tbody tr th:only-of-type {\n",
       "        vertical-align: middle;\n",
       "    }\n",
       "\n",
       "    .dataframe tbody tr th {\n",
       "        vertical-align: top;\n",
       "    }\n",
       "\n",
       "    .dataframe thead th {\n",
       "        text-align: right;\n",
       "    }\n",
       "</style>\n",
       "<table border=\"1\" class=\"dataframe\">\n",
       "  <thead>\n",
       "    <tr style=\"text-align: right;\">\n",
       "      <th></th>\n",
       "      <th>Na2O</th>\n",
       "      <th>K2O</th>\n",
       "      <th>CaO</th>\n",
       "    </tr>\n",
       "  </thead>\n",
       "  <tbody>\n",
       "    <tr>\n",
       "      <th>1</th>\n",
       "      <td>0.753988</td>\n",
       "      <td>1.338993</td>\n",
       "      <td>-0.536996</td>\n",
       "    </tr>\n",
       "    <tr>\n",
       "      <th>2</th>\n",
       "      <td>0.970488</td>\n",
       "      <td>1.766819</td>\n",
       "      <td>-0.912244</td>\n",
       "    </tr>\n",
       "    <tr>\n",
       "      <th>3</th>\n",
       "      <td>0.120045</td>\n",
       "      <td>2.224179</td>\n",
       "      <td>-1.558386</td>\n",
       "    </tr>\n",
       "    <tr>\n",
       "      <th>4</th>\n",
       "      <td>1.057717</td>\n",
       "      <td>1.193604</td>\n",
       "      <td>-0.653792</td>\n",
       "    </tr>\n",
       "    <tr>\n",
       "      <th>5</th>\n",
       "      <td>0.395341</td>\n",
       "      <td>1.101560</td>\n",
       "      <td>0.199774</td>\n",
       "    </tr>\n",
       "    <tr>\n",
       "      <th>...</th>\n",
       "      <td>...</td>\n",
       "      <td>...</td>\n",
       "      <td>...</td>\n",
       "    </tr>\n",
       "    <tr>\n",
       "      <th>4655</th>\n",
       "      <td>0.117309</td>\n",
       "      <td>-0.600410</td>\n",
       "      <td>0.783394</td>\n",
       "    </tr>\n",
       "    <tr>\n",
       "      <th>4656</th>\n",
       "      <td>-0.310814</td>\n",
       "      <td>-0.794444</td>\n",
       "      <td>0.846209</td>\n",
       "    </tr>\n",
       "    <tr>\n",
       "      <th>4657</th>\n",
       "      <td>-0.404219</td>\n",
       "      <td>-0.583560</td>\n",
       "      <td>0.744131</td>\n",
       "    </tr>\n",
       "    <tr>\n",
       "      <th>4658</th>\n",
       "      <td>0.219398</td>\n",
       "      <td>-1.095607</td>\n",
       "      <td>1.059988</td>\n",
       "    </tr>\n",
       "    <tr>\n",
       "      <th>4659</th>\n",
       "      <td>0.051741</td>\n",
       "      <td>-1.279745</td>\n",
       "      <td>1.435391</td>\n",
       "    </tr>\n",
       "  </tbody>\n",
       "</table>\n",
       "<p>4659 rows × 3 columns</p>\n",
       "</div>"
      ],
      "text/plain": [
       "          Na2O       K2O       CaO\n",
       "1     0.753988  1.338993 -0.536996\n",
       "2     0.970488  1.766819 -0.912244\n",
       "3     0.120045  2.224179 -1.558386\n",
       "4     1.057717  1.193604 -0.653792\n",
       "5     0.395341  1.101560  0.199774\n",
       "...        ...       ...       ...\n",
       "4655  0.117309 -0.600410  0.783394\n",
       "4656 -0.310814 -0.794444  0.846209\n",
       "4657 -0.404219 -0.583560  0.744131\n",
       "4658  0.219398 -1.095607  1.059988\n",
       "4659  0.051741 -1.279745  1.435391\n",
       "\n",
       "[4659 rows x 3 columns]"
      ]
     },
     "execution_count": 37,
     "metadata": {},
     "output_type": "execute_result"
    }
   ],
   "source": [
    "MALI"
   ]
  },
  {
   "cell_type": "code",
   "execution_count": 38,
   "metadata": {},
   "outputs": [],
   "source": [
    "preproc.save_obj(MALI, \"MALI\")"
   ]
  },
  {
   "cell_type": "code",
   "execution_count": 39,
   "metadata": {},
   "outputs": [
    {
     "name": "stdout",
     "output_type": "stream",
     "text": [
      "3 PCA components  out of 3 components with variance sum 1.0 needed for obtaining sum of variance > 0.95\n"
     ]
    },
    {
     "data": {
      "text/plain": [
       "array([0.77116024, 0.15231898, 0.07652078])"
      ]
     },
     "execution_count": 39,
     "metadata": {},
     "output_type": "execute_result"
    }
   ],
   "source": [
    "MALI_pca = preproc.pca(MALI)\n",
    "preproc.pca_variance(MALI_pca)"
   ]
  },
  {
   "cell_type": "code",
   "execution_count": 40,
   "metadata": {},
   "outputs": [],
   "source": [
    "MALI_pca_df = preproc.create_pca_df(MALI_pca, MALI)"
   ]
  },
  {
   "cell_type": "code",
   "execution_count": 41,
   "metadata": {},
   "outputs": [],
   "source": [
    "preproc.save_obj(MALI_pca_df, \"MALI_pca_df\")"
   ]
  },
  {
   "cell_type": "markdown",
   "metadata": {},
   "source": [
    "-----"
   ]
  },
  {
   "cell_type": "markdown",
   "metadata": {},
   "source": [
    "## ASI"
   ]
  },
  {
   "cell_type": "code",
   "execution_count": 42,
   "metadata": {},
   "outputs": [
    {
     "name": "stderr",
     "output_type": "stream",
     "text": [
      "C:\\Users\\Sebastian\\Anaconda3\\envs\\main\\lib\\site-packages\\pandas\\io\\excel\\_base.py:445: FutureWarning: Passing in an integer for `usecols` has been deprecated. Please pass in a list of int from 0 to `usecols` inclusive instead.\n",
      "  usecols = _maybe_convert_usecols(usecols)\n"
     ]
    }
   ],
   "source": [
    "ASI = pd.read_excel(\"../_CLEANED/Vistelius_data_cleaned_all.xlsx\", index_col=0, usecols = 0)"
   ]
  },
  {
   "cell_type": "code",
   "execution_count": 43,
   "metadata": {},
   "outputs": [],
   "source": [
    "ASI['Al'] = mineralogy_clrP1['Al2O3']\n",
    "ASI['Ca-P+Na+K'] = mineralogy_clrP1['Al2O3'] - (1.67* mineralogy_clrP1['P2O5']) + mineralogy_clrP1['Na2O'] + mineralogy_clrP1['K2O']\n"
   ]
  },
  {
   "cell_type": "code",
   "execution_count": 44,
   "metadata": {},
   "outputs": [
    {
     "data": {
      "text/html": [
       "<div>\n",
       "<style scoped>\n",
       "    .dataframe tbody tr th:only-of-type {\n",
       "        vertical-align: middle;\n",
       "    }\n",
       "\n",
       "    .dataframe tbody tr th {\n",
       "        vertical-align: top;\n",
       "    }\n",
       "\n",
       "    .dataframe thead th {\n",
       "        text-align: right;\n",
       "    }\n",
       "</style>\n",
       "<table border=\"1\" class=\"dataframe\">\n",
       "  <thead>\n",
       "    <tr style=\"text-align: right;\">\n",
       "      <th></th>\n",
       "      <th>Al</th>\n",
       "      <th>Ca-P+Na+K</th>\n",
       "    </tr>\n",
       "  </thead>\n",
       "  <tbody>\n",
       "    <tr>\n",
       "      <th>1</th>\n",
       "      <td>2.792420</td>\n",
       "      <td>12.610761</td>\n",
       "    </tr>\n",
       "    <tr>\n",
       "      <th>2</th>\n",
       "      <td>2.709946</td>\n",
       "      <td>10.306114</td>\n",
       "    </tr>\n",
       "    <tr>\n",
       "      <th>3</th>\n",
       "      <td>3.080837</td>\n",
       "      <td>12.560714</td>\n",
       "    </tr>\n",
       "    <tr>\n",
       "      <th>4</th>\n",
       "      <td>2.454287</td>\n",
       "      <td>12.965033</td>\n",
       "    </tr>\n",
       "    <tr>\n",
       "      <th>5</th>\n",
       "      <td>2.723708</td>\n",
       "      <td>12.089127</td>\n",
       "    </tr>\n",
       "    <tr>\n",
       "      <th>...</th>\n",
       "      <td>...</td>\n",
       "      <td>...</td>\n",
       "    </tr>\n",
       "    <tr>\n",
       "      <th>4655</th>\n",
       "      <td>1.834805</td>\n",
       "      <td>4.456205</td>\n",
       "    </tr>\n",
       "    <tr>\n",
       "      <th>4656</th>\n",
       "      <td>1.827464</td>\n",
       "      <td>5.203770</td>\n",
       "    </tr>\n",
       "    <tr>\n",
       "      <th>4657</th>\n",
       "      <td>1.697006</td>\n",
       "      <td>4.355827</td>\n",
       "    </tr>\n",
       "    <tr>\n",
       "      <th>4658</th>\n",
       "      <td>2.087740</td>\n",
       "      <td>4.540664</td>\n",
       "    </tr>\n",
       "    <tr>\n",
       "      <th>4659</th>\n",
       "      <td>2.484624</td>\n",
       "      <td>10.771916</td>\n",
       "    </tr>\n",
       "  </tbody>\n",
       "</table>\n",
       "<p>4659 rows × 2 columns</p>\n",
       "</div>"
      ],
      "text/plain": [
       "            Al  Ca-P+Na+K\n",
       "1     2.792420  12.610761\n",
       "2     2.709946  10.306114\n",
       "3     3.080837  12.560714\n",
       "4     2.454287  12.965033\n",
       "5     2.723708  12.089127\n",
       "...        ...        ...\n",
       "4655  1.834805   4.456205\n",
       "4656  1.827464   5.203770\n",
       "4657  1.697006   4.355827\n",
       "4658  2.087740   4.540664\n",
       "4659  2.484624  10.771916\n",
       "\n",
       "[4659 rows x 2 columns]"
      ]
     },
     "execution_count": 44,
     "metadata": {},
     "output_type": "execute_result"
    }
   ],
   "source": [
    "ASI"
   ]
  },
  {
   "cell_type": "code",
   "execution_count": 45,
   "metadata": {},
   "outputs": [],
   "source": [
    "preproc.save_obj(ASI, \"ASI\")"
   ]
  },
  {
   "cell_type": "code",
   "execution_count": 46,
   "metadata": {},
   "outputs": [
    {
     "name": "stdout",
     "output_type": "stream",
     "text": [
      "1 PCA components  out of 2 components with variance sum 0.9924299020615133 needed for obtaining sum of variance > 0.95\n"
     ]
    },
    {
     "data": {
      "text/plain": [
       "array([0.9924299, 0.0075701])"
      ]
     },
     "execution_count": 46,
     "metadata": {},
     "output_type": "execute_result"
    }
   ],
   "source": [
    "ASI_pca = preproc.pca(ASI)\n",
    "preproc.pca_variance(ASI_pca)"
   ]
  },
  {
   "cell_type": "code",
   "execution_count": 47,
   "metadata": {},
   "outputs": [],
   "source": [
    "ASI_pca_df = preproc.create_pca_df(ASI_pca, ASI)"
   ]
  },
  {
   "cell_type": "code",
   "execution_count": 48,
   "metadata": {},
   "outputs": [],
   "source": [
    "preproc.save_obj(ASI_pca_df, \"ASI_pca_df\")"
   ]
  },
  {
   "cell_type": "markdown",
   "metadata": {},
   "source": [
    "------"
   ]
  },
  {
   "cell_type": "markdown",
   "metadata": {},
   "source": [
    "# incorporating coordinates and timeclass"
   ]
  },
  {
   "cell_type": "code",
   "execution_count": 212,
   "metadata": {},
   "outputs": [],
   "source": [
    "mineralogy_inc_pca_df = mineralogy_pca_df1.iloc[:, 0: 7]\n",
    "time = pd.read_excel(\"../_RESULTS/time_fix.xlsx\", index_col=0, usecols=[0, 9])\n",
    "coordinates = pd.read_excel(\"../_INTERPOLATION/coordinates_UTM.xlsx\", index_col=0, usecols=[0, 1, 2])"
   ]
  },
  {
   "cell_type": "markdown",
   "metadata": {},
   "source": [
    "**remark** : make sure to use the right coordinate system"
   ]
  },
  {
   "cell_type": "code",
   "execution_count": 213,
   "metadata": {},
   "outputs": [
    {
     "data": {
      "text/html": [
       "<div>\n",
       "<style scoped>\n",
       "    .dataframe tbody tr th:only-of-type {\n",
       "        vertical-align: middle;\n",
       "    }\n",
       "\n",
       "    .dataframe tbody tr th {\n",
       "        vertical-align: top;\n",
       "    }\n",
       "\n",
       "    .dataframe thead th {\n",
       "        text-align: right;\n",
       "    }\n",
       "</style>\n",
       "<table border=\"1\" class=\"dataframe\">\n",
       "  <thead>\n",
       "    <tr style=\"text-align: right;\">\n",
       "      <th></th>\n",
       "      <th>Y_UTM</th>\n",
       "      <th>X_UTM</th>\n",
       "    </tr>\n",
       "  </thead>\n",
       "  <tbody>\n",
       "    <tr>\n",
       "      <th>1</th>\n",
       "      <td>3.166850e+06</td>\n",
       "      <td>5.512837e+06</td>\n",
       "    </tr>\n",
       "    <tr>\n",
       "      <th>2</th>\n",
       "      <td>1.436111e+06</td>\n",
       "      <td>6.102354e+06</td>\n",
       "    </tr>\n",
       "    <tr>\n",
       "      <th>3</th>\n",
       "      <td>2.874853e+06</td>\n",
       "      <td>7.966637e+06</td>\n",
       "    </tr>\n",
       "    <tr>\n",
       "      <th>4</th>\n",
       "      <td>2.565651e+06</td>\n",
       "      <td>7.521202e+06</td>\n",
       "    </tr>\n",
       "    <tr>\n",
       "      <th>5</th>\n",
       "      <td>2.540731e+06</td>\n",
       "      <td>8.757731e+06</td>\n",
       "    </tr>\n",
       "    <tr>\n",
       "      <th>...</th>\n",
       "      <td>...</td>\n",
       "      <td>...</td>\n",
       "    </tr>\n",
       "    <tr>\n",
       "      <th>4655</th>\n",
       "      <td>2.759727e+06</td>\n",
       "      <td>8.616851e+06</td>\n",
       "    </tr>\n",
       "    <tr>\n",
       "      <th>4656</th>\n",
       "      <td>2.927123e+06</td>\n",
       "      <td>5.721711e+06</td>\n",
       "    </tr>\n",
       "    <tr>\n",
       "      <th>4657</th>\n",
       "      <td>2.397980e+06</td>\n",
       "      <td>6.939549e+06</td>\n",
       "    </tr>\n",
       "    <tr>\n",
       "      <th>4658</th>\n",
       "      <td>2.684981e+06</td>\n",
       "      <td>7.505261e+06</td>\n",
       "    </tr>\n",
       "    <tr>\n",
       "      <th>4659</th>\n",
       "      <td>2.825330e+06</td>\n",
       "      <td>8.637313e+06</td>\n",
       "    </tr>\n",
       "  </tbody>\n",
       "</table>\n",
       "<p>4659 rows × 2 columns</p>\n",
       "</div>"
      ],
      "text/plain": [
       "             Y_UTM         X_UTM\n",
       "1     3.166850e+06  5.512837e+06\n",
       "2     1.436111e+06  6.102354e+06\n",
       "3     2.874853e+06  7.966637e+06\n",
       "4     2.565651e+06  7.521202e+06\n",
       "5     2.540731e+06  8.757731e+06\n",
       "...            ...           ...\n",
       "4655  2.759727e+06  8.616851e+06\n",
       "4656  2.927123e+06  5.721711e+06\n",
       "4657  2.397980e+06  6.939549e+06\n",
       "4658  2.684981e+06  7.505261e+06\n",
       "4659  2.825330e+06  8.637313e+06\n",
       "\n",
       "[4659 rows x 2 columns]"
      ]
     },
     "execution_count": 213,
     "metadata": {},
     "output_type": "execute_result"
    }
   ],
   "source": [
    "coordinates"
   ]
  },
  {
   "cell_type": "code",
   "execution_count": 214,
   "metadata": {},
   "outputs": [],
   "source": [
    "classification_renaming_dict = {\"Tr\" : \"1\",\n",
    "                                \"Tr-J\" : \"2\",\n",
    "                                \"J\" : \"3\",\n",
    "                                \"K\" : \"4\",\n",
    "                                \"Pg\" : \"5\",\n",
    "                                \"Mz\" : \"6\"}                         "
   ]
  },
  {
   "cell_type": "code",
   "execution_count": 215,
   "metadata": {},
   "outputs": [],
   "source": [
    "time['time'] = time['time'].replace(classification_renaming_dict)"
   ]
  },
  {
   "cell_type": "code",
   "execution_count": 216,
   "metadata": {},
   "outputs": [],
   "source": [
    "x8 = time"
   ]
  },
  {
   "cell_type": "code",
   "execution_count": 217,
   "metadata": {},
   "outputs": [
    {
     "data": {
      "text/html": [
       "<div>\n",
       "<style scoped>\n",
       "    .dataframe tbody tr th:only-of-type {\n",
       "        vertical-align: middle;\n",
       "    }\n",
       "\n",
       "    .dataframe tbody tr th {\n",
       "        vertical-align: top;\n",
       "    }\n",
       "\n",
       "    .dataframe thead th {\n",
       "        text-align: right;\n",
       "    }\n",
       "</style>\n",
       "<table border=\"1\" class=\"dataframe\">\n",
       "  <thead>\n",
       "    <tr style=\"text-align: right;\">\n",
       "      <th></th>\n",
       "      <th>PC01</th>\n",
       "      <th>PC02</th>\n",
       "      <th>PC03</th>\n",
       "      <th>PC04</th>\n",
       "      <th>PC05</th>\n",
       "      <th>PC06</th>\n",
       "      <th>PC07</th>\n",
       "    </tr>\n",
       "  </thead>\n",
       "  <tbody>\n",
       "    <tr>\n",
       "      <th>1</th>\n",
       "      <td>-0.989677</td>\n",
       "      <td>0.063658</td>\n",
       "      <td>-1.077309</td>\n",
       "      <td>0.949276</td>\n",
       "      <td>0.196830</td>\n",
       "      <td>-1.052766</td>\n",
       "      <td>-0.196021</td>\n",
       "    </tr>\n",
       "    <tr>\n",
       "      <th>2</th>\n",
       "      <td>-1.170683</td>\n",
       "      <td>0.906362</td>\n",
       "      <td>-0.457936</td>\n",
       "      <td>0.315585</td>\n",
       "      <td>0.836318</td>\n",
       "      <td>0.547351</td>\n",
       "      <td>-0.165217</td>\n",
       "    </tr>\n",
       "    <tr>\n",
       "      <th>3</th>\n",
       "      <td>-1.952305</td>\n",
       "      <td>1.084163</td>\n",
       "      <td>0.126341</td>\n",
       "      <td>-0.059648</td>\n",
       "      <td>0.787068</td>\n",
       "      <td>-1.028997</td>\n",
       "      <td>-0.907513</td>\n",
       "    </tr>\n",
       "    <tr>\n",
       "      <th>4</th>\n",
       "      <td>-1.265500</td>\n",
       "      <td>-0.665278</td>\n",
       "      <td>0.792680</td>\n",
       "      <td>1.554351</td>\n",
       "      <td>0.290969</td>\n",
       "      <td>0.026927</td>\n",
       "      <td>-0.145361</td>\n",
       "    </tr>\n",
       "    <tr>\n",
       "      <th>5</th>\n",
       "      <td>-1.401423</td>\n",
       "      <td>0.090158</td>\n",
       "      <td>0.667637</td>\n",
       "      <td>-0.203788</td>\n",
       "      <td>-1.529623</td>\n",
       "      <td>-1.127234</td>\n",
       "      <td>-0.414450</td>\n",
       "    </tr>\n",
       "    <tr>\n",
       "      <th>...</th>\n",
       "      <td>...</td>\n",
       "      <td>...</td>\n",
       "      <td>...</td>\n",
       "      <td>...</td>\n",
       "      <td>...</td>\n",
       "      <td>...</td>\n",
       "      <td>...</td>\n",
       "    </tr>\n",
       "    <tr>\n",
       "      <th>4655</th>\n",
       "      <td>1.969576</td>\n",
       "      <td>-1.154415</td>\n",
       "      <td>0.734286</td>\n",
       "      <td>0.877843</td>\n",
       "      <td>-0.311676</td>\n",
       "      <td>-0.413926</td>\n",
       "      <td>0.060452</td>\n",
       "    </tr>\n",
       "    <tr>\n",
       "      <th>4656</th>\n",
       "      <td>2.765959</td>\n",
       "      <td>-0.679754</td>\n",
       "      <td>0.061989</td>\n",
       "      <td>-0.052525</td>\n",
       "      <td>-0.149849</td>\n",
       "      <td>-0.699663</td>\n",
       "      <td>0.034609</td>\n",
       "    </tr>\n",
       "    <tr>\n",
       "      <th>4657</th>\n",
       "      <td>2.610638</td>\n",
       "      <td>-1.211222</td>\n",
       "      <td>0.315811</td>\n",
       "      <td>0.056660</td>\n",
       "      <td>-0.001314</td>\n",
       "      <td>-0.147221</td>\n",
       "      <td>-0.224187</td>\n",
       "    </tr>\n",
       "    <tr>\n",
       "      <th>4658</th>\n",
       "      <td>2.415960</td>\n",
       "      <td>-0.786335</td>\n",
       "      <td>0.173592</td>\n",
       "      <td>-0.202025</td>\n",
       "      <td>-0.649209</td>\n",
       "      <td>-0.020704</td>\n",
       "      <td>0.652916</td>\n",
       "    </tr>\n",
       "    <tr>\n",
       "      <th>4659</th>\n",
       "      <td>2.930744</td>\n",
       "      <td>-1.608133</td>\n",
       "      <td>-2.061326</td>\n",
       "      <td>0.066617</td>\n",
       "      <td>-0.769559</td>\n",
       "      <td>-0.620677</td>\n",
       "      <td>0.711245</td>\n",
       "    </tr>\n",
       "  </tbody>\n",
       "</table>\n",
       "<p>4659 rows × 7 columns</p>\n",
       "</div>"
      ],
      "text/plain": [
       "          PC01      PC02      PC03      PC04      PC05      PC06      PC07\n",
       "1    -0.989677  0.063658 -1.077309  0.949276  0.196830 -1.052766 -0.196021\n",
       "2    -1.170683  0.906362 -0.457936  0.315585  0.836318  0.547351 -0.165217\n",
       "3    -1.952305  1.084163  0.126341 -0.059648  0.787068 -1.028997 -0.907513\n",
       "4    -1.265500 -0.665278  0.792680  1.554351  0.290969  0.026927 -0.145361\n",
       "5    -1.401423  0.090158  0.667637 -0.203788 -1.529623 -1.127234 -0.414450\n",
       "...        ...       ...       ...       ...       ...       ...       ...\n",
       "4655  1.969576 -1.154415  0.734286  0.877843 -0.311676 -0.413926  0.060452\n",
       "4656  2.765959 -0.679754  0.061989 -0.052525 -0.149849 -0.699663  0.034609\n",
       "4657  2.610638 -1.211222  0.315811  0.056660 -0.001314 -0.147221 -0.224187\n",
       "4658  2.415960 -0.786335  0.173592 -0.202025 -0.649209 -0.020704  0.652916\n",
       "4659  2.930744 -1.608133 -2.061326  0.066617 -0.769559 -0.620677  0.711245\n",
       "\n",
       "[4659 rows x 7 columns]"
      ]
     },
     "execution_count": 217,
     "metadata": {},
     "output_type": "execute_result"
    }
   ],
   "source": [
    "mineralogy_inc_pca_df"
   ]
  },
  {
   "cell_type": "code",
   "execution_count": 218,
   "metadata": {},
   "outputs": [],
   "source": [
    "x1 = mineralogy_inc_pca_df.iloc[:,:1]\n",
    "x2 = mineralogy_inc_pca_df.iloc[:,1:2]\n",
    "x3 = mineralogy_inc_pca_df.iloc[:,2:3]\n",
    "x4 = mineralogy_inc_pca_df.iloc[:,3:4]\n",
    "x5 = mineralogy_inc_pca_df.iloc[:,4:5]\n",
    "x6 = mineralogy_inc_pca_df.iloc[:,5:6]\n",
    "x7 = mineralogy_inc_pca_df.iloc[:,6:7]\n",
    "\n",
    "x9 = coordinates.iloc[:,:1]\n",
    "x10 = coordinates.iloc[:,1:2]"
   ]
  },
  {
   "cell_type": "code",
   "execution_count": 219,
   "metadata": {},
   "outputs": [],
   "source": [
    "scaler1 = StandardScaler().fit(x1)\n",
    "scaler2 = StandardScaler().fit(x2)\n",
    "scaler3 = StandardScaler().fit(x3)\n",
    "scaler4 = StandardScaler().fit(x4)\n",
    "scaler5 = StandardScaler().fit(x5)\n",
    "scaler6 = StandardScaler().fit(x6)\n",
    "scaler7 = StandardScaler().fit(x7)\n",
    "scaler8 = StandardScaler().fit(x8)\n",
    "scaler9 = StandardScaler().fit(x9)\n",
    "scaler10 = StandardScaler().fit(x10)"
   ]
  },
  {
   "cell_type": "code",
   "execution_count": 220,
   "metadata": {},
   "outputs": [],
   "source": [
    "x1_scaled = scaler1.transform(x1)\n",
    "x2_scaled = scaler2.transform(x2)\n",
    "x3_scaled = scaler3.transform(x3)\n",
    "x4_scaled = scaler4.transform(x4)\n",
    "x5_scaled = scaler5.transform(x5)\n",
    "x6_scaled = scaler6.transform(x6)\n",
    "x7_scaled = scaler7.transform(x7)\n",
    "x8_scaled = scaler8.transform(x8)\n",
    "x9_scaled = scaler9.transform(x9)\n",
    "x10_scaled = scaler10.transform(x10)"
   ]
  },
  {
   "cell_type": "code",
   "execution_count": 224,
   "metadata": {},
   "outputs": [
    {
     "data": {
      "text/plain": [
       "array([6482553.5916579])"
      ]
     },
     "execution_count": 224,
     "metadata": {},
     "output_type": "execute_result"
    }
   ],
   "source": [
    "scaler9.mean_"
   ]
  },
  {
   "cell_type": "code",
   "execution_count": 225,
   "metadata": {},
   "outputs": [],
   "source": [
    "scaled_inc_pca_df = mineralogy_inc_pca_df.iloc[:,:0]"
   ]
  },
  {
   "cell_type": "code",
   "execution_count": 227,
   "metadata": {},
   "outputs": [],
   "source": [
    "x1_df = pd.DataFrame(data =x1_scaled,columns=['PC01'])\n",
    "x2_df = pd.DataFrame(data =x2_scaled,columns=['PC02'])\n",
    "x3_df = pd.DataFrame(data =x3_scaled,columns=['PC03'])\n",
    "x4_df = pd.DataFrame(data =x4_scaled,columns=['PC04'])\n",
    "x5_df = pd.DataFrame(data =x5_scaled,columns=['PC05'])\n",
    "x6_df = pd.DataFrame(data =x6_scaled,columns=['PC06'])\n",
    "x7_df = pd.DataFrame(data =x7_scaled,columns=['PC07'])\n",
    "x8_df = pd.DataFrame(data =x8_scaled,columns=['time'])\n",
    "x9_df = pd.DataFrame(data =x9_scaled,columns=['X_UTM'])\n",
    "x10_df = pd.DataFrame(data =x10_scaled,columns=['Y_UTM'])"
   ]
  },
  {
   "cell_type": "code",
   "execution_count": 228,
   "metadata": {},
   "outputs": [],
   "source": [
    "scaled_inc_pca_df = pd.concat([mineralogy_inc_pca_df.iloc[:,:0], x1_df, x2_df, x3_df, x4_df, x5_df, x6_df, x7_df, x8_df, x9_df, x10_df], axis=1, sort=True)\n",
    "scaled_inc_pca_df.index = np.arange(1, len(scaled_inc_pca_df) + 1)\n",
    "scaled_inc_pca_df = scaled_inc_pca_df.dropna()"
   ]
  },
  {
   "cell_type": "code",
   "execution_count": 229,
   "metadata": {},
   "outputs": [
    {
     "data": {
      "text/html": [
       "<div>\n",
       "<style scoped>\n",
       "    .dataframe tbody tr th:only-of-type {\n",
       "        vertical-align: middle;\n",
       "    }\n",
       "\n",
       "    .dataframe tbody tr th {\n",
       "        vertical-align: top;\n",
       "    }\n",
       "\n",
       "    .dataframe thead th {\n",
       "        text-align: right;\n",
       "    }\n",
       "</style>\n",
       "<table border=\"1\" class=\"dataframe\">\n",
       "  <thead>\n",
       "    <tr style=\"text-align: right;\">\n",
       "      <th></th>\n",
       "      <th>PC01</th>\n",
       "      <th>PC02</th>\n",
       "      <th>PC03</th>\n",
       "      <th>PC04</th>\n",
       "      <th>PC05</th>\n",
       "      <th>PC06</th>\n",
       "      <th>PC07</th>\n",
       "      <th>time</th>\n",
       "      <th>X_UTM</th>\n",
       "      <th>Y_UTM</th>\n",
       "    </tr>\n",
       "  </thead>\n",
       "  <tbody>\n",
       "    <tr>\n",
       "      <th>1</th>\n",
       "      <td>-0.821697</td>\n",
       "      <td>0.073729</td>\n",
       "      <td>-1.747331</td>\n",
       "      <td>1.849427</td>\n",
       "      <td>0.424171</td>\n",
       "      <td>-2.688559</td>\n",
       "      <td>-0.670874</td>\n",
       "      <td>0.467685</td>\n",
       "      <td>-0.148099</td>\n",
       "      <td>0.173109</td>\n",
       "    </tr>\n",
       "    <tr>\n",
       "      <th>2</th>\n",
       "      <td>-0.971980</td>\n",
       "      <td>1.049750</td>\n",
       "      <td>-0.742744</td>\n",
       "      <td>0.614839</td>\n",
       "      <td>1.802281</td>\n",
       "      <td>1.397826</td>\n",
       "      <td>-0.565449</td>\n",
       "      <td>-2.133358</td>\n",
       "      <td>-0.225403</td>\n",
       "      <td>0.186731</td>\n",
       "    </tr>\n",
       "    <tr>\n",
       "      <th>3</th>\n",
       "      <td>-1.620936</td>\n",
       "      <td>1.255681</td>\n",
       "      <td>0.204918</td>\n",
       "      <td>-0.116210</td>\n",
       "      <td>1.696146</td>\n",
       "      <td>-2.627857</td>\n",
       "      <td>-3.105933</td>\n",
       "      <td>0.467685</td>\n",
       "      <td>-0.161141</td>\n",
       "      <td>0.229809</td>\n",
       "    </tr>\n",
       "    <tr>\n",
       "      <th>4</th>\n",
       "      <td>-1.050704</td>\n",
       "      <td>-0.770527</td>\n",
       "      <td>1.285680</td>\n",
       "      <td>3.028266</td>\n",
       "      <td>0.627044</td>\n",
       "      <td>0.068766</td>\n",
       "      <td>-0.497492</td>\n",
       "      <td>0.467685</td>\n",
       "      <td>-0.174952</td>\n",
       "      <td>0.219516</td>\n",
       "    </tr>\n",
       "    <tr>\n",
       "      <th>5</th>\n",
       "      <td>-1.163557</td>\n",
       "      <td>0.104422</td>\n",
       "      <td>1.082868</td>\n",
       "      <td>-0.397029</td>\n",
       "      <td>-3.296363</td>\n",
       "      <td>-2.878734</td>\n",
       "      <td>-1.418440</td>\n",
       "      <td>0.467685</td>\n",
       "      <td>-0.176065</td>\n",
       "      <td>0.248088</td>\n",
       "    </tr>\n",
       "    <tr>\n",
       "      <th>...</th>\n",
       "      <td>...</td>\n",
       "      <td>...</td>\n",
       "      <td>...</td>\n",
       "      <td>...</td>\n",
       "      <td>...</td>\n",
       "      <td>...</td>\n",
       "      <td>...</td>\n",
       "      <td>...</td>\n",
       "      <td>...</td>\n",
       "      <td>...</td>\n",
       "    </tr>\n",
       "    <tr>\n",
       "      <th>4655</th>\n",
       "      <td>1.635276</td>\n",
       "      <td>-1.337046</td>\n",
       "      <td>1.190968</td>\n",
       "      <td>1.710257</td>\n",
       "      <td>-0.671667</td>\n",
       "      <td>-1.057086</td>\n",
       "      <td>0.206893</td>\n",
       "      <td>0.467685</td>\n",
       "      <td>-0.166283</td>\n",
       "      <td>0.244833</td>\n",
       "    </tr>\n",
       "    <tr>\n",
       "      <th>4656</th>\n",
       "      <td>2.296487</td>\n",
       "      <td>-0.787293</td>\n",
       "      <td>0.100543</td>\n",
       "      <td>-0.102332</td>\n",
       "      <td>-0.322927</td>\n",
       "      <td>-1.786802</td>\n",
       "      <td>0.118447</td>\n",
       "      <td>0.467685</td>\n",
       "      <td>-0.158806</td>\n",
       "      <td>0.177936</td>\n",
       "    </tr>\n",
       "    <tr>\n",
       "      <th>4657</th>\n",
       "      <td>2.167530</td>\n",
       "      <td>-1.402840</td>\n",
       "      <td>0.512226</td>\n",
       "      <td>0.110387</td>\n",
       "      <td>-0.002831</td>\n",
       "      <td>-0.375974</td>\n",
       "      <td>-0.767273</td>\n",
       "      <td>-0.399329</td>\n",
       "      <td>-0.182441</td>\n",
       "      <td>0.206076</td>\n",
       "    </tr>\n",
       "    <tr>\n",
       "      <th>4658</th>\n",
       "      <td>2.005894</td>\n",
       "      <td>-0.910735</td>\n",
       "      <td>0.281555</td>\n",
       "      <td>-0.393594</td>\n",
       "      <td>-1.399058</td>\n",
       "      <td>-0.052875</td>\n",
       "      <td>2.234582</td>\n",
       "      <td>0.467685</td>\n",
       "      <td>-0.169622</td>\n",
       "      <td>0.219148</td>\n",
       "    </tr>\n",
       "    <tr>\n",
       "      <th>4659</th>\n",
       "      <td>2.433303</td>\n",
       "      <td>-1.862544</td>\n",
       "      <td>-3.343347</td>\n",
       "      <td>0.129786</td>\n",
       "      <td>-1.658413</td>\n",
       "      <td>-1.585088</td>\n",
       "      <td>2.434211</td>\n",
       "      <td>0.467685</td>\n",
       "      <td>-0.163353</td>\n",
       "      <td>0.245306</td>\n",
       "    </tr>\n",
       "  </tbody>\n",
       "</table>\n",
       "<p>4655 rows × 10 columns</p>\n",
       "</div>"
      ],
      "text/plain": [
       "          PC01      PC02      PC03      PC04      PC05      PC06      PC07  \\\n",
       "1    -0.821697  0.073729 -1.747331  1.849427  0.424171 -2.688559 -0.670874   \n",
       "2    -0.971980  1.049750 -0.742744  0.614839  1.802281  1.397826 -0.565449   \n",
       "3    -1.620936  1.255681  0.204918 -0.116210  1.696146 -2.627857 -3.105933   \n",
       "4    -1.050704 -0.770527  1.285680  3.028266  0.627044  0.068766 -0.497492   \n",
       "5    -1.163557  0.104422  1.082868 -0.397029 -3.296363 -2.878734 -1.418440   \n",
       "...        ...       ...       ...       ...       ...       ...       ...   \n",
       "4655  1.635276 -1.337046  1.190968  1.710257 -0.671667 -1.057086  0.206893   \n",
       "4656  2.296487 -0.787293  0.100543 -0.102332 -0.322927 -1.786802  0.118447   \n",
       "4657  2.167530 -1.402840  0.512226  0.110387 -0.002831 -0.375974 -0.767273   \n",
       "4658  2.005894 -0.910735  0.281555 -0.393594 -1.399058 -0.052875  2.234582   \n",
       "4659  2.433303 -1.862544 -3.343347  0.129786 -1.658413 -1.585088  2.434211   \n",
       "\n",
       "          time     X_UTM     Y_UTM  \n",
       "1     0.467685 -0.148099  0.173109  \n",
       "2    -2.133358 -0.225403  0.186731  \n",
       "3     0.467685 -0.161141  0.229809  \n",
       "4     0.467685 -0.174952  0.219516  \n",
       "5     0.467685 -0.176065  0.248088  \n",
       "...        ...       ...       ...  \n",
       "4655  0.467685 -0.166283  0.244833  \n",
       "4656  0.467685 -0.158806  0.177936  \n",
       "4657 -0.399329 -0.182441  0.206076  \n",
       "4658  0.467685 -0.169622  0.219148  \n",
       "4659  0.467685 -0.163353  0.245306  \n",
       "\n",
       "[4655 rows x 10 columns]"
      ]
     },
     "execution_count": 229,
     "metadata": {},
     "output_type": "execute_result"
    }
   ],
   "source": [
    "scaled_inc_pca_df"
   ]
  },
  {
   "cell_type": "code",
   "execution_count": null,
   "metadata": {},
   "outputs": [],
   "source": []
  },
  {
   "cell_type": "code",
   "execution_count": null,
   "metadata": {},
   "outputs": [],
   "source": []
  },
  {
   "cell_type": "code",
   "execution_count": null,
   "metadata": {},
   "outputs": [],
   "source": []
  }
 ],
 "metadata": {
  "kernelspec": {
   "display_name": "Python 3",
   "language": "python",
   "name": "python3"
  },
  "language_info": {
   "codemirror_mode": {
    "name": "ipython",
    "version": 3
   },
   "file_extension": ".py",
   "mimetype": "text/x-python",
   "name": "python",
   "nbconvert_exporter": "python",
   "pygments_lexer": "ipython3",
   "version": "3.7.3"
  },
  "toc-autonumbering": true
 },
 "nbformat": 4,
 "nbformat_minor": 4
}
