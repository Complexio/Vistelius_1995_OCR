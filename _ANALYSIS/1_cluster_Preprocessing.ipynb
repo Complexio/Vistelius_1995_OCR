{
 "cells": [
  {
   "cell_type": "markdown",
   "metadata": {},
   "source": [
    "# Preprocessing"
   ]
  },
  {
   "cell_type": "code",
   "execution_count": 144,
   "metadata": {},
   "outputs": [],
   "source": [
    "import numpy as np\n",
    "import pandas as pd\n",
    "import os\n",
    "import pickle\n",
    "import utm\n",
    "import random"
   ]
  },
  {
   "cell_type": "code",
   "execution_count": 145,
   "metadata": {},
   "outputs": [],
   "source": [
    "import prepostprocessing.cleaning as cleaning\n",
    "import prepostprocessing.pre_processing as preproc"
   ]
  },
  {
   "cell_type": "code",
   "execution_count": 146,
   "metadata": {},
   "outputs": [
    {
     "name": "stdout",
     "output_type": "stream",
     "text": [
      "The autoreload extension is already loaded. To reload it, use:\n",
      "  %reload_ext autoreload\n"
     ]
    }
   ],
   "source": [
    "# Load jupyter extension to reload packages before executing user code.\n",
    "# https://ipython.readthedocs.io/en/stable/config/extensions/autoreload.html\n",
    "%load_ext autoreload\n",
    "# Reload all packages (except those excluded by %aimport) every time before executing the Python code typed.\n",
    "%autoreload 2"
   ]
  },
  {
   "cell_type": "markdown",
   "metadata": {},
   "source": [
    "## Mineralogy"
   ]
  },
  {
   "cell_type": "markdown",
   "metadata": {},
   "source": [
    "**To do**\n",
    "* ~~Clean last points in Excel file while using \"sum\" as check~~"
   ]
  },
  {
   "cell_type": "code",
   "execution_count": 147,
   "metadata": {},
   "outputs": [],
   "source": [
    "mineralogy = pd.read_excel(\"../_CLEANED/Vistelius_data_cleaned_all.xlsx\", index_col=0)"
   ]
  },
  {
   "cell_type": "markdown",
   "metadata": {},
   "source": [
    "### Check for wrong entries"
   ]
  },
  {
   "cell_type": "code",
   "execution_count": 148,
   "metadata": {},
   "outputs": [
    {
     "data": {
      "text/plain": [
       "array([ True,  True,  True, ...,  True,  True,  True])"
      ]
     },
     "execution_count": 148,
     "metadata": {},
     "output_type": "execute_result"
    }
   ],
   "source": [
    "np.isclose(mineralogy.loc[:, :\"oth\"].sum(axis=1), mineralogy.loc[:, \"sum\"])"
   ]
  },
  {
   "cell_type": "code",
   "execution_count": 149,
   "metadata": {},
   "outputs": [],
   "source": [
    "wrong_sum = mineralogy.loc[~np.isclose(mineralogy.loc[:, :\"oth\"].sum(axis=1), mineralogy.loc[:, \"sum\"]), :]"
   ]
  },
  {
   "cell_type": "code",
   "execution_count": 150,
   "metadata": {},
   "outputs": [
    {
     "data": {
      "text/html": [
       "<div>\n",
       "<style scoped>\n",
       "    .dataframe tbody tr th:only-of-type {\n",
       "        vertical-align: middle;\n",
       "    }\n",
       "\n",
       "    .dataframe tbody tr th {\n",
       "        vertical-align: top;\n",
       "    }\n",
       "\n",
       "    .dataframe thead th {\n",
       "        text-align: right;\n",
       "    }\n",
       "</style>\n",
       "<table border=\"1\" class=\"dataframe\">\n",
       "  <thead>\n",
       "    <tr style=\"text-align: right;\">\n",
       "      <th></th>\n",
       "      <th>SiO2</th>\n",
       "      <th>TiO2</th>\n",
       "      <th>Al2O3</th>\n",
       "      <th>Fe2O3</th>\n",
       "      <th>FeO</th>\n",
       "      <th>MnO</th>\n",
       "      <th>MgO</th>\n",
       "      <th>CaO</th>\n",
       "      <th>Na2O</th>\n",
       "      <th>K2O</th>\n",
       "      <th>P2O5</th>\n",
       "      <th>l.i.</th>\n",
       "      <th>oth</th>\n",
       "      <th>sum</th>\n",
       "      <th>hs</th>\n",
       "    </tr>\n",
       "  </thead>\n",
       "  <tbody>\n",
       "  </tbody>\n",
       "</table>\n",
       "</div>"
      ],
      "text/plain": [
       "Empty DataFrame\n",
       "Columns: [SiO2, TiO2, Al2O3, Fe2O3, FeO, MnO, MgO, CaO, Na2O, K2O, P2O5, l.i., oth, sum, hs]\n",
       "Index: []"
      ]
     },
     "execution_count": 150,
     "metadata": {},
     "output_type": "execute_result"
    }
   ],
   "source": [
    "# Check to see if any remaining incorrect lines are present\n",
    "wrong_sum"
   ]
  },
  {
   "cell_type": "code",
   "execution_count": 151,
   "metadata": {},
   "outputs": [
    {
     "name": "stdout",
     "output_type": "stream",
     "text": [
      "<class 'pandas.core.frame.DataFrame'>\n",
      "Int64Index: 4659 entries, 1 to 4659\n",
      "Data columns (total 15 columns):\n",
      "SiO2     4659 non-null float64\n",
      "TiO2     4626 non-null float64\n",
      "Al2O3    4659 non-null float64\n",
      "Fe2O3    4657 non-null float64\n",
      "FeO      4659 non-null float64\n",
      "MnO      4544 non-null float64\n",
      "MgO      4658 non-null float64\n",
      "CaO      4659 non-null float64\n",
      "Na2O     4659 non-null float64\n",
      "K2O      4659 non-null float64\n",
      "P2O5     3834 non-null float64\n",
      "l.i.     4659 non-null float64\n",
      "oth      874 non-null float64\n",
      "sum      4659 non-null float64\n",
      "hs       2240 non-null float64\n",
      "dtypes: float64(15)\n",
      "memory usage: 582.4 KB\n"
     ]
    }
   ],
   "source": [
    "mineralogy.info()"
   ]
  },
  {
   "cell_type": "code",
   "execution_count": 152,
   "metadata": {},
   "outputs": [
    {
     "data": {
      "text/plain": [
       "Series([], dtype: float64)"
      ]
     },
     "execution_count": 152,
     "metadata": {},
     "output_type": "execute_result"
    }
   ],
   "source": [
    "wrong_sum.loc[:, :\"oth\"].sum(axis=1)"
   ]
  },
  {
   "cell_type": "code",
   "execution_count": 153,
   "metadata": {},
   "outputs": [],
   "source": [
    "mineralogy = preproc.replace_nan(mineralogy, 0)"
   ]
  },
  {
   "cell_type": "code",
   "execution_count": 154,
   "metadata": {},
   "outputs": [],
   "source": [
    "mineralogy['oth'] = mineralogy['P2O5'] + mineralogy['l.i.'] + mineralogy['oth']\n",
    "mineralogy.drop([\"l.i.\", \"P2O5\", ], axis = 1, inplace = True)"
   ]
  },
  {
   "cell_type": "code",
   "execution_count": 155,
   "metadata": {},
   "outputs": [
    {
     "data": {
      "text/html": [
       "<div>\n",
       "<style scoped>\n",
       "    .dataframe tbody tr th:only-of-type {\n",
       "        vertical-align: middle;\n",
       "    }\n",
       "\n",
       "    .dataframe tbody tr th {\n",
       "        vertical-align: top;\n",
       "    }\n",
       "\n",
       "    .dataframe thead th {\n",
       "        text-align: right;\n",
       "    }\n",
       "</style>\n",
       "<table border=\"1\" class=\"dataframe\">\n",
       "  <thead>\n",
       "    <tr style=\"text-align: right;\">\n",
       "      <th></th>\n",
       "      <th>SiO2</th>\n",
       "      <th>TiO2</th>\n",
       "      <th>Al2O3</th>\n",
       "      <th>Fe2O3</th>\n",
       "      <th>FeO</th>\n",
       "      <th>MnO</th>\n",
       "      <th>MgO</th>\n",
       "      <th>CaO</th>\n",
       "      <th>Na2O</th>\n",
       "      <th>K2O</th>\n",
       "      <th>oth</th>\n",
       "      <th>sum</th>\n",
       "      <th>hs</th>\n",
       "    </tr>\n",
       "  </thead>\n",
       "  <tbody>\n",
       "    <tr>\n",
       "      <th>1</th>\n",
       "      <td>80.80</td>\n",
       "      <td>0.04</td>\n",
       "      <td>10.16</td>\n",
       "      <td>0.61</td>\n",
       "      <td>1.72</td>\n",
       "      <td>0.00</td>\n",
       "      <td>0.40</td>\n",
       "      <td>0.55</td>\n",
       "      <td>2.00</td>\n",
       "      <td>3.59</td>\n",
       "      <td>0.35</td>\n",
       "      <td>100.22</td>\n",
       "      <td>0.00</td>\n",
       "    </tr>\n",
       "    <tr>\n",
       "      <th>2</th>\n",
       "      <td>80.00</td>\n",
       "      <td>0.10</td>\n",
       "      <td>10.10</td>\n",
       "      <td>0.17</td>\n",
       "      <td>0.56</td>\n",
       "      <td>0.02</td>\n",
       "      <td>0.40</td>\n",
       "      <td>0.35</td>\n",
       "      <td>2.30</td>\n",
       "      <td>5.10</td>\n",
       "      <td>0.55</td>\n",
       "      <td>99.65</td>\n",
       "      <td>0.00</td>\n",
       "    </tr>\n",
       "    <tr>\n",
       "      <th>3</th>\n",
       "      <td>79.92</td>\n",
       "      <td>0.05</td>\n",
       "      <td>9.89</td>\n",
       "      <td>0.16</td>\n",
       "      <td>1.73</td>\n",
       "      <td>0.02</td>\n",
       "      <td>0.12</td>\n",
       "      <td>0.14</td>\n",
       "      <td>0.75</td>\n",
       "      <td>6.15</td>\n",
       "      <td>1.10</td>\n",
       "      <td>100.03</td>\n",
       "      <td>0.30</td>\n",
       "    </tr>\n",
       "    <tr>\n",
       "      <th>4</th>\n",
       "      <td>79.65</td>\n",
       "      <td>0.04</td>\n",
       "      <td>9.64</td>\n",
       "      <td>1.15</td>\n",
       "      <td>0.75</td>\n",
       "      <td>0.10</td>\n",
       "      <td>0.45</td>\n",
       "      <td>0.67</td>\n",
       "      <td>3.71</td>\n",
       "      <td>4.25</td>\n",
       "      <td>0.26</td>\n",
       "      <td>100.67</td>\n",
       "      <td>0.01</td>\n",
       "    </tr>\n",
       "    <tr>\n",
       "      <th>5</th>\n",
       "      <td>79.18</td>\n",
       "      <td>0.08</td>\n",
       "      <td>10.24</td>\n",
       "      <td>0.64</td>\n",
       "      <td>2.60</td>\n",
       "      <td>0.04</td>\n",
       "      <td>0.05</td>\n",
       "      <td>1.25</td>\n",
       "      <td>1.52</td>\n",
       "      <td>3.08</td>\n",
       "      <td>1.92</td>\n",
       "      <td>100.60</td>\n",
       "      <td>0.28</td>\n",
       "    </tr>\n",
       "  </tbody>\n",
       "</table>\n",
       "</div>"
      ],
      "text/plain": [
       "    SiO2  TiO2  Al2O3  Fe2O3   FeO   MnO   MgO   CaO  Na2O   K2O   oth  \\\n",
       "1  80.80  0.04  10.16   0.61  1.72  0.00  0.40  0.55  2.00  3.59  0.35   \n",
       "2  80.00  0.10  10.10   0.17  0.56  0.02  0.40  0.35  2.30  5.10  0.55   \n",
       "3  79.92  0.05   9.89   0.16  1.73  0.02  0.12  0.14  0.75  6.15  1.10   \n",
       "4  79.65  0.04   9.64   1.15  0.75  0.10  0.45  0.67  3.71  4.25  0.26   \n",
       "5  79.18  0.08  10.24   0.64  2.60  0.04  0.05  1.25  1.52  3.08  1.92   \n",
       "\n",
       "      sum    hs  \n",
       "1  100.22  0.00  \n",
       "2   99.65  0.00  \n",
       "3  100.03  0.30  \n",
       "4  100.67  0.01  \n",
       "5  100.60  0.28  "
      ]
     },
     "execution_count": 155,
     "metadata": {},
     "output_type": "execute_result"
    }
   ],
   "source": [
    "mineralogy.head()"
   ]
  },
  {
   "cell_type": "markdown",
   "metadata": {},
   "source": [
    "### Cleaning\n",
    "**To do**\n",
    "* ~~Replace zero values~~\n"
   ]
  },
  {
   "cell_type": "code",
   "execution_count": 156,
   "metadata": {},
   "outputs": [],
   "source": [
    "# Would not do this this way since it becomes less clear what the variable means\n",
    "# You should also replace 'minralogy' in all remaining cells by 'x' if you would want to do this\n",
    "# x = mineralogy"
   ]
  },
  {
   "cell_type": "code",
   "execution_count": 157,
   "metadata": {},
   "outputs": [],
   "source": [
    "# Replace zero values\n",
    "mineralogy = preproc.replace_zero(mineralogy, 0.01)"
   ]
  },
  {
   "cell_type": "markdown",
   "metadata": {},
   "source": [
    "* ~~Normalize~~"
   ]
  },
  {
   "cell_type": "code",
   "execution_count": 158,
   "metadata": {},
   "outputs": [],
   "source": [
    "# Normalize specific columns\n",
    "mineralogy.loc[:, :\"oth\"] = preproc.normalize(mineralogy.loc[:, :\"oth\"])# , total=mineralogy['sum'])"
   ]
  },
  {
   "cell_type": "code",
   "execution_count": 159,
   "metadata": {},
   "outputs": [],
   "source": [
    "# Renew 'sum' column to reflect changes applied during cleaning\n",
    "mineralogy[\"sum\"] = mineralogy.loc[:, :\"oth\"].sum(axis=1)"
   ]
  },
  {
   "cell_type": "code",
   "execution_count": 160,
   "metadata": {},
   "outputs": [],
   "source": [
    "# Check that sum of all variables + 'sum' == 200\n",
    "assert all(np.isclose(mineralogy.loc[:, :'sum'].sum(axis=1), 200.0))"
   ]
  },
  {
   "cell_type": "markdown",
   "metadata": {},
   "source": [
    "### centred log-ratio (clr) transformation"
   ]
  },
  {
   "cell_type": "code",
   "execution_count": 161,
   "metadata": {},
   "outputs": [],
   "source": [
    "mineralogy1 = mineralogy.drop(columns=['oth', 'hs', 'sum'])"
   ]
  },
  {
   "cell_type": "code",
   "execution_count": 162,
   "metadata": {},
   "outputs": [
    {
     "data": {
      "text/html": [
       "<div>\n",
       "<style scoped>\n",
       "    .dataframe tbody tr th:only-of-type {\n",
       "        vertical-align: middle;\n",
       "    }\n",
       "\n",
       "    .dataframe tbody tr th {\n",
       "        vertical-align: top;\n",
       "    }\n",
       "\n",
       "    .dataframe thead th {\n",
       "        text-align: right;\n",
       "    }\n",
       "</style>\n",
       "<table border=\"1\" class=\"dataframe\">\n",
       "  <thead>\n",
       "    <tr style=\"text-align: right;\">\n",
       "      <th></th>\n",
       "      <th>SiO2</th>\n",
       "      <th>TiO2</th>\n",
       "      <th>Al2O3</th>\n",
       "      <th>Fe2O3</th>\n",
       "      <th>FeO</th>\n",
       "      <th>MnO</th>\n",
       "      <th>MgO</th>\n",
       "      <th>CaO</th>\n",
       "      <th>Na2O</th>\n",
       "      <th>K2O</th>\n",
       "    </tr>\n",
       "  </thead>\n",
       "  <tbody>\n",
       "    <tr>\n",
       "      <th>1</th>\n",
       "      <td>4.452818</td>\n",
       "      <td>-3.158035</td>\n",
       "      <td>2.379300</td>\n",
       "      <td>-0.433455</td>\n",
       "      <td>0.603165</td>\n",
       "      <td>-4.544329</td>\n",
       "      <td>-0.855450</td>\n",
       "      <td>-0.536996</td>\n",
       "      <td>0.753988</td>\n",
       "      <td>1.338993</td>\n",
       "    </tr>\n",
       "    <tr>\n",
       "      <th>2</th>\n",
       "      <td>4.519605</td>\n",
       "      <td>-2.165007</td>\n",
       "      <td>2.450114</td>\n",
       "      <td>-1.634378</td>\n",
       "      <td>-0.442240</td>\n",
       "      <td>-3.774445</td>\n",
       "      <td>-0.778712</td>\n",
       "      <td>-0.912244</td>\n",
       "      <td>0.970488</td>\n",
       "      <td>1.766819</td>\n",
       "    </tr>\n",
       "    <tr>\n",
       "      <th>3</th>\n",
       "      <td>4.788753</td>\n",
       "      <td>-2.588005</td>\n",
       "      <td>2.699251</td>\n",
       "      <td>-1.424854</td>\n",
       "      <td>0.955849</td>\n",
       "      <td>-3.504296</td>\n",
       "      <td>-1.712536</td>\n",
       "      <td>-1.558386</td>\n",
       "      <td>0.120045</td>\n",
       "      <td>2.224179</td>\n",
       "    </tr>\n",
       "    <tr>\n",
       "      <th>4</th>\n",
       "      <td>4.124327</td>\n",
       "      <td>-3.472191</td>\n",
       "      <td>2.012606</td>\n",
       "      <td>-0.113553</td>\n",
       "      <td>-0.540997</td>\n",
       "      <td>-2.555900</td>\n",
       "      <td>-1.051822</td>\n",
       "      <td>-0.653792</td>\n",
       "      <td>1.057717</td>\n",
       "      <td>1.193604</td>\n",
       "    </tr>\n",
       "    <tr>\n",
       "      <th>5</th>\n",
       "      <td>4.348354</td>\n",
       "      <td>-2.549098</td>\n",
       "      <td>2.302932</td>\n",
       "      <td>-0.469657</td>\n",
       "      <td>0.932142</td>\n",
       "      <td>-3.242245</td>\n",
       "      <td>-3.019102</td>\n",
       "      <td>0.199774</td>\n",
       "      <td>0.395341</td>\n",
       "      <td>1.101560</td>\n",
       "    </tr>\n",
       "  </tbody>\n",
       "</table>\n",
       "</div>"
      ],
      "text/plain": [
       "       SiO2      TiO2     Al2O3     Fe2O3       FeO       MnO       MgO  \\\n",
       "1  4.452818 -3.158035  2.379300 -0.433455  0.603165 -4.544329 -0.855450   \n",
       "2  4.519605 -2.165007  2.450114 -1.634378 -0.442240 -3.774445 -0.778712   \n",
       "3  4.788753 -2.588005  2.699251 -1.424854  0.955849 -3.504296 -1.712536   \n",
       "4  4.124327 -3.472191  2.012606 -0.113553 -0.540997 -2.555900 -1.051822   \n",
       "5  4.348354 -2.549098  2.302932 -0.469657  0.932142 -3.242245 -3.019102   \n",
       "\n",
       "        CaO      Na2O       K2O  \n",
       "1 -0.536996  0.753988  1.338993  \n",
       "2 -0.912244  0.970488  1.766819  \n",
       "3 -1.558386  0.120045  2.224179  \n",
       "4 -0.653792  1.057717  1.193604  \n",
       "5  0.199774  0.395341  1.101560  "
      ]
     },
     "execution_count": 162,
     "metadata": {},
     "output_type": "execute_result"
    }
   ],
   "source": [
    "mineralogy_clr1 = preproc.clr(mineralogy1)\n",
    "mineralogy_clr1.head()"
   ]
  },
  {
   "cell_type": "markdown",
   "metadata": {},
   "source": [
    "### Principal Component Analysis (PCA)"
   ]
  },
  {
   "cell_type": "code",
   "execution_count": 163,
   "metadata": {},
   "outputs": [
    {
     "name": "stdout",
     "output_type": "stream",
     "text": [
      "6 PCA components  out of 10 components with variance sum 0.9653845247577469 needed for obtaining sum of variance > 0.95\n"
     ]
    },
    {
     "data": {
      "text/plain": [
       "array([4.36495556e-01, 2.24309391e-01, 1.14379085e-01, 7.92733011e-02,\n",
       "       6.47910351e-02, 4.61361562e-02, 2.56884815e-02, 7.25584036e-03,\n",
       "       1.67115334e-03, 2.35922349e-32])"
      ]
     },
     "execution_count": 163,
     "metadata": {},
     "output_type": "execute_result"
    }
   ],
   "source": [
    "mineralogy_pca1 = preproc.pca(mineralogy_clr1)\n",
    "preproc.pca_variance(mineralogy_pca1)"
   ]
  },
  {
   "cell_type": "code",
   "execution_count": 164,
   "metadata": {},
   "outputs": [],
   "source": [
    "mineralogy_pca_df1 = preproc.create_pca_df(mineralogy_pca1, mineralogy_clr1)"
   ]
  },
  {
   "cell_type": "code",
   "execution_count": 165,
   "metadata": {},
   "outputs": [
    {
     "data": {
      "text/html": [
       "<div>\n",
       "<style scoped>\n",
       "    .dataframe tbody tr th:only-of-type {\n",
       "        vertical-align: middle;\n",
       "    }\n",
       "\n",
       "    .dataframe tbody tr th {\n",
       "        vertical-align: top;\n",
       "    }\n",
       "\n",
       "    .dataframe thead th {\n",
       "        text-align: right;\n",
       "    }\n",
       "</style>\n",
       "<table border=\"1\" class=\"dataframe\">\n",
       "  <thead>\n",
       "    <tr style=\"text-align: right;\">\n",
       "      <th></th>\n",
       "      <th>PC01</th>\n",
       "      <th>PC02</th>\n",
       "      <th>PC03</th>\n",
       "      <th>PC04</th>\n",
       "      <th>PC05</th>\n",
       "      <th>PC06</th>\n",
       "      <th>PC07</th>\n",
       "      <th>PC08</th>\n",
       "      <th>PC09</th>\n",
       "      <th>PC10</th>\n",
       "    </tr>\n",
       "  </thead>\n",
       "  <tbody>\n",
       "    <tr>\n",
       "      <th>1</th>\n",
       "      <td>-0.989677</td>\n",
       "      <td>0.063658</td>\n",
       "      <td>-1.077309</td>\n",
       "      <td>0.949276</td>\n",
       "      <td>0.196830</td>\n",
       "      <td>-1.052766</td>\n",
       "      <td>-0.196021</td>\n",
       "      <td>0.313477</td>\n",
       "      <td>0.228518</td>\n",
       "      <td>-3.805685e-16</td>\n",
       "    </tr>\n",
       "    <tr>\n",
       "      <th>2</th>\n",
       "      <td>-1.170683</td>\n",
       "      <td>0.906362</td>\n",
       "      <td>-0.457936</td>\n",
       "      <td>0.315585</td>\n",
       "      <td>0.836318</td>\n",
       "      <td>0.547351</td>\n",
       "      <td>-0.165217</td>\n",
       "      <td>0.278892</td>\n",
       "      <td>0.207743</td>\n",
       "      <td>2.205780e-16</td>\n",
       "    </tr>\n",
       "    <tr>\n",
       "      <th>3</th>\n",
       "      <td>-1.952305</td>\n",
       "      <td>1.084163</td>\n",
       "      <td>0.126341</td>\n",
       "      <td>-0.059648</td>\n",
       "      <td>0.787068</td>\n",
       "      <td>-1.028997</td>\n",
       "      <td>-0.907513</td>\n",
       "      <td>0.941895</td>\n",
       "      <td>0.141972</td>\n",
       "      <td>-5.419556e-17</td>\n",
       "    </tr>\n",
       "    <tr>\n",
       "      <th>4</th>\n",
       "      <td>-1.265500</td>\n",
       "      <td>-0.665278</td>\n",
       "      <td>0.792680</td>\n",
       "      <td>1.554351</td>\n",
       "      <td>0.290969</td>\n",
       "      <td>0.026927</td>\n",
       "      <td>-0.145361</td>\n",
       "      <td>-0.158186</td>\n",
       "      <td>0.272325</td>\n",
       "      <td>-2.268773e-16</td>\n",
       "    </tr>\n",
       "    <tr>\n",
       "      <th>5</th>\n",
       "      <td>-1.401423</td>\n",
       "      <td>0.090158</td>\n",
       "      <td>0.667637</td>\n",
       "      <td>-0.203788</td>\n",
       "      <td>-1.529623</td>\n",
       "      <td>-1.127234</td>\n",
       "      <td>-0.414450</td>\n",
       "      <td>0.462700</td>\n",
       "      <td>0.259138</td>\n",
       "      <td>-2.570066e-16</td>\n",
       "    </tr>\n",
       "    <tr>\n",
       "      <th>...</th>\n",
       "      <td>...</td>\n",
       "      <td>...</td>\n",
       "      <td>...</td>\n",
       "      <td>...</td>\n",
       "      <td>...</td>\n",
       "      <td>...</td>\n",
       "      <td>...</td>\n",
       "      <td>...</td>\n",
       "      <td>...</td>\n",
       "      <td>...</td>\n",
       "    </tr>\n",
       "    <tr>\n",
       "      <th>4655</th>\n",
       "      <td>1.969576</td>\n",
       "      <td>-1.154415</td>\n",
       "      <td>0.734286</td>\n",
       "      <td>0.877843</td>\n",
       "      <td>-0.311676</td>\n",
       "      <td>-0.413926</td>\n",
       "      <td>0.060452</td>\n",
       "      <td>-0.189310</td>\n",
       "      <td>-0.243017</td>\n",
       "      <td>1.875335e-16</td>\n",
       "    </tr>\n",
       "    <tr>\n",
       "      <th>4656</th>\n",
       "      <td>2.765959</td>\n",
       "      <td>-0.679754</td>\n",
       "      <td>0.061989</td>\n",
       "      <td>-0.052525</td>\n",
       "      <td>-0.149849</td>\n",
       "      <td>-0.699663</td>\n",
       "      <td>0.034609</td>\n",
       "      <td>0.112326</td>\n",
       "      <td>-0.131631</td>\n",
       "      <td>2.651447e-18</td>\n",
       "    </tr>\n",
       "    <tr>\n",
       "      <th>4657</th>\n",
       "      <td>2.610638</td>\n",
       "      <td>-1.211222</td>\n",
       "      <td>0.315811</td>\n",
       "      <td>0.056660</td>\n",
       "      <td>-0.001314</td>\n",
       "      <td>-0.147221</td>\n",
       "      <td>-0.224187</td>\n",
       "      <td>0.059057</td>\n",
       "      <td>-0.149794</td>\n",
       "      <td>-8.143807e-16</td>\n",
       "    </tr>\n",
       "    <tr>\n",
       "      <th>4658</th>\n",
       "      <td>2.415960</td>\n",
       "      <td>-0.786335</td>\n",
       "      <td>0.173592</td>\n",
       "      <td>-0.202025</td>\n",
       "      <td>-0.649209</td>\n",
       "      <td>-0.020704</td>\n",
       "      <td>0.652916</td>\n",
       "      <td>0.082545</td>\n",
       "      <td>-0.300729</td>\n",
       "      <td>2.716508e-17</td>\n",
       "    </tr>\n",
       "    <tr>\n",
       "      <th>4659</th>\n",
       "      <td>2.930744</td>\n",
       "      <td>-1.608133</td>\n",
       "      <td>-2.061326</td>\n",
       "      <td>0.066617</td>\n",
       "      <td>-0.769559</td>\n",
       "      <td>-0.620677</td>\n",
       "      <td>0.711245</td>\n",
       "      <td>0.317989</td>\n",
       "      <td>-0.195724</td>\n",
       "      <td>1.252166e-16</td>\n",
       "    </tr>\n",
       "  </tbody>\n",
       "</table>\n",
       "<p>4659 rows × 10 columns</p>\n",
       "</div>"
      ],
      "text/plain": [
       "          PC01      PC02      PC03      PC04      PC05      PC06      PC07  \\\n",
       "1    -0.989677  0.063658 -1.077309  0.949276  0.196830 -1.052766 -0.196021   \n",
       "2    -1.170683  0.906362 -0.457936  0.315585  0.836318  0.547351 -0.165217   \n",
       "3    -1.952305  1.084163  0.126341 -0.059648  0.787068 -1.028997 -0.907513   \n",
       "4    -1.265500 -0.665278  0.792680  1.554351  0.290969  0.026927 -0.145361   \n",
       "5    -1.401423  0.090158  0.667637 -0.203788 -1.529623 -1.127234 -0.414450   \n",
       "...        ...       ...       ...       ...       ...       ...       ...   \n",
       "4655  1.969576 -1.154415  0.734286  0.877843 -0.311676 -0.413926  0.060452   \n",
       "4656  2.765959 -0.679754  0.061989 -0.052525 -0.149849 -0.699663  0.034609   \n",
       "4657  2.610638 -1.211222  0.315811  0.056660 -0.001314 -0.147221 -0.224187   \n",
       "4658  2.415960 -0.786335  0.173592 -0.202025 -0.649209 -0.020704  0.652916   \n",
       "4659  2.930744 -1.608133 -2.061326  0.066617 -0.769559 -0.620677  0.711245   \n",
       "\n",
       "          PC08      PC09          PC10  \n",
       "1     0.313477  0.228518 -3.805685e-16  \n",
       "2     0.278892  0.207743  2.205780e-16  \n",
       "3     0.941895  0.141972 -5.419556e-17  \n",
       "4    -0.158186  0.272325 -2.268773e-16  \n",
       "5     0.462700  0.259138 -2.570066e-16  \n",
       "...        ...       ...           ...  \n",
       "4655 -0.189310 -0.243017  1.875335e-16  \n",
       "4656  0.112326 -0.131631  2.651447e-18  \n",
       "4657  0.059057 -0.149794 -8.143807e-16  \n",
       "4658  0.082545 -0.300729  2.716508e-17  \n",
       "4659  0.317989 -0.195724  1.252166e-16  \n",
       "\n",
       "[4659 rows x 10 columns]"
      ]
     },
     "execution_count": 165,
     "metadata": {},
     "output_type": "execute_result"
    }
   ],
   "source": [
    "mineralogy_pca_df1"
   ]
  },
  {
   "cell_type": "code",
   "execution_count": 166,
   "metadata": {},
   "outputs": [],
   "source": [
    "preproc.save_obj(mineralogy_pca_df1, \"mineralogy_pca_df1\")"
   ]
  },
  {
   "cell_type": "code",
   "execution_count": null,
   "metadata": {},
   "outputs": [],
   "source": []
  }
 ],
 "metadata": {
  "kernelspec": {
   "display_name": "Python 3",
   "language": "python",
   "name": "python3"
  },
  "language_info": {
   "codemirror_mode": {
    "name": "ipython",
    "version": 3
   },
   "file_extension": ".py",
   "mimetype": "text/x-python",
   "name": "python",
   "nbconvert_exporter": "python",
   "pygments_lexer": "ipython3",
   "version": "3.7.3"
  },
  "toc-autonumbering": true
 },
 "nbformat": 4,
 "nbformat_minor": 4
}
