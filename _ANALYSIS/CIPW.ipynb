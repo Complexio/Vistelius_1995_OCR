{
 "cells": [
  {
   "cell_type": "markdown",
   "metadata": {},
   "source": [
    "**remark**\n",
    "trying to create a file which can be used to calculate the CIPW norm beginning from an excell file (used the infile previously"
   ]
  },
  {
   "cell_type": "code",
   "execution_count": 1,
   "metadata": {},
   "outputs": [
    {
     "name": "stderr",
     "output_type": "stream",
     "text": [
      "C:\\Users\\u0108248\\AppData\\Local\\Continuum\\miniconda3\\envs\\main\\lib\\site-packages\\ipykernel\\parentpoller.py:116: UserWarning: Parent poll failed.  If the frontend dies,\n",
      "                the kernel may be left running.  Please let us know\n",
      "                about your system (bitness, Python, etc.) at\n",
      "                ipython-dev@scipy.org\n",
      "  ipython-dev@scipy.org\"\"\")\n"
     ]
    }
   ],
   "source": [
    "import numpy as np\n",
    "import pandas as pd\n",
    "import prepostprocessing.cleaning as cleaning\n",
    "import prepostprocessing.pre_processing as preproc"
   ]
  },
  {
   "cell_type": "code",
   "execution_count": null,
   "metadata": {},
   "outputs": [],
   "source": [
    "CIPW_try = pd.read_excel(\"../_CIPW/ESM_try.xlsx\", index=None)"
   ]
  },
  {
   "cell_type": "code",
   "execution_count": null,
   "metadata": {},
   "outputs": [],
   "source": [
    "CIPW_try = preproc.replace_nan(CIPW_try, \"\")"
   ]
  },
  {
   "cell_type": "code",
   "execution_count": null,
   "metadata": {},
   "outputs": [],
   "source": [
    "CIPW_try"
   ]
  },
  {
   "cell_type": "code",
   "execution_count": 5,
   "metadata": {},
   "outputs": [],
   "source": [
    "CIPW_try1 = CIPW_try[\"Unnamed: 0\"].map(str) + \" \" + CIPW_try[\"areax\"].map(str) + \" \" +  \"0\" + \" \" + \"1\" + \" \" + CIPW_try[\"Unnamed: 2\"].map(str) + \"  \" + CIPW_try[\"Unnamed: 3\"].map(str) + \"  \" + CIPW_try[\"Unnamed: 4\"].map(str) + \"  \" + CIPW_try[\"Unnamed: 5\"].map(str) + \"  \" + CIPW_try[\"Unnamed: 6\"].map(str) + \"  \" + CIPW_try[\"Unnamed: 7\"].map(str) + \"  \" + CIPW_try[\"Unnamed: 8\"].map(str) + \"  \" + CIPW_try[\"Unnamed: 9\"].map(str) + \"  \" + CIPW_try[\"Unnamed: 10\"].map(str) + \"  \" + CIPW_try[\"Unnamed: 11\"].map(str) + \"  \" + CIPW_try[\"Unnamed: 12\"].map(str) + \"  \" + CIPW_try[\"Unnamed: 13\"].map(str) + \"  \" + CIPW_try[\"Unnamed: 14\"].map(str) + \"  \" + CIPW_try[\"Unnamed: 15\"].map(str) + \"  \" + CIPW_try[\"Unnamed: 16\"].map(str) + \" \" + \"0.0\" + \" \" + \"0.0\" + \" \" + \"0.0\" + \" \" + \"0.0\" + \" \" + \"0.0\""
   ]
  },
  {
   "cell_type": "code",
   "execution_count": 7,
   "metadata": {},
   "outputs": [
    {
     "data": {
      "text/plain": [
       "'SIO2 TIO2 AL2O3 FE2O3 FEO MNO MGO CAO NA2O K2O P2O5 CO2 F S BAO                                                                                   0 1                              0.0 0.0 0.0 0.0 0.0'"
      ]
     },
     "execution_count": 7,
     "metadata": {},
     "output_type": "execute_result"
    }
   ],
   "source": [
    "CIPW_try1[0]"
   ]
  },
  {
   "cell_type": "code",
   "execution_count": null,
   "metadata": {},
   "outputs": [],
   "source": [
    "CIPW_try.to_csv()"
   ]
  },
  {
   "cell_type": "code",
   "execution_count": 44,
   "metadata": {},
   "outputs": [],
   "source": [
    "CIPW_try1.to_excel(\"../_CIPW/ESM.xlsx\")"
   ]
  },
  {
   "cell_type": "code",
   "execution_count": null,
   "metadata": {},
   "outputs": [],
   "source": []
  },
  {
   "cell_type": "markdown",
   "metadata": {},
   "source": [
    "## Test - convert to CIPWFULL format"
   ]
  },
  {
   "cell_type": "markdown",
   "metadata": {},
   "source": [
    "**I used an arbitrary version of the mineralogical data, not sure if this is the correct one**"
   ]
  },
  {
   "cell_type": "code",
   "execution_count": 20,
   "metadata": {},
   "outputs": [
    {
     "data": {
      "text/plain": [
       "Index(['SiO2', 'TiO2', 'Al2O3', 'Fe2O3', 'FeO', 'MnO', 'MgO', 'CaO', 'Na2O',\n",
       "       'K2O', 'P2O5', 'l.i.', 'oth'],\n",
       "      dtype='object')"
      ]
     },
     "execution_count": 20,
     "metadata": {},
     "output_type": "execute_result"
    }
   ],
   "source": [
    "# Only iterested in sample number and oxides\n",
    "mineralogy = pd.read_excel(\"../_PETRO/classification_altereddata.xlsx\", index_col=0, usecols=['Unnamed: 0', 'SiO2', 'TiO2', 'Al2O3', 'Fe2O3',\n",
    "       'FeO', 'MnO', 'MgO', 'CaO', 'Na2O', 'K2O', 'P2O5', 'l.i.', 'oth'])\n",
    "mineralogy.columns"
   ]
  },
  {
   "cell_type": "code",
   "execution_count": 21,
   "metadata": {},
   "outputs": [],
   "source": [
    "# Check for closed sum\n",
    "assert all(np.isclose(mineralogy.sum(axis=1), 100.0))"
   ]
  },
  {
   "cell_type": "code",
   "execution_count": 22,
   "metadata": {},
   "outputs": [],
   "source": [
    "# Remove 'l.i.'' and 'oth' columns and immediately normalize data\n",
    "mineralogy = preproc.normalize(mineralogy.drop([\"l.i.\", \"oth\"], axis=1))"
   ]
  },
  {
   "cell_type": "code",
   "execution_count": 23,
   "metadata": {},
   "outputs": [],
   "source": [
    "# Check for closed sum\n",
    "assert all(np.isclose(mineralogy.sum(axis=1), 100.0))"
   ]
  },
  {
   "cell_type": "code",
   "execution_count": 24,
   "metadata": {},
   "outputs": [
    {
     "data": {
      "text/html": [
       "<div>\n",
       "<style scoped>\n",
       "    .dataframe tbody tr th:only-of-type {\n",
       "        vertical-align: middle;\n",
       "    }\n",
       "\n",
       "    .dataframe tbody tr th {\n",
       "        vertical-align: top;\n",
       "    }\n",
       "\n",
       "    .dataframe thead th {\n",
       "        text-align: right;\n",
       "    }\n",
       "</style>\n",
       "<table border=\"1\" class=\"dataframe\">\n",
       "  <thead>\n",
       "    <tr style=\"text-align: right;\">\n",
       "      <th></th>\n",
       "      <th>SiO2</th>\n",
       "      <th>TiO2</th>\n",
       "      <th>Al2O3</th>\n",
       "      <th>Fe2O3</th>\n",
       "      <th>FeO</th>\n",
       "      <th>MnO</th>\n",
       "      <th>MgO</th>\n",
       "      <th>CaO</th>\n",
       "      <th>Na2O</th>\n",
       "      <th>K2O</th>\n",
       "      <th>P2O5</th>\n",
       "    </tr>\n",
       "  </thead>\n",
       "  <tbody>\n",
       "    <tr>\n",
       "      <th>1</th>\n",
       "      <td>80.888978</td>\n",
       "      <td>0.040044</td>\n",
       "      <td>10.171188</td>\n",
       "      <td>0.610672</td>\n",
       "      <td>1.721894</td>\n",
       "      <td>0.010011</td>\n",
       "      <td>0.400440</td>\n",
       "      <td>0.550606</td>\n",
       "      <td>2.002202</td>\n",
       "      <td>3.593953</td>\n",
       "      <td>0.010011</td>\n",
       "    </tr>\n",
       "    <tr>\n",
       "      <th>2</th>\n",
       "      <td>80.685830</td>\n",
       "      <td>0.100857</td>\n",
       "      <td>10.186586</td>\n",
       "      <td>0.171457</td>\n",
       "      <td>0.564801</td>\n",
       "      <td>0.020171</td>\n",
       "      <td>0.403429</td>\n",
       "      <td>0.353001</td>\n",
       "      <td>2.319718</td>\n",
       "      <td>5.143722</td>\n",
       "      <td>0.050429</td>\n",
       "    </tr>\n",
       "    <tr>\n",
       "      <th>3</th>\n",
       "      <td>80.776228</td>\n",
       "      <td>0.050536</td>\n",
       "      <td>9.995957</td>\n",
       "      <td>0.161714</td>\n",
       "      <td>1.748534</td>\n",
       "      <td>0.020214</td>\n",
       "      <td>0.121286</td>\n",
       "      <td>0.141500</td>\n",
       "      <td>0.758035</td>\n",
       "      <td>6.215888</td>\n",
       "      <td>0.010107</td>\n",
       "    </tr>\n",
       "    <tr>\n",
       "      <th>4</th>\n",
       "      <td>79.316869</td>\n",
       "      <td>0.039833</td>\n",
       "      <td>9.599681</td>\n",
       "      <td>1.145190</td>\n",
       "      <td>0.746863</td>\n",
       "      <td>0.099582</td>\n",
       "      <td>0.448118</td>\n",
       "      <td>0.667198</td>\n",
       "      <td>3.694483</td>\n",
       "      <td>4.232225</td>\n",
       "      <td>0.009958</td>\n",
       "    </tr>\n",
       "    <tr>\n",
       "      <th>5</th>\n",
       "      <td>80.231026</td>\n",
       "      <td>0.081062</td>\n",
       "      <td>10.375925</td>\n",
       "      <td>0.648495</td>\n",
       "      <td>2.634512</td>\n",
       "      <td>0.040531</td>\n",
       "      <td>0.050664</td>\n",
       "      <td>1.266592</td>\n",
       "      <td>1.540176</td>\n",
       "      <td>3.120884</td>\n",
       "      <td>0.010133</td>\n",
       "    </tr>\n",
       "  </tbody>\n",
       "</table>\n",
       "</div>"
      ],
      "text/plain": [
       "        SiO2      TiO2      Al2O3     Fe2O3       FeO       MnO       MgO  \\\n",
       "1  80.888978  0.040044  10.171188  0.610672  1.721894  0.010011  0.400440   \n",
       "2  80.685830  0.100857  10.186586  0.171457  0.564801  0.020171  0.403429   \n",
       "3  80.776228  0.050536   9.995957  0.161714  1.748534  0.020214  0.121286   \n",
       "4  79.316869  0.039833   9.599681  1.145190  0.746863  0.099582  0.448118   \n",
       "5  80.231026  0.081062  10.375925  0.648495  2.634512  0.040531  0.050664   \n",
       "\n",
       "        CaO      Na2O       K2O      P2O5  \n",
       "1  0.550606  2.002202  3.593953  0.010011  \n",
       "2  0.353001  2.319718  5.143722  0.050429  \n",
       "3  0.141500  0.758035  6.215888  0.010107  \n",
       "4  0.667198  3.694483  4.232225  0.009958  \n",
       "5  1.266592  1.540176  3.120884  0.010133  "
      ]
     },
     "execution_count": 24,
     "metadata": {},
     "output_type": "execute_result"
    }
   ],
   "source": [
    "mineralogy.head()"
   ]
  },
  {
   "cell_type": "code",
   "execution_count": 14,
   "metadata": {},
   "outputs": [],
   "source": [
    "def convert_to_CIPWFULL_format(df, path, dataset_name=\"Dataset\", index_prefix=None, rock_type=\"P\", \n",
    "                               rock_suite_column=None, normalization=False):\n",
    "    \"\"\"Converts a pandas DataFrame to a txt file compatible \n",
    "    as an input file for the CIPWFULL program by AL-Mishwat (2015)\n",
    "    \n",
    "    Parameters:\n",
    "    -----------\n",
    "    df : pd.DataFrame\n",
    "        mineralogy data in the form of oxides\n",
    "    path : str\n",
    "        path to where to save resulting file\n",
    "    dataset_name : str (optional)\n",
    "        Name opf dataset to use in CIPWFULL\n",
    "        defaults to 'Dataset'\n",
    "    index_prefix : str (optional)\n",
    "        Prefix to use before index\n",
    "        defaults to None\n",
    "    rock_type : str (optional)\n",
    "        Rock type indicator:\n",
    "            'P' for plutonic\n",
    "            'V' for volcanic\n",
    "        defaults to 'P'\n",
    "    rock_suite_column : str (optional)\n",
    "        Which column name to use a 'rock suite' in CIPWFULL\n",
    "        The rock suite acts as a grouping variable\n",
    "        defaults to None\n",
    "    normalization : bool (optional)\n",
    "        Write flag to file whether to let CIPWFULL \n",
    "        normalize the data before norm calculation\n",
    "        defaults to False\n",
    "        \n",
    "    Returns:\n",
    "    --------\n",
    "    df_CIPW : pd.DataFrame\n",
    "        altered mineralogy data according to CIPWFULL input format\n",
    "    \n",
    "    (file is written to disk)\n",
    "    \n",
    "    \"\"\"\n",
    "    \n",
    "    # Get copy of original df so that it doesn't get altered\n",
    "    df_CIPW = df.copy()\n",
    "    \n",
    "    # Add prefix to index if required\n",
    "    if index_prefix:\n",
    "        df_CIPW.index = f\"{index_prefix}\" + df_CIPW.index.astype(str)\n",
    "        \n",
    "    # Add additional columns to be moved to index\n",
    "    df_CIPW[\"Type\"] = \"P\"\n",
    "    df_CIPW[\"Cancrinite\"] = 0\n",
    "    if rock_suite_column:\n",
    "        df_CIPW[\"Rock suite\"] = df_CIPW[rock_suite_column]\n",
    "        df_CIPW.drop(rock_suite_column, axis=1)\n",
    "    else:\n",
    "        df_CIPW[\"Rock suite\"] = 1 # This could be changed to a grouping variable such as geographic area, time\n",
    "        \n",
    "    # Move additional columns to index\n",
    "    df_CIPW = df_CIPW.set_index([\"Type\", \"Cancrinite\", \"Rock suite\"], append=True)\n",
    "    \n",
    "    # Start writing file (file saving/closing is handled automatically)\n",
    "    with open(path, 'w') as f:\n",
    "\n",
    "        # Write a '1' before the dataset name if you want CIPWFULL \n",
    "        # to normalize the data before the calculation; else write space\n",
    "        if normalization:\n",
    "            f.write(\"1\")\n",
    "        else:\n",
    "            f.write(\" \")\n",
    "\n",
    "        # Write dataset name\n",
    "        f.write(f\"{dataset_name}\\n\")\n",
    "\n",
    "        # Write column names and index+data\n",
    "        # The floating point number need to be formatted so as not \n",
    "        # to go over the 120 character line limit of CIPWFULL\n",
    "        df_CIPW.to_csv(f, mode='w', sep=\" \", line_terminator=\"\\n\", \n",
    "                       index_label=False, float_format=\"%2.5f\")\n",
    "\n",
    "        # Write '0' to indicate end of data entries\n",
    "        f.write(\"0\")\n",
    "\n",
    "        # Write rock suite names if needed\n",
    "        if rock_suite_column:\n",
    "            f.write(\"\\n\")\n",
    "            f.write(rock_suite_column.unique())\n",
    "            f.write(\"\\n\")"
   ]
  },
  {
   "cell_type": "code",
   "execution_count": 16,
   "metadata": {},
   "outputs": [],
   "source": [
    "convert_to_CIPWFULL_format(mineralogy, \"../_CIPW/test.txt\", dataset_name=\"Vistelius (1995)\")"
   ]
  },
  {
   "cell_type": "markdown",
   "metadata": {},
   "source": [
    "_____"
   ]
  },
  {
   "cell_type": "code",
   "execution_count": null,
   "metadata": {},
   "outputs": [],
   "source": []
  }
 ],
 "metadata": {
  "kernelspec": {
   "display_name": "Python [conda env:main]",
   "language": "python",
   "name": "conda-env-main-py"
  },
  "language_info": {
   "codemirror_mode": {
    "name": "ipython",
    "version": 3
   },
   "file_extension": ".py",
   "mimetype": "text/x-python",
   "name": "python",
   "nbconvert_exporter": "python",
   "pygments_lexer": "ipython3",
   "version": "3.7.6"
  }
 },
 "nbformat": 4,
 "nbformat_minor": 4
}
