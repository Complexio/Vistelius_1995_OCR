{
 "cells": [
  {
   "cell_type": "markdown",
   "metadata": {
    "execution": {
     "iopub.execute_input": "2020-06-02T13:08:56.360618Z",
     "iopub.status.busy": "2020-06-02T13:08:56.360618Z",
     "iopub.status.idle": "2020-06-02T13:08:56.364615Z",
     "shell.execute_reply": "2020-06-02T13:08:56.363615Z",
     "shell.execute_reply.started": "2020-06-02T13:08:56.360618Z"
    }
   },
   "source": [
    "# Aitchison & Greenacre 2002\n",
    "___"
   ]
  },
  {
   "cell_type": "code",
   "execution_count": 1,
   "metadata": {
    "execution": {
     "iopub.execute_input": "2020-06-28T07:15:57.469869Z",
     "iopub.status.busy": "2020-06-28T07:15:57.469869Z",
     "iopub.status.idle": "2020-06-28T07:16:04.510583Z",
     "shell.execute_reply": "2020-06-28T07:16:04.509611Z",
     "shell.execute_reply.started": "2020-06-28T07:15:57.469869Z"
    }
   },
   "outputs": [],
   "source": [
    "import numpy as np\n",
    "import pandas as pd\n",
    "from sklearn.decomposition import PCA\n",
    "\n",
    "import toolbox.toolbox as tb\n",
    "import matplotlib.pyplot as plt"
   ]
  },
  {
   "cell_type": "markdown",
   "metadata": {
    "execution": {
     "iopub.execute_input": "2020-06-02T13:09:14.760408Z",
     "iopub.status.busy": "2020-06-02T13:09:14.760408Z",
     "iopub.status.idle": "2020-06-02T13:09:14.766420Z",
     "shell.execute_reply": "2020-06-02T13:09:14.765405Z",
     "shell.execute_reply.started": "2020-06-02T13:09:14.760408Z"
    }
   },
   "source": [
    "___"
   ]
  },
  {
   "cell_type": "code",
   "execution_count": 2,
   "metadata": {
    "execution": {
     "iopub.execute_input": "2020-06-28T07:16:04.512586Z",
     "iopub.status.busy": "2020-06-28T07:16:04.511584Z",
     "iopub.status.idle": "2020-06-28T07:16:04.609616Z",
     "shell.execute_reply": "2020-06-28T07:16:04.609616Z",
     "shell.execute_reply.started": "2020-06-28T07:16:04.512586Z"
    }
   },
   "outputs": [],
   "source": [
    "df = pd.read_excel(\"Color_dataframe.xlsx\", index_col=0)"
   ]
  },
  {
   "cell_type": "code",
   "execution_count": 3,
   "metadata": {
    "execution": {
     "iopub.execute_input": "2020-06-28T07:16:04.611612Z",
     "iopub.status.busy": "2020-06-28T07:16:04.611612Z",
     "iopub.status.idle": "2020-06-28T07:16:04.623585Z",
     "shell.execute_reply": "2020-06-28T07:16:04.622588Z",
     "shell.execute_reply.started": "2020-06-28T07:16:04.611612Z"
    }
   },
   "outputs": [],
   "source": [
    "df = tb.normalize(df)"
   ]
  },
  {
   "cell_type": "code",
   "execution_count": 4,
   "metadata": {
    "execution": {
     "iopub.execute_input": "2020-06-28T07:16:04.624601Z",
     "iopub.status.busy": "2020-06-28T07:16:04.624601Z",
     "iopub.status.idle": "2020-06-28T07:16:04.637585Z",
     "shell.execute_reply": "2020-06-28T07:16:04.636584Z",
     "shell.execute_reply.started": "2020-06-28T07:16:04.624601Z"
    }
   },
   "outputs": [],
   "source": [
    "df_clr = tb.clr(df)"
   ]
  },
  {
   "cell_type": "code",
   "execution_count": 6,
   "metadata": {
    "execution": {
     "iopub.execute_input": "2020-06-28T07:16:18.610310Z",
     "iopub.status.busy": "2020-06-28T07:16:18.610310Z",
     "iopub.status.idle": "2020-06-28T07:16:18.714295Z",
     "shell.execute_reply": "2020-06-28T07:16:18.714295Z",
     "shell.execute_reply.started": "2020-06-28T07:16:18.610310Z"
    }
   },
   "outputs": [
    {
     "data": {
      "text/plain": [
       "PCA(copy=True, iterated_power='auto', n_components=None, random_state=None,\n",
       "    svd_solver='auto', tol=0.0, whiten=False)"
      ]
     },
     "execution_count": 6,
     "metadata": {},
     "output_type": "execute_result"
    }
   ],
   "source": [
    "pca = PCA()\n",
    "pca.fit(df_clr)"
   ]
  },
  {
   "cell_type": "code",
   "execution_count": 7,
   "metadata": {
    "execution": {
     "iopub.execute_input": "2020-06-28T07:16:21.521861Z",
     "iopub.status.busy": "2020-06-28T07:16:21.521861Z",
     "iopub.status.idle": "2020-06-28T07:16:21.535864Z",
     "shell.execute_reply": "2020-06-28T07:16:21.534861Z",
     "shell.execute_reply.started": "2020-06-28T07:16:21.521861Z"
    }
   },
   "outputs": [],
   "source": [
    "df_pca = pd.DataFrame(pca.transform(df_clr))"
   ]
  },
  {
   "cell_type": "code",
   "execution_count": 8,
   "metadata": {
    "execution": {
     "iopub.execute_input": "2020-06-28T07:16:22.249991Z",
     "iopub.status.busy": "2020-06-28T07:16:22.248989Z",
     "iopub.status.idle": "2020-06-28T07:16:22.275954Z",
     "shell.execute_reply": "2020-06-28T07:16:22.274969Z",
     "shell.execute_reply.started": "2020-06-28T07:16:22.249991Z"
    }
   },
   "outputs": [
    {
     "data": {
      "text/html": [
       "<div>\n",
       "<style scoped>\n",
       "    .dataframe tbody tr th:only-of-type {\n",
       "        vertical-align: middle;\n",
       "    }\n",
       "\n",
       "    .dataframe tbody tr th {\n",
       "        vertical-align: top;\n",
       "    }\n",
       "\n",
       "    .dataframe thead th {\n",
       "        text-align: right;\n",
       "    }\n",
       "</style>\n",
       "<table border=\"1\" class=\"dataframe\">\n",
       "  <thead>\n",
       "    <tr style=\"text-align: right;\">\n",
       "      <th></th>\n",
       "      <th>0</th>\n",
       "      <th>1</th>\n",
       "      <th>2</th>\n",
       "      <th>3</th>\n",
       "      <th>4</th>\n",
       "      <th>5</th>\n",
       "    </tr>\n",
       "  </thead>\n",
       "  <tbody>\n",
       "    <tr>\n",
       "      <th>0</th>\n",
       "      <td>-0.721236</td>\n",
       "      <td>-0.248230</td>\n",
       "      <td>-0.066755</td>\n",
       "      <td>-0.014127</td>\n",
       "      <td>-0.016040</td>\n",
       "      <td>1.466292e-15</td>\n",
       "    </tr>\n",
       "    <tr>\n",
       "      <th>1</th>\n",
       "      <td>-0.111420</td>\n",
       "      <td>-0.075459</td>\n",
       "      <td>-0.127162</td>\n",
       "      <td>0.028609</td>\n",
       "      <td>-0.007270</td>\n",
       "      <td>-4.933314e-16</td>\n",
       "    </tr>\n",
       "    <tr>\n",
       "      <th>2</th>\n",
       "      <td>1.032567</td>\n",
       "      <td>-0.135990</td>\n",
       "      <td>-0.085945</td>\n",
       "      <td>0.008936</td>\n",
       "      <td>-0.009851</td>\n",
       "      <td>1.319616e-15</td>\n",
       "    </tr>\n",
       "    <tr>\n",
       "      <th>3</th>\n",
       "      <td>-0.239357</td>\n",
       "      <td>0.009263</td>\n",
       "      <td>0.055518</td>\n",
       "      <td>-0.017763</td>\n",
       "      <td>-0.005929</td>\n",
       "      <td>8.581900e-17</td>\n",
       "    </tr>\n",
       "    <tr>\n",
       "      <th>4</th>\n",
       "      <td>-0.571652</td>\n",
       "      <td>0.398011</td>\n",
       "      <td>0.112128</td>\n",
       "      <td>-0.054711</td>\n",
       "      <td>-0.007817</td>\n",
       "      <td>1.461541e-16</td>\n",
       "    </tr>\n",
       "    <tr>\n",
       "      <th>5</th>\n",
       "      <td>0.792849</td>\n",
       "      <td>-0.266521</td>\n",
       "      <td>0.146510</td>\n",
       "      <td>0.001315</td>\n",
       "      <td>-0.005645</td>\n",
       "      <td>4.159141e-16</td>\n",
       "    </tr>\n",
       "    <tr>\n",
       "      <th>6</th>\n",
       "      <td>0.084232</td>\n",
       "      <td>-0.118505</td>\n",
       "      <td>0.014907</td>\n",
       "      <td>-0.028770</td>\n",
       "      <td>-0.007599</td>\n",
       "      <td>-1.215256e-15</td>\n",
       "    </tr>\n",
       "    <tr>\n",
       "      <th>7</th>\n",
       "      <td>-0.969086</td>\n",
       "      <td>-0.310964</td>\n",
       "      <td>-0.104879</td>\n",
       "      <td>0.032423</td>\n",
       "      <td>-0.013453</td>\n",
       "      <td>-8.763309e-16</td>\n",
       "    </tr>\n",
       "    <tr>\n",
       "      <th>8</th>\n",
       "      <td>1.260364</td>\n",
       "      <td>0.264546</td>\n",
       "      <td>-0.100166</td>\n",
       "      <td>0.048719</td>\n",
       "      <td>-0.010707</td>\n",
       "      <td>6.333881e-16</td>\n",
       "    </tr>\n",
       "    <tr>\n",
       "      <th>9</th>\n",
       "      <td>-0.841158</td>\n",
       "      <td>0.139820</td>\n",
       "      <td>0.044368</td>\n",
       "      <td>-0.011848</td>\n",
       "      <td>0.006205</td>\n",
       "      <td>-6.586105e-16</td>\n",
       "    </tr>\n",
       "    <tr>\n",
       "      <th>10</th>\n",
       "      <td>0.726027</td>\n",
       "      <td>0.002698</td>\n",
       "      <td>0.094775</td>\n",
       "      <td>-0.043404</td>\n",
       "      <td>-0.010357</td>\n",
       "      <td>2.500618e-16</td>\n",
       "    </tr>\n",
       "    <tr>\n",
       "      <th>11</th>\n",
       "      <td>-0.280367</td>\n",
       "      <td>0.122601</td>\n",
       "      <td>-0.004153</td>\n",
       "      <td>0.004227</td>\n",
       "      <td>-0.002556</td>\n",
       "      <td>-1.585664e-16</td>\n",
       "    </tr>\n",
       "    <tr>\n",
       "      <th>12</th>\n",
       "      <td>0.401721</td>\n",
       "      <td>-0.230179</td>\n",
       "      <td>0.105753</td>\n",
       "      <td>0.023462</td>\n",
       "      <td>-0.015913</td>\n",
       "      <td>-1.275980e-15</td>\n",
       "    </tr>\n",
       "    <tr>\n",
       "      <th>13</th>\n",
       "      <td>1.326070</td>\n",
       "      <td>-0.384123</td>\n",
       "      <td>-0.094088</td>\n",
       "      <td>-0.097514</td>\n",
       "      <td>0.032213</td>\n",
       "      <td>-1.431321e-16</td>\n",
       "    </tr>\n",
       "    <tr>\n",
       "      <th>14</th>\n",
       "      <td>0.408626</td>\n",
       "      <td>0.298015</td>\n",
       "      <td>0.063243</td>\n",
       "      <td>-0.022604</td>\n",
       "      <td>0.002853</td>\n",
       "      <td>8.009176e-16</td>\n",
       "    </tr>\n",
       "    <tr>\n",
       "      <th>15</th>\n",
       "      <td>-0.019290</td>\n",
       "      <td>0.117953</td>\n",
       "      <td>-0.121933</td>\n",
       "      <td>0.115541</td>\n",
       "      <td>0.015174</td>\n",
       "      <td>-3.161042e-16</td>\n",
       "    </tr>\n",
       "    <tr>\n",
       "      <th>16</th>\n",
       "      <td>-1.102425</td>\n",
       "      <td>0.091540</td>\n",
       "      <td>-0.140733</td>\n",
       "      <td>-0.110408</td>\n",
       "      <td>-0.000398</td>\n",
       "      <td>5.702632e-16</td>\n",
       "    </tr>\n",
       "    <tr>\n",
       "      <th>17</th>\n",
       "      <td>-0.308848</td>\n",
       "      <td>0.418182</td>\n",
       "      <td>-0.079532</td>\n",
       "      <td>-0.026293</td>\n",
       "      <td>0.008145</td>\n",
       "      <td>-1.009060e-15</td>\n",
       "    </tr>\n",
       "    <tr>\n",
       "      <th>18</th>\n",
       "      <td>-0.015166</td>\n",
       "      <td>0.044187</td>\n",
       "      <td>0.008310</td>\n",
       "      <td>0.086948</td>\n",
       "      <td>0.005590</td>\n",
       "      <td>3.853941e-16</td>\n",
       "    </tr>\n",
       "    <tr>\n",
       "      <th>19</th>\n",
       "      <td>-0.513454</td>\n",
       "      <td>-0.193396</td>\n",
       "      <td>0.079759</td>\n",
       "      <td>-0.013033</td>\n",
       "      <td>0.013233</td>\n",
       "      <td>-1.170150e-16</td>\n",
       "    </tr>\n",
       "    <tr>\n",
       "      <th>20</th>\n",
       "      <td>0.975050</td>\n",
       "      <td>0.265325</td>\n",
       "      <td>0.068464</td>\n",
       "      <td>0.024972</td>\n",
       "      <td>0.009105</td>\n",
       "      <td>1.400766e-16</td>\n",
       "    </tr>\n",
       "    <tr>\n",
       "      <th>21</th>\n",
       "      <td>-1.314045</td>\n",
       "      <td>-0.208775</td>\n",
       "      <td>0.131611</td>\n",
       "      <td>0.065320</td>\n",
       "      <td>0.021019</td>\n",
       "      <td>1.004426e-15</td>\n",
       "    </tr>\n",
       "  </tbody>\n",
       "</table>\n",
       "</div>"
      ],
      "text/plain": [
       "           0         1         2         3         4             5\n",
       "0  -0.721236 -0.248230 -0.066755 -0.014127 -0.016040  1.466292e-15\n",
       "1  -0.111420 -0.075459 -0.127162  0.028609 -0.007270 -4.933314e-16\n",
       "2   1.032567 -0.135990 -0.085945  0.008936 -0.009851  1.319616e-15\n",
       "3  -0.239357  0.009263  0.055518 -0.017763 -0.005929  8.581900e-17\n",
       "4  -0.571652  0.398011  0.112128 -0.054711 -0.007817  1.461541e-16\n",
       "5   0.792849 -0.266521  0.146510  0.001315 -0.005645  4.159141e-16\n",
       "6   0.084232 -0.118505  0.014907 -0.028770 -0.007599 -1.215256e-15\n",
       "7  -0.969086 -0.310964 -0.104879  0.032423 -0.013453 -8.763309e-16\n",
       "8   1.260364  0.264546 -0.100166  0.048719 -0.010707  6.333881e-16\n",
       "9  -0.841158  0.139820  0.044368 -0.011848  0.006205 -6.586105e-16\n",
       "10  0.726027  0.002698  0.094775 -0.043404 -0.010357  2.500618e-16\n",
       "11 -0.280367  0.122601 -0.004153  0.004227 -0.002556 -1.585664e-16\n",
       "12  0.401721 -0.230179  0.105753  0.023462 -0.015913 -1.275980e-15\n",
       "13  1.326070 -0.384123 -0.094088 -0.097514  0.032213 -1.431321e-16\n",
       "14  0.408626  0.298015  0.063243 -0.022604  0.002853  8.009176e-16\n",
       "15 -0.019290  0.117953 -0.121933  0.115541  0.015174 -3.161042e-16\n",
       "16 -1.102425  0.091540 -0.140733 -0.110408 -0.000398  5.702632e-16\n",
       "17 -0.308848  0.418182 -0.079532 -0.026293  0.008145 -1.009060e-15\n",
       "18 -0.015166  0.044187  0.008310  0.086948  0.005590  3.853941e-16\n",
       "19 -0.513454 -0.193396  0.079759 -0.013033  0.013233 -1.170150e-16\n",
       "20  0.975050  0.265325  0.068464  0.024972  0.009105  1.400766e-16\n",
       "21 -1.314045 -0.208775  0.131611  0.065320  0.021019  1.004426e-15"
      ]
     },
     "execution_count": 8,
     "metadata": {},
     "output_type": "execute_result"
    }
   ],
   "source": [
    "df_pca"
   ]
  },
  {
   "cell_type": "code",
   "execution_count": 15,
   "metadata": {
    "execution": {
     "iopub.execute_input": "2020-06-03T09:18:47.431429Z",
     "iopub.status.busy": "2020-06-03T09:18:47.431429Z",
     "iopub.status.idle": "2020-06-03T09:18:47.440432Z",
     "shell.execute_reply": "2020-06-03T09:18:47.439434Z",
     "shell.execute_reply.started": "2020-06-03T09:18:47.431429Z"
    }
   },
   "outputs": [],
   "source": [
    "## project data into PC space\n",
    "\n",
    "# 0,1 denote PC1 and PC2\n",
    "xloading = np.negative(pca.components_[0])\n",
    "yloading = np.negative(pca.components_[1])\n",
    "\n",
    "# Negative used so that values are plotted the same\n",
    "# as in Aitchison & Greenacre (2002)\n",
    "# If not the case, remove the np.negative\n",
    "xscore = np.negative(pca.transform(df_clr)[:,0])\n",
    "yscore = np.negative(pca.transform(df_clr)[:,1])\n",
    "\n",
    "S = pca.singular_values_"
   ]
  },
  {
   "cell_type": "code",
   "execution_count": 16,
   "metadata": {
    "execution": {
     "iopub.execute_input": "2020-06-03T09:18:48.955877Z",
     "iopub.status.busy": "2020-06-03T09:18:48.955877Z",
     "iopub.status.idle": "2020-06-03T09:18:49.306985Z",
     "shell.execute_reply": "2020-06-03T09:18:49.305977Z",
     "shell.execute_reply.started": "2020-06-03T09:18:48.955877Z"
    }
   },
   "outputs": [
    {
     "data": {
      "image/png": "[encoded data removed]",
      "text/plain": [
       "<Figure size 864x576 with 1 Axes>"
      ]
     },
     "metadata": {
      "needs_background": "light"
     },
     "output_type": "display_data"
    }
   ],
   "source": [
    "# Visualize projections\n",
    "fig, ax = plt.subplots(figsize=(12,8))\n",
    "    \n",
    "for i in range(len(xloading)):\n",
    "# Arrows project features (ie columns from csv) as vectors onto PC axes\n",
    "    plt.arrow(0, 0, xloading[i]*max(xscore), yloading[i]*max(yscore),\n",
    "              color='r', width=0.0005, head_width=0.0025)\n",
    "    plt.text(xloading[i]*max(xscore) + 0.01, \n",
    "             yloading[i]*max(yscore) + 0.01,\n",
    "             list(df_clr.columns.values)[i], color='r')\n",
    "\n",
    "for i in range(len(xscore)):\n",
    "# Circles project documents (ie rows from csv) as points onto PC axes\n",
    "    plt.plot(xscore[i], yscore[i], 'bo')\n",
    "    plt.text(xscore[i]+0.01, yscore[i]+0.01, list(df_clr.index)[i], color='b')\n",
    "\n",
    "plt.title(\"Current workflow\")\n",
    "    \n",
    "plt.xlim(-1.5, 1.5)\n",
    "plt.ylim(-1, 1)\n",
    "\n",
    "plt.show();"
   ]
  },
  {
   "cell_type": "code",
   "execution_count": 17,
   "metadata": {
    "execution": {
     "iopub.execute_input": "2020-06-03T09:18:52.150703Z",
     "iopub.status.busy": "2020-06-03T09:18:52.150703Z",
     "iopub.status.idle": "2020-06-03T09:18:52.474795Z",
     "shell.execute_reply": "2020-06-03T09:18:52.474795Z",
     "shell.execute_reply.started": "2020-06-03T09:18:52.150703Z"
    }
   },
   "outputs": [
    {
     "data": {
      "image/png": "[encoded data removed]",
      "text/plain": [
       "<Figure size 864x576 with 1 Axes>"
      ]
     },
     "metadata": {
      "needs_background": "light"
     },
     "output_type": "display_data"
    }
   ],
   "source": [
    "# Visualize projections\n",
    "fig, ax = plt.subplots(figsize=(12,8))\n",
    "    \n",
    "for i in range(len(xloading)):\n",
    "# Arrows project features (ie columns from csv) as vectors onto PC axes\n",
    "    plt.arrow(0, 0, xloading[i], yloading[i],\n",
    "              color='r', width=0.0005, head_width=0.0025)\n",
    "    plt.text(xloading[i] + 0.01, \n",
    "             yloading[i] + 0.01,\n",
    "             list(df_clr.columns.values)[i], color='r')\n",
    "\n",
    "for i in range(len(xscore)):\n",
    "# Circles project documents (ie rows from csv) as points onto PC axes\n",
    "    plt.plot(xscore[i], yscore[i], 'bo')\n",
    "    plt.text(xscore[i]+0.01, yscore[i]+0.01, list(df_clr.index)[i], color='b')\n",
    "\n",
    "plt.title(\"Form biplot\")    \n",
    "\n",
    "plt.xlim(-1.5, 1.5)\n",
    "plt.ylim(-1, 1)\n",
    "\n",
    "plt.show();"
   ]
  },
  {
   "cell_type": "code",
   "execution_count": 18,
   "metadata": {
    "execution": {
     "iopub.execute_input": "2020-06-03T09:19:13.884745Z",
     "iopub.status.busy": "2020-06-03T09:19:13.884745Z",
     "iopub.status.idle": "2020-06-03T09:19:14.285670Z",
     "shell.execute_reply": "2020-06-03T09:19:14.285670Z",
     "shell.execute_reply.started": "2020-06-03T09:19:13.884745Z"
    }
   },
   "outputs": [
    {
     "data": {
      "image/png": "[encoded data removed]",
      "text/plain": [
       "<Figure size 864x576 with 1 Axes>"
      ]
     },
     "metadata": {
      "needs_background": "light"
     },
     "output_type": "display_data"
    }
   ],
   "source": [
    "# Visualize projections\n",
    "fig, ax = plt.subplots(figsize=(12,8))\n",
    "    \n",
    "for i in range(len(xloading)):\n",
    "# Arrows project features (ie columns from csv) as vectors onto PC axes\n",
    "    plt.arrow(0, 0, \n",
    "              xloading[i]*S[0]/(np.sqrt(xscore.shape[0] - 1)), \n",
    "              yloading[i]*S[1]/(np.sqrt(yscore.shape[0] - 1)),\n",
    "              color='r', width=0.0005, head_width=0.0025)\n",
    "    plt.text(xloading[i]*S[0]/(np.sqrt(xscore.shape[0] - 1)), \n",
    "             yloading[i]*S[1]/(np.sqrt(yscore.shape[0] - 1)) + 0.01,\n",
    "             list(df_clr.columns.values)[i], color='r')\n",
    "\n",
    "for i in range(len(xscore)):\n",
    "# Circles project documents (ie rows from csv) as points onto PC axes\n",
    "    plt.plot((xscore/S[0])[i], (yscore/S[1])[i], 'bo')\n",
    "    plt.text((xscore/S[0])[i]+0.01, (yscore/S[1])[i]+0.01, list(df_clr.index)[i], color='b')\n",
    "\n",
    "plt.title(\"Covariance biplot\")\n",
    "    \n",
    "plt.xlim(-0.75, 0.75)\n",
    "plt.ylim(-0.5, 0.5)\n",
    "\n",
    "plt.show();"
   ]
  },
  {
   "cell_type": "code",
   "execution_count": null,
   "metadata": {},
   "outputs": [],
   "source": []
  }
 ],
 "metadata": {
  "kernelspec": {
   "display_name": "Python [conda env:main]",
   "language": "python",
   "name": "conda-env-main-py"
  },
  "language_info": {
   "codemirror_mode": {
    "name": "ipython",
    "version": 3
   },
   "file_extension": ".py",
   "mimetype": "text/x-python",
   "name": "python",
   "nbconvert_exporter": "python",
   "pygments_lexer": "ipython3",
   "version": "3.7.7"
  }
 },
 "nbformat": 4,
 "nbformat_minor": 4
}
