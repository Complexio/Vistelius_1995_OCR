{
 "cells": [
  {
   "cell_type": "markdown",
   "metadata": {},
   "source": [
    "# Interpolation\n",
    "___"
   ]
  },
  {
   "cell_type": "markdown",
   "metadata": {},
   "source": [
    "**Remarks**\n",
    "- Code will need to be modified a bit to reflect the use of a certain group of data instead of all data"
   ]
  },
  {
   "cell_type": "code",
   "execution_count": 1,
   "metadata": {},
   "outputs": [],
   "source": [
    "import numpy as np\n",
    "import pandas as pd\n",
    "import os\n",
    "import pickle\n",
    "\n",
    "import matplotlib.pyplot as plt\n",
    "import seaborn as sns\n",
    "\n",
    "from collections import Counter\n",
    "from itertools import combinations\n",
    "\n",
    "# from scipy.spatial.distance import pdist\n",
    "# from scipy.stats import chisquare, chi2\n",
    "from scipy.stats import ttest_1samp, t\n",
    "\n",
    "from pykrige.ok import OrdinaryKriging\n",
    "from pykrige.rk import Krige\n",
    "import pykrige.kriging_tools as kt\n",
    "\n",
    "from sklearn.model_selection import cross_val_predict\n",
    "\n",
    "from joblib import Parallel, delayed\n",
    "import multiprocessing"
   ]
  },
  {
   "cell_type": "code",
   "execution_count": 2,
   "metadata": {},
   "outputs": [],
   "source": [
    "import prepostprocessing.pre_processing as preproc\n",
    "import prepostprocessing.post_processing as postproc\n",
    "import nugget_estimation.kriging_tools as krigingtools\n",
    "import nugget_estimation.detrending as detrending\n",
    "import plots.plots as plots\n",
    "import prepostprocessing.cleaning as cleaning\n",
    "import cross_validation.leave_one_out_cross_validation as loocv\n",
    "\n",
    "import qapf.qapf as qapf\n",
    "import statistics.ttest as ttest\n",
    "import statistics.simulations as sim\n",
    "\n",
    "import toolbox.toolbox as tb"
   ]
  },
  {
   "cell_type": "code",
   "execution_count": 3,
   "metadata": {},
   "outputs": [],
   "source": [
    "# Load jupyter extension to reload packages before executing user code.\n",
    "# https://ipython.readtheMLcs.io/en/stable/config/extensions/autoreload.html\n",
    "%load_ext autoreload\n",
    "# Reload all packages (except those excluded by %aimport) every time before executing the Python code typed.\n",
    "%autoreload 2"
   ]
  },
  {
   "cell_type": "code",
   "execution_count": 4,
   "metadata": {},
   "outputs": [],
   "source": [
    "# You only need to run this cell once if you want to have multiple outputs in all your notebooks.\n",
    "# It is a general setting so you can set this cell's status to 'raw'\n",
    "from IPython.core.interactiveshell import InteractiveShell\n",
    "InteractiveShell.ast_node_interactivity = \"all\""
   ]
  },
  {
   "cell_type": "code",
   "execution_count": 5,
   "metadata": {},
   "outputs": [],
   "source": [
    "coordinates_latlon = preproc.load_obj(\"coordinates_area6\")\n",
    "coordinates_utm = preproc.load_obj(\"coordinates_utm_area6\")\n",
    "mineralogy = preproc.load_obj(\"mineralogy_area6\")\n",
    "mineralogy_clr = preproc.load_obj(\"mineralogy_clr_area6\")\n",
    "mineralogy_pca = preproc.load_obj(\"mineralogy_pca_area6\")\n",
    "mineralogy_pca_df = preproc.load_obj(\"mineralogy_pca_area6_df\")\n",
    "metadata = preproc.load_obj(\"metadata_area6\")"
   ]
  },
  {
   "cell_type": "markdown",
   "metadata": {},
   "source": [
    "## EDA\n",
    "___"
   ]
  },
  {
   "cell_type": "code",
   "execution_count": 6,
   "metadata": {},
   "outputs": [
    {
     "data": {
      "text/plain": [
       "151"
      ]
     },
     "execution_count": 6,
     "metadata": {},
     "output_type": "execute_result"
    }
   ],
   "source": [
    "# Get number of control points that will be used\n",
    "number_of_control_points = coordinates_utm.shape[0]\n",
    "number_of_control_points"
   ]
  },
  {
   "cell_type": "code",
   "execution_count": 7,
   "metadata": {},
   "outputs": [
    {
     "data": {
      "text/html": [
       "<div>\n",
       "<style scoped>\n",
       "    .dataframe tbody tr th:only-of-type {\n",
       "        vertical-align: middle;\n",
       "    }\n",
       "\n",
       "    .dataframe tbody tr th {\n",
       "        vertical-align: top;\n",
       "    }\n",
       "\n",
       "    .dataframe thead th {\n",
       "        text-align: right;\n",
       "    }\n",
       "</style>\n",
       "<table border=\"1\" class=\"dataframe\">\n",
       "  <thead>\n",
       "    <tr style=\"text-align: right;\">\n",
       "      <th></th>\n",
       "      <th>Y_UTM</th>\n",
       "      <th>X_UTM</th>\n",
       "      <th>ZoneNumber</th>\n",
       "      <th>ZoneLetter</th>\n",
       "    </tr>\n",
       "  </thead>\n",
       "  <tbody>\n",
       "    <tr>\n",
       "      <th>47</th>\n",
       "      <td>755477.668714</td>\n",
       "      <td>5.262227e+06</td>\n",
       "      <td>53</td>\n",
       "      <td>T</td>\n",
       "    </tr>\n",
       "    <tr>\n",
       "      <th>66</th>\n",
       "      <td>718647.819565</td>\n",
       "      <td>5.235770e+06</td>\n",
       "      <td>53</td>\n",
       "      <td>T</td>\n",
       "    </tr>\n",
       "    <tr>\n",
       "      <th>86</th>\n",
       "      <td>731796.073283</td>\n",
       "      <td>5.259752e+06</td>\n",
       "      <td>53</td>\n",
       "      <td>T</td>\n",
       "    </tr>\n",
       "    <tr>\n",
       "      <th>152</th>\n",
       "      <td>755477.629709</td>\n",
       "      <td>5.262227e+06</td>\n",
       "      <td>53</td>\n",
       "      <td>T</td>\n",
       "    </tr>\n",
       "    <tr>\n",
       "      <th>161</th>\n",
       "      <td>734741.917204</td>\n",
       "      <td>5.301092e+06</td>\n",
       "      <td>53</td>\n",
       "      <td>T</td>\n",
       "    </tr>\n",
       "    <tr>\n",
       "      <th>...</th>\n",
       "      <td>...</td>\n",
       "      <td>...</td>\n",
       "      <td>...</td>\n",
       "      <td>...</td>\n",
       "    </tr>\n",
       "    <tr>\n",
       "      <th>4587</th>\n",
       "      <td>671281.488145</td>\n",
       "      <td>5.177993e+06</td>\n",
       "      <td>53</td>\n",
       "      <td>T</td>\n",
       "    </tr>\n",
       "    <tr>\n",
       "      <th>4595</th>\n",
       "      <td>735289.609871</td>\n",
       "      <td>5.294808e+06</td>\n",
       "      <td>53</td>\n",
       "      <td>T</td>\n",
       "    </tr>\n",
       "    <tr>\n",
       "      <th>4597</th>\n",
       "      <td>670787.218612</td>\n",
       "      <td>5.216880e+06</td>\n",
       "      <td>53</td>\n",
       "      <td>T</td>\n",
       "    </tr>\n",
       "    <tr>\n",
       "      <th>4638</th>\n",
       "      <td>746609.482852</td>\n",
       "      <td>5.293856e+06</td>\n",
       "      <td>53</td>\n",
       "      <td>T</td>\n",
       "    </tr>\n",
       "    <tr>\n",
       "      <th>4656</th>\n",
       "      <td>658613.936703</td>\n",
       "      <td>5.200781e+06</td>\n",
       "      <td>53</td>\n",
       "      <td>T</td>\n",
       "    </tr>\n",
       "  </tbody>\n",
       "</table>\n",
       "<p>151 rows × 4 columns</p>\n",
       "</div>"
      ],
      "text/plain": [
       "              Y_UTM         X_UTM  ZoneNumber ZoneLetter\n",
       "47    755477.668714  5.262227e+06          53          T\n",
       "66    718647.819565  5.235770e+06          53          T\n",
       "86    731796.073283  5.259752e+06          53          T\n",
       "152   755477.629709  5.262227e+06          53          T\n",
       "161   734741.917204  5.301092e+06          53          T\n",
       "...             ...           ...         ...        ...\n",
       "4587  671281.488145  5.177993e+06          53          T\n",
       "4595  735289.609871  5.294808e+06          53          T\n",
       "4597  670787.218612  5.216880e+06          53          T\n",
       "4638  746609.482852  5.293856e+06          53          T\n",
       "4656  658613.936703  5.200781e+06          53          T\n",
       "\n",
       "[151 rows x 4 columns]"
      ]
     },
     "execution_count": 7,
     "metadata": {},
     "output_type": "execute_result"
    }
   ],
   "source": [
    "coordinates_utm"
   ]
  },
  {
   "cell_type": "code",
   "execution_count": 8,
   "metadata": {},
   "outputs": [],
   "source": [
    "coordinates_utm = coordinates_utm.rename({\"X_UTM\": \"Y\", \"Y_UTM\": \"X\"}, axis=1)"
   ]
  },
  {
   "cell_type": "code",
   "execution_count": 9,
   "metadata": {},
   "outputs": [],
   "source": [
    "# FILL IN SHORT NAME HERE THAT WILL BE USED WHEN SAVING THE PLOT (e.g. \"G1\")\n",
    "group_name = \"area2a\""
   ]
  },
  {
   "cell_type": "code",
   "execution_count": 10,
   "metadata": {},
   "outputs": [
    {
     "data": {
      "image/png": "[encoded data removed]",
      "text/plain": [
       "<Figure size 432x288 with 1 Axes>"
      ]
     },
     "metadata": {},
     "output_type": "display_data"
    }
   ],
   "source": [
    "# Plot control points with labels\n",
    "plots.plot_map_with_control_points(coordinates_utm, group_name, label_size=4, subset=[\"X\", \"Y\"],\n",
    "                                   show_labels=False,\n",
    "                                  skip_xaxis_label=2, skip_yaxis_label=2, \n",
    "                                  skip_xaxis_start=1, skip_yaxis_start=1)"
   ]
  },
  {
   "cell_type": "code",
   "execution_count": 11,
   "metadata": {},
   "outputs": [
    {
     "data": {
      "text/plain": [
       "array([53], dtype=int64)"
      ]
     },
     "execution_count": 11,
     "metadata": {},
     "output_type": "execute_result"
    },
    {
     "data": {
      "text/plain": [
       "array(['T'], dtype=object)"
      ]
     },
     "execution_count": 11,
     "metadata": {},
     "output_type": "execute_result"
    }
   ],
   "source": [
    "# Show unique zone letters and zone numbers of utm coordinates\n",
    "coordinates_utm[\"ZoneNumber\"].unique()\n",
    "coordinates_utm[\"ZoneLetter\"].unique()"
   ]
  },
  {
   "cell_type": "code",
   "execution_count": 12,
   "metadata": {},
   "outputs": [
    {
     "data": {
      "text/plain": [
       "(0.0743457654265293, 156620.1681193234)"
      ]
     },
     "execution_count": 12,
     "metadata": {},
     "output_type": "execute_result"
    }
   ],
   "source": [
    "# Calculate minimum and maxmin lag distance between two points of the dataset\n",
    "distance_matrix = krigingtools.calculate_and_sort_square_distance_matrix(coordinates_utm[[\"X\", \"Y\"]])\n",
    "\n",
    "min_lag_distance = np.amin(distance_matrix)\n",
    "max_lag_distance = np.amax(distance_matrix)\n",
    "min_lag_distance, max_lag_distance"
   ]
  },
  {
   "cell_type": "code",
   "execution_count": 13,
   "metadata": {},
   "outputs": [
    {
     "data": {
      "text/plain": [
       "(array([ 548.,  630.,  538.,  820.,  828.,  956., 1138., 1026.,  780.,\n",
       "         854.,  870.,  884.,  854.,  932.,  612.,  532.,  730.,  640.,\n",
       "         494.,  820.,  698.,  450.,  560.,  510.,  650.,  626.,  516.,\n",
       "         520.,  534.,  414.,  416.,  364.,  310.,  166.,  196.,  144.,\n",
       "          50.,   16.,   16.,    8.]),\n",
       " array([7.43457654e-02, 3.91557669e+03, 7.83107903e+03, 1.17465814e+04,\n",
       "        1.56620837e+04, 1.95775861e+04, 2.34930884e+04, 2.74085908e+04,\n",
       "        3.13240931e+04, 3.52395954e+04, 3.91550978e+04, 4.30706001e+04,\n",
       "        4.69861025e+04, 5.09016048e+04, 5.48171072e+04, 5.87326095e+04,\n",
       "        6.26481119e+04, 6.65636142e+04, 7.04791165e+04, 7.43946189e+04,\n",
       "        7.83101212e+04, 8.22256236e+04, 8.61411259e+04, 9.00566283e+04,\n",
       "        9.39721306e+04, 9.78876330e+04, 1.01803135e+05, 1.05718638e+05,\n",
       "        1.09634140e+05, 1.13549642e+05, 1.17465145e+05, 1.21380647e+05,\n",
       "        1.25296149e+05, 1.29211652e+05, 1.33127154e+05, 1.37042656e+05,\n",
       "        1.40958159e+05, 1.44873661e+05, 1.48789163e+05, 1.52704666e+05,\n",
       "        1.56620168e+05]),\n",
       " <a list of 40 Patch objects>)"
      ]
     },
     "execution_count": 13,
     "metadata": {},
     "output_type": "execute_result"
    },
    {
     "data": {
      "image/png": "[encoded data removed]",
      "text/plain": [
       "<Figure size 432x288 with 1 Axes>"
      ]
     },
     "metadata": {
      "needs_background": "light"
     },
     "output_type": "display_data"
    }
   ],
   "source": [
    "plt.hist(distance_matrix.flatten(), bins=40)"
   ]
  },
  {
   "cell_type": "code",
   "execution_count": 14,
   "metadata": {},
   "outputs": [
    {
     "data": {
      "text/plain": [
       "(array([], dtype=int64), array([], dtype=int64))"
      ]
     },
     "execution_count": 14,
     "metadata": {},
     "output_type": "execute_result"
    }
   ],
   "source": [
    "np.where(distance_matrix == 0)"
   ]
  },
  {
   "cell_type": "markdown",
   "metadata": {},
   "source": [
    "## Critical distance estimation\n",
    "___"
   ]
  },
  {
   "cell_type": "code",
   "execution_count": 15,
   "metadata": {},
   "outputs": [],
   "source": [
    "# Range (lag distance at which the sill is reached; in meters)\n",
    "\n",
    "# Depending on how many principal components you will use, \n",
    "# you will have to add more entries to this list.\n",
    "\n",
    "# Modified the range since variograms are not correct yet\n",
    "# range_ = [100000] * 15\n",
    "range_ = [25000, 25000, 25000, 25000, 25000, 25000, 25000, 25000, 25000, 100000, 100000, 100000, 100000, 100000, 100000]\n",
    "\n"
   ]
  },
  {
   "cell_type": "code",
   "execution_count": 16,
   "metadata": {},
   "outputs": [
    {
     "data": {
      "image/png": "[encoded data removed]",
      "text/plain": [
       "<Figure size 1728x864 with 3 Axes>"
      ]
     },
     "metadata": {
      "needs_background": "light"
     },
     "output_type": "display_data"
    }
   ],
   "source": [
    "# You can adjust the radius parameters below to change the slider settings\n",
    "# to visualize the figures interactively\n",
    "plots.interactive_plot_search_radius(coordinates_utm, orient='rows', \n",
    "                                     radius_default=25000, # Default slider position\n",
    "                                     radius_min=20000,  # Slider start\n",
    "                                     radius_max=40000, # Slider stop\n",
    "                                     radius_step=500,  # Slider step\n",
    "                                     radius_offset=500) # Offset between visualizations shown\n",
    "\n",
    "# The x-axis stands for 'n_neighbours'"
   ]
  },
  {
   "cell_type": "code",
   "execution_count": 17,
   "metadata": {},
   "outputs": [],
   "source": [
    "# Critical distance (in meters)\n",
    "# This is the distance where at least 95% of your samples\n",
    "# will have at least 3 neighbours within that distance\n",
    "\n",
    "# You can refine this value later on, or we can use the range \n",
    "# instead of the critical distance as the only value for the search radius\n",
    "critical_distance = 15500"
   ]
  },
  {
   "cell_type": "code",
   "execution_count": 18,
   "metadata": {},
   "outputs": [],
   "source": [
    "# This is basically creating a list of how many neighbours each data point has \n",
    "# within the critical_distance and within the range\n",
    "nvalues_control_points = {}\n",
    "\n",
    "for radius in (0.05, critical_distance, range_[0]):\n",
    "    temp = krigingtools.find_points_within_search_radius(\n",
    "               krigingtools.calculate_and_sort_square_distance_matrix(coordinates_utm),\n",
    "               search_radius=radius # 'search_radius' should be equal to 'radius' here, not 'critical_distance'\n",
    "           )\n",
    "    nvalues_control_points[radius] = pd.Series(temp, index=coordinates_utm.index)\n",
    "    \n",
    "# You're performing a calculation in a for loop so we want to check how many neighbours each data point has \n",
    "# within the specified radius in the tuple (0.05, critical_distance, range_[0]). \n",
    "# So for each of these specified distances, the function will be executed and \n",
    "# the result stored in the nvalues_control_points dictionary"
   ]
  },
  {
   "cell_type": "code",
   "execution_count": 19,
   "metadata": {},
   "outputs": [
    {
     "data": {
      "text/plain": [
       "7.550000000000001"
      ]
     },
     "execution_count": 19,
     "metadata": {},
     "output_type": "execute_result"
    }
   ],
   "source": [
    "# Number of samples that may still have less than 3 neighbours within the critical distance\n",
    "number_of_control_points * 0.05"
   ]
  },
  {
   "cell_type": "code",
   "execution_count": 20,
   "metadata": {},
   "outputs": [
    {
     "data": {
      "text/plain": [
       "6"
      ]
     },
     "execution_count": 20,
     "metadata": {},
     "output_type": "execute_result"
    }
   ],
   "source": [
    "# Check number of samples outside of critical distance\n",
    "samples_outside_critical_distance = nvalues_control_points[critical_distance][nvalues_control_points[critical_distance] < 3].index.tolist()\n",
    "len(samples_outside_critical_distance)\n",
    "\n",
    "# It's 0.05 sample above 72.95"
   ]
  },
  {
   "cell_type": "code",
   "execution_count": 21,
   "metadata": {},
   "outputs": [
    {
     "data": {
      "text/html": [
       "<div>\n",
       "<style scoped>\n",
       "    .dataframe tbody tr th:only-of-type {\n",
       "        vertical-align: middle;\n",
       "    }\n",
       "\n",
       "    .dataframe tbody tr th {\n",
       "        vertical-align: top;\n",
       "    }\n",
       "\n",
       "    .dataframe thead th {\n",
       "        text-align: right;\n",
       "    }\n",
       "</style>\n",
       "<table border=\"1\" class=\"dataframe\">\n",
       "  <thead>\n",
       "    <tr style=\"text-align: right;\">\n",
       "      <th></th>\n",
       "      <th>PC01</th>\n",
       "      <th>PC02</th>\n",
       "      <th>PC03</th>\n",
       "      <th>PC04</th>\n",
       "      <th>PC05</th>\n",
       "      <th>PC06</th>\n",
       "      <th>PC07</th>\n",
       "      <th>PC08</th>\n",
       "      <th>PC09</th>\n",
       "      <th>PC10</th>\n",
       "      <th>PC11</th>\n",
       "    </tr>\n",
       "  </thead>\n",
       "  <tbody>\n",
       "    <tr>\n",
       "      <th>2110</th>\n",
       "      <td>0.696020</td>\n",
       "      <td>0.183907</td>\n",
       "      <td>-0.069179</td>\n",
       "      <td>-0.636814</td>\n",
       "      <td>0.394743</td>\n",
       "      <td>-0.553242</td>\n",
       "      <td>0.724882</td>\n",
       "      <td>0.333566</td>\n",
       "      <td>-0.015818</td>\n",
       "      <td>-0.126209</td>\n",
       "      <td>-3.875780e-16</td>\n",
       "    </tr>\n",
       "    <tr>\n",
       "      <th>2608</th>\n",
       "      <td>-0.602920</td>\n",
       "      <td>-0.762465</td>\n",
       "      <td>0.491469</td>\n",
       "      <td>1.034847</td>\n",
       "      <td>-0.425539</td>\n",
       "      <td>0.370211</td>\n",
       "      <td>0.397169</td>\n",
       "      <td>0.104853</td>\n",
       "      <td>0.135532</td>\n",
       "      <td>-0.005152</td>\n",
       "      <td>-3.866056e-16</td>\n",
       "    </tr>\n",
       "    <tr>\n",
       "      <th>3497</th>\n",
       "      <td>1.062593</td>\n",
       "      <td>-0.799296</td>\n",
       "      <td>0.095697</td>\n",
       "      <td>-0.251829</td>\n",
       "      <td>-0.113147</td>\n",
       "      <td>-0.477080</td>\n",
       "      <td>0.334410</td>\n",
       "      <td>0.101365</td>\n",
       "      <td>0.017496</td>\n",
       "      <td>-0.081591</td>\n",
       "      <td>3.381633e-16</td>\n",
       "    </tr>\n",
       "    <tr>\n",
       "      <th>3650</th>\n",
       "      <td>1.230220</td>\n",
       "      <td>0.435061</td>\n",
       "      <td>0.271949</td>\n",
       "      <td>-0.378634</td>\n",
       "      <td>-0.202722</td>\n",
       "      <td>-0.338578</td>\n",
       "      <td>-0.087406</td>\n",
       "      <td>-0.043502</td>\n",
       "      <td>0.017786</td>\n",
       "      <td>-0.020167</td>\n",
       "      <td>4.954078e-16</td>\n",
       "    </tr>\n",
       "    <tr>\n",
       "      <th>4159</th>\n",
       "      <td>1.418827</td>\n",
       "      <td>-0.909042</td>\n",
       "      <td>-0.155032</td>\n",
       "      <td>0.276419</td>\n",
       "      <td>-0.073327</td>\n",
       "      <td>0.064519</td>\n",
       "      <td>0.289627</td>\n",
       "      <td>-0.184815</td>\n",
       "      <td>-0.090265</td>\n",
       "      <td>-0.028460</td>\n",
       "      <td>2.875910e-16</td>\n",
       "    </tr>\n",
       "    <tr>\n",
       "      <th>4587</th>\n",
       "      <td>1.982392</td>\n",
       "      <td>0.415726</td>\n",
       "      <td>0.246417</td>\n",
       "      <td>0.501385</td>\n",
       "      <td>-0.334285</td>\n",
       "      <td>0.186443</td>\n",
       "      <td>-0.164459</td>\n",
       "      <td>-0.353870</td>\n",
       "      <td>0.072757</td>\n",
       "      <td>0.109616</td>\n",
       "      <td>7.939828e-16</td>\n",
       "    </tr>\n",
       "  </tbody>\n",
       "</table>\n",
       "</div>"
      ],
      "text/plain": [
       "          PC01      PC02      PC03      PC04      PC05      PC06      PC07  \\\n",
       "2110  0.696020  0.183907 -0.069179 -0.636814  0.394743 -0.553242  0.724882   \n",
       "2608 -0.602920 -0.762465  0.491469  1.034847 -0.425539  0.370211  0.397169   \n",
       "3497  1.062593 -0.799296  0.095697 -0.251829 -0.113147 -0.477080  0.334410   \n",
       "3650  1.230220  0.435061  0.271949 -0.378634 -0.202722 -0.338578 -0.087406   \n",
       "4159  1.418827 -0.909042 -0.155032  0.276419 -0.073327  0.064519  0.289627   \n",
       "4587  1.982392  0.415726  0.246417  0.501385 -0.334285  0.186443 -0.164459   \n",
       "\n",
       "          PC08      PC09      PC10          PC11  \n",
       "2110  0.333566 -0.015818 -0.126209 -3.875780e-16  \n",
       "2608  0.104853  0.135532 -0.005152 -3.866056e-16  \n",
       "3497  0.101365  0.017496 -0.081591  3.381633e-16  \n",
       "3650 -0.043502  0.017786 -0.020167  4.954078e-16  \n",
       "4159 -0.184815 -0.090265 -0.028460  2.875910e-16  \n",
       "4587 -0.353870  0.072757  0.109616  7.939828e-16  "
      ]
     },
     "execution_count": 21,
     "metadata": {},
     "output_type": "execute_result"
    }
   ],
   "source": [
    "# Overview of samples that are outside search_radius\n",
    "mineralogy_pca_df.loc[samples_outside_critical_distance, :]"
   ]
  },
  {
   "cell_type": "markdown",
   "metadata": {},
   "source": [
    "____"
   ]
  },
  {
   "cell_type": "markdown",
   "metadata": {},
   "source": [
    "## Create high resolution grids\n",
    "____"
   ]
  },
  {
   "cell_type": "code",
   "execution_count": 22,
   "metadata": {},
   "outputs": [
    {
     "data": {
      "text/plain": [
       "array([[629989.7836615916, 779035.9130496685],\n",
       "       [(5161718.026718562,), 5319500.661089826]], dtype=object)"
      ]
     },
     "execution_count": 22,
     "metadata": {},
     "output_type": "execute_result"
    }
   ],
   "source": [
    "# Determine (wide) grid boundaries\n",
    "X = coordinates_utm.iloc[:, 0].values\n",
    "Xmin = np.min(X) - critical_distance * 1.05\n",
    "Xmax = np.max(X) + critical_distance * 1.05\n",
    "\n",
    "Y = coordinates_utm.iloc[:, 1].values\n",
    "Ymin = np.min(Y) - critical_distance * 1.05, \n",
    "Ymax = np.max(Y) + critical_distance * 1.05\n",
    "\n",
    "coordinates_boundaries = np.array([[Xmin, Xmax], [Ymin, Ymax]])\n",
    "coordinates_boundaries"
   ]
  },
  {
   "cell_type": "code",
   "execution_count": 23,
   "metadata": {},
   "outputs": [
    {
     "name": "stdout",
     "output_type": "stream",
     "text": [
      "x [629989.7836615916 779035.9130496685]\n",
      "y [(5161718.026718562,) 5319500.661089826]\n",
      "x range:  149046\n",
      "y range:  157782\n",
      "smallest dimension x\n",
      "theoretical x spacing:  427.06627331827207\n",
      "actual x spacing:  427.0662733182544\n",
      "actual y spacing:  427.06627331860363\n",
      "Number of points:  130572\n",
      "xy grid:  351 372 \n",
      "\n"
     ]
    }
   ],
   "source": [
    "# Set approximate number of points along each axis\n",
    "n_points = 350\n",
    "\n",
    "temp = {}\n",
    "x, y = coordinates_boundaries\n",
    "\n",
    "temp[\"x_start (m)\"] = int(np.floor(x[0]))\n",
    "temp[\"x_end (m)\"] = int(np.floor(x[1]))\n",
    "temp[\"y_start (m)\"] = int(np.floor(y[0]))\n",
    "temp[\"y_end (m)\"] = int(np.floor(y[1]))\n",
    "\n",
    "print(\"x\", x)\n",
    "print(\"y\", y)\n",
    "\n",
    "temp[\"x_range (m)\"] = int(np.floor(x[1])) - int(np.floor(x[0]))\n",
    "temp[\"y_range (m)\"] = int(np.floor(y[1])) - int(np.floor(y[0]))\n",
    "print(\"x range: \", temp[\"x_range (m)\"])\n",
    "print(\"y range: \", temp[\"y_range (m)\"])\n",
    "\n",
    "ranges = {\"x\": temp[\"x_range (m)\"],\n",
    "          \"y\": temp[\"y_range (m)\"],\n",
    "         }\n",
    "\n",
    "threshold = 10000000\n",
    "for dimension, ranger in ranges.items():\n",
    "    if ranger < threshold:\n",
    "        smallest_dimension = dimension\n",
    "        threshold = ranger\n",
    "print(\"smallest dimension\", smallest_dimension)\n",
    "\n",
    "x_spacing, dx = np.linspace(x[0], x[1], n_points, retstep=True)\n",
    "y_spacing, dy = np.linspace(y[0], y[1], n_points, retstep=True)\n",
    "\n",
    "steps = {\"x\": dx,\n",
    "         \"y\": dy,\n",
    "        }\n",
    "\n",
    "print(\"theoretical x spacing: \", dx)\n",
    "\n",
    "xgrid = np.arange(x[0]-dx, x[1]+dx, steps[smallest_dimension])\n",
    "ygrid = np.arange(y[0]-dy, y[1]+dy, steps[smallest_dimension])\n",
    "\n",
    "print(\"actual x spacing: \", xgrid[1] - xgrid[0])\n",
    "print(\"actual y spacing: \", ygrid[1] - ygrid[0])\n",
    "\n",
    "temp[\"x_spacing (m)\"] = np.round(xgrid[1] - xgrid[0], 2)\n",
    "temp[\"y_spacing (m)\"] = np.round(ygrid[1] - ygrid[0], 2)\n",
    "\n",
    "print(\"Number of points: \", len(xgrid) * len(ygrid))\n",
    "print(\"xy grid: \", len(xgrid), len(ygrid), \"\\n\")\n",
    "\n",
    "temp[\"#xgrid_points\"] = len(xgrid)\n",
    "temp[\"#ygrid_points\"] = len(ygrid)\n",
    "temp[\"#total_grid_nodes\"] = len(xgrid) * len(ygrid)\n",
    "\n",
    "coordinates_grids = [xgrid, ygrid]\n",
    "coordinates_grids_details = temp\n",
    "\n",
    "# Assigned to a different variable (name) because later on 'grid' gets used in the code\n",
    "grid = coordinates_grids"
   ]
  },
  {
   "cell_type": "markdown",
   "metadata": {},
   "source": [
    "## Classification map\n",
    "___"
   ]
  },
  {
   "cell_type": "markdown",
   "metadata": {},
   "source": [
    "We will have to decide on a certain classification scheme before we could use this.  \n",
    "Another option might be to use a condensed version of the 'type_granite' column."
   ]
  },
  {
   "cell_type": "markdown",
   "metadata": {},
   "source": [
    "**Yep**"
   ]
  },
  {
   "cell_type": "markdown",
   "metadata": {},
   "source": [
    "## Detrending\n",
    "____"
   ]
  },
  {
   "cell_type": "code",
   "execution_count": 24,
   "metadata": {},
   "outputs": [
    {
     "name": "stdout",
     "output_type": "stream",
     "text": [
      "R² for PC01 order = 1 :\n"
     ]
    },
    {
     "data": {
      "text/plain": [
       "0.03204012735829642"
      ]
     },
     "execution_count": 24,
     "metadata": {},
     "output_type": "execute_result"
    },
    {
     "name": "stdout",
     "output_type": "stream",
     "text": [
      "R² for PC01 order = 2 :\n"
     ]
    },
    {
     "data": {
      "text/plain": [
       "0.043077673862525034"
      ]
     },
     "execution_count": 24,
     "metadata": {},
     "output_type": "execute_result"
    },
    {
     "name": "stdout",
     "output_type": "stream",
     "text": [
      "R² for PC02 order = 1 :\n"
     ]
    },
    {
     "data": {
      "text/plain": [
       "0.04398045175944132"
      ]
     },
     "execution_count": 24,
     "metadata": {},
     "output_type": "execute_result"
    },
    {
     "name": "stdout",
     "output_type": "stream",
     "text": [
      "R² for PC02 order = 2 :\n"
     ]
    },
    {
     "data": {
      "text/plain": [
       "0.04549319548229358"
      ]
     },
     "execution_count": 24,
     "metadata": {},
     "output_type": "execute_result"
    },
    {
     "name": "stdout",
     "output_type": "stream",
     "text": [
      "R² for PC03 order = 1 :\n"
     ]
    },
    {
     "data": {
      "text/plain": [
       "0.17199208169327918"
      ]
     },
     "execution_count": 24,
     "metadata": {},
     "output_type": "execute_result"
    },
    {
     "name": "stdout",
     "output_type": "stream",
     "text": [
      "R² for PC03 order = 2 :\n"
     ]
    },
    {
     "data": {
      "text/plain": [
       "0.17860713905685233"
      ]
     },
     "execution_count": 24,
     "metadata": {},
     "output_type": "execute_result"
    },
    {
     "name": "stdout",
     "output_type": "stream",
     "text": [
      "R² for PC04 order = 1 :\n"
     ]
    },
    {
     "data": {
      "text/plain": [
       "0.00374375086492873"
      ]
     },
     "execution_count": 24,
     "metadata": {},
     "output_type": "execute_result"
    },
    {
     "name": "stdout",
     "output_type": "stream",
     "text": [
      "R² for PC04 order = 2 :\n"
     ]
    },
    {
     "data": {
      "text/plain": [
       "0.11602497188070837"
      ]
     },
     "execution_count": 24,
     "metadata": {},
     "output_type": "execute_result"
    },
    {
     "name": "stdout",
     "output_type": "stream",
     "text": [
      "R² for PC05 order = 1 :\n"
     ]
    },
    {
     "data": {
      "text/plain": [
       "0.022047353412591675"
      ]
     },
     "execution_count": 24,
     "metadata": {},
     "output_type": "execute_result"
    },
    {
     "name": "stdout",
     "output_type": "stream",
     "text": [
      "R² for PC05 order = 2 :\n"
     ]
    },
    {
     "data": {
      "text/plain": [
       "0.022597765493163502"
      ]
     },
     "execution_count": 24,
     "metadata": {},
     "output_type": "execute_result"
    },
    {
     "name": "stdout",
     "output_type": "stream",
     "text": [
      "R² for PC06 order = 1 :\n"
     ]
    },
    {
     "data": {
      "text/plain": [
       "0.02699687044353305"
      ]
     },
     "execution_count": 24,
     "metadata": {},
     "output_type": "execute_result"
    },
    {
     "name": "stdout",
     "output_type": "stream",
     "text": [
      "R² for PC06 order = 2 :\n"
     ]
    },
    {
     "data": {
      "text/plain": [
       "0.07361389767741877"
      ]
     },
     "execution_count": 24,
     "metadata": {},
     "output_type": "execute_result"
    },
    {
     "name": "stdout",
     "output_type": "stream",
     "text": [
      "R² for PC07 order = 1 :\n"
     ]
    },
    {
     "data": {
      "text/plain": [
       "0.1377405975181103"
      ]
     },
     "execution_count": 24,
     "metadata": {},
     "output_type": "execute_result"
    },
    {
     "name": "stdout",
     "output_type": "stream",
     "text": [
      "R² for PC07 order = 2 :\n"
     ]
    },
    {
     "data": {
      "text/plain": [
       "0.1896157079222296"
      ]
     },
     "execution_count": 24,
     "metadata": {},
     "output_type": "execute_result"
    },
    {
     "name": "stdout",
     "output_type": "stream",
     "text": [
      "R² for PC08 order = 1 :\n"
     ]
    },
    {
     "data": {
      "text/plain": [
       "0.08677465393720074"
      ]
     },
     "execution_count": 24,
     "metadata": {},
     "output_type": "execute_result"
    },
    {
     "name": "stdout",
     "output_type": "stream",
     "text": [
      "R² for PC08 order = 2 :\n"
     ]
    },
    {
     "data": {
      "text/plain": [
       "0.1365203059265374"
      ]
     },
     "execution_count": 24,
     "metadata": {},
     "output_type": "execute_result"
    },
    {
     "name": "stdout",
     "output_type": "stream",
     "text": [
      "R² for PC09 order = 1 :\n"
     ]
    },
    {
     "data": {
      "text/plain": [
       "0.06169885815937026"
      ]
     },
     "execution_count": 24,
     "metadata": {},
     "output_type": "execute_result"
    },
    {
     "name": "stdout",
     "output_type": "stream",
     "text": [
      "R² for PC09 order = 2 :\n"
     ]
    },
    {
     "data": {
      "text/plain": [
       "0.08043935563408122"
      ]
     },
     "execution_count": 24,
     "metadata": {},
     "output_type": "execute_result"
    },
    {
     "name": "stdout",
     "output_type": "stream",
     "text": [
      "R² for PC10 order = 1 :\n"
     ]
    },
    {
     "data": {
      "text/plain": [
       "0.02906787925360199"
      ]
     },
     "execution_count": 24,
     "metadata": {},
     "output_type": "execute_result"
    },
    {
     "name": "stdout",
     "output_type": "stream",
     "text": [
      "R² for PC10 order = 2 :\n"
     ]
    },
    {
     "data": {
      "text/plain": [
       "0.056869071142437444"
      ]
     },
     "execution_count": 24,
     "metadata": {},
     "output_type": "execute_result"
    }
   ],
   "source": [
    "# Check if there is a trend present in the data\n",
    "# This is the case if R² is above say 0.70 \n",
    "\n",
    "for component in mineralogy_pca_df.columns.tolist()[:-1]:\n",
    "    for order in [1, 2]:\n",
    "        print(\"R² for\", component, \"order =\", order, \":\")\n",
    "        detrending.detrend(coordinates_utm, \n",
    "                           mineralogy_pca_df[component], \n",
    "                           order=order, \n",
    "                           verbose=False, \n",
    "                           plot_points=False)[1]"
   ]
  },
  {
   "cell_type": "markdown",
   "metadata": {},
   "source": [
    "## Variogram modelling\n",
    "___"
   ]
  },
  {
   "cell_type": "markdown",
   "metadata": {},
   "source": [
    "* Variogram model (str)\n",
    "* Sill (float)\n",
    "* Range (float)\n",
    "* Nugget (float)\n",
    "* Number of lag bins (int)\n",
    "* Weighted (Bool)"
   ]
  },
  {
   "cell_type": "code",
   "execution_count": 99,
   "metadata": {},
   "outputs": [],
   "source": [
    "# Nugget (variance at lag=0 metric)\n",
    "\n",
    "# Since we are not dealing with point count data here,\n",
    "# we can not use the formulas from our paper we have talked about\n",
    "# Therefore I would just start with nugget=0 and perhaps later change this\n",
    "\n",
    "# Depending on how many principal components you will use, \n",
    "# you will have to add more entries to this list.\n",
    "nugget_ = [0.7028, 0.2244, 0.18074, 0.1933, 0.1179, 0.1234, 0.05496, 0.023345, 0.008833, 0., 0., 0., 0., 0., 0.,]"
   ]
  },
  {
   "cell_type": "code",
   "execution_count": 100,
   "metadata": {},
   "outputs": [
    {
     "data": {
      "text/plain": [
       "['01', '02', '03', '04', '05', '06', '07', '08', '09', '10', '11']"
      ]
     },
     "execution_count": 100,
     "metadata": {},
     "output_type": "execute_result"
    }
   ],
   "source": [
    "PC_nr_list = [nr[2:] for nr in mineralogy_pca_df.columns]\n",
    "PC_nr_list"
   ]
  },
  {
   "cell_type": "code",
   "execution_count": 101,
   "metadata": {},
   "outputs": [],
   "source": [
    "# Sill (total variance metric)\n",
    "\n",
    "# A 'list comprehension' construction is used here\n",
    "sill_ = [mineralogy_pca_df.loc[:, f\"PC{i}\"].values.var(ddof=1) \n",
    "         for i in PC_nr_list]"
   ]
  },
  {
   "cell_type": "code",
   "execution_count": 102,
   "metadata": {},
   "outputs": [],
   "source": [
    "# Variogram model parameters dictionary\n",
    "\n",
    "variogram_model_parameters = {}\n",
    "\n",
    "for i, PC in enumerate(mineralogy_pca_df.columns):\n",
    "    parameters = {}\n",
    "    parameters[\"sill\"] = sill_[i]\n",
    "    parameters[\"range\"] = range_[i]\n",
    "    parameters[\"nugget\"] = nugget_[i]\n",
    "        \n",
    "    variogram_model_parameters[PC] = parameters"
   ]
  },
  {
   "cell_type": "code",
   "execution_count": 103,
   "metadata": {},
   "outputs": [],
   "source": [
    "# Variogram model\n",
    "\n",
    "# You can choose between [\"exponential\", \"linear\", \"spherical\", \"power\", \"gaussian\"]\n",
    "# see https://pykrige.readthedocs.io/en/latest/variogram_models.html for equations\n",
    "variogram_model = \"exponential\""
   ]
  },
  {
   "cell_type": "code",
   "execution_count": 104,
   "metadata": {},
   "outputs": [
    {
     "data": {
      "text/plain": [
       "12"
      ]
     },
     "execution_count": 104,
     "metadata": {},
     "output_type": "execute_result"
    }
   ],
   "source": [
    "# Number of lag bins\n",
    "\n",
    "n_lags = int(np.floor(np.sqrt(coordinates_utm.shape[0])))\n",
    "n_lags"
   ]
  },
  {
   "cell_type": "code",
   "execution_count": 105,
   "metadata": {},
   "outputs": [],
   "source": [
    "# Set utm coordinates to use in variogram\n",
    "\n",
    "X = coordinates_utm.iloc[:, 0].values\n",
    "Y = coordinates_utm.iloc[:, 1].values"
   ]
  },
  {
   "cell_type": "code",
   "execution_count": 106,
   "metadata": {},
   "outputs": [
    {
     "name": "stdout",
     "output_type": "stream",
     "text": [
      "PC01\n",
      "Plotting Enabled\n",
      "\n",
      "Adjusting data for anisotropy...\n",
      "Initializing variogram model...\n",
      "Coordinates type: 'euclidean' \n",
      "\n",
      "Using 'exponential' Variogram Model\n",
      "Partial Sill: 1.0542488417320457\n",
      "Full Sill: 1.7570488417320456\n",
      "Range: 25000\n",
      "Nugget: 0.7028 \n",
      "\n"
     ]
    },
    {
     "data": {
      "image/png": "[encoded data removed]",
      "text/plain": [
       "<Figure size 432x288 with 1 Axes>"
      ]
     },
     "metadata": {
      "needs_background": "light"
     },
     "output_type": "display_data"
    },
    {
     "name": "stdout",
     "output_type": "stream",
     "text": [
      "Calculating statistics on variogram model fit...\n",
      "PC02\n",
      "Plotting Enabled\n",
      "\n",
      "Adjusting data for anisotropy...\n",
      "Initializing variogram model...\n",
      "Coordinates type: 'euclidean' \n",
      "\n",
      "Using 'exponential' Variogram Model\n",
      "Partial Sill: 0.33648353901188216\n",
      "Full Sill: 0.5608835390118821\n",
      "Range: 25000\n",
      "Nugget: 0.2244 \n",
      "\n"
     ]
    },
    {
     "data": {
      "image/png": "[encoded data removed]",
      "text/plain": [
       "<Figure size 432x288 with 1 Axes>"
      ]
     },
     "metadata": {
      "needs_background": "light"
     },
     "output_type": "display_data"
    },
    {
     "name": "stdout",
     "output_type": "stream",
     "text": [
      "Calculating statistics on variogram model fit...\n",
      "PC03\n",
      "Plotting Enabled\n",
      "\n",
      "Adjusting data for anisotropy...\n",
      "Initializing variogram model...\n",
      "Coordinates type: 'euclidean' \n",
      "\n",
      "Using 'exponential' Variogram Model\n",
      "Partial Sill: 0.07747657756454929\n",
      "Full Sill: 0.2582165775645493\n",
      "Range: 25000\n",
      "Nugget: 0.18074 \n",
      "\n"
     ]
    },
    {
     "data": {
      "image/png": "[encoded data removed]",
      "text/plain": [
       "<Figure size 432x288 with 1 Axes>"
      ]
     },
     "metadata": {
      "needs_background": "light"
     },
     "output_type": "display_data"
    },
    {
     "name": "stdout",
     "output_type": "stream",
     "text": [
      "Calculating statistics on variogram model fit...\n",
      "PC04\n",
      "Plotting Enabled\n",
      "\n",
      "Adjusting data for anisotropy...\n",
      "Initializing variogram model...\n",
      "Coordinates type: 'euclidean' \n",
      "\n",
      "Using 'exponential' Variogram Model\n",
      "Partial Sill: 0.02150323945023433\n",
      "Full Sill: 0.21480323945023433\n",
      "Range: 25000\n",
      "Nugget: 0.1933 \n",
      "\n"
     ]
    },
    {
     "data": {
      "image/png": "[encoded data removed]",
      "text/plain": [
       "<Figure size 432x288 with 1 Axes>"
      ]
     },
     "metadata": {
      "needs_background": "light"
     },
     "output_type": "display_data"
    },
    {
     "name": "stdout",
     "output_type": "stream",
     "text": [
      "Calculating statistics on variogram model fit...\n",
      "PC05\n",
      "Plotting Enabled\n",
      "\n",
      "Adjusting data for anisotropy...\n",
      "Initializing variogram model...\n",
      "Coordinates type: 'euclidean' \n",
      "\n",
      "Using 'exponential' Variogram Model\n",
      "Partial Sill: 0.041799689476142654\n",
      "Full Sill: 0.15969968947614266\n",
      "Range: 25000\n",
      "Nugget: 0.1179 \n",
      "\n"
     ]
    },
    {
     "data": {
      "image/png": "[encoded data removed]",
      "text/plain": [
       "<Figure size 432x288 with 1 Axes>"
      ]
     },
     "metadata": {
      "needs_background": "light"
     },
     "output_type": "display_data"
    },
    {
     "name": "stdout",
     "output_type": "stream",
     "text": [
      "Calculating statistics on variogram model fit...\n",
      "PC06\n",
      "Plotting Enabled\n",
      "\n",
      "Adjusting data for anisotropy...\n",
      "Initializing variogram model...\n",
      "Coordinates type: 'euclidean' \n",
      "\n",
      "Using 'exponential' Variogram Model\n",
      "Partial Sill: 0.013713253116022991\n",
      "Full Sill: 0.137113253116023\n",
      "Range: 25000\n",
      "Nugget: 0.1234 \n",
      "\n"
     ]
    },
    {
     "data": {
      "image/png": "[encoded data removed]",
      "text/plain": [
       "<Figure size 432x288 with 1 Axes>"
      ]
     },
     "metadata": {
      "needs_background": "light"
     },
     "output_type": "display_data"
    },
    {
     "name": "stdout",
     "output_type": "stream",
     "text": [
      "Calculating statistics on variogram model fit...\n",
      "PC07\n",
      "Plotting Enabled\n",
      "\n",
      "Adjusting data for anisotropy...\n",
      "Initializing variogram model...\n",
      "Coordinates type: 'euclidean' \n",
      "\n",
      "Using 'exponential' Variogram Model\n",
      "Partial Sill: 0.03664048142970735\n",
      "Full Sill: 0.09160048142970735\n",
      "Range: 25000\n",
      "Nugget: 0.05496 \n",
      "\n"
     ]
    },
    {
     "data": {
      "image/png": "[encoded data removed]",
      "text/plain": [
       "<Figure size 432x288 with 1 Axes>"
      ]
     },
     "metadata": {
      "needs_background": "light"
     },
     "output_type": "display_data"
    },
    {
     "name": "stdout",
     "output_type": "stream",
     "text": [
      "Calculating statistics on variogram model fit...\n",
      "PC08\n",
      "Plotting Enabled\n",
      "\n",
      "Adjusting data for anisotropy...\n",
      "Initializing variogram model...\n",
      "Coordinates type: 'euclidean' \n",
      "\n",
      "Using 'exponential' Variogram Model\n",
      "Partial Sill: 0.010003164462806979\n",
      "Full Sill: 0.03334816446280698\n",
      "Range: 25000\n",
      "Nugget: 0.023345 \n",
      "\n"
     ]
    },
    {
     "data": {
      "image/png": "[encoded data removed]",
      "text/plain": [
       "<Figure size 432x288 with 1 Axes>"
      ]
     },
     "metadata": {
      "needs_background": "light"
     },
     "output_type": "display_data"
    },
    {
     "name": "stdout",
     "output_type": "stream",
     "text": [
      "Calculating statistics on variogram model fit...\n",
      "PC09\n",
      "Plotting Enabled\n",
      "\n",
      "Adjusting data for anisotropy...\n",
      "Initializing variogram model...\n",
      "Coordinates type: 'euclidean' \n",
      "\n",
      "Using 'exponential' Variogram Model\n",
      "Partial Sill: 0.0009806735133448905\n",
      "Full Sill: 0.009813673513344891\n",
      "Range: 25000\n",
      "Nugget: 0.008833 \n",
      "\n"
     ]
    },
    {
     "data": {
      "image/png": "[encoded data removed]",
      "text/plain": [
       "<Figure size 432x288 with 1 Axes>"
      ]
     },
     "metadata": {
      "needs_background": "light"
     },
     "output_type": "display_data"
    },
    {
     "name": "stdout",
     "output_type": "stream",
     "text": [
      "Calculating statistics on variogram model fit...\n",
      "PC10\n",
      "Plotting Enabled\n",
      "\n",
      "Adjusting data for anisotropy...\n",
      "Initializing variogram model...\n",
      "Coordinates type: 'euclidean' \n",
      "\n",
      "Using 'exponential' Variogram Model\n",
      "Partial Sill: 0.0038692204259273082\n",
      "Full Sill: 0.0038692204259273082\n",
      "Range: 100000\n",
      "Nugget: 0.0 \n",
      "\n"
     ]
    },
    {
     "data": {
      "image/png": "[encoded data removed]",
      "text/plain": [
       "<Figure size 432x288 with 1 Axes>"
      ]
     },
     "metadata": {
      "needs_background": "light"
     },
     "output_type": "display_data"
    },
    {
     "name": "stdout",
     "output_type": "stream",
     "text": [
      "Calculating statistics on variogram model fit...\n",
      "Wall time: 4.08 s\n"
     ]
    }
   ],
   "source": [
    "%%time\n",
    "# Initialize empty dictionary\n",
    "variograms = {}\n",
    "\n",
    "# Loop though the diiferent principal components\n",
    "for component in mineralogy_pca_df.columns.tolist()[:-1]:\n",
    "    print(component)\n",
    "    # Subset principal component to use\n",
    "    data = mineralogy_pca_df.loc[:, component].values\n",
    "    variograms[component] = \\\n",
    "        OrdinaryKriging(X, Y, data,\n",
    "                        variogram_model='exponential',\n",
    "                        variogram_parameters=variogram_model_parameters[component],\n",
    "                        nlags=n_lags,\n",
    "                        verbose=True,\n",
    "                        enable_statistics=False,\n",
    "                        enable_plotting=True,\n",
    "                        weight=True,\n",
    "                        saveplot=True,\n",
    "                        coordinates_type='euclidean',\n",
    "                        saveloc=\"../_FIGURES/variograms/\",\n",
    "                        principal_component=component,\n",
    "                        pluton=group_name,\n",
    "                        show_nlag_pairs=False, # Turn off displaying number of lag pairs in lag bin\n",
    "                        show_range_determine_guide=True, # 0.95 * sill highlighted with blue line to help determining range\n",
    "                        range_estimate=25000) # Pass in value in meters to display a line at range estimate; set value to None to not display line\n",
    "    \n",
    "# NOTE that ideally Q1 is close to zero, Q2 is close to 1, and cR is as small as possible."
   ]
  },
  {
   "cell_type": "markdown",
   "metadata": {},
   "source": [
    "## Leave One Out Cross Validation (LOOCV) of PCA\n",
    "____"
   ]
  },
  {
   "cell_type": "code",
   "execution_count": 107,
   "metadata": {},
   "outputs": [],
   "source": [
    "# If you have run the cross validation before you can load the results by\n",
    "# running this cell and don't have to run the next cell anymore.\n",
    "CV_results = preproc.load_obj(\"CV_results_fast\")"
   ]
  },
  {
   "cell_type": "code",
   "execution_count": 108,
   "metadata": {},
   "outputs": [],
   "source": [
    "# Use this cross validation to check the hyper-parameters of your chosen variogram model \n",
    "# such as the search_radius, variogram_model, lag_bins etc.\n",
    "\n",
    "# Cross validation parameter dictionary to use\n",
    "# You can remove or add options here which will decrease or increase the number \n",
    "# of combinations of parameters the cross validation will run\n",
    "cv_param_dict = {}\n",
    "\n",
    "for component in mineralogy_pca_df.columns.tolist()[:-1]:\n",
    "    cv_param_dict[component] = {\"method\": [\"ordinary\"],\n",
    "                                \"variogram_model\": [\"exponential\", \"spherical\"],\n",
    "                                \"variogram_model_parameters\": [variogram_model_parameters[component]],\n",
    "                                \"nlags\": [n_lags],\n",
    "                                \"weight\": [True],\n",
    "                                \"n_closest_points\": [number_of_control_points],\n",
    "                                \"search_radius\": [range_[0]]\n",
    "                                }\n",
    "\n",
    "# The CV function below uses parallel processing to speed things up\n",
    "# Your CPU will thus reach 100% probably\n",
    "# To reduce the number of parallel processes to use you can change the following value\n",
    "# Defaults to -1 to use all available CPU cores; change to number between 1 and 8 e.g. \n",
    "# depending on how many cores your CPU has\n",
    "n_jobs = -1 "
   ]
  },
  {
   "cell_type": "code",
   "execution_count": 109,
   "metadata": {},
   "outputs": [
    {
     "name": "stdout",
     "output_type": "stream",
     "text": [
      "PC01\n",
      "Fitting 10 folds for each of 2 candidates, totalling 20 fits\n"
     ]
    },
    {
     "name": "stderr",
     "output_type": "stream",
     "text": [
      "[Parallel(n_jobs=-1)]: Using backend LokyBackend with 8 concurrent workers.\n",
      "[Parallel(n_jobs=-1)]: Done   2 tasks      | elapsed:    3.0s\n",
      "[Parallel(n_jobs=-1)]: Done  10 out of  20 | elapsed:    3.2s remaining:    3.2s\n",
      "[Parallel(n_jobs=-1)]: Done  15 out of  20 | elapsed:    3.3s remaining:    1.0s\n",
      "[Parallel(n_jobs=-1)]: Done  20 out of  20 | elapsed:    3.4s remaining:    0.0s\n",
      "[Parallel(n_jobs=-1)]: Done  20 out of  20 | elapsed:    3.4s finished\n",
      "C:\\Users\\Sebastian\\Anaconda3\\envs\\main\\lib\\site-packages\\sklearn\\model_selection\\_search.py:825: FutureWarning: The parameter 'iid' is deprecated in 0.22 and will be removed in 0.24.\n",
      "  \"removed in 0.24.\", FutureWarning\n",
      "[Parallel(n_jobs=-1)]: Using backend LokyBackend with 8 concurrent workers.\n",
      "[Parallel(n_jobs=-1)]: Done   2 tasks      | elapsed:    0.0s\n"
     ]
    },
    {
     "name": "stdout",
     "output_type": "stream",
     "text": [
      "PC02\n",
      "Fitting 10 folds for each of 2 candidates, totalling 20 fits\n"
     ]
    },
    {
     "name": "stderr",
     "output_type": "stream",
     "text": [
      "[Parallel(n_jobs=-1)]: Done  10 out of  20 | elapsed:    0.1s remaining:    0.1s\n",
      "[Parallel(n_jobs=-1)]: Done  15 out of  20 | elapsed:    0.1s remaining:    0.0s\n",
      "[Parallel(n_jobs=-1)]: Done  20 out of  20 | elapsed:    0.2s remaining:    0.0s\n",
      "[Parallel(n_jobs=-1)]: Done  20 out of  20 | elapsed:    0.2s finished\n",
      "[Parallel(n_jobs=-1)]: Using backend LokyBackend with 8 concurrent workers.\n",
      "[Parallel(n_jobs=-1)]: Done   2 tasks      | elapsed:    0.0s\n"
     ]
    },
    {
     "name": "stdout",
     "output_type": "stream",
     "text": [
      "PC03\n",
      "Fitting 10 folds for each of 2 candidates, totalling 20 fits\n"
     ]
    },
    {
     "name": "stderr",
     "output_type": "stream",
     "text": [
      "[Parallel(n_jobs=-1)]: Done  10 out of  20 | elapsed:    0.0s remaining:    0.0s\n",
      "[Parallel(n_jobs=-1)]: Done  15 out of  20 | elapsed:    0.1s remaining:    0.0s\n",
      "[Parallel(n_jobs=-1)]: Done  20 out of  20 | elapsed:    0.1s remaining:    0.0s\n",
      "[Parallel(n_jobs=-1)]: Done  20 out of  20 | elapsed:    0.1s finished\n",
      "[Parallel(n_jobs=-1)]: Using backend LokyBackend with 8 concurrent workers.\n",
      "[Parallel(n_jobs=-1)]: Done   2 tasks      | elapsed:    0.0s\n"
     ]
    },
    {
     "name": "stdout",
     "output_type": "stream",
     "text": [
      "PC04\n",
      "Fitting 10 folds for each of 2 candidates, totalling 20 fits\n"
     ]
    },
    {
     "name": "stderr",
     "output_type": "stream",
     "text": [
      "[Parallel(n_jobs=-1)]: Done  10 out of  20 | elapsed:    0.0s remaining:    0.0s\n",
      "[Parallel(n_jobs=-1)]: Done  15 out of  20 | elapsed:    0.1s remaining:    0.0s\n",
      "[Parallel(n_jobs=-1)]: Done  20 out of  20 | elapsed:    0.1s remaining:    0.0s\n",
      "[Parallel(n_jobs=-1)]: Done  20 out of  20 | elapsed:    0.1s finished\n",
      "[Parallel(n_jobs=-1)]: Using backend LokyBackend with 8 concurrent workers.\n",
      "[Parallel(n_jobs=-1)]: Done   2 tasks      | elapsed:    0.0s\n"
     ]
    },
    {
     "name": "stdout",
     "output_type": "stream",
     "text": [
      "PC05\n",
      "Fitting 10 folds for each of 2 candidates, totalling 20 fits\n"
     ]
    },
    {
     "name": "stderr",
     "output_type": "stream",
     "text": [
      "[Parallel(n_jobs=-1)]: Done  10 out of  20 | elapsed:    0.0s remaining:    0.0s\n",
      "[Parallel(n_jobs=-1)]: Done  15 out of  20 | elapsed:    0.1s remaining:    0.0s\n",
      "[Parallel(n_jobs=-1)]: Done  20 out of  20 | elapsed:    0.1s remaining:    0.0s\n",
      "[Parallel(n_jobs=-1)]: Done  20 out of  20 | elapsed:    0.1s finished\n",
      "[Parallel(n_jobs=-1)]: Using backend LokyBackend with 8 concurrent workers.\n",
      "[Parallel(n_jobs=-1)]: Done   2 tasks      | elapsed:    0.0s\n"
     ]
    },
    {
     "name": "stdout",
     "output_type": "stream",
     "text": [
      "PC06\n",
      "Fitting 10 folds for each of 2 candidates, totalling 20 fits\n"
     ]
    },
    {
     "name": "stderr",
     "output_type": "stream",
     "text": [
      "[Parallel(n_jobs=-1)]: Done  10 out of  20 | elapsed:    0.1s remaining:    0.1s\n",
      "[Parallel(n_jobs=-1)]: Done  15 out of  20 | elapsed:    0.1s remaining:    0.0s\n",
      "[Parallel(n_jobs=-1)]: Done  20 out of  20 | elapsed:    0.1s remaining:    0.0s\n",
      "[Parallel(n_jobs=-1)]: Done  20 out of  20 | elapsed:    0.1s finished\n",
      "[Parallel(n_jobs=-1)]: Using backend LokyBackend with 8 concurrent workers.\n",
      "[Parallel(n_jobs=-1)]: Done   2 tasks      | elapsed:    0.0s\n"
     ]
    },
    {
     "name": "stdout",
     "output_type": "stream",
     "text": [
      "PC07\n",
      "Fitting 10 folds for each of 2 candidates, totalling 20 fits\n"
     ]
    },
    {
     "name": "stderr",
     "output_type": "stream",
     "text": [
      "[Parallel(n_jobs=-1)]: Done  10 out of  20 | elapsed:    0.1s remaining:    0.1s\n",
      "[Parallel(n_jobs=-1)]: Done  15 out of  20 | elapsed:    0.1s remaining:    0.0s\n",
      "[Parallel(n_jobs=-1)]: Done  20 out of  20 | elapsed:    0.2s remaining:    0.0s\n",
      "[Parallel(n_jobs=-1)]: Done  20 out of  20 | elapsed:    0.2s finished\n",
      "[Parallel(n_jobs=-1)]: Using backend LokyBackend with 8 concurrent workers.\n",
      "[Parallel(n_jobs=-1)]: Done   2 tasks      | elapsed:    0.0s\n"
     ]
    },
    {
     "name": "stdout",
     "output_type": "stream",
     "text": [
      "PC08\n",
      "Fitting 10 folds for each of 2 candidates, totalling 20 fits\n"
     ]
    },
    {
     "name": "stderr",
     "output_type": "stream",
     "text": [
      "[Parallel(n_jobs=-1)]: Done  10 out of  20 | elapsed:    0.0s remaining:    0.0s\n",
      "[Parallel(n_jobs=-1)]: Done  15 out of  20 | elapsed:    0.1s remaining:    0.0s\n",
      "[Parallel(n_jobs=-1)]: Done  20 out of  20 | elapsed:    0.1s remaining:    0.0s\n",
      "[Parallel(n_jobs=-1)]: Done  20 out of  20 | elapsed:    0.1s finished\n",
      "[Parallel(n_jobs=-1)]: Using backend LokyBackend with 8 concurrent workers.\n"
     ]
    },
    {
     "name": "stdout",
     "output_type": "stream",
     "text": [
      "PC09\n",
      "Fitting 10 folds for each of 2 candidates, totalling 20 fits\n",
      "Wall time: 5.58 s\n"
     ]
    },
    {
     "name": "stderr",
     "output_type": "stream",
     "text": [
      "[Parallel(n_jobs=-1)]: Done   2 tasks      | elapsed:    0.0s\n",
      "[Parallel(n_jobs=-1)]: Done  10 out of  20 | elapsed:    0.1s remaining:    0.1s\n",
      "[Parallel(n_jobs=-1)]: Done  15 out of  20 | elapsed:    0.1s remaining:    0.0s\n",
      "[Parallel(n_jobs=-1)]: Done  20 out of  20 | elapsed:    0.1s remaining:    0.0s\n",
      "[Parallel(n_jobs=-1)]: Done  20 out of  20 | elapsed:    0.1s finished\n"
     ]
    }
   ],
   "source": [
    "%%time\n",
    "# Run CV and get estimators (using default MSE scorer)\n",
    "\n",
    "# Instead of running the CV for all the PCs, let's start with only the first 3 \n",
    "# to get an idea of what are the best parameters to use for the first 3 PCs.\n",
    "# In a later step we can then obtain the best parameters for all PCs that have \n",
    "# a sensible variogram; here this would mean up to and including PC09.\n",
    "# To specify which PCs to use, you can pass them in as list to the 'components_to_use' variable\n",
    "\n",
    "# Another change I've made, is that instead of performing leave-one-out-CV \n",
    "# where the train set is equal to n_sample - 1 and the test set is equal to 1,\n",
    "# it makes sense to here use a different strategy, since you're dealing with many more samples.\n",
    "# Therefore I've included the 'cv_folds' parameter where you can specify \n",
    "# the number of train/test groups you want to use during CV\n",
    "# Let's start with ten groups, which basically means that \n",
    "# you use 90% of the samples as train set and 10% as test test\n",
    "# and this in 10 combinations.\n",
    "\n",
    "# A a later stage we could change the CV to use a statified cv_fold\n",
    "# meaning that it ensures for example that for every train/test grouping of the 10 groups\n",
    "# equal numbers of samples of spcified grouping variable are used \n",
    "# (for example your time category or classification later on)\n",
    "\n",
    "# I've also included the '%%time' statement at the beginning of the cell,\n",
    "# so that at the end of the calculation you can see how much time it took.\n",
    "\n",
    "# Have a look here if you want some background info on the CV method used:\n",
    "# https://scikit-learn.org/stable/modules/generated/sklearn.model_selection.GridSearchCV.html\n",
    "\n",
    "estimators = loocv.perform_loocv(mineralogy_pca_df,\n",
    "                                 coordinates_utm,\n",
    "                                 cv_param_dict,\n",
    "                                 n_jobs=n_jobs,\n",
    "                                 cv_folds=10,\n",
    "                                 components_to_use=[f\"PC0{i}\" for i in range(1, 10)])"
   ]
  },
  {
   "cell_type": "code",
   "execution_count": 110,
   "metadata": {},
   "outputs": [],
   "source": [
    "# Convert estimators to dict of dataframes\n",
    "CV_results = loocv.convert_scores_to_df(estimators)"
   ]
  },
  {
   "cell_type": "code",
   "execution_count": 111,
   "metadata": {},
   "outputs": [],
   "source": [
    "# Save CV_results to pickle file for easy use later\n",
    "# These are the results from the 56min CV above (with only first 3 PCs)\n",
    "preproc.save_obj(CV_results, \"CV_results_summarized\")"
   ]
  },
  {
   "cell_type": "code",
   "execution_count": 112,
   "metadata": {},
   "outputs": [],
   "source": [
    "# Save CV_results to pickle file for easy use later\n",
    "# These are the results from the 2min CV above (with only first 9 PCs, simple parameters)\n",
    "preproc.save_obj(CV_results, \"CV_results_fast\")"
   ]
  },
  {
   "cell_type": "code",
   "execution_count": 113,
   "metadata": {},
   "outputs": [
    {
     "name": "stdout",
     "output_type": "stream",
     "text": [
      "PC01\n",
      "rank_test_score                    2\n",
      "mean_test_score              1.52684\n",
      "std_test_score               1.14241\n",
      "mean_train_score         1.64282e-31\n",
      "param_method                ordinary\n",
      "param_variogram_model    exponential\n",
      "param_search_radius            25000\n",
      "Name: 0, dtype: object\n",
      "\n",
      "\n",
      "PC02\n",
      "rank_test_score                    2\n",
      "mean_test_score             0.504964\n",
      "std_test_score              0.276957\n",
      "mean_train_score                   0\n",
      "param_method                ordinary\n",
      "param_variogram_model    exponential\n",
      "param_search_radius            25000\n",
      "Name: 0, dtype: object\n",
      "\n",
      "\n",
      "PC03\n",
      "rank_test_score                    2\n",
      "mean_test_score             0.208565\n",
      "std_test_score              0.100523\n",
      "mean_train_score                   0\n",
      "param_method                ordinary\n",
      "param_variogram_model    exponential\n",
      "param_search_radius            25000\n",
      "Name: 0, dtype: object\n",
      "\n",
      "\n",
      "PC04\n",
      "rank_test_score                  2\n",
      "mean_test_score           0.202954\n",
      "std_test_score            0.122231\n",
      "mean_train_score                 0\n",
      "param_method              ordinary\n",
      "param_variogram_model    spherical\n",
      "param_search_radius          25000\n",
      "Name: 1, dtype: object\n",
      "\n",
      "\n",
      "PC05\n",
      "rank_test_score                    2\n",
      "mean_test_score             0.153812\n",
      "std_test_score             0.0784103\n",
      "mean_train_score                   0\n",
      "param_method                ordinary\n",
      "param_variogram_model    exponential\n",
      "param_search_radius            25000\n",
      "Name: 0, dtype: object\n",
      "\n",
      "\n",
      "PC06\n",
      "rank_test_score                  2\n",
      "mean_test_score           0.127147\n",
      "std_test_score           0.0534434\n",
      "mean_train_score                 0\n",
      "param_method              ordinary\n",
      "param_variogram_model    spherical\n",
      "param_search_radius          25000\n",
      "Name: 1, dtype: object\n",
      "\n",
      "\n",
      "PC07\n",
      "rank_test_score                  2\n",
      "mean_test_score          0.0727719\n",
      "std_test_score             0.02968\n",
      "mean_train_score                 0\n",
      "param_method              ordinary\n",
      "param_variogram_model    spherical\n",
      "param_search_radius          25000\n",
      "Name: 1, dtype: object\n",
      "\n",
      "\n",
      "PC08\n",
      "rank_test_score                    2\n",
      "mean_test_score            0.0313498\n",
      "std_test_score             0.0233857\n",
      "mean_train_score                   0\n",
      "param_method                ordinary\n",
      "param_variogram_model    exponential\n",
      "param_search_radius            25000\n",
      "Name: 0, dtype: object\n",
      "\n",
      "\n",
      "PC09\n",
      "rank_test_score                    2\n",
      "mean_test_score            0.0105238\n",
      "std_test_score            0.00609334\n",
      "mean_train_score                   0\n",
      "param_method                ordinary\n",
      "param_variogram_model    exponential\n",
      "param_search_radius            25000\n",
      "Name: 0, dtype: object\n",
      "\n",
      "\n"
     ]
    }
   ],
   "source": [
    "# Quick look at best results per PC\n",
    "loocv.print_best_scores(CV_results)"
   ]
  },
  {
   "cell_type": "markdown",
   "metadata": {},
   "source": [
    "## Calculating predictions for best model\n",
    "____"
   ]
  },
  {
   "cell_type": "code",
   "execution_count": 114,
   "metadata": {},
   "outputs": [],
   "source": [
    "# Here you can specify the components and search_radii you want to use \n",
    "# when performing the kriging and performing the postprocessing calculations\n",
    "components_to_use = [f\"PC{i:02d}\" for i in range(1, 4)]\n",
    "search_radii = [range_[0]]"
   ]
  },
  {
   "cell_type": "code",
   "execution_count": 115,
   "metadata": {},
   "outputs": [],
   "source": [
    "estimators_final = {}\n",
    "\n",
    "for component in components_to_use:  # Changed to only first 9 PCs\n",
    "    for radius in search_radii:  # Removed critical_distance\n",
    "        for variable_to_fit in [\"estimates\"]:\n",
    "\n",
    "            estimators_final[f\"{component}_{radius}_{variable_to_fit}\"] = \\\n",
    "                Krige(method='ordinary',\n",
    "                      variogram_model=variogram_model,\n",
    "                      variogram_model_parameters=variogram_model_parameters[component],\n",
    "                      nlags=n_lags,\n",
    "                      weight=True,\n",
    "                      n_closest_points=number_of_control_points,\n",
    "                      search_radius=radius,\n",
    "                      variable_to_fit=variable_to_fit)"
   ]
  },
  {
   "cell_type": "code",
   "execution_count": 116,
   "metadata": {},
   "outputs": [],
   "source": [
    "# Run this cell if you have previously run the next cell and saved its outcome\n",
    "kriging_predictions = preproc.load_obj(\"kriging_predictions\")"
   ]
  },
  {
   "cell_type": "code",
   "execution_count": 117,
   "metadata": {},
   "outputs": [
    {
     "name": "stdout",
     "output_type": "stream",
     "text": [
      "PC01 25000 estimates\n"
     ]
    },
    {
     "name": "stderr",
     "output_type": "stream",
     "text": [
      "[Parallel(n_jobs=4)]: Using backend LokyBackend with 4 concurrent workers.\n"
     ]
    },
    {
     "name": "stdout",
     "output_type": "stream",
     "text": [
      "PC02 25000 estimates\n",
      "PC03 25000 estimates\n",
      "Wall time: 2.53 s\n"
     ]
    },
    {
     "name": "stderr",
     "output_type": "stream",
     "text": [
      "[Parallel(n_jobs=4)]: Done   6 out of  10 | elapsed:    1.9s remaining:    1.3s\n",
      "[Parallel(n_jobs=4)]: Done  10 out of  10 | elapsed:    2.0s finished\n",
      "[Parallel(n_jobs=4)]: Using backend LokyBackend with 4 concurrent workers.\n",
      "[Parallel(n_jobs=4)]: Done   6 out of  10 | elapsed:    0.0s remaining:    0.0s\n",
      "[Parallel(n_jobs=4)]: Done  10 out of  10 | elapsed:    0.0s finished\n",
      "[Parallel(n_jobs=4)]: Using backend LokyBackend with 4 concurrent workers.\n",
      "[Parallel(n_jobs=4)]: Done   6 out of  10 | elapsed:    0.0s remaining:    0.0s\n",
      "[Parallel(n_jobs=4)]: Done  10 out of  10 | elapsed:    0.0s finished\n"
     ]
    }
   ],
   "source": [
    "%%time\n",
    "# You can again change the n_jobs to lower the #CPU cores used for parallel processing\n",
    "# Also set the cv_folds variable below\n",
    "cv_folds = 10\n",
    "\n",
    "kriging_predictions = {}\n",
    "\n",
    "for component in components_to_use:  # Changed to only first 9 PCs\n",
    "    for radius in search_radii:  # Removed critical_distance\n",
    "        for variable_to_fit in [\"estimates\"]:  # Removed 'variances'\n",
    "            \n",
    "            # Let's print out the combination to see where we are in the loops\n",
    "            print(component, radius, variable_to_fit)\n",
    "            \n",
    "            kriging_predictions[f\"{component}_{radius}_{variable_to_fit}\"] = \\\n",
    "                cross_val_predict(estimators_final[f\"{component}_{radius}_{variable_to_fit}\"], \n",
    "                                  X=np.stack((coordinates_utm[\"X\"],\n",
    "                                              coordinates_utm[\"Y\"]), axis=1),\n",
    "                                  y=mineralogy_pca_df[component],\n",
    "                                  cv=cv_folds,\n",
    "                                  n_jobs=4,\n",
    "                                  verbose=5)"
   ]
  },
  {
   "cell_type": "code",
   "execution_count": 118,
   "metadata": {},
   "outputs": [],
   "source": [
    "preproc.save_obj(kriging_predictions, \"kriging_predictions\")"
   ]
  },
  {
   "cell_type": "markdown",
   "metadata": {},
   "source": [
    "## Calculate clr solutions\n",
    "____"
   ]
  },
  {
   "cell_type": "code",
   "execution_count": 119,
   "metadata": {},
   "outputs": [
    {
     "name": "stdout",
     "output_type": "stream",
     "text": [
      "25000\n"
     ]
    },
    {
     "data": {
      "text/html": [
       "<div>\n",
       "<style scoped>\n",
       "    .dataframe tbody tr th:only-of-type {\n",
       "        vertical-align: middle;\n",
       "    }\n",
       "\n",
       "    .dataframe tbody tr th {\n",
       "        vertical-align: top;\n",
       "    }\n",
       "\n",
       "    .dataframe thead th {\n",
       "        text-align: right;\n",
       "    }\n",
       "</style>\n",
       "<table border=\"1\" class=\"dataframe\">\n",
       "  <thead>\n",
       "    <tr style=\"text-align: right;\">\n",
       "      <th></th>\n",
       "      <th>PC01</th>\n",
       "      <th>PC02</th>\n",
       "      <th>PC03</th>\n",
       "    </tr>\n",
       "  </thead>\n",
       "  <tbody>\n",
       "    <tr>\n",
       "      <th>47</th>\n",
       "      <td>-0.842188</td>\n",
       "      <td>-0.391080</td>\n",
       "      <td>-0.363863</td>\n",
       "    </tr>\n",
       "    <tr>\n",
       "      <th>66</th>\n",
       "      <td>0.133497</td>\n",
       "      <td>0.509699</td>\n",
       "      <td>-0.227578</td>\n",
       "    </tr>\n",
       "    <tr>\n",
       "      <th>86</th>\n",
       "      <td>-0.481773</td>\n",
       "      <td>-0.396514</td>\n",
       "      <td>0.020292</td>\n",
       "    </tr>\n",
       "    <tr>\n",
       "      <th>152</th>\n",
       "      <td>-0.842195</td>\n",
       "      <td>-0.391083</td>\n",
       "      <td>-0.363865</td>\n",
       "    </tr>\n",
       "    <tr>\n",
       "      <th>161</th>\n",
       "      <td>-0.639273</td>\n",
       "      <td>-0.153511</td>\n",
       "      <td>0.079270</td>\n",
       "    </tr>\n",
       "  </tbody>\n",
       "</table>\n",
       "</div>"
      ],
      "text/plain": [
       "         PC01      PC02      PC03\n",
       "47  -0.842188 -0.391080 -0.363863\n",
       "66   0.133497  0.509699 -0.227578\n",
       "86  -0.481773 -0.396514  0.020292\n",
       "152 -0.842195 -0.391083 -0.363865\n",
       "161 -0.639273 -0.153511  0.079270"
      ]
     },
     "execution_count": 119,
     "metadata": {},
     "output_type": "execute_result"
    }
   ],
   "source": [
    "kriging_estimates_df = {}\n",
    "\n",
    "for radius in search_radii:\n",
    "    temp = {}\n",
    "    \n",
    "    for component in components_to_use:\n",
    "        key = f\"{component}_{radius}_estimates\"\n",
    "        temp[key] = kriging_predictions[key]\n",
    "\n",
    "    kriging_estimates_df[f\"{radius}\"] = pd.DataFrame.from_dict(temp)\n",
    "    kriging_estimates_df[f\"{radius}\"].index = mineralogy_pca_df.index\n",
    "    kriging_estimates_df[f\"{radius}\"].columns = components_to_use\n",
    "    \n",
    "    print(f\"{radius}\")\n",
    "    kriging_estimates_df[f\"{radius}\"].head()"
   ]
  },
  {
   "cell_type": "raw",
   "metadata": {},
   "source": [
    "kriging_variances_df = {}\n",
    "\n",
    "\n",
    "for radius in search_radii:\n",
    "    temp = {}\n",
    "    \n",
    "    for component in components_to_use:\n",
    "        key = f\"{component}_{radius}_variances\"\n",
    "        temp[key] = kriging_predictions[key]\n",
    "        \n",
    "    kriging_variances_df[f\"{radius}\"] = pd.DataFrame.from_dict(temp)\n",
    "    kriging_variances_df[f\"{radius}\"].index = mineralogy_pca_df.index\n",
    "    kriging_variances_df[f\"{radius}\"].columns = components_to_use\n",
    "    \n",
    "    print(f\"{radius}\")\n",
    "    kriging_variances_df[f\"{radius}\"].head()"
   ]
  },
  {
   "cell_type": "raw",
   "metadata": {},
   "source": [
    "kriging_variances_mean_df = {}\n",
    "\n",
    "for radius in search_radii:\n",
    "    kriging_variances_mean_df[f\"{radius}\"] = \\\n",
    "        kriging_variances_df[f\"{radius}\"].mean(axis=0)\n",
    "\n",
    "    print(f\"{radius}\")\n",
    "    kriging_variances_mean_df[f\"{radius}\"]"
   ]
  },
  {
   "cell_type": "code",
   "execution_count": 120,
   "metadata": {},
   "outputs": [],
   "source": [
    "kriging_estimates_clr = {}\n",
    "\n",
    "for ncomp in range(1, len(components_to_use) + 1):\n",
    "    for radius in search_radii:\n",
    "\n",
    "        kriging_estimates_clr[f\"{ncomp}_{radius}\"] = \\\n",
    "            postproc.reverse_pca(mineralogy_pca, \n",
    "                                 kriging_estimates_df[f\"{radius}\"],\n",
    "                                 mineralogy_clr,\n",
    "                                 n_comp=ncomp)"
   ]
  },
  {
   "cell_type": "code",
   "execution_count": 121,
   "metadata": {},
   "outputs": [],
   "source": [
    "solutions_clr = {}\n",
    "\n",
    "for ncomp in range(1, len(components_to_use) + 1):\n",
    "    for radius in search_radii:\n",
    "\n",
    "        solutions_clr[f\"{ncomp}_{radius}\"] = \\\n",
    "            pd.DataFrame(kriging_estimates_clr[f\"{ncomp}_{radius}\"], \n",
    "                         index=mineralogy_clr.index, \n",
    "                         columns=mineralogy_clr.columns)"
   ]
  },
  {
   "cell_type": "code",
   "execution_count": 122,
   "metadata": {},
   "outputs": [],
   "source": [
    "residuals_clr = {}\n",
    "\n",
    "for ncomp in range(1, len(components_to_use) + 1):\n",
    "    for radius in search_radii:\n",
    "\n",
    "        residuals_clr[f\"{ncomp}_{radius}\"] = \\\n",
    "            mineralogy_clr.subtract(solutions_clr[f\"{ncomp}_{radius}\"])"
   ]
  },
  {
   "cell_type": "code",
   "execution_count": 123,
   "metadata": {},
   "outputs": [],
   "source": [
    "for ncomp in range(1, len(components_to_use) + 1):\n",
    "    for radius in search_radii:\n",
    "        temp = pd.merge(residuals_clr[f\"{ncomp}_{radius}\"], \n",
    "                        pd.DataFrame(nvalues_control_points[radius], \n",
    "                                     columns=[\"n_closest_points\"]), \n",
    "                        left_index=True, \n",
    "                        right_index=True)\\\n",
    "                 .sort_values(\"n_closest_points\")\n",
    "        \n",
    "        temp.to_excel(f\"../_RESULTS/Residuals/residuals_clr_{ncomp}_{radius}_{group_name}.xlsx\")"
   ]
  },
  {
   "cell_type": "code",
   "execution_count": 124,
   "metadata": {},
   "outputs": [],
   "source": [
    "preproc.save_obj(residuals_clr, \"residuals_clr\")"
   ]
  },
  {
   "cell_type": "code",
   "execution_count": 125,
   "metadata": {},
   "outputs": [],
   "source": [
    "preproc.save_obj(nvalues_control_points, \"nvalues_control_points\")"
   ]
  },
  {
   "cell_type": "markdown",
   "metadata": {},
   "source": [
    "## Model selection"
   ]
  },
  {
   "cell_type": "code",
   "execution_count": 126,
   "metadata": {},
   "outputs": [
    {
     "data": {
      "text/plain": [
       "{'1_25000': 2.995406379476309,\n",
       " '2_25000': 2.947685130256178,\n",
       " '3_25000': 2.900722677818861}"
      ]
     },
     "execution_count": 126,
     "metadata": {},
     "output_type": "execute_result"
    },
    {
     "data": {
      "text/plain": [
       "2.900722677818861"
      ]
     },
     "execution_count": 126,
     "metadata": {},
     "output_type": "execute_result"
    },
    {
     "data": {
      "text/plain": [
       "'3_25000'"
      ]
     },
     "execution_count": 126,
     "metadata": {},
     "output_type": "execute_result"
    }
   ],
   "source": [
    "# Get MSPE_Q values and select best model based on it\n",
    "# Make sure the selected model passes the Hotelling's T² 2-sample test above, though\n",
    "MSPE_Q = {}\n",
    "best_MSPE_Q = 1000\n",
    "\n",
    "for ncomp in range(1, len(components_to_use) + 1):\n",
    "    for radius in search_radii:\n",
    "\n",
    "        # Calculate MSPE_Q from clr residuals\n",
    "        MSPE_Q_temp = np.mean(np.sum(residuals_clr[f\"{ncomp}_{radius}\"] ** 2, axis=1), axis=0)\n",
    "\n",
    "        if MSPE_Q_temp < best_MSPE_Q:\n",
    "            # Store best MSPE_Q en corresponding model\n",
    "            best_MSPE_Q = MSPE_Q_temp\n",
    "            selected_model = f\"{ncomp}_{radius}\"\n",
    "\n",
    "        MSPE_Q[f\"{ncomp}_{radius}\"] = MSPE_Q_temp\n",
    "                \n",
    "MSPE_Q\n",
    "best_MSPE_Q\n",
    "selected_model\n",
    "selected_model_PCs = selected_model.split(\"_\")[0]"
   ]
  },
  {
   "cell_type": "code",
   "execution_count": 127,
   "metadata": {},
   "outputs": [],
   "source": [
    "# Number of PCs to use for reverse calculations based on selected model\n",
    "n_comp = int(selected_model.split(\"_\")[0])\n",
    "# Whcih PCs to use moving forward\n",
    "selected_components_to_use = [f\"PC{i:02d}\" for i in range(1, n_comp + 1)]"
   ]
  },
  {
   "cell_type": "code",
   "execution_count": 128,
   "metadata": {},
   "outputs": [
    {
     "data": {
      "text/plain": [
       "['PC01', 'PC02', 'PC03']"
      ]
     },
     "execution_count": 128,
     "metadata": {},
     "output_type": "execute_result"
    }
   ],
   "source": [
    "selected_components_to_use"
   ]
  },
  {
   "cell_type": "markdown",
   "metadata": {},
   "source": [
    "## Contour plots\n",
    "____"
   ]
  },
  {
   "cell_type": "code",
   "execution_count": 129,
   "metadata": {},
   "outputs": [
    {
     "name": "stdout",
     "output_type": "stream",
     "text": [
      "(151, 2)\n",
      "(130572, 2)\n",
      "351 372\n"
     ]
    },
    {
     "data": {
      "text/plain": [
       "(372, 351)"
      ]
     },
     "execution_count": 129,
     "metadata": {},
     "output_type": "execute_result"
    }
   ],
   "source": [
    "nvalues_critical_distance = \\\n",
    "    variograms[\"PC01\"].determine_mask_array(grid[0], \n",
    "                                            grid[1], \n",
    "                                            search_radius=critical_distance)\n",
    "mask_critical_distance = nvalues_critical_distance < 3\n",
    "mask_critical_distance.shape"
   ]
  },
  {
   "cell_type": "code",
   "execution_count": 130,
   "metadata": {},
   "outputs": [
    {
     "data": {
      "text/plain": [
       "80711"
      ]
     },
     "execution_count": 130,
     "metadata": {},
     "output_type": "execute_result"
    }
   ],
   "source": [
    "mask_critical_distance[mask_critical_distance == 1].sum()"
   ]
  },
  {
   "cell_type": "code",
   "execution_count": 131,
   "metadata": {},
   "outputs": [],
   "source": [
    "non_masked_grid_nodes = \\\n",
    "    grid[0].shape[0] * grid[1].shape[0] \\\n",
    "    - mask_critical_distance[mask_critical_distance == 1].sum()"
   ]
  },
  {
   "cell_type": "code",
   "execution_count": 132,
   "metadata": {},
   "outputs": [],
   "source": [
    "grid_cell_spacing = grid[0][1] - grid[0][0]\n",
    "grid_cell_area = grid_cell_spacing ** 2"
   ]
  },
  {
   "cell_type": "code",
   "execution_count": 133,
   "metadata": {},
   "outputs": [],
   "source": [
    "# Pluton area in m²\n",
    "pluton_area_m2 = non_masked_grid_nodes * grid_cell_area\n",
    "\n",
    "# Pluton area in km²\n",
    "pluton_area_km2 = pluton_area_m2 / 1_000_000"
   ]
  },
  {
   "cell_type": "code",
   "execution_count": 134,
   "metadata": {},
   "outputs": [
    {
     "data": {
      "text/plain": [
       "9093.928491646073"
      ]
     },
     "execution_count": 134,
     "metadata": {},
     "output_type": "execute_result"
    }
   ],
   "source": [
    "pluton_area_km2"
   ]
  },
  {
   "cell_type": "markdown",
   "metadata": {},
   "source": [
    "____"
   ]
  },
  {
   "cell_type": "code",
   "execution_count": 135,
   "metadata": {},
   "outputs": [],
   "source": [
    "interpolated_dict = preproc.load_obj(\"interpolated_dict\")"
   ]
  },
  {
   "cell_type": "code",
   "execution_count": 136,
   "metadata": {},
   "outputs": [],
   "source": [
    "# Since my desktop (with 32GB of RAM) ran out of memory,\n",
    "# I've reduced the grid spacing so that there are fewer grid points \n",
    "# to perform the interpolation for\n",
    "\n",
    "# You could also reduce the number of active CPU cores by decreasing 'n_jobs'\n",
    "# which would reduce memory consumption\n",
    "# so that you could still get a more detailed interpolation grid.\n",
    "# The interpolation will take a bit longer than since \n",
    "# not the maximum number of 'workers' can be used in that case."
   ]
  },
  {
   "cell_type": "markdown",
   "metadata": {},
   "source": [
    "### remark\n",
    "cell below was changed -->  changed it for all the other areas also"
   ]
  },
  {
   "cell_type": "code",
   "execution_count": 137,
   "metadata": {},
   "outputs": [
    {
     "name": "stdout",
     "output_type": "stream",
     "text": [
      "Wall time: 31.9 s\n"
     ]
    }
   ],
   "source": [
    "%%time\n",
    "interpolated_parallel = Parallel(n_jobs=1)(delayed(\n",
    "    variograms[component].execute)('masked', \n",
    "                     grid[0], \n",
    "                     grid[1],\n",
    "                     mask_critical_distance,\n",
    "                     n_closest_points=number_of_control_points, \n",
    "                     search_radius=range_[0], \n",
    "                     backend='loop') for component in components_to_use)"
   ]
  },
  {
   "cell_type": "code",
   "execution_count": 138,
   "metadata": {},
   "outputs": [],
   "source": [
    "interpolated_dict = {}\n",
    "for i, item in enumerate(interpolated_parallel, start=1):\n",
    "    interpolated_dict[f\"PC0{i}\"] = item"
   ]
  },
  {
   "cell_type": "code",
   "execution_count": 139,
   "metadata": {},
   "outputs": [],
   "source": [
    "preproc.save_obj(interpolated_dict, f\"interpolated_dict_{group_name}\")"
   ]
  },
  {
   "cell_type": "code",
   "execution_count": 140,
   "metadata": {},
   "outputs": [
    {
     "name": "stdout",
     "output_type": "stream",
     "text": [
      "1\n",
      "2\n",
      "3\n",
      "(3, 372, 351)\n"
     ]
    },
    {
     "name": "stderr",
     "output_type": "stream",
     "text": [
      "C:\\Users\\Sebastian\\Anaconda3\\envs\\main\\lib\\site-packages\\IPython\\core\\interactiveshell.py:3331: FutureWarning: arrays to stack must be passed as a \"sequence\" type such as list or tuple. Support for non-sequence iterables such as generators is deprecated as of NumPy 1.16 and will raise an error in the future.\n",
      "  exec(code_obj, self.user_global_ns, self.user_ns)\n"
     ]
    }
   ],
   "source": [
    "interpolated_array = postproc.convert_grid_to_array_of_scores(interpolated_dict)\n",
    "\n",
    "interpolated_reverse_pca = postproc.reverse_pca(mineralogy_pca, \n",
    "                                                interpolated_array, \n",
    "                                                mineralogy_clr, \n",
    "                                                n_comp=n_comp)\n",
    "\n",
    "interpolated_reverse_clr = postproc.reverse_clr(interpolated_reverse_pca, \n",
    "                                                mineralogy_clr)\n",
    "\n",
    "\n",
    "# You will get a FutureWarning here, that's fine"
   ]
  },
  {
   "cell_type": "code",
   "execution_count": 141,
   "metadata": {},
   "outputs": [
    {
     "data": {
      "text/plain": [
       "0.44010338115046"
      ]
     },
     "execution_count": 141,
     "metadata": {},
     "output_type": "execute_result"
    }
   ],
   "source": [
    "# Get kriging surface variance for error_budget\n",
    "var_OK = np.array(pd.DataFrame(interpolated_array).var(axis=0, ddof=1))\n",
    "var_OK.sum()"
   ]
  },
  {
   "cell_type": "code",
   "execution_count": 142,
   "metadata": {},
   "outputs": [],
   "source": [
    "# Check if the number of points based on the specified grid is equal to\n",
    "# the sum of the number of masked points and the number of interpolated points\n",
    "assert grid[0].shape[0] * grid[1].shape[0] == np.sum(np.isclose(interpolated_reverse_clr.sum(axis=1), 0.0)) + \\\n",
    "                                              np.sum(np.isclose(interpolated_reverse_clr.sum(axis=1), 100.0))"
   ]
  },
  {
   "cell_type": "code",
   "execution_count": 143,
   "metadata": {},
   "outputs": [],
   "source": [
    "interpolated_modal = {}\n",
    "for mineral in interpolated_reverse_clr.columns.tolist():\n",
    "    interpolated_modal[mineral] = np.reshape(interpolated_reverse_clr.loc[:, mineral].values, \n",
    "                                             (grid[1].shape[0], grid[0].shape[0]))"
   ]
  },
  {
   "cell_type": "code",
   "execution_count": 144,
   "metadata": {},
   "outputs": [
    {
     "name": "stdout",
     "output_type": "stream",
     "text": [
      "(372, 351)\n",
      "SiO2\n",
      "(372, 351)\n",
      "TiO2\n",
      "(372, 351)\n",
      "Al2O3\n",
      "(372, 351)\n",
      "Fe2O3\n",
      "(372, 351)\n",
      "FeO\n",
      "(372, 351)\n",
      "MnO\n",
      "(372, 351)\n",
      "MgO\n",
      "(372, 351)\n",
      "CaO\n",
      "(372, 351)\n",
      "Na2O\n",
      "(372, 351)\n",
      "K2O\n",
      "(372, 351)\n",
      "oth\n"
     ]
    }
   ],
   "source": [
    "# If you get an error related to an non-esixting save location\n",
    "# Please first create a folder on your pc with the same name that \n",
    "# you used for the variable 'group_name'\n",
    "\n",
    "for mineral, interpolation in interpolated_modal.items(): \n",
    "    for variable in [\"estimates\"]:\n",
    "        print(interpolation.shape)\n",
    "        plots.plot_contour_map(interpolation,\n",
    "                               grid,\n",
    "                               coordinates_utm,\n",
    "                               group_name,\n",
    "                               variable=variable,\n",
    "                               title=f\"{mineral} radius={range_[0]}m {variable} masked {critical_distance}m\",\n",
    "                               show_plot=False,\n",
    "                               single_mineral=True,\n",
    "                               mineral=mineral,                               \n",
    "                               label_pos = (0.03, 0.94),\n",
    "                               skip_xaxis_label=2,\n",
    "                               skip_yaxis_label=2,\n",
    "                               skip_xaxis_start=1,\n",
    "                               skip_yaxis_start=1,\n",
    "                               marker_symbol='.',\n",
    "                               marker_size=0.1,\n",
    "                               marker_color='r',)\n",
    "        \n",
    "# Added some options to function so that yu can easily change the appearance \n",
    "# of the markers used to show the position of the control points"
   ]
  },
  {
   "cell_type": "code",
   "execution_count": 145,
   "metadata": {},
   "outputs": [
    {
     "data": {
      "image/png": "[encoded data removed]",
      "text/plain": [
       "<Figure size 1728x1296 with 26 Axes>"
      ]
     },
     "metadata": {},
     "output_type": "display_data"
    }
   ],
   "source": [
    "# Specify how many rows and columns you want to use in the following figure\n",
    "# This will ofcourse depend an the number of variables you would like to plot\n",
    "# You can also set the figure size\n",
    "n_cols = 3\n",
    "n_rows = 5\n",
    "\n",
    "# Figure with single mineral maps as subplots\n",
    "plots.plot_contour_map_all(interpolated_modal,\n",
    "                           grid,\n",
    "                           coordinates_utm,\n",
    "                           group_name,\n",
    "                           title=f\"radius={range_[0]}m masked {critical_distance}m\",\n",
    "                           show_plot=True,\n",
    "                           label_pos = (0.03, 0.94),\n",
    "                           skip_xaxis_label=2,\n",
    "                           skip_yaxis_label=2,\n",
    "                           skip_xaxis_start=1,\n",
    "                           skip_yaxis_start=1,\n",
    "                           marker_size=0.1,\n",
    "                           marker_color='r',\n",
    "                           marker_symbol='.',\n",
    "                           figsize=(24, 18),\n",
    "                           ncols=n_cols,\n",
    "                           nrows=n_rows,\n",
    "                           sharex=True,\n",
    "                           sharey=True)"
   ]
  },
  {
   "cell_type": "code",
   "execution_count": 146,
   "metadata": {},
   "outputs": [
    {
     "data": {
      "text/html": [
       "<div>\n",
       "<style scoped>\n",
       "    .dataframe tbody tr th:only-of-type {\n",
       "        vertical-align: middle;\n",
       "    }\n",
       "\n",
       "    .dataframe tbody tr th {\n",
       "        vertical-align: top;\n",
       "    }\n",
       "\n",
       "    .dataframe thead th {\n",
       "        text-align: right;\n",
       "    }\n",
       "</style>\n",
       "<table border=\"1\" class=\"dataframe\">\n",
       "  <thead>\n",
       "    <tr style=\"text-align: right;\">\n",
       "      <th></th>\n",
       "      <th>SiO2</th>\n",
       "      <th>TiO2</th>\n",
       "      <th>Al2O3</th>\n",
       "      <th>Fe2O3</th>\n",
       "      <th>FeO</th>\n",
       "      <th>MnO</th>\n",
       "      <th>MgO</th>\n",
       "      <th>CaO</th>\n",
       "      <th>Na2O</th>\n",
       "      <th>K2O</th>\n",
       "      <th>oth</th>\n",
       "    </tr>\n",
       "  </thead>\n",
       "  <tbody>\n",
       "    <tr>\n",
       "      <th>7431</th>\n",
       "      <td>70.169757</td>\n",
       "      <td>0.364318</td>\n",
       "      <td>15.208769</td>\n",
       "      <td>0.815537</td>\n",
       "      <td>2.535378</td>\n",
       "      <td>0.057258</td>\n",
       "      <td>0.602557</td>\n",
       "      <td>1.777622</td>\n",
       "      <td>3.546316</td>\n",
       "      <td>4.164508</td>\n",
       "      <td>0.757979</td>\n",
       "    </tr>\n",
       "    <tr>\n",
       "      <th>7432</th>\n",
       "      <td>70.136994</td>\n",
       "      <td>0.365755</td>\n",
       "      <td>15.218807</td>\n",
       "      <td>0.820647</td>\n",
       "      <td>2.541740</td>\n",
       "      <td>0.057403</td>\n",
       "      <td>0.606876</td>\n",
       "      <td>1.787653</td>\n",
       "      <td>3.546100</td>\n",
       "      <td>4.158249</td>\n",
       "      <td>0.759776</td>\n",
       "    </tr>\n",
       "    <tr>\n",
       "      <th>7433</th>\n",
       "      <td>70.102085</td>\n",
       "      <td>0.367273</td>\n",
       "      <td>15.229450</td>\n",
       "      <td>0.825746</td>\n",
       "      <td>2.548705</td>\n",
       "      <td>0.057561</td>\n",
       "      <td>0.611545</td>\n",
       "      <td>1.798436</td>\n",
       "      <td>3.545863</td>\n",
       "      <td>4.151606</td>\n",
       "      <td>0.761732</td>\n",
       "    </tr>\n",
       "    <tr>\n",
       "      <th>7434</th>\n",
       "      <td>70.065027</td>\n",
       "      <td>0.368874</td>\n",
       "      <td>15.240687</td>\n",
       "      <td>0.830820</td>\n",
       "      <td>2.556279</td>\n",
       "      <td>0.057730</td>\n",
       "      <td>0.616571</td>\n",
       "      <td>1.809980</td>\n",
       "      <td>3.545601</td>\n",
       "      <td>4.144584</td>\n",
       "      <td>0.763847</td>\n",
       "    </tr>\n",
       "    <tr>\n",
       "      <th>7435</th>\n",
       "      <td>70.025824</td>\n",
       "      <td>0.370556</td>\n",
       "      <td>15.252509</td>\n",
       "      <td>0.835860</td>\n",
       "      <td>2.564466</td>\n",
       "      <td>0.057911</td>\n",
       "      <td>0.621958</td>\n",
       "      <td>1.822293</td>\n",
       "      <td>3.545314</td>\n",
       "      <td>4.137189</td>\n",
       "      <td>0.766121</td>\n",
       "    </tr>\n",
       "    <tr>\n",
       "      <th>...</th>\n",
       "      <td>...</td>\n",
       "      <td>...</td>\n",
       "      <td>...</td>\n",
       "      <td>...</td>\n",
       "      <td>...</td>\n",
       "      <td>...</td>\n",
       "      <td>...</td>\n",
       "      <td>...</td>\n",
       "      <td>...</td>\n",
       "      <td>...</td>\n",
       "      <td>...</td>\n",
       "    </tr>\n",
       "    <tr>\n",
       "      <th>126270</th>\n",
       "      <td>70.780122</td>\n",
       "      <td>0.315798</td>\n",
       "      <td>14.908608</td>\n",
       "      <td>1.592934</td>\n",
       "      <td>2.015031</td>\n",
       "      <td>0.064971</td>\n",
       "      <td>0.549682</td>\n",
       "      <td>1.325033</td>\n",
       "      <td>3.622341</td>\n",
       "      <td>4.084271</td>\n",
       "      <td>0.741209</td>\n",
       "    </tr>\n",
       "    <tr>\n",
       "      <th>126271</th>\n",
       "      <td>70.741669</td>\n",
       "      <td>0.317464</td>\n",
       "      <td>14.921511</td>\n",
       "      <td>1.598063</td>\n",
       "      <td>2.023298</td>\n",
       "      <td>0.065096</td>\n",
       "      <td>0.554245</td>\n",
       "      <td>1.335613</td>\n",
       "      <td>3.621693</td>\n",
       "      <td>4.078165</td>\n",
       "      <td>0.743184</td>\n",
       "    </tr>\n",
       "    <tr>\n",
       "      <th>126272</th>\n",
       "      <td>70.703570</td>\n",
       "      <td>0.319119</td>\n",
       "      <td>14.934199</td>\n",
       "      <td>1.603241</td>\n",
       "      <td>2.031456</td>\n",
       "      <td>0.065217</td>\n",
       "      <td>0.558757</td>\n",
       "      <td>1.346127</td>\n",
       "      <td>3.621035</td>\n",
       "      <td>4.072166</td>\n",
       "      <td>0.745114</td>\n",
       "    </tr>\n",
       "    <tr>\n",
       "      <th>126273</th>\n",
       "      <td>70.665932</td>\n",
       "      <td>0.320760</td>\n",
       "      <td>14.946640</td>\n",
       "      <td>1.608452</td>\n",
       "      <td>2.039482</td>\n",
       "      <td>0.065334</td>\n",
       "      <td>0.563205</td>\n",
       "      <td>1.356543</td>\n",
       "      <td>3.620369</td>\n",
       "      <td>4.066288</td>\n",
       "      <td>0.746995</td>\n",
       "    </tr>\n",
       "    <tr>\n",
       "      <th>126622</th>\n",
       "      <td>70.731842</td>\n",
       "      <td>0.318028</td>\n",
       "      <td>14.924600</td>\n",
       "      <td>1.599845</td>\n",
       "      <td>2.025365</td>\n",
       "      <td>0.065046</td>\n",
       "      <td>0.554741</td>\n",
       "      <td>1.338614</td>\n",
       "      <td>3.621177</td>\n",
       "      <td>4.077592</td>\n",
       "      <td>0.743148</td>\n",
       "    </tr>\n",
       "  </tbody>\n",
       "</table>\n",
       "<p>49861 rows × 11 columns</p>\n",
       "</div>"
      ],
      "text/plain": [
       "             SiO2      TiO2      Al2O3     Fe2O3       FeO       MnO  \\\n",
       "7431    70.169757  0.364318  15.208769  0.815537  2.535378  0.057258   \n",
       "7432    70.136994  0.365755  15.218807  0.820647  2.541740  0.057403   \n",
       "7433    70.102085  0.367273  15.229450  0.825746  2.548705  0.057561   \n",
       "7434    70.065027  0.368874  15.240687  0.830820  2.556279  0.057730   \n",
       "7435    70.025824  0.370556  15.252509  0.835860  2.564466  0.057911   \n",
       "...           ...       ...        ...       ...       ...       ...   \n",
       "126270  70.780122  0.315798  14.908608  1.592934  2.015031  0.064971   \n",
       "126271  70.741669  0.317464  14.921511  1.598063  2.023298  0.065096   \n",
       "126272  70.703570  0.319119  14.934199  1.603241  2.031456  0.065217   \n",
       "126273  70.665932  0.320760  14.946640  1.608452  2.039482  0.065334   \n",
       "126622  70.731842  0.318028  14.924600  1.599845  2.025365  0.065046   \n",
       "\n",
       "             MgO       CaO      Na2O       K2O       oth  \n",
       "7431    0.602557  1.777622  3.546316  4.164508  0.757979  \n",
       "7432    0.606876  1.787653  3.546100  4.158249  0.759776  \n",
       "7433    0.611545  1.798436  3.545863  4.151606  0.761732  \n",
       "7434    0.616571  1.809980  3.545601  4.144584  0.763847  \n",
       "7435    0.621958  1.822293  3.545314  4.137189  0.766121  \n",
       "...          ...       ...       ...       ...       ...  \n",
       "126270  0.549682  1.325033  3.622341  4.084271  0.741209  \n",
       "126271  0.554245  1.335613  3.621693  4.078165  0.743184  \n",
       "126272  0.558757  1.346127  3.621035  4.072166  0.745114  \n",
       "126273  0.563205  1.356543  3.620369  4.066288  0.746995  \n",
       "126622  0.554741  1.338614  3.621177  4.077592  0.743148  \n",
       "\n",
       "[49861 rows x 11 columns]"
      ]
     },
     "execution_count": 146,
     "metadata": {},
     "output_type": "execute_result"
    }
   ],
   "source": [
    "interpolated_reverse_clr.dropna()"
   ]
  },
  {
   "cell_type": "markdown",
   "metadata": {},
   "source": [
    "## QAPF maps\n",
    "____"
   ]
  },
  {
   "cell_type": "code",
   "execution_count": 82,
   "metadata": {},
   "outputs": [],
   "source": [
    "interpolated_mineralogy = pd.read_excel(\"../_CIPW/CIPW/AREA2a/qapf.xlsx\")"
   ]
  },
  {
   "cell_type": "code",
   "execution_count": 83,
   "metadata": {},
   "outputs": [],
   "source": [
    "interpolated_reverse_clr = pd.read_excel(\"../_CIPW/CIPW/AREA2a/interpolated_data.xlsx\")"
   ]
  },
  {
   "cell_type": "code",
   "execution_count": 84,
   "metadata": {},
   "outputs": [],
   "source": [
    "interpolated_mineralogy = interpolated_mineralogy.set_index(\" SAMPLE\")"
   ]
  },
  {
   "cell_type": "code",
   "execution_count": 85,
   "metadata": {},
   "outputs": [],
   "source": [
    "interpolated_mineralogy[\"QAPF_numbers\"] = interpolated_mineralogy[\"QAPF\"].map(qapf.QAPF_upper_regions_numbers)"
   ]
  },
  {
   "cell_type": "code",
   "execution_count": 86,
   "metadata": {},
   "outputs": [
    {
     "data": {
      "text/html": [
       "<div>\n",
       "<style scoped>\n",
       "    .dataframe tbody tr th:only-of-type {\n",
       "        vertical-align: middle;\n",
       "    }\n",
       "\n",
       "    .dataframe tbody tr th {\n",
       "        vertical-align: top;\n",
       "    }\n",
       "\n",
       "    .dataframe thead th {\n",
       "        text-align: right;\n",
       "    }\n",
       "</style>\n",
       "<table border=\"1\" class=\"dataframe\">\n",
       "  <thead>\n",
       "    <tr style=\"text-align: right;\">\n",
       "      <th></th>\n",
       "      <th>Q</th>\n",
       "      <th>P</th>\n",
       "      <th>K</th>\n",
       "      <th>QAPF</th>\n",
       "      <th>QAPF_numbers</th>\n",
       "    </tr>\n",
       "    <tr>\n",
       "      <th>SAMPLE</th>\n",
       "      <th></th>\n",
       "      <th></th>\n",
       "      <th></th>\n",
       "      <th></th>\n",
       "      <th></th>\n",
       "    </tr>\n",
       "  </thead>\n",
       "  <tbody>\n",
       "    <tr>\n",
       "      <th>12278</th>\n",
       "      <td>27.598455</td>\n",
       "      <td>35.987262</td>\n",
       "      <td>27.903727</td>\n",
       "      <td>monzo granite</td>\n",
       "      <td>5</td>\n",
       "    </tr>\n",
       "    <tr>\n",
       "      <th>12279</th>\n",
       "      <td>27.574537</td>\n",
       "      <td>36.019120</td>\n",
       "      <td>27.879010</td>\n",
       "      <td>monzo granite</td>\n",
       "      <td>5</td>\n",
       "    </tr>\n",
       "    <tr>\n",
       "      <th>12280</th>\n",
       "      <td>27.548782</td>\n",
       "      <td>36.053158</td>\n",
       "      <td>27.852874</td>\n",
       "      <td>monzo granite</td>\n",
       "      <td>5</td>\n",
       "    </tr>\n",
       "    <tr>\n",
       "      <th>12281</th>\n",
       "      <td>27.521280</td>\n",
       "      <td>36.089328</td>\n",
       "      <td>27.825303</td>\n",
       "      <td>monzo granite</td>\n",
       "      <td>5</td>\n",
       "    </tr>\n",
       "    <tr>\n",
       "      <th>12282</th>\n",
       "      <td>27.491844</td>\n",
       "      <td>36.127705</td>\n",
       "      <td>27.796365</td>\n",
       "      <td>monzo granite</td>\n",
       "      <td>5</td>\n",
       "    </tr>\n",
       "    <tr>\n",
       "      <th>...</th>\n",
       "      <td>...</td>\n",
       "      <td>...</td>\n",
       "      <td>...</td>\n",
       "      <td>...</td>\n",
       "      <td>...</td>\n",
       "    </tr>\n",
       "    <tr>\n",
       "      <th>209133</th>\n",
       "      <td>31.544332</td>\n",
       "      <td>32.201784</td>\n",
       "      <td>29.562720</td>\n",
       "      <td>monzo granite</td>\n",
       "      <td>5</td>\n",
       "    </tr>\n",
       "    <tr>\n",
       "      <th>209134</th>\n",
       "      <td>31.533775</td>\n",
       "      <td>32.216924</td>\n",
       "      <td>29.544563</td>\n",
       "      <td>monzo granite</td>\n",
       "      <td>5</td>\n",
       "    </tr>\n",
       "    <tr>\n",
       "      <th>209160</th>\n",
       "      <td>29.712883</td>\n",
       "      <td>34.435673</td>\n",
       "      <td>27.386555</td>\n",
       "      <td>monzo granite</td>\n",
       "      <td>5</td>\n",
       "    </tr>\n",
       "    <tr>\n",
       "      <th>209161</th>\n",
       "      <td>29.679110</td>\n",
       "      <td>34.472651</td>\n",
       "      <td>27.359001</td>\n",
       "      <td>monzo granite</td>\n",
       "      <td>5</td>\n",
       "    </tr>\n",
       "    <tr>\n",
       "      <th>209162</th>\n",
       "      <td>29.645607</td>\n",
       "      <td>34.509284</td>\n",
       "      <td>27.331785</td>\n",
       "      <td>monzo granite</td>\n",
       "      <td>5</td>\n",
       "    </tr>\n",
       "  </tbody>\n",
       "</table>\n",
       "<p>82516 rows × 5 columns</p>\n",
       "</div>"
      ],
      "text/plain": [
       "                 Q          P          K           QAPF  QAPF_numbers\n",
       " SAMPLE                                                              \n",
       "12278    27.598455  35.987262  27.903727  monzo granite             5\n",
       "12279    27.574537  36.019120  27.879010  monzo granite             5\n",
       "12280    27.548782  36.053158  27.852874  monzo granite             5\n",
       "12281    27.521280  36.089328  27.825303  monzo granite             5\n",
       "12282    27.491844  36.127705  27.796365  monzo granite             5\n",
       "...            ...        ...        ...            ...           ...\n",
       "209133   31.544332  32.201784  29.562720  monzo granite             5\n",
       "209134   31.533775  32.216924  29.544563  monzo granite             5\n",
       "209160   29.712883  34.435673  27.386555  monzo granite             5\n",
       "209161   29.679110  34.472651  27.359001  monzo granite             5\n",
       "209162   29.645607  34.509284  27.331785  monzo granite             5\n",
       "\n",
       "[82516 rows x 5 columns]"
      ]
     },
     "execution_count": 86,
     "metadata": {},
     "output_type": "execute_result"
    }
   ],
   "source": [
    "interpolated_mineralogy"
   ]
  },
  {
   "cell_type": "code",
   "execution_count": 87,
   "metadata": {},
   "outputs": [
    {
     "data": {
      "text/html": [
       "<div>\n",
       "<style scoped>\n",
       "    .dataframe tbody tr th:only-of-type {\n",
       "        vertical-align: middle;\n",
       "    }\n",
       "\n",
       "    .dataframe tbody tr th {\n",
       "        vertical-align: top;\n",
       "    }\n",
       "\n",
       "    .dataframe thead th {\n",
       "        text-align: right;\n",
       "    }\n",
       "</style>\n",
       "<table border=\"1\" class=\"dataframe\">\n",
       "  <thead>\n",
       "    <tr style=\"text-align: right;\">\n",
       "      <th></th>\n",
       "      <th>Q</th>\n",
       "      <th>P</th>\n",
       "      <th>K</th>\n",
       "      <th>QAPF</th>\n",
       "      <th>QAPF_numbers</th>\n",
       "    </tr>\n",
       "  </thead>\n",
       "  <tbody>\n",
       "    <tr>\n",
       "      <th>0</th>\n",
       "      <td>0.0</td>\n",
       "      <td>0.0</td>\n",
       "      <td>0.0</td>\n",
       "      <td>0</td>\n",
       "      <td>0.0</td>\n",
       "    </tr>\n",
       "    <tr>\n",
       "      <th>1</th>\n",
       "      <td>0.0</td>\n",
       "      <td>0.0</td>\n",
       "      <td>0.0</td>\n",
       "      <td>0</td>\n",
       "      <td>0.0</td>\n",
       "    </tr>\n",
       "    <tr>\n",
       "      <th>2</th>\n",
       "      <td>0.0</td>\n",
       "      <td>0.0</td>\n",
       "      <td>0.0</td>\n",
       "      <td>0</td>\n",
       "      <td>0.0</td>\n",
       "    </tr>\n",
       "    <tr>\n",
       "      <th>3</th>\n",
       "      <td>0.0</td>\n",
       "      <td>0.0</td>\n",
       "      <td>0.0</td>\n",
       "      <td>0</td>\n",
       "      <td>0.0</td>\n",
       "    </tr>\n",
       "    <tr>\n",
       "      <th>4</th>\n",
       "      <td>0.0</td>\n",
       "      <td>0.0</td>\n",
       "      <td>0.0</td>\n",
       "      <td>0</td>\n",
       "      <td>0.0</td>\n",
       "    </tr>\n",
       "    <tr>\n",
       "      <th>...</th>\n",
       "      <td>...</td>\n",
       "      <td>...</td>\n",
       "      <td>...</td>\n",
       "      <td>...</td>\n",
       "      <td>...</td>\n",
       "    </tr>\n",
       "    <tr>\n",
       "      <th>216051</th>\n",
       "      <td>0.0</td>\n",
       "      <td>0.0</td>\n",
       "      <td>0.0</td>\n",
       "      <td>0</td>\n",
       "      <td>0.0</td>\n",
       "    </tr>\n",
       "    <tr>\n",
       "      <th>216052</th>\n",
       "      <td>0.0</td>\n",
       "      <td>0.0</td>\n",
       "      <td>0.0</td>\n",
       "      <td>0</td>\n",
       "      <td>0.0</td>\n",
       "    </tr>\n",
       "    <tr>\n",
       "      <th>216053</th>\n",
       "      <td>0.0</td>\n",
       "      <td>0.0</td>\n",
       "      <td>0.0</td>\n",
       "      <td>0</td>\n",
       "      <td>0.0</td>\n",
       "    </tr>\n",
       "    <tr>\n",
       "      <th>216054</th>\n",
       "      <td>0.0</td>\n",
       "      <td>0.0</td>\n",
       "      <td>0.0</td>\n",
       "      <td>0</td>\n",
       "      <td>0.0</td>\n",
       "    </tr>\n",
       "    <tr>\n",
       "      <th>216055</th>\n",
       "      <td>0.0</td>\n",
       "      <td>0.0</td>\n",
       "      <td>0.0</td>\n",
       "      <td>0</td>\n",
       "      <td>0.0</td>\n",
       "    </tr>\n",
       "  </tbody>\n",
       "</table>\n",
       "<p>216056 rows × 5 columns</p>\n",
       "</div>"
      ],
      "text/plain": [
       "          Q    P    K QAPF  QAPF_numbers\n",
       "0       0.0  0.0  0.0    0           0.0\n",
       "1       0.0  0.0  0.0    0           0.0\n",
       "2       0.0  0.0  0.0    0           0.0\n",
       "3       0.0  0.0  0.0    0           0.0\n",
       "4       0.0  0.0  0.0    0           0.0\n",
       "...     ...  ...  ...  ...           ...\n",
       "216051  0.0  0.0  0.0    0           0.0\n",
       "216052  0.0  0.0  0.0    0           0.0\n",
       "216053  0.0  0.0  0.0    0           0.0\n",
       "216054  0.0  0.0  0.0    0           0.0\n",
       "216055  0.0  0.0  0.0    0           0.0\n",
       "\n",
       "[216056 rows x 5 columns]"
      ]
     },
     "execution_count": 87,
     "metadata": {},
     "output_type": "execute_result"
    }
   ],
   "source": [
    "interpolated_mineralogy_QAPF = pd.merge(interpolated_reverse_clr, interpolated_mineralogy, \n",
    "                                        left_index=True, right_index=True, how='outer')\\\n",
    "                                 .drop(interpolated_reverse_clr.columns, axis=1)\n",
    "\n",
    "interpolated_mineralogy_QAPF = interpolated_mineralogy_QAPF.fillna(0)\n",
    "interpolated_mineralogy_QAPF"
   ]
  },
  {
   "cell_type": "code",
   "execution_count": 88,
   "metadata": {},
   "outputs": [],
   "source": [
    "interpolated_mineralogy_QAPF_reshape = np.reshape(interpolated_mineralogy_QAPF[\"QAPF_numbers\"].values, (grid[1].shape[0], grid[0].shape[0]))"
   ]
  },
  {
   "cell_type": "code",
   "execution_count": 89,
   "metadata": {},
   "outputs": [
    {
     "data": {
      "text/plain": [
       "[5.0, 6.0, 11.0]"
      ]
     },
     "execution_count": 89,
     "metadata": {},
     "output_type": "execute_result"
    }
   ],
   "source": [
    "values_to_plot = list(np.sort(interpolated_mineralogy_QAPF[\"QAPF_numbers\"].unique()))[1:]\n",
    "values_to_plot"
   ]
  },
  {
   "cell_type": "code",
   "execution_count": 90,
   "metadata": {},
   "outputs": [],
   "source": [
    "# Need to have correct excel file with area's control points' CIPW-QAPF classification\n",
    "mineralogy_QAPF = pd.read_excel(\"../_CIPW/CIPW/AREA2a/QAPF_control_points.xlsx\", index_col=0)"
   ]
  },
  {
   "cell_type": "code",
   "execution_count": 91,
   "metadata": {},
   "outputs": [],
   "source": [
    "QAPF_to_plot = pd.merge(coordinates_utm, mineralogy_QAPF[[\"QAPF\"]], left_index=True, right_index=True)"
   ]
  },
  {
   "cell_type": "code",
   "execution_count": 92,
   "metadata": {},
   "outputs": [
    {
     "data": {
      "image/png": "[encoded data removed]",
      "text/plain": [
       "<Figure size 432x288 with 1 Axes>"
      ]
     },
     "metadata": {},
     "output_type": "display_data"
    }
   ],
   "source": [
    "plots.plot_contour_map_interpolated_QAPF(interpolated_mineralogy_QAPF_reshape, grid, QAPF_to_plot, f\"{group_name}\", values_to_plot=values_to_plot,\n",
    "                                         skip_xaxis_label=2, skip_yaxis_label=2, skip_xaxis_start=1, skip_yaxis_start=1, show_qapf_control_points=True)"
   ]
  },
  {
   "cell_type": "code",
   "execution_count": 93,
   "metadata": {},
   "outputs": [
    {
     "data": {
      "image/png": "[encoded data removed]",
      "text/plain": [
       "<Figure size 432x288 with 1 Axes>"
      ]
     },
     "metadata": {},
     "output_type": "display_data"
    }
   ],
   "source": [
    "plots.plot_contour_map_interpolated_QAPF(interpolated_mineralogy_QAPF_reshape, grid, QAPF_to_plot, f\"{group_name}\", values_to_plot=values_to_plot,\n",
    "                                         skip_xaxis_label=2, skip_yaxis_label=2, skip_xaxis_start=1, skip_yaxis_start=1, show_qapf_control_points=False, no_legend=True)"
   ]
  },
  {
   "cell_type": "code",
   "execution_count": null,
   "metadata": {},
   "outputs": [],
   "source": []
  },
  {
   "cell_type": "markdown",
   "metadata": {},
   "source": [
    "## Cluster analysis maps"
   ]
  },
  {
   "cell_type": "markdown",
   "metadata": {},
   "source": [
    "### All components"
   ]
  },
  {
   "cell_type": "code",
   "execution_count": 25,
   "metadata": {},
   "outputs": [],
   "source": [
    "array = pd.read_excel(\"../_CLUSTER/groups_time_area/interpolation/Area2a/cluster_control_points.xlsx\", index=0, usecols=[1])\n",
    "interpolated_reverse_clr = pd.read_excel(\"../_CIPW/CIPW/AREA2a/interpolated_data.xlsx\")\n",
    "area2a_int_df = preproc.load_obj(\"area2a_int_df\")"
   ]
  },
  {
   "cell_type": "code",
   "execution_count": 27,
   "metadata": {},
   "outputs": [
    {
     "data": {
      "text/html": [
       "<div>\n",
       "<style scoped>\n",
       "    .dataframe tbody tr th:only-of-type {\n",
       "        vertical-align: middle;\n",
       "    }\n",
       "\n",
       "    .dataframe tbody tr th {\n",
       "        vertical-align: top;\n",
       "    }\n",
       "\n",
       "    .dataframe thead th {\n",
       "        text-align: right;\n",
       "    }\n",
       "</style>\n",
       "<table border=\"1\" class=\"dataframe\">\n",
       "  <thead>\n",
       "    <tr style=\"text-align: right;\">\n",
       "      <th></th>\n",
       "      <th>PC01</th>\n",
       "      <th>PC02</th>\n",
       "      <th>PC03</th>\n",
       "      <th>PC04</th>\n",
       "      <th>PC05</th>\n",
       "      <th>PC06</th>\n",
       "      <th>PC07</th>\n",
       "      <th>PC08</th>\n",
       "      <th>PC09</th>\n",
       "      <th>PC10</th>\n",
       "    </tr>\n",
       "  </thead>\n",
       "  <tbody>\n",
       "    <tr>\n",
       "      <th>7431</th>\n",
       "      <td>-0.008096</td>\n",
       "      <td>0.385552</td>\n",
       "      <td>-0.048256</td>\n",
       "      <td>-7.877876e-16</td>\n",
       "      <td>3.258096e-18</td>\n",
       "      <td>1.816809e-16</td>\n",
       "      <td>-1.631695e-16</td>\n",
       "      <td>-1.916457e-16</td>\n",
       "      <td>1.312121e-16</td>\n",
       "      <td>1.074816e-16</td>\n",
       "    </tr>\n",
       "    <tr>\n",
       "      <th>7432</th>\n",
       "      <td>-0.015158</td>\n",
       "      <td>0.380568</td>\n",
       "      <td>-0.050942</td>\n",
       "      <td>-1.178708e-15</td>\n",
       "      <td>2.525962e-16</td>\n",
       "      <td>-1.445052e-16</td>\n",
       "      <td>-1.403845e-17</td>\n",
       "      <td>-2.579701e-16</td>\n",
       "      <td>2.738796e-16</td>\n",
       "      <td>-5.707783e-18</td>\n",
       "    </tr>\n",
       "    <tr>\n",
       "      <th>7433</th>\n",
       "      <td>-0.022820</td>\n",
       "      <td>0.375572</td>\n",
       "      <td>-0.053497</td>\n",
       "      <td>-3.164760e-16</td>\n",
       "      <td>-8.622545e-17</td>\n",
       "      <td>-6.176908e-16</td>\n",
       "      <td>-7.559643e-17</td>\n",
       "      <td>-2.677997e-17</td>\n",
       "      <td>6.147118e-17</td>\n",
       "      <td>-1.234473e-16</td>\n",
       "    </tr>\n",
       "    <tr>\n",
       "      <th>7434</th>\n",
       "      <td>-0.031080</td>\n",
       "      <td>0.370576</td>\n",
       "      <td>-0.055911</td>\n",
       "      <td>5.926863e-17</td>\n",
       "      <td>-3.817237e-17</td>\n",
       "      <td>-4.059252e-16</td>\n",
       "      <td>-1.739658e-17</td>\n",
       "      <td>5.226838e-17</td>\n",
       "      <td>-2.419972e-16</td>\n",
       "      <td>-1.850179e-16</td>\n",
       "    </tr>\n",
       "    <tr>\n",
       "      <th>7435</th>\n",
       "      <td>-0.039937</td>\n",
       "      <td>0.365588</td>\n",
       "      <td>-0.058179</td>\n",
       "      <td>-5.674224e-16</td>\n",
       "      <td>-1.291990e-16</td>\n",
       "      <td>-3.305764e-16</td>\n",
       "      <td>8.282038e-17</td>\n",
       "      <td>3.489020e-16</td>\n",
       "      <td>-8.814998e-17</td>\n",
       "      <td>1.577516e-16</td>\n",
       "    </tr>\n",
       "    <tr>\n",
       "      <th>...</th>\n",
       "      <td>...</td>\n",
       "      <td>...</td>\n",
       "      <td>...</td>\n",
       "      <td>...</td>\n",
       "      <td>...</td>\n",
       "      <td>...</td>\n",
       "      <td>...</td>\n",
       "      <td>...</td>\n",
       "      <td>...</td>\n",
       "      <td>...</td>\n",
       "    </tr>\n",
       "    <tr>\n",
       "      <th>126270</th>\n",
       "      <td>0.391564</td>\n",
       "      <td>-0.274296</td>\n",
       "      <td>-0.243824</td>\n",
       "      <td>-1.939091e-16</td>\n",
       "      <td>-1.133038e-16</td>\n",
       "      <td>3.640794e-17</td>\n",
       "      <td>-3.512496e-16</td>\n",
       "      <td>-2.442475e-16</td>\n",
       "      <td>6.526597e-17</td>\n",
       "      <td>4.227203e-17</td>\n",
       "    </tr>\n",
       "    <tr>\n",
       "      <th>126271</th>\n",
       "      <td>0.381569</td>\n",
       "      <td>-0.275976</td>\n",
       "      <td>-0.245940</td>\n",
       "      <td>-1.962836e-17</td>\n",
       "      <td>1.634176e-16</td>\n",
       "      <td>-1.172850e-16</td>\n",
       "      <td>2.213132e-16</td>\n",
       "      <td>-3.814906e-16</td>\n",
       "      <td>2.205772e-16</td>\n",
       "      <td>-5.241572e-17</td>\n",
       "    </tr>\n",
       "    <tr>\n",
       "      <th>126272</th>\n",
       "      <td>0.371750</td>\n",
       "      <td>-0.277653</td>\n",
       "      <td>-0.248107</td>\n",
       "      <td>-6.217471e-16</td>\n",
       "      <td>-2.493144e-16</td>\n",
       "      <td>-4.744138e-17</td>\n",
       "      <td>1.231999e-16</td>\n",
       "      <td>-5.677189e-17</td>\n",
       "      <td>-1.179525e-16</td>\n",
       "      <td>2.774538e-16</td>\n",
       "    </tr>\n",
       "    <tr>\n",
       "      <th>126273</th>\n",
       "      <td>0.362130</td>\n",
       "      <td>-0.279324</td>\n",
       "      <td>-0.250317</td>\n",
       "      <td>-6.841537e-16</td>\n",
       "      <td>-4.932746e-17</td>\n",
       "      <td>-3.170661e-16</td>\n",
       "      <td>-2.846246e-17</td>\n",
       "      <td>2.663347e-16</td>\n",
       "      <td>2.586743e-17</td>\n",
       "      <td>-2.307437e-17</td>\n",
       "    </tr>\n",
       "    <tr>\n",
       "      <th>126622</th>\n",
       "      <td>0.379595</td>\n",
       "      <td>-0.275644</td>\n",
       "      <td>-0.248009</td>\n",
       "      <td>-1.305448e-15</td>\n",
       "      <td>-4.979018e-16</td>\n",
       "      <td>4.698477e-17</td>\n",
       "      <td>-5.548902e-16</td>\n",
       "      <td>7.227517e-17</td>\n",
       "      <td>-1.145688e-16</td>\n",
       "      <td>-1.442185e-16</td>\n",
       "    </tr>\n",
       "  </tbody>\n",
       "</table>\n",
       "<p>49861 rows × 10 columns</p>\n",
       "</div>"
      ],
      "text/plain": [
       "            PC01      PC02      PC03          PC04          PC05  \\\n",
       "7431   -0.008096  0.385552 -0.048256 -7.877876e-16  3.258096e-18   \n",
       "7432   -0.015158  0.380568 -0.050942 -1.178708e-15  2.525962e-16   \n",
       "7433   -0.022820  0.375572 -0.053497 -3.164760e-16 -8.622545e-17   \n",
       "7434   -0.031080  0.370576 -0.055911  5.926863e-17 -3.817237e-17   \n",
       "7435   -0.039937  0.365588 -0.058179 -5.674224e-16 -1.291990e-16   \n",
       "...          ...       ...       ...           ...           ...   \n",
       "126270  0.391564 -0.274296 -0.243824 -1.939091e-16 -1.133038e-16   \n",
       "126271  0.381569 -0.275976 -0.245940 -1.962836e-17  1.634176e-16   \n",
       "126272  0.371750 -0.277653 -0.248107 -6.217471e-16 -2.493144e-16   \n",
       "126273  0.362130 -0.279324 -0.250317 -6.841537e-16 -4.932746e-17   \n",
       "126622  0.379595 -0.275644 -0.248009 -1.305448e-15 -4.979018e-16   \n",
       "\n",
       "                PC06          PC07          PC08          PC09          PC10  \n",
       "7431    1.816809e-16 -1.631695e-16 -1.916457e-16  1.312121e-16  1.074816e-16  \n",
       "7432   -1.445052e-16 -1.403845e-17 -2.579701e-16  2.738796e-16 -5.707783e-18  \n",
       "7433   -6.176908e-16 -7.559643e-17 -2.677997e-17  6.147118e-17 -1.234473e-16  \n",
       "7434   -4.059252e-16 -1.739658e-17  5.226838e-17 -2.419972e-16 -1.850179e-16  \n",
       "7435   -3.305764e-16  8.282038e-17  3.489020e-16 -8.814998e-17  1.577516e-16  \n",
       "...              ...           ...           ...           ...           ...  \n",
       "126270  3.640794e-17 -3.512496e-16 -2.442475e-16  6.526597e-17  4.227203e-17  \n",
       "126271 -1.172850e-16  2.213132e-16 -3.814906e-16  2.205772e-16 -5.241572e-17  \n",
       "126272 -4.744138e-17  1.231999e-16 -5.677189e-17 -1.179525e-16  2.774538e-16  \n",
       "126273 -3.170661e-16 -2.846246e-17  2.663347e-16  2.586743e-17 -2.307437e-17  \n",
       "126622  4.698477e-17 -5.548902e-16  7.227517e-17 -1.145688e-16 -1.442185e-16  \n",
       "\n",
       "[49861 rows x 10 columns]"
      ]
     },
     "execution_count": 27,
     "metadata": {},
     "output_type": "execute_result"
    }
   ],
   "source": [
    "area2a_int_df"
   ]
  },
  {
   "cell_type": "code",
   "execution_count": 28,
   "metadata": {},
   "outputs": [],
   "source": [
    "array.columns = ['group']"
   ]
  },
  {
   "cell_type": "code",
   "execution_count": 29,
   "metadata": {},
   "outputs": [
    {
     "data": {
      "text/html": [
       "<div>\n",
       "<style scoped>\n",
       "    .dataframe tbody tr th:only-of-type {\n",
       "        vertical-align: middle;\n",
       "    }\n",
       "\n",
       "    .dataframe tbody tr th {\n",
       "        vertical-align: top;\n",
       "    }\n",
       "\n",
       "    .dataframe thead th {\n",
       "        text-align: right;\n",
       "    }\n",
       "</style>\n",
       "<table border=\"1\" class=\"dataframe\">\n",
       "  <thead>\n",
       "    <tr style=\"text-align: right;\">\n",
       "      <th></th>\n",
       "      <th>group</th>\n",
       "    </tr>\n",
       "  </thead>\n",
       "  <tbody>\n",
       "    <tr>\n",
       "      <th>0</th>\n",
       "      <td>0</td>\n",
       "    </tr>\n",
       "    <tr>\n",
       "      <th>1</th>\n",
       "      <td>0</td>\n",
       "    </tr>\n",
       "    <tr>\n",
       "      <th>2</th>\n",
       "      <td>0</td>\n",
       "    </tr>\n",
       "    <tr>\n",
       "      <th>3</th>\n",
       "      <td>0</td>\n",
       "    </tr>\n",
       "    <tr>\n",
       "      <th>4</th>\n",
       "      <td>0</td>\n",
       "    </tr>\n",
       "    <tr>\n",
       "      <th>...</th>\n",
       "      <td>...</td>\n",
       "    </tr>\n",
       "    <tr>\n",
       "      <th>49856</th>\n",
       "      <td>0</td>\n",
       "    </tr>\n",
       "    <tr>\n",
       "      <th>49857</th>\n",
       "      <td>0</td>\n",
       "    </tr>\n",
       "    <tr>\n",
       "      <th>49858</th>\n",
       "      <td>0</td>\n",
       "    </tr>\n",
       "    <tr>\n",
       "      <th>49859</th>\n",
       "      <td>0</td>\n",
       "    </tr>\n",
       "    <tr>\n",
       "      <th>49860</th>\n",
       "      <td>0</td>\n",
       "    </tr>\n",
       "  </tbody>\n",
       "</table>\n",
       "<p>49861 rows × 1 columns</p>\n",
       "</div>"
      ],
      "text/plain": [
       "       group\n",
       "0          0\n",
       "1          0\n",
       "2          0\n",
       "3          0\n",
       "4          0\n",
       "...      ...\n",
       "49856      0\n",
       "49857      0\n",
       "49858      0\n",
       "49859      0\n",
       "49860      0\n",
       "\n",
       "[49861 rows x 1 columns]"
      ]
     },
     "execution_count": 29,
     "metadata": {},
     "output_type": "execute_result"
    }
   ],
   "source": [
    "array"
   ]
  },
  {
   "cell_type": "code",
   "execution_count": 30,
   "metadata": {},
   "outputs": [],
   "source": [
    "area2a_int_df['group'] = array['group'].values"
   ]
  },
  {
   "cell_type": "code",
   "execution_count": 31,
   "metadata": {},
   "outputs": [],
   "source": [
    "interpolation_array = area2a_int_df.iloc[: ,10]"
   ]
  },
  {
   "cell_type": "code",
   "execution_count": 32,
   "metadata": {},
   "outputs": [],
   "source": [
    "interpolation_array = pd.DataFrame(interpolation_array)\n",
    "interpolation_array = interpolation_array.dropna()\n",
    "interpolation_array = interpolation_array +2"
   ]
  },
  {
   "cell_type": "code",
   "execution_count": 33,
   "metadata": {},
   "outputs": [
    {
     "data": {
      "text/html": [
       "<div>\n",
       "<style scoped>\n",
       "    .dataframe tbody tr th:only-of-type {\n",
       "        vertical-align: middle;\n",
       "    }\n",
       "\n",
       "    .dataframe tbody tr th {\n",
       "        vertical-align: top;\n",
       "    }\n",
       "\n",
       "    .dataframe thead th {\n",
       "        text-align: right;\n",
       "    }\n",
       "</style>\n",
       "<table border=\"1\" class=\"dataframe\">\n",
       "  <thead>\n",
       "    <tr style=\"text-align: right;\">\n",
       "      <th></th>\n",
       "      <th>group</th>\n",
       "    </tr>\n",
       "  </thead>\n",
       "  <tbody>\n",
       "    <tr>\n",
       "      <th>7431</th>\n",
       "      <td>2</td>\n",
       "    </tr>\n",
       "    <tr>\n",
       "      <th>7432</th>\n",
       "      <td>2</td>\n",
       "    </tr>\n",
       "    <tr>\n",
       "      <th>7433</th>\n",
       "      <td>2</td>\n",
       "    </tr>\n",
       "    <tr>\n",
       "      <th>7434</th>\n",
       "      <td>2</td>\n",
       "    </tr>\n",
       "    <tr>\n",
       "      <th>7435</th>\n",
       "      <td>2</td>\n",
       "    </tr>\n",
       "    <tr>\n",
       "      <th>...</th>\n",
       "      <td>...</td>\n",
       "    </tr>\n",
       "    <tr>\n",
       "      <th>126270</th>\n",
       "      <td>2</td>\n",
       "    </tr>\n",
       "    <tr>\n",
       "      <th>126271</th>\n",
       "      <td>2</td>\n",
       "    </tr>\n",
       "    <tr>\n",
       "      <th>126272</th>\n",
       "      <td>2</td>\n",
       "    </tr>\n",
       "    <tr>\n",
       "      <th>126273</th>\n",
       "      <td>2</td>\n",
       "    </tr>\n",
       "    <tr>\n",
       "      <th>126622</th>\n",
       "      <td>2</td>\n",
       "    </tr>\n",
       "  </tbody>\n",
       "</table>\n",
       "<p>49861 rows × 1 columns</p>\n",
       "</div>"
      ],
      "text/plain": [
       "        group\n",
       "7431        2\n",
       "7432        2\n",
       "7433        2\n",
       "7434        2\n",
       "7435        2\n",
       "...       ...\n",
       "126270      2\n",
       "126271      2\n",
       "126272      2\n",
       "126273      2\n",
       "126622      2\n",
       "\n",
       "[49861 rows x 1 columns]"
      ]
     },
     "execution_count": 33,
     "metadata": {},
     "output_type": "execute_result"
    }
   ],
   "source": [
    "interpolation_array"
   ]
  },
  {
   "cell_type": "code",
   "execution_count": 34,
   "metadata": {},
   "outputs": [
    {
     "data": {
      "text/html": [
       "<div>\n",
       "<style scoped>\n",
       "    .dataframe tbody tr th:only-of-type {\n",
       "        vertical-align: middle;\n",
       "    }\n",
       "\n",
       "    .dataframe tbody tr th {\n",
       "        vertical-align: top;\n",
       "    }\n",
       "\n",
       "    .dataframe thead th {\n",
       "        text-align: right;\n",
       "    }\n",
       "</style>\n",
       "<table border=\"1\" class=\"dataframe\">\n",
       "  <thead>\n",
       "    <tr style=\"text-align: right;\">\n",
       "      <th></th>\n",
       "      <th>group</th>\n",
       "    </tr>\n",
       "  </thead>\n",
       "  <tbody>\n",
       "    <tr>\n",
       "      <th>0</th>\n",
       "      <td>0.0</td>\n",
       "    </tr>\n",
       "    <tr>\n",
       "      <th>1</th>\n",
       "      <td>0.0</td>\n",
       "    </tr>\n",
       "    <tr>\n",
       "      <th>2</th>\n",
       "      <td>0.0</td>\n",
       "    </tr>\n",
       "    <tr>\n",
       "      <th>3</th>\n",
       "      <td>0.0</td>\n",
       "    </tr>\n",
       "    <tr>\n",
       "      <th>4</th>\n",
       "      <td>0.0</td>\n",
       "    </tr>\n",
       "    <tr>\n",
       "      <th>...</th>\n",
       "      <td>...</td>\n",
       "    </tr>\n",
       "    <tr>\n",
       "      <th>130567</th>\n",
       "      <td>0.0</td>\n",
       "    </tr>\n",
       "    <tr>\n",
       "      <th>130568</th>\n",
       "      <td>0.0</td>\n",
       "    </tr>\n",
       "    <tr>\n",
       "      <th>130569</th>\n",
       "      <td>0.0</td>\n",
       "    </tr>\n",
       "    <tr>\n",
       "      <th>130570</th>\n",
       "      <td>0.0</td>\n",
       "    </tr>\n",
       "    <tr>\n",
       "      <th>130571</th>\n",
       "      <td>0.0</td>\n",
       "    </tr>\n",
       "  </tbody>\n",
       "</table>\n",
       "<p>130572 rows × 1 columns</p>\n",
       "</div>"
      ],
      "text/plain": [
       "        group\n",
       "0         0.0\n",
       "1         0.0\n",
       "2         0.0\n",
       "3         0.0\n",
       "4         0.0\n",
       "...       ...\n",
       "130567    0.0\n",
       "130568    0.0\n",
       "130569    0.0\n",
       "130570    0.0\n",
       "130571    0.0\n",
       "\n",
       "[130572 rows x 1 columns]"
      ]
     },
     "execution_count": 34,
     "metadata": {},
     "output_type": "execute_result"
    }
   ],
   "source": [
    "interpolation_array_map = pd.merge(interpolated_reverse_clr, interpolation_array, \n",
    "                                        left_index=True, right_index=True, how='outer')\\\n",
    "                                 .drop(interpolated_reverse_clr.columns, axis=1)\n",
    "\n",
    "interpolation_array_map = interpolation_array_map.fillna(0)\n",
    "interpolation_array_map"
   ]
  },
  {
   "cell_type": "code",
   "execution_count": 35,
   "metadata": {},
   "outputs": [],
   "source": [
    "interpolation_array_map_reshape = np.reshape(interpolation_array_map[\"group\"].values, (grid[1].shape[0], grid[0].shape[0]))"
   ]
  },
  {
   "cell_type": "code",
   "execution_count": 36,
   "metadata": {},
   "outputs": [
    {
     "data": {
      "text/plain": [
       "[2.0, 3.0]"
      ]
     },
     "execution_count": 36,
     "metadata": {},
     "output_type": "execute_result"
    }
   ],
   "source": [
    "values_to_plot = list(np.sort(interpolation_array_map[\"group\"].unique()))[1:]\n",
    "values_to_plot"
   ]
  },
  {
   "cell_type": "code",
   "execution_count": 37,
   "metadata": {},
   "outputs": [],
   "source": [
    "mineralogy_QAPF = pd.read_excel(\"../_CIPW/CIPW/AREA2a/QAPF_control_points.xlsx\", index_col=0)"
   ]
  },
  {
   "cell_type": "code",
   "execution_count": 38,
   "metadata": {},
   "outputs": [],
   "source": [
    "control_points_cluster = pd.merge(coordinates_utm, mineralogy_QAPF[[\"QAPF\"]], \n",
    "                                  left_index=True, right_index=True)"
   ]
  },
  {
   "cell_type": "code",
   "execution_count": 39,
   "metadata": {},
   "outputs": [
    {
     "data": {
      "image/png": "[encoded data removed]",
      "text/plain": [
       "<Figure size 432x288 with 1 Axes>"
      ]
     },
     "metadata": {},
     "output_type": "display_data"
    }
   ],
   "source": [
    "plots.plot_contour_map_interpolated_cluster(interpolation_array_map_reshape, grid, control_points_cluster, f\"{group_name}\", values_to_plot=values_to_plot,\n",
    "                                         skip_xaxis_label=2, skip_yaxis_label=2, skip_xaxis_start=1, skip_yaxis_start=1, show_qapf_control_points=False, no_legend=False)"
   ]
  },
  {
   "cell_type": "code",
   "execution_count": null,
   "metadata": {},
   "outputs": [],
   "source": []
  },
  {
   "cell_type": "markdown",
   "metadata": {},
   "source": [
    "## Biplots\n",
    "____"
   ]
  },
  {
   "cell_type": "markdown",
   "metadata": {},
   "source": [
    "Not relevant for now"
   ]
  },
  {
   "cell_type": "markdown",
   "metadata": {},
   "source": [
    "## Simulations\n",
    "____"
   ]
  },
  {
   "cell_type": "markdown",
   "metadata": {},
   "source": [
    "Not relevant for now"
   ]
  },
  {
   "cell_type": "markdown",
   "metadata": {},
   "source": [
    "## Error budget\n",
    "____"
   ]
  },
  {
   "cell_type": "code",
   "execution_count": 147,
   "metadata": {},
   "outputs": [],
   "source": [
    "# A = Variance of kriging surface\n",
    "# B = mean squared prediction error (MSPE)\n",
    "# C = Sum of nugget\n",
    "# D = Total variance based on simulation (not yet available)\n",
    "# E = Variance of original data set\n",
    "\n",
    "error_budget = {}\n",
    "\n",
    "for radius in search_radii:\n",
    "    for ncomp in range(1, len(components_to_use) + 1):\n",
    "        A = var_OK[:ncomp].sum()\n",
    "        B = np.mean(np.sum(residuals_clr[f\"{ncomp}_{radius}\"] ** 2, axis=1), axis=0) # MSPE\n",
    "        C = np.array(nugget_)[:ncomp].sum()\n",
    "        D = np.nan\n",
    "        E = mineralogy_clr.var(axis=0).sum()\n",
    "        \n",
    "\n",
    "        error_budget[f\"{ncomp}_{radius}\"] = [A, B, C, D, E]"
   ]
  },
  {
   "cell_type": "code",
   "execution_count": 148,
   "metadata": {},
   "outputs": [
    {
     "data": {
      "text/html": [
       "<div>\n",
       "<style scoped>\n",
       "    .dataframe tbody tr th:only-of-type {\n",
       "        vertical-align: middle;\n",
       "    }\n",
       "\n",
       "    .dataframe tbody tr th {\n",
       "        vertical-align: top;\n",
       "    }\n",
       "\n",
       "    .dataframe thead th {\n",
       "        text-align: right;\n",
       "    }\n",
       "</style>\n",
       "<table border=\"1\" class=\"dataframe\">\n",
       "  <thead>\n",
       "    <tr style=\"text-align: right;\">\n",
       "      <th></th>\n",
       "      <th>search_radius</th>\n",
       "      <th>#PCs</th>\n",
       "      <th>VAR(OK)</th>\n",
       "      <th>MSPE</th>\n",
       "      <th>S_nugget</th>\n",
       "      <th>VAR(TOTAL)</th>\n",
       "      <th>VAR(DATA)</th>\n",
       "    </tr>\n",
       "  </thead>\n",
       "  <tbody>\n",
       "    <tr>\n",
       "      <th>0</th>\n",
       "      <td>25000</td>\n",
       "      <td>1</td>\n",
       "      <td>0.313042</td>\n",
       "      <td>2.995406</td>\n",
       "      <td>0.70280</td>\n",
       "      <td>NaN</td>\n",
       "      <td>3.226397</td>\n",
       "    </tr>\n",
       "    <tr>\n",
       "      <th>1</th>\n",
       "      <td>25000</td>\n",
       "      <td>2</td>\n",
       "      <td>0.382503</td>\n",
       "      <td>2.947685</td>\n",
       "      <td>0.92720</td>\n",
       "      <td>NaN</td>\n",
       "      <td>3.226397</td>\n",
       "    </tr>\n",
       "    <tr>\n",
       "      <th>2</th>\n",
       "      <td>25000</td>\n",
       "      <td>3</td>\n",
       "      <td>0.440103</td>\n",
       "      <td>2.900723</td>\n",
       "      <td>1.10794</td>\n",
       "      <td>NaN</td>\n",
       "      <td>3.226397</td>\n",
       "    </tr>\n",
       "  </tbody>\n",
       "</table>\n",
       "</div>"
      ],
      "text/plain": [
       "   search_radius  #PCs   VAR(OK)      MSPE  S_nugget  VAR(TOTAL)  VAR(DATA)\n",
       "0          25000     1  0.313042  2.995406   0.70280         NaN   3.226397\n",
       "1          25000     2  0.382503  2.947685   0.92720         NaN   3.226397\n",
       "2          25000     3  0.440103  2.900723   1.10794         NaN   3.226397"
      ]
     },
     "execution_count": 148,
     "metadata": {},
     "output_type": "execute_result"
    }
   ],
   "source": [
    "error_budget_df = \\\n",
    "    ttest.convert_summary_test_results_to_df(error_budget, \n",
    "                                             variable_names=[\"VAR(OK)\",\n",
    "                                                             \"MSPE\", \n",
    "                                                             \"S_nugget\", # Sum of nuggets\n",
    "                                                             \"VAR(TOTAL)\",\n",
    "                                                             \"VAR(DATA)\"], \n",
    "                                             order=[\"search_radius\", \n",
    "                                                    \"#PCs\"])\n",
    "error_budget_df"
   ]
  },
  {
   "cell_type": "code",
   "execution_count": 149,
   "metadata": {},
   "outputs": [],
   "source": [
    "error_budget_df.to_excel(f\"../_RESULTS/Error_budget/error_budget_{group_name}.xlsx\")"
   ]
  },
  {
   "cell_type": "markdown",
   "metadata": {},
   "source": [
    "------"
   ]
  },
  {
   "cell_type": "markdown",
   "metadata": {},
   "source": [
    "## variance for each time class"
   ]
  },
  {
   "cell_type": "code",
   "execution_count": 150,
   "metadata": {},
   "outputs": [
    {
     "data": {
      "text/html": [
       "<div>\n",
       "<style scoped>\n",
       "    .dataframe tbody tr th:only-of-type {\n",
       "        vertical-align: middle;\n",
       "    }\n",
       "\n",
       "    .dataframe tbody tr th {\n",
       "        vertical-align: top;\n",
       "    }\n",
       "\n",
       "    .dataframe thead th {\n",
       "        text-align: right;\n",
       "    }\n",
       "</style>\n",
       "<table border=\"1\" class=\"dataframe\">\n",
       "  <thead>\n",
       "    <tr style=\"text-align: right;\">\n",
       "      <th></th>\n",
       "      <th>type_granite</th>\n",
       "      <th>time</th>\n",
       "      <th>massif</th>\n",
       "      <th>sampler</th>\n",
       "      <th>others</th>\n",
       "      <th>sampler+year</th>\n",
       "    </tr>\n",
       "  </thead>\n",
       "  <tbody>\n",
       "    <tr>\n",
       "      <th>47</th>\n",
       "      <td>Granite</td>\n",
       "      <td>Pg</td>\n",
       "      <td>Vayga massif</td>\n",
       "      <td>NaN</td>\n",
       "      <td>NaN</td>\n",
       "      <td>F.G.Fedchin,1975</td>\n",
       "    </tr>\n",
       "    <tr>\n",
       "      <th>66</th>\n",
       "      <td>Granite leucogranitic</td>\n",
       "      <td>K</td>\n",
       "      <td>NaN</td>\n",
       "      <td>NaN</td>\n",
       "      <td>NaN</td>\n",
       "      <td>A.N.Shapotin,1975</td>\n",
       "    </tr>\n",
       "    <tr>\n",
       "      <th>86</th>\n",
       "      <td>Granite leucogranitic medium-grained</td>\n",
       "      <td>Pg</td>\n",
       "      <td>Khulimin massif</td>\n",
       "      <td>NaN</td>\n",
       "      <td>NaN</td>\n",
       "      <td>N.I.Shlepkin,1972</td>\n",
       "    </tr>\n",
       "    <tr>\n",
       "      <th>152</th>\n",
       "      <td>Granite</td>\n",
       "      <td>Pg</td>\n",
       "      <td>Vayga massif</td>\n",
       "      <td>NaN</td>\n",
       "      <td>NaN</td>\n",
       "      <td>F.G.Fedchin,1973</td>\n",
       "    </tr>\n",
       "    <tr>\n",
       "      <th>161</th>\n",
       "      <td>Granite alkaline porphyraceous</td>\n",
       "      <td>K</td>\n",
       "      <td>Koin massif</td>\n",
       "      <td>NaN</td>\n",
       "      <td>Det.:H2o+-0.78</td>\n",
       "      <td>A.V.Oleynikov,1972</td>\n",
       "    </tr>\n",
       "    <tr>\n",
       "      <th>...</th>\n",
       "      <td>...</td>\n",
       "      <td>...</td>\n",
       "      <td>...</td>\n",
       "      <td>...</td>\n",
       "      <td>...</td>\n",
       "      <td>...</td>\n",
       "    </tr>\n",
       "    <tr>\n",
       "      <th>4587</th>\n",
       "      <td>Diorite</td>\n",
       "      <td>K</td>\n",
       "      <td>NaN</td>\n",
       "      <td>NaN</td>\n",
       "      <td>NaN</td>\n",
       "      <td>A.A.Syas'ko,1977</td>\n",
       "    </tr>\n",
       "    <tr>\n",
       "      <th>4595</th>\n",
       "      <td>Diorite</td>\n",
       "      <td>K</td>\n",
       "      <td>Koin massif</td>\n",
       "      <td>NaN</td>\n",
       "      <td>Det.:H2o+-0.48</td>\n",
       "      <td>A.V.Oleynikov,1972</td>\n",
       "    </tr>\n",
       "    <tr>\n",
       "      <th>4597</th>\n",
       "      <td>Granodiorite</td>\n",
       "      <td>K</td>\n",
       "      <td>NaN</td>\n",
       "      <td>NaN</td>\n",
       "      <td>Det:H2o-0.90</td>\n",
       "      <td>I.Z.Bur'yanova,1969</td>\n",
       "    </tr>\n",
       "    <tr>\n",
       "      <th>4638</th>\n",
       "      <td>Quartz diorite</td>\n",
       "      <td>K</td>\n",
       "      <td>Silin massif</td>\n",
       "      <td>NaN</td>\n",
       "      <td>Det.:H2o+-0.31</td>\n",
       "      <td>A.V.Oleynikov,1972</td>\n",
       "    </tr>\n",
       "    <tr>\n",
       "      <th>4656</th>\n",
       "      <td>Quartz diorite</td>\n",
       "      <td>K</td>\n",
       "      <td>Verkhneplotnikovsky massif</td>\n",
       "      <td>NaN</td>\n",
       "      <td>NaN</td>\n",
       "      <td>A.A.Syas'ko,1969</td>\n",
       "    </tr>\n",
       "  </tbody>\n",
       "</table>\n",
       "<p>151 rows × 6 columns</p>\n",
       "</div>"
      ],
      "text/plain": [
       "                              type_granite time                      massif  \\\n",
       "47                                 Granite   Pg                Vayga massif   \n",
       "66                   Granite leucogranitic    K                         NaN   \n",
       "86    Granite leucogranitic medium-grained   Pg             Khulimin massif   \n",
       "152                                Granite   Pg                Vayga massif   \n",
       "161         Granite alkaline porphyraceous    K                 Koin massif   \n",
       "...                                    ...  ...                         ...   \n",
       "4587                               Diorite    K                         NaN   \n",
       "4595                               Diorite    K                 Koin massif   \n",
       "4597                          Granodiorite    K                         NaN   \n",
       "4638                        Quartz diorite    K                Silin massif   \n",
       "4656                        Quartz diorite    K  Verkhneplotnikovsky massif   \n",
       "\n",
       "     sampler          others         sampler+year  \n",
       "47       NaN             NaN     F.G.Fedchin,1975  \n",
       "66       NaN             NaN    A.N.Shapotin,1975  \n",
       "86       NaN             NaN    N.I.Shlepkin,1972  \n",
       "152      NaN             NaN     F.G.Fedchin,1973  \n",
       "161      NaN  Det.:H2o+-0.78   A.V.Oleynikov,1972  \n",
       "...      ...             ...                  ...  \n",
       "4587     NaN             NaN     A.A.Syas'ko,1977  \n",
       "4595     NaN  Det.:H2o+-0.48   A.V.Oleynikov,1972  \n",
       "4597     NaN    Det:H2o-0.90  I.Z.Bur'yanova,1969  \n",
       "4638     NaN  Det.:H2o+-0.31   A.V.Oleynikov,1972  \n",
       "4656     NaN             NaN     A.A.Syas'ko,1969  \n",
       "\n",
       "[151 rows x 6 columns]"
      ]
     },
     "execution_count": 150,
     "metadata": {},
     "output_type": "execute_result"
    }
   ],
   "source": [
    "metadata"
   ]
  },
  {
   "cell_type": "code",
   "execution_count": 151,
   "metadata": {},
   "outputs": [
    {
     "data": {
      "text/plain": [
       "K     125\n",
       "Pg     26\n",
       "Name: time, dtype: int64"
      ]
     },
     "execution_count": 151,
     "metadata": {},
     "output_type": "execute_result"
    }
   ],
   "source": [
    "metadata['time'].value_counts()"
   ]
  },
  {
   "cell_type": "code",
   "execution_count": 152,
   "metadata": {},
   "outputs": [],
   "source": [
    "mineralogy_clr1 = mineralogy_clr.loc[metadata['time'] == 'J']\n",
    "mineralogy_clr2 = mineralogy_clr.loc[metadata['time'] == 'Tr']\n",
    "mineralogy_clr3 = mineralogy_clr.loc[metadata['time'] == 'Tr-J']\n",
    "mineralogy_clr4 = mineralogy_clr.loc[metadata['time'] == 'Mz']\n",
    "mineralogy_clr5 = mineralogy_clr.loc[metadata['time'] == 'K']\n"
   ]
  },
  {
   "cell_type": "code",
   "execution_count": 153,
   "metadata": {},
   "outputs": [
    {
     "name": "stdout",
     "output_type": "stream",
     "text": [
      "variance for subset J is 0.0\n",
      "variance for subset Tr is 0.0\n",
      "variance for subset Tr-J is 0.0\n",
      "variance for subset Mz is 0.0\n",
      "variance for subset K is 3.175686114586327\n"
     ]
    }
   ],
   "source": [
    "print('variance for subset J is' ,  mineralogy_clr1.var(axis=0).sum())\n",
    "print('variance for subset Tr is' ,  mineralogy_clr2.var(axis=0).sum())\n",
    "print('variance for subset Tr-J is' ,  mineralogy_clr3.var(axis=0).sum())\n",
    "print('variance for subset Mz is' ,  mineralogy_clr4.var(axis=0).sum())\n",
    "print('variance for subset K is' ,  mineralogy_clr5.var(axis=0).sum())\n"
   ]
  },
  {
   "cell_type": "markdown",
   "metadata": {},
   "source": [
    "------"
   ]
  },
  {
   "cell_type": "code",
   "execution_count": 154,
   "metadata": {},
   "outputs": [],
   "source": [
    "interpolated_reverse_clr.to_excel(\"../_CIPW/CIPW/AREA2a/interpolated_data.xlsx\")"
   ]
  },
  {
   "cell_type": "code",
   "execution_count": 155,
   "metadata": {},
   "outputs": [
    {
     "data": {
      "text/html": [
       "<div>\n",
       "<style scoped>\n",
       "    .dataframe tbody tr th:only-of-type {\n",
       "        vertical-align: middle;\n",
       "    }\n",
       "\n",
       "    .dataframe tbody tr th {\n",
       "        vertical-align: top;\n",
       "    }\n",
       "\n",
       "    .dataframe thead th {\n",
       "        text-align: right;\n",
       "    }\n",
       "</style>\n",
       "<table border=\"1\" class=\"dataframe\">\n",
       "  <thead>\n",
       "    <tr style=\"text-align: right;\">\n",
       "      <th></th>\n",
       "      <th>SiO2</th>\n",
       "      <th>TiO2</th>\n",
       "      <th>Al2O3</th>\n",
       "      <th>Fe2O3</th>\n",
       "      <th>FeO</th>\n",
       "      <th>MnO</th>\n",
       "      <th>MgO</th>\n",
       "      <th>CaO</th>\n",
       "      <th>Na2O</th>\n",
       "      <th>K2O</th>\n",
       "      <th>oth</th>\n",
       "    </tr>\n",
       "  </thead>\n",
       "  <tbody>\n",
       "    <tr>\n",
       "      <th>7431</th>\n",
       "      <td>70.169757</td>\n",
       "      <td>0.364318</td>\n",
       "      <td>15.208769</td>\n",
       "      <td>0.815537</td>\n",
       "      <td>2.535378</td>\n",
       "      <td>0.057258</td>\n",
       "      <td>0.602557</td>\n",
       "      <td>1.777622</td>\n",
       "      <td>3.546316</td>\n",
       "      <td>4.164508</td>\n",
       "      <td>0.757979</td>\n",
       "    </tr>\n",
       "    <tr>\n",
       "      <th>7432</th>\n",
       "      <td>70.136994</td>\n",
       "      <td>0.365755</td>\n",
       "      <td>15.218807</td>\n",
       "      <td>0.820647</td>\n",
       "      <td>2.541740</td>\n",
       "      <td>0.057403</td>\n",
       "      <td>0.606876</td>\n",
       "      <td>1.787653</td>\n",
       "      <td>3.546100</td>\n",
       "      <td>4.158249</td>\n",
       "      <td>0.759776</td>\n",
       "    </tr>\n",
       "    <tr>\n",
       "      <th>7433</th>\n",
       "      <td>70.102085</td>\n",
       "      <td>0.367273</td>\n",
       "      <td>15.229450</td>\n",
       "      <td>0.825746</td>\n",
       "      <td>2.548705</td>\n",
       "      <td>0.057561</td>\n",
       "      <td>0.611545</td>\n",
       "      <td>1.798436</td>\n",
       "      <td>3.545863</td>\n",
       "      <td>4.151606</td>\n",
       "      <td>0.761732</td>\n",
       "    </tr>\n",
       "    <tr>\n",
       "      <th>7434</th>\n",
       "      <td>70.065027</td>\n",
       "      <td>0.368874</td>\n",
       "      <td>15.240687</td>\n",
       "      <td>0.830820</td>\n",
       "      <td>2.556279</td>\n",
       "      <td>0.057730</td>\n",
       "      <td>0.616571</td>\n",
       "      <td>1.809980</td>\n",
       "      <td>3.545601</td>\n",
       "      <td>4.144584</td>\n",
       "      <td>0.763847</td>\n",
       "    </tr>\n",
       "    <tr>\n",
       "      <th>7435</th>\n",
       "      <td>70.025824</td>\n",
       "      <td>0.370556</td>\n",
       "      <td>15.252509</td>\n",
       "      <td>0.835860</td>\n",
       "      <td>2.564466</td>\n",
       "      <td>0.057911</td>\n",
       "      <td>0.621958</td>\n",
       "      <td>1.822293</td>\n",
       "      <td>3.545314</td>\n",
       "      <td>4.137189</td>\n",
       "      <td>0.766121</td>\n",
       "    </tr>\n",
       "    <tr>\n",
       "      <th>...</th>\n",
       "      <td>...</td>\n",
       "      <td>...</td>\n",
       "      <td>...</td>\n",
       "      <td>...</td>\n",
       "      <td>...</td>\n",
       "      <td>...</td>\n",
       "      <td>...</td>\n",
       "      <td>...</td>\n",
       "      <td>...</td>\n",
       "      <td>...</td>\n",
       "      <td>...</td>\n",
       "    </tr>\n",
       "    <tr>\n",
       "      <th>126270</th>\n",
       "      <td>70.780122</td>\n",
       "      <td>0.315798</td>\n",
       "      <td>14.908608</td>\n",
       "      <td>1.592934</td>\n",
       "      <td>2.015031</td>\n",
       "      <td>0.064971</td>\n",
       "      <td>0.549682</td>\n",
       "      <td>1.325033</td>\n",
       "      <td>3.622341</td>\n",
       "      <td>4.084271</td>\n",
       "      <td>0.741209</td>\n",
       "    </tr>\n",
       "    <tr>\n",
       "      <th>126271</th>\n",
       "      <td>70.741669</td>\n",
       "      <td>0.317464</td>\n",
       "      <td>14.921511</td>\n",
       "      <td>1.598063</td>\n",
       "      <td>2.023298</td>\n",
       "      <td>0.065096</td>\n",
       "      <td>0.554245</td>\n",
       "      <td>1.335613</td>\n",
       "      <td>3.621693</td>\n",
       "      <td>4.078165</td>\n",
       "      <td>0.743184</td>\n",
       "    </tr>\n",
       "    <tr>\n",
       "      <th>126272</th>\n",
       "      <td>70.703570</td>\n",
       "      <td>0.319119</td>\n",
       "      <td>14.934199</td>\n",
       "      <td>1.603241</td>\n",
       "      <td>2.031456</td>\n",
       "      <td>0.065217</td>\n",
       "      <td>0.558757</td>\n",
       "      <td>1.346127</td>\n",
       "      <td>3.621035</td>\n",
       "      <td>4.072166</td>\n",
       "      <td>0.745114</td>\n",
       "    </tr>\n",
       "    <tr>\n",
       "      <th>126273</th>\n",
       "      <td>70.665932</td>\n",
       "      <td>0.320760</td>\n",
       "      <td>14.946640</td>\n",
       "      <td>1.608452</td>\n",
       "      <td>2.039482</td>\n",
       "      <td>0.065334</td>\n",
       "      <td>0.563205</td>\n",
       "      <td>1.356543</td>\n",
       "      <td>3.620369</td>\n",
       "      <td>4.066288</td>\n",
       "      <td>0.746995</td>\n",
       "    </tr>\n",
       "    <tr>\n",
       "      <th>126622</th>\n",
       "      <td>70.731842</td>\n",
       "      <td>0.318028</td>\n",
       "      <td>14.924600</td>\n",
       "      <td>1.599845</td>\n",
       "      <td>2.025365</td>\n",
       "      <td>0.065046</td>\n",
       "      <td>0.554741</td>\n",
       "      <td>1.338614</td>\n",
       "      <td>3.621177</td>\n",
       "      <td>4.077592</td>\n",
       "      <td>0.743148</td>\n",
       "    </tr>\n",
       "  </tbody>\n",
       "</table>\n",
       "<p>49861 rows × 11 columns</p>\n",
       "</div>"
      ],
      "text/plain": [
       "             SiO2      TiO2      Al2O3     Fe2O3       FeO       MnO  \\\n",
       "7431    70.169757  0.364318  15.208769  0.815537  2.535378  0.057258   \n",
       "7432    70.136994  0.365755  15.218807  0.820647  2.541740  0.057403   \n",
       "7433    70.102085  0.367273  15.229450  0.825746  2.548705  0.057561   \n",
       "7434    70.065027  0.368874  15.240687  0.830820  2.556279  0.057730   \n",
       "7435    70.025824  0.370556  15.252509  0.835860  2.564466  0.057911   \n",
       "...           ...       ...        ...       ...       ...       ...   \n",
       "126270  70.780122  0.315798  14.908608  1.592934  2.015031  0.064971   \n",
       "126271  70.741669  0.317464  14.921511  1.598063  2.023298  0.065096   \n",
       "126272  70.703570  0.319119  14.934199  1.603241  2.031456  0.065217   \n",
       "126273  70.665932  0.320760  14.946640  1.608452  2.039482  0.065334   \n",
       "126622  70.731842  0.318028  14.924600  1.599845  2.025365  0.065046   \n",
       "\n",
       "             MgO       CaO      Na2O       K2O       oth  \n",
       "7431    0.602557  1.777622  3.546316  4.164508  0.757979  \n",
       "7432    0.606876  1.787653  3.546100  4.158249  0.759776  \n",
       "7433    0.611545  1.798436  3.545863  4.151606  0.761732  \n",
       "7434    0.616571  1.809980  3.545601  4.144584  0.763847  \n",
       "7435    0.621958  1.822293  3.545314  4.137189  0.766121  \n",
       "...          ...       ...       ...       ...       ...  \n",
       "126270  0.549682  1.325033  3.622341  4.084271  0.741209  \n",
       "126271  0.554245  1.335613  3.621693  4.078165  0.743184  \n",
       "126272  0.558757  1.346127  3.621035  4.072166  0.745114  \n",
       "126273  0.563205  1.356543  3.620369  4.066288  0.746995  \n",
       "126622  0.554741  1.338614  3.621177  4.077592  0.743148  \n",
       "\n",
       "[49861 rows x 11 columns]"
      ]
     },
     "execution_count": 155,
     "metadata": {},
     "output_type": "execute_result"
    }
   ],
   "source": [
    "interpolated_reverse_clr.dropna()"
   ]
  },
  {
   "cell_type": "code",
   "execution_count": null,
   "metadata": {},
   "outputs": [],
   "source": []
  }
 ],
 "metadata": {
  "kernelspec": {
   "display_name": "Python 3",
   "language": "python",
   "name": "python3"
  },
  "language_info": {
   "codemirror_mode": {
    "name": "ipython",
    "version": 3
   },
   "file_extension": ".py",
   "mimetype": "text/x-python",
   "name": "python",
   "nbconvert_exporter": "python",
   "pygments_lexer": "ipython3",
   "version": "3.7.3"
  },
  "toc-autonumbering": true,
  "toc-showtags": false
 },
 "nbformat": 4,
 "nbformat_minor": 4
}
