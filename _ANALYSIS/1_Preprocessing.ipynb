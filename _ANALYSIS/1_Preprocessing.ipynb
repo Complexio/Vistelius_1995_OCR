{
 "cells": [
  {
   "cell_type": "markdown",
   "metadata": {},
   "source": [
    "# Preprocessing"
   ]
  },
  {
   "cell_type": "code",
   "execution_count": 362,
   "metadata": {},
   "outputs": [],
   "source": [
    "import numpy as np\n",
    "import pandas as pd\n",
    "import os\n",
    "import pickle\n",
    "import utm"
   ]
  },
  {
   "cell_type": "code",
   "execution_count": 363,
   "metadata": {},
   "outputs": [],
   "source": [
    "import prepostprocessing.cleaning as cleaning\n",
    "import prepostprocessing.pre_processing as preproc"
   ]
  },
  {
   "cell_type": "code",
   "execution_count": 364,
   "metadata": {},
   "outputs": [
    {
     "name": "stdout",
     "output_type": "stream",
     "text": [
      "The autoreload extension is already loaded. To reload it, use:\n",
      "  %reload_ext autoreload\n"
     ]
    }
   ],
   "source": [
    "# Load jupyter extension to reload packages before executing user code.\n",
    "# https://ipython.readthedocs.io/en/stable/config/extensions/autoreload.html\n",
    "%load_ext autoreload\n",
    "# Reload all packages (except those excluded by %aimport) every time before executing the Python code typed.\n",
    "%autoreload 2"
   ]
  },
  {
   "cell_type": "markdown",
   "metadata": {},
   "source": [
    "## Mineralogy"
   ]
  },
  {
   "cell_type": "markdown",
   "metadata": {},
   "source": [
    "**To do**\n",
    "* ~~Clean last points in Excel file while using \"sum\" as check~~"
   ]
  },
  {
   "cell_type": "code",
   "execution_count": 365,
   "metadata": {},
   "outputs": [],
   "source": [
    "mineralogy = pd.read_excel(\"../_CLEANED/Vistelius_data_cleaned.xlsx\", index_col=0)"
   ]
  },
  {
   "cell_type": "markdown",
   "metadata": {},
   "source": [
    "### Check for wrong entries"
   ]
  },
  {
   "cell_type": "code",
   "execution_count": 366,
   "metadata": {},
   "outputs": [
    {
     "data": {
      "text/plain": [
       "array([ True,  True,  True, ...,  True,  True,  True])"
      ]
     },
     "execution_count": 366,
     "metadata": {},
     "output_type": "execute_result"
    }
   ],
   "source": [
    "np.isclose(mineralogy.loc[:, :\"oth\"].sum(axis=1), mineralogy.loc[:, \"sum\"])"
   ]
  },
  {
   "cell_type": "code",
   "execution_count": 367,
   "metadata": {},
   "outputs": [],
   "source": [
    "wrong_sum = mineralogy.loc[~np.isclose(mineralogy.loc[:, :\"oth\"].sum(axis=1), mineralogy.loc[:, \"sum\"]), :]"
   ]
  },
  {
   "cell_type": "code",
   "execution_count": 368,
   "metadata": {},
   "outputs": [
    {
     "data": {
      "text/html": [
       "<div>\n",
       "<style scoped>\n",
       "    .dataframe tbody tr th:only-of-type {\n",
       "        vertical-align: middle;\n",
       "    }\n",
       "\n",
       "    .dataframe tbody tr th {\n",
       "        vertical-align: top;\n",
       "    }\n",
       "\n",
       "    .dataframe thead th {\n",
       "        text-align: right;\n",
       "    }\n",
       "</style>\n",
       "<table border=\"1\" class=\"dataframe\">\n",
       "  <thead>\n",
       "    <tr style=\"text-align: right;\">\n",
       "      <th></th>\n",
       "      <th>SiO2</th>\n",
       "      <th>TiO2</th>\n",
       "      <th>Al2O3</th>\n",
       "      <th>Fe2O3</th>\n",
       "      <th>FeO</th>\n",
       "      <th>MnO</th>\n",
       "      <th>MgO</th>\n",
       "      <th>CaO</th>\n",
       "      <th>Na2O</th>\n",
       "      <th>K2O</th>\n",
       "      <th>P2O5</th>\n",
       "      <th>l.i.</th>\n",
       "      <th>oth</th>\n",
       "      <th>sum</th>\n",
       "      <th>hs</th>\n",
       "    </tr>\n",
       "  </thead>\n",
       "  <tbody>\n",
       "  </tbody>\n",
       "</table>\n",
       "</div>"
      ],
      "text/plain": [
       "Empty DataFrame\n",
       "Columns: [SiO2, TiO2, Al2O3, Fe2O3, FeO, MnO, MgO, CaO, Na2O, K2O, P2O5, l.i., oth, sum, hs]\n",
       "Index: []"
      ]
     },
     "execution_count": 368,
     "metadata": {},
     "output_type": "execute_result"
    }
   ],
   "source": [
    "# Check to see if any remaining incorrect lines are present\n",
    "wrong_sum"
   ]
  },
  {
   "cell_type": "code",
   "execution_count": 369,
   "metadata": {},
   "outputs": [
    {
     "name": "stdout",
     "output_type": "stream",
     "text": [
      "<class 'pandas.core.frame.DataFrame'>\n",
      "Int64Index: 4659 entries, 1 to 4659\n",
      "Data columns (total 15 columns):\n",
      "SiO2     4659 non-null float64\n",
      "TiO2     4626 non-null float64\n",
      "Al2O3    4659 non-null float64\n",
      "Fe2O3    4657 non-null float64\n",
      "FeO      4659 non-null float64\n",
      "MnO      4544 non-null float64\n",
      "MgO      4658 non-null float64\n",
      "CaO      4659 non-null float64\n",
      "Na2O     4659 non-null float64\n",
      "K2O      4659 non-null float64\n",
      "P2O5     3834 non-null float64\n",
      "l.i.     4659 non-null float64\n",
      "oth      874 non-null float64\n",
      "sum      4659 non-null float64\n",
      "hs       2240 non-null float64\n",
      "dtypes: float64(15)\n",
      "memory usage: 582.4 KB\n"
     ]
    }
   ],
   "source": [
    "mineralogy.info()"
   ]
  },
  {
   "cell_type": "code",
   "execution_count": 370,
   "metadata": {},
   "outputs": [
    {
     "data": {
      "text/plain": [
       "Series([], dtype: float64)"
      ]
     },
     "execution_count": 370,
     "metadata": {},
     "output_type": "execute_result"
    }
   ],
   "source": [
    "wrong_sum.loc[:, :\"oth\"].sum(axis=1)"
   ]
  },
  {
   "cell_type": "code",
   "execution_count": 371,
   "metadata": {},
   "outputs": [
    {
     "data": {
      "text/html": [
       "<div>\n",
       "<style scoped>\n",
       "    .dataframe tbody tr th:only-of-type {\n",
       "        vertical-align: middle;\n",
       "    }\n",
       "\n",
       "    .dataframe tbody tr th {\n",
       "        vertical-align: top;\n",
       "    }\n",
       "\n",
       "    .dataframe thead th {\n",
       "        text-align: right;\n",
       "    }\n",
       "</style>\n",
       "<table border=\"1\" class=\"dataframe\">\n",
       "  <thead>\n",
       "    <tr style=\"text-align: right;\">\n",
       "      <th></th>\n",
       "      <th>SiO2</th>\n",
       "      <th>TiO2</th>\n",
       "      <th>Al2O3</th>\n",
       "      <th>Fe2O3</th>\n",
       "      <th>FeO</th>\n",
       "      <th>MnO</th>\n",
       "      <th>MgO</th>\n",
       "      <th>CaO</th>\n",
       "      <th>Na2O</th>\n",
       "      <th>K2O</th>\n",
       "      <th>P2O5</th>\n",
       "      <th>l.i.</th>\n",
       "      <th>oth</th>\n",
       "      <th>sum</th>\n",
       "      <th>hs</th>\n",
       "    </tr>\n",
       "  </thead>\n",
       "  <tbody>\n",
       "    <tr>\n",
       "      <th>1</th>\n",
       "      <td>80.80</td>\n",
       "      <td>0.04</td>\n",
       "      <td>10.16</td>\n",
       "      <td>0.61</td>\n",
       "      <td>1.72</td>\n",
       "      <td>NaN</td>\n",
       "      <td>0.40</td>\n",
       "      <td>0.55</td>\n",
       "      <td>2.00</td>\n",
       "      <td>3.59</td>\n",
       "      <td>NaN</td>\n",
       "      <td>0.35</td>\n",
       "      <td>NaN</td>\n",
       "      <td>100.22</td>\n",
       "      <td>NaN</td>\n",
       "    </tr>\n",
       "    <tr>\n",
       "      <th>2</th>\n",
       "      <td>80.00</td>\n",
       "      <td>0.10</td>\n",
       "      <td>10.10</td>\n",
       "      <td>0.17</td>\n",
       "      <td>0.56</td>\n",
       "      <td>0.02</td>\n",
       "      <td>0.40</td>\n",
       "      <td>0.35</td>\n",
       "      <td>2.30</td>\n",
       "      <td>5.10</td>\n",
       "      <td>0.05</td>\n",
       "      <td>0.50</td>\n",
       "      <td>NaN</td>\n",
       "      <td>99.65</td>\n",
       "      <td>NaN</td>\n",
       "    </tr>\n",
       "    <tr>\n",
       "      <th>3</th>\n",
       "      <td>79.92</td>\n",
       "      <td>0.05</td>\n",
       "      <td>9.89</td>\n",
       "      <td>0.16</td>\n",
       "      <td>1.73</td>\n",
       "      <td>0.02</td>\n",
       "      <td>0.12</td>\n",
       "      <td>0.14</td>\n",
       "      <td>0.75</td>\n",
       "      <td>6.15</td>\n",
       "      <td>NaN</td>\n",
       "      <td>1.02</td>\n",
       "      <td>0.08</td>\n",
       "      <td>100.03</td>\n",
       "      <td>0.30</td>\n",
       "    </tr>\n",
       "    <tr>\n",
       "      <th>4</th>\n",
       "      <td>79.65</td>\n",
       "      <td>0.04</td>\n",
       "      <td>9.64</td>\n",
       "      <td>1.15</td>\n",
       "      <td>0.75</td>\n",
       "      <td>0.10</td>\n",
       "      <td>0.45</td>\n",
       "      <td>0.67</td>\n",
       "      <td>3.71</td>\n",
       "      <td>4.25</td>\n",
       "      <td>NaN</td>\n",
       "      <td>0.26</td>\n",
       "      <td>NaN</td>\n",
       "      <td>100.67</td>\n",
       "      <td>0.01</td>\n",
       "    </tr>\n",
       "    <tr>\n",
       "      <th>5</th>\n",
       "      <td>79.18</td>\n",
       "      <td>0.08</td>\n",
       "      <td>10.24</td>\n",
       "      <td>0.64</td>\n",
       "      <td>2.60</td>\n",
       "      <td>0.04</td>\n",
       "      <td>0.05</td>\n",
       "      <td>1.25</td>\n",
       "      <td>1.52</td>\n",
       "      <td>3.08</td>\n",
       "      <td>0.01</td>\n",
       "      <td>1.75</td>\n",
       "      <td>0.16</td>\n",
       "      <td>100.60</td>\n",
       "      <td>0.28</td>\n",
       "    </tr>\n",
       "  </tbody>\n",
       "</table>\n",
       "</div>"
      ],
      "text/plain": [
       "    SiO2  TiO2  Al2O3  Fe2O3   FeO   MnO   MgO   CaO  Na2O   K2O  P2O5  l.i.  \\\n",
       "1  80.80  0.04  10.16   0.61  1.72   NaN  0.40  0.55  2.00  3.59   NaN  0.35   \n",
       "2  80.00  0.10  10.10   0.17  0.56  0.02  0.40  0.35  2.30  5.10  0.05  0.50   \n",
       "3  79.92  0.05   9.89   0.16  1.73  0.02  0.12  0.14  0.75  6.15   NaN  1.02   \n",
       "4  79.65  0.04   9.64   1.15  0.75  0.10  0.45  0.67  3.71  4.25   NaN  0.26   \n",
       "5  79.18  0.08  10.24   0.64  2.60  0.04  0.05  1.25  1.52  3.08  0.01  1.75   \n",
       "\n",
       "    oth     sum    hs  \n",
       "1   NaN  100.22   NaN  \n",
       "2   NaN   99.65   NaN  \n",
       "3  0.08  100.03  0.30  \n",
       "4   NaN  100.67  0.01  \n",
       "5  0.16  100.60  0.28  "
      ]
     },
     "execution_count": 371,
     "metadata": {},
     "output_type": "execute_result"
    }
   ],
   "source": [
    "mineralogy.head()"
   ]
  },
  {
   "cell_type": "markdown",
   "metadata": {},
   "source": [
    "### Cleaning\n",
    "**To do**\n",
    "* ~~Replace zero values~~\n"
   ]
  },
  {
   "cell_type": "code",
   "execution_count": 372,
   "metadata": {},
   "outputs": [],
   "source": [
    "# Would not do this this way since it becomes less clear what the variable means\n",
    "# You should also replace 'minralogy' in all remaining cells by 'x' if you would want to do this\n",
    "# x = mineralogy"
   ]
  },
  {
   "cell_type": "code",
   "execution_count": 373,
   "metadata": {},
   "outputs": [],
   "source": [
    "# Replace zero values\n",
    "mineralogy = preproc.replace_zero(mineralogy, 0.01)"
   ]
  },
  {
   "cell_type": "raw",
   "metadata": {},
   "source": [
    "# Instead of doing this for every column separately,\n",
    "# you can use the 'replace_zero' function provided in the\n",
    "# preprocessing module (see cell above)\n",
    "x['SiO2'] = x['SiO2'].replace(0, 0.01)\n",
    "x['TiO2'] = x['TiO2'].replace(0, 0.01)\n",
    "x['Al2O3'] = x['Al2O3'].replace(0, 0.01)\n",
    "x['Fe2O3'] = x['Fe2O3'].replace(0, 0.01)\n",
    "x['FeO'] = x['FeO'].replace(0, 0.01)\n",
    "x['MnO'] = x['MnO'].replace(0, 0.01)\n",
    "x['MgO'] = x['MgO'].replace(0, 0.01)\n",
    "x['CaO'] = x['CaO'].replace(0, 0.01)\n",
    "x['Na2O'] = x['Na2O'].replace(0, 0.01)\n",
    "x['K2O'] = x['K2O'].replace(0, 0.01)\n",
    "x['P2O5'] = x['P2O5'].replace(0, 0.01)\n",
    "x['l.i.'] = x['l.i.'].replace(0, 0.01)\n",
    "x['oth'] = x['oth'].replace(0, 0.01)\n",
    "x['hs'] = x['hs'].replace(0, 0.01)"
   ]
  },
  {
   "cell_type": "code",
   "execution_count": 374,
   "metadata": {},
   "outputs": [],
   "source": [
    "mineralogy.to_excel(\"../_CLEANED/Vistelius_data_cleaned.xlsx\")"
   ]
  },
  {
   "cell_type": "markdown",
   "metadata": {},
   "source": [
    "* ~~Replace nan values~~"
   ]
  },
  {
   "cell_type": "code",
   "execution_count": 375,
   "metadata": {},
   "outputs": [],
   "source": [
    "# Also replace NaN values by 0.01\n",
    "mineralogy = preproc.replace_nan(mineralogy, 0.01)"
   ]
  },
  {
   "cell_type": "markdown",
   "metadata": {},
   "source": [
    "* ~~Normalize~~"
   ]
  },
  {
   "cell_type": "code",
   "execution_count": 376,
   "metadata": {},
   "outputs": [],
   "source": [
    "# Normalize specific columns\n",
    "mineralogy.loc[:, :\"oth\"] = preproc.normalize(mineralogy.loc[:, :\"oth\"])# , total=mineralogy['sum'])"
   ]
  },
  {
   "cell_type": "code",
   "execution_count": 377,
   "metadata": {},
   "outputs": [],
   "source": [
    "# Renew 'sum' column to reflect changes applied during cleaning\n",
    "mineralogy[\"sum\"] = mineralogy.loc[:, :\"oth\"].sum(axis=1)"
   ]
  },
  {
   "cell_type": "code",
   "execution_count": 378,
   "metadata": {},
   "outputs": [],
   "source": [
    "# Check that sum of all variables + 'sum' == 200\n",
    "assert all(np.isclose(mineralogy.loc[:, :'sum'].sum(axis=1), 200.0))"
   ]
  },
  {
   "cell_type": "raw",
   "metadata": {},
   "source": [
    "# Instead of doing this for every column separately,\n",
    "# you can use the 'normalize' function provided in the\n",
    "# preprocessing module (see cell above)\n",
    "x['SiO2'] = x['SiO2'] / x['sum'] * 100\n",
    "x['TiO2'] = x['TiO2'] / x['sum'] * 100\n",
    "x['Al2O3'] = x['Al2O3'] / x['sum'] * 100\n",
    "x['Fe2O3'] = x['Fe2O3'] / x['sum'] * 100\n",
    "x['FeO'] = x['FeO'] / x['sum'] * 100\n",
    "x['MnO'] = x['MnO'] / x['sum'] * 100\n",
    "x['MgO'] = x['MgO'] / x['sum'] * 100\n",
    "x['CaO'] = x['CaO'] / x['sum'] * 100\n",
    "x['Na2O'] = x['Na2O'] / x['sum'] * 100\n",
    "x['K2O'] = x['K2O'] / x['sum'] * 100\n",
    "x['P2O5'] = x['P2O5'] / x['sum'] * 100\n",
    "x['l.i.'] = x['l.i.'] / x['sum'] * 100\n",
    "x['oth'] = x['oth'] / x['sum'] * 100\n",
    "x['sum'] = x['sum'] / x['sum'] * 100"
   ]
  },
  {
   "cell_type": "code",
   "execution_count": 379,
   "metadata": {},
   "outputs": [],
   "source": [
    "mineralogy.to_excel(\"../_INTERPOLATION/normalised_values.xlsx\")"
   ]
  },
  {
   "cell_type": "markdown",
   "metadata": {},
   "source": [
    "#### implementing normalised values in full_with_Coordinates"
   ]
  },
  {
   "cell_type": "code",
   "execution_count": null,
   "metadata": {},
   "outputs": [],
   "source": []
  },
  {
   "cell_type": "code",
   "execution_count": null,
   "metadata": {},
   "outputs": [],
   "source": []
  },
  {
   "cell_type": "markdown",
   "metadata": {},
   "source": [
    "### centred log-ratio (clr) transformation"
   ]
  },
  {
   "cell_type": "code",
   "execution_count": 380,
   "metadata": {},
   "outputs": [
    {
     "data": {
      "text/html": [
       "<div>\n",
       "<style scoped>\n",
       "    .dataframe tbody tr th:only-of-type {\n",
       "        vertical-align: middle;\n",
       "    }\n",
       "\n",
       "    .dataframe tbody tr th {\n",
       "        vertical-align: top;\n",
       "    }\n",
       "\n",
       "    .dataframe thead th {\n",
       "        text-align: right;\n",
       "    }\n",
       "</style>\n",
       "<table border=\"1\" class=\"dataframe\">\n",
       "  <thead>\n",
       "    <tr style=\"text-align: right;\">\n",
       "      <th></th>\n",
       "      <th>SiO2</th>\n",
       "      <th>TiO2</th>\n",
       "      <th>Al2O3</th>\n",
       "      <th>Fe2O3</th>\n",
       "      <th>FeO</th>\n",
       "      <th>MnO</th>\n",
       "      <th>MgO</th>\n",
       "      <th>CaO</th>\n",
       "      <th>Na2O</th>\n",
       "      <th>K2O</th>\n",
       "      <th>P2O5</th>\n",
       "      <th>l.i.</th>\n",
       "      <th>oth</th>\n",
       "      <th>sum</th>\n",
       "      <th>hs</th>\n",
       "    </tr>\n",
       "  </thead>\n",
       "  <tbody>\n",
       "    <tr>\n",
       "      <th>1</th>\n",
       "      <td>5.116216</td>\n",
       "      <td>-2.494637</td>\n",
       "      <td>3.042697</td>\n",
       "      <td>0.229942</td>\n",
       "      <td>1.266563</td>\n",
       "      <td>-3.880932</td>\n",
       "      <td>-0.192052</td>\n",
       "      <td>0.126402</td>\n",
       "      <td>1.417386</td>\n",
       "      <td>2.002391</td>\n",
       "      <td>-3.880932</td>\n",
       "      <td>-0.325583</td>\n",
       "      <td>-3.880932</td>\n",
       "      <td>5.331906</td>\n",
       "      <td>-3.878435</td>\n",
       "    </tr>\n",
       "    <tr>\n",
       "      <th>2</th>\n",
       "      <td>5.027136</td>\n",
       "      <td>-1.657475</td>\n",
       "      <td>2.957645</td>\n",
       "      <td>-1.126847</td>\n",
       "      <td>0.065291</td>\n",
       "      <td>-3.266913</td>\n",
       "      <td>-0.271181</td>\n",
       "      <td>-0.404712</td>\n",
       "      <td>1.478019</td>\n",
       "      <td>2.274350</td>\n",
       "      <td>-2.350623</td>\n",
       "      <td>-0.048037</td>\n",
       "      <td>-3.960060</td>\n",
       "      <td>5.246874</td>\n",
       "      <td>-3.963466</td>\n",
       "    </tr>\n",
       "    <tr>\n",
       "      <th>3</th>\n",
       "      <td>4.900117</td>\n",
       "      <td>-2.476641</td>\n",
       "      <td>2.810616</td>\n",
       "      <td>-1.313490</td>\n",
       "      <td>1.067213</td>\n",
       "      <td>-3.392932</td>\n",
       "      <td>-1.601172</td>\n",
       "      <td>-1.447021</td>\n",
       "      <td>0.231409</td>\n",
       "      <td>2.335543</td>\n",
       "      <td>-4.086079</td>\n",
       "      <td>0.538894</td>\n",
       "      <td>-2.006637</td>\n",
       "      <td>5.124661</td>\n",
       "      <td>-0.684482</td>\n",
       "    </tr>\n",
       "    <tr>\n",
       "      <th>4</th>\n",
       "      <td>4.911676</td>\n",
       "      <td>-2.684842</td>\n",
       "      <td>2.799955</td>\n",
       "      <td>0.673796</td>\n",
       "      <td>0.246352</td>\n",
       "      <td>-1.768551</td>\n",
       "      <td>-0.264473</td>\n",
       "      <td>0.133557</td>\n",
       "      <td>1.845066</td>\n",
       "      <td>1.980953</td>\n",
       "      <td>-4.071136</td>\n",
       "      <td>-0.813039</td>\n",
       "      <td>-4.071136</td>\n",
       "      <td>5.146081</td>\n",
       "      <td>-4.064260</td>\n",
       "    </tr>\n",
       "    <tr>\n",
       "      <th>5</th>\n",
       "      <td>4.525075</td>\n",
       "      <td>-2.372377</td>\n",
       "      <td>2.479653</td>\n",
       "      <td>-0.292936</td>\n",
       "      <td>1.108863</td>\n",
       "      <td>-3.065524</td>\n",
       "      <td>-2.842381</td>\n",
       "      <td>0.376495</td>\n",
       "      <td>0.572062</td>\n",
       "      <td>1.278281</td>\n",
       "      <td>-4.451819</td>\n",
       "      <td>0.712967</td>\n",
       "      <td>-1.679230</td>\n",
       "      <td>4.764504</td>\n",
       "      <td>-1.113632</td>\n",
       "    </tr>\n",
       "  </tbody>\n",
       "</table>\n",
       "</div>"
      ],
      "text/plain": [
       "       SiO2      TiO2     Al2O3     Fe2O3       FeO       MnO       MgO  \\\n",
       "1  5.116216 -2.494637  3.042697  0.229942  1.266563 -3.880932 -0.192052   \n",
       "2  5.027136 -1.657475  2.957645 -1.126847  0.065291 -3.266913 -0.271181   \n",
       "3  4.900117 -2.476641  2.810616 -1.313490  1.067213 -3.392932 -1.601172   \n",
       "4  4.911676 -2.684842  2.799955  0.673796  0.246352 -1.768551 -0.264473   \n",
       "5  4.525075 -2.372377  2.479653 -0.292936  1.108863 -3.065524 -2.842381   \n",
       "\n",
       "        CaO      Na2O       K2O      P2O5      l.i.       oth       sum  \\\n",
       "1  0.126402  1.417386  2.002391 -3.880932 -0.325583 -3.880932  5.331906   \n",
       "2 -0.404712  1.478019  2.274350 -2.350623 -0.048037 -3.960060  5.246874   \n",
       "3 -1.447021  0.231409  2.335543 -4.086079  0.538894 -2.006637  5.124661   \n",
       "4  0.133557  1.845066  1.980953 -4.071136 -0.813039 -4.071136  5.146081   \n",
       "5  0.376495  0.572062  1.278281 -4.451819  0.712967 -1.679230  4.764504   \n",
       "\n",
       "         hs  \n",
       "1 -3.878435  \n",
       "2 -3.963466  \n",
       "3 -0.684482  \n",
       "4 -4.064260  \n",
       "5 -1.113632  "
      ]
     },
     "execution_count": 380,
     "metadata": {},
     "output_type": "execute_result"
    }
   ],
   "source": [
    "mineralogy_clr = preproc.clr(mineralogy)\n",
    "mineralogy_clr.head()"
   ]
  },
  {
   "cell_type": "markdown",
   "metadata": {},
   "source": [
    "### Principal Component Analysis (PCA)"
   ]
  },
  {
   "cell_type": "markdown",
   "metadata": {},
   "source": [
    "##### code doesn't run with NaN values --> very small value is given to the NaN value: (0.000001)\n",
    "**OK, let's do this step after replacing the zeroes and also use 0.01 as replacement to not introduce high variance effects**  \n",
    "**I've written a small function for this, similar in syntax to the 'replace_zero' one (see code above)**  \n",
    "**If this would seem to be too much of a 'correction' of the data, you could leave out certain rows too get rid of NaN values**  \n",
    "**You could also drop certain columns which have a very high number of NaN values, such as 'oth' e.g.**"
   ]
  },
  {
   "cell_type": "raw",
   "metadata": {},
   "source": [
    "mineralogy_clr['SiO2'] = mineralogy_clr['SiO2'].fillna(0.000001)\n",
    "mineralogy_clr['TiO2'] = mineralogy_clr['TiO2'].fillna(0.000001)\n",
    "mineralogy_clr['Al2O3'] = mineralogy_clr['Al2O3'].fillna(0.000001)\n",
    "mineralogy_clr['Fe2O3'] = mineralogy_clr['Fe2O3'].fillna(0.000001)\n",
    "mineralogy_clr['FeO'] = mineralogy_clr['FeO'].fillna(0.000001)\n",
    "mineralogy_clr['MnO'] = mineralogy_clr['MnO'].fillna(0.000001)\n",
    "mineralogy_clr['MgO'] = mineralogy_clr['MgO'].fillna(0.000001)\n",
    "mineralogy_clr['Na2O'] = mineralogy_clr['Na2O'].fillna(0.000001)\n",
    "mineralogy_clr['K2O'] = mineralogy_clr['K2O'].fillna(0.000001)\n",
    "mineralogy_clr['P2O5'] = mineralogy_clr['P2O5'].fillna(0.000001)\n",
    "mineralogy_clr['l.i.'] = mineralogy_clr['l.i.'].fillna(0.000001)\n",
    "mineralogy_clr['oth'] = mineralogy_clr['oth'].fillna(0.000001)\n",
    "mineralogy_clr['hs'] = mineralogy_clr['hs'].fillna(0.000001)"
   ]
  },
  {
   "cell_type": "code",
   "execution_count": 381,
   "metadata": {},
   "outputs": [
    {
     "name": "stdout",
     "output_type": "stream",
     "text": [
      "9 PCA components  out of 15 components with variance sum 0.966625886419962 needed for obtaining sum of variance > 0.95\n"
     ]
    },
    {
     "data": {
      "text/plain": [
       "array([2.72769107e-01, 1.98486337e-01, 1.35269270e-01, 1.11034812e-01,\n",
       "       8.48676592e-02, 5.96963124e-02, 4.62857519e-02, 3.20709944e-02,\n",
       "       2.61456423e-02, 1.88742451e-02, 1.07280680e-02, 3.03849513e-03,\n",
       "       7.04237437e-04, 2.90679570e-05, 1.71494552e-32])"
      ]
     },
     "execution_count": 381,
     "metadata": {},
     "output_type": "execute_result"
    }
   ],
   "source": [
    "mineralogy_pca = preproc.pca(mineralogy_clr)\n",
    "preproc.pca_variance(mineralogy_pca)"
   ]
  },
  {
   "cell_type": "code",
   "execution_count": 382,
   "metadata": {},
   "outputs": [],
   "source": [
    "mineralogy_pca_df = preproc.create_pca_df(mineralogy_pca, mineralogy_clr)"
   ]
  },
  {
   "cell_type": "markdown",
   "metadata": {},
   "source": [
    "____"
   ]
  },
  {
   "cell_type": "markdown",
   "metadata": {},
   "source": [
    "## Coordinates"
   ]
  },
  {
   "cell_type": "code",
   "execution_count": null,
   "metadata": {},
   "outputs": [],
   "source": []
  },
  {
   "cell_type": "raw",
   "metadata": {},
   "source": [
    "coordinates = pd.read_excel(\"../_DATA/full_with_coordinates.xlsx\", index_col=0, usecols=[0, 1, 2, 3])"
   ]
  },
  {
   "cell_type": "code",
   "execution_count": 383,
   "metadata": {},
   "outputs": [
    {
     "data": {
      "text/html": [
       "<div>\n",
       "<style scoped>\n",
       "    .dataframe tbody tr th:only-of-type {\n",
       "        vertical-align: middle;\n",
       "    }\n",
       "\n",
       "    .dataframe tbody tr th {\n",
       "        vertical-align: top;\n",
       "    }\n",
       "\n",
       "    .dataframe thead th {\n",
       "        text-align: right;\n",
       "    }\n",
       "</style>\n",
       "<table border=\"1\" class=\"dataframe\">\n",
       "  <thead>\n",
       "    <tr style=\"text-align: right;\">\n",
       "      <th></th>\n",
       "      <th>Latitude</th>\n",
       "      <th>Longitude</th>\n",
       "      <th>past_mer</th>\n",
       "      <th>Y</th>\n",
       "      <th>X</th>\n",
       "    </tr>\n",
       "  </thead>\n",
       "  <tbody>\n",
       "    <tr>\n",
       "      <th>1</th>\n",
       "      <td>44°31'30.0\"</td>\n",
       "      <td>138°37'30.0\"</td>\n",
       "      <td>NaN</td>\n",
       "      <td>44.525000</td>\n",
       "      <td>138.625000</td>\n",
       "    </tr>\n",
       "    <tr>\n",
       "      <th>2</th>\n",
       "      <td>54°12'10.0\"</td>\n",
       "      <td>119°24'0.0\"</td>\n",
       "      <td>NaN</td>\n",
       "      <td>54.202778</td>\n",
       "      <td>119.400000</td>\n",
       "    </tr>\n",
       "    <tr>\n",
       "      <th>3</th>\n",
       "      <td>62°36'0.0\"</td>\n",
       "      <td>155°36'0.0\"</td>\n",
       "      <td>NaN</td>\n",
       "      <td>62.600000</td>\n",
       "      <td>155.600000</td>\n",
       "    </tr>\n",
       "    <tr>\n",
       "      <th>4</th>\n",
       "      <td>61°35'0.0\"</td>\n",
       "      <td>146°2'0.0\"</td>\n",
       "      <td>NaN</td>\n",
       "      <td>61.583333</td>\n",
       "      <td>146.033333</td>\n",
       "    </tr>\n",
       "    <tr>\n",
       "      <th>5</th>\n",
       "      <td>68°55'0.0\"</td>\n",
       "      <td>164°24'0.0\"</td>\n",
       "      <td>NaN</td>\n",
       "      <td>68.916667</td>\n",
       "      <td>164.400000</td>\n",
       "    </tr>\n",
       "    <tr>\n",
       "      <th>...</th>\n",
       "      <td>...</td>\n",
       "      <td>...</td>\n",
       "      <td>...</td>\n",
       "      <td>...</td>\n",
       "      <td>...</td>\n",
       "    </tr>\n",
       "    <tr>\n",
       "      <th>4655</th>\n",
       "      <td>66°42'0.0\"</td>\n",
       "      <td>164°23'0.0\"</td>\n",
       "      <td>NaN</td>\n",
       "      <td>66.700000</td>\n",
       "      <td>164.383333</td>\n",
       "    </tr>\n",
       "    <tr>\n",
       "      <th>4656</th>\n",
       "      <td>46°56'30.0\"</td>\n",
       "      <td>137°5'3.0\"</td>\n",
       "      <td>NaN</td>\n",
       "      <td>46.941667</td>\n",
       "      <td>137.084167</td>\n",
       "    </tr>\n",
       "    <tr>\n",
       "      <th>4657</th>\n",
       "      <td>58°12'0.0\"</td>\n",
       "      <td>138°12'0.0\"</td>\n",
       "      <td>NaN</td>\n",
       "      <td>58.200000</td>\n",
       "      <td>138.200000</td>\n",
       "    </tr>\n",
       "    <tr>\n",
       "      <th>4658</th>\n",
       "      <td>60°51'0.0\"</td>\n",
       "      <td>147°31'0.0\"</td>\n",
       "      <td>NaN</td>\n",
       "      <td>60.850000</td>\n",
       "      <td>147.516667</td>\n",
       "    </tr>\n",
       "    <tr>\n",
       "      <th>4659</th>\n",
       "      <td>66°19'0.0\"</td>\n",
       "      <td>165°30'0.0\"</td>\n",
       "      <td>NaN</td>\n",
       "      <td>66.316667</td>\n",
       "      <td>165.500000</td>\n",
       "    </tr>\n",
       "  </tbody>\n",
       "</table>\n",
       "<p>4659 rows × 5 columns</p>\n",
       "</div>"
      ],
      "text/plain": [
       "         Latitude     Longitude past_mer          Y           X\n",
       "1     44°31'30.0\"  138°37'30.0\"      NaN  44.525000  138.625000\n",
       "2     54°12'10.0\"   119°24'0.0\"      NaN  54.202778  119.400000\n",
       "3      62°36'0.0\"   155°36'0.0\"      NaN  62.600000  155.600000\n",
       "4      61°35'0.0\"    146°2'0.0\"      NaN  61.583333  146.033333\n",
       "5      68°55'0.0\"   164°24'0.0\"      NaN  68.916667  164.400000\n",
       "...           ...           ...      ...        ...         ...\n",
       "4655   66°42'0.0\"   164°23'0.0\"      NaN  66.700000  164.383333\n",
       "4656  46°56'30.0\"    137°5'3.0\"      NaN  46.941667  137.084167\n",
       "4657   58°12'0.0\"   138°12'0.0\"      NaN  58.200000  138.200000\n",
       "4658   60°51'0.0\"   147°31'0.0\"      NaN  60.850000  147.516667\n",
       "4659   66°19'0.0\"   165°30'0.0\"      NaN  66.316667  165.500000\n",
       "\n",
       "[4659 rows x 5 columns]"
      ]
     },
     "execution_count": 383,
     "metadata": {},
     "output_type": "execute_result"
    }
   ],
   "source": [
    "coordinates"
   ]
  },
  {
   "cell_type": "code",
   "execution_count": 384,
   "metadata": {},
   "outputs": [],
   "source": [
    "# Delete negative signs in \"Longitude\" column for dms2dec function to work properly\n",
    "coordinates[\"Longitude\"] = coordinates[\"Longitude\"].str.replace(\"-\", \"\")"
   ]
  },
  {
   "cell_type": "code",
   "execution_count": 385,
   "metadata": {},
   "outputs": [],
   "source": [
    "# Include W in \"Longitude\" column\n",
    "sum_ = 0\n",
    "\n",
    "for index, row in coordinates.iterrows():\n",
    "    if (\"W\" in str(row[\"past_mer\"])) or (\"w\" in str(row[\"past_mer\"])):\n",
    "        coordinates.loc[index, \"Longitude\"] = row[\"Longitude\"] + \"W\"\n",
    "        \n",
    "        sum_ += 1"
   ]
  },
  {
   "cell_type": "code",
   "execution_count": 386,
   "metadata": {},
   "outputs": [],
   "source": [
    "# Check that all occurences of \"W\" or \"w\" are catched\n",
    "assert sum_ == int(coordinates[\"past_mer\"].value_counts())"
   ]
  },
  {
   "cell_type": "markdown",
   "metadata": {},
   "source": [
    "### Convert from degrees to decimal format"
   ]
  },
  {
   "cell_type": "code",
   "execution_count": 387,
   "metadata": {},
   "outputs": [],
   "source": [
    "coordinates[\"Y\"] = coordinates.loc[:, \"Latitude\"].apply(cleaning.dms2dec)\n",
    "coordinates[\"X\"] = coordinates.loc[:, \"Longitude\"].apply(cleaning.dms2dec)"
   ]
  },
  {
   "cell_type": "code",
   "execution_count": 388,
   "metadata": {},
   "outputs": [
    {
     "data": {
      "text/plain": [
       "149.38333333333333"
      ]
     },
     "execution_count": 388,
     "metadata": {},
     "output_type": "execute_result"
    }
   ],
   "source": [
    "# Check\n",
    "coordinates.loc[42, \"X\"]"
   ]
  },
  {
   "cell_type": "code",
   "execution_count": 389,
   "metadata": {},
   "outputs": [
    {
     "data": {
      "text/html": [
       "<div>\n",
       "<style scoped>\n",
       "    .dataframe tbody tr th:only-of-type {\n",
       "        vertical-align: middle;\n",
       "    }\n",
       "\n",
       "    .dataframe tbody tr th {\n",
       "        vertical-align: top;\n",
       "    }\n",
       "\n",
       "    .dataframe thead th {\n",
       "        text-align: right;\n",
       "    }\n",
       "</style>\n",
       "<table border=\"1\" class=\"dataframe\">\n",
       "  <thead>\n",
       "    <tr style=\"text-align: right;\">\n",
       "      <th></th>\n",
       "      <th>Latitude</th>\n",
       "      <th>Longitude</th>\n",
       "      <th>past_mer</th>\n",
       "      <th>Y</th>\n",
       "      <th>X</th>\n",
       "    </tr>\n",
       "  </thead>\n",
       "  <tbody>\n",
       "    <tr>\n",
       "      <th>1</th>\n",
       "      <td>44°31'30.0\"</td>\n",
       "      <td>138°37'30.0\"</td>\n",
       "      <td>NaN</td>\n",
       "      <td>44.525000</td>\n",
       "      <td>138.625000</td>\n",
       "    </tr>\n",
       "    <tr>\n",
       "      <th>2</th>\n",
       "      <td>54°12'10.0\"</td>\n",
       "      <td>119°24'0.0\"</td>\n",
       "      <td>NaN</td>\n",
       "      <td>54.202778</td>\n",
       "      <td>119.400000</td>\n",
       "    </tr>\n",
       "    <tr>\n",
       "      <th>3</th>\n",
       "      <td>62°36'0.0\"</td>\n",
       "      <td>155°36'0.0\"</td>\n",
       "      <td>NaN</td>\n",
       "      <td>62.600000</td>\n",
       "      <td>155.600000</td>\n",
       "    </tr>\n",
       "    <tr>\n",
       "      <th>4</th>\n",
       "      <td>61°35'0.0\"</td>\n",
       "      <td>146°2'0.0\"</td>\n",
       "      <td>NaN</td>\n",
       "      <td>61.583333</td>\n",
       "      <td>146.033333</td>\n",
       "    </tr>\n",
       "    <tr>\n",
       "      <th>5</th>\n",
       "      <td>68°55'0.0\"</td>\n",
       "      <td>164°24'0.0\"</td>\n",
       "      <td>NaN</td>\n",
       "      <td>68.916667</td>\n",
       "      <td>164.400000</td>\n",
       "    </tr>\n",
       "    <tr>\n",
       "      <th>...</th>\n",
       "      <td>...</td>\n",
       "      <td>...</td>\n",
       "      <td>...</td>\n",
       "      <td>...</td>\n",
       "      <td>...</td>\n",
       "    </tr>\n",
       "    <tr>\n",
       "      <th>4655</th>\n",
       "      <td>66°42'0.0\"</td>\n",
       "      <td>164°23'0.0\"</td>\n",
       "      <td>NaN</td>\n",
       "      <td>66.700000</td>\n",
       "      <td>164.383333</td>\n",
       "    </tr>\n",
       "    <tr>\n",
       "      <th>4656</th>\n",
       "      <td>46°56'30.0\"</td>\n",
       "      <td>137°5'3.0\"</td>\n",
       "      <td>NaN</td>\n",
       "      <td>46.941667</td>\n",
       "      <td>137.084167</td>\n",
       "    </tr>\n",
       "    <tr>\n",
       "      <th>4657</th>\n",
       "      <td>58°12'0.0\"</td>\n",
       "      <td>138°12'0.0\"</td>\n",
       "      <td>NaN</td>\n",
       "      <td>58.200000</td>\n",
       "      <td>138.200000</td>\n",
       "    </tr>\n",
       "    <tr>\n",
       "      <th>4658</th>\n",
       "      <td>60°51'0.0\"</td>\n",
       "      <td>147°31'0.0\"</td>\n",
       "      <td>NaN</td>\n",
       "      <td>60.850000</td>\n",
       "      <td>147.516667</td>\n",
       "    </tr>\n",
       "    <tr>\n",
       "      <th>4659</th>\n",
       "      <td>66°19'0.0\"</td>\n",
       "      <td>165°30'0.0\"</td>\n",
       "      <td>NaN</td>\n",
       "      <td>66.316667</td>\n",
       "      <td>165.500000</td>\n",
       "    </tr>\n",
       "  </tbody>\n",
       "</table>\n",
       "<p>4659 rows × 5 columns</p>\n",
       "</div>"
      ],
      "text/plain": [
       "         Latitude     Longitude past_mer          Y           X\n",
       "1     44°31'30.0\"  138°37'30.0\"      NaN  44.525000  138.625000\n",
       "2     54°12'10.0\"   119°24'0.0\"      NaN  54.202778  119.400000\n",
       "3      62°36'0.0\"   155°36'0.0\"      NaN  62.600000  155.600000\n",
       "4      61°35'0.0\"    146°2'0.0\"      NaN  61.583333  146.033333\n",
       "5      68°55'0.0\"   164°24'0.0\"      NaN  68.916667  164.400000\n",
       "...           ...           ...      ...        ...         ...\n",
       "4655   66°42'0.0\"   164°23'0.0\"      NaN  66.700000  164.383333\n",
       "4656  46°56'30.0\"    137°5'3.0\"      NaN  46.941667  137.084167\n",
       "4657   58°12'0.0\"   138°12'0.0\"      NaN  58.200000  138.200000\n",
       "4658   60°51'0.0\"   147°31'0.0\"      NaN  60.850000  147.516667\n",
       "4659   66°19'0.0\"   165°30'0.0\"      NaN  66.316667  165.500000\n",
       "\n",
       "[4659 rows x 5 columns]"
      ]
     },
     "execution_count": 389,
     "metadata": {},
     "output_type": "execute_result"
    }
   ],
   "source": [
    "coordinates"
   ]
  },
  {
   "cell_type": "markdown",
   "metadata": {},
   "source": [
    "coordinates = coordinates.rename({\"Y\" : \"Latitude\"}, axis=1)\n",
    "coordinates = coordinates.rename({\"X\" : \"Longitude\"}, axis=1)\n"
   ]
  },
  {
   "cell_type": "code",
   "execution_count": 390,
   "metadata": {},
   "outputs": [
    {
     "data": {
      "text/html": [
       "<div>\n",
       "<style scoped>\n",
       "    .dataframe tbody tr th:only-of-type {\n",
       "        vertical-align: middle;\n",
       "    }\n",
       "\n",
       "    .dataframe tbody tr th {\n",
       "        vertical-align: top;\n",
       "    }\n",
       "\n",
       "    .dataframe thead th {\n",
       "        text-align: right;\n",
       "    }\n",
       "</style>\n",
       "<table border=\"1\" class=\"dataframe\">\n",
       "  <thead>\n",
       "    <tr style=\"text-align: right;\">\n",
       "      <th></th>\n",
       "      <th>Latitude</th>\n",
       "      <th>Longitude</th>\n",
       "      <th>past_mer</th>\n",
       "      <th>Y</th>\n",
       "      <th>X</th>\n",
       "    </tr>\n",
       "  </thead>\n",
       "  <tbody>\n",
       "    <tr>\n",
       "      <th>1</th>\n",
       "      <td>44°31'30.0\"</td>\n",
       "      <td>138°37'30.0\"</td>\n",
       "      <td>NaN</td>\n",
       "      <td>44.525000</td>\n",
       "      <td>138.625000</td>\n",
       "    </tr>\n",
       "    <tr>\n",
       "      <th>2</th>\n",
       "      <td>54°12'10.0\"</td>\n",
       "      <td>119°24'0.0\"</td>\n",
       "      <td>NaN</td>\n",
       "      <td>54.202778</td>\n",
       "      <td>119.400000</td>\n",
       "    </tr>\n",
       "    <tr>\n",
       "      <th>3</th>\n",
       "      <td>62°36'0.0\"</td>\n",
       "      <td>155°36'0.0\"</td>\n",
       "      <td>NaN</td>\n",
       "      <td>62.600000</td>\n",
       "      <td>155.600000</td>\n",
       "    </tr>\n",
       "    <tr>\n",
       "      <th>4</th>\n",
       "      <td>61°35'0.0\"</td>\n",
       "      <td>146°2'0.0\"</td>\n",
       "      <td>NaN</td>\n",
       "      <td>61.583333</td>\n",
       "      <td>146.033333</td>\n",
       "    </tr>\n",
       "    <tr>\n",
       "      <th>5</th>\n",
       "      <td>68°55'0.0\"</td>\n",
       "      <td>164°24'0.0\"</td>\n",
       "      <td>NaN</td>\n",
       "      <td>68.916667</td>\n",
       "      <td>164.400000</td>\n",
       "    </tr>\n",
       "    <tr>\n",
       "      <th>...</th>\n",
       "      <td>...</td>\n",
       "      <td>...</td>\n",
       "      <td>...</td>\n",
       "      <td>...</td>\n",
       "      <td>...</td>\n",
       "    </tr>\n",
       "    <tr>\n",
       "      <th>4655</th>\n",
       "      <td>66°42'0.0\"</td>\n",
       "      <td>164°23'0.0\"</td>\n",
       "      <td>NaN</td>\n",
       "      <td>66.700000</td>\n",
       "      <td>164.383333</td>\n",
       "    </tr>\n",
       "    <tr>\n",
       "      <th>4656</th>\n",
       "      <td>46°56'30.0\"</td>\n",
       "      <td>137°5'3.0\"</td>\n",
       "      <td>NaN</td>\n",
       "      <td>46.941667</td>\n",
       "      <td>137.084167</td>\n",
       "    </tr>\n",
       "    <tr>\n",
       "      <th>4657</th>\n",
       "      <td>58°12'0.0\"</td>\n",
       "      <td>138°12'0.0\"</td>\n",
       "      <td>NaN</td>\n",
       "      <td>58.200000</td>\n",
       "      <td>138.200000</td>\n",
       "    </tr>\n",
       "    <tr>\n",
       "      <th>4658</th>\n",
       "      <td>60°51'0.0\"</td>\n",
       "      <td>147°31'0.0\"</td>\n",
       "      <td>NaN</td>\n",
       "      <td>60.850000</td>\n",
       "      <td>147.516667</td>\n",
       "    </tr>\n",
       "    <tr>\n",
       "      <th>4659</th>\n",
       "      <td>66°19'0.0\"</td>\n",
       "      <td>165°30'0.0\"</td>\n",
       "      <td>NaN</td>\n",
       "      <td>66.316667</td>\n",
       "      <td>165.500000</td>\n",
       "    </tr>\n",
       "  </tbody>\n",
       "</table>\n",
       "<p>4659 rows × 5 columns</p>\n",
       "</div>"
      ],
      "text/plain": [
       "         Latitude     Longitude past_mer          Y           X\n",
       "1     44°31'30.0\"  138°37'30.0\"      NaN  44.525000  138.625000\n",
       "2     54°12'10.0\"   119°24'0.0\"      NaN  54.202778  119.400000\n",
       "3      62°36'0.0\"   155°36'0.0\"      NaN  62.600000  155.600000\n",
       "4      61°35'0.0\"    146°2'0.0\"      NaN  61.583333  146.033333\n",
       "5      68°55'0.0\"   164°24'0.0\"      NaN  68.916667  164.400000\n",
       "...           ...           ...      ...        ...         ...\n",
       "4655   66°42'0.0\"   164°23'0.0\"      NaN  66.700000  164.383333\n",
       "4656  46°56'30.0\"    137°5'3.0\"      NaN  46.941667  137.084167\n",
       "4657   58°12'0.0\"   138°12'0.0\"      NaN  58.200000  138.200000\n",
       "4658   60°51'0.0\"   147°31'0.0\"      NaN  60.850000  147.516667\n",
       "4659   66°19'0.0\"   165°30'0.0\"      NaN  66.316667  165.500000\n",
       "\n",
       "[4659 rows x 5 columns]"
      ]
     },
     "execution_count": 390,
     "metadata": {},
     "output_type": "execute_result"
    }
   ],
   "source": [
    "coordinates"
   ]
  },
  {
   "cell_type": "markdown",
   "metadata": {},
   "source": [
    "### plotting in Qgis does not work --> will look into it (something to do with qgis)"
   ]
  },
  {
   "cell_type": "code",
   "execution_count": 391,
   "metadata": {},
   "outputs": [],
   "source": [
    "coordinates.to_excel(\"../_INTERPOLATION/coordinates_decimal.xlsx\")"
   ]
  },
  {
   "cell_type": "markdown",
   "metadata": {},
   "source": [
    "### Convert to UTM coordinates"
   ]
  },
  {
   "cell_type": "markdown",
   "metadata": {},
   "source": [
    "**To do**\n",
    "* Group samples into certain groups based on spatial distribution\n",
    "* Recalculate utm coordinates based on fixed zone (fixed letter and number)"
   ]
  },
  {
   "cell_type": "code",
   "execution_count": 392,
   "metadata": {},
   "outputs": [],
   "source": [
    "coordinates_utm = coordinates.apply(lambda row : utm.from_latlon(row[\"Y\"], row[\"X\"]), axis=1)\n",
    "coordinates_utm = coordinates_utm.apply(pd.Series)\n",
    "coordinates_utm.columns = [\"Y_UTM\", \"X_UTM\", \"ZoneNumber\", \"ZoneLetter\"]"
   ]
  },
  {
   "cell_type": "code",
   "execution_count": 393,
   "metadata": {},
   "outputs": [
    {
     "data": {
      "text/html": [
       "<div>\n",
       "<style scoped>\n",
       "    .dataframe tbody tr th:only-of-type {\n",
       "        vertical-align: middle;\n",
       "    }\n",
       "\n",
       "    .dataframe tbody tr th {\n",
       "        vertical-align: top;\n",
       "    }\n",
       "\n",
       "    .dataframe thead th {\n",
       "        text-align: right;\n",
       "    }\n",
       "</style>\n",
       "<table border=\"1\" class=\"dataframe\">\n",
       "  <thead>\n",
       "    <tr style=\"text-align: right;\">\n",
       "      <th></th>\n",
       "      <th>Y_UTM</th>\n",
       "      <th>X_UTM</th>\n",
       "      <th>ZoneNumber</th>\n",
       "      <th>ZoneLetter</th>\n",
       "    </tr>\n",
       "  </thead>\n",
       "  <tbody>\n",
       "    <tr>\n",
       "      <th>1</th>\n",
       "      <td>311272.566098</td>\n",
       "      <td>4.932930e+06</td>\n",
       "      <td>54</td>\n",
       "      <td>T</td>\n",
       "    </tr>\n",
       "    <tr>\n",
       "      <th>2</th>\n",
       "      <td>656538.925786</td>\n",
       "      <td>6.008743e+06</td>\n",
       "      <td>50</td>\n",
       "      <td>U</td>\n",
       "    </tr>\n",
       "    <tr>\n",
       "      <th>3</th>\n",
       "      <td>633468.918083</td>\n",
       "      <td>6.943713e+06</td>\n",
       "      <td>56</td>\n",
       "      <td>V</td>\n",
       "    </tr>\n",
       "    <tr>\n",
       "      <th>4</th>\n",
       "      <td>448679.859182</td>\n",
       "      <td>6.828145e+06</td>\n",
       "      <td>55</td>\n",
       "      <td>V</td>\n",
       "    </tr>\n",
       "    <tr>\n",
       "      <th>5</th>\n",
       "      <td>475912.972942</td>\n",
       "      <td>7.645188e+06</td>\n",
       "      <td>58</td>\n",
       "      <td>W</td>\n",
       "    </tr>\n",
       "    <tr>\n",
       "      <th>...</th>\n",
       "      <td>...</td>\n",
       "      <td>...</td>\n",
       "      <td>...</td>\n",
       "      <td>...</td>\n",
       "    </tr>\n",
       "    <tr>\n",
       "      <th>4655</th>\n",
       "      <td>472781.240413</td>\n",
       "      <td>7.398072e+06</td>\n",
       "      <td>58</td>\n",
       "      <td>W</td>\n",
       "    </tr>\n",
       "    <tr>\n",
       "      <th>4656</th>\n",
       "      <td>658620.016371</td>\n",
       "      <td>5.200790e+06</td>\n",
       "      <td>53</td>\n",
       "      <td>T</td>\n",
       "    </tr>\n",
       "    <tr>\n",
       "      <th>4657</th>\n",
       "      <td>335447.154681</td>\n",
       "      <td>6.454395e+06</td>\n",
       "      <td>54</td>\n",
       "      <td>V</td>\n",
       "    </tr>\n",
       "    <tr>\n",
       "      <th>4658</th>\n",
       "      <td>528075.823175</td>\n",
       "      <td>6.746190e+06</td>\n",
       "      <td>55</td>\n",
       "      <td>V</td>\n",
       "    </tr>\n",
       "    <tr>\n",
       "      <th>4659</th>\n",
       "      <td>522411.349692</td>\n",
       "      <td>7.355297e+06</td>\n",
       "      <td>58</td>\n",
       "      <td>W</td>\n",
       "    </tr>\n",
       "  </tbody>\n",
       "</table>\n",
       "<p>4659 rows × 4 columns</p>\n",
       "</div>"
      ],
      "text/plain": [
       "              Y_UTM         X_UTM  ZoneNumber ZoneLetter\n",
       "1     311272.566098  4.932930e+06          54          T\n",
       "2     656538.925786  6.008743e+06          50          U\n",
       "3     633468.918083  6.943713e+06          56          V\n",
       "4     448679.859182  6.828145e+06          55          V\n",
       "5     475912.972942  7.645188e+06          58          W\n",
       "...             ...           ...         ...        ...\n",
       "4655  472781.240413  7.398072e+06          58          W\n",
       "4656  658620.016371  5.200790e+06          53          T\n",
       "4657  335447.154681  6.454395e+06          54          V\n",
       "4658  528075.823175  6.746190e+06          55          V\n",
       "4659  522411.349692  7.355297e+06          58          W\n",
       "\n",
       "[4659 rows x 4 columns]"
      ]
     },
     "execution_count": 393,
     "metadata": {},
     "output_type": "execute_result"
    }
   ],
   "source": [
    "coordinates_utm"
   ]
  },
  {
   "cell_type": "code",
   "execution_count": 394,
   "metadata": {},
   "outputs": [
    {
     "data": {
      "text/plain": [
       "53    971\n",
       "49    802\n",
       "50    689\n",
       "54    655\n",
       "55    279\n",
       "56    232\n",
       "58    174\n",
       "60    151\n",
       "1     139\n",
       "59    133\n",
       "48    132\n",
       "57    130\n",
       "52     90\n",
       "2      40\n",
       "51     39\n",
       "47      3\n",
       "Name: ZoneNumber, dtype: int64"
      ]
     },
     "execution_count": 394,
     "metadata": {},
     "output_type": "execute_result"
    }
   ],
   "source": [
    "coordinates_utm[\"ZoneNumber\"].value_counts()"
   ]
  },
  {
   "cell_type": "code",
   "execution_count": 395,
   "metadata": {},
   "outputs": [
    {
     "data": {
      "text/plain": [
       "U    1875\n",
       "W    1117\n",
       "T     878\n",
       "V     758\n",
       "X      31\n",
       "Name: ZoneLetter, dtype: int64"
      ]
     },
     "execution_count": 395,
     "metadata": {},
     "output_type": "execute_result"
    }
   ],
   "source": [
    "coordinates_utm[\"ZoneLetter\"].value_counts()"
   ]
  },
  {
   "cell_type": "code",
   "execution_count": 396,
   "metadata": {},
   "outputs": [
    {
     "data": {
      "text/plain": [
       "49U    759\n",
       "50U    658\n",
       "53T    643\n",
       "55V    197\n",
       "56V    196\n",
       "54W    193\n",
       "54V    178\n",
       "53U    167\n",
       "53W    148\n",
       "1W     139\n",
       "54T    129\n",
       "60W    126\n",
       "59W    125\n",
       "54U    124\n",
       "58W    111\n",
       "55W     82\n",
       "48U     77\n",
       "58V     63\n",
       "52W     58\n",
       "57V     57\n",
       "57W     56\n",
       "48T     55\n",
       "49T     40\n",
       "2W      40\n",
       "51U     38\n",
       "56W     36\n",
       "52U     32\n",
       "54X     31\n",
       "60V     25\n",
       "50V     20\n",
       "57U     17\n",
       "53V     13\n",
       "50T     11\n",
       "59V      8\n",
       "47U      3\n",
       "49W      3\n",
       "51V      1\n",
       "dtype: int64"
      ]
     },
     "execution_count": 396,
     "metadata": {},
     "output_type": "execute_result"
    }
   ],
   "source": [
    "(coordinates_utm[\"ZoneNumber\"].astype(str) + coordinates_utm[\"ZoneLetter\"]).value_counts()"
   ]
  },
  {
   "cell_type": "code",
   "execution_count": 397,
   "metadata": {},
   "outputs": [],
   "source": [
    "coordinates_utm.to_excel(\"../_INTERPOLATION/coordinates_UTM.xlsx\")\n",
    "cof= pd.read_excel(\"../_RESULTS/working_data.xlsx\", index_col=0, usecols = lambda column : column not in [\"Lat_deg\", \"Lat_min\", \"Lat_sec\", \"Long_deg\", \"Long_min\", \"Long_sec\", \"past_mer\"] )"
   ]
  },
  {
   "cell_type": "code",
   "execution_count": 398,
   "metadata": {},
   "outputs": [
    {
     "data": {
      "text/html": [
       "<div>\n",
       "<style scoped>\n",
       "    .dataframe tbody tr th:only-of-type {\n",
       "        vertical-align: middle;\n",
       "    }\n",
       "\n",
       "    .dataframe tbody tr th {\n",
       "        vertical-align: top;\n",
       "    }\n",
       "\n",
       "    .dataframe thead th {\n",
       "        text-align: right;\n",
       "    }\n",
       "</style>\n",
       "<table border=\"1\" class=\"dataframe\">\n",
       "  <thead>\n",
       "    <tr style=\"text-align: right;\">\n",
       "      <th></th>\n",
       "      <th>type_granite</th>\n",
       "      <th>time</th>\n",
       "      <th>massif</th>\n",
       "      <th>sampler</th>\n",
       "      <th>others</th>\n",
       "      <th>sampler+year</th>\n",
       "    </tr>\n",
       "  </thead>\n",
       "  <tbody>\n",
       "    <tr>\n",
       "      <th>1</th>\n",
       "      <td>Granite leucogranitic</td>\n",
       "      <td>K2</td>\n",
       "      <td>NaN</td>\n",
       "      <td>NaN</td>\n",
       "      <td>NaN</td>\n",
       "      <td>V.N.Musin,1970</td>\n",
       "    </tr>\n",
       "    <tr>\n",
       "      <th>2</th>\n",
       "      <td>Granite leucocratic</td>\n",
       "      <td>Tr</td>\n",
       "      <td>NaN</td>\n",
       "      <td>V.I.Zhigalova</td>\n",
       "      <td>NaN</td>\n",
       "      <td>E.A.Ivanov,1969</td>\n",
       "    </tr>\n",
       "    <tr>\n",
       "      <th>3</th>\n",
       "      <td>Granite leucocratic coarse-grained</td>\n",
       "      <td>K2</td>\n",
       "      <td>Omsukchan massif</td>\n",
       "      <td>P.M.Bosek</td>\n",
       "      <td>NaN</td>\n",
       "      <td>O.S.Gracheva,1948</td>\n",
       "    </tr>\n",
       "    <tr>\n",
       "      <th>4</th>\n",
       "      <td>Granite leucocratic</td>\n",
       "      <td>K1</td>\n",
       "      <td>Buksandzhin massif</td>\n",
       "      <td>A.Kh.Brovtman</td>\n",
       "      <td>NaN</td>\n",
       "      <td>A.F.Mikhaylov,1948</td>\n",
       "    </tr>\n",
       "    <tr>\n",
       "      <th>5</th>\n",
       "      <td>Granite-porphyry micropegmatitic</td>\n",
       "      <td>K1</td>\n",
       "      <td>Attykveem massif</td>\n",
       "      <td>L.G.Semenova</td>\n",
       "      <td>0th.:S-0.16</td>\n",
       "      <td>A.I.Sadovsky,1963</td>\n",
       "    </tr>\n",
       "    <tr>\n",
       "      <th>...</th>\n",
       "      <td>...</td>\n",
       "      <td>...</td>\n",
       "      <td>...</td>\n",
       "      <td>...</td>\n",
       "      <td>...</td>\n",
       "      <td>...</td>\n",
       "    </tr>\n",
       "    <tr>\n",
       "      <th>4655</th>\n",
       "      <td>Diorite</td>\n",
       "      <td>K1</td>\n",
       "      <td>Egdegkych massif</td>\n",
       "      <td>NaN</td>\n",
       "      <td>Oth.:co2-0.12</td>\n",
       "      <td>V.A.lgnat'ev,1964</td>\n",
       "    </tr>\n",
       "    <tr>\n",
       "      <th>4656</th>\n",
       "      <td>Quartz diorite</td>\n",
       "      <td>K2</td>\n",
       "      <td>Verkhneplotnikovsky massif</td>\n",
       "      <td>NaN</td>\n",
       "      <td>NaN</td>\n",
       "      <td>A.A.Syas'ko,1969</td>\n",
       "    </tr>\n",
       "    <tr>\n",
       "      <th>4657</th>\n",
       "      <td>Diorite</td>\n",
       "      <td>J3</td>\n",
       "      <td>NaN</td>\n",
       "      <td>NaN</td>\n",
       "      <td>Oth.:co2-0.02,so3-0.0l</td>\n",
       "      <td>N.N.Remizov,1967</td>\n",
       "    </tr>\n",
       "    <tr>\n",
       "      <th>4658</th>\n",
       "      <td>Diorite</td>\n",
       "      <td>K2</td>\n",
       "      <td>NaN</td>\n",
       "      <td>NaN</td>\n",
       "      <td>NaN</td>\n",
       "      <td>A.P.Osipov,1966</td>\n",
       "    </tr>\n",
       "    <tr>\n",
       "      <th>4659</th>\n",
       "      <td>Diorite</td>\n",
       "      <td>K2</td>\n",
       "      <td>Vukney massif</td>\n",
       "      <td>V.V.Langvagen</td>\n",
       "      <td>Oth:Ba0-0.03</td>\n",
       "      <td>M.G.Ravich,1938</td>\n",
       "    </tr>\n",
       "  </tbody>\n",
       "</table>\n",
       "<p>4659 rows × 6 columns</p>\n",
       "</div>"
      ],
      "text/plain": [
       "                            type_granite time                      massif  \\\n",
       "1                  Granite leucogranitic   K2                         NaN   \n",
       "2                    Granite leucocratic   Tr                         NaN   \n",
       "3     Granite leucocratic coarse-grained   K2            Omsukchan massif   \n",
       "4                    Granite leucocratic   K1          Buksandzhin massif   \n",
       "5       Granite-porphyry micropegmatitic   K1            Attykveem massif   \n",
       "...                                  ...  ...                         ...   \n",
       "4655                             Diorite   K1            Egdegkych massif   \n",
       "4656                      Quartz diorite   K2  Verkhneplotnikovsky massif   \n",
       "4657                             Diorite   J3                         NaN   \n",
       "4658                             Diorite   K2                         NaN   \n",
       "4659                             Diorite   K2               Vukney massif   \n",
       "\n",
       "            sampler                  others        sampler+year  \n",
       "1               NaN                     NaN      V.N.Musin,1970  \n",
       "2     V.I.Zhigalova                     NaN     E.A.Ivanov,1969  \n",
       "3         P.M.Bosek                     NaN   O.S.Gracheva,1948  \n",
       "4     A.Kh.Brovtman                     NaN  A.F.Mikhaylov,1948  \n",
       "5      L.G.Semenova             0th.:S-0.16   A.I.Sadovsky,1963  \n",
       "...             ...                     ...                 ...  \n",
       "4655            NaN           Oth.:co2-0.12   V.A.lgnat'ev,1964  \n",
       "4656            NaN                     NaN    A.A.Syas'ko,1969  \n",
       "4657            NaN  Oth.:co2-0.02,so3-0.0l    N.N.Remizov,1967  \n",
       "4658            NaN                     NaN     A.P.Osipov,1966  \n",
       "4659  V.V.Langvagen            Oth:Ba0-0.03     M.G.Ravich,1938  \n",
       "\n",
       "[4659 rows x 6 columns]"
      ]
     },
     "execution_count": 398,
     "metadata": {},
     "output_type": "execute_result"
    }
   ],
   "source": [
    "cof"
   ]
  },
  {
   "cell_type": "code",
   "execution_count": 399,
   "metadata": {},
   "outputs": [],
   "source": [
    "coordinates_full = pd.concat([coordinates_utm, coordinates, mineralogy, cof], axis = 1)"
   ]
  },
  {
   "cell_type": "code",
   "execution_count": 400,
   "metadata": {},
   "outputs": [],
   "source": [
    "coordinates_full.to_excel(\"../_INTERPOLATION/coordinates_full_data.xlsx\")\n"
   ]
  },
  {
   "cell_type": "markdown",
   "metadata": {},
   "source": [
    "##### grouping the data"
   ]
  },
  {
   "cell_type": "code",
   "execution_count": 401,
   "metadata": {},
   "outputs": [],
   "source": [
    "areax = coordinates_full\n",
    "areax[\"area\"] = \"\"\n"
   ]
  },
  {
   "cell_type": "code",
   "execution_count": 402,
   "metadata": {},
   "outputs": [
    {
     "name": "stderr",
     "output_type": "stream",
     "text": [
      "C:\\Users\\Sebastian\\Anaconda3\\envs\\main\\lib\\site-packages\\ipykernel_launcher.py:3: SettingWithCopyWarning: \n",
      "A value is trying to be set on a copy of a slice from a DataFrame.\n",
      "Try using .loc[row_indexer,col_indexer] = value instead\n",
      "\n",
      "See the caveats in the documentation: http://pandas.pydata.org/pandas-docs/stable/user_guide/indexing.html#returning-a-view-versus-a-copy\n",
      "  This is separate from the ipykernel package so we can avoid doing imports until\n"
     ]
    }
   ],
   "source": [
    "areay1 = areax[areax[\"X\"].between(0, 120)]\n",
    "area1 = areay1[areay1[\"Y\"].between(0, 58)]\n",
    "area1[\"area\"] = 1\n",
    "area1.to_excel(\"../_INTERPOLATION/area1.xlsx\")\n"
   ]
  },
  {
   "cell_type": "code",
   "execution_count": 403,
   "metadata": {},
   "outputs": [
    {
     "name": "stderr",
     "output_type": "stream",
     "text": [
      "C:\\Users\\Sebastian\\Anaconda3\\envs\\main\\lib\\site-packages\\ipykernel_launcher.py:3: SettingWithCopyWarning: \n",
      "A value is trying to be set on a copy of a slice from a DataFrame.\n",
      "Try using .loc[row_indexer,col_indexer] = value instead\n",
      "\n",
      "See the caveats in the documentation: http://pandas.pydata.org/pandas-docs/stable/user_guide/indexing.html#returning-a-view-versus-a-copy\n",
      "  This is separate from the ipykernel package so we can avoid doing imports until\n"
     ]
    }
   ],
   "source": [
    "areay2 = areax[areax[\"X\"].between(121, 142)]\n",
    "area2 = areay2[areay2[\"Y\"].between(42, 58.60)]\n",
    "area2[\"area\"] = 2\n",
    "area2.to_excel(\"../_INTERPOLATION/area2.xlsx\")\n"
   ]
  },
  {
   "cell_type": "code",
   "execution_count": 404,
   "metadata": {},
   "outputs": [
    {
     "name": "stderr",
     "output_type": "stream",
     "text": [
      "C:\\Users\\Sebastian\\Anaconda3\\envs\\main\\lib\\site-packages\\ipykernel_launcher.py:3: SettingWithCopyWarning: \n",
      "A value is trying to be set on a copy of a slice from a DataFrame.\n",
      "Try using .loc[row_indexer,col_indexer] = value instead\n",
      "\n",
      "See the caveats in the documentation: http://pandas.pydata.org/pandas-docs/stable/user_guide/indexing.html#returning-a-view-versus-a-copy\n",
      "  This is separate from the ipykernel package so we can avoid doing imports until\n"
     ]
    }
   ],
   "source": [
    "areay3 = areax[areax[\"X\"].between(126, 160.5)]\n",
    "area3 = areay3[areay3[\"Y\"].between(58.6, 75)]\n",
    "area3[\"area\"] = 3\n",
    "area3.to_excel(\"../_INTERPOLATION/area3.xlsx\")"
   ]
  },
  {
   "cell_type": "code",
   "execution_count": 405,
   "metadata": {},
   "outputs": [],
   "source": [
    "areay4 = areax[areax[\"X\"].between(160.5, 180)]\n",
    "area4 = areay4[areay4[\"Y\"].between(58, 75)]\n",
    "area4[\"area\"] = 4\n",
    "area4.to_excel(\"../_INTERPOLATION/area4.xlsx\")"
   ]
  },
  {
   "cell_type": "code",
   "execution_count": 406,
   "metadata": {},
   "outputs": [],
   "source": [
    "areay5 = areax[areax[\"X\"].between(-180, -165)]\n",
    "area5 = areay5[areay5[\"Y\"].between(63, 70)]\n",
    "area5[\"area\"] = 5\n",
    "area5.to_excel(\"../_INTERPOLATION/area5.xlsx\")"
   ]
  },
  {
   "cell_type": "code",
   "execution_count": 407,
   "metadata": {},
   "outputs": [],
   "source": [
    "area12 = area1.append(area2)\n",
    "area123 = area12.append(area3) \n",
    "area1234 = area123.append(area4) \n",
    "area = area1234.append(area5) \n",
    "area.to_excel(\"../_INTERPOLATION/area_subdivided.xlsx\")"
   ]
  },
  {
   "cell_type": "markdown",
   "metadata": {},
   "source": [
    "____"
   ]
  },
  {
   "cell_type": "markdown",
   "metadata": {},
   "source": [
    "## Metadata"
   ]
  },
  {
   "cell_type": "code",
   "execution_count": 408,
   "metadata": {},
   "outputs": [],
   "source": [
    "metadata = pd.read_excel(\"../_INTERPOLATION/coordinates_full_data.xlsx\", index_col=0, usecols=[0, 25, 26, 27, 28, 29, 30])"
   ]
  },
  {
   "cell_type": "code",
   "execution_count": 409,
   "metadata": {},
   "outputs": [
    {
     "data": {
      "text/html": [
       "<div>\n",
       "<style scoped>\n",
       "    .dataframe tbody tr th:only-of-type {\n",
       "        vertical-align: middle;\n",
       "    }\n",
       "\n",
       "    .dataframe tbody tr th {\n",
       "        vertical-align: top;\n",
       "    }\n",
       "\n",
       "    .dataframe thead th {\n",
       "        text-align: right;\n",
       "    }\n",
       "</style>\n",
       "<table border=\"1\" class=\"dataframe\">\n",
       "  <thead>\n",
       "    <tr style=\"text-align: right;\">\n",
       "      <th></th>\n",
       "      <th>type_granite</th>\n",
       "      <th>time</th>\n",
       "      <th>massif</th>\n",
       "      <th>sampler</th>\n",
       "      <th>others</th>\n",
       "      <th>sampler+year</th>\n",
       "    </tr>\n",
       "  </thead>\n",
       "  <tbody>\n",
       "    <tr>\n",
       "      <th>1</th>\n",
       "      <td>Granite leucogranitic</td>\n",
       "      <td>K2</td>\n",
       "      <td>NaN</td>\n",
       "      <td>NaN</td>\n",
       "      <td>NaN</td>\n",
       "      <td>V.N.Musin,1970</td>\n",
       "    </tr>\n",
       "    <tr>\n",
       "      <th>2</th>\n",
       "      <td>Granite leucocratic</td>\n",
       "      <td>Tr</td>\n",
       "      <td>NaN</td>\n",
       "      <td>V.I.Zhigalova</td>\n",
       "      <td>NaN</td>\n",
       "      <td>E.A.Ivanov,1969</td>\n",
       "    </tr>\n",
       "    <tr>\n",
       "      <th>3</th>\n",
       "      <td>Granite leucocratic coarse-grained</td>\n",
       "      <td>K2</td>\n",
       "      <td>Omsukchan massif</td>\n",
       "      <td>P.M.Bosek</td>\n",
       "      <td>NaN</td>\n",
       "      <td>O.S.Gracheva,1948</td>\n",
       "    </tr>\n",
       "    <tr>\n",
       "      <th>4</th>\n",
       "      <td>Granite leucocratic</td>\n",
       "      <td>K1</td>\n",
       "      <td>Buksandzhin massif</td>\n",
       "      <td>A.Kh.Brovtman</td>\n",
       "      <td>NaN</td>\n",
       "      <td>A.F.Mikhaylov,1948</td>\n",
       "    </tr>\n",
       "    <tr>\n",
       "      <th>5</th>\n",
       "      <td>Granite-porphyry micropegmatitic</td>\n",
       "      <td>K1</td>\n",
       "      <td>Attykveem massif</td>\n",
       "      <td>L.G.Semenova</td>\n",
       "      <td>0th.:S-0.16</td>\n",
       "      <td>A.I.Sadovsky,1963</td>\n",
       "    </tr>\n",
       "    <tr>\n",
       "      <th>...</th>\n",
       "      <td>...</td>\n",
       "      <td>...</td>\n",
       "      <td>...</td>\n",
       "      <td>...</td>\n",
       "      <td>...</td>\n",
       "      <td>...</td>\n",
       "    </tr>\n",
       "    <tr>\n",
       "      <th>4655</th>\n",
       "      <td>Diorite</td>\n",
       "      <td>K1</td>\n",
       "      <td>Egdegkych massif</td>\n",
       "      <td>NaN</td>\n",
       "      <td>Oth.:co2-0.12</td>\n",
       "      <td>V.A.lgnat'ev,1964</td>\n",
       "    </tr>\n",
       "    <tr>\n",
       "      <th>4656</th>\n",
       "      <td>Quartz diorite</td>\n",
       "      <td>K2</td>\n",
       "      <td>Verkhneplotnikovsky massif</td>\n",
       "      <td>NaN</td>\n",
       "      <td>NaN</td>\n",
       "      <td>A.A.Syas'ko,1969</td>\n",
       "    </tr>\n",
       "    <tr>\n",
       "      <th>4657</th>\n",
       "      <td>Diorite</td>\n",
       "      <td>J3</td>\n",
       "      <td>NaN</td>\n",
       "      <td>NaN</td>\n",
       "      <td>Oth.:co2-0.02,so3-0.0l</td>\n",
       "      <td>N.N.Remizov,1967</td>\n",
       "    </tr>\n",
       "    <tr>\n",
       "      <th>4658</th>\n",
       "      <td>Diorite</td>\n",
       "      <td>K2</td>\n",
       "      <td>NaN</td>\n",
       "      <td>NaN</td>\n",
       "      <td>NaN</td>\n",
       "      <td>A.P.Osipov,1966</td>\n",
       "    </tr>\n",
       "    <tr>\n",
       "      <th>4659</th>\n",
       "      <td>Diorite</td>\n",
       "      <td>K2</td>\n",
       "      <td>Vukney massif</td>\n",
       "      <td>V.V.Langvagen</td>\n",
       "      <td>Oth:Ba0-0.03</td>\n",
       "      <td>M.G.Ravich,1938</td>\n",
       "    </tr>\n",
       "  </tbody>\n",
       "</table>\n",
       "<p>4659 rows × 6 columns</p>\n",
       "</div>"
      ],
      "text/plain": [
       "                            type_granite time                      massif  \\\n",
       "1                  Granite leucogranitic   K2                         NaN   \n",
       "2                    Granite leucocratic   Tr                         NaN   \n",
       "3     Granite leucocratic coarse-grained   K2            Omsukchan massif   \n",
       "4                    Granite leucocratic   K1          Buksandzhin massif   \n",
       "5       Granite-porphyry micropegmatitic   K1            Attykveem massif   \n",
       "...                                  ...  ...                         ...   \n",
       "4655                             Diorite   K1            Egdegkych massif   \n",
       "4656                      Quartz diorite   K2  Verkhneplotnikovsky massif   \n",
       "4657                             Diorite   J3                         NaN   \n",
       "4658                             Diorite   K2                         NaN   \n",
       "4659                             Diorite   K2               Vukney massif   \n",
       "\n",
       "            sampler                  others        sampler+year  \n",
       "1               NaN                     NaN      V.N.Musin,1970  \n",
       "2     V.I.Zhigalova                     NaN     E.A.Ivanov,1969  \n",
       "3         P.M.Bosek                     NaN   O.S.Gracheva,1948  \n",
       "4     A.Kh.Brovtman                     NaN  A.F.Mikhaylov,1948  \n",
       "5      L.G.Semenova             0th.:S-0.16   A.I.Sadovsky,1963  \n",
       "...             ...                     ...                 ...  \n",
       "4655            NaN           Oth.:co2-0.12   V.A.lgnat'ev,1964  \n",
       "4656            NaN                     NaN    A.A.Syas'ko,1969  \n",
       "4657            NaN  Oth.:co2-0.02,so3-0.0l    N.N.Remizov,1967  \n",
       "4658            NaN                     NaN     A.P.Osipov,1966  \n",
       "4659  V.V.Langvagen            Oth:Ba0-0.03     M.G.Ravich,1938  \n",
       "\n",
       "[4659 rows x 6 columns]"
      ]
     },
     "execution_count": 409,
     "metadata": {},
     "output_type": "execute_result"
    }
   ],
   "source": [
    "metadata"
   ]
  },
  {
   "cell_type": "code",
   "execution_count": 410,
   "metadata": {},
   "outputs": [
    {
     "data": {
      "text/plain": [
       "Granite                                               656\n",
       "Granodiorite                                          523\n",
       "Granite-porphyry                                      282\n",
       "Bt granite                                            268\n",
       "Granite leucocratic                                   220\n",
       "                                                     ... \n",
       "Granite porphyraceous leucogranitic coarse-grained      1\n",
       "Granite leucogranitic pegmatoid                         1\n",
       "Granite monzonitic                                      1\n",
       "Hb granodiorite-porphyry                                1\n",
       "Granite granophyric subalkaline                         1\n",
       "Name: type_granite, Length: 401, dtype: int64"
      ]
     },
     "execution_count": 410,
     "metadata": {},
     "output_type": "execute_result"
    }
   ],
   "source": [
    "metadata[\"type_granite\"].value_counts()"
   ]
  },
  {
   "cell_type": "code",
   "execution_count": 411,
   "metadata": {},
   "outputs": [
    {
     "data": {
      "text/plain": [
       "Ulakhan-Sis massif         58\n",
       "Khoboyotuu-Echiy massif    56\n",
       "Vladimirsky massif         35\n",
       "Zimov'e massif             33\n",
       "Bom-Gorkhon massif         31\n",
       "                           ..\n",
       "Dogdin massif               1\n",
       "Tas massif                  1\n",
       "Choatakchin massif          1\n",
       "Osinovsky massif            1\n",
       "Buordakh massif             1\n",
       "Name: massif, Length: 942, dtype: int64"
      ]
     },
     "execution_count": 411,
     "metadata": {},
     "output_type": "execute_result"
    }
   ],
   "source": [
    "metadata[\"massif\"].value_counts()"
   ]
  },
  {
   "cell_type": "code",
   "execution_count": 412,
   "metadata": {},
   "outputs": [
    {
     "data": {
      "text/plain": [
       "K2       1271\n",
       "K1       1151\n",
       "Tr        516\n",
       "J3        411\n",
       "Tr-J      338\n",
       "Pg        193\n",
       "K2-Pg     171\n",
       "J2        154\n",
       "J1-J2     109\n",
       "Mz         88\n",
       "J1         69\n",
       "K          62\n",
       "J          46\n",
       "J-K        37\n",
       "J2-J3      35\n",
       "Name: time, dtype: int64"
      ]
     },
     "execution_count": 412,
     "metadata": {},
     "output_type": "execute_result"
    }
   ],
   "source": [
    "metadata[\"time\"].value_counts()"
   ]
  },
  {
   "cell_type": "code",
   "execution_count": 413,
   "metadata": {},
   "outputs": [
    {
     "data": {
      "text/plain": [
       "L.S.Voronova      120\n",
       "D.M.Shuster        87\n",
       "N.A.Lebedeva       86\n",
       "V.I.Zhigalova      70\n",
       "N.P.Mel'nikova     51\n",
       "                 ... \n",
       "R.N.Il'nitsky       1\n",
       "Z.IKondrashina      1\n",
       "ANIl'inykh.         1\n",
       "N.SSergutina        1\n",
       "E.Gerasimova        1\n",
       "Name: sampler, Length: 736, dtype: int64"
      ]
     },
     "execution_count": 413,
     "metadata": {},
     "output_type": "execute_result"
    }
   ],
   "source": [
    "metadata[\"sampler\"].value_counts()"
   ]
  },
  {
   "cell_type": "code",
   "execution_count": 414,
   "metadata": {},
   "outputs": [
    {
     "data": {
      "text/plain": [
       "G.A.Valuy,1975          76\n",
       "V.A.Popeko,1968         61\n",
       "V.A.Faradzhev,1971      43\n",
       "V.S.Ivanov,1968         37\n",
       "R.O.Galabala,1976       37\n",
       "                        ..\n",
       "A.V.Ivanov,1956          1\n",
       "F.A.Golovachev,1935      1\n",
       "K.F.Khatskevich,1966     1\n",
       "I.P.Boyko,1966           1\n",
       "V.I.Goldenberg,1958      1\n",
       "Name: sampler+year, Length: 1392, dtype: int64"
      ]
     },
     "execution_count": 414,
     "metadata": {},
     "output_type": "execute_result"
    }
   ],
   "source": [
    "metadata[\"sampler+year\"].value_counts()"
   ]
  },
  {
   "cell_type": "markdown",
   "metadata": {},
   "source": [
    "## Saving of data"
   ]
  },
  {
   "cell_type": "code",
   "execution_count": 415,
   "metadata": {},
   "outputs": [],
   "source": [
    "# Save data as pickle files to use them in later notebooks\n",
    "preproc.save_obj(mineralogy, \"mineralogy\") # mineralogy\n",
    "preproc.save_obj(mineralogy_clr, \"mineralogy_clr\") # mineralogy clr\n",
    "preproc.save_obj(mineralogy_pca, \"mineralogy_pca\") # mineralogy pca info\n",
    "preproc.save_obj(mineralogy_pca_df, \"mineralogy_pca_df\") # mineralogy pca scores\n",
    "\n",
    "preproc.save_obj(coordinates, \"coordinates\") # coordinates latlon\n",
    "preproc.save_obj(coordinates_utm, \"coordinates_utm\") # coordinates utm\n",
    "preproc.save_obj(metadata, \"metadata\") # metadata"
   ]
  },
  {
   "cell_type": "markdown",
   "metadata": {},
   "source": [
    "____"
   ]
  },
  {
   "cell_type": "code",
   "execution_count": null,
   "metadata": {},
   "outputs": [],
   "source": []
  },
  {
   "cell_type": "code",
   "execution_count": null,
   "metadata": {},
   "outputs": [],
   "source": []
  }
 ],
 "metadata": {
  "kernelspec": {
   "display_name": "Python 3",
   "language": "python",
   "name": "python3"
  },
  "language_info": {
   "codemirror_mode": {
    "name": "ipython",
    "version": 3
   },
   "file_extension": ".py",
   "mimetype": "text/x-python",
   "name": "python",
   "nbconvert_exporter": "python",
   "pygments_lexer": "ipython3",
   "version": "3.7.3"
  },
  "toc-autonumbering": true
 },
 "nbformat": 4,
 "nbformat_minor": 4
}
