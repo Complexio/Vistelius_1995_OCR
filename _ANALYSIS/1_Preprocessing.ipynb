{
 "cells": [
  {
   "cell_type": "markdown",
   "metadata": {},
   "source": [
    "# Preprocessing"
   ]
  },
  {
   "cell_type": "code",
   "execution_count": 1,
   "metadata": {},
   "outputs": [],
   "source": [
    "import numpy as np\n",
    "import pandas as pd\n",
    "import os\n",
    "import pickle\n",
    "\n",
    "import utm"
   ]
  },
  {
   "cell_type": "code",
   "execution_count": 2,
   "metadata": {},
   "outputs": [],
   "source": [
    "import prepostprocessing.cleaning as cleaning\n",
    "import prepostprocessing.pre_processing as preproc"
   ]
  },
  {
   "cell_type": "code",
   "execution_count": 3,
   "metadata": {},
   "outputs": [],
   "source": [
    "# Load jupyter extension to reload packages before executing user code.\n",
    "# https://ipython.readthedocs.io/en/stable/config/extensions/autoreload.html\n",
    "%load_ext autoreload\n",
    "# Reload all packages (except those excluded by %aimport) every time before executing the Python code typed.\n",
    "%autoreload 2"
   ]
  },
  {
   "cell_type": "markdown",
   "metadata": {},
   "source": [
    "## Mineralogy"
   ]
  },
  {
   "cell_type": "markdown",
   "metadata": {},
   "source": [
    "**To do**\n",
    "* Clean last points in Excel file while using \"sum\" as check"
   ]
  },
  {
   "cell_type": "code",
   "execution_count": 6,
   "metadata": {},
   "outputs": [],
   "source": [
    "mineralogy = pd.read_excel(\"../_CLEANED/Vistelius_data_cleaned.xlsx\", index_col=0)"
   ]
  },
  {
   "cell_type": "code",
   "execution_count": 23,
   "metadata": {},
   "outputs": [
    {
     "data": {
      "text/plain": [
       "array([ True,  True,  True, ...,  True,  True,  True])"
      ]
     },
     "execution_count": 23,
     "metadata": {},
     "output_type": "execute_result"
    }
   ],
   "source": [
    "np.isclose(mineralogy.loc[:, :\"oth\"].sum(axis=1), mineralogy.loc[:, \"sum\"])"
   ]
  },
  {
   "cell_type": "code",
   "execution_count": 28,
   "metadata": {},
   "outputs": [],
   "source": [
    "wrong_sum = mineralogy.loc[~np.isclose(mineralogy.loc[:, :\"oth\"].sum(axis=1), mineralogy.loc[:, \"sum\"]), :]"
   ]
  },
  {
   "cell_type": "code",
   "execution_count": 32,
   "metadata": {},
   "outputs": [
    {
     "data": {
      "text/html": [
       "<div>\n",
       "<style scoped>\n",
       "    .dataframe tbody tr th:only-of-type {\n",
       "        vertical-align: middle;\n",
       "    }\n",
       "\n",
       "    .dataframe tbody tr th {\n",
       "        vertical-align: top;\n",
       "    }\n",
       "\n",
       "    .dataframe thead th {\n",
       "        text-align: right;\n",
       "    }\n",
       "</style>\n",
       "<table border=\"1\" class=\"dataframe\">\n",
       "  <thead>\n",
       "    <tr style=\"text-align: right;\">\n",
       "      <th></th>\n",
       "      <th>SiO2</th>\n",
       "      <th>TiO2</th>\n",
       "      <th>Al2O3</th>\n",
       "      <th>Fe2O3</th>\n",
       "      <th>FeO</th>\n",
       "      <th>MnO</th>\n",
       "      <th>MgO</th>\n",
       "      <th>CaO</th>\n",
       "      <th>Na2O</th>\n",
       "      <th>K2O</th>\n",
       "      <th>P2O5</th>\n",
       "      <th>l.i.</th>\n",
       "      <th>oth</th>\n",
       "      <th>sum</th>\n",
       "      <th>hs</th>\n",
       "    </tr>\n",
       "  </thead>\n",
       "  <tbody>\n",
       "    <tr>\n",
       "      <th>841</th>\n",
       "      <td>74.75</td>\n",
       "      <td>0.16</td>\n",
       "      <td>14.19</td>\n",
       "      <td>1.13</td>\n",
       "      <td>0.48</td>\n",
       "      <td>0.28</td>\n",
       "      <td>0.28</td>\n",
       "      <td>0.96</td>\n",
       "      <td>5.63</td>\n",
       "      <td>1.52</td>\n",
       "      <td>0.82</td>\n",
       "      <td>0.20</td>\n",
       "      <td>NaN</td>\n",
       "      <td>100.49</td>\n",
       "      <td>0.26</td>\n",
       "    </tr>\n",
       "    <tr>\n",
       "      <th>1342</th>\n",
       "      <td>73.53</td>\n",
       "      <td>0.00</td>\n",
       "      <td>16.40</td>\n",
       "      <td>1.38</td>\n",
       "      <td>0.54</td>\n",
       "      <td>0.07</td>\n",
       "      <td>0.27</td>\n",
       "      <td>0.25</td>\n",
       "      <td>4.55</td>\n",
       "      <td>2.12</td>\n",
       "      <td>0.02</td>\n",
       "      <td>1.06</td>\n",
       "      <td>NaN</td>\n",
       "      <td>100.27</td>\n",
       "      <td>NaN</td>\n",
       "    </tr>\n",
       "    <tr>\n",
       "      <th>1529</th>\n",
       "      <td>73.10</td>\n",
       "      <td>0.11</td>\n",
       "      <td>15.01</td>\n",
       "      <td>0.55</td>\n",
       "      <td>1.15</td>\n",
       "      <td>0.03</td>\n",
       "      <td>0.36</td>\n",
       "      <td>1.08</td>\n",
       "      <td>3.46</td>\n",
       "      <td>4.74</td>\n",
       "      <td>0.06</td>\n",
       "      <td>0.24</td>\n",
       "      <td>NaN</td>\n",
       "      <td>99.95</td>\n",
       "      <td>NaN</td>\n",
       "    </tr>\n",
       "    <tr>\n",
       "      <th>1550</th>\n",
       "      <td>73.06</td>\n",
       "      <td>0.46</td>\n",
       "      <td>13.36</td>\n",
       "      <td>0.71</td>\n",
       "      <td>2.02</td>\n",
       "      <td>0.06</td>\n",
       "      <td>0.37</td>\n",
       "      <td>1.24</td>\n",
       "      <td>3.57</td>\n",
       "      <td>4.34</td>\n",
       "      <td>NaN</td>\n",
       "      <td>0.31</td>\n",
       "      <td>NaN</td>\n",
       "      <td>99.60</td>\n",
       "      <td>0.35</td>\n",
       "    </tr>\n",
       "    <tr>\n",
       "      <th>1706</th>\n",
       "      <td>72.66</td>\n",
       "      <td>0.72</td>\n",
       "      <td>13.58</td>\n",
       "      <td>1.48</td>\n",
       "      <td>1.08</td>\n",
       "      <td>0.05</td>\n",
       "      <td>0.25</td>\n",
       "      <td>0.96</td>\n",
       "      <td>3.79</td>\n",
       "      <td>4.30</td>\n",
       "      <td>0.01</td>\n",
       "      <td>1.14</td>\n",
       "      <td>NaN</td>\n",
       "      <td>100.10</td>\n",
       "      <td>0.05</td>\n",
       "    </tr>\n",
       "    <tr>\n",
       "      <th>2561</th>\n",
       "      <td>70.20</td>\n",
       "      <td>0.25</td>\n",
       "      <td>15.59</td>\n",
       "      <td>0.44</td>\n",
       "      <td>2.76</td>\n",
       "      <td>0.06</td>\n",
       "      <td>1.12</td>\n",
       "      <td>2.27</td>\n",
       "      <td>3.13</td>\n",
       "      <td>3.84</td>\n",
       "      <td>0.09</td>\n",
       "      <td>0.46</td>\n",
       "      <td>NaN</td>\n",
       "      <td>100.31</td>\n",
       "      <td>0.20</td>\n",
       "    </tr>\n",
       "    <tr>\n",
       "      <th>2661</th>\n",
       "      <td>69.90</td>\n",
       "      <td>0.48</td>\n",
       "      <td>14.16</td>\n",
       "      <td>0.95</td>\n",
       "      <td>2.75</td>\n",
       "      <td>0.09</td>\n",
       "      <td>1.02</td>\n",
       "      <td>2.83</td>\n",
       "      <td>5.00</td>\n",
       "      <td>2.40</td>\n",
       "      <td>0.20</td>\n",
       "      <td>0.44</td>\n",
       "      <td>NaN</td>\n",
       "      <td>100.23</td>\n",
       "      <td>NaN</td>\n",
       "    </tr>\n",
       "    <tr>\n",
       "      <th>2890</th>\n",
       "      <td>69.18</td>\n",
       "      <td>0.52</td>\n",
       "      <td>14.46</td>\n",
       "      <td>1.01</td>\n",
       "      <td>2.20</td>\n",
       "      <td>0.07</td>\n",
       "      <td>1.38</td>\n",
       "      <td>2.43</td>\n",
       "      <td>3.97</td>\n",
       "      <td>3.78</td>\n",
       "      <td>0.16</td>\n",
       "      <td>0.70</td>\n",
       "      <td>NaN</td>\n",
       "      <td>99.85</td>\n",
       "      <td>NaN</td>\n",
       "    </tr>\n",
       "    <tr>\n",
       "      <th>3004</th>\n",
       "      <td>68.71</td>\n",
       "      <td>0.28</td>\n",
       "      <td>14.70</td>\n",
       "      <td>1.41</td>\n",
       "      <td>2.24</td>\n",
       "      <td>NaN</td>\n",
       "      <td>0.61</td>\n",
       "      <td>3.08</td>\n",
       "      <td>4.69</td>\n",
       "      <td>3.96</td>\n",
       "      <td>NaN</td>\n",
       "      <td>0.41</td>\n",
       "      <td>NaN</td>\n",
       "      <td>100.11</td>\n",
       "      <td>NaN</td>\n",
       "    </tr>\n",
       "    <tr>\n",
       "      <th>3938</th>\n",
       "      <td>64.76</td>\n",
       "      <td>0.56</td>\n",
       "      <td>15.31</td>\n",
       "      <td>0.96</td>\n",
       "      <td>4.54</td>\n",
       "      <td>0.11</td>\n",
       "      <td>1.57</td>\n",
       "      <td>1.95</td>\n",
       "      <td>3.00</td>\n",
       "      <td>6.20</td>\n",
       "      <td>0.12</td>\n",
       "      <td>0.94</td>\n",
       "      <td>NaN</td>\n",
       "      <td>100.08</td>\n",
       "      <td>NaN</td>\n",
       "    </tr>\n",
       "    <tr>\n",
       "      <th>4388</th>\n",
       "      <td>60.80</td>\n",
       "      <td>0.31</td>\n",
       "      <td>17.67</td>\n",
       "      <td>3.13</td>\n",
       "      <td>2.45</td>\n",
       "      <td>0.06</td>\n",
       "      <td>3.04</td>\n",
       "      <td>5.09</td>\n",
       "      <td>4.00</td>\n",
       "      <td>2.61</td>\n",
       "      <td>NaN</td>\n",
       "      <td>0.75</td>\n",
       "      <td>NaN</td>\n",
       "      <td>99.97</td>\n",
       "      <td>0.30</td>\n",
       "    </tr>\n",
       "  </tbody>\n",
       "</table>\n",
       "</div>"
      ],
      "text/plain": [
       "       SiO2  TiO2  Al2O3  Fe2O3   FeO   MnO   MgO   CaO  Na2O   K2O  P2O5  \\\n",
       "841   74.75  0.16  14.19   1.13  0.48  0.28  0.28  0.96  5.63  1.52  0.82   \n",
       "1342  73.53  0.00  16.40   1.38  0.54  0.07  0.27  0.25  4.55  2.12  0.02   \n",
       "1529  73.10  0.11  15.01   0.55  1.15  0.03  0.36  1.08  3.46  4.74  0.06   \n",
       "1550  73.06  0.46  13.36   0.71  2.02  0.06  0.37  1.24  3.57  4.34   NaN   \n",
       "1706  72.66  0.72  13.58   1.48  1.08  0.05  0.25  0.96  3.79  4.30  0.01   \n",
       "2561  70.20  0.25  15.59   0.44  2.76  0.06  1.12  2.27  3.13  3.84  0.09   \n",
       "2661  69.90  0.48  14.16   0.95  2.75  0.09  1.02  2.83  5.00  2.40  0.20   \n",
       "2890  69.18  0.52  14.46   1.01  2.20  0.07  1.38  2.43  3.97  3.78  0.16   \n",
       "3004  68.71  0.28  14.70   1.41  2.24   NaN  0.61  3.08  4.69  3.96   NaN   \n",
       "3938  64.76  0.56  15.31   0.96  4.54  0.11  1.57  1.95  3.00  6.20  0.12   \n",
       "4388  60.80  0.31  17.67   3.13  2.45  0.06  3.04  5.09  4.00  2.61   NaN   \n",
       "\n",
       "      l.i.  oth     sum    hs  \n",
       "841   0.20  NaN  100.49  0.26  \n",
       "1342  1.06  NaN  100.27   NaN  \n",
       "1529  0.24  NaN   99.95   NaN  \n",
       "1550  0.31  NaN   99.60  0.35  \n",
       "1706  1.14  NaN  100.10  0.05  \n",
       "2561  0.46  NaN  100.31  0.20  \n",
       "2661  0.44  NaN  100.23   NaN  \n",
       "2890  0.70  NaN   99.85   NaN  \n",
       "3004  0.41  NaN  100.11   NaN  \n",
       "3938  0.94  NaN  100.08   NaN  \n",
       "4388  0.75  NaN   99.97  0.30  "
      ]
     },
     "execution_count": 32,
     "metadata": {},
     "output_type": "execute_result"
    }
   ],
   "source": [
    "wrong_sum"
   ]
  },
  {
   "cell_type": "code",
   "execution_count": 67,
   "metadata": {},
   "outputs": [
    {
     "name": "stdout",
     "output_type": "stream",
     "text": [
      "<class 'pandas.core.frame.DataFrame'>\n",
      "Int64Index: 4659 entries, 1 to 4659\n",
      "Data columns (total 15 columns):\n",
      "SiO2     4659 non-null float64\n",
      "TiO2     4626 non-null float64\n",
      "Al2O3    4659 non-null float64\n",
      "Fe2O3    4657 non-null float64\n",
      "FeO      4659 non-null float64\n",
      "MnO      4544 non-null float64\n",
      "MgO      4658 non-null float64\n",
      "CaO      4659 non-null float64\n",
      "Na2O     4659 non-null float64\n",
      "K2O      4659 non-null float64\n",
      "P2O5     3833 non-null float64\n",
      "l.i.     4659 non-null float64\n",
      "oth      874 non-null float64\n",
      "sum      4659 non-null float64\n",
      "hs       2240 non-null float64\n",
      "dtypes: float64(15)\n",
      "memory usage: 582.4 KB\n"
     ]
    }
   ],
   "source": [
    "mineralogy.info()"
   ]
  },
  {
   "cell_type": "code",
   "execution_count": 31,
   "metadata": {},
   "outputs": [
    {
     "data": {
      "text/plain": [
       "841     100.40\n",
       "1342    100.19\n",
       "1529     99.89\n",
       "1550     99.50\n",
       "1706    100.02\n",
       "2561    100.21\n",
       "2661    100.22\n",
       "2890     99.86\n",
       "3004    100.09\n",
       "3938    100.02\n",
       "4388     99.91\n",
       "dtype: float64"
      ]
     },
     "execution_count": 31,
     "metadata": {},
     "output_type": "execute_result"
    }
   ],
   "source": [
    "wrong_sum.loc[:, :\"oth\"].sum(axis=1)"
   ]
  },
  {
   "cell_type": "markdown",
   "metadata": {},
   "source": [
    "### Cleaning\n",
    "**To do**\n",
    "* Replace zero values\n",
    "* Normalize"
   ]
  },
  {
   "cell_type": "markdown",
   "metadata": {},
   "source": [
    "### centred log-ratio (clr) transformation"
   ]
  },
  {
   "cell_type": "code",
   "execution_count": 33,
   "metadata": {
    "collapsed": true,
    "jupyter": {
     "outputs_hidden": true
    }
   },
   "outputs": [
    {
     "name": "stderr",
     "output_type": "stream",
     "text": [
      "D:\\Onedrive\\Documenten\\Programming\\Python\\Jupyter_Notebooks\\PROJECTS\\2019_04_05_Vistelius_OCR\\_ANALYSIS\\prepostprocessing\\pre_processing.py:38: RuntimeWarning: divide by zero encountered in log\n",
      "  log_data = np.log(data)\n"
     ]
    },
    {
     "ename": "AssertionError",
     "evalue": "",
     "output_type": "error",
     "traceback": [
      "\u001b[1;31m---------------------------------------------------------------------------\u001b[0m",
      "\u001b[1;31mAssertionError\u001b[0m                            Traceback (most recent call last)",
      "\u001b[1;32m<ipython-input-33-9da4d82dff29>\u001b[0m in \u001b[0;36m<module>\u001b[1;34m\u001b[0m\n\u001b[1;32m----> 1\u001b[1;33m \u001b[0mmineralogy_clr\u001b[0m \u001b[1;33m=\u001b[0m \u001b[0mpreproc\u001b[0m\u001b[1;33m.\u001b[0m\u001b[0mclr\u001b[0m\u001b[1;33m(\u001b[0m\u001b[0mmineralogy\u001b[0m\u001b[1;33m)\u001b[0m\u001b[1;33m\u001b[0m\u001b[1;33m\u001b[0m\u001b[0m\n\u001b[0m\u001b[0;32m      2\u001b[0m \u001b[0mmineralogy_clr\u001b[0m\u001b[1;33m\u001b[0m\u001b[1;33m\u001b[0m\u001b[0m\n",
      "\u001b[1;32mD:\\Onedrive\\Documenten\\Programming\\Python\\Jupyter_Notebooks\\PROJECTS\\2019_04_05_Vistelius_OCR\\_ANALYSIS\\prepostprocessing\\pre_processing.py\u001b[0m in \u001b[0;36mclr\u001b[1;34m(data)\u001b[0m\n\u001b[0;32m     39\u001b[0m     \u001b[0mclr_data\u001b[0m \u001b[1;33m=\u001b[0m \u001b[0mlog_data\u001b[0m\u001b[1;33m.\u001b[0m\u001b[0msubtract\u001b[0m\u001b[1;33m(\u001b[0m\u001b[0mnp\u001b[0m\u001b[1;33m.\u001b[0m\u001b[0mmean\u001b[0m\u001b[1;33m(\u001b[0m\u001b[0mlog_data\u001b[0m\u001b[1;33m,\u001b[0m \u001b[0maxis\u001b[0m\u001b[1;33m=\u001b[0m\u001b[1;36m1\u001b[0m\u001b[1;33m)\u001b[0m\u001b[1;33m,\u001b[0m \u001b[0maxis\u001b[0m\u001b[1;33m=\u001b[0m\u001b[1;36m0\u001b[0m\u001b[1;33m)\u001b[0m\u001b[1;33m\u001b[0m\u001b[1;33m\u001b[0m\u001b[0m\n\u001b[0;32m     40\u001b[0m \u001b[1;33m\u001b[0m\u001b[0m\n\u001b[1;32m---> 41\u001b[1;33m     \u001b[1;32massert\u001b[0m \u001b[0mall\u001b[0m\u001b[1;33m(\u001b[0m\u001b[0mnp\u001b[0m\u001b[1;33m.\u001b[0m\u001b[0misclose\u001b[0m\u001b[1;33m(\u001b[0m\u001b[0mclr_data\u001b[0m\u001b[1;33m.\u001b[0m\u001b[0msum\u001b[0m\u001b[1;33m(\u001b[0m\u001b[0maxis\u001b[0m\u001b[1;33m=\u001b[0m\u001b[1;36m1\u001b[0m\u001b[1;33m)\u001b[0m\u001b[1;33m,\u001b[0m \u001b[1;36m0.0\u001b[0m\u001b[1;33m)\u001b[0m\u001b[1;33m)\u001b[0m\u001b[1;33m\u001b[0m\u001b[1;33m\u001b[0m\u001b[0m\n\u001b[0m\u001b[0;32m     42\u001b[0m \u001b[1;33m\u001b[0m\u001b[0m\n\u001b[0;32m     43\u001b[0m     \u001b[1;32mreturn\u001b[0m \u001b[0mclr_data\u001b[0m\u001b[1;33m\u001b[0m\u001b[1;33m\u001b[0m\u001b[0m\n",
      "\u001b[1;31mAssertionError\u001b[0m: "
     ]
    }
   ],
   "source": [
    "mineralogy_clr = preproc.clr(mineralogy)\n",
    "mineralogy_clr"
   ]
  },
  {
   "cell_type": "markdown",
   "metadata": {},
   "source": [
    "### Principal Component Analysis (PCA)"
   ]
  },
  {
   "cell_type": "code",
   "execution_count": null,
   "metadata": {},
   "outputs": [],
   "source": [
    "mineralogy_pca = preproc.pca(mineralogy_clr)\n",
    "preproc.pca_variance(mineralogy_pca)"
   ]
  },
  {
   "cell_type": "code",
   "execution_count": null,
   "metadata": {},
   "outputs": [],
   "source": [
    "mineralogy_pca_df = preproc.create_pca_df(mineralogy_pca, mineralogy_clr)"
   ]
  },
  {
   "cell_type": "markdown",
   "metadata": {},
   "source": [
    "____"
   ]
  },
  {
   "cell_type": "markdown",
   "metadata": {},
   "source": [
    "## Coordinates"
   ]
  },
  {
   "cell_type": "code",
   "execution_count": 42,
   "metadata": {},
   "outputs": [],
   "source": [
    "coordinates = pd.read_excel(\"../_DATA/full_with_coordinates.xlsx\", index_col=0, usecols=[0, 1, 2, 3])"
   ]
  },
  {
   "cell_type": "code",
   "execution_count": 43,
   "metadata": {},
   "outputs": [
    {
     "data": {
      "text/html": [
       "<div>\n",
       "<style scoped>\n",
       "    .dataframe tbody tr th:only-of-type {\n",
       "        vertical-align: middle;\n",
       "    }\n",
       "\n",
       "    .dataframe tbody tr th {\n",
       "        vertical-align: top;\n",
       "    }\n",
       "\n",
       "    .dataframe thead th {\n",
       "        text-align: right;\n",
       "    }\n",
       "</style>\n",
       "<table border=\"1\" class=\"dataframe\">\n",
       "  <thead>\n",
       "    <tr style=\"text-align: right;\">\n",
       "      <th></th>\n",
       "      <th>Latitude</th>\n",
       "      <th>Longitude</th>\n",
       "      <th>past_mer</th>\n",
       "    </tr>\n",
       "  </thead>\n",
       "  <tbody>\n",
       "    <tr>\n",
       "      <th>0</th>\n",
       "      <td>44°31'30.0\"</td>\n",
       "      <td>138°37'30.0\"</td>\n",
       "      <td>NaN</td>\n",
       "    </tr>\n",
       "    <tr>\n",
       "      <th>1</th>\n",
       "      <td>54°12'10.0\"</td>\n",
       "      <td>119°24'0.0\"</td>\n",
       "      <td>NaN</td>\n",
       "    </tr>\n",
       "    <tr>\n",
       "      <th>2</th>\n",
       "      <td>62°36'0.0\"</td>\n",
       "      <td>155°36'0.0\"</td>\n",
       "      <td>NaN</td>\n",
       "    </tr>\n",
       "    <tr>\n",
       "      <th>3</th>\n",
       "      <td>61°35'0.0\"</td>\n",
       "      <td>146°2'0.0\"</td>\n",
       "      <td>NaN</td>\n",
       "    </tr>\n",
       "    <tr>\n",
       "      <th>4</th>\n",
       "      <td>68°55'0.0\"</td>\n",
       "      <td>164°24'0.0\"</td>\n",
       "      <td>NaN</td>\n",
       "    </tr>\n",
       "    <tr>\n",
       "      <th>...</th>\n",
       "      <td>...</td>\n",
       "      <td>...</td>\n",
       "      <td>...</td>\n",
       "    </tr>\n",
       "    <tr>\n",
       "      <th>4654</th>\n",
       "      <td>66°42'0.0\"</td>\n",
       "      <td>164°23'0.0\"</td>\n",
       "      <td>NaN</td>\n",
       "    </tr>\n",
       "    <tr>\n",
       "      <th>4655</th>\n",
       "      <td>46°56'30.0\"</td>\n",
       "      <td>137°5'3.0\"</td>\n",
       "      <td>NaN</td>\n",
       "    </tr>\n",
       "    <tr>\n",
       "      <th>4656</th>\n",
       "      <td>58°12'0.0\"</td>\n",
       "      <td>138°12'0.0\"</td>\n",
       "      <td>NaN</td>\n",
       "    </tr>\n",
       "    <tr>\n",
       "      <th>4657</th>\n",
       "      <td>60°51'0.0\"</td>\n",
       "      <td>147°31'0.0\"</td>\n",
       "      <td>NaN</td>\n",
       "    </tr>\n",
       "    <tr>\n",
       "      <th>4658</th>\n",
       "      <td>66°19'0.0\"</td>\n",
       "      <td>165°30'0.0\"</td>\n",
       "      <td>NaN</td>\n",
       "    </tr>\n",
       "  </tbody>\n",
       "</table>\n",
       "<p>4659 rows × 3 columns</p>\n",
       "</div>"
      ],
      "text/plain": [
       "         Latitude     Longitude past_mer\n",
       "0     44°31'30.0\"  138°37'30.0\"      NaN\n",
       "1     54°12'10.0\"   119°24'0.0\"      NaN\n",
       "2      62°36'0.0\"   155°36'0.0\"      NaN\n",
       "3      61°35'0.0\"    146°2'0.0\"      NaN\n",
       "4      68°55'0.0\"   164°24'0.0\"      NaN\n",
       "...           ...           ...      ...\n",
       "4654   66°42'0.0\"   164°23'0.0\"      NaN\n",
       "4655  46°56'30.0\"    137°5'3.0\"      NaN\n",
       "4656   58°12'0.0\"   138°12'0.0\"      NaN\n",
       "4657   60°51'0.0\"   147°31'0.0\"      NaN\n",
       "4658   66°19'0.0\"   165°30'0.0\"      NaN\n",
       "\n",
       "[4659 rows x 3 columns]"
      ]
     },
     "execution_count": 43,
     "metadata": {},
     "output_type": "execute_result"
    }
   ],
   "source": [
    "coordinates"
   ]
  },
  {
   "cell_type": "code",
   "execution_count": 44,
   "metadata": {},
   "outputs": [],
   "source": [
    "# Delete negative signs in \"Longitude\" column for dms2dec function to work properly\n",
    "coordinates[\"Longitude\"] = coordinates[\"Longitude\"].str.replace(\"-\", \"\")"
   ]
  },
  {
   "cell_type": "code",
   "execution_count": 45,
   "metadata": {},
   "outputs": [],
   "source": [
    "# Include W in \"Longitude\" column\n",
    "sum_ = 0\n",
    "\n",
    "for index, row in coordinates.iterrows():\n",
    "    if (\"W\" in str(row[\"past_mer\"])) or (\"w\" in str(row[\"past_mer\"])):\n",
    "        coordinates.loc[index, \"Longitude\"] = row[\"Longitude\"] + \"W\"\n",
    "        \n",
    "        sum_ += 1"
   ]
  },
  {
   "cell_type": "code",
   "execution_count": 73,
   "metadata": {},
   "outputs": [],
   "source": [
    "# Check that all occurences of \"W\" or \"w\" are catched\n",
    "assert sum_ == int(coordinates[\"past_mer\"].value_counts())"
   ]
  },
  {
   "cell_type": "markdown",
   "metadata": {},
   "source": [
    "### Convert from degrees to decimal format"
   ]
  },
  {
   "cell_type": "code",
   "execution_count": 47,
   "metadata": {},
   "outputs": [],
   "source": [
    "coordinates[\"Y\"] = coordinates.loc[:, \"Latitude\"].apply(cleaning.dms2dec)\n",
    "coordinates[\"X\"] = coordinates.loc[:, \"Longitude\"].apply(cleaning.dms2dec)"
   ]
  },
  {
   "cell_type": "code",
   "execution_count": 48,
   "metadata": {},
   "outputs": [
    {
     "data": {
      "text/plain": [
       "-178.83333333333334"
      ]
     },
     "execution_count": 48,
     "metadata": {},
     "output_type": "execute_result"
    }
   ],
   "source": [
    "# Check\n",
    "coordinates.loc[42, \"X\"]"
   ]
  },
  {
   "cell_type": "markdown",
   "metadata": {},
   "source": [
    "### Convert to UTM coordinates"
   ]
  },
  {
   "cell_type": "markdown",
   "metadata": {},
   "source": [
    "**To do**\n",
    "* Group samples into certain groups based on spatial distribution\n",
    "* Recalculate utm coordinates based on fixed zone (fixed letter and number)"
   ]
  },
  {
   "cell_type": "code",
   "execution_count": 49,
   "metadata": {},
   "outputs": [],
   "source": [
    "coordinates_utm = coordinates.apply(lambda row : utm.from_latlon(row[\"Y\"], row[\"X\"]), axis=1)\n",
    "coordinates_utm = coordinates_utm.apply(pd.Series)\n",
    "coordinates_utm.columns = [\"X\", \"Y\", \"ZoneNumber\", \"ZoneLetter\"]"
   ]
  },
  {
   "cell_type": "code",
   "execution_count": 52,
   "metadata": {},
   "outputs": [
    {
     "data": {
      "text/html": [
       "<div>\n",
       "<style scoped>\n",
       "    .dataframe tbody tr th:only-of-type {\n",
       "        vertical-align: middle;\n",
       "    }\n",
       "\n",
       "    .dataframe tbody tr th {\n",
       "        vertical-align: top;\n",
       "    }\n",
       "\n",
       "    .dataframe thead th {\n",
       "        text-align: right;\n",
       "    }\n",
       "</style>\n",
       "<table border=\"1\" class=\"dataframe\">\n",
       "  <thead>\n",
       "    <tr style=\"text-align: right;\">\n",
       "      <th></th>\n",
       "      <th>X</th>\n",
       "      <th>Y</th>\n",
       "      <th>ZoneNumber</th>\n",
       "      <th>ZoneLetter</th>\n",
       "    </tr>\n",
       "  </thead>\n",
       "  <tbody>\n",
       "    <tr>\n",
       "      <th>0</th>\n",
       "      <td>311272.566098</td>\n",
       "      <td>4.932930e+06</td>\n",
       "      <td>54</td>\n",
       "      <td>T</td>\n",
       "    </tr>\n",
       "    <tr>\n",
       "      <th>1</th>\n",
       "      <td>656538.925786</td>\n",
       "      <td>6.008743e+06</td>\n",
       "      <td>50</td>\n",
       "      <td>U</td>\n",
       "    </tr>\n",
       "    <tr>\n",
       "      <th>2</th>\n",
       "      <td>633468.918083</td>\n",
       "      <td>6.943713e+06</td>\n",
       "      <td>56</td>\n",
       "      <td>V</td>\n",
       "    </tr>\n",
       "    <tr>\n",
       "      <th>3</th>\n",
       "      <td>448679.859182</td>\n",
       "      <td>6.828145e+06</td>\n",
       "      <td>55</td>\n",
       "      <td>V</td>\n",
       "    </tr>\n",
       "    <tr>\n",
       "      <th>4</th>\n",
       "      <td>475912.972942</td>\n",
       "      <td>7.645188e+06</td>\n",
       "      <td>58</td>\n",
       "      <td>W</td>\n",
       "    </tr>\n",
       "    <tr>\n",
       "      <th>...</th>\n",
       "      <td>...</td>\n",
       "      <td>...</td>\n",
       "      <td>...</td>\n",
       "      <td>...</td>\n",
       "    </tr>\n",
       "    <tr>\n",
       "      <th>4654</th>\n",
       "      <td>472781.240413</td>\n",
       "      <td>7.398072e+06</td>\n",
       "      <td>58</td>\n",
       "      <td>W</td>\n",
       "    </tr>\n",
       "    <tr>\n",
       "      <th>4655</th>\n",
       "      <td>658620.016371</td>\n",
       "      <td>5.200790e+06</td>\n",
       "      <td>53</td>\n",
       "      <td>T</td>\n",
       "    </tr>\n",
       "    <tr>\n",
       "      <th>4656</th>\n",
       "      <td>335447.154681</td>\n",
       "      <td>6.454395e+06</td>\n",
       "      <td>54</td>\n",
       "      <td>V</td>\n",
       "    </tr>\n",
       "    <tr>\n",
       "      <th>4657</th>\n",
       "      <td>528075.823175</td>\n",
       "      <td>6.746190e+06</td>\n",
       "      <td>55</td>\n",
       "      <td>V</td>\n",
       "    </tr>\n",
       "    <tr>\n",
       "      <th>4658</th>\n",
       "      <td>522411.349692</td>\n",
       "      <td>7.355297e+06</td>\n",
       "      <td>58</td>\n",
       "      <td>W</td>\n",
       "    </tr>\n",
       "  </tbody>\n",
       "</table>\n",
       "<p>4659 rows × 4 columns</p>\n",
       "</div>"
      ],
      "text/plain": [
       "                  X             Y  ZoneNumber ZoneLetter\n",
       "0     311272.566098  4.932930e+06          54          T\n",
       "1     656538.925786  6.008743e+06          50          U\n",
       "2     633468.918083  6.943713e+06          56          V\n",
       "3     448679.859182  6.828145e+06          55          V\n",
       "4     475912.972942  7.645188e+06          58          W\n",
       "...             ...           ...         ...        ...\n",
       "4654  472781.240413  7.398072e+06          58          W\n",
       "4655  658620.016371  5.200790e+06          53          T\n",
       "4656  335447.154681  6.454395e+06          54          V\n",
       "4657  528075.823175  6.746190e+06          55          V\n",
       "4658  522411.349692  7.355297e+06          58          W\n",
       "\n",
       "[4659 rows x 4 columns]"
      ]
     },
     "execution_count": 52,
     "metadata": {},
     "output_type": "execute_result"
    }
   ],
   "source": [
    "coordinates_utm"
   ]
  },
  {
   "cell_type": "code",
   "execution_count": 53,
   "metadata": {},
   "outputs": [
    {
     "data": {
      "text/plain": [
       "53    971\n",
       "49    802\n",
       "50    689\n",
       "54    655\n",
       "55    279\n",
       "56    232\n",
       "58    174\n",
       "60    151\n",
       "1     139\n",
       "59    133\n",
       "48    132\n",
       "57    130\n",
       "52     90\n",
       "2      40\n",
       "51     39\n",
       "47      3\n",
       "Name: ZoneNumber, dtype: int64"
      ]
     },
     "execution_count": 53,
     "metadata": {},
     "output_type": "execute_result"
    }
   ],
   "source": [
    "coordinates_utm[\"ZoneNumber\"].value_counts()"
   ]
  },
  {
   "cell_type": "code",
   "execution_count": 54,
   "metadata": {},
   "outputs": [
    {
     "data": {
      "text/plain": [
       "U    1875\n",
       "W    1117\n",
       "T     878\n",
       "V     758\n",
       "X      31\n",
       "Name: ZoneLetter, dtype: int64"
      ]
     },
     "execution_count": 54,
     "metadata": {},
     "output_type": "execute_result"
    }
   ],
   "source": [
    "coordinates_utm[\"ZoneLetter\"].value_counts()"
   ]
  },
  {
   "cell_type": "code",
   "execution_count": 63,
   "metadata": {},
   "outputs": [
    {
     "data": {
      "text/plain": [
       "49U    759\n",
       "50U    658\n",
       "53T    643\n",
       "55V    197\n",
       "56V    196\n",
       "54W    193\n",
       "54V    178\n",
       "53U    167\n",
       "53W    148\n",
       "1W     139\n",
       "54T    129\n",
       "60W    126\n",
       "59W    125\n",
       "54U    124\n",
       "58W    111\n",
       "55W     82\n",
       "48U     77\n",
       "58V     63\n",
       "52W     58\n",
       "57V     57\n",
       "57W     56\n",
       "48T     55\n",
       "2W      40\n",
       "49T     40\n",
       "51U     38\n",
       "56W     36\n",
       "52U     32\n",
       "54X     31\n",
       "60V     25\n",
       "50V     20\n",
       "57U     17\n",
       "53V     13\n",
       "50T     11\n",
       "59V      8\n",
       "47U      3\n",
       "49W      3\n",
       "51V      1\n",
       "dtype: int64"
      ]
     },
     "execution_count": 63,
     "metadata": {},
     "output_type": "execute_result"
    }
   ],
   "source": [
    "(coordinates_utm[\"ZoneNumber\"].astype(str) + coordinates_utm[\"ZoneLetter\"]).value_counts()"
   ]
  },
  {
   "cell_type": "markdown",
   "metadata": {},
   "source": [
    "____"
   ]
  },
  {
   "cell_type": "markdown",
   "metadata": {},
   "source": [
    "## Metadata"
   ]
  },
  {
   "cell_type": "code",
   "execution_count": 34,
   "metadata": {},
   "outputs": [],
   "source": [
    "metadata = pd.read_excel(\"../_DATA/full_with_coordinates.xlsx\", index_col=0)\\\n",
    "             .drop([\"Latitude\", \"Longitude\", \"past_mer\"], axis=1)"
   ]
  },
  {
   "cell_type": "code",
   "execution_count": 35,
   "metadata": {},
   "outputs": [
    {
     "data": {
      "text/html": [
       "<div>\n",
       "<style scoped>\n",
       "    .dataframe tbody tr th:only-of-type {\n",
       "        vertical-align: middle;\n",
       "    }\n",
       "\n",
       "    .dataframe tbody tr th {\n",
       "        vertical-align: top;\n",
       "    }\n",
       "\n",
       "    .dataframe thead th {\n",
       "        text-align: right;\n",
       "    }\n",
       "</style>\n",
       "<table border=\"1\" class=\"dataframe\">\n",
       "  <thead>\n",
       "    <tr style=\"text-align: right;\">\n",
       "      <th></th>\n",
       "      <th>type_granite</th>\n",
       "      <th>time</th>\n",
       "      <th>massif</th>\n",
       "      <th>sampler</th>\n",
       "      <th>others</th>\n",
       "      <th>sampler+year</th>\n",
       "    </tr>\n",
       "  </thead>\n",
       "  <tbody>\n",
       "    <tr>\n",
       "      <th>0</th>\n",
       "      <td>Granite leucogranitic</td>\n",
       "      <td>K2</td>\n",
       "      <td>NaN</td>\n",
       "      <td>NaN</td>\n",
       "      <td>NaN</td>\n",
       "      <td>V.N.Musin,1970</td>\n",
       "    </tr>\n",
       "    <tr>\n",
       "      <th>1</th>\n",
       "      <td>Granite leucocratic</td>\n",
       "      <td>Tr</td>\n",
       "      <td>NaN</td>\n",
       "      <td>V.I.Zhigalova</td>\n",
       "      <td>NaN</td>\n",
       "      <td>E.A.Ivanov,1969</td>\n",
       "    </tr>\n",
       "    <tr>\n",
       "      <th>2</th>\n",
       "      <td>Granite leucocratic coarse-grained</td>\n",
       "      <td>K2</td>\n",
       "      <td>Omsukchan massif</td>\n",
       "      <td>P.M.Bosek</td>\n",
       "      <td>NaN</td>\n",
       "      <td>O.S.Gracheva,1948</td>\n",
       "    </tr>\n",
       "    <tr>\n",
       "      <th>3</th>\n",
       "      <td>Granite leucocratic</td>\n",
       "      <td>K1</td>\n",
       "      <td>Buksandzhin massif</td>\n",
       "      <td>A.Kh.Brovtman</td>\n",
       "      <td>NaN</td>\n",
       "      <td>A.F.Mikhaylov,1948</td>\n",
       "    </tr>\n",
       "    <tr>\n",
       "      <th>4</th>\n",
       "      <td>Granite-porphyry micropegmatitic</td>\n",
       "      <td>K1</td>\n",
       "      <td>Attykveem massif</td>\n",
       "      <td>L.G.Semenova</td>\n",
       "      <td>0th.:S-0.16</td>\n",
       "      <td>A.I.Sadovsky,1963</td>\n",
       "    </tr>\n",
       "    <tr>\n",
       "      <th>...</th>\n",
       "      <td>...</td>\n",
       "      <td>...</td>\n",
       "      <td>...</td>\n",
       "      <td>...</td>\n",
       "      <td>...</td>\n",
       "      <td>...</td>\n",
       "    </tr>\n",
       "    <tr>\n",
       "      <th>4654</th>\n",
       "      <td>Diorite</td>\n",
       "      <td>K1</td>\n",
       "      <td>Egdegkych massif</td>\n",
       "      <td>NaN</td>\n",
       "      <td>Oth.:co2-0.12</td>\n",
       "      <td>V.A.lgnat'ev,1964</td>\n",
       "    </tr>\n",
       "    <tr>\n",
       "      <th>4655</th>\n",
       "      <td>Quartz diorite</td>\n",
       "      <td>K2</td>\n",
       "      <td>Verkhneplotnikovsky massif</td>\n",
       "      <td>NaN</td>\n",
       "      <td>NaN</td>\n",
       "      <td>A.A.Syas'ko,1969</td>\n",
       "    </tr>\n",
       "    <tr>\n",
       "      <th>4656</th>\n",
       "      <td>Diorite</td>\n",
       "      <td>J3</td>\n",
       "      <td>NaN</td>\n",
       "      <td>NaN</td>\n",
       "      <td>Oth.:co2-0.02,so3-0.0l</td>\n",
       "      <td>N.N.Remizov,1967</td>\n",
       "    </tr>\n",
       "    <tr>\n",
       "      <th>4657</th>\n",
       "      <td>Diorite</td>\n",
       "      <td>K2</td>\n",
       "      <td>NaN</td>\n",
       "      <td>NaN</td>\n",
       "      <td>NaN</td>\n",
       "      <td>A.P.Osipov,1966</td>\n",
       "    </tr>\n",
       "    <tr>\n",
       "      <th>4658</th>\n",
       "      <td>Diorite</td>\n",
       "      <td>K2</td>\n",
       "      <td>Vukney massif</td>\n",
       "      <td>V.V.Langvagen</td>\n",
       "      <td>Oth:Ba0-0.03</td>\n",
       "      <td>M.G.Ravich,1938</td>\n",
       "    </tr>\n",
       "  </tbody>\n",
       "</table>\n",
       "<p>4659 rows × 6 columns</p>\n",
       "</div>"
      ],
      "text/plain": [
       "                            type_granite time                      massif  \\\n",
       "0                  Granite leucogranitic   K2                         NaN   \n",
       "1                    Granite leucocratic   Tr                         NaN   \n",
       "2     Granite leucocratic coarse-grained   K2            Omsukchan massif   \n",
       "3                    Granite leucocratic   K1          Buksandzhin massif   \n",
       "4       Granite-porphyry micropegmatitic   K1            Attykveem massif   \n",
       "...                                  ...  ...                         ...   \n",
       "4654                             Diorite   K1            Egdegkych massif   \n",
       "4655                      Quartz diorite   K2  Verkhneplotnikovsky massif   \n",
       "4656                             Diorite   J3                         NaN   \n",
       "4657                             Diorite   K2                         NaN   \n",
       "4658                             Diorite   K2               Vukney massif   \n",
       "\n",
       "            sampler                  others        sampler+year  \n",
       "0               NaN                     NaN      V.N.Musin,1970  \n",
       "1     V.I.Zhigalova                     NaN     E.A.Ivanov,1969  \n",
       "2         P.M.Bosek                     NaN   O.S.Gracheva,1948  \n",
       "3     A.Kh.Brovtman                     NaN  A.F.Mikhaylov,1948  \n",
       "4      L.G.Semenova             0th.:S-0.16   A.I.Sadovsky,1963  \n",
       "...             ...                     ...                 ...  \n",
       "4654            NaN           Oth.:co2-0.12   V.A.lgnat'ev,1964  \n",
       "4655            NaN                     NaN    A.A.Syas'ko,1969  \n",
       "4656            NaN  Oth.:co2-0.02,so3-0.0l    N.N.Remizov,1967  \n",
       "4657            NaN                     NaN     A.P.Osipov,1966  \n",
       "4658  V.V.Langvagen            Oth:Ba0-0.03     M.G.Ravich,1938  \n",
       "\n",
       "[4659 rows x 6 columns]"
      ]
     },
     "execution_count": 35,
     "metadata": {},
     "output_type": "execute_result"
    }
   ],
   "source": [
    "metadata"
   ]
  },
  {
   "cell_type": "code",
   "execution_count": 36,
   "metadata": {},
   "outputs": [
    {
     "data": {
      "text/plain": [
       "Granite                                    656\n",
       "Granodiorite                               523\n",
       "Granite-porphyry                           282\n",
       "Bt granite                                 268\n",
       "Granite leucocratic                        220\n",
       "                                          ... \n",
       "Granodiorite leucocratic                     1\n",
       "Mu granite porphyraceous coarse-grained      1\n",
       "Px-Amf granodiorite                          1\n",
       "Amf-Bt granite-porphyry                      1\n",
       "Hb-Bt granite(granosyenite)                  1\n",
       "Name: type_granite, Length: 401, dtype: int64"
      ]
     },
     "execution_count": 36,
     "metadata": {},
     "output_type": "execute_result"
    }
   ],
   "source": [
    "metadata[\"type_granite\"].value_counts()"
   ]
  },
  {
   "cell_type": "code",
   "execution_count": 37,
   "metadata": {},
   "outputs": [
    {
     "data": {
      "text/plain": [
       "Ulakhan-Sis massif         58\n",
       "Khoboyotuu-Echiy massif    56\n",
       "Vladimirsky massif         35\n",
       "Zimov'e massif             33\n",
       "Bom-Gorkhon massif         31\n",
       "                           ..\n",
       "Shivkin massif              1\n",
       "Kyragas massif              1\n",
       "Dogdin massif               1\n",
       "Alchan massif               1\n",
       "Chekhalin massif            1\n",
       "Name: massif, Length: 942, dtype: int64"
      ]
     },
     "execution_count": 37,
     "metadata": {},
     "output_type": "execute_result"
    }
   ],
   "source": [
    "metadata[\"massif\"].value_counts()"
   ]
  },
  {
   "cell_type": "code",
   "execution_count": 38,
   "metadata": {},
   "outputs": [
    {
     "data": {
      "text/plain": [
       "K2         1271\n",
       "K1         1151\n",
       "Tr          465\n",
       "J3          411\n",
       "J2          154\n",
       "K2-Pg1      127\n",
       "Tr-J1       122\n",
       "Tr3-J1      121\n",
       "J1_2        108\n",
       "Tr-J         82\n",
       "Pg1          78\n",
       "Pg           74\n",
       "J1           69\n",
       "Mz           57\n",
       "K            52\n",
       "J            46\n",
       "K2-Pg        42\n",
       "J2_3         35\n",
       "J3-K1        31\n",
       "Mz1          28\n",
       "Tr3          28\n",
       "Pg1_2        20\n",
       "Pg2          18\n",
       "Tr2          17\n",
       "K1_2          9\n",
       "Tr-J2         7\n",
       "Tr3-J         3\n",
       "Tr2_3         3\n",
       "K2_Pg         2\n",
       "Tr1           2\n",
       "Mz3           2\n",
       "N             2\n",
       "J-K           2\n",
       "Tr3-J1N       2\n",
       "Pg3           2\n",
       "Mz1-N         1\n",
       "J3-Pg         1\n",
       "J2-K          1\n",
       "J3-Pg1        1\n",
       "K1-K2         1\n",
       "J-Pg3         1\n",
       "J 1_2         1\n",
       "Pg2_3         1\n",
       "Tr1-J1        1\n",
       "Name: time, dtype: int64"
      ]
     },
     "execution_count": 38,
     "metadata": {},
     "output_type": "execute_result"
    }
   ],
   "source": [
    "metadata[\"time\"].value_counts()"
   ]
  },
  {
   "cell_type": "code",
   "execution_count": 39,
   "metadata": {},
   "outputs": [
    {
     "data": {
      "text/plain": [
       "L.S.Voronova       120\n",
       "D.M.Shuster         87\n",
       "N.A.Lebedeva        86\n",
       "V.I.Zhigalova       70\n",
       "N.P.Mel'nikova      49\n",
       "                  ... \n",
       "R.PKopnova           1\n",
       "A.V.Skri pina        1\n",
       "NP.Me l'nikova       1\n",
       "N.A.Krivitskaya      1\n",
       "E.N.Grigoryan        1\n",
       "Name: sampler, Length: 739, dtype: int64"
      ]
     },
     "execution_count": 39,
     "metadata": {},
     "output_type": "execute_result"
    }
   ],
   "source": [
    "metadata[\"sampler\"].value_counts()"
   ]
  },
  {
   "cell_type": "code",
   "execution_count": 40,
   "metadata": {},
   "outputs": [
    {
     "data": {
      "text/plain": [
       "G.A.Valuy,1975         76\n",
       "V.A.Popeko,1968        61\n",
       "V.A.Faradzhev,1971     43\n",
       "V.S.Ivanov,1968        37\n",
       "R.O.Galabala,1976      37\n",
       "                       ..\n",
       "I.N.Trumpe,1958         1\n",
       "N.I.Tikhomirov,1938     1\n",
       "A.I.Gus'kova,1954       1\n",
       "M.N.Zlobin,1941         1\n",
       "M.P.Krutous,1956        1\n",
       "Name: sampler+year, Length: 1392, dtype: int64"
      ]
     },
     "execution_count": 40,
     "metadata": {},
     "output_type": "execute_result"
    }
   ],
   "source": [
    "metadata[\"sampler+year\"].value_counts()"
   ]
  },
  {
   "cell_type": "markdown",
   "metadata": {},
   "source": [
    "## Saving of data"
   ]
  },
  {
   "cell_type": "code",
   "execution_count": null,
   "metadata": {},
   "outputs": [],
   "source": [
    "# Save data as pickle files to use them in later notebooks\n",
    "preproc.save_obj(mineralogy) # mineralogy\n",
    "preproc.save_obj(mineralogy_clr) # mineralogy clr\n",
    "preproc.save_obj(mineralogy_pca) # mineralogy pca info\n",
    "preproc.save_obj(mineralogy_pca_df) # mineralogy pca scores\n",
    "\n",
    "preproc.save_obj(___) # coordinates latlon\n",
    "preproc.save_obj(___) # coordinates utm\n",
    "preproc.save_obj(___) # metadata"
   ]
  },
  {
   "cell_type": "markdown",
   "metadata": {},
   "source": [
    "____"
   ]
  }
 ],
 "metadata": {
  "kernelspec": {
   "display_name": "Python [conda env:main]",
   "language": "python",
   "name": "conda-env-main-py"
  },
  "language_info": {
   "codemirror_mode": {
    "name": "ipython",
    "version": 3
   },
   "file_extension": ".py",
   "mimetype": "text/x-python",
   "name": "python",
   "nbconvert_exporter": "python",
   "pygments_lexer": "ipython3",
   "version": "3.7.5"
  },
  "toc-autonumbering": true
 },
 "nbformat": 4,
 "nbformat_minor": 4
}
