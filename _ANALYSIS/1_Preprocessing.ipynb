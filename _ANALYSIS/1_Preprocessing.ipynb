{
 "cells": [
  {
   "cell_type": "markdown",
   "metadata": {},
   "source": [
    "# Preprocessing"
   ]
  },
  {
   "cell_type": "code",
   "execution_count": 62,
   "metadata": {},
   "outputs": [
    {
     "ename": "ModuleNotFoundError",
     "evalue": "No module named 'utm'",
     "output_type": "error",
     "traceback": [
      "\u001b[1;31m---------------------------------------------------------------------------\u001b[0m",
      "\u001b[1;31mModuleNotFoundError\u001b[0m                       Traceback (most recent call last)",
      "\u001b[1;32m<ipython-input-62-6145ce84f240>\u001b[0m in \u001b[0;36m<module>\u001b[1;34m\u001b[0m\n\u001b[0;32m      3\u001b[0m \u001b[1;32mimport\u001b[0m \u001b[0mos\u001b[0m\u001b[1;33m\u001b[0m\u001b[1;33m\u001b[0m\u001b[0m\n\u001b[0;32m      4\u001b[0m \u001b[1;32mimport\u001b[0m \u001b[0mpickle\u001b[0m\u001b[1;33m\u001b[0m\u001b[1;33m\u001b[0m\u001b[0m\n\u001b[1;32m----> 5\u001b[1;33m \u001b[1;32mimport\u001b[0m \u001b[0mutm\u001b[0m\u001b[1;33m\u001b[0m\u001b[1;33m\u001b[0m\u001b[0m\n\u001b[0m",
      "\u001b[1;31mModuleNotFoundError\u001b[0m: No module named 'utm'"
     ]
    }
   ],
   "source": [
    "import numpy as np\n",
    "import pandas as pd\n",
    "import os\n",
    "import pickle\n",
    "import utm\n"
   ]
  },
  {
   "cell_type": "code",
   "execution_count": 32,
   "metadata": {},
   "outputs": [],
   "source": [
    "import prepostprocessing.cleaning as cleaning\n",
    "import prepostprocessing.pre_processing as preproc"
   ]
  },
  {
   "cell_type": "code",
   "execution_count": 33,
   "metadata": {},
   "outputs": [
    {
     "name": "stdout",
     "output_type": "stream",
     "text": [
      "The autoreload extension is already loaded. To reload it, use:\n",
      "  %reload_ext autoreload\n"
     ]
    }
   ],
   "source": [
    "# Load jupyter extension to reload packages before executing user code.\n",
    "# https://ipython.readthedocs.io/en/stable/config/extensions/autoreload.html\n",
    "%load_ext autoreload\n",
    "# Reload all packages (except those excluded by %aimport) every time before executing the Python code typed.\n",
    "%autoreload 2"
   ]
  },
  {
   "cell_type": "markdown",
   "metadata": {},
   "source": [
    "## Mineralogy"
   ]
  },
  {
   "cell_type": "markdown",
   "metadata": {},
   "source": [
    "**To do**\n",
    "* Clean last points in Excel file while using \"sum\" as check"
   ]
  },
  {
   "cell_type": "code",
   "execution_count": 35,
   "metadata": {},
   "outputs": [],
   "source": [
    "mineralogy = pd.read_excel(\"../_CLEANED/Vistelius_data_cleaned.xlsx\", index_col=0)"
   ]
  },
  {
   "cell_type": "code",
   "execution_count": 36,
   "metadata": {},
   "outputs": [
    {
     "data": {
      "text/plain": [
       "array([ True,  True,  True, ...,  True,  True,  True])"
      ]
     },
     "execution_count": 36,
     "metadata": {},
     "output_type": "execute_result"
    }
   ],
   "source": [
    "np.isclose(mineralogy.loc[:, :\"oth\"].sum(axis=1), mineralogy.loc[:, \"sum\"])"
   ]
  },
  {
   "cell_type": "code",
   "execution_count": 37,
   "metadata": {},
   "outputs": [],
   "source": [
    "wrong_sum = mineralogy.loc[~np.isclose(mineralogy.loc[:, :\"oth\"].sum(axis=1), mineralogy.loc[:, \"sum\"]), :]"
   ]
  },
  {
   "cell_type": "code",
   "execution_count": 38,
   "metadata": {},
   "outputs": [
    {
     "data": {
      "text/html": [
       "<div>\n",
       "<style scoped>\n",
       "    .dataframe tbody tr th:only-of-type {\n",
       "        vertical-align: middle;\n",
       "    }\n",
       "\n",
       "    .dataframe tbody tr th {\n",
       "        vertical-align: top;\n",
       "    }\n",
       "\n",
       "    .dataframe thead th {\n",
       "        text-align: right;\n",
       "    }\n",
       "</style>\n",
       "<table border=\"1\" class=\"dataframe\">\n",
       "  <thead>\n",
       "    <tr style=\"text-align: right;\">\n",
       "      <th></th>\n",
       "      <th>SiO2</th>\n",
       "      <th>TiO2</th>\n",
       "      <th>Al2O3</th>\n",
       "      <th>Fe2O3</th>\n",
       "      <th>FeO</th>\n",
       "      <th>MnO</th>\n",
       "      <th>MgO</th>\n",
       "      <th>CaO</th>\n",
       "      <th>Na2O</th>\n",
       "      <th>K2O</th>\n",
       "      <th>P2O5</th>\n",
       "      <th>l.i.</th>\n",
       "      <th>oth</th>\n",
       "      <th>sum</th>\n",
       "      <th>hs</th>\n",
       "    </tr>\n",
       "  </thead>\n",
       "  <tbody>\n",
       "  </tbody>\n",
       "</table>\n",
       "</div>"
      ],
      "text/plain": [
       "Empty DataFrame\n",
       "Columns: [SiO2, TiO2, Al2O3, Fe2O3, FeO, MnO, MgO, CaO, Na2O, K2O, P2O5, l.i., oth, sum, hs]\n",
       "Index: []"
      ]
     },
     "execution_count": 38,
     "metadata": {},
     "output_type": "execute_result"
    }
   ],
   "source": [
    "wrong_sum"
   ]
  },
  {
   "cell_type": "code",
   "execution_count": 39,
   "metadata": {},
   "outputs": [
    {
     "name": "stdout",
     "output_type": "stream",
     "text": [
      "<class 'pandas.core.frame.DataFrame'>\n",
      "Int64Index: 4659 entries, 1 to 4659\n",
      "Data columns (total 15 columns):\n",
      "SiO2     4659 non-null float64\n",
      "TiO2     4626 non-null float64\n",
      "Al2O3    4659 non-null float64\n",
      "Fe2O3    4657 non-null float64\n",
      "FeO      4659 non-null float64\n",
      "MnO      4544 non-null float64\n",
      "MgO      4658 non-null float64\n",
      "CaO      4659 non-null float64\n",
      "Na2O     4659 non-null float64\n",
      "K2O      4659 non-null float64\n",
      "P2O5     3834 non-null float64\n",
      "l.i.     4659 non-null float64\n",
      "oth      874 non-null float64\n",
      "sum      4659 non-null float64\n",
      "hs       2240 non-null float64\n",
      "dtypes: float64(15)\n",
      "memory usage: 582.4 KB\n"
     ]
    }
   ],
   "source": [
    "mineralogy.info()"
   ]
  },
  {
   "cell_type": "code",
   "execution_count": 40,
   "metadata": {},
   "outputs": [
    {
     "data": {
      "text/plain": [
       "Series([], dtype: float64)"
      ]
     },
     "execution_count": 40,
     "metadata": {},
     "output_type": "execute_result"
    }
   ],
   "source": [
    "wrong_sum.loc[:, :\"oth\"].sum(axis=1)"
   ]
  },
  {
   "cell_type": "code",
   "execution_count": 41,
   "metadata": {},
   "outputs": [
    {
     "data": {
      "text/html": [
       "<div>\n",
       "<style scoped>\n",
       "    .dataframe tbody tr th:only-of-type {\n",
       "        vertical-align: middle;\n",
       "    }\n",
       "\n",
       "    .dataframe tbody tr th {\n",
       "        vertical-align: top;\n",
       "    }\n",
       "\n",
       "    .dataframe thead th {\n",
       "        text-align: right;\n",
       "    }\n",
       "</style>\n",
       "<table border=\"1\" class=\"dataframe\">\n",
       "  <thead>\n",
       "    <tr style=\"text-align: right;\">\n",
       "      <th></th>\n",
       "      <th>SiO2</th>\n",
       "      <th>TiO2</th>\n",
       "      <th>Al2O3</th>\n",
       "      <th>Fe2O3</th>\n",
       "      <th>FeO</th>\n",
       "      <th>MnO</th>\n",
       "      <th>MgO</th>\n",
       "      <th>CaO</th>\n",
       "      <th>Na2O</th>\n",
       "      <th>K2O</th>\n",
       "      <th>P2O5</th>\n",
       "      <th>l.i.</th>\n",
       "      <th>oth</th>\n",
       "      <th>sum</th>\n",
       "      <th>hs</th>\n",
       "    </tr>\n",
       "  </thead>\n",
       "  <tbody>\n",
       "    <tr>\n",
       "      <th>1</th>\n",
       "      <td>80.80</td>\n",
       "      <td>0.04</td>\n",
       "      <td>10.16</td>\n",
       "      <td>0.61</td>\n",
       "      <td>1.72</td>\n",
       "      <td>NaN</td>\n",
       "      <td>0.40</td>\n",
       "      <td>0.55</td>\n",
       "      <td>2.00</td>\n",
       "      <td>3.59</td>\n",
       "      <td>NaN</td>\n",
       "      <td>0.35</td>\n",
       "      <td>NaN</td>\n",
       "      <td>100.22</td>\n",
       "      <td>NaN</td>\n",
       "    </tr>\n",
       "    <tr>\n",
       "      <th>2</th>\n",
       "      <td>80.00</td>\n",
       "      <td>0.10</td>\n",
       "      <td>10.10</td>\n",
       "      <td>0.17</td>\n",
       "      <td>0.56</td>\n",
       "      <td>0.02</td>\n",
       "      <td>0.40</td>\n",
       "      <td>0.35</td>\n",
       "      <td>2.30</td>\n",
       "      <td>5.10</td>\n",
       "      <td>0.05</td>\n",
       "      <td>0.50</td>\n",
       "      <td>NaN</td>\n",
       "      <td>99.65</td>\n",
       "      <td>NaN</td>\n",
       "    </tr>\n",
       "    <tr>\n",
       "      <th>3</th>\n",
       "      <td>79.92</td>\n",
       "      <td>0.05</td>\n",
       "      <td>9.89</td>\n",
       "      <td>0.16</td>\n",
       "      <td>1.73</td>\n",
       "      <td>0.02</td>\n",
       "      <td>0.12</td>\n",
       "      <td>0.14</td>\n",
       "      <td>0.75</td>\n",
       "      <td>6.15</td>\n",
       "      <td>NaN</td>\n",
       "      <td>1.02</td>\n",
       "      <td>0.08</td>\n",
       "      <td>100.03</td>\n",
       "      <td>0.30</td>\n",
       "    </tr>\n",
       "    <tr>\n",
       "      <th>4</th>\n",
       "      <td>79.65</td>\n",
       "      <td>0.04</td>\n",
       "      <td>9.64</td>\n",
       "      <td>1.15</td>\n",
       "      <td>0.75</td>\n",
       "      <td>0.10</td>\n",
       "      <td>0.45</td>\n",
       "      <td>0.67</td>\n",
       "      <td>3.71</td>\n",
       "      <td>4.25</td>\n",
       "      <td>NaN</td>\n",
       "      <td>0.26</td>\n",
       "      <td>NaN</td>\n",
       "      <td>100.67</td>\n",
       "      <td>0.01</td>\n",
       "    </tr>\n",
       "    <tr>\n",
       "      <th>5</th>\n",
       "      <td>79.18</td>\n",
       "      <td>0.08</td>\n",
       "      <td>10.24</td>\n",
       "      <td>0.64</td>\n",
       "      <td>2.60</td>\n",
       "      <td>0.04</td>\n",
       "      <td>0.05</td>\n",
       "      <td>1.25</td>\n",
       "      <td>1.52</td>\n",
       "      <td>3.08</td>\n",
       "      <td>0.01</td>\n",
       "      <td>1.75</td>\n",
       "      <td>0.16</td>\n",
       "      <td>100.60</td>\n",
       "      <td>0.28</td>\n",
       "    </tr>\n",
       "    <tr>\n",
       "      <th>...</th>\n",
       "      <td>...</td>\n",
       "      <td>...</td>\n",
       "      <td>...</td>\n",
       "      <td>...</td>\n",
       "      <td>...</td>\n",
       "      <td>...</td>\n",
       "      <td>...</td>\n",
       "      <td>...</td>\n",
       "      <td>...</td>\n",
       "      <td>...</td>\n",
       "      <td>...</td>\n",
       "      <td>...</td>\n",
       "      <td>...</td>\n",
       "      <td>...</td>\n",
       "      <td>...</td>\n",
       "    </tr>\n",
       "    <tr>\n",
       "      <th>4655</th>\n",
       "      <td>51.09</td>\n",
       "      <td>0.39</td>\n",
       "      <td>19.44</td>\n",
       "      <td>4.09</td>\n",
       "      <td>4.97</td>\n",
       "      <td>0.22</td>\n",
       "      <td>3.79</td>\n",
       "      <td>8.02</td>\n",
       "      <td>4.12</td>\n",
       "      <td>2.01</td>\n",
       "      <td>0.59</td>\n",
       "      <td>1.48</td>\n",
       "      <td>NaN</td>\n",
       "      <td>100.21</td>\n",
       "      <td>0.30</td>\n",
       "    </tr>\n",
       "    <tr>\n",
       "      <th>4656</th>\n",
       "      <td>50.90</td>\n",
       "      <td>1.00</td>\n",
       "      <td>17.76</td>\n",
       "      <td>2.61</td>\n",
       "      <td>8.99</td>\n",
       "      <td>0.10</td>\n",
       "      <td>5.07</td>\n",
       "      <td>8.46</td>\n",
       "      <td>2.66</td>\n",
       "      <td>1.64</td>\n",
       "      <td>0.26</td>\n",
       "      <td>0.80</td>\n",
       "      <td>NaN</td>\n",
       "      <td>100.25</td>\n",
       "      <td>NaN</td>\n",
       "    </tr>\n",
       "    <tr>\n",
       "      <th>4657</th>\n",
       "      <td>50.40</td>\n",
       "      <td>1.15</td>\n",
       "      <td>18.03</td>\n",
       "      <td>4.21</td>\n",
       "      <td>5.22</td>\n",
       "      <td>0.16</td>\n",
       "      <td>5.84</td>\n",
       "      <td>8.45</td>\n",
       "      <td>2.68</td>\n",
       "      <td>2.24</td>\n",
       "      <td>0.47</td>\n",
       "      <td>1.49</td>\n",
       "      <td>0.03</td>\n",
       "      <td>100.37</td>\n",
       "      <td>0.47</td>\n",
       "    </tr>\n",
       "    <tr>\n",
       "      <th>4658</th>\n",
       "      <td>50.34</td>\n",
       "      <td>1.13</td>\n",
       "      <td>22.01</td>\n",
       "      <td>2.28</td>\n",
       "      <td>4.18</td>\n",
       "      <td>0.10</td>\n",
       "      <td>2.73</td>\n",
       "      <td>9.41</td>\n",
       "      <td>4.06</td>\n",
       "      <td>1.09</td>\n",
       "      <td>0.46</td>\n",
       "      <td>2.60</td>\n",
       "      <td>NaN</td>\n",
       "      <td>100.39</td>\n",
       "      <td>0.47</td>\n",
       "    </tr>\n",
       "    <tr>\n",
       "      <th>4659</th>\n",
       "      <td>50.19</td>\n",
       "      <td>0.80</td>\n",
       "      <td>19.45</td>\n",
       "      <td>5.33</td>\n",
       "      <td>4.10</td>\n",
       "      <td>0.01</td>\n",
       "      <td>4.94</td>\n",
       "      <td>11.33</td>\n",
       "      <td>2.84</td>\n",
       "      <td>0.75</td>\n",
       "      <td>NaN</td>\n",
       "      <td>0.48</td>\n",
       "      <td>0.03</td>\n",
       "      <td>100.25</td>\n",
       "      <td>0.31</td>\n",
       "    </tr>\n",
       "  </tbody>\n",
       "</table>\n",
       "<p>4659 rows × 15 columns</p>\n",
       "</div>"
      ],
      "text/plain": [
       "       SiO2  TiO2  Al2O3  Fe2O3   FeO   MnO   MgO    CaO  Na2O   K2O  P2O5  \\\n",
       "1     80.80  0.04  10.16   0.61  1.72   NaN  0.40   0.55  2.00  3.59   NaN   \n",
       "2     80.00  0.10  10.10   0.17  0.56  0.02  0.40   0.35  2.30  5.10  0.05   \n",
       "3     79.92  0.05   9.89   0.16  1.73  0.02  0.12   0.14  0.75  6.15   NaN   \n",
       "4     79.65  0.04   9.64   1.15  0.75  0.10  0.45   0.67  3.71  4.25   NaN   \n",
       "5     79.18  0.08  10.24   0.64  2.60  0.04  0.05   1.25  1.52  3.08  0.01   \n",
       "...     ...   ...    ...    ...   ...   ...   ...    ...   ...   ...   ...   \n",
       "4655  51.09  0.39  19.44   4.09  4.97  0.22  3.79   8.02  4.12  2.01  0.59   \n",
       "4656  50.90  1.00  17.76   2.61  8.99  0.10  5.07   8.46  2.66  1.64  0.26   \n",
       "4657  50.40  1.15  18.03   4.21  5.22  0.16  5.84   8.45  2.68  2.24  0.47   \n",
       "4658  50.34  1.13  22.01   2.28  4.18  0.10  2.73   9.41  4.06  1.09  0.46   \n",
       "4659  50.19  0.80  19.45   5.33  4.10  0.01  4.94  11.33  2.84  0.75   NaN   \n",
       "\n",
       "      l.i.   oth     sum    hs  \n",
       "1     0.35   NaN  100.22   NaN  \n",
       "2     0.50   NaN   99.65   NaN  \n",
       "3     1.02  0.08  100.03  0.30  \n",
       "4     0.26   NaN  100.67  0.01  \n",
       "5     1.75  0.16  100.60  0.28  \n",
       "...    ...   ...     ...   ...  \n",
       "4655  1.48   NaN  100.21  0.30  \n",
       "4656  0.80   NaN  100.25   NaN  \n",
       "4657  1.49  0.03  100.37  0.47  \n",
       "4658  2.60   NaN  100.39  0.47  \n",
       "4659  0.48  0.03  100.25  0.31  \n",
       "\n",
       "[4659 rows x 15 columns]"
      ]
     },
     "execution_count": 41,
     "metadata": {},
     "output_type": "execute_result"
    }
   ],
   "source": [
    "mineralogy"
   ]
  },
  {
   "cell_type": "markdown",
   "metadata": {},
   "source": [
    "### Cleaning\n",
    "**To do**\n",
    "* Replace zero values\n"
   ]
  },
  {
   "cell_type": "code",
   "execution_count": 42,
   "metadata": {},
   "outputs": [],
   "source": [
    "x = mineralogy"
   ]
  },
  {
   "cell_type": "code",
   "execution_count": 43,
   "metadata": {},
   "outputs": [],
   "source": [
    "x['SiO2'] = x['SiO2'].replace(0, 0.01)\n",
    "x['TiO2'] = x['TiO2'].replace(0, 0.01)\n",
    "x['Al2O3'] = x['Al2O3'].replace(0, 0.01)\n",
    "x['Fe2O3'] = x['Fe2O3'].replace(0, 0.01)\n",
    "x['FeO'] = x['FeO'].replace(0, 0.01)\n",
    "x['MnO'] = x['MnO'].replace(0, 0.01)\n",
    "x['MgO'] = x['MgO'].replace(0, 0.01)\n",
    "x['CaO'] = x['CaO'].replace(0, 0.01)\n",
    "x['Na2O'] = x['Na2O'].replace(0, 0.01)\n",
    "x['K2O'] = x['K2O'].replace(0, 0.01)\n",
    "x['P2O5'] = x['P2O5'].replace(0, 0.01)\n",
    "x['l.i.'] = x['l.i.'].replace(0, 0.01)\n",
    "x['oth'] = x['oth'].replace(0, 0.01)\n",
    "x['hs'] = x['hs'].replace(0, 0.01)\n"
   ]
  },
  {
   "cell_type": "code",
   "execution_count": 44,
   "metadata": {},
   "outputs": [],
   "source": [
    "x.to_excel(\"../_CLEANED/Vistelius_data_cleaned.xlsx\")\n"
   ]
  },
  {
   "cell_type": "markdown",
   "metadata": {},
   "source": [
    "* Normalize"
   ]
  },
  {
   "cell_type": "code",
   "execution_count": 45,
   "metadata": {},
   "outputs": [],
   "source": [
    "x['SiO2'] = x['SiO2'] / x['sum'] * 100\n",
    "x['TiO2'] = x['TiO2'] / x['sum'] * 100\n",
    "x['Al2O3'] = x['Al2O3'] / x['sum'] * 100\n",
    "x['Fe2O3'] = x['Fe2O3'] / x['sum'] * 100\n",
    "x['FeO'] = x['FeO'] / x['sum'] * 100\n",
    "x['MnO'] = x['MnO'] / x['sum'] * 100\n",
    "x['MgO'] = x['MgO'] / x['sum'] * 100\n",
    "x['CaO'] = x['CaO'] / x['sum'] * 100\n",
    "x['Na2O'] = x['Na2O'] / x['sum'] * 100\n",
    "x['K2O'] = x['K2O'] / x['sum'] * 100\n",
    "x['P2O5'] = x['P2O5'] / x['sum'] * 100\n",
    "x['l.i.'] = x['l.i.'] / x['sum'] * 100\n",
    "x['oth'] = x['oth'] / x['sum'] * 100\n",
    "x['sum'] = x['sum'] / x['sum'] * 100"
   ]
  },
  {
   "cell_type": "code",
   "execution_count": 46,
   "metadata": {},
   "outputs": [],
   "source": [
    "x.to_excel(\"../_INTERPOLATION/normalised_values.xlsx\")"
   ]
  },
  {
   "cell_type": "markdown",
   "metadata": {},
   "source": [
    "### centred log-ratio (clr) transformation"
   ]
  },
  {
   "cell_type": "code",
   "execution_count": 47,
   "metadata": {},
   "outputs": [
    {
     "data": {
      "text/html": [
       "<div>\n",
       "<style scoped>\n",
       "    .dataframe tbody tr th:only-of-type {\n",
       "        vertical-align: middle;\n",
       "    }\n",
       "\n",
       "    .dataframe tbody tr th {\n",
       "        vertical-align: top;\n",
       "    }\n",
       "\n",
       "    .dataframe thead th {\n",
       "        text-align: right;\n",
       "    }\n",
       "</style>\n",
       "<table border=\"1\" class=\"dataframe\">\n",
       "  <thead>\n",
       "    <tr style=\"text-align: right;\">\n",
       "      <th></th>\n",
       "      <th>SiO2</th>\n",
       "      <th>TiO2</th>\n",
       "      <th>Al2O3</th>\n",
       "      <th>Fe2O3</th>\n",
       "      <th>FeO</th>\n",
       "      <th>MnO</th>\n",
       "      <th>MgO</th>\n",
       "      <th>CaO</th>\n",
       "      <th>Na2O</th>\n",
       "      <th>K2O</th>\n",
       "      <th>P2O5</th>\n",
       "      <th>l.i.</th>\n",
       "      <th>oth</th>\n",
       "      <th>sum</th>\n",
       "      <th>hs</th>\n",
       "    </tr>\n",
       "  </thead>\n",
       "  <tbody>\n",
       "    <tr>\n",
       "      <th>1</th>\n",
       "      <td>3.705222</td>\n",
       "      <td>-3.905631</td>\n",
       "      <td>1.631703</td>\n",
       "      <td>-1.181051</td>\n",
       "      <td>-0.144431</td>\n",
       "      <td>NaN</td>\n",
       "      <td>-1.603046</td>\n",
       "      <td>-1.284592</td>\n",
       "      <td>0.006392</td>\n",
       "      <td>0.591397</td>\n",
       "      <td>NaN</td>\n",
       "      <td>-1.736577</td>\n",
       "      <td>NaN</td>\n",
       "      <td>3.920613</td>\n",
       "      <td>NaN</td>\n",
       "    </tr>\n",
       "    <tr>\n",
       "      <th>2</th>\n",
       "      <td>4.417642</td>\n",
       "      <td>-2.266970</td>\n",
       "      <td>2.348151</td>\n",
       "      <td>-1.736341</td>\n",
       "      <td>-0.544203</td>\n",
       "      <td>-3.876408</td>\n",
       "      <td>-0.880675</td>\n",
       "      <td>-1.014207</td>\n",
       "      <td>0.868525</td>\n",
       "      <td>1.664856</td>\n",
       "      <td>-2.960117</td>\n",
       "      <td>-0.657532</td>\n",
       "      <td>NaN</td>\n",
       "      <td>4.637279</td>\n",
       "      <td>NaN</td>\n",
       "    </tr>\n",
       "    <tr>\n",
       "      <th>3</th>\n",
       "      <td>4.608269</td>\n",
       "      <td>-2.768489</td>\n",
       "      <td>2.518767</td>\n",
       "      <td>-1.605339</td>\n",
       "      <td>0.775364</td>\n",
       "      <td>-3.684780</td>\n",
       "      <td>-1.893021</td>\n",
       "      <td>-1.738870</td>\n",
       "      <td>-0.060439</td>\n",
       "      <td>2.043695</td>\n",
       "      <td>NaN</td>\n",
       "      <td>0.247045</td>\n",
       "      <td>-2.298486</td>\n",
       "      <td>4.832713</td>\n",
       "      <td>-0.976430</td>\n",
       "    </tr>\n",
       "    <tr>\n",
       "      <th>4</th>\n",
       "      <td>4.285378</td>\n",
       "      <td>-3.311140</td>\n",
       "      <td>2.173657</td>\n",
       "      <td>0.047498</td>\n",
       "      <td>-0.379946</td>\n",
       "      <td>-2.394849</td>\n",
       "      <td>-0.890771</td>\n",
       "      <td>-0.492741</td>\n",
       "      <td>1.218768</td>\n",
       "      <td>1.354655</td>\n",
       "      <td>NaN</td>\n",
       "      <td>-1.439337</td>\n",
       "      <td>NaN</td>\n",
       "      <td>4.519584</td>\n",
       "      <td>-4.690756</td>\n",
       "    </tr>\n",
       "    <tr>\n",
       "      <th>5</th>\n",
       "      <td>4.525075</td>\n",
       "      <td>-2.372377</td>\n",
       "      <td>2.479653</td>\n",
       "      <td>-0.292936</td>\n",
       "      <td>1.108863</td>\n",
       "      <td>-3.065524</td>\n",
       "      <td>-2.842381</td>\n",
       "      <td>0.376495</td>\n",
       "      <td>0.572062</td>\n",
       "      <td>1.278281</td>\n",
       "      <td>-4.451819</td>\n",
       "      <td>0.712967</td>\n",
       "      <td>-1.679230</td>\n",
       "      <td>4.764504</td>\n",
       "      <td>-1.113632</td>\n",
       "    </tr>\n",
       "    <tr>\n",
       "      <th>...</th>\n",
       "      <td>...</td>\n",
       "      <td>...</td>\n",
       "      <td>...</td>\n",
       "      <td>...</td>\n",
       "      <td>...</td>\n",
       "      <td>...</td>\n",
       "      <td>...</td>\n",
       "      <td>...</td>\n",
       "      <td>...</td>\n",
       "      <td>...</td>\n",
       "      <td>...</td>\n",
       "      <td>...</td>\n",
       "      <td>...</td>\n",
       "      <td>...</td>\n",
       "      <td>...</td>\n",
       "    </tr>\n",
       "    <tr>\n",
       "      <th>4655</th>\n",
       "      <td>2.772500</td>\n",
       "      <td>-2.102697</td>\n",
       "      <td>1.806244</td>\n",
       "      <td>0.247456</td>\n",
       "      <td>0.442331</td>\n",
       "      <td>-2.675217</td>\n",
       "      <td>0.171277</td>\n",
       "      <td>0.920850</td>\n",
       "      <td>0.254764</td>\n",
       "      <td>-0.462954</td>\n",
       "      <td>-1.688722</td>\n",
       "      <td>-0.769047</td>\n",
       "      <td>NaN</td>\n",
       "      <td>3.446179</td>\n",
       "      <td>-2.362964</td>\n",
       "    </tr>\n",
       "    <tr>\n",
       "      <th>4656</th>\n",
       "      <td>2.704567</td>\n",
       "      <td>-1.225296</td>\n",
       "      <td>1.651652</td>\n",
       "      <td>-0.265946</td>\n",
       "      <td>0.970817</td>\n",
       "      <td>-3.527881</td>\n",
       "      <td>0.398045</td>\n",
       "      <td>0.910053</td>\n",
       "      <td>-0.246970</td>\n",
       "      <td>-0.730600</td>\n",
       "      <td>-2.572370</td>\n",
       "      <td>-1.448440</td>\n",
       "      <td>NaN</td>\n",
       "      <td>3.382371</td>\n",
       "      <td>NaN</td>\n",
       "    </tr>\n",
       "    <tr>\n",
       "      <th>4657</th>\n",
       "      <td>2.993652</td>\n",
       "      <td>-0.786577</td>\n",
       "      <td>1.965698</td>\n",
       "      <td>0.511123</td>\n",
       "      <td>0.726158</td>\n",
       "      <td>-2.758921</td>\n",
       "      <td>0.838392</td>\n",
       "      <td>1.207827</td>\n",
       "      <td>0.059478</td>\n",
       "      <td>-0.119863</td>\n",
       "      <td>-1.681362</td>\n",
       "      <td>-0.527563</td>\n",
       "      <td>-4.432897</td>\n",
       "      <td>3.682524</td>\n",
       "      <td>-1.677669</td>\n",
       "    </tr>\n",
       "    <tr>\n",
       "      <th>4658</th>\n",
       "      <td>2.786317</td>\n",
       "      <td>-1.010266</td>\n",
       "      <td>1.959014</td>\n",
       "      <td>-0.308308</td>\n",
       "      <td>0.297828</td>\n",
       "      <td>-3.435068</td>\n",
       "      <td>-0.128182</td>\n",
       "      <td>1.109290</td>\n",
       "      <td>0.268700</td>\n",
       "      <td>-1.046306</td>\n",
       "      <td>-1.909012</td>\n",
       "      <td>-0.176972</td>\n",
       "      <td>NaN</td>\n",
       "      <td>3.476579</td>\n",
       "      <td>-1.883613</td>\n",
       "    </tr>\n",
       "    <tr>\n",
       "      <th>4659</th>\n",
       "      <td>3.264453</td>\n",
       "      <td>-0.874507</td>\n",
       "      <td>2.316484</td>\n",
       "      <td>1.021988</td>\n",
       "      <td>0.759624</td>\n",
       "      <td>-5.256533</td>\n",
       "      <td>0.946002</td>\n",
       "      <td>1.776091</td>\n",
       "      <td>0.392441</td>\n",
       "      <td>-0.939045</td>\n",
       "      <td>NaN</td>\n",
       "      <td>-1.385332</td>\n",
       "      <td>-4.157921</td>\n",
       "      <td>3.956304</td>\n",
       "      <td>-1.820049</td>\n",
       "    </tr>\n",
       "  </tbody>\n",
       "</table>\n",
       "<p>4659 rows × 15 columns</p>\n",
       "</div>"
      ],
      "text/plain": [
       "          SiO2      TiO2     Al2O3     Fe2O3       FeO       MnO       MgO  \\\n",
       "1     3.705222 -3.905631  1.631703 -1.181051 -0.144431       NaN -1.603046   \n",
       "2     4.417642 -2.266970  2.348151 -1.736341 -0.544203 -3.876408 -0.880675   \n",
       "3     4.608269 -2.768489  2.518767 -1.605339  0.775364 -3.684780 -1.893021   \n",
       "4     4.285378 -3.311140  2.173657  0.047498 -0.379946 -2.394849 -0.890771   \n",
       "5     4.525075 -2.372377  2.479653 -0.292936  1.108863 -3.065524 -2.842381   \n",
       "...        ...       ...       ...       ...       ...       ...       ...   \n",
       "4655  2.772500 -2.102697  1.806244  0.247456  0.442331 -2.675217  0.171277   \n",
       "4656  2.704567 -1.225296  1.651652 -0.265946  0.970817 -3.527881  0.398045   \n",
       "4657  2.993652 -0.786577  1.965698  0.511123  0.726158 -2.758921  0.838392   \n",
       "4658  2.786317 -1.010266  1.959014 -0.308308  0.297828 -3.435068 -0.128182   \n",
       "4659  3.264453 -0.874507  2.316484  1.021988  0.759624 -5.256533  0.946002   \n",
       "\n",
       "           CaO      Na2O       K2O      P2O5      l.i.       oth       sum  \\\n",
       "1    -1.284592  0.006392  0.591397       NaN -1.736577       NaN  3.920613   \n",
       "2    -1.014207  0.868525  1.664856 -2.960117 -0.657532       NaN  4.637279   \n",
       "3    -1.738870 -0.060439  2.043695       NaN  0.247045 -2.298486  4.832713   \n",
       "4    -0.492741  1.218768  1.354655       NaN -1.439337       NaN  4.519584   \n",
       "5     0.376495  0.572062  1.278281 -4.451819  0.712967 -1.679230  4.764504   \n",
       "...        ...       ...       ...       ...       ...       ...       ...   \n",
       "4655  0.920850  0.254764 -0.462954 -1.688722 -0.769047       NaN  3.446179   \n",
       "4656  0.910053 -0.246970 -0.730600 -2.572370 -1.448440       NaN  3.382371   \n",
       "4657  1.207827  0.059478 -0.119863 -1.681362 -0.527563 -4.432897  3.682524   \n",
       "4658  1.109290  0.268700 -1.046306 -1.909012 -0.176972       NaN  3.476579   \n",
       "4659  1.776091  0.392441 -0.939045       NaN -1.385332 -4.157921  3.956304   \n",
       "\n",
       "            hs  \n",
       "1          NaN  \n",
       "2          NaN  \n",
       "3    -0.976430  \n",
       "4    -4.690756  \n",
       "5    -1.113632  \n",
       "...        ...  \n",
       "4655 -2.362964  \n",
       "4656       NaN  \n",
       "4657 -1.677669  \n",
       "4658 -1.883613  \n",
       "4659 -1.820049  \n",
       "\n",
       "[4659 rows x 15 columns]"
      ]
     },
     "execution_count": 47,
     "metadata": {},
     "output_type": "execute_result"
    }
   ],
   "source": [
    "mineralogy_clr = preproc.clr(mineralogy)\n",
    "mineralogy_clr"
   ]
  },
  {
   "cell_type": "markdown",
   "metadata": {},
   "source": [
    "### Principal Component Analysis (PCA)"
   ]
  },
  {
   "cell_type": "markdown",
   "metadata": {},
   "source": [
    "##### code doesn't run with NaN values --> very small value is given to the NaN value: (0.000001)"
   ]
  },
  {
   "cell_type": "code",
   "execution_count": 48,
   "metadata": {},
   "outputs": [],
   "source": [
    "mineralogy_clr['SiO2'] = mineralogy_clr['SiO2'].fillna(0.000001)\n",
    "mineralogy_clr['TiO2'] = mineralogy_clr['TiO2'].fillna(0.000001)\n",
    "mineralogy_clr['Al2O3'] = mineralogy_clr['Al2O3'].fillna(0.000001)\n",
    "mineralogy_clr['Fe2O3'] = mineralogy_clr['Fe2O3'].fillna(0.000001)\n",
    "mineralogy_clr['FeO'] = mineralogy_clr['FeO'].fillna(0.000001)\n",
    "mineralogy_clr['MnO'] = mineralogy_clr['MnO'].fillna(0.000001)\n",
    "mineralogy_clr['MgO'] = mineralogy_clr['MgO'].fillna(0.000001)\n",
    "mineralogy_clr['Na2O'] = mineralogy_clr['Na2O'].fillna(0.000001)\n",
    "mineralogy_clr['K2O'] = mineralogy_clr['K2O'].fillna(0.000001)\n",
    "mineralogy_clr['P2O5'] = mineralogy_clr['P2O5'].fillna(0.000001)\n",
    "mineralogy_clr['l.i.'] = mineralogy_clr['l.i.'].fillna(0.000001)\n",
    "mineralogy_clr['oth'] = mineralogy_clr['oth'].fillna(0.000001)\n",
    "mineralogy_clr['hs'] = mineralogy_clr['hs'].fillna(0.000001)"
   ]
  },
  {
   "cell_type": "code",
   "execution_count": 49,
   "metadata": {},
   "outputs": [
    {
     "name": "stdout",
     "output_type": "stream",
     "text": [
      "9 PCA components  out of 15 components with variance sum 0.9682467701388624 needed for obtaining sum of variance > 0.95\n"
     ]
    },
    {
     "data": {
      "text/plain": [
       "array([2.48297416e-01, 1.80014018e-01, 1.49786620e-01, 1.32862032e-01,\n",
       "       8.41756392e-02, 6.96672717e-02, 5.32829776e-02, 2.68725331e-02,\n",
       "       2.32882632e-02, 1.84848714e-02, 9.69142692e-03, 2.90980754e-03,\n",
       "       6.40800920e-04, 2.63231061e-05, 9.96104219e-16])"
      ]
     },
     "execution_count": 49,
     "metadata": {},
     "output_type": "execute_result"
    }
   ],
   "source": [
    "mineralogy_pca = preproc.pca(mineralogy_clr)\n",
    "preproc.pca_variance(mineralogy_pca)"
   ]
  },
  {
   "cell_type": "code",
   "execution_count": 50,
   "metadata": {},
   "outputs": [],
   "source": [
    "mineralogy_pca_df = preproc.create_pca_df(mineralogy_pca, mineralogy_clr)"
   ]
  },
  {
   "cell_type": "markdown",
   "metadata": {},
   "source": [
    "____"
   ]
  },
  {
   "cell_type": "markdown",
   "metadata": {},
   "source": [
    "## Coordinates"
   ]
  },
  {
   "cell_type": "code",
   "execution_count": 51,
   "metadata": {},
   "outputs": [],
   "source": [
    "coordinates = pd.read_excel(\"../_DATA/full_with_coordinates.xlsx\", index_col=0, usecols=[0, 1, 2, 3])"
   ]
  },
  {
   "cell_type": "code",
   "execution_count": 52,
   "metadata": {},
   "outputs": [
    {
     "data": {
      "text/html": [
       "<div>\n",
       "<style scoped>\n",
       "    .dataframe tbody tr th:only-of-type {\n",
       "        vertical-align: middle;\n",
       "    }\n",
       "\n",
       "    .dataframe tbody tr th {\n",
       "        vertical-align: top;\n",
       "    }\n",
       "\n",
       "    .dataframe thead th {\n",
       "        text-align: right;\n",
       "    }\n",
       "</style>\n",
       "<table border=\"1\" class=\"dataframe\">\n",
       "  <thead>\n",
       "    <tr style=\"text-align: right;\">\n",
       "      <th></th>\n",
       "      <th>Latitude</th>\n",
       "      <th>Longitude</th>\n",
       "      <th>past_mer</th>\n",
       "    </tr>\n",
       "  </thead>\n",
       "  <tbody>\n",
       "    <tr>\n",
       "      <th>0</th>\n",
       "      <td>44°31'30.0\"</td>\n",
       "      <td>138°37'30.0\"</td>\n",
       "      <td>NaN</td>\n",
       "    </tr>\n",
       "    <tr>\n",
       "      <th>1</th>\n",
       "      <td>54°12'10.0\"</td>\n",
       "      <td>119°24'0.0\"</td>\n",
       "      <td>NaN</td>\n",
       "    </tr>\n",
       "    <tr>\n",
       "      <th>2</th>\n",
       "      <td>62°36'0.0\"</td>\n",
       "      <td>155°36'0.0\"</td>\n",
       "      <td>NaN</td>\n",
       "    </tr>\n",
       "    <tr>\n",
       "      <th>3</th>\n",
       "      <td>61°35'0.0\"</td>\n",
       "      <td>146°2'0.0\"</td>\n",
       "      <td>NaN</td>\n",
       "    </tr>\n",
       "    <tr>\n",
       "      <th>4</th>\n",
       "      <td>68°55'0.0\"</td>\n",
       "      <td>164°24'0.0\"</td>\n",
       "      <td>NaN</td>\n",
       "    </tr>\n",
       "    <tr>\n",
       "      <th>...</th>\n",
       "      <td>...</td>\n",
       "      <td>...</td>\n",
       "      <td>...</td>\n",
       "    </tr>\n",
       "    <tr>\n",
       "      <th>4654</th>\n",
       "      <td>66°42'0.0\"</td>\n",
       "      <td>164°23'0.0\"</td>\n",
       "      <td>NaN</td>\n",
       "    </tr>\n",
       "    <tr>\n",
       "      <th>4655</th>\n",
       "      <td>46°56'30.0\"</td>\n",
       "      <td>137°5'3.0\"</td>\n",
       "      <td>NaN</td>\n",
       "    </tr>\n",
       "    <tr>\n",
       "      <th>4656</th>\n",
       "      <td>58°12'0.0\"</td>\n",
       "      <td>138°12'0.0\"</td>\n",
       "      <td>NaN</td>\n",
       "    </tr>\n",
       "    <tr>\n",
       "      <th>4657</th>\n",
       "      <td>60°51'0.0\"</td>\n",
       "      <td>147°31'0.0\"</td>\n",
       "      <td>NaN</td>\n",
       "    </tr>\n",
       "    <tr>\n",
       "      <th>4658</th>\n",
       "      <td>66°19'0.0\"</td>\n",
       "      <td>165°30'0.0\"</td>\n",
       "      <td>NaN</td>\n",
       "    </tr>\n",
       "  </tbody>\n",
       "</table>\n",
       "<p>4659 rows × 3 columns</p>\n",
       "</div>"
      ],
      "text/plain": [
       "         Latitude     Longitude past_mer\n",
       "0     44°31'30.0\"  138°37'30.0\"      NaN\n",
       "1     54°12'10.0\"   119°24'0.0\"      NaN\n",
       "2      62°36'0.0\"   155°36'0.0\"      NaN\n",
       "3      61°35'0.0\"    146°2'0.0\"      NaN\n",
       "4      68°55'0.0\"   164°24'0.0\"      NaN\n",
       "...           ...           ...      ...\n",
       "4654   66°42'0.0\"   164°23'0.0\"      NaN\n",
       "4655  46°56'30.0\"    137°5'3.0\"      NaN\n",
       "4656   58°12'0.0\"   138°12'0.0\"      NaN\n",
       "4657   60°51'0.0\"   147°31'0.0\"      NaN\n",
       "4658   66°19'0.0\"   165°30'0.0\"      NaN\n",
       "\n",
       "[4659 rows x 3 columns]"
      ]
     },
     "execution_count": 52,
     "metadata": {},
     "output_type": "execute_result"
    }
   ],
   "source": [
    "coordinates"
   ]
  },
  {
   "cell_type": "code",
   "execution_count": 53,
   "metadata": {},
   "outputs": [],
   "source": [
    "# Delete negative signs in \"Longitude\" column for dms2dec function to work properly\n",
    "coordinates[\"Longitude\"] = coordinates[\"Longitude\"].str.replace(\"-\", \"\")"
   ]
  },
  {
   "cell_type": "code",
   "execution_count": 54,
   "metadata": {},
   "outputs": [],
   "source": [
    "# Include W in \"Longitude\" column\n",
    "sum_ = 0\n",
    "\n",
    "for index, row in coordinates.iterrows():\n",
    "    if (\"W\" in str(row[\"past_mer\"])) or (\"w\" in str(row[\"past_mer\"])):\n",
    "        coordinates.loc[index, \"Longitude\"] = row[\"Longitude\"] + \"W\"\n",
    "        \n",
    "        sum_ += 1"
   ]
  },
  {
   "cell_type": "code",
   "execution_count": 55,
   "metadata": {},
   "outputs": [],
   "source": [
    "# Check that all occurences of \"W\" or \"w\" are catched\n",
    "assert sum_ == int(coordinates[\"past_mer\"].value_counts())"
   ]
  },
  {
   "cell_type": "markdown",
   "metadata": {},
   "source": [
    "### Convert from degrees to decimal format"
   ]
  },
  {
   "cell_type": "code",
   "execution_count": 56,
   "metadata": {},
   "outputs": [],
   "source": [
    "coordinates[\"Y\"] = coordinates.loc[:, \"Latitude\"].apply(cleaning.dms2dec)\n",
    "coordinates[\"X\"] = coordinates.loc[:, \"Longitude\"].apply(cleaning.dms2dec)"
   ]
  },
  {
   "cell_type": "code",
   "execution_count": 57,
   "metadata": {},
   "outputs": [
    {
     "data": {
      "text/plain": [
       "-178.83333333333334"
      ]
     },
     "execution_count": 57,
     "metadata": {},
     "output_type": "execute_result"
    }
   ],
   "source": [
    "# Check\n",
    "coordinates.loc[42, \"X\"]"
   ]
  },
  {
   "cell_type": "code",
   "execution_count": 58,
   "metadata": {},
   "outputs": [
    {
     "data": {
      "text/html": [
       "<div>\n",
       "<style scoped>\n",
       "    .dataframe tbody tr th:only-of-type {\n",
       "        vertical-align: middle;\n",
       "    }\n",
       "\n",
       "    .dataframe tbody tr th {\n",
       "        vertical-align: top;\n",
       "    }\n",
       "\n",
       "    .dataframe thead th {\n",
       "        text-align: right;\n",
       "    }\n",
       "</style>\n",
       "<table border=\"1\" class=\"dataframe\">\n",
       "  <thead>\n",
       "    <tr style=\"text-align: right;\">\n",
       "      <th></th>\n",
       "      <th>Latitude</th>\n",
       "      <th>Longitude</th>\n",
       "      <th>past_mer</th>\n",
       "      <th>Y</th>\n",
       "      <th>X</th>\n",
       "    </tr>\n",
       "  </thead>\n",
       "  <tbody>\n",
       "    <tr>\n",
       "      <th>0</th>\n",
       "      <td>44°31'30.0\"</td>\n",
       "      <td>138°37'30.0\"</td>\n",
       "      <td>NaN</td>\n",
       "      <td>44.525000</td>\n",
       "      <td>138.625000</td>\n",
       "    </tr>\n",
       "    <tr>\n",
       "      <th>1</th>\n",
       "      <td>54°12'10.0\"</td>\n",
       "      <td>119°24'0.0\"</td>\n",
       "      <td>NaN</td>\n",
       "      <td>54.202778</td>\n",
       "      <td>119.400000</td>\n",
       "    </tr>\n",
       "    <tr>\n",
       "      <th>2</th>\n",
       "      <td>62°36'0.0\"</td>\n",
       "      <td>155°36'0.0\"</td>\n",
       "      <td>NaN</td>\n",
       "      <td>62.600000</td>\n",
       "      <td>155.600000</td>\n",
       "    </tr>\n",
       "    <tr>\n",
       "      <th>3</th>\n",
       "      <td>61°35'0.0\"</td>\n",
       "      <td>146°2'0.0\"</td>\n",
       "      <td>NaN</td>\n",
       "      <td>61.583333</td>\n",
       "      <td>146.033333</td>\n",
       "    </tr>\n",
       "    <tr>\n",
       "      <th>4</th>\n",
       "      <td>68°55'0.0\"</td>\n",
       "      <td>164°24'0.0\"</td>\n",
       "      <td>NaN</td>\n",
       "      <td>68.916667</td>\n",
       "      <td>164.400000</td>\n",
       "    </tr>\n",
       "    <tr>\n",
       "      <th>...</th>\n",
       "      <td>...</td>\n",
       "      <td>...</td>\n",
       "      <td>...</td>\n",
       "      <td>...</td>\n",
       "      <td>...</td>\n",
       "    </tr>\n",
       "    <tr>\n",
       "      <th>4654</th>\n",
       "      <td>66°42'0.0\"</td>\n",
       "      <td>164°23'0.0\"</td>\n",
       "      <td>NaN</td>\n",
       "      <td>66.700000</td>\n",
       "      <td>164.383333</td>\n",
       "    </tr>\n",
       "    <tr>\n",
       "      <th>4655</th>\n",
       "      <td>46°56'30.0\"</td>\n",
       "      <td>137°5'3.0\"</td>\n",
       "      <td>NaN</td>\n",
       "      <td>46.941667</td>\n",
       "      <td>137.084167</td>\n",
       "    </tr>\n",
       "    <tr>\n",
       "      <th>4656</th>\n",
       "      <td>58°12'0.0\"</td>\n",
       "      <td>138°12'0.0\"</td>\n",
       "      <td>NaN</td>\n",
       "      <td>58.200000</td>\n",
       "      <td>138.200000</td>\n",
       "    </tr>\n",
       "    <tr>\n",
       "      <th>4657</th>\n",
       "      <td>60°51'0.0\"</td>\n",
       "      <td>147°31'0.0\"</td>\n",
       "      <td>NaN</td>\n",
       "      <td>60.850000</td>\n",
       "      <td>147.516667</td>\n",
       "    </tr>\n",
       "    <tr>\n",
       "      <th>4658</th>\n",
       "      <td>66°19'0.0\"</td>\n",
       "      <td>165°30'0.0\"</td>\n",
       "      <td>NaN</td>\n",
       "      <td>66.316667</td>\n",
       "      <td>165.500000</td>\n",
       "    </tr>\n",
       "  </tbody>\n",
       "</table>\n",
       "<p>4659 rows × 5 columns</p>\n",
       "</div>"
      ],
      "text/plain": [
       "         Latitude     Longitude past_mer          Y           X\n",
       "0     44°31'30.0\"  138°37'30.0\"      NaN  44.525000  138.625000\n",
       "1     54°12'10.0\"   119°24'0.0\"      NaN  54.202778  119.400000\n",
       "2      62°36'0.0\"   155°36'0.0\"      NaN  62.600000  155.600000\n",
       "3      61°35'0.0\"    146°2'0.0\"      NaN  61.583333  146.033333\n",
       "4      68°55'0.0\"   164°24'0.0\"      NaN  68.916667  164.400000\n",
       "...           ...           ...      ...        ...         ...\n",
       "4654   66°42'0.0\"   164°23'0.0\"      NaN  66.700000  164.383333\n",
       "4655  46°56'30.0\"    137°5'3.0\"      NaN  46.941667  137.084167\n",
       "4656   58°12'0.0\"   138°12'0.0\"      NaN  58.200000  138.200000\n",
       "4657   60°51'0.0\"   147°31'0.0\"      NaN  60.850000  147.516667\n",
       "4658   66°19'0.0\"   165°30'0.0\"      NaN  66.316667  165.500000\n",
       "\n",
       "[4659 rows x 5 columns]"
      ]
     },
     "execution_count": 58,
     "metadata": {},
     "output_type": "execute_result"
    }
   ],
   "source": [
    "coordinates"
   ]
  },
  {
   "cell_type": "markdown",
   "metadata": {},
   "source": [
    "coordinates = coordinates.rename({\"Y\" : \"Latitude\"}, axis=1)\n",
    "coordinates = coordinates.rename({\"X\" : \"Longitude\"}, axis=1)\n"
   ]
  },
  {
   "cell_type": "code",
   "execution_count": 59,
   "metadata": {},
   "outputs": [
    {
     "data": {
      "text/html": [
       "<div>\n",
       "<style scoped>\n",
       "    .dataframe tbody tr th:only-of-type {\n",
       "        vertical-align: middle;\n",
       "    }\n",
       "\n",
       "    .dataframe tbody tr th {\n",
       "        vertical-align: top;\n",
       "    }\n",
       "\n",
       "    .dataframe thead th {\n",
       "        text-align: right;\n",
       "    }\n",
       "</style>\n",
       "<table border=\"1\" class=\"dataframe\">\n",
       "  <thead>\n",
       "    <tr style=\"text-align: right;\">\n",
       "      <th></th>\n",
       "      <th>Latitude</th>\n",
       "      <th>Longitude</th>\n",
       "      <th>past_mer</th>\n",
       "      <th>Y</th>\n",
       "      <th>X</th>\n",
       "    </tr>\n",
       "  </thead>\n",
       "  <tbody>\n",
       "    <tr>\n",
       "      <th>0</th>\n",
       "      <td>44°31'30.0\"</td>\n",
       "      <td>138°37'30.0\"</td>\n",
       "      <td>NaN</td>\n",
       "      <td>44.525000</td>\n",
       "      <td>138.625000</td>\n",
       "    </tr>\n",
       "    <tr>\n",
       "      <th>1</th>\n",
       "      <td>54°12'10.0\"</td>\n",
       "      <td>119°24'0.0\"</td>\n",
       "      <td>NaN</td>\n",
       "      <td>54.202778</td>\n",
       "      <td>119.400000</td>\n",
       "    </tr>\n",
       "    <tr>\n",
       "      <th>2</th>\n",
       "      <td>62°36'0.0\"</td>\n",
       "      <td>155°36'0.0\"</td>\n",
       "      <td>NaN</td>\n",
       "      <td>62.600000</td>\n",
       "      <td>155.600000</td>\n",
       "    </tr>\n",
       "    <tr>\n",
       "      <th>3</th>\n",
       "      <td>61°35'0.0\"</td>\n",
       "      <td>146°2'0.0\"</td>\n",
       "      <td>NaN</td>\n",
       "      <td>61.583333</td>\n",
       "      <td>146.033333</td>\n",
       "    </tr>\n",
       "    <tr>\n",
       "      <th>4</th>\n",
       "      <td>68°55'0.0\"</td>\n",
       "      <td>164°24'0.0\"</td>\n",
       "      <td>NaN</td>\n",
       "      <td>68.916667</td>\n",
       "      <td>164.400000</td>\n",
       "    </tr>\n",
       "    <tr>\n",
       "      <th>...</th>\n",
       "      <td>...</td>\n",
       "      <td>...</td>\n",
       "      <td>...</td>\n",
       "      <td>...</td>\n",
       "      <td>...</td>\n",
       "    </tr>\n",
       "    <tr>\n",
       "      <th>4654</th>\n",
       "      <td>66°42'0.0\"</td>\n",
       "      <td>164°23'0.0\"</td>\n",
       "      <td>NaN</td>\n",
       "      <td>66.700000</td>\n",
       "      <td>164.383333</td>\n",
       "    </tr>\n",
       "    <tr>\n",
       "      <th>4655</th>\n",
       "      <td>46°56'30.0\"</td>\n",
       "      <td>137°5'3.0\"</td>\n",
       "      <td>NaN</td>\n",
       "      <td>46.941667</td>\n",
       "      <td>137.084167</td>\n",
       "    </tr>\n",
       "    <tr>\n",
       "      <th>4656</th>\n",
       "      <td>58°12'0.0\"</td>\n",
       "      <td>138°12'0.0\"</td>\n",
       "      <td>NaN</td>\n",
       "      <td>58.200000</td>\n",
       "      <td>138.200000</td>\n",
       "    </tr>\n",
       "    <tr>\n",
       "      <th>4657</th>\n",
       "      <td>60°51'0.0\"</td>\n",
       "      <td>147°31'0.0\"</td>\n",
       "      <td>NaN</td>\n",
       "      <td>60.850000</td>\n",
       "      <td>147.516667</td>\n",
       "    </tr>\n",
       "    <tr>\n",
       "      <th>4658</th>\n",
       "      <td>66°19'0.0\"</td>\n",
       "      <td>165°30'0.0\"</td>\n",
       "      <td>NaN</td>\n",
       "      <td>66.316667</td>\n",
       "      <td>165.500000</td>\n",
       "    </tr>\n",
       "  </tbody>\n",
       "</table>\n",
       "<p>4659 rows × 5 columns</p>\n",
       "</div>"
      ],
      "text/plain": [
       "         Latitude     Longitude past_mer          Y           X\n",
       "0     44°31'30.0\"  138°37'30.0\"      NaN  44.525000  138.625000\n",
       "1     54°12'10.0\"   119°24'0.0\"      NaN  54.202778  119.400000\n",
       "2      62°36'0.0\"   155°36'0.0\"      NaN  62.600000  155.600000\n",
       "3      61°35'0.0\"    146°2'0.0\"      NaN  61.583333  146.033333\n",
       "4      68°55'0.0\"   164°24'0.0\"      NaN  68.916667  164.400000\n",
       "...           ...           ...      ...        ...         ...\n",
       "4654   66°42'0.0\"   164°23'0.0\"      NaN  66.700000  164.383333\n",
       "4655  46°56'30.0\"    137°5'3.0\"      NaN  46.941667  137.084167\n",
       "4656   58°12'0.0\"   138°12'0.0\"      NaN  58.200000  138.200000\n",
       "4657   60°51'0.0\"   147°31'0.0\"      NaN  60.850000  147.516667\n",
       "4658   66°19'0.0\"   165°30'0.0\"      NaN  66.316667  165.500000\n",
       "\n",
       "[4659 rows x 5 columns]"
      ]
     },
     "execution_count": 59,
     "metadata": {},
     "output_type": "execute_result"
    }
   ],
   "source": [
    "coordinates"
   ]
  },
  {
   "cell_type": "markdown",
   "metadata": {},
   "source": [
    "### plotting in Qgis does not work"
   ]
  },
  {
   "cell_type": "code",
   "execution_count": 60,
   "metadata": {},
   "outputs": [],
   "source": [
    "coordinates.to_excel(\"../_COORDINATES/coordinates_decimal.xlsx\")"
   ]
  },
  {
   "cell_type": "markdown",
   "metadata": {},
   "source": [
    "### Convert to UTM coordinates"
   ]
  },
  {
   "cell_type": "markdown",
   "metadata": {},
   "source": [
    "**To do**\n",
    "* Group samples into certain groups based on spatial distribution\n",
    "* Recalculate utm coordinates based on fixed zone (fixed letter and number)"
   ]
  },
  {
   "cell_type": "code",
   "execution_count": 138,
   "metadata": {},
   "outputs": [
    {
     "ename": "NameError",
     "evalue": "(\"name 'utm' is not defined\", 'occurred at index 0')",
     "output_type": "error",
     "traceback": [
      "\u001b[1;31m---------------------------------------------------------------------------\u001b[0m",
      "\u001b[1;31mNameError\u001b[0m                                 Traceback (most recent call last)",
      "\u001b[1;32m<ipython-input-138-7a90af13f497>\u001b[0m in \u001b[0;36m<module>\u001b[1;34m\u001b[0m\n\u001b[1;32m----> 1\u001b[1;33m \u001b[0mcoordinates_utm\u001b[0m \u001b[1;33m=\u001b[0m \u001b[0mcoordinates\u001b[0m\u001b[1;33m.\u001b[0m\u001b[0mapply\u001b[0m\u001b[1;33m(\u001b[0m\u001b[1;32mlambda\u001b[0m \u001b[0mrow\u001b[0m \u001b[1;33m:\u001b[0m \u001b[0mutm\u001b[0m\u001b[1;33m.\u001b[0m\u001b[0mfrom_latlon\u001b[0m\u001b[1;33m(\u001b[0m\u001b[0mrow\u001b[0m\u001b[1;33m[\u001b[0m\u001b[1;34m\"Y\"\u001b[0m\u001b[1;33m]\u001b[0m\u001b[1;33m,\u001b[0m \u001b[0mrow\u001b[0m\u001b[1;33m[\u001b[0m\u001b[1;34m\"X\"\u001b[0m\u001b[1;33m]\u001b[0m\u001b[1;33m)\u001b[0m\u001b[1;33m,\u001b[0m \u001b[0maxis\u001b[0m\u001b[1;33m=\u001b[0m\u001b[1;36m1\u001b[0m\u001b[1;33m)\u001b[0m\u001b[1;33m\u001b[0m\u001b[1;33m\u001b[0m\u001b[0m\n\u001b[0m\u001b[0;32m      2\u001b[0m \u001b[0mcoordinates_utm\u001b[0m \u001b[1;33m=\u001b[0m \u001b[0mcoordinates_utm\u001b[0m\u001b[1;33m.\u001b[0m\u001b[0mapply\u001b[0m\u001b[1;33m(\u001b[0m\u001b[0mpd\u001b[0m\u001b[1;33m.\u001b[0m\u001b[0mSeries\u001b[0m\u001b[1;33m)\u001b[0m\u001b[1;33m\u001b[0m\u001b[1;33m\u001b[0m\u001b[0m\n\u001b[0;32m      3\u001b[0m \u001b[0mcoordinates_utm\u001b[0m\u001b[1;33m.\u001b[0m\u001b[0mcolumns\u001b[0m \u001b[1;33m=\u001b[0m \u001b[1;33m[\u001b[0m\u001b[1;34m\"X\"\u001b[0m\u001b[1;33m,\u001b[0m \u001b[1;34m\"Y\"\u001b[0m\u001b[1;33m,\u001b[0m \u001b[1;34m\"ZoneNumber\"\u001b[0m\u001b[1;33m,\u001b[0m \u001b[1;34m\"ZoneLetter\"\u001b[0m\u001b[1;33m]\u001b[0m\u001b[1;33m\u001b[0m\u001b[1;33m\u001b[0m\u001b[0m\n",
      "\u001b[1;32m~\\Anaconda3\\envs\\main\\lib\\site-packages\\pandas\\core\\frame.py\u001b[0m in \u001b[0;36mapply\u001b[1;34m(self, func, axis, broadcast, raw, reduce, result_type, args, **kwds)\u001b[0m\n\u001b[0;32m   6926\u001b[0m             \u001b[0mkwds\u001b[0m\u001b[1;33m=\u001b[0m\u001b[0mkwds\u001b[0m\u001b[1;33m,\u001b[0m\u001b[1;33m\u001b[0m\u001b[1;33m\u001b[0m\u001b[0m\n\u001b[0;32m   6927\u001b[0m         )\n\u001b[1;32m-> 6928\u001b[1;33m         \u001b[1;32mreturn\u001b[0m \u001b[0mop\u001b[0m\u001b[1;33m.\u001b[0m\u001b[0mget_result\u001b[0m\u001b[1;33m(\u001b[0m\u001b[1;33m)\u001b[0m\u001b[1;33m\u001b[0m\u001b[1;33m\u001b[0m\u001b[0m\n\u001b[0m\u001b[0;32m   6929\u001b[0m \u001b[1;33m\u001b[0m\u001b[0m\n\u001b[0;32m   6930\u001b[0m     \u001b[1;32mdef\u001b[0m \u001b[0mapplymap\u001b[0m\u001b[1;33m(\u001b[0m\u001b[0mself\u001b[0m\u001b[1;33m,\u001b[0m \u001b[0mfunc\u001b[0m\u001b[1;33m)\u001b[0m\u001b[1;33m:\u001b[0m\u001b[1;33m\u001b[0m\u001b[1;33m\u001b[0m\u001b[0m\n",
      "\u001b[1;32m~\\Anaconda3\\envs\\main\\lib\\site-packages\\pandas\\core\\apply.py\u001b[0m in \u001b[0;36mget_result\u001b[1;34m(self)\u001b[0m\n\u001b[0;32m    184\u001b[0m             \u001b[1;32mreturn\u001b[0m \u001b[0mself\u001b[0m\u001b[1;33m.\u001b[0m\u001b[0mapply_raw\u001b[0m\u001b[1;33m(\u001b[0m\u001b[1;33m)\u001b[0m\u001b[1;33m\u001b[0m\u001b[1;33m\u001b[0m\u001b[0m\n\u001b[0;32m    185\u001b[0m \u001b[1;33m\u001b[0m\u001b[0m\n\u001b[1;32m--> 186\u001b[1;33m         \u001b[1;32mreturn\u001b[0m \u001b[0mself\u001b[0m\u001b[1;33m.\u001b[0m\u001b[0mapply_standard\u001b[0m\u001b[1;33m(\u001b[0m\u001b[1;33m)\u001b[0m\u001b[1;33m\u001b[0m\u001b[1;33m\u001b[0m\u001b[0m\n\u001b[0m\u001b[0;32m    187\u001b[0m \u001b[1;33m\u001b[0m\u001b[0m\n\u001b[0;32m    188\u001b[0m     \u001b[1;32mdef\u001b[0m \u001b[0mapply_empty_result\u001b[0m\u001b[1;33m(\u001b[0m\u001b[0mself\u001b[0m\u001b[1;33m)\u001b[0m\u001b[1;33m:\u001b[0m\u001b[1;33m\u001b[0m\u001b[1;33m\u001b[0m\u001b[0m\n",
      "\u001b[1;32m~\\Anaconda3\\envs\\main\\lib\\site-packages\\pandas\\core\\apply.py\u001b[0m in \u001b[0;36mapply_standard\u001b[1;34m(self)\u001b[0m\n\u001b[0;32m    290\u001b[0m \u001b[1;33m\u001b[0m\u001b[0m\n\u001b[0;32m    291\u001b[0m         \u001b[1;31m# compute the result using the series generator\u001b[0m\u001b[1;33m\u001b[0m\u001b[1;33m\u001b[0m\u001b[1;33m\u001b[0m\u001b[0m\n\u001b[1;32m--> 292\u001b[1;33m         \u001b[0mself\u001b[0m\u001b[1;33m.\u001b[0m\u001b[0mapply_series_generator\u001b[0m\u001b[1;33m(\u001b[0m\u001b[1;33m)\u001b[0m\u001b[1;33m\u001b[0m\u001b[1;33m\u001b[0m\u001b[0m\n\u001b[0m\u001b[0;32m    293\u001b[0m \u001b[1;33m\u001b[0m\u001b[0m\n\u001b[0;32m    294\u001b[0m         \u001b[1;31m# wrap results\u001b[0m\u001b[1;33m\u001b[0m\u001b[1;33m\u001b[0m\u001b[1;33m\u001b[0m\u001b[0m\n",
      "\u001b[1;32m~\\Anaconda3\\envs\\main\\lib\\site-packages\\pandas\\core\\apply.py\u001b[0m in \u001b[0;36mapply_series_generator\u001b[1;34m(self)\u001b[0m\n\u001b[0;32m    319\u001b[0m             \u001b[1;32mtry\u001b[0m\u001b[1;33m:\u001b[0m\u001b[1;33m\u001b[0m\u001b[1;33m\u001b[0m\u001b[0m\n\u001b[0;32m    320\u001b[0m                 \u001b[1;32mfor\u001b[0m \u001b[0mi\u001b[0m\u001b[1;33m,\u001b[0m \u001b[0mv\u001b[0m \u001b[1;32min\u001b[0m \u001b[0menumerate\u001b[0m\u001b[1;33m(\u001b[0m\u001b[0mseries_gen\u001b[0m\u001b[1;33m)\u001b[0m\u001b[1;33m:\u001b[0m\u001b[1;33m\u001b[0m\u001b[1;33m\u001b[0m\u001b[0m\n\u001b[1;32m--> 321\u001b[1;33m                     \u001b[0mresults\u001b[0m\u001b[1;33m[\u001b[0m\u001b[0mi\u001b[0m\u001b[1;33m]\u001b[0m \u001b[1;33m=\u001b[0m \u001b[0mself\u001b[0m\u001b[1;33m.\u001b[0m\u001b[0mf\u001b[0m\u001b[1;33m(\u001b[0m\u001b[0mv\u001b[0m\u001b[1;33m)\u001b[0m\u001b[1;33m\u001b[0m\u001b[1;33m\u001b[0m\u001b[0m\n\u001b[0m\u001b[0;32m    322\u001b[0m                     \u001b[0mkeys\u001b[0m\u001b[1;33m.\u001b[0m\u001b[0mappend\u001b[0m\u001b[1;33m(\u001b[0m\u001b[0mv\u001b[0m\u001b[1;33m.\u001b[0m\u001b[0mname\u001b[0m\u001b[1;33m)\u001b[0m\u001b[1;33m\u001b[0m\u001b[1;33m\u001b[0m\u001b[0m\n\u001b[0;32m    323\u001b[0m             \u001b[1;32mexcept\u001b[0m \u001b[0mException\u001b[0m \u001b[1;32mas\u001b[0m \u001b[0me\u001b[0m\u001b[1;33m:\u001b[0m\u001b[1;33m\u001b[0m\u001b[1;33m\u001b[0m\u001b[0m\n",
      "\u001b[1;32m<ipython-input-138-7a90af13f497>\u001b[0m in \u001b[0;36m<lambda>\u001b[1;34m(row)\u001b[0m\n\u001b[1;32m----> 1\u001b[1;33m \u001b[0mcoordinates_utm\u001b[0m \u001b[1;33m=\u001b[0m \u001b[0mcoordinates\u001b[0m\u001b[1;33m.\u001b[0m\u001b[0mapply\u001b[0m\u001b[1;33m(\u001b[0m\u001b[1;32mlambda\u001b[0m \u001b[0mrow\u001b[0m \u001b[1;33m:\u001b[0m \u001b[0mutm\u001b[0m\u001b[1;33m.\u001b[0m\u001b[0mfrom_latlon\u001b[0m\u001b[1;33m(\u001b[0m\u001b[0mrow\u001b[0m\u001b[1;33m[\u001b[0m\u001b[1;34m\"Y\"\u001b[0m\u001b[1;33m]\u001b[0m\u001b[1;33m,\u001b[0m \u001b[0mrow\u001b[0m\u001b[1;33m[\u001b[0m\u001b[1;34m\"X\"\u001b[0m\u001b[1;33m]\u001b[0m\u001b[1;33m)\u001b[0m\u001b[1;33m,\u001b[0m \u001b[0maxis\u001b[0m\u001b[1;33m=\u001b[0m\u001b[1;36m1\u001b[0m\u001b[1;33m)\u001b[0m\u001b[1;33m\u001b[0m\u001b[1;33m\u001b[0m\u001b[0m\n\u001b[0m\u001b[0;32m      2\u001b[0m \u001b[0mcoordinates_utm\u001b[0m \u001b[1;33m=\u001b[0m \u001b[0mcoordinates_utm\u001b[0m\u001b[1;33m.\u001b[0m\u001b[0mapply\u001b[0m\u001b[1;33m(\u001b[0m\u001b[0mpd\u001b[0m\u001b[1;33m.\u001b[0m\u001b[0mSeries\u001b[0m\u001b[1;33m)\u001b[0m\u001b[1;33m\u001b[0m\u001b[1;33m\u001b[0m\u001b[0m\n\u001b[0;32m      3\u001b[0m \u001b[0mcoordinates_utm\u001b[0m\u001b[1;33m.\u001b[0m\u001b[0mcolumns\u001b[0m \u001b[1;33m=\u001b[0m \u001b[1;33m[\u001b[0m\u001b[1;34m\"X\"\u001b[0m\u001b[1;33m,\u001b[0m \u001b[1;34m\"Y\"\u001b[0m\u001b[1;33m,\u001b[0m \u001b[1;34m\"ZoneNumber\"\u001b[0m\u001b[1;33m,\u001b[0m \u001b[1;34m\"ZoneLetter\"\u001b[0m\u001b[1;33m]\u001b[0m\u001b[1;33m\u001b[0m\u001b[1;33m\u001b[0m\u001b[0m\n",
      "\u001b[1;31mNameError\u001b[0m: (\"name 'utm' is not defined\", 'occurred at index 0')"
     ]
    }
   ],
   "source": [
    "coordinates_utm = coordinates.apply(lambda row : utm.from_latlon(row[\"Y\"], row[\"X\"]), axis=1)\n",
    "coordinates_utm = coordinates_utm.apply(pd.Series)\n",
    "coordinates_utm.columns = [\"X\", \"Y\", \"ZoneNumber\", \"ZoneLetter\"]"
   ]
  },
  {
   "cell_type": "code",
   "execution_count": 52,
   "metadata": {},
   "outputs": [
    {
     "data": {
      "text/html": [
       "<div>\n",
       "<style scoped>\n",
       "    .dataframe tbody tr th:only-of-type {\n",
       "        vertical-align: middle;\n",
       "    }\n",
       "\n",
       "    .dataframe tbody tr th {\n",
       "        vertical-align: top;\n",
       "    }\n",
       "\n",
       "    .dataframe thead th {\n",
       "        text-align: right;\n",
       "    }\n",
       "</style>\n",
       "<table border=\"1\" class=\"dataframe\">\n",
       "  <thead>\n",
       "    <tr style=\"text-align: right;\">\n",
       "      <th></th>\n",
       "      <th>X</th>\n",
       "      <th>Y</th>\n",
       "      <th>ZoneNumber</th>\n",
       "      <th>ZoneLetter</th>\n",
       "    </tr>\n",
       "  </thead>\n",
       "  <tbody>\n",
       "    <tr>\n",
       "      <th>0</th>\n",
       "      <td>311272.566098</td>\n",
       "      <td>4.932930e+06</td>\n",
       "      <td>54</td>\n",
       "      <td>T</td>\n",
       "    </tr>\n",
       "    <tr>\n",
       "      <th>1</th>\n",
       "      <td>656538.925786</td>\n",
       "      <td>6.008743e+06</td>\n",
       "      <td>50</td>\n",
       "      <td>U</td>\n",
       "    </tr>\n",
       "    <tr>\n",
       "      <th>2</th>\n",
       "      <td>633468.918083</td>\n",
       "      <td>6.943713e+06</td>\n",
       "      <td>56</td>\n",
       "      <td>V</td>\n",
       "    </tr>\n",
       "    <tr>\n",
       "      <th>3</th>\n",
       "      <td>448679.859182</td>\n",
       "      <td>6.828145e+06</td>\n",
       "      <td>55</td>\n",
       "      <td>V</td>\n",
       "    </tr>\n",
       "    <tr>\n",
       "      <th>4</th>\n",
       "      <td>475912.972942</td>\n",
       "      <td>7.645188e+06</td>\n",
       "      <td>58</td>\n",
       "      <td>W</td>\n",
       "    </tr>\n",
       "    <tr>\n",
       "      <th>...</th>\n",
       "      <td>...</td>\n",
       "      <td>...</td>\n",
       "      <td>...</td>\n",
       "      <td>...</td>\n",
       "    </tr>\n",
       "    <tr>\n",
       "      <th>4654</th>\n",
       "      <td>472781.240413</td>\n",
       "      <td>7.398072e+06</td>\n",
       "      <td>58</td>\n",
       "      <td>W</td>\n",
       "    </tr>\n",
       "    <tr>\n",
       "      <th>4655</th>\n",
       "      <td>658620.016371</td>\n",
       "      <td>5.200790e+06</td>\n",
       "      <td>53</td>\n",
       "      <td>T</td>\n",
       "    </tr>\n",
       "    <tr>\n",
       "      <th>4656</th>\n",
       "      <td>335447.154681</td>\n",
       "      <td>6.454395e+06</td>\n",
       "      <td>54</td>\n",
       "      <td>V</td>\n",
       "    </tr>\n",
       "    <tr>\n",
       "      <th>4657</th>\n",
       "      <td>528075.823175</td>\n",
       "      <td>6.746190e+06</td>\n",
       "      <td>55</td>\n",
       "      <td>V</td>\n",
       "    </tr>\n",
       "    <tr>\n",
       "      <th>4658</th>\n",
       "      <td>522411.349692</td>\n",
       "      <td>7.355297e+06</td>\n",
       "      <td>58</td>\n",
       "      <td>W</td>\n",
       "    </tr>\n",
       "  </tbody>\n",
       "</table>\n",
       "<p>4659 rows × 4 columns</p>\n",
       "</div>"
      ],
      "text/plain": [
       "                  X             Y  ZoneNumber ZoneLetter\n",
       "0     311272.566098  4.932930e+06          54          T\n",
       "1     656538.925786  6.008743e+06          50          U\n",
       "2     633468.918083  6.943713e+06          56          V\n",
       "3     448679.859182  6.828145e+06          55          V\n",
       "4     475912.972942  7.645188e+06          58          W\n",
       "...             ...           ...         ...        ...\n",
       "4654  472781.240413  7.398072e+06          58          W\n",
       "4655  658620.016371  5.200790e+06          53          T\n",
       "4656  335447.154681  6.454395e+06          54          V\n",
       "4657  528075.823175  6.746190e+06          55          V\n",
       "4658  522411.349692  7.355297e+06          58          W\n",
       "\n",
       "[4659 rows x 4 columns]"
      ]
     },
     "execution_count": 52,
     "metadata": {},
     "output_type": "execute_result"
    }
   ],
   "source": [
    "coordinates_utm"
   ]
  },
  {
   "cell_type": "code",
   "execution_count": 53,
   "metadata": {},
   "outputs": [
    {
     "data": {
      "text/plain": [
       "53    971\n",
       "49    802\n",
       "50    689\n",
       "54    655\n",
       "55    279\n",
       "56    232\n",
       "58    174\n",
       "60    151\n",
       "1     139\n",
       "59    133\n",
       "48    132\n",
       "57    130\n",
       "52     90\n",
       "2      40\n",
       "51     39\n",
       "47      3\n",
       "Name: ZoneNumber, dtype: int64"
      ]
     },
     "execution_count": 53,
     "metadata": {},
     "output_type": "execute_result"
    }
   ],
   "source": [
    "coordinates_utm[\"ZoneNumber\"].value_counts()"
   ]
  },
  {
   "cell_type": "code",
   "execution_count": 54,
   "metadata": {},
   "outputs": [
    {
     "data": {
      "text/plain": [
       "U    1875\n",
       "W    1117\n",
       "T     878\n",
       "V     758\n",
       "X      31\n",
       "Name: ZoneLetter, dtype: int64"
      ]
     },
     "execution_count": 54,
     "metadata": {},
     "output_type": "execute_result"
    }
   ],
   "source": [
    "coordinates_utm[\"ZoneLetter\"].value_counts()"
   ]
  },
  {
   "cell_type": "code",
   "execution_count": 63,
   "metadata": {},
   "outputs": [
    {
     "data": {
      "text/plain": [
       "49U    759\n",
       "50U    658\n",
       "53T    643\n",
       "55V    197\n",
       "56V    196\n",
       "54W    193\n",
       "54V    178\n",
       "53U    167\n",
       "53W    148\n",
       "1W     139\n",
       "54T    129\n",
       "60W    126\n",
       "59W    125\n",
       "54U    124\n",
       "58W    111\n",
       "55W     82\n",
       "48U     77\n",
       "58V     63\n",
       "52W     58\n",
       "57V     57\n",
       "57W     56\n",
       "48T     55\n",
       "2W      40\n",
       "49T     40\n",
       "51U     38\n",
       "56W     36\n",
       "52U     32\n",
       "54X     31\n",
       "60V     25\n",
       "50V     20\n",
       "57U     17\n",
       "53V     13\n",
       "50T     11\n",
       "59V      8\n",
       "47U      3\n",
       "49W      3\n",
       "51V      1\n",
       "dtype: int64"
      ]
     },
     "execution_count": 63,
     "metadata": {},
     "output_type": "execute_result"
    }
   ],
   "source": [
    "(coordinates_utm[\"ZoneNumber\"].astype(str) + coordinates_utm[\"ZoneLetter\"]).value_counts()"
   ]
  },
  {
   "cell_type": "markdown",
   "metadata": {},
   "source": [
    "____"
   ]
  },
  {
   "cell_type": "markdown",
   "metadata": {},
   "source": [
    "## Metadata"
   ]
  },
  {
   "cell_type": "code",
   "execution_count": 34,
   "metadata": {},
   "outputs": [],
   "source": [
    "metadata = pd.read_excel(\"../_DATA/full_with_coordinates.xlsx\", index_col=0)\\\n",
    "             .drop([\"Latitude\", \"Longitude\", \"past_mer\"], axis=1)"
   ]
  },
  {
   "cell_type": "code",
   "execution_count": 35,
   "metadata": {},
   "outputs": [
    {
     "data": {
      "text/html": [
       "<div>\n",
       "<style scoped>\n",
       "    .dataframe tbody tr th:only-of-type {\n",
       "        vertical-align: middle;\n",
       "    }\n",
       "\n",
       "    .dataframe tbody tr th {\n",
       "        vertical-align: top;\n",
       "    }\n",
       "\n",
       "    .dataframe thead th {\n",
       "        text-align: right;\n",
       "    }\n",
       "</style>\n",
       "<table border=\"1\" class=\"dataframe\">\n",
       "  <thead>\n",
       "    <tr style=\"text-align: right;\">\n",
       "      <th></th>\n",
       "      <th>type_granite</th>\n",
       "      <th>time</th>\n",
       "      <th>massif</th>\n",
       "      <th>sampler</th>\n",
       "      <th>others</th>\n",
       "      <th>sampler+year</th>\n",
       "    </tr>\n",
       "  </thead>\n",
       "  <tbody>\n",
       "    <tr>\n",
       "      <th>0</th>\n",
       "      <td>Granite leucogranitic</td>\n",
       "      <td>K2</td>\n",
       "      <td>NaN</td>\n",
       "      <td>NaN</td>\n",
       "      <td>NaN</td>\n",
       "      <td>V.N.Musin,1970</td>\n",
       "    </tr>\n",
       "    <tr>\n",
       "      <th>1</th>\n",
       "      <td>Granite leucocratic</td>\n",
       "      <td>Tr</td>\n",
       "      <td>NaN</td>\n",
       "      <td>V.I.Zhigalova</td>\n",
       "      <td>NaN</td>\n",
       "      <td>E.A.Ivanov,1969</td>\n",
       "    </tr>\n",
       "    <tr>\n",
       "      <th>2</th>\n",
       "      <td>Granite leucocratic coarse-grained</td>\n",
       "      <td>K2</td>\n",
       "      <td>Omsukchan massif</td>\n",
       "      <td>P.M.Bosek</td>\n",
       "      <td>NaN</td>\n",
       "      <td>O.S.Gracheva,1948</td>\n",
       "    </tr>\n",
       "    <tr>\n",
       "      <th>3</th>\n",
       "      <td>Granite leucocratic</td>\n",
       "      <td>K1</td>\n",
       "      <td>Buksandzhin massif</td>\n",
       "      <td>A.Kh.Brovtman</td>\n",
       "      <td>NaN</td>\n",
       "      <td>A.F.Mikhaylov,1948</td>\n",
       "    </tr>\n",
       "    <tr>\n",
       "      <th>4</th>\n",
       "      <td>Granite-porphyry micropegmatitic</td>\n",
       "      <td>K1</td>\n",
       "      <td>Attykveem massif</td>\n",
       "      <td>L.G.Semenova</td>\n",
       "      <td>0th.:S-0.16</td>\n",
       "      <td>A.I.Sadovsky,1963</td>\n",
       "    </tr>\n",
       "    <tr>\n",
       "      <th>...</th>\n",
       "      <td>...</td>\n",
       "      <td>...</td>\n",
       "      <td>...</td>\n",
       "      <td>...</td>\n",
       "      <td>...</td>\n",
       "      <td>...</td>\n",
       "    </tr>\n",
       "    <tr>\n",
       "      <th>4654</th>\n",
       "      <td>Diorite</td>\n",
       "      <td>K1</td>\n",
       "      <td>Egdegkych massif</td>\n",
       "      <td>NaN</td>\n",
       "      <td>Oth.:co2-0.12</td>\n",
       "      <td>V.A.lgnat'ev,1964</td>\n",
       "    </tr>\n",
       "    <tr>\n",
       "      <th>4655</th>\n",
       "      <td>Quartz diorite</td>\n",
       "      <td>K2</td>\n",
       "      <td>Verkhneplotnikovsky massif</td>\n",
       "      <td>NaN</td>\n",
       "      <td>NaN</td>\n",
       "      <td>A.A.Syas'ko,1969</td>\n",
       "    </tr>\n",
       "    <tr>\n",
       "      <th>4656</th>\n",
       "      <td>Diorite</td>\n",
       "      <td>J3</td>\n",
       "      <td>NaN</td>\n",
       "      <td>NaN</td>\n",
       "      <td>Oth.:co2-0.02,so3-0.0l</td>\n",
       "      <td>N.N.Remizov,1967</td>\n",
       "    </tr>\n",
       "    <tr>\n",
       "      <th>4657</th>\n",
       "      <td>Diorite</td>\n",
       "      <td>K2</td>\n",
       "      <td>NaN</td>\n",
       "      <td>NaN</td>\n",
       "      <td>NaN</td>\n",
       "      <td>A.P.Osipov,1966</td>\n",
       "    </tr>\n",
       "    <tr>\n",
       "      <th>4658</th>\n",
       "      <td>Diorite</td>\n",
       "      <td>K2</td>\n",
       "      <td>Vukney massif</td>\n",
       "      <td>V.V.Langvagen</td>\n",
       "      <td>Oth:Ba0-0.03</td>\n",
       "      <td>M.G.Ravich,1938</td>\n",
       "    </tr>\n",
       "  </tbody>\n",
       "</table>\n",
       "<p>4659 rows × 6 columns</p>\n",
       "</div>"
      ],
      "text/plain": [
       "                            type_granite time                      massif  \\\n",
       "0                  Granite leucogranitic   K2                         NaN   \n",
       "1                    Granite leucocratic   Tr                         NaN   \n",
       "2     Granite leucocratic coarse-grained   K2            Omsukchan massif   \n",
       "3                    Granite leucocratic   K1          Buksandzhin massif   \n",
       "4       Granite-porphyry micropegmatitic   K1            Attykveem massif   \n",
       "...                                  ...  ...                         ...   \n",
       "4654                             Diorite   K1            Egdegkych massif   \n",
       "4655                      Quartz diorite   K2  Verkhneplotnikovsky massif   \n",
       "4656                             Diorite   J3                         NaN   \n",
       "4657                             Diorite   K2                         NaN   \n",
       "4658                             Diorite   K2               Vukney massif   \n",
       "\n",
       "            sampler                  others        sampler+year  \n",
       "0               NaN                     NaN      V.N.Musin,1970  \n",
       "1     V.I.Zhigalova                     NaN     E.A.Ivanov,1969  \n",
       "2         P.M.Bosek                     NaN   O.S.Gracheva,1948  \n",
       "3     A.Kh.Brovtman                     NaN  A.F.Mikhaylov,1948  \n",
       "4      L.G.Semenova             0th.:S-0.16   A.I.Sadovsky,1963  \n",
       "...             ...                     ...                 ...  \n",
       "4654            NaN           Oth.:co2-0.12   V.A.lgnat'ev,1964  \n",
       "4655            NaN                     NaN    A.A.Syas'ko,1969  \n",
       "4656            NaN  Oth.:co2-0.02,so3-0.0l    N.N.Remizov,1967  \n",
       "4657            NaN                     NaN     A.P.Osipov,1966  \n",
       "4658  V.V.Langvagen            Oth:Ba0-0.03     M.G.Ravich,1938  \n",
       "\n",
       "[4659 rows x 6 columns]"
      ]
     },
     "execution_count": 35,
     "metadata": {},
     "output_type": "execute_result"
    }
   ],
   "source": [
    "metadata"
   ]
  },
  {
   "cell_type": "code",
   "execution_count": 36,
   "metadata": {},
   "outputs": [
    {
     "data": {
      "text/plain": [
       "Granite                                    656\n",
       "Granodiorite                               523\n",
       "Granite-porphyry                           282\n",
       "Bt granite                                 268\n",
       "Granite leucocratic                        220\n",
       "                                          ... \n",
       "Granodiorite leucocratic                     1\n",
       "Mu granite porphyraceous coarse-grained      1\n",
       "Px-Amf granodiorite                          1\n",
       "Amf-Bt granite-porphyry                      1\n",
       "Hb-Bt granite(granosyenite)                  1\n",
       "Name: type_granite, Length: 401, dtype: int64"
      ]
     },
     "execution_count": 36,
     "metadata": {},
     "output_type": "execute_result"
    }
   ],
   "source": [
    "metadata[\"type_granite\"].value_counts()"
   ]
  },
  {
   "cell_type": "code",
   "execution_count": 37,
   "metadata": {},
   "outputs": [
    {
     "data": {
      "text/plain": [
       "Ulakhan-Sis massif         58\n",
       "Khoboyotuu-Echiy massif    56\n",
       "Vladimirsky massif         35\n",
       "Zimov'e massif             33\n",
       "Bom-Gorkhon massif         31\n",
       "                           ..\n",
       "Shivkin massif              1\n",
       "Kyragas massif              1\n",
       "Dogdin massif               1\n",
       "Alchan massif               1\n",
       "Chekhalin massif            1\n",
       "Name: massif, Length: 942, dtype: int64"
      ]
     },
     "execution_count": 37,
     "metadata": {},
     "output_type": "execute_result"
    }
   ],
   "source": [
    "metadata[\"massif\"].value_counts()"
   ]
  },
  {
   "cell_type": "code",
   "execution_count": 38,
   "metadata": {},
   "outputs": [
    {
     "data": {
      "text/plain": [
       "K2         1271\n",
       "K1         1151\n",
       "Tr          465\n",
       "J3          411\n",
       "J2          154\n",
       "K2-Pg1      127\n",
       "Tr-J1       122\n",
       "Tr3-J1      121\n",
       "J1_2        108\n",
       "Tr-J         82\n",
       "Pg1          78\n",
       "Pg           74\n",
       "J1           69\n",
       "Mz           57\n",
       "K            52\n",
       "J            46\n",
       "K2-Pg        42\n",
       "J2_3         35\n",
       "J3-K1        31\n",
       "Mz1          28\n",
       "Tr3          28\n",
       "Pg1_2        20\n",
       "Pg2          18\n",
       "Tr2          17\n",
       "K1_2          9\n",
       "Tr-J2         7\n",
       "Tr3-J         3\n",
       "Tr2_3         3\n",
       "K2_Pg         2\n",
       "Tr1           2\n",
       "Mz3           2\n",
       "N             2\n",
       "J-K           2\n",
       "Tr3-J1N       2\n",
       "Pg3           2\n",
       "Mz1-N         1\n",
       "J3-Pg         1\n",
       "J2-K          1\n",
       "J3-Pg1        1\n",
       "K1-K2         1\n",
       "J-Pg3         1\n",
       "J 1_2         1\n",
       "Pg2_3         1\n",
       "Tr1-J1        1\n",
       "Name: time, dtype: int64"
      ]
     },
     "execution_count": 38,
     "metadata": {},
     "output_type": "execute_result"
    }
   ],
   "source": [
    "metadata[\"time\"].value_counts()"
   ]
  },
  {
   "cell_type": "code",
   "execution_count": 39,
   "metadata": {},
   "outputs": [
    {
     "data": {
      "text/plain": [
       "L.S.Voronova       120\n",
       "D.M.Shuster         87\n",
       "N.A.Lebedeva        86\n",
       "V.I.Zhigalova       70\n",
       "N.P.Mel'nikova      49\n",
       "                  ... \n",
       "R.PKopnova           1\n",
       "A.V.Skri pina        1\n",
       "NP.Me l'nikova       1\n",
       "N.A.Krivitskaya      1\n",
       "E.N.Grigoryan        1\n",
       "Name: sampler, Length: 739, dtype: int64"
      ]
     },
     "execution_count": 39,
     "metadata": {},
     "output_type": "execute_result"
    }
   ],
   "source": [
    "metadata[\"sampler\"].value_counts()"
   ]
  },
  {
   "cell_type": "code",
   "execution_count": 40,
   "metadata": {},
   "outputs": [
    {
     "data": {
      "text/plain": [
       "G.A.Valuy,1975         76\n",
       "V.A.Popeko,1968        61\n",
       "V.A.Faradzhev,1971     43\n",
       "V.S.Ivanov,1968        37\n",
       "R.O.Galabala,1976      37\n",
       "                       ..\n",
       "I.N.Trumpe,1958         1\n",
       "N.I.Tikhomirov,1938     1\n",
       "A.I.Gus'kova,1954       1\n",
       "M.N.Zlobin,1941         1\n",
       "M.P.Krutous,1956        1\n",
       "Name: sampler+year, Length: 1392, dtype: int64"
      ]
     },
     "execution_count": 40,
     "metadata": {},
     "output_type": "execute_result"
    }
   ],
   "source": [
    "metadata[\"sampler+year\"].value_counts()"
   ]
  },
  {
   "cell_type": "markdown",
   "metadata": {},
   "source": [
    "## Saving of data"
   ]
  },
  {
   "cell_type": "code",
   "execution_count": null,
   "metadata": {},
   "outputs": [],
   "source": [
    "# Save data as pickle files to use them in later notebooks\n",
    "preproc.save_obj(mineralogy) # mineralogy\n",
    "preproc.save_obj(mineralogy_clr) # mineralogy clr\n",
    "preproc.save_obj(mineralogy_pca) # mineralogy pca info\n",
    "preproc.save_obj(mineralogy_pca_df) # mineralogy pca scores\n",
    "\n",
    "preproc.save_obj(___) # coordinates latlon\n",
    "preproc.save_obj(___) # coordinates utm\n",
    "preproc.save_obj(___) # metadata"
   ]
  },
  {
   "cell_type": "markdown",
   "metadata": {},
   "source": [
    "____"
   ]
  }
 ],
 "metadata": {
  "kernelspec": {
   "display_name": "Python [conda env:main]",
   "language": "python",
   "name": "conda-env-main-py"
  },
  "language_info": {
   "codemirror_mode": {
    "name": "ipython",
    "version": 3
   },
   "file_extension": ".py",
   "mimetype": "text/x-python",
   "name": "python",
   "nbconvert_exporter": "python",
   "pygments_lexer": "ipython3",
   "version": "3.7.4"
  },
  "toc-autonumbering": true
 },
 "nbformat": 4,
 "nbformat_minor": 4
}
