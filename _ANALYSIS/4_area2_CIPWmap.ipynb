{
 "cells": [
  {
   "cell_type": "code",
   "execution_count": 147,
   "metadata": {},
   "outputs": [],
   "source": [
    "import numpy as np\n",
    "import pandas as pd"
   ]
  },
  {
   "cell_type": "code",
   "execution_count": 148,
   "metadata": {},
   "outputs": [],
   "source": [
    "import prepostprocessing.cleaning as cleaning\n",
    "import prepostprocessing.pre_processing as preproc\n",
    "from qapf import qapf\n",
    "from qapf import cipw"
   ]
  },
  {
   "cell_type": "markdown",
   "metadata": {},
   "source": [
    "___"
   ]
  },
  {
   "cell_type": "markdown",
   "metadata": {},
   "source": [
    "# CIPWFULL normalized data"
   ]
  },
  {
   "cell_type": "markdown",
   "metadata": {},
   "source": [
    "## Convert to CIPWFULL format"
   ]
  },
  {
   "cell_type": "markdown",
   "metadata": {},
   "source": [
    "**I used an arbitrary version of the mineralogical data, not sure if this is the correct one** -->is a good one"
   ]
  },
  {
   "cell_type": "code",
   "execution_count": 149,
   "metadata": {},
   "outputs": [
    {
     "data": {
      "text/plain": [
       "Index(['SiO2', 'TiO2', 'Al2O3', 'Fe2O3', 'FeO', 'MnO', 'MgO', 'CaO', 'Na2O',\n",
       "       'K2O', 'P2O5', 'l.i.', 'oth'],\n",
       "      dtype='object')"
      ]
     },
     "execution_count": 149,
     "metadata": {},
     "output_type": "execute_result"
    }
   ],
   "source": [
    "mineralogy_original = pd.read_excel(\"../_CIPW/CIPW/AREA2/interpolated_data.xlsx\", index_col=0)\n",
    "# Only iterested in sample number and oxides\n",
    "mineralogy = mineralogy_original[['SiO2', 'TiO2', 'Al2O3', 'Fe2O3','FeO', 'MnO', 'MgO', 'CaO', 'Na2O', 'K2O', 'P2O5', 'l.i.', 'oth']]\n",
    "mineralogy.columns"
   ]
  },
  {
   "cell_type": "code",
   "execution_count": 150,
   "metadata": {},
   "outputs": [],
   "source": [
    "mineralogy = mineralogy.dropna()"
   ]
  },
  {
   "cell_type": "code",
   "execution_count": 151,
   "metadata": {},
   "outputs": [],
   "source": [
    "# Check for closed sum\n",
    "assert all(np.isclose(mineralogy.sum(axis=1), 100.0))"
   ]
  },
  {
   "cell_type": "code",
   "execution_count": 152,
   "metadata": {},
   "outputs": [],
   "source": [
    "# Remove 'l.i.'' and 'oth' columns and immediately normalize data\n",
    "mineralogy = preproc.normalize(mineralogy.drop([\"l.i.\", \"oth\"], axis=1))"
   ]
  },
  {
   "cell_type": "code",
   "execution_count": 153,
   "metadata": {},
   "outputs": [],
   "source": [
    "# Check for closed sum\n",
    "assert all(np.isclose(mineralogy.sum(axis=1), 100.0))"
   ]
  },
  {
   "cell_type": "code",
   "execution_count": 154,
   "metadata": {},
   "outputs": [
    {
     "data": {
      "text/html": [
       "<div>\n",
       "<style scoped>\n",
       "    .dataframe tbody tr th:only-of-type {\n",
       "        vertical-align: middle;\n",
       "    }\n",
       "\n",
       "    .dataframe tbody tr th {\n",
       "        vertical-align: top;\n",
       "    }\n",
       "\n",
       "    .dataframe thead th {\n",
       "        text-align: right;\n",
       "    }\n",
       "</style>\n",
       "<table border=\"1\" class=\"dataframe\">\n",
       "  <thead>\n",
       "    <tr style=\"text-align: right;\">\n",
       "      <th></th>\n",
       "      <th>SiO2</th>\n",
       "      <th>TiO2</th>\n",
       "      <th>Al2O3</th>\n",
       "      <th>Fe2O3</th>\n",
       "      <th>FeO</th>\n",
       "      <th>MnO</th>\n",
       "      <th>MgO</th>\n",
       "      <th>CaO</th>\n",
       "      <th>Na2O</th>\n",
       "      <th>K2O</th>\n",
       "      <th>P2O5</th>\n",
       "    </tr>\n",
       "  </thead>\n",
       "  <tbody>\n",
       "    <tr>\n",
       "      <th>6777</th>\n",
       "      <td>71.723328</td>\n",
       "      <td>0.315689</td>\n",
       "      <td>14.884276</td>\n",
       "      <td>1.233404</td>\n",
       "      <td>1.935668</td>\n",
       "      <td>0.070970</td>\n",
       "      <td>0.771417</td>\n",
       "      <td>1.662899</td>\n",
       "      <td>3.564247</td>\n",
       "      <td>3.822293</td>\n",
       "      <td>0.015808</td>\n",
       "    </tr>\n",
       "    <tr>\n",
       "      <th>6778</th>\n",
       "      <td>71.837691</td>\n",
       "      <td>0.309795</td>\n",
       "      <td>14.848128</td>\n",
       "      <td>1.230966</td>\n",
       "      <td>1.905836</td>\n",
       "      <td>0.070226</td>\n",
       "      <td>0.749236</td>\n",
       "      <td>1.621748</td>\n",
       "      <td>3.567697</td>\n",
       "      <td>3.842724</td>\n",
       "      <td>0.015952</td>\n",
       "    </tr>\n",
       "    <tr>\n",
       "      <th>6779</th>\n",
       "      <td>71.842825</td>\n",
       "      <td>0.309633</td>\n",
       "      <td>14.845298</td>\n",
       "      <td>1.232037</td>\n",
       "      <td>1.904930</td>\n",
       "      <td>0.070288</td>\n",
       "      <td>0.747293</td>\n",
       "      <td>1.618594</td>\n",
       "      <td>3.568280</td>\n",
       "      <td>3.844905</td>\n",
       "      <td>0.015918</td>\n",
       "    </tr>\n",
       "    <tr>\n",
       "      <th>6780</th>\n",
       "      <td>71.849990</td>\n",
       "      <td>0.309356</td>\n",
       "      <td>14.841857</td>\n",
       "      <td>1.233096</td>\n",
       "      <td>1.903378</td>\n",
       "      <td>0.070328</td>\n",
       "      <td>0.745047</td>\n",
       "      <td>1.614810</td>\n",
       "      <td>3.568899</td>\n",
       "      <td>3.847355</td>\n",
       "      <td>0.015883</td>\n",
       "    </tr>\n",
       "    <tr>\n",
       "      <th>6781</th>\n",
       "      <td>71.866897</td>\n",
       "      <td>0.307965</td>\n",
       "      <td>14.841650</td>\n",
       "      <td>1.238391</td>\n",
       "      <td>1.892854</td>\n",
       "      <td>0.069794</td>\n",
       "      <td>0.742660</td>\n",
       "      <td>1.607396</td>\n",
       "      <td>3.568828</td>\n",
       "      <td>3.846713</td>\n",
       "      <td>0.016854</td>\n",
       "    </tr>\n",
       "  </tbody>\n",
       "</table>\n",
       "</div>"
      ],
      "text/plain": [
       "           SiO2      TiO2      Al2O3     Fe2O3       FeO       MnO       MgO  \\\n",
       "6777  71.723328  0.315689  14.884276  1.233404  1.935668  0.070970  0.771417   \n",
       "6778  71.837691  0.309795  14.848128  1.230966  1.905836  0.070226  0.749236   \n",
       "6779  71.842825  0.309633  14.845298  1.232037  1.904930  0.070288  0.747293   \n",
       "6780  71.849990  0.309356  14.841857  1.233096  1.903378  0.070328  0.745047   \n",
       "6781  71.866897  0.307965  14.841650  1.238391  1.892854  0.069794  0.742660   \n",
       "\n",
       "           CaO      Na2O       K2O      P2O5  \n",
       "6777  1.662899  3.564247  3.822293  0.015808  \n",
       "6778  1.621748  3.567697  3.842724  0.015952  \n",
       "6779  1.618594  3.568280  3.844905  0.015918  \n",
       "6780  1.614810  3.568899  3.847355  0.015883  \n",
       "6781  1.607396  3.568828  3.846713  0.016854  "
      ]
     },
     "execution_count": 154,
     "metadata": {},
     "output_type": "execute_result"
    }
   ],
   "source": [
    "mineralogy.head()"
   ]
  },
  {
   "cell_type": "code",
   "execution_count": 155,
   "metadata": {},
   "outputs": [
    {
     "data": {
      "text/html": [
       "<div>\n",
       "<style scoped>\n",
       "    .dataframe tbody tr th:only-of-type {\n",
       "        vertical-align: middle;\n",
       "    }\n",
       "\n",
       "    .dataframe tbody tr th {\n",
       "        vertical-align: top;\n",
       "    }\n",
       "\n",
       "    .dataframe thead th {\n",
       "        text-align: right;\n",
       "    }\n",
       "</style>\n",
       "<table border=\"1\" class=\"dataframe\">\n",
       "  <thead>\n",
       "    <tr style=\"text-align: right;\">\n",
       "      <th></th>\n",
       "      <th>SiO2</th>\n",
       "      <th>TiO2</th>\n",
       "      <th>Al2O3</th>\n",
       "      <th>Fe2O3</th>\n",
       "      <th>FeO</th>\n",
       "      <th>MnO</th>\n",
       "      <th>MgO</th>\n",
       "      <th>CaO</th>\n",
       "      <th>Na2O</th>\n",
       "      <th>K2O</th>\n",
       "      <th>P2O5</th>\n",
       "    </tr>\n",
       "  </thead>\n",
       "  <tbody>\n",
       "    <tr>\n",
       "      <th>6777</th>\n",
       "      <td>71.723328</td>\n",
       "      <td>0.315689</td>\n",
       "      <td>14.884276</td>\n",
       "      <td>1.233404</td>\n",
       "      <td>1.935668</td>\n",
       "      <td>0.070970</td>\n",
       "      <td>0.771417</td>\n",
       "      <td>1.662899</td>\n",
       "      <td>3.564247</td>\n",
       "      <td>3.822293</td>\n",
       "      <td>0.015808</td>\n",
       "    </tr>\n",
       "    <tr>\n",
       "      <th>6778</th>\n",
       "      <td>71.837691</td>\n",
       "      <td>0.309795</td>\n",
       "      <td>14.848128</td>\n",
       "      <td>1.230966</td>\n",
       "      <td>1.905836</td>\n",
       "      <td>0.070226</td>\n",
       "      <td>0.749236</td>\n",
       "      <td>1.621748</td>\n",
       "      <td>3.567697</td>\n",
       "      <td>3.842724</td>\n",
       "      <td>0.015952</td>\n",
       "    </tr>\n",
       "    <tr>\n",
       "      <th>6779</th>\n",
       "      <td>71.842825</td>\n",
       "      <td>0.309633</td>\n",
       "      <td>14.845298</td>\n",
       "      <td>1.232037</td>\n",
       "      <td>1.904930</td>\n",
       "      <td>0.070288</td>\n",
       "      <td>0.747293</td>\n",
       "      <td>1.618594</td>\n",
       "      <td>3.568280</td>\n",
       "      <td>3.844905</td>\n",
       "      <td>0.015918</td>\n",
       "    </tr>\n",
       "    <tr>\n",
       "      <th>6780</th>\n",
       "      <td>71.849990</td>\n",
       "      <td>0.309356</td>\n",
       "      <td>14.841857</td>\n",
       "      <td>1.233096</td>\n",
       "      <td>1.903378</td>\n",
       "      <td>0.070328</td>\n",
       "      <td>0.745047</td>\n",
       "      <td>1.614810</td>\n",
       "      <td>3.568899</td>\n",
       "      <td>3.847355</td>\n",
       "      <td>0.015883</td>\n",
       "    </tr>\n",
       "    <tr>\n",
       "      <th>6781</th>\n",
       "      <td>71.866897</td>\n",
       "      <td>0.307965</td>\n",
       "      <td>14.841650</td>\n",
       "      <td>1.238391</td>\n",
       "      <td>1.892854</td>\n",
       "      <td>0.069794</td>\n",
       "      <td>0.742660</td>\n",
       "      <td>1.607396</td>\n",
       "      <td>3.568828</td>\n",
       "      <td>3.846713</td>\n",
       "      <td>0.016854</td>\n",
       "    </tr>\n",
       "    <tr>\n",
       "      <th>...</th>\n",
       "      <td>...</td>\n",
       "      <td>...</td>\n",
       "      <td>...</td>\n",
       "      <td>...</td>\n",
       "      <td>...</td>\n",
       "      <td>...</td>\n",
       "      <td>...</td>\n",
       "      <td>...</td>\n",
       "      <td>...</td>\n",
       "      <td>...</td>\n",
       "      <td>...</td>\n",
       "    </tr>\n",
       "    <tr>\n",
       "      <th>261339</th>\n",
       "      <td>70.353303</td>\n",
       "      <td>0.347533</td>\n",
       "      <td>15.522520</td>\n",
       "      <td>1.199979</td>\n",
       "      <td>2.037145</td>\n",
       "      <td>0.056036</td>\n",
       "      <td>1.240068</td>\n",
       "      <td>2.306832</td>\n",
       "      <td>3.444279</td>\n",
       "      <td>3.374440</td>\n",
       "      <td>0.117865</td>\n",
       "    </tr>\n",
       "    <tr>\n",
       "      <th>261340</th>\n",
       "      <td>70.334569</td>\n",
       "      <td>0.348506</td>\n",
       "      <td>15.526417</td>\n",
       "      <td>1.201994</td>\n",
       "      <td>2.041417</td>\n",
       "      <td>0.056166</td>\n",
       "      <td>1.243493</td>\n",
       "      <td>2.312600</td>\n",
       "      <td>3.444053</td>\n",
       "      <td>3.372648</td>\n",
       "      <td>0.118137</td>\n",
       "    </tr>\n",
       "    <tr>\n",
       "      <th>261341</th>\n",
       "      <td>70.319076</td>\n",
       "      <td>0.349337</td>\n",
       "      <td>15.529503</td>\n",
       "      <td>1.204102</td>\n",
       "      <td>2.044933</td>\n",
       "      <td>0.056286</td>\n",
       "      <td>1.246084</td>\n",
       "      <td>2.317029</td>\n",
       "      <td>3.443957</td>\n",
       "      <td>3.371333</td>\n",
       "      <td>0.118360</td>\n",
       "    </tr>\n",
       "    <tr>\n",
       "      <th>261344</th>\n",
       "      <td>70.290849</td>\n",
       "      <td>0.351013</td>\n",
       "      <td>15.534308</td>\n",
       "      <td>1.210649</td>\n",
       "      <td>2.051258</td>\n",
       "      <td>0.056578</td>\n",
       "      <td>1.249306</td>\n",
       "      <td>2.322991</td>\n",
       "      <td>3.444343</td>\n",
       "      <td>3.369970</td>\n",
       "      <td>0.118737</td>\n",
       "    </tr>\n",
       "    <tr>\n",
       "      <th>261345</th>\n",
       "      <td>70.287041</td>\n",
       "      <td>0.351315</td>\n",
       "      <td>15.534577</td>\n",
       "      <td>1.212799</td>\n",
       "      <td>2.052079</td>\n",
       "      <td>0.056652</td>\n",
       "      <td>1.249033</td>\n",
       "      <td>2.322805</td>\n",
       "      <td>3.444659</td>\n",
       "      <td>3.370272</td>\n",
       "      <td>0.118769</td>\n",
       "    </tr>\n",
       "  </tbody>\n",
       "</table>\n",
       "<p>92310 rows × 11 columns</p>\n",
       "</div>"
      ],
      "text/plain": [
       "             SiO2      TiO2      Al2O3     Fe2O3       FeO       MnO  \\\n",
       "6777    71.723328  0.315689  14.884276  1.233404  1.935668  0.070970   \n",
       "6778    71.837691  0.309795  14.848128  1.230966  1.905836  0.070226   \n",
       "6779    71.842825  0.309633  14.845298  1.232037  1.904930  0.070288   \n",
       "6780    71.849990  0.309356  14.841857  1.233096  1.903378  0.070328   \n",
       "6781    71.866897  0.307965  14.841650  1.238391  1.892854  0.069794   \n",
       "...           ...       ...        ...       ...       ...       ...   \n",
       "261339  70.353303  0.347533  15.522520  1.199979  2.037145  0.056036   \n",
       "261340  70.334569  0.348506  15.526417  1.201994  2.041417  0.056166   \n",
       "261341  70.319076  0.349337  15.529503  1.204102  2.044933  0.056286   \n",
       "261344  70.290849  0.351013  15.534308  1.210649  2.051258  0.056578   \n",
       "261345  70.287041  0.351315  15.534577  1.212799  2.052079  0.056652   \n",
       "\n",
       "             MgO       CaO      Na2O       K2O      P2O5  \n",
       "6777    0.771417  1.662899  3.564247  3.822293  0.015808  \n",
       "6778    0.749236  1.621748  3.567697  3.842724  0.015952  \n",
       "6779    0.747293  1.618594  3.568280  3.844905  0.015918  \n",
       "6780    0.745047  1.614810  3.568899  3.847355  0.015883  \n",
       "6781    0.742660  1.607396  3.568828  3.846713  0.016854  \n",
       "...          ...       ...       ...       ...       ...  \n",
       "261339  1.240068  2.306832  3.444279  3.374440  0.117865  \n",
       "261340  1.243493  2.312600  3.444053  3.372648  0.118137  \n",
       "261341  1.246084  2.317029  3.443957  3.371333  0.118360  \n",
       "261344  1.249306  2.322991  3.444343  3.369970  0.118737  \n",
       "261345  1.249033  2.322805  3.444659  3.370272  0.118769  \n",
       "\n",
       "[92310 rows x 11 columns]"
      ]
     },
     "execution_count": 155,
     "metadata": {},
     "output_type": "execute_result"
    }
   ],
   "source": [
    "mineralogy"
   ]
  },
  {
   "cell_type": "code",
   "execution_count": 156,
   "metadata": {},
   "outputs": [],
   "source": [
    "mineralogy1 = mineralogy.iloc[0:45000]\n",
    "mineralogy2 = mineralogy.iloc[45001:950000]"
   ]
  },
  {
   "cell_type": "raw",
   "metadata": {},
   "source": [
    "def convert_to_CIPWFULL_format(df, path, dataset_name=\"Dataset\", index_prefix=None, rock_type=\"P\", \n",
    "                               rock_suite_column=None, normalization=False):\n",
    "    \"\"\"Converts a pandas DataFrame to a txt file compatible \n",
    "    as an input file for the CIPWFULL program by AL-Mishwat (2015)\n",
    "    \n",
    "    Parameters:\n",
    "    -----------\n",
    "    df : pd.DataFrame\n",
    "        mineralogy data in the form of oxides\n",
    "    path : str\n",
    "        path to where to save resulting file\n",
    "    dataset_name : str (optional)\n",
    "        Name opf dataset to use in CIPWFULL\n",
    "        defaults to 'Dataset'\n",
    "    index_prefix : str (optional)\n",
    "        Prefix to use before index\n",
    "        defaults to None\n",
    "    rock_type : str (optional)\n",
    "        Rock type indicator:\n",
    "            'P' for plutonic\n",
    "            'V' for volcanic\n",
    "        defaults to 'P'\n",
    "    rock_suite_column : str (optional)\n",
    "        Which column name to use a 'rock suite' in CIPWFULL\n",
    "        The rock suite acts as a grouping variable\n",
    "        defaults to None\n",
    "    normalization : bool (optional)\n",
    "        Write flag to file whether to let CIPWFULL \n",
    "        normalize the data before norm calculation\n",
    "        defaults to False\n",
    "        \n",
    "    Returns:\n",
    "    --------\n",
    "    df_CIPW : pd.DataFrame\n",
    "        altered mineralogy data according to CIPWFULL input format\n",
    "    \n",
    "    (file is written to disk)\n",
    "    \n",
    "    \"\"\"\n",
    "    \n",
    "    # Get copy of original df so that it doesn't get altered\n",
    "    df_CIPW = df.copy()\n",
    "    \n",
    "    # Add prefix to index if required\n",
    "    if index_prefix:\n",
    "        df_CIPW.index = f\"{index_prefix}\" + df_CIPW.index.astype(str)\n",
    "        \n",
    "    # Add additional columns to be moved to index\n",
    "    df_CIPW[\"Type\"] = \"P\"\n",
    "    df_CIPW[\"Cancrinite\"] = 0\n",
    "    if rock_suite_column:\n",
    "        df_CIPW[\"Rock suite\"] = df_CIPW[rock_suite_column]\n",
    "        df_CIPW.drop(rock_suite_column, axis=1)\n",
    "    else:\n",
    "        df_CIPW[\"Rock suite\"] = 1 # This could be changed to a grouping variable such as geographic area, time\n",
    "        \n",
    "    # Move additional columns to index\n",
    "    df_CIPW = df_CIPW.set_index([\"Type\", \"Cancrinite\", \"Rock suite\"], append=True)\n",
    "    \n",
    "    # Start writing file (file saving/closing is handled automatically)\n",
    "    with open(path, 'w') as f:\n",
    "\n",
    "        # Write a '1' before the dataset name if you want CIPWFULL \n",
    "        # to normalize the data before the calculation; else write space\n",
    "        if normalization:\n",
    "            f.write(\"1\")\n",
    "        else:\n",
    "            f.write(\" \")\n",
    "\n",
    "        # Write dataset name\n",
    "        f.write(f\"{dataset_name}\\n\")\n",
    "\n",
    "        # Write column names and index+data\n",
    "        # The floating point number need to be formatted so as not \n",
    "        # to go over the 120 character line limit of CIPWFULL\n",
    "        df_CIPW.to_csv(f, mode='w', sep=\" \", line_terminator=\"\\n\", \n",
    "                       index_label=False, float_format=\"%2.5f\")\n",
    "\n",
    "        # Write '0' to indicate end of data entries\n",
    "        f.write(\"0\")\n",
    "\n",
    "        # Write rock suite names if needed\n",
    "        if rock_suite_column:\n",
    "            f.write(\"\\n\")\n",
    "            f.write(rock_suite_column.unique())\n",
    "            f.write(\"\\n\")"
   ]
  },
  {
   "cell_type": "code",
   "execution_count": 157,
   "metadata": {},
   "outputs": [],
   "source": [
    "cipw.convert_to_CIPWFULL_format(mineralogy1, \"../_CIPW/CIPW/AREA2/area2_1.txt\", dataset_name=\"Vistelius (1995)\")\n",
    "cipw.convert_to_CIPWFULL_format(mineralogy2, \"../_CIPW/CIPW/AREA2/area2_2.txt\", dataset_name=\"Vistelius (1995)\")"
   ]
  },
  {
   "cell_type": "markdown",
   "metadata": {},
   "source": [
    "_____"
   ]
  },
  {
   "cell_type": "markdown",
   "metadata": {},
   "source": [
    "## Extract results from CIPWFULL results file"
   ]
  },
  {
   "cell_type": "markdown",
   "metadata": {},
   "source": [
    "**I only selected quartz, plagioclase and alkali feldspar here as they are of interest to us for the QAPF classification**  \n",
    "**Feel free to extract addiotnal minerals if they would be of any interest to you**"
   ]
  },
  {
   "cell_type": "markdown",
   "metadata": {},
   "source": [
    "**Not sure what to do with albite in the final assignments as by the book it should be accounted for as an alkali feldspar and thus be included in the sum of plagioclase but then the resulting plagioclase contents seem quite low.   \n",
    "This is something you might look into although the method used here seems to be correct according to te resulting QAPF diagram.**\n",
    "\n",
    "--> indeed when reading the paper of Streckeisen (and other sources), albite should be accounted for as an alkali feldspar, also saw that the datapoints were generally located more to the right side (plagioclase), maybe an overestimation of plagioclase?\n",
    "\n",
    "--> I changed the settings below so that albite belongs to the alkali feldspars, Think this figure should be more correct according to the papers, but the cotent of plagioclase is indeed quite low. "
   ]
  },
  {
   "cell_type": "raw",
   "metadata": {},
   "source": [
    "def extract_CIPW_results(path, columns_of_interest=['  QZ', '  OR', '  AB', '  AN'], \n",
    "                         print_columns=False):\n",
    "    \"\"\"Extract the results from CIPWFULL run\n",
    "    \n",
    "    Parameters:\n",
    "    -----------\n",
    "    path : str\n",
    "        Path to results file\n",
    "    columns_of_interest : list (optional)\n",
    "        List of minerals to select in results file\n",
    "        defaults to Q, A, P minerals\n",
    "    print_columns : bool (optional)\n",
    "        Print original df's column names\n",
    "        defaults to False\n",
    "        \n",
    "    Returns:\n",
    "    --------\n",
    "    df_final : pd.DataFrame\n",
    "        Minerals of interest in tabular format\n",
    "    \"\"\"\n",
    "    \n",
    "    df = pd.read_csv(path, sep=\"\\t\", index_col=0)\n",
    "    \n",
    "    if print_columns:\n",
    "        print(df.colums)\n",
    "    \n",
    "    # Drop last row which states the column names again\n",
    "    df = df.iloc[:-1, :]\n",
    "    \n",
    "    # Quary columns in which we're interested\n",
    "    columns_of_interest = ['  QZ', '  OR', '  AB', '  AN']\n",
    "    df_query = df.loc[:, columns_of_interest]\n",
    "    \n",
    "    # Convert values to floats\n",
    "    df_query = df_query.astype(float)\n",
    "    \n",
    "    # Create new dataframe to hold final data\n",
    "    df_final = pd.DataFrame()\n",
    "\n",
    "    df_final[\"Q\"] = df_query[\"  QZ\"]\n",
    "    df_final[\"P\"] = df_query[\"  AB\"] + df_query[\"  AN\"]\n",
    "    df_final[\"K\"] = df_query[\"  OR\"]\n",
    "    \n",
    "    return df_final"
   ]
  },
  {
   "cell_type": "code",
   "execution_count": 158,
   "metadata": {},
   "outputs": [],
   "source": [
    "df_final1 = cipw.extract_CIPW_results(\"../_CIPW/CIPW/AREA2/area2_1_results_excel.txt\")\n",
    "df_final2 = cipw.extract_CIPW_results(\"../_CIPW/CIPW/AREA2/area2_2_results_excel.txt\")"
   ]
  },
  {
   "cell_type": "raw",
   "metadata": {},
   "source": [
    "df_final1 = pd.read_excel(\"../_CIPW/CIPW/AREA1/area1_1_by_hand.xlsx\", index_col=0)\n",
    "df_final2 = pd.read_excel(\"../_CIPW/CIPW/AREA1/area1_2_by_hand.xlsx\", index_col=0)"
   ]
  },
  {
   "cell_type": "code",
   "execution_count": 159,
   "metadata": {},
   "outputs": [],
   "source": [
    "df_final = pd.concat([df_final1, df_final2])"
   ]
  },
  {
   "cell_type": "code",
   "execution_count": 160,
   "metadata": {},
   "outputs": [
    {
     "data": {
      "text/html": [
       "<div>\n",
       "<style scoped>\n",
       "    .dataframe tbody tr th:only-of-type {\n",
       "        vertical-align: middle;\n",
       "    }\n",
       "\n",
       "    .dataframe tbody tr th {\n",
       "        vertical-align: top;\n",
       "    }\n",
       "\n",
       "    .dataframe thead th {\n",
       "        text-align: right;\n",
       "    }\n",
       "</style>\n",
       "<table border=\"1\" class=\"dataframe\">\n",
       "  <thead>\n",
       "    <tr style=\"text-align: right;\">\n",
       "      <th></th>\n",
       "      <th>Q</th>\n",
       "      <th>P</th>\n",
       "      <th>K</th>\n",
       "    </tr>\n",
       "    <tr>\n",
       "      <th>SAMPLE</th>\n",
       "      <th></th>\n",
       "      <th></th>\n",
       "      <th></th>\n",
       "    </tr>\n",
       "  </thead>\n",
       "  <tbody>\n",
       "    <tr>\n",
       "      <th>6777</th>\n",
       "      <td>30.714441</td>\n",
       "      <td>35.287762</td>\n",
       "      <td>25.602160</td>\n",
       "    </tr>\n",
       "    <tr>\n",
       "      <th>6778</th>\n",
       "      <td>30.872406</td>\n",
       "      <td>35.108984</td>\n",
       "      <td>25.725803</td>\n",
       "    </tr>\n",
       "    <tr>\n",
       "      <th>6779</th>\n",
       "      <td>30.876396</td>\n",
       "      <td>35.097920</td>\n",
       "      <td>25.739176</td>\n",
       "    </tr>\n",
       "    <tr>\n",
       "      <th>6780</th>\n",
       "      <td>30.883366</td>\n",
       "      <td>35.084152</td>\n",
       "      <td>25.754179</td>\n",
       "    </tr>\n",
       "    <tr>\n",
       "      <th>6781</th>\n",
       "      <td>30.935518</td>\n",
       "      <td>35.040522</td>\n",
       "      <td>25.750338</td>\n",
       "    </tr>\n",
       "    <tr>\n",
       "      <th>...</th>\n",
       "      <td>...</td>\n",
       "      <td>...</td>\n",
       "      <td>...</td>\n",
       "    </tr>\n",
       "    <tr>\n",
       "      <th>261339</th>\n",
       "      <td>29.905159</td>\n",
       "      <td>36.901846</td>\n",
       "      <td>22.854250</td>\n",
       "    </tr>\n",
       "    <tr>\n",
       "      <th>261340</th>\n",
       "      <td>29.875734</td>\n",
       "      <td>36.926955</td>\n",
       "      <td>22.843477</td>\n",
       "    </tr>\n",
       "    <tr>\n",
       "      <th>261341</th>\n",
       "      <td>29.851463</td>\n",
       "      <td>36.946808</td>\n",
       "      <td>22.835602</td>\n",
       "    </tr>\n",
       "    <tr>\n",
       "      <th>261344</th>\n",
       "      <td>29.807898</td>\n",
       "      <td>36.976787</td>\n",
       "      <td>22.827886</td>\n",
       "    </tr>\n",
       "    <tr>\n",
       "      <th>261345</th>\n",
       "      <td>29.802278</td>\n",
       "      <td>36.978085</td>\n",
       "      <td>22.829930</td>\n",
       "    </tr>\n",
       "  </tbody>\n",
       "</table>\n",
       "<p>92309 rows × 3 columns</p>\n",
       "</div>"
      ],
      "text/plain": [
       "                   Q          P          K\n",
       " SAMPLE                                   \n",
       "6777       30.714441  35.287762  25.602160\n",
       "6778       30.872406  35.108984  25.725803\n",
       "6779       30.876396  35.097920  25.739176\n",
       "6780       30.883366  35.084152  25.754179\n",
       "6781       30.935518  35.040522  25.750338\n",
       "...              ...        ...        ...\n",
       " 261339    29.905159  36.901846  22.854250\n",
       " 261340    29.875734  36.926955  22.843477\n",
       " 261341    29.851463  36.946808  22.835602\n",
       " 261344    29.807898  36.976787  22.827886\n",
       " 261345    29.802278  36.978085  22.829930\n",
       "\n",
       "[92309 rows x 3 columns]"
      ]
     },
     "execution_count": 160,
     "metadata": {},
     "output_type": "execute_result"
    }
   ],
   "source": [
    "df_final"
   ]
  },
  {
   "cell_type": "markdown",
   "metadata": {},
   "source": [
    "## QAPF classification"
   ]
  },
  {
   "cell_type": "code",
   "execution_count": 161,
   "metadata": {},
   "outputs": [],
   "source": [
    "df_final[\"QAPF\"] = qapf.check_QAPF_region(df_final)"
   ]
  },
  {
   "cell_type": "code",
   "execution_count": 162,
   "metadata": {},
   "outputs": [
    {
     "data": {
      "text/plain": [
       "array(['monzo granite', 'granodiorite',\n",
       "       'quartz monzodiorite\\nquartz monzogabbro'], dtype=object)"
      ]
     },
     "execution_count": 162,
     "metadata": {},
     "output_type": "execute_result"
    }
   ],
   "source": [
    "df_final[\"QAPF\"].unique()"
   ]
  },
  {
   "cell_type": "code",
   "execution_count": null,
   "metadata": {},
   "outputs": [],
   "source": [
    "import plotly.express as px\n",
    "import plotly.graph_objects as go\n",
    "\n",
    "fig = px.scatter_ternary(df_final, a=\"Q\", b=\"K\", c=\"P\", color=\"QAPF\")\n",
    "\n",
    "fig.write_image(f\"../_FIGURES/geomap/qapf_ternary/area1_QAPF.pdf\")\n",
    "fig.show()"
   ]
  },
  {
   "cell_type": "code",
   "execution_count": 164,
   "metadata": {},
   "outputs": [],
   "source": [
    "df_final.to_excel(\"../_CIPW/CIPW/AREA2/qapf.xlsx\", index=True)"
   ]
  },
  {
   "cell_type": "markdown",
   "metadata": {},
   "source": [
    "-------"
   ]
  },
  {
   "cell_type": "code",
   "execution_count": 165,
   "metadata": {},
   "outputs": [],
   "source": [
    "df_final.iloc[:, 3].value_counts().to_excel(\"../_CIPW/CIPW/AREA2/QAPF_counts.xlsx\")"
   ]
  },
  {
   "cell_type": "markdown",
   "metadata": {},
   "source": [
    "-----"
   ]
  }
 ],
 "metadata": {
  "kernelspec": {
   "display_name": "Python 3",
   "language": "python",
   "name": "python3"
  },
  "language_info": {
   "codemirror_mode": {
    "name": "ipython",
    "version": 3
   },
   "file_extension": ".py",
   "mimetype": "text/x-python",
   "name": "python",
   "nbconvert_exporter": "python",
   "pygments_lexer": "ipython3",
   "version": "3.7.3"
  }
 },
 "nbformat": 4,
 "nbformat_minor": 4
}
