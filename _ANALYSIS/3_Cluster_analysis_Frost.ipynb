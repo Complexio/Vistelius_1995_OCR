{
 "cells": [
  {
   "cell_type": "markdown",
   "metadata": {},
   "source": [
    "# 3. Cluster analysis"
   ]
  },
  {
   "cell_type": "markdown",
   "metadata": {},
   "source": [
    "General info may be found in the following blogposts:  \n",
    "https://stackabuse.com/hierarchical-clustering-with-python-and-scikit-learn/  \n",
    "https://joernhees.de/blog/2015/08/26/scipy-hierarchical-clustering-and-dendrogram-tutorial/  \n",
    "https://towardsdatascience.com/machine-learning-algorithms-part-12-hierarchical-agglomerative-clustering-example-in-python-1e18e0075019  \n",
    "https://medium.com/@sametgirgin/hierarchical-clustering-model-in-5-steps-with-python-6c45087d4318  "
   ]
  },
  {
   "cell_type": "markdown",
   "metadata": {},
   "source": [
    "## Code"
   ]
  },
  {
   "cell_type": "code",
   "execution_count": 2,
   "metadata": {
    "execution": {
     "iopub.execute_input": "2020-06-04T08:22:37.458228Z",
     "iopub.status.busy": "2020-06-04T08:22:37.458228Z",
     "iopub.status.idle": "2020-06-04T08:22:45.547989Z",
     "shell.execute_reply": "2020-06-04T08:22:45.546990Z",
     "shell.execute_reply.started": "2020-06-04T08:22:37.458228Z"
    }
   },
   "outputs": [],
   "source": [
    "import numpy as np\n",
    "import pandas as pd\n",
    "\n",
    "import matplotlib.pyplot as plt\n",
    "import seaborn as sns\n",
    "\n",
    "from scipy.cluster.hierarchy import dendrogram, linkage\n",
    "from scipy.cluster.hierarchy import cophenet\n",
    "from scipy.spatial.distance import pdist\n",
    "\n",
    "from sklearn.cluster import AgglomerativeClustering"
   ]
  },
  {
   "cell_type": "code",
   "execution_count": 3,
   "metadata": {
    "execution": {
     "iopub.execute_input": "2020-06-04T08:22:45.548975Z",
     "iopub.status.busy": "2020-06-04T08:22:45.548975Z",
     "iopub.status.idle": "2020-06-04T08:22:45.614991Z",
     "shell.execute_reply": "2020-06-04T08:22:45.613977Z",
     "shell.execute_reply.started": "2020-06-04T08:22:45.548975Z"
    }
   },
   "outputs": [],
   "source": [
    "import prepostprocessing.pre_processing as preproc"
   ]
  },
  {
   "cell_type": "code",
   "execution_count": 180,
   "metadata": {
    "execution": {
     "iopub.execute_input": "2020-06-04T08:22:45.615985Z",
     "iopub.status.busy": "2020-06-04T08:22:45.615985Z",
     "iopub.status.idle": "2020-06-04T08:22:45.910752Z",
     "shell.execute_reply": "2020-06-04T08:22:45.909744Z",
     "shell.execute_reply.started": "2020-06-04T08:22:45.615985Z"
    }
   },
   "outputs": [],
   "source": [
    "pca_df_area1 = preproc.load_obj(\"mineralogy_pca_area1_df\")\n",
    "metadata_area1 = preproc.load_obj(\"metadata_area1\")\n",
    "\n",
    "pca_df_area2 = preproc.load_obj(\"mineralogy_pca_area2_df\")\n",
    "metadata_area2 = preproc.load_obj(\"metadata_area2\")\n",
    "\n",
    "pca_df_area3 = preproc.load_obj(\"mineralogy_pca_area3_df\")\n",
    "metadata_area3 = preproc.load_obj(\"metadata_area3\")\n",
    "\n",
    "pca_df_area4 = preproc.load_obj(\"mineralogy_pca_area4_df\")\n",
    "metadata_area4 = preproc.load_obj(\"metadata_area4\")\n",
    "\n",
    "pca_df_area5 = preproc.load_obj(\"mineralogy_pca_area5_df\")\n",
    "metadata_area5 = preproc.load_obj(\"metadata_area5\")\n",
    "\n",
    "pca_df = preproc.load_obj(\"mineralogy_pca_df1\")\n",
    "metadata = preproc.load_obj(\"metadata\")\n",
    "\n",
    "Fe_num = preproc.load_obj(\"Fe_num\")\n",
    "Fe_num_pca_df = preproc.load_obj(\"Fe_num_pca_df\")\n",
    "\n",
    "MALI = preproc.load_obj(\"MALI\")\n",
    "MALI_pca_df = preproc.load_obj(\"MALI_pca_df\")\n",
    "\n",
    "ASI = preproc.load_obj(\"ASI\")\n",
    "ASI_pca_df = preproc.load_obj(\"ASI_pca_df\")\n",
    "\n",
    "mineralogy_clr = preproc.load_obj(\"mineralogy_clr1\")"
   ]
  },
  {
   "cell_type": "code",
   "execution_count": 151,
   "metadata": {
    "execution": {
     "iopub.execute_input": "2020-06-04T08:35:19.969217Z",
     "iopub.status.busy": "2020-06-04T08:35:19.969217Z",
     "iopub.status.idle": "2020-06-04T08:35:21.289219Z",
     "shell.execute_reply": "2020-06-04T08:35:21.289219Z",
     "shell.execute_reply.started": "2020-06-04T08:35:19.969217Z"
    }
   },
   "outputs": [],
   "source": [
    "area_numbers = pd.read_excel(\"../_INTERPOLATION/area_subdivided.xlsx\", index_col=0, usecols=[0, 24, 29])\n",
    "#area_numbers = pd.read_excel(\"../_INTERPOLATION/area1.xlsx\", index_col=None, usecols=[0, 24, 29])"
   ]
  },
  {
   "cell_type": "markdown",
   "metadata": {},
   "source": [
    "### Fe-number"
   ]
  },
  {
   "cell_type": "code",
   "execution_count": 73,
   "metadata": {
    "execution": {
     "iopub.execute_input": "2020-06-04T08:22:52.528091Z",
     "iopub.status.busy": "2020-06-04T08:22:52.527085Z",
     "iopub.status.idle": "2020-06-04T08:22:52.554088Z",
     "shell.execute_reply": "2020-06-04T08:22:52.553125Z",
     "shell.execute_reply.started": "2020-06-04T08:22:52.528091Z"
    }
   },
   "outputs": [
    {
     "data": {
      "text/html": [
       "<div>\n",
       "<style scoped>\n",
       "    .dataframe tbody tr th:only-of-type {\n",
       "        vertical-align: middle;\n",
       "    }\n",
       "\n",
       "    .dataframe tbody tr th {\n",
       "        vertical-align: top;\n",
       "    }\n",
       "\n",
       "    .dataframe thead th {\n",
       "        text-align: right;\n",
       "    }\n",
       "</style>\n",
       "<table border=\"1\" class=\"dataframe\">\n",
       "  <thead>\n",
       "    <tr style=\"text-align: right;\">\n",
       "      <th></th>\n",
       "      <th>PC01</th>\n",
       "      <th>PC02</th>\n",
       "    </tr>\n",
       "  </thead>\n",
       "  <tbody>\n",
       "    <tr>\n",
       "      <th>1</th>\n",
       "      <td>-1.357340</td>\n",
       "      <td>0.292358</td>\n",
       "    </tr>\n",
       "    <tr>\n",
       "      <th>2</th>\n",
       "      <td>1.640868</td>\n",
       "      <td>-0.581636</td>\n",
       "    </tr>\n",
       "    <tr>\n",
       "      <th>3</th>\n",
       "      <td>0.258275</td>\n",
       "      <td>0.479894</td>\n",
       "    </tr>\n",
       "    <tr>\n",
       "      <th>4</th>\n",
       "      <td>-0.062239</td>\n",
       "      <td>0.083053</td>\n",
       "    </tr>\n",
       "    <tr>\n",
       "      <th>5</th>\n",
       "      <td>0.121800</td>\n",
       "      <td>1.474747</td>\n",
       "    </tr>\n",
       "    <tr>\n",
       "      <th>...</th>\n",
       "      <td>...</td>\n",
       "      <td>...</td>\n",
       "    </tr>\n",
       "    <tr>\n",
       "      <th>4655</th>\n",
       "      <td>-2.463951</td>\n",
       "      <td>-0.057598</td>\n",
       "    </tr>\n",
       "    <tr>\n",
       "      <th>4656</th>\n",
       "      <td>-2.946202</td>\n",
       "      <td>-0.146224</td>\n",
       "    </tr>\n",
       "    <tr>\n",
       "      <th>4657</th>\n",
       "      <td>-2.616671</td>\n",
       "      <td>-0.265782</td>\n",
       "    </tr>\n",
       "    <tr>\n",
       "      <th>4658</th>\n",
       "      <td>-1.565606</td>\n",
       "      <td>-0.147744</td>\n",
       "    </tr>\n",
       "    <tr>\n",
       "      <th>4659</th>\n",
       "      <td>-3.895196</td>\n",
       "      <td>-0.086090</td>\n",
       "    </tr>\n",
       "  </tbody>\n",
       "</table>\n",
       "<p>4659 rows × 2 columns</p>\n",
       "</div>"
      ],
      "text/plain": [
       "          PC01      PC02\n",
       "1    -1.357340  0.292358\n",
       "2     1.640868 -0.581636\n",
       "3     0.258275  0.479894\n",
       "4    -0.062239  0.083053\n",
       "5     0.121800  1.474747\n",
       "...        ...       ...\n",
       "4655 -2.463951 -0.057598\n",
       "4656 -2.946202 -0.146224\n",
       "4657 -2.616671 -0.265782\n",
       "4658 -1.565606 -0.147744\n",
       "4659 -3.895196 -0.086090\n",
       "\n",
       "[4659 rows x 2 columns]"
      ]
     },
     "execution_count": 73,
     "metadata": {},
     "output_type": "execute_result"
    }
   ],
   "source": [
    "Fe_num_pca_df1 = Fe_num_pca_df.iloc[:, 0: 2]\n",
    "Fe_num_pca_df1"
   ]
  },
  {
   "cell_type": "code",
   "execution_count": 74,
   "metadata": {
    "execution": {
     "iopub.execute_input": "2020-06-04T08:23:31.779286Z",
     "iopub.status.busy": "2020-06-04T08:23:31.779286Z",
     "iopub.status.idle": "2020-06-04T08:23:31.794304Z",
     "shell.execute_reply": "2020-06-04T08:23:31.793281Z",
     "shell.execute_reply.started": "2020-06-04T08:23:31.779286Z"
    }
   },
   "outputs": [
    {
     "data": {
      "text/html": [
       "<div>\n",
       "<style scoped>\n",
       "    .dataframe tbody tr th:only-of-type {\n",
       "        vertical-align: middle;\n",
       "    }\n",
       "\n",
       "    .dataframe tbody tr th {\n",
       "        vertical-align: top;\n",
       "    }\n",
       "\n",
       "    .dataframe thead th {\n",
       "        text-align: right;\n",
       "    }\n",
       "</style>\n",
       "<table border=\"1\" class=\"dataframe\">\n",
       "  <thead>\n",
       "    <tr style=\"text-align: right;\">\n",
       "      <th></th>\n",
       "      <th>type_granite</th>\n",
       "      <th>time</th>\n",
       "      <th>massif</th>\n",
       "      <th>sampler</th>\n",
       "      <th>others</th>\n",
       "      <th>sampler+year</th>\n",
       "    </tr>\n",
       "  </thead>\n",
       "  <tbody>\n",
       "    <tr>\n",
       "      <th>1</th>\n",
       "      <td>Granite leucogranitic</td>\n",
       "      <td>K</td>\n",
       "      <td>NaN</td>\n",
       "      <td>NaN</td>\n",
       "      <td>NaN</td>\n",
       "      <td>V.N.Musin,1970</td>\n",
       "    </tr>\n",
       "    <tr>\n",
       "      <th>2</th>\n",
       "      <td>Granite leucocratic</td>\n",
       "      <td>Tr</td>\n",
       "      <td>NaN</td>\n",
       "      <td>V.I.Zhigalova</td>\n",
       "      <td>NaN</td>\n",
       "      <td>E.A.Ivanov,1969</td>\n",
       "    </tr>\n",
       "    <tr>\n",
       "      <th>3</th>\n",
       "      <td>Granite leucocratic coarse-grained</td>\n",
       "      <td>K</td>\n",
       "      <td>Omsukchan massif</td>\n",
       "      <td>P.M.Bosek</td>\n",
       "      <td>NaN</td>\n",
       "      <td>O.S.Gracheva,1948</td>\n",
       "    </tr>\n",
       "    <tr>\n",
       "      <th>4</th>\n",
       "      <td>Granite leucocratic</td>\n",
       "      <td>K</td>\n",
       "      <td>Buksandzhin massif</td>\n",
       "      <td>A.Kh.Brovtman</td>\n",
       "      <td>NaN</td>\n",
       "      <td>A.F.Mikhaylov,1948</td>\n",
       "    </tr>\n",
       "    <tr>\n",
       "      <th>5</th>\n",
       "      <td>Granite-porphyry micropegmatitic</td>\n",
       "      <td>K</td>\n",
       "      <td>Attykveem massif</td>\n",
       "      <td>L.G.Semenova</td>\n",
       "      <td>0th.:S-0.16</td>\n",
       "      <td>A.I.Sadovsky,1963</td>\n",
       "    </tr>\n",
       "    <tr>\n",
       "      <th>...</th>\n",
       "      <td>...</td>\n",
       "      <td>...</td>\n",
       "      <td>...</td>\n",
       "      <td>...</td>\n",
       "      <td>...</td>\n",
       "      <td>...</td>\n",
       "    </tr>\n",
       "    <tr>\n",
       "      <th>4655</th>\n",
       "      <td>Diorite</td>\n",
       "      <td>K</td>\n",
       "      <td>Egdegkych massif</td>\n",
       "      <td>NaN</td>\n",
       "      <td>Oth.:co2-0.12</td>\n",
       "      <td>V.A.lgnat'ev,1964</td>\n",
       "    </tr>\n",
       "    <tr>\n",
       "      <th>4656</th>\n",
       "      <td>Quartz diorite</td>\n",
       "      <td>K</td>\n",
       "      <td>Verkhneplotnikovsky massif</td>\n",
       "      <td>NaN</td>\n",
       "      <td>NaN</td>\n",
       "      <td>A.A.Syas'ko,1969</td>\n",
       "    </tr>\n",
       "    <tr>\n",
       "      <th>4657</th>\n",
       "      <td>Diorite</td>\n",
       "      <td>J</td>\n",
       "      <td>NaN</td>\n",
       "      <td>NaN</td>\n",
       "      <td>Oth.:co2-0.02,so3-0.0l</td>\n",
       "      <td>N.N.Remizov,1967</td>\n",
       "    </tr>\n",
       "    <tr>\n",
       "      <th>4658</th>\n",
       "      <td>Diorite</td>\n",
       "      <td>K</td>\n",
       "      <td>NaN</td>\n",
       "      <td>NaN</td>\n",
       "      <td>NaN</td>\n",
       "      <td>A.P.Osipov,1966</td>\n",
       "    </tr>\n",
       "    <tr>\n",
       "      <th>4659</th>\n",
       "      <td>Diorite</td>\n",
       "      <td>K</td>\n",
       "      <td>Vukney massif</td>\n",
       "      <td>V.V.Langvagen</td>\n",
       "      <td>Oth:Ba0-0.03</td>\n",
       "      <td>M.G.Ravich,1938</td>\n",
       "    </tr>\n",
       "  </tbody>\n",
       "</table>\n",
       "<p>4659 rows × 6 columns</p>\n",
       "</div>"
      ],
      "text/plain": [
       "                            type_granite time                      massif  \\\n",
       "1                  Granite leucogranitic    K                         NaN   \n",
       "2                    Granite leucocratic   Tr                         NaN   \n",
       "3     Granite leucocratic coarse-grained    K            Omsukchan massif   \n",
       "4                    Granite leucocratic    K          Buksandzhin massif   \n",
       "5       Granite-porphyry micropegmatitic    K            Attykveem massif   \n",
       "...                                  ...  ...                         ...   \n",
       "4655                             Diorite    K            Egdegkych massif   \n",
       "4656                      Quartz diorite    K  Verkhneplotnikovsky massif   \n",
       "4657                             Diorite    J                         NaN   \n",
       "4658                             Diorite    K                         NaN   \n",
       "4659                             Diorite    K               Vukney massif   \n",
       "\n",
       "            sampler                  others        sampler+year  \n",
       "1               NaN                     NaN      V.N.Musin,1970  \n",
       "2     V.I.Zhigalova                     NaN     E.A.Ivanov,1969  \n",
       "3         P.M.Bosek                     NaN   O.S.Gracheva,1948  \n",
       "4     A.Kh.Brovtman                     NaN  A.F.Mikhaylov,1948  \n",
       "5      L.G.Semenova             0th.:S-0.16   A.I.Sadovsky,1963  \n",
       "...             ...                     ...                 ...  \n",
       "4655            NaN           Oth.:co2-0.12   V.A.lgnat'ev,1964  \n",
       "4656            NaN                     NaN    A.A.Syas'ko,1969  \n",
       "4657            NaN  Oth.:co2-0.02,so3-0.0l    N.N.Remizov,1967  \n",
       "4658            NaN                     NaN     A.P.Osipov,1966  \n",
       "4659  V.V.Langvagen            Oth:Ba0-0.03     M.G.Ravich,1938  \n",
       "\n",
       "[4659 rows x 6 columns]"
      ]
     },
     "execution_count": 74,
     "metadata": {},
     "output_type": "execute_result"
    }
   ],
   "source": [
    "metadata"
   ]
  },
  {
   "cell_type": "code",
   "execution_count": 75,
   "metadata": {},
   "outputs": [
    {
     "data": {
      "image/png": "[encoded data removed]",
      "text/plain": [
       "<Figure size 432x288 with 1 Axes>"
      ]
     },
     "metadata": {
      "needs_background": "light"
     },
     "output_type": "display_data"
    }
   ],
   "source": [
    "sns.scatterplot(x=\"PC01\", y=\"PC02\", data=Fe_num_pca_df1, hue=metadata[\"time\"])\n",
    "plt.show();"
   ]
  },
  {
   "cell_type": "code",
   "execution_count": 76,
   "metadata": {
    "execution": {
     "iopub.execute_input": "2020-06-04T08:38:47.202049Z",
     "iopub.status.busy": "2020-06-04T08:38:47.201037Z",
     "iopub.status.idle": "2020-06-04T08:38:47.210036Z",
     "shell.execute_reply": "2020-06-04T08:38:47.210036Z",
     "shell.execute_reply.started": "2020-06-04T08:38:47.202049Z"
    }
   },
   "outputs": [
    {
     "data": {
      "text/plain": [
       "Int64Index([ 370,  477, 1573,    1,    7,    8,   13,   16,   20,   28,\n",
       "            ...\n",
       "            4310, 4317, 4385, 4429, 4516, 4522, 4562, 4594, 4628, 4643],\n",
       "           dtype='int64', length=2341)"
      ]
     },
     "execution_count": 76,
     "metadata": {},
     "output_type": "execute_result"
    }
   ],
   "source": [
    "area_numbers[area_numbers[\"time\"] == \"K\"].index"
   ]
  },
  {
   "cell_type": "code",
   "execution_count": 77,
   "metadata": {},
   "outputs": [
    {
     "data": {
      "image/png": "[encoded data removed]",
      "text/plain": [
       "<Figure size 432x288 with 1 Axes>"
      ]
     },
     "metadata": {
      "needs_background": "light"
     },
     "output_type": "display_data"
    }
   ],
   "source": [
    "sns.scatterplot(x=\"PC01\", y=\"PC02\", data=Fe_num_pca_df1.loc[area_numbers[area_numbers[\"time\"] == \"Tr\"].index, :])\n",
    "plt.show();"
   ]
  },
  {
   "cell_type": "code",
   "execution_count": 78,
   "metadata": {
    "execution": {
     "iopub.execute_input": "2020-06-04T08:27:45.490249Z",
     "iopub.status.busy": "2020-06-04T08:27:45.490249Z",
     "iopub.status.idle": "2020-06-04T08:27:45.497252Z",
     "shell.execute_reply": "2020-06-04T08:27:45.496254Z",
     "shell.execute_reply.started": "2020-06-04T08:27:45.490249Z"
    }
   },
   "outputs": [],
   "source": [
    "def create_dendrogram(data, linkage_method='ward', save=\"\"):\n",
    "    \"\"\"Plot dendrogram\n",
    "    \n",
    "    Parameters:\n",
    "    -----------\n",
    "    data : array or DataFrame\n",
    "        Data to be clustered\n",
    "    linkage_method : str (optional)\n",
    "        Method to use to construct the linkage matrix\n",
    "        Choose between ['single', 'complete', 'average',\n",
    "        'weighted', 'centroid', 'median', 'ward']\n",
    "        For detailed information see \n",
    "        https://docs.scipy.org/doc/scipy-0.14.0/reference/ \\\n",
    "        generated/scipy.cluster.hierarchy.linkage.html\n",
    "    save : str (optional)\n",
    "        Name to use for figure file when saving\n",
    "    \"\"\"\n",
    "    \n",
    "    linkage_matrix = linkage(data, linkage_method)\n",
    "    c, coph_dists = cophenet(linkage_matrix, pdist(data))\n",
    "    print(\"Cophenetic correlation coefficient:\", c)\n",
    "    \n",
    "    plt.figure(figsize=(25, 10))\n",
    "    dendrogram(linkage_matrix, labels=data.index)\n",
    "    if save != \"\":\n",
    "        plt.savefig(f\"../_FIGURES/{save}.pdf\")\n",
    "    plt.show()"
   ]
  },
  {
   "cell_type": "code",
   "execution_count": 79,
   "metadata": {
    "execution": {
     "iopub.execute_input": "2020-06-04T08:27:47.270390Z",
     "iopub.status.busy": "2020-06-04T08:27:47.269389Z",
     "iopub.status.idle": "2020-06-04T08:29:21.880692Z",
     "shell.execute_reply": "2020-06-04T08:29:21.879676Z",
     "shell.execute_reply.started": "2020-06-04T08:27:47.270390Z"
    }
   },
   "outputs": [
    {
     "name": "stdout",
     "output_type": "stream",
     "text": [
      "Cophenetic correlation coefficient: 0.5004718381130115\n"
     ]
    },
    {
     "data": {
      "image/png": "[encoded data removed]",
      "text/plain": [
       "<Figure size 1800x720 with 1 Axes>"
      ]
     },
     "metadata": {
      "needs_background": "light"
     },
     "output_type": "display_data"
    },
    {
     "name": "stdout",
     "output_type": "stream",
     "text": [
      "Wall time: 1min 40s\n"
     ]
    }
   ],
   "source": [
    "%%time\n",
    "create_dendrogram(Fe_num_pca_df1, linkage_method='ward')"
   ]
  },
  {
   "cell_type": "code",
   "execution_count": 102,
   "metadata": {
    "execution": {
     "iopub.execute_input": "2020-06-04T08:30:48.688826Z",
     "iopub.status.busy": "2020-06-04T08:30:48.688826Z",
     "iopub.status.idle": "2020-06-04T08:30:49.582855Z",
     "shell.execute_reply": "2020-06-04T08:30:49.582855Z",
     "shell.execute_reply.started": "2020-06-04T08:30:48.688826Z"
    }
   },
   "outputs": [
    {
     "data": {
      "text/plain": [
       "array([1, 0, 0, ..., 1, 1, 1], dtype=int64)"
      ]
     },
     "execution_count": 102,
     "metadata": {},
     "output_type": "execute_result"
    }
   ],
   "source": [
    "X = Fe_num_pca_df1.values\n",
    "\n",
    "cluster = AgglomerativeClustering(n_clusters=2, affinity='euclidean', linkage='ward')\n",
    "cluster.fit_predict(X)"
   ]
  },
  {
   "cell_type": "code",
   "execution_count": 103,
   "metadata": {
    "execution": {
     "iopub.execute_input": "2020-06-04T08:30:52.485254Z",
     "iopub.status.busy": "2020-06-04T08:30:52.485254Z",
     "iopub.status.idle": "2020-06-04T08:30:52.733252Z",
     "shell.execute_reply": "2020-06-04T08:30:52.732256Z",
     "shell.execute_reply.started": "2020-06-04T08:30:52.485254Z"
    }
   },
   "outputs": [
    {
     "data": {
      "image/png": "[encoded data removed]",
      "text/plain": [
       "<Figure size 432x288 with 1 Axes>"
      ]
     },
     "metadata": {
      "needs_background": "light"
     },
     "output_type": "display_data"
    }
   ],
   "source": [
    "plt.scatter(X[:,0], X[:,1], c=cluster.labels_, cmap='rainbow', s=10)\n",
    "plt.show();"
   ]
  },
  {
   "cell_type": "code",
   "execution_count": 104,
   "metadata": {
    "execution": {
     "iopub.execute_input": "2020-06-04T08:31:55.307396Z",
     "iopub.status.busy": "2020-06-04T08:31:55.306396Z",
     "iopub.status.idle": "2020-06-04T08:31:55.312398Z",
     "shell.execute_reply": "2020-06-04T08:31:55.311401Z",
     "shell.execute_reply.started": "2020-06-04T08:31:55.307396Z"
    }
   },
   "outputs": [],
   "source": [
    "# You can call the 'labels_' attribute of 'cluster' here instead of \n",
    "# performing the 'fit_transform' operation again.\n",
    "cluster_groups= pd.DataFrame(data=cluster.labels_)"
   ]
  },
  {
   "cell_type": "code",
   "execution_count": 105,
   "metadata": {
    "execution": {
     "iopub.execute_input": "2020-06-04T08:31:56.306302Z",
     "iopub.status.busy": "2020-06-04T08:31:56.305302Z",
     "iopub.status.idle": "2020-06-04T08:31:56.315319Z",
     "shell.execute_reply": "2020-06-04T08:31:56.314307Z",
     "shell.execute_reply.started": "2020-06-04T08:31:56.306302Z"
    }
   },
   "outputs": [
    {
     "data": {
      "text/html": [
       "<div>\n",
       "<style scoped>\n",
       "    .dataframe tbody tr th:only-of-type {\n",
       "        vertical-align: middle;\n",
       "    }\n",
       "\n",
       "    .dataframe tbody tr th {\n",
       "        vertical-align: top;\n",
       "    }\n",
       "\n",
       "    .dataframe thead th {\n",
       "        text-align: right;\n",
       "    }\n",
       "</style>\n",
       "<table border=\"1\" class=\"dataframe\">\n",
       "  <thead>\n",
       "    <tr style=\"text-align: right;\">\n",
       "      <th></th>\n",
       "      <th>0</th>\n",
       "    </tr>\n",
       "  </thead>\n",
       "  <tbody>\n",
       "    <tr>\n",
       "      <th>0</th>\n",
       "      <td>1</td>\n",
       "    </tr>\n",
       "    <tr>\n",
       "      <th>1</th>\n",
       "      <td>0</td>\n",
       "    </tr>\n",
       "    <tr>\n",
       "      <th>2</th>\n",
       "      <td>0</td>\n",
       "    </tr>\n",
       "    <tr>\n",
       "      <th>3</th>\n",
       "      <td>0</td>\n",
       "    </tr>\n",
       "    <tr>\n",
       "      <th>4</th>\n",
       "      <td>0</td>\n",
       "    </tr>\n",
       "    <tr>\n",
       "      <th>...</th>\n",
       "      <td>...</td>\n",
       "    </tr>\n",
       "    <tr>\n",
       "      <th>4654</th>\n",
       "      <td>1</td>\n",
       "    </tr>\n",
       "    <tr>\n",
       "      <th>4655</th>\n",
       "      <td>1</td>\n",
       "    </tr>\n",
       "    <tr>\n",
       "      <th>4656</th>\n",
       "      <td>1</td>\n",
       "    </tr>\n",
       "    <tr>\n",
       "      <th>4657</th>\n",
       "      <td>1</td>\n",
       "    </tr>\n",
       "    <tr>\n",
       "      <th>4658</th>\n",
       "      <td>1</td>\n",
       "    </tr>\n",
       "  </tbody>\n",
       "</table>\n",
       "<p>4659 rows × 1 columns</p>\n",
       "</div>"
      ],
      "text/plain": [
       "      0\n",
       "0     1\n",
       "1     0\n",
       "2     0\n",
       "3     0\n",
       "4     0\n",
       "...  ..\n",
       "4654  1\n",
       "4655  1\n",
       "4656  1\n",
       "4657  1\n",
       "4658  1\n",
       "\n",
       "[4659 rows x 1 columns]"
      ]
     },
     "execution_count": 105,
     "metadata": {},
     "output_type": "execute_result"
    }
   ],
   "source": [
    "cluster_groups"
   ]
  },
  {
   "cell_type": "code",
   "execution_count": 106,
   "metadata": {},
   "outputs": [],
   "source": [
    "area_numbers = pd.read_excel(\"../_INTERPOLATION/area_subdivided.xlsx\", index_col=0, usecols=[0, 24, 29])\n",
    "#area_numbers = pd.read_excel(\"../_INTERPOLATION/area1.xlsx\", index_col=None, usecols=[0, 24, 29])"
   ]
  },
  {
   "cell_type": "code",
   "execution_count": 107,
   "metadata": {},
   "outputs": [],
   "source": [
    "clustering = pd.concat([area_numbers, cluster_groups], axis = 1)\n",
    "clustering = clustering.dropna()"
   ]
  },
  {
   "cell_type": "raw",
   "metadata": {},
   "source": [
    "clustering = clustering.rename(columns={ clustering.columns[0]: \"index\" })\n",
    "clustering = clustering.set_index('index')"
   ]
  },
  {
   "cell_type": "code",
   "execution_count": 108,
   "metadata": {},
   "outputs": [
    {
     "data": {
      "text/html": [
       "<div>\n",
       "<style scoped>\n",
       "    .dataframe tbody tr th:only-of-type {\n",
       "        vertical-align: middle;\n",
       "    }\n",
       "\n",
       "    .dataframe tbody tr th {\n",
       "        vertical-align: top;\n",
       "    }\n",
       "\n",
       "    .dataframe thead th {\n",
       "        text-align: right;\n",
       "    }\n",
       "</style>\n",
       "<table border=\"1\" class=\"dataframe\">\n",
       "  <thead>\n",
       "    <tr style=\"text-align: right;\">\n",
       "      <th></th>\n",
       "      <th>time</th>\n",
       "      <th>area</th>\n",
       "      <th>0</th>\n",
       "    </tr>\n",
       "  </thead>\n",
       "  <tbody>\n",
       "    <tr>\n",
       "      <th>1</th>\n",
       "      <td>K</td>\n",
       "      <td>2.0</td>\n",
       "      <td>0.0</td>\n",
       "    </tr>\n",
       "    <tr>\n",
       "      <th>2</th>\n",
       "      <td>Tr</td>\n",
       "      <td>1.0</td>\n",
       "      <td>0.0</td>\n",
       "    </tr>\n",
       "    <tr>\n",
       "      <th>3</th>\n",
       "      <td>K</td>\n",
       "      <td>3.0</td>\n",
       "      <td>0.0</td>\n",
       "    </tr>\n",
       "    <tr>\n",
       "      <th>4</th>\n",
       "      <td>K</td>\n",
       "      <td>3.0</td>\n",
       "      <td>0.0</td>\n",
       "    </tr>\n",
       "    <tr>\n",
       "      <th>5</th>\n",
       "      <td>K</td>\n",
       "      <td>4.0</td>\n",
       "      <td>0.0</td>\n",
       "    </tr>\n",
       "    <tr>\n",
       "      <th>...</th>\n",
       "      <td>...</td>\n",
       "      <td>...</td>\n",
       "      <td>...</td>\n",
       "    </tr>\n",
       "    <tr>\n",
       "      <th>4653</th>\n",
       "      <td>K</td>\n",
       "      <td>3.0</td>\n",
       "      <td>1.0</td>\n",
       "    </tr>\n",
       "    <tr>\n",
       "      <th>4654</th>\n",
       "      <td>K</td>\n",
       "      <td>2.0</td>\n",
       "      <td>1.0</td>\n",
       "    </tr>\n",
       "    <tr>\n",
       "      <th>4655</th>\n",
       "      <td>K</td>\n",
       "      <td>4.0</td>\n",
       "      <td>1.0</td>\n",
       "    </tr>\n",
       "    <tr>\n",
       "      <th>4656</th>\n",
       "      <td>K</td>\n",
       "      <td>2.0</td>\n",
       "      <td>1.0</td>\n",
       "    </tr>\n",
       "    <tr>\n",
       "      <th>4658</th>\n",
       "      <td>K</td>\n",
       "      <td>3.0</td>\n",
       "      <td>1.0</td>\n",
       "    </tr>\n",
       "  </tbody>\n",
       "</table>\n",
       "<p>4258 rows × 3 columns</p>\n",
       "</div>"
      ],
      "text/plain": [
       "     time  area    0\n",
       "1       K   2.0  0.0\n",
       "2      Tr   1.0  0.0\n",
       "3       K   3.0  0.0\n",
       "4       K   3.0  0.0\n",
       "5       K   4.0  0.0\n",
       "...   ...   ...  ...\n",
       "4653    K   3.0  1.0\n",
       "4654    K   2.0  1.0\n",
       "4655    K   4.0  1.0\n",
       "4656    K   2.0  1.0\n",
       "4658    K   3.0  1.0\n",
       "\n",
       "[4258 rows x 3 columns]"
      ]
     },
     "execution_count": 108,
     "metadata": {},
     "output_type": "execute_result"
    }
   ],
   "source": [
    "clustering"
   ]
  },
  {
   "cell_type": "code",
   "execution_count": 109,
   "metadata": {},
   "outputs": [],
   "source": [
    "clustering.to_excel(\"../_CLUSTER/groups_time_area/Frost/Fe/cluster_control_points.xlsx\", index=True)"
   ]
  },
  {
   "cell_type": "code",
   "execution_count": 110,
   "metadata": {},
   "outputs": [
    {
     "data": {
      "text/html": [
       "<div>\n",
       "<style scoped>\n",
       "    .dataframe tbody tr th:only-of-type {\n",
       "        vertical-align: middle;\n",
       "    }\n",
       "\n",
       "    .dataframe tbody tr th {\n",
       "        vertical-align: top;\n",
       "    }\n",
       "\n",
       "    .dataframe thead th {\n",
       "        text-align: right;\n",
       "    }\n",
       "</style>\n",
       "<table border=\"1\" class=\"dataframe\">\n",
       "  <thead>\n",
       "    <tr style=\"text-align: right;\">\n",
       "      <th></th>\n",
       "      <th>time</th>\n",
       "      <th>area</th>\n",
       "      <th>0</th>\n",
       "    </tr>\n",
       "  </thead>\n",
       "  <tbody>\n",
       "    <tr>\n",
       "      <th>1</th>\n",
       "      <td>K</td>\n",
       "      <td>2.0</td>\n",
       "      <td>0.0</td>\n",
       "    </tr>\n",
       "    <tr>\n",
       "      <th>2</th>\n",
       "      <td>Tr</td>\n",
       "      <td>1.0</td>\n",
       "      <td>0.0</td>\n",
       "    </tr>\n",
       "    <tr>\n",
       "      <th>3</th>\n",
       "      <td>K</td>\n",
       "      <td>3.0</td>\n",
       "      <td>0.0</td>\n",
       "    </tr>\n",
       "    <tr>\n",
       "      <th>4</th>\n",
       "      <td>K</td>\n",
       "      <td>3.0</td>\n",
       "      <td>0.0</td>\n",
       "    </tr>\n",
       "    <tr>\n",
       "      <th>5</th>\n",
       "      <td>K</td>\n",
       "      <td>4.0</td>\n",
       "      <td>0.0</td>\n",
       "    </tr>\n",
       "    <tr>\n",
       "      <th>...</th>\n",
       "      <td>...</td>\n",
       "      <td>...</td>\n",
       "      <td>...</td>\n",
       "    </tr>\n",
       "    <tr>\n",
       "      <th>4653</th>\n",
       "      <td>K</td>\n",
       "      <td>3.0</td>\n",
       "      <td>1.0</td>\n",
       "    </tr>\n",
       "    <tr>\n",
       "      <th>4654</th>\n",
       "      <td>K</td>\n",
       "      <td>2.0</td>\n",
       "      <td>1.0</td>\n",
       "    </tr>\n",
       "    <tr>\n",
       "      <th>4655</th>\n",
       "      <td>K</td>\n",
       "      <td>4.0</td>\n",
       "      <td>1.0</td>\n",
       "    </tr>\n",
       "    <tr>\n",
       "      <th>4656</th>\n",
       "      <td>K</td>\n",
       "      <td>2.0</td>\n",
       "      <td>1.0</td>\n",
       "    </tr>\n",
       "    <tr>\n",
       "      <th>4658</th>\n",
       "      <td>K</td>\n",
       "      <td>3.0</td>\n",
       "      <td>1.0</td>\n",
       "    </tr>\n",
       "  </tbody>\n",
       "</table>\n",
       "<p>4258 rows × 3 columns</p>\n",
       "</div>"
      ],
      "text/plain": [
       "     time  area    0\n",
       "1       K   2.0  0.0\n",
       "2      Tr   1.0  0.0\n",
       "3       K   3.0  0.0\n",
       "4       K   3.0  0.0\n",
       "5       K   4.0  0.0\n",
       "...   ...   ...  ...\n",
       "4653    K   3.0  1.0\n",
       "4654    K   2.0  1.0\n",
       "4655    K   4.0  1.0\n",
       "4656    K   2.0  1.0\n",
       "4658    K   3.0  1.0\n",
       "\n",
       "[4258 rows x 3 columns]"
      ]
     },
     "execution_count": 110,
     "metadata": {},
     "output_type": "execute_result"
    }
   ],
   "source": [
    "clustering"
   ]
  },
  {
   "cell_type": "code",
   "execution_count": 111,
   "metadata": {},
   "outputs": [],
   "source": [
    "clustering.iloc[:, 2].value_counts().to_excel(\"../_CLUSTER/groups_time_area/Frost/Fe/control_points_count.xlsx\")"
   ]
  },
  {
   "cell_type": "markdown",
   "metadata": {},
   "source": [
    "-----"
   ]
  },
  {
   "cell_type": "code",
   "execution_count": null,
   "metadata": {},
   "outputs": [],
   "source": []
  },
  {
   "cell_type": "code",
   "execution_count": 112,
   "metadata": {},
   "outputs": [],
   "source": [
    "clustering1= clustering.loc[clustering['area'] == 1]\n",
    "clustering2= clustering.loc[clustering['area'] == 2]\n",
    "clustering3= clustering.loc[clustering['area'] == 3]\n",
    "clustering4= clustering.loc[clustering['area'] == 4]\n",
    "clustering5= clustering.loc[clustering['area'] == 5]"
   ]
  },
  {
   "cell_type": "code",
   "execution_count": 113,
   "metadata": {},
   "outputs": [],
   "source": [
    "clustering1_J = clustering1.loc[clustering1['time'] == 'J']\n",
    "clustering1_Tr = clustering1.loc[clustering1['time'] == 'Tr']\n",
    "clustering1_Tr_J = clustering1.loc[clustering1['time'] == 'Tr-J']\n",
    "clustering1_Mz = clustering1.loc[clustering1['time'] == 'Mz']\n",
    "clustering1_K = clustering1.loc[clustering1['time'] == 'K']\n",
    "\n",
    "clustering1_J.iloc[:, 2].value_counts().to_excel(\"../_CLUSTER/groups_time_area/Frost/Fe/groups_counts_area1_J.xlsx\")\n",
    "clustering1_Tr.iloc[:, 2].value_counts().to_excel(\"../_CLUSTER/groups_time_area/Frost/Fe/groups_counts_area1_Tr.xlsx\")\n",
    "clustering1_Tr_J.iloc[:, 2].value_counts().to_excel(\"../_CLUSTER/groups_time_area/Frost/Fe/groups_counts_area1_Tr_J.xlsx\")\n",
    "clustering1_Mz.iloc[:, 2].value_counts().to_excel(\"../_CLUSTER/groups_time_area/Frost/Fe/groups_counts_area1_Mz.xlsx\")\n",
    "clustering1_K.iloc[:, 2].value_counts().to_excel(\"../_CLUSTER/groups_time_area/Frost/Fe/groups_counts_area1_K.xlsx\")"
   ]
  },
  {
   "cell_type": "code",
   "execution_count": 114,
   "metadata": {},
   "outputs": [],
   "source": [
    "clustering2_J = clustering2.loc[clustering2['time'] == 'J']\n",
    "clustering2_Tr = clustering2.loc[clustering2['time'] == 'Tr']\n",
    "clustering2_Pg = clustering2.loc[clustering2['time'] == 'Pg']\n",
    "clustering2_K = clustering2.loc[clustering2['time'] == 'K']\n",
    "\n",
    "clustering2_J.iloc[:, 2].value_counts().to_excel(\"../_CLUSTER/groups_time_area/Frost/Fe/groups_counts_area2_J.xlsx\")\n",
    "clustering2_Tr.iloc[:, 2].value_counts().to_excel(\"../_CLUSTER/groups_time_area/Frost/Fe/groups_counts_area2_Tr.xlsx\")\n",
    "clustering2_Pg.iloc[:, 2].value_counts().to_excel(\"../_CLUSTER/groups_time_area/Frost/Fe/groups_counts_area2_Pg.xlsx\")\n",
    "clustering2_K.iloc[:, 2].value_counts().to_excel(\"../_CLUSTER/groups_time_area/Frost/Fe/groups_counts_area2_K.xlsx\")"
   ]
  },
  {
   "cell_type": "code",
   "execution_count": 115,
   "metadata": {},
   "outputs": [],
   "source": [
    "clustering3_J = clustering3.loc[clustering3['time'] == 'J']\n",
    "clustering3_Tr = clustering3.loc[clustering3['time'] == 'Tr']\n",
    "clustering3_Pg = clustering3.loc[clustering3['time'] == 'Pg']\n",
    "clustering3_K = clustering3.loc[clustering3['time'] == 'K']\n",
    "\n",
    "clustering3_J.iloc[:, 2].value_counts().to_excel(\"../_CLUSTER/groups_time_area/Frost/Fe/groups_counts_area3_J.xlsx\")\n",
    "clustering3_Tr.iloc[:, 2].value_counts().to_excel(\"../_CLUSTER/groups_time_area/Frost/Fe/groups_counts_area3_Tr.xlsx\")\n",
    "clustering3_Pg.iloc[:, 2].value_counts().to_excel(\"../_CLUSTER/groups_time_area/Frost/Fe/groups_counts_area3_Pg.xlsx\")\n",
    "clustering3_K.iloc[:, 2].value_counts().to_excel(\"../_CLUSTER/groups_time_area/Frost/Fe/groups_counts_area3_K.xlsx\")"
   ]
  },
  {
   "cell_type": "code",
   "execution_count": 116,
   "metadata": {},
   "outputs": [],
   "source": [
    "clustering4_J = clustering4.loc[clustering4['time'] == 'J']\n",
    "clustering4_Mz = clustering4.loc[clustering4['time'] == 'Mz']\n",
    "clustering4_Pg = clustering4.loc[clustering4['time'] == 'Pg']\n",
    "clustering4_K = clustering4.loc[clustering4['time'] == 'K']\n",
    "\n",
    "clustering4_J.iloc[:, 2].value_counts().to_excel(\"../_CLUSTER/groups_time_area/Frost/Fe/groups_counts_area4_J.xlsx\")\n",
    "clustering4_Mz.iloc[:, 2].value_counts().to_excel(\"../_CLUSTER/groups_time_area/Frost/Fe/groups_counts_area4_Mz.xlsx\")\n",
    "clustering4_Pg.iloc[:, 2].value_counts().to_excel(\"../_CLUSTER/groups_time_area/Frost/Fe/groups_counts_area4_Pg.xlsx\")\n",
    "clustering4_K.iloc[:, 2].value_counts().to_excel(\"../_CLUSTER/groups_time_area/Frost/Fe/groups_counts_area4_K.xlsx\")"
   ]
  },
  {
   "cell_type": "code",
   "execution_count": 117,
   "metadata": {},
   "outputs": [],
   "source": [
    "clustering5_Mz = clustering5.loc[clustering5['time'] == 'Mz']\n",
    "clustering5_Pg = clustering5.loc[clustering5['time'] == 'Pg']\n",
    "clustering5_K = clustering5.loc[clustering5['time'] == 'K']\n",
    "\n",
    "clustering5_Mz.iloc[:, 2].value_counts().to_excel(\"../_CLUSTER/groups_time_area/Frost/Fe/groups_counts_area5_Mz.xlsx\")\n",
    "clustering5_Pg.iloc[:, 2].value_counts().to_excel(\"../_CLUSTER/groups_time_area/Frost/Fe/groups_counts_area5_Pg.xlsx\")\n",
    "clustering5_K.iloc[:, 2].value_counts().to_excel(\"../_CLUSTER/groups_time_area/Frost/Fe/groups_counts_area5_K.xlsx\")"
   ]
  },
  {
   "cell_type": "markdown",
   "metadata": {},
   "source": [
    "----"
   ]
  },
  {
   "cell_type": "code",
   "execution_count": null,
   "metadata": {},
   "outputs": [],
   "source": []
  },
  {
   "cell_type": "code",
   "execution_count": 118,
   "metadata": {},
   "outputs": [],
   "source": [
    "coordinates = pd.read_excel(\"../_PETRO/classification_altereddata.xlsx\", index_col=0, usecols=[0, 5, 6])\n",
    "#coordinates = pd.read_excel(\"../_INTERPOLATION/area5.xlsx\", index_col=0, usecols=[0, 5, 6])"
   ]
  },
  {
   "cell_type": "code",
   "execution_count": 119,
   "metadata": {},
   "outputs": [],
   "source": [
    "cluster_plot = pd.concat([coordinates, clustering], axis=1)\n",
    "cluster_plot = cluster_plot.dropna()"
   ]
  },
  {
   "cell_type": "code",
   "execution_count": 120,
   "metadata": {},
   "outputs": [
    {
     "data": {
      "text/html": [
       "<div>\n",
       "<style scoped>\n",
       "    .dataframe tbody tr th:only-of-type {\n",
       "        vertical-align: middle;\n",
       "    }\n",
       "\n",
       "    .dataframe tbody tr th {\n",
       "        vertical-align: top;\n",
       "    }\n",
       "\n",
       "    .dataframe thead th {\n",
       "        text-align: right;\n",
       "    }\n",
       "</style>\n",
       "<table border=\"1\" class=\"dataframe\">\n",
       "  <thead>\n",
       "    <tr style=\"text-align: right;\">\n",
       "      <th></th>\n",
       "      <th>Latitude</th>\n",
       "      <th>Longitude</th>\n",
       "      <th>time</th>\n",
       "      <th>area</th>\n",
       "      <th>0</th>\n",
       "    </tr>\n",
       "  </thead>\n",
       "  <tbody>\n",
       "    <tr>\n",
       "      <th>1</th>\n",
       "      <td>44°31'30.0\"</td>\n",
       "      <td>138°37'30.0\"</td>\n",
       "      <td>K</td>\n",
       "      <td>2.0</td>\n",
       "      <td>0.0</td>\n",
       "    </tr>\n",
       "    <tr>\n",
       "      <th>2</th>\n",
       "      <td>54°12'10.0\"</td>\n",
       "      <td>119°24'0.0\"</td>\n",
       "      <td>Tr</td>\n",
       "      <td>1.0</td>\n",
       "      <td>0.0</td>\n",
       "    </tr>\n",
       "    <tr>\n",
       "      <th>3</th>\n",
       "      <td>62°36'0.0\"</td>\n",
       "      <td>155°36'0.0\"</td>\n",
       "      <td>K</td>\n",
       "      <td>3.0</td>\n",
       "      <td>0.0</td>\n",
       "    </tr>\n",
       "    <tr>\n",
       "      <th>4</th>\n",
       "      <td>61°35'0.0\"</td>\n",
       "      <td>146°2'0.0\"</td>\n",
       "      <td>K</td>\n",
       "      <td>3.0</td>\n",
       "      <td>0.0</td>\n",
       "    </tr>\n",
       "    <tr>\n",
       "      <th>5</th>\n",
       "      <td>68°55'0.0\"</td>\n",
       "      <td>164°24'0.0\"</td>\n",
       "      <td>K</td>\n",
       "      <td>4.0</td>\n",
       "      <td>0.0</td>\n",
       "    </tr>\n",
       "    <tr>\n",
       "      <th>...</th>\n",
       "      <td>...</td>\n",
       "      <td>...</td>\n",
       "      <td>...</td>\n",
       "      <td>...</td>\n",
       "      <td>...</td>\n",
       "    </tr>\n",
       "    <tr>\n",
       "      <th>4653</th>\n",
       "      <td>60°27'0.0\"</td>\n",
       "      <td>150°1'0.0\"</td>\n",
       "      <td>K</td>\n",
       "      <td>3.0</td>\n",
       "      <td>1.0</td>\n",
       "    </tr>\n",
       "    <tr>\n",
       "      <th>4654</th>\n",
       "      <td>46°28'40.0\"</td>\n",
       "      <td>136°34'0.0\"</td>\n",
       "      <td>K</td>\n",
       "      <td>2.0</td>\n",
       "      <td>1.0</td>\n",
       "    </tr>\n",
       "    <tr>\n",
       "      <th>4655</th>\n",
       "      <td>66°42'0.0\"</td>\n",
       "      <td>164°23'0.0\"</td>\n",
       "      <td>K</td>\n",
       "      <td>4.0</td>\n",
       "      <td>1.0</td>\n",
       "    </tr>\n",
       "    <tr>\n",
       "      <th>4656</th>\n",
       "      <td>46°56'30.0\"</td>\n",
       "      <td>137°5'3.0\"</td>\n",
       "      <td>K</td>\n",
       "      <td>2.0</td>\n",
       "      <td>1.0</td>\n",
       "    </tr>\n",
       "    <tr>\n",
       "      <th>4658</th>\n",
       "      <td>60°51'0.0\"</td>\n",
       "      <td>147°31'0.0\"</td>\n",
       "      <td>K</td>\n",
       "      <td>3.0</td>\n",
       "      <td>1.0</td>\n",
       "    </tr>\n",
       "  </tbody>\n",
       "</table>\n",
       "<p>4258 rows × 5 columns</p>\n",
       "</div>"
      ],
      "text/plain": [
       "         Latitude     Longitude time  area    0\n",
       "1     44°31'30.0\"  138°37'30.0\"    K   2.0  0.0\n",
       "2     54°12'10.0\"   119°24'0.0\"   Tr   1.0  0.0\n",
       "3      62°36'0.0\"   155°36'0.0\"    K   3.0  0.0\n",
       "4      61°35'0.0\"    146°2'0.0\"    K   3.0  0.0\n",
       "5      68°55'0.0\"   164°24'0.0\"    K   4.0  0.0\n",
       "...           ...           ...  ...   ...  ...\n",
       "4653   60°27'0.0\"    150°1'0.0\"    K   3.0  1.0\n",
       "4654  46°28'40.0\"   136°34'0.0\"    K   2.0  1.0\n",
       "4655   66°42'0.0\"   164°23'0.0\"    K   4.0  1.0\n",
       "4656  46°56'30.0\"    137°5'3.0\"    K   2.0  1.0\n",
       "4658   60°51'0.0\"   147°31'0.0\"    K   3.0  1.0\n",
       "\n",
       "[4258 rows x 5 columns]"
      ]
     },
     "execution_count": 120,
     "metadata": {},
     "output_type": "execute_result"
    }
   ],
   "source": [
    "cluster_plot"
   ]
  },
  {
   "cell_type": "code",
   "execution_count": 121,
   "metadata": {},
   "outputs": [],
   "source": [
    "cluster_plot.to_excel(\"../_CLUSTER/groups_time_area/Frost/Fe/groups_try.xlsx\", index=True)"
   ]
  },
  {
   "cell_type": "code",
   "execution_count": null,
   "metadata": {},
   "outputs": [],
   "source": []
  },
  {
   "cell_type": "markdown",
   "metadata": {},
   "source": [
    "### MALI"
   ]
  },
  {
   "cell_type": "code",
   "execution_count": 152,
   "metadata": {},
   "outputs": [
    {
     "data": {
      "text/html": [
       "<div>\n",
       "<style scoped>\n",
       "    .dataframe tbody tr th:only-of-type {\n",
       "        vertical-align: middle;\n",
       "    }\n",
       "\n",
       "    .dataframe tbody tr th {\n",
       "        vertical-align: top;\n",
       "    }\n",
       "\n",
       "    .dataframe thead th {\n",
       "        text-align: right;\n",
       "    }\n",
       "</style>\n",
       "<table border=\"1\" class=\"dataframe\">\n",
       "  <thead>\n",
       "    <tr style=\"text-align: right;\">\n",
       "      <th></th>\n",
       "      <th>PC01</th>\n",
       "      <th>PC02</th>\n",
       "      <th>PC03</th>\n",
       "    </tr>\n",
       "  </thead>\n",
       "  <tbody>\n",
       "    <tr>\n",
       "      <th>1</th>\n",
       "      <td>-0.663139</td>\n",
       "      <td>-0.074936</td>\n",
       "      <td>-0.251458</td>\n",
       "    </tr>\n",
       "    <tr>\n",
       "      <th>2</th>\n",
       "      <td>-1.270357</td>\n",
       "      <td>-0.104868</td>\n",
       "      <td>-0.284748</td>\n",
       "    </tr>\n",
       "    <tr>\n",
       "      <th>3</th>\n",
       "      <td>-1.650582</td>\n",
       "      <td>0.269948</td>\n",
       "      <td>-1.316674</td>\n",
       "    </tr>\n",
       "    <tr>\n",
       "      <th>4</th>\n",
       "      <td>-0.764523</td>\n",
       "      <td>0.041462</td>\n",
       "      <td>0.069795</td>\n",
       "    </tr>\n",
       "    <tr>\n",
       "      <th>5</th>\n",
       "      <td>0.111089</td>\n",
       "      <td>-0.406922</td>\n",
       "      <td>-0.386326</td>\n",
       "    </tr>\n",
       "    <tr>\n",
       "      <th>...</th>\n",
       "      <td>...</td>\n",
       "      <td>...</td>\n",
       "      <td>...</td>\n",
       "    </tr>\n",
       "    <tr>\n",
       "      <th>4655</th>\n",
       "      <td>1.706149</td>\n",
       "      <td>0.276259</td>\n",
       "      <td>0.164731</td>\n",
       "    </tr>\n",
       "    <tr>\n",
       "      <th>4656</th>\n",
       "      <td>2.042359</td>\n",
       "      <td>0.438470</td>\n",
       "      <td>-0.127731</td>\n",
       "    </tr>\n",
       "    <tr>\n",
       "      <th>4657</th>\n",
       "      <td>1.875974</td>\n",
       "      <td>0.402508</td>\n",
       "      <td>-0.313848</td>\n",
       "    </tr>\n",
       "    <tr>\n",
       "      <th>4658</th>\n",
       "      <td>2.167159</td>\n",
       "      <td>0.357060</td>\n",
       "      <td>0.501016</td>\n",
       "    </tr>\n",
       "    <tr>\n",
       "      <th>4659</th>\n",
       "      <td>2.596742</td>\n",
       "      <td>0.224328</td>\n",
       "      <td>0.473020</td>\n",
       "    </tr>\n",
       "  </tbody>\n",
       "</table>\n",
       "<p>4659 rows × 3 columns</p>\n",
       "</div>"
      ],
      "text/plain": [
       "          PC01      PC02      PC03\n",
       "1    -0.663139 -0.074936 -0.251458\n",
       "2    -1.270357 -0.104868 -0.284748\n",
       "3    -1.650582  0.269948 -1.316674\n",
       "4    -0.764523  0.041462  0.069795\n",
       "5     0.111089 -0.406922 -0.386326\n",
       "...        ...       ...       ...\n",
       "4655  1.706149  0.276259  0.164731\n",
       "4656  2.042359  0.438470 -0.127731\n",
       "4657  1.875974  0.402508 -0.313848\n",
       "4658  2.167159  0.357060  0.501016\n",
       "4659  2.596742  0.224328  0.473020\n",
       "\n",
       "[4659 rows x 3 columns]"
      ]
     },
     "execution_count": 152,
     "metadata": {},
     "output_type": "execute_result"
    }
   ],
   "source": [
    "MALI_pca_df"
   ]
  },
  {
   "cell_type": "code",
   "execution_count": 153,
   "metadata": {},
   "outputs": [
    {
     "data": {
      "image/png": "[encoded data removed]",
      "text/plain": [
       "<Figure size 432x288 with 1 Axes>"
      ]
     },
     "metadata": {
      "needs_background": "light"
     },
     "output_type": "display_data"
    }
   ],
   "source": [
    "sns.scatterplot(x=\"PC01\", y=\"PC02\", data=MALI_pca_df, hue=metadata[\"time\"])\n",
    "plt.show();"
   ]
  },
  {
   "cell_type": "code",
   "execution_count": 158,
   "metadata": {},
   "outputs": [
    {
     "data": {
      "image/png": "[encoded data removed]",
      "text/plain": [
       "<Figure size 432x288 with 1 Axes>"
      ]
     },
     "metadata": {
      "needs_background": "light"
     },
     "output_type": "display_data"
    }
   ],
   "source": [
    "sns.scatterplot(x=\"PC01\", y=\"PC02\", data=MALI_pca_df.loc[area_numbers[area_numbers[\"time\"] == \"Tr-J\"].index, :])\n",
    "plt.show();"
   ]
  },
  {
   "cell_type": "code",
   "execution_count": 159,
   "metadata": {},
   "outputs": [],
   "source": [
    "def create_dendrogram(data, linkage_method='ward', save=\"\"):\n",
    "    \"\"\"Plot dendrogram\n",
    "    \n",
    "    Parameters:\n",
    "    -----------\n",
    "    data : array or DataFrame\n",
    "        Data to be clustered\n",
    "    linkage_method : str (optional)\n",
    "        Method to use to construct the linkage matrix\n",
    "        Choose between ['single', 'complete', 'average',\n",
    "        'weighted', 'centroid', 'median', 'ward']\n",
    "        For detailed information see \n",
    "        https://docs.scipy.org/doc/scipy-0.14.0/reference/ \\\n",
    "        generated/scipy.cluster.hierarchy.linkage.html\n",
    "    save : str (optional)\n",
    "        Name to use for figure file when saving\n",
    "    \"\"\"\n",
    "    \n",
    "    linkage_matrix = linkage(data, linkage_method)\n",
    "    c, coph_dists = cophenet(linkage_matrix, pdist(data))\n",
    "    print(\"Cophenetic correlation coefficient:\", c)\n",
    "    \n",
    "    plt.figure(figsize=(25, 10))\n",
    "    dendrogram(linkage_matrix, labels=data.index)\n",
    "    if save != \"\":\n",
    "        plt.savefig(f\"../_FIGURES/{save}.pdf\")\n",
    "    plt.show()"
   ]
  },
  {
   "cell_type": "code",
   "execution_count": 160,
   "metadata": {},
   "outputs": [
    {
     "name": "stdout",
     "output_type": "stream",
     "text": [
      "Cophenetic correlation coefficient: 0.5501835393030062\n"
     ]
    },
    {
     "data": {
      "image/png": "[encoded data removed]",
      "text/plain": [
       "<Figure size 1800x720 with 1 Axes>"
      ]
     },
     "metadata": {
      "needs_background": "light"
     },
     "output_type": "display_data"
    },
    {
     "name": "stdout",
     "output_type": "stream",
     "text": [
      "Wall time: 1min 43s\n"
     ]
    }
   ],
   "source": [
    "%%time\n",
    "create_dendrogram(MALI_pca_df, linkage_method='ward')"
   ]
  },
  {
   "cell_type": "code",
   "execution_count": 161,
   "metadata": {},
   "outputs": [
    {
     "data": {
      "text/plain": [
       "array([1, 1, 1, ..., 0, 0, 0], dtype=int64)"
      ]
     },
     "execution_count": 161,
     "metadata": {},
     "output_type": "execute_result"
    }
   ],
   "source": [
    "X = MALI_pca_df.values\n",
    "\n",
    "cluster = AgglomerativeClustering(n_clusters=2, affinity='euclidean', linkage='ward')\n",
    "cluster.fit_predict(X)"
   ]
  },
  {
   "cell_type": "code",
   "execution_count": 162,
   "metadata": {},
   "outputs": [
    {
     "data": {
      "image/png": "[encoded data removed]",
      "text/plain": [
       "<Figure size 432x288 with 1 Axes>"
      ]
     },
     "metadata": {
      "needs_background": "light"
     },
     "output_type": "display_data"
    }
   ],
   "source": [
    "plt.scatter(X[:,0], X[:,1], c=cluster.labels_, cmap='rainbow', s=10)\n",
    "plt.show();"
   ]
  },
  {
   "cell_type": "code",
   "execution_count": 163,
   "metadata": {},
   "outputs": [],
   "source": [
    "# You can call the 'labels_' attribute of 'cluster' here instead of \n",
    "# performing the 'fit_transform' operation again.\n",
    "cluster_groups= pd.DataFrame(data=cluster.labels_)"
   ]
  },
  {
   "cell_type": "code",
   "execution_count": 164,
   "metadata": {},
   "outputs": [
    {
     "data": {
      "text/html": [
       "<div>\n",
       "<style scoped>\n",
       "    .dataframe tbody tr th:only-of-type {\n",
       "        vertical-align: middle;\n",
       "    }\n",
       "\n",
       "    .dataframe tbody tr th {\n",
       "        vertical-align: top;\n",
       "    }\n",
       "\n",
       "    .dataframe thead th {\n",
       "        text-align: right;\n",
       "    }\n",
       "</style>\n",
       "<table border=\"1\" class=\"dataframe\">\n",
       "  <thead>\n",
       "    <tr style=\"text-align: right;\">\n",
       "      <th></th>\n",
       "      <th>0</th>\n",
       "    </tr>\n",
       "  </thead>\n",
       "  <tbody>\n",
       "    <tr>\n",
       "      <th>0</th>\n",
       "      <td>1</td>\n",
       "    </tr>\n",
       "    <tr>\n",
       "      <th>1</th>\n",
       "      <td>1</td>\n",
       "    </tr>\n",
       "    <tr>\n",
       "      <th>2</th>\n",
       "      <td>1</td>\n",
       "    </tr>\n",
       "    <tr>\n",
       "      <th>3</th>\n",
       "      <td>1</td>\n",
       "    </tr>\n",
       "    <tr>\n",
       "      <th>4</th>\n",
       "      <td>0</td>\n",
       "    </tr>\n",
       "    <tr>\n",
       "      <th>...</th>\n",
       "      <td>...</td>\n",
       "    </tr>\n",
       "    <tr>\n",
       "      <th>4654</th>\n",
       "      <td>0</td>\n",
       "    </tr>\n",
       "    <tr>\n",
       "      <th>4655</th>\n",
       "      <td>0</td>\n",
       "    </tr>\n",
       "    <tr>\n",
       "      <th>4656</th>\n",
       "      <td>0</td>\n",
       "    </tr>\n",
       "    <tr>\n",
       "      <th>4657</th>\n",
       "      <td>0</td>\n",
       "    </tr>\n",
       "    <tr>\n",
       "      <th>4658</th>\n",
       "      <td>0</td>\n",
       "    </tr>\n",
       "  </tbody>\n",
       "</table>\n",
       "<p>4659 rows × 1 columns</p>\n",
       "</div>"
      ],
      "text/plain": [
       "      0\n",
       "0     1\n",
       "1     1\n",
       "2     1\n",
       "3     1\n",
       "4     0\n",
       "...  ..\n",
       "4654  0\n",
       "4655  0\n",
       "4656  0\n",
       "4657  0\n",
       "4658  0\n",
       "\n",
       "[4659 rows x 1 columns]"
      ]
     },
     "execution_count": 164,
     "metadata": {},
     "output_type": "execute_result"
    }
   ],
   "source": [
    "cluster_groups"
   ]
  },
  {
   "cell_type": "code",
   "execution_count": 165,
   "metadata": {},
   "outputs": [],
   "source": [
    "area_numbers = pd.read_excel(\"../_INTERPOLATION/area_subdivided.xlsx\", index_col=0, usecols=[0, 24, 29])"
   ]
  },
  {
   "cell_type": "code",
   "execution_count": 166,
   "metadata": {},
   "outputs": [],
   "source": [
    "clustering = pd.concat([area_numbers, cluster_groups], axis = 1)\n",
    "clustering = clustering.dropna()"
   ]
  },
  {
   "cell_type": "code",
   "execution_count": 167,
   "metadata": {},
   "outputs": [
    {
     "data": {
      "text/html": [
       "<div>\n",
       "<style scoped>\n",
       "    .dataframe tbody tr th:only-of-type {\n",
       "        vertical-align: middle;\n",
       "    }\n",
       "\n",
       "    .dataframe tbody tr th {\n",
       "        vertical-align: top;\n",
       "    }\n",
       "\n",
       "    .dataframe thead th {\n",
       "        text-align: right;\n",
       "    }\n",
       "</style>\n",
       "<table border=\"1\" class=\"dataframe\">\n",
       "  <thead>\n",
       "    <tr style=\"text-align: right;\">\n",
       "      <th></th>\n",
       "      <th>time</th>\n",
       "      <th>area</th>\n",
       "      <th>0</th>\n",
       "    </tr>\n",
       "  </thead>\n",
       "  <tbody>\n",
       "    <tr>\n",
       "      <th>1</th>\n",
       "      <td>K</td>\n",
       "      <td>2.0</td>\n",
       "      <td>1.0</td>\n",
       "    </tr>\n",
       "    <tr>\n",
       "      <th>2</th>\n",
       "      <td>Tr</td>\n",
       "      <td>1.0</td>\n",
       "      <td>1.0</td>\n",
       "    </tr>\n",
       "    <tr>\n",
       "      <th>3</th>\n",
       "      <td>K</td>\n",
       "      <td>3.0</td>\n",
       "      <td>1.0</td>\n",
       "    </tr>\n",
       "    <tr>\n",
       "      <th>4</th>\n",
       "      <td>K</td>\n",
       "      <td>3.0</td>\n",
       "      <td>0.0</td>\n",
       "    </tr>\n",
       "    <tr>\n",
       "      <th>5</th>\n",
       "      <td>K</td>\n",
       "      <td>4.0</td>\n",
       "      <td>1.0</td>\n",
       "    </tr>\n",
       "    <tr>\n",
       "      <th>...</th>\n",
       "      <td>...</td>\n",
       "      <td>...</td>\n",
       "      <td>...</td>\n",
       "    </tr>\n",
       "    <tr>\n",
       "      <th>4653</th>\n",
       "      <td>K</td>\n",
       "      <td>3.0</td>\n",
       "      <td>0.0</td>\n",
       "    </tr>\n",
       "    <tr>\n",
       "      <th>4654</th>\n",
       "      <td>K</td>\n",
       "      <td>2.0</td>\n",
       "      <td>0.0</td>\n",
       "    </tr>\n",
       "    <tr>\n",
       "      <th>4655</th>\n",
       "      <td>K</td>\n",
       "      <td>4.0</td>\n",
       "      <td>0.0</td>\n",
       "    </tr>\n",
       "    <tr>\n",
       "      <th>4656</th>\n",
       "      <td>K</td>\n",
       "      <td>2.0</td>\n",
       "      <td>0.0</td>\n",
       "    </tr>\n",
       "    <tr>\n",
       "      <th>4658</th>\n",
       "      <td>K</td>\n",
       "      <td>3.0</td>\n",
       "      <td>0.0</td>\n",
       "    </tr>\n",
       "  </tbody>\n",
       "</table>\n",
       "<p>4258 rows × 3 columns</p>\n",
       "</div>"
      ],
      "text/plain": [
       "     time  area    0\n",
       "1       K   2.0  1.0\n",
       "2      Tr   1.0  1.0\n",
       "3       K   3.0  1.0\n",
       "4       K   3.0  0.0\n",
       "5       K   4.0  1.0\n",
       "...   ...   ...  ...\n",
       "4653    K   3.0  0.0\n",
       "4654    K   2.0  0.0\n",
       "4655    K   4.0  0.0\n",
       "4656    K   2.0  0.0\n",
       "4658    K   3.0  0.0\n",
       "\n",
       "[4258 rows x 3 columns]"
      ]
     },
     "execution_count": 167,
     "metadata": {},
     "output_type": "execute_result"
    }
   ],
   "source": [
    "clustering"
   ]
  },
  {
   "cell_type": "code",
   "execution_count": 168,
   "metadata": {},
   "outputs": [],
   "source": [
    "clustering.to_excel(\"../_CLUSTER/groups_time_area/Frost/MALI/cluster_control_points.xlsx\", index=True)"
   ]
  },
  {
   "cell_type": "code",
   "execution_count": 170,
   "metadata": {},
   "outputs": [],
   "source": [
    "clustering.iloc[:, 2].value_counts().to_excel(\"../_CLUSTER/groups_time_area/Frost/MALI/control_points_count.xlsx\")"
   ]
  },
  {
   "cell_type": "code",
   "execution_count": null,
   "metadata": {},
   "outputs": [],
   "source": []
  },
  {
   "cell_type": "code",
   "execution_count": 171,
   "metadata": {},
   "outputs": [],
   "source": [
    "clustering1= clustering.loc[clustering['area'] == 1]\n",
    "clustering2= clustering.loc[clustering['area'] == 2]\n",
    "clustering3= clustering.loc[clustering['area'] == 3]\n",
    "clustering4= clustering.loc[clustering['area'] == 4]\n",
    "clustering5= clustering.loc[clustering['area'] == 5]"
   ]
  },
  {
   "cell_type": "code",
   "execution_count": 172,
   "metadata": {},
   "outputs": [],
   "source": [
    "clustering1_J = clustering1.loc[clustering1['time'] == 'J']\n",
    "clustering1_Tr = clustering1.loc[clustering1['time'] == 'Tr']\n",
    "clustering1_Tr_J = clustering1.loc[clustering1['time'] == 'Tr-J']\n",
    "clustering1_Mz = clustering1.loc[clustering1['time'] == 'Mz']\n",
    "clustering1_K = clustering1.loc[clustering1['time'] == 'K']\n",
    "\n",
    "clustering1_J.iloc[:, 2].value_counts().to_excel(\"../_CLUSTER/groups_time_area/Frost/MALI/groups_counts_area1_J.xlsx\")\n",
    "clustering1_Tr.iloc[:, 2].value_counts().to_excel(\"../_CLUSTER/groups_time_area/Frost/MALI/groups_counts_area1_Tr.xlsx\")\n",
    "clustering1_Tr_J.iloc[:, 2].value_counts().to_excel(\"../_CLUSTER/groups_time_area/Frost/MALI/groups_counts_area1_Tr_J.xlsx\")\n",
    "clustering1_Mz.iloc[:, 2].value_counts().to_excel(\"../_CLUSTER/groups_time_area/Frost/MALI/groups_counts_area1_Mz.xlsx\")\n",
    "clustering1_K.iloc[:, 2].value_counts().to_excel(\"../_CLUSTER/groups_time_area/Frost/MALI/groups_counts_area1_K.xlsx\")"
   ]
  },
  {
   "cell_type": "code",
   "execution_count": 173,
   "metadata": {},
   "outputs": [],
   "source": [
    "clustering2_J = clustering2.loc[clustering2['time'] == 'J']\n",
    "clustering2_Tr = clustering2.loc[clustering2['time'] == 'Tr']\n",
    "clustering2_Pg = clustering2.loc[clustering2['time'] == 'Pg']\n",
    "clustering2_K = clustering2.loc[clustering2['time'] == 'K']\n",
    "\n",
    "clustering2_J.iloc[:, 2].value_counts().to_excel(\"../_CLUSTER/groups_time_area/Frost/MALI/groups_counts_area2_J.xlsx\")\n",
    "clustering2_Tr.iloc[:, 2].value_counts().to_excel(\"../_CLUSTER/groups_time_area/Frost/MALI/groups_counts_area2_Tr.xlsx\")\n",
    "clustering2_Pg.iloc[:, 2].value_counts().to_excel(\"../_CLUSTER/groups_time_area/Frost/MALI/groups_counts_area2_Pg.xlsx\")\n",
    "clustering2_K.iloc[:, 2].value_counts().to_excel(\"../_CLUSTER/groups_time_area/Frost/MALI/groups_counts_area2_K.xlsx\")"
   ]
  },
  {
   "cell_type": "code",
   "execution_count": 174,
   "metadata": {},
   "outputs": [],
   "source": [
    "clustering3_J = clustering3.loc[clustering3['time'] == 'J']\n",
    "clustering3_Tr = clustering3.loc[clustering3['time'] == 'Tr']\n",
    "clustering3_Pg = clustering3.loc[clustering3['time'] == 'Pg']\n",
    "clustering3_K = clustering3.loc[clustering3['time'] == 'K']\n",
    "\n",
    "clustering3_J.iloc[:, 2].value_counts().to_excel(\"../_CLUSTER/groups_time_area/Frost/MALI/groups_counts_area3_J.xlsx\")\n",
    "clustering3_Tr.iloc[:, 2].value_counts().to_excel(\"../_CLUSTER/groups_time_area/Frost/MALI/groups_counts_area3_Tr.xlsx\")\n",
    "clustering3_Pg.iloc[:, 2].value_counts().to_excel(\"../_CLUSTER/groups_time_area/Frost/MALI/groups_counts_area3_Pg.xlsx\")\n",
    "clustering3_K.iloc[:, 2].value_counts().to_excel(\"../_CLUSTER/groups_time_area/Frost/MALI/groups_counts_area3_K.xlsx\")"
   ]
  },
  {
   "cell_type": "code",
   "execution_count": 175,
   "metadata": {},
   "outputs": [],
   "source": [
    "clustering4_J = clustering4.loc[clustering4['time'] == 'J']\n",
    "clustering4_Mz = clustering4.loc[clustering4['time'] == 'Mz']\n",
    "clustering4_Pg = clustering4.loc[clustering4['time'] == 'Pg']\n",
    "clustering4_K = clustering4.loc[clustering4['time'] == 'K']\n",
    "\n",
    "clustering4_J.iloc[:, 2].value_counts().to_excel(\"../_CLUSTER/groups_time_area/Frost/MALI/groups_counts_area4_J.xlsx\")\n",
    "clustering4_Mz.iloc[:, 2].value_counts().to_excel(\"../_CLUSTER/groups_time_area/Frost/MALI/groups_counts_area4_Mz.xlsx\")\n",
    "clustering4_Pg.iloc[:, 2].value_counts().to_excel(\"../_CLUSTER/groups_time_area/Frost/MALI/groups_counts_area4_Pg.xlsx\")\n",
    "clustering4_K.iloc[:, 2].value_counts().to_excel(\"../_CLUSTER/groups_time_area/Frost/MALI/groups_counts_area4_K.xlsx\")"
   ]
  },
  {
   "cell_type": "code",
   "execution_count": 176,
   "metadata": {},
   "outputs": [],
   "source": [
    "clustering5_Mz = clustering5.loc[clustering5['time'] == 'Mz']\n",
    "clustering5_Pg = clustering5.loc[clustering5['time'] == 'Pg']\n",
    "clustering5_K = clustering5.loc[clustering5['time'] == 'K']\n",
    "\n",
    "clustering5_Mz.iloc[:, 2].value_counts().to_excel(\"../_CLUSTER/groups_time_area/Frost/MALI/groups_counts_area5_Mz.xlsx\")\n",
    "clustering5_Pg.iloc[:, 2].value_counts().to_excel(\"../_CLUSTER/groups_time_area/Frost/MALI/groups_counts_area5_Pg.xlsx\")\n",
    "clustering5_K.iloc[:, 2].value_counts().to_excel(\"../_CLUSTER/groups_time_area/Frost/MALI/groups_counts_area5_K.xlsx\")"
   ]
  },
  {
   "cell_type": "code",
   "execution_count": 177,
   "metadata": {},
   "outputs": [],
   "source": [
    "cluster_plot = pd.concat([coordinates, clustering], axis=1)\n",
    "cluster_plot = cluster_plot.dropna()"
   ]
  },
  {
   "cell_type": "code",
   "execution_count": 178,
   "metadata": {},
   "outputs": [
    {
     "data": {
      "text/html": [
       "<div>\n",
       "<style scoped>\n",
       "    .dataframe tbody tr th:only-of-type {\n",
       "        vertical-align: middle;\n",
       "    }\n",
       "\n",
       "    .dataframe tbody tr th {\n",
       "        vertical-align: top;\n",
       "    }\n",
       "\n",
       "    .dataframe thead th {\n",
       "        text-align: right;\n",
       "    }\n",
       "</style>\n",
       "<table border=\"1\" class=\"dataframe\">\n",
       "  <thead>\n",
       "    <tr style=\"text-align: right;\">\n",
       "      <th></th>\n",
       "      <th>Latitude</th>\n",
       "      <th>Longitude</th>\n",
       "      <th>time</th>\n",
       "      <th>area</th>\n",
       "      <th>0</th>\n",
       "    </tr>\n",
       "  </thead>\n",
       "  <tbody>\n",
       "    <tr>\n",
       "      <th>1</th>\n",
       "      <td>44°31'30.0\"</td>\n",
       "      <td>138°37'30.0\"</td>\n",
       "      <td>K</td>\n",
       "      <td>2.0</td>\n",
       "      <td>1.0</td>\n",
       "    </tr>\n",
       "    <tr>\n",
       "      <th>2</th>\n",
       "      <td>54°12'10.0\"</td>\n",
       "      <td>119°24'0.0\"</td>\n",
       "      <td>Tr</td>\n",
       "      <td>1.0</td>\n",
       "      <td>1.0</td>\n",
       "    </tr>\n",
       "    <tr>\n",
       "      <th>3</th>\n",
       "      <td>62°36'0.0\"</td>\n",
       "      <td>155°36'0.0\"</td>\n",
       "      <td>K</td>\n",
       "      <td>3.0</td>\n",
       "      <td>1.0</td>\n",
       "    </tr>\n",
       "    <tr>\n",
       "      <th>4</th>\n",
       "      <td>61°35'0.0\"</td>\n",
       "      <td>146°2'0.0\"</td>\n",
       "      <td>K</td>\n",
       "      <td>3.0</td>\n",
       "      <td>0.0</td>\n",
       "    </tr>\n",
       "    <tr>\n",
       "      <th>5</th>\n",
       "      <td>68°55'0.0\"</td>\n",
       "      <td>164°24'0.0\"</td>\n",
       "      <td>K</td>\n",
       "      <td>4.0</td>\n",
       "      <td>1.0</td>\n",
       "    </tr>\n",
       "    <tr>\n",
       "      <th>...</th>\n",
       "      <td>...</td>\n",
       "      <td>...</td>\n",
       "      <td>...</td>\n",
       "      <td>...</td>\n",
       "      <td>...</td>\n",
       "    </tr>\n",
       "    <tr>\n",
       "      <th>4653</th>\n",
       "      <td>60°27'0.0\"</td>\n",
       "      <td>150°1'0.0\"</td>\n",
       "      <td>K</td>\n",
       "      <td>3.0</td>\n",
       "      <td>0.0</td>\n",
       "    </tr>\n",
       "    <tr>\n",
       "      <th>4654</th>\n",
       "      <td>46°28'40.0\"</td>\n",
       "      <td>136°34'0.0\"</td>\n",
       "      <td>K</td>\n",
       "      <td>2.0</td>\n",
       "      <td>0.0</td>\n",
       "    </tr>\n",
       "    <tr>\n",
       "      <th>4655</th>\n",
       "      <td>66°42'0.0\"</td>\n",
       "      <td>164°23'0.0\"</td>\n",
       "      <td>K</td>\n",
       "      <td>4.0</td>\n",
       "      <td>0.0</td>\n",
       "    </tr>\n",
       "    <tr>\n",
       "      <th>4656</th>\n",
       "      <td>46°56'30.0\"</td>\n",
       "      <td>137°5'3.0\"</td>\n",
       "      <td>K</td>\n",
       "      <td>2.0</td>\n",
       "      <td>0.0</td>\n",
       "    </tr>\n",
       "    <tr>\n",
       "      <th>4658</th>\n",
       "      <td>60°51'0.0\"</td>\n",
       "      <td>147°31'0.0\"</td>\n",
       "      <td>K</td>\n",
       "      <td>3.0</td>\n",
       "      <td>0.0</td>\n",
       "    </tr>\n",
       "  </tbody>\n",
       "</table>\n",
       "<p>4258 rows × 5 columns</p>\n",
       "</div>"
      ],
      "text/plain": [
       "         Latitude     Longitude time  area    0\n",
       "1     44°31'30.0\"  138°37'30.0\"    K   2.0  1.0\n",
       "2     54°12'10.0\"   119°24'0.0\"   Tr   1.0  1.0\n",
       "3      62°36'0.0\"   155°36'0.0\"    K   3.0  1.0\n",
       "4      61°35'0.0\"    146°2'0.0\"    K   3.0  0.0\n",
       "5      68°55'0.0\"   164°24'0.0\"    K   4.0  1.0\n",
       "...           ...           ...  ...   ...  ...\n",
       "4653   60°27'0.0\"    150°1'0.0\"    K   3.0  0.0\n",
       "4654  46°28'40.0\"   136°34'0.0\"    K   2.0  0.0\n",
       "4655   66°42'0.0\"   164°23'0.0\"    K   4.0  0.0\n",
       "4656  46°56'30.0\"    137°5'3.0\"    K   2.0  0.0\n",
       "4658   60°51'0.0\"   147°31'0.0\"    K   3.0  0.0\n",
       "\n",
       "[4258 rows x 5 columns]"
      ]
     },
     "execution_count": 178,
     "metadata": {},
     "output_type": "execute_result"
    }
   ],
   "source": [
    "cluster_plot"
   ]
  },
  {
   "cell_type": "code",
   "execution_count": 179,
   "metadata": {},
   "outputs": [],
   "source": [
    "cluster_plot.to_excel(\"../_CLUSTER/groups_time_area/Frost/MALI/groups_try.xlsx\", index=True)"
   ]
  },
  {
   "cell_type": "markdown",
   "metadata": {},
   "source": [
    "-----"
   ]
  },
  {
   "cell_type": "markdown",
   "metadata": {},
   "source": [
    "### ASI"
   ]
  },
  {
   "cell_type": "code",
   "execution_count": 181,
   "metadata": {},
   "outputs": [
    {
     "data": {
      "text/html": [
       "<div>\n",
       "<style scoped>\n",
       "    .dataframe tbody tr th:only-of-type {\n",
       "        vertical-align: middle;\n",
       "    }\n",
       "\n",
       "    .dataframe tbody tr th {\n",
       "        vertical-align: top;\n",
       "    }\n",
       "\n",
       "    .dataframe thead th {\n",
       "        text-align: right;\n",
       "    }\n",
       "</style>\n",
       "<table border=\"1\" class=\"dataframe\">\n",
       "  <thead>\n",
       "    <tr style=\"text-align: right;\">\n",
       "      <th></th>\n",
       "      <th>PC01</th>\n",
       "      <th>PC02</th>\n",
       "    </tr>\n",
       "  </thead>\n",
       "  <tbody>\n",
       "    <tr>\n",
       "      <th>1</th>\n",
       "      <td>-3.129589</td>\n",
       "      <td>0.066185</td>\n",
       "    </tr>\n",
       "    <tr>\n",
       "      <th>2</th>\n",
       "      <td>-0.828522</td>\n",
       "      <td>0.218808</td>\n",
       "    </tr>\n",
       "    <tr>\n",
       "      <th>3</th>\n",
       "      <td>-3.109170</td>\n",
       "      <td>0.358199</td>\n",
       "    </tr>\n",
       "    <tr>\n",
       "      <th>4</th>\n",
       "      <td>-3.447589</td>\n",
       "      <td>-0.306264</td>\n",
       "    </tr>\n",
       "    <tr>\n",
       "      <th>5</th>\n",
       "      <td>-2.603669</td>\n",
       "      <td>0.050945</td>\n",
       "    </tr>\n",
       "    <tr>\n",
       "      <th>...</th>\n",
       "      <td>...</td>\n",
       "      <td>...</td>\n",
       "    </tr>\n",
       "    <tr>\n",
       "      <th>4655</th>\n",
       "      <td>5.080092</td>\n",
       "      <td>-0.056126</td>\n",
       "    </tr>\n",
       "    <tr>\n",
       "      <th>4656</th>\n",
       "      <td>4.337160</td>\n",
       "      <td>-0.139548</td>\n",
       "    </tr>\n",
       "    <tr>\n",
       "      <th>4657</th>\n",
       "      <td>5.193980</td>\n",
       "      <td>-0.182987</td>\n",
       "    </tr>\n",
       "    <tr>\n",
       "      <th>4658</th>\n",
       "      <td>4.970317</td>\n",
       "      <td>0.186895</td>\n",
       "    </tr>\n",
       "    <tr>\n",
       "      <th>4659</th>\n",
       "      <td>-1.268960</td>\n",
       "      <td>-0.052774</td>\n",
       "    </tr>\n",
       "  </tbody>\n",
       "</table>\n",
       "<p>4659 rows × 2 columns</p>\n",
       "</div>"
      ],
      "text/plain": [
       "          PC01      PC02\n",
       "1    -3.129589  0.066185\n",
       "2    -0.828522  0.218808\n",
       "3    -3.109170  0.358199\n",
       "4    -3.447589 -0.306264\n",
       "5    -2.603669  0.050945\n",
       "...        ...       ...\n",
       "4655  5.080092 -0.056126\n",
       "4656  4.337160 -0.139548\n",
       "4657  5.193980 -0.182987\n",
       "4658  4.970317  0.186895\n",
       "4659 -1.268960 -0.052774\n",
       "\n",
       "[4659 rows x 2 columns]"
      ]
     },
     "execution_count": 181,
     "metadata": {},
     "output_type": "execute_result"
    }
   ],
   "source": [
    "ASI_pca_df"
   ]
  },
  {
   "cell_type": "code",
   "execution_count": 182,
   "metadata": {},
   "outputs": [
    {
     "data": {
      "image/png": "[encoded data removed]",
      "text/plain": [
       "<Figure size 432x288 with 1 Axes>"
      ]
     },
     "metadata": {
      "needs_background": "light"
     },
     "output_type": "display_data"
    }
   ],
   "source": [
    "sns.scatterplot(x=\"PC01\", y=\"PC02\", data=ASI_pca_df, hue=metadata[\"time\"])\n",
    "plt.show();"
   ]
  },
  {
   "cell_type": "code",
   "execution_count": 187,
   "metadata": {},
   "outputs": [
    {
     "data": {
      "image/png": "[encoded data removed]",
      "text/plain": [
       "<Figure size 432x288 with 1 Axes>"
      ]
     },
     "metadata": {
      "needs_background": "light"
     },
     "output_type": "display_data"
    }
   ],
   "source": [
    "sns.scatterplot(x=\"PC01\", y=\"PC02\", data=ASI_pca_df.loc[area_numbers[area_numbers[\"time\"] == \"Pg\"].index, :])\n",
    "plt.show();"
   ]
  },
  {
   "cell_type": "code",
   "execution_count": 188,
   "metadata": {},
   "outputs": [],
   "source": [
    "def create_dendrogram(data, linkage_method='ward', save=\"\"):\n",
    "    \"\"\"Plot dendrogram\n",
    "    \n",
    "    Parameters:\n",
    "    -----------\n",
    "    data : array or DataFrame\n",
    "        Data to be clustered\n",
    "    linkage_method : str (optional)\n",
    "        Method to use to construct the linkage matrix\n",
    "        Choose between ['single', 'complete', 'average',\n",
    "        'weighted', 'centroid', 'median', 'ward']\n",
    "        For detailed information see \n",
    "        https://docs.scipy.org/doc/scipy-0.14.0/reference/ \\\n",
    "        generated/scipy.cluster.hierarchy.linkage.html\n",
    "    save : str (optional)\n",
    "        Name to use for figure file when saving\n",
    "    \"\"\"\n",
    "    \n",
    "    linkage_matrix = linkage(data, linkage_method)\n",
    "    c, coph_dists = cophenet(linkage_matrix, pdist(data))\n",
    "    print(\"Cophenetic correlation coefficient:\", c)\n",
    "    \n",
    "    plt.figure(figsize=(25, 10))\n",
    "    dendrogram(linkage_matrix, labels=data.index)\n",
    "    if save != \"\":\n",
    "        plt.savefig(f\"../_FIGURES/{save}.pdf\")\n",
    "    plt.show()"
   ]
  },
  {
   "cell_type": "code",
   "execution_count": 189,
   "metadata": {},
   "outputs": [
    {
     "name": "stdout",
     "output_type": "stream",
     "text": [
      "Cophenetic correlation coefficient: 0.7531548541841976\n"
     ]
    },
    {
     "data": {
      "image/png": "[encoded data removed]",
      "text/plain": [
       "<Figure size 1800x720 with 1 Axes>"
      ]
     },
     "metadata": {
      "needs_background": "light"
     },
     "output_type": "display_data"
    },
    {
     "name": "stdout",
     "output_type": "stream",
     "text": [
      "Wall time: 1min 48s\n"
     ]
    }
   ],
   "source": [
    "%%time\n",
    "create_dendrogram(ASI_pca_df, linkage_method='ward')"
   ]
  },
  {
   "cell_type": "code",
   "execution_count": 313,
   "metadata": {},
   "outputs": [
    {
     "data": {
      "text/plain": [
       "array([1, 0, 1, ..., 0, 0, 0], dtype=int64)"
      ]
     },
     "execution_count": 313,
     "metadata": {},
     "output_type": "execute_result"
    }
   ],
   "source": [
    "X = ASI_pca_df.values\n",
    "\n",
    "cluster = AgglomerativeClustering(n_clusters=2, affinity='euclidean', linkage='ward')\n",
    "cluster.fit_predict(X)"
   ]
  },
  {
   "cell_type": "code",
   "execution_count": 314,
   "metadata": {},
   "outputs": [
    {
     "data": {
      "image/png": "[encoded data removed]",
      "text/plain": [
       "<Figure size 432x288 with 1 Axes>"
      ]
     },
     "metadata": {
      "needs_background": "light"
     },
     "output_type": "display_data"
    }
   ],
   "source": [
    "plt.scatter(X[:,0], X[:,1], c=cluster.labels_, cmap='rainbow', s=10)\n",
    "plt.show();"
   ]
  },
  {
   "cell_type": "code",
   "execution_count": 315,
   "metadata": {},
   "outputs": [],
   "source": [
    "# You can call the 'labels_' attribute of 'cluster' here instead of \n",
    "# performing the 'fit_transform' operation again.\n",
    "cluster_groups= pd.DataFrame(data=cluster.labels_)"
   ]
  },
  {
   "cell_type": "code",
   "execution_count": 316,
   "metadata": {},
   "outputs": [
    {
     "data": {
      "text/html": [
       "<div>\n",
       "<style scoped>\n",
       "    .dataframe tbody tr th:only-of-type {\n",
       "        vertical-align: middle;\n",
       "    }\n",
       "\n",
       "    .dataframe tbody tr th {\n",
       "        vertical-align: top;\n",
       "    }\n",
       "\n",
       "    .dataframe thead th {\n",
       "        text-align: right;\n",
       "    }\n",
       "</style>\n",
       "<table border=\"1\" class=\"dataframe\">\n",
       "  <thead>\n",
       "    <tr style=\"text-align: right;\">\n",
       "      <th></th>\n",
       "      <th>0</th>\n",
       "    </tr>\n",
       "  </thead>\n",
       "  <tbody>\n",
       "    <tr>\n",
       "      <th>0</th>\n",
       "      <td>1</td>\n",
       "    </tr>\n",
       "    <tr>\n",
       "      <th>1</th>\n",
       "      <td>0</td>\n",
       "    </tr>\n",
       "    <tr>\n",
       "      <th>2</th>\n",
       "      <td>1</td>\n",
       "    </tr>\n",
       "    <tr>\n",
       "      <th>3</th>\n",
       "      <td>1</td>\n",
       "    </tr>\n",
       "    <tr>\n",
       "      <th>4</th>\n",
       "      <td>1</td>\n",
       "    </tr>\n",
       "    <tr>\n",
       "      <th>...</th>\n",
       "      <td>...</td>\n",
       "    </tr>\n",
       "    <tr>\n",
       "      <th>4654</th>\n",
       "      <td>0</td>\n",
       "    </tr>\n",
       "    <tr>\n",
       "      <th>4655</th>\n",
       "      <td>0</td>\n",
       "    </tr>\n",
       "    <tr>\n",
       "      <th>4656</th>\n",
       "      <td>0</td>\n",
       "    </tr>\n",
       "    <tr>\n",
       "      <th>4657</th>\n",
       "      <td>0</td>\n",
       "    </tr>\n",
       "    <tr>\n",
       "      <th>4658</th>\n",
       "      <td>0</td>\n",
       "    </tr>\n",
       "  </tbody>\n",
       "</table>\n",
       "<p>4659 rows × 1 columns</p>\n",
       "</div>"
      ],
      "text/plain": [
       "      0\n",
       "0     1\n",
       "1     0\n",
       "2     1\n",
       "3     1\n",
       "4     1\n",
       "...  ..\n",
       "4654  0\n",
       "4655  0\n",
       "4656  0\n",
       "4657  0\n",
       "4658  0\n",
       "\n",
       "[4659 rows x 1 columns]"
      ]
     },
     "execution_count": 316,
     "metadata": {},
     "output_type": "execute_result"
    }
   ],
   "source": [
    "cluster_groups"
   ]
  },
  {
   "cell_type": "code",
   "execution_count": 317,
   "metadata": {},
   "outputs": [],
   "source": [
    "area_numbers = pd.read_excel(\"../_INTERPOLATION/area_subdivided.xlsx\", index_col=0, usecols=[0, 24, 29])"
   ]
  },
  {
   "cell_type": "code",
   "execution_count": 318,
   "metadata": {},
   "outputs": [],
   "source": [
    "clustering = pd.concat([area_numbers, cluster_groups], axis = 1)\n",
    "clustering = clustering.dropna()"
   ]
  },
  {
   "cell_type": "code",
   "execution_count": 319,
   "metadata": {},
   "outputs": [
    {
     "data": {
      "text/html": [
       "<div>\n",
       "<style scoped>\n",
       "    .dataframe tbody tr th:only-of-type {\n",
       "        vertical-align: middle;\n",
       "    }\n",
       "\n",
       "    .dataframe tbody tr th {\n",
       "        vertical-align: top;\n",
       "    }\n",
       "\n",
       "    .dataframe thead th {\n",
       "        text-align: right;\n",
       "    }\n",
       "</style>\n",
       "<table border=\"1\" class=\"dataframe\">\n",
       "  <thead>\n",
       "    <tr style=\"text-align: right;\">\n",
       "      <th></th>\n",
       "      <th>time</th>\n",
       "      <th>area</th>\n",
       "      <th>0</th>\n",
       "    </tr>\n",
       "  </thead>\n",
       "  <tbody>\n",
       "    <tr>\n",
       "      <th>1</th>\n",
       "      <td>K</td>\n",
       "      <td>2.0</td>\n",
       "      <td>0.0</td>\n",
       "    </tr>\n",
       "    <tr>\n",
       "      <th>2</th>\n",
       "      <td>Tr</td>\n",
       "      <td>1.0</td>\n",
       "      <td>1.0</td>\n",
       "    </tr>\n",
       "    <tr>\n",
       "      <th>3</th>\n",
       "      <td>K</td>\n",
       "      <td>3.0</td>\n",
       "      <td>1.0</td>\n",
       "    </tr>\n",
       "    <tr>\n",
       "      <th>4</th>\n",
       "      <td>K</td>\n",
       "      <td>3.0</td>\n",
       "      <td>1.0</td>\n",
       "    </tr>\n",
       "    <tr>\n",
       "      <th>5</th>\n",
       "      <td>K</td>\n",
       "      <td>4.0</td>\n",
       "      <td>0.0</td>\n",
       "    </tr>\n",
       "    <tr>\n",
       "      <th>...</th>\n",
       "      <td>...</td>\n",
       "      <td>...</td>\n",
       "      <td>...</td>\n",
       "    </tr>\n",
       "    <tr>\n",
       "      <th>4653</th>\n",
       "      <td>K</td>\n",
       "      <td>3.0</td>\n",
       "      <td>0.0</td>\n",
       "    </tr>\n",
       "    <tr>\n",
       "      <th>4654</th>\n",
       "      <td>K</td>\n",
       "      <td>2.0</td>\n",
       "      <td>0.0</td>\n",
       "    </tr>\n",
       "    <tr>\n",
       "      <th>4655</th>\n",
       "      <td>K</td>\n",
       "      <td>4.0</td>\n",
       "      <td>0.0</td>\n",
       "    </tr>\n",
       "    <tr>\n",
       "      <th>4656</th>\n",
       "      <td>K</td>\n",
       "      <td>2.0</td>\n",
       "      <td>0.0</td>\n",
       "    </tr>\n",
       "    <tr>\n",
       "      <th>4658</th>\n",
       "      <td>K</td>\n",
       "      <td>3.0</td>\n",
       "      <td>0.0</td>\n",
       "    </tr>\n",
       "  </tbody>\n",
       "</table>\n",
       "<p>4258 rows × 3 columns</p>\n",
       "</div>"
      ],
      "text/plain": [
       "     time  area    0\n",
       "1       K   2.0  0.0\n",
       "2      Tr   1.0  1.0\n",
       "3       K   3.0  1.0\n",
       "4       K   3.0  1.0\n",
       "5       K   4.0  0.0\n",
       "...   ...   ...  ...\n",
       "4653    K   3.0  0.0\n",
       "4654    K   2.0  0.0\n",
       "4655    K   4.0  0.0\n",
       "4656    K   2.0  0.0\n",
       "4658    K   3.0  0.0\n",
       "\n",
       "[4258 rows x 3 columns]"
      ]
     },
     "execution_count": 319,
     "metadata": {},
     "output_type": "execute_result"
    }
   ],
   "source": [
    "clustering"
   ]
  },
  {
   "cell_type": "code",
   "execution_count": 320,
   "metadata": {},
   "outputs": [],
   "source": [
    "clustering.to_excel(\"../_CLUSTER/groups_time_area/Frost/ASI/cluster_control_points.xlsx\", index=True)"
   ]
  },
  {
   "cell_type": "code",
   "execution_count": 321,
   "metadata": {},
   "outputs": [],
   "source": [
    "clustering.iloc[:, 2].value_counts().to_excel(\"../_CLUSTER/groups_time_area/Frost/ASI/control_points_count.xlsx\")"
   ]
  },
  {
   "cell_type": "code",
   "execution_count": null,
   "metadata": {},
   "outputs": [],
   "source": []
  },
  {
   "cell_type": "code",
   "execution_count": 322,
   "metadata": {},
   "outputs": [],
   "source": [
    "clustering1= clustering.loc[clustering['area'] == 1]\n",
    "clustering2= clustering.loc[clustering['area'] == 2]\n",
    "clustering3= clustering.loc[clustering['area'] == 3]\n",
    "clustering4= clustering.loc[clustering['area'] == 4]\n",
    "clustering5= clustering.loc[clustering['area'] == 5]"
   ]
  },
  {
   "cell_type": "code",
   "execution_count": 323,
   "metadata": {},
   "outputs": [],
   "source": [
    "clustering1_J = clustering1.loc[clustering1['time'] == 'J']\n",
    "clustering1_Tr = clustering1.loc[clustering1['time'] == 'Tr']\n",
    "clustering1_Tr_J = clustering1.loc[clustering1['time'] == 'Tr-J']\n",
    "clustering1_Mz = clustering1.loc[clustering1['time'] == 'Mz']\n",
    "clustering1_K = clustering1.loc[clustering1['time'] == 'K']\n",
    "\n",
    "clustering1_J.iloc[:, 2].value_counts().to_excel(\"../_CLUSTER/groups_time_area/Frost/ASI/groups_counts_area1_J.xlsx\")\n",
    "clustering1_Tr.iloc[:, 2].value_counts().to_excel(\"../_CLUSTER/groups_time_area/Frost/ASI/groups_counts_area1_Tr.xlsx\")\n",
    "clustering1_Tr_J.iloc[:, 2].value_counts().to_excel(\"../_CLUSTER/groups_time_area/Frost/ASI/groups_counts_area1_Tr_J.xlsx\")\n",
    "clustering1_Mz.iloc[:, 2].value_counts().to_excel(\"../_CLUSTER/groups_time_area/Frost/ASI/groups_counts_area1_Mz.xlsx\")\n",
    "clustering1_K.iloc[:, 2].value_counts().to_excel(\"../_CLUSTER/groups_time_area/Frost/ASI/groups_counts_area1_K.xlsx\")"
   ]
  },
  {
   "cell_type": "code",
   "execution_count": 324,
   "metadata": {},
   "outputs": [],
   "source": [
    "clustering2_J = clustering2.loc[clustering2['time'] == 'J']\n",
    "clustering2_Tr = clustering2.loc[clustering2['time'] == 'Tr']\n",
    "clustering2_Pg = clustering2.loc[clustering2['time'] == 'Pg']\n",
    "clustering2_K = clustering2.loc[clustering2['time'] == 'K']\n",
    "\n",
    "clustering2_J.iloc[:, 2].value_counts().to_excel(\"../_CLUSTER/groups_time_area/Frost/ASI/groups_counts_area2_J.xlsx\")\n",
    "clustering2_Tr.iloc[:, 2].value_counts().to_excel(\"../_CLUSTER/groups_time_area/Frost/ASI/groups_counts_area2_Tr.xlsx\")\n",
    "clustering2_Pg.iloc[:, 2].value_counts().to_excel(\"../_CLUSTER/groups_time_area/Frost/ASI/groups_counts_area2_Pg.xlsx\")\n",
    "clustering2_K.iloc[:, 2].value_counts().to_excel(\"../_CLUSTER/groups_time_area/Frost/ASI/groups_counts_area2_K.xlsx\")"
   ]
  },
  {
   "cell_type": "code",
   "execution_count": 325,
   "metadata": {},
   "outputs": [],
   "source": [
    "clustering3_J = clustering3.loc[clustering3['time'] == 'J']\n",
    "clustering3_Tr = clustering3.loc[clustering3['time'] == 'Tr']\n",
    "clustering3_Pg = clustering3.loc[clustering3['time'] == 'Pg']\n",
    "clustering3_K = clustering3.loc[clustering3['time'] == 'K']\n",
    "\n",
    "clustering3_J.iloc[:, 2].value_counts().to_excel(\"../_CLUSTER/groups_time_area/Frost/ASI/groups_counts_area3_J.xlsx\")\n",
    "clustering3_Tr.iloc[:, 2].value_counts().to_excel(\"../_CLUSTER/groups_time_area/Frost/ASI/groups_counts_area3_Tr.xlsx\")\n",
    "clustering3_Pg.iloc[:, 2].value_counts().to_excel(\"../_CLUSTER/groups_time_area/Frost/ASI/groups_counts_area3_Pg.xlsx\")\n",
    "clustering3_K.iloc[:, 2].value_counts().to_excel(\"../_CLUSTER/groups_time_area/Frost/ASI/groups_counts_area3_K.xlsx\")"
   ]
  },
  {
   "cell_type": "code",
   "execution_count": 326,
   "metadata": {},
   "outputs": [],
   "source": [
    "clustering4_J = clustering4.loc[clustering4['time'] == 'J']\n",
    "clustering4_Mz = clustering4.loc[clustering4['time'] == 'Mz']\n",
    "clustering4_Pg = clustering4.loc[clustering4['time'] == 'Pg']\n",
    "clustering4_K = clustering4.loc[clustering4['time'] == 'K']\n",
    "\n",
    "clustering4_J.iloc[:, 2].value_counts().to_excel(\"../_CLUSTER/groups_time_area/Frost/ASI/groups_counts_area4_J.xlsx\")\n",
    "clustering4_Mz.iloc[:, 2].value_counts().to_excel(\"../_CLUSTER/groups_time_area/Frost/ASI/groups_counts_area4_Mz.xlsx\")\n",
    "clustering4_Pg.iloc[:, 2].value_counts().to_excel(\"../_CLUSTER/groups_time_area/Frost/ASI/groups_counts_area4_Pg.xlsx\")\n",
    "clustering4_K.iloc[:, 2].value_counts().to_excel(\"../_CLUSTER/groups_time_area/Frost/ASI/groups_counts_area4_K.xlsx\")"
   ]
  },
  {
   "cell_type": "code",
   "execution_count": 327,
   "metadata": {},
   "outputs": [],
   "source": [
    "clustering5_Mz = clustering5.loc[clustering5['time'] == 'Mz']\n",
    "clustering5_Pg = clustering5.loc[clustering5['time'] == 'Pg']\n",
    "clustering5_K = clustering5.loc[clustering5['time'] == 'K']\n",
    "\n",
    "clustering5_Mz.iloc[:, 2].value_counts().to_excel(\"../_CLUSTER/groups_time_area/Frost/ASI/groups_counts_area5_Mz.xlsx\")\n",
    "clustering5_Pg.iloc[:, 2].value_counts().to_excel(\"../_CLUSTER/groups_time_area/Frost/ASI/groups_counts_area5_Pg.xlsx\")\n",
    "clustering5_K.iloc[:, 2].value_counts().to_excel(\"../_CLUSTER/groups_time_area/Frost/ASI/groups_counts_area5_K.xlsx\")"
   ]
  },
  {
   "cell_type": "code",
   "execution_count": 328,
   "metadata": {},
   "outputs": [],
   "source": [
    "cluster_plot = pd.concat([coordinates, clustering], axis=1)\n",
    "cluster_plot = cluster_plot.dropna()"
   ]
  },
  {
   "cell_type": "code",
   "execution_count": 329,
   "metadata": {},
   "outputs": [
    {
     "data": {
      "text/html": [
       "<div>\n",
       "<style scoped>\n",
       "    .dataframe tbody tr th:only-of-type {\n",
       "        vertical-align: middle;\n",
       "    }\n",
       "\n",
       "    .dataframe tbody tr th {\n",
       "        vertical-align: top;\n",
       "    }\n",
       "\n",
       "    .dataframe thead th {\n",
       "        text-align: right;\n",
       "    }\n",
       "</style>\n",
       "<table border=\"1\" class=\"dataframe\">\n",
       "  <thead>\n",
       "    <tr style=\"text-align: right;\">\n",
       "      <th></th>\n",
       "      <th>Latitude</th>\n",
       "      <th>Longitude</th>\n",
       "      <th>time</th>\n",
       "      <th>area</th>\n",
       "      <th>0</th>\n",
       "    </tr>\n",
       "  </thead>\n",
       "  <tbody>\n",
       "    <tr>\n",
       "      <th>1</th>\n",
       "      <td>44°31'30.0\"</td>\n",
       "      <td>138°37'30.0\"</td>\n",
       "      <td>K</td>\n",
       "      <td>2.0</td>\n",
       "      <td>0.0</td>\n",
       "    </tr>\n",
       "    <tr>\n",
       "      <th>2</th>\n",
       "      <td>54°12'10.0\"</td>\n",
       "      <td>119°24'0.0\"</td>\n",
       "      <td>Tr</td>\n",
       "      <td>1.0</td>\n",
       "      <td>1.0</td>\n",
       "    </tr>\n",
       "    <tr>\n",
       "      <th>3</th>\n",
       "      <td>62°36'0.0\"</td>\n",
       "      <td>155°36'0.0\"</td>\n",
       "      <td>K</td>\n",
       "      <td>3.0</td>\n",
       "      <td>1.0</td>\n",
       "    </tr>\n",
       "    <tr>\n",
       "      <th>4</th>\n",
       "      <td>61°35'0.0\"</td>\n",
       "      <td>146°2'0.0\"</td>\n",
       "      <td>K</td>\n",
       "      <td>3.0</td>\n",
       "      <td>1.0</td>\n",
       "    </tr>\n",
       "    <tr>\n",
       "      <th>5</th>\n",
       "      <td>68°55'0.0\"</td>\n",
       "      <td>164°24'0.0\"</td>\n",
       "      <td>K</td>\n",
       "      <td>4.0</td>\n",
       "      <td>0.0</td>\n",
       "    </tr>\n",
       "    <tr>\n",
       "      <th>...</th>\n",
       "      <td>...</td>\n",
       "      <td>...</td>\n",
       "      <td>...</td>\n",
       "      <td>...</td>\n",
       "      <td>...</td>\n",
       "    </tr>\n",
       "    <tr>\n",
       "      <th>4653</th>\n",
       "      <td>60°27'0.0\"</td>\n",
       "      <td>150°1'0.0\"</td>\n",
       "      <td>K</td>\n",
       "      <td>3.0</td>\n",
       "      <td>0.0</td>\n",
       "    </tr>\n",
       "    <tr>\n",
       "      <th>4654</th>\n",
       "      <td>46°28'40.0\"</td>\n",
       "      <td>136°34'0.0\"</td>\n",
       "      <td>K</td>\n",
       "      <td>2.0</td>\n",
       "      <td>0.0</td>\n",
       "    </tr>\n",
       "    <tr>\n",
       "      <th>4655</th>\n",
       "      <td>66°42'0.0\"</td>\n",
       "      <td>164°23'0.0\"</td>\n",
       "      <td>K</td>\n",
       "      <td>4.0</td>\n",
       "      <td>0.0</td>\n",
       "    </tr>\n",
       "    <tr>\n",
       "      <th>4656</th>\n",
       "      <td>46°56'30.0\"</td>\n",
       "      <td>137°5'3.0\"</td>\n",
       "      <td>K</td>\n",
       "      <td>2.0</td>\n",
       "      <td>0.0</td>\n",
       "    </tr>\n",
       "    <tr>\n",
       "      <th>4658</th>\n",
       "      <td>60°51'0.0\"</td>\n",
       "      <td>147°31'0.0\"</td>\n",
       "      <td>K</td>\n",
       "      <td>3.0</td>\n",
       "      <td>0.0</td>\n",
       "    </tr>\n",
       "  </tbody>\n",
       "</table>\n",
       "<p>4258 rows × 5 columns</p>\n",
       "</div>"
      ],
      "text/plain": [
       "         Latitude     Longitude time  area    0\n",
       "1     44°31'30.0\"  138°37'30.0\"    K   2.0  0.0\n",
       "2     54°12'10.0\"   119°24'0.0\"   Tr   1.0  1.0\n",
       "3      62°36'0.0\"   155°36'0.0\"    K   3.0  1.0\n",
       "4      61°35'0.0\"    146°2'0.0\"    K   3.0  1.0\n",
       "5      68°55'0.0\"   164°24'0.0\"    K   4.0  0.0\n",
       "...           ...           ...  ...   ...  ...\n",
       "4653   60°27'0.0\"    150°1'0.0\"    K   3.0  0.0\n",
       "4654  46°28'40.0\"   136°34'0.0\"    K   2.0  0.0\n",
       "4655   66°42'0.0\"   164°23'0.0\"    K   4.0  0.0\n",
       "4656  46°56'30.0\"    137°5'3.0\"    K   2.0  0.0\n",
       "4658   60°51'0.0\"   147°31'0.0\"    K   3.0  0.0\n",
       "\n",
       "[4258 rows x 5 columns]"
      ]
     },
     "execution_count": 329,
     "metadata": {},
     "output_type": "execute_result"
    }
   ],
   "source": [
    "cluster_plot"
   ]
  },
  {
   "cell_type": "code",
   "execution_count": null,
   "metadata": {},
   "outputs": [],
   "source": []
  },
  {
   "cell_type": "code",
   "execution_count": 330,
   "metadata": {},
   "outputs": [],
   "source": [
    "cluster_plot.to_excel(\"../_CLUSTER/groups_time_area/Frost/ASI/groups_try.xlsx\", index=True)"
   ]
  },
  {
   "cell_type": "markdown",
   "metadata": {},
   "source": [
    "----"
   ]
  },
  {
   "cell_type": "markdown",
   "metadata": {},
   "source": [
    "### combined groups"
   ]
  },
  {
   "cell_type": "code",
   "execution_count": 331,
   "metadata": {},
   "outputs": [],
   "source": [
    "cluster_Fe = pd.read_excel(\"../_CLUSTER/groups_time_area/Frost/Fe/cluster_control_points.xlsx\", index=True, usecols =[0, 1, 2, 3])\n",
    "cluster_MALI = pd.read_excel(\"../_CLUSTER/groups_time_area/Frost/MALI/cluster_control_points.xlsx\", index=True, usecols =[0, 3])\n",
    "cluster_ASI = pd.read_excel(\"../_CLUSTER/groups_time_area/Frost/ASI/cluster_control_points.xlsx\", index=True, usecols =[0, 3])"
   ]
  },
  {
   "cell_type": "code",
   "execution_count": 332,
   "metadata": {},
   "outputs": [],
   "source": [
    "cluster_Fe.columns = [\"index\", \"time\", \"area\", \"group1\"]\n",
    "cluster_Fe = cluster_Fe.set_index('index')\n",
    "\n",
    "cluster_MALI.columns = [\"index\", \"group2\"]\n",
    "cluster_MALI = cluster_MALI.set_index('index')\n",
    "\n",
    "cluster_ASI.columns = [\"index\", \"group3\"]\n",
    "cluster_ASI = cluster_ASI.set_index('index')\n"
   ]
  },
  {
   "cell_type": "code",
   "execution_count": 333,
   "metadata": {},
   "outputs": [],
   "source": [
    "cluster_Fe[\"group1\"] = (cluster_Fe[\"group1\"] +1) \n",
    "cluster_MALI[\"group2\"] = (cluster_MALI[\"group2\"] +1) * 10\n",
    "cluster_ASI[\"group3\"] = (cluster_ASI[\"group3\"] +1) * 100"
   ]
  },
  {
   "cell_type": "code",
   "execution_count": 334,
   "metadata": {},
   "outputs": [
    {
     "data": {
      "text/html": [
       "<div>\n",
       "<style scoped>\n",
       "    .dataframe tbody tr th:only-of-type {\n",
       "        vertical-align: middle;\n",
       "    }\n",
       "\n",
       "    .dataframe tbody tr th {\n",
       "        vertical-align: top;\n",
       "    }\n",
       "\n",
       "    .dataframe thead th {\n",
       "        text-align: right;\n",
       "    }\n",
       "</style>\n",
       "<table border=\"1\" class=\"dataframe\">\n",
       "  <thead>\n",
       "    <tr style=\"text-align: right;\">\n",
       "      <th></th>\n",
       "      <th>group3</th>\n",
       "    </tr>\n",
       "    <tr>\n",
       "      <th>index</th>\n",
       "      <th></th>\n",
       "    </tr>\n",
       "  </thead>\n",
       "  <tbody>\n",
       "    <tr>\n",
       "      <th>1</th>\n",
       "      <td>100</td>\n",
       "    </tr>\n",
       "    <tr>\n",
       "      <th>2</th>\n",
       "      <td>200</td>\n",
       "    </tr>\n",
       "    <tr>\n",
       "      <th>3</th>\n",
       "      <td>200</td>\n",
       "    </tr>\n",
       "    <tr>\n",
       "      <th>4</th>\n",
       "      <td>200</td>\n",
       "    </tr>\n",
       "    <tr>\n",
       "      <th>5</th>\n",
       "      <td>100</td>\n",
       "    </tr>\n",
       "    <tr>\n",
       "      <th>...</th>\n",
       "      <td>...</td>\n",
       "    </tr>\n",
       "    <tr>\n",
       "      <th>4653</th>\n",
       "      <td>100</td>\n",
       "    </tr>\n",
       "    <tr>\n",
       "      <th>4654</th>\n",
       "      <td>100</td>\n",
       "    </tr>\n",
       "    <tr>\n",
       "      <th>4655</th>\n",
       "      <td>100</td>\n",
       "    </tr>\n",
       "    <tr>\n",
       "      <th>4656</th>\n",
       "      <td>100</td>\n",
       "    </tr>\n",
       "    <tr>\n",
       "      <th>4658</th>\n",
       "      <td>100</td>\n",
       "    </tr>\n",
       "  </tbody>\n",
       "</table>\n",
       "<p>4258 rows × 1 columns</p>\n",
       "</div>"
      ],
      "text/plain": [
       "       group3\n",
       "index        \n",
       "1         100\n",
       "2         200\n",
       "3         200\n",
       "4         200\n",
       "5         100\n",
       "...       ...\n",
       "4653      100\n",
       "4654      100\n",
       "4655      100\n",
       "4656      100\n",
       "4658      100\n",
       "\n",
       "[4258 rows x 1 columns]"
      ]
     },
     "execution_count": 334,
     "metadata": {},
     "output_type": "execute_result"
    }
   ],
   "source": [
    "cluster_ASI"
   ]
  },
  {
   "cell_type": "code",
   "execution_count": 335,
   "metadata": {},
   "outputs": [
    {
     "data": {
      "text/html": [
       "<div>\n",
       "<style scoped>\n",
       "    .dataframe tbody tr th:only-of-type {\n",
       "        vertical-align: middle;\n",
       "    }\n",
       "\n",
       "    .dataframe tbody tr th {\n",
       "        vertical-align: top;\n",
       "    }\n",
       "\n",
       "    .dataframe thead th {\n",
       "        text-align: right;\n",
       "    }\n",
       "</style>\n",
       "<table border=\"1\" class=\"dataframe\">\n",
       "  <thead>\n",
       "    <tr style=\"text-align: right;\">\n",
       "      <th></th>\n",
       "      <th>time</th>\n",
       "      <th>area</th>\n",
       "      <th>group1</th>\n",
       "    </tr>\n",
       "    <tr>\n",
       "      <th>index</th>\n",
       "      <th></th>\n",
       "      <th></th>\n",
       "      <th></th>\n",
       "    </tr>\n",
       "  </thead>\n",
       "  <tbody>\n",
       "    <tr>\n",
       "      <th>1</th>\n",
       "      <td>K</td>\n",
       "      <td>2</td>\n",
       "      <td>1</td>\n",
       "    </tr>\n",
       "    <tr>\n",
       "      <th>2</th>\n",
       "      <td>Tr</td>\n",
       "      <td>1</td>\n",
       "      <td>1</td>\n",
       "    </tr>\n",
       "    <tr>\n",
       "      <th>3</th>\n",
       "      <td>K</td>\n",
       "      <td>3</td>\n",
       "      <td>1</td>\n",
       "    </tr>\n",
       "    <tr>\n",
       "      <th>4</th>\n",
       "      <td>K</td>\n",
       "      <td>3</td>\n",
       "      <td>1</td>\n",
       "    </tr>\n",
       "    <tr>\n",
       "      <th>5</th>\n",
       "      <td>K</td>\n",
       "      <td>4</td>\n",
       "      <td>1</td>\n",
       "    </tr>\n",
       "    <tr>\n",
       "      <th>...</th>\n",
       "      <td>...</td>\n",
       "      <td>...</td>\n",
       "      <td>...</td>\n",
       "    </tr>\n",
       "    <tr>\n",
       "      <th>4653</th>\n",
       "      <td>K</td>\n",
       "      <td>3</td>\n",
       "      <td>2</td>\n",
       "    </tr>\n",
       "    <tr>\n",
       "      <th>4654</th>\n",
       "      <td>K</td>\n",
       "      <td>2</td>\n",
       "      <td>2</td>\n",
       "    </tr>\n",
       "    <tr>\n",
       "      <th>4655</th>\n",
       "      <td>K</td>\n",
       "      <td>4</td>\n",
       "      <td>2</td>\n",
       "    </tr>\n",
       "    <tr>\n",
       "      <th>4656</th>\n",
       "      <td>K</td>\n",
       "      <td>2</td>\n",
       "      <td>2</td>\n",
       "    </tr>\n",
       "    <tr>\n",
       "      <th>4658</th>\n",
       "      <td>K</td>\n",
       "      <td>3</td>\n",
       "      <td>2</td>\n",
       "    </tr>\n",
       "  </tbody>\n",
       "</table>\n",
       "<p>4258 rows × 3 columns</p>\n",
       "</div>"
      ],
      "text/plain": [
       "      time  area  group1\n",
       "index                   \n",
       "1        K     2       1\n",
       "2       Tr     1       1\n",
       "3        K     3       1\n",
       "4        K     3       1\n",
       "5        K     4       1\n",
       "...    ...   ...     ...\n",
       "4653     K     3       2\n",
       "4654     K     2       2\n",
       "4655     K     4       2\n",
       "4656     K     2       2\n",
       "4658     K     3       2\n",
       "\n",
       "[4258 rows x 3 columns]"
      ]
     },
     "execution_count": 335,
     "metadata": {},
     "output_type": "execute_result"
    }
   ],
   "source": [
    "cluster_Fe"
   ]
  },
  {
   "cell_type": "code",
   "execution_count": 336,
   "metadata": {},
   "outputs": [],
   "source": [
    "cluster_frost = pd.concat([cluster_Fe, cluster_MALI, cluster_ASI], axis = 1)"
   ]
  },
  {
   "cell_type": "code",
   "execution_count": 337,
   "metadata": {},
   "outputs": [],
   "source": [
    "cluster_frost['group'] = cluster_frost['group1']+cluster_frost['group2']+cluster_frost['group3']"
   ]
  },
  {
   "cell_type": "code",
   "execution_count": 338,
   "metadata": {},
   "outputs": [],
   "source": [
    "cluster_frost = cluster_frost.drop('group1', 1)\n",
    "cluster_frost = cluster_frost.drop('group2', 1)\n",
    "cluster_frost = cluster_frost.drop('group3', 1)"
   ]
  },
  {
   "cell_type": "code",
   "execution_count": 339,
   "metadata": {},
   "outputs": [
    {
     "data": {
      "text/html": [
       "<div>\n",
       "<style scoped>\n",
       "    .dataframe tbody tr th:only-of-type {\n",
       "        vertical-align: middle;\n",
       "    }\n",
       "\n",
       "    .dataframe tbody tr th {\n",
       "        vertical-align: top;\n",
       "    }\n",
       "\n",
       "    .dataframe thead th {\n",
       "        text-align: right;\n",
       "    }\n",
       "</style>\n",
       "<table border=\"1\" class=\"dataframe\">\n",
       "  <thead>\n",
       "    <tr style=\"text-align: right;\">\n",
       "      <th></th>\n",
       "      <th>time</th>\n",
       "      <th>area</th>\n",
       "      <th>group</th>\n",
       "    </tr>\n",
       "    <tr>\n",
       "      <th>index</th>\n",
       "      <th></th>\n",
       "      <th></th>\n",
       "      <th></th>\n",
       "    </tr>\n",
       "  </thead>\n",
       "  <tbody>\n",
       "    <tr>\n",
       "      <th>1</th>\n",
       "      <td>K</td>\n",
       "      <td>2</td>\n",
       "      <td>121</td>\n",
       "    </tr>\n",
       "    <tr>\n",
       "      <th>2</th>\n",
       "      <td>Tr</td>\n",
       "      <td>1</td>\n",
       "      <td>221</td>\n",
       "    </tr>\n",
       "    <tr>\n",
       "      <th>3</th>\n",
       "      <td>K</td>\n",
       "      <td>3</td>\n",
       "      <td>221</td>\n",
       "    </tr>\n",
       "    <tr>\n",
       "      <th>4</th>\n",
       "      <td>K</td>\n",
       "      <td>3</td>\n",
       "      <td>211</td>\n",
       "    </tr>\n",
       "    <tr>\n",
       "      <th>5</th>\n",
       "      <td>K</td>\n",
       "      <td>4</td>\n",
       "      <td>121</td>\n",
       "    </tr>\n",
       "    <tr>\n",
       "      <th>...</th>\n",
       "      <td>...</td>\n",
       "      <td>...</td>\n",
       "      <td>...</td>\n",
       "    </tr>\n",
       "    <tr>\n",
       "      <th>4653</th>\n",
       "      <td>K</td>\n",
       "      <td>3</td>\n",
       "      <td>112</td>\n",
       "    </tr>\n",
       "    <tr>\n",
       "      <th>4654</th>\n",
       "      <td>K</td>\n",
       "      <td>2</td>\n",
       "      <td>112</td>\n",
       "    </tr>\n",
       "    <tr>\n",
       "      <th>4655</th>\n",
       "      <td>K</td>\n",
       "      <td>4</td>\n",
       "      <td>112</td>\n",
       "    </tr>\n",
       "    <tr>\n",
       "      <th>4656</th>\n",
       "      <td>K</td>\n",
       "      <td>2</td>\n",
       "      <td>112</td>\n",
       "    </tr>\n",
       "    <tr>\n",
       "      <th>4658</th>\n",
       "      <td>K</td>\n",
       "      <td>3</td>\n",
       "      <td>112</td>\n",
       "    </tr>\n",
       "  </tbody>\n",
       "</table>\n",
       "<p>4258 rows × 3 columns</p>\n",
       "</div>"
      ],
      "text/plain": [
       "      time  area  group\n",
       "index                  \n",
       "1        K     2    121\n",
       "2       Tr     1    221\n",
       "3        K     3    221\n",
       "4        K     3    211\n",
       "5        K     4    121\n",
       "...    ...   ...    ...\n",
       "4653     K     3    112\n",
       "4654     K     2    112\n",
       "4655     K     4    112\n",
       "4656     K     2    112\n",
       "4658     K     3    112\n",
       "\n",
       "[4258 rows x 3 columns]"
      ]
     },
     "execution_count": 339,
     "metadata": {},
     "output_type": "execute_result"
    }
   ],
   "source": [
    "cluster_frost"
   ]
  },
  {
   "cell_type": "code",
   "execution_count": 340,
   "metadata": {},
   "outputs": [],
   "source": [
    "cluster_frost.to_excel(\"../_CLUSTER/groups_time_area/Frost/combined/cluster_control_points.xlsx\", index=True)"
   ]
  },
  {
   "cell_type": "code",
   "execution_count": 341,
   "metadata": {},
   "outputs": [],
   "source": [
    "cluster_frost.iloc[:, 2].value_counts().to_excel(\"../_CLUSTER/groups_time_area/Frost/combined/control_points_count.xlsx\")"
   ]
  },
  {
   "cell_type": "code",
   "execution_count": null,
   "metadata": {},
   "outputs": [],
   "source": []
  },
  {
   "cell_type": "code",
   "execution_count": 342,
   "metadata": {},
   "outputs": [],
   "source": [
    "clustering1= cluster_frost.loc[cluster_frost['area'] == 1]\n",
    "clustering2= cluster_frost.loc[cluster_frost['area'] == 2]\n",
    "clustering3= cluster_frost.loc[cluster_frost['area'] == 3]\n",
    "clustering4= cluster_frost.loc[cluster_frost['area'] == 4]\n",
    "clustering5= cluster_frost.loc[cluster_frost['area'] == 5]"
   ]
  },
  {
   "cell_type": "code",
   "execution_count": 343,
   "metadata": {},
   "outputs": [],
   "source": [
    "clustering1_J = clustering1.loc[clustering1['time'] == 'J']\n",
    "clustering1_Tr = clustering1.loc[clustering1['time'] == 'Tr']\n",
    "clustering1_Tr_J = clustering1.loc[clustering1['time'] == 'Tr-J']\n",
    "clustering1_Mz = clustering1.loc[clustering1['time'] == 'Mz']\n",
    "clustering1_K = clustering1.loc[clustering1['time'] == 'K']\n",
    "\n",
    "clustering1_J.iloc[:, 2].value_counts().to_excel(\"../_CLUSTER/groups_time_area/Frost/combined/groups_counts_area1_J.xlsx\")\n",
    "clustering1_Tr.iloc[:, 2].value_counts().to_excel(\"../_CLUSTER/groups_time_area/Frost/combined/groups_counts_area1_Tr.xlsx\")\n",
    "clustering1_Tr_J.iloc[:, 2].value_counts().to_excel(\"../_CLUSTER/groups_time_area/Frost/combined/groups_counts_area1_Tr_J.xlsx\")\n",
    "clustering1_Mz.iloc[:, 2].value_counts().to_excel(\"../_CLUSTER/groups_time_area/Frost/combined/groups_counts_area1_Mz.xlsx\")\n",
    "clustering1_K.iloc[:, 2].value_counts().to_excel(\"../_CLUSTER/groups_time_area/Frost/combined/groups_counts_area1_K.xlsx\")"
   ]
  },
  {
   "cell_type": "code",
   "execution_count": 344,
   "metadata": {},
   "outputs": [],
   "source": [
    "clustering2_J = clustering2.loc[clustering2['time'] == 'J']\n",
    "clustering2_Tr = clustering2.loc[clustering2['time'] == 'Tr']\n",
    "clustering2_Pg = clustering2.loc[clustering2['time'] == 'Pg']\n",
    "clustering2_K = clustering2.loc[clustering2['time'] == 'K']\n",
    "\n",
    "clustering2_J.iloc[:, 2].value_counts().to_excel(\"../_CLUSTER/groups_time_area/Frost/combined/groups_counts_area2_J.xlsx\")\n",
    "clustering2_Tr.iloc[:, 2].value_counts().to_excel(\"../_CLUSTER/groups_time_area/Frost/combined/groups_counts_area2_Tr.xlsx\")\n",
    "clustering2_Pg.iloc[:, 2].value_counts().to_excel(\"../_CLUSTER/groups_time_area/Frost/combined/groups_counts_area2_Pg.xlsx\")\n",
    "clustering2_K.iloc[:, 2].value_counts().to_excel(\"../_CLUSTER/groups_time_area/Frost/combined/groups_counts_area2_K.xlsx\")"
   ]
  },
  {
   "cell_type": "code",
   "execution_count": 345,
   "metadata": {},
   "outputs": [],
   "source": [
    "clustering3_J = clustering3.loc[clustering3['time'] == 'J']\n",
    "clustering3_Tr = clustering3.loc[clustering3['time'] == 'Tr']\n",
    "clustering3_Pg = clustering3.loc[clustering3['time'] == 'Pg']\n",
    "clustering3_K = clustering3.loc[clustering3['time'] == 'K']\n",
    "\n",
    "clustering3_J.iloc[:, 2].value_counts().to_excel(\"../_CLUSTER/groups_time_area/Frost/combined/groups_counts_area3_J.xlsx\")\n",
    "clustering3_Tr.iloc[:, 2].value_counts().to_excel(\"../_CLUSTER/groups_time_area/Frost/combined/groups_counts_area3_Tr.xlsx\")\n",
    "clustering3_Pg.iloc[:, 2].value_counts().to_excel(\"../_CLUSTER/groups_time_area/Frost/combined/groups_counts_area3_Pg.xlsx\")\n",
    "clustering3_K.iloc[:, 2].value_counts().to_excel(\"../_CLUSTER/groups_time_area/Frost/combined/groups_counts_area3_K.xlsx\")"
   ]
  },
  {
   "cell_type": "code",
   "execution_count": 346,
   "metadata": {},
   "outputs": [],
   "source": [
    "clustering4_J = clustering4.loc[clustering4['time'] == 'J']\n",
    "clustering4_Mz = clustering4.loc[clustering4['time'] == 'Mz']\n",
    "clustering4_Pg = clustering4.loc[clustering4['time'] == 'Pg']\n",
    "clustering4_K = clustering4.loc[clustering4['time'] == 'K']\n",
    "\n",
    "clustering4_J.iloc[:, 2].value_counts().to_excel(\"../_CLUSTER/groups_time_area/Frost/combined/groups_counts_area4_J.xlsx\")\n",
    "clustering4_Mz.iloc[:, 2].value_counts().to_excel(\"../_CLUSTER/groups_time_area/Frost/combined/groups_counts_area4_Mz.xlsx\")\n",
    "clustering4_Pg.iloc[:, 2].value_counts().to_excel(\"../_CLUSTER/groups_time_area/Frost/combined/groups_counts_area4_Pg.xlsx\")\n",
    "clustering4_K.iloc[:, 2].value_counts().to_excel(\"../_CLUSTER/groups_time_area/Frost/combined/groups_counts_area4_K.xlsx\")"
   ]
  },
  {
   "cell_type": "code",
   "execution_count": 347,
   "metadata": {},
   "outputs": [],
   "source": [
    "clustering5_Mz = clustering5.loc[clustering5['time'] == 'Mz']\n",
    "clustering5_Pg = clustering5.loc[clustering5['time'] == 'Pg']\n",
    "clustering5_K = clustering5.loc[clustering5['time'] == 'K']\n",
    "\n",
    "clustering5_Mz.iloc[:, 2].value_counts().to_excel(\"../_CLUSTER/groups_time_area/Frost/combined/groups_counts_area5_Mz.xlsx\")\n",
    "clustering5_Pg.iloc[:, 2].value_counts().to_excel(\"../_CLUSTER/groups_time_area/Frost/combined/groups_counts_area5_Pg.xlsx\")\n",
    "clustering5_K.iloc[:, 2].value_counts().to_excel(\"../_CLUSTER/groups_time_area/Frost/combined/groups_counts_area5_K.xlsx\")"
   ]
  },
  {
   "cell_type": "code",
   "execution_count": 348,
   "metadata": {},
   "outputs": [],
   "source": [
    "cluster_plot = pd.concat([coordinates, cluster_frost], axis=1)\n",
    "cluster_plot = cluster_plot.dropna()"
   ]
  },
  {
   "cell_type": "code",
   "execution_count": 349,
   "metadata": {},
   "outputs": [
    {
     "data": {
      "text/html": [
       "<div>\n",
       "<style scoped>\n",
       "    .dataframe tbody tr th:only-of-type {\n",
       "        vertical-align: middle;\n",
       "    }\n",
       "\n",
       "    .dataframe tbody tr th {\n",
       "        vertical-align: top;\n",
       "    }\n",
       "\n",
       "    .dataframe thead th {\n",
       "        text-align: right;\n",
       "    }\n",
       "</style>\n",
       "<table border=\"1\" class=\"dataframe\">\n",
       "  <thead>\n",
       "    <tr style=\"text-align: right;\">\n",
       "      <th></th>\n",
       "      <th>Latitude</th>\n",
       "      <th>Longitude</th>\n",
       "      <th>time</th>\n",
       "      <th>area</th>\n",
       "      <th>group</th>\n",
       "    </tr>\n",
       "  </thead>\n",
       "  <tbody>\n",
       "    <tr>\n",
       "      <th>1</th>\n",
       "      <td>44°31'30.0\"</td>\n",
       "      <td>138°37'30.0\"</td>\n",
       "      <td>K</td>\n",
       "      <td>2.0</td>\n",
       "      <td>121.0</td>\n",
       "    </tr>\n",
       "    <tr>\n",
       "      <th>2</th>\n",
       "      <td>54°12'10.0\"</td>\n",
       "      <td>119°24'0.0\"</td>\n",
       "      <td>Tr</td>\n",
       "      <td>1.0</td>\n",
       "      <td>221.0</td>\n",
       "    </tr>\n",
       "    <tr>\n",
       "      <th>3</th>\n",
       "      <td>62°36'0.0\"</td>\n",
       "      <td>155°36'0.0\"</td>\n",
       "      <td>K</td>\n",
       "      <td>3.0</td>\n",
       "      <td>221.0</td>\n",
       "    </tr>\n",
       "    <tr>\n",
       "      <th>4</th>\n",
       "      <td>61°35'0.0\"</td>\n",
       "      <td>146°2'0.0\"</td>\n",
       "      <td>K</td>\n",
       "      <td>3.0</td>\n",
       "      <td>211.0</td>\n",
       "    </tr>\n",
       "    <tr>\n",
       "      <th>5</th>\n",
       "      <td>68°55'0.0\"</td>\n",
       "      <td>164°24'0.0\"</td>\n",
       "      <td>K</td>\n",
       "      <td>4.0</td>\n",
       "      <td>121.0</td>\n",
       "    </tr>\n",
       "    <tr>\n",
       "      <th>...</th>\n",
       "      <td>...</td>\n",
       "      <td>...</td>\n",
       "      <td>...</td>\n",
       "      <td>...</td>\n",
       "      <td>...</td>\n",
       "    </tr>\n",
       "    <tr>\n",
       "      <th>4653</th>\n",
       "      <td>60°27'0.0\"</td>\n",
       "      <td>150°1'0.0\"</td>\n",
       "      <td>K</td>\n",
       "      <td>3.0</td>\n",
       "      <td>112.0</td>\n",
       "    </tr>\n",
       "    <tr>\n",
       "      <th>4654</th>\n",
       "      <td>46°28'40.0\"</td>\n",
       "      <td>136°34'0.0\"</td>\n",
       "      <td>K</td>\n",
       "      <td>2.0</td>\n",
       "      <td>112.0</td>\n",
       "    </tr>\n",
       "    <tr>\n",
       "      <th>4655</th>\n",
       "      <td>66°42'0.0\"</td>\n",
       "      <td>164°23'0.0\"</td>\n",
       "      <td>K</td>\n",
       "      <td>4.0</td>\n",
       "      <td>112.0</td>\n",
       "    </tr>\n",
       "    <tr>\n",
       "      <th>4656</th>\n",
       "      <td>46°56'30.0\"</td>\n",
       "      <td>137°5'3.0\"</td>\n",
       "      <td>K</td>\n",
       "      <td>2.0</td>\n",
       "      <td>112.0</td>\n",
       "    </tr>\n",
       "    <tr>\n",
       "      <th>4658</th>\n",
       "      <td>60°51'0.0\"</td>\n",
       "      <td>147°31'0.0\"</td>\n",
       "      <td>K</td>\n",
       "      <td>3.0</td>\n",
       "      <td>112.0</td>\n",
       "    </tr>\n",
       "  </tbody>\n",
       "</table>\n",
       "<p>4258 rows × 5 columns</p>\n",
       "</div>"
      ],
      "text/plain": [
       "         Latitude     Longitude time  area  group\n",
       "1     44°31'30.0\"  138°37'30.0\"    K   2.0  121.0\n",
       "2     54°12'10.0\"   119°24'0.0\"   Tr   1.0  221.0\n",
       "3      62°36'0.0\"   155°36'0.0\"    K   3.0  221.0\n",
       "4      61°35'0.0\"    146°2'0.0\"    K   3.0  211.0\n",
       "5      68°55'0.0\"   164°24'0.0\"    K   4.0  121.0\n",
       "...           ...           ...  ...   ...    ...\n",
       "4653   60°27'0.0\"    150°1'0.0\"    K   3.0  112.0\n",
       "4654  46°28'40.0\"   136°34'0.0\"    K   2.0  112.0\n",
       "4655   66°42'0.0\"   164°23'0.0\"    K   4.0  112.0\n",
       "4656  46°56'30.0\"    137°5'3.0\"    K   2.0  112.0\n",
       "4658   60°51'0.0\"   147°31'0.0\"    K   3.0  112.0\n",
       "\n",
       "[4258 rows x 5 columns]"
      ]
     },
     "execution_count": 349,
     "metadata": {},
     "output_type": "execute_result"
    }
   ],
   "source": [
    "cluster_plot"
   ]
  },
  {
   "cell_type": "code",
   "execution_count": 350,
   "metadata": {},
   "outputs": [],
   "source": [
    "cluster_plot.to_excel(\"../_CLUSTER/groups_time_area/Frost/combined/groups_try.xlsx\", index=True)"
   ]
  },
  {
   "cell_type": "code",
   "execution_count": null,
   "metadata": {},
   "outputs": [],
   "source": []
  },
  {
   "cell_type": "code",
   "execution_count": null,
   "metadata": {},
   "outputs": [],
   "source": []
  }
 ],
 "metadata": {
  "kernelspec": {
   "display_name": "Python 3",
   "language": "python",
   "name": "python3"
  },
  "language_info": {
   "codemirror_mode": {
    "name": "ipython",
    "version": 3
   },
   "file_extension": ".py",
   "mimetype": "text/x-python",
   "name": "python",
   "nbconvert_exporter": "python",
   "pygments_lexer": "ipython3",
   "version": "3.7.3"
  }
 },
 "nbformat": 4,
 "nbformat_minor": 4
}
