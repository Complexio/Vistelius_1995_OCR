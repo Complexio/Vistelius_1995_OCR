{
 "cells": [
  {
   "cell_type": "markdown",
   "metadata": {},
   "source": [
    "# Interpolation\n",
    "___"
   ]
  },
  {
   "cell_type": "markdown",
   "metadata": {},
   "source": [
    "**Remarks**\n",
    "- Code will need to be modified a bit to reflect the use of a certain group of data instead of all data"
   ]
  },
  {
   "cell_type": "code",
   "execution_count": 62,
   "metadata": {},
   "outputs": [],
   "source": [
    "import numpy as np\n",
    "import pandas as pd\n",
    "import os\n",
    "import pickle\n",
    "\n",
    "import matplotlib.pyplot as plt\n",
    "import seaborn as sns\n",
    "\n",
    "from collections import Counter\n",
    "from itertools import combinations\n",
    "\n",
    "# from scipy.spatial.distance import pdist\n",
    "# from scipy.stats import chisquare, chi2\n",
    "from scipy.stats import ttest_1samp, t\n",
    "\n",
    "from pykrige.ok import OrdinaryKriging\n",
    "from pykrige.rk import Krige\n",
    "import pykrige.kriging_tools as kt\n",
    "\n",
    "from sklearn.model_selection import cross_val_predict\n",
    "\n",
    "from joblib import Parallel, delayed\n",
    "import multiprocessing"
   ]
  },
  {
   "cell_type": "code",
   "execution_count": 63,
   "metadata": {},
   "outputs": [],
   "source": [
    "import prepostprocessing.pre_processing as preproc\n",
    "import prepostprocessing.post_processing as postproc\n",
    "import nugget_estimation.kriging_tools as krigingtools\n",
    "import nugget_estimation.detrending as detrending\n",
    "import plots.plots as plots\n",
    "import prepostprocessing.cleaning as cleaning\n",
    "import cross_validation.leave_one_out_cross_validation as loocv\n",
    "\n",
    "import qapf.qapf as qapf\n",
    "import statistics.ttest as ttest\n",
    "import statistics.simulations as sim\n",
    "\n",
    "import toolbox.toolbox as tb"
   ]
  },
  {
   "cell_type": "code",
   "execution_count": 64,
   "metadata": {},
   "outputs": [
    {
     "name": "stdout",
     "output_type": "stream",
     "text": [
      "The autoreload extension is already loaded. To reload it, use:\n",
      "  %reload_ext autoreload\n"
     ]
    }
   ],
   "source": [
    "# Load jupyter extension to reload packages before executing user code.\n",
    "# https://ipython.readtheMLcs.io/en/stable/config/extensions/autoreload.html\n",
    "%load_ext autoreload\n",
    "# Reload all packages (except those excluded by %aimport) every time before executing the Python code typed.\n",
    "%autoreload 2"
   ]
  },
  {
   "cell_type": "code",
   "execution_count": 65,
   "metadata": {},
   "outputs": [],
   "source": [
    "# You only need to run this cell once if you want to have multiple outputs in all your notebooks.\n",
    "# It is a general setting so you can set this cell's status to 'raw'\n",
    "from IPython.core.interactiveshell import InteractiveShell\n",
    "InteractiveShell.ast_node_interactivity = \"all\""
   ]
  },
  {
   "cell_type": "code",
   "execution_count": 66,
   "metadata": {},
   "outputs": [
    {
     "name": "stderr",
     "output_type": "stream",
     "text": [
      "C:\\Users\\u0108248\\AppData\\Local\\Continuum\\miniconda3\\envs\\main\\lib\\site-packages\\sklearn\\base.py:318: UserWarning: Trying to unpickle estimator PCA from version 0.22 when using version 0.22.1. This might lead to breaking code or invalid results. Use at your own risk.\n",
      "  UserWarning)\n"
     ]
    }
   ],
   "source": [
    "coordinates_latlon = preproc.load_obj(\"coordinates_area1\")\n",
    "coordinates_utm = preproc.load_obj(\"coordinates_utm_area1\")\n",
    "mineralogy = preproc.load_obj(\"mineralogy_area1\")\n",
    "mineralogy_clr = preproc.load_obj(\"mineralogy_clr_area1\")\n",
    "mineralogy_pca = preproc.load_obj(\"mineralogy_pca_area1\")\n",
    "mineralogy_pca_df = preproc.load_obj(\"mineralogy_pca_area1_df\")\n",
    "metadata = preproc.load_obj(\"metadata_area1\")"
   ]
  },
  {
   "cell_type": "markdown",
   "metadata": {},
   "source": [
    "## EDA\n",
    "___"
   ]
  },
  {
   "cell_type": "code",
   "execution_count": 67,
   "metadata": {},
   "outputs": [
    {
     "data": {
      "text/plain": [
       "1623"
      ]
     },
     "execution_count": 67,
     "metadata": {},
     "output_type": "execute_result"
    }
   ],
   "source": [
    "# Get number of control points that will be used\n",
    "number_of_control_points = coordinates_utm.shape[0]\n",
    "number_of_control_points"
   ]
  },
  {
   "cell_type": "code",
   "execution_count": 68,
   "metadata": {},
   "outputs": [
    {
     "data": {
      "text/html": [
       "<div>\n",
       "<style scoped>\n",
       "    .dataframe tbody tr th:only-of-type {\n",
       "        vertical-align: middle;\n",
       "    }\n",
       "\n",
       "    .dataframe tbody tr th {\n",
       "        vertical-align: top;\n",
       "    }\n",
       "\n",
       "    .dataframe thead th {\n",
       "        text-align: right;\n",
       "    }\n",
       "</style>\n",
       "<table border=\"1\" class=\"dataframe\">\n",
       "  <thead>\n",
       "    <tr style=\"text-align: right;\">\n",
       "      <th></th>\n",
       "      <th>Y_UTM</th>\n",
       "      <th>X_UTM</th>\n",
       "      <th>ZoneNumber</th>\n",
       "      <th>ZoneLetter</th>\n",
       "    </tr>\n",
       "  </thead>\n",
       "  <tbody>\n",
       "    <tr>\n",
       "      <th>2</th>\n",
       "      <td>1.821304e+06</td>\n",
       "      <td>6.200334e+06</td>\n",
       "      <td>47</td>\n",
       "      <td>T</td>\n",
       "    </tr>\n",
       "    <tr>\n",
       "      <th>6</th>\n",
       "      <td>1.535769e+06</td>\n",
       "      <td>5.720307e+06</td>\n",
       "      <td>47</td>\n",
       "      <td>T</td>\n",
       "    </tr>\n",
       "    <tr>\n",
       "      <th>9</th>\n",
       "      <td>1.494703e+06</td>\n",
       "      <td>5.662488e+06</td>\n",
       "      <td>47</td>\n",
       "      <td>T</td>\n",
       "    </tr>\n",
       "    <tr>\n",
       "      <th>10</th>\n",
       "      <td>1.517477e+06</td>\n",
       "      <td>5.756850e+06</td>\n",
       "      <td>47</td>\n",
       "      <td>T</td>\n",
       "    </tr>\n",
       "    <tr>\n",
       "      <th>11</th>\n",
       "      <td>1.327736e+06</td>\n",
       "      <td>5.680588e+06</td>\n",
       "      <td>47</td>\n",
       "      <td>T</td>\n",
       "    </tr>\n",
       "    <tr>\n",
       "      <th>...</th>\n",
       "      <td>...</td>\n",
       "      <td>...</td>\n",
       "      <td>...</td>\n",
       "      <td>...</td>\n",
       "    </tr>\n",
       "    <tr>\n",
       "      <th>4538</th>\n",
       "      <td>1.706776e+06</td>\n",
       "      <td>5.987460e+06</td>\n",
       "      <td>47</td>\n",
       "      <td>T</td>\n",
       "    </tr>\n",
       "    <tr>\n",
       "      <th>4552</th>\n",
       "      <td>1.719856e+06</td>\n",
       "      <td>6.116532e+06</td>\n",
       "      <td>47</td>\n",
       "      <td>T</td>\n",
       "    </tr>\n",
       "    <tr>\n",
       "      <th>4574</th>\n",
       "      <td>1.805569e+06</td>\n",
       "      <td>6.115360e+06</td>\n",
       "      <td>47</td>\n",
       "      <td>T</td>\n",
       "    </tr>\n",
       "    <tr>\n",
       "      <th>4585</th>\n",
       "      <td>1.850992e+06</td>\n",
       "      <td>6.089365e+06</td>\n",
       "      <td>47</td>\n",
       "      <td>T</td>\n",
       "    </tr>\n",
       "    <tr>\n",
       "      <th>4603</th>\n",
       "      <td>1.674853e+06</td>\n",
       "      <td>6.316845e+06</td>\n",
       "      <td>47</td>\n",
       "      <td>T</td>\n",
       "    </tr>\n",
       "  </tbody>\n",
       "</table>\n",
       "<p>1623 rows × 4 columns</p>\n",
       "</div>"
      ],
      "text/plain": [
       "             Y_UTM         X_UTM  ZoneNumber ZoneLetter\n",
       "2     1.821304e+06  6.200334e+06          47          T\n",
       "6     1.535769e+06  5.720307e+06          47          T\n",
       "9     1.494703e+06  5.662488e+06          47          T\n",
       "10    1.517477e+06  5.756850e+06          47          T\n",
       "11    1.327736e+06  5.680588e+06          47          T\n",
       "...            ...           ...         ...        ...\n",
       "4538  1.706776e+06  5.987460e+06          47          T\n",
       "4552  1.719856e+06  6.116532e+06          47          T\n",
       "4574  1.805569e+06  6.115360e+06          47          T\n",
       "4585  1.850992e+06  6.089365e+06          47          T\n",
       "4603  1.674853e+06  6.316845e+06          47          T\n",
       "\n",
       "[1623 rows x 4 columns]"
      ]
     },
     "execution_count": 68,
     "metadata": {},
     "output_type": "execute_result"
    }
   ],
   "source": [
    "coordinates_utm"
   ]
  },
  {
   "cell_type": "code",
   "execution_count": 69,
   "metadata": {},
   "outputs": [],
   "source": [
    "coordinates_utm = coordinates_utm.rename({\"X_UTM\": \"Y\", \"Y_UTM\": \"X\"}, axis=1)"
   ]
  },
  {
   "cell_type": "code",
   "execution_count": 70,
   "metadata": {},
   "outputs": [],
   "source": [
    "# FILL IN SHORT NAME HERE THAT WILL BE USED WHEN SAVING THE PLOT (e.g. \"G1\")\n",
    "group_name = \"area1\""
   ]
  },
  {
   "cell_type": "code",
   "execution_count": 178,
   "metadata": {},
   "outputs": [
    {
     "data": {
      "image/png": "[encoded data removed]",
      "text/plain": [
       "<Figure size 432x288 with 1 Axes>"
      ]
     },
     "metadata": {},
     "output_type": "display_data"
    }
   ],
   "source": [
    "# Plot control points with labels\n",
    "plots.plot_map_with_control_points(coordinates_utm, group_name, label_size=4, subset=[\"X\", \"Y\"],\n",
    "                                   show_labels=False,\n",
    "                                  skip_xaxis_label=2, skip_yaxis_label=2, \n",
    "                                  skip_xaxis_start=1, skip_yaxis_start=1)"
   ]
  },
  {
   "cell_type": "code",
   "execution_count": 71,
   "metadata": {},
   "outputs": [
    {
     "data": {
      "text/plain": [
       "array([47], dtype=int64)"
      ]
     },
     "execution_count": 71,
     "metadata": {},
     "output_type": "execute_result"
    },
    {
     "data": {
      "text/plain": [
       "array(['T'], dtype=object)"
      ]
     },
     "execution_count": 71,
     "metadata": {},
     "output_type": "execute_result"
    }
   ],
   "source": [
    "# Show unique zone letters and zone numbers of utm coordinates\n",
    "coordinates_utm[\"ZoneNumber\"].unique()\n",
    "coordinates_utm[\"ZoneLetter\"].unique()"
   ]
  },
  {
   "cell_type": "code",
   "execution_count": 72,
   "metadata": {},
   "outputs": [
    {
     "data": {
      "text/plain": [
       "(0.0018117179710922212, 1972740.5439505253)"
      ]
     },
     "execution_count": 72,
     "metadata": {},
     "output_type": "execute_result"
    }
   ],
   "source": [
    "# Calculate minimum and maxmin lag distance between two points of the dataset\n",
    "distance_matrix = krigingtools.calculate_and_sort_square_distance_matrix(coordinates_utm[[\"X\", \"Y\"]])\n",
    "\n",
    "min_lag_distance = np.amin(distance_matrix)\n",
    "max_lag_distance = np.amax(distance_matrix)\n",
    "min_lag_distance, max_lag_distance"
   ]
  },
  {
   "cell_type": "code",
   "execution_count": 13,
   "metadata": {},
   "outputs": [
    {
     "data": {
      "text/plain": [
       "(array([7.60640e+04, 1.11460e+05, 1.61582e+05, 2.03936e+05, 2.07092e+05,\n",
       "        2.09568e+05, 1.98496e+05, 1.76878e+05, 1.47396e+05, 1.57578e+05,\n",
       "        1.36780e+05, 1.35990e+05, 1.24020e+05, 1.04774e+05, 9.35400e+04,\n",
       "        7.78680e+04, 6.80680e+04, 5.20380e+04, 4.08660e+04, 2.78820e+04,\n",
       "        2.42340e+04, 2.28700e+04, 1.52060e+04, 1.43360e+04, 1.33980e+04,\n",
       "        8.87200e+03, 7.23000e+03, 5.41400e+03, 3.07400e+03, 1.97600e+03,\n",
       "        1.24000e+03, 9.32000e+02, 5.02000e+02, 6.20000e+02, 2.90000e+02,\n",
       "        1.90000e+02, 1.24000e+02, 8.00000e+01, 3.40000e+01, 8.00000e+00]),\n",
       " array([1.81171797e-03, 4.93185154e+04, 9.86370289e+04, 1.47955542e+05,\n",
       "        1.97274056e+05, 2.46592570e+05, 2.95911083e+05, 3.45229597e+05,\n",
       "        3.94548110e+05, 4.43866624e+05, 4.93185137e+05, 5.42503651e+05,\n",
       "        5.91822164e+05, 6.41140678e+05, 6.90459192e+05, 7.39777705e+05,\n",
       "        7.89096219e+05, 8.38414732e+05, 8.87733246e+05, 9.37051759e+05,\n",
       "        9.86370273e+05, 1.03568879e+06, 1.08500730e+06, 1.13432581e+06,\n",
       "        1.18364433e+06, 1.23296284e+06, 1.28228135e+06, 1.33159987e+06,\n",
       "        1.38091838e+06, 1.43023689e+06, 1.47955541e+06, 1.52887392e+06,\n",
       "        1.57819244e+06, 1.62751095e+06, 1.67682946e+06, 1.72614798e+06,\n",
       "        1.77546649e+06, 1.82478500e+06, 1.87410352e+06, 1.92342203e+06,\n",
       "        1.97274054e+06]),\n",
       " <a list of 40 Patch objects>)"
      ]
     },
     "execution_count": 13,
     "metadata": {},
     "output_type": "execute_result"
    },
    {
     "data": {
      "image/png": "[encoded data removed]",
      "text/plain": [
       "<Figure size 432x288 with 1 Axes>"
      ]
     },
     "metadata": {
      "needs_background": "light"
     },
     "output_type": "display_data"
    }
   ],
   "source": [
    "plt.hist(distance_matrix.flatten(), bins=40)"
   ]
  },
  {
   "cell_type": "code",
   "execution_count": 182,
   "metadata": {},
   "outputs": [
    {
     "data": {
      "text/plain": [
       "(array([], dtype=int64), array([], dtype=int64))"
      ]
     },
     "execution_count": 182,
     "metadata": {},
     "output_type": "execute_result"
    }
   ],
   "source": [
    "np.where(distance_matrix == 0)"
   ]
  },
  {
   "cell_type": "markdown",
   "metadata": {},
   "source": [
    "## Critical distance estimation\n",
    "___"
   ]
  },
  {
   "cell_type": "code",
   "execution_count": 73,
   "metadata": {},
   "outputs": [],
   "source": [
    "# Range (lag distance at which the sill is reached; in meters)\n",
    "\n",
    "# Depending on how many principal components you will use, \n",
    "# you will have to add more entries to this list.\n",
    "\n",
    "# Modified the range since variograms are not correct yet\n",
    "# range_ = [100000] * 15\n",
    "range_ = [165000, 165000, 165000, 165000, 165000, 165000, 165000, 165000, 165000, 100000, 100000, 100000, 100000, 100000, 100000]\n",
    "\n"
   ]
  },
  {
   "cell_type": "code",
   "execution_count": 184,
   "metadata": {},
   "outputs": [
    {
     "data": {
      "image/png": "[encoded data removed]",
      "text/plain": [
       "<Figure size 1728x864 with 3 Axes>"
      ]
     },
     "metadata": {
      "needs_background": "light"
     },
     "output_type": "display_data"
    }
   ],
   "source": [
    "# You can adjust the radius parameters below to change the slider settings\n",
    "# to visualize the figures interactively\n",
    "plots.interactive_plot_search_radius(coordinates_utm, orient='rows', \n",
    "                                     radius_default=45000, # Default slider position\n",
    "                                     radius_min=30000,  # Slider start\n",
    "                                     radius_max=60000, # Slider stop\n",
    "                                     radius_step=1000,  # Slider step\n",
    "                                     radius_offset=500) # Offset between visualizations shown\n",
    "\n",
    "# The x-axis stands for 'n_neighbours'"
   ]
  },
  {
   "cell_type": "code",
   "execution_count": 74,
   "metadata": {},
   "outputs": [],
   "source": [
    "# Critical distance (in meters)\n",
    "# This is the distance where at least 95% of your samples\n",
    "# will have at least 3 neighbours within that distance\n",
    "\n",
    "# You can refine this value later on, or we can use the range \n",
    "# instead of the critical distance as the only value for the search radius\n",
    "critical_distance = 40000"
   ]
  },
  {
   "cell_type": "code",
   "execution_count": 75,
   "metadata": {},
   "outputs": [],
   "source": [
    "# This is basically creating a list of how many neighbours each data point has \n",
    "# within the critical_distance and within the range\n",
    "nvalues_control_points = {}\n",
    "\n",
    "for radius in (0.05, critical_distance, range_[0]):\n",
    "    temp = krigingtools.find_points_within_search_radius(\n",
    "               krigingtools.calculate_and_sort_square_distance_matrix(coordinates_utm),\n",
    "               search_radius=radius # 'search_radius' should be equal to 'radius' here, not 'critical_distance'\n",
    "           )\n",
    "    nvalues_control_points[radius] = pd.Series(temp, index=coordinates_utm.index)\n",
    "    \n",
    "# You're performing a calculation in a for loop so we want to check how many neighbours each data point has \n",
    "# within the specified radius in the tuple (0.05, critical_distance, range_[0]). \n",
    "# So for each of these specified distances, the function will be executed and \n",
    "# the result stored in the nvalues_control_points dictionary"
   ]
  },
  {
   "cell_type": "code",
   "execution_count": 76,
   "metadata": {},
   "outputs": [
    {
     "data": {
      "text/plain": [
       "81.15"
      ]
     },
     "execution_count": 76,
     "metadata": {},
     "output_type": "execute_result"
    }
   ],
   "source": [
    "# Number of samples that may still have less than 3 neighbours within the critical distance\n",
    "number_of_control_points * 0.05"
   ]
  },
  {
   "cell_type": "code",
   "execution_count": 77,
   "metadata": {},
   "outputs": [
    {
     "data": {
      "text/plain": [
       "82"
      ]
     },
     "execution_count": 77,
     "metadata": {},
     "output_type": "execute_result"
    }
   ],
   "source": [
    "# Check number of samples outside of critical distance\n",
    "samples_outside_critical_distance = nvalues_control_points[critical_distance][nvalues_control_points[critical_distance] < 3].index.tolist()\n",
    "len(samples_outside_critical_distance)\n",
    "\n",
    "# It's one sample above 81 but that's fine"
   ]
  },
  {
   "cell_type": "code",
   "execution_count": 189,
   "metadata": {},
   "outputs": [
    {
     "data": {
      "text/html": [
       "<div>\n",
       "<style scoped>\n",
       "    .dataframe tbody tr th:only-of-type {\n",
       "        vertical-align: middle;\n",
       "    }\n",
       "\n",
       "    .dataframe tbody tr th {\n",
       "        vertical-align: top;\n",
       "    }\n",
       "\n",
       "    .dataframe thead th {\n",
       "        text-align: right;\n",
       "    }\n",
       "</style>\n",
       "<table border=\"1\" class=\"dataframe\">\n",
       "  <thead>\n",
       "    <tr style=\"text-align: right;\">\n",
       "      <th></th>\n",
       "      <th>PC01</th>\n",
       "      <th>PC02</th>\n",
       "      <th>PC03</th>\n",
       "      <th>PC04</th>\n",
       "      <th>PC05</th>\n",
       "      <th>PC06</th>\n",
       "      <th>PC07</th>\n",
       "      <th>PC08</th>\n",
       "      <th>PC09</th>\n",
       "      <th>PC10</th>\n",
       "      <th>PC11</th>\n",
       "      <th>PC12</th>\n",
       "      <th>PC13</th>\n",
       "    </tr>\n",
       "  </thead>\n",
       "  <tbody>\n",
       "    <tr>\n",
       "      <th>32</th>\n",
       "      <td>0.109094</td>\n",
       "      <td>0.815746</td>\n",
       "      <td>1.936151</td>\n",
       "      <td>0.633108</td>\n",
       "      <td>0.345279</td>\n",
       "      <td>0.545878</td>\n",
       "      <td>0.475270</td>\n",
       "      <td>-0.484763</td>\n",
       "      <td>1.036341</td>\n",
       "      <td>-0.475462</td>\n",
       "      <td>0.343503</td>\n",
       "      <td>0.124272</td>\n",
       "      <td>2.502944e-18</td>\n",
       "    </tr>\n",
       "    <tr>\n",
       "      <th>68</th>\n",
       "      <td>2.308113</td>\n",
       "      <td>-0.382472</td>\n",
       "      <td>-0.594584</td>\n",
       "      <td>-0.461794</td>\n",
       "      <td>-0.925011</td>\n",
       "      <td>-0.252097</td>\n",
       "      <td>0.665704</td>\n",
       "      <td>-0.911791</td>\n",
       "      <td>0.954338</td>\n",
       "      <td>0.375941</td>\n",
       "      <td>0.001286</td>\n",
       "      <td>0.066056</td>\n",
       "      <td>-1.521824e-16</td>\n",
       "    </tr>\n",
       "    <tr>\n",
       "      <th>77</th>\n",
       "      <td>1.394797</td>\n",
       "      <td>0.443167</td>\n",
       "      <td>0.028522</td>\n",
       "      <td>-0.634010</td>\n",
       "      <td>-0.375335</td>\n",
       "      <td>-0.493259</td>\n",
       "      <td>0.216188</td>\n",
       "      <td>-0.127078</td>\n",
       "      <td>0.208885</td>\n",
       "      <td>0.243151</td>\n",
       "      <td>0.054569</td>\n",
       "      <td>0.060240</td>\n",
       "      <td>1.405180e-16</td>\n",
       "    </tr>\n",
       "    <tr>\n",
       "      <th>120</th>\n",
       "      <td>0.571176</td>\n",
       "      <td>-0.096550</td>\n",
       "      <td>-0.359092</td>\n",
       "      <td>-0.820016</td>\n",
       "      <td>-1.129714</td>\n",
       "      <td>-0.671900</td>\n",
       "      <td>0.343358</td>\n",
       "      <td>-0.311761</td>\n",
       "      <td>-0.710066</td>\n",
       "      <td>-0.834406</td>\n",
       "      <td>0.321036</td>\n",
       "      <td>0.157938</td>\n",
       "      <td>1.125103e-16</td>\n",
       "    </tr>\n",
       "    <tr>\n",
       "      <th>132</th>\n",
       "      <td>1.502967</td>\n",
       "      <td>-0.311824</td>\n",
       "      <td>-0.890603</td>\n",
       "      <td>0.310657</td>\n",
       "      <td>-0.974952</td>\n",
       "      <td>0.036220</td>\n",
       "      <td>0.131167</td>\n",
       "      <td>-0.464630</td>\n",
       "      <td>0.884523</td>\n",
       "      <td>-0.054938</td>\n",
       "      <td>0.123326</td>\n",
       "      <td>0.016263</td>\n",
       "      <td>-5.149730e-16</td>\n",
       "    </tr>\n",
       "    <tr>\n",
       "      <th>...</th>\n",
       "      <td>...</td>\n",
       "      <td>...</td>\n",
       "      <td>...</td>\n",
       "      <td>...</td>\n",
       "      <td>...</td>\n",
       "      <td>...</td>\n",
       "      <td>...</td>\n",
       "      <td>...</td>\n",
       "      <td>...</td>\n",
       "      <td>...</td>\n",
       "      <td>...</td>\n",
       "      <td>...</td>\n",
       "      <td>...</td>\n",
       "    </tr>\n",
       "    <tr>\n",
       "      <th>3359</th>\n",
       "      <td>-0.495480</td>\n",
       "      <td>-0.844712</td>\n",
       "      <td>-0.499359</td>\n",
       "      <td>-1.355026</td>\n",
       "      <td>0.832798</td>\n",
       "      <td>0.333690</td>\n",
       "      <td>0.001962</td>\n",
       "      <td>-0.101155</td>\n",
       "      <td>-0.226319</td>\n",
       "      <td>-0.043129</td>\n",
       "      <td>-0.018829</td>\n",
       "      <td>-0.019841</td>\n",
       "      <td>1.416894e-16</td>\n",
       "    </tr>\n",
       "    <tr>\n",
       "      <th>3371</th>\n",
       "      <td>-1.092645</td>\n",
       "      <td>-0.245660</td>\n",
       "      <td>-0.722959</td>\n",
       "      <td>-1.051610</td>\n",
       "      <td>-0.362737</td>\n",
       "      <td>-0.239827</td>\n",
       "      <td>0.030628</td>\n",
       "      <td>0.177078</td>\n",
       "      <td>-0.059206</td>\n",
       "      <td>-0.070811</td>\n",
       "      <td>0.009568</td>\n",
       "      <td>-0.054875</td>\n",
       "      <td>2.522595e-16</td>\n",
       "    </tr>\n",
       "    <tr>\n",
       "      <th>3419</th>\n",
       "      <td>-1.853111</td>\n",
       "      <td>-0.622156</td>\n",
       "      <td>-0.633417</td>\n",
       "      <td>-0.465555</td>\n",
       "      <td>0.048611</td>\n",
       "      <td>0.284655</td>\n",
       "      <td>0.001177</td>\n",
       "      <td>0.054622</td>\n",
       "      <td>-0.261949</td>\n",
       "      <td>0.306729</td>\n",
       "      <td>0.121513</td>\n",
       "      <td>0.059997</td>\n",
       "      <td>1.129374e-15</td>\n",
       "    </tr>\n",
       "    <tr>\n",
       "      <th>4000</th>\n",
       "      <td>-0.906490</td>\n",
       "      <td>0.349814</td>\n",
       "      <td>1.019329</td>\n",
       "      <td>-0.580846</td>\n",
       "      <td>0.574743</td>\n",
       "      <td>0.238773</td>\n",
       "      <td>-0.124958</td>\n",
       "      <td>-0.327042</td>\n",
       "      <td>-0.311908</td>\n",
       "      <td>-0.190697</td>\n",
       "      <td>-0.237335</td>\n",
       "      <td>-0.146675</td>\n",
       "      <td>4.356043e-16</td>\n",
       "    </tr>\n",
       "    <tr>\n",
       "      <th>4078</th>\n",
       "      <td>-0.849082</td>\n",
       "      <td>-0.581368</td>\n",
       "      <td>0.191989</td>\n",
       "      <td>-0.394243</td>\n",
       "      <td>0.377012</td>\n",
       "      <td>-0.485159</td>\n",
       "      <td>0.347077</td>\n",
       "      <td>0.104044</td>\n",
       "      <td>0.416244</td>\n",
       "      <td>-0.131310</td>\n",
       "      <td>-0.121131</td>\n",
       "      <td>-0.167082</td>\n",
       "      <td>1.776057e-16</td>\n",
       "    </tr>\n",
       "  </tbody>\n",
       "</table>\n",
       "<p>82 rows × 13 columns</p>\n",
       "</div>"
      ],
      "text/plain": [
       "          PC01      PC02      PC03      PC04      PC05      PC06      PC07  \\\n",
       "32    0.109094  0.815746  1.936151  0.633108  0.345279  0.545878  0.475270   \n",
       "68    2.308113 -0.382472 -0.594584 -0.461794 -0.925011 -0.252097  0.665704   \n",
       "77    1.394797  0.443167  0.028522 -0.634010 -0.375335 -0.493259  0.216188   \n",
       "120   0.571176 -0.096550 -0.359092 -0.820016 -1.129714 -0.671900  0.343358   \n",
       "132   1.502967 -0.311824 -0.890603  0.310657 -0.974952  0.036220  0.131167   \n",
       "...        ...       ...       ...       ...       ...       ...       ...   \n",
       "3359 -0.495480 -0.844712 -0.499359 -1.355026  0.832798  0.333690  0.001962   \n",
       "3371 -1.092645 -0.245660 -0.722959 -1.051610 -0.362737 -0.239827  0.030628   \n",
       "3419 -1.853111 -0.622156 -0.633417 -0.465555  0.048611  0.284655  0.001177   \n",
       "4000 -0.906490  0.349814  1.019329 -0.580846  0.574743  0.238773 -0.124958   \n",
       "4078 -0.849082 -0.581368  0.191989 -0.394243  0.377012 -0.485159  0.347077   \n",
       "\n",
       "          PC08      PC09      PC10      PC11      PC12          PC13  \n",
       "32   -0.484763  1.036341 -0.475462  0.343503  0.124272  2.502944e-18  \n",
       "68   -0.911791  0.954338  0.375941  0.001286  0.066056 -1.521824e-16  \n",
       "77   -0.127078  0.208885  0.243151  0.054569  0.060240  1.405180e-16  \n",
       "120  -0.311761 -0.710066 -0.834406  0.321036  0.157938  1.125103e-16  \n",
       "132  -0.464630  0.884523 -0.054938  0.123326  0.016263 -5.149730e-16  \n",
       "...        ...       ...       ...       ...       ...           ...  \n",
       "3359 -0.101155 -0.226319 -0.043129 -0.018829 -0.019841  1.416894e-16  \n",
       "3371  0.177078 -0.059206 -0.070811  0.009568 -0.054875  2.522595e-16  \n",
       "3419  0.054622 -0.261949  0.306729  0.121513  0.059997  1.129374e-15  \n",
       "4000 -0.327042 -0.311908 -0.190697 -0.237335 -0.146675  4.356043e-16  \n",
       "4078  0.104044  0.416244 -0.131310 -0.121131 -0.167082  1.776057e-16  \n",
       "\n",
       "[82 rows x 13 columns]"
      ]
     },
     "execution_count": 189,
     "metadata": {},
     "output_type": "execute_result"
    }
   ],
   "source": [
    "# Overview of samples that are outside search_radius\n",
    "mineralogy_pca_df.loc[samples_outside_critical_distance, :]"
   ]
  },
  {
   "cell_type": "markdown",
   "metadata": {},
   "source": [
    "____"
   ]
  },
  {
   "cell_type": "markdown",
   "metadata": {},
   "source": [
    "### Remark\n",
    "**You can remove this part as you resolved the issue with 'replicate' samples**  \n",
    "**You could leave it in the general Interpolation notebook for reference**"
   ]
  },
  {
   "cell_type": "code",
   "execution_count": 190,
   "metadata": {},
   "outputs": [],
   "source": [
    "# Create dataframe with duplicates grouping and count info\n",
    "# https://stackoverflow.com/questions/53760860/pd-duplicated-groups-of-duplicates\n",
    "cols = [\"X\", \"Y\"]\n",
    "df1 = coordinates_utm[coordinates_utm.duplicated(subset=cols, keep=False)].copy()\n",
    "df1 = df1.sort_values(cols)\n",
    "df1['group'] = 'g' + (df1.groupby(cols).ngroup() + 1).astype(str)\n",
    "# df1['group'] = 'g' + f\"{df1['group'].str()[1:]:02d}\"\n",
    "df1['duplicate_count'] = df1.groupby(cols)['X'].transform('size')"
   ]
  },
  {
   "cell_type": "code",
   "execution_count": 191,
   "metadata": {},
   "outputs": [
    {
     "data": {
      "text/html": [
       "<div>\n",
       "<style scoped>\n",
       "    .dataframe tbody tr th:only-of-type {\n",
       "        vertical-align: middle;\n",
       "    }\n",
       "\n",
       "    .dataframe tbody tr th {\n",
       "        vertical-align: top;\n",
       "    }\n",
       "\n",
       "    .dataframe thead th {\n",
       "        text-align: right;\n",
       "    }\n",
       "</style>\n",
       "<table border=\"1\" class=\"dataframe\">\n",
       "  <thead>\n",
       "    <tr style=\"text-align: right;\">\n",
       "      <th></th>\n",
       "      <th>X</th>\n",
       "      <th>Y</th>\n",
       "      <th>ZoneNumber</th>\n",
       "      <th>ZoneLetter</th>\n",
       "      <th>group</th>\n",
       "      <th>duplicate_count</th>\n",
       "    </tr>\n",
       "  </thead>\n",
       "  <tbody>\n",
       "  </tbody>\n",
       "</table>\n",
       "</div>"
      ],
      "text/plain": [
       "Empty DataFrame\n",
       "Columns: [X, Y, ZoneNumber, ZoneLetter, group, duplicate_count]\n",
       "Index: []"
      ]
     },
     "execution_count": 191,
     "metadata": {},
     "output_type": "execute_result"
    }
   ],
   "source": [
    "df1.sort_index().sort_values(by=\"duplicate_count\", ascending=False)"
   ]
  },
  {
   "cell_type": "code",
   "execution_count": 192,
   "metadata": {},
   "outputs": [
    {
     "data": {
      "text/html": [
       "<div>\n",
       "<style scoped>\n",
       "    .dataframe tbody tr th:only-of-type {\n",
       "        vertical-align: middle;\n",
       "    }\n",
       "\n",
       "    .dataframe tbody tr th {\n",
       "        vertical-align: top;\n",
       "    }\n",
       "\n",
       "    .dataframe thead th {\n",
       "        text-align: right;\n",
       "    }\n",
       "</style>\n",
       "<table border=\"1\" class=\"dataframe\">\n",
       "  <thead>\n",
       "    <tr style=\"text-align: right;\">\n",
       "      <th></th>\n",
       "    </tr>\n",
       "    <tr>\n",
       "      <th>group</th>\n",
       "    </tr>\n",
       "  </thead>\n",
       "  <tbody>\n",
       "  </tbody>\n",
       "</table>\n",
       "</div>"
      ],
      "text/plain": [
       "Empty DataFrame\n",
       "Columns: []\n",
       "Index: []"
      ]
     },
     "execution_count": 192,
     "metadata": {},
     "output_type": "execute_result"
    }
   ],
   "source": [
    "# Get list of duplicate groups which hold list of corresponding items\n",
    "group_items = df1.groupby(\"group\").apply(lambda x: x.index.tolist())\n",
    "group_items"
   ]
  },
  {
   "cell_type": "code",
   "execution_count": 193,
   "metadata": {},
   "outputs": [],
   "source": [
    "group_items_df = pd.DataFrame(group_items)"
   ]
  },
  {
   "cell_type": "code",
   "execution_count": 194,
   "metadata": {},
   "outputs": [],
   "source": [
    "# Create dictionary of droup items for easy reference\n",
    "group_items_dict = {k:v for (k, v) in zip(group_items.index, group_items.values)}"
   ]
  },
  {
   "cell_type": "code",
   "execution_count": 195,
   "metadata": {},
   "outputs": [],
   "source": [
    "for group, items in group_items_dict.items():\n",
    "    print(group)\n",
    "    coordinates_latlon.loc[items, :]"
   ]
  },
  {
   "cell_type": "code",
   "execution_count": 196,
   "metadata": {},
   "outputs": [],
   "source": [
    "for group, items in group_items_dict.items():\n",
    "    print(group)\n",
    "    metadata.loc[items, :]"
   ]
  },
  {
   "cell_type": "code",
   "execution_count": 197,
   "metadata": {},
   "outputs": [],
   "source": [
    "for group, items in group_items_dict.items():\n",
    "    print(group)\n",
    "    mineralogy.loc[items, :]"
   ]
  },
  {
   "cell_type": "code",
   "execution_count": 198,
   "metadata": {},
   "outputs": [
    {
     "data": {
      "text/plain": [
       "4"
      ]
     },
     "execution_count": 198,
     "metadata": {},
     "output_type": "execute_result"
    }
   ],
   "source": [
    "# Check to see how many points are on a shared location\n",
    "nvalues_control_points[0.05].sum()\n",
    "\n",
    "# 57812 seems very high as there are also only 1623 points..."
   ]
  },
  {
   "cell_type": "markdown",
   "metadata": {},
   "source": [
    "**Remove until here**"
   ]
  },
  {
   "cell_type": "markdown",
   "metadata": {},
   "source": [
    "___"
   ]
  },
  {
   "cell_type": "markdown",
   "metadata": {},
   "source": [
    "## Create high resolution grids\n",
    "____"
   ]
  },
  {
   "cell_type": "code",
   "execution_count": 78,
   "metadata": {},
   "outputs": [
    {
     "data": {
      "text/plain": [
       "array([[548236.1735325938, 2015408.93068602],\n",
       "       [(4624048.114899939,), 6528088.626403356]], dtype=object)"
      ]
     },
     "execution_count": 78,
     "metadata": {},
     "output_type": "execute_result"
    }
   ],
   "source": [
    "# Determine (wide) grid boundaries\n",
    "X = coordinates_utm.iloc[:, 0].values\n",
    "Xmin = np.min(X) - critical_distance * 1.05\n",
    "Xmax = np.max(X) + critical_distance * 1.05\n",
    "\n",
    "Y = coordinates_utm.iloc[:, 1].values\n",
    "Ymin = np.min(Y) - critical_distance * 1.05, \n",
    "Ymax = np.max(Y) + critical_distance * 1.05\n",
    "\n",
    "coordinates_boundaries = np.array([[Xmin, Xmax], [Ymin, Ymax]])\n",
    "coordinates_boundaries"
   ]
  },
  {
   "cell_type": "code",
   "execution_count": 79,
   "metadata": {},
   "outputs": [
    {
     "name": "stdout",
     "output_type": "stream",
     "text": [
      "x [548236.1735325938 2015408.93068602]\n",
      "y [(4624048.114899939,) 6528088.626403356]\n",
      "x range:  1467172\n",
      "y range:  1904040\n",
      "smallest dimension x\n",
      "theoretical x spacing:  4906.932298171994\n",
      "actual x spacing:  4906.9322981720325\n",
      "actual y spacing:  4906.932298172265\n",
      "Number of points:  117691\n",
      "xy grid:  301 391 \n",
      "\n"
     ]
    }
   ],
   "source": [
    "# Set approximate number of points along each axis\n",
    "n_points = 300\n",
    "\n",
    "temp = {}\n",
    "x, y = coordinates_boundaries\n",
    "\n",
    "temp[\"x_start (m)\"] = int(np.floor(x[0]))\n",
    "temp[\"x_end (m)\"] = int(np.floor(x[1]))\n",
    "temp[\"y_start (m)\"] = int(np.floor(y[0]))\n",
    "temp[\"y_end (m)\"] = int(np.floor(y[1]))\n",
    "\n",
    "print(\"x\", x)\n",
    "print(\"y\", y)\n",
    "\n",
    "temp[\"x_range (m)\"] = int(np.floor(x[1])) - int(np.floor(x[0]))\n",
    "temp[\"y_range (m)\"] = int(np.floor(y[1])) - int(np.floor(y[0]))\n",
    "print(\"x range: \", temp[\"x_range (m)\"])\n",
    "print(\"y range: \", temp[\"y_range (m)\"])\n",
    "\n",
    "ranges = {\"x\": temp[\"x_range (m)\"],\n",
    "          \"y\": temp[\"y_range (m)\"],\n",
    "         }\n",
    "\n",
    "threshold = 10000000\n",
    "for dimension, ranger in ranges.items():\n",
    "    if ranger < threshold:\n",
    "        smallest_dimension = dimension\n",
    "        threshold = ranger\n",
    "print(\"smallest dimension\", smallest_dimension)\n",
    "\n",
    "x_spacing, dx = np.linspace(x[0], x[1], n_points, retstep=True)\n",
    "y_spacing, dy = np.linspace(y[0], y[1], n_points, retstep=True)\n",
    "\n",
    "steps = {\"x\": dx,\n",
    "         \"y\": dy,\n",
    "        }\n",
    "\n",
    "print(\"theoretical x spacing: \", dx)\n",
    "\n",
    "xgrid = np.arange(x[0]-dx, x[1]+dx, steps[smallest_dimension])\n",
    "ygrid = np.arange(y[0]-dy, y[1]+dy, steps[smallest_dimension])\n",
    "\n",
    "print(\"actual x spacing: \", xgrid[1] - xgrid[0])\n",
    "print(\"actual y spacing: \", ygrid[1] - ygrid[0])\n",
    "\n",
    "temp[\"x_spacing (m)\"] = np.round(xgrid[1] - xgrid[0], 2)\n",
    "temp[\"y_spacing (m)\"] = np.round(ygrid[1] - ygrid[0], 2)\n",
    "\n",
    "print(\"Number of points: \", len(xgrid) * len(ygrid))\n",
    "print(\"xy grid: \", len(xgrid), len(ygrid), \"\\n\")\n",
    "\n",
    "temp[\"#xgrid_points\"] = len(xgrid)\n",
    "temp[\"#ygrid_points\"] = len(ygrid)\n",
    "temp[\"#total_grid_nodes\"] = len(xgrid) * len(ygrid)\n",
    "\n",
    "coordinates_grids = [xgrid, ygrid]\n",
    "coordinates_grids_details = temp\n",
    "\n",
    "# Assigned to a different variable (name) because later on 'grid' gets used in the code\n",
    "grid = coordinates_grids"
   ]
  },
  {
   "cell_type": "markdown",
   "metadata": {},
   "source": [
    "## Classification map\n",
    "___"
   ]
  },
  {
   "cell_type": "markdown",
   "metadata": {},
   "source": [
    "We will have to decide on a certain classification scheme before we could use this.  \n",
    "Another option might be to use a condensed version of the 'type_granite' column."
   ]
  },
  {
   "cell_type": "markdown",
   "metadata": {},
   "source": [
    "**Yep**"
   ]
  },
  {
   "cell_type": "markdown",
   "metadata": {},
   "source": [
    "## Detrending\n",
    "____"
   ]
  },
  {
   "cell_type": "code",
   "execution_count": 80,
   "metadata": {},
   "outputs": [
    {
     "name": "stdout",
     "output_type": "stream",
     "text": [
      "R² for PC01 order = 1 :\n"
     ]
    },
    {
     "data": {
      "text/plain": [
       "0.05885203355176649"
      ]
     },
     "execution_count": 80,
     "metadata": {},
     "output_type": "execute_result"
    },
    {
     "name": "stdout",
     "output_type": "stream",
     "text": [
      "R² for PC01 order = 2 :\n"
     ]
    },
    {
     "data": {
      "text/plain": [
       "0.08878161072203272"
      ]
     },
     "execution_count": 80,
     "metadata": {},
     "output_type": "execute_result"
    },
    {
     "name": "stdout",
     "output_type": "stream",
     "text": [
      "R² for PC02 order = 1 :\n"
     ]
    },
    {
     "data": {
      "text/plain": [
       "0.0029344758938125715"
      ]
     },
     "execution_count": 80,
     "metadata": {},
     "output_type": "execute_result"
    },
    {
     "name": "stdout",
     "output_type": "stream",
     "text": [
      "R² for PC02 order = 2 :\n"
     ]
    },
    {
     "data": {
      "text/plain": [
       "0.01878550160620107"
      ]
     },
     "execution_count": 80,
     "metadata": {},
     "output_type": "execute_result"
    },
    {
     "name": "stdout",
     "output_type": "stream",
     "text": [
      "R² for PC03 order = 1 :\n"
     ]
    },
    {
     "data": {
      "text/plain": [
       "0.06823170114146127"
      ]
     },
     "execution_count": 80,
     "metadata": {},
     "output_type": "execute_result"
    },
    {
     "name": "stdout",
     "output_type": "stream",
     "text": [
      "R² for PC03 order = 2 :\n"
     ]
    },
    {
     "data": {
      "text/plain": [
       "0.07939240293143168"
      ]
     },
     "execution_count": 80,
     "metadata": {},
     "output_type": "execute_result"
    },
    {
     "name": "stdout",
     "output_type": "stream",
     "text": [
      "R² for PC04 order = 1 :\n"
     ]
    },
    {
     "data": {
      "text/plain": [
       "0.0029512117279627548"
      ]
     },
     "execution_count": 80,
     "metadata": {},
     "output_type": "execute_result"
    },
    {
     "name": "stdout",
     "output_type": "stream",
     "text": [
      "R² for PC04 order = 2 :\n"
     ]
    },
    {
     "data": {
      "text/plain": [
       "0.00860618662467827"
      ]
     },
     "execution_count": 80,
     "metadata": {},
     "output_type": "execute_result"
    },
    {
     "name": "stdout",
     "output_type": "stream",
     "text": [
      "R² for PC05 order = 1 :\n"
     ]
    },
    {
     "data": {
      "text/plain": [
       "0.0035379350425199796"
      ]
     },
     "execution_count": 80,
     "metadata": {},
     "output_type": "execute_result"
    },
    {
     "name": "stdout",
     "output_type": "stream",
     "text": [
      "R² for PC05 order = 2 :\n"
     ]
    },
    {
     "data": {
      "text/plain": [
       "0.007415396254117801"
      ]
     },
     "execution_count": 80,
     "metadata": {},
     "output_type": "execute_result"
    },
    {
     "name": "stdout",
     "output_type": "stream",
     "text": [
      "R² for PC06 order = 1 :\n"
     ]
    },
    {
     "data": {
      "text/plain": [
       "0.001232134888588976"
      ]
     },
     "execution_count": 80,
     "metadata": {},
     "output_type": "execute_result"
    },
    {
     "name": "stdout",
     "output_type": "stream",
     "text": [
      "R² for PC06 order = 2 :\n"
     ]
    },
    {
     "data": {
      "text/plain": [
       "0.015213101213662927"
      ]
     },
     "execution_count": 80,
     "metadata": {},
     "output_type": "execute_result"
    },
    {
     "name": "stdout",
     "output_type": "stream",
     "text": [
      "R² for PC07 order = 1 :\n"
     ]
    },
    {
     "data": {
      "text/plain": [
       "0.0402507260835645"
      ]
     },
     "execution_count": 80,
     "metadata": {},
     "output_type": "execute_result"
    },
    {
     "name": "stdout",
     "output_type": "stream",
     "text": [
      "R² for PC07 order = 2 :\n"
     ]
    },
    {
     "data": {
      "text/plain": [
       "0.04659703657556713"
      ]
     },
     "execution_count": 80,
     "metadata": {},
     "output_type": "execute_result"
    },
    {
     "name": "stdout",
     "output_type": "stream",
     "text": [
      "R² for PC08 order = 1 :\n"
     ]
    },
    {
     "data": {
      "text/plain": [
       "0.008529247772445792"
      ]
     },
     "execution_count": 80,
     "metadata": {},
     "output_type": "execute_result"
    },
    {
     "name": "stdout",
     "output_type": "stream",
     "text": [
      "R² for PC08 order = 2 :\n"
     ]
    },
    {
     "data": {
      "text/plain": [
       "0.03546258457106255"
      ]
     },
     "execution_count": 80,
     "metadata": {},
     "output_type": "execute_result"
    },
    {
     "name": "stdout",
     "output_type": "stream",
     "text": [
      "R² for PC09 order = 1 :\n"
     ]
    },
    {
     "data": {
      "text/plain": [
       "0.01417672048310692"
      ]
     },
     "execution_count": 80,
     "metadata": {},
     "output_type": "execute_result"
    },
    {
     "name": "stdout",
     "output_type": "stream",
     "text": [
      "R² for PC09 order = 2 :\n"
     ]
    },
    {
     "data": {
      "text/plain": [
       "0.04238028121949511"
      ]
     },
     "execution_count": 80,
     "metadata": {},
     "output_type": "execute_result"
    },
    {
     "name": "stdout",
     "output_type": "stream",
     "text": [
      "R² for PC10 order = 1 :\n"
     ]
    },
    {
     "data": {
      "text/plain": [
       "0.011307936198771462"
      ]
     },
     "execution_count": 80,
     "metadata": {},
     "output_type": "execute_result"
    },
    {
     "name": "stdout",
     "output_type": "stream",
     "text": [
      "R² for PC10 order = 2 :\n"
     ]
    },
    {
     "data": {
      "text/plain": [
       "0.01168919203192842"
      ]
     },
     "execution_count": 80,
     "metadata": {},
     "output_type": "execute_result"
    },
    {
     "name": "stdout",
     "output_type": "stream",
     "text": [
      "R² for PC11 order = 1 :\n"
     ]
    },
    {
     "data": {
      "text/plain": [
       "0.0701365991387729"
      ]
     },
     "execution_count": 80,
     "metadata": {},
     "output_type": "execute_result"
    },
    {
     "name": "stdout",
     "output_type": "stream",
     "text": [
      "R² for PC11 order = 2 :\n"
     ]
    },
    {
     "data": {
      "text/plain": [
       "0.07225359670259335"
      ]
     },
     "execution_count": 80,
     "metadata": {},
     "output_type": "execute_result"
    },
    {
     "name": "stdout",
     "output_type": "stream",
     "text": [
      "R² for PC12 order = 1 :\n"
     ]
    },
    {
     "data": {
      "text/plain": [
       "0.011213612840161535"
      ]
     },
     "execution_count": 80,
     "metadata": {},
     "output_type": "execute_result"
    },
    {
     "name": "stdout",
     "output_type": "stream",
     "text": [
      "R² for PC12 order = 2 :\n"
     ]
    },
    {
     "data": {
      "text/plain": [
       "0.013346185543210431"
      ]
     },
     "execution_count": 80,
     "metadata": {},
     "output_type": "execute_result"
    }
   ],
   "source": [
    "# Check if there is a trend present in the data\n",
    "# This is the case if R² is above say 0.70 \n",
    "\n",
    "for component in mineralogy_pca_df.columns.tolist()[:-1]:\n",
    "    for order in [1, 2]:\n",
    "        print(\"R² for\", component, \"order =\", order, \":\")\n",
    "        detrending.detrend(coordinates_utm, \n",
    "                           mineralogy_pca_df[component], \n",
    "                           order=order, \n",
    "                           verbose=False, \n",
    "                           plot_points=False)[1]"
   ]
  },
  {
   "cell_type": "markdown",
   "metadata": {},
   "source": [
    "## Variogram modelling\n",
    "___"
   ]
  },
  {
   "cell_type": "markdown",
   "metadata": {},
   "source": [
    "* Variogram model (str)\n",
    "* Sill (float)\n",
    "* Range (float)\n",
    "* Nugget (float)\n",
    "* Number of lag bins (int)\n",
    "* Weighted (Bool)"
   ]
  },
  {
   "cell_type": "code",
   "execution_count": 81,
   "metadata": {},
   "outputs": [],
   "source": [
    "# Nugget (variance at lag=0 metric)\n",
    "\n",
    "# Since we are not dealing with point count data here,\n",
    "# we can not use the formulas from our paper we have talked about\n",
    "# Therefore I would just start with nugget=0 and perhaps later change this\n",
    "\n",
    "# Depending on how many principal components you will use, \n",
    "# you will have to add more entries to this list.\n",
    "nugget_ = [0.40788, 0.25905, 0.3507, 0.2895, 0.1561, 0.146, 0.13089, 0.126, 0.0704, 0., 0., 0., 0., 0., 0.,]"
   ]
  },
  {
   "cell_type": "code",
   "execution_count": 82,
   "metadata": {},
   "outputs": [
    {
     "data": {
      "text/plain": [
       "['01', '02', '03', '04', '05', '06', '07', '08', '09', '10', '11', '12', '13']"
      ]
     },
     "execution_count": 82,
     "metadata": {},
     "output_type": "execute_result"
    }
   ],
   "source": [
    "PC_nr_list = [nr[2:] for nr in mineralogy_pca_df.columns]\n",
    "PC_nr_list"
   ]
  },
  {
   "cell_type": "code",
   "execution_count": 83,
   "metadata": {},
   "outputs": [],
   "source": [
    "# Sill (total variance metric)\n",
    "\n",
    "# A 'list comprehension' construction is used here\n",
    "sill_ = [mineralogy_pca_df.loc[:, f\"PC{i}\"].values.var(ddof=1) \n",
    "         for i in PC_nr_list]"
   ]
  },
  {
   "cell_type": "code",
   "execution_count": 84,
   "metadata": {},
   "outputs": [],
   "source": [
    "# Variogram model parameters dictionary\n",
    "\n",
    "variogram_model_parameters = {}\n",
    "\n",
    "for i, PC in enumerate(mineralogy_pca_df.columns):\n",
    "    parameters = {}\n",
    "    parameters[\"sill\"] = sill_[i]\n",
    "    parameters[\"range\"] = range_[i]\n",
    "    parameters[\"nugget\"] = nugget_[i]\n",
    "        \n",
    "    variogram_model_parameters[PC] = parameters"
   ]
  },
  {
   "cell_type": "code",
   "execution_count": 85,
   "metadata": {},
   "outputs": [],
   "source": [
    "# Variogram model\n",
    "\n",
    "# You can choose between [\"exponential\", \"linear\", \"spherical\", \"power\", \"gaussian\"]\n",
    "# see https://pykrige.readthedocs.io/en/latest/variogram_models.html for equations\n",
    "variogram_model = \"exponential\""
   ]
  },
  {
   "cell_type": "code",
   "execution_count": 86,
   "metadata": {},
   "outputs": [
    {
     "data": {
      "text/plain": [
       "40"
      ]
     },
     "execution_count": 86,
     "metadata": {},
     "output_type": "execute_result"
    }
   ],
   "source": [
    "# Number of lag bins\n",
    "\n",
    "n_lags = int(np.floor(np.sqrt(coordinates_utm.shape[0])))\n",
    "n_lags"
   ]
  },
  {
   "cell_type": "code",
   "execution_count": 87,
   "metadata": {},
   "outputs": [],
   "source": [
    "# Set utm coordinates to use in variogram\n",
    "\n",
    "X = coordinates_utm.iloc[:, 0].values\n",
    "Y = coordinates_utm.iloc[:, 1].values"
   ]
  },
  {
   "cell_type": "code",
   "execution_count": 88,
   "metadata": {},
   "outputs": [
    {
     "name": "stdout",
     "output_type": "stream",
     "text": [
      "PC01\n",
      "Plotting Enabled\n",
      "\n",
      "Adjusting data for anisotropy...\n",
      "Initializing variogram model...\n",
      "Coordinates type: 'euclidean' \n",
      "\n",
      "Using 'exponential' Variogram Model\n",
      "Partial Sill: 0.8276989231124063\n",
      "Full Sill: 1.2355789231124064\n",
      "Range: 165000\n",
      "Nugget: 0.40788 \n",
      "\n"
     ]
    },
    {
     "data": {
      "image/png": "[encoded data removed]",
      "text/plain": [
       "<Figure size 432x288 with 1 Axes>"
      ]
     },
     "metadata": {
      "needs_background": "light"
     },
     "output_type": "display_data"
    },
    {
     "name": "stdout",
     "output_type": "stream",
     "text": [
      "Calculating statistics on variogram model fit...\n",
      "PC02\n",
      "Plotting Enabled\n",
      "\n",
      "Adjusting data for anisotropy...\n",
      "Initializing variogram model...\n",
      "Coordinates type: 'euclidean' \n",
      "\n",
      "Using 'exponential' Variogram Model\n",
      "Partial Sill: 0.5265869803662919\n",
      "Full Sill: 0.7856369803662919\n",
      "Range: 165000\n",
      "Nugget: 0.25905 \n",
      "\n"
     ]
    },
    {
     "data": {
      "image/png": "[encoded data removed]",
      "text/plain": [
       "<Figure size 432x288 with 1 Axes>"
      ]
     },
     "metadata": {
      "needs_background": "light"
     },
     "output_type": "display_data"
    },
    {
     "name": "stdout",
     "output_type": "stream",
     "text": [
      "Calculating statistics on variogram model fit...\n",
      "PC03\n",
      "Plotting Enabled\n",
      "\n",
      "Adjusting data for anisotropy...\n",
      "Initializing variogram model...\n",
      "Coordinates type: 'euclidean' \n",
      "\n",
      "Using 'exponential' Variogram Model\n",
      "Partial Sill: 0.23383136152654938\n",
      "Full Sill: 0.5845313615265494\n",
      "Range: 165000\n",
      "Nugget: 0.3507 \n",
      "\n"
     ]
    },
    {
     "data": {
      "image/png": "[encoded data removed]",
      "text/plain": [
       "<Figure size 432x288 with 1 Axes>"
      ]
     },
     "metadata": {
      "needs_background": "light"
     },
     "output_type": "display_data"
    },
    {
     "name": "stdout",
     "output_type": "stream",
     "text": [
      "Calculating statistics on variogram model fit...\n",
      "PC04\n",
      "Plotting Enabled\n",
      "\n",
      "Adjusting data for anisotropy...\n",
      "Initializing variogram model...\n",
      "Coordinates type: 'euclidean' \n",
      "\n",
      "Using 'exponential' Variogram Model\n",
      "Partial Sill: 0.1930017553347939\n",
      "Full Sill: 0.4825017553347939\n",
      "Range: 165000\n",
      "Nugget: 0.2895 \n",
      "\n"
     ]
    },
    {
     "data": {
      "image/png": "[encoded data removed]",
      "text/plain": [
       "<Figure size 432x288 with 1 Axes>"
      ]
     },
     "metadata": {
      "needs_background": "light"
     },
     "output_type": "display_data"
    },
    {
     "name": "stdout",
     "output_type": "stream",
     "text": [
      "Calculating statistics on variogram model fit...\n",
      "PC05\n",
      "Plotting Enabled\n",
      "\n",
      "Adjusting data for anisotropy...\n",
      "Initializing variogram model...\n",
      "Coordinates type: 'euclidean' \n",
      "\n",
      "Using 'exponential' Variogram Model\n",
      "Partial Sill: 0.15611772103040225\n",
      "Full Sill: 0.31221772103040224\n",
      "Range: 165000\n",
      "Nugget: 0.1561 \n",
      "\n"
     ]
    },
    {
     "data": {
      "image/png": "[encoded data removed]",
      "text/plain": [
       "<Figure size 432x288 with 1 Axes>"
      ]
     },
     "metadata": {
      "needs_background": "light"
     },
     "output_type": "display_data"
    },
    {
     "name": "stdout",
     "output_type": "stream",
     "text": [
      "Calculating statistics on variogram model fit...\n",
      "PC06\n",
      "Plotting Enabled\n",
      "\n",
      "Adjusting data for anisotropy...\n",
      "Initializing variogram model...\n",
      "Coordinates type: 'euclidean' \n",
      "\n",
      "Using 'exponential' Variogram Model\n",
      "Partial Sill: 0.14602666140449935\n",
      "Full Sill: 0.29202666140449934\n",
      "Range: 165000\n",
      "Nugget: 0.146 \n",
      "\n"
     ]
    },
    {
     "data": {
      "image/png": "[encoded data removed]",
      "text/plain": [
       "<Figure size 432x288 with 1 Axes>"
      ]
     },
     "metadata": {
      "needs_background": "light"
     },
     "output_type": "display_data"
    },
    {
     "name": "stdout",
     "output_type": "stream",
     "text": [
      "Calculating statistics on variogram model fit...\n",
      "PC07\n",
      "Plotting Enabled\n",
      "\n",
      "Adjusting data for anisotropy...\n",
      "Initializing variogram model...\n",
      "Coordinates type: 'euclidean' \n",
      "\n",
      "Using 'exponential' Variogram Model\n",
      "Partial Sill: 0.08737072434551144\n",
      "Full Sill: 0.21826072434551144\n",
      "Range: 165000\n",
      "Nugget: 0.13089 \n",
      "\n"
     ]
    },
    {
     "data": {
      "image/png": "[encoded data removed]",
      "text/plain": [
       "<Figure size 432x288 with 1 Axes>"
      ]
     },
     "metadata": {
      "needs_background": "light"
     },
     "output_type": "display_data"
    },
    {
     "name": "stdout",
     "output_type": "stream",
     "text": [
      "Calculating statistics on variogram model fit...\n",
      "PC08\n",
      "Plotting Enabled\n",
      "\n",
      "Adjusting data for anisotropy...\n",
      "Initializing variogram model...\n",
      "Coordinates type: 'euclidean' \n",
      "\n",
      "Using 'exponential' Variogram Model\n",
      "Partial Sill: 0.08403942354637867\n",
      "Full Sill: 0.21003942354637867\n",
      "Range: 165000\n",
      "Nugget: 0.126 \n",
      "\n"
     ]
    },
    {
     "data": {
      "image/png": "[encoded data removed]",
      "text/plain": [
       "<Figure size 432x288 with 1 Axes>"
      ]
     },
     "metadata": {
      "needs_background": "light"
     },
     "output_type": "display_data"
    },
    {
     "name": "stdout",
     "output_type": "stream",
     "text": [
      "Calculating statistics on variogram model fit...\n",
      "PC09\n",
      "Plotting Enabled\n",
      "\n",
      "Adjusting data for anisotropy...\n",
      "Initializing variogram model...\n",
      "Coordinates type: 'euclidean' \n",
      "\n",
      "Using 'exponential' Variogram Model\n",
      "Partial Sill: 0.07040651440394873\n",
      "Full Sill: 0.14080651440394873\n",
      "Range: 165000\n",
      "Nugget: 0.0704 \n",
      "\n"
     ]
    },
    {
     "data": {
      "image/png": "[encoded data removed]",
      "text/plain": [
       "<Figure size 432x288 with 1 Axes>"
      ]
     },
     "metadata": {
      "needs_background": "light"
     },
     "output_type": "display_data"
    },
    {
     "name": "stdout",
     "output_type": "stream",
     "text": [
      "Calculating statistics on variogram model fit...\n",
      "PC10\n",
      "Plotting Enabled\n",
      "\n",
      "Adjusting data for anisotropy...\n",
      "Initializing variogram model...\n",
      "Coordinates type: 'euclidean' \n",
      "\n",
      "Using 'exponential' Variogram Model\n",
      "Partial Sill: 0.04805327747900484\n",
      "Full Sill: 0.04805327747900484\n",
      "Range: 100000\n",
      "Nugget: 0.0 \n",
      "\n"
     ]
    },
    {
     "data": {
      "image/png": "[encoded data removed]",
      "text/plain": [
       "<Figure size 432x288 with 1 Axes>"
      ]
     },
     "metadata": {
      "needs_background": "light"
     },
     "output_type": "display_data"
    },
    {
     "name": "stdout",
     "output_type": "stream",
     "text": [
      "Calculating statistics on variogram model fit...\n",
      "PC11\n",
      "Plotting Enabled\n",
      "\n",
      "Adjusting data for anisotropy...\n",
      "Initializing variogram model...\n",
      "Coordinates type: 'euclidean' \n",
      "\n",
      "Using 'exponential' Variogram Model\n",
      "Partial Sill: 0.015282152925925382\n",
      "Full Sill: 0.015282152925925382\n",
      "Range: 100000\n",
      "Nugget: 0.0 \n",
      "\n"
     ]
    },
    {
     "data": {
      "image/png": "[encoded data removed]",
      "text/plain": [
       "<Figure size 432x288 with 1 Axes>"
      ]
     },
     "metadata": {
      "needs_background": "light"
     },
     "output_type": "display_data"
    },
    {
     "name": "stdout",
     "output_type": "stream",
     "text": [
      "Calculating statistics on variogram model fit...\n",
      "PC12\n",
      "Plotting Enabled\n",
      "\n",
      "Adjusting data for anisotropy...\n",
      "Initializing variogram model...\n",
      "Coordinates type: 'euclidean' \n",
      "\n",
      "Using 'exponential' Variogram Model\n",
      "Partial Sill: 0.005108958109760523\n",
      "Full Sill: 0.005108958109760523\n",
      "Range: 100000\n",
      "Nugget: 0.0 \n",
      "\n"
     ]
    },
    {
     "data": {
      "image/png": "[encoded data removed]",
      "text/plain": [
       "<Figure size 432x288 with 1 Axes>"
      ]
     },
     "metadata": {
      "needs_background": "light"
     },
     "output_type": "display_data"
    },
    {
     "name": "stdout",
     "output_type": "stream",
     "text": [
      "Calculating statistics on variogram model fit...\n",
      "Wall time: 12 s\n"
     ]
    }
   ],
   "source": [
    "%%time\n",
    "# Initialize empty dictionary\n",
    "variograms = {}\n",
    "\n",
    "# Loop though the diiferent principal components\n",
    "for component in mineralogy_pca_df.columns.tolist()[:-1]:\n",
    "    print(component)\n",
    "    # Subset principal component to use\n",
    "    data = mineralogy_pca_df.iloc[:, int(component[-1])-1].values\n",
    "    variograms[component] = \\\n",
    "        OrdinaryKriging(X, Y, data,\n",
    "                        variogram_model='exponential',\n",
    "                        variogram_parameters=variogram_model_parameters[component],\n",
    "                        nlags=n_lags,\n",
    "                        verbose=True,\n",
    "                        enable_statistics=False,\n",
    "                        enable_plotting=True,\n",
    "                        weight=True,\n",
    "                        saveplot=True,\n",
    "                        coordinates_type='euclidean',\n",
    "                        saveloc=\"../_FIGURES/variograms/\",\n",
    "                        principal_component=component,\n",
    "                        pluton=group_name,\n",
    "                        show_nlag_pairs=False, # Turn off displaying number of lag pairs in lag bin\n",
    "                        show_range_determine_guide=True, # 0.95 * sill highlighted with blue line to help determining range\n",
    "                        range_estimate=150000) # Pass in value in meters to display a line at range estimate; set value to None to not display line\n",
    "    \n",
    "# NOTE that ideally Q1 is close to zero, Q2 is close to 1, and cR is as small as possible."
   ]
  },
  {
   "cell_type": "markdown",
   "metadata": {},
   "source": [
    "## Leave One Out Cross Validation (LOOCV) of PCA\n",
    "____"
   ]
  },
  {
   "cell_type": "code",
   "execution_count": 210,
   "metadata": {},
   "outputs": [],
   "source": [
    "# If you have run the cross validation before you can load the results by\n",
    "# running this cell and don't have to run the next cell anymore.\n",
    "CV_results = preproc.load_obj(\"CV_results_fast\")"
   ]
  },
  {
   "cell_type": "code",
   "execution_count": 211,
   "metadata": {},
   "outputs": [],
   "source": [
    "# Use this cross validation to check the hyper-parameters of your chosen variogram model \n",
    "# such as the search_radius, variogram_model, lag_bins etc.\n",
    "\n",
    "# Cross validation parameter dictionary to use\n",
    "# You can remove or add options here which will decrease or increase the number \n",
    "# of combinations of parameters the cross validation will run\n",
    "cv_param_dict = {}\n",
    "\n",
    "for component in mineralogy_pca_df.columns.tolist()[:-1]:\n",
    "    cv_param_dict[component] = {\"method\": [\"ordinary\"],\n",
    "                                \"variogram_model\": [\"exponential\", \"spherical\"],\n",
    "                                \"variogram_model_parameters\": [variogram_model_parameters[component]],\n",
    "                                \"nlags\": [n_lags],\n",
    "                                \"weight\": [True],\n",
    "                                \"n_closest_points\": [number_of_control_points],\n",
    "                                \"search_radius\": [range_[0]]\n",
    "                                }\n",
    "\n",
    "# The CV function below uses parallel processing to speed things up\n",
    "# Your CPU will thus reach 100% probably\n",
    "# To reduce the number of parallel processes to use you can change the following value\n",
    "# Defaults to -1 to use all available CPU cores; change to number between 1 and 8 e.g. \n",
    "# depending on how many cores your CPU has\n",
    "n_jobs = -1 "
   ]
  },
  {
   "cell_type": "code",
   "execution_count": 212,
   "metadata": {},
   "outputs": [
    {
     "name": "stdout",
     "output_type": "stream",
     "text": [
      "PC01\n",
      "Fitting 10 folds for each of 2 candidates, totalling 20 fits\n"
     ]
    },
    {
     "name": "stderr",
     "output_type": "stream",
     "text": [
      "[Parallel(n_jobs=-1)]: Using backend LokyBackend with 8 concurrent workers.\n",
      "[Parallel(n_jobs=-1)]: Done   2 tasks      | elapsed:   10.8s\n",
      "[Parallel(n_jobs=-1)]: Done  10 out of  20 | elapsed:   21.1s remaining:   21.1s\n",
      "[Parallel(n_jobs=-1)]: Done  15 out of  20 | elapsed:   22.3s remaining:    7.4s\n",
      "[Parallel(n_jobs=-1)]: Done  20 out of  20 | elapsed:   27.9s remaining:    0.0s\n",
      "[Parallel(n_jobs=-1)]: Done  20 out of  20 | elapsed:   27.9s finished\n",
      "C:\\Users\\Sebastian\\Anaconda3\\envs\\main\\lib\\site-packages\\sklearn\\model_selection\\_search.py:825: FutureWarning: The parameter 'iid' is deprecated in 0.22 and will be removed in 0.24.\n",
      "  \"removed in 0.24.\", FutureWarning\n"
     ]
    },
    {
     "name": "stdout",
     "output_type": "stream",
     "text": [
      "PC02\n",
      "Fitting 10 folds for each of 2 candidates, totalling 20 fits\n"
     ]
    },
    {
     "name": "stderr",
     "output_type": "stream",
     "text": [
      "[Parallel(n_jobs=-1)]: Using backend LokyBackend with 8 concurrent workers.\n",
      "[Parallel(n_jobs=-1)]: Done   2 tasks      | elapsed:   10.4s\n",
      "[Parallel(n_jobs=-1)]: Done  10 out of  20 | elapsed:   20.9s remaining:   20.9s\n",
      "[Parallel(n_jobs=-1)]: Done  15 out of  20 | elapsed:   21.9s remaining:    7.2s\n",
      "[Parallel(n_jobs=-1)]: Done  20 out of  20 | elapsed:   27.6s remaining:    0.0s\n",
      "[Parallel(n_jobs=-1)]: Done  20 out of  20 | elapsed:   27.6s finished\n"
     ]
    },
    {
     "name": "stdout",
     "output_type": "stream",
     "text": [
      "PC03\n",
      "Fitting 10 folds for each of 2 candidates, totalling 20 fits\n"
     ]
    },
    {
     "name": "stderr",
     "output_type": "stream",
     "text": [
      "[Parallel(n_jobs=-1)]: Using backend LokyBackend with 8 concurrent workers.\n",
      "[Parallel(n_jobs=-1)]: Done   2 tasks      | elapsed:   10.6s\n",
      "[Parallel(n_jobs=-1)]: Done  10 out of  20 | elapsed:   21.1s remaining:   21.1s\n",
      "[Parallel(n_jobs=-1)]: Done  15 out of  20 | elapsed:   21.9s remaining:    7.2s\n",
      "[Parallel(n_jobs=-1)]: Done  20 out of  20 | elapsed:   27.5s remaining:    0.0s\n",
      "[Parallel(n_jobs=-1)]: Done  20 out of  20 | elapsed:   27.5s finished\n"
     ]
    },
    {
     "name": "stdout",
     "output_type": "stream",
     "text": [
      "Wall time: 1min 25s\n"
     ]
    }
   ],
   "source": [
    "%%time\n",
    "# Run CV and get estimators (using default MSE scorer)\n",
    "\n",
    "# Instead of running the CV for all the PCs, let's start with only the first 3 \n",
    "# to get an idea of what are the best parameters to use for the first 3 PCs.\n",
    "# In a later step we can then obtain the best parameters for all PCs that have \n",
    "# a sensible variogram; here this would mean up to and including PC09.\n",
    "# To specify which PCs to use, you can pass them in as list to the 'components_to_use' variable\n",
    "\n",
    "# Another change I've made, is that instead of performing leave-one-out-CV \n",
    "# where the train set is equal to n_sample - 1 and the test set is equal to 1,\n",
    "# it makes sense to here use a different strategy, since you're dealing with many more samples.\n",
    "# Therefore I've included the 'cv_folds' parameter where you can specify \n",
    "# the number of train/test groups you want to use during CV\n",
    "# Let's start with ten groups, which basically means that \n",
    "# you use 90% of the samples as train set and 10% as test test\n",
    "# and this in 10 combinations.\n",
    "\n",
    "# A a later stage we could change the CV to use a statified cv_fold\n",
    "# meaning that it ensures for example that for every train/test grouping of the 10 groups\n",
    "# equal numbers of samples of spcified grouping variable are used \n",
    "# (for example your time category or classification later on)\n",
    "\n",
    "# I've also included the '%%time' statement at the beginning of the cell,\n",
    "# so that at the end of the calculation you can see how much time it took.\n",
    "\n",
    "# Have a look here if you want some background info on the CV method used:\n",
    "# https://scikit-learn.org/stable/modules/generated/sklearn.model_selection.GridSearchCV.html\n",
    "\n",
    "estimators = loocv.perform_loocv(mineralogy_pca_df,\n",
    "                                 coordinates_utm,\n",
    "                                 cv_param_dict,\n",
    "                                 n_jobs=n_jobs,\n",
    "                                 cv_folds=10,\n",
    "                                 components_to_use=[\"PC01\", \"PC02\", \"PC03\"])"
   ]
  },
  {
   "cell_type": "code",
   "execution_count": 213,
   "metadata": {},
   "outputs": [
    {
     "name": "stdout",
     "output_type": "stream",
     "text": [
      "PC01\n",
      "Fitting 10 folds for each of 2 candidates, totalling 20 fits\n"
     ]
    },
    {
     "name": "stderr",
     "output_type": "stream",
     "text": [
      "[Parallel(n_jobs=-1)]: Using backend LokyBackend with 8 concurrent workers.\n",
      "[Parallel(n_jobs=-1)]: Done   2 tasks      | elapsed:   10.7s\n",
      "[Parallel(n_jobs=-1)]: Done  10 out of  20 | elapsed:   21.5s remaining:   21.5s\n",
      "[Parallel(n_jobs=-1)]: Done  15 out of  20 | elapsed:   22.3s remaining:    7.4s\n",
      "[Parallel(n_jobs=-1)]: Done  20 out of  20 | elapsed:   27.8s remaining:    0.0s\n",
      "[Parallel(n_jobs=-1)]: Done  20 out of  20 | elapsed:   27.8s finished\n"
     ]
    },
    {
     "name": "stdout",
     "output_type": "stream",
     "text": [
      "PC02\n",
      "Fitting 10 folds for each of 2 candidates, totalling 20 fits\n"
     ]
    },
    {
     "name": "stderr",
     "output_type": "stream",
     "text": [
      "[Parallel(n_jobs=-1)]: Using backend LokyBackend with 8 concurrent workers.\n",
      "[Parallel(n_jobs=-1)]: Done   2 tasks      | elapsed:   10.8s\n",
      "[Parallel(n_jobs=-1)]: Done  10 out of  20 | elapsed:   21.4s remaining:   21.4s\n",
      "[Parallel(n_jobs=-1)]: Done  15 out of  20 | elapsed:   22.4s remaining:    7.4s\n",
      "[Parallel(n_jobs=-1)]: Done  20 out of  20 | elapsed:   28.2s remaining:    0.0s\n",
      "[Parallel(n_jobs=-1)]: Done  20 out of  20 | elapsed:   28.2s finished\n"
     ]
    },
    {
     "name": "stdout",
     "output_type": "stream",
     "text": [
      "PC03\n",
      "Fitting 10 folds for each of 2 candidates, totalling 20 fits\n"
     ]
    },
    {
     "name": "stderr",
     "output_type": "stream",
     "text": [
      "[Parallel(n_jobs=-1)]: Using backend LokyBackend with 8 concurrent workers.\n",
      "[Parallel(n_jobs=-1)]: Done   2 tasks      | elapsed:   10.7s\n",
      "[Parallel(n_jobs=-1)]: Done  10 out of  20 | elapsed:   21.8s remaining:   21.8s\n",
      "[Parallel(n_jobs=-1)]: Done  15 out of  20 | elapsed:   22.5s remaining:    7.4s\n",
      "[Parallel(n_jobs=-1)]: Done  20 out of  20 | elapsed:   28.1s remaining:    0.0s\n",
      "[Parallel(n_jobs=-1)]: Done  20 out of  20 | elapsed:   28.1s finished\n"
     ]
    },
    {
     "name": "stdout",
     "output_type": "stream",
     "text": [
      "PC04\n",
      "Fitting 10 folds for each of 2 candidates, totalling 20 fits\n"
     ]
    },
    {
     "name": "stderr",
     "output_type": "stream",
     "text": [
      "[Parallel(n_jobs=-1)]: Using backend LokyBackend with 8 concurrent workers.\n",
      "[Parallel(n_jobs=-1)]: Done   2 tasks      | elapsed:   10.8s\n",
      "[Parallel(n_jobs=-1)]: Done  10 out of  20 | elapsed:   21.7s remaining:   21.7s\n",
      "[Parallel(n_jobs=-1)]: Done  15 out of  20 | elapsed:   22.3s remaining:    7.4s\n",
      "[Parallel(n_jobs=-1)]: Done  20 out of  20 | elapsed:   28.4s remaining:    0.0s\n",
      "[Parallel(n_jobs=-1)]: Done  20 out of  20 | elapsed:   28.4s finished\n"
     ]
    },
    {
     "name": "stdout",
     "output_type": "stream",
     "text": [
      "PC05\n",
      "Fitting 10 folds for each of 2 candidates, totalling 20 fits\n"
     ]
    },
    {
     "name": "stderr",
     "output_type": "stream",
     "text": [
      "[Parallel(n_jobs=-1)]: Using backend LokyBackend with 8 concurrent workers.\n",
      "[Parallel(n_jobs=-1)]: Done   2 tasks      | elapsed:   11.2s\n",
      "[Parallel(n_jobs=-1)]: Done  10 out of  20 | elapsed:   21.9s remaining:   21.9s\n",
      "[Parallel(n_jobs=-1)]: Done  15 out of  20 | elapsed:   23.1s remaining:    7.6s\n",
      "[Parallel(n_jobs=-1)]: Done  20 out of  20 | elapsed:   28.8s remaining:    0.0s\n",
      "[Parallel(n_jobs=-1)]: Done  20 out of  20 | elapsed:   28.8s finished\n"
     ]
    },
    {
     "name": "stdout",
     "output_type": "stream",
     "text": [
      "PC06\n",
      "Fitting 10 folds for each of 2 candidates, totalling 20 fits\n"
     ]
    },
    {
     "name": "stderr",
     "output_type": "stream",
     "text": [
      "[Parallel(n_jobs=-1)]: Using backend LokyBackend with 8 concurrent workers.\n",
      "[Parallel(n_jobs=-1)]: Done   2 tasks      | elapsed:   10.9s\n",
      "[Parallel(n_jobs=-1)]: Done  10 out of  20 | elapsed:   21.7s remaining:   21.7s\n",
      "[Parallel(n_jobs=-1)]: Done  15 out of  20 | elapsed:   22.7s remaining:    7.5s\n",
      "[Parallel(n_jobs=-1)]: Done  20 out of  20 | elapsed:   29.8s remaining:    0.0s\n",
      "[Parallel(n_jobs=-1)]: Done  20 out of  20 | elapsed:   29.8s finished\n"
     ]
    },
    {
     "name": "stdout",
     "output_type": "stream",
     "text": [
      "PC07\n",
      "Fitting 10 folds for each of 2 candidates, totalling 20 fits\n"
     ]
    },
    {
     "name": "stderr",
     "output_type": "stream",
     "text": [
      "[Parallel(n_jobs=-1)]: Using backend LokyBackend with 8 concurrent workers.\n",
      "[Parallel(n_jobs=-1)]: Done   2 tasks      | elapsed:   13.1s\n",
      "[Parallel(n_jobs=-1)]: Done  10 out of  20 | elapsed:   24.6s remaining:   24.6s\n",
      "[Parallel(n_jobs=-1)]: Done  15 out of  20 | elapsed:   25.9s remaining:    8.6s\n",
      "[Parallel(n_jobs=-1)]: Done  20 out of  20 | elapsed:   31.8s remaining:    0.0s\n",
      "[Parallel(n_jobs=-1)]: Done  20 out of  20 | elapsed:   31.8s finished\n"
     ]
    },
    {
     "name": "stdout",
     "output_type": "stream",
     "text": [
      "PC08\n",
      "Fitting 10 folds for each of 2 candidates, totalling 20 fits\n"
     ]
    },
    {
     "name": "stderr",
     "output_type": "stream",
     "text": [
      "[Parallel(n_jobs=-1)]: Using backend LokyBackend with 8 concurrent workers.\n",
      "[Parallel(n_jobs=-1)]: Done   2 tasks      | elapsed:   12.4s\n",
      "[Parallel(n_jobs=-1)]: Done  10 out of  20 | elapsed:   23.7s remaining:   23.7s\n",
      "[Parallel(n_jobs=-1)]: Done  15 out of  20 | elapsed:   24.8s remaining:    8.2s\n",
      "[Parallel(n_jobs=-1)]: Done  20 out of  20 | elapsed:   30.9s remaining:    0.0s\n",
      "[Parallel(n_jobs=-1)]: Done  20 out of  20 | elapsed:   30.9s finished\n"
     ]
    },
    {
     "name": "stdout",
     "output_type": "stream",
     "text": [
      "PC09\n",
      "Fitting 10 folds for each of 2 candidates, totalling 20 fits\n"
     ]
    },
    {
     "name": "stderr",
     "output_type": "stream",
     "text": [
      "[Parallel(n_jobs=-1)]: Using backend LokyBackend with 8 concurrent workers.\n",
      "[Parallel(n_jobs=-1)]: Done   2 tasks      | elapsed:   11.5s\n",
      "[Parallel(n_jobs=-1)]: Done  10 out of  20 | elapsed:   22.9s remaining:   22.9s\n",
      "[Parallel(n_jobs=-1)]: Done  15 out of  20 | elapsed:   23.9s remaining:    7.9s\n",
      "[Parallel(n_jobs=-1)]: Done  20 out of  20 | elapsed:   30.0s remaining:    0.0s\n",
      "[Parallel(n_jobs=-1)]: Done  20 out of  20 | elapsed:   30.0s finished\n"
     ]
    },
    {
     "name": "stdout",
     "output_type": "stream",
     "text": [
      "Wall time: 4min 32s\n"
     ]
    }
   ],
   "source": [
    "%%time\n",
    "# Run CV and get estimators (using default MSE scorer)\n",
    "\n",
    "# Instead of running the CV for all the PCs, let's start with only the first 3 \n",
    "# to get an idea of what are the best parameters to use for the first 3 PCs.\n",
    "# In a later step we can then obtain the best parameters for all PCs that have \n",
    "# a sensible variogram; here this would mean up to and including PC09.\n",
    "# To specify which PCs to use, you can pass them in as list to the 'components_to_use' variable\n",
    "\n",
    "# Another change I've made, is that instead of performing leave-one-out-CV \n",
    "# where the train set is equal to n_sample - 1 and the test set is equal to 1,\n",
    "# it makes sense to here use a different strategy, since you're dealing with many more samples.\n",
    "# Therefore I've included the 'cv_folds' parameter where you can specify \n",
    "# the number of train/test groups you want to use during CV\n",
    "# Let's start with ten groups, which basically means that \n",
    "# you use 90% of the samples as train set and 10% as test test\n",
    "# and this in 10 combinations.\n",
    "\n",
    "# A a later stage we could change the CV to use a statified cv_fold\n",
    "# meaning that it ensures for example that for every train/test grouping of the 10 groups\n",
    "# equal numbers of samples of spcified grouping variable are used \n",
    "# (for example your time category or classification later on)\n",
    "\n",
    "# I've also included the '%%time' statement at the beginning of the cell,\n",
    "# so that at the end of the calculation you can see how much time it took.\n",
    "\n",
    "# Have a look here if you want some background info on the CV method used:\n",
    "# https://scikit-learn.org/stable/modules/generated/sklearn.model_selection.GridSearchCV.html\n",
    "\n",
    "estimators = loocv.perform_loocv(mineralogy_pca_df,\n",
    "                                 coordinates_utm,\n",
    "                                 cv_param_dict,\n",
    "                                 n_jobs=n_jobs,\n",
    "                                 cv_folds=10,\n",
    "                                 components_to_use=[f\"PC0{i}\" for i in range(1, 10)])"
   ]
  },
  {
   "cell_type": "code",
   "execution_count": 214,
   "metadata": {},
   "outputs": [],
   "source": [
    "# Convert estimators to dict of dataframes\n",
    "CV_results = loocv.convert_scores_to_df(estimators)"
   ]
  },
  {
   "cell_type": "code",
   "execution_count": 215,
   "metadata": {},
   "outputs": [],
   "source": [
    "# Save CV_results to pickle file for easy use later\n",
    "# These are the results from the 56min CV above (with only first 3 PCs)\n",
    "preproc.save_obj(CV_results, \"CV_results_summarized\")"
   ]
  },
  {
   "cell_type": "code",
   "execution_count": 216,
   "metadata": {},
   "outputs": [],
   "source": [
    "# Save CV_results to pickle file for easy use later\n",
    "# These are the results from the 2min CV above (with only first 9 PCs, simple parameters)\n",
    "preproc.save_obj(CV_results, \"CV_results_fast\")"
   ]
  },
  {
   "cell_type": "code",
   "execution_count": 217,
   "metadata": {},
   "outputs": [
    {
     "name": "stdout",
     "output_type": "stream",
     "text": [
      "PC01\n",
      "rank_test_score                    2\n",
      "mean_test_score              1.03436\n",
      "std_test_score              0.649822\n",
      "mean_train_score         2.05895e-30\n",
      "param_method                ordinary\n",
      "param_variogram_model    exponential\n",
      "param_search_radius           165000\n",
      "Name: 0, dtype: object\n",
      "\n",
      "\n",
      "PC02\n",
      "rank_test_score                    2\n",
      "mean_test_score             0.612539\n",
      "std_test_score              0.178877\n",
      "mean_train_score                   0\n",
      "param_method                ordinary\n",
      "param_variogram_model    exponential\n",
      "param_search_radius           165000\n",
      "Name: 0, dtype: object\n",
      "\n",
      "\n",
      "PC03\n",
      "rank_test_score                    2\n",
      "mean_test_score              0.43431\n",
      "std_test_score             0.0459239\n",
      "mean_train_score                   0\n",
      "param_method                ordinary\n",
      "param_variogram_model    exponential\n",
      "param_search_radius           165000\n",
      "Name: 0, dtype: object\n",
      "\n",
      "\n",
      "PC04\n",
      "rank_test_score                    2\n",
      "mean_test_score              0.45454\n",
      "std_test_score             0.0879522\n",
      "mean_train_score                   0\n",
      "param_method                ordinary\n",
      "param_variogram_model    exponential\n",
      "param_search_radius           165000\n",
      "Name: 0, dtype: object\n",
      "\n",
      "\n",
      "PC05\n",
      "rank_test_score                    2\n",
      "mean_test_score             0.295389\n",
      "std_test_score             0.0696591\n",
      "mean_train_score                   0\n",
      "param_method                ordinary\n",
      "param_variogram_model    exponential\n",
      "param_search_radius           165000\n",
      "Name: 0, dtype: object\n",
      "\n",
      "\n",
      "PC06\n",
      "rank_test_score                    2\n",
      "mean_test_score             0.262983\n",
      "std_test_score             0.0917018\n",
      "mean_train_score                   0\n",
      "param_method                ordinary\n",
      "param_variogram_model    exponential\n",
      "param_search_radius           165000\n",
      "Name: 0, dtype: object\n",
      "\n",
      "\n",
      "PC07\n",
      "rank_test_score                    2\n",
      "mean_test_score             0.193281\n",
      "std_test_score              0.062832\n",
      "mean_train_score                   0\n",
      "param_method                ordinary\n",
      "param_variogram_model    exponential\n",
      "param_search_radius           165000\n",
      "Name: 0, dtype: object\n",
      "\n",
      "\n",
      "PC08\n",
      "rank_test_score                    2\n",
      "mean_test_score             0.191163\n",
      "std_test_score             0.0781861\n",
      "mean_train_score                   0\n",
      "param_method                ordinary\n",
      "param_variogram_model    exponential\n",
      "param_search_radius           165000\n",
      "Name: 0, dtype: object\n",
      "\n",
      "\n",
      "PC09\n",
      "rank_test_score                    2\n",
      "mean_test_score             0.120191\n",
      "std_test_score             0.0458316\n",
      "mean_train_score                   0\n",
      "param_method                ordinary\n",
      "param_variogram_model    exponential\n",
      "param_search_radius           165000\n",
      "Name: 0, dtype: object\n",
      "\n",
      "\n"
     ]
    }
   ],
   "source": [
    "# Quick look at best results per PC\n",
    "loocv.print_best_scores(CV_results)"
   ]
  },
  {
   "cell_type": "markdown",
   "metadata": {},
   "source": [
    "## Calculating predictions for best model\n",
    "____"
   ]
  },
  {
   "cell_type": "code",
   "execution_count": 89,
   "metadata": {},
   "outputs": [],
   "source": [
    "# Here you can specify the components and search_radii you want to use \n",
    "# when performing the kriging and performing the postprocessing calculations\n",
    "components_to_use = [f\"PC{i:02d}\" for i in range(1, 13)]\n",
    "search_radii = [range_[0]]"
   ]
  },
  {
   "cell_type": "code",
   "execution_count": 90,
   "metadata": {},
   "outputs": [],
   "source": [
    "estimators_final = {}\n",
    "\n",
    "for component in components_to_use:  # Changed to only first 9 PCs\n",
    "    for radius in search_radii:  # Removed critical_distance\n",
    "        for variable_to_fit in [\"estimates\", \"variances\"]:\n",
    "\n",
    "            estimators_final[f\"{component}_{radius}_{variable_to_fit}\"] = \\\n",
    "                Krige(method='ordinary',\n",
    "                      variogram_model=variogram_model,\n",
    "                      variogram_model_parameters=variogram_model_parameters[component],\n",
    "                      nlags=n_lags,\n",
    "                      weight=True,\n",
    "                      n_closest_points=number_of_control_points,\n",
    "                      search_radius=radius,\n",
    "                      variable_to_fit=variable_to_fit)"
   ]
  },
  {
   "cell_type": "code",
   "execution_count": 30,
   "metadata": {},
   "outputs": [],
   "source": [
    "# Run this cell if you have previously run the next cell and saved its outcome\n",
    "kriging_predictions = preproc.load_obj(\"kriging_predictions\")"
   ]
  },
  {
   "cell_type": "code",
   "execution_count": 91,
   "metadata": {},
   "outputs": [
    {
     "name": "stdout",
     "output_type": "stream",
     "text": [
      "PC01 165000 estimates\n"
     ]
    },
    {
     "name": "stderr",
     "output_type": "stream",
     "text": [
      "[Parallel(n_jobs=-1)]: Using backend LokyBackend with 8 concurrent workers.\n",
      "[Parallel(n_jobs=-1)]: Done   4 out of  10 | elapsed:   11.9s remaining:   17.8s\n",
      "[Parallel(n_jobs=-1)]: Done   7 out of  10 | elapsed:   11.9s remaining:    5.0s\n",
      "[Parallel(n_jobs=-1)]: Done  10 out of  10 | elapsed:   13.3s remaining:    0.0s\n",
      "[Parallel(n_jobs=-1)]: Done  10 out of  10 | elapsed:   13.3s finished\n",
      "[Parallel(n_jobs=-1)]: Using backend LokyBackend with 8 concurrent workers.\n"
     ]
    },
    {
     "name": "stdout",
     "output_type": "stream",
     "text": [
      "PC02 165000 estimates\n"
     ]
    },
    {
     "name": "stderr",
     "output_type": "stream",
     "text": [
      "[Parallel(n_jobs=-1)]: Done   4 out of  10 | elapsed:    2.5s remaining:    3.9s\n",
      "[Parallel(n_jobs=-1)]: Done   7 out of  10 | elapsed:    2.6s remaining:    1.1s\n",
      "[Parallel(n_jobs=-1)]: Done  10 out of  10 | elapsed:    3.8s remaining:    0.0s\n",
      "[Parallel(n_jobs=-1)]: Done  10 out of  10 | elapsed:    3.8s finished\n",
      "[Parallel(n_jobs=-1)]: Using backend LokyBackend with 8 concurrent workers.\n"
     ]
    },
    {
     "name": "stdout",
     "output_type": "stream",
     "text": [
      "PC03 165000 estimates\n"
     ]
    },
    {
     "name": "stderr",
     "output_type": "stream",
     "text": [
      "[Parallel(n_jobs=-1)]: Done   4 out of  10 | elapsed:    2.4s remaining:    3.6s\n",
      "[Parallel(n_jobs=-1)]: Done   7 out of  10 | elapsed:    2.4s remaining:    1.0s\n",
      "[Parallel(n_jobs=-1)]: Done  10 out of  10 | elapsed:    3.8s remaining:    0.0s\n",
      "[Parallel(n_jobs=-1)]: Done  10 out of  10 | elapsed:    3.8s finished\n",
      "[Parallel(n_jobs=-1)]: Using backend LokyBackend with 8 concurrent workers.\n"
     ]
    },
    {
     "name": "stdout",
     "output_type": "stream",
     "text": [
      "PC04 165000 estimates\n"
     ]
    },
    {
     "name": "stderr",
     "output_type": "stream",
     "text": [
      "[Parallel(n_jobs=-1)]: Done   4 out of  10 | elapsed:    2.4s remaining:    3.7s\n",
      "[Parallel(n_jobs=-1)]: Done   7 out of  10 | elapsed:    2.5s remaining:    1.0s\n",
      "[Parallel(n_jobs=-1)]: Done  10 out of  10 | elapsed:    3.7s remaining:    0.0s\n",
      "[Parallel(n_jobs=-1)]: Done  10 out of  10 | elapsed:    3.7s finished\n",
      "[Parallel(n_jobs=-1)]: Using backend LokyBackend with 8 concurrent workers.\n"
     ]
    },
    {
     "name": "stdout",
     "output_type": "stream",
     "text": [
      "PC05 165000 estimates\n"
     ]
    },
    {
     "name": "stderr",
     "output_type": "stream",
     "text": [
      "[Parallel(n_jobs=-1)]: Done   4 out of  10 | elapsed:    2.5s remaining:    3.8s\n",
      "[Parallel(n_jobs=-1)]: Done   7 out of  10 | elapsed:    2.6s remaining:    1.1s\n",
      "[Parallel(n_jobs=-1)]: Done  10 out of  10 | elapsed:    3.9s remaining:    0.0s\n",
      "[Parallel(n_jobs=-1)]: Done  10 out of  10 | elapsed:    3.9s finished\n",
      "[Parallel(n_jobs=-1)]: Using backend LokyBackend with 8 concurrent workers.\n"
     ]
    },
    {
     "name": "stdout",
     "output_type": "stream",
     "text": [
      "PC06 165000 estimates\n"
     ]
    },
    {
     "name": "stderr",
     "output_type": "stream",
     "text": [
      "[Parallel(n_jobs=-1)]: Done   4 out of  10 | elapsed:    2.4s remaining:    3.6s\n",
      "[Parallel(n_jobs=-1)]: Done   7 out of  10 | elapsed:    2.5s remaining:    1.0s\n",
      "[Parallel(n_jobs=-1)]: Done  10 out of  10 | elapsed:    3.8s remaining:    0.0s\n",
      "[Parallel(n_jobs=-1)]: Done  10 out of  10 | elapsed:    3.8s finished\n",
      "[Parallel(n_jobs=-1)]: Using backend LokyBackend with 8 concurrent workers.\n"
     ]
    },
    {
     "name": "stdout",
     "output_type": "stream",
     "text": [
      "PC07 165000 estimates\n"
     ]
    },
    {
     "name": "stderr",
     "output_type": "stream",
     "text": [
      "[Parallel(n_jobs=-1)]: Done   4 out of  10 | elapsed:    2.4s remaining:    3.7s\n",
      "[Parallel(n_jobs=-1)]: Done   7 out of  10 | elapsed:    2.5s remaining:    1.0s\n",
      "[Parallel(n_jobs=-1)]: Done  10 out of  10 | elapsed:    3.8s remaining:    0.0s\n",
      "[Parallel(n_jobs=-1)]: Done  10 out of  10 | elapsed:    3.8s finished\n",
      "[Parallel(n_jobs=-1)]: Using backend LokyBackend with 8 concurrent workers.\n"
     ]
    },
    {
     "name": "stdout",
     "output_type": "stream",
     "text": [
      "PC08 165000 estimates\n"
     ]
    },
    {
     "name": "stderr",
     "output_type": "stream",
     "text": [
      "[Parallel(n_jobs=-1)]: Done   4 out of  10 | elapsed:    2.4s remaining:    3.6s\n",
      "[Parallel(n_jobs=-1)]: Done   7 out of  10 | elapsed:    2.5s remaining:    1.0s\n",
      "[Parallel(n_jobs=-1)]: Done  10 out of  10 | elapsed:    3.8s remaining:    0.0s\n",
      "[Parallel(n_jobs=-1)]: Done  10 out of  10 | elapsed:    3.8s finished\n",
      "[Parallel(n_jobs=-1)]: Using backend LokyBackend with 8 concurrent workers.\n"
     ]
    },
    {
     "name": "stdout",
     "output_type": "stream",
     "text": [
      "PC09 165000 estimates\n"
     ]
    },
    {
     "name": "stderr",
     "output_type": "stream",
     "text": [
      "[Parallel(n_jobs=-1)]: Done   4 out of  10 | elapsed:    2.9s remaining:    4.4s\n",
      "[Parallel(n_jobs=-1)]: Done   7 out of  10 | elapsed:    3.0s remaining:    1.2s\n",
      "[Parallel(n_jobs=-1)]: Done  10 out of  10 | elapsed:    4.0s remaining:    0.0s\n",
      "[Parallel(n_jobs=-1)]: Done  10 out of  10 | elapsed:    4.0s finished\n",
      "[Parallel(n_jobs=-1)]: Using backend LokyBackend with 8 concurrent workers.\n"
     ]
    },
    {
     "name": "stdout",
     "output_type": "stream",
     "text": [
      "PC10 165000 estimates\n"
     ]
    },
    {
     "name": "stderr",
     "output_type": "stream",
     "text": [
      "[Parallel(n_jobs=-1)]: Done   4 out of  10 | elapsed:    2.6s remaining:    3.9s\n",
      "[Parallel(n_jobs=-1)]: Done   7 out of  10 | elapsed:    2.9s remaining:    1.2s\n",
      "[Parallel(n_jobs=-1)]: Done  10 out of  10 | elapsed:    4.7s remaining:    0.0s\n",
      "[Parallel(n_jobs=-1)]: Done  10 out of  10 | elapsed:    4.7s finished\n",
      "[Parallel(n_jobs=-1)]: Using backend LokyBackend with 8 concurrent workers.\n"
     ]
    },
    {
     "name": "stdout",
     "output_type": "stream",
     "text": [
      "PC11 165000 estimates\n"
     ]
    },
    {
     "name": "stderr",
     "output_type": "stream",
     "text": [
      "[Parallel(n_jobs=-1)]: Done   4 out of  10 | elapsed:    2.6s remaining:    3.9s\n",
      "[Parallel(n_jobs=-1)]: Done   7 out of  10 | elapsed:    2.6s remaining:    1.1s\n",
      "[Parallel(n_jobs=-1)]: Done  10 out of  10 | elapsed:    4.1s remaining:    0.0s\n",
      "[Parallel(n_jobs=-1)]: Done  10 out of  10 | elapsed:    4.1s finished\n",
      "[Parallel(n_jobs=-1)]: Using backend LokyBackend with 8 concurrent workers.\n"
     ]
    },
    {
     "name": "stdout",
     "output_type": "stream",
     "text": [
      "PC12 165000 estimates\n"
     ]
    },
    {
     "name": "stderr",
     "output_type": "stream",
     "text": [
      "[Parallel(n_jobs=-1)]: Done   4 out of  10 | elapsed:    3.1s remaining:    4.7s\n",
      "[Parallel(n_jobs=-1)]: Done   7 out of  10 | elapsed:    3.3s remaining:    1.3s\n"
     ]
    },
    {
     "name": "stdout",
     "output_type": "stream",
     "text": [
      "Wall time: 58 s\n"
     ]
    },
    {
     "name": "stderr",
     "output_type": "stream",
     "text": [
      "[Parallel(n_jobs=-1)]: Done  10 out of  10 | elapsed:    4.1s remaining:    0.0s\n",
      "[Parallel(n_jobs=-1)]: Done  10 out of  10 | elapsed:    4.1s finished\n"
     ]
    }
   ],
   "source": [
    "%%time\n",
    "# You can again change the n_jobs to lower the #CPU cores used for parallel processing\n",
    "# Also set the cv_folds variable below\n",
    "cv_folds = 10\n",
    "\n",
    "kriging_predictions = {}\n",
    "\n",
    "for component in components_to_use:  # Changed to only first 9 PCs\n",
    "    for radius in search_radii:  # Removed critical_distance\n",
    "        for variable_to_fit in [\"estimates\"]:  # Removed 'variances'\n",
    "            \n",
    "            # Let's print out the combination to see where we are in the loops\n",
    "            print(component, radius, variable_to_fit)\n",
    "            \n",
    "            kriging_predictions[f\"{component}_{radius}_{variable_to_fit}\"] = \\\n",
    "                cross_val_predict(estimators_final[f\"{component}_{radius}_{variable_to_fit}\"], \n",
    "                                  X=np.stack((coordinates_utm[\"X\"],\n",
    "                                              coordinates_utm[\"Y\"]), axis=1),\n",
    "                                  y=mineralogy_pca_df[component],\n",
    "                                  cv=cv_folds,\n",
    "                                  n_jobs=-1,\n",
    "                                  verbose=5)"
   ]
  },
  {
   "cell_type": "code",
   "execution_count": 222,
   "metadata": {},
   "outputs": [],
   "source": [
    "preproc.save_obj(kriging_predictions, \"kriging_predictions\")"
   ]
  },
  {
   "cell_type": "markdown",
   "metadata": {},
   "source": [
    "## Calculate clr solutions\n",
    "____"
   ]
  },
  {
   "cell_type": "code",
   "execution_count": 92,
   "metadata": {},
   "outputs": [
    {
     "name": "stdout",
     "output_type": "stream",
     "text": [
      "165000\n"
     ]
    },
    {
     "data": {
      "text/html": [
       "<div>\n",
       "<style scoped>\n",
       "    .dataframe tbody tr th:only-of-type {\n",
       "        vertical-align: middle;\n",
       "    }\n",
       "\n",
       "    .dataframe tbody tr th {\n",
       "        vertical-align: top;\n",
       "    }\n",
       "\n",
       "    .dataframe thead th {\n",
       "        text-align: right;\n",
       "    }\n",
       "</style>\n",
       "<table border=\"1\" class=\"dataframe\">\n",
       "  <thead>\n",
       "    <tr style=\"text-align: right;\">\n",
       "      <th></th>\n",
       "      <th>PC01</th>\n",
       "      <th>PC02</th>\n",
       "      <th>PC03</th>\n",
       "      <th>PC04</th>\n",
       "      <th>PC05</th>\n",
       "      <th>PC06</th>\n",
       "      <th>PC07</th>\n",
       "      <th>PC08</th>\n",
       "      <th>PC09</th>\n",
       "      <th>PC10</th>\n",
       "      <th>PC11</th>\n",
       "      <th>PC12</th>\n",
       "    </tr>\n",
       "  </thead>\n",
       "  <tbody>\n",
       "    <tr>\n",
       "      <th>2</th>\n",
       "      <td>-0.197321</td>\n",
       "      <td>0.451533</td>\n",
       "      <td>-0.354312</td>\n",
       "      <td>-0.129260</td>\n",
       "      <td>-0.063867</td>\n",
       "      <td>0.167744</td>\n",
       "      <td>-0.342542</td>\n",
       "      <td>0.109017</td>\n",
       "      <td>0.043123</td>\n",
       "      <td>0.241380</td>\n",
       "      <td>0.046730</td>\n",
       "      <td>-0.049917</td>\n",
       "    </tr>\n",
       "    <tr>\n",
       "      <th>6</th>\n",
       "      <td>0.291434</td>\n",
       "      <td>1.247871</td>\n",
       "      <td>-0.415729</td>\n",
       "      <td>-0.427136</td>\n",
       "      <td>0.434561</td>\n",
       "      <td>-0.058235</td>\n",
       "      <td>0.071804</td>\n",
       "      <td>0.010938</td>\n",
       "      <td>0.011561</td>\n",
       "      <td>0.231048</td>\n",
       "      <td>-0.022974</td>\n",
       "      <td>-0.042932</td>\n",
       "    </tr>\n",
       "    <tr>\n",
       "      <th>9</th>\n",
       "      <td>-0.269215</td>\n",
       "      <td>-0.178796</td>\n",
       "      <td>-0.388521</td>\n",
       "      <td>0.042966</td>\n",
       "      <td>0.176660</td>\n",
       "      <td>0.104549</td>\n",
       "      <td>0.163824</td>\n",
       "      <td>-0.060899</td>\n",
       "      <td>-0.056369</td>\n",
       "      <td>-0.152101</td>\n",
       "      <td>-0.045159</td>\n",
       "      <td>0.023642</td>\n",
       "    </tr>\n",
       "    <tr>\n",
       "      <th>10</th>\n",
       "      <td>-0.430284</td>\n",
       "      <td>0.228471</td>\n",
       "      <td>-0.585152</td>\n",
       "      <td>-0.129874</td>\n",
       "      <td>0.175775</td>\n",
       "      <td>-0.101404</td>\n",
       "      <td>0.072609</td>\n",
       "      <td>0.132016</td>\n",
       "      <td>0.000128</td>\n",
       "      <td>-0.096313</td>\n",
       "      <td>0.012827</td>\n",
       "      <td>-0.017384</td>\n",
       "    </tr>\n",
       "    <tr>\n",
       "      <th>11</th>\n",
       "      <td>0.297280</td>\n",
       "      <td>0.285561</td>\n",
       "      <td>-0.172335</td>\n",
       "      <td>-0.173220</td>\n",
       "      <td>-0.191828</td>\n",
       "      <td>0.094192</td>\n",
       "      <td>-0.085399</td>\n",
       "      <td>-0.153781</td>\n",
       "      <td>-0.064341</td>\n",
       "      <td>-0.032410</td>\n",
       "      <td>-0.059879</td>\n",
       "      <td>0.048945</td>\n",
       "    </tr>\n",
       "  </tbody>\n",
       "</table>\n",
       "</div>"
      ],
      "text/plain": [
       "        PC01      PC02      PC03      PC04      PC05      PC06      PC07  \\\n",
       "2  -0.197321  0.451533 -0.354312 -0.129260 -0.063867  0.167744 -0.342542   \n",
       "6   0.291434  1.247871 -0.415729 -0.427136  0.434561 -0.058235  0.071804   \n",
       "9  -0.269215 -0.178796 -0.388521  0.042966  0.176660  0.104549  0.163824   \n",
       "10 -0.430284  0.228471 -0.585152 -0.129874  0.175775 -0.101404  0.072609   \n",
       "11  0.297280  0.285561 -0.172335 -0.173220 -0.191828  0.094192 -0.085399   \n",
       "\n",
       "        PC08      PC09      PC10      PC11      PC12  \n",
       "2   0.109017  0.043123  0.241380  0.046730 -0.049917  \n",
       "6   0.010938  0.011561  0.231048 -0.022974 -0.042932  \n",
       "9  -0.060899 -0.056369 -0.152101 -0.045159  0.023642  \n",
       "10  0.132016  0.000128 -0.096313  0.012827 -0.017384  \n",
       "11 -0.153781 -0.064341 -0.032410 -0.059879  0.048945  "
      ]
     },
     "execution_count": 92,
     "metadata": {},
     "output_type": "execute_result"
    }
   ],
   "source": [
    "kriging_estimates_df = {}\n",
    "\n",
    "for radius in search_radii:\n",
    "    temp = {}\n",
    "    \n",
    "    for component in components_to_use:\n",
    "        key = f\"{component}_{radius}_estimates\"\n",
    "        temp[key] = kriging_predictions[key]\n",
    "\n",
    "    kriging_estimates_df[f\"{radius}\"] = pd.DataFrame.from_dict(temp)\n",
    "    kriging_estimates_df[f\"{radius}\"].index = mineralogy_pca_df.index\n",
    "    kriging_estimates_df[f\"{radius}\"].columns = components_to_use\n",
    "    \n",
    "    print(f\"{radius}\")\n",
    "    kriging_estimates_df[f\"{radius}\"].head()"
   ]
  },
  {
   "cell_type": "raw",
   "metadata": {},
   "source": [
    "kriging_variances_df = {}\n",
    "\n",
    "\n",
    "for radius in search_radii:\n",
    "    temp = {}\n",
    "    \n",
    "    for component in components_to_use:\n",
    "        key = f\"{component}_{radius}_variances\"\n",
    "        temp[key] = kriging_predictions[key]\n",
    "        \n",
    "    kriging_variances_df[f\"{radius}\"] = pd.DataFrame.from_dict(temp)\n",
    "    kriging_variances_df[f\"{radius}\"].index = mineralogy_pca_df.index\n",
    "    kriging_variances_df[f\"{radius}\"].columns = components_to_use\n",
    "    \n",
    "    print(f\"{radius}\")\n",
    "    kriging_variances_df[f\"{radius}\"].head()"
   ]
  },
  {
   "cell_type": "raw",
   "metadata": {},
   "source": [
    "kriging_variances_mean_df = {}\n",
    "\n",
    "for radius in search_radii:\n",
    "    kriging_variances_mean_df[f\"{radius}\"] = \\\n",
    "        kriging_variances_df[f\"{radius}\"].mean(axis=0)\n",
    "\n",
    "    print(f\"{radius}\")\n",
    "    kriging_variances_mean_df[f\"{radius}\"]"
   ]
  },
  {
   "cell_type": "code",
   "execution_count": 93,
   "metadata": {},
   "outputs": [],
   "source": [
    "kriging_estimates_clr = {}\n",
    "\n",
    "for ncomp in range(1, len(components_to_use) + 1):\n",
    "    for radius in search_radii:\n",
    "\n",
    "        kriging_estimates_clr[f\"{ncomp}_{radius}\"] = \\\n",
    "            postproc.reverse_pca(mineralogy_pca, \n",
    "                                 kriging_estimates_df[f\"{radius}\"],\n",
    "                                 mineralogy_clr,\n",
    "                                 n_comp=ncomp)"
   ]
  },
  {
   "cell_type": "code",
   "execution_count": 94,
   "metadata": {},
   "outputs": [],
   "source": [
    "solutions_clr = {}\n",
    "\n",
    "for ncomp in range(1, len(components_to_use) + 1):\n",
    "    for radius in search_radii:\n",
    "\n",
    "        solutions_clr[f\"{ncomp}_{radius}\"] = \\\n",
    "            pd.DataFrame(kriging_estimates_clr[f\"{ncomp}_{radius}\"], \n",
    "                         index=mineralogy_clr.index, \n",
    "                         columns=mineralogy_clr.columns)"
   ]
  },
  {
   "cell_type": "code",
   "execution_count": 95,
   "metadata": {},
   "outputs": [],
   "source": [
    "residuals_clr = {}\n",
    "\n",
    "for ncomp in range(1, len(components_to_use) + 1):\n",
    "    for radius in search_radii:\n",
    "\n",
    "        residuals_clr[f\"{ncomp}_{radius}\"] = \\\n",
    "            mineralogy_clr.subtract(solutions_clr[f\"{ncomp}_{radius}\"])"
   ]
  },
  {
   "cell_type": "code",
   "execution_count": 229,
   "metadata": {},
   "outputs": [],
   "source": [
    "for ncomp in range(1, len(components_to_use) + 1):\n",
    "    for radius in search_radii:\n",
    "        temp = pd.merge(residuals_clr[f\"{ncomp}_{radius}\"], \n",
    "                        pd.DataFrame(nvalues_control_points[radius], \n",
    "                                     columns=[\"n_closest_points\"]), \n",
    "                        left_index=True, \n",
    "                        right_index=True)\\\n",
    "                 .sort_values(\"n_closest_points\")\n",
    "        \n",
    "        temp.to_excel(f\"../_RESULTS/Residuals/residuals_clr_{ncomp}_{radius}_{group_name}.xlsx\")"
   ]
  },
  {
   "cell_type": "code",
   "execution_count": 230,
   "metadata": {},
   "outputs": [],
   "source": [
    "preproc.save_obj(residuals_clr, \"residuals_clr\")"
   ]
  },
  {
   "cell_type": "code",
   "execution_count": 231,
   "metadata": {},
   "outputs": [],
   "source": [
    "preproc.save_obj(nvalues_control_points, \"nvalues_control_points\")"
   ]
  },
  {
   "cell_type": "markdown",
   "metadata": {},
   "source": [
    "## Model selection"
   ]
  },
  {
   "cell_type": "code",
   "execution_count": 96,
   "metadata": {},
   "outputs": [
    {
     "data": {
      "text/plain": [
       "{'1_165000': 4.127494786624378,\n",
       " '2_165000': 3.955052113479161,\n",
       " '3_165000': 3.8052438264695767,\n",
       " '4_165000': 3.777562248922468,\n",
       " '5_165000': 3.7611028603170844,\n",
       " '6_165000': 3.7324735888898557,\n",
       " '7_165000': 3.707770631891534,\n",
       " '8_165000': 3.689215858993487,\n",
       " '9_165000': 3.6687932008677664,\n",
       " '10_165000': 3.675206226899799,\n",
       " '11_165000': 3.6761912019682574,\n",
       " '12_165000': 3.677591989185273}"
      ]
     },
     "execution_count": 96,
     "metadata": {},
     "output_type": "execute_result"
    },
    {
     "data": {
      "text/plain": [
       "3.6687932008677664"
      ]
     },
     "execution_count": 96,
     "metadata": {},
     "output_type": "execute_result"
    },
    {
     "data": {
      "text/plain": [
       "'9_165000'"
      ]
     },
     "execution_count": 96,
     "metadata": {},
     "output_type": "execute_result"
    }
   ],
   "source": [
    "# Get MSPE_Q values and select best model based on it\n",
    "# Make sure the selected model passes the Hotelling's T² 2-sample test above, though\n",
    "MSPE_Q = {}\n",
    "best_MSPE_Q = 1000\n",
    "\n",
    "for ncomp in range(1, len(components_to_use) + 1):\n",
    "    for radius in search_radii:\n",
    "\n",
    "        # Calculate MSPE_Q from clr residuals\n",
    "        MSPE_Q_temp = np.mean(np.sum(residuals_clr[f\"{ncomp}_{radius}\"] ** 2, axis=1), axis=0)\n",
    "\n",
    "        if MSPE_Q_temp < best_MSPE_Q:\n",
    "            # Store best MSPE_Q en corresponding model\n",
    "            best_MSPE_Q = MSPE_Q_temp\n",
    "            selected_model = f\"{ncomp}_{radius}\"\n",
    "\n",
    "        MSPE_Q[f\"{ncomp}_{radius}\"] = MSPE_Q_temp\n",
    "                \n",
    "MSPE_Q\n",
    "best_MSPE_Q\n",
    "selected_model\n",
    "selected_model_PCs = selected_model.split(\"_\")[0]"
   ]
  },
  {
   "cell_type": "markdown",
   "metadata": {},
   "source": [
    "**Make sure to remove the definition of 'n_comp' later on in the cell with the reverse calculation of the interpolations**"
   ]
  },
  {
   "cell_type": "code",
   "execution_count": 97,
   "metadata": {},
   "outputs": [],
   "source": [
    "# Number of PCs to use for reverse calculations based on selected model\n",
    "n_comp = int(selected_model.split(\"_\")[0])\n",
    "# Whcih PCs to use moving forward\n",
    "selected_components_to_use = [f\"PC{i:02d}\" for i in range(1, n_comp + 1)]"
   ]
  },
  {
   "cell_type": "code",
   "execution_count": 98,
   "metadata": {},
   "outputs": [
    {
     "data": {
      "text/plain": [
       "['PC01', 'PC02', 'PC03', 'PC04', 'PC05', 'PC06', 'PC07', 'PC08', 'PC09']"
      ]
     },
     "execution_count": 98,
     "metadata": {},
     "output_type": "execute_result"
    }
   ],
   "source": [
    "selected_components_to_use"
   ]
  },
  {
   "cell_type": "markdown",
   "metadata": {},
   "source": [
    "## Contour plots\n",
    "____"
   ]
  },
  {
   "cell_type": "code",
   "execution_count": 99,
   "metadata": {},
   "outputs": [
    {
     "name": "stdout",
     "output_type": "stream",
     "text": [
      "(1623, 2)\n",
      "(117691, 2)\n",
      "301 391\n"
     ]
    },
    {
     "data": {
      "text/plain": [
       "(391, 301)"
      ]
     },
     "execution_count": 99,
     "metadata": {},
     "output_type": "execute_result"
    }
   ],
   "source": [
    "nvalues_critical_distance = \\\n",
    "    variograms[\"PC01\"].determine_mask_array(grid[0], \n",
    "                                            grid[1], \n",
    "                                            search_radius=critical_distance)\n",
    "mask_critical_distance = nvalues_critical_distance < 3\n",
    "mask_critical_distance.shape"
   ]
  },
  {
   "cell_type": "code",
   "execution_count": 100,
   "metadata": {},
   "outputs": [
    {
     "data": {
      "text/plain": [
       "98526"
      ]
     },
     "execution_count": 100,
     "metadata": {},
     "output_type": "execute_result"
    }
   ],
   "source": [
    "mask_critical_distance[mask_critical_distance == 1].sum()"
   ]
  },
  {
   "cell_type": "code",
   "execution_count": 101,
   "metadata": {},
   "outputs": [],
   "source": [
    "non_masked_grid_nodes = \\\n",
    "    grid[0].shape[0] * grid[1].shape[0] \\\n",
    "    - mask_critical_distance[mask_critical_distance == 1].sum()"
   ]
  },
  {
   "cell_type": "code",
   "execution_count": 102,
   "metadata": {},
   "outputs": [],
   "source": [
    "grid_cell_spacing = grid[0][1] - grid[0][0]\n",
    "grid_cell_area = grid_cell_spacing ** 2"
   ]
  },
  {
   "cell_type": "code",
   "execution_count": 103,
   "metadata": {},
   "outputs": [],
   "source": [
    "# Pluton area in m²\n",
    "pluton_area_m2 = non_masked_grid_nodes * grid_cell_area\n",
    "\n",
    "# Pluton area in km²\n",
    "pluton_area_km2 = pluton_area_m2 / 1_000_000"
   ]
  },
  {
   "cell_type": "code",
   "execution_count": 104,
   "metadata": {},
   "outputs": [
    {
     "data": {
      "text/plain": [
       "461454.57445354265"
      ]
     },
     "execution_count": 104,
     "metadata": {},
     "output_type": "execute_result"
    }
   ],
   "source": [
    "pluton_area_km2"
   ]
  },
  {
   "cell_type": "markdown",
   "metadata": {},
   "source": [
    "____"
   ]
  },
  {
   "cell_type": "code",
   "execution_count": 241,
   "metadata": {},
   "outputs": [],
   "source": [
    "interpolated_dict = preproc.load_obj(\"interpolated_dict\")"
   ]
  },
  {
   "cell_type": "code",
   "execution_count": 242,
   "metadata": {},
   "outputs": [],
   "source": [
    "# Since my desktop (with 32GB of RAM) ran out of memory,\n",
    "# I've reduced the grid spacing so that there are fewer grid points \n",
    "# to perform the interpolation for\n",
    "\n",
    "# You could also reduce the number of active CPU cores by decreasing 'n_jobs'\n",
    "# which would reduce memory consumption\n",
    "# so that you could still get a more detailed interpolation grid.\n",
    "# The interpolation will take a bit longer than since \n",
    "# not the maximum number of 'workers' can be used in that case."
   ]
  },
  {
   "cell_type": "code",
   "execution_count": null,
   "metadata": {},
   "outputs": [],
   "source": [
    "%%time\n",
    "interpolated_parallel = Parallel(n_jobs=-1)(delayed(\n",
    "    variograms[component].execute)('masked', \n",
    "                     grid[0], \n",
    "                     grid[1],\n",
    "                     mask_critical_distance,\n",
    "                     n_closest_points=number_of_control_points, \n",
    "                     search_radius=range_[0], \n",
    "                     backend='loop') for component in components_to_use)"
   ]
  },
  {
   "cell_type": "code",
   "execution_count": 106,
   "metadata": {},
   "outputs": [],
   "source": [
    "interpolated_dict = {}\n",
    "for i, item in enumerate(interpolated_parallel, start=1):\n",
    "    interpolated_dict[f\"PC0{i}\"] = item"
   ]
  },
  {
   "cell_type": "code",
   "execution_count": 245,
   "metadata": {},
   "outputs": [],
   "source": [
    "preproc.save_obj(interpolated_dict, \"interpolated_dict\")"
   ]
  },
  {
   "cell_type": "code",
   "execution_count": 107,
   "metadata": {},
   "outputs": [
    {
     "name": "stdout",
     "output_type": "stream",
     "text": [
      "1\n",
      "2\n",
      "3\n",
      "4\n",
      "5\n",
      "6\n",
      "7\n",
      "8\n",
      "9\n",
      "(9, 391, 301)\n"
     ]
    },
    {
     "name": "stderr",
     "output_type": "stream",
     "text": [
      "C:\\Users\\u0108248\\AppData\\Local\\Continuum\\miniconda3\\envs\\main\\lib\\site-packages\\IPython\\core\\interactiveshell.py:3331: FutureWarning: arrays to stack must be passed as a \"sequence\" type such as list or tuple. Support for non-sequence iterables such as generators is deprecated as of NumPy 1.16 and will raise an error in the future.\n",
      "  exec(code_obj, self.user_global_ns, self.user_ns)\n"
     ]
    }
   ],
   "source": [
    "interpolated_array = postproc.convert_grid_to_array_of_scores(interpolated_dict)\n",
    "\n",
    "interpolated_reverse_pca = postproc.reverse_pca(mineralogy_pca, \n",
    "                                                interpolated_array, \n",
    "                                                mineralogy_clr, \n",
    "                                                n_comp=n_comp)\n",
    "\n",
    "interpolated_reverse_clr = postproc.reverse_clr(interpolated_reverse_pca, \n",
    "                                                mineralogy_clr)\n",
    "\n",
    "# You will get a FutureWarning here, that's fine"
   ]
  },
  {
   "cell_type": "code",
   "execution_count": 108,
   "metadata": {},
   "outputs": [
    {
     "data": {
      "text/plain": [
       "1.0966724656880202"
      ]
     },
     "execution_count": 108,
     "metadata": {},
     "output_type": "execute_result"
    }
   ],
   "source": [
    "# Get kriging surface variance for error_budget\n",
    "var_OK = np.array(pd.DataFrame(interpolated_array).var(axis=0, ddof=1))\n",
    "var_OK.sum()"
   ]
  },
  {
   "cell_type": "code",
   "execution_count": 109,
   "metadata": {},
   "outputs": [],
   "source": [
    "# Check if the number of points based on the specified grid is equal to\n",
    "# the sum of the number of masked points and the number of interpolated points\n",
    "assert grid[0].shape[0] * grid[1].shape[0] == np.sum(np.isclose(interpolated_reverse_clr.sum(axis=1), 0.0)) + \\\n",
    "                                              np.sum(np.isclose(interpolated_reverse_clr.sum(axis=1), 100.0))"
   ]
  },
  {
   "cell_type": "code",
   "execution_count": 110,
   "metadata": {},
   "outputs": [],
   "source": [
    "interpolated_modal = {}\n",
    "for mineral in interpolated_reverse_clr.columns.tolist():\n",
    "    interpolated_modal[mineral] = np.reshape(interpolated_reverse_clr.loc[:, mineral].values, \n",
    "                                             (grid[1].shape[0], grid[0].shape[0]))"
   ]
  },
  {
   "cell_type": "code",
   "execution_count": 249,
   "metadata": {},
   "outputs": [
    {
     "name": "stdout",
     "output_type": "stream",
     "text": [
      "(391, 301)\n",
      "SiO2\n",
      "(391, 301)\n",
      "TiO2\n",
      "(391, 301)\n",
      "Al2O3\n",
      "(391, 301)\n",
      "Fe2O3\n",
      "(391, 301)\n",
      "FeO\n",
      "(391, 301)\n",
      "MnO\n",
      "(391, 301)\n",
      "MgO\n",
      "(391, 301)\n",
      "CaO\n",
      "(391, 301)\n",
      "Na2O\n",
      "(391, 301)\n",
      "K2O\n",
      "(391, 301)\n",
      "P2O5\n",
      "(391, 301)\n",
      "l.i.\n",
      "(391, 301)\n",
      "oth\n"
     ]
    }
   ],
   "source": [
    "# If you get an error related to an non-esixting save location\n",
    "# Please first create a folder on your pc with the same name that \n",
    "# you used for the variable 'group_name'\n",
    "\n",
    "for mineral, interpolation in interpolated_modal.items(): \n",
    "    for variable in [\"estimates\"]:\n",
    "        print(interpolation.shape)\n",
    "        plots.plot_contour_map(interpolation,\n",
    "                               grid,\n",
    "                               coordinates_utm,\n",
    "                               group_name,\n",
    "                               variable=variable,\n",
    "                               title=f\"{mineral} radius={range_[0]}m {variable} masked {critical_distance}m\",\n",
    "                               show_plot=False,\n",
    "                               single_mineral=True,\n",
    "                               mineral=mineral,                               \n",
    "                               label_pos = (0.03, 0.94),\n",
    "                               skip_xaxis_label=2,\n",
    "                               skip_yaxis_label=2,\n",
    "                               skip_xaxis_start=1,\n",
    "                               skip_yaxis_start=1,\n",
    "                               marker_symbol='.',\n",
    "                               marker_size=0.1,\n",
    "                               marker_color='r',)\n",
    "        \n",
    "# Added some options to function so that yu can easily change the appearance \n",
    "# of the markers used to show the position of the control points"
   ]
  },
  {
   "cell_type": "code",
   "execution_count": 250,
   "metadata": {},
   "outputs": [
    {
     "data": {
      "image/png": "[encoded data removed]",
      "text/plain": [
       "<Figure size 864x648 with 28 Axes>"
      ]
     },
     "metadata": {},
     "output_type": "display_data"
    }
   ],
   "source": [
    "# Specify how many rows and columns you want to use in the following figure\n",
    "# This will ofcourse depend an the number of variables you would like to plot\n",
    "# You can also set the figure size\n",
    "n_cols = 3\n",
    "n_rows = 5\n",
    "\n",
    "# Figure with single mineral maps as subplots\n",
    "plots.plot_contour_map_all(interpolated_modal,\n",
    "                           grid,\n",
    "                           coordinates_utm,\n",
    "                           group_name,\n",
    "                           title=f\"radius={range_[0]}m masked {critical_distance}m\",\n",
    "                           show_plot=True,\n",
    "                           label_pos = (0.03, 0.94),\n",
    "                           skip_xaxis_label=2,\n",
    "                           skip_yaxis_label=2,\n",
    "                           skip_xaxis_start=1,\n",
    "                           skip_yaxis_start=1,\n",
    "                           marker_size=0.1,\n",
    "                           marker_color='r',\n",
    "                           marker_symbol='.',\n",
    "                           figsize=(12, 9),\n",
    "                           ncols=n_cols,\n",
    "                           nrows=n_rows,\n",
    "                           sharex=True,\n",
    "                           sharey=True)"
   ]
  },
  {
   "cell_type": "markdown",
   "metadata": {},
   "source": [
    "## Biplots\n",
    "____"
   ]
  },
  {
   "cell_type": "markdown",
   "metadata": {},
   "source": [
    "Not relevant for now"
   ]
  },
  {
   "cell_type": "markdown",
   "metadata": {},
   "source": [
    "## Simulations\n",
    "____"
   ]
  },
  {
   "cell_type": "markdown",
   "metadata": {},
   "source": [
    "Not relevant for now"
   ]
  },
  {
   "cell_type": "markdown",
   "metadata": {},
   "source": [
    "## Error budget\n",
    "____"
   ]
  },
  {
   "cell_type": "code",
   "execution_count": 111,
   "metadata": {},
   "outputs": [],
   "source": [
    "# A = Variance of kriging surface\n",
    "# B = mean squared prediction error (MSPE)\n",
    "# C = Sum of nugget\n",
    "# D = Total variance based on simulation (not yet available)\n",
    "# E = Variance of original data set\n",
    "\n",
    "error_budget = {}\n",
    "\n",
    "for radius in search_radii:\n",
    "    for ncomp in range(1, len(components_to_use) + 1):\n",
    "        A = var_OK[:ncomp].sum()\n",
    "        B = np.mean(np.sum(residuals_clr[f\"{ncomp}_{radius}\"] ** 2, axis=1), axis=0) # MSPE\n",
    "        C = np.array(nugget_)[:ncomp].sum()\n",
    "        D = np.nan\n",
    "        E = mineralogy_clr.var(axis=0).sum()\n",
    "        \n",
    "\n",
    "        error_budget[f\"{ncomp}_{radius}\"] = [A, B, C, D, E]"
   ]
  },
  {
   "cell_type": "code",
   "execution_count": 114,
   "metadata": {},
   "outputs": [
    {
     "data": {
      "text/html": [
       "<div>\n",
       "<style scoped>\n",
       "    .dataframe tbody tr th:only-of-type {\n",
       "        vertical-align: middle;\n",
       "    }\n",
       "\n",
       "    .dataframe tbody tr th {\n",
       "        vertical-align: top;\n",
       "    }\n",
       "\n",
       "    .dataframe thead th {\n",
       "        text-align: right;\n",
       "    }\n",
       "</style>\n",
       "<table border=\"1\" class=\"dataframe\">\n",
       "  <thead>\n",
       "    <tr style=\"text-align: right;\">\n",
       "      <th></th>\n",
       "      <th>search_radius</th>\n",
       "      <th>#PCs</th>\n",
       "      <th>VAR(OK)</th>\n",
       "      <th>MSPE</th>\n",
       "      <th>S_nugget</th>\n",
       "      <th>VAR(TOTAL)</th>\n",
       "      <th>VAR(DATA)</th>\n",
       "    </tr>\n",
       "  </thead>\n",
       "  <tbody>\n",
       "    <tr>\n",
       "      <th>0</th>\n",
       "      <td>165000</td>\n",
       "      <td>1</td>\n",
       "      <td>0.448463</td>\n",
       "      <td>4.127495</td>\n",
       "      <td>0.40788</td>\n",
       "      <td>NaN</td>\n",
       "      <td>4.330044</td>\n",
       "    </tr>\n",
       "    <tr>\n",
       "      <th>1</th>\n",
       "      <td>165000</td>\n",
       "      <td>2</td>\n",
       "      <td>0.680749</td>\n",
       "      <td>3.955052</td>\n",
       "      <td>0.66693</td>\n",
       "      <td>NaN</td>\n",
       "      <td>4.330044</td>\n",
       "    </tr>\n",
       "    <tr>\n",
       "      <th>2</th>\n",
       "      <td>165000</td>\n",
       "      <td>3</td>\n",
       "      <td>0.796142</td>\n",
       "      <td>3.805244</td>\n",
       "      <td>1.01763</td>\n",
       "      <td>NaN</td>\n",
       "      <td>4.330044</td>\n",
       "    </tr>\n",
       "    <tr>\n",
       "      <th>3</th>\n",
       "      <td>165000</td>\n",
       "      <td>4</td>\n",
       "      <td>0.859416</td>\n",
       "      <td>3.777562</td>\n",
       "      <td>1.30713</td>\n",
       "      <td>NaN</td>\n",
       "      <td>4.330044</td>\n",
       "    </tr>\n",
       "    <tr>\n",
       "      <th>4</th>\n",
       "      <td>165000</td>\n",
       "      <td>5</td>\n",
       "      <td>0.911674</td>\n",
       "      <td>3.761103</td>\n",
       "      <td>1.46323</td>\n",
       "      <td>NaN</td>\n",
       "      <td>4.330044</td>\n",
       "    </tr>\n",
       "    <tr>\n",
       "      <th>5</th>\n",
       "      <td>165000</td>\n",
       "      <td>6</td>\n",
       "      <td>0.977235</td>\n",
       "      <td>3.732474</td>\n",
       "      <td>1.60923</td>\n",
       "      <td>NaN</td>\n",
       "      <td>4.330044</td>\n",
       "    </tr>\n",
       "    <tr>\n",
       "      <th>6</th>\n",
       "      <td>165000</td>\n",
       "      <td>7</td>\n",
       "      <td>1.019505</td>\n",
       "      <td>3.707771</td>\n",
       "      <td>1.74012</td>\n",
       "      <td>NaN</td>\n",
       "      <td>4.330044</td>\n",
       "    </tr>\n",
       "    <tr>\n",
       "      <th>7</th>\n",
       "      <td>165000</td>\n",
       "      <td>8</td>\n",
       "      <td>1.061165</td>\n",
       "      <td>3.689216</td>\n",
       "      <td>1.86612</td>\n",
       "      <td>NaN</td>\n",
       "      <td>4.330044</td>\n",
       "    </tr>\n",
       "    <tr>\n",
       "      <th>8</th>\n",
       "      <td>165000</td>\n",
       "      <td>9</td>\n",
       "      <td>1.096672</td>\n",
       "      <td>3.668793</td>\n",
       "      <td>1.93652</td>\n",
       "      <td>NaN</td>\n",
       "      <td>4.330044</td>\n",
       "    </tr>\n",
       "    <tr>\n",
       "      <th>9</th>\n",
       "      <td>165000</td>\n",
       "      <td>10</td>\n",
       "      <td>1.096672</td>\n",
       "      <td>3.675206</td>\n",
       "      <td>1.93652</td>\n",
       "      <td>NaN</td>\n",
       "      <td>4.330044</td>\n",
       "    </tr>\n",
       "    <tr>\n",
       "      <th>10</th>\n",
       "      <td>165000</td>\n",
       "      <td>11</td>\n",
       "      <td>1.096672</td>\n",
       "      <td>3.676191</td>\n",
       "      <td>1.93652</td>\n",
       "      <td>NaN</td>\n",
       "      <td>4.330044</td>\n",
       "    </tr>\n",
       "    <tr>\n",
       "      <th>11</th>\n",
       "      <td>165000</td>\n",
       "      <td>12</td>\n",
       "      <td>1.096672</td>\n",
       "      <td>3.677592</td>\n",
       "      <td>1.93652</td>\n",
       "      <td>NaN</td>\n",
       "      <td>4.330044</td>\n",
       "    </tr>\n",
       "  </tbody>\n",
       "</table>\n",
       "</div>"
      ],
      "text/plain": [
       "    search_radius  #PCs   VAR(OK)      MSPE  S_nugget  VAR(TOTAL)  VAR(DATA)\n",
       "0          165000     1  0.448463  4.127495   0.40788         NaN   4.330044\n",
       "1          165000     2  0.680749  3.955052   0.66693         NaN   4.330044\n",
       "2          165000     3  0.796142  3.805244   1.01763         NaN   4.330044\n",
       "3          165000     4  0.859416  3.777562   1.30713         NaN   4.330044\n",
       "4          165000     5  0.911674  3.761103   1.46323         NaN   4.330044\n",
       "5          165000     6  0.977235  3.732474   1.60923         NaN   4.330044\n",
       "6          165000     7  1.019505  3.707771   1.74012         NaN   4.330044\n",
       "7          165000     8  1.061165  3.689216   1.86612         NaN   4.330044\n",
       "8          165000     9  1.096672  3.668793   1.93652         NaN   4.330044\n",
       "9          165000    10  1.096672  3.675206   1.93652         NaN   4.330044\n",
       "10         165000    11  1.096672  3.676191   1.93652         NaN   4.330044\n",
       "11         165000    12  1.096672  3.677592   1.93652         NaN   4.330044"
      ]
     },
     "execution_count": 114,
     "metadata": {},
     "output_type": "execute_result"
    }
   ],
   "source": [
    "error_budget_df = \\\n",
    "    ttest.convert_summary_test_results_to_df(error_budget, \n",
    "                                             variable_names=[\"VAR(OK)\",\n",
    "                                                             \"MSPE\", \n",
    "                                                             \"S_nugget\", # Sum of nuggets\n",
    "                                                             \"VAR(TOTAL)\",\n",
    "                                                             \"VAR(DATA)\"], \n",
    "                                             order=[\"search_radius\", \n",
    "                                                    \"#PCs\"])\n",
    "error_budget_df"
   ]
  },
  {
   "cell_type": "code",
   "execution_count": 234,
   "metadata": {},
   "outputs": [],
   "source": [
    "error_budget_df.to_excel(f\"../_RESULTS/Error_budget/error_budget_{group_name}.xlsx\")"
   ]
  },
  {
   "cell_type": "code",
   "execution_count": null,
   "metadata": {},
   "outputs": [],
   "source": []
  }
 ],
 "metadata": {
  "kernelspec": {
   "name": "conda-env-main-py"
  },
  "language_info": {
   "codemirror_mode": {
    "name": "ipython",
    "version": 3
   },
   "file_extension": ".py",
   "mimetype": "text/x-python",
   "name": "python",
   "nbconvert_exporter": "python",
   "pygments_lexer": "ipython3",
   "version": "3.7.6"
  },
  "toc-autonumbering": true,
  "toc-showtags": false
 },
 "nbformat": 4,
 "nbformat_minor": 4
}
