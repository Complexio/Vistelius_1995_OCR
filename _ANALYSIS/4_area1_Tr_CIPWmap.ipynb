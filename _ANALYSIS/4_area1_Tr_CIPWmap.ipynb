{
 "cells": [
  {
   "cell_type": "code",
   "execution_count": 74,
   "metadata": {},
   "outputs": [],
   "source": [
    "import numpy as np\n",
    "import pandas as pd"
   ]
  },
  {
   "cell_type": "code",
   "execution_count": 75,
   "metadata": {},
   "outputs": [],
   "source": [
    "import prepostprocessing.cleaning as cleaning\n",
    "import prepostprocessing.pre_processing as preproc\n",
    "from qapf import qapf\n",
    "from qapf import cipw"
   ]
  },
  {
   "cell_type": "markdown",
   "metadata": {},
   "source": [
    "___"
   ]
  },
  {
   "cell_type": "markdown",
   "metadata": {},
   "source": [
    "# CIPWFULL normalized data"
   ]
  },
  {
   "cell_type": "markdown",
   "metadata": {},
   "source": [
    "## Convert to CIPWFULL format"
   ]
  },
  {
   "cell_type": "markdown",
   "metadata": {},
   "source": [
    "**I used an arbitrary version of the mineralogical data, not sure if this is the correct one** -->is a good one"
   ]
  },
  {
   "cell_type": "code",
   "execution_count": 76,
   "metadata": {},
   "outputs": [
    {
     "data": {
      "text/plain": [
       "Index(['SiO2', 'TiO2', 'Al2O3', 'Fe2O3', 'FeO', 'MnO', 'MgO', 'CaO', 'Na2O',\n",
       "       'K2O', 'oth'],\n",
       "      dtype='object')"
      ]
     },
     "execution_count": 76,
     "metadata": {},
     "output_type": "execute_result"
    }
   ],
   "source": [
    "mineralogy_original = pd.read_excel(\"../_CIPW/CIPW/AREA1_Tr/interpolated_data.xlsx\", index_col=0)\n",
    "# Only iterested in sample number and oxides\n",
    "mineralogy = mineralogy_original[['SiO2', 'TiO2', 'Al2O3', 'Fe2O3','FeO', 'MnO', 'MgO', 'CaO', 'Na2O', 'K2O', 'oth']]\n",
    "mineralogy.columns"
   ]
  },
  {
   "cell_type": "code",
   "execution_count": 77,
   "metadata": {},
   "outputs": [],
   "source": [
    "mineralogy = mineralogy.dropna()"
   ]
  },
  {
   "cell_type": "code",
   "execution_count": 78,
   "metadata": {},
   "outputs": [],
   "source": [
    "# Check for closed sum\n",
    "assert all(np.isclose(mineralogy.sum(axis=1), 100.0))"
   ]
  },
  {
   "cell_type": "code",
   "execution_count": 79,
   "metadata": {},
   "outputs": [],
   "source": [
    "# Remove 'l.i.'' and 'oth' columns and immediately normalize data\n",
    "mineralogy = preproc.normalize(mineralogy.drop([\"oth\"], axis=1))"
   ]
  },
  {
   "cell_type": "code",
   "execution_count": 80,
   "metadata": {},
   "outputs": [],
   "source": [
    "# Check for closed sum\n",
    "assert all(np.isclose(mineralogy.sum(axis=1), 100.0))"
   ]
  },
  {
   "cell_type": "code",
   "execution_count": 81,
   "metadata": {},
   "outputs": [
    {
     "data": {
      "text/html": [
       "<div>\n",
       "<style scoped>\n",
       "    .dataframe tbody tr th:only-of-type {\n",
       "        vertical-align: middle;\n",
       "    }\n",
       "\n",
       "    .dataframe tbody tr th {\n",
       "        vertical-align: top;\n",
       "    }\n",
       "\n",
       "    .dataframe thead th {\n",
       "        text-align: right;\n",
       "    }\n",
       "</style>\n",
       "<table border=\"1\" class=\"dataframe\">\n",
       "  <thead>\n",
       "    <tr style=\"text-align: right;\">\n",
       "      <th></th>\n",
       "      <th>SiO2</th>\n",
       "      <th>TiO2</th>\n",
       "      <th>Al2O3</th>\n",
       "      <th>Fe2O3</th>\n",
       "      <th>FeO</th>\n",
       "      <th>MnO</th>\n",
       "      <th>MgO</th>\n",
       "      <th>CaO</th>\n",
       "      <th>Na2O</th>\n",
       "      <th>K2O</th>\n",
       "    </tr>\n",
       "  </thead>\n",
       "  <tbody>\n",
       "    <tr>\n",
       "      <th>6854</th>\n",
       "      <td>72.110994</td>\n",
       "      <td>0.266316</td>\n",
       "      <td>14.696717</td>\n",
       "      <td>0.542898</td>\n",
       "      <td>2.001099</td>\n",
       "      <td>0.041407</td>\n",
       "      <td>0.665204</td>\n",
       "      <td>1.482435</td>\n",
       "      <td>4.070729</td>\n",
       "      <td>4.122201</td>\n",
       "    </tr>\n",
       "    <tr>\n",
       "      <th>6855</th>\n",
       "      <td>71.208950</td>\n",
       "      <td>0.307729</td>\n",
       "      <td>14.950085</td>\n",
       "      <td>0.593100</td>\n",
       "      <td>2.237432</td>\n",
       "      <td>0.043509</td>\n",
       "      <td>0.838751</td>\n",
       "      <td>1.830527</td>\n",
       "      <td>4.074379</td>\n",
       "      <td>3.915540</td>\n",
       "    </tr>\n",
       "    <tr>\n",
       "      <th>6856</th>\n",
       "      <td>71.208488</td>\n",
       "      <td>0.308209</td>\n",
       "      <td>14.950880</td>\n",
       "      <td>0.599381</td>\n",
       "      <td>2.230242</td>\n",
       "      <td>0.043584</td>\n",
       "      <td>0.838415</td>\n",
       "      <td>1.826726</td>\n",
       "      <td>4.075818</td>\n",
       "      <td>3.918258</td>\n",
       "    </tr>\n",
       "    <tr>\n",
       "      <th>6857</th>\n",
       "      <td>71.206057</td>\n",
       "      <td>0.308743</td>\n",
       "      <td>14.952091</td>\n",
       "      <td>0.605349</td>\n",
       "      <td>2.224116</td>\n",
       "      <td>0.043658</td>\n",
       "      <td>0.838495</td>\n",
       "      <td>1.823994</td>\n",
       "      <td>4.077145</td>\n",
       "      <td>3.920353</td>\n",
       "    </tr>\n",
       "    <tr>\n",
       "      <th>6858</th>\n",
       "      <td>71.201188</td>\n",
       "      <td>0.309349</td>\n",
       "      <td>14.953838</td>\n",
       "      <td>0.610951</td>\n",
       "      <td>2.219250</td>\n",
       "      <td>0.043731</td>\n",
       "      <td>0.839095</td>\n",
       "      <td>1.822565</td>\n",
       "      <td>4.078344</td>\n",
       "      <td>3.921690</td>\n",
       "    </tr>\n",
       "  </tbody>\n",
       "</table>\n",
       "</div>"
      ],
      "text/plain": [
       "           SiO2      TiO2      Al2O3     Fe2O3       FeO       MnO       MgO  \\\n",
       "6854  72.110994  0.266316  14.696717  0.542898  2.001099  0.041407  0.665204   \n",
       "6855  71.208950  0.307729  14.950085  0.593100  2.237432  0.043509  0.838751   \n",
       "6856  71.208488  0.308209  14.950880  0.599381  2.230242  0.043584  0.838415   \n",
       "6857  71.206057  0.308743  14.952091  0.605349  2.224116  0.043658  0.838495   \n",
       "6858  71.201188  0.309349  14.953838  0.610951  2.219250  0.043731  0.839095   \n",
       "\n",
       "           CaO      Na2O       K2O  \n",
       "6854  1.482435  4.070729  4.122201  \n",
       "6855  1.830527  4.074379  3.915540  \n",
       "6856  1.826726  4.075818  3.918258  \n",
       "6857  1.823994  4.077145  3.920353  \n",
       "6858  1.822565  4.078344  3.921690  "
      ]
     },
     "execution_count": 81,
     "metadata": {},
     "output_type": "execute_result"
    }
   ],
   "source": [
    "mineralogy.head()"
   ]
  },
  {
   "cell_type": "code",
   "execution_count": 82,
   "metadata": {},
   "outputs": [
    {
     "data": {
      "text/html": [
       "<div>\n",
       "<style scoped>\n",
       "    .dataframe tbody tr th:only-of-type {\n",
       "        vertical-align: middle;\n",
       "    }\n",
       "\n",
       "    .dataframe tbody tr th {\n",
       "        vertical-align: top;\n",
       "    }\n",
       "\n",
       "    .dataframe thead th {\n",
       "        text-align: right;\n",
       "    }\n",
       "</style>\n",
       "<table border=\"1\" class=\"dataframe\">\n",
       "  <thead>\n",
       "    <tr style=\"text-align: right;\">\n",
       "      <th></th>\n",
       "      <th>SiO2</th>\n",
       "      <th>TiO2</th>\n",
       "      <th>Al2O3</th>\n",
       "      <th>Fe2O3</th>\n",
       "      <th>FeO</th>\n",
       "      <th>MnO</th>\n",
       "      <th>MgO</th>\n",
       "      <th>CaO</th>\n",
       "      <th>Na2O</th>\n",
       "      <th>K2O</th>\n",
       "    </tr>\n",
       "  </thead>\n",
       "  <tbody>\n",
       "    <tr>\n",
       "      <th>6854</th>\n",
       "      <td>72.110994</td>\n",
       "      <td>0.266316</td>\n",
       "      <td>14.696717</td>\n",
       "      <td>0.542898</td>\n",
       "      <td>2.001099</td>\n",
       "      <td>0.041407</td>\n",
       "      <td>0.665204</td>\n",
       "      <td>1.482435</td>\n",
       "      <td>4.070729</td>\n",
       "      <td>4.122201</td>\n",
       "    </tr>\n",
       "    <tr>\n",
       "      <th>6855</th>\n",
       "      <td>71.208950</td>\n",
       "      <td>0.307729</td>\n",
       "      <td>14.950085</td>\n",
       "      <td>0.593100</td>\n",
       "      <td>2.237432</td>\n",
       "      <td>0.043509</td>\n",
       "      <td>0.838751</td>\n",
       "      <td>1.830527</td>\n",
       "      <td>4.074379</td>\n",
       "      <td>3.915540</td>\n",
       "    </tr>\n",
       "    <tr>\n",
       "      <th>6856</th>\n",
       "      <td>71.208488</td>\n",
       "      <td>0.308209</td>\n",
       "      <td>14.950880</td>\n",
       "      <td>0.599381</td>\n",
       "      <td>2.230242</td>\n",
       "      <td>0.043584</td>\n",
       "      <td>0.838415</td>\n",
       "      <td>1.826726</td>\n",
       "      <td>4.075818</td>\n",
       "      <td>3.918258</td>\n",
       "    </tr>\n",
       "    <tr>\n",
       "      <th>6857</th>\n",
       "      <td>71.206057</td>\n",
       "      <td>0.308743</td>\n",
       "      <td>14.952091</td>\n",
       "      <td>0.605349</td>\n",
       "      <td>2.224116</td>\n",
       "      <td>0.043658</td>\n",
       "      <td>0.838495</td>\n",
       "      <td>1.823994</td>\n",
       "      <td>4.077145</td>\n",
       "      <td>3.920353</td>\n",
       "    </tr>\n",
       "    <tr>\n",
       "      <th>6858</th>\n",
       "      <td>71.201188</td>\n",
       "      <td>0.309349</td>\n",
       "      <td>14.953838</td>\n",
       "      <td>0.610951</td>\n",
       "      <td>2.219250</td>\n",
       "      <td>0.043731</td>\n",
       "      <td>0.839095</td>\n",
       "      <td>1.822565</td>\n",
       "      <td>4.078344</td>\n",
       "      <td>3.921690</td>\n",
       "    </tr>\n",
       "    <tr>\n",
       "      <th>...</th>\n",
       "      <td>...</td>\n",
       "      <td>...</td>\n",
       "      <td>...</td>\n",
       "      <td>...</td>\n",
       "      <td>...</td>\n",
       "      <td>...</td>\n",
       "      <td>...</td>\n",
       "      <td>...</td>\n",
       "      <td>...</td>\n",
       "      <td>...</td>\n",
       "    </tr>\n",
       "    <tr>\n",
       "      <th>201964</th>\n",
       "      <td>72.008082</td>\n",
       "      <td>0.281148</td>\n",
       "      <td>14.718623</td>\n",
       "      <td>0.763074</td>\n",
       "      <td>1.809972</td>\n",
       "      <td>0.043811</td>\n",
       "      <td>0.661319</td>\n",
       "      <td>1.395502</td>\n",
       "      <td>4.114014</td>\n",
       "      <td>4.204455</td>\n",
       "    </tr>\n",
       "    <tr>\n",
       "      <th>201965</th>\n",
       "      <td>72.020749</td>\n",
       "      <td>0.280544</td>\n",
       "      <td>14.714449</td>\n",
       "      <td>0.762675</td>\n",
       "      <td>1.806288</td>\n",
       "      <td>0.043782</td>\n",
       "      <td>0.658888</td>\n",
       "      <td>1.390632</td>\n",
       "      <td>4.113993</td>\n",
       "      <td>4.207999</td>\n",
       "    </tr>\n",
       "    <tr>\n",
       "      <th>201966</th>\n",
       "      <td>72.032166</td>\n",
       "      <td>0.279999</td>\n",
       "      <td>14.710676</td>\n",
       "      <td>0.762305</td>\n",
       "      <td>1.802976</td>\n",
       "      <td>0.043756</td>\n",
       "      <td>0.656701</td>\n",
       "      <td>1.386253</td>\n",
       "      <td>4.113971</td>\n",
       "      <td>4.211196</td>\n",
       "    </tr>\n",
       "    <tr>\n",
       "      <th>201967</th>\n",
       "      <td>72.042219</td>\n",
       "      <td>0.279518</td>\n",
       "      <td>14.707345</td>\n",
       "      <td>0.761973</td>\n",
       "      <td>1.800063</td>\n",
       "      <td>0.043734</td>\n",
       "      <td>0.654779</td>\n",
       "      <td>1.382404</td>\n",
       "      <td>4.113950</td>\n",
       "      <td>4.214015</td>\n",
       "    </tr>\n",
       "    <tr>\n",
       "      <th>201968</th>\n",
       "      <td>72.050830</td>\n",
       "      <td>0.279107</td>\n",
       "      <td>14.704485</td>\n",
       "      <td>0.761687</td>\n",
       "      <td>1.797568</td>\n",
       "      <td>0.043714</td>\n",
       "      <td>0.653134</td>\n",
       "      <td>1.379111</td>\n",
       "      <td>4.113931</td>\n",
       "      <td>4.216434</td>\n",
       "    </tr>\n",
       "  </tbody>\n",
       "</table>\n",
       "<p>62472 rows × 10 columns</p>\n",
       "</div>"
      ],
      "text/plain": [
       "             SiO2      TiO2      Al2O3     Fe2O3       FeO       MnO  \\\n",
       "6854    72.110994  0.266316  14.696717  0.542898  2.001099  0.041407   \n",
       "6855    71.208950  0.307729  14.950085  0.593100  2.237432  0.043509   \n",
       "6856    71.208488  0.308209  14.950880  0.599381  2.230242  0.043584   \n",
       "6857    71.206057  0.308743  14.952091  0.605349  2.224116  0.043658   \n",
       "6858    71.201188  0.309349  14.953838  0.610951  2.219250  0.043731   \n",
       "...           ...       ...        ...       ...       ...       ...   \n",
       "201964  72.008082  0.281148  14.718623  0.763074  1.809972  0.043811   \n",
       "201965  72.020749  0.280544  14.714449  0.762675  1.806288  0.043782   \n",
       "201966  72.032166  0.279999  14.710676  0.762305  1.802976  0.043756   \n",
       "201967  72.042219  0.279518  14.707345  0.761973  1.800063  0.043734   \n",
       "201968  72.050830  0.279107  14.704485  0.761687  1.797568  0.043714   \n",
       "\n",
       "             MgO       CaO      Na2O       K2O  \n",
       "6854    0.665204  1.482435  4.070729  4.122201  \n",
       "6855    0.838751  1.830527  4.074379  3.915540  \n",
       "6856    0.838415  1.826726  4.075818  3.918258  \n",
       "6857    0.838495  1.823994  4.077145  3.920353  \n",
       "6858    0.839095  1.822565  4.078344  3.921690  \n",
       "...          ...       ...       ...       ...  \n",
       "201964  0.661319  1.395502  4.114014  4.204455  \n",
       "201965  0.658888  1.390632  4.113993  4.207999  \n",
       "201966  0.656701  1.386253  4.113971  4.211196  \n",
       "201967  0.654779  1.382404  4.113950  4.214015  \n",
       "201968  0.653134  1.379111  4.113931  4.216434  \n",
       "\n",
       "[62472 rows x 10 columns]"
      ]
     },
     "execution_count": 82,
     "metadata": {},
     "output_type": "execute_result"
    }
   ],
   "source": [
    "mineralogy"
   ]
  },
  {
   "cell_type": "code",
   "execution_count": 83,
   "metadata": {},
   "outputs": [],
   "source": [
    "mineralogy1 = mineralogy.iloc[0:45000]\n",
    "mineralogy2 = mineralogy.iloc[45001:90000]"
   ]
  },
  {
   "cell_type": "raw",
   "metadata": {},
   "source": [
    "def convert_to_CIPWFULL_format(df, path, dataset_name=\"Dataset\", index_prefix=None, rock_type=\"P\", \n",
    "                               rock_suite_column=None, normalization=False):\n",
    "    \"\"\"Converts a pandas DataFrame to a txt file compatible \n",
    "    as an input file for the CIPWFULL program by AL-Mishwat (2015)\n",
    "    \n",
    "    Parameters:\n",
    "    -----------\n",
    "    df : pd.DataFrame\n",
    "        mineralogy data in the form of oxides\n",
    "    path : str\n",
    "        path to where to save resulting file\n",
    "    dataset_name : str (optional)\n",
    "        Name opf dataset to use in CIPWFULL\n",
    "        defaults to 'Dataset'\n",
    "    index_prefix : str (optional)\n",
    "        Prefix to use before index\n",
    "        defaults to None\n",
    "    rock_type : str (optional)\n",
    "        Rock type indicator:\n",
    "            'P' for plutonic\n",
    "            'V' for volcanic\n",
    "        defaults to 'P'\n",
    "    rock_suite_column : str (optional)\n",
    "        Which column name to use a 'rock suite' in CIPWFULL\n",
    "        The rock suite acts as a grouping variable\n",
    "        defaults to None\n",
    "    normalization : bool (optional)\n",
    "        Write flag to file whether to let CIPWFULL \n",
    "        normalize the data before norm calculation\n",
    "        defaults to False\n",
    "        \n",
    "    Returns:\n",
    "    --------\n",
    "    df_CIPW : pd.DataFrame\n",
    "        altered mineralogy data according to CIPWFULL input format\n",
    "    \n",
    "    (file is written to disk)\n",
    "    \n",
    "    \"\"\"\n",
    "    \n",
    "    # Get copy of original df so that it doesn't get altered\n",
    "    df_CIPW = df.copy()\n",
    "    \n",
    "    # Add prefix to index if required\n",
    "    if index_prefix:\n",
    "        df_CIPW.index = f\"{index_prefix}\" + df_CIPW.index.astype(str)\n",
    "        \n",
    "    # Add additional columns to be moved to index\n",
    "    df_CIPW[\"Type\"] = \"P\"\n",
    "    df_CIPW[\"Cancrinite\"] = 0\n",
    "    if rock_suite_column:\n",
    "        df_CIPW[\"Rock suite\"] = df_CIPW[rock_suite_column]\n",
    "        df_CIPW.drop(rock_suite_column, axis=1)\n",
    "    else:\n",
    "        df_CIPW[\"Rock suite\"] = 1 # This could be changed to a grouping variable such as geographic area, time\n",
    "        \n",
    "    # Move additional columns to index\n",
    "    df_CIPW = df_CIPW.set_index([\"Type\", \"Cancrinite\", \"Rock suite\"], append=True)\n",
    "    \n",
    "    # Start writing file (file saving/closing is handled automatically)\n",
    "    with open(path, 'w') as f:\n",
    "\n",
    "        # Write a '1' before the dataset name if you want CIPWFULL \n",
    "        # to normalize the data before the calculation; else write space\n",
    "        if normalization:\n",
    "            f.write(\"1\")\n",
    "        else:\n",
    "            f.write(\" \")\n",
    "\n",
    "        # Write dataset name\n",
    "        f.write(f\"{dataset_name}\\n\")\n",
    "\n",
    "        # Write column names and index+data\n",
    "        # The floating point number need to be formatted so as not \n",
    "        # to go over the 120 character line limit of CIPWFULL\n",
    "        df_CIPW.to_csv(f, mode='w', sep=\" \", line_terminator=\"\\n\", \n",
    "                       index_label=False, float_format=\"%2.5f\")\n",
    "\n",
    "        # Write '0' to indicate end of data entries\n",
    "        f.write(\"0\")\n",
    "\n",
    "        # Write rock suite names if needed\n",
    "        if rock_suite_column:\n",
    "            f.write(\"\\n\")\n",
    "            f.write(rock_suite_column.unique())\n",
    "            f.write(\"\\n\")"
   ]
  },
  {
   "cell_type": "code",
   "execution_count": 84,
   "metadata": {},
   "outputs": [],
   "source": [
    "cipw.convert_to_CIPWFULL_format(mineralogy1, \"../_CIPW/CIPW/AREA1_Tr/area1_Tr_1.txt\", dataset_name=\"Vistelius (1995)\")\n",
    "cipw.convert_to_CIPWFULL_format(mineralogy2, \"../_CIPW/CIPW/AREA1_Tr/area1_Tr_2.txt\", dataset_name=\"Vistelius (1995)\")"
   ]
  },
  {
   "cell_type": "markdown",
   "metadata": {},
   "source": [
    "_____"
   ]
  },
  {
   "cell_type": "markdown",
   "metadata": {},
   "source": [
    "## Extract results from CIPWFULL results file"
   ]
  },
  {
   "cell_type": "markdown",
   "metadata": {},
   "source": [
    "**I only selected quartz, plagioclase and alkali feldspar here as they are of interest to us for the QAPF classification**  \n",
    "**Feel free to extract addiotnal minerals if they would be of any interest to you**"
   ]
  },
  {
   "cell_type": "markdown",
   "metadata": {},
   "source": [
    "**Not sure what to do with albite in the final assignments as by the book it should be accounted for as an alkali feldspar and thus be included in the sum of plagioclase but then the resulting plagioclase contents seem quite low.   \n",
    "This is something you might look into although the method used here seems to be correct according to te resulting QAPF diagram.**\n",
    "\n",
    "--> indeed when reading the paper of Streckeisen (and other sources), albite should be accounted for as an alkali feldspar, also saw that the datapoints were generally located more to the right side (plagioclase), maybe an overestimation of plagioclase?\n",
    "\n",
    "--> I changed the settings below so that albite belongs to the alkali feldspars, Think this figure should be more correct according to the papers, but the cotent of plagioclase is indeed quite low. "
   ]
  },
  {
   "cell_type": "raw",
   "metadata": {},
   "source": [
    "def extract_CIPW_results(path, columns_of_interest=['  QZ', '  OR', '  AB', '  AN'], \n",
    "                         print_columns=False):\n",
    "    \"\"\"Extract the results from CIPWFULL run\n",
    "    \n",
    "    Parameters:\n",
    "    -----------\n",
    "    path : str\n",
    "        Path to results file\n",
    "    columns_of_interest : list (optional)\n",
    "        List of minerals to select in results file\n",
    "        defaults to Q, A, P minerals\n",
    "    print_columns : bool (optional)\n",
    "        Print original df's column names\n",
    "        defaults to False\n",
    "        \n",
    "    Returns:\n",
    "    --------\n",
    "    df_final : pd.DataFrame\n",
    "        Minerals of interest in tabular format\n",
    "    \"\"\"\n",
    "    \n",
    "    df = pd.read_csv(path, sep=\"\\t\", index_col=0)\n",
    "    \n",
    "    if print_columns:\n",
    "        print(df.colums)\n",
    "    \n",
    "    # Drop last row which states the column names again\n",
    "    df = df.iloc[:-1, :]\n",
    "    \n",
    "    # Quary columns in which we're interested\n",
    "    columns_of_interest = ['  QZ', '  OR', '  AB', '  AN']\n",
    "    df_query = df.loc[:, columns_of_interest]\n",
    "    \n",
    "    # Convert values to floats\n",
    "    df_query = df_query.astype(float)\n",
    "    \n",
    "    # Create new dataframe to hold final data\n",
    "    df_final = pd.DataFrame()\n",
    "\n",
    "    df_final[\"Q\"] = df_query[\"  QZ\"]\n",
    "    df_final[\"P\"] = df_query[\"  AB\"] + df_query[\"  AN\"]\n",
    "    df_final[\"K\"] = df_query[\"  OR\"]\n",
    "    \n",
    "    return df_final"
   ]
  },
  {
   "cell_type": "code",
   "execution_count": 85,
   "metadata": {},
   "outputs": [],
   "source": [
    "df_final1 = cipw.extract_CIPW_results(\"../_CIPW/CIPW/AREA1_Tr/area1_Tr_1_results_excel.txt\")\n",
    "df_final2 = cipw.extract_CIPW_results(\"../_CIPW/CIPW/AREA1_Tr/area1_Tr_2_results_excel.txt\")"
   ]
  },
  {
   "cell_type": "code",
   "execution_count": 86,
   "metadata": {},
   "outputs": [],
   "source": [
    "df_final = pd.concat([df_final1, df_final2])"
   ]
  },
  {
   "cell_type": "code",
   "execution_count": 87,
   "metadata": {},
   "outputs": [
    {
     "data": {
      "text/html": [
       "<div>\n",
       "<style scoped>\n",
       "    .dataframe tbody tr th:only-of-type {\n",
       "        vertical-align: middle;\n",
       "    }\n",
       "\n",
       "    .dataframe tbody tr th {\n",
       "        vertical-align: top;\n",
       "    }\n",
       "\n",
       "    .dataframe thead th {\n",
       "        text-align: right;\n",
       "    }\n",
       "</style>\n",
       "<table border=\"1\" class=\"dataframe\">\n",
       "  <thead>\n",
       "    <tr style=\"text-align: right;\">\n",
       "      <th></th>\n",
       "      <th>Q</th>\n",
       "      <th>P</th>\n",
       "      <th>K</th>\n",
       "    </tr>\n",
       "    <tr>\n",
       "      <th>SAMPLE</th>\n",
       "      <th></th>\n",
       "      <th></th>\n",
       "      <th></th>\n",
       "    </tr>\n",
       "  </thead>\n",
       "  <tbody>\n",
       "    <tr>\n",
       "      <th>6854</th>\n",
       "      <td>27.181803</td>\n",
       "      <td>38.352673</td>\n",
       "      <td>27.802908</td>\n",
       "    </tr>\n",
       "    <tr>\n",
       "      <th>6855</th>\n",
       "      <td>25.895496</td>\n",
       "      <td>40.107260</td>\n",
       "      <td>26.584814</td>\n",
       "    </tr>\n",
       "    <tr>\n",
       "      <th>6856</th>\n",
       "      <td>25.893578</td>\n",
       "      <td>40.099378</td>\n",
       "      <td>26.602108</td>\n",
       "    </tr>\n",
       "    <tr>\n",
       "      <th>6857</th>\n",
       "      <td>25.888922</td>\n",
       "      <td>40.095834</td>\n",
       "      <td>26.615573</td>\n",
       "    </tr>\n",
       "    <tr>\n",
       "      <th>6858</th>\n",
       "      <td>25.880690</td>\n",
       "      <td>40.097879</td>\n",
       "      <td>26.624507</td>\n",
       "    </tr>\n",
       "    <tr>\n",
       "      <th>...</th>\n",
       "      <td>...</td>\n",
       "      <td>...</td>\n",
       "      <td>...</td>\n",
       "    </tr>\n",
       "    <tr>\n",
       "      <th>201964</th>\n",
       "      <td>26.956204</td>\n",
       "      <td>38.250960</td>\n",
       "      <td>28.325613</td>\n",
       "    </tr>\n",
       "    <tr>\n",
       "      <th>201965</th>\n",
       "      <td>26.971991</td>\n",
       "      <td>38.226650</td>\n",
       "      <td>28.346515</td>\n",
       "    </tr>\n",
       "    <tr>\n",
       "      <th>201966</th>\n",
       "      <td>26.986174</td>\n",
       "      <td>38.204767</td>\n",
       "      <td>28.365407</td>\n",
       "    </tr>\n",
       "    <tr>\n",
       "      <th>201967</th>\n",
       "      <td>26.998640</td>\n",
       "      <td>38.185517</td>\n",
       "      <td>28.382051</td>\n",
       "    </tr>\n",
       "    <tr>\n",
       "      <th>201968</th>\n",
       "      <td>27.009331</td>\n",
       "      <td>38.169045</td>\n",
       "      <td>28.396278</td>\n",
       "    </tr>\n",
       "  </tbody>\n",
       "</table>\n",
       "<p>62471 rows × 3 columns</p>\n",
       "</div>"
      ],
      "text/plain": [
       "                   Q          P          K\n",
       " SAMPLE                                   \n",
       "6854       27.181803  38.352673  27.802908\n",
       "6855       25.895496  40.107260  26.584814\n",
       "6856       25.893578  40.099378  26.602108\n",
       "6857       25.888922  40.095834  26.615573\n",
       "6858       25.880690  40.097879  26.624507\n",
       "...              ...        ...        ...\n",
       " 201964    26.956204  38.250960  28.325613\n",
       " 201965    26.971991  38.226650  28.346515\n",
       " 201966    26.986174  38.204767  28.365407\n",
       " 201967    26.998640  38.185517  28.382051\n",
       " 201968    27.009331  38.169045  28.396278\n",
       "\n",
       "[62471 rows x 3 columns]"
      ]
     },
     "execution_count": 87,
     "metadata": {},
     "output_type": "execute_result"
    }
   ],
   "source": [
    "df_final"
   ]
  },
  {
   "cell_type": "markdown",
   "metadata": {},
   "source": [
    "## QAPF classification"
   ]
  },
  {
   "cell_type": "code",
   "execution_count": 88,
   "metadata": {},
   "outputs": [],
   "source": [
    "df_final[\"QAPF\"] = qapf.check_QAPF_region(df_final)"
   ]
  },
  {
   "cell_type": "code",
   "execution_count": 89,
   "metadata": {},
   "outputs": [
    {
     "data": {
      "text/plain": [
       "array(['monzo granite', 'granodiorite',\n",
       "       'quartz monzodiorite\\nquartz monzogabbro'], dtype=object)"
      ]
     },
     "execution_count": 89,
     "metadata": {},
     "output_type": "execute_result"
    }
   ],
   "source": [
    "df_final[\"QAPF\"].unique()"
   ]
  },
  {
   "cell_type": "raw",
   "metadata": {},
   "source": [
    "import plotly.express as px\n",
    "import plotly.graph_objects as go\n",
    "\n",
    "fig = px.scatter_ternary(df_final, a=\"Q\", b=\"K\", c=\"P\", color=\"QAPF\")\n",
    "\n",
    "fig.write_image(f\"../_FIGURES/geomap/qapf_ternary/area1_QAPF.pdf\")\n",
    "fig.show()"
   ]
  },
  {
   "cell_type": "code",
   "execution_count": 90,
   "metadata": {},
   "outputs": [],
   "source": [
    "df_final.to_excel(\"../_CIPW/CIPW/AREA1_Tr/qapf.xlsx\", index=True)"
   ]
  },
  {
   "cell_type": "markdown",
   "metadata": {},
   "source": [
    "-------"
   ]
  },
  {
   "cell_type": "code",
   "execution_count": 91,
   "metadata": {},
   "outputs": [],
   "source": [
    "df_final.iloc[:, 3].value_counts().to_excel(\"../_CIPW/CIPW/AREA1_Tr/QAPF_counts.xlsx\")"
   ]
  },
  {
   "cell_type": "markdown",
   "metadata": {},
   "source": [
    "-----"
   ]
  },
  {
   "cell_type": "code",
   "execution_count": 92,
   "metadata": {},
   "outputs": [],
   "source": [
    "QAPF_control = pd.read_excel(\"../_CIPW/CIPW/1_normalized.xlsx\", index_col=0)\n",
    "Area = pd.read_excel(\"../_INTERPOLATION/area1_Tr.xlsx\", index_col=0, usecols = [0, 1, 2, 3, 4, 29])"
   ]
  },
  {
   "cell_type": "code",
   "execution_count": 93,
   "metadata": {},
   "outputs": [],
   "source": [
    "QAPF_control = pd.concat([Area, QAPF_control], axis = 1)\n",
    "QAPF_control = QAPF_control.dropna()\n",
    "QAPF_control\n",
    "QAPF_control.to_excel(\"../_CIPW/CIPW/AREA1_Tr/QAPF_control_points.xlsx\", index=True)"
   ]
  },
  {
   "cell_type": "raw",
   "metadata": {},
   "source": [
    "QAPF_control_area1 = QAPF_control[QAPF_control['area'] ==1]\n",
    "QAPF_control_area1.to_excel(\"../_CIPW/CIPW/AREA1/QAPF_control_points.xlsx\", index=True)"
   ]
  },
  {
   "cell_type": "code",
   "execution_count": null,
   "metadata": {},
   "outputs": [],
   "source": []
  }
 ],
 "metadata": {
  "kernelspec": {
   "display_name": "Python 3",
   "language": "python",
   "name": "python3"
  },
  "language_info": {
   "codemirror_mode": {
    "name": "ipython",
    "version": 3
   },
   "file_extension": ".py",
   "mimetype": "text/x-python",
   "name": "python",
   "nbconvert_exporter": "python",
   "pygments_lexer": "ipython3",
   "version": "3.7.3"
  }
 },
 "nbformat": 4,
 "nbformat_minor": 4
}
