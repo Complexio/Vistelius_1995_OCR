{
 "cells": [
  {
   "cell_type": "code",
   "execution_count": 1,
   "metadata": {},
   "outputs": [],
   "source": [
    "import numpy as np\n",
    "import pandas as pd"
   ]
  },
  {
   "cell_type": "code",
   "execution_count": 2,
   "metadata": {},
   "outputs": [],
   "source": [
    "import prepostprocessing.cleaning as cleaning\n",
    "import prepostprocessing.pre_processing as preproc\n",
    "from qapf import qapf\n",
    "from qapf import cipw"
   ]
  },
  {
   "cell_type": "markdown",
   "metadata": {},
   "source": [
    "___"
   ]
  },
  {
   "cell_type": "markdown",
   "metadata": {},
   "source": [
    "# CIPWFULL normalized data"
   ]
  },
  {
   "cell_type": "markdown",
   "metadata": {},
   "source": [
    "## Convert to CIPWFULL format"
   ]
  },
  {
   "cell_type": "markdown",
   "metadata": {},
   "source": [
    "**I used an arbitrary version of the mineralogical data, not sure if this is the correct one** -->is a good one"
   ]
  },
  {
   "cell_type": "code",
   "execution_count": 3,
   "metadata": {},
   "outputs": [
    {
     "data": {
      "text/plain": [
       "Index(['SiO2', 'TiO2', 'Al2O3', 'Fe2O3', 'FeO', 'MnO', 'MgO', 'CaO', 'Na2O',\n",
       "       'K2O', 'oth'],\n",
       "      dtype='object')"
      ]
     },
     "execution_count": 3,
     "metadata": {},
     "output_type": "execute_result"
    }
   ],
   "source": [
    "mineralogy_original = pd.read_excel(\"../_CIPW/CIPW/AREA1_J/interpolated_data.xlsx\", index_col=0)\n",
    "# Only iterested in sample number and oxides\n",
    "mineralogy = mineralogy_original[['SiO2', 'TiO2', 'Al2O3', 'Fe2O3','FeO', 'MnO', 'MgO', 'CaO', 'Na2O', 'K2O', 'oth']]\n",
    "mineralogy.columns"
   ]
  },
  {
   "cell_type": "code",
   "execution_count": 4,
   "metadata": {},
   "outputs": [],
   "source": [
    "mineralogy = mineralogy.dropna()"
   ]
  },
  {
   "cell_type": "code",
   "execution_count": 5,
   "metadata": {},
   "outputs": [],
   "source": [
    "# Check for closed sum\n",
    "assert all(np.isclose(mineralogy.sum(axis=1), 100.0))"
   ]
  },
  {
   "cell_type": "code",
   "execution_count": 6,
   "metadata": {},
   "outputs": [],
   "source": [
    "# Remove 'l.i.'' and 'oth' columns and immediately normalize data\n",
    "mineralogy = preproc.normalize(mineralogy.drop([\"oth\"], axis=1))"
   ]
  },
  {
   "cell_type": "code",
   "execution_count": 7,
   "metadata": {},
   "outputs": [],
   "source": [
    "# Check for closed sum\n",
    "assert all(np.isclose(mineralogy.sum(axis=1), 100.0))"
   ]
  },
  {
   "cell_type": "code",
   "execution_count": 10,
   "metadata": {},
   "outputs": [
    {
     "data": {
      "text/html": [
       "<div>\n",
       "<style scoped>\n",
       "    .dataframe tbody tr th:only-of-type {\n",
       "        vertical-align: middle;\n",
       "    }\n",
       "\n",
       "    .dataframe tbody tr th {\n",
       "        vertical-align: top;\n",
       "    }\n",
       "\n",
       "    .dataframe thead th {\n",
       "        text-align: right;\n",
       "    }\n",
       "</style>\n",
       "<table border=\"1\" class=\"dataframe\">\n",
       "  <thead>\n",
       "    <tr style=\"text-align: right;\">\n",
       "      <th></th>\n",
       "      <th>SiO2</th>\n",
       "      <th>TiO2</th>\n",
       "      <th>Al2O3</th>\n",
       "      <th>Fe2O3</th>\n",
       "      <th>FeO</th>\n",
       "      <th>MnO</th>\n",
       "      <th>MgO</th>\n",
       "      <th>CaO</th>\n",
       "      <th>Na2O</th>\n",
       "      <th>K2O</th>\n",
       "    </tr>\n",
       "  </thead>\n",
       "  <tbody>\n",
       "    <tr>\n",
       "      <th>2822</th>\n",
       "      <td>72.408050</td>\n",
       "      <td>0.254845</td>\n",
       "      <td>14.662159</td>\n",
       "      <td>0.675796</td>\n",
       "      <td>1.924432</td>\n",
       "      <td>0.042224</td>\n",
       "      <td>0.707242</td>\n",
       "      <td>1.452687</td>\n",
       "      <td>3.809990</td>\n",
       "      <td>4.062576</td>\n",
       "    </tr>\n",
       "    <tr>\n",
       "      <th>2823</th>\n",
       "      <td>72.408664</td>\n",
       "      <td>0.254826</td>\n",
       "      <td>14.661993</td>\n",
       "      <td>0.675956</td>\n",
       "      <td>1.924167</td>\n",
       "      <td>0.042222</td>\n",
       "      <td>0.707109</td>\n",
       "      <td>1.452401</td>\n",
       "      <td>3.809979</td>\n",
       "      <td>4.062685</td>\n",
       "    </tr>\n",
       "    <tr>\n",
       "      <th>2824</th>\n",
       "      <td>71.783621</td>\n",
       "      <td>0.280009</td>\n",
       "      <td>14.831792</td>\n",
       "      <td>0.625671</td>\n",
       "      <td>2.114012</td>\n",
       "      <td>0.044135</td>\n",
       "      <td>0.838003</td>\n",
       "      <td>1.705294</td>\n",
       "      <td>3.818477</td>\n",
       "      <td>3.958985</td>\n",
       "    </tr>\n",
       "    <tr>\n",
       "      <th>2825</th>\n",
       "      <td>71.783836</td>\n",
       "      <td>0.280002</td>\n",
       "      <td>14.831743</td>\n",
       "      <td>0.625707</td>\n",
       "      <td>2.113931</td>\n",
       "      <td>0.044135</td>\n",
       "      <td>0.837956</td>\n",
       "      <td>1.705196</td>\n",
       "      <td>3.818475</td>\n",
       "      <td>3.959019</td>\n",
       "    </tr>\n",
       "    <tr>\n",
       "      <th>2826</th>\n",
       "      <td>71.782975</td>\n",
       "      <td>0.280037</td>\n",
       "      <td>14.831960</td>\n",
       "      <td>0.625654</td>\n",
       "      <td>2.114182</td>\n",
       "      <td>0.044137</td>\n",
       "      <td>0.838141</td>\n",
       "      <td>1.705548</td>\n",
       "      <td>3.818484</td>\n",
       "      <td>3.958882</td>\n",
       "    </tr>\n",
       "  </tbody>\n",
       "</table>\n",
       "</div>"
      ],
      "text/plain": [
       "           SiO2      TiO2      Al2O3     Fe2O3       FeO       MnO       MgO  \\\n",
       "2822  72.408050  0.254845  14.662159  0.675796  1.924432  0.042224  0.707242   \n",
       "2823  72.408664  0.254826  14.661993  0.675956  1.924167  0.042222  0.707109   \n",
       "2824  71.783621  0.280009  14.831792  0.625671  2.114012  0.044135  0.838003   \n",
       "2825  71.783836  0.280002  14.831743  0.625707  2.113931  0.044135  0.837956   \n",
       "2826  71.782975  0.280037  14.831960  0.625654  2.114182  0.044137  0.838141   \n",
       "\n",
       "           CaO      Na2O       K2O  \n",
       "2822  1.452687  3.809990  4.062576  \n",
       "2823  1.452401  3.809979  4.062685  \n",
       "2824  1.705294  3.818477  3.958985  \n",
       "2825  1.705196  3.818475  3.959019  \n",
       "2826  1.705548  3.818484  3.958882  "
      ]
     },
     "execution_count": 10,
     "metadata": {},
     "output_type": "execute_result"
    }
   ],
   "source": [
    "mineralogy.head()"
   ]
  },
  {
   "cell_type": "code",
   "execution_count": 11,
   "metadata": {},
   "outputs": [
    {
     "data": {
      "text/html": [
       "<div>\n",
       "<style scoped>\n",
       "    .dataframe tbody tr th:only-of-type {\n",
       "        vertical-align: middle;\n",
       "    }\n",
       "\n",
       "    .dataframe tbody tr th {\n",
       "        vertical-align: top;\n",
       "    }\n",
       "\n",
       "    .dataframe thead th {\n",
       "        text-align: right;\n",
       "    }\n",
       "</style>\n",
       "<table border=\"1\" class=\"dataframe\">\n",
       "  <thead>\n",
       "    <tr style=\"text-align: right;\">\n",
       "      <th></th>\n",
       "      <th>SiO2</th>\n",
       "      <th>TiO2</th>\n",
       "      <th>Al2O3</th>\n",
       "      <th>Fe2O3</th>\n",
       "      <th>FeO</th>\n",
       "      <th>MnO</th>\n",
       "      <th>MgO</th>\n",
       "      <th>CaO</th>\n",
       "      <th>Na2O</th>\n",
       "      <th>K2O</th>\n",
       "    </tr>\n",
       "  </thead>\n",
       "  <tbody>\n",
       "    <tr>\n",
       "      <th>2822</th>\n",
       "      <td>72.408050</td>\n",
       "      <td>0.254845</td>\n",
       "      <td>14.662159</td>\n",
       "      <td>0.675796</td>\n",
       "      <td>1.924432</td>\n",
       "      <td>0.042224</td>\n",
       "      <td>0.707242</td>\n",
       "      <td>1.452687</td>\n",
       "      <td>3.809990</td>\n",
       "      <td>4.062576</td>\n",
       "    </tr>\n",
       "    <tr>\n",
       "      <th>2823</th>\n",
       "      <td>72.408664</td>\n",
       "      <td>0.254826</td>\n",
       "      <td>14.661993</td>\n",
       "      <td>0.675956</td>\n",
       "      <td>1.924167</td>\n",
       "      <td>0.042222</td>\n",
       "      <td>0.707109</td>\n",
       "      <td>1.452401</td>\n",
       "      <td>3.809979</td>\n",
       "      <td>4.062685</td>\n",
       "    </tr>\n",
       "    <tr>\n",
       "      <th>2824</th>\n",
       "      <td>71.783621</td>\n",
       "      <td>0.280009</td>\n",
       "      <td>14.831792</td>\n",
       "      <td>0.625671</td>\n",
       "      <td>2.114012</td>\n",
       "      <td>0.044135</td>\n",
       "      <td>0.838003</td>\n",
       "      <td>1.705294</td>\n",
       "      <td>3.818477</td>\n",
       "      <td>3.958985</td>\n",
       "    </tr>\n",
       "    <tr>\n",
       "      <th>2825</th>\n",
       "      <td>71.783836</td>\n",
       "      <td>0.280002</td>\n",
       "      <td>14.831743</td>\n",
       "      <td>0.625707</td>\n",
       "      <td>2.113931</td>\n",
       "      <td>0.044135</td>\n",
       "      <td>0.837956</td>\n",
       "      <td>1.705196</td>\n",
       "      <td>3.818475</td>\n",
       "      <td>3.959019</td>\n",
       "    </tr>\n",
       "    <tr>\n",
       "      <th>2826</th>\n",
       "      <td>71.782975</td>\n",
       "      <td>0.280037</td>\n",
       "      <td>14.831960</td>\n",
       "      <td>0.625654</td>\n",
       "      <td>2.114182</td>\n",
       "      <td>0.044137</td>\n",
       "      <td>0.838141</td>\n",
       "      <td>1.705548</td>\n",
       "      <td>3.818484</td>\n",
       "      <td>3.958882</td>\n",
       "    </tr>\n",
       "    <tr>\n",
       "      <th>...</th>\n",
       "      <td>...</td>\n",
       "      <td>...</td>\n",
       "      <td>...</td>\n",
       "      <td>...</td>\n",
       "      <td>...</td>\n",
       "      <td>...</td>\n",
       "      <td>...</td>\n",
       "      <td>...</td>\n",
       "      <td>...</td>\n",
       "      <td>...</td>\n",
       "    </tr>\n",
       "    <tr>\n",
       "      <th>184622</th>\n",
       "      <td>71.860232</td>\n",
       "      <td>0.292230</td>\n",
       "      <td>14.846404</td>\n",
       "      <td>0.920042</td>\n",
       "      <td>1.897721</td>\n",
       "      <td>0.042010</td>\n",
       "      <td>0.795073</td>\n",
       "      <td>1.552240</td>\n",
       "      <td>3.816377</td>\n",
       "      <td>3.977669</td>\n",
       "    </tr>\n",
       "    <tr>\n",
       "      <th>184623</th>\n",
       "      <td>71.811710</td>\n",
       "      <td>0.294749</td>\n",
       "      <td>14.860538</td>\n",
       "      <td>0.922414</td>\n",
       "      <td>1.907475</td>\n",
       "      <td>0.042113</td>\n",
       "      <td>0.805078</td>\n",
       "      <td>1.569103</td>\n",
       "      <td>3.817015</td>\n",
       "      <td>3.969804</td>\n",
       "    </tr>\n",
       "    <tr>\n",
       "      <th>184624</th>\n",
       "      <td>71.755945</td>\n",
       "      <td>0.297646</td>\n",
       "      <td>14.876611</td>\n",
       "      <td>0.925008</td>\n",
       "      <td>1.918732</td>\n",
       "      <td>0.042232</td>\n",
       "      <td>0.816665</td>\n",
       "      <td>1.588623</td>\n",
       "      <td>3.817724</td>\n",
       "      <td>3.960816</td>\n",
       "    </tr>\n",
       "    <tr>\n",
       "      <th>184625</th>\n",
       "      <td>71.692284</td>\n",
       "      <td>0.300957</td>\n",
       "      <td>14.894737</td>\n",
       "      <td>0.927836</td>\n",
       "      <td>1.931620</td>\n",
       "      <td>0.042367</td>\n",
       "      <td>0.830005</td>\n",
       "      <td>1.611072</td>\n",
       "      <td>3.818501</td>\n",
       "      <td>3.950621</td>\n",
       "    </tr>\n",
       "    <tr>\n",
       "      <th>184626</th>\n",
       "      <td>71.620084</td>\n",
       "      <td>0.304718</td>\n",
       "      <td>14.915011</td>\n",
       "      <td>0.930914</td>\n",
       "      <td>1.946262</td>\n",
       "      <td>0.042519</td>\n",
       "      <td>0.845274</td>\n",
       "      <td>1.636729</td>\n",
       "      <td>3.819342</td>\n",
       "      <td>3.939147</td>\n",
       "    </tr>\n",
       "  </tbody>\n",
       "</table>\n",
       "<p>43310 rows × 10 columns</p>\n",
       "</div>"
      ],
      "text/plain": [
       "             SiO2      TiO2      Al2O3     Fe2O3       FeO       MnO  \\\n",
       "2822    72.408050  0.254845  14.662159  0.675796  1.924432  0.042224   \n",
       "2823    72.408664  0.254826  14.661993  0.675956  1.924167  0.042222   \n",
       "2824    71.783621  0.280009  14.831792  0.625671  2.114012  0.044135   \n",
       "2825    71.783836  0.280002  14.831743  0.625707  2.113931  0.044135   \n",
       "2826    71.782975  0.280037  14.831960  0.625654  2.114182  0.044137   \n",
       "...           ...       ...        ...       ...       ...       ...   \n",
       "184622  71.860232  0.292230  14.846404  0.920042  1.897721  0.042010   \n",
       "184623  71.811710  0.294749  14.860538  0.922414  1.907475  0.042113   \n",
       "184624  71.755945  0.297646  14.876611  0.925008  1.918732  0.042232   \n",
       "184625  71.692284  0.300957  14.894737  0.927836  1.931620  0.042367   \n",
       "184626  71.620084  0.304718  14.915011  0.930914  1.946262  0.042519   \n",
       "\n",
       "             MgO       CaO      Na2O       K2O  \n",
       "2822    0.707242  1.452687  3.809990  4.062576  \n",
       "2823    0.707109  1.452401  3.809979  4.062685  \n",
       "2824    0.838003  1.705294  3.818477  3.958985  \n",
       "2825    0.837956  1.705196  3.818475  3.959019  \n",
       "2826    0.838141  1.705548  3.818484  3.958882  \n",
       "...          ...       ...       ...       ...  \n",
       "184622  0.795073  1.552240  3.816377  3.977669  \n",
       "184623  0.805078  1.569103  3.817015  3.969804  \n",
       "184624  0.816665  1.588623  3.817724  3.960816  \n",
       "184625  0.830005  1.611072  3.818501  3.950621  \n",
       "184626  0.845274  1.636729  3.819342  3.939147  \n",
       "\n",
       "[43310 rows x 10 columns]"
      ]
     },
     "execution_count": 11,
     "metadata": {},
     "output_type": "execute_result"
    }
   ],
   "source": [
    "mineralogy"
   ]
  },
  {
   "cell_type": "code",
   "execution_count": 13,
   "metadata": {},
   "outputs": [],
   "source": [
    "mineralogy1 = mineralogy.iloc[0:45000]\n",
    "#mineralogy2 = mineralogy.iloc[45001:90000]"
   ]
  },
  {
   "cell_type": "raw",
   "metadata": {},
   "source": [
    "def convert_to_CIPWFULL_format(df, path, dataset_name=\"Dataset\", index_prefix=None, rock_type=\"P\", \n",
    "                               rock_suite_column=None, normalization=False):\n",
    "    \"\"\"Converts a pandas DataFrame to a txt file compatible \n",
    "    as an input file for the CIPWFULL program by AL-Mishwat (2015)\n",
    "    \n",
    "    Parameters:\n",
    "    -----------\n",
    "    df : pd.DataFrame\n",
    "        mineralogy data in the form of oxides\n",
    "    path : str\n",
    "        path to where to save resulting file\n",
    "    dataset_name : str (optional)\n",
    "        Name opf dataset to use in CIPWFULL\n",
    "        defaults to 'Dataset'\n",
    "    index_prefix : str (optional)\n",
    "        Prefix to use before index\n",
    "        defaults to None\n",
    "    rock_type : str (optional)\n",
    "        Rock type indicator:\n",
    "            'P' for plutonic\n",
    "            'V' for volcanic\n",
    "        defaults to 'P'\n",
    "    rock_suite_column : str (optional)\n",
    "        Which column name to use a 'rock suite' in CIPWFULL\n",
    "        The rock suite acts as a grouping variable\n",
    "        defaults to None\n",
    "    normalization : bool (optional)\n",
    "        Write flag to file whether to let CIPWFULL \n",
    "        normalize the data before norm calculation\n",
    "        defaults to False\n",
    "        \n",
    "    Returns:\n",
    "    --------\n",
    "    df_CIPW : pd.DataFrame\n",
    "        altered mineralogy data according to CIPWFULL input format\n",
    "    \n",
    "    (file is written to disk)\n",
    "    \n",
    "    \"\"\"\n",
    "    \n",
    "    # Get copy of original df so that it doesn't get altered\n",
    "    df_CIPW = df.copy()\n",
    "    \n",
    "    # Add prefix to index if required\n",
    "    if index_prefix:\n",
    "        df_CIPW.index = f\"{index_prefix}\" + df_CIPW.index.astype(str)\n",
    "        \n",
    "    # Add additional columns to be moved to index\n",
    "    df_CIPW[\"Type\"] = \"P\"\n",
    "    df_CIPW[\"Cancrinite\"] = 0\n",
    "    if rock_suite_column:\n",
    "        df_CIPW[\"Rock suite\"] = df_CIPW[rock_suite_column]\n",
    "        df_CIPW.drop(rock_suite_column, axis=1)\n",
    "    else:\n",
    "        df_CIPW[\"Rock suite\"] = 1 # This could be changed to a grouping variable such as geographic area, time\n",
    "        \n",
    "    # Move additional columns to index\n",
    "    df_CIPW = df_CIPW.set_index([\"Type\", \"Cancrinite\", \"Rock suite\"], append=True)\n",
    "    \n",
    "    # Start writing file (file saving/closing is handled automatically)\n",
    "    with open(path, 'w') as f:\n",
    "\n",
    "        # Write a '1' before the dataset name if you want CIPWFULL \n",
    "        # to normalize the data before the calculation; else write space\n",
    "        if normalization:\n",
    "            f.write(\"1\")\n",
    "        else:\n",
    "            f.write(\" \")\n",
    "\n",
    "        # Write dataset name\n",
    "        f.write(f\"{dataset_name}\\n\")\n",
    "\n",
    "        # Write column names and index+data\n",
    "        # The floating point number need to be formatted so as not \n",
    "        # to go over the 120 character line limit of CIPWFULL\n",
    "        df_CIPW.to_csv(f, mode='w', sep=\" \", line_terminator=\"\\n\", \n",
    "                       index_label=False, float_format=\"%2.5f\")\n",
    "\n",
    "        # Write '0' to indicate end of data entries\n",
    "        f.write(\"0\")\n",
    "\n",
    "        # Write rock suite names if needed\n",
    "        if rock_suite_column:\n",
    "            f.write(\"\\n\")\n",
    "            f.write(rock_suite_column.unique())\n",
    "            f.write(\"\\n\")"
   ]
  },
  {
   "cell_type": "code",
   "execution_count": 14,
   "metadata": {},
   "outputs": [],
   "source": [
    "cipw.convert_to_CIPWFULL_format(mineralogy1, \"../_CIPW/CIPW/AREA1_J/area1_J_1.txt\", dataset_name=\"Vistelius (1995)\")\n",
    "#cipw.convert_to_CIPWFULL_format(mineralogy2, \"../_CIPW/CIPW/AREA1/area1_2.txt\", dataset_name=\"Vistelius (1995)\")"
   ]
  },
  {
   "cell_type": "markdown",
   "metadata": {},
   "source": [
    "_____"
   ]
  },
  {
   "cell_type": "markdown",
   "metadata": {},
   "source": [
    "## Extract results from CIPWFULL results file"
   ]
  },
  {
   "cell_type": "markdown",
   "metadata": {},
   "source": [
    "**I only selected quartz, plagioclase and alkali feldspar here as they are of interest to us for the QAPF classification**  \n",
    "**Feel free to extract addiotnal minerals if they would be of any interest to you**"
   ]
  },
  {
   "cell_type": "markdown",
   "metadata": {},
   "source": [
    "**Not sure what to do with albite in the final assignments as by the book it should be accounted for as an alkali feldspar and thus be included in the sum of plagioclase but then the resulting plagioclase contents seem quite low.   \n",
    "This is something you might look into although the method used here seems to be correct according to te resulting QAPF diagram.**\n",
    "\n",
    "--> indeed when reading the paper of Streckeisen (and other sources), albite should be accounted for as an alkali feldspar, also saw that the datapoints were generally located more to the right side (plagioclase), maybe an overestimation of plagioclase?\n",
    "\n",
    "--> I changed the settings below so that albite belongs to the alkali feldspars, Think this figure should be more correct according to the papers, but the cotent of plagioclase is indeed quite low. "
   ]
  },
  {
   "cell_type": "raw",
   "metadata": {},
   "source": [
    "def extract_CIPW_results(path, columns_of_interest=['  QZ', '  OR', '  AB', '  AN'], \n",
    "                         print_columns=False):\n",
    "    \"\"\"Extract the results from CIPWFULL run\n",
    "    \n",
    "    Parameters:\n",
    "    -----------\n",
    "    path : str\n",
    "        Path to results file\n",
    "    columns_of_interest : list (optional)\n",
    "        List of minerals to select in results file\n",
    "        defaults to Q, A, P minerals\n",
    "    print_columns : bool (optional)\n",
    "        Print original df's column names\n",
    "        defaults to False\n",
    "        \n",
    "    Returns:\n",
    "    --------\n",
    "    df_final : pd.DataFrame\n",
    "        Minerals of interest in tabular format\n",
    "    \"\"\"\n",
    "    \n",
    "    df = pd.read_csv(path, sep=\"\\t\", index_col=0)\n",
    "    \n",
    "    if print_columns:\n",
    "        print(df.colums)\n",
    "    \n",
    "    # Drop last row which states the column names again\n",
    "    df = df.iloc[:-1, :]\n",
    "    \n",
    "    # Quary columns in which we're interested\n",
    "    columns_of_interest = ['  QZ', '  OR', '  AB', '  AN']\n",
    "    df_query = df.loc[:, columns_of_interest]\n",
    "    \n",
    "    # Convert values to floats\n",
    "    df_query = df_query.astype(float)\n",
    "    \n",
    "    # Create new dataframe to hold final data\n",
    "    df_final = pd.DataFrame()\n",
    "\n",
    "    df_final[\"Q\"] = df_query[\"  QZ\"]\n",
    "    df_final[\"P\"] = df_query[\"  AB\"] + df_query[\"  AN\"]\n",
    "    df_final[\"K\"] = df_query[\"  OR\"]\n",
    "    \n",
    "    return df_final"
   ]
  },
  {
   "cell_type": "code",
   "execution_count": 17,
   "metadata": {},
   "outputs": [],
   "source": [
    "df_final = cipw.extract_CIPW_results(\"../_CIPW/CIPW/AREA1_J/area1_J_1_results_excel.txt\")\n",
    "#df_final2 = cipw.extract_CIPW_results(\"../_CIPW/CIPW/AREA1/area1_2_results_excel.txt\")"
   ]
  },
  {
   "cell_type": "raw",
   "metadata": {},
   "source": [
    "df_final1 = pd.read_excel(\"../_CIPW/CIPW/AREA1/area1_1_by_hand.xlsx\", index_col=0)\n",
    "df_final2 = pd.read_excel(\"../_CIPW/CIPW/AREA1/area1_2_by_hand.xlsx\", index_col=0)"
   ]
  },
  {
   "cell_type": "code",
   "execution_count": 18,
   "metadata": {},
   "outputs": [
    {
     "data": {
      "text/html": [
       "<div>\n",
       "<style scoped>\n",
       "    .dataframe tbody tr th:only-of-type {\n",
       "        vertical-align: middle;\n",
       "    }\n",
       "\n",
       "    .dataframe tbody tr th {\n",
       "        vertical-align: top;\n",
       "    }\n",
       "\n",
       "    .dataframe thead th {\n",
       "        text-align: right;\n",
       "    }\n",
       "</style>\n",
       "<table border=\"1\" class=\"dataframe\">\n",
       "  <thead>\n",
       "    <tr style=\"text-align: right;\">\n",
       "      <th></th>\n",
       "      <th>Q</th>\n",
       "      <th>P</th>\n",
       "      <th>K</th>\n",
       "    </tr>\n",
       "    <tr>\n",
       "      <th>SAMPLE</th>\n",
       "      <th></th>\n",
       "      <th></th>\n",
       "      <th></th>\n",
       "    </tr>\n",
       "  </thead>\n",
       "  <tbody>\n",
       "    <tr>\n",
       "      <th>2822</th>\n",
       "      <td>29.329699</td>\n",
       "      <td>36.219552</td>\n",
       "      <td>27.229990</td>\n",
       "    </tr>\n",
       "    <tr>\n",
       "      <th>2823</th>\n",
       "      <td>29.331070</td>\n",
       "      <td>36.218037</td>\n",
       "      <td>27.230571</td>\n",
       "    </tr>\n",
       "    <tr>\n",
       "      <th>2824</th>\n",
       "      <td>28.156086</td>\n",
       "      <td>37.537296</td>\n",
       "      <td>26.624987</td>\n",
       "    </tr>\n",
       "    <tr>\n",
       "      <th>2825</th>\n",
       "      <td>28.156486</td>\n",
       "      <td>37.536850</td>\n",
       "      <td>26.625222</td>\n",
       "    </tr>\n",
       "    <tr>\n",
       "      <th>2826</th>\n",
       "      <td>28.154932</td>\n",
       "      <td>37.538586</td>\n",
       "      <td>26.624396</td>\n",
       "    </tr>\n",
       "    <tr>\n",
       "      <th>...</th>\n",
       "      <td>...</td>\n",
       "      <td>...</td>\n",
       "      <td>...</td>\n",
       "    </tr>\n",
       "    <tr>\n",
       "      <th>184622</th>\n",
       "      <td>28.867996</td>\n",
       "      <td>36.762059</td>\n",
       "      <td>26.733652</td>\n",
       "    </tr>\n",
       "    <tr>\n",
       "      <th>184623</th>\n",
       "      <td>28.789419</td>\n",
       "      <td>36.850494</td>\n",
       "      <td>26.687682</td>\n",
       "    </tr>\n",
       "    <tr>\n",
       "      <th>184624</th>\n",
       "      <td>28.698441</td>\n",
       "      <td>36.952735</td>\n",
       "      <td>26.635218</td>\n",
       "    </tr>\n",
       "    <tr>\n",
       "      <th>184625</th>\n",
       "      <td>28.593958</td>\n",
       "      <td>37.070044</td>\n",
       "      <td>26.575602</td>\n",
       "    </tr>\n",
       "    <tr>\n",
       "      <th>184626</th>\n",
       "      <td>28.474634</td>\n",
       "      <td>37.203734</td>\n",
       "      <td>26.508539</td>\n",
       "    </tr>\n",
       "  </tbody>\n",
       "</table>\n",
       "<p>43310 rows × 3 columns</p>\n",
       "</div>"
      ],
      "text/plain": [
       "                   Q          P          K\n",
       " SAMPLE                                   \n",
       "2822       29.329699  36.219552  27.229990\n",
       "2823       29.331070  36.218037  27.230571\n",
       "2824       28.156086  37.537296  26.624987\n",
       "2825       28.156486  37.536850  26.625222\n",
       "2826       28.154932  37.538586  26.624396\n",
       "...              ...        ...        ...\n",
       " 184622    28.867996  36.762059  26.733652\n",
       " 184623    28.789419  36.850494  26.687682\n",
       " 184624    28.698441  36.952735  26.635218\n",
       " 184625    28.593958  37.070044  26.575602\n",
       " 184626    28.474634  37.203734  26.508539\n",
       "\n",
       "[43310 rows x 3 columns]"
      ]
     },
     "execution_count": 18,
     "metadata": {},
     "output_type": "execute_result"
    }
   ],
   "source": [
    "df_final"
   ]
  },
  {
   "cell_type": "markdown",
   "metadata": {},
   "source": [
    "## QAPF classification"
   ]
  },
  {
   "cell_type": "code",
   "execution_count": 19,
   "metadata": {},
   "outputs": [],
   "source": [
    "df_final[\"QAPF\"] = qapf.check_QAPF_region(df_final)"
   ]
  },
  {
   "cell_type": "code",
   "execution_count": 20,
   "metadata": {},
   "outputs": [
    {
     "data": {
      "text/plain": [
       "array(['monzo granite', 'granodiorite',\n",
       "       'quartz monzodiorite\\nquartz monzogabbro'], dtype=object)"
      ]
     },
     "execution_count": 20,
     "metadata": {},
     "output_type": "execute_result"
    }
   ],
   "source": [
    "df_final[\"QAPF\"].unique()"
   ]
  },
  {
   "cell_type": "raw",
   "metadata": {},
   "source": [
    "import plotly.express as px\n",
    "import plotly.graph_objects as go\n",
    "\n",
    "fig = px.scatter_ternary(df_final, a=\"Q\", b=\"K\", c=\"P\", color=\"QAPF\")\n",
    "\n",
    "fig.write_image(f\"../_FIGURES/geomap/qapf_ternary/area1_QAPF.pdf\")\n",
    "fig.show()"
   ]
  },
  {
   "cell_type": "code",
   "execution_count": 21,
   "metadata": {},
   "outputs": [],
   "source": [
    "df_final.to_excel(\"../_CIPW/CIPW/AREA1_J/qapf.xlsx\", index=True)"
   ]
  },
  {
   "cell_type": "markdown",
   "metadata": {},
   "source": [
    "-------"
   ]
  },
  {
   "cell_type": "code",
   "execution_count": 22,
   "metadata": {},
   "outputs": [],
   "source": [
    "df_final.iloc[:, 3].value_counts().to_excel(\"../_CIPW/CIPW/AREA1_J/QAPF_counts.xlsx\")"
   ]
  },
  {
   "cell_type": "markdown",
   "metadata": {},
   "source": [
    "-----"
   ]
  },
  {
   "cell_type": "code",
   "execution_count": 23,
   "metadata": {},
   "outputs": [],
   "source": [
    "QAPF_control = pd.read_excel(\"../_CIPW/CIPW/1_normalized.xlsx\", index_col=0)\n",
    "Area = pd.read_excel(\"../_INTERPOLATION/area1_J.xlsx\", index_col=0, usecols = [0, 1, 2, 3, 4, 29])"
   ]
  },
  {
   "cell_type": "code",
   "execution_count": 24,
   "metadata": {},
   "outputs": [],
   "source": [
    "QAPF_control = pd.concat([Area, QAPF_control], axis = 1)\n",
    "QAPF_control = QAPF_control.dropna()\n",
    "QAPF_control\n",
    "QAPF_control.to_excel(\"../_CIPW/CIPW/AREA1_J/QAPF_control_points.xlsx\", index=True)"
   ]
  },
  {
   "cell_type": "raw",
   "metadata": {},
   "source": [
    "QAPF_control_area1 = QAPF_control[QAPF_control['area'] ==1]\n",
    "QAPF_control_area1.to_excel(\"../_CIPW/CIPW/AREA1/QAPF_control_points.xlsx\", index=True)"
   ]
  },
  {
   "cell_type": "code",
   "execution_count": null,
   "metadata": {},
   "outputs": [],
   "source": []
  }
 ],
 "metadata": {
  "kernelspec": {
   "display_name": "Python 3",
   "language": "python",
   "name": "python3"
  },
  "language_info": {
   "codemirror_mode": {
    "name": "ipython",
    "version": 3
   },
   "file_extension": ".py",
   "mimetype": "text/x-python",
   "name": "python",
   "nbconvert_exporter": "python",
   "pygments_lexer": "ipython3",
   "version": "3.7.3"
  }
 },
 "nbformat": 4,
 "nbformat_minor": 4
}
