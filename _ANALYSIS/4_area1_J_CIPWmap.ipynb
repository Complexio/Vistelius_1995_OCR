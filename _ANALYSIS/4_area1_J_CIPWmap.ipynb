{
 "cells": [
  {
   "cell_type": "code",
   "execution_count": 1,
   "metadata": {},
   "outputs": [],
   "source": [
    "import numpy as np\n",
    "import pandas as pd"
   ]
  },
  {
   "cell_type": "code",
   "execution_count": 2,
   "metadata": {},
   "outputs": [],
   "source": [
    "import prepostprocessing.cleaning as cleaning\n",
    "import prepostprocessing.pre_processing as preproc\n",
    "from qapf import qapf\n",
    "from qapf import cipw"
   ]
  },
  {
   "cell_type": "markdown",
   "metadata": {},
   "source": [
    "___"
   ]
  },
  {
   "cell_type": "markdown",
   "metadata": {},
   "source": [
    "# CIPWFULL normalized data"
   ]
  },
  {
   "cell_type": "markdown",
   "metadata": {},
   "source": [
    "## Convert to CIPWFULL format"
   ]
  },
  {
   "cell_type": "markdown",
   "metadata": {},
   "source": [
    "**I used an arbitrary version of the mineralogical data, not sure if this is the correct one** -->is a good one"
   ]
  },
  {
   "cell_type": "code",
   "execution_count": 3,
   "metadata": {},
   "outputs": [
    {
     "data": {
      "text/plain": [
       "Index(['SiO2', 'TiO2', 'Al2O3', 'Fe2O3', 'FeO', 'MnO', 'MgO', 'CaO', 'Na2O',\n",
       "       'K2O', 'oth'],\n",
       "      dtype='object')"
      ]
     },
     "execution_count": 3,
     "metadata": {},
     "output_type": "execute_result"
    }
   ],
   "source": [
    "mineralogy_original = pd.read_excel(\"../_CIPW/CIPW/AREA1_J/interpolated_data.xlsx\", index_col=0)\n",
    "# Only iterested in sample number and oxides\n",
    "mineralogy = mineralogy_original[['SiO2', 'TiO2', 'Al2O3', 'Fe2O3','FeO', 'MnO', 'MgO', 'CaO', 'Na2O', 'K2O', 'oth']]\n",
    "mineralogy.columns"
   ]
  },
  {
   "cell_type": "code",
   "execution_count": 4,
   "metadata": {},
   "outputs": [],
   "source": [
    "mineralogy = mineralogy.dropna()"
   ]
  },
  {
   "cell_type": "code",
   "execution_count": 5,
   "metadata": {},
   "outputs": [],
   "source": [
    "# Check for closed sum\n",
    "assert all(np.isclose(mineralogy.sum(axis=1), 100.0))"
   ]
  },
  {
   "cell_type": "code",
   "execution_count": 6,
   "metadata": {},
   "outputs": [],
   "source": [
    "# Remove 'l.i.'' and 'oth' columns and immediately normalize data\n",
    "mineralogy = preproc.normalize(mineralogy.drop([\"oth\"], axis=1))"
   ]
  },
  {
   "cell_type": "code",
   "execution_count": 7,
   "metadata": {},
   "outputs": [],
   "source": [
    "# Check for closed sum\n",
    "assert all(np.isclose(mineralogy.sum(axis=1), 100.0))"
   ]
  },
  {
   "cell_type": "code",
   "execution_count": 8,
   "metadata": {},
   "outputs": [
    {
     "data": {
      "text/html": [
       "<div>\n",
       "<style scoped>\n",
       "    .dataframe tbody tr th:only-of-type {\n",
       "        vertical-align: middle;\n",
       "    }\n",
       "\n",
       "    .dataframe tbody tr th {\n",
       "        vertical-align: top;\n",
       "    }\n",
       "\n",
       "    .dataframe thead th {\n",
       "        text-align: right;\n",
       "    }\n",
       "</style>\n",
       "<table border=\"1\" class=\"dataframe\">\n",
       "  <thead>\n",
       "    <tr style=\"text-align: right;\">\n",
       "      <th></th>\n",
       "      <th>SiO2</th>\n",
       "      <th>TiO2</th>\n",
       "      <th>Al2O3</th>\n",
       "      <th>Fe2O3</th>\n",
       "      <th>FeO</th>\n",
       "      <th>MnO</th>\n",
       "      <th>MgO</th>\n",
       "      <th>CaO</th>\n",
       "      <th>Na2O</th>\n",
       "      <th>K2O</th>\n",
       "    </tr>\n",
       "  </thead>\n",
       "  <tbody>\n",
       "    <tr>\n",
       "      <th>2822</th>\n",
       "      <td>72.369670</td>\n",
       "      <td>0.256686</td>\n",
       "      <td>14.674241</td>\n",
       "      <td>0.677425</td>\n",
       "      <td>1.932593</td>\n",
       "      <td>0.042311</td>\n",
       "      <td>0.714639</td>\n",
       "      <td>1.465769</td>\n",
       "      <td>3.810637</td>\n",
       "      <td>4.056028</td>\n",
       "    </tr>\n",
       "    <tr>\n",
       "      <th>2823</th>\n",
       "      <td>72.372309</td>\n",
       "      <td>0.256559</td>\n",
       "      <td>14.673412</td>\n",
       "      <td>0.677306</td>\n",
       "      <td>1.932038</td>\n",
       "      <td>0.042305</td>\n",
       "      <td>0.714130</td>\n",
       "      <td>1.464871</td>\n",
       "      <td>3.810593</td>\n",
       "      <td>4.056477</td>\n",
       "    </tr>\n",
       "    <tr>\n",
       "      <th>2824</th>\n",
       "      <td>72.373871</td>\n",
       "      <td>0.256484</td>\n",
       "      <td>14.672921</td>\n",
       "      <td>0.677234</td>\n",
       "      <td>1.931710</td>\n",
       "      <td>0.042301</td>\n",
       "      <td>0.713829</td>\n",
       "      <td>1.464340</td>\n",
       "      <td>3.810567</td>\n",
       "      <td>4.056743</td>\n",
       "    </tr>\n",
       "    <tr>\n",
       "      <th>2825</th>\n",
       "      <td>72.374252</td>\n",
       "      <td>0.256465</td>\n",
       "      <td>14.672801</td>\n",
       "      <td>0.677217</td>\n",
       "      <td>1.931629</td>\n",
       "      <td>0.042300</td>\n",
       "      <td>0.713755</td>\n",
       "      <td>1.464210</td>\n",
       "      <td>3.810561</td>\n",
       "      <td>4.056808</td>\n",
       "    </tr>\n",
       "    <tr>\n",
       "      <th>2826</th>\n",
       "      <td>72.373405</td>\n",
       "      <td>0.256506</td>\n",
       "      <td>14.673067</td>\n",
       "      <td>0.677256</td>\n",
       "      <td>1.931808</td>\n",
       "      <td>0.042302</td>\n",
       "      <td>0.713919</td>\n",
       "      <td>1.464499</td>\n",
       "      <td>3.810575</td>\n",
       "      <td>4.056664</td>\n",
       "    </tr>\n",
       "  </tbody>\n",
       "</table>\n",
       "</div>"
      ],
      "text/plain": [
       "           SiO2      TiO2      Al2O3     Fe2O3       FeO       MnO       MgO  \\\n",
       "2822  72.369670  0.256686  14.674241  0.677425  1.932593  0.042311  0.714639   \n",
       "2823  72.372309  0.256559  14.673412  0.677306  1.932038  0.042305  0.714130   \n",
       "2824  72.373871  0.256484  14.672921  0.677234  1.931710  0.042301  0.713829   \n",
       "2825  72.374252  0.256465  14.672801  0.677217  1.931629  0.042300  0.713755   \n",
       "2826  72.373405  0.256506  14.673067  0.677256  1.931808  0.042302  0.713919   \n",
       "\n",
       "           CaO      Na2O       K2O  \n",
       "2822  1.465769  3.810637  4.056028  \n",
       "2823  1.464871  3.810593  4.056477  \n",
       "2824  1.464340  3.810567  4.056743  \n",
       "2825  1.464210  3.810561  4.056808  \n",
       "2826  1.464499  3.810575  4.056664  "
      ]
     },
     "execution_count": 8,
     "metadata": {},
     "output_type": "execute_result"
    }
   ],
   "source": [
    "mineralogy.head()"
   ]
  },
  {
   "cell_type": "code",
   "execution_count": 12,
   "metadata": {},
   "outputs": [
    {
     "data": {
      "text/html": [
       "<div>\n",
       "<style scoped>\n",
       "    .dataframe tbody tr th:only-of-type {\n",
       "        vertical-align: middle;\n",
       "    }\n",
       "\n",
       "    .dataframe tbody tr th {\n",
       "        vertical-align: top;\n",
       "    }\n",
       "\n",
       "    .dataframe thead th {\n",
       "        text-align: right;\n",
       "    }\n",
       "</style>\n",
       "<table border=\"1\" class=\"dataframe\">\n",
       "  <thead>\n",
       "    <tr style=\"text-align: right;\">\n",
       "      <th></th>\n",
       "      <th>SiO2</th>\n",
       "      <th>TiO2</th>\n",
       "      <th>Al2O3</th>\n",
       "      <th>Fe2O3</th>\n",
       "      <th>FeO</th>\n",
       "      <th>MnO</th>\n",
       "      <th>MgO</th>\n",
       "      <th>CaO</th>\n",
       "      <th>Na2O</th>\n",
       "      <th>K2O</th>\n",
       "    </tr>\n",
       "  </thead>\n",
       "  <tbody>\n",
       "    <tr>\n",
       "      <th>2822</th>\n",
       "      <td>72.369670</td>\n",
       "      <td>0.256686</td>\n",
       "      <td>14.674241</td>\n",
       "      <td>0.677425</td>\n",
       "      <td>1.932593</td>\n",
       "      <td>0.042311</td>\n",
       "      <td>0.714639</td>\n",
       "      <td>1.465769</td>\n",
       "      <td>3.810637</td>\n",
       "      <td>4.056028</td>\n",
       "    </tr>\n",
       "    <tr>\n",
       "      <th>2823</th>\n",
       "      <td>72.372309</td>\n",
       "      <td>0.256559</td>\n",
       "      <td>14.673412</td>\n",
       "      <td>0.677306</td>\n",
       "      <td>1.932038</td>\n",
       "      <td>0.042305</td>\n",
       "      <td>0.714130</td>\n",
       "      <td>1.464871</td>\n",
       "      <td>3.810593</td>\n",
       "      <td>4.056477</td>\n",
       "    </tr>\n",
       "    <tr>\n",
       "      <th>2824</th>\n",
       "      <td>72.373871</td>\n",
       "      <td>0.256484</td>\n",
       "      <td>14.672921</td>\n",
       "      <td>0.677234</td>\n",
       "      <td>1.931710</td>\n",
       "      <td>0.042301</td>\n",
       "      <td>0.713829</td>\n",
       "      <td>1.464340</td>\n",
       "      <td>3.810567</td>\n",
       "      <td>4.056743</td>\n",
       "    </tr>\n",
       "    <tr>\n",
       "      <th>2825</th>\n",
       "      <td>72.374252</td>\n",
       "      <td>0.256465</td>\n",
       "      <td>14.672801</td>\n",
       "      <td>0.677217</td>\n",
       "      <td>1.931629</td>\n",
       "      <td>0.042300</td>\n",
       "      <td>0.713755</td>\n",
       "      <td>1.464210</td>\n",
       "      <td>3.810561</td>\n",
       "      <td>4.056808</td>\n",
       "    </tr>\n",
       "    <tr>\n",
       "      <th>2826</th>\n",
       "      <td>72.373405</td>\n",
       "      <td>0.256506</td>\n",
       "      <td>14.673067</td>\n",
       "      <td>0.677256</td>\n",
       "      <td>1.931808</td>\n",
       "      <td>0.042302</td>\n",
       "      <td>0.713919</td>\n",
       "      <td>1.464499</td>\n",
       "      <td>3.810575</td>\n",
       "      <td>4.056664</td>\n",
       "    </tr>\n",
       "    <tr>\n",
       "      <th>...</th>\n",
       "      <td>...</td>\n",
       "      <td>...</td>\n",
       "      <td>...</td>\n",
       "      <td>...</td>\n",
       "      <td>...</td>\n",
       "      <td>...</td>\n",
       "      <td>...</td>\n",
       "      <td>...</td>\n",
       "      <td>...</td>\n",
       "      <td>...</td>\n",
       "    </tr>\n",
       "    <tr>\n",
       "      <th>184622</th>\n",
       "      <td>70.805561</td>\n",
       "      <td>0.334702</td>\n",
       "      <td>15.096115</td>\n",
       "      <td>0.743794</td>\n",
       "      <td>2.251843</td>\n",
       "      <td>0.045496</td>\n",
       "      <td>1.047797</td>\n",
       "      <td>2.036020</td>\n",
       "      <td>3.826218</td>\n",
       "      <td>3.812454</td>\n",
       "    </tr>\n",
       "    <tr>\n",
       "      <th>184623</th>\n",
       "      <td>70.743929</td>\n",
       "      <td>0.337870</td>\n",
       "      <td>15.110124</td>\n",
       "      <td>0.746224</td>\n",
       "      <td>2.264013</td>\n",
       "      <td>0.045610</td>\n",
       "      <td>1.062168</td>\n",
       "      <td>2.059953</td>\n",
       "      <td>3.826440</td>\n",
       "      <td>3.803669</td>\n",
       "    </tr>\n",
       "    <tr>\n",
       "      <th>184624</th>\n",
       "      <td>70.668072</td>\n",
       "      <td>0.341777</td>\n",
       "      <td>15.127117</td>\n",
       "      <td>0.749195</td>\n",
       "      <td>2.278948</td>\n",
       "      <td>0.045750</td>\n",
       "      <td>1.079982</td>\n",
       "      <td>2.089551</td>\n",
       "      <td>3.826678</td>\n",
       "      <td>3.792931</td>\n",
       "    </tr>\n",
       "    <tr>\n",
       "      <th>184625</th>\n",
       "      <td>70.576138</td>\n",
       "      <td>0.346525</td>\n",
       "      <td>15.147347</td>\n",
       "      <td>0.752769</td>\n",
       "      <td>2.296982</td>\n",
       "      <td>0.045918</td>\n",
       "      <td>1.101755</td>\n",
       "      <td>2.125630</td>\n",
       "      <td>3.826912</td>\n",
       "      <td>3.780025</td>\n",
       "    </tr>\n",
       "    <tr>\n",
       "      <th>184626</th>\n",
       "      <td>70.466211</td>\n",
       "      <td>0.352219</td>\n",
       "      <td>15.171019</td>\n",
       "      <td>0.757004</td>\n",
       "      <td>2.318453</td>\n",
       "      <td>0.046116</td>\n",
       "      <td>1.128053</td>\n",
       "      <td>2.169066</td>\n",
       "      <td>3.827115</td>\n",
       "      <td>3.764745</td>\n",
       "    </tr>\n",
       "  </tbody>\n",
       "</table>\n",
       "<p>43310 rows × 10 columns</p>\n",
       "</div>"
      ],
      "text/plain": [
       "             SiO2      TiO2      Al2O3     Fe2O3       FeO       MnO  \\\n",
       "2822    72.369670  0.256686  14.674241  0.677425  1.932593  0.042311   \n",
       "2823    72.372309  0.256559  14.673412  0.677306  1.932038  0.042305   \n",
       "2824    72.373871  0.256484  14.672921  0.677234  1.931710  0.042301   \n",
       "2825    72.374252  0.256465  14.672801  0.677217  1.931629  0.042300   \n",
       "2826    72.373405  0.256506  14.673067  0.677256  1.931808  0.042302   \n",
       "...           ...       ...        ...       ...       ...       ...   \n",
       "184622  70.805561  0.334702  15.096115  0.743794  2.251843  0.045496   \n",
       "184623  70.743929  0.337870  15.110124  0.746224  2.264013  0.045610   \n",
       "184624  70.668072  0.341777  15.127117  0.749195  2.278948  0.045750   \n",
       "184625  70.576138  0.346525  15.147347  0.752769  2.296982  0.045918   \n",
       "184626  70.466211  0.352219  15.171019  0.757004  2.318453  0.046116   \n",
       "\n",
       "             MgO       CaO      Na2O       K2O  \n",
       "2822    0.714639  1.465769  3.810637  4.056028  \n",
       "2823    0.714130  1.464871  3.810593  4.056477  \n",
       "2824    0.713829  1.464340  3.810567  4.056743  \n",
       "2825    0.713755  1.464210  3.810561  4.056808  \n",
       "2826    0.713919  1.464499  3.810575  4.056664  \n",
       "...          ...       ...       ...       ...  \n",
       "184622  1.047797  2.036020  3.826218  3.812454  \n",
       "184623  1.062168  2.059953  3.826440  3.803669  \n",
       "184624  1.079982  2.089551  3.826678  3.792931  \n",
       "184625  1.101755  2.125630  3.826912  3.780025  \n",
       "184626  1.128053  2.169066  3.827115  3.764745  \n",
       "\n",
       "[43310 rows x 10 columns]"
      ]
     },
     "execution_count": 12,
     "metadata": {},
     "output_type": "execute_result"
    }
   ],
   "source": [
    "mineralogy"
   ]
  },
  {
   "cell_type": "code",
   "execution_count": 13,
   "metadata": {},
   "outputs": [],
   "source": [
    "mineralogy1 = mineralogy.iloc[0:45000]\n",
    "#mineralogy2 = mineralogy.iloc[45001:90000]"
   ]
  },
  {
   "cell_type": "raw",
   "metadata": {},
   "source": [
    "def convert_to_CIPWFULL_format(df, path, dataset_name=\"Dataset\", index_prefix=None, rock_type=\"P\", \n",
    "                               rock_suite_column=None, normalization=False):\n",
    "    \"\"\"Converts a pandas DataFrame to a txt file compatible \n",
    "    as an input file for the CIPWFULL program by AL-Mishwat (2015)\n",
    "    \n",
    "    Parameters:\n",
    "    -----------\n",
    "    df : pd.DataFrame\n",
    "        mineralogy data in the form of oxides\n",
    "    path : str\n",
    "        path to where to save resulting file\n",
    "    dataset_name : str (optional)\n",
    "        Name opf dataset to use in CIPWFULL\n",
    "        defaults to 'Dataset'\n",
    "    index_prefix : str (optional)\n",
    "        Prefix to use before index\n",
    "        defaults to None\n",
    "    rock_type : str (optional)\n",
    "        Rock type indicator:\n",
    "            'P' for plutonic\n",
    "            'V' for volcanic\n",
    "        defaults to 'P'\n",
    "    rock_suite_column : str (optional)\n",
    "        Which column name to use a 'rock suite' in CIPWFULL\n",
    "        The rock suite acts as a grouping variable\n",
    "        defaults to None\n",
    "    normalization : bool (optional)\n",
    "        Write flag to file whether to let CIPWFULL \n",
    "        normalize the data before norm calculation\n",
    "        defaults to False\n",
    "        \n",
    "    Returns:\n",
    "    --------\n",
    "    df_CIPW : pd.DataFrame\n",
    "        altered mineralogy data according to CIPWFULL input format\n",
    "    \n",
    "    (file is written to disk)\n",
    "    \n",
    "    \"\"\"\n",
    "    \n",
    "    # Get copy of original df so that it doesn't get altered\n",
    "    df_CIPW = df.copy()\n",
    "    \n",
    "    # Add prefix to index if required\n",
    "    if index_prefix:\n",
    "        df_CIPW.index = f\"{index_prefix}\" + df_CIPW.index.astype(str)\n",
    "        \n",
    "    # Add additional columns to be moved to index\n",
    "    df_CIPW[\"Type\"] = \"P\"\n",
    "    df_CIPW[\"Cancrinite\"] = 0\n",
    "    if rock_suite_column:\n",
    "        df_CIPW[\"Rock suite\"] = df_CIPW[rock_suite_column]\n",
    "        df_CIPW.drop(rock_suite_column, axis=1)\n",
    "    else:\n",
    "        df_CIPW[\"Rock suite\"] = 1 # This could be changed to a grouping variable such as geographic area, time\n",
    "        \n",
    "    # Move additional columns to index\n",
    "    df_CIPW = df_CIPW.set_index([\"Type\", \"Cancrinite\", \"Rock suite\"], append=True)\n",
    "    \n",
    "    # Start writing file (file saving/closing is handled automatically)\n",
    "    with open(path, 'w') as f:\n",
    "\n",
    "        # Write a '1' before the dataset name if you want CIPWFULL \n",
    "        # to normalize the data before the calculation; else write space\n",
    "        if normalization:\n",
    "            f.write(\"1\")\n",
    "        else:\n",
    "            f.write(\" \")\n",
    "\n",
    "        # Write dataset name\n",
    "        f.write(f\"{dataset_name}\\n\")\n",
    "\n",
    "        # Write column names and index+data\n",
    "        # The floating point number need to be formatted so as not \n",
    "        # to go over the 120 character line limit of CIPWFULL\n",
    "        df_CIPW.to_csv(f, mode='w', sep=\" \", line_terminator=\"\\n\", \n",
    "                       index_label=False, float_format=\"%2.5f\")\n",
    "\n",
    "        # Write '0' to indicate end of data entries\n",
    "        f.write(\"0\")\n",
    "\n",
    "        # Write rock suite names if needed\n",
    "        if rock_suite_column:\n",
    "            f.write(\"\\n\")\n",
    "            f.write(rock_suite_column.unique())\n",
    "            f.write(\"\\n\")"
   ]
  },
  {
   "cell_type": "code",
   "execution_count": 14,
   "metadata": {},
   "outputs": [],
   "source": [
    "cipw.convert_to_CIPWFULL_format(mineralogy1, \"../_CIPW/CIPW/AREA1_J/area1_J_1.txt\", dataset_name=\"Vistelius (1995)\")\n",
    "#cipw.convert_to_CIPWFULL_format(mineralogy2, \"../_CIPW/CIPW/AREA1/area1_2.txt\", dataset_name=\"Vistelius (1995)\")"
   ]
  },
  {
   "cell_type": "markdown",
   "metadata": {},
   "source": [
    "_____"
   ]
  },
  {
   "cell_type": "markdown",
   "metadata": {},
   "source": [
    "## Extract results from CIPWFULL results file"
   ]
  },
  {
   "cell_type": "markdown",
   "metadata": {},
   "source": [
    "**I only selected quartz, plagioclase and alkali feldspar here as they are of interest to us for the QAPF classification**  \n",
    "**Feel free to extract addiotnal minerals if they would be of any interest to you**"
   ]
  },
  {
   "cell_type": "markdown",
   "metadata": {},
   "source": [
    "**Not sure what to do with albite in the final assignments as by the book it should be accounted for as an alkali feldspar and thus be included in the sum of plagioclase but then the resulting plagioclase contents seem quite low.   \n",
    "This is something you might look into although the method used here seems to be correct according to te resulting QAPF diagram.**\n",
    "\n",
    "--> indeed when reading the paper of Streckeisen (and other sources), albite should be accounted for as an alkali feldspar, also saw that the datapoints were generally located more to the right side (plagioclase), maybe an overestimation of plagioclase?\n",
    "\n",
    "--> I changed the settings below so that albite belongs to the alkali feldspars, Think this figure should be more correct according to the papers, but the cotent of plagioclase is indeed quite low. "
   ]
  },
  {
   "cell_type": "raw",
   "metadata": {},
   "source": [
    "def extract_CIPW_results(path, columns_of_interest=['  QZ', '  OR', '  AB', '  AN'], \n",
    "                         print_columns=False):\n",
    "    \"\"\"Extract the results from CIPWFULL run\n",
    "    \n",
    "    Parameters:\n",
    "    -----------\n",
    "    path : str\n",
    "        Path to results file\n",
    "    columns_of_interest : list (optional)\n",
    "        List of minerals to select in results file\n",
    "        defaults to Q, A, P minerals\n",
    "    print_columns : bool (optional)\n",
    "        Print original df's column names\n",
    "        defaults to False\n",
    "        \n",
    "    Returns:\n",
    "    --------\n",
    "    df_final : pd.DataFrame\n",
    "        Minerals of interest in tabular format\n",
    "    \"\"\"\n",
    "    \n",
    "    df = pd.read_csv(path, sep=\"\\t\", index_col=0)\n",
    "    \n",
    "    if print_columns:\n",
    "        print(df.colums)\n",
    "    \n",
    "    # Drop last row which states the column names again\n",
    "    df = df.iloc[:-1, :]\n",
    "    \n",
    "    # Quary columns in which we're interested\n",
    "    columns_of_interest = ['  QZ', '  OR', '  AB', '  AN']\n",
    "    df_query = df.loc[:, columns_of_interest]\n",
    "    \n",
    "    # Convert values to floats\n",
    "    df_query = df_query.astype(float)\n",
    "    \n",
    "    # Create new dataframe to hold final data\n",
    "    df_final = pd.DataFrame()\n",
    "\n",
    "    df_final[\"Q\"] = df_query[\"  QZ\"]\n",
    "    df_final[\"P\"] = df_query[\"  AB\"] + df_query[\"  AN\"]\n",
    "    df_final[\"K\"] = df_query[\"  OR\"]\n",
    "    \n",
    "    return df_final"
   ]
  },
  {
   "cell_type": "code",
   "execution_count": 17,
   "metadata": {},
   "outputs": [],
   "source": [
    "df_final = cipw.extract_CIPW_results(\"../_CIPW/CIPW/AREA1_J/area1_J_1_results_excel.txt\")\n",
    "#df_final2 = cipw.extract_CIPW_results(\"../_CIPW/CIPW/AREA1/area1_2_results_excel.txt\")"
   ]
  },
  {
   "cell_type": "raw",
   "metadata": {},
   "source": [
    "df_final1 = pd.read_excel(\"../_CIPW/CIPW/AREA1/area1_1_by_hand.xlsx\", index_col=0)\n",
    "df_final2 = pd.read_excel(\"../_CIPW/CIPW/AREA1/area1_2_by_hand.xlsx\", index_col=0)"
   ]
  },
  {
   "cell_type": "code",
   "execution_count": 18,
   "metadata": {},
   "outputs": [
    {
     "data": {
      "text/html": [
       "<div>\n",
       "<style scoped>\n",
       "    .dataframe tbody tr th:only-of-type {\n",
       "        vertical-align: middle;\n",
       "    }\n",
       "\n",
       "    .dataframe tbody tr th {\n",
       "        vertical-align: top;\n",
       "    }\n",
       "\n",
       "    .dataframe thead th {\n",
       "        text-align: right;\n",
       "    }\n",
       "</style>\n",
       "<table border=\"1\" class=\"dataframe\">\n",
       "  <thead>\n",
       "    <tr style=\"text-align: right;\">\n",
       "      <th></th>\n",
       "      <th>Q</th>\n",
       "      <th>P</th>\n",
       "      <th>K</th>\n",
       "    </tr>\n",
       "    <tr>\n",
       "      <th>SAMPLE</th>\n",
       "      <th></th>\n",
       "      <th></th>\n",
       "      <th></th>\n",
       "    </tr>\n",
       "  </thead>\n",
       "  <tbody>\n",
       "    <tr>\n",
       "      <th>2822</th>\n",
       "      <td>29.268646</td>\n",
       "      <td>36.289389</td>\n",
       "      <td>27.191834</td>\n",
       "    </tr>\n",
       "    <tr>\n",
       "      <th>2823</th>\n",
       "      <td>29.272873</td>\n",
       "      <td>36.284544</td>\n",
       "      <td>27.194453</td>\n",
       "    </tr>\n",
       "    <tr>\n",
       "      <th>2824</th>\n",
       "      <td>29.275322</td>\n",
       "      <td>36.281763</td>\n",
       "      <td>27.195969</td>\n",
       "    </tr>\n",
       "    <tr>\n",
       "      <th>2825</th>\n",
       "      <td>29.275938</td>\n",
       "      <td>36.281043</td>\n",
       "      <td>27.196377</td>\n",
       "    </tr>\n",
       "    <tr>\n",
       "      <th>2826</th>\n",
       "      <td>29.274630</td>\n",
       "      <td>36.282556</td>\n",
       "      <td>27.195498</td>\n",
       "    </tr>\n",
       "    <tr>\n",
       "      <th>...</th>\n",
       "      <td>...</td>\n",
       "      <td>...</td>\n",
       "      <td>...</td>\n",
       "    </tr>\n",
       "    <tr>\n",
       "      <th>184622</th>\n",
       "      <td>26.641554</td>\n",
       "      <td>39.236911</td>\n",
       "      <td>25.765672</td>\n",
       "    </tr>\n",
       "    <tr>\n",
       "      <th>184623</th>\n",
       "      <td>26.532579</td>\n",
       "      <td>39.357297</td>\n",
       "      <td>25.713975</td>\n",
       "    </tr>\n",
       "    <tr>\n",
       "      <th>184624</th>\n",
       "      <td>26.397905</td>\n",
       "      <td>39.505963</td>\n",
       "      <td>25.650715</td>\n",
       "    </tr>\n",
       "    <tr>\n",
       "      <th>184625</th>\n",
       "      <td>26.233969</td>\n",
       "      <td>39.686698</td>\n",
       "      <td>25.574621</td>\n",
       "    </tr>\n",
       "    <tr>\n",
       "      <th>184626</th>\n",
       "      <td>26.036762</td>\n",
       "      <td>39.903797</td>\n",
       "      <td>25.484509</td>\n",
       "    </tr>\n",
       "  </tbody>\n",
       "</table>\n",
       "<p>43310 rows × 3 columns</p>\n",
       "</div>"
      ],
      "text/plain": [
       "                   Q          P          K\n",
       " SAMPLE                                   \n",
       "2822       29.268646  36.289389  27.191834\n",
       "2823       29.272873  36.284544  27.194453\n",
       "2824       29.275322  36.281763  27.195969\n",
       "2825       29.275938  36.281043  27.196377\n",
       "2826       29.274630  36.282556  27.195498\n",
       "...              ...        ...        ...\n",
       " 184622    26.641554  39.236911  25.765672\n",
       " 184623    26.532579  39.357297  25.713975\n",
       " 184624    26.397905  39.505963  25.650715\n",
       " 184625    26.233969  39.686698  25.574621\n",
       " 184626    26.036762  39.903797  25.484509\n",
       "\n",
       "[43310 rows x 3 columns]"
      ]
     },
     "execution_count": 18,
     "metadata": {},
     "output_type": "execute_result"
    }
   ],
   "source": [
    "df_final"
   ]
  },
  {
   "cell_type": "markdown",
   "metadata": {},
   "source": [
    "## QAPF classification"
   ]
  },
  {
   "cell_type": "code",
   "execution_count": 19,
   "metadata": {},
   "outputs": [],
   "source": [
    "df_final[\"QAPF\"] = qapf.check_QAPF_region(df_final)"
   ]
  },
  {
   "cell_type": "code",
   "execution_count": 20,
   "metadata": {},
   "outputs": [
    {
     "data": {
      "text/plain": [
       "array(['monzo granite', 'granodiorite',\n",
       "       'quartz monzodiorite\\nquartz monzogabbro'], dtype=object)"
      ]
     },
     "execution_count": 20,
     "metadata": {},
     "output_type": "execute_result"
    }
   ],
   "source": [
    "df_final[\"QAPF\"].unique()"
   ]
  },
  {
   "cell_type": "raw",
   "metadata": {},
   "source": [
    "import plotly.express as px\n",
    "import plotly.graph_objects as go\n",
    "\n",
    "fig = px.scatter_ternary(df_final, a=\"Q\", b=\"K\", c=\"P\", color=\"QAPF\")\n",
    "\n",
    "fig.write_image(f\"../_FIGURES/geomap/qapf_ternary/area1_QAPF.pdf\")\n",
    "fig.show()"
   ]
  },
  {
   "cell_type": "code",
   "execution_count": 21,
   "metadata": {},
   "outputs": [],
   "source": [
    "df_final.to_excel(\"../_CIPW/CIPW/AREA1_J/qapf.xlsx\", index=True)"
   ]
  },
  {
   "cell_type": "markdown",
   "metadata": {},
   "source": [
    "-------"
   ]
  },
  {
   "cell_type": "code",
   "execution_count": 22,
   "metadata": {},
   "outputs": [],
   "source": [
    "df_final.iloc[:, 3].value_counts().to_excel(\"../_CIPW/CIPW/AREA1_J/QAPF_counts.xlsx\")"
   ]
  },
  {
   "cell_type": "markdown",
   "metadata": {},
   "source": [
    "-----"
   ]
  },
  {
   "cell_type": "code",
   "execution_count": 23,
   "metadata": {},
   "outputs": [],
   "source": [
    "QAPF_control = pd.read_excel(\"../_CIPW/CIPW/1_normalized.xlsx\", index_col=0)\n",
    "Area = pd.read_excel(\"../_INTERPOLATION/area1_J.xlsx\", index_col=0, usecols = [0, 1, 2, 3, 4, 29])"
   ]
  },
  {
   "cell_type": "code",
   "execution_count": 26,
   "metadata": {},
   "outputs": [],
   "source": [
    "QAPF_control = pd.concat([Area, QAPF_control], axis = 1)\n",
    "QAPF_control = QAPF_control.dropna()\n",
    "QAPF_control\n",
    "QAPF_control.to_excel(\"../_CIPW/CIPW/AREA1_J/QAPF_control_points.xlsx\", index=True)"
   ]
  },
  {
   "cell_type": "raw",
   "metadata": {},
   "source": [
    "QAPF_control_area1 = QAPF_control[QAPF_control['area'] ==1]\n",
    "QAPF_control_area1.to_excel(\"../_CIPW/CIPW/AREA1/QAPF_control_points.xlsx\", index=True)"
   ]
  },
  {
   "cell_type": "code",
   "execution_count": null,
   "metadata": {},
   "outputs": [],
   "source": []
  }
 ],
 "metadata": {
  "kernelspec": {
   "display_name": "Python 3",
   "language": "python",
   "name": "python3"
  },
  "language_info": {
   "codemirror_mode": {
    "name": "ipython",
    "version": 3
   },
   "file_extension": ".py",
   "mimetype": "text/x-python",
   "name": "python",
   "nbconvert_exporter": "python",
   "pygments_lexer": "ipython3",
   "version": "3.7.3"
  }
 },
 "nbformat": 4,
 "nbformat_minor": 4
}
