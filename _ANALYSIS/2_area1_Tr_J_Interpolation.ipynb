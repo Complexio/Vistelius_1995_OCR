{
 "cells": [
  {
   "cell_type": "markdown",
   "metadata": {},
   "source": [
    "# Interpolation\n",
    "___"
   ]
  },
  {
   "cell_type": "markdown",
   "metadata": {},
   "source": [
    "**Remarks**\n",
    "- Code will need to be modified a bit to reflect the use of a certain group of data instead of all data"
   ]
  },
  {
   "cell_type": "code",
   "execution_count": 100,
   "metadata": {},
   "outputs": [],
   "source": [
    "import numpy as np\n",
    "import pandas as pd\n",
    "import os\n",
    "import pickle\n",
    "\n",
    "import matplotlib.pyplot as plt\n",
    "import seaborn as sns\n",
    "\n",
    "from collections import Counter\n",
    "from itertools import combinations\n",
    "\n",
    "# from scipy.spatial.distance import pdist\n",
    "# from scipy.stats import chisquare, chi2\n",
    "from scipy.stats import ttest_1samp, t\n",
    "\n",
    "from pykrige.ok import OrdinaryKriging\n",
    "from pykrige.rk import Krige\n",
    "import pykrige.kriging_tools as kt\n",
    "\n",
    "from sklearn.model_selection import cross_val_predict\n",
    "\n",
    "from joblib import Parallel, delayed\n",
    "import multiprocessing"
   ]
  },
  {
   "cell_type": "code",
   "execution_count": 101,
   "metadata": {},
   "outputs": [],
   "source": [
    "import prepostprocessing.pre_processing as preproc\n",
    "import prepostprocessing.post_processing as postproc\n",
    "import nugget_estimation.kriging_tools as krigingtools\n",
    "import nugget_estimation.detrending as detrending\n",
    "import plots.plots as plots\n",
    "import prepostprocessing.cleaning as cleaning\n",
    "import cross_validation.leave_one_out_cross_validation as loocv\n",
    "\n",
    "import qapf.qapf as qapf\n",
    "import statistics.ttest as ttest\n",
    "import statistics.simulations as sim\n",
    "\n",
    "import toolbox.toolbox as tb"
   ]
  },
  {
   "cell_type": "code",
   "execution_count": 102,
   "metadata": {},
   "outputs": [
    {
     "name": "stdout",
     "output_type": "stream",
     "text": [
      "The autoreload extension is already loaded. To reload it, use:\n",
      "  %reload_ext autoreload\n"
     ]
    }
   ],
   "source": [
    "# Load jupyter extension to reload packages before executing user code.\n",
    "# https://ipython.readtheMLcs.io/en/stable/config/extensions/autoreload.html\n",
    "%load_ext autoreload\n",
    "# Reload all packages (except those excluded by %aimport) every time before executing the Python code typed.\n",
    "%autoreload 2"
   ]
  },
  {
   "cell_type": "code",
   "execution_count": 103,
   "metadata": {},
   "outputs": [],
   "source": [
    "# You only need to run this cell once if you want to have multiple outputs in all your notebooks.\n",
    "# It is a general setting so you can set this cell's status to 'raw'\n",
    "from IPython.core.interactiveshell import InteractiveShell\n",
    "InteractiveShell.ast_node_interactivity = \"all\""
   ]
  },
  {
   "cell_type": "code",
   "execution_count": 104,
   "metadata": {},
   "outputs": [],
   "source": [
    "coordinates_latlon = preproc.load_obj(\"coordinates_area1_Tr_J\")\n",
    "coordinates_utm = preproc.load_obj(\"coordinates_utm_area1_Tr_J\")\n",
    "mineralogy = preproc.load_obj(\"mineralogy_area1_Tr_J\")\n",
    "mineralogy_clr = preproc.load_obj(\"mineralogy_clr_area1_Tr_J\")\n",
    "mineralogy_pca = preproc.load_obj(\"mineralogy_pca_area1_Tr_J\")\n",
    "mineralogy_pca_df = preproc.load_obj(\"mineralogy_pca_area1_Tr_J_df\")\n",
    "metadata = preproc.load_obj(\"metadata_area1_Tr_J\")"
   ]
  },
  {
   "cell_type": "markdown",
   "metadata": {},
   "source": [
    "## EDA\n",
    "___"
   ]
  },
  {
   "cell_type": "code",
   "execution_count": 105,
   "metadata": {},
   "outputs": [
    {
     "data": {
      "text/plain": [
       "298"
      ]
     },
     "execution_count": 105,
     "metadata": {},
     "output_type": "execute_result"
    }
   ],
   "source": [
    "# Get number of control points that will be used\n",
    "number_of_control_points = coordinates_utm.shape[0]\n",
    "number_of_control_points"
   ]
  },
  {
   "cell_type": "code",
   "execution_count": 106,
   "metadata": {},
   "outputs": [
    {
     "data": {
      "text/html": [
       "<div>\n",
       "<style scoped>\n",
       "    .dataframe tbody tr th:only-of-type {\n",
       "        vertical-align: middle;\n",
       "    }\n",
       "\n",
       "    .dataframe tbody tr th {\n",
       "        vertical-align: top;\n",
       "    }\n",
       "\n",
       "    .dataframe thead th {\n",
       "        text-align: right;\n",
       "    }\n",
       "</style>\n",
       "<table border=\"1\" class=\"dataframe\">\n",
       "  <thead>\n",
       "    <tr style=\"text-align: right;\">\n",
       "      <th></th>\n",
       "      <th>Y_UTM</th>\n",
       "      <th>X_UTM</th>\n",
       "      <th>ZoneNumber</th>\n",
       "      <th>ZoneLetter</th>\n",
       "    </tr>\n",
       "  </thead>\n",
       "  <tbody>\n",
       "    <tr>\n",
       "      <th>35</th>\n",
       "      <td>7.594764e+05</td>\n",
       "      <td>5.704626e+06</td>\n",
       "      <td>48</td>\n",
       "      <td>U</td>\n",
       "    </tr>\n",
       "    <tr>\n",
       "      <th>36</th>\n",
       "      <td>9.420864e+05</td>\n",
       "      <td>5.760143e+06</td>\n",
       "      <td>48</td>\n",
       "      <td>U</td>\n",
       "    </tr>\n",
       "    <tr>\n",
       "      <th>65</th>\n",
       "      <td>1.198609e+06</td>\n",
       "      <td>6.024470e+06</td>\n",
       "      <td>48</td>\n",
       "      <td>U</td>\n",
       "    </tr>\n",
       "    <tr>\n",
       "      <th>73</th>\n",
       "      <td>8.570216e+05</td>\n",
       "      <td>5.795547e+06</td>\n",
       "      <td>48</td>\n",
       "      <td>U</td>\n",
       "    </tr>\n",
       "    <tr>\n",
       "      <th>124</th>\n",
       "      <td>8.529822e+05</td>\n",
       "      <td>5.861658e+06</td>\n",
       "      <td>48</td>\n",
       "      <td>U</td>\n",
       "    </tr>\n",
       "    <tr>\n",
       "      <th>...</th>\n",
       "      <td>...</td>\n",
       "      <td>...</td>\n",
       "      <td>...</td>\n",
       "      <td>...</td>\n",
       "    </tr>\n",
       "    <tr>\n",
       "      <th>3987</th>\n",
       "      <td>1.043731e+06</td>\n",
       "      <td>5.826313e+06</td>\n",
       "      <td>48</td>\n",
       "      <td>U</td>\n",
       "    </tr>\n",
       "    <tr>\n",
       "      <th>4014</th>\n",
       "      <td>1.329009e+06</td>\n",
       "      <td>6.046216e+06</td>\n",
       "      <td>48</td>\n",
       "      <td>U</td>\n",
       "    </tr>\n",
       "    <tr>\n",
       "      <th>4078</th>\n",
       "      <td>1.122917e+06</td>\n",
       "      <td>6.025539e+06</td>\n",
       "      <td>48</td>\n",
       "      <td>U</td>\n",
       "    </tr>\n",
       "    <tr>\n",
       "      <th>4220</th>\n",
       "      <td>1.337610e+06</td>\n",
       "      <td>6.094699e+06</td>\n",
       "      <td>48</td>\n",
       "      <td>U</td>\n",
       "    </tr>\n",
       "    <tr>\n",
       "      <th>4574</th>\n",
       "      <td>1.413275e+06</td>\n",
       "      <td>6.019949e+06</td>\n",
       "      <td>48</td>\n",
       "      <td>U</td>\n",
       "    </tr>\n",
       "  </tbody>\n",
       "</table>\n",
       "<p>298 rows × 4 columns</p>\n",
       "</div>"
      ],
      "text/plain": [
       "             Y_UTM         X_UTM  ZoneNumber ZoneLetter\n",
       "35    7.594764e+05  5.704626e+06          48          U\n",
       "36    9.420864e+05  5.760143e+06          48          U\n",
       "65    1.198609e+06  6.024470e+06          48          U\n",
       "73    8.570216e+05  5.795547e+06          48          U\n",
       "124   8.529822e+05  5.861658e+06          48          U\n",
       "...            ...           ...         ...        ...\n",
       "3987  1.043731e+06  5.826313e+06          48          U\n",
       "4014  1.329009e+06  6.046216e+06          48          U\n",
       "4078  1.122917e+06  6.025539e+06          48          U\n",
       "4220  1.337610e+06  6.094699e+06          48          U\n",
       "4574  1.413275e+06  6.019949e+06          48          U\n",
       "\n",
       "[298 rows x 4 columns]"
      ]
     },
     "execution_count": 106,
     "metadata": {},
     "output_type": "execute_result"
    }
   ],
   "source": [
    "coordinates_utm"
   ]
  },
  {
   "cell_type": "code",
   "execution_count": 107,
   "metadata": {},
   "outputs": [],
   "source": [
    "coordinates_utm = coordinates_utm.rename({\"X_UTM\": \"Y\", \"Y_UTM\": \"X\"}, axis=1)"
   ]
  },
  {
   "cell_type": "code",
   "execution_count": 108,
   "metadata": {},
   "outputs": [],
   "source": [
    "# FILL IN SHORT NAME HERE THAT WILL BE USED WHEN SAVING THE PLOT (e.g. \"G1\")\n",
    "group_name = \"area1_Tr_J\""
   ]
  },
  {
   "cell_type": "code",
   "execution_count": 109,
   "metadata": {},
   "outputs": [
    {
     "data": {
      "image/png": "[encoded data removed]",
      "text/plain": [
       "<Figure size 432x288 with 1 Axes>"
      ]
     },
     "metadata": {},
     "output_type": "display_data"
    }
   ],
   "source": [
    "# Plot control points with labels\n",
    "plots.plot_map_with_control_points(coordinates_utm, group_name, label_size=4, subset=[\"X\", \"Y\"],\n",
    "                                   show_labels=False,\n",
    "                                  skip_xaxis_label=2, skip_yaxis_label=2, \n",
    "                                  skip_xaxis_start=1, skip_yaxis_start=1)"
   ]
  },
  {
   "cell_type": "code",
   "execution_count": 110,
   "metadata": {},
   "outputs": [
    {
     "data": {
      "text/plain": [
       "array([48], dtype=int64)"
      ]
     },
     "execution_count": 110,
     "metadata": {},
     "output_type": "execute_result"
    },
    {
     "data": {
      "text/plain": [
       "array(['U'], dtype=object)"
      ]
     },
     "execution_count": 110,
     "metadata": {},
     "output_type": "execute_result"
    }
   ],
   "source": [
    "# Show unique zone letters and zone numbers of utm coordinates\n",
    "coordinates_utm[\"ZoneNumber\"].unique()\n",
    "coordinates_utm[\"ZoneLetter\"].unique()"
   ]
  },
  {
   "cell_type": "code",
   "execution_count": 111,
   "metadata": {},
   "outputs": [
    {
     "data": {
      "text/plain": [
       "(0.0018036039928465838, 895384.3276935855)"
      ]
     },
     "execution_count": 111,
     "metadata": {},
     "output_type": "execute_result"
    }
   ],
   "source": [
    "# Calculate minimum and maxmin lag distance between two points of the dataset\n",
    "distance_matrix = krigingtools.calculate_and_sort_square_distance_matrix(coordinates_utm[[\"X\", \"Y\"]])\n",
    "\n",
    "min_lag_distance = np.amin(distance_matrix)\n",
    "max_lag_distance = np.amax(distance_matrix)\n",
    "min_lag_distance, max_lag_distance"
   ]
  },
  {
   "cell_type": "code",
   "execution_count": 112,
   "metadata": {},
   "outputs": [
    {
     "data": {
      "text/plain": [
       "(array([9370., 6912., 3736., 3084., 3872., 3108., 3994., 3098., 3418.,\n",
       "        3786., 3422., 3444., 2448., 2908., 2452., 3260., 2852., 2204.,\n",
       "        2202., 1726., 1008., 1102., 1274., 2212., 2166., 3102., 1696.,\n",
       "        1400.,  516.,  594.,  346.,  536.,  448.,  430.,  260.,   58.,\n",
       "          14.,   10.,   14.,   24.]),\n",
       " array([1.80360399e-03, 2.23846100e+04, 4.47692181e+04, 6.71538262e+04,\n",
       "        8.95384344e+04, 1.11923043e+05, 1.34307651e+05, 1.56692259e+05,\n",
       "        1.79076867e+05, 2.01461475e+05, 2.23846083e+05, 2.46230691e+05,\n",
       "        2.68615300e+05, 2.90999908e+05, 3.13384516e+05, 3.35769124e+05,\n",
       "        3.58153732e+05, 3.80538340e+05, 4.02922948e+05, 4.25307557e+05,\n",
       "        4.47692165e+05, 4.70076773e+05, 4.92461381e+05, 5.14845989e+05,\n",
       "        5.37230597e+05, 5.59615205e+05, 5.81999814e+05, 6.04384422e+05,\n",
       "        6.26769030e+05, 6.49153638e+05, 6.71538246e+05, 6.93922854e+05,\n",
       "        7.16307463e+05, 7.38692071e+05, 7.61076679e+05, 7.83461287e+05,\n",
       "        8.05845895e+05, 8.28230503e+05, 8.50615111e+05, 8.72999720e+05,\n",
       "        8.95384328e+05]),\n",
       " <a list of 40 Patch objects>)"
      ]
     },
     "execution_count": 112,
     "metadata": {},
     "output_type": "execute_result"
    },
    {
     "data": {
      "image/png": "[encoded data removed]",
      "text/plain": [
       "<Figure size 432x288 with 1 Axes>"
      ]
     },
     "metadata": {
      "needs_background": "light"
     },
     "output_type": "display_data"
    }
   ],
   "source": [
    "plt.hist(distance_matrix.flatten(), bins=40)"
   ]
  },
  {
   "cell_type": "code",
   "execution_count": 113,
   "metadata": {},
   "outputs": [
    {
     "data": {
      "text/plain": [
       "(array([], dtype=int64), array([], dtype=int64))"
      ]
     },
     "execution_count": 113,
     "metadata": {},
     "output_type": "execute_result"
    }
   ],
   "source": [
    "np.where(distance_matrix == 0)"
   ]
  },
  {
   "cell_type": "markdown",
   "metadata": {},
   "source": [
    "## Critical distance estimation\n",
    "___"
   ]
  },
  {
   "cell_type": "code",
   "execution_count": 114,
   "metadata": {},
   "outputs": [],
   "source": [
    "# Range (lag distance at which the sill is reached; in meters)\n",
    "\n",
    "# Depending on how many principal components you will use, \n",
    "# you will have to add more entries to this list.\n",
    "\n",
    "# Modified the range since variograms are not correct yet\n",
    "# range_ = [100000] * 15\n",
    "range_ = [52000, 52000, 52000, 52000, 52000, 52000, 52000, 52000, 52000, 100000, 100000, 100000, 100000, 100000, 100000]\n",
    "\n"
   ]
  },
  {
   "cell_type": "code",
   "execution_count": 115,
   "metadata": {},
   "outputs": [
    {
     "data": {
      "image/png": "[encoded data removed]",
      "text/plain": [
       "<Figure size 1728x864 with 3 Axes>"
      ]
     },
     "metadata": {
      "needs_background": "light"
     },
     "output_type": "display_data"
    }
   ],
   "source": [
    "# You can adjust the radius parameters below to change the slider settings\n",
    "# to visualize the figures interactively\n",
    "plots.interactive_plot_search_radius(coordinates_utm, orient='rows', \n",
    "                                     radius_default=25000, # Default slider position\n",
    "                                     radius_min=20000,  # Slider start\n",
    "                                     radius_max=40000, # Slider stop\n",
    "                                     radius_step=500,  # Slider step\n",
    "                                     radius_offset=500) # Offset between visualizations shown\n",
    "\n",
    "# The x-axis stands for 'n_neighbours'"
   ]
  },
  {
   "cell_type": "code",
   "execution_count": 116,
   "metadata": {},
   "outputs": [],
   "source": [
    "# Critical distance (in meters)\n",
    "# This is the distance where at least 95% of your samples\n",
    "# will have at least 3 neighbours within that distance\n",
    "\n",
    "# You can refine this value later on, or we can use the range \n",
    "# instead of the critical distance as the only value for the search radius\n",
    "critical_distance = 51000"
   ]
  },
  {
   "cell_type": "code",
   "execution_count": 117,
   "metadata": {},
   "outputs": [],
   "source": [
    "# This is basically creating a list of how many neighbours each data point has \n",
    "# within the critical_distance and within the range\n",
    "nvalues_control_points = {}\n",
    "\n",
    "for radius in (0.05, critical_distance, range_[0]):\n",
    "    temp = krigingtools.find_points_within_search_radius(\n",
    "               krigingtools.calculate_and_sort_square_distance_matrix(coordinates_utm),\n",
    "               search_radius=radius # 'search_radius' should be equal to 'radius' here, not 'critical_distance'\n",
    "           )\n",
    "    nvalues_control_points[radius] = pd.Series(temp, index=coordinates_utm.index)\n",
    "    \n",
    "# You're performing a calculation in a for loop so we want to check how many neighbours each data point has \n",
    "# within the specified radius in the tuple (0.05, critical_distance, range_[0]). \n",
    "# So for each of these specified distances, the function will be executed and \n",
    "# the result stored in the nvalues_control_points dictionary"
   ]
  },
  {
   "cell_type": "code",
   "execution_count": 118,
   "metadata": {},
   "outputs": [
    {
     "data": {
      "text/plain": [
       "14.9"
      ]
     },
     "execution_count": 118,
     "metadata": {},
     "output_type": "execute_result"
    }
   ],
   "source": [
    "# Number of samples that may still have less than 3 neighbours within the critical distance\n",
    "number_of_control_points * 0.05"
   ]
  },
  {
   "cell_type": "code",
   "execution_count": 119,
   "metadata": {},
   "outputs": [
    {
     "data": {
      "text/plain": [
       "15"
      ]
     },
     "execution_count": 119,
     "metadata": {},
     "output_type": "execute_result"
    }
   ],
   "source": [
    "# Check number of samples outside of critical distance\n",
    "samples_outside_critical_distance = nvalues_control_points[critical_distance][nvalues_control_points[critical_distance] < 3].index.tolist()\n",
    "len(samples_outside_critical_distance)\n",
    "\n",
    "# It's 0.05 sample above 72.95"
   ]
  },
  {
   "cell_type": "code",
   "execution_count": 120,
   "metadata": {},
   "outputs": [
    {
     "data": {
      "text/html": [
       "<div>\n",
       "<style scoped>\n",
       "    .dataframe tbody tr th:only-of-type {\n",
       "        vertical-align: middle;\n",
       "    }\n",
       "\n",
       "    .dataframe tbody tr th {\n",
       "        vertical-align: top;\n",
       "    }\n",
       "\n",
       "    .dataframe thead th {\n",
       "        text-align: right;\n",
       "    }\n",
       "</style>\n",
       "<table border=\"1\" class=\"dataframe\">\n",
       "  <thead>\n",
       "    <tr style=\"text-align: right;\">\n",
       "      <th></th>\n",
       "      <th>PC01</th>\n",
       "      <th>PC02</th>\n",
       "      <th>PC03</th>\n",
       "      <th>PC04</th>\n",
       "      <th>PC05</th>\n",
       "      <th>PC06</th>\n",
       "      <th>PC07</th>\n",
       "      <th>PC08</th>\n",
       "      <th>PC09</th>\n",
       "      <th>PC10</th>\n",
       "      <th>PC11</th>\n",
       "    </tr>\n",
       "  </thead>\n",
       "  <tbody>\n",
       "    <tr>\n",
       "      <th>168</th>\n",
       "      <td>-1.117589</td>\n",
       "      <td>1.219399</td>\n",
       "      <td>-0.600482</td>\n",
       "      <td>0.721450</td>\n",
       "      <td>0.318724</td>\n",
       "      <td>-0.818074</td>\n",
       "      <td>-0.389029</td>\n",
       "      <td>0.065351</td>\n",
       "      <td>0.124177</td>\n",
       "      <td>0.041316</td>\n",
       "      <td>-4.535403e-16</td>\n",
       "    </tr>\n",
       "    <tr>\n",
       "      <th>435</th>\n",
       "      <td>-0.137821</td>\n",
       "      <td>-0.685181</td>\n",
       "      <td>0.455501</td>\n",
       "      <td>2.326153</td>\n",
       "      <td>-0.360334</td>\n",
       "      <td>1.129967</td>\n",
       "      <td>-0.515567</td>\n",
       "      <td>0.001951</td>\n",
       "      <td>0.202428</td>\n",
       "      <td>0.020822</td>\n",
       "      <td>-2.455408e-16</td>\n",
       "    </tr>\n",
       "    <tr>\n",
       "      <th>742</th>\n",
       "      <td>-1.538846</td>\n",
       "      <td>-1.045943</td>\n",
       "      <td>-0.405087</td>\n",
       "      <td>-0.160520</td>\n",
       "      <td>-0.157946</td>\n",
       "      <td>-0.604801</td>\n",
       "      <td>0.181398</td>\n",
       "      <td>0.135519</td>\n",
       "      <td>0.048484</td>\n",
       "      <td>0.105078</td>\n",
       "      <td>5.890858e-17</td>\n",
       "    </tr>\n",
       "    <tr>\n",
       "      <th>967</th>\n",
       "      <td>-0.517492</td>\n",
       "      <td>-0.191584</td>\n",
       "      <td>-0.366119</td>\n",
       "      <td>0.359624</td>\n",
       "      <td>-1.150140</td>\n",
       "      <td>-0.544221</td>\n",
       "      <td>0.021268</td>\n",
       "      <td>-0.031892</td>\n",
       "      <td>0.035735</td>\n",
       "      <td>0.090748</td>\n",
       "      <td>-7.513686e-17</td>\n",
       "    </tr>\n",
       "    <tr>\n",
       "      <th>1024</th>\n",
       "      <td>-0.278250</td>\n",
       "      <td>-0.019867</td>\n",
       "      <td>-0.012376</td>\n",
       "      <td>0.490559</td>\n",
       "      <td>-0.476413</td>\n",
       "      <td>-0.104797</td>\n",
       "      <td>0.060951</td>\n",
       "      <td>-0.173619</td>\n",
       "      <td>0.101616</td>\n",
       "      <td>-0.001743</td>\n",
       "      <td>-8.030420e-17</td>\n",
       "    </tr>\n",
       "    <tr>\n",
       "      <th>1158</th>\n",
       "      <td>0.048270</td>\n",
       "      <td>0.060479</td>\n",
       "      <td>-0.413863</td>\n",
       "      <td>-0.203768</td>\n",
       "      <td>-0.320538</td>\n",
       "      <td>-0.072508</td>\n",
       "      <td>0.390654</td>\n",
       "      <td>-0.481675</td>\n",
       "      <td>0.047987</td>\n",
       "      <td>0.019858</td>\n",
       "      <td>6.721375e-17</td>\n",
       "    </tr>\n",
       "    <tr>\n",
       "      <th>1536</th>\n",
       "      <td>0.643819</td>\n",
       "      <td>0.140129</td>\n",
       "      <td>0.473555</td>\n",
       "      <td>-0.609443</td>\n",
       "      <td>-0.461738</td>\n",
       "      <td>-0.271654</td>\n",
       "      <td>0.090244</td>\n",
       "      <td>-0.284260</td>\n",
       "      <td>0.063908</td>\n",
       "      <td>0.015015</td>\n",
       "      <td>2.340660e-16</td>\n",
       "    </tr>\n",
       "    <tr>\n",
       "      <th>1704</th>\n",
       "      <td>0.573743</td>\n",
       "      <td>-0.318650</td>\n",
       "      <td>0.243024</td>\n",
       "      <td>-0.863860</td>\n",
       "      <td>0.041970</td>\n",
       "      <td>0.195145</td>\n",
       "      <td>0.178062</td>\n",
       "      <td>-0.081312</td>\n",
       "      <td>0.020656</td>\n",
       "      <td>0.018522</td>\n",
       "      <td>3.562446e-16</td>\n",
       "    </tr>\n",
       "    <tr>\n",
       "      <th>1760</th>\n",
       "      <td>1.010627</td>\n",
       "      <td>-0.042920</td>\n",
       "      <td>0.003932</td>\n",
       "      <td>-1.694439</td>\n",
       "      <td>-0.428329</td>\n",
       "      <td>-0.730752</td>\n",
       "      <td>-0.166794</td>\n",
       "      <td>-0.352012</td>\n",
       "      <td>0.386480</td>\n",
       "      <td>-0.085882</td>\n",
       "      <td>5.047454e-16</td>\n",
       "    </tr>\n",
       "    <tr>\n",
       "      <th>1937</th>\n",
       "      <td>-0.234744</td>\n",
       "      <td>-1.554631</td>\n",
       "      <td>-0.685431</td>\n",
       "      <td>0.061297</td>\n",
       "      <td>-0.006910</td>\n",
       "      <td>-0.128085</td>\n",
       "      <td>0.068538</td>\n",
       "      <td>0.039307</td>\n",
       "      <td>0.060383</td>\n",
       "      <td>0.093623</td>\n",
       "      <td>-1.019559e-17</td>\n",
       "    </tr>\n",
       "    <tr>\n",
       "      <th>1947</th>\n",
       "      <td>0.040340</td>\n",
       "      <td>-0.847315</td>\n",
       "      <td>-0.494672</td>\n",
       "      <td>0.307033</td>\n",
       "      <td>0.070269</td>\n",
       "      <td>0.232407</td>\n",
       "      <td>0.036892</td>\n",
       "      <td>0.034812</td>\n",
       "      <td>0.008222</td>\n",
       "      <td>0.008009</td>\n",
       "      <td>3.527140e-16</td>\n",
       "    </tr>\n",
       "    <tr>\n",
       "      <th>2264</th>\n",
       "      <td>-0.542807</td>\n",
       "      <td>0.125354</td>\n",
       "      <td>-0.514812</td>\n",
       "      <td>-0.520106</td>\n",
       "      <td>0.128946</td>\n",
       "      <td>-0.148554</td>\n",
       "      <td>-0.002374</td>\n",
       "      <td>0.047842</td>\n",
       "      <td>-0.156933</td>\n",
       "      <td>-0.044028</td>\n",
       "      <td>-3.117191e-16</td>\n",
       "    </tr>\n",
       "    <tr>\n",
       "      <th>2796</th>\n",
       "      <td>1.138276</td>\n",
       "      <td>-0.014301</td>\n",
       "      <td>-0.051620</td>\n",
       "      <td>0.234168</td>\n",
       "      <td>0.207196</td>\n",
       "      <td>0.052468</td>\n",
       "      <td>-0.140197</td>\n",
       "      <td>-0.119905</td>\n",
       "      <td>0.019811</td>\n",
       "      <td>-0.034323</td>\n",
       "      <td>-2.035894e-16</td>\n",
       "    </tr>\n",
       "    <tr>\n",
       "      <th>2806</th>\n",
       "      <td>0.843994</td>\n",
       "      <td>-0.055168</td>\n",
       "      <td>-0.377727</td>\n",
       "      <td>-0.005289</td>\n",
       "      <td>-0.088910</td>\n",
       "      <td>-0.126716</td>\n",
       "      <td>-0.180294</td>\n",
       "      <td>-0.023133</td>\n",
       "      <td>0.014288</td>\n",
       "      <td>-0.041325</td>\n",
       "      <td>1.625893e-16</td>\n",
       "    </tr>\n",
       "    <tr>\n",
       "      <th>2839</th>\n",
       "      <td>0.322218</td>\n",
       "      <td>-0.925560</td>\n",
       "      <td>-0.740651</td>\n",
       "      <td>0.024823</td>\n",
       "      <td>0.276079</td>\n",
       "      <td>-0.454229</td>\n",
       "      <td>0.534961</td>\n",
       "      <td>0.144334</td>\n",
       "      <td>-0.033685</td>\n",
       "      <td>0.059982</td>\n",
       "      <td>-5.391767e-17</td>\n",
       "    </tr>\n",
       "  </tbody>\n",
       "</table>\n",
       "</div>"
      ],
      "text/plain": [
       "          PC01      PC02      PC03      PC04      PC05      PC06      PC07  \\\n",
       "168  -1.117589  1.219399 -0.600482  0.721450  0.318724 -0.818074 -0.389029   \n",
       "435  -0.137821 -0.685181  0.455501  2.326153 -0.360334  1.129967 -0.515567   \n",
       "742  -1.538846 -1.045943 -0.405087 -0.160520 -0.157946 -0.604801  0.181398   \n",
       "967  -0.517492 -0.191584 -0.366119  0.359624 -1.150140 -0.544221  0.021268   \n",
       "1024 -0.278250 -0.019867 -0.012376  0.490559 -0.476413 -0.104797  0.060951   \n",
       "1158  0.048270  0.060479 -0.413863 -0.203768 -0.320538 -0.072508  0.390654   \n",
       "1536  0.643819  0.140129  0.473555 -0.609443 -0.461738 -0.271654  0.090244   \n",
       "1704  0.573743 -0.318650  0.243024 -0.863860  0.041970  0.195145  0.178062   \n",
       "1760  1.010627 -0.042920  0.003932 -1.694439 -0.428329 -0.730752 -0.166794   \n",
       "1937 -0.234744 -1.554631 -0.685431  0.061297 -0.006910 -0.128085  0.068538   \n",
       "1947  0.040340 -0.847315 -0.494672  0.307033  0.070269  0.232407  0.036892   \n",
       "2264 -0.542807  0.125354 -0.514812 -0.520106  0.128946 -0.148554 -0.002374   \n",
       "2796  1.138276 -0.014301 -0.051620  0.234168  0.207196  0.052468 -0.140197   \n",
       "2806  0.843994 -0.055168 -0.377727 -0.005289 -0.088910 -0.126716 -0.180294   \n",
       "2839  0.322218 -0.925560 -0.740651  0.024823  0.276079 -0.454229  0.534961   \n",
       "\n",
       "          PC08      PC09      PC10          PC11  \n",
       "168   0.065351  0.124177  0.041316 -4.535403e-16  \n",
       "435   0.001951  0.202428  0.020822 -2.455408e-16  \n",
       "742   0.135519  0.048484  0.105078  5.890858e-17  \n",
       "967  -0.031892  0.035735  0.090748 -7.513686e-17  \n",
       "1024 -0.173619  0.101616 -0.001743 -8.030420e-17  \n",
       "1158 -0.481675  0.047987  0.019858  6.721375e-17  \n",
       "1536 -0.284260  0.063908  0.015015  2.340660e-16  \n",
       "1704 -0.081312  0.020656  0.018522  3.562446e-16  \n",
       "1760 -0.352012  0.386480 -0.085882  5.047454e-16  \n",
       "1937  0.039307  0.060383  0.093623 -1.019559e-17  \n",
       "1947  0.034812  0.008222  0.008009  3.527140e-16  \n",
       "2264  0.047842 -0.156933 -0.044028 -3.117191e-16  \n",
       "2796 -0.119905  0.019811 -0.034323 -2.035894e-16  \n",
       "2806 -0.023133  0.014288 -0.041325  1.625893e-16  \n",
       "2839  0.144334 -0.033685  0.059982 -5.391767e-17  "
      ]
     },
     "execution_count": 120,
     "metadata": {},
     "output_type": "execute_result"
    }
   ],
   "source": [
    "# Overview of samples that are outside search_radius\n",
    "mineralogy_pca_df.loc[samples_outside_critical_distance, :]"
   ]
  },
  {
   "cell_type": "markdown",
   "metadata": {},
   "source": [
    "____"
   ]
  },
  {
   "cell_type": "markdown",
   "metadata": {},
   "source": [
    "## Create high resolution grids\n",
    "____"
   ]
  },
  {
   "cell_type": "code",
   "execution_count": 121,
   "metadata": {},
   "outputs": [
    {
     "data": {
      "text/plain": [
       "array([[630954.9837446201, 1471209.094069415],\n",
       "       [(5446889.705348704,), 6214275.412412549]], dtype=object)"
      ]
     },
     "execution_count": 121,
     "metadata": {},
     "output_type": "execute_result"
    }
   ],
   "source": [
    "# Determine (wide) grid boundaries\n",
    "X = coordinates_utm.iloc[:, 0].values\n",
    "Xmin = np.min(X) - critical_distance * 1.05\n",
    "Xmax = np.max(X) + critical_distance * 1.05\n",
    "\n",
    "Y = coordinates_utm.iloc[:, 1].values\n",
    "Ymin = np.min(Y) - critical_distance * 1.05, \n",
    "Ymax = np.max(Y) + critical_distance * 1.05\n",
    "\n",
    "coordinates_boundaries = np.array([[Xmin, Xmax], [Ymin, Ymax]])\n",
    "coordinates_boundaries"
   ]
  },
  {
   "cell_type": "code",
   "execution_count": 122,
   "metadata": {},
   "outputs": [
    {
     "name": "stdout",
     "output_type": "stream",
     "text": [
      "x [630954.9837446201 1471209.094069415]\n",
      "y [(5446889.705348704,) 6214275.412412549]\n",
      "x range:  840255\n",
      "y range:  767386\n",
      "smallest dimension y\n",
      "theoretical x spacing:  1871.390000723374\n",
      "actual x spacing:  1709.0995702981018\n",
      "actual y spacing:  1709.099570297636\n",
      "Number of points:  222794\n",
      "xy grid:  494 451 \n",
      "\n"
     ]
    }
   ],
   "source": [
    "# Set approximate number of points along each axis\n",
    "n_points = 450\n",
    "\n",
    "temp = {}\n",
    "x, y = coordinates_boundaries\n",
    "\n",
    "temp[\"x_start (m)\"] = int(np.floor(x[0]))\n",
    "temp[\"x_end (m)\"] = int(np.floor(x[1]))\n",
    "temp[\"y_start (m)\"] = int(np.floor(y[0]))\n",
    "temp[\"y_end (m)\"] = int(np.floor(y[1]))\n",
    "\n",
    "print(\"x\", x)\n",
    "print(\"y\", y)\n",
    "\n",
    "temp[\"x_range (m)\"] = int(np.floor(x[1])) - int(np.floor(x[0]))\n",
    "temp[\"y_range (m)\"] = int(np.floor(y[1])) - int(np.floor(y[0]))\n",
    "print(\"x range: \", temp[\"x_range (m)\"])\n",
    "print(\"y range: \", temp[\"y_range (m)\"])\n",
    "\n",
    "ranges = {\"x\": temp[\"x_range (m)\"],\n",
    "          \"y\": temp[\"y_range (m)\"],\n",
    "         }\n",
    "\n",
    "threshold = 10000000\n",
    "for dimension, ranger in ranges.items():\n",
    "    if ranger < threshold:\n",
    "        smallest_dimension = dimension\n",
    "        threshold = ranger\n",
    "print(\"smallest dimension\", smallest_dimension)\n",
    "\n",
    "x_spacing, dx = np.linspace(x[0], x[1], n_points, retstep=True)\n",
    "y_spacing, dy = np.linspace(y[0], y[1], n_points, retstep=True)\n",
    "\n",
    "steps = {\"x\": dx,\n",
    "         \"y\": dy,\n",
    "        }\n",
    "\n",
    "print(\"theoretical x spacing: \", dx)\n",
    "\n",
    "xgrid = np.arange(x[0]-dx, x[1]+dx, steps[smallest_dimension])\n",
    "ygrid = np.arange(y[0]-dy, y[1]+dy, steps[smallest_dimension])\n",
    "\n",
    "print(\"actual x spacing: \", xgrid[1] - xgrid[0])\n",
    "print(\"actual y spacing: \", ygrid[1] - ygrid[0])\n",
    "\n",
    "temp[\"x_spacing (m)\"] = np.round(xgrid[1] - xgrid[0], 2)\n",
    "temp[\"y_spacing (m)\"] = np.round(ygrid[1] - ygrid[0], 2)\n",
    "\n",
    "print(\"Number of points: \", len(xgrid) * len(ygrid))\n",
    "print(\"xy grid: \", len(xgrid), len(ygrid), \"\\n\")\n",
    "\n",
    "temp[\"#xgrid_points\"] = len(xgrid)\n",
    "temp[\"#ygrid_points\"] = len(ygrid)\n",
    "temp[\"#total_grid_nodes\"] = len(xgrid) * len(ygrid)\n",
    "\n",
    "coordinates_grids = [xgrid, ygrid]\n",
    "coordinates_grids_details = temp\n",
    "\n",
    "# Assigned to a different variable (name) because later on 'grid' gets used in the code\n",
    "grid = coordinates_grids"
   ]
  },
  {
   "cell_type": "markdown",
   "metadata": {},
   "source": [
    "## Classification map\n",
    "___"
   ]
  },
  {
   "cell_type": "markdown",
   "metadata": {},
   "source": [
    "We will have to decide on a certain classification scheme before we could use this.  \n",
    "Another option might be to use a condensed version of the 'type_granite' column."
   ]
  },
  {
   "cell_type": "markdown",
   "metadata": {},
   "source": [
    "**Yep**"
   ]
  },
  {
   "cell_type": "markdown",
   "metadata": {},
   "source": [
    "## Detrending\n",
    "____"
   ]
  },
  {
   "cell_type": "code",
   "execution_count": 123,
   "metadata": {},
   "outputs": [
    {
     "name": "stdout",
     "output_type": "stream",
     "text": [
      "R² for PC01 order = 1 :\n"
     ]
    },
    {
     "data": {
      "text/plain": [
       "0.026385869017136576"
      ]
     },
     "execution_count": 123,
     "metadata": {},
     "output_type": "execute_result"
    },
    {
     "name": "stdout",
     "output_type": "stream",
     "text": [
      "R² for PC01 order = 2 :\n"
     ]
    },
    {
     "data": {
      "text/plain": [
       "0.09895061989747422"
      ]
     },
     "execution_count": 123,
     "metadata": {},
     "output_type": "execute_result"
    },
    {
     "name": "stdout",
     "output_type": "stream",
     "text": [
      "R² for PC02 order = 1 :\n"
     ]
    },
    {
     "data": {
      "text/plain": [
       "0.016868101564966875"
      ]
     },
     "execution_count": 123,
     "metadata": {},
     "output_type": "execute_result"
    },
    {
     "name": "stdout",
     "output_type": "stream",
     "text": [
      "R² for PC02 order = 2 :\n"
     ]
    },
    {
     "data": {
      "text/plain": [
       "0.027239568524143"
      ]
     },
     "execution_count": 123,
     "metadata": {},
     "output_type": "execute_result"
    },
    {
     "name": "stdout",
     "output_type": "stream",
     "text": [
      "R² for PC03 order = 1 :\n"
     ]
    },
    {
     "data": {
      "text/plain": [
       "0.0956641627988083"
      ]
     },
     "execution_count": 123,
     "metadata": {},
     "output_type": "execute_result"
    },
    {
     "name": "stdout",
     "output_type": "stream",
     "text": [
      "R² for PC03 order = 2 :\n"
     ]
    },
    {
     "data": {
      "text/plain": [
       "0.11762871077176207"
      ]
     },
     "execution_count": 123,
     "metadata": {},
     "output_type": "execute_result"
    },
    {
     "name": "stdout",
     "output_type": "stream",
     "text": [
      "R² for PC04 order = 1 :\n"
     ]
    },
    {
     "data": {
      "text/plain": [
       "0.01959716919463228"
      ]
     },
     "execution_count": 123,
     "metadata": {},
     "output_type": "execute_result"
    },
    {
     "name": "stdout",
     "output_type": "stream",
     "text": [
      "R² for PC04 order = 2 :\n"
     ]
    },
    {
     "data": {
      "text/plain": [
       "0.030176495910013035"
      ]
     },
     "execution_count": 123,
     "metadata": {},
     "output_type": "execute_result"
    },
    {
     "name": "stdout",
     "output_type": "stream",
     "text": [
      "R² for PC05 order = 1 :\n"
     ]
    },
    {
     "data": {
      "text/plain": [
       "0.0027879189617472377"
      ]
     },
     "execution_count": 123,
     "metadata": {},
     "output_type": "execute_result"
    },
    {
     "name": "stdout",
     "output_type": "stream",
     "text": [
      "R² for PC05 order = 2 :\n"
     ]
    },
    {
     "data": {
      "text/plain": [
       "0.01174736820916078"
      ]
     },
     "execution_count": 123,
     "metadata": {},
     "output_type": "execute_result"
    },
    {
     "name": "stdout",
     "output_type": "stream",
     "text": [
      "R² for PC06 order = 1 :\n"
     ]
    },
    {
     "data": {
      "text/plain": [
       "0.0553322667253181"
      ]
     },
     "execution_count": 123,
     "metadata": {},
     "output_type": "execute_result"
    },
    {
     "name": "stdout",
     "output_type": "stream",
     "text": [
      "R² for PC06 order = 2 :\n"
     ]
    },
    {
     "data": {
      "text/plain": [
       "0.06817229241433687"
      ]
     },
     "execution_count": 123,
     "metadata": {},
     "output_type": "execute_result"
    },
    {
     "name": "stdout",
     "output_type": "stream",
     "text": [
      "R² for PC07 order = 1 :\n"
     ]
    },
    {
     "data": {
      "text/plain": [
       "0.1600451020158955"
      ]
     },
     "execution_count": 123,
     "metadata": {},
     "output_type": "execute_result"
    },
    {
     "name": "stdout",
     "output_type": "stream",
     "text": [
      "R² for PC07 order = 2 :\n"
     ]
    },
    {
     "data": {
      "text/plain": [
       "0.2152862469341208"
      ]
     },
     "execution_count": 123,
     "metadata": {},
     "output_type": "execute_result"
    },
    {
     "name": "stdout",
     "output_type": "stream",
     "text": [
      "R² for PC08 order = 1 :\n"
     ]
    },
    {
     "data": {
      "text/plain": [
       "0.0016529096032922297"
      ]
     },
     "execution_count": 123,
     "metadata": {},
     "output_type": "execute_result"
    },
    {
     "name": "stdout",
     "output_type": "stream",
     "text": [
      "R² for PC08 order = 2 :\n"
     ]
    },
    {
     "data": {
      "text/plain": [
       "0.008632438163064027"
      ]
     },
     "execution_count": 123,
     "metadata": {},
     "output_type": "execute_result"
    },
    {
     "name": "stdout",
     "output_type": "stream",
     "text": [
      "R² for PC09 order = 1 :\n"
     ]
    },
    {
     "data": {
      "text/plain": [
       "0.02450847650974397"
      ]
     },
     "execution_count": 123,
     "metadata": {},
     "output_type": "execute_result"
    },
    {
     "name": "stdout",
     "output_type": "stream",
     "text": [
      "R² for PC09 order = 2 :\n"
     ]
    },
    {
     "data": {
      "text/plain": [
       "0.044502582424518655"
      ]
     },
     "execution_count": 123,
     "metadata": {},
     "output_type": "execute_result"
    },
    {
     "name": "stdout",
     "output_type": "stream",
     "text": [
      "R² for PC10 order = 1 :\n"
     ]
    },
    {
     "data": {
      "text/plain": [
       "0.009913530438337204"
      ]
     },
     "execution_count": 123,
     "metadata": {},
     "output_type": "execute_result"
    },
    {
     "name": "stdout",
     "output_type": "stream",
     "text": [
      "R² for PC10 order = 2 :\n"
     ]
    },
    {
     "data": {
      "text/plain": [
       "0.010247971294531255"
      ]
     },
     "execution_count": 123,
     "metadata": {},
     "output_type": "execute_result"
    }
   ],
   "source": [
    "# Check if there is a trend present in the data\n",
    "# This is the case if R² is above say 0.70 \n",
    "\n",
    "for component in mineralogy_pca_df.columns.tolist()[:-1]:\n",
    "    for order in [1, 2]:\n",
    "        print(\"R² for\", component, \"order =\", order, \":\")\n",
    "        detrending.detrend(coordinates_utm, \n",
    "                           mineralogy_pca_df[component], \n",
    "                           order=order, \n",
    "                           verbose=False, \n",
    "                           plot_points=False)[1]"
   ]
  },
  {
   "cell_type": "markdown",
   "metadata": {},
   "source": [
    "## Variogram modelling\n",
    "___"
   ]
  },
  {
   "cell_type": "markdown",
   "metadata": {},
   "source": [
    "* Variogram model (str)\n",
    "* Sill (float)\n",
    "* Range (float)\n",
    "* Nugget (float)\n",
    "* Number of lag bins (int)\n",
    "* Weighted (Bool)"
   ]
  },
  {
   "cell_type": "code",
   "execution_count": 124,
   "metadata": {},
   "outputs": [],
   "source": [
    "# Nugget (variance at lag=0 metric)\n",
    "\n",
    "# Since we are not dealing with point count data here,\n",
    "# we can not use the formulas from our paper we have talked about\n",
    "# Therefore I would just start with nugget=0 and perhaps later change this\n",
    "\n",
    "# Depending on how many principal components you will use, \n",
    "# you will have to add more entries to this list.\n",
    "nugget_ = [0., 0., 0., 0., 0., 0., 0., 0., 0., 0., 0., 0., 0., 0., 0.,]"
   ]
  },
  {
   "cell_type": "code",
   "execution_count": 125,
   "metadata": {},
   "outputs": [
    {
     "data": {
      "text/plain": [
       "['01', '02', '03', '04', '05', '06', '07', '08', '09', '10', '11']"
      ]
     },
     "execution_count": 125,
     "metadata": {},
     "output_type": "execute_result"
    }
   ],
   "source": [
    "PC_nr_list = [nr[2:] for nr in mineralogy_pca_df.columns]\n",
    "PC_nr_list"
   ]
  },
  {
   "cell_type": "code",
   "execution_count": 126,
   "metadata": {},
   "outputs": [],
   "source": [
    "# Sill (total variance metric)\n",
    "\n",
    "# A 'list comprehension' construction is used here\n",
    "sill_ = [mineralogy_pca_df.loc[:, f\"PC{i}\"].values.var(ddof=1) \n",
    "         for i in PC_nr_list]"
   ]
  },
  {
   "cell_type": "code",
   "execution_count": 127,
   "metadata": {},
   "outputs": [],
   "source": [
    "# Variogram model parameters dictionary\n",
    "\n",
    "variogram_model_parameters = {}\n",
    "\n",
    "for i, PC in enumerate(mineralogy_pca_df.columns):\n",
    "    parameters = {}\n",
    "    parameters[\"sill\"] = sill_[i]\n",
    "    parameters[\"range\"] = range_[i]\n",
    "    parameters[\"nugget\"] = nugget_[i]\n",
    "        \n",
    "    variogram_model_parameters[PC] = parameters"
   ]
  },
  {
   "cell_type": "code",
   "execution_count": 128,
   "metadata": {},
   "outputs": [],
   "source": [
    "# Variogram model\n",
    "\n",
    "# You can choose between [\"exponential\", \"linear\", \"spherical\", \"power\", \"gaussian\"]\n",
    "# see https://pykrige.readthedocs.io/en/latest/variogram_models.html for equations\n",
    "variogram_model = \"exponential\""
   ]
  },
  {
   "cell_type": "code",
   "execution_count": 129,
   "metadata": {},
   "outputs": [
    {
     "data": {
      "text/plain": [
       "17"
      ]
     },
     "execution_count": 129,
     "metadata": {},
     "output_type": "execute_result"
    }
   ],
   "source": [
    "# Number of lag bins\n",
    "\n",
    "n_lags = int(np.floor(np.sqrt(coordinates_utm.shape[0])))\n",
    "n_lags"
   ]
  },
  {
   "cell_type": "code",
   "execution_count": 130,
   "metadata": {},
   "outputs": [],
   "source": [
    "# Set utm coordinates to use in variogram\n",
    "\n",
    "X = coordinates_utm.iloc[:, 0].values\n",
    "Y = coordinates_utm.iloc[:, 1].values"
   ]
  },
  {
   "cell_type": "code",
   "execution_count": 131,
   "metadata": {},
   "outputs": [
    {
     "name": "stdout",
     "output_type": "stream",
     "text": [
      "PC01\n",
      "Plotting Enabled\n",
      "\n",
      "Adjusting data for anisotropy...\n",
      "Initializing variogram model...\n",
      "Coordinates type: 'euclidean' \n",
      "\n",
      "Using 'exponential' Variogram Model\n",
      "Partial Sill: 0.7602947307574239\n",
      "Full Sill: 0.7602947307574239\n",
      "Range: 52000\n",
      "Nugget: 0.0 \n",
      "\n"
     ]
    },
    {
     "data": {
      "image/png": "[encoded data removed]",
      "text/plain": [
       "<Figure size 432x288 with 1 Axes>"
      ]
     },
     "metadata": {
      "needs_background": "light"
     },
     "output_type": "display_data"
    },
    {
     "name": "stdout",
     "output_type": "stream",
     "text": [
      "Calculating statistics on variogram model fit...\n",
      "PC02\n",
      "Plotting Enabled\n",
      "\n",
      "Adjusting data for anisotropy...\n",
      "Initializing variogram model...\n",
      "Coordinates type: 'euclidean' \n",
      "\n",
      "Using 'exponential' Variogram Model\n",
      "Partial Sill: 0.5216228174508784\n",
      "Full Sill: 0.5216228174508784\n",
      "Range: 52000\n",
      "Nugget: 0.0 \n",
      "\n"
     ]
    },
    {
     "data": {
      "image/png": "[encoded data removed]",
      "text/plain": [
       "<Figure size 432x288 with 1 Axes>"
      ]
     },
     "metadata": {
      "needs_background": "light"
     },
     "output_type": "display_data"
    },
    {
     "name": "stdout",
     "output_type": "stream",
     "text": [
      "Calculating statistics on variogram model fit...\n",
      "PC03\n",
      "Plotting Enabled\n",
      "\n",
      "Adjusting data for anisotropy...\n",
      "Initializing variogram model...\n",
      "Coordinates type: 'euclidean' \n",
      "\n",
      "Using 'exponential' Variogram Model\n",
      "Partial Sill: 0.3224096120051645\n",
      "Full Sill: 0.3224096120051645\n",
      "Range: 52000\n",
      "Nugget: 0.0 \n",
      "\n"
     ]
    },
    {
     "data": {
      "image/png": "[encoded data removed]",
      "text/plain": [
       "<Figure size 432x288 with 1 Axes>"
      ]
     },
     "metadata": {
      "needs_background": "light"
     },
     "output_type": "display_data"
    },
    {
     "name": "stdout",
     "output_type": "stream",
     "text": [
      "Calculating statistics on variogram model fit...\n",
      "PC04\n",
      "Plotting Enabled\n",
      "\n",
      "Adjusting data for anisotropy...\n",
      "Initializing variogram model...\n",
      "Coordinates type: 'euclidean' \n",
      "\n",
      "Using 'exponential' Variogram Model\n",
      "Partial Sill: 0.2585456524070918\n",
      "Full Sill: 0.2585456524070918\n",
      "Range: 52000\n",
      "Nugget: 0.0 \n",
      "\n"
     ]
    },
    {
     "data": {
      "image/png": "[encoded data removed]",
      "text/plain": [
       "<Figure size 432x288 with 1 Axes>"
      ]
     },
     "metadata": {
      "needs_background": "light"
     },
     "output_type": "display_data"
    },
    {
     "name": "stdout",
     "output_type": "stream",
     "text": [
      "Calculating statistics on variogram model fit...\n",
      "PC05\n",
      "Plotting Enabled\n",
      "\n",
      "Adjusting data for anisotropy...\n",
      "Initializing variogram model...\n",
      "Coordinates type: 'euclidean' \n",
      "\n",
      "Using 'exponential' Variogram Model\n",
      "Partial Sill: 0.2222436503119177\n",
      "Full Sill: 0.2222436503119177\n",
      "Range: 52000\n",
      "Nugget: 0.0 \n",
      "\n"
     ]
    },
    {
     "data": {
      "image/png": "[encoded data removed]",
      "text/plain": [
       "<Figure size 432x288 with 1 Axes>"
      ]
     },
     "metadata": {
      "needs_background": "light"
     },
     "output_type": "display_data"
    },
    {
     "name": "stdout",
     "output_type": "stream",
     "text": [
      "Calculating statistics on variogram model fit...\n",
      "PC06\n",
      "Plotting Enabled\n",
      "\n",
      "Adjusting data for anisotropy...\n",
      "Initializing variogram model...\n",
      "Coordinates type: 'euclidean' \n",
      "\n",
      "Using 'exponential' Variogram Model\n",
      "Partial Sill: 0.20203315047676826\n",
      "Full Sill: 0.20203315047676826\n",
      "Range: 52000\n",
      "Nugget: 0.0 \n",
      "\n"
     ]
    },
    {
     "data": {
      "image/png": "[encoded data removed]",
      "text/plain": [
       "<Figure size 432x288 with 1 Axes>"
      ]
     },
     "metadata": {
      "needs_background": "light"
     },
     "output_type": "display_data"
    },
    {
     "name": "stdout",
     "output_type": "stream",
     "text": [
      "Calculating statistics on variogram model fit...\n",
      "PC07\n",
      "Plotting Enabled\n",
      "\n",
      "Adjusting data for anisotropy...\n",
      "Initializing variogram model...\n",
      "Coordinates type: 'euclidean' \n",
      "\n",
      "Using 'exponential' Variogram Model\n",
      "Partial Sill: 0.12309486517314168\n",
      "Full Sill: 0.12309486517314168\n",
      "Range: 52000\n",
      "Nugget: 0.0 \n",
      "\n"
     ]
    },
    {
     "data": {
      "image/png": "[encoded data removed]",
      "text/plain": [
       "<Figure size 432x288 with 1 Axes>"
      ]
     },
     "metadata": {
      "needs_background": "light"
     },
     "output_type": "display_data"
    },
    {
     "name": "stdout",
     "output_type": "stream",
     "text": [
      "Calculating statistics on variogram model fit...\n",
      "PC08\n",
      "Plotting Enabled\n",
      "\n",
      "Adjusting data for anisotropy...\n",
      "Initializing variogram model...\n",
      "Coordinates type: 'euclidean' \n",
      "\n",
      "Using 'exponential' Variogram Model\n",
      "Partial Sill: 0.019327224609395396\n",
      "Full Sill: 0.019327224609395396\n",
      "Range: 52000\n",
      "Nugget: 0.0 \n",
      "\n"
     ]
    },
    {
     "data": {
      "image/png": "[encoded data removed]",
      "text/plain": [
       "<Figure size 432x288 with 1 Axes>"
      ]
     },
     "metadata": {
      "needs_background": "light"
     },
     "output_type": "display_data"
    },
    {
     "name": "stdout",
     "output_type": "stream",
     "text": [
      "Calculating statistics on variogram model fit...\n",
      "PC09\n",
      "Plotting Enabled\n",
      "\n",
      "Adjusting data for anisotropy...\n",
      "Initializing variogram model...\n",
      "Coordinates type: 'euclidean' \n",
      "\n",
      "Using 'exponential' Variogram Model\n",
      "Partial Sill: 0.010536687353472348\n",
      "Full Sill: 0.010536687353472348\n",
      "Range: 52000\n",
      "Nugget: 0.0 \n",
      "\n"
     ]
    },
    {
     "data": {
      "image/png": "[encoded data removed]",
      "text/plain": [
       "<Figure size 432x288 with 1 Axes>"
      ]
     },
     "metadata": {
      "needs_background": "light"
     },
     "output_type": "display_data"
    },
    {
     "name": "stdout",
     "output_type": "stream",
     "text": [
      "Calculating statistics on variogram model fit...\n",
      "PC10\n",
      "Plotting Enabled\n",
      "\n",
      "Adjusting data for anisotropy...\n",
      "Initializing variogram model...\n",
      "Coordinates type: 'euclidean' \n",
      "\n",
      "Using 'exponential' Variogram Model\n",
      "Partial Sill: 0.004037443724055215\n",
      "Full Sill: 0.004037443724055215\n",
      "Range: 100000\n",
      "Nugget: 0.0 \n",
      "\n"
     ]
    },
    {
     "data": {
      "image/png": "[encoded data removed]",
      "text/plain": [
       "<Figure size 432x288 with 1 Axes>"
      ]
     },
     "metadata": {
      "needs_background": "light"
     },
     "output_type": "display_data"
    },
    {
     "name": "stdout",
     "output_type": "stream",
     "text": [
      "Calculating statistics on variogram model fit...\n",
      "Wall time: 3.76 s\n"
     ]
    }
   ],
   "source": [
    "%%time\n",
    "# Initialize empty dictionary\n",
    "variograms = {}\n",
    "\n",
    "# Loop though the diiferent principal components\n",
    "for component in mineralogy_pca_df.columns.tolist()[:-1]:\n",
    "    print(component)\n",
    "    # Subset principal component to use\n",
    "    data = mineralogy_pca_df.loc[:, component].values\n",
    "    variograms[component] = \\\n",
    "        OrdinaryKriging(X, Y, data,\n",
    "                        variogram_model='exponential',\n",
    "                        variogram_parameters=variogram_model_parameters[component],\n",
    "                        nlags=n_lags,\n",
    "                        verbose=True,\n",
    "                        enable_statistics=False,\n",
    "                        enable_plotting=True,\n",
    "                        weight=True,\n",
    "                        saveplot=True,\n",
    "                        coordinates_type='euclidean',\n",
    "                        saveloc=\"../_FIGURES/variograms/\",\n",
    "                        principal_component=component,\n",
    "                        pluton=group_name,\n",
    "                        show_nlag_pairs=False, # Turn off displaying number of lag pairs in lag bin\n",
    "                        show_range_determine_guide=True, # 0.95 * sill highlighted with blue line to help determining range\n",
    "                        range_estimate=40000) # Pass in value in meters to display a line at range estimate; set value to None to not display line\n",
    "    \n",
    "# NOTE that ideally Q1 is close to zero, Q2 is close to 1, and cR is as small as possible."
   ]
  },
  {
   "cell_type": "markdown",
   "metadata": {},
   "source": [
    "## Leave One Out Cross Validation (LOOCV) of PCA\n",
    "____"
   ]
  },
  {
   "cell_type": "code",
   "execution_count": 132,
   "metadata": {},
   "outputs": [],
   "source": [
    "# If you have run the cross validation before you can load the results by\n",
    "# running this cell and don't have to run the next cell anymore.\n",
    "CV_results = preproc.load_obj(\"CV_results_fast\")"
   ]
  },
  {
   "cell_type": "code",
   "execution_count": 133,
   "metadata": {},
   "outputs": [],
   "source": [
    "# Use this cross validation to check the hyper-parameters of your chosen variogram model \n",
    "# such as the search_radius, variogram_model, lag_bins etc.\n",
    "\n",
    "# Cross validation parameter dictionary to use\n",
    "# You can remove or add options here which will decrease or increase the number \n",
    "# of combinations of parameters the cross validation will run\n",
    "cv_param_dict = {}\n",
    "\n",
    "for component in mineralogy_pca_df.columns.tolist()[:-1]:\n",
    "    cv_param_dict[component] = {\"method\": [\"ordinary\"],\n",
    "                                \"variogram_model\": [\"exponential\", \"spherical\"],\n",
    "                                \"variogram_model_parameters\": [variogram_model_parameters[component]],\n",
    "                                \"nlags\": [n_lags],\n",
    "                                \"weight\": [True],\n",
    "                                \"n_closest_points\": [number_of_control_points],\n",
    "                                \"search_radius\": [range_[0]]\n",
    "                                }\n",
    "\n",
    "# The CV function below uses parallel processing to speed things up\n",
    "# Your CPU will thus reach 100% probably\n",
    "# To reduce the number of parallel processes to use you can change the following value\n",
    "# Defaults to -1 to use all available CPU cores; change to number between 1 and 8 e.g. \n",
    "# depending on how many cores your CPU has\n",
    "n_jobs = -1 "
   ]
  },
  {
   "cell_type": "code",
   "execution_count": 134,
   "metadata": {},
   "outputs": [
    {
     "name": "stdout",
     "output_type": "stream",
     "text": [
      "PC01\n",
      "Fitting 10 folds for each of 2 candidates, totalling 20 fits\n"
     ]
    },
    {
     "name": "stderr",
     "output_type": "stream",
     "text": [
      "[Parallel(n_jobs=-1)]: Using backend LokyBackend with 8 concurrent workers.\n",
      "[Parallel(n_jobs=-1)]: Done   2 tasks      | elapsed:    2.8s\n",
      "[Parallel(n_jobs=-1)]: Done  10 out of  20 | elapsed:    3.1s remaining:    3.1s\n",
      "[Parallel(n_jobs=-1)]: Done  15 out of  20 | elapsed:    3.2s remaining:    1.0s\n",
      "[Parallel(n_jobs=-1)]: Done  20 out of  20 | elapsed:    3.3s remaining:    0.0s\n",
      "[Parallel(n_jobs=-1)]: Done  20 out of  20 | elapsed:    3.3s finished\n",
      "C:\\Users\\Sebastian\\Anaconda3\\envs\\main\\lib\\site-packages\\sklearn\\model_selection\\_search.py:825: FutureWarning: The parameter 'iid' is deprecated in 0.22 and will be removed in 0.24.\n",
      "  \"removed in 0.24.\", FutureWarning\n",
      "[Parallel(n_jobs=-1)]: Using backend LokyBackend with 8 concurrent workers.\n"
     ]
    },
    {
     "name": "stdout",
     "output_type": "stream",
     "text": [
      "PC02\n",
      "Fitting 10 folds for each of 2 candidates, totalling 20 fits\n"
     ]
    },
    {
     "name": "stderr",
     "output_type": "stream",
     "text": [
      "[Parallel(n_jobs=-1)]: Done   2 tasks      | elapsed:    0.1s\n",
      "[Parallel(n_jobs=-1)]: Done  10 out of  20 | elapsed:    0.3s remaining:    0.3s\n",
      "[Parallel(n_jobs=-1)]: Done  15 out of  20 | elapsed:    0.4s remaining:    0.1s\n",
      "[Parallel(n_jobs=-1)]: Done  20 out of  20 | elapsed:    0.5s remaining:    0.0s\n",
      "[Parallel(n_jobs=-1)]: Done  20 out of  20 | elapsed:    0.5s finished\n",
      "[Parallel(n_jobs=-1)]: Using backend LokyBackend with 8 concurrent workers.\n"
     ]
    },
    {
     "name": "stdout",
     "output_type": "stream",
     "text": [
      "PC03\n",
      "Fitting 10 folds for each of 2 candidates, totalling 20 fits\n"
     ]
    },
    {
     "name": "stderr",
     "output_type": "stream",
     "text": [
      "[Parallel(n_jobs=-1)]: Done   2 tasks      | elapsed:    0.1s\n",
      "[Parallel(n_jobs=-1)]: Done  10 out of  20 | elapsed:    0.3s remaining:    0.3s\n",
      "[Parallel(n_jobs=-1)]: Done  15 out of  20 | elapsed:    0.4s remaining:    0.1s\n",
      "[Parallel(n_jobs=-1)]: Done  20 out of  20 | elapsed:    0.5s remaining:    0.0s\n",
      "[Parallel(n_jobs=-1)]: Done  20 out of  20 | elapsed:    0.5s finished\n"
     ]
    },
    {
     "name": "stdout",
     "output_type": "stream",
     "text": [
      "PC04\n",
      "Fitting 10 folds for each of 2 candidates, totalling 20 fits\n"
     ]
    },
    {
     "name": "stderr",
     "output_type": "stream",
     "text": [
      "[Parallel(n_jobs=-1)]: Using backend LokyBackend with 8 concurrent workers.\n",
      "[Parallel(n_jobs=-1)]: Done   2 tasks      | elapsed:    0.1s\n",
      "[Parallel(n_jobs=-1)]: Done  10 out of  20 | elapsed:    0.3s remaining:    0.3s\n",
      "[Parallel(n_jobs=-1)]: Done  15 out of  20 | elapsed:    0.4s remaining:    0.1s\n",
      "[Parallel(n_jobs=-1)]: Done  20 out of  20 | elapsed:    0.5s remaining:    0.0s\n",
      "[Parallel(n_jobs=-1)]: Done  20 out of  20 | elapsed:    0.5s finished\n",
      "[Parallel(n_jobs=-1)]: Using backend LokyBackend with 8 concurrent workers.\n"
     ]
    },
    {
     "name": "stdout",
     "output_type": "stream",
     "text": [
      "PC05\n",
      "Fitting 10 folds for each of 2 candidates, totalling 20 fits\n"
     ]
    },
    {
     "name": "stderr",
     "output_type": "stream",
     "text": [
      "[Parallel(n_jobs=-1)]: Done   2 tasks      | elapsed:    0.1s\n",
      "[Parallel(n_jobs=-1)]: Done  10 out of  20 | elapsed:    0.3s remaining:    0.3s\n",
      "[Parallel(n_jobs=-1)]: Done  15 out of  20 | elapsed:    0.4s remaining:    0.1s\n",
      "[Parallel(n_jobs=-1)]: Done  20 out of  20 | elapsed:    0.6s remaining:    0.0s\n",
      "[Parallel(n_jobs=-1)]: Done  20 out of  20 | elapsed:    0.6s finished\n",
      "[Parallel(n_jobs=-1)]: Using backend LokyBackend with 8 concurrent workers.\n"
     ]
    },
    {
     "name": "stdout",
     "output_type": "stream",
     "text": [
      "PC06\n",
      "Fitting 10 folds for each of 2 candidates, totalling 20 fits\n"
     ]
    },
    {
     "name": "stderr",
     "output_type": "stream",
     "text": [
      "[Parallel(n_jobs=-1)]: Done   2 tasks      | elapsed:    0.1s\n",
      "[Parallel(n_jobs=-1)]: Done  10 out of  20 | elapsed:    0.4s remaining:    0.4s\n",
      "[Parallel(n_jobs=-1)]: Done  15 out of  20 | elapsed:    0.4s remaining:    0.1s\n",
      "[Parallel(n_jobs=-1)]: Done  20 out of  20 | elapsed:    0.6s remaining:    0.0s\n",
      "[Parallel(n_jobs=-1)]: Done  20 out of  20 | elapsed:    0.6s finished\n",
      "[Parallel(n_jobs=-1)]: Using backend LokyBackend with 8 concurrent workers.\n"
     ]
    },
    {
     "name": "stdout",
     "output_type": "stream",
     "text": [
      "PC07\n",
      "Fitting 10 folds for each of 2 candidates, totalling 20 fits\n"
     ]
    },
    {
     "name": "stderr",
     "output_type": "stream",
     "text": [
      "[Parallel(n_jobs=-1)]: Done   2 tasks      | elapsed:    0.1s\n",
      "[Parallel(n_jobs=-1)]: Done  10 out of  20 | elapsed:    0.3s remaining:    0.3s\n",
      "[Parallel(n_jobs=-1)]: Done  15 out of  20 | elapsed:    0.5s remaining:    0.1s\n",
      "[Parallel(n_jobs=-1)]: Done  20 out of  20 | elapsed:    0.6s remaining:    0.0s\n",
      "[Parallel(n_jobs=-1)]: Done  20 out of  20 | elapsed:    0.6s finished\n",
      "[Parallel(n_jobs=-1)]: Using backend LokyBackend with 8 concurrent workers.\n"
     ]
    },
    {
     "name": "stdout",
     "output_type": "stream",
     "text": [
      "PC08\n",
      "Fitting 10 folds for each of 2 candidates, totalling 20 fits\n"
     ]
    },
    {
     "name": "stderr",
     "output_type": "stream",
     "text": [
      "[Parallel(n_jobs=-1)]: Done   2 tasks      | elapsed:    0.1s\n",
      "[Parallel(n_jobs=-1)]: Done  10 out of  20 | elapsed:    0.4s remaining:    0.4s\n",
      "[Parallel(n_jobs=-1)]: Done  15 out of  20 | elapsed:    0.4s remaining:    0.1s\n",
      "[Parallel(n_jobs=-1)]: Done  20 out of  20 | elapsed:    0.6s remaining:    0.0s\n",
      "[Parallel(n_jobs=-1)]: Done  20 out of  20 | elapsed:    0.6s finished\n",
      "[Parallel(n_jobs=-1)]: Using backend LokyBackend with 8 concurrent workers.\n"
     ]
    },
    {
     "name": "stdout",
     "output_type": "stream",
     "text": [
      "PC09\n",
      "Fitting 10 folds for each of 2 candidates, totalling 20 fits\n"
     ]
    },
    {
     "name": "stderr",
     "output_type": "stream",
     "text": [
      "[Parallel(n_jobs=-1)]: Done   2 tasks      | elapsed:    0.1s\n",
      "[Parallel(n_jobs=-1)]: Done  10 out of  20 | elapsed:    0.3s remaining:    0.3s\n",
      "[Parallel(n_jobs=-1)]: Done  15 out of  20 | elapsed:    0.4s remaining:    0.1s\n",
      "[Parallel(n_jobs=-1)]: Done  20 out of  20 | elapsed:    0.5s remaining:    0.0s\n",
      "[Parallel(n_jobs=-1)]: Done  20 out of  20 | elapsed:    0.5s finished\n"
     ]
    },
    {
     "name": "stdout",
     "output_type": "stream",
     "text": [
      "Wall time: 9 s\n"
     ]
    }
   ],
   "source": [
    "%%time\n",
    "# Run CV and get estimators (using default MSE scorer)\n",
    "\n",
    "# Instead of running the CV for all the PCs, let's start with only the first 3 \n",
    "# to get an idea of what are the best parameters to use for the first 3 PCs.\n",
    "# In a later step we can then obtain the best parameters for all PCs that have \n",
    "# a sensible variogram; here this would mean up to and including PC09.\n",
    "# To specify which PCs to use, you can pass them in as list to the 'components_to_use' variable\n",
    "\n",
    "# Another change I've made, is that instead of performing leave-one-out-CV \n",
    "# where the train set is equal to n_sample - 1 and the test set is equal to 1,\n",
    "# it makes sense to here use a different strategy, since you're dealing with many more samples.\n",
    "# Therefore I've included the 'cv_folds' parameter where you can specify \n",
    "# the number of train/test groups you want to use during CV\n",
    "# Let's start with ten groups, which basically means that \n",
    "# you use 90% of the samples as train set and 10% as test test\n",
    "# and this in 10 combinations.\n",
    "\n",
    "# A a later stage we could change the CV to use a statified cv_fold\n",
    "# meaning that it ensures for example that for every train/test grouping of the 10 groups\n",
    "# equal numbers of samples of spcified grouping variable are used \n",
    "# (for example your time category or classification later on)\n",
    "\n",
    "# I've also included the '%%time' statement at the beginning of the cell,\n",
    "# so that at the end of the calculation you can see how much time it took.\n",
    "\n",
    "# Have a look here if you want some background info on the CV method used:\n",
    "# https://scikit-learn.org/stable/modules/generated/sklearn.model_selection.GridSearchCV.html\n",
    "\n",
    "estimators = loocv.perform_loocv(mineralogy_pca_df,\n",
    "                                 coordinates_utm,\n",
    "                                 cv_param_dict,\n",
    "                                 n_jobs=n_jobs,\n",
    "                                 cv_folds=10,\n",
    "                                 components_to_use=[f\"PC0{i}\" for i in range(1, 10)])"
   ]
  },
  {
   "cell_type": "code",
   "execution_count": 135,
   "metadata": {},
   "outputs": [],
   "source": [
    "# Convert estimators to dict of dataframes\n",
    "CV_results = loocv.convert_scores_to_df(estimators)"
   ]
  },
  {
   "cell_type": "code",
   "execution_count": 136,
   "metadata": {},
   "outputs": [],
   "source": [
    "# Save CV_results to pickle file for easy use later\n",
    "# These are the results from the 56min CV above (with only first 3 PCs)\n",
    "preproc.save_obj(CV_results, \"CV_results_summarized\")"
   ]
  },
  {
   "cell_type": "code",
   "execution_count": 137,
   "metadata": {},
   "outputs": [],
   "source": [
    "# Save CV_results to pickle file for easy use later\n",
    "# These are the results from the 2min CV above (with only first 9 PCs, simple parameters)\n",
    "preproc.save_obj(CV_results, \"CV_results_fast\")"
   ]
  },
  {
   "cell_type": "code",
   "execution_count": 138,
   "metadata": {},
   "outputs": [
    {
     "name": "stdout",
     "output_type": "stream",
     "text": [
      "PC01\n",
      "rank_test_score                    2\n",
      "mean_test_score             0.817396\n",
      "std_test_score              0.361207\n",
      "mean_train_score                   0\n",
      "param_method                ordinary\n",
      "param_variogram_model    exponential\n",
      "param_search_radius            52000\n",
      "Name: 0, dtype: object\n",
      "\n",
      "\n",
      "PC02\n",
      "rank_test_score                    2\n",
      "mean_test_score             0.587113\n",
      "std_test_score              0.287086\n",
      "mean_train_score                   0\n",
      "param_method                ordinary\n",
      "param_variogram_model    exponential\n",
      "param_search_radius            52000\n",
      "Name: 0, dtype: object\n",
      "\n",
      "\n",
      "PC03\n",
      "rank_test_score                    2\n",
      "mean_test_score             0.370398\n",
      "std_test_score             0.0900977\n",
      "mean_train_score                   0\n",
      "param_method                ordinary\n",
      "param_variogram_model    exponential\n",
      "param_search_radius            52000\n",
      "Name: 0, dtype: object\n",
      "\n",
      "\n",
      "PC04\n",
      "rank_test_score                    2\n",
      "mean_test_score             0.332561\n",
      "std_test_score              0.104424\n",
      "mean_train_score                   0\n",
      "param_method                ordinary\n",
      "param_variogram_model    exponential\n",
      "param_search_radius            52000\n",
      "Name: 0, dtype: object\n",
      "\n",
      "\n",
      "PC05\n",
      "rank_test_score                    2\n",
      "mean_test_score             0.281107\n",
      "std_test_score              0.131999\n",
      "mean_train_score                   0\n",
      "param_method                ordinary\n",
      "param_variogram_model    exponential\n",
      "param_search_radius            52000\n",
      "Name: 0, dtype: object\n",
      "\n",
      "\n",
      "PC06\n",
      "rank_test_score                    2\n",
      "mean_test_score             0.231146\n",
      "std_test_score              0.122237\n",
      "mean_train_score                   0\n",
      "param_method                ordinary\n",
      "param_variogram_model    exponential\n",
      "param_search_radius            52000\n",
      "Name: 0, dtype: object\n",
      "\n",
      "\n",
      "PC07\n",
      "rank_test_score                    2\n",
      "mean_test_score             0.138336\n",
      "std_test_score             0.0617705\n",
      "mean_train_score                   0\n",
      "param_method                ordinary\n",
      "param_variogram_model    exponential\n",
      "param_search_radius            52000\n",
      "Name: 0, dtype: object\n",
      "\n",
      "\n",
      "PC08\n",
      "rank_test_score                    2\n",
      "mean_test_score            0.0255345\n",
      "std_test_score            0.00879417\n",
      "mean_train_score                   0\n",
      "param_method                ordinary\n",
      "param_variogram_model    exponential\n",
      "param_search_radius            52000\n",
      "Name: 0, dtype: object\n",
      "\n",
      "\n",
      "PC09\n",
      "rank_test_score                    2\n",
      "mean_test_score            0.0123942\n",
      "std_test_score            0.00608202\n",
      "mean_train_score                   0\n",
      "param_method                ordinary\n",
      "param_variogram_model    exponential\n",
      "param_search_radius            52000\n",
      "Name: 0, dtype: object\n",
      "\n",
      "\n"
     ]
    }
   ],
   "source": [
    "# Quick look at best results per PC\n",
    "loocv.print_best_scores(CV_results)"
   ]
  },
  {
   "cell_type": "markdown",
   "metadata": {},
   "source": [
    "## Calculating predictions for best model\n",
    "____"
   ]
  },
  {
   "cell_type": "code",
   "execution_count": 139,
   "metadata": {},
   "outputs": [],
   "source": [
    "# Here you can specify the components and search_radii you want to use \n",
    "# when performing the kriging and performing the postprocessing calculations\n",
    "components_to_use = [f\"PC{i:02d}\" for i in range(1, 10)]\n",
    "search_radii = [range_[0]]"
   ]
  },
  {
   "cell_type": "code",
   "execution_count": 140,
   "metadata": {},
   "outputs": [],
   "source": [
    "estimators_final = {}\n",
    "\n",
    "for component in components_to_use:  # Changed to only first 9 PCs\n",
    "    for radius in search_radii:  # Removed critical_distance\n",
    "        for variable_to_fit in [\"estimates\"]:\n",
    "\n",
    "            estimators_final[f\"{component}_{radius}_{variable_to_fit}\"] = \\\n",
    "                Krige(method='ordinary',\n",
    "                      variogram_model=variogram_model,\n",
    "                      variogram_model_parameters=variogram_model_parameters[component],\n",
    "                      nlags=n_lags,\n",
    "                      weight=True,\n",
    "                      n_closest_points=number_of_control_points,\n",
    "                      search_radius=radius,\n",
    "                      variable_to_fit=variable_to_fit)"
   ]
  },
  {
   "cell_type": "code",
   "execution_count": 141,
   "metadata": {},
   "outputs": [],
   "source": [
    "# Run this cell if you have previously run the next cell and saved its outcome\n",
    "kriging_predictions = preproc.load_obj(f\"kriging_predictions_{group_name}\")"
   ]
  },
  {
   "cell_type": "code",
   "execution_count": 142,
   "metadata": {},
   "outputs": [
    {
     "name": "stdout",
     "output_type": "stream",
     "text": [
      "PC01 52000 estimates\n"
     ]
    },
    {
     "name": "stderr",
     "output_type": "stream",
     "text": [
      "[Parallel(n_jobs=4)]: Using backend LokyBackend with 4 concurrent workers.\n",
      "[Parallel(n_jobs=4)]: Done   6 out of  10 | elapsed:    2.0s remaining:    1.3s\n",
      "[Parallel(n_jobs=4)]: Done  10 out of  10 | elapsed:    2.1s finished\n",
      "[Parallel(n_jobs=4)]: Using backend LokyBackend with 4 concurrent workers.\n",
      "[Parallel(n_jobs=4)]: Done   6 out of  10 | elapsed:    0.0s remaining:    0.0s\n",
      "[Parallel(n_jobs=4)]: Done  10 out of  10 | elapsed:    0.0s finished\n",
      "[Parallel(n_jobs=4)]: Using backend LokyBackend with 4 concurrent workers.\n",
      "[Parallel(n_jobs=4)]: Done   6 out of  10 | elapsed:    0.0s remaining:    0.0s\n",
      "[Parallel(n_jobs=4)]: Done  10 out of  10 | elapsed:    0.0s finished\n",
      "[Parallel(n_jobs=4)]: Using backend LokyBackend with 4 concurrent workers.\n"
     ]
    },
    {
     "name": "stdout",
     "output_type": "stream",
     "text": [
      "PC02 52000 estimates\n",
      "PC03 52000 estimates\n",
      "PC04 52000 estimates\n"
     ]
    },
    {
     "name": "stderr",
     "output_type": "stream",
     "text": [
      "[Parallel(n_jobs=4)]: Done   6 out of  10 | elapsed:    0.0s remaining:    0.0s\n",
      "[Parallel(n_jobs=4)]: Done  10 out of  10 | elapsed:    0.0s finished\n",
      "[Parallel(n_jobs=4)]: Using backend LokyBackend with 4 concurrent workers.\n",
      "[Parallel(n_jobs=4)]: Done   6 out of  10 | elapsed:    0.0s remaining:    0.0s\n",
      "[Parallel(n_jobs=4)]: Done  10 out of  10 | elapsed:    0.0s finished\n",
      "[Parallel(n_jobs=4)]: Using backend LokyBackend with 4 concurrent workers.\n",
      "[Parallel(n_jobs=4)]: Done   6 out of  10 | elapsed:    0.0s remaining:    0.0s\n",
      "[Parallel(n_jobs=4)]: Done  10 out of  10 | elapsed:    0.0s finished\n",
      "[Parallel(n_jobs=4)]: Using backend LokyBackend with 4 concurrent workers.\n"
     ]
    },
    {
     "name": "stdout",
     "output_type": "stream",
     "text": [
      "PC05 52000 estimates\n",
      "PC06 52000 estimates\n",
      "PC07 52000 estimates\n",
      "PC08 52000 estimates\n",
      "PC09 52000 estimates\n",
      "Wall time: 3.17 s\n"
     ]
    },
    {
     "name": "stderr",
     "output_type": "stream",
     "text": [
      "[Parallel(n_jobs=4)]: Done   6 out of  10 | elapsed:    0.0s remaining:    0.0s\n",
      "[Parallel(n_jobs=4)]: Done  10 out of  10 | elapsed:    0.0s finished\n",
      "[Parallel(n_jobs=4)]: Using backend LokyBackend with 4 concurrent workers.\n",
      "[Parallel(n_jobs=4)]: Done   6 out of  10 | elapsed:    0.0s remaining:    0.0s\n",
      "[Parallel(n_jobs=4)]: Done  10 out of  10 | elapsed:    0.0s finished\n",
      "[Parallel(n_jobs=4)]: Using backend LokyBackend with 4 concurrent workers.\n",
      "[Parallel(n_jobs=4)]: Done   6 out of  10 | elapsed:    0.0s remaining:    0.0s\n",
      "[Parallel(n_jobs=4)]: Done  10 out of  10 | elapsed:    0.0s finished\n"
     ]
    }
   ],
   "source": [
    "%%time\n",
    "# You can again change the n_jobs to lower the #CPU cores used for parallel processing\n",
    "# Also set the cv_folds variable below\n",
    "cv_folds = 10\n",
    "\n",
    "kriging_predictions = {}\n",
    "\n",
    "for component in components_to_use:  # Changed to only first 9 PCs\n",
    "    for radius in search_radii:  # Removed critical_distance\n",
    "        for variable_to_fit in [\"estimates\"]:  # Removed 'variances'\n",
    "            \n",
    "            # Let's print out the combination to see where we are in the loops\n",
    "            print(component, radius, variable_to_fit)\n",
    "            \n",
    "            kriging_predictions[f\"{component}_{radius}_{variable_to_fit}\"] = \\\n",
    "                cross_val_predict(estimators_final[f\"{component}_{radius}_{variable_to_fit}\"], \n",
    "                                  X=np.stack((coordinates_utm[\"X\"],\n",
    "                                              coordinates_utm[\"Y\"]), axis=1),\n",
    "                                  y=mineralogy_pca_df[component],\n",
    "                                  cv=cv_folds,\n",
    "                                  n_jobs=4,\n",
    "                                  verbose=5)"
   ]
  },
  {
   "cell_type": "code",
   "execution_count": 143,
   "metadata": {},
   "outputs": [],
   "source": [
    "preproc.save_obj(kriging_predictions, f\"kriging_predictions_{group_name}\")"
   ]
  },
  {
   "cell_type": "markdown",
   "metadata": {},
   "source": [
    "## Calculate clr solutions\n",
    "____"
   ]
  },
  {
   "cell_type": "code",
   "execution_count": 144,
   "metadata": {},
   "outputs": [
    {
     "name": "stdout",
     "output_type": "stream",
     "text": [
      "52000\n"
     ]
    },
    {
     "data": {
      "text/html": [
       "<div>\n",
       "<style scoped>\n",
       "    .dataframe tbody tr th:only-of-type {\n",
       "        vertical-align: middle;\n",
       "    }\n",
       "\n",
       "    .dataframe tbody tr th {\n",
       "        vertical-align: top;\n",
       "    }\n",
       "\n",
       "    .dataframe thead th {\n",
       "        text-align: right;\n",
       "    }\n",
       "</style>\n",
       "<table border=\"1\" class=\"dataframe\">\n",
       "  <thead>\n",
       "    <tr style=\"text-align: right;\">\n",
       "      <th></th>\n",
       "      <th>PC01</th>\n",
       "      <th>PC02</th>\n",
       "      <th>PC03</th>\n",
       "      <th>PC04</th>\n",
       "      <th>PC05</th>\n",
       "      <th>PC06</th>\n",
       "      <th>PC07</th>\n",
       "      <th>PC08</th>\n",
       "      <th>PC09</th>\n",
       "    </tr>\n",
       "  </thead>\n",
       "  <tbody>\n",
       "    <tr>\n",
       "      <th>35</th>\n",
       "      <td>0.198540</td>\n",
       "      <td>-0.023278</td>\n",
       "      <td>0.476007</td>\n",
       "      <td>-0.420820</td>\n",
       "      <td>-0.223036</td>\n",
       "      <td>-0.201933</td>\n",
       "      <td>0.136295</td>\n",
       "      <td>0.078436</td>\n",
       "      <td>-0.133353</td>\n",
       "    </tr>\n",
       "    <tr>\n",
       "      <th>36</th>\n",
       "      <td>-0.495949</td>\n",
       "      <td>-0.121978</td>\n",
       "      <td>0.315129</td>\n",
       "      <td>-0.177596</td>\n",
       "      <td>-0.330456</td>\n",
       "      <td>-0.646349</td>\n",
       "      <td>0.146104</td>\n",
       "      <td>0.098654</td>\n",
       "      <td>-0.098936</td>\n",
       "    </tr>\n",
       "    <tr>\n",
       "      <th>65</th>\n",
       "      <td>0.466582</td>\n",
       "      <td>-0.592724</td>\n",
       "      <td>-0.412928</td>\n",
       "      <td>0.043460</td>\n",
       "      <td>0.027952</td>\n",
       "      <td>-0.288174</td>\n",
       "      <td>-0.051041</td>\n",
       "      <td>0.068365</td>\n",
       "      <td>-0.137375</td>\n",
       "    </tr>\n",
       "    <tr>\n",
       "      <th>73</th>\n",
       "      <td>-0.434479</td>\n",
       "      <td>-0.114254</td>\n",
       "      <td>-0.855604</td>\n",
       "      <td>-0.721962</td>\n",
       "      <td>0.284918</td>\n",
       "      <td>-0.144932</td>\n",
       "      <td>0.578136</td>\n",
       "      <td>0.023590</td>\n",
       "      <td>0.027911</td>\n",
       "    </tr>\n",
       "    <tr>\n",
       "      <th>124</th>\n",
       "      <td>-0.693953</td>\n",
       "      <td>0.107074</td>\n",
       "      <td>-0.856356</td>\n",
       "      <td>-0.068135</td>\n",
       "      <td>-0.305845</td>\n",
       "      <td>-0.392374</td>\n",
       "      <td>0.835592</td>\n",
       "      <td>-0.050223</td>\n",
       "      <td>0.155726</td>\n",
       "    </tr>\n",
       "  </tbody>\n",
       "</table>\n",
       "</div>"
      ],
      "text/plain": [
       "         PC01      PC02      PC03      PC04      PC05      PC06      PC07  \\\n",
       "35   0.198540 -0.023278  0.476007 -0.420820 -0.223036 -0.201933  0.136295   \n",
       "36  -0.495949 -0.121978  0.315129 -0.177596 -0.330456 -0.646349  0.146104   \n",
       "65   0.466582 -0.592724 -0.412928  0.043460  0.027952 -0.288174 -0.051041   \n",
       "73  -0.434479 -0.114254 -0.855604 -0.721962  0.284918 -0.144932  0.578136   \n",
       "124 -0.693953  0.107074 -0.856356 -0.068135 -0.305845 -0.392374  0.835592   \n",
       "\n",
       "         PC08      PC09  \n",
       "35   0.078436 -0.133353  \n",
       "36   0.098654 -0.098936  \n",
       "65   0.068365 -0.137375  \n",
       "73   0.023590  0.027911  \n",
       "124 -0.050223  0.155726  "
      ]
     },
     "execution_count": 144,
     "metadata": {},
     "output_type": "execute_result"
    }
   ],
   "source": [
    "kriging_estimates_df = {}\n",
    "\n",
    "for radius in search_radii:\n",
    "    temp = {}\n",
    "    \n",
    "    for component in components_to_use:\n",
    "        key = f\"{component}_{radius}_estimates\"\n",
    "        temp[key] = kriging_predictions[key]\n",
    "\n",
    "    kriging_estimates_df[f\"{radius}\"] = pd.DataFrame.from_dict(temp)\n",
    "    kriging_estimates_df[f\"{radius}\"].index = mineralogy_pca_df.index\n",
    "    kriging_estimates_df[f\"{radius}\"].columns = components_to_use\n",
    "    \n",
    "    print(f\"{radius}\")\n",
    "    kriging_estimates_df[f\"{radius}\"].head()"
   ]
  },
  {
   "cell_type": "raw",
   "metadata": {},
   "source": [
    "kriging_variances_df = {}\n",
    "\n",
    "\n",
    "for radius in search_radii:\n",
    "    temp = {}\n",
    "    \n",
    "    for component in components_to_use:\n",
    "        key = f\"{component}_{radius}_variances\"\n",
    "        temp[key] = kriging_predictions[key]\n",
    "        \n",
    "    kriging_variances_df[f\"{radius}\"] = pd.DataFrame.from_dict(temp)\n",
    "    kriging_variances_df[f\"{radius}\"].index = mineralogy_pca_df.index\n",
    "    kriging_variances_df[f\"{radius}\"].columns = components_to_use\n",
    "    \n",
    "    print(f\"{radius}\")\n",
    "    kriging_variances_df[f\"{radius}\"].head()"
   ]
  },
  {
   "cell_type": "raw",
   "metadata": {},
   "source": [
    "kriging_variances_mean_df = {}\n",
    "\n",
    "for radius in search_radii:\n",
    "    kriging_variances_mean_df[f\"{radius}\"] = \\\n",
    "        kriging_variances_df[f\"{radius}\"].mean(axis=0)\n",
    "\n",
    "    print(f\"{radius}\")\n",
    "    kriging_variances_mean_df[f\"{radius}\"]"
   ]
  },
  {
   "cell_type": "code",
   "execution_count": 145,
   "metadata": {},
   "outputs": [],
   "source": [
    "kriging_estimates_clr = {}\n",
    "\n",
    "for ncomp in range(1, len(components_to_use) + 1):\n",
    "    for radius in search_radii:\n",
    "\n",
    "        kriging_estimates_clr[f\"{ncomp}_{radius}\"] = \\\n",
    "            postproc.reverse_pca(mineralogy_pca, \n",
    "                                 kriging_estimates_df[f\"{radius}\"],\n",
    "                                 mineralogy_clr,\n",
    "                                 n_comp=ncomp)"
   ]
  },
  {
   "cell_type": "code",
   "execution_count": 146,
   "metadata": {},
   "outputs": [],
   "source": [
    "solutions_clr = {}\n",
    "\n",
    "for ncomp in range(1, len(components_to_use) + 1):\n",
    "    for radius in search_radii:\n",
    "\n",
    "        solutions_clr[f\"{ncomp}_{radius}\"] = \\\n",
    "            pd.DataFrame(kriging_estimates_clr[f\"{ncomp}_{radius}\"], \n",
    "                         index=mineralogy_clr.index, \n",
    "                         columns=mineralogy_clr.columns)"
   ]
  },
  {
   "cell_type": "code",
   "execution_count": 147,
   "metadata": {},
   "outputs": [],
   "source": [
    "residuals_clr = {}\n",
    "\n",
    "for ncomp in range(1, len(components_to_use) + 1):\n",
    "    for radius in search_radii:\n",
    "\n",
    "        residuals_clr[f\"{ncomp}_{radius}\"] = \\\n",
    "            mineralogy_clr.subtract(solutions_clr[f\"{ncomp}_{radius}\"])"
   ]
  },
  {
   "cell_type": "code",
   "execution_count": 148,
   "metadata": {},
   "outputs": [],
   "source": [
    "for ncomp in range(1, len(components_to_use) + 1):\n",
    "    for radius in search_radii:\n",
    "        temp = pd.merge(residuals_clr[f\"{ncomp}_{radius}\"], \n",
    "                        pd.DataFrame(nvalues_control_points[radius], \n",
    "                                     columns=[\"n_closest_points\"]), \n",
    "                        left_index=True, \n",
    "                        right_index=True)\\\n",
    "                 .sort_values(\"n_closest_points\")\n",
    "        \n",
    "        temp.to_excel(f\"../_RESULTS/Residuals/residuals_clr_{ncomp}_{radius}_{group_name}.xlsx\")"
   ]
  },
  {
   "cell_type": "code",
   "execution_count": 149,
   "metadata": {},
   "outputs": [],
   "source": [
    "preproc.save_obj(residuals_clr, f\"residuals_clr_{group_name}\")"
   ]
  },
  {
   "cell_type": "code",
   "execution_count": 150,
   "metadata": {},
   "outputs": [],
   "source": [
    "preproc.save_obj(nvalues_control_points, f\"nvalues_control_points_{group_name}\")"
   ]
  },
  {
   "cell_type": "markdown",
   "metadata": {},
   "source": [
    "## Model selection"
   ]
  },
  {
   "cell_type": "code",
   "execution_count": 151,
   "metadata": {},
   "outputs": [
    {
     "data": {
      "text/plain": [
       "{'1_52000': 2.495856882681375,\n",
       " '2_52000': 2.559744224116643,\n",
       " '3_52000': 2.608687176221837,\n",
       " '4_52000': 2.6834779995752247,\n",
       " '5_52000': 2.7438621013972866,\n",
       " '6_52000': 2.773684824279304,\n",
       " '7_52000': 2.7887201154098435,\n",
       " '8_52000': 2.794962894506285,\n",
       " '9_52000': 2.796806952629495}"
      ]
     },
     "execution_count": 151,
     "metadata": {},
     "output_type": "execute_result"
    },
    {
     "data": {
      "text/plain": [
       "2.495856882681375"
      ]
     },
     "execution_count": 151,
     "metadata": {},
     "output_type": "execute_result"
    },
    {
     "data": {
      "text/plain": [
       "'1_52000'"
      ]
     },
     "execution_count": 151,
     "metadata": {},
     "output_type": "execute_result"
    }
   ],
   "source": [
    "# Get MSPE_Q values and select best model based on it\n",
    "# Make sure the selected model passes the Hotelling's T² 2-sample test above, though\n",
    "MSPE_Q = {}\n",
    "best_MSPE_Q = 1000\n",
    "\n",
    "for ncomp in range(1, len(components_to_use) + 1):\n",
    "    for radius in search_radii:\n",
    "\n",
    "        # Calculate MSPE_Q from clr residuals\n",
    "        MSPE_Q_temp = np.mean(np.sum(residuals_clr[f\"{ncomp}_{radius}\"] ** 2, axis=1), axis=0)\n",
    "\n",
    "        if MSPE_Q_temp < best_MSPE_Q:\n",
    "            # Store best MSPE_Q en corresponding model\n",
    "            best_MSPE_Q = MSPE_Q_temp\n",
    "            selected_model = f\"{ncomp}_{radius}\"\n",
    "\n",
    "        MSPE_Q[f\"{ncomp}_{radius}\"] = MSPE_Q_temp\n",
    "                \n",
    "MSPE_Q\n",
    "best_MSPE_Q\n",
    "selected_model\n",
    "selected_model_PCs = selected_model.split(\"_\")[0]"
   ]
  },
  {
   "cell_type": "code",
   "execution_count": 152,
   "metadata": {},
   "outputs": [],
   "source": [
    "# Number of PCs to use for reverse calculations based on selected model\n",
    "n_comp = int(selected_model.split(\"_\")[0])\n",
    "# Whcih PCs to use moving forward\n",
    "selected_components_to_use = [f\"PC{i:02d}\" for i in range(1, n_comp + 1)]"
   ]
  },
  {
   "cell_type": "code",
   "execution_count": 153,
   "metadata": {},
   "outputs": [
    {
     "data": {
      "text/plain": [
       "['PC01']"
      ]
     },
     "execution_count": 153,
     "metadata": {},
     "output_type": "execute_result"
    }
   ],
   "source": [
    "selected_components_to_use"
   ]
  },
  {
   "cell_type": "markdown",
   "metadata": {},
   "source": [
    "## Contour plots\n",
    "____"
   ]
  },
  {
   "cell_type": "code",
   "execution_count": 154,
   "metadata": {},
   "outputs": [
    {
     "name": "stdout",
     "output_type": "stream",
     "text": [
      "(298, 2)\n",
      "(222794, 2)\n",
      "494 451\n"
     ]
    },
    {
     "data": {
      "text/plain": [
       "(451, 494)"
      ]
     },
     "execution_count": 154,
     "metadata": {},
     "output_type": "execute_result"
    }
   ],
   "source": [
    "nvalues_critical_distance = \\\n",
    "    variograms[\"PC01\"].determine_mask_array(grid[0], \n",
    "                                            grid[1], \n",
    "                                            search_radius=critical_distance)\n",
    "mask_critical_distance = nvalues_critical_distance < 3\n",
    "mask_critical_distance.shape"
   ]
  },
  {
   "cell_type": "code",
   "execution_count": 155,
   "metadata": {},
   "outputs": [
    {
     "data": {
      "text/plain": [
       "172349"
      ]
     },
     "execution_count": 155,
     "metadata": {},
     "output_type": "execute_result"
    }
   ],
   "source": [
    "mask_critical_distance[mask_critical_distance == 1].sum()"
   ]
  },
  {
   "cell_type": "code",
   "execution_count": 156,
   "metadata": {},
   "outputs": [],
   "source": [
    "non_masked_grid_nodes = \\\n",
    "    grid[0].shape[0] * grid[1].shape[0] \\\n",
    "    - mask_critical_distance[mask_critical_distance == 1].sum()"
   ]
  },
  {
   "cell_type": "code",
   "execution_count": 157,
   "metadata": {},
   "outputs": [],
   "source": [
    "grid_cell_spacing = grid[0][1] - grid[0][0]\n",
    "grid_cell_area = grid_cell_spacing ** 2"
   ]
  },
  {
   "cell_type": "code",
   "execution_count": 158,
   "metadata": {},
   "outputs": [],
   "source": [
    "# Pluton area in m²\n",
    "pluton_area_m2 = non_masked_grid_nodes * grid_cell_area\n",
    "\n",
    "# Pluton area in km²\n",
    "pluton_area_km2 = pluton_area_m2 / 1_000_000"
   ]
  },
  {
   "cell_type": "code",
   "execution_count": 159,
   "metadata": {},
   "outputs": [
    {
     "data": {
      "text/plain": [
       "147350.92155648873"
      ]
     },
     "execution_count": 159,
     "metadata": {},
     "output_type": "execute_result"
    }
   ],
   "source": [
    "pluton_area_km2"
   ]
  },
  {
   "cell_type": "markdown",
   "metadata": {},
   "source": [
    "____"
   ]
  },
  {
   "cell_type": "code",
   "execution_count": 160,
   "metadata": {},
   "outputs": [
    {
     "ename": "FileNotFoundError",
     "evalue": "[Errno 2] No such file or directory: '../_DATA/_obj/interpolated_dict_area1_Tr_J.pkl'",
     "output_type": "error",
     "traceback": [
      "\u001b[1;31m---------------------------------------------------------------------------\u001b[0m",
      "\u001b[1;31mFileNotFoundError\u001b[0m                         Traceback (most recent call last)",
      "\u001b[1;32m<ipython-input-160-4668cd0191ec>\u001b[0m in \u001b[0;36m<module>\u001b[1;34m\u001b[0m\n\u001b[1;32m----> 1\u001b[1;33m \u001b[0minterpolated_dict\u001b[0m \u001b[1;33m=\u001b[0m \u001b[0mpreproc\u001b[0m\u001b[1;33m.\u001b[0m\u001b[0mload_obj\u001b[0m\u001b[1;33m(\u001b[0m\u001b[1;34mf\"interpolated_dict_{group_name}\"\u001b[0m\u001b[1;33m)\u001b[0m\u001b[1;33m\u001b[0m\u001b[1;33m\u001b[0m\u001b[0m\n\u001b[0m",
      "\u001b[1;32m~\\Desktop\\python_map\\New\\Vistelius_1995_OCR\\_ANALYSIS\\prepostprocessing\\pre_processing.py\u001b[0m in \u001b[0;36mload_obj\u001b[1;34m(name)\u001b[0m\n\u001b[0;32m    111\u001b[0m \u001b[1;32mdef\u001b[0m \u001b[0mload_obj\u001b[0m\u001b[1;33m(\u001b[0m\u001b[0mname\u001b[0m\u001b[1;33m)\u001b[0m\u001b[1;33m:\u001b[0m\u001b[1;33m\u001b[0m\u001b[1;33m\u001b[0m\u001b[0m\n\u001b[0;32m    112\u001b[0m     \u001b[1;34m\"\"\"Save Python instances in binary file format from disk\"\"\"\u001b[0m\u001b[1;33m\u001b[0m\u001b[1;33m\u001b[0m\u001b[0m\n\u001b[1;32m--> 113\u001b[1;33m     \u001b[1;32mwith\u001b[0m \u001b[0mopen\u001b[0m\u001b[1;33m(\u001b[0m\u001b[1;34m\"../_DATA/_obj/\"\u001b[0m \u001b[1;33m+\u001b[0m \u001b[0mname\u001b[0m \u001b[1;33m+\u001b[0m \u001b[1;34m\".pkl\"\u001b[0m\u001b[1;33m,\u001b[0m \u001b[1;34m'rb'\u001b[0m\u001b[1;33m)\u001b[0m \u001b[1;32mas\u001b[0m \u001b[0mf\u001b[0m\u001b[1;33m:\u001b[0m\u001b[1;33m\u001b[0m\u001b[1;33m\u001b[0m\u001b[0m\n\u001b[0m\u001b[0;32m    114\u001b[0m         \u001b[1;32mreturn\u001b[0m \u001b[0mpickle\u001b[0m\u001b[1;33m.\u001b[0m\u001b[0mload\u001b[0m\u001b[1;33m(\u001b[0m\u001b[0mf\u001b[0m\u001b[1;33m)\u001b[0m\u001b[1;33m\u001b[0m\u001b[1;33m\u001b[0m\u001b[0m\n\u001b[0;32m    115\u001b[0m \u001b[1;33m\u001b[0m\u001b[0m\n",
      "\u001b[1;31mFileNotFoundError\u001b[0m: [Errno 2] No such file or directory: '../_DATA/_obj/interpolated_dict_area1_Tr_J.pkl'"
     ]
    }
   ],
   "source": [
    "interpolated_dict = preproc.load_obj(f\"interpolated_dict_{group_name}\")"
   ]
  },
  {
   "cell_type": "code",
   "execution_count": null,
   "metadata": {},
   "outputs": [],
   "source": [
    "# Since my desktop (with 32GB of RAM) ran out of memory,\n",
    "# I've reduced the grid spacing so that there are fewer grid points \n",
    "# to perform the interpolation for\n",
    "\n",
    "# You could also reduce the number of active CPU cores by decreasing 'n_jobs'\n",
    "# which would reduce memory consumption\n",
    "# so that you could still get a more detailed interpolation grid.\n",
    "# The interpolation will take a bit longer than since \n",
    "# not the maximum number of 'workers' can be used in that case."
   ]
  },
  {
   "cell_type": "markdown",
   "metadata": {},
   "source": [
    "### remark\n",
    "cell below was changed -->  changed it for all the other areas also"
   ]
  },
  {
   "cell_type": "code",
   "execution_count": 161,
   "metadata": {},
   "outputs": [
    {
     "name": "stdout",
     "output_type": "stream",
     "text": [
      "Wall time: 2min 41s\n"
     ]
    }
   ],
   "source": [
    "%%time\n",
    "interpolated_parallel = Parallel(n_jobs=1)(delayed(\n",
    "    variograms[component].execute)('masked', \n",
    "                     grid[0], \n",
    "                     grid[1],\n",
    "                     mask_critical_distance,\n",
    "                     n_closest_points=number_of_control_points, \n",
    "                     search_radius=range_[0], \n",
    "                     backend='loop') for component in components_to_use)"
   ]
  },
  {
   "cell_type": "code",
   "execution_count": 162,
   "metadata": {},
   "outputs": [],
   "source": [
    "interpolated_dict = {}\n",
    "for i, item in enumerate(interpolated_parallel, start=1):\n",
    "    interpolated_dict[f\"PC0{i}\"] = item"
   ]
  },
  {
   "cell_type": "code",
   "execution_count": 163,
   "metadata": {},
   "outputs": [],
   "source": [
    "preproc.save_obj(interpolated_dict, f\"interpolated_dict_{group_name}\")"
   ]
  },
  {
   "cell_type": "code",
   "execution_count": 164,
   "metadata": {},
   "outputs": [
    {
     "name": "stdout",
     "output_type": "stream",
     "text": [
      "1\n",
      "2\n",
      "3\n",
      "4\n",
      "5\n",
      "6\n",
      "7\n",
      "8\n",
      "9\n",
      "(9, 451, 494)\n"
     ]
    },
    {
     "name": "stderr",
     "output_type": "stream",
     "text": [
      "C:\\Users\\Sebastian\\Anaconda3\\envs\\main\\lib\\site-packages\\IPython\\core\\interactiveshell.py:3331: FutureWarning: arrays to stack must be passed as a \"sequence\" type such as list or tuple. Support for non-sequence iterables such as generators is deprecated as of NumPy 1.16 and will raise an error in the future.\n",
      "  exec(code_obj, self.user_global_ns, self.user_ns)\n"
     ]
    }
   ],
   "source": [
    "interpolated_array = postproc.convert_grid_to_array_of_scores(interpolated_dict)\n",
    "\n",
    "interpolated_reverse_pca = postproc.reverse_pca(mineralogy_pca, \n",
    "                                                interpolated_array, \n",
    "                                                mineralogy_clr, \n",
    "                                                n_comp=n_comp)\n",
    "\n",
    "interpolated_reverse_clr = postproc.reverse_clr(interpolated_reverse_pca, \n",
    "                                                mineralogy_clr)\n",
    "\n",
    "\n",
    "# You will get a FutureWarning here, that's fine"
   ]
  },
  {
   "cell_type": "code",
   "execution_count": 165,
   "metadata": {},
   "outputs": [
    {
     "data": {
      "text/plain": [
       "1.1224086428288407"
      ]
     },
     "execution_count": 165,
     "metadata": {},
     "output_type": "execute_result"
    }
   ],
   "source": [
    "# Get kriging surface variance for error_budget\n",
    "var_OK = np.array(pd.DataFrame(interpolated_array).var(axis=0, ddof=1))\n",
    "var_OK.sum()"
   ]
  },
  {
   "cell_type": "code",
   "execution_count": 166,
   "metadata": {},
   "outputs": [],
   "source": [
    "# Check if the number of points based on the specified grid is equal to\n",
    "# the sum of the number of masked points and the number of interpolated points\n",
    "assert grid[0].shape[0] * grid[1].shape[0] == np.sum(np.isclose(interpolated_reverse_clr.sum(axis=1), 0.0)) + \\\n",
    "                                              np.sum(np.isclose(interpolated_reverse_clr.sum(axis=1), 100.0))"
   ]
  },
  {
   "cell_type": "code",
   "execution_count": 167,
   "metadata": {},
   "outputs": [],
   "source": [
    "interpolated_modal = {}\n",
    "for mineral in interpolated_reverse_clr.columns.tolist():\n",
    "    interpolated_modal[mineral] = np.reshape(interpolated_reverse_clr.loc[:, mineral].values, \n",
    "                                             (grid[1].shape[0], grid[0].shape[0]))"
   ]
  },
  {
   "cell_type": "code",
   "execution_count": 168,
   "metadata": {},
   "outputs": [
    {
     "name": "stdout",
     "output_type": "stream",
     "text": [
      "(451, 494)\n",
      "SiO2\n",
      "(451, 494)\n",
      "TiO2\n",
      "(451, 494)\n",
      "Al2O3\n",
      "(451, 494)\n",
      "Fe2O3\n",
      "(451, 494)\n",
      "FeO\n",
      "(451, 494)\n",
      "MnO\n",
      "(451, 494)\n",
      "MgO\n",
      "(451, 494)\n",
      "CaO\n",
      "(451, 494)\n",
      "Na2O\n",
      "(451, 494)\n",
      "K2O\n",
      "(451, 494)\n",
      "oth\n"
     ]
    }
   ],
   "source": [
    "# If you get an error related to an non-esixting save location\n",
    "# Please first create a folder on your pc with the same name that \n",
    "# you used for the variable 'group_name'\n",
    "\n",
    "for mineral, interpolation in interpolated_modal.items(): \n",
    "    for variable in [\"estimates\"]:\n",
    "        print(interpolation.shape)\n",
    "        plots.plot_contour_map(interpolation,\n",
    "                               grid,\n",
    "                               coordinates_utm,\n",
    "                               group_name,\n",
    "                               variable=variable,\n",
    "                               title=f\"{mineral} radius={range_[0]}m {variable} masked {critical_distance}m\",\n",
    "                               show_plot=False,\n",
    "                               single_mineral=True,\n",
    "                               mineral=mineral,                               \n",
    "                               label_pos = (0.03, 0.94),\n",
    "                               skip_xaxis_label=2,\n",
    "                               skip_yaxis_label=2,\n",
    "                               skip_xaxis_start=1,\n",
    "                               skip_yaxis_start=1,\n",
    "                               marker_symbol='.',\n",
    "                               marker_size=0.1,\n",
    "                               marker_color='r',)\n",
    "        \n",
    "# Added some options to function so that yu can easily change the appearance \n",
    "# of the markers used to show the position of the control points"
   ]
  },
  {
   "cell_type": "code",
   "execution_count": 169,
   "metadata": {},
   "outputs": [
    {
     "data": {
      "image/png": "[encoded data removed]",
      "text/plain": [
       "<Figure size 1728x1296 with 26 Axes>"
      ]
     },
     "metadata": {},
     "output_type": "display_data"
    }
   ],
   "source": [
    "# Specify how many rows and columns you want to use in the following figure\n",
    "# This will ofcourse depend an the number of variables you would like to plot\n",
    "# You can also set the figure size\n",
    "n_cols = 3\n",
    "n_rows = 5\n",
    "\n",
    "# Figure with single mineral maps as subplots\n",
    "plots.plot_contour_map_all(interpolated_modal,\n",
    "                           grid,\n",
    "                           coordinates_utm,\n",
    "                           group_name,\n",
    "                           title=f\"radius={range_[0]}m masked {critical_distance}m\",\n",
    "                           show_plot=True,\n",
    "                           label_pos = (0.03, 0.94),\n",
    "                           skip_xaxis_label=2,\n",
    "                           skip_yaxis_label=2,\n",
    "                           skip_xaxis_start=1,\n",
    "                           skip_yaxis_start=1,\n",
    "                           marker_size=0.1,\n",
    "                           marker_color='r',\n",
    "                           marker_symbol='.',\n",
    "                           figsize=(24, 18),\n",
    "                           ncols=n_cols,\n",
    "                           nrows=n_rows,\n",
    "                           sharex=True,\n",
    "                           sharey=True)"
   ]
  },
  {
   "cell_type": "code",
   "execution_count": 170,
   "metadata": {},
   "outputs": [
    {
     "data": {
      "text/html": [
       "<div>\n",
       "<style scoped>\n",
       "    .dataframe tbody tr th:only-of-type {\n",
       "        vertical-align: middle;\n",
       "    }\n",
       "\n",
       "    .dataframe tbody tr th {\n",
       "        vertical-align: top;\n",
       "    }\n",
       "\n",
       "    .dataframe thead th {\n",
       "        text-align: right;\n",
       "    }\n",
       "</style>\n",
       "<table border=\"1\" class=\"dataframe\">\n",
       "  <thead>\n",
       "    <tr style=\"text-align: right;\">\n",
       "      <th></th>\n",
       "      <th>SiO2</th>\n",
       "      <th>TiO2</th>\n",
       "      <th>Al2O3</th>\n",
       "      <th>Fe2O3</th>\n",
       "      <th>FeO</th>\n",
       "      <th>MnO</th>\n",
       "      <th>MgO</th>\n",
       "      <th>CaO</th>\n",
       "      <th>Na2O</th>\n",
       "      <th>K2O</th>\n",
       "      <th>oth</th>\n",
       "    </tr>\n",
       "  </thead>\n",
       "  <tbody>\n",
       "    <tr>\n",
       "      <th>0</th>\n",
       "      <td>NaN</td>\n",
       "      <td>NaN</td>\n",
       "      <td>NaN</td>\n",
       "      <td>NaN</td>\n",
       "      <td>NaN</td>\n",
       "      <td>NaN</td>\n",
       "      <td>NaN</td>\n",
       "      <td>NaN</td>\n",
       "      <td>NaN</td>\n",
       "      <td>NaN</td>\n",
       "      <td>NaN</td>\n",
       "    </tr>\n",
       "    <tr>\n",
       "      <th>1</th>\n",
       "      <td>NaN</td>\n",
       "      <td>NaN</td>\n",
       "      <td>NaN</td>\n",
       "      <td>NaN</td>\n",
       "      <td>NaN</td>\n",
       "      <td>NaN</td>\n",
       "      <td>NaN</td>\n",
       "      <td>NaN</td>\n",
       "      <td>NaN</td>\n",
       "      <td>NaN</td>\n",
       "      <td>NaN</td>\n",
       "    </tr>\n",
       "    <tr>\n",
       "      <th>2</th>\n",
       "      <td>NaN</td>\n",
       "      <td>NaN</td>\n",
       "      <td>NaN</td>\n",
       "      <td>NaN</td>\n",
       "      <td>NaN</td>\n",
       "      <td>NaN</td>\n",
       "      <td>NaN</td>\n",
       "      <td>NaN</td>\n",
       "      <td>NaN</td>\n",
       "      <td>NaN</td>\n",
       "      <td>NaN</td>\n",
       "    </tr>\n",
       "    <tr>\n",
       "      <th>3</th>\n",
       "      <td>NaN</td>\n",
       "      <td>NaN</td>\n",
       "      <td>NaN</td>\n",
       "      <td>NaN</td>\n",
       "      <td>NaN</td>\n",
       "      <td>NaN</td>\n",
       "      <td>NaN</td>\n",
       "      <td>NaN</td>\n",
       "      <td>NaN</td>\n",
       "      <td>NaN</td>\n",
       "      <td>NaN</td>\n",
       "    </tr>\n",
       "    <tr>\n",
       "      <th>4</th>\n",
       "      <td>NaN</td>\n",
       "      <td>NaN</td>\n",
       "      <td>NaN</td>\n",
       "      <td>NaN</td>\n",
       "      <td>NaN</td>\n",
       "      <td>NaN</td>\n",
       "      <td>NaN</td>\n",
       "      <td>NaN</td>\n",
       "      <td>NaN</td>\n",
       "      <td>NaN</td>\n",
       "      <td>NaN</td>\n",
       "    </tr>\n",
       "    <tr>\n",
       "      <th>...</th>\n",
       "      <td>...</td>\n",
       "      <td>...</td>\n",
       "      <td>...</td>\n",
       "      <td>...</td>\n",
       "      <td>...</td>\n",
       "      <td>...</td>\n",
       "      <td>...</td>\n",
       "      <td>...</td>\n",
       "      <td>...</td>\n",
       "      <td>...</td>\n",
       "      <td>...</td>\n",
       "    </tr>\n",
       "    <tr>\n",
       "      <th>222789</th>\n",
       "      <td>NaN</td>\n",
       "      <td>NaN</td>\n",
       "      <td>NaN</td>\n",
       "      <td>NaN</td>\n",
       "      <td>NaN</td>\n",
       "      <td>NaN</td>\n",
       "      <td>NaN</td>\n",
       "      <td>NaN</td>\n",
       "      <td>NaN</td>\n",
       "      <td>NaN</td>\n",
       "      <td>NaN</td>\n",
       "    </tr>\n",
       "    <tr>\n",
       "      <th>222790</th>\n",
       "      <td>NaN</td>\n",
       "      <td>NaN</td>\n",
       "      <td>NaN</td>\n",
       "      <td>NaN</td>\n",
       "      <td>NaN</td>\n",
       "      <td>NaN</td>\n",
       "      <td>NaN</td>\n",
       "      <td>NaN</td>\n",
       "      <td>NaN</td>\n",
       "      <td>NaN</td>\n",
       "      <td>NaN</td>\n",
       "    </tr>\n",
       "    <tr>\n",
       "      <th>222791</th>\n",
       "      <td>NaN</td>\n",
       "      <td>NaN</td>\n",
       "      <td>NaN</td>\n",
       "      <td>NaN</td>\n",
       "      <td>NaN</td>\n",
       "      <td>NaN</td>\n",
       "      <td>NaN</td>\n",
       "      <td>NaN</td>\n",
       "      <td>NaN</td>\n",
       "      <td>NaN</td>\n",
       "      <td>NaN</td>\n",
       "    </tr>\n",
       "    <tr>\n",
       "      <th>222792</th>\n",
       "      <td>NaN</td>\n",
       "      <td>NaN</td>\n",
       "      <td>NaN</td>\n",
       "      <td>NaN</td>\n",
       "      <td>NaN</td>\n",
       "      <td>NaN</td>\n",
       "      <td>NaN</td>\n",
       "      <td>NaN</td>\n",
       "      <td>NaN</td>\n",
       "      <td>NaN</td>\n",
       "      <td>NaN</td>\n",
       "    </tr>\n",
       "    <tr>\n",
       "      <th>222793</th>\n",
       "      <td>NaN</td>\n",
       "      <td>NaN</td>\n",
       "      <td>NaN</td>\n",
       "      <td>NaN</td>\n",
       "      <td>NaN</td>\n",
       "      <td>NaN</td>\n",
       "      <td>NaN</td>\n",
       "      <td>NaN</td>\n",
       "      <td>NaN</td>\n",
       "      <td>NaN</td>\n",
       "      <td>NaN</td>\n",
       "    </tr>\n",
       "  </tbody>\n",
       "</table>\n",
       "<p>222794 rows × 11 columns</p>\n",
       "</div>"
      ],
      "text/plain": [
       "        SiO2  TiO2  Al2O3  Fe2O3  FeO  MnO  MgO  CaO  Na2O  K2O  oth\n",
       "0        NaN   NaN    NaN    NaN  NaN  NaN  NaN  NaN   NaN  NaN  NaN\n",
       "1        NaN   NaN    NaN    NaN  NaN  NaN  NaN  NaN   NaN  NaN  NaN\n",
       "2        NaN   NaN    NaN    NaN  NaN  NaN  NaN  NaN   NaN  NaN  NaN\n",
       "3        NaN   NaN    NaN    NaN  NaN  NaN  NaN  NaN   NaN  NaN  NaN\n",
       "4        NaN   NaN    NaN    NaN  NaN  NaN  NaN  NaN   NaN  NaN  NaN\n",
       "...      ...   ...    ...    ...  ...  ...  ...  ...   ...  ...  ...\n",
       "222789   NaN   NaN    NaN    NaN  NaN  NaN  NaN  NaN   NaN  NaN  NaN\n",
       "222790   NaN   NaN    NaN    NaN  NaN  NaN  NaN  NaN   NaN  NaN  NaN\n",
       "222791   NaN   NaN    NaN    NaN  NaN  NaN  NaN  NaN   NaN  NaN  NaN\n",
       "222792   NaN   NaN    NaN    NaN  NaN  NaN  NaN  NaN   NaN  NaN  NaN\n",
       "222793   NaN   NaN    NaN    NaN  NaN  NaN  NaN  NaN   NaN  NaN  NaN\n",
       "\n",
       "[222794 rows x 11 columns]"
      ]
     },
     "execution_count": 170,
     "metadata": {},
     "output_type": "execute_result"
    }
   ],
   "source": [
    "interpolated_reverse_clr"
   ]
  },
  {
   "cell_type": "markdown",
   "metadata": {},
   "source": [
    "## QAPF maps\n",
    "____"
   ]
  },
  {
   "cell_type": "code",
   "execution_count": 180,
   "metadata": {},
   "outputs": [],
   "source": [
    "interpolated_mineralogy = pd.read_excel(\"../_CIPW/CIPW/AREA1_Tr_J/qapf.xlsx\")"
   ]
  },
  {
   "cell_type": "code",
   "execution_count": 181,
   "metadata": {},
   "outputs": [],
   "source": [
    "interpolated_reverse_clr = pd.read_excel(\"../_CIPW/CIPW/AREA1_Tr_J/interpolated_data.xlsx\")"
   ]
  },
  {
   "cell_type": "code",
   "execution_count": 182,
   "metadata": {},
   "outputs": [],
   "source": [
    "interpolated_mineralogy = interpolated_mineralogy.set_index(\" SAMPLE\")"
   ]
  },
  {
   "cell_type": "code",
   "execution_count": 183,
   "metadata": {},
   "outputs": [],
   "source": [
    "interpolated_mineralogy[\"QAPF_numbers\"] = interpolated_mineralogy[\"QAPF\"].map(qapf.QAPF_upper_regions_numbers)"
   ]
  },
  {
   "cell_type": "code",
   "execution_count": 184,
   "metadata": {},
   "outputs": [
    {
     "data": {
      "text/html": [
       "<div>\n",
       "<style scoped>\n",
       "    .dataframe tbody tr th:only-of-type {\n",
       "        vertical-align: middle;\n",
       "    }\n",
       "\n",
       "    .dataframe tbody tr th {\n",
       "        vertical-align: top;\n",
       "    }\n",
       "\n",
       "    .dataframe thead th {\n",
       "        text-align: right;\n",
       "    }\n",
       "</style>\n",
       "<table border=\"1\" class=\"dataframe\">\n",
       "  <thead>\n",
       "    <tr style=\"text-align: right;\">\n",
       "      <th></th>\n",
       "      <th>Q</th>\n",
       "      <th>P</th>\n",
       "      <th>K</th>\n",
       "      <th>QAPF</th>\n",
       "      <th>QAPF_numbers</th>\n",
       "    </tr>\n",
       "    <tr>\n",
       "      <th>SAMPLE</th>\n",
       "      <th></th>\n",
       "      <th></th>\n",
       "      <th></th>\n",
       "      <th></th>\n",
       "      <th></th>\n",
       "    </tr>\n",
       "  </thead>\n",
       "  <tbody>\n",
       "    <tr>\n",
       "      <th>19846</th>\n",
       "      <td>19.054792</td>\n",
       "      <td>43.018048</td>\n",
       "      <td>29.028022</td>\n",
       "      <td>monzo granite</td>\n",
       "      <td>5</td>\n",
       "    </tr>\n",
       "    <tr>\n",
       "      <th>19847</th>\n",
       "      <td>19.042517</td>\n",
       "      <td>43.022871</td>\n",
       "      <td>29.024907</td>\n",
       "      <td>monzo granite</td>\n",
       "      <td>5</td>\n",
       "    </tr>\n",
       "    <tr>\n",
       "      <th>19848</th>\n",
       "      <td>19.030882</td>\n",
       "      <td>43.027438</td>\n",
       "      <td>29.021900</td>\n",
       "      <td>monzo granite</td>\n",
       "      <td>5</td>\n",
       "    </tr>\n",
       "    <tr>\n",
       "      <th>19849</th>\n",
       "      <td>19.019936</td>\n",
       "      <td>43.031750</td>\n",
       "      <td>29.019072</td>\n",
       "      <td>monzo granite</td>\n",
       "      <td>5</td>\n",
       "    </tr>\n",
       "    <tr>\n",
       "      <th>20334</th>\n",
       "      <td>19.145943</td>\n",
       "      <td>42.981854</td>\n",
       "      <td>29.051565</td>\n",
       "      <td>monzo granite</td>\n",
       "      <td>5</td>\n",
       "    </tr>\n",
       "    <tr>\n",
       "      <th>...</th>\n",
       "      <td>...</td>\n",
       "      <td>...</td>\n",
       "      <td>...</td>\n",
       "      <td>...</td>\n",
       "      <td>...</td>\n",
       "    </tr>\n",
       "    <tr>\n",
       "      <th>208816</th>\n",
       "      <td>27.381741</td>\n",
       "      <td>36.855054</td>\n",
       "      <td>31.241367</td>\n",
       "      <td>monzo granite</td>\n",
       "      <td>5</td>\n",
       "    </tr>\n",
       "    <tr>\n",
       "      <th>208817</th>\n",
       "      <td>27.407507</td>\n",
       "      <td>36.830765</td>\n",
       "      <td>31.248939</td>\n",
       "      <td>monzo granite</td>\n",
       "      <td>5</td>\n",
       "    </tr>\n",
       "    <tr>\n",
       "      <th>208818</th>\n",
       "      <td>27.431187</td>\n",
       "      <td>36.808491</td>\n",
       "      <td>31.255787</td>\n",
       "      <td>monzo granite</td>\n",
       "      <td>5</td>\n",
       "    </tr>\n",
       "    <tr>\n",
       "      <th>208819</th>\n",
       "      <td>27.452692</td>\n",
       "      <td>36.788291</td>\n",
       "      <td>31.262100</td>\n",
       "      <td>monzo granite</td>\n",
       "      <td>5</td>\n",
       "    </tr>\n",
       "    <tr>\n",
       "      <th>208820</th>\n",
       "      <td>27.472101</td>\n",
       "      <td>36.770032</td>\n",
       "      <td>31.267814</td>\n",
       "      <td>monzo granite</td>\n",
       "      <td>5</td>\n",
       "    </tr>\n",
       "  </tbody>\n",
       "</table>\n",
       "<p>50444 rows × 5 columns</p>\n",
       "</div>"
      ],
      "text/plain": [
       "                 Q          P          K           QAPF  QAPF_numbers\n",
       " SAMPLE                                                              \n",
       "19846    19.054792  43.018048  29.028022  monzo granite             5\n",
       "19847    19.042517  43.022871  29.024907  monzo granite             5\n",
       "19848    19.030882  43.027438  29.021900  monzo granite             5\n",
       "19849    19.019936  43.031750  29.019072  monzo granite             5\n",
       "20334    19.145943  42.981854  29.051565  monzo granite             5\n",
       "...            ...        ...        ...            ...           ...\n",
       "208816   27.381741  36.855054  31.241367  monzo granite             5\n",
       "208817   27.407507  36.830765  31.248939  monzo granite             5\n",
       "208818   27.431187  36.808491  31.255787  monzo granite             5\n",
       "208819   27.452692  36.788291  31.262100  monzo granite             5\n",
       "208820   27.472101  36.770032  31.267814  monzo granite             5\n",
       "\n",
       "[50444 rows x 5 columns]"
      ]
     },
     "execution_count": 184,
     "metadata": {},
     "output_type": "execute_result"
    }
   ],
   "source": [
    "interpolated_mineralogy"
   ]
  },
  {
   "cell_type": "code",
   "execution_count": 185,
   "metadata": {},
   "outputs": [
    {
     "data": {
      "text/html": [
       "<div>\n",
       "<style scoped>\n",
       "    .dataframe tbody tr th:only-of-type {\n",
       "        vertical-align: middle;\n",
       "    }\n",
       "\n",
       "    .dataframe tbody tr th {\n",
       "        vertical-align: top;\n",
       "    }\n",
       "\n",
       "    .dataframe thead th {\n",
       "        text-align: right;\n",
       "    }\n",
       "</style>\n",
       "<table border=\"1\" class=\"dataframe\">\n",
       "  <thead>\n",
       "    <tr style=\"text-align: right;\">\n",
       "      <th></th>\n",
       "      <th>Q</th>\n",
       "      <th>P</th>\n",
       "      <th>K</th>\n",
       "      <th>QAPF</th>\n",
       "      <th>QAPF_numbers</th>\n",
       "    </tr>\n",
       "  </thead>\n",
       "  <tbody>\n",
       "    <tr>\n",
       "      <th>0</th>\n",
       "      <td>0.0</td>\n",
       "      <td>0.0</td>\n",
       "      <td>0.0</td>\n",
       "      <td>0</td>\n",
       "      <td>0.0</td>\n",
       "    </tr>\n",
       "    <tr>\n",
       "      <th>1</th>\n",
       "      <td>0.0</td>\n",
       "      <td>0.0</td>\n",
       "      <td>0.0</td>\n",
       "      <td>0</td>\n",
       "      <td>0.0</td>\n",
       "    </tr>\n",
       "    <tr>\n",
       "      <th>2</th>\n",
       "      <td>0.0</td>\n",
       "      <td>0.0</td>\n",
       "      <td>0.0</td>\n",
       "      <td>0</td>\n",
       "      <td>0.0</td>\n",
       "    </tr>\n",
       "    <tr>\n",
       "      <th>3</th>\n",
       "      <td>0.0</td>\n",
       "      <td>0.0</td>\n",
       "      <td>0.0</td>\n",
       "      <td>0</td>\n",
       "      <td>0.0</td>\n",
       "    </tr>\n",
       "    <tr>\n",
       "      <th>4</th>\n",
       "      <td>0.0</td>\n",
       "      <td>0.0</td>\n",
       "      <td>0.0</td>\n",
       "      <td>0</td>\n",
       "      <td>0.0</td>\n",
       "    </tr>\n",
       "    <tr>\n",
       "      <th>...</th>\n",
       "      <td>...</td>\n",
       "      <td>...</td>\n",
       "      <td>...</td>\n",
       "      <td>...</td>\n",
       "      <td>...</td>\n",
       "    </tr>\n",
       "    <tr>\n",
       "      <th>222789</th>\n",
       "      <td>0.0</td>\n",
       "      <td>0.0</td>\n",
       "      <td>0.0</td>\n",
       "      <td>0</td>\n",
       "      <td>0.0</td>\n",
       "    </tr>\n",
       "    <tr>\n",
       "      <th>222790</th>\n",
       "      <td>0.0</td>\n",
       "      <td>0.0</td>\n",
       "      <td>0.0</td>\n",
       "      <td>0</td>\n",
       "      <td>0.0</td>\n",
       "    </tr>\n",
       "    <tr>\n",
       "      <th>222791</th>\n",
       "      <td>0.0</td>\n",
       "      <td>0.0</td>\n",
       "      <td>0.0</td>\n",
       "      <td>0</td>\n",
       "      <td>0.0</td>\n",
       "    </tr>\n",
       "    <tr>\n",
       "      <th>222792</th>\n",
       "      <td>0.0</td>\n",
       "      <td>0.0</td>\n",
       "      <td>0.0</td>\n",
       "      <td>0</td>\n",
       "      <td>0.0</td>\n",
       "    </tr>\n",
       "    <tr>\n",
       "      <th>222793</th>\n",
       "      <td>0.0</td>\n",
       "      <td>0.0</td>\n",
       "      <td>0.0</td>\n",
       "      <td>0</td>\n",
       "      <td>0.0</td>\n",
       "    </tr>\n",
       "  </tbody>\n",
       "</table>\n",
       "<p>222794 rows × 5 columns</p>\n",
       "</div>"
      ],
      "text/plain": [
       "          Q    P    K QAPF  QAPF_numbers\n",
       "0       0.0  0.0  0.0    0           0.0\n",
       "1       0.0  0.0  0.0    0           0.0\n",
       "2       0.0  0.0  0.0    0           0.0\n",
       "3       0.0  0.0  0.0    0           0.0\n",
       "4       0.0  0.0  0.0    0           0.0\n",
       "...     ...  ...  ...  ...           ...\n",
       "222789  0.0  0.0  0.0    0           0.0\n",
       "222790  0.0  0.0  0.0    0           0.0\n",
       "222791  0.0  0.0  0.0    0           0.0\n",
       "222792  0.0  0.0  0.0    0           0.0\n",
       "222793  0.0  0.0  0.0    0           0.0\n",
       "\n",
       "[222794 rows x 5 columns]"
      ]
     },
     "execution_count": 185,
     "metadata": {},
     "output_type": "execute_result"
    }
   ],
   "source": [
    "interpolated_mineralogy_QAPF = pd.merge(interpolated_reverse_clr, interpolated_mineralogy, \n",
    "                                        left_index=True, right_index=True, how='outer')\\\n",
    "                                 .drop(interpolated_reverse_clr.columns, axis=1)\n",
    "\n",
    "interpolated_mineralogy_QAPF = interpolated_mineralogy_QAPF.fillna(0)\n",
    "interpolated_mineralogy_QAPF"
   ]
  },
  {
   "cell_type": "code",
   "execution_count": 186,
   "metadata": {},
   "outputs": [],
   "source": [
    "interpolated_mineralogy_QAPF_reshape = np.reshape(interpolated_mineralogy_QAPF[\"QAPF_numbers\"].values, (grid[1].shape[0], grid[0].shape[0]))"
   ]
  },
  {
   "cell_type": "code",
   "execution_count": 187,
   "metadata": {},
   "outputs": [
    {
     "data": {
      "text/plain": [
       "[5.0, 10.0]"
      ]
     },
     "execution_count": 187,
     "metadata": {},
     "output_type": "execute_result"
    }
   ],
   "source": [
    "values_to_plot = list(np.sort(interpolated_mineralogy_QAPF[\"QAPF_numbers\"].unique()))[1:]\n",
    "values_to_plot"
   ]
  },
  {
   "cell_type": "code",
   "execution_count": 188,
   "metadata": {},
   "outputs": [],
   "source": [
    "# Need to have correct excel file with area's control points' CIPW-QAPF classification\n",
    "mineralogy_QAPF = pd.read_excel(\"../_CIPW/CIPW/AREA1_Tr_J/QAPF_control_points.xlsx\", index_col=0)"
   ]
  },
  {
   "cell_type": "code",
   "execution_count": 189,
   "metadata": {},
   "outputs": [],
   "source": [
    "QAPF_to_plot = pd.merge(coordinates_utm, mineralogy_QAPF[[\"QAPF\"]], left_index=True, right_index=True)"
   ]
  },
  {
   "cell_type": "code",
   "execution_count": 190,
   "metadata": {},
   "outputs": [
    {
     "data": {
      "image/png": "[encoded data removed]",
      "text/plain": [
       "<Figure size 432x288 with 1 Axes>"
      ]
     },
     "metadata": {},
     "output_type": "display_data"
    }
   ],
   "source": [
    "plots.plot_contour_map_interpolated_QAPF(interpolated_mineralogy_QAPF_reshape, grid, QAPF_to_plot, f\"{group_name}\", values_to_plot=values_to_plot,\n",
    "                                         skip_xaxis_label=2, skip_yaxis_label=2, skip_xaxis_start=1, skip_yaxis_start=1, show_qapf_control_points=True)"
   ]
  },
  {
   "cell_type": "code",
   "execution_count": 191,
   "metadata": {},
   "outputs": [
    {
     "data": {
      "image/png": "[encoded data removed]",
      "text/plain": [
       "<Figure size 432x288 with 1 Axes>"
      ]
     },
     "metadata": {},
     "output_type": "display_data"
    }
   ],
   "source": [
    "plots.plot_contour_map_interpolated_QAPF(interpolated_mineralogy_QAPF_reshape, grid, QAPF_to_plot, f\"{group_name}\", values_to_plot=values_to_plot,\n",
    "                                         skip_xaxis_label=2, skip_yaxis_label=2, skip_xaxis_start=1, skip_yaxis_start=1, show_qapf_control_points=False, no_legend=False)"
   ]
  },
  {
   "cell_type": "markdown",
   "metadata": {},
   "source": [
    "## Cluster analysis maps\n",
    "____"
   ]
  },
  {
   "cell_type": "markdown",
   "metadata": {},
   "source": [
    "**I was doubting what would make more sense:**  \n",
    "  - **Perform the interpolation and use these values to perform the cluster analysis OR**\n",
    "  - **Perform the cluster analysis on the control points and interpolate those values to obtain cluster analysis of grid points.**  \n",
    "  \n",
    "**I believe the first option makes more sense (and so that's what I persued below) but it is something we could discuss with Gert Jan.**"
   ]
  },
  {
   "cell_type": "code",
   "execution_count": 127,
   "metadata": {},
   "outputs": [],
   "source": [
    "# Create mockup cluster analysis classification as an example\n",
    "interpolation_array = np.random.randint(2, 6, size=interpolated_reverse_clr.shape[0])\n",
    "# Replace NaN values with zero\n",
    "interpolation_array[interpolated_reverse_clr[\"SiO2\"].isnull().values] = 0\n",
    "# Reshape array to grid dimensions\n",
    "interpolation_array = interpolation_array.reshape((grid[1].shape[0], grid[0].shape[0]))\n",
    "\n",
    "# Merged mockup cluster analysis classification of control points with coordinates DataFrame\n",
    "control_points_cluster = pd.merge(coordinates_utm, pd.DataFrame(np.random.randint(2, 6, size=mineralogy_clr.shape[0])), \n",
    "                                  left_index=True, right_index=True)"
   ]
  },
  {
   "cell_type": "code",
   "execution_count": 129,
   "metadata": {},
   "outputs": [],
   "source": [
    "# Probably will need to modify code a bit to match your exact input but basically the input cluster column/array should not contain ones\n",
    "# This is to mark the boundary between the NaN/zero values and true values within the code more distinctly.\n",
    "# So you could have an additional step to your 'interpolation_array' by adding 1 to every value before setting the NaNs to zero."
   ]
  },
  {
   "cell_type": "code",
   "execution_count": 139,
   "metadata": {},
   "outputs": [
    {
     "data": {
      "image/png": "[encoded data removed]",
      "text/plain": [
       "<Figure size 432x288 with 1 Axes>"
      ]
     },
     "metadata": {},
     "output_type": "display_data"
    }
   ],
   "source": [
    "# Function call is very similar to the one for the QAPF maps\n",
    "plots.plot_contour_map_interpolated_cluster(interpolation_array, grid, control_points_cluster, f\"{group_name}\", values_to_plot=range(2, 6),\n",
    "                                         skip_xaxis_label=2, skip_yaxis_label=2, skip_xaxis_start=1, skip_yaxis_start=1, show_qapf_control_points=True, no_legend=False)"
   ]
  },
  {
   "cell_type": "markdown",
   "metadata": {},
   "source": [
    "## Biplots\n",
    "____"
   ]
  },
  {
   "cell_type": "markdown",
   "metadata": {},
   "source": [
    "Not relevant for now"
   ]
  },
  {
   "cell_type": "markdown",
   "metadata": {},
   "source": [
    "## Simulations\n",
    "____"
   ]
  },
  {
   "cell_type": "markdown",
   "metadata": {},
   "source": [
    "Not relevant for now"
   ]
  },
  {
   "cell_type": "markdown",
   "metadata": {},
   "source": [
    "## Error budget\n",
    "____"
   ]
  },
  {
   "cell_type": "code",
   "execution_count": 171,
   "metadata": {},
   "outputs": [],
   "source": [
    "# A = Variance of kriging surface\n",
    "# B = mean squared prediction error (MSPE)\n",
    "# C = Sum of nugget\n",
    "# D = Total variance based on simulation (not yet available)\n",
    "# E = Variance of original data set\n",
    "\n",
    "error_budget = {}\n",
    "\n",
    "for radius in search_radii:\n",
    "    for ncomp in range(1, len(components_to_use) + 1):\n",
    "        A = var_OK[:ncomp].sum()\n",
    "        B = np.mean(np.sum(residuals_clr[f\"{ncomp}_{radius}\"] ** 2, axis=1), axis=0) # MSPE\n",
    "        C = np.array(nugget_)[:ncomp].sum()\n",
    "        D = np.nan\n",
    "        E = mineralogy_clr.var(axis=0).sum()\n",
    "        \n",
    "\n",
    "        error_budget[f\"{ncomp}_{radius}\"] = [A, B, C, D, E]"
   ]
  },
  {
   "cell_type": "code",
   "execution_count": 172,
   "metadata": {},
   "outputs": [
    {
     "data": {
      "text/html": [
       "<div>\n",
       "<style scoped>\n",
       "    .dataframe tbody tr th:only-of-type {\n",
       "        vertical-align: middle;\n",
       "    }\n",
       "\n",
       "    .dataframe tbody tr th {\n",
       "        vertical-align: top;\n",
       "    }\n",
       "\n",
       "    .dataframe thead th {\n",
       "        text-align: right;\n",
       "    }\n",
       "</style>\n",
       "<table border=\"1\" class=\"dataframe\">\n",
       "  <thead>\n",
       "    <tr style=\"text-align: right;\">\n",
       "      <th></th>\n",
       "      <th>search_radius</th>\n",
       "      <th>#PCs</th>\n",
       "      <th>VAR(OK)</th>\n",
       "      <th>MSPE</th>\n",
       "      <th>S_nugget</th>\n",
       "      <th>VAR(TOTAL)</th>\n",
       "      <th>VAR(DATA)</th>\n",
       "    </tr>\n",
       "  </thead>\n",
       "  <tbody>\n",
       "    <tr>\n",
       "      <th>0</th>\n",
       "      <td>52000</td>\n",
       "      <td>1</td>\n",
       "      <td>0.349841</td>\n",
       "      <td>2.495857</td>\n",
       "      <td>0.0</td>\n",
       "      <td>NaN</td>\n",
       "      <td>2.444146</td>\n",
       "    </tr>\n",
       "    <tr>\n",
       "      <th>1</th>\n",
       "      <td>52000</td>\n",
       "      <td>2</td>\n",
       "      <td>0.625532</td>\n",
       "      <td>2.559744</td>\n",
       "      <td>0.0</td>\n",
       "      <td>NaN</td>\n",
       "      <td>2.444146</td>\n",
       "    </tr>\n",
       "    <tr>\n",
       "      <th>2</th>\n",
       "      <td>52000</td>\n",
       "      <td>3</td>\n",
       "      <td>0.742592</td>\n",
       "      <td>2.608687</td>\n",
       "      <td>0.0</td>\n",
       "      <td>NaN</td>\n",
       "      <td>2.444146</td>\n",
       "    </tr>\n",
       "    <tr>\n",
       "      <th>3</th>\n",
       "      <td>52000</td>\n",
       "      <td>4</td>\n",
       "      <td>0.835458</td>\n",
       "      <td>2.683478</td>\n",
       "      <td>0.0</td>\n",
       "      <td>NaN</td>\n",
       "      <td>2.444146</td>\n",
       "    </tr>\n",
       "    <tr>\n",
       "      <th>4</th>\n",
       "      <td>52000</td>\n",
       "      <td>5</td>\n",
       "      <td>0.924041</td>\n",
       "      <td>2.743862</td>\n",
       "      <td>0.0</td>\n",
       "      <td>NaN</td>\n",
       "      <td>2.444146</td>\n",
       "    </tr>\n",
       "    <tr>\n",
       "      <th>5</th>\n",
       "      <td>52000</td>\n",
       "      <td>6</td>\n",
       "      <td>1.044926</td>\n",
       "      <td>2.773685</td>\n",
       "      <td>0.0</td>\n",
       "      <td>NaN</td>\n",
       "      <td>2.444146</td>\n",
       "    </tr>\n",
       "    <tr>\n",
       "      <th>6</th>\n",
       "      <td>52000</td>\n",
       "      <td>7</td>\n",
       "      <td>1.105143</td>\n",
       "      <td>2.788720</td>\n",
       "      <td>0.0</td>\n",
       "      <td>NaN</td>\n",
       "      <td>2.444146</td>\n",
       "    </tr>\n",
       "    <tr>\n",
       "      <th>7</th>\n",
       "      <td>52000</td>\n",
       "      <td>8</td>\n",
       "      <td>1.117624</td>\n",
       "      <td>2.794963</td>\n",
       "      <td>0.0</td>\n",
       "      <td>NaN</td>\n",
       "      <td>2.444146</td>\n",
       "    </tr>\n",
       "    <tr>\n",
       "      <th>8</th>\n",
       "      <td>52000</td>\n",
       "      <td>9</td>\n",
       "      <td>1.122409</td>\n",
       "      <td>2.796807</td>\n",
       "      <td>0.0</td>\n",
       "      <td>NaN</td>\n",
       "      <td>2.444146</td>\n",
       "    </tr>\n",
       "  </tbody>\n",
       "</table>\n",
       "</div>"
      ],
      "text/plain": [
       "   search_radius  #PCs   VAR(OK)      MSPE  S_nugget  VAR(TOTAL)  VAR(DATA)\n",
       "0          52000     1  0.349841  2.495857       0.0         NaN   2.444146\n",
       "1          52000     2  0.625532  2.559744       0.0         NaN   2.444146\n",
       "2          52000     3  0.742592  2.608687       0.0         NaN   2.444146\n",
       "3          52000     4  0.835458  2.683478       0.0         NaN   2.444146\n",
       "4          52000     5  0.924041  2.743862       0.0         NaN   2.444146\n",
       "5          52000     6  1.044926  2.773685       0.0         NaN   2.444146\n",
       "6          52000     7  1.105143  2.788720       0.0         NaN   2.444146\n",
       "7          52000     8  1.117624  2.794963       0.0         NaN   2.444146\n",
       "8          52000     9  1.122409  2.796807       0.0         NaN   2.444146"
      ]
     },
     "execution_count": 172,
     "metadata": {},
     "output_type": "execute_result"
    }
   ],
   "source": [
    "error_budget_df = \\\n",
    "    ttest.convert_summary_test_results_to_df(error_budget, \n",
    "                                             variable_names=[\"VAR(OK)\",\n",
    "                                                             \"MSPE\", \n",
    "                                                             \"S_nugget\", # Sum of nuggets\n",
    "                                                             \"VAR(TOTAL)\",\n",
    "                                                             \"VAR(DATA)\"], \n",
    "                                             order=[\"search_radius\", \n",
    "                                                    \"#PCs\"])\n",
    "error_budget_df"
   ]
  },
  {
   "cell_type": "code",
   "execution_count": 173,
   "metadata": {},
   "outputs": [],
   "source": [
    "error_budget_df.to_excel(f\"../_RESULTS/Error_budget/error_budget_{group_name}.xlsx\")"
   ]
  },
  {
   "cell_type": "markdown",
   "metadata": {},
   "source": [
    "------"
   ]
  },
  {
   "cell_type": "markdown",
   "metadata": {},
   "source": [
    "## variance for each time class"
   ]
  },
  {
   "cell_type": "code",
   "execution_count": 174,
   "metadata": {},
   "outputs": [
    {
     "data": {
      "text/html": [
       "<div>\n",
       "<style scoped>\n",
       "    .dataframe tbody tr th:only-of-type {\n",
       "        vertical-align: middle;\n",
       "    }\n",
       "\n",
       "    .dataframe tbody tr th {\n",
       "        vertical-align: top;\n",
       "    }\n",
       "\n",
       "    .dataframe thead th {\n",
       "        text-align: right;\n",
       "    }\n",
       "</style>\n",
       "<table border=\"1\" class=\"dataframe\">\n",
       "  <thead>\n",
       "    <tr style=\"text-align: right;\">\n",
       "      <th></th>\n",
       "      <th>type_granite</th>\n",
       "      <th>time</th>\n",
       "      <th>massif</th>\n",
       "      <th>sampler</th>\n",
       "      <th>others</th>\n",
       "      <th>sampler+year</th>\n",
       "    </tr>\n",
       "  </thead>\n",
       "  <tbody>\n",
       "    <tr>\n",
       "      <th>35</th>\n",
       "      <td>Granite leucocratic</td>\n",
       "      <td>Tr-J</td>\n",
       "      <td>Upper-Balyagin massif</td>\n",
       "      <td>R.P.Kopnova</td>\n",
       "      <td>NaN</td>\n",
       "      <td>A.K.Izvekov,1968</td>\n",
       "    </tr>\n",
       "    <tr>\n",
       "      <th>36</th>\n",
       "      <td>Granite porphyraceous</td>\n",
       "      <td>Tr-J</td>\n",
       "      <td>Taidut massif</td>\n",
       "      <td>A.I.Fedorova</td>\n",
       "      <td>NaN</td>\n",
       "      <td>V.I.Sizykh,1967</td>\n",
       "    </tr>\n",
       "    <tr>\n",
       "      <th>65</th>\n",
       "      <td>Granite alkaline</td>\n",
       "      <td>Tr-J</td>\n",
       "      <td>Kontalakan-Marektin massif</td>\n",
       "      <td>N.P.Mel'nikova</td>\n",
       "      <td>NaN</td>\n",
       "      <td>V.S.Ivanov,1968</td>\n",
       "    </tr>\n",
       "    <tr>\n",
       "      <th>73</th>\n",
       "      <td>Granite-porphyry</td>\n",
       "      <td>Tr-J</td>\n",
       "      <td>NaN</td>\n",
       "      <td>NaN</td>\n",
       "      <td>NaN</td>\n",
       "      <td>D.V.Trunev,1962</td>\n",
       "    </tr>\n",
       "    <tr>\n",
       "      <th>124</th>\n",
       "      <td>Granite leucocratic</td>\n",
       "      <td>Tr-J</td>\n",
       "      <td>NaN</td>\n",
       "      <td>NaN</td>\n",
       "      <td>NaN</td>\n",
       "      <td>N.P.Mikhno,1966</td>\n",
       "    </tr>\n",
       "    <tr>\n",
       "      <th>...</th>\n",
       "      <td>...</td>\n",
       "      <td>...</td>\n",
       "      <td>...</td>\n",
       "      <td>...</td>\n",
       "      <td>...</td>\n",
       "      <td>...</td>\n",
       "    </tr>\n",
       "    <tr>\n",
       "      <th>3987</th>\n",
       "      <td>Granosyenite porphyraceous</td>\n",
       "      <td>Tr-J</td>\n",
       "      <td>NaN</td>\n",
       "      <td>D.MShuster</td>\n",
       "      <td>NaN</td>\n",
       "      <td>V.P.Kuznetsov,1960</td>\n",
       "    </tr>\n",
       "    <tr>\n",
       "      <th>4014</th>\n",
       "      <td>Bt granosyenite(granite) porphyraceous</td>\n",
       "      <td>Tr-J</td>\n",
       "      <td>NaN</td>\n",
       "      <td>N.A.Lebedeva</td>\n",
       "      <td>NaN</td>\n",
       "      <td>V.S.Ivanov,1968</td>\n",
       "    </tr>\n",
       "    <tr>\n",
       "      <th>4078</th>\n",
       "      <td>Bt granite</td>\n",
       "      <td>Tr-J</td>\n",
       "      <td>NaN</td>\n",
       "      <td>L.A.Izarenko</td>\n",
       "      <td>NaN</td>\n",
       "      <td>E.E.Zelensky,1966</td>\n",
       "    </tr>\n",
       "    <tr>\n",
       "      <th>4220</th>\n",
       "      <td>Granodiorite</td>\n",
       "      <td>Tr-J</td>\n",
       "      <td>NaN</td>\n",
       "      <td>N.A.Lebedeva</td>\n",
       "      <td>NaN</td>\n",
       "      <td>S.P.Smelovsky,1971</td>\n",
       "    </tr>\n",
       "    <tr>\n",
       "      <th>4574</th>\n",
       "      <td>Diorite</td>\n",
       "      <td>Tr-J</td>\n",
       "      <td>NaN</td>\n",
       "      <td>A.IFedorova</td>\n",
       "      <td>NaN</td>\n",
       "      <td>S.P.Smelovsky,1968</td>\n",
       "    </tr>\n",
       "  </tbody>\n",
       "</table>\n",
       "<p>298 rows × 6 columns</p>\n",
       "</div>"
      ],
      "text/plain": [
       "                                type_granite  time  \\\n",
       "35                       Granite leucocratic  Tr-J   \n",
       "36                     Granite porphyraceous  Tr-J   \n",
       "65                          Granite alkaline  Tr-J   \n",
       "73                          Granite-porphyry  Tr-J   \n",
       "124                      Granite leucocratic  Tr-J   \n",
       "...                                      ...   ...   \n",
       "3987              Granosyenite porphyraceous  Tr-J   \n",
       "4014  Bt granosyenite(granite) porphyraceous  Tr-J   \n",
       "4078                              Bt granite  Tr-J   \n",
       "4220                            Granodiorite  Tr-J   \n",
       "4574                                 Diorite  Tr-J   \n",
       "\n",
       "                          massif         sampler others        sampler+year  \n",
       "35         Upper-Balyagin massif     R.P.Kopnova    NaN    A.K.Izvekov,1968  \n",
       "36                 Taidut massif    A.I.Fedorova    NaN     V.I.Sizykh,1967  \n",
       "65    Kontalakan-Marektin massif  N.P.Mel'nikova    NaN     V.S.Ivanov,1968  \n",
       "73                           NaN             NaN    NaN     D.V.Trunev,1962  \n",
       "124                          NaN             NaN    NaN     N.P.Mikhno,1966  \n",
       "...                          ...             ...    ...                 ...  \n",
       "3987                         NaN      D.MShuster    NaN  V.P.Kuznetsov,1960  \n",
       "4014                         NaN    N.A.Lebedeva    NaN     V.S.Ivanov,1968  \n",
       "4078                         NaN    L.A.Izarenko    NaN   E.E.Zelensky,1966  \n",
       "4220                         NaN    N.A.Lebedeva    NaN  S.P.Smelovsky,1971  \n",
       "4574                         NaN     A.IFedorova    NaN  S.P.Smelovsky,1968  \n",
       "\n",
       "[298 rows x 6 columns]"
      ]
     },
     "execution_count": 174,
     "metadata": {},
     "output_type": "execute_result"
    }
   ],
   "source": [
    "metadata"
   ]
  },
  {
   "cell_type": "code",
   "execution_count": 175,
   "metadata": {},
   "outputs": [
    {
     "data": {
      "text/plain": [
       "Tr-J    298\n",
       "Name: time, dtype: int64"
      ]
     },
     "execution_count": 175,
     "metadata": {},
     "output_type": "execute_result"
    }
   ],
   "source": [
    "metadata['time'].value_counts()"
   ]
  },
  {
   "cell_type": "code",
   "execution_count": 176,
   "metadata": {},
   "outputs": [],
   "source": [
    "mineralogy_clr1 = mineralogy_clr.loc[metadata['time'] == 'J']\n",
    "mineralogy_clr2 = mineralogy_clr.loc[metadata['time'] == 'Tr']\n",
    "mineralogy_clr3 = mineralogy_clr.loc[metadata['time'] == 'Tr-J']\n",
    "mineralogy_clr4 = mineralogy_clr.loc[metadata['time'] == 'Mz']\n",
    "mineralogy_clr5 = mineralogy_clr.loc[metadata['time'] == 'K']\n"
   ]
  },
  {
   "cell_type": "code",
   "execution_count": 177,
   "metadata": {},
   "outputs": [
    {
     "name": "stdout",
     "output_type": "stream",
     "text": [
      "variance for subset J is 0.0\n",
      "variance for subset Tr is 0.0\n",
      "variance for subset Tr-J is 2.444145834269307\n",
      "variance for subset Mz is 0.0\n",
      "variance for subset K is 0.0\n"
     ]
    }
   ],
   "source": [
    "print('variance for subset J is' ,  mineralogy_clr1.var(axis=0).sum())\n",
    "print('variance for subset Tr is' ,  mineralogy_clr2.var(axis=0).sum())\n",
    "print('variance for subset Tr-J is' ,  mineralogy_clr3.var(axis=0).sum())\n",
    "print('variance for subset Mz is' ,  mineralogy_clr4.var(axis=0).sum())\n",
    "print('variance for subset K is' ,  mineralogy_clr5.var(axis=0).sum())\n"
   ]
  },
  {
   "cell_type": "markdown",
   "metadata": {},
   "source": [
    "------"
   ]
  },
  {
   "cell_type": "code",
   "execution_count": 178,
   "metadata": {},
   "outputs": [],
   "source": [
    "interpolated_reverse_clr.to_excel(\"../_CIPW/CIPW/AREA1_Tr_J/interpolated_data.xlsx\")"
   ]
  },
  {
   "cell_type": "code",
   "execution_count": 179,
   "metadata": {},
   "outputs": [
    {
     "data": {
      "text/html": [
       "<div>\n",
       "<style scoped>\n",
       "    .dataframe tbody tr th:only-of-type {\n",
       "        vertical-align: middle;\n",
       "    }\n",
       "\n",
       "    .dataframe tbody tr th {\n",
       "        vertical-align: top;\n",
       "    }\n",
       "\n",
       "    .dataframe thead th {\n",
       "        text-align: right;\n",
       "    }\n",
       "</style>\n",
       "<table border=\"1\" class=\"dataframe\">\n",
       "  <thead>\n",
       "    <tr style=\"text-align: right;\">\n",
       "      <th></th>\n",
       "      <th>SiO2</th>\n",
       "      <th>TiO2</th>\n",
       "      <th>Al2O3</th>\n",
       "      <th>Fe2O3</th>\n",
       "      <th>FeO</th>\n",
       "      <th>MnO</th>\n",
       "      <th>MgO</th>\n",
       "      <th>CaO</th>\n",
       "      <th>Na2O</th>\n",
       "      <th>K2O</th>\n",
       "      <th>oth</th>\n",
       "    </tr>\n",
       "  </thead>\n",
       "  <tbody>\n",
       "    <tr>\n",
       "      <th>0</th>\n",
       "      <td>NaN</td>\n",
       "      <td>NaN</td>\n",
       "      <td>NaN</td>\n",
       "      <td>NaN</td>\n",
       "      <td>NaN</td>\n",
       "      <td>NaN</td>\n",
       "      <td>NaN</td>\n",
       "      <td>NaN</td>\n",
       "      <td>NaN</td>\n",
       "      <td>NaN</td>\n",
       "      <td>NaN</td>\n",
       "    </tr>\n",
       "    <tr>\n",
       "      <th>1</th>\n",
       "      <td>NaN</td>\n",
       "      <td>NaN</td>\n",
       "      <td>NaN</td>\n",
       "      <td>NaN</td>\n",
       "      <td>NaN</td>\n",
       "      <td>NaN</td>\n",
       "      <td>NaN</td>\n",
       "      <td>NaN</td>\n",
       "      <td>NaN</td>\n",
       "      <td>NaN</td>\n",
       "      <td>NaN</td>\n",
       "    </tr>\n",
       "    <tr>\n",
       "      <th>2</th>\n",
       "      <td>NaN</td>\n",
       "      <td>NaN</td>\n",
       "      <td>NaN</td>\n",
       "      <td>NaN</td>\n",
       "      <td>NaN</td>\n",
       "      <td>NaN</td>\n",
       "      <td>NaN</td>\n",
       "      <td>NaN</td>\n",
       "      <td>NaN</td>\n",
       "      <td>NaN</td>\n",
       "      <td>NaN</td>\n",
       "    </tr>\n",
       "    <tr>\n",
       "      <th>3</th>\n",
       "      <td>NaN</td>\n",
       "      <td>NaN</td>\n",
       "      <td>NaN</td>\n",
       "      <td>NaN</td>\n",
       "      <td>NaN</td>\n",
       "      <td>NaN</td>\n",
       "      <td>NaN</td>\n",
       "      <td>NaN</td>\n",
       "      <td>NaN</td>\n",
       "      <td>NaN</td>\n",
       "      <td>NaN</td>\n",
       "    </tr>\n",
       "    <tr>\n",
       "      <th>4</th>\n",
       "      <td>NaN</td>\n",
       "      <td>NaN</td>\n",
       "      <td>NaN</td>\n",
       "      <td>NaN</td>\n",
       "      <td>NaN</td>\n",
       "      <td>NaN</td>\n",
       "      <td>NaN</td>\n",
       "      <td>NaN</td>\n",
       "      <td>NaN</td>\n",
       "      <td>NaN</td>\n",
       "      <td>NaN</td>\n",
       "    </tr>\n",
       "    <tr>\n",
       "      <th>...</th>\n",
       "      <td>...</td>\n",
       "      <td>...</td>\n",
       "      <td>...</td>\n",
       "      <td>...</td>\n",
       "      <td>...</td>\n",
       "      <td>...</td>\n",
       "      <td>...</td>\n",
       "      <td>...</td>\n",
       "      <td>...</td>\n",
       "      <td>...</td>\n",
       "      <td>...</td>\n",
       "    </tr>\n",
       "    <tr>\n",
       "      <th>222789</th>\n",
       "      <td>NaN</td>\n",
       "      <td>NaN</td>\n",
       "      <td>NaN</td>\n",
       "      <td>NaN</td>\n",
       "      <td>NaN</td>\n",
       "      <td>NaN</td>\n",
       "      <td>NaN</td>\n",
       "      <td>NaN</td>\n",
       "      <td>NaN</td>\n",
       "      <td>NaN</td>\n",
       "      <td>NaN</td>\n",
       "    </tr>\n",
       "    <tr>\n",
       "      <th>222790</th>\n",
       "      <td>NaN</td>\n",
       "      <td>NaN</td>\n",
       "      <td>NaN</td>\n",
       "      <td>NaN</td>\n",
       "      <td>NaN</td>\n",
       "      <td>NaN</td>\n",
       "      <td>NaN</td>\n",
       "      <td>NaN</td>\n",
       "      <td>NaN</td>\n",
       "      <td>NaN</td>\n",
       "      <td>NaN</td>\n",
       "    </tr>\n",
       "    <tr>\n",
       "      <th>222791</th>\n",
       "      <td>NaN</td>\n",
       "      <td>NaN</td>\n",
       "      <td>NaN</td>\n",
       "      <td>NaN</td>\n",
       "      <td>NaN</td>\n",
       "      <td>NaN</td>\n",
       "      <td>NaN</td>\n",
       "      <td>NaN</td>\n",
       "      <td>NaN</td>\n",
       "      <td>NaN</td>\n",
       "      <td>NaN</td>\n",
       "    </tr>\n",
       "    <tr>\n",
       "      <th>222792</th>\n",
       "      <td>NaN</td>\n",
       "      <td>NaN</td>\n",
       "      <td>NaN</td>\n",
       "      <td>NaN</td>\n",
       "      <td>NaN</td>\n",
       "      <td>NaN</td>\n",
       "      <td>NaN</td>\n",
       "      <td>NaN</td>\n",
       "      <td>NaN</td>\n",
       "      <td>NaN</td>\n",
       "      <td>NaN</td>\n",
       "    </tr>\n",
       "    <tr>\n",
       "      <th>222793</th>\n",
       "      <td>NaN</td>\n",
       "      <td>NaN</td>\n",
       "      <td>NaN</td>\n",
       "      <td>NaN</td>\n",
       "      <td>NaN</td>\n",
       "      <td>NaN</td>\n",
       "      <td>NaN</td>\n",
       "      <td>NaN</td>\n",
       "      <td>NaN</td>\n",
       "      <td>NaN</td>\n",
       "      <td>NaN</td>\n",
       "    </tr>\n",
       "  </tbody>\n",
       "</table>\n",
       "<p>222794 rows × 11 columns</p>\n",
       "</div>"
      ],
      "text/plain": [
       "        SiO2  TiO2  Al2O3  Fe2O3  FeO  MnO  MgO  CaO  Na2O  K2O  oth\n",
       "0        NaN   NaN    NaN    NaN  NaN  NaN  NaN  NaN   NaN  NaN  NaN\n",
       "1        NaN   NaN    NaN    NaN  NaN  NaN  NaN  NaN   NaN  NaN  NaN\n",
       "2        NaN   NaN    NaN    NaN  NaN  NaN  NaN  NaN   NaN  NaN  NaN\n",
       "3        NaN   NaN    NaN    NaN  NaN  NaN  NaN  NaN   NaN  NaN  NaN\n",
       "4        NaN   NaN    NaN    NaN  NaN  NaN  NaN  NaN   NaN  NaN  NaN\n",
       "...      ...   ...    ...    ...  ...  ...  ...  ...   ...  ...  ...\n",
       "222789   NaN   NaN    NaN    NaN  NaN  NaN  NaN  NaN   NaN  NaN  NaN\n",
       "222790   NaN   NaN    NaN    NaN  NaN  NaN  NaN  NaN   NaN  NaN  NaN\n",
       "222791   NaN   NaN    NaN    NaN  NaN  NaN  NaN  NaN   NaN  NaN  NaN\n",
       "222792   NaN   NaN    NaN    NaN  NaN  NaN  NaN  NaN   NaN  NaN  NaN\n",
       "222793   NaN   NaN    NaN    NaN  NaN  NaN  NaN  NaN   NaN  NaN  NaN\n",
       "\n",
       "[222794 rows x 11 columns]"
      ]
     },
     "execution_count": 179,
     "metadata": {},
     "output_type": "execute_result"
    }
   ],
   "source": [
    "interpolated_reverse_clr"
   ]
  },
  {
   "cell_type": "code",
   "execution_count": null,
   "metadata": {},
   "outputs": [],
   "source": []
  }
 ],
 "metadata": {
  "kernelspec": {
   "display_name": "Python 3",
   "language": "python",
   "name": "python3"
  },
  "language_info": {
   "codemirror_mode": {
    "name": "ipython",
    "version": 3
   },
   "file_extension": ".py",
   "mimetype": "text/x-python",
   "name": "python",
   "nbconvert_exporter": "python",
   "pygments_lexer": "ipython3",
   "version": "3.7.3"
  },
  "toc-autonumbering": true,
  "toc-showtags": false
 },
 "nbformat": 4,
 "nbformat_minor": 4
}
