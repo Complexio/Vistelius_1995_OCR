{
 "cells": [
  {
   "cell_type": "markdown",
   "metadata": {},
   "source": [
    "# 3. Cluster analysis"
   ]
  },
  {
   "cell_type": "markdown",
   "metadata": {},
   "source": [
    "# Import code"
   ]
  },
  {
   "cell_type": "code",
   "execution_count": 14,
   "metadata": {
    "execution": {
     "iopub.execute_input": "2020-06-17T07:23:53.136376Z",
     "iopub.status.busy": "2020-06-17T07:23:53.136376Z",
     "iopub.status.idle": "2020-06-17T07:24:02.866238Z",
     "shell.execute_reply": "2020-06-17T07:24:02.865236Z",
     "shell.execute_reply.started": "2020-06-17T07:23:53.136376Z"
    }
   },
   "outputs": [],
   "source": [
    "import numpy as np\n",
    "import pandas as pd\n",
    "\n",
    "import matplotlib.pyplot as plt\n",
    "import seaborn as sns\n",
    "\n",
    "from scipy.cluster.hierarchy import dendrogram, linkage\n",
    "from scipy.cluster.hierarchy import cophenet\n",
    "from scipy.spatial.distance import pdist\n",
    "\n",
    "from sklearn.cluster import AgglomerativeClustering"
   ]
  },
  {
   "cell_type": "code",
   "execution_count": 15,
   "metadata": {
    "execution": {
     "iopub.execute_input": "2020-06-17T07:24:02.868241Z",
     "iopub.status.busy": "2020-06-17T07:24:02.868241Z",
     "iopub.status.idle": "2020-06-17T07:24:03.149241Z",
     "shell.execute_reply": "2020-06-17T07:24:03.148240Z",
     "shell.execute_reply.started": "2020-06-17T07:24:02.868241Z"
    }
   },
   "outputs": [],
   "source": [
    "import prepostprocessing.pre_processing as preproc"
   ]
  },
  {
   "cell_type": "code",
   "execution_count": 16,
   "metadata": {
    "execution": {
     "iopub.execute_input": "2020-06-17T07:24:04.772239Z",
     "iopub.status.busy": "2020-06-17T07:24:04.771243Z",
     "iopub.status.idle": "2020-06-17T07:24:05.621246Z",
     "shell.execute_reply": "2020-06-17T07:24:05.621246Z",
     "shell.execute_reply.started": "2020-06-17T07:24:04.772239Z"
    }
   },
   "outputs": [],
   "source": [
    "area1_int_df = preproc.load_obj(\"area1_int_df\")\n",
    "\n",
    "area2_int_df = preproc.load_obj(\"area2_int_df\")\n",
    "\n",
    "area3_int_df = preproc.load_obj(\"area3_int_df\")\n",
    "\n",
    "area4_int_df = preproc.load_obj(\"area4_int_df\")\n",
    "\n",
    "area5_int_df = preproc.load_obj(\"area5_int_df\")\n",
    "\n",
    "combined_int_df = preproc.load_obj(\"combined_int_df\")\n",
    "\n",
    "Fe_combined_pca_df = preproc.load_obj(\"Fe_combined_pca_df\")\n",
    "\n",
    "MALI_combined_pca_df = preproc.load_obj(\"MALI_combined_pca_df\")\n",
    "\n",
    "\n",
    "pca_df = preproc.load_obj(\"mineralogy_pca_df1\")\n",
    "metadata = preproc.load_obj(\"metadata\")\n"
   ]
  },
  {
   "cell_type": "markdown",
   "metadata": {},
   "source": [
    "# Idividual areas"
   ]
  },
  {
   "cell_type": "markdown",
   "metadata": {},
   "source": [
    "## Area1"
   ]
  },
  {
   "cell_type": "raw",
   "metadata": {
    "execution": {
     "iopub.execute_input": "2020-06-17T07:24:08.707240Z",
     "iopub.status.busy": "2020-06-17T07:24:08.706238Z",
     "iopub.status.idle": "2020-06-17T07:24:11.217242Z",
     "shell.execute_reply": "2020-06-17T07:24:11.216236Z",
     "shell.execute_reply.started": "2020-06-17T07:24:08.707240Z"
    }
   },
   "source": [
    "area_numbers = pd.read_excel(\"../_INTERPOLATION/area_subdivided.xlsx\", index_col=0, usecols=[0, 24, 29])\n",
    "#area_numbers = pd.read_excel(\"../_INTERPOLATION/area1.xlsx\", index_col=None, usecols=[0, 24, 29])"
   ]
  },
  {
   "cell_type": "code",
   "execution_count": 5,
   "metadata": {
    "execution": {
     "iopub.execute_input": "2020-06-17T07:24:11.219238Z",
     "iopub.status.busy": "2020-06-17T07:24:11.218237Z",
     "iopub.status.idle": "2020-06-17T07:24:11.225242Z",
     "shell.execute_reply": "2020-06-17T07:24:11.224242Z",
     "shell.execute_reply.started": "2020-06-17T07:24:11.219238Z"
    }
   },
   "outputs": [],
   "source": [
    "area1_int_df = area1_int_df.iloc[:, 0:2]"
   ]
  },
  {
   "cell_type": "code",
   "execution_count": 6,
   "metadata": {
    "execution": {
     "iopub.execute_input": "2020-06-17T07:24:11.766241Z",
     "iopub.status.busy": "2020-06-17T07:24:11.766241Z",
     "iopub.status.idle": "2020-06-17T07:24:11.838241Z",
     "shell.execute_reply": "2020-06-17T07:24:11.837242Z",
     "shell.execute_reply.started": "2020-06-17T07:24:11.766241Z"
    }
   },
   "outputs": [
    {
     "data": {
      "text/html": [
       "<div>\n",
       "<style scoped>\n",
       "    .dataframe tbody tr th:only-of-type {\n",
       "        vertical-align: middle;\n",
       "    }\n",
       "\n",
       "    .dataframe tbody tr th {\n",
       "        vertical-align: top;\n",
       "    }\n",
       "\n",
       "    .dataframe thead th {\n",
       "        text-align: right;\n",
       "    }\n",
       "</style>\n",
       "<table border=\"1\" class=\"dataframe\">\n",
       "  <thead>\n",
       "    <tr style=\"text-align: right;\">\n",
       "      <th></th>\n",
       "      <th>PC01</th>\n",
       "      <th>PC02</th>\n",
       "    </tr>\n",
       "  </thead>\n",
       "  <tbody>\n",
       "    <tr>\n",
       "      <th>2809</th>\n",
       "      <td>-0.871616</td>\n",
       "      <td>-0.061954</td>\n",
       "    </tr>\n",
       "    <tr>\n",
       "      <th>2810</th>\n",
       "      <td>-0.867083</td>\n",
       "      <td>-0.061057</td>\n",
       "    </tr>\n",
       "    <tr>\n",
       "      <th>2811</th>\n",
       "      <td>-0.863637</td>\n",
       "      <td>-0.060284</td>\n",
       "    </tr>\n",
       "    <tr>\n",
       "      <th>2812</th>\n",
       "      <td>-0.881656</td>\n",
       "      <td>-0.001032</td>\n",
       "    </tr>\n",
       "    <tr>\n",
       "      <th>2813</th>\n",
       "      <td>-0.881230</td>\n",
       "      <td>-0.000526</td>\n",
       "    </tr>\n",
       "    <tr>\n",
       "      <th>...</th>\n",
       "      <td>...</td>\n",
       "      <td>...</td>\n",
       "    </tr>\n",
       "    <tr>\n",
       "      <th>205097</th>\n",
       "      <td>-0.049269</td>\n",
       "      <td>-0.211667</td>\n",
       "    </tr>\n",
       "    <tr>\n",
       "      <th>205541</th>\n",
       "      <td>-0.047306</td>\n",
       "      <td>-0.221904</td>\n",
       "    </tr>\n",
       "    <tr>\n",
       "      <th>205542</th>\n",
       "      <td>-0.047587</td>\n",
       "      <td>-0.220724</td>\n",
       "    </tr>\n",
       "    <tr>\n",
       "      <th>205543</th>\n",
       "      <td>-0.047827</td>\n",
       "      <td>-0.219399</td>\n",
       "    </tr>\n",
       "    <tr>\n",
       "      <th>205544</th>\n",
       "      <td>-0.048026</td>\n",
       "      <td>-0.217989</td>\n",
       "    </tr>\n",
       "  </tbody>\n",
       "</table>\n",
       "<p>55413 rows × 2 columns</p>\n",
       "</div>"
      ],
      "text/plain": [
       "            PC01      PC02\n",
       "2809   -0.871616 -0.061954\n",
       "2810   -0.867083 -0.061057\n",
       "2811   -0.863637 -0.060284\n",
       "2812   -0.881656 -0.001032\n",
       "2813   -0.881230 -0.000526\n",
       "...          ...       ...\n",
       "205097 -0.049269 -0.211667\n",
       "205541 -0.047306 -0.221904\n",
       "205542 -0.047587 -0.220724\n",
       "205543 -0.047827 -0.219399\n",
       "205544 -0.048026 -0.217989\n",
       "\n",
       "[55413 rows x 2 columns]"
      ]
     },
     "execution_count": 6,
     "metadata": {},
     "output_type": "execute_result"
    }
   ],
   "source": [
    "area1_int_df"
   ]
  },
  {
   "cell_type": "code",
   "execution_count": 7,
   "metadata": {
    "execution": {
     "iopub.execute_input": "2020-06-17T07:24:17.452169Z",
     "iopub.status.busy": "2020-06-17T07:24:17.451169Z",
     "iopub.status.idle": "2020-06-17T07:24:18.347167Z",
     "shell.execute_reply": "2020-06-17T07:24:18.312169Z",
     "shell.execute_reply.started": "2020-06-17T07:24:17.451169Z"
    }
   },
   "outputs": [
    {
     "data": {
      "image/png": "[encoded data removed]",
      "text/plain": [
       "<Figure size 432x288 with 1 Axes>"
      ]
     },
     "metadata": {
      "needs_background": "light"
     },
     "output_type": "display_data"
    }
   ],
   "source": [
    "sns.scatterplot(x=\"PC01\", y=\"PC02\", data=area1_int_df)\n",
    "plt.show();"
   ]
  },
  {
   "cell_type": "raw",
   "metadata": {
    "execution": {
     "iopub.execute_input": "2020-06-04T08:27:45.490249Z",
     "iopub.status.busy": "2020-06-04T08:27:45.490249Z",
     "iopub.status.idle": "2020-06-04T08:27:45.497252Z",
     "shell.execute_reply": "2020-06-04T08:27:45.496254Z",
     "shell.execute_reply.started": "2020-06-04T08:27:45.490249Z"
    }
   },
   "source": [
    "def create_dendrogram(data, linkage_method='ward', save=\"\"):\n",
    "    \"\"\"Plot dendrogram\n",
    "    \n",
    "    Parameters:\n",
    "    -----------\n",
    "    data : array or DataFrame\n",
    "        Data to be clustered\n",
    "    linkage_method : str (optional)\n",
    "        Method to use to construct the linkage matrix\n",
    "        Choose between ['single', 'complete', 'average',\n",
    "        'weighted', 'centroid', 'median', 'ward']\n",
    "        For detailed information see \n",
    "        https://docs.scipy.org/doc/scipy-0.14.0/reference/ \\\n",
    "        generated/scipy.cluster.hierarchy.linkage.html\n",
    "    save : str (optional)\n",
    "        Name to use for figure file when saving\n",
    "    \"\"\"\n",
    "    \n",
    "    linkage_matrix = linkage(data, linkage_method)\n",
    "    c, coph_dists = cophenet(linkage_matrix, pdist(data))\n",
    "    print(\"Cophenetic correlation coefficient:\", c)\n",
    "    \n",
    "    plt.figure(figsize=(25, 10))\n",
    "    dendrogram(linkage_matrix, labels=data.index)\n",
    "    if save != \"\":\n",
    "        plt.savefig(f\"../_FIGURES/{save}.pdf\")\n",
    "    plt.show()"
   ]
  },
  {
   "cell_type": "raw",
   "metadata": {
    "execution": {
     "iopub.execute_input": "2020-06-04T08:27:47.270390Z",
     "iopub.status.busy": "2020-06-04T08:27:47.269389Z",
     "iopub.status.idle": "2020-06-04T08:29:21.880692Z",
     "shell.execute_reply": "2020-06-04T08:29:21.879676Z",
     "shell.execute_reply.started": "2020-06-04T08:27:47.270390Z"
    }
   },
   "source": [
    "%%time\n",
    "create_dendrogram(area1_int_df, linkage_method='ward')"
   ]
  },
  {
   "cell_type": "code",
   "execution_count": 8,
   "metadata": {
    "execution": {
     "iopub.execute_input": "2020-06-17T07:26:02.699831Z",
     "iopub.status.busy": "2020-06-17T07:26:02.698830Z",
     "iopub.status.idle": "2020-06-17T07:26:02.705830Z",
     "shell.execute_reply": "2020-06-17T07:26:02.704831Z",
     "shell.execute_reply.started": "2020-06-17T07:26:02.699831Z"
    }
   },
   "outputs": [
    {
     "name": "stdout",
     "output_type": "stream",
     "text": [
      "Wall time: 0 ns\n"
     ]
    }
   ],
   "source": [
    "X = area1_int_df.values\n",
    "\n",
    "cluster = AgglomerativeClustering(n_clusters=2, affinity='euclidean', linkage='ward')"
   ]
  },
  {
   "cell_type": "code",
   "execution_count": 9,
   "metadata": {
    "execution": {
     "iopub.execute_input": "2020-06-17T07:26:13.915828Z",
     "iopub.status.busy": "2020-06-17T07:26:13.915828Z",
     "iopub.status.idle": "2020-06-17T07:29:57.244226Z",
     "shell.execute_reply": "2020-06-17T07:29:57.242228Z",
     "shell.execute_reply.started": "2020-06-17T07:26:13.915828Z"
    }
   },
   "outputs": [
    {
     "name": "stdout",
     "output_type": "stream",
     "text": [
      "Wall time: 3min 43s\n"
     ]
    },
    {
     "data": {
      "text/plain": [
       "array([1, 1, 1, ..., 1, 1, 1], dtype=int64)"
      ]
     },
     "execution_count": 9,
     "metadata": {},
     "output_type": "execute_result"
    }
   ],
   "source": [
    "%%time\n",
    "cluster.fit_predict(X)"
   ]
  },
  {
   "cell_type": "code",
   "execution_count": 11,
   "metadata": {
    "execution": {
     "iopub.execute_input": "2020-06-17T07:33:35.015507Z",
     "iopub.status.busy": "2020-06-17T07:33:35.014506Z",
     "iopub.status.idle": "2020-06-17T07:33:42.967507Z",
     "shell.execute_reply": "2020-06-17T07:33:42.966505Z",
     "shell.execute_reply.started": "2020-06-17T07:33:35.015507Z"
    }
   },
   "outputs": [
    {
     "data": {
      "image/png": "[encoded data removed]",
      "text/plain": [
       "<Figure size 432x288 with 1 Axes>"
      ]
     },
     "metadata": {
      "needs_background": "light"
     },
     "output_type": "display_data"
    }
   ],
   "source": [
    "plt.scatter(X[:,0], X[:,1], c=cluster.labels_, cmap='rainbow', s=10)\n",
    "plt.savefig(\"../_FIGURES/clustering/Area1_agglomerative_clustering.pdf\")\n",
    "plt.show();"
   ]
  },
  {
   "cell_type": "code",
   "execution_count": 12,
   "metadata": {
    "execution": {
     "iopub.execute_input": "2020-06-17T07:34:43.319599Z",
     "iopub.status.busy": "2020-06-17T07:34:43.319599Z",
     "iopub.status.idle": "2020-06-17T07:34:43.340599Z",
     "shell.execute_reply": "2020-06-17T07:34:43.339608Z",
     "shell.execute_reply.started": "2020-06-17T07:34:43.319599Z"
    }
   },
   "outputs": [],
   "source": [
    "# You can call the 'labels_' attribute of 'cluster' here instead of \n",
    "# performing the 'fit_transform' operation again.\n",
    "cluster_groups= pd.DataFrame(data=cluster.labels_)"
   ]
  },
  {
   "cell_type": "code",
   "execution_count": 13,
   "metadata": {
    "execution": {
     "iopub.execute_input": "2020-06-17T07:34:45.085597Z",
     "iopub.status.busy": "2020-06-17T07:34:45.085597Z",
     "iopub.status.idle": "2020-06-17T07:34:45.112597Z",
     "shell.execute_reply": "2020-06-17T07:34:45.111599Z",
     "shell.execute_reply.started": "2020-06-17T07:34:45.085597Z"
    }
   },
   "outputs": [
    {
     "data": {
      "text/html": [
       "<div>\n",
       "<style scoped>\n",
       "    .dataframe tbody tr th:only-of-type {\n",
       "        vertical-align: middle;\n",
       "    }\n",
       "\n",
       "    .dataframe tbody tr th {\n",
       "        vertical-align: top;\n",
       "    }\n",
       "\n",
       "    .dataframe thead th {\n",
       "        text-align: right;\n",
       "    }\n",
       "</style>\n",
       "<table border=\"1\" class=\"dataframe\">\n",
       "  <thead>\n",
       "    <tr style=\"text-align: right;\">\n",
       "      <th></th>\n",
       "      <th>0</th>\n",
       "    </tr>\n",
       "  </thead>\n",
       "  <tbody>\n",
       "    <tr>\n",
       "      <th>0</th>\n",
       "      <td>1</td>\n",
       "    </tr>\n",
       "    <tr>\n",
       "      <th>1</th>\n",
       "      <td>1</td>\n",
       "    </tr>\n",
       "    <tr>\n",
       "      <th>2</th>\n",
       "      <td>1</td>\n",
       "    </tr>\n",
       "    <tr>\n",
       "      <th>3</th>\n",
       "      <td>1</td>\n",
       "    </tr>\n",
       "    <tr>\n",
       "      <th>4</th>\n",
       "      <td>1</td>\n",
       "    </tr>\n",
       "    <tr>\n",
       "      <th>...</th>\n",
       "      <td>...</td>\n",
       "    </tr>\n",
       "    <tr>\n",
       "      <th>55408</th>\n",
       "      <td>1</td>\n",
       "    </tr>\n",
       "    <tr>\n",
       "      <th>55409</th>\n",
       "      <td>1</td>\n",
       "    </tr>\n",
       "    <tr>\n",
       "      <th>55410</th>\n",
       "      <td>1</td>\n",
       "    </tr>\n",
       "    <tr>\n",
       "      <th>55411</th>\n",
       "      <td>1</td>\n",
       "    </tr>\n",
       "    <tr>\n",
       "      <th>55412</th>\n",
       "      <td>1</td>\n",
       "    </tr>\n",
       "  </tbody>\n",
       "</table>\n",
       "<p>55413 rows × 1 columns</p>\n",
       "</div>"
      ],
      "text/plain": [
       "       0\n",
       "0      1\n",
       "1      1\n",
       "2      1\n",
       "3      1\n",
       "4      1\n",
       "...   ..\n",
       "55408  1\n",
       "55409  1\n",
       "55410  1\n",
       "55411  1\n",
       "55412  1\n",
       "\n",
       "[55413 rows x 1 columns]"
      ]
     },
     "execution_count": 13,
     "metadata": {},
     "output_type": "execute_result"
    }
   ],
   "source": [
    "cluster_groups"
   ]
  },
  {
   "cell_type": "code",
   "execution_count": 17,
   "metadata": {
    "execution": {
     "iopub.execute_input": "2020-06-17T07:38:48.894722Z",
     "iopub.status.busy": "2020-06-17T07:38:48.893720Z",
     "iopub.status.idle": "2020-06-17T07:38:52.709720Z",
     "shell.execute_reply": "2020-06-17T07:38:52.708720Z",
     "shell.execute_reply.started": "2020-06-17T07:38:48.894722Z"
    }
   },
   "outputs": [],
   "source": [
    "cluster_groups.to_excel(\"../_CLUSTER/groups_time_area/interpolation/Area1/cluster_control_points.xlsx\", index=True)"
   ]
  },
  {
   "cell_type": "code",
   "execution_count": 18,
   "metadata": {
    "execution": {
     "iopub.execute_input": "2020-06-17T07:38:54.113719Z",
     "iopub.status.busy": "2020-06-17T07:38:54.112725Z",
     "iopub.status.idle": "2020-06-17T07:38:54.192723Z",
     "shell.execute_reply": "2020-06-17T07:38:54.191722Z",
     "shell.execute_reply.started": "2020-06-17T07:38:54.113719Z"
    }
   },
   "outputs": [],
   "source": [
    "cluster_groups.iloc[:, 0].value_counts().to_excel(\"../_CLUSTER/groups_time_area/interpolation/Area1/control_points_count.xlsx\")"
   ]
  },
  {
   "cell_type": "raw",
   "metadata": {
    "execution": {
     "iopub.execute_input": "2020-06-17T07:35:28.941411Z",
     "iopub.status.busy": "2020-06-17T07:35:28.940414Z",
     "iopub.status.idle": "2020-06-17T07:35:31.109412Z",
     "shell.execute_reply": "2020-06-17T07:35:31.108429Z",
     "shell.execute_reply.started": "2020-06-17T07:35:28.941411Z"
    }
   },
   "source": [
    "area_numbers = pd.read_excel(\"../_INTERPOLATION/area_subdivided.xlsx\", index_col=0, usecols=[0, 24, 29])\n",
    "#area_numbers = pd.read_excel(\"../_INTERPOLATION/area1.xlsx\", index_col=None, usecols=[0, 24, 29])"
   ]
  },
  {
   "cell_type": "raw",
   "metadata": {
    "execution": {
     "iopub.execute_input": "2020-06-17T07:35:32.051414Z",
     "iopub.status.busy": "2020-06-17T07:35:32.051414Z",
     "iopub.status.idle": "2020-06-17T07:35:32.085414Z",
     "shell.execute_reply": "2020-06-17T07:35:32.084414Z",
     "shell.execute_reply.started": "2020-06-17T07:35:32.051414Z"
    }
   },
   "source": [
    "clustering = pd.concat([area_numbers, cluster_groups], axis = 1)\n",
    "clustering = clustering.dropna()"
   ]
  },
  {
   "cell_type": "raw",
   "metadata": {},
   "source": [
    "clustering = clustering.rename(columns={ clustering.columns[0]: \"index\" })\n",
    "clustering = clustering.set_index('index')"
   ]
  },
  {
   "cell_type": "raw",
   "metadata": {
    "execution": {
     "iopub.execute_input": "2020-06-17T07:35:37.170354Z",
     "iopub.status.busy": "2020-06-17T07:35:37.170354Z",
     "iopub.status.idle": "2020-06-17T07:35:37.193353Z",
     "shell.execute_reply": "2020-06-17T07:35:37.192353Z",
     "shell.execute_reply.started": "2020-06-17T07:35:37.170354Z"
    }
   },
   "source": [
    "clustering"
   ]
  },
  {
   "cell_type": "raw",
   "metadata": {
    "execution": {
     "iopub.execute_input": "2020-06-17T07:38:48.894722Z",
     "iopub.status.busy": "2020-06-17T07:38:48.893720Z",
     "iopub.status.idle": "2020-06-17T07:38:52.709720Z",
     "shell.execute_reply": "2020-06-17T07:38:52.708720Z",
     "shell.execute_reply.started": "2020-06-17T07:38:48.894722Z"
    }
   },
   "source": [
    "clustering.to_excel(\"../_CLUSTER/groups_time_area/interpolation/Area1/cluster_control_points.xlsx\", index=True)"
   ]
  },
  {
   "cell_type": "raw",
   "metadata": {},
   "source": [
    "clustering"
   ]
  },
  {
   "cell_type": "raw",
   "metadata": {
    "execution": {
     "iopub.execute_input": "2020-06-17T07:38:54.113719Z",
     "iopub.status.busy": "2020-06-17T07:38:54.112725Z",
     "iopub.status.idle": "2020-06-17T07:38:54.192723Z",
     "shell.execute_reply": "2020-06-17T07:38:54.191722Z",
     "shell.execute_reply.started": "2020-06-17T07:38:54.113719Z"
    }
   },
   "source": [
    "clustering.iloc[:, 0].value_counts().to_excel(\"../_CLUSTER/groups_time_area/interpolation/Area1/control_points_count.xlsx\")"
   ]
  },
  {
   "cell_type": "raw",
   "metadata": {},
   "source": [
    "-----"
   ]
  },
  {
   "cell_type": "raw",
   "metadata": {},
   "source": [
    "clustering1 = clustering"
   ]
  },
  {
   "cell_type": "raw",
   "metadata": {},
   "source": [
    "clustering1_J = clustering1.loc[clustering1['time'] == 'J']\n",
    "clustering1_Tr = clustering1.loc[clustering1['time'] == 'Tr']\n",
    "clustering1_Tr_J = clustering1.loc[clustering1['time'] == 'Tr-J']\n",
    "clustering1_Mz = clustering1.loc[clustering1['time'] == 'Mz']\n",
    "clustering1_K = clustering1.loc[clustering1['time'] == 'K']\n",
    "\n",
    "clustering1_J.iloc[:, 2].value_counts().to_excel(\"../_CLUSTER/groups_time_area/interpolation/Area1/groups_counts_area1_J.xlsx\")\n",
    "clustering1_Tr.iloc[:, 2].value_counts().to_excel(\"../_CLUSTER/groups_time_area/interpolation/Area1/groups_counts_area1_Tr.xlsx\")\n",
    "clustering1_Tr_J.iloc[:, 2].value_counts().to_excel(\"../_CLUSTER/groups_time_area/interpolation/Area1/groups_counts_area1_Tr_J.xlsx\")\n",
    "clustering1_Mz.iloc[:, 2].value_counts().to_excel(\"../_CLUSTER/groups_time_area/interpolation/Area1/groups_counts_area1_Mz.xlsx\")\n",
    "clustering1_K.iloc[:, 2].value_counts().to_excel(\"../_CLUSTER/groups_time_area/interpolation/Area1/groups_counts_area1_K.xlsx\")"
   ]
  },
  {
   "cell_type": "markdown",
   "metadata": {},
   "source": [
    "----"
   ]
  },
  {
   "cell_type": "markdown",
   "metadata": {},
   "source": [
    "## Area2\n"
   ]
  },
  {
   "cell_type": "raw",
   "metadata": {},
   "source": [
    "area_numbers = pd.read_excel(\"../_INTERPOLATION/area_subdivided.xlsx\", index_col=0, usecols=[0, 24, 29])\n",
    "#area_numbers = pd.read_excel(\"../_INTERPOLATION/area1.xlsx\", index_col=None, usecols=[0, 24, 29])"
   ]
  },
  {
   "cell_type": "code",
   "execution_count": 19,
   "metadata": {
    "execution": {
     "iopub.execute_input": "2020-06-17T07:42:26.385682Z",
     "iopub.status.busy": "2020-06-17T07:42:26.384682Z",
     "iopub.status.idle": "2020-06-17T07:42:26.389683Z",
     "shell.execute_reply": "2020-06-17T07:42:26.388684Z",
     "shell.execute_reply.started": "2020-06-17T07:42:26.385682Z"
    }
   },
   "outputs": [],
   "source": [
    "area2_int_df = area2_int_df.iloc[:, 0:2]"
   ]
  },
  {
   "cell_type": "code",
   "execution_count": 20,
   "metadata": {
    "execution": {
     "iopub.execute_input": "2020-06-17T07:42:27.209682Z",
     "iopub.status.busy": "2020-06-17T07:42:27.208683Z",
     "iopub.status.idle": "2020-06-17T07:42:27.222680Z",
     "shell.execute_reply": "2020-06-17T07:42:27.221681Z",
     "shell.execute_reply.started": "2020-06-17T07:42:27.208683Z"
    }
   },
   "outputs": [
    {
     "data": {
      "text/html": [
       "<div>\n",
       "<style scoped>\n",
       "    .dataframe tbody tr th:only-of-type {\n",
       "        vertical-align: middle;\n",
       "    }\n",
       "\n",
       "    .dataframe tbody tr th {\n",
       "        vertical-align: top;\n",
       "    }\n",
       "\n",
       "    .dataframe thead th {\n",
       "        text-align: right;\n",
       "    }\n",
       "</style>\n",
       "<table border=\"1\" class=\"dataframe\">\n",
       "  <thead>\n",
       "    <tr style=\"text-align: right;\">\n",
       "      <th></th>\n",
       "      <th>PC01</th>\n",
       "      <th>PC02</th>\n",
       "    </tr>\n",
       "  </thead>\n",
       "  <tbody>\n",
       "    <tr>\n",
       "      <th>5679</th>\n",
       "      <td>0.404377</td>\n",
       "      <td>-0.641168</td>\n",
       "    </tr>\n",
       "    <tr>\n",
       "      <th>5680</th>\n",
       "      <td>0.407373</td>\n",
       "      <td>-0.641369</td>\n",
       "    </tr>\n",
       "    <tr>\n",
       "      <th>5681</th>\n",
       "      <td>0.410405</td>\n",
       "      <td>-0.641572</td>\n",
       "    </tr>\n",
       "    <tr>\n",
       "      <th>6029</th>\n",
       "      <td>0.400763</td>\n",
       "      <td>-0.640926</td>\n",
       "    </tr>\n",
       "    <tr>\n",
       "      <th>6030</th>\n",
       "      <td>0.403939</td>\n",
       "      <td>-0.641139</td>\n",
       "    </tr>\n",
       "    <tr>\n",
       "      <th>...</th>\n",
       "      <td>...</td>\n",
       "      <td>...</td>\n",
       "    </tr>\n",
       "    <tr>\n",
       "      <th>235415</th>\n",
       "      <td>-0.151609</td>\n",
       "      <td>-0.208043</td>\n",
       "    </tr>\n",
       "    <tr>\n",
       "      <th>235416</th>\n",
       "      <td>-0.417064</td>\n",
       "      <td>-0.303705</td>\n",
       "    </tr>\n",
       "    <tr>\n",
       "      <th>235417</th>\n",
       "      <td>-0.417416</td>\n",
       "      <td>-0.303912</td>\n",
       "    </tr>\n",
       "    <tr>\n",
       "      <th>235418</th>\n",
       "      <td>-0.417759</td>\n",
       "      <td>-0.304116</td>\n",
       "    </tr>\n",
       "    <tr>\n",
       "      <th>235767</th>\n",
       "      <td>-0.151950</td>\n",
       "      <td>-0.208247</td>\n",
       "    </tr>\n",
       "  </tbody>\n",
       "</table>\n",
       "<p>80997 rows × 2 columns</p>\n",
       "</div>"
      ],
      "text/plain": [
       "            PC01      PC02\n",
       "5679    0.404377 -0.641168\n",
       "5680    0.407373 -0.641369\n",
       "5681    0.410405 -0.641572\n",
       "6029    0.400763 -0.640926\n",
       "6030    0.403939 -0.641139\n",
       "...          ...       ...\n",
       "235415 -0.151609 -0.208043\n",
       "235416 -0.417064 -0.303705\n",
       "235417 -0.417416 -0.303912\n",
       "235418 -0.417759 -0.304116\n",
       "235767 -0.151950 -0.208247\n",
       "\n",
       "[80997 rows x 2 columns]"
      ]
     },
     "execution_count": 20,
     "metadata": {},
     "output_type": "execute_result"
    }
   ],
   "source": [
    "area2_int_df"
   ]
  },
  {
   "cell_type": "code",
   "execution_count": 21,
   "metadata": {
    "execution": {
     "iopub.execute_input": "2020-06-17T07:42:31.181682Z",
     "iopub.status.busy": "2020-06-17T07:42:31.181682Z",
     "iopub.status.idle": "2020-06-17T07:42:31.871681Z",
     "shell.execute_reply": "2020-06-17T07:42:31.870681Z",
     "shell.execute_reply.started": "2020-06-17T07:42:31.181682Z"
    }
   },
   "outputs": [
    {
     "data": {
      "image/png": "[encoded data removed]",
      "text/plain": [
       "<Figure size 432x288 with 1 Axes>"
      ]
     },
     "metadata": {
      "needs_background": "light"
     },
     "output_type": "display_data"
    }
   ],
   "source": [
    "sns.scatterplot(x=\"PC01\", y=\"PC02\", data=area2_int_df)\n",
    "plt.show();"
   ]
  },
  {
   "cell_type": "code",
   "execution_count": 22,
   "metadata": {
    "execution": {
     "iopub.execute_input": "2020-06-17T07:42:58.760677Z",
     "iopub.status.busy": "2020-06-17T07:42:58.760677Z",
     "iopub.status.idle": "2020-06-17T07:42:58.766683Z",
     "shell.execute_reply": "2020-06-17T07:42:58.765684Z",
     "shell.execute_reply.started": "2020-06-17T07:42:58.760677Z"
    }
   },
   "outputs": [],
   "source": [
    "X = area2_int_df.values\n",
    "\n",
    "cluster = AgglomerativeClustering(n_clusters=2, affinity='euclidean', linkage='ward')"
   ]
  },
  {
   "cell_type": "code",
   "execution_count": 23,
   "metadata": {
    "execution": {
     "iopub.execute_input": "2020-06-17T07:42:59.724680Z",
     "iopub.status.busy": "2020-06-17T07:42:59.723681Z",
     "iopub.status.idle": "2020-06-17T08:21:44.280392Z",
     "shell.execute_reply": "2020-06-17T08:21:44.276388Z",
     "shell.execute_reply.started": "2020-06-17T07:42:59.724680Z"
    }
   },
   "outputs": [
    {
     "name": "stdout",
     "output_type": "stream",
     "text": [
      "Wall time: 38min 44s\n"
     ]
    },
    {
     "data": {
      "text/plain": [
       "array([1, 1, 1, ..., 0, 0, 0], dtype=int64)"
      ]
     },
     "execution_count": 23,
     "metadata": {},
     "output_type": "execute_result"
    }
   ],
   "source": [
    "%%time\n",
    "cluster.fit_predict(X)"
   ]
  },
  {
   "cell_type": "code",
   "execution_count": 24,
   "metadata": {
    "execution": {
     "iopub.execute_input": "2020-06-17T08:29:14.121401Z",
     "iopub.status.busy": "2020-06-17T08:29:14.121401Z",
     "iopub.status.idle": "2020-06-17T08:29:24.651625Z",
     "shell.execute_reply": "2020-06-17T08:29:24.647627Z",
     "shell.execute_reply.started": "2020-06-17T08:29:14.121401Z"
    }
   },
   "outputs": [
    {
     "data": {
      "image/png": "[encoded data removed]",
      "text/plain": [
       "<Figure size 432x288 with 1 Axes>"
      ]
     },
     "metadata": {
      "needs_background": "light"
     },
     "output_type": "display_data"
    }
   ],
   "source": [
    "plt.scatter(X[:,0], X[:,1], c=cluster.labels_, cmap='rainbow', s=10)\n",
    "plt.savefig(\"../_FIGURES/clustering/Area2_agglomerative_clustering.pdf\")\n",
    "plt.show();"
   ]
  },
  {
   "cell_type": "code",
   "execution_count": 25,
   "metadata": {
    "execution": {
     "iopub.execute_input": "2020-06-17T08:29:24.653627Z",
     "iopub.status.busy": "2020-06-17T08:29:24.653627Z",
     "iopub.status.idle": "2020-06-17T08:29:24.685817Z",
     "shell.execute_reply": "2020-06-17T08:29:24.685817Z",
     "shell.execute_reply.started": "2020-06-17T08:29:24.653627Z"
    }
   },
   "outputs": [],
   "source": [
    "# You can call the 'labels_' attribute of 'cluster' here instead of \n",
    "# performing the 'fit_transform' operation again.\n",
    "cluster_groups= pd.DataFrame(data=cluster.labels_)"
   ]
  },
  {
   "cell_type": "code",
   "execution_count": 26,
   "metadata": {
    "execution": {
     "iopub.execute_input": "2020-06-17T08:29:24.689130Z",
     "iopub.status.busy": "2020-06-17T08:29:24.689130Z",
     "iopub.status.idle": "2020-06-17T08:29:24.731129Z",
     "shell.execute_reply": "2020-06-17T08:29:24.730129Z",
     "shell.execute_reply.started": "2020-06-17T08:29:24.689130Z"
    }
   },
   "outputs": [
    {
     "data": {
      "text/html": [
       "<div>\n",
       "<style scoped>\n",
       "    .dataframe tbody tr th:only-of-type {\n",
       "        vertical-align: middle;\n",
       "    }\n",
       "\n",
       "    .dataframe tbody tr th {\n",
       "        vertical-align: top;\n",
       "    }\n",
       "\n",
       "    .dataframe thead th {\n",
       "        text-align: right;\n",
       "    }\n",
       "</style>\n",
       "<table border=\"1\" class=\"dataframe\">\n",
       "  <thead>\n",
       "    <tr style=\"text-align: right;\">\n",
       "      <th></th>\n",
       "      <th>0</th>\n",
       "    </tr>\n",
       "  </thead>\n",
       "  <tbody>\n",
       "    <tr>\n",
       "      <th>0</th>\n",
       "      <td>1</td>\n",
       "    </tr>\n",
       "    <tr>\n",
       "      <th>1</th>\n",
       "      <td>1</td>\n",
       "    </tr>\n",
       "    <tr>\n",
       "      <th>2</th>\n",
       "      <td>1</td>\n",
       "    </tr>\n",
       "    <tr>\n",
       "      <th>3</th>\n",
       "      <td>1</td>\n",
       "    </tr>\n",
       "    <tr>\n",
       "      <th>4</th>\n",
       "      <td>1</td>\n",
       "    </tr>\n",
       "    <tr>\n",
       "      <th>...</th>\n",
       "      <td>...</td>\n",
       "    </tr>\n",
       "    <tr>\n",
       "      <th>80992</th>\n",
       "      <td>0</td>\n",
       "    </tr>\n",
       "    <tr>\n",
       "      <th>80993</th>\n",
       "      <td>0</td>\n",
       "    </tr>\n",
       "    <tr>\n",
       "      <th>80994</th>\n",
       "      <td>0</td>\n",
       "    </tr>\n",
       "    <tr>\n",
       "      <th>80995</th>\n",
       "      <td>0</td>\n",
       "    </tr>\n",
       "    <tr>\n",
       "      <th>80996</th>\n",
       "      <td>0</td>\n",
       "    </tr>\n",
       "  </tbody>\n",
       "</table>\n",
       "<p>80997 rows × 1 columns</p>\n",
       "</div>"
      ],
      "text/plain": [
       "       0\n",
       "0      1\n",
       "1      1\n",
       "2      1\n",
       "3      1\n",
       "4      1\n",
       "...   ..\n",
       "80992  0\n",
       "80993  0\n",
       "80994  0\n",
       "80995  0\n",
       "80996  0\n",
       "\n",
       "[80997 rows x 1 columns]"
      ]
     },
     "execution_count": 26,
     "metadata": {},
     "output_type": "execute_result"
    }
   ],
   "source": [
    "cluster_groups"
   ]
  },
  {
   "cell_type": "code",
   "execution_count": 27,
   "metadata": {
    "execution": {
     "iopub.execute_input": "2020-06-17T08:29:24.732128Z",
     "iopub.status.busy": "2020-06-17T08:29:24.732128Z",
     "iopub.status.idle": "2020-06-17T08:29:28.832045Z",
     "shell.execute_reply": "2020-06-17T08:29:28.831046Z",
     "shell.execute_reply.started": "2020-06-17T08:29:24.732128Z"
    }
   },
   "outputs": [],
   "source": [
    "cluster_groups.to_excel(\"../_CLUSTER/groups_time_area/interpolation/Area2/cluster_control_points.xlsx\", index=True)"
   ]
  },
  {
   "cell_type": "code",
   "execution_count": 28,
   "metadata": {
    "execution": {
     "iopub.execute_input": "2020-06-17T08:29:28.833045Z",
     "iopub.status.busy": "2020-06-17T08:29:28.833045Z",
     "iopub.status.idle": "2020-06-17T08:29:28.916044Z",
     "shell.execute_reply": "2020-06-17T08:29:28.915041Z",
     "shell.execute_reply.started": "2020-06-17T08:29:28.833045Z"
    }
   },
   "outputs": [],
   "source": [
    "cluster_groups.iloc[:, 0].value_counts().to_excel(\"../_CLUSTER/groups_time_area/interpolation/Area2/control_points_count.xlsx\")"
   ]
  },
  {
   "cell_type": "raw",
   "metadata": {},
   "source": [
    "area_numbers = pd.read_excel(\"../_INTERPOLATION/area_subdivided.xlsx\", index_col=0, usecols=[0, 24, 29])\n",
    "#area_numbers = pd.read_excel(\"../_INTERPOLATION/area1.xlsx\", index_col=None, usecols=[0, 24, 29])"
   ]
  },
  {
   "cell_type": "raw",
   "metadata": {},
   "source": [
    "clustering = pd.concat([area_numbers, cluster_groups], axis = 1)\n",
    "clustering = clustering.dropna()"
   ]
  },
  {
   "cell_type": "raw",
   "metadata": {},
   "source": [
    "clustering"
   ]
  },
  {
   "cell_type": "raw",
   "metadata": {},
   "source": [
    "clustering2 = clustering"
   ]
  },
  {
   "cell_type": "raw",
   "metadata": {},
   "source": [
    "clustering.to_excel(\"../_CLUSTER/groups_time_area/interpolation/Area2/cluster_control_points.xlsx\", index=True)"
   ]
  },
  {
   "cell_type": "raw",
   "metadata": {},
   "source": [
    "clustering.iloc[:, 2].value_counts().to_excel(\"../_CLUSTER/groups_time_area/interpolation/Area2/control_points_count.xlsx\")"
   ]
  },
  {
   "cell_type": "markdown",
   "metadata": {},
   "source": [
    "----"
   ]
  },
  {
   "cell_type": "raw",
   "metadata": {},
   "source": [
    "clustering2_J = clustering2.loc[clustering2['time'] == 'J']\n",
    "clustering2_Tr = clustering2.loc[clustering2['time'] == 'Tr']\n",
    "clustering2_Pg = clustering2.loc[clustering2['time'] == 'Pg']\n",
    "clustering2_K = clustering2.loc[clustering2['time'] == 'K']\n",
    "\n",
    "clustering2_J.iloc[:, 2].value_counts().to_excel(\"../_CLUSTER/groups_time_area/interpolation/Area2/groups_counts_area2_J.xlsx\")\n",
    "clustering2_Tr.iloc[:, 2].value_counts().to_excel(\"../_CLUSTER/groups_time_area/interpolation/Area2/groups_counts_area2_Tr.xlsx\")\n",
    "clustering2_Pg.iloc[:, 2].value_counts().to_excel(\"../_CLUSTER/groups_time_area/interpolation/Area2/groups_counts_area2_Pg.xlsx\")\n",
    "clustering2_K.iloc[:, 2].value_counts().to_excel(\"../_CLUSTER/groups_time_area/interpolation/Area2/groups_counts_area2_K.xlsx\")"
   ]
  },
  {
   "cell_type": "markdown",
   "metadata": {},
   "source": [
    "----"
   ]
  },
  {
   "cell_type": "markdown",
   "metadata": {},
   "source": [
    "## Area3"
   ]
  },
  {
   "cell_type": "raw",
   "metadata": {},
   "source": [
    "area_numbers = pd.read_excel(\"../_INTERPOLATION/area_subdivided.xlsx\", index_col=0, usecols=[0, 24, 29])\n",
    "#area_numbers = pd.read_excel(\"../_INTERPOLATION/area1.xlsx\", index_col=None, usecols=[0, 24, 29])"
   ]
  },
  {
   "cell_type": "code",
   "execution_count": 29,
   "metadata": {
    "execution": {
     "iopub.execute_input": "2020-06-17T08:35:34.714111Z",
     "iopub.status.busy": "2020-06-17T08:35:34.713113Z",
     "iopub.status.idle": "2020-06-17T08:35:34.725114Z",
     "shell.execute_reply": "2020-06-17T08:35:34.724115Z",
     "shell.execute_reply.started": "2020-06-17T08:35:34.714111Z"
    }
   },
   "outputs": [],
   "source": [
    "area3_int_df = area3_int_df.iloc[:, 0:2]"
   ]
  },
  {
   "cell_type": "code",
   "execution_count": 30,
   "metadata": {
    "execution": {
     "iopub.execute_input": "2020-06-17T08:35:35.289261Z",
     "iopub.status.busy": "2020-06-17T08:35:35.289261Z",
     "iopub.status.idle": "2020-06-17T08:35:35.314265Z",
     "shell.execute_reply": "2020-06-17T08:35:35.313291Z",
     "shell.execute_reply.started": "2020-06-17T08:35:35.289261Z"
    }
   },
   "outputs": [
    {
     "data": {
      "text/html": [
       "<div>\n",
       "<style scoped>\n",
       "    .dataframe tbody tr th:only-of-type {\n",
       "        vertical-align: middle;\n",
       "    }\n",
       "\n",
       "    .dataframe tbody tr th {\n",
       "        vertical-align: top;\n",
       "    }\n",
       "\n",
       "    .dataframe thead th {\n",
       "        text-align: right;\n",
       "    }\n",
       "</style>\n",
       "<table border=\"1\" class=\"dataframe\">\n",
       "  <thead>\n",
       "    <tr style=\"text-align: right;\">\n",
       "      <th></th>\n",
       "      <th>PC01</th>\n",
       "      <th>PC02</th>\n",
       "    </tr>\n",
       "  </thead>\n",
       "  <tbody>\n",
       "    <tr>\n",
       "      <th>24087</th>\n",
       "      <td>0.375124</td>\n",
       "      <td>-0.910685</td>\n",
       "    </tr>\n",
       "    <tr>\n",
       "      <th>24088</th>\n",
       "      <td>0.371535</td>\n",
       "      <td>-0.914409</td>\n",
       "    </tr>\n",
       "    <tr>\n",
       "      <th>24089</th>\n",
       "      <td>0.367905</td>\n",
       "      <td>-0.918050</td>\n",
       "    </tr>\n",
       "    <tr>\n",
       "      <th>24698</th>\n",
       "      <td>0.381191</td>\n",
       "      <td>-0.908308</td>\n",
       "    </tr>\n",
       "    <tr>\n",
       "      <th>24699</th>\n",
       "      <td>0.377027</td>\n",
       "      <td>-0.912484</td>\n",
       "    </tr>\n",
       "    <tr>\n",
       "      <th>...</th>\n",
       "      <td>...</td>\n",
       "      <td>...</td>\n",
       "    </tr>\n",
       "    <tr>\n",
       "      <th>360180</th>\n",
       "      <td>-0.840538</td>\n",
       "      <td>-0.816965</td>\n",
       "    </tr>\n",
       "    <tr>\n",
       "      <th>360784</th>\n",
       "      <td>-0.771534</td>\n",
       "      <td>-0.737394</td>\n",
       "    </tr>\n",
       "    <tr>\n",
       "      <th>360785</th>\n",
       "      <td>-0.772994</td>\n",
       "      <td>-0.739737</td>\n",
       "    </tr>\n",
       "    <tr>\n",
       "      <th>360786</th>\n",
       "      <td>-0.738209</td>\n",
       "      <td>-0.737369</td>\n",
       "    </tr>\n",
       "    <tr>\n",
       "      <th>360787</th>\n",
       "      <td>-0.739363</td>\n",
       "      <td>-0.739458</td>\n",
       "    </tr>\n",
       "  </tbody>\n",
       "</table>\n",
       "<p>122714 rows × 2 columns</p>\n",
       "</div>"
      ],
      "text/plain": [
       "            PC01      PC02\n",
       "24087   0.375124 -0.910685\n",
       "24088   0.371535 -0.914409\n",
       "24089   0.367905 -0.918050\n",
       "24698   0.381191 -0.908308\n",
       "24699   0.377027 -0.912484\n",
       "...          ...       ...\n",
       "360180 -0.840538 -0.816965\n",
       "360784 -0.771534 -0.737394\n",
       "360785 -0.772994 -0.739737\n",
       "360786 -0.738209 -0.737369\n",
       "360787 -0.739363 -0.739458\n",
       "\n",
       "[122714 rows x 2 columns]"
      ]
     },
     "execution_count": 30,
     "metadata": {},
     "output_type": "execute_result"
    }
   ],
   "source": [
    "area3_int_df"
   ]
  },
  {
   "cell_type": "code",
   "execution_count": null,
   "metadata": {},
   "outputs": [],
   "source": [
    "sns.scatterplot(x=\"PC01\", y=\"PC02\", data=area3_int_df)\n",
    "plt.show();"
   ]
  },
  {
   "cell_type": "code",
   "execution_count": null,
   "metadata": {},
   "outputs": [],
   "source": [
    "%%time\n",
    "X = area3_int_df.values\n",
    "\n",
    "cluster = AgglomerativeClustering(n_clusters=2, affinity='euclidean', linkage='ward')\n",
    "cluster.fit_predict(X)"
   ]
  },
  {
   "cell_type": "code",
   "execution_count": null,
   "metadata": {},
   "outputs": [],
   "source": [
    "plt.scatter(X[:,0], X[:,1], c=cluster.labels_, cmap='rainbow', s=10)\n",
    "plt.savefig(\"../_FIGURES/clustering/Area3_agglomerative_clustering.pdf\")\n",
    "plt.show();"
   ]
  },
  {
   "cell_type": "code",
   "execution_count": null,
   "metadata": {},
   "outputs": [],
   "source": [
    "# You can call the 'labels_' attribute of 'cluster' here instead of \n",
    "# performing the 'fit_transform' operation again.\n",
    "cluster_groups= pd.DataFrame(data=cluster.labels_)"
   ]
  },
  {
   "cell_type": "code",
   "execution_count": null,
   "metadata": {},
   "outputs": [],
   "source": [
    "cluster_groups"
   ]
  },
  {
   "cell_type": "code",
   "execution_count": 17,
   "metadata": {
    "execution": {
     "iopub.execute_input": "2020-06-17T07:38:48.894722Z",
     "iopub.status.busy": "2020-06-17T07:38:48.893720Z",
     "iopub.status.idle": "2020-06-17T07:38:52.709720Z",
     "shell.execute_reply": "2020-06-17T07:38:52.708720Z",
     "shell.execute_reply.started": "2020-06-17T07:38:48.894722Z"
    }
   },
   "outputs": [],
   "source": [
    "cluster_groups.to_excel(\"../_CLUSTER/groups_time_area/interpolation/Area3/cluster_control_points.xlsx\", index=True)"
   ]
  },
  {
   "cell_type": "code",
   "execution_count": 18,
   "metadata": {
    "execution": {
     "iopub.execute_input": "2020-06-17T07:38:54.113719Z",
     "iopub.status.busy": "2020-06-17T07:38:54.112725Z",
     "iopub.status.idle": "2020-06-17T07:38:54.192723Z",
     "shell.execute_reply": "2020-06-17T07:38:54.191722Z",
     "shell.execute_reply.started": "2020-06-17T07:38:54.113719Z"
    }
   },
   "outputs": [],
   "source": [
    "cluster_groups.iloc[:, 0].value_counts().to_excel(\"../_CLUSTER/groups_time_area/interpolation/Area3/control_points_count.xlsx\")"
   ]
  },
  {
   "cell_type": "raw",
   "metadata": {},
   "source": [
    "area_numbers = pd.read_excel(\"../_INTERPOLATION/area_subdivided.xlsx\", index_col=0, usecols=[0, 24, 29])\n",
    "#area_numbers = pd.read_excel(\"../_INTERPOLATION/area1.xlsx\", index_col=None, usecols=[0, 24, 29])"
   ]
  },
  {
   "cell_type": "raw",
   "metadata": {},
   "source": [
    "clustering = pd.concat([area_numbers, cluster_groups], axis = 1)\n",
    "clustering = clustering.dropna()"
   ]
  },
  {
   "cell_type": "raw",
   "metadata": {},
   "source": [
    "clustering"
   ]
  },
  {
   "cell_type": "raw",
   "metadata": {},
   "source": [
    "clustering3 = clustering"
   ]
  },
  {
   "cell_type": "raw",
   "metadata": {},
   "source": [
    "clustering.to_excel(\"../_CLUSTER/groups_time_area/interpolation/Area3/cluster_control_points.xlsx\", index=True)"
   ]
  },
  {
   "cell_type": "raw",
   "metadata": {},
   "source": [
    "clustering.iloc[:, 2].value_counts().to_excel(\"../_CLUSTER/groups_time_area/interpolation/Area3/control_points_count.xlsx\")"
   ]
  },
  {
   "cell_type": "markdown",
   "metadata": {},
   "source": [
    "----"
   ]
  },
  {
   "cell_type": "raw",
   "metadata": {},
   "source": [
    "clustering3_J = clustering3.loc[clustering3['time'] == 'J']\n",
    "clustering3_Tr = clustering3.loc[clustering3['time'] == 'Tr']\n",
    "clustering3_Pg = clustering3.loc[clustering3['time'] == 'Pg']\n",
    "clustering3_K = clustering3.loc[clustering3['time'] == 'K']\n",
    "\n",
    "clustering3_J.iloc[:, 2].value_counts().to_excel(\"../_CLUSTER/groups_time_area/interpolation/Area3/groups_counts_area3_J.xlsx\")\n",
    "clustering3_Tr.iloc[:, 2].value_counts().to_excel(\"../_CLUSTER/groups_time_area/interpolation/Area3/groups_counts_area3_Tr.xlsx\")\n",
    "clustering3_Pg.iloc[:, 2].value_counts().to_excel(\"../_CLUSTER/groups_time_area/interpolation/Area3/groups_counts_area3_Pg.xlsx\")\n",
    "clustering3_K.iloc[:, 2].value_counts().to_excel(\"../_CLUSTER/groups_time_area/interpolation/Area3/groups_counts_area3_K.xlsx\")"
   ]
  },
  {
   "cell_type": "markdown",
   "metadata": {},
   "source": [
    "----"
   ]
  },
  {
   "cell_type": "markdown",
   "metadata": {},
   "source": [
    "## Area4"
   ]
  },
  {
   "cell_type": "raw",
   "metadata": {},
   "source": [
    "area_numbers = pd.read_excel(\"../_INTERPOLATION/area_subdivided.xlsx\", index_col=0, usecols=[0, 24, 29])\n",
    "#area_numbers = pd.read_excel(\"../_INTERPOLATION/area1.xlsx\", index_col=None, usecols=[0, 24, 29])"
   ]
  },
  {
   "cell_type": "code",
   "execution_count": 31,
   "metadata": {
    "execution": {
     "iopub.execute_input": "2020-06-17T08:35:53.337684Z",
     "iopub.status.busy": "2020-06-17T08:35:53.336679Z",
     "iopub.status.idle": "2020-06-17T08:35:53.349906Z",
     "shell.execute_reply": "2020-06-17T08:35:53.348906Z",
     "shell.execute_reply.started": "2020-06-17T08:35:53.337684Z"
    }
   },
   "outputs": [],
   "source": [
    "area4_int_df = area4_int_df.iloc[:, 0:4]"
   ]
  },
  {
   "cell_type": "code",
   "execution_count": 32,
   "metadata": {
    "execution": {
     "iopub.execute_input": "2020-06-17T08:35:53.892191Z",
     "iopub.status.busy": "2020-06-17T08:35:53.892191Z",
     "iopub.status.idle": "2020-06-17T08:35:53.913221Z",
     "shell.execute_reply": "2020-06-17T08:35:53.913221Z",
     "shell.execute_reply.started": "2020-06-17T08:35:53.892191Z"
    }
   },
   "outputs": [
    {
     "data": {
      "text/html": [
       "<div>\n",
       "<style scoped>\n",
       "    .dataframe tbody tr th:only-of-type {\n",
       "        vertical-align: middle;\n",
       "    }\n",
       "\n",
       "    .dataframe tbody tr th {\n",
       "        vertical-align: top;\n",
       "    }\n",
       "\n",
       "    .dataframe thead th {\n",
       "        text-align: right;\n",
       "    }\n",
       "</style>\n",
       "<table border=\"1\" class=\"dataframe\">\n",
       "  <thead>\n",
       "    <tr style=\"text-align: right;\">\n",
       "      <th></th>\n",
       "      <th>PC01</th>\n",
       "      <th>PC02</th>\n",
       "      <th>PC03</th>\n",
       "      <th>PC04</th>\n",
       "    </tr>\n",
       "  </thead>\n",
       "  <tbody>\n",
       "    <tr>\n",
       "      <th>6686</th>\n",
       "      <td>0.486975</td>\n",
       "      <td>-0.125816</td>\n",
       "      <td>-0.055721</td>\n",
       "      <td>0.246337</td>\n",
       "    </tr>\n",
       "    <tr>\n",
       "      <th>7279</th>\n",
       "      <td>0.483078</td>\n",
       "      <td>-0.125120</td>\n",
       "      <td>-0.054207</td>\n",
       "      <td>0.247572</td>\n",
       "    </tr>\n",
       "    <tr>\n",
       "      <th>7280</th>\n",
       "      <td>0.484580</td>\n",
       "      <td>-0.125539</td>\n",
       "      <td>-0.054619</td>\n",
       "      <td>0.247350</td>\n",
       "    </tr>\n",
       "    <tr>\n",
       "      <th>7281</th>\n",
       "      <td>0.485919</td>\n",
       "      <td>-0.125905</td>\n",
       "      <td>-0.054997</td>\n",
       "      <td>0.247135</td>\n",
       "    </tr>\n",
       "    <tr>\n",
       "      <th>7282</th>\n",
       "      <td>0.487094</td>\n",
       "      <td>-0.126216</td>\n",
       "      <td>-0.055342</td>\n",
       "      <td>0.246930</td>\n",
       "    </tr>\n",
       "    <tr>\n",
       "      <th>...</th>\n",
       "      <td>...</td>\n",
       "      <td>...</td>\n",
       "      <td>...</td>\n",
       "      <td>...</td>\n",
       "    </tr>\n",
       "    <tr>\n",
       "      <th>395789</th>\n",
       "      <td>-0.839563</td>\n",
       "      <td>-0.199838</td>\n",
       "      <td>-0.297398</td>\n",
       "      <td>0.438092</td>\n",
       "    </tr>\n",
       "    <tr>\n",
       "      <th>396380</th>\n",
       "      <td>-0.824152</td>\n",
       "      <td>-0.211994</td>\n",
       "      <td>-0.298348</td>\n",
       "      <td>0.432217</td>\n",
       "    </tr>\n",
       "    <tr>\n",
       "      <th>396381</th>\n",
       "      <td>-0.825223</td>\n",
       "      <td>-0.211142</td>\n",
       "      <td>-0.298329</td>\n",
       "      <td>0.432637</td>\n",
       "    </tr>\n",
       "    <tr>\n",
       "      <th>396382</th>\n",
       "      <td>-0.826443</td>\n",
       "      <td>-0.210175</td>\n",
       "      <td>-0.298272</td>\n",
       "      <td>0.433113</td>\n",
       "    </tr>\n",
       "    <tr>\n",
       "      <th>396383</th>\n",
       "      <td>-0.827815</td>\n",
       "      <td>-0.209094</td>\n",
       "      <td>-0.298178</td>\n",
       "      <td>0.433644</td>\n",
       "    </tr>\n",
       "  </tbody>\n",
       "</table>\n",
       "<p>175140 rows × 4 columns</p>\n",
       "</div>"
      ],
      "text/plain": [
       "            PC01      PC02      PC03      PC04\n",
       "6686    0.486975 -0.125816 -0.055721  0.246337\n",
       "7279    0.483078 -0.125120 -0.054207  0.247572\n",
       "7280    0.484580 -0.125539 -0.054619  0.247350\n",
       "7281    0.485919 -0.125905 -0.054997  0.247135\n",
       "7282    0.487094 -0.126216 -0.055342  0.246930\n",
       "...          ...       ...       ...       ...\n",
       "395789 -0.839563 -0.199838 -0.297398  0.438092\n",
       "396380 -0.824152 -0.211994 -0.298348  0.432217\n",
       "396381 -0.825223 -0.211142 -0.298329  0.432637\n",
       "396382 -0.826443 -0.210175 -0.298272  0.433113\n",
       "396383 -0.827815 -0.209094 -0.298178  0.433644\n",
       "\n",
       "[175140 rows x 4 columns]"
      ]
     },
     "execution_count": 32,
     "metadata": {},
     "output_type": "execute_result"
    }
   ],
   "source": [
    "area4_int_df"
   ]
  },
  {
   "cell_type": "code",
   "execution_count": null,
   "metadata": {},
   "outputs": [],
   "source": [
    "sns.scatterplot(x=\"PC01\", y=\"PC02\", data=area4_int_df)\n",
    "plt.show();"
   ]
  },
  {
   "cell_type": "code",
   "execution_count": null,
   "metadata": {},
   "outputs": [],
   "source": [
    "%%time\n",
    "X = area4_int_df.values\n",
    "\n",
    "cluster = AgglomerativeClustering(n_clusters=2, affinity='euclidean', linkage='ward')\n",
    "cluster.fit_predict(X)"
   ]
  },
  {
   "cell_type": "code",
   "execution_count": null,
   "metadata": {},
   "outputs": [],
   "source": [
    "plt.scatter(X[:,0], X[:,1], c=cluster.labels_, cmap='rainbow', s=10)\n",
    "plt.savefig(\"../_FIGURES/clustering/Area4_agglomerative_clustering.pdf\")\n",
    "plt.show();"
   ]
  },
  {
   "cell_type": "code",
   "execution_count": null,
   "metadata": {},
   "outputs": [],
   "source": [
    "# You can call the 'labels_' attribute of 'cluster' here instead of \n",
    "# performing the 'fit_transform' operation again.\n",
    "cluster_groups= pd.DataFrame(data=cluster.labels_)"
   ]
  },
  {
   "cell_type": "code",
   "execution_count": null,
   "metadata": {},
   "outputs": [],
   "source": [
    "cluster_groups"
   ]
  },
  {
   "cell_type": "code",
   "execution_count": 17,
   "metadata": {
    "execution": {
     "iopub.execute_input": "2020-06-17T07:38:48.894722Z",
     "iopub.status.busy": "2020-06-17T07:38:48.893720Z",
     "iopub.status.idle": "2020-06-17T07:38:52.709720Z",
     "shell.execute_reply": "2020-06-17T07:38:52.708720Z",
     "shell.execute_reply.started": "2020-06-17T07:38:48.894722Z"
    }
   },
   "outputs": [],
   "source": [
    "cluster_groups.to_excel(\"../_CLUSTER/groups_time_area/interpolation/Area4/cluster_control_points.xlsx\", index=True)"
   ]
  },
  {
   "cell_type": "code",
   "execution_count": 18,
   "metadata": {
    "execution": {
     "iopub.execute_input": "2020-06-17T07:38:54.113719Z",
     "iopub.status.busy": "2020-06-17T07:38:54.112725Z",
     "iopub.status.idle": "2020-06-17T07:38:54.192723Z",
     "shell.execute_reply": "2020-06-17T07:38:54.191722Z",
     "shell.execute_reply.started": "2020-06-17T07:38:54.113719Z"
    }
   },
   "outputs": [],
   "source": [
    "cluster_groups.iloc[:, 0].value_counts().to_excel(\"../_CLUSTER/groups_time_area/interpolation/Area4/control_points_count.xlsx\")"
   ]
  },
  {
   "cell_type": "raw",
   "metadata": {},
   "source": [
    "area_numbers = pd.read_excel(\"../_INTERPOLATION/area_subdivided.xlsx\", index_col=0, usecols=[0, 24, 29])\n",
    "#area_numbers = pd.read_excel(\"../_INTERPOLATION/area1.xlsx\", index_col=None, usecols=[0, 24, 29])"
   ]
  },
  {
   "cell_type": "raw",
   "metadata": {},
   "source": [
    "clustering = pd.concat([area_numbers, cluster_groups], axis = 1)\n",
    "clustering = clustering.dropna()"
   ]
  },
  {
   "cell_type": "raw",
   "metadata": {},
   "source": [
    "clustering"
   ]
  },
  {
   "cell_type": "raw",
   "metadata": {},
   "source": [
    "clustering4 = clustering"
   ]
  },
  {
   "cell_type": "raw",
   "metadata": {},
   "source": [
    "clustering.to_excel(\"../_CLUSTER/groups_time_area/interpolation/Area4/cluster_control_points.xlsx\", index=True)"
   ]
  },
  {
   "cell_type": "raw",
   "metadata": {},
   "source": [
    "clustering.iloc[:, 2].value_counts().to_excel(\"../_CLUSTER/groups_time_area/interpolation/Area4/control_points_count.xlsx\")"
   ]
  },
  {
   "cell_type": "markdown",
   "metadata": {},
   "source": [
    "----"
   ]
  },
  {
   "cell_type": "raw",
   "metadata": {},
   "source": [
    "clustering4_J = clustering4.loc[clustering4['time'] == 'J']\n",
    "clustering4_Mz = clustering4.loc[clustering4['time'] == 'Mz']\n",
    "clustering4_Pg = clustering4.loc[clustering4['time'] == 'Pg']\n",
    "clustering4_K = clustering4.loc[clustering4['time'] == 'K']\n",
    "\n",
    "clustering4_J.iloc[:, 2].value_counts().to_excel(\"../_CLUSTER/groups_time_area/interpolation/Area4/groups_counts_area4_J.xlsx\")\n",
    "clustering4_Mz.iloc[:, 2].value_counts().to_excel(\"../_CLUSTER/groups_time_area/interpolation/Area4/groups_counts_area4_Mz.xlsx\")\n",
    "clustering4_Pg.iloc[:, 2].value_counts().to_excel(\"../_CLUSTER/groups_time_area/interpolation/Area4/groups_counts_area4_Pg.xlsx\")\n",
    "clustering4_K.iloc[:, 2].value_counts().to_excel(\"../_CLUSTER/groups_time_area/interpolation/Area4/groups_counts_area4_K.xlsx\")"
   ]
  },
  {
   "cell_type": "markdown",
   "metadata": {},
   "source": [
    "-----"
   ]
  },
  {
   "cell_type": "markdown",
   "metadata": {},
   "source": [
    "## Area5"
   ]
  },
  {
   "cell_type": "raw",
   "metadata": {},
   "source": [
    "area_numbers = pd.read_excel(\"../_INTERPOLATION/area_subdivided.xlsx\", index_col=0, usecols=[0, 24, 29])\n",
    "#area_numbers = pd.read_excel(\"../_INTERPOLATION/area1.xlsx\", index_col=None, usecols=[0, 24, 29])"
   ]
  },
  {
   "cell_type": "code",
   "execution_count": 33,
   "metadata": {
    "execution": {
     "iopub.execute_input": "2020-06-17T08:35:57.992222Z",
     "iopub.status.busy": "2020-06-17T08:35:57.992222Z",
     "iopub.status.idle": "2020-06-17T08:35:58.005223Z",
     "shell.execute_reply": "2020-06-17T08:35:58.004224Z",
     "shell.execute_reply.started": "2020-06-17T08:35:57.992222Z"
    }
   },
   "outputs": [],
   "source": [
    "area5_int_df = area5_int_df.iloc[:, 0:3]"
   ]
  },
  {
   "cell_type": "code",
   "execution_count": 34,
   "metadata": {
    "execution": {
     "iopub.execute_input": "2020-06-17T08:35:58.530266Z",
     "iopub.status.busy": "2020-06-17T08:35:58.530266Z",
     "iopub.status.idle": "2020-06-17T08:35:58.559245Z",
     "shell.execute_reply": "2020-06-17T08:35:58.558244Z",
     "shell.execute_reply.started": "2020-06-17T08:35:58.530266Z"
    }
   },
   "outputs": [
    {
     "data": {
      "text/html": [
       "<div>\n",
       "<style scoped>\n",
       "    .dataframe tbody tr th:only-of-type {\n",
       "        vertical-align: middle;\n",
       "    }\n",
       "\n",
       "    .dataframe tbody tr th {\n",
       "        vertical-align: top;\n",
       "    }\n",
       "\n",
       "    .dataframe thead th {\n",
       "        text-align: right;\n",
       "    }\n",
       "</style>\n",
       "<table border=\"1\" class=\"dataframe\">\n",
       "  <thead>\n",
       "    <tr style=\"text-align: right;\">\n",
       "      <th></th>\n",
       "      <th>PC01</th>\n",
       "      <th>PC02</th>\n",
       "      <th>PC03</th>\n",
       "    </tr>\n",
       "  </thead>\n",
       "  <tbody>\n",
       "    <tr>\n",
       "      <th>5249</th>\n",
       "      <td>-1.404205</td>\n",
       "      <td>-0.816380</td>\n",
       "      <td>0.364863</td>\n",
       "    </tr>\n",
       "    <tr>\n",
       "      <th>5250</th>\n",
       "      <td>-1.404230</td>\n",
       "      <td>-0.816436</td>\n",
       "      <td>0.364794</td>\n",
       "    </tr>\n",
       "    <tr>\n",
       "      <th>5251</th>\n",
       "      <td>-1.404254</td>\n",
       "      <td>-0.816491</td>\n",
       "      <td>0.364727</td>\n",
       "    </tr>\n",
       "    <tr>\n",
       "      <th>5252</th>\n",
       "      <td>-1.404279</td>\n",
       "      <td>-0.816545</td>\n",
       "      <td>0.364661</td>\n",
       "    </tr>\n",
       "    <tr>\n",
       "      <th>5253</th>\n",
       "      <td>-1.404303</td>\n",
       "      <td>-0.816598</td>\n",
       "      <td>0.364597</td>\n",
       "    </tr>\n",
       "    <tr>\n",
       "      <th>...</th>\n",
       "      <td>...</td>\n",
       "      <td>...</td>\n",
       "      <td>...</td>\n",
       "    </tr>\n",
       "    <tr>\n",
       "      <th>363036</th>\n",
       "      <td>-0.515891</td>\n",
       "      <td>0.133543</td>\n",
       "      <td>0.090137</td>\n",
       "    </tr>\n",
       "    <tr>\n",
       "      <th>363037</th>\n",
       "      <td>-0.515920</td>\n",
       "      <td>0.133563</td>\n",
       "      <td>0.090145</td>\n",
       "    </tr>\n",
       "    <tr>\n",
       "      <th>363038</th>\n",
       "      <td>-0.515945</td>\n",
       "      <td>0.133584</td>\n",
       "      <td>0.090154</td>\n",
       "    </tr>\n",
       "    <tr>\n",
       "      <th>363039</th>\n",
       "      <td>-0.515965</td>\n",
       "      <td>0.133605</td>\n",
       "      <td>0.090162</td>\n",
       "    </tr>\n",
       "    <tr>\n",
       "      <th>363040</th>\n",
       "      <td>-0.515981</td>\n",
       "      <td>0.133627</td>\n",
       "      <td>0.090170</td>\n",
       "    </tr>\n",
       "  </tbody>\n",
       "</table>\n",
       "<p>177302 rows × 3 columns</p>\n",
       "</div>"
      ],
      "text/plain": [
       "            PC01      PC02      PC03\n",
       "5249   -1.404205 -0.816380  0.364863\n",
       "5250   -1.404230 -0.816436  0.364794\n",
       "5251   -1.404254 -0.816491  0.364727\n",
       "5252   -1.404279 -0.816545  0.364661\n",
       "5253   -1.404303 -0.816598  0.364597\n",
       "...          ...       ...       ...\n",
       "363036 -0.515891  0.133543  0.090137\n",
       "363037 -0.515920  0.133563  0.090145\n",
       "363038 -0.515945  0.133584  0.090154\n",
       "363039 -0.515965  0.133605  0.090162\n",
       "363040 -0.515981  0.133627  0.090170\n",
       "\n",
       "[177302 rows x 3 columns]"
      ]
     },
     "execution_count": 34,
     "metadata": {},
     "output_type": "execute_result"
    }
   ],
   "source": [
    "area5_int_df"
   ]
  },
  {
   "cell_type": "code",
   "execution_count": null,
   "metadata": {},
   "outputs": [],
   "source": [
    "sns.scatterplot(x=\"PC01\", y=\"PC02\", data=area5_int_df)\n",
    "plt.show();"
   ]
  },
  {
   "cell_type": "code",
   "execution_count": null,
   "metadata": {},
   "outputs": [],
   "source": [
    "%%time\n",
    "X = area5_int_df.values\n",
    "\n",
    "cluster = AgglomerativeClustering(n_clusters=2, affinity='euclidean', linkage='ward')\n",
    "cluster.fit_predict(X)"
   ]
  },
  {
   "cell_type": "code",
   "execution_count": null,
   "metadata": {},
   "outputs": [],
   "source": [
    "plt.scatter(X[:,0], X[:,1], c=cluster.labels_, cmap='rainbow', s=10)\n",
    "plt.savefig(\"../_FIGURES/clustering/Area5_agglomerative_clustering.pdf\")\n",
    "plt.show();"
   ]
  },
  {
   "cell_type": "code",
   "execution_count": null,
   "metadata": {},
   "outputs": [],
   "source": [
    "# You can call the 'labels_' attribute of 'cluster' here instead of \n",
    "# performing the 'fit_transform' operation again.\n",
    "cluster_groups= pd.DataFrame(data=cluster.labels_)"
   ]
  },
  {
   "cell_type": "code",
   "execution_count": null,
   "metadata": {},
   "outputs": [],
   "source": [
    "cluster_groups"
   ]
  },
  {
   "cell_type": "code",
   "execution_count": 17,
   "metadata": {
    "execution": {
     "iopub.execute_input": "2020-06-17T07:38:48.894722Z",
     "iopub.status.busy": "2020-06-17T07:38:48.893720Z",
     "iopub.status.idle": "2020-06-17T07:38:52.709720Z",
     "shell.execute_reply": "2020-06-17T07:38:52.708720Z",
     "shell.execute_reply.started": "2020-06-17T07:38:48.894722Z"
    }
   },
   "outputs": [],
   "source": [
    "cluster_groups.to_excel(\"../_CLUSTER/groups_time_area/interpolation/Area5/cluster_control_points.xlsx\", index=True)"
   ]
  },
  {
   "cell_type": "code",
   "execution_count": 18,
   "metadata": {
    "execution": {
     "iopub.execute_input": "2020-06-17T07:38:54.113719Z",
     "iopub.status.busy": "2020-06-17T07:38:54.112725Z",
     "iopub.status.idle": "2020-06-17T07:38:54.192723Z",
     "shell.execute_reply": "2020-06-17T07:38:54.191722Z",
     "shell.execute_reply.started": "2020-06-17T07:38:54.113719Z"
    }
   },
   "outputs": [],
   "source": [
    "cluster_groups.iloc[:, 0].value_counts().to_excel(\"../_CLUSTER/groups_time_area/interpolation/Area5/control_points_count.xlsx\")"
   ]
  },
  {
   "cell_type": "raw",
   "metadata": {},
   "source": [
    "area_numbers = pd.read_excel(\"../_INTERPOLATION/area_subdivided.xlsx\", index_col=0, usecols=[0, 24, 29])\n",
    "#area_numbers = pd.read_excel(\"../_INTERPOLATION/area1.xlsx\", index_col=None, usecols=[0, 24, 29])"
   ]
  },
  {
   "cell_type": "raw",
   "metadata": {},
   "source": [
    "clustering = pd.concat([area_numbers, cluster_groups], axis = 1)\n",
    "clustering = clustering.dropna()"
   ]
  },
  {
   "cell_type": "raw",
   "metadata": {},
   "source": [
    "clustering"
   ]
  },
  {
   "cell_type": "raw",
   "metadata": {},
   "source": [
    "clustering5 = clustering"
   ]
  },
  {
   "cell_type": "raw",
   "metadata": {},
   "source": [
    "clustering.to_excel(\"../_CLUSTER/groups_time_area/interpolation/Area5/cluster_control_points.xlsx\", index=True)"
   ]
  },
  {
   "cell_type": "raw",
   "metadata": {},
   "source": [
    "clustering.iloc[:, 2].value_counts().to_excel(\"../_CLUSTER/groups_time_area/interpolation/Area5/control_points_count.xlsx\")"
   ]
  },
  {
   "cell_type": "raw",
   "metadata": {},
   "source": [
    "clustering5_Mz = clustering5.loc[clustering5['time'] == 'Mz']\n",
    "clustering5_Pg = clustering5.loc[clustering5['time'] == 'Pg']\n",
    "clustering5_K = clustering5.loc[clustering5['time'] == 'K']\n",
    "\n",
    "clustering5_Mz.iloc[:, 2].value_counts().to_excel(\"../_CLUSTER/groups_time_area/interpolation/Area5/groups_counts_area5_Mz.xlsx\")\n",
    "clustering5_Pg.iloc[:, 2].value_counts().to_excel(\"../_CLUSTER/groups_time_area/interpolation/Area5/groups_counts_area5_Pg.xlsx\")\n",
    "clustering5_K.iloc[:, 2].value_counts().to_excel(\"../_CLUSTER/groups_time_area/interpolation/Area5/groups_counts_area5_K.xlsx\")"
   ]
  },
  {
   "cell_type": "raw",
   "metadata": {},
   "source": [
    "coordinates = pd.read_excel(\"../_PETRO/classification_altereddata.xlsx\", index_col=0, usecols=[0, 5, 6])\n",
    "#coordinates = pd.read_excel(\"../_INTERPOLATION/area5.xlsx\", index_col=0, usecols=[0, 5, 6])"
   ]
  },
  {
   "cell_type": "raw",
   "metadata": {},
   "source": [
    "cluster_plot = pd.concat([coordinates, clustering], axis=1)\n",
    "cluster_plot = cluster_plot.dropna()"
   ]
  },
  {
   "cell_type": "raw",
   "metadata": {},
   "source": [
    "cluster_plot"
   ]
  },
  {
   "cell_type": "raw",
   "metadata": {},
   "source": [
    "cluster_plot.to_excel(\"../_CLUSTER/groups_time_area/interpolation/Area5/groups_try.xlsx\", index=True)"
   ]
  },
  {
   "cell_type": "markdown",
   "metadata": {},
   "source": [
    "# combined areas\n",
    "**Did not execute the cells in this section as they are not relevant here.**"
   ]
  },
  {
   "cell_type": "markdown",
   "metadata": {},
   "source": [
    "## using PCA's"
   ]
  },
  {
   "cell_type": "code",
   "execution_count": null,
   "metadata": {},
   "outputs": [],
   "source": [
    "area_numbers = pd.read_excel(\"../_INTERPOLATION/area_subdivided.xlsx\", index_col=0, usecols=[0, 24, 29])\n",
    "#area_numbers = pd.read_excel(\"../_INTERPOLATION/area1.xlsx\", index_col=None, usecols=[0, 24, 29])"
   ]
  },
  {
   "cell_type": "code",
   "execution_count": null,
   "metadata": {},
   "outputs": [],
   "source": [
    "area1_int_df = area1_int_df.iloc[:, 0: 2]"
   ]
  },
  {
   "cell_type": "code",
   "execution_count": null,
   "metadata": {},
   "outputs": [],
   "source": [
    "area1_int_df"
   ]
  },
  {
   "cell_type": "code",
   "execution_count": null,
   "metadata": {},
   "outputs": [],
   "source": [
    "sns.scatterplot(x=\"PC01\", y=\"PC02\", data=area1_int_df)\n",
    "plt.show();"
   ]
  },
  {
   "cell_type": "code",
   "execution_count": null,
   "metadata": {},
   "outputs": [],
   "source": [
    "%%time\n",
    "X = area1_int_df.values\n",
    "\n",
    "cluster = AgglomerativeClustering(n_clusters=2, affinity='euclidean', linkage='ward')\n",
    "cluster.fit_predict(X)"
   ]
  },
  {
   "cell_type": "code",
   "execution_count": null,
   "metadata": {},
   "outputs": [],
   "source": [
    "plt.scatter(X[:,0], X[:,1], c=cluster.labels_, cmap='rainbow', s=10)\n",
    "plt.show();"
   ]
  },
  {
   "cell_type": "code",
   "execution_count": null,
   "metadata": {},
   "outputs": [],
   "source": [
    "# You can call the 'labels_' attribute of 'cluster' here instead of \n",
    "# performing the 'fit_transform' operation again.\n",
    "cluster_groups= pd.DataFrame(data=cluster.labels_)"
   ]
  },
  {
   "cell_type": "code",
   "execution_count": null,
   "metadata": {},
   "outputs": [],
   "source": [
    "cluster_groups"
   ]
  },
  {
   "cell_type": "code",
   "execution_count": null,
   "metadata": {},
   "outputs": [],
   "source": [
    "area_numbers = pd.read_excel(\"../_INTERPOLATION/area_subdivided.xlsx\", index_col=0, usecols=[0, 24, 29])\n",
    "#area_numbers = pd.read_excel(\"../_INTERPOLATION/area1.xlsx\", index_col=None, usecols=[0, 24, 29])"
   ]
  },
  {
   "cell_type": "code",
   "execution_count": null,
   "metadata": {},
   "outputs": [],
   "source": [
    "clustering = pd.concat([area_numbers, cluster_groups], axis = 1)\n",
    "clustering = clustering.dropna()"
   ]
  },
  {
   "cell_type": "code",
   "execution_count": null,
   "metadata": {},
   "outputs": [],
   "source": [
    "clustering"
   ]
  },
  {
   "cell_type": "code",
   "execution_count": null,
   "metadata": {},
   "outputs": [],
   "source": [
    "clustering.to_excel(\"../_CLUSTER/groups_time_area/interpolation/Area1/cluster_control_points.xlsx\", index=True)"
   ]
  },
  {
   "cell_type": "code",
   "execution_count": null,
   "metadata": {},
   "outputs": [],
   "source": [
    "clustering.iloc[:, 2].value_counts().to_excel(\"../_CLUSTER/groups_time_area/interpolation/Area1/control_points_count.xlsx\")"
   ]
  },
  {
   "cell_type": "markdown",
   "metadata": {},
   "source": [
    "----"
   ]
  },
  {
   "cell_type": "code",
   "execution_count": null,
   "metadata": {},
   "outputs": [],
   "source": [
    "clustering1= clustering.loc[clustering['area'] == 1]\n",
    "clustering2= clustering.loc[clustering['area'] == 2]\n",
    "clustering3= clustering.loc[clustering['area'] == 3]\n",
    "clustering4= clustering.loc[clustering['area'] == 4]\n",
    "clustering5= clustering.loc[clustering['area'] == 5]"
   ]
  },
  {
   "cell_type": "code",
   "execution_count": null,
   "metadata": {},
   "outputs": [],
   "source": [
    "clustering1_J = clustering1.loc[clustering1['time'] == 'J']\n",
    "clustering1_Tr = clustering1.loc[clustering1['time'] == 'Tr']\n",
    "clustering1_Tr_J = clustering1.loc[clustering1['time'] == 'Tr-J']\n",
    "clustering1_Mz = clustering1.loc[clustering1['time'] == 'Mz']\n",
    "clustering1_K = clustering1.loc[clustering1['time'] == 'K']\n",
    "\n",
    "clustering1_J.iloc[:, 2].value_counts().to_excel(\"../_CLUSTER/groups_time_area/interpolation/Area1/groups_counts_area1_J.xlsx\")\n",
    "clustering1_Tr.iloc[:, 2].value_counts().to_excel(\"../_CLUSTER/groups_time_area/interpolation/Area1/groups_counts_area1_Tr.xlsx\")\n",
    "clustering1_Tr_J.iloc[:, 2].value_counts().to_excel(\"../_CLUSTER/groups_time_area/interpolation/Area1/groups_counts_area1_Tr_J.xlsx\")\n",
    "clustering1_Mz.iloc[:, 2].value_counts().to_excel(\"../_CLUSTER/groups_time_area/interpolation/Area1/groups_counts_area1_Mz.xlsx\")\n",
    "clustering1_K.iloc[:, 2].value_counts().to_excel(\"../_CLUSTER/groups_time_area/interpolation/Area1/groups_counts_area1_K.xlsx\")"
   ]
  },
  {
   "cell_type": "code",
   "execution_count": null,
   "metadata": {},
   "outputs": [],
   "source": [
    "clustering2_J = clustering2.loc[clustering2['time'] == 'J']\n",
    "clustering2_Tr = clustering2.loc[clustering2['time'] == 'Tr']\n",
    "clustering2_Pg = clustering2.loc[clustering2['time'] == 'Pg']\n",
    "clustering2_K = clustering2.loc[clustering2['time'] == 'K']\n",
    "\n",
    "clustering2_J.iloc[:, 2].value_counts().to_excel(\"../_CLUSTER/groups_time_area/interpolation/Area1/groups_counts_area2_J.xlsx\")\n",
    "clustering2_Tr.iloc[:, 2].value_counts().to_excel(\"../_CLUSTER/groups_time_area/interpolation/Area1/groups_counts_area2_Tr.xlsx\")\n",
    "clustering2_Pg.iloc[:, 2].value_counts().to_excel(\"../_CLUSTER/groups_time_area/interpolation/Area1/groups_counts_area2_Pg.xlsx\")\n",
    "clustering2_K.iloc[:, 2].value_counts().to_excel(\"../_CLUSTER/groups_time_area/interpolation/Area1/groups_counts_area2_K.xlsx\")"
   ]
  },
  {
   "cell_type": "code",
   "execution_count": null,
   "metadata": {},
   "outputs": [],
   "source": [
    "clustering3_J = clustering3.loc[clustering3['time'] == 'J']\n",
    "clustering3_Tr = clustering3.loc[clustering3['time'] == 'Tr']\n",
    "clustering3_Pg = clustering3.loc[clustering3['time'] == 'Pg']\n",
    "clustering3_K = clustering3.loc[clustering3['time'] == 'K']\n",
    "\n",
    "clustering3_J.iloc[:, 2].value_counts().to_excel(\"../_CLUSTER/groups_time_area/interpolation/Area1/groups_counts_area3_J.xlsx\")\n",
    "clustering3_Tr.iloc[:, 2].value_counts().to_excel(\"../_CLUSTER/groups_time_area/interpolation/Area1/groups_counts_area3_Tr.xlsx\")\n",
    "clustering3_Pg.iloc[:, 2].value_counts().to_excel(\"../_CLUSTER/groups_time_area/interpolation/Area1/groups_counts_area3_Pg.xlsx\")\n",
    "clustering3_K.iloc[:, 2].value_counts().to_excel(\"../_CLUSTER/groups_time_area/interpolation/Area1/groups_counts_area3_K.xlsx\")"
   ]
  },
  {
   "cell_type": "code",
   "execution_count": null,
   "metadata": {},
   "outputs": [],
   "source": [
    "clustering4_J = clustering4.loc[clustering4['time'] == 'J']\n",
    "clustering4_Mz = clustering4.loc[clustering4['time'] == 'Mz']\n",
    "clustering4_Pg = clustering4.loc[clustering4['time'] == 'Pg']\n",
    "clustering4_K = clustering4.loc[clustering4['time'] == 'K']\n",
    "\n",
    "clustering4_J.iloc[:, 2].value_counts().to_excel(\"../_CLUSTER/groups_time_area/interpolation/Area1/groups_counts_area4_J.xlsx\")\n",
    "clustering4_Mz.iloc[:, 2].value_counts().to_excel(\"../_CLUSTER/groups_time_area/interpolation/Area1/groups_counts_area4_Mz.xlsx\")\n",
    "clustering4_Pg.iloc[:, 2].value_counts().to_excel(\"../_CLUSTER/groups_time_area/interpolation/Area1/groups_counts_area4_Pg.xlsx\")\n",
    "clustering4_K.iloc[:, 2].value_counts().to_excel(\"../_CLUSTER/groups_time_area/interpolation/Area1/groups_counts_area4_K.xlsx\")"
   ]
  },
  {
   "cell_type": "code",
   "execution_count": null,
   "metadata": {},
   "outputs": [],
   "source": [
    "clustering5_Mz = clustering5.loc[clustering5['time'] == 'Mz']\n",
    "clustering5_Pg = clustering5.loc[clustering5['time'] == 'Pg']\n",
    "clustering5_K = clustering5.loc[clustering5['time'] == 'K']\n",
    "\n",
    "clustering5_Mz.iloc[:, 2].value_counts().to_excel(\"../_CLUSTER/groups_time_area/interpolation/Area1/groups_counts_area5_Mz.xlsx\")\n",
    "clustering5_Pg.iloc[:, 2].value_counts().to_excel(\"../_CLUSTER/groups_time_area/interpolation/Area1/groups_counts_area5_Pg.xlsx\")\n",
    "clustering5_K.iloc[:, 2].value_counts().to_excel(\"../_CLUSTER/groups_time_area/interpolation/Area1/groups_counts_area5_K.xlsx\")"
   ]
  },
  {
   "cell_type": "code",
   "execution_count": null,
   "metadata": {},
   "outputs": [],
   "source": []
  },
  {
   "cell_type": "code",
   "execution_count": null,
   "metadata": {},
   "outputs": [],
   "source": [
    "coordinates = pd.read_excel(\"../_PETRO/classification_altereddata.xlsx\", index_col=0, usecols=[0, 5, 6])\n",
    "#coordinates = pd.read_excel(\"../_INTERPOLATION/area5.xlsx\", index_col=0, usecols=[0, 5, 6])"
   ]
  },
  {
   "cell_type": "code",
   "execution_count": null,
   "metadata": {},
   "outputs": [],
   "source": [
    "cluster_plot = pd.concat([coordinates, clustering], axis=1)\n",
    "cluster_plot = cluster_plot.dropna()"
   ]
  },
  {
   "cell_type": "code",
   "execution_count": null,
   "metadata": {},
   "outputs": [],
   "source": [
    "cluster_plot"
   ]
  },
  {
   "cell_type": "code",
   "execution_count": null,
   "metadata": {},
   "outputs": [],
   "source": [
    "cluster_plot.to_excel(\"../_CLUSTER/groups_time_area/interpolation/Area1/groups_try.xlsx\", index=True)"
   ]
  },
  {
   "cell_type": "markdown",
   "metadata": {},
   "source": [
    "----"
   ]
  },
  {
   "cell_type": "code",
   "execution_count": null,
   "metadata": {},
   "outputs": [],
   "source": []
  }
 ],
 "metadata": {
  "kernelspec": {
   "display_name": "Python 3",
   "language": "python",
   "name": "python3"
  },
  "language_info": {
   "codemirror_mode": {
    "name": "ipython",
    "version": 3
   },
   "file_extension": ".py",
   "mimetype": "text/x-python",
   "name": "python",
   "nbconvert_exporter": "python",
   "pygments_lexer": "ipython3",
   "version": "3.7.3"
  }
 },
 "nbformat": 4,
 "nbformat_minor": 4
}
