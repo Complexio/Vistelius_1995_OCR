{
 "cells": [
  {
   "cell_type": "markdown",
   "metadata": {},
   "source": [
    "# 3. Cluster analysis"
   ]
  },
  {
   "cell_type": "markdown",
   "metadata": {},
   "source": [
    "# Import code"
   ]
  },
  {
   "cell_type": "code",
   "execution_count": 2,
   "metadata": {
    "execution": {
     "iopub.execute_input": "2020-06-04T08:22:37.458228Z",
     "iopub.status.busy": "2020-06-04T08:22:37.458228Z",
     "iopub.status.idle": "2020-06-04T08:22:45.547989Z",
     "shell.execute_reply": "2020-06-04T08:22:45.546990Z",
     "shell.execute_reply.started": "2020-06-04T08:22:37.458228Z"
    }
   },
   "outputs": [],
   "source": [
    "import numpy as np\n",
    "import pandas as pd\n",
    "\n",
    "import matplotlib.pyplot as plt\n",
    "import seaborn as sns\n",
    "\n",
    "from scipy.cluster.hierarchy import dendrogram, linkage\n",
    "from scipy.cluster.hierarchy import cophenet\n",
    "from scipy.spatial.distance import pdist\n",
    "\n",
    "from sklearn.cluster import AgglomerativeClustering"
   ]
  },
  {
   "cell_type": "code",
   "execution_count": 3,
   "metadata": {
    "execution": {
     "iopub.execute_input": "2020-06-04T08:22:45.548975Z",
     "iopub.status.busy": "2020-06-04T08:22:45.548975Z",
     "iopub.status.idle": "2020-06-04T08:22:45.614991Z",
     "shell.execute_reply": "2020-06-04T08:22:45.613977Z",
     "shell.execute_reply.started": "2020-06-04T08:22:45.548975Z"
    }
   },
   "outputs": [],
   "source": [
    "import prepostprocessing.pre_processing as preproc"
   ]
  },
  {
   "cell_type": "code",
   "execution_count": 4,
   "metadata": {
    "execution": {
     "iopub.execute_input": "2020-06-04T08:22:45.615985Z",
     "iopub.status.busy": "2020-06-04T08:22:45.615985Z",
     "iopub.status.idle": "2020-06-04T08:22:45.910752Z",
     "shell.execute_reply": "2020-06-04T08:22:45.909744Z",
     "shell.execute_reply.started": "2020-06-04T08:22:45.615985Z"
    }
   },
   "outputs": [],
   "source": [
    "area1_int_df = preproc.load_obj(\"area1_int_df\")\n",
    "\n",
    "area2_int_df = preproc.load_obj(\"area2_int_df\")\n",
    "\n",
    "area3_int_df = preproc.load_obj(\"area3_int_df\")\n",
    "\n",
    "area4_int_df = preproc.load_obj(\"area4_int_df\")\n",
    "\n",
    "area5_int_df = preproc.load_obj(\"area5_int_df\")\n",
    "\n",
    "\n",
    "\n",
    "pca_df = preproc.load_obj(\"mineralogy_pca_df1\")\n",
    "metadata = preproc.load_obj(\"metadata\")\n"
   ]
  },
  {
   "cell_type": "markdown",
   "metadata": {},
   "source": [
    "# Idividual areas"
   ]
  },
  {
   "cell_type": "markdown",
   "metadata": {},
   "source": [
    "## Area1"
   ]
  },
  {
   "cell_type": "code",
   "execution_count": 5,
   "metadata": {
    "execution": {
     "iopub.execute_input": "2020-06-04T08:35:19.969217Z",
     "iopub.status.busy": "2020-06-04T08:35:19.969217Z",
     "iopub.status.idle": "2020-06-04T08:35:21.289219Z",
     "shell.execute_reply": "2020-06-04T08:35:21.289219Z",
     "shell.execute_reply.started": "2020-06-04T08:35:19.969217Z"
    }
   },
   "outputs": [],
   "source": [
    "area_numbers = pd.read_excel(\"../_INTERPOLATION/area_subdivided.xlsx\", index_col=0, usecols=[0, 24, 29])\n",
    "#area_numbers = pd.read_excel(\"../_INTERPOLATION/area1.xlsx\", index_col=None, usecols=[0, 24, 29])"
   ]
  },
  {
   "cell_type": "code",
   "execution_count": 6,
   "metadata": {
    "execution": {
     "iopub.execute_input": "2020-06-04T08:22:52.528091Z",
     "iopub.status.busy": "2020-06-04T08:22:52.527085Z",
     "iopub.status.idle": "2020-06-04T08:22:52.554088Z",
     "shell.execute_reply": "2020-06-04T08:22:52.553125Z",
     "shell.execute_reply.started": "2020-06-04T08:22:52.528091Z"
    }
   },
   "outputs": [],
   "source": [
    "area1_int_df = area1_int_df.iloc[:, 0: 2]"
   ]
  },
  {
   "cell_type": "code",
   "execution_count": 7,
   "metadata": {},
   "outputs": [
    {
     "data": {
      "text/html": [
       "<div>\n",
       "<style scoped>\n",
       "    .dataframe tbody tr th:only-of-type {\n",
       "        vertical-align: middle;\n",
       "    }\n",
       "\n",
       "    .dataframe tbody tr th {\n",
       "        vertical-align: top;\n",
       "    }\n",
       "\n",
       "    .dataframe thead th {\n",
       "        text-align: right;\n",
       "    }\n",
       "</style>\n",
       "<table border=\"1\" class=\"dataframe\">\n",
       "  <thead>\n",
       "    <tr style=\"text-align: right;\">\n",
       "      <th></th>\n",
       "      <th>PC01</th>\n",
       "      <th>PC02</th>\n",
       "    </tr>\n",
       "  </thead>\n",
       "  <tbody>\n",
       "    <tr>\n",
       "      <th>2809</th>\n",
       "      <td>-0.871616</td>\n",
       "      <td>-0.061954</td>\n",
       "    </tr>\n",
       "    <tr>\n",
       "      <th>2810</th>\n",
       "      <td>-0.867083</td>\n",
       "      <td>-0.061057</td>\n",
       "    </tr>\n",
       "    <tr>\n",
       "      <th>2811</th>\n",
       "      <td>-0.863637</td>\n",
       "      <td>-0.060284</td>\n",
       "    </tr>\n",
       "    <tr>\n",
       "      <th>2812</th>\n",
       "      <td>-0.881656</td>\n",
       "      <td>-0.001032</td>\n",
       "    </tr>\n",
       "    <tr>\n",
       "      <th>2813</th>\n",
       "      <td>-0.881230</td>\n",
       "      <td>-0.000526</td>\n",
       "    </tr>\n",
       "    <tr>\n",
       "      <th>...</th>\n",
       "      <td>...</td>\n",
       "      <td>...</td>\n",
       "    </tr>\n",
       "    <tr>\n",
       "      <th>205097</th>\n",
       "      <td>-0.049269</td>\n",
       "      <td>-0.211667</td>\n",
       "    </tr>\n",
       "    <tr>\n",
       "      <th>205541</th>\n",
       "      <td>-0.047306</td>\n",
       "      <td>-0.221904</td>\n",
       "    </tr>\n",
       "    <tr>\n",
       "      <th>205542</th>\n",
       "      <td>-0.047587</td>\n",
       "      <td>-0.220724</td>\n",
       "    </tr>\n",
       "    <tr>\n",
       "      <th>205543</th>\n",
       "      <td>-0.047827</td>\n",
       "      <td>-0.219399</td>\n",
       "    </tr>\n",
       "    <tr>\n",
       "      <th>205544</th>\n",
       "      <td>-0.048026</td>\n",
       "      <td>-0.217989</td>\n",
       "    </tr>\n",
       "  </tbody>\n",
       "</table>\n",
       "<p>55413 rows × 2 columns</p>\n",
       "</div>"
      ],
      "text/plain": [
       "            PC01      PC02\n",
       "2809   -0.871616 -0.061954\n",
       "2810   -0.867083 -0.061057\n",
       "2811   -0.863637 -0.060284\n",
       "2812   -0.881656 -0.001032\n",
       "2813   -0.881230 -0.000526\n",
       "...          ...       ...\n",
       "205097 -0.049269 -0.211667\n",
       "205541 -0.047306 -0.221904\n",
       "205542 -0.047587 -0.220724\n",
       "205543 -0.047827 -0.219399\n",
       "205544 -0.048026 -0.217989\n",
       "\n",
       "[55413 rows x 2 columns]"
      ]
     },
     "execution_count": 7,
     "metadata": {},
     "output_type": "execute_result"
    }
   ],
   "source": [
    "area1_int_df"
   ]
  },
  {
   "cell_type": "code",
   "execution_count": 8,
   "metadata": {},
   "outputs": [
    {
     "data": {
      "image/png": "[encoded data removed]",
      "text/plain": [
       "<Figure size 432x288 with 1 Axes>"
      ]
     },
     "metadata": {
      "needs_background": "light"
     },
     "output_type": "display_data"
    }
   ],
   "source": [
    "sns.scatterplot(x=\"PC01\", y=\"PC02\", data=area1_int_df)\n",
    "plt.show();"
   ]
  },
  {
   "cell_type": "raw",
   "metadata": {
    "execution": {
     "iopub.execute_input": "2020-06-04T08:27:45.490249Z",
     "iopub.status.busy": "2020-06-04T08:27:45.490249Z",
     "iopub.status.idle": "2020-06-04T08:27:45.497252Z",
     "shell.execute_reply": "2020-06-04T08:27:45.496254Z",
     "shell.execute_reply.started": "2020-06-04T08:27:45.490249Z"
    }
   },
   "source": [
    "def create_dendrogram(data, linkage_method='ward', save=\"\"):\n",
    "    \"\"\"Plot dendrogram\n",
    "    \n",
    "    Parameters:\n",
    "    -----------\n",
    "    data : array or DataFrame\n",
    "        Data to be clustered\n",
    "    linkage_method : str (optional)\n",
    "        Method to use to construct the linkage matrix\n",
    "        Choose between ['single', 'complete', 'average',\n",
    "        'weighted', 'centroid', 'median', 'ward']\n",
    "        For detailed information see \n",
    "        https://docs.scipy.org/doc/scipy-0.14.0/reference/ \\\n",
    "        generated/scipy.cluster.hierarchy.linkage.html\n",
    "    save : str (optional)\n",
    "        Name to use for figure file when saving\n",
    "    \"\"\"\n",
    "    \n",
    "    linkage_matrix = linkage(data, linkage_method)\n",
    "    c, coph_dists = cophenet(linkage_matrix, pdist(data))\n",
    "    print(\"Cophenetic correlation coefficient:\", c)\n",
    "    \n",
    "    plt.figure(figsize=(25, 10))\n",
    "    dendrogram(linkage_matrix, labels=data.index)\n",
    "    if save != \"\":\n",
    "        plt.savefig(f\"../_FIGURES/{save}.pdf\")\n",
    "    plt.show()"
   ]
  },
  {
   "cell_type": "raw",
   "metadata": {
    "execution": {
     "iopub.execute_input": "2020-06-04T08:27:47.270390Z",
     "iopub.status.busy": "2020-06-04T08:27:47.269389Z",
     "iopub.status.idle": "2020-06-04T08:29:21.880692Z",
     "shell.execute_reply": "2020-06-04T08:29:21.879676Z",
     "shell.execute_reply.started": "2020-06-04T08:27:47.270390Z"
    }
   },
   "source": [
    "%%time\n",
    "create_dendrogram(area1_int_df, linkage_method='ward')"
   ]
  },
  {
   "cell_type": "code",
   "execution_count": 15,
   "metadata": {
    "execution": {
     "iopub.execute_input": "2020-06-04T08:30:48.688826Z",
     "iopub.status.busy": "2020-06-04T08:30:48.688826Z",
     "iopub.status.idle": "2020-06-04T08:30:49.582855Z",
     "shell.execute_reply": "2020-06-04T08:30:49.582855Z",
     "shell.execute_reply.started": "2020-06-04T08:30:48.688826Z"
    }
   },
   "outputs": [
    {
     "ename": "MemoryError",
     "evalue": "Unable to allocate 56.1 GiB for an array with shape (7529301541,) and data type float64",
     "output_type": "error",
     "traceback": [
      "\u001b[1;31m---------------------------------------------------------------------------\u001b[0m",
      "\u001b[1;31mMemoryError\u001b[0m                               Traceback (most recent call last)",
      "\u001b[1;32m<timed exec>\u001b[0m in \u001b[0;36m<module>\u001b[1;34m\u001b[0m\n",
      "\u001b[1;32m~\\Anaconda3\\envs\\main\\lib\\site-packages\\sklearn\\cluster\\_hierarchical.py\u001b[0m in \u001b[0;36mfit_predict\u001b[1;34m(self, X, y)\u001b[0m\n\u001b[0;32m    897\u001b[0m             \u001b[0mCluster\u001b[0m \u001b[0mlabels\u001b[0m\u001b[1;33m.\u001b[0m\u001b[1;33m\u001b[0m\u001b[1;33m\u001b[0m\u001b[0m\n\u001b[0;32m    898\u001b[0m         \"\"\"\n\u001b[1;32m--> 899\u001b[1;33m         \u001b[1;32mreturn\u001b[0m \u001b[0msuper\u001b[0m\u001b[1;33m(\u001b[0m\u001b[1;33m)\u001b[0m\u001b[1;33m.\u001b[0m\u001b[0mfit_predict\u001b[0m\u001b[1;33m(\u001b[0m\u001b[0mX\u001b[0m\u001b[1;33m,\u001b[0m \u001b[0my\u001b[0m\u001b[1;33m)\u001b[0m\u001b[1;33m\u001b[0m\u001b[1;33m\u001b[0m\u001b[0m\n\u001b[0m\u001b[0;32m    900\u001b[0m \u001b[1;33m\u001b[0m\u001b[0m\n\u001b[0;32m    901\u001b[0m \u001b[1;33m\u001b[0m\u001b[0m\n",
      "\u001b[1;32m~\\Anaconda3\\envs\\main\\lib\\site-packages\\sklearn\\base.py\u001b[0m in \u001b[0;36mfit_predict\u001b[1;34m(self, X, y)\u001b[0m\n\u001b[0;32m    460\u001b[0m         \u001b[1;31m# non-optimized default implementation; override when a better\u001b[0m\u001b[1;33m\u001b[0m\u001b[1;33m\u001b[0m\u001b[1;33m\u001b[0m\u001b[0m\n\u001b[0;32m    461\u001b[0m         \u001b[1;31m# method is possible for a given clustering algorithm\u001b[0m\u001b[1;33m\u001b[0m\u001b[1;33m\u001b[0m\u001b[1;33m\u001b[0m\u001b[0m\n\u001b[1;32m--> 462\u001b[1;33m         \u001b[0mself\u001b[0m\u001b[1;33m.\u001b[0m\u001b[0mfit\u001b[0m\u001b[1;33m(\u001b[0m\u001b[0mX\u001b[0m\u001b[1;33m)\u001b[0m\u001b[1;33m\u001b[0m\u001b[1;33m\u001b[0m\u001b[0m\n\u001b[0m\u001b[0;32m    463\u001b[0m         \u001b[1;32mreturn\u001b[0m \u001b[0mself\u001b[0m\u001b[1;33m.\u001b[0m\u001b[0mlabels_\u001b[0m\u001b[1;33m\u001b[0m\u001b[1;33m\u001b[0m\u001b[0m\n\u001b[0;32m    464\u001b[0m \u001b[1;33m\u001b[0m\u001b[0m\n",
      "\u001b[1;32m~\\Anaconda3\\envs\\main\\lib\\site-packages\\sklearn\\cluster\\_hierarchical.py\u001b[0m in \u001b[0;36mfit\u001b[1;34m(self, X, y)\u001b[0m\n\u001b[0;32m    854\u001b[0m                                          \u001b[0mn_clusters\u001b[0m\u001b[1;33m=\u001b[0m\u001b[0mn_clusters\u001b[0m\u001b[1;33m,\u001b[0m\u001b[1;33m\u001b[0m\u001b[1;33m\u001b[0m\u001b[0m\n\u001b[0;32m    855\u001b[0m                                          \u001b[0mreturn_distance\u001b[0m\u001b[1;33m=\u001b[0m\u001b[0mreturn_distance\u001b[0m\u001b[1;33m,\u001b[0m\u001b[1;33m\u001b[0m\u001b[1;33m\u001b[0m\u001b[0m\n\u001b[1;32m--> 856\u001b[1;33m                                          **kwargs)\n\u001b[0m\u001b[0;32m    857\u001b[0m         (self.children_,\n\u001b[0;32m    858\u001b[0m          \u001b[0mself\u001b[0m\u001b[1;33m.\u001b[0m\u001b[0mn_connected_components_\u001b[0m\u001b[1;33m,\u001b[0m\u001b[1;33m\u001b[0m\u001b[1;33m\u001b[0m\u001b[0m\n",
      "\u001b[1;32m~\\Anaconda3\\envs\\main\\lib\\site-packages\\joblib\\memory.py\u001b[0m in \u001b[0;36m__call__\u001b[1;34m(self, *args, **kwargs)\u001b[0m\n\u001b[0;32m    353\u001b[0m \u001b[1;33m\u001b[0m\u001b[0m\n\u001b[0;32m    354\u001b[0m     \u001b[1;32mdef\u001b[0m \u001b[0m__call__\u001b[0m\u001b[1;33m(\u001b[0m\u001b[0mself\u001b[0m\u001b[1;33m,\u001b[0m \u001b[1;33m*\u001b[0m\u001b[0margs\u001b[0m\u001b[1;33m,\u001b[0m \u001b[1;33m**\u001b[0m\u001b[0mkwargs\u001b[0m\u001b[1;33m)\u001b[0m\u001b[1;33m:\u001b[0m\u001b[1;33m\u001b[0m\u001b[1;33m\u001b[0m\u001b[0m\n\u001b[1;32m--> 355\u001b[1;33m         \u001b[1;32mreturn\u001b[0m \u001b[0mself\u001b[0m\u001b[1;33m.\u001b[0m\u001b[0mfunc\u001b[0m\u001b[1;33m(\u001b[0m\u001b[1;33m*\u001b[0m\u001b[0margs\u001b[0m\u001b[1;33m,\u001b[0m \u001b[1;33m**\u001b[0m\u001b[0mkwargs\u001b[0m\u001b[1;33m)\u001b[0m\u001b[1;33m\u001b[0m\u001b[1;33m\u001b[0m\u001b[0m\n\u001b[0m\u001b[0;32m    356\u001b[0m \u001b[1;33m\u001b[0m\u001b[0m\n\u001b[0;32m    357\u001b[0m     \u001b[1;32mdef\u001b[0m \u001b[0mcall_and_shelve\u001b[0m\u001b[1;33m(\u001b[0m\u001b[0mself\u001b[0m\u001b[1;33m,\u001b[0m \u001b[1;33m*\u001b[0m\u001b[0margs\u001b[0m\u001b[1;33m,\u001b[0m \u001b[1;33m**\u001b[0m\u001b[0mkwargs\u001b[0m\u001b[1;33m)\u001b[0m\u001b[1;33m:\u001b[0m\u001b[1;33m\u001b[0m\u001b[1;33m\u001b[0m\u001b[0m\n",
      "\u001b[1;32m~\\Anaconda3\\envs\\main\\lib\\site-packages\\sklearn\\cluster\\_hierarchical.py\u001b[0m in \u001b[0;36mward_tree\u001b[1;34m(X, connectivity, n_clusters, return_distance)\u001b[0m\n\u001b[0;32m    231\u001b[0m                           stacklevel=2)\n\u001b[0;32m    232\u001b[0m         \u001b[0mX\u001b[0m \u001b[1;33m=\u001b[0m \u001b[0mnp\u001b[0m\u001b[1;33m.\u001b[0m\u001b[0mrequire\u001b[0m\u001b[1;33m(\u001b[0m\u001b[0mX\u001b[0m\u001b[1;33m,\u001b[0m \u001b[0mrequirements\u001b[0m\u001b[1;33m=\u001b[0m\u001b[1;34m\"W\"\u001b[0m\u001b[1;33m)\u001b[0m\u001b[1;33m\u001b[0m\u001b[1;33m\u001b[0m\u001b[0m\n\u001b[1;32m--> 233\u001b[1;33m         \u001b[0mout\u001b[0m \u001b[1;33m=\u001b[0m \u001b[0mhierarchy\u001b[0m\u001b[1;33m.\u001b[0m\u001b[0mward\u001b[0m\u001b[1;33m(\u001b[0m\u001b[0mX\u001b[0m\u001b[1;33m)\u001b[0m\u001b[1;33m\u001b[0m\u001b[1;33m\u001b[0m\u001b[0m\n\u001b[0m\u001b[0;32m    234\u001b[0m         \u001b[0mchildren_\u001b[0m \u001b[1;33m=\u001b[0m \u001b[0mout\u001b[0m\u001b[1;33m[\u001b[0m\u001b[1;33m:\u001b[0m\u001b[1;33m,\u001b[0m \u001b[1;33m:\u001b[0m\u001b[1;36m2\u001b[0m\u001b[1;33m]\u001b[0m\u001b[1;33m.\u001b[0m\u001b[0mastype\u001b[0m\u001b[1;33m(\u001b[0m\u001b[0mnp\u001b[0m\u001b[1;33m.\u001b[0m\u001b[0mintp\u001b[0m\u001b[1;33m)\u001b[0m\u001b[1;33m\u001b[0m\u001b[1;33m\u001b[0m\u001b[0m\n\u001b[0;32m    235\u001b[0m \u001b[1;33m\u001b[0m\u001b[0m\n",
      "\u001b[1;32m~\\Anaconda3\\envs\\main\\lib\\site-packages\\scipy\\cluster\\hierarchy.py\u001b[0m in \u001b[0;36mward\u001b[1;34m(y)\u001b[0m\n\u001b[0;32m    828\u001b[0m \u001b[1;33m\u001b[0m\u001b[0m\n\u001b[0;32m    829\u001b[0m     \"\"\"\n\u001b[1;32m--> 830\u001b[1;33m     \u001b[1;32mreturn\u001b[0m \u001b[0mlinkage\u001b[0m\u001b[1;33m(\u001b[0m\u001b[0my\u001b[0m\u001b[1;33m,\u001b[0m \u001b[0mmethod\u001b[0m\u001b[1;33m=\u001b[0m\u001b[1;34m'ward'\u001b[0m\u001b[1;33m,\u001b[0m \u001b[0mmetric\u001b[0m\u001b[1;33m=\u001b[0m\u001b[1;34m'euclidean'\u001b[0m\u001b[1;33m)\u001b[0m\u001b[1;33m\u001b[0m\u001b[1;33m\u001b[0m\u001b[0m\n\u001b[0m\u001b[0;32m    831\u001b[0m \u001b[1;33m\u001b[0m\u001b[0m\n\u001b[0;32m    832\u001b[0m \u001b[1;33m\u001b[0m\u001b[0m\n",
      "\u001b[1;32m~\\Anaconda3\\envs\\main\\lib\\site-packages\\scipy\\cluster\\hierarchy.py\u001b[0m in \u001b[0;36mlinkage\u001b[1;34m(y, method, metric, optimal_ordering)\u001b[0m\n\u001b[0;32m   1054\u001b[0m                          \u001b[1;34m'matrix looks suspiciously like an uncondensed '\u001b[0m\u001b[1;33m\u001b[0m\u001b[1;33m\u001b[0m\u001b[0m\n\u001b[0;32m   1055\u001b[0m                          'distance matrix')\n\u001b[1;32m-> 1056\u001b[1;33m         \u001b[0my\u001b[0m \u001b[1;33m=\u001b[0m \u001b[0mdistance\u001b[0m\u001b[1;33m.\u001b[0m\u001b[0mpdist\u001b[0m\u001b[1;33m(\u001b[0m\u001b[0my\u001b[0m\u001b[1;33m,\u001b[0m \u001b[0mmetric\u001b[0m\u001b[1;33m)\u001b[0m\u001b[1;33m\u001b[0m\u001b[1;33m\u001b[0m\u001b[0m\n\u001b[0m\u001b[0;32m   1057\u001b[0m     \u001b[1;32melse\u001b[0m\u001b[1;33m:\u001b[0m\u001b[1;33m\u001b[0m\u001b[1;33m\u001b[0m\u001b[0m\n\u001b[0;32m   1058\u001b[0m         \u001b[1;32mraise\u001b[0m \u001b[0mValueError\u001b[0m\u001b[1;33m(\u001b[0m\u001b[1;34m\"`y` must be 1 or 2 dimensional.\"\u001b[0m\u001b[1;33m)\u001b[0m\u001b[1;33m\u001b[0m\u001b[1;33m\u001b[0m\u001b[0m\n",
      "\u001b[1;32m~\\Anaconda3\\envs\\main\\lib\\site-packages\\scipy\\spatial\\distance.py\u001b[0m in \u001b[0;36mpdist\u001b[1;34m(X, metric, *args, **kwargs)\u001b[0m\n\u001b[0;32m   2002\u001b[0m     \u001b[0mout\u001b[0m \u001b[1;33m=\u001b[0m \u001b[0mkwargs\u001b[0m\u001b[1;33m.\u001b[0m\u001b[0mpop\u001b[0m\u001b[1;33m(\u001b[0m\u001b[1;34m\"out\"\u001b[0m\u001b[1;33m,\u001b[0m \u001b[1;32mNone\u001b[0m\u001b[1;33m)\u001b[0m\u001b[1;33m\u001b[0m\u001b[1;33m\u001b[0m\u001b[0m\n\u001b[0;32m   2003\u001b[0m     \u001b[1;32mif\u001b[0m \u001b[0mout\u001b[0m \u001b[1;32mis\u001b[0m \u001b[1;32mNone\u001b[0m\u001b[1;33m:\u001b[0m\u001b[1;33m\u001b[0m\u001b[1;33m\u001b[0m\u001b[0m\n\u001b[1;32m-> 2004\u001b[1;33m         \u001b[0mdm\u001b[0m \u001b[1;33m=\u001b[0m \u001b[0mnp\u001b[0m\u001b[1;33m.\u001b[0m\u001b[0mempty\u001b[0m\u001b[1;33m(\u001b[0m\u001b[1;33m(\u001b[0m\u001b[0mm\u001b[0m \u001b[1;33m*\u001b[0m \u001b[1;33m(\u001b[0m\u001b[0mm\u001b[0m \u001b[1;33m-\u001b[0m \u001b[1;36m1\u001b[0m\u001b[1;33m)\u001b[0m\u001b[1;33m)\u001b[0m \u001b[1;33m//\u001b[0m \u001b[1;36m2\u001b[0m\u001b[1;33m,\u001b[0m \u001b[0mdtype\u001b[0m\u001b[1;33m=\u001b[0m\u001b[0mnp\u001b[0m\u001b[1;33m.\u001b[0m\u001b[0mdouble\u001b[0m\u001b[1;33m)\u001b[0m\u001b[1;33m\u001b[0m\u001b[1;33m\u001b[0m\u001b[0m\n\u001b[0m\u001b[0;32m   2005\u001b[0m     \u001b[1;32melse\u001b[0m\u001b[1;33m:\u001b[0m\u001b[1;33m\u001b[0m\u001b[1;33m\u001b[0m\u001b[0m\n\u001b[0;32m   2006\u001b[0m         \u001b[1;32mif\u001b[0m \u001b[0mout\u001b[0m\u001b[1;33m.\u001b[0m\u001b[0mshape\u001b[0m \u001b[1;33m!=\u001b[0m \u001b[1;33m(\u001b[0m\u001b[0mm\u001b[0m \u001b[1;33m*\u001b[0m \u001b[1;33m(\u001b[0m\u001b[0mm\u001b[0m \u001b[1;33m-\u001b[0m \u001b[1;36m1\u001b[0m\u001b[1;33m)\u001b[0m \u001b[1;33m//\u001b[0m \u001b[1;36m2\u001b[0m\u001b[1;33m,\u001b[0m\u001b[1;33m)\u001b[0m\u001b[1;33m:\u001b[0m\u001b[1;33m\u001b[0m\u001b[1;33m\u001b[0m\u001b[0m\n",
      "\u001b[1;31mMemoryError\u001b[0m: Unable to allocate 56.1 GiB for an array with shape (7529301541,) and data type float64"
     ]
    }
   ],
   "source": [
    "%%time\n",
    "X = area1_int_df.values\n",
    "\n",
    "cluster = AgglomerativeClustering(n_clusters=2, affinity='euclidean', linkage='ward')\n",
    "cluster.fit_predict(X)"
   ]
  },
  {
   "cell_type": "code",
   "execution_count": null,
   "metadata": {
    "execution": {
     "iopub.execute_input": "2020-06-04T08:30:52.485254Z",
     "iopub.status.busy": "2020-06-04T08:30:52.485254Z",
     "iopub.status.idle": "2020-06-04T08:30:52.733252Z",
     "shell.execute_reply": "2020-06-04T08:30:52.732256Z",
     "shell.execute_reply.started": "2020-06-04T08:30:52.485254Z"
    }
   },
   "outputs": [],
   "source": [
    "plt.scatter(X[:,0], X[:,1], c=cluster.labels_, cmap='rainbow', s=10)\n",
    "plt.show();"
   ]
  },
  {
   "cell_type": "code",
   "execution_count": 60,
   "metadata": {
    "execution": {
     "iopub.execute_input": "2020-06-04T08:31:55.307396Z",
     "iopub.status.busy": "2020-06-04T08:31:55.306396Z",
     "iopub.status.idle": "2020-06-04T08:31:55.312398Z",
     "shell.execute_reply": "2020-06-04T08:31:55.311401Z",
     "shell.execute_reply.started": "2020-06-04T08:31:55.307396Z"
    }
   },
   "outputs": [],
   "source": [
    "# You can call the 'labels_' attribute of 'cluster' here instead of \n",
    "# performing the 'fit_transform' operation again.\n",
    "cluster_groups= pd.DataFrame(data=cluster.labels_)"
   ]
  },
  {
   "cell_type": "code",
   "execution_count": 61,
   "metadata": {
    "execution": {
     "iopub.execute_input": "2020-06-04T08:31:56.306302Z",
     "iopub.status.busy": "2020-06-04T08:31:56.305302Z",
     "iopub.status.idle": "2020-06-04T08:31:56.315319Z",
     "shell.execute_reply": "2020-06-04T08:31:56.314307Z",
     "shell.execute_reply.started": "2020-06-04T08:31:56.306302Z"
    }
   },
   "outputs": [
    {
     "data": {
      "text/html": [
       "<div>\n",
       "<style scoped>\n",
       "    .dataframe tbody tr th:only-of-type {\n",
       "        vertical-align: middle;\n",
       "    }\n",
       "\n",
       "    .dataframe tbody tr th {\n",
       "        vertical-align: top;\n",
       "    }\n",
       "\n",
       "    .dataframe thead th {\n",
       "        text-align: right;\n",
       "    }\n",
       "</style>\n",
       "<table border=\"1\" class=\"dataframe\">\n",
       "  <thead>\n",
       "    <tr style=\"text-align: right;\">\n",
       "      <th></th>\n",
       "      <th>0</th>\n",
       "    </tr>\n",
       "  </thead>\n",
       "  <tbody>\n",
       "    <tr>\n",
       "      <th>0</th>\n",
       "      <td>0</td>\n",
       "    </tr>\n",
       "    <tr>\n",
       "      <th>1</th>\n",
       "      <td>2</td>\n",
       "    </tr>\n",
       "    <tr>\n",
       "      <th>2</th>\n",
       "      <td>0</td>\n",
       "    </tr>\n",
       "    <tr>\n",
       "      <th>3</th>\n",
       "      <td>0</td>\n",
       "    </tr>\n",
       "    <tr>\n",
       "      <th>4</th>\n",
       "      <td>0</td>\n",
       "    </tr>\n",
       "    <tr>\n",
       "      <th>...</th>\n",
       "      <td>...</td>\n",
       "    </tr>\n",
       "    <tr>\n",
       "      <th>4654</th>\n",
       "      <td>3</td>\n",
       "    </tr>\n",
       "    <tr>\n",
       "      <th>4655</th>\n",
       "      <td>3</td>\n",
       "    </tr>\n",
       "    <tr>\n",
       "      <th>4656</th>\n",
       "      <td>3</td>\n",
       "    </tr>\n",
       "    <tr>\n",
       "      <th>4657</th>\n",
       "      <td>3</td>\n",
       "    </tr>\n",
       "    <tr>\n",
       "      <th>4658</th>\n",
       "      <td>3</td>\n",
       "    </tr>\n",
       "  </tbody>\n",
       "</table>\n",
       "<p>4659 rows × 1 columns</p>\n",
       "</div>"
      ],
      "text/plain": [
       "      0\n",
       "0     0\n",
       "1     2\n",
       "2     0\n",
       "3     0\n",
       "4     0\n",
       "...  ..\n",
       "4654  3\n",
       "4655  3\n",
       "4656  3\n",
       "4657  3\n",
       "4658  3\n",
       "\n",
       "[4659 rows x 1 columns]"
      ]
     },
     "execution_count": 61,
     "metadata": {},
     "output_type": "execute_result"
    }
   ],
   "source": [
    "cluster_groups"
   ]
  },
  {
   "cell_type": "code",
   "execution_count": 70,
   "metadata": {},
   "outputs": [],
   "source": [
    "area_numbers = pd.read_excel(\"../_INTERPOLATION/area_subdivided.xlsx\", index_col=0, usecols=[0, 24, 29])\n",
    "#area_numbers = pd.read_excel(\"../_INTERPOLATION/area1.xlsx\", index_col=None, usecols=[0, 24, 29])"
   ]
  },
  {
   "cell_type": "code",
   "execution_count": 71,
   "metadata": {},
   "outputs": [],
   "source": [
    "clustering = pd.concat([area_numbers, cluster_groups], axis = 1)\n",
    "clustering = clustering.dropna()"
   ]
  },
  {
   "cell_type": "raw",
   "metadata": {},
   "source": [
    "clustering = clustering.rename(columns={ clustering.columns[0]: \"index\" })\n",
    "clustering = clustering.set_index('index')"
   ]
  },
  {
   "cell_type": "code",
   "execution_count": 72,
   "metadata": {},
   "outputs": [
    {
     "data": {
      "text/html": [
       "<div>\n",
       "<style scoped>\n",
       "    .dataframe tbody tr th:only-of-type {\n",
       "        vertical-align: middle;\n",
       "    }\n",
       "\n",
       "    .dataframe tbody tr th {\n",
       "        vertical-align: top;\n",
       "    }\n",
       "\n",
       "    .dataframe thead th {\n",
       "        text-align: right;\n",
       "    }\n",
       "</style>\n",
       "<table border=\"1\" class=\"dataframe\">\n",
       "  <thead>\n",
       "    <tr style=\"text-align: right;\">\n",
       "      <th></th>\n",
       "      <th>time</th>\n",
       "      <th>area</th>\n",
       "      <th>0</th>\n",
       "    </tr>\n",
       "  </thead>\n",
       "  <tbody>\n",
       "    <tr>\n",
       "      <th>1</th>\n",
       "      <td>K</td>\n",
       "      <td>2.0</td>\n",
       "      <td>2.0</td>\n",
       "    </tr>\n",
       "    <tr>\n",
       "      <th>2</th>\n",
       "      <td>Tr</td>\n",
       "      <td>1.0</td>\n",
       "      <td>0.0</td>\n",
       "    </tr>\n",
       "    <tr>\n",
       "      <th>3</th>\n",
       "      <td>K</td>\n",
       "      <td>3.0</td>\n",
       "      <td>0.0</td>\n",
       "    </tr>\n",
       "    <tr>\n",
       "      <th>4</th>\n",
       "      <td>K</td>\n",
       "      <td>3.0</td>\n",
       "      <td>0.0</td>\n",
       "    </tr>\n",
       "    <tr>\n",
       "      <th>5</th>\n",
       "      <td>K</td>\n",
       "      <td>4.0</td>\n",
       "      <td>2.0</td>\n",
       "    </tr>\n",
       "    <tr>\n",
       "      <th>...</th>\n",
       "      <td>...</td>\n",
       "      <td>...</td>\n",
       "      <td>...</td>\n",
       "    </tr>\n",
       "    <tr>\n",
       "      <th>4653</th>\n",
       "      <td>K</td>\n",
       "      <td>3.0</td>\n",
       "      <td>3.0</td>\n",
       "    </tr>\n",
       "    <tr>\n",
       "      <th>4654</th>\n",
       "      <td>K</td>\n",
       "      <td>2.0</td>\n",
       "      <td>3.0</td>\n",
       "    </tr>\n",
       "    <tr>\n",
       "      <th>4655</th>\n",
       "      <td>K</td>\n",
       "      <td>4.0</td>\n",
       "      <td>3.0</td>\n",
       "    </tr>\n",
       "    <tr>\n",
       "      <th>4656</th>\n",
       "      <td>K</td>\n",
       "      <td>2.0</td>\n",
       "      <td>3.0</td>\n",
       "    </tr>\n",
       "    <tr>\n",
       "      <th>4658</th>\n",
       "      <td>K</td>\n",
       "      <td>3.0</td>\n",
       "      <td>3.0</td>\n",
       "    </tr>\n",
       "  </tbody>\n",
       "</table>\n",
       "<p>4258 rows × 3 columns</p>\n",
       "</div>"
      ],
      "text/plain": [
       "     time  area    0\n",
       "1       K   2.0  2.0\n",
       "2      Tr   1.0  0.0\n",
       "3       K   3.0  0.0\n",
       "4       K   3.0  0.0\n",
       "5       K   4.0  2.0\n",
       "...   ...   ...  ...\n",
       "4653    K   3.0  3.0\n",
       "4654    K   2.0  3.0\n",
       "4655    K   4.0  3.0\n",
       "4656    K   2.0  3.0\n",
       "4658    K   3.0  3.0\n",
       "\n",
       "[4258 rows x 3 columns]"
      ]
     },
     "execution_count": 72,
     "metadata": {},
     "output_type": "execute_result"
    }
   ],
   "source": [
    "clustering"
   ]
  },
  {
   "cell_type": "code",
   "execution_count": 73,
   "metadata": {},
   "outputs": [],
   "source": [
    "clustering.to_excel(\"../_CLUSTER/groups_time_area/interpolation/Area1/cluster_control_points.xlsx\", index=True)"
   ]
  },
  {
   "cell_type": "code",
   "execution_count": 74,
   "metadata": {},
   "outputs": [
    {
     "data": {
      "text/html": [
       "<div>\n",
       "<style scoped>\n",
       "    .dataframe tbody tr th:only-of-type {\n",
       "        vertical-align: middle;\n",
       "    }\n",
       "\n",
       "    .dataframe tbody tr th {\n",
       "        vertical-align: top;\n",
       "    }\n",
       "\n",
       "    .dataframe thead th {\n",
       "        text-align: right;\n",
       "    }\n",
       "</style>\n",
       "<table border=\"1\" class=\"dataframe\">\n",
       "  <thead>\n",
       "    <tr style=\"text-align: right;\">\n",
       "      <th></th>\n",
       "      <th>time</th>\n",
       "      <th>area</th>\n",
       "      <th>0</th>\n",
       "    </tr>\n",
       "  </thead>\n",
       "  <tbody>\n",
       "    <tr>\n",
       "      <th>1</th>\n",
       "      <td>K</td>\n",
       "      <td>2.0</td>\n",
       "      <td>2.0</td>\n",
       "    </tr>\n",
       "    <tr>\n",
       "      <th>2</th>\n",
       "      <td>Tr</td>\n",
       "      <td>1.0</td>\n",
       "      <td>0.0</td>\n",
       "    </tr>\n",
       "    <tr>\n",
       "      <th>3</th>\n",
       "      <td>K</td>\n",
       "      <td>3.0</td>\n",
       "      <td>0.0</td>\n",
       "    </tr>\n",
       "    <tr>\n",
       "      <th>4</th>\n",
       "      <td>K</td>\n",
       "      <td>3.0</td>\n",
       "      <td>0.0</td>\n",
       "    </tr>\n",
       "    <tr>\n",
       "      <th>5</th>\n",
       "      <td>K</td>\n",
       "      <td>4.0</td>\n",
       "      <td>2.0</td>\n",
       "    </tr>\n",
       "    <tr>\n",
       "      <th>...</th>\n",
       "      <td>...</td>\n",
       "      <td>...</td>\n",
       "      <td>...</td>\n",
       "    </tr>\n",
       "    <tr>\n",
       "      <th>4653</th>\n",
       "      <td>K</td>\n",
       "      <td>3.0</td>\n",
       "      <td>3.0</td>\n",
       "    </tr>\n",
       "    <tr>\n",
       "      <th>4654</th>\n",
       "      <td>K</td>\n",
       "      <td>2.0</td>\n",
       "      <td>3.0</td>\n",
       "    </tr>\n",
       "    <tr>\n",
       "      <th>4655</th>\n",
       "      <td>K</td>\n",
       "      <td>4.0</td>\n",
       "      <td>3.0</td>\n",
       "    </tr>\n",
       "    <tr>\n",
       "      <th>4656</th>\n",
       "      <td>K</td>\n",
       "      <td>2.0</td>\n",
       "      <td>3.0</td>\n",
       "    </tr>\n",
       "    <tr>\n",
       "      <th>4658</th>\n",
       "      <td>K</td>\n",
       "      <td>3.0</td>\n",
       "      <td>3.0</td>\n",
       "    </tr>\n",
       "  </tbody>\n",
       "</table>\n",
       "<p>4258 rows × 3 columns</p>\n",
       "</div>"
      ],
      "text/plain": [
       "     time  area    0\n",
       "1       K   2.0  2.0\n",
       "2      Tr   1.0  0.0\n",
       "3       K   3.0  0.0\n",
       "4       K   3.0  0.0\n",
       "5       K   4.0  2.0\n",
       "...   ...   ...  ...\n",
       "4653    K   3.0  3.0\n",
       "4654    K   2.0  3.0\n",
       "4655    K   4.0  3.0\n",
       "4656    K   2.0  3.0\n",
       "4658    K   3.0  3.0\n",
       "\n",
       "[4258 rows x 3 columns]"
      ]
     },
     "execution_count": 74,
     "metadata": {},
     "output_type": "execute_result"
    }
   ],
   "source": [
    "clustering"
   ]
  },
  {
   "cell_type": "code",
   "execution_count": 75,
   "metadata": {},
   "outputs": [],
   "source": [
    "clustering.iloc[:, 2].value_counts().to_excel(\"../_CLUSTER/groups_time_area/interpolation/Area1/control_points_count.xlsx\")"
   ]
  },
  {
   "cell_type": "markdown",
   "metadata": {},
   "source": [
    "-----"
   ]
  },
  {
   "cell_type": "code",
   "execution_count": null,
   "metadata": {},
   "outputs": [],
   "source": [
    "clustering1 = clustering"
   ]
  },
  {
   "cell_type": "code",
   "execution_count": 77,
   "metadata": {},
   "outputs": [],
   "source": [
    "clustering1_J = clustering1.loc[clustering1['time'] == 'J']\n",
    "clustering1_Tr = clustering1.loc[clustering1['time'] == 'Tr']\n",
    "clustering1_Tr_J = clustering1.loc[clustering1['time'] == 'Tr-J']\n",
    "clustering1_Mz = clustering1.loc[clustering1['time'] == 'Mz']\n",
    "clustering1_K = clustering1.loc[clustering1['time'] == 'K']\n",
    "\n",
    "clustering1_J.iloc[:, 2].value_counts().to_excel(\"../_CLUSTER/groups_time_area/interpolation/Area1/groups_counts_area1_J.xlsx\")\n",
    "clustering1_Tr.iloc[:, 2].value_counts().to_excel(\"../_CLUSTER/groups_time_area/interpolation/Area1/groups_counts_area1_Tr.xlsx\")\n",
    "clustering1_Tr_J.iloc[:, 2].value_counts().to_excel(\"../_CLUSTER/groups_time_area/interpolation/Area1/groups_counts_area1_Tr_J.xlsx\")\n",
    "clustering1_Mz.iloc[:, 2].value_counts().to_excel(\"../_CLUSTER/groups_time_area/interpolation/Area1/groups_counts_area1_Mz.xlsx\")\n",
    "clustering1_K.iloc[:, 2].value_counts().to_excel(\"../_CLUSTER/groups_time_area/interpolation/Area1/groups_counts_area1_K.xlsx\")"
   ]
  },
  {
   "cell_type": "markdown",
   "metadata": {},
   "source": [
    "----"
   ]
  },
  {
   "cell_type": "code",
   "execution_count": null,
   "metadata": {},
   "outputs": [],
   "source": []
  },
  {
   "cell_type": "markdown",
   "metadata": {},
   "source": [
    "---"
   ]
  },
  {
   "cell_type": "markdown",
   "metadata": {},
   "source": [
    "## Area2\n"
   ]
  },
  {
   "cell_type": "code",
   "execution_count": null,
   "metadata": {},
   "outputs": [],
   "source": [
    "area_numbers = pd.read_excel(\"../_INTERPOLATION/area_subdivided.xlsx\", index_col=0, usecols=[0, 24, 29])\n",
    "#area_numbers = pd.read_excel(\"../_INTERPOLATION/area1.xlsx\", index_col=None, usecols=[0, 24, 29])"
   ]
  },
  {
   "cell_type": "code",
   "execution_count": null,
   "metadata": {},
   "outputs": [],
   "source": [
    "area2_int_df = area2_int_df.iloc[:, 0: 2]"
   ]
  },
  {
   "cell_type": "code",
   "execution_count": null,
   "metadata": {},
   "outputs": [],
   "source": [
    "area2_int_df"
   ]
  },
  {
   "cell_type": "code",
   "execution_count": null,
   "metadata": {},
   "outputs": [],
   "source": [
    "sns.scatterplot(x=\"PC01\", y=\"PC02\", data=area2_int_df)\n",
    "plt.show();"
   ]
  },
  {
   "cell_type": "code",
   "execution_count": null,
   "metadata": {},
   "outputs": [],
   "source": [
    "%%time\n",
    "X = area2_int_df.values\n",
    "\n",
    "cluster = AgglomerativeClustering(n_clusters=2, affinity='euclidean', linkage='ward')\n",
    "cluster.fit_predict(X)"
   ]
  },
  {
   "cell_type": "code",
   "execution_count": null,
   "metadata": {},
   "outputs": [],
   "source": [
    "plt.scatter(X[:,0], X[:,1], c=cluster.labels_, cmap='rainbow', s=10)\n",
    "plt.show();"
   ]
  },
  {
   "cell_type": "code",
   "execution_count": null,
   "metadata": {},
   "outputs": [],
   "source": [
    "# You can call the 'labels_' attribute of 'cluster' here instead of \n",
    "# performing the 'fit_transform' operation again.\n",
    "cluster_groups= pd.DataFrame(data=cluster.labels_)"
   ]
  },
  {
   "cell_type": "code",
   "execution_count": null,
   "metadata": {},
   "outputs": [],
   "source": [
    "cluster_groups"
   ]
  },
  {
   "cell_type": "code",
   "execution_count": null,
   "metadata": {},
   "outputs": [],
   "source": [
    "area_numbers = pd.read_excel(\"../_INTERPOLATION/area_subdivided.xlsx\", index_col=0, usecols=[0, 24, 29])\n",
    "#area_numbers = pd.read_excel(\"../_INTERPOLATION/area1.xlsx\", index_col=None, usecols=[0, 24, 29])"
   ]
  },
  {
   "cell_type": "code",
   "execution_count": null,
   "metadata": {},
   "outputs": [],
   "source": [
    "clustering = pd.concat([area_numbers, cluster_groups], axis = 1)\n",
    "clustering = clustering.dropna()"
   ]
  },
  {
   "cell_type": "code",
   "execution_count": null,
   "metadata": {},
   "outputs": [],
   "source": [
    "clustering"
   ]
  },
  {
   "cell_type": "code",
   "execution_count": null,
   "metadata": {},
   "outputs": [],
   "source": [
    "clustering2 = clustering"
   ]
  },
  {
   "cell_type": "code",
   "execution_count": null,
   "metadata": {},
   "outputs": [],
   "source": [
    "clustering.to_excel(\"../_CLUSTER/groups_time_area/interpolation/Area2/cluster_control_points.xlsx\", index=True)"
   ]
  },
  {
   "cell_type": "code",
   "execution_count": null,
   "metadata": {},
   "outputs": [],
   "source": [
    "clustering.iloc[:, 2].value_counts().to_excel(\"../_CLUSTER/groups_time_area/interpolation/Area2/control_points_count.xlsx\")"
   ]
  },
  {
   "cell_type": "markdown",
   "metadata": {},
   "source": [
    "----"
   ]
  },
  {
   "cell_type": "code",
   "execution_count": null,
   "metadata": {},
   "outputs": [],
   "source": [
    "clustering2_J = clustering2.loc[clustering2['time'] == 'J']\n",
    "clustering2_Tr = clustering2.loc[clustering2['time'] == 'Tr']\n",
    "clustering2_Pg = clustering2.loc[clustering2['time'] == 'Pg']\n",
    "clustering2_K = clustering2.loc[clustering2['time'] == 'K']\n",
    "\n",
    "clustering2_J.iloc[:, 2].value_counts().to_excel(\"../_CLUSTER/groups_time_area/interpolation/Area2/groups_counts_area2_J.xlsx\")\n",
    "clustering2_Tr.iloc[:, 2].value_counts().to_excel(\"../_CLUSTER/groups_time_area/interpolation/Area2/groups_counts_area2_Tr.xlsx\")\n",
    "clustering2_Pg.iloc[:, 2].value_counts().to_excel(\"../_CLUSTER/groups_time_area/interpolation/Area2/groups_counts_area2_Pg.xlsx\")\n",
    "clustering2_K.iloc[:, 2].value_counts().to_excel(\"../_CLUSTER/groups_time_area/interpolation/Area2/groups_counts_area2_K.xlsx\")"
   ]
  },
  {
   "cell_type": "markdown",
   "metadata": {},
   "source": [
    "----"
   ]
  },
  {
   "cell_type": "markdown",
   "metadata": {},
   "source": [
    "## Area3"
   ]
  },
  {
   "cell_type": "code",
   "execution_count": null,
   "metadata": {},
   "outputs": [],
   "source": [
    "area_numbers = pd.read_excel(\"../_INTERPOLATION/area_subdivided.xlsx\", index_col=0, usecols=[0, 24, 29])\n",
    "#area_numbers = pd.read_excel(\"../_INTERPOLATION/area1.xlsx\", index_col=None, usecols=[0, 24, 29])"
   ]
  },
  {
   "cell_type": "code",
   "execution_count": null,
   "metadata": {},
   "outputs": [],
   "source": [
    "area3_int_df = area3_int_df.iloc[:, 0: 2]"
   ]
  },
  {
   "cell_type": "code",
   "execution_count": null,
   "metadata": {},
   "outputs": [],
   "source": [
    "area3_int_df"
   ]
  },
  {
   "cell_type": "code",
   "execution_count": null,
   "metadata": {},
   "outputs": [],
   "source": [
    "sns.scatterplot(x=\"PC01\", y=\"PC02\", data=area3_int_df)\n",
    "plt.show();"
   ]
  },
  {
   "cell_type": "code",
   "execution_count": null,
   "metadata": {},
   "outputs": [],
   "source": [
    "%%time\n",
    "X = area3_int_df.values\n",
    "\n",
    "cluster = AgglomerativeClustering(n_clusters=2, affinity='euclidean', linkage='ward')\n",
    "cluster.fit_predict(X)"
   ]
  },
  {
   "cell_type": "code",
   "execution_count": null,
   "metadata": {},
   "outputs": [],
   "source": [
    "plt.scatter(X[:,0], X[:,1], c=cluster.labels_, cmap='rainbow', s=10)\n",
    "plt.show();"
   ]
  },
  {
   "cell_type": "code",
   "execution_count": null,
   "metadata": {},
   "outputs": [],
   "source": [
    "# You can call the 'labels_' attribute of 'cluster' here instead of \n",
    "# performing the 'fit_transform' operation again.\n",
    "cluster_groups= pd.DataFrame(data=cluster.labels_)"
   ]
  },
  {
   "cell_type": "code",
   "execution_count": null,
   "metadata": {},
   "outputs": [],
   "source": [
    "cluster_groups"
   ]
  },
  {
   "cell_type": "code",
   "execution_count": null,
   "metadata": {},
   "outputs": [],
   "source": [
    "area_numbers = pd.read_excel(\"../_INTERPOLATION/area_subdivided.xlsx\", index_col=0, usecols=[0, 24, 29])\n",
    "#area_numbers = pd.read_excel(\"../_INTERPOLATION/area1.xlsx\", index_col=None, usecols=[0, 24, 29])"
   ]
  },
  {
   "cell_type": "code",
   "execution_count": null,
   "metadata": {},
   "outputs": [],
   "source": [
    "clustering = pd.concat([area_numbers, cluster_groups], axis = 1)\n",
    "clustering = clustering.dropna()"
   ]
  },
  {
   "cell_type": "code",
   "execution_count": null,
   "metadata": {},
   "outputs": [],
   "source": [
    "clustering"
   ]
  },
  {
   "cell_type": "code",
   "execution_count": null,
   "metadata": {},
   "outputs": [],
   "source": [
    "clustering3 = clustering"
   ]
  },
  {
   "cell_type": "code",
   "execution_count": null,
   "metadata": {},
   "outputs": [],
   "source": [
    "clustering.to_excel(\"../_CLUSTER/groups_time_area/interpolation/Area3/cluster_control_points.xlsx\", index=True)"
   ]
  },
  {
   "cell_type": "code",
   "execution_count": null,
   "metadata": {},
   "outputs": [],
   "source": [
    "clustering.iloc[:, 2].value_counts().to_excel(\"../_CLUSTER/groups_time_area/interpolation/Area3/control_points_count.xlsx\")"
   ]
  },
  {
   "cell_type": "markdown",
   "metadata": {},
   "source": [
    "----"
   ]
  },
  {
   "cell_type": "code",
   "execution_count": null,
   "metadata": {},
   "outputs": [],
   "source": [
    "clustering3_J = clustering3.loc[clustering3['time'] == 'J']\n",
    "clustering3_Tr = clustering3.loc[clustering3['time'] == 'Tr']\n",
    "clustering3_Pg = clustering3.loc[clustering3['time'] == 'Pg']\n",
    "clustering3_K = clustering3.loc[clustering3['time'] == 'K']\n",
    "\n",
    "clustering3_J.iloc[:, 2].value_counts().to_excel(\"../_CLUSTER/groups_time_area/interpolation/Area3/groups_counts_area3_J.xlsx\")\n",
    "clustering3_Tr.iloc[:, 2].value_counts().to_excel(\"../_CLUSTER/groups_time_area/interpolation/Area3/groups_counts_area3_Tr.xlsx\")\n",
    "clustering3_Pg.iloc[:, 2].value_counts().to_excel(\"../_CLUSTER/groups_time_area/interpolation/Area3/groups_counts_area3_Pg.xlsx\")\n",
    "clustering3_K.iloc[:, 2].value_counts().to_excel(\"../_CLUSTER/groups_time_area/interpolation/Area3/groups_counts_area3_K.xlsx\")"
   ]
  },
  {
   "cell_type": "markdown",
   "metadata": {},
   "source": [
    "----"
   ]
  },
  {
   "cell_type": "markdown",
   "metadata": {},
   "source": [
    "## Area4"
   ]
  },
  {
   "cell_type": "code",
   "execution_count": null,
   "metadata": {},
   "outputs": [],
   "source": [
    "area_numbers = pd.read_excel(\"../_INTERPOLATION/area_subdivided.xlsx\", index_col=0, usecols=[0, 24, 29])\n",
    "#area_numbers = pd.read_excel(\"../_INTERPOLATION/area1.xlsx\", index_col=None, usecols=[0, 24, 29])"
   ]
  },
  {
   "cell_type": "code",
   "execution_count": null,
   "metadata": {},
   "outputs": [],
   "source": [
    "area4_int_df = area4_int_df.iloc[:, 0: 4]"
   ]
  },
  {
   "cell_type": "code",
   "execution_count": null,
   "metadata": {},
   "outputs": [],
   "source": [
    "area4_int_df"
   ]
  },
  {
   "cell_type": "code",
   "execution_count": null,
   "metadata": {},
   "outputs": [],
   "source": [
    "sns.scatterplot(x=\"PC01\", y=\"PC02\", data=area4_int_df)\n",
    "plt.show();"
   ]
  },
  {
   "cell_type": "code",
   "execution_count": null,
   "metadata": {},
   "outputs": [],
   "source": [
    "%%time\n",
    "X = area4_int_df.values\n",
    "\n",
    "cluster = AgglomerativeClustering(n_clusters=2, affinity='euclidean', linkage='ward')\n",
    "cluster.fit_predict(X)"
   ]
  },
  {
   "cell_type": "code",
   "execution_count": null,
   "metadata": {},
   "outputs": [],
   "source": [
    "plt.scatter(X[:,0], X[:,1], c=cluster.labels_, cmap='rainbow', s=10)\n",
    "plt.show();"
   ]
  },
  {
   "cell_type": "code",
   "execution_count": null,
   "metadata": {},
   "outputs": [],
   "source": [
    "# You can call the 'labels_' attribute of 'cluster' here instead of \n",
    "# performing the 'fit_transform' operation again.\n",
    "cluster_groups= pd.DataFrame(data=cluster.labels_)"
   ]
  },
  {
   "cell_type": "code",
   "execution_count": null,
   "metadata": {},
   "outputs": [],
   "source": [
    "cluster_groups"
   ]
  },
  {
   "cell_type": "code",
   "execution_count": null,
   "metadata": {},
   "outputs": [],
   "source": [
    "area_numbers = pd.read_excel(\"../_INTERPOLATION/area_subdivided.xlsx\", index_col=0, usecols=[0, 24, 29])\n",
    "#area_numbers = pd.read_excel(\"../_INTERPOLATION/area1.xlsx\", index_col=None, usecols=[0, 24, 29])"
   ]
  },
  {
   "cell_type": "code",
   "execution_count": null,
   "metadata": {},
   "outputs": [],
   "source": [
    "clustering = pd.concat([area_numbers, cluster_groups], axis = 1)\n",
    "clustering = clustering.dropna()"
   ]
  },
  {
   "cell_type": "code",
   "execution_count": null,
   "metadata": {},
   "outputs": [],
   "source": [
    "clustering"
   ]
  },
  {
   "cell_type": "code",
   "execution_count": null,
   "metadata": {},
   "outputs": [],
   "source": [
    "clustering4 = clustering"
   ]
  },
  {
   "cell_type": "code",
   "execution_count": null,
   "metadata": {},
   "outputs": [],
   "source": [
    "clustering.to_excel(\"../_CLUSTER/groups_time_area/interpolation/Area4/cluster_control_points.xlsx\", index=True)"
   ]
  },
  {
   "cell_type": "code",
   "execution_count": null,
   "metadata": {},
   "outputs": [],
   "source": [
    "clustering.iloc[:, 2].value_counts().to_excel(\"../_CLUSTER/groups_time_area/interpolation/Area4/control_points_count.xlsx\")"
   ]
  },
  {
   "cell_type": "markdown",
   "metadata": {},
   "source": [
    "----"
   ]
  },
  {
   "cell_type": "code",
   "execution_count": null,
   "metadata": {},
   "outputs": [],
   "source": [
    "clustering4_J = clustering4.loc[clustering4['time'] == 'J']\n",
    "clustering4_Mz = clustering4.loc[clustering4['time'] == 'Mz']\n",
    "clustering4_Pg = clustering4.loc[clustering4['time'] == 'Pg']\n",
    "clustering4_K = clustering4.loc[clustering4['time'] == 'K']\n",
    "\n",
    "clustering4_J.iloc[:, 2].value_counts().to_excel(\"../_CLUSTER/groups_time_area/interpolation/Area4/groups_counts_area4_J.xlsx\")\n",
    "clustering4_Mz.iloc[:, 2].value_counts().to_excel(\"../_CLUSTER/groups_time_area/interpolation/Area4/groups_counts_area4_Mz.xlsx\")\n",
    "clustering4_Pg.iloc[:, 2].value_counts().to_excel(\"../_CLUSTER/groups_time_area/interpolation/Area4/groups_counts_area4_Pg.xlsx\")\n",
    "clustering4_K.iloc[:, 2].value_counts().to_excel(\"../_CLUSTER/groups_time_area/interpolation/Area4/groups_counts_area4_K.xlsx\")"
   ]
  },
  {
   "cell_type": "markdown",
   "metadata": {},
   "source": [
    "-----"
   ]
  },
  {
   "cell_type": "markdown",
   "metadata": {},
   "source": [
    "## Area5"
   ]
  },
  {
   "cell_type": "code",
   "execution_count": null,
   "metadata": {},
   "outputs": [],
   "source": [
    "area_numbers = pd.read_excel(\"../_INTERPOLATION/area_subdivided.xlsx\", index_col=0, usecols=[0, 24, 29])\n",
    "#area_numbers = pd.read_excel(\"../_INTERPOLATION/area1.xlsx\", index_col=None, usecols=[0, 24, 29])"
   ]
  },
  {
   "cell_type": "code",
   "execution_count": null,
   "metadata": {},
   "outputs": [],
   "source": [
    "area5_int_df = area5_int_df.iloc[:, 0: 3]"
   ]
  },
  {
   "cell_type": "code",
   "execution_count": null,
   "metadata": {},
   "outputs": [],
   "source": [
    "area5_int_df"
   ]
  },
  {
   "cell_type": "code",
   "execution_count": null,
   "metadata": {},
   "outputs": [],
   "source": [
    "sns.scatterplot(x=\"PC01\", y=\"PC02\", data=area5_int_df)\n",
    "plt.show();"
   ]
  },
  {
   "cell_type": "code",
   "execution_count": null,
   "metadata": {},
   "outputs": [],
   "source": [
    "%%time\n",
    "X = area5_int_df.values\n",
    "\n",
    "cluster = AgglomerativeClustering(n_clusters=2, affinity='euclidean', linkage='ward')\n",
    "cluster.fit_predict(X)"
   ]
  },
  {
   "cell_type": "code",
   "execution_count": null,
   "metadata": {},
   "outputs": [],
   "source": [
    "plt.scatter(X[:,0], X[:,1], c=cluster.labels_, cmap='rainbow', s=10)\n",
    "plt.show();"
   ]
  },
  {
   "cell_type": "code",
   "execution_count": null,
   "metadata": {},
   "outputs": [],
   "source": [
    "# You can call the 'labels_' attribute of 'cluster' here instead of \n",
    "# performing the 'fit_transform' operation again.\n",
    "cluster_groups= pd.DataFrame(data=cluster.labels_)"
   ]
  },
  {
   "cell_type": "code",
   "execution_count": null,
   "metadata": {},
   "outputs": [],
   "source": [
    "cluster_groups"
   ]
  },
  {
   "cell_type": "code",
   "execution_count": null,
   "metadata": {},
   "outputs": [],
   "source": [
    "area_numbers = pd.read_excel(\"../_INTERPOLATION/area_subdivided.xlsx\", index_col=0, usecols=[0, 24, 29])\n",
    "#area_numbers = pd.read_excel(\"../_INTERPOLATION/area1.xlsx\", index_col=None, usecols=[0, 24, 29])"
   ]
  },
  {
   "cell_type": "code",
   "execution_count": null,
   "metadata": {},
   "outputs": [],
   "source": [
    "clustering = pd.concat([area_numbers, cluster_groups], axis = 1)\n",
    "clustering = clustering.dropna()"
   ]
  },
  {
   "cell_type": "code",
   "execution_count": null,
   "metadata": {},
   "outputs": [],
   "source": [
    "clustering"
   ]
  },
  {
   "cell_type": "code",
   "execution_count": null,
   "metadata": {},
   "outputs": [],
   "source": [
    "clustering5 = clustering"
   ]
  },
  {
   "cell_type": "code",
   "execution_count": null,
   "metadata": {},
   "outputs": [],
   "source": [
    "clustering.to_excel(\"../_CLUSTER/groups_time_area/interpolation/Area5/cluster_control_points.xlsx\", index=True)"
   ]
  },
  {
   "cell_type": "code",
   "execution_count": null,
   "metadata": {},
   "outputs": [],
   "source": [
    "clustering.iloc[:, 2].value_counts().to_excel(\"../_CLUSTER/groups_time_area/interpolation/Area5/control_points_count.xlsx\")"
   ]
  },
  {
   "cell_type": "code",
   "execution_count": null,
   "metadata": {},
   "outputs": [],
   "source": [
    "clustering5_Mz = clustering5.loc[clustering5['time'] == 'Mz']\n",
    "clustering5_Pg = clustering5.loc[clustering5['time'] == 'Pg']\n",
    "clustering5_K = clustering5.loc[clustering5['time'] == 'K']\n",
    "\n",
    "clustering5_Mz.iloc[:, 2].value_counts().to_excel(\"../_CLUSTER/groups_time_area/interpolation/Area5/groups_counts_area5_Mz.xlsx\")\n",
    "clustering5_Pg.iloc[:, 2].value_counts().to_excel(\"../_CLUSTER/groups_time_area/interpolation/Area5/groups_counts_area5_Pg.xlsx\")\n",
    "clustering5_K.iloc[:, 2].value_counts().to_excel(\"../_CLUSTER/groups_time_area/interpolation/Area5/groups_counts_area5_K.xlsx\")"
   ]
  },
  {
   "cell_type": "code",
   "execution_count": null,
   "metadata": {},
   "outputs": [],
   "source": [
    "coordinates = pd.read_excel(\"../_PETRO/classification_altereddata.xlsx\", index_col=0, usecols=[0, 5, 6])\n",
    "#coordinates = pd.read_excel(\"../_INTERPOLATION/area5.xlsx\", index_col=0, usecols=[0, 5, 6])"
   ]
  },
  {
   "cell_type": "code",
   "execution_count": null,
   "metadata": {},
   "outputs": [],
   "source": [
    "cluster_plot = pd.concat([coordinates, clustering], axis=1)\n",
    "cluster_plot = cluster_plot.dropna()"
   ]
  },
  {
   "cell_type": "code",
   "execution_count": null,
   "metadata": {},
   "outputs": [],
   "source": [
    "cluster_plot"
   ]
  },
  {
   "cell_type": "code",
   "execution_count": null,
   "metadata": {},
   "outputs": [],
   "source": [
    "cluster_plot.to_excel(\"../_CLUSTER/groups_time_area/interpolation/Area5/groups_try.xlsx\", index=True)"
   ]
  },
  {
   "cell_type": "markdown",
   "metadata": {},
   "source": [
    "# combined areas"
   ]
  },
  {
   "cell_type": "markdown",
   "metadata": {},
   "source": [
    "## using PCA's"
   ]
  },
  {
   "cell_type": "code",
   "execution_count": null,
   "metadata": {},
   "outputs": [],
   "source": [
    "area_numbers = pd.read_excel(\"../_INTERPOLATION/area_subdivided.xlsx\", index_col=0, usecols=[0, 24, 29])\n",
    "#area_numbers = pd.read_excel(\"../_INTERPOLATION/area1.xlsx\", index_col=None, usecols=[0, 24, 29])"
   ]
  },
  {
   "cell_type": "code",
   "execution_count": null,
   "metadata": {},
   "outputs": [],
   "source": [
    "area1_int_df = area1_int_df.iloc[:, 0: 2]"
   ]
  },
  {
   "cell_type": "code",
   "execution_count": null,
   "metadata": {},
   "outputs": [],
   "source": [
    "area1_int_df"
   ]
  },
  {
   "cell_type": "code",
   "execution_count": null,
   "metadata": {},
   "outputs": [],
   "source": [
    "sns.scatterplot(x=\"PC01\", y=\"PC02\", data=area1_int_df)\n",
    "plt.show();"
   ]
  },
  {
   "cell_type": "code",
   "execution_count": null,
   "metadata": {},
   "outputs": [],
   "source": [
    "%%time\n",
    "X = area1_int_df.values\n",
    "\n",
    "cluster = AgglomerativeClustering(n_clusters=2, affinity='euclidean', linkage='ward')\n",
    "cluster.fit_predict(X)"
   ]
  },
  {
   "cell_type": "code",
   "execution_count": null,
   "metadata": {},
   "outputs": [],
   "source": [
    "plt.scatter(X[:,0], X[:,1], c=cluster.labels_, cmap='rainbow', s=10)\n",
    "plt.show();"
   ]
  },
  {
   "cell_type": "code",
   "execution_count": null,
   "metadata": {},
   "outputs": [],
   "source": [
    "# You can call the 'labels_' attribute of 'cluster' here instead of \n",
    "# performing the 'fit_transform' operation again.\n",
    "cluster_groups= pd.DataFrame(data=cluster.labels_)"
   ]
  },
  {
   "cell_type": "code",
   "execution_count": null,
   "metadata": {},
   "outputs": [],
   "source": [
    "cluster_groups"
   ]
  },
  {
   "cell_type": "code",
   "execution_count": null,
   "metadata": {},
   "outputs": [],
   "source": [
    "area_numbers = pd.read_excel(\"../_INTERPOLATION/area_subdivided.xlsx\", index_col=0, usecols=[0, 24, 29])\n",
    "#area_numbers = pd.read_excel(\"../_INTERPOLATION/area1.xlsx\", index_col=None, usecols=[0, 24, 29])"
   ]
  },
  {
   "cell_type": "code",
   "execution_count": null,
   "metadata": {},
   "outputs": [],
   "source": [
    "clustering = pd.concat([area_numbers, cluster_groups], axis = 1)\n",
    "clustering = clustering.dropna()"
   ]
  },
  {
   "cell_type": "code",
   "execution_count": null,
   "metadata": {},
   "outputs": [],
   "source": [
    "clustering"
   ]
  },
  {
   "cell_type": "code",
   "execution_count": null,
   "metadata": {},
   "outputs": [],
   "source": [
    "clustering.to_excel(\"../_CLUSTER/groups_time_area/interpolation/Area1/cluster_control_points.xlsx\", index=True)"
   ]
  },
  {
   "cell_type": "code",
   "execution_count": null,
   "metadata": {},
   "outputs": [],
   "source": [
    "clustering.iloc[:, 2].value_counts().to_excel(\"../_CLUSTER/groups_time_area/interpolation/Area1/control_points_count.xlsx\")"
   ]
  },
  {
   "cell_type": "markdown",
   "metadata": {},
   "source": [
    "----"
   ]
  },
  {
   "cell_type": "code",
   "execution_count": null,
   "metadata": {},
   "outputs": [],
   "source": [
    "clustering1= clustering.loc[clustering['area'] == 1]\n",
    "clustering2= clustering.loc[clustering['area'] == 2]\n",
    "clustering3= clustering.loc[clustering['area'] == 3]\n",
    "clustering4= clustering.loc[clustering['area'] == 4]\n",
    "clustering5= clustering.loc[clustering['area'] == 5]"
   ]
  },
  {
   "cell_type": "code",
   "execution_count": null,
   "metadata": {},
   "outputs": [],
   "source": [
    "clustering1_J = clustering1.loc[clustering1['time'] == 'J']\n",
    "clustering1_Tr = clustering1.loc[clustering1['time'] == 'Tr']\n",
    "clustering1_Tr_J = clustering1.loc[clustering1['time'] == 'Tr-J']\n",
    "clustering1_Mz = clustering1.loc[clustering1['time'] == 'Mz']\n",
    "clustering1_K = clustering1.loc[clustering1['time'] == 'K']\n",
    "\n",
    "clustering1_J.iloc[:, 2].value_counts().to_excel(\"../_CLUSTER/groups_time_area/interpolation/Area1/groups_counts_area1_J.xlsx\")\n",
    "clustering1_Tr.iloc[:, 2].value_counts().to_excel(\"../_CLUSTER/groups_time_area/interpolation/Area1/groups_counts_area1_Tr.xlsx\")\n",
    "clustering1_Tr_J.iloc[:, 2].value_counts().to_excel(\"../_CLUSTER/groups_time_area/interpolation/Area1/groups_counts_area1_Tr_J.xlsx\")\n",
    "clustering1_Mz.iloc[:, 2].value_counts().to_excel(\"../_CLUSTER/groups_time_area/interpolation/Area1/groups_counts_area1_Mz.xlsx\")\n",
    "clustering1_K.iloc[:, 2].value_counts().to_excel(\"../_CLUSTER/groups_time_area/interpolation/Area1/groups_counts_area1_K.xlsx\")"
   ]
  },
  {
   "cell_type": "code",
   "execution_count": null,
   "metadata": {},
   "outputs": [],
   "source": [
    "clustering2_J = clustering2.loc[clustering2['time'] == 'J']\n",
    "clustering2_Tr = clustering2.loc[clustering2['time'] == 'Tr']\n",
    "clustering2_Pg = clustering2.loc[clustering2['time'] == 'Pg']\n",
    "clustering2_K = clustering2.loc[clustering2['time'] == 'K']\n",
    "\n",
    "clustering2_J.iloc[:, 2].value_counts().to_excel(\"../_CLUSTER/groups_time_area/interpolation/Area1/groups_counts_area2_J.xlsx\")\n",
    "clustering2_Tr.iloc[:, 2].value_counts().to_excel(\"../_CLUSTER/groups_time_area/interpolation/Area1/groups_counts_area2_Tr.xlsx\")\n",
    "clustering2_Pg.iloc[:, 2].value_counts().to_excel(\"../_CLUSTER/groups_time_area/interpolation/Area1/groups_counts_area2_Pg.xlsx\")\n",
    "clustering2_K.iloc[:, 2].value_counts().to_excel(\"../_CLUSTER/groups_time_area/interpolation/Area1/groups_counts_area2_K.xlsx\")"
   ]
  },
  {
   "cell_type": "code",
   "execution_count": null,
   "metadata": {},
   "outputs": [],
   "source": [
    "clustering3_J = clustering3.loc[clustering3['time'] == 'J']\n",
    "clustering3_Tr = clustering3.loc[clustering3['time'] == 'Tr']\n",
    "clustering3_Pg = clustering3.loc[clustering3['time'] == 'Pg']\n",
    "clustering3_K = clustering3.loc[clustering3['time'] == 'K']\n",
    "\n",
    "clustering3_J.iloc[:, 2].value_counts().to_excel(\"../_CLUSTER/groups_time_area/interpolation/Area1/groups_counts_area3_J.xlsx\")\n",
    "clustering3_Tr.iloc[:, 2].value_counts().to_excel(\"../_CLUSTER/groups_time_area/interpolation/Area1/groups_counts_area3_Tr.xlsx\")\n",
    "clustering3_Pg.iloc[:, 2].value_counts().to_excel(\"../_CLUSTER/groups_time_area/interpolation/Area1/groups_counts_area3_Pg.xlsx\")\n",
    "clustering3_K.iloc[:, 2].value_counts().to_excel(\"../_CLUSTER/groups_time_area/interpolation/Area1/groups_counts_area3_K.xlsx\")"
   ]
  },
  {
   "cell_type": "code",
   "execution_count": null,
   "metadata": {},
   "outputs": [],
   "source": [
    "clustering4_J = clustering4.loc[clustering4['time'] == 'J']\n",
    "clustering4_Mz = clustering4.loc[clustering4['time'] == 'Mz']\n",
    "clustering4_Pg = clustering4.loc[clustering4['time'] == 'Pg']\n",
    "clustering4_K = clustering4.loc[clustering4['time'] == 'K']\n",
    "\n",
    "clustering4_J.iloc[:, 2].value_counts().to_excel(\"../_CLUSTER/groups_time_area/interpolation/Area1/groups_counts_area4_J.xlsx\")\n",
    "clustering4_Mz.iloc[:, 2].value_counts().to_excel(\"../_CLUSTER/groups_time_area/interpolation/Area1/groups_counts_area4_Mz.xlsx\")\n",
    "clustering4_Pg.iloc[:, 2].value_counts().to_excel(\"../_CLUSTER/groups_time_area/interpolation/Area1/groups_counts_area4_Pg.xlsx\")\n",
    "clustering4_K.iloc[:, 2].value_counts().to_excel(\"../_CLUSTER/groups_time_area/interpolation/Area1/groups_counts_area4_K.xlsx\")"
   ]
  },
  {
   "cell_type": "code",
   "execution_count": null,
   "metadata": {},
   "outputs": [],
   "source": [
    "clustering5_Mz = clustering5.loc[clustering5['time'] == 'Mz']\n",
    "clustering5_Pg = clustering5.loc[clustering5['time'] == 'Pg']\n",
    "clustering5_K = clustering5.loc[clustering5['time'] == 'K']\n",
    "\n",
    "clustering5_Mz.iloc[:, 2].value_counts().to_excel(\"../_CLUSTER/groups_time_area/interpolation/Area1/groups_counts_area5_Mz.xlsx\")\n",
    "clustering5_Pg.iloc[:, 2].value_counts().to_excel(\"../_CLUSTER/groups_time_area/interpolation/Area1/groups_counts_area5_Pg.xlsx\")\n",
    "clustering5_K.iloc[:, 2].value_counts().to_excel(\"../_CLUSTER/groups_time_area/interpolation/Area1/groups_counts_area5_K.xlsx\")"
   ]
  },
  {
   "cell_type": "code",
   "execution_count": null,
   "metadata": {},
   "outputs": [],
   "source": []
  },
  {
   "cell_type": "code",
   "execution_count": null,
   "metadata": {},
   "outputs": [],
   "source": [
    "coordinates = pd.read_excel(\"../_PETRO/classification_altereddata.xlsx\", index_col=0, usecols=[0, 5, 6])\n",
    "#coordinates = pd.read_excel(\"../_INTERPOLATION/area5.xlsx\", index_col=0, usecols=[0, 5, 6])"
   ]
  },
  {
   "cell_type": "code",
   "execution_count": null,
   "metadata": {},
   "outputs": [],
   "source": [
    "cluster_plot = pd.concat([coordinates, clustering], axis=1)\n",
    "cluster_plot = cluster_plot.dropna()"
   ]
  },
  {
   "cell_type": "code",
   "execution_count": null,
   "metadata": {},
   "outputs": [],
   "source": [
    "cluster_plot"
   ]
  },
  {
   "cell_type": "code",
   "execution_count": null,
   "metadata": {},
   "outputs": [],
   "source": [
    "cluster_plot.to_excel(\"../_CLUSTER/groups_time_area/interpolation/Area1/groups_try.xlsx\", index=True)"
   ]
  },
  {
   "cell_type": "markdown",
   "metadata": {},
   "source": [
    "----"
   ]
  },
  {
   "cell_type": "code",
   "execution_count": null,
   "metadata": {},
   "outputs": [],
   "source": []
  }
 ],
 "metadata": {
  "kernelspec": {
   "display_name": "Python 3",
   "language": "python",
   "name": "python3"
  },
  "language_info": {
   "codemirror_mode": {
    "name": "ipython",
    "version": 3
   },
   "file_extension": ".py",
   "mimetype": "text/x-python",
   "name": "python",
   "nbconvert_exporter": "python",
   "pygments_lexer": "ipython3",
   "version": "3.7.3"
  }
 },
 "nbformat": 4,
 "nbformat_minor": 4
}
