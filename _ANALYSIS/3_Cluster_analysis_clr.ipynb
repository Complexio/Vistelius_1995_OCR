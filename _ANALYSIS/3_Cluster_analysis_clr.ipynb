{
 "cells": [
  {
   "cell_type": "markdown",
   "metadata": {},
   "source": [
    "# 3. Cluster analysis"
   ]
  },
  {
   "cell_type": "markdown",
   "metadata": {},
   "source": [
    "General info may be found in the following blogposts:  \n",
    "https://stackabuse.com/hierarchical-clustering-with-python-and-scikit-learn/  \n",
    "https://joernhees.de/blog/2015/08/26/scipy-hierarchical-clustering-and-dendrogram-tutorial/  \n",
    "https://towardsdatascience.com/machine-learning-algorithms-part-12-hierarchical-agglomerative-clustering-example-in-python-1e18e0075019  \n",
    "https://medium.com/@sametgirgin/hierarchical-clustering-model-in-5-steps-with-python-6c45087d4318  "
   ]
  },
  {
   "cell_type": "markdown",
   "metadata": {},
   "source": [
    "## Q&A"
   ]
  },
  {
   "cell_type": "markdown",
   "metadata": {},
   "source": [
    "### Remark\n",
    "Not sure if GJ said to use clr or pca for clustering, pca was used here as example. --> **clr data, see next remark**"
   ]
  },
  {
   "cell_type": "markdown",
   "metadata": {},
   "source": [
    "### Response 10/04/2020 16:10\n",
    "Retrieved some notes I made when GJ explained how to use the cluster analysis but we will have to ask him to elaborate on this on Tuesday:\n",
    "\n",
    "\"Cluster analyse met permutatie (cfr simulaties bij ons interpolatie project; coördinaten koppelen aan andere metadata) en telkens nieuw dendrogram maken. Daarna cumulative density function van statistische (euclidische?) afstand maken en 95% als threshold gebruiken om kritieke afstand te bepalen waarop groepen significant zijn. + wegingsfactor voor coördinaten meegeven (tussen 0 en 1)\"\n",
    "\n",
    "To answer your questions below I have added responses to them in-line"
   ]
  },
  {
   "cell_type": "markdown",
   "metadata": {},
   "source": [
    "### Questions + remarks\n",
    "\n",
    "-Cophenetic correlation coefficient has to be close to 1, from which value its okay?  \n",
    "**Good question, honestly I don't think it matters that much as some of the blog posts don't mention it at all. Another reason to not pay to much attention to it is by using e.g. the 'ward' method vs. the 'centroid' method. The latter might give a better cophenetic correlation that the former but the resulting figure of the 'ward' method looks more sensible in my opinion.**\n",
    "\n",
    "-Changed number of clusters from 5 to 4 in the code \"cluster = AgglomerativeClustering(n_clusters=5, affinity='euclidean', linkage='ward')\". Seemed to be the right choice when looking to the dendrogram.  \n",
    "**This is something where you will have to make a choice indeed, both options can be defended**\n",
    "\n",
    "-A lot of methods were given to define the number of cluster goups, the best way was to to this by hand (the largest vertical distance where horizontal lines doesn't intersect other newclusters). howerver, the dendogram already subdivided 4 clusters. I know that there are methods to do this automatically, are they used here? Or does python automatically created the groups based on the first method mentioned?  \n",
    "**The first dendrogram is used to visually check how many clusters you want to use in the actual clustering step (AgglomerativeClustering). This decision is thus made by using the horizontal line trick but there should be a way to automate this but would have to look into this mayself more. GJ's comment above might point us in the right direction but need to work out the code to do it, or find code to do it.**\n",
    "\n",
    "-Which data of the PCA is taken into account? Are all the principal components taken into account? Or only two because the examples I saw focussed on two variables. i will certainly look into it, so i will probably find out how this will be done using all the Princiel components if that is the case   \n",
    "**All PCs were used, but this is irrelevant now as from GJ's comment it's clear that we have to use the clr data. We could ask GJ why we use clr instead of PCA because the possiblity of dimensionality reduction with PCA prior to the clustering might be interesting? But I'm note sure if this would be mathematically correct let alone sensible.**\n",
    "\n",
    "-It is clear for me which cluster method is used and which linkage method and why it is used.   \n",
    "**OK**\n"
   ]
  },
  {
   "cell_type": "markdown",
   "metadata": {},
   "source": [
    "**remark**\n",
    "not sure how to visualise the treshhold of 95%, but i will look to it after the biplots"
   ]
  },
  {
   "cell_type": "markdown",
   "metadata": {},
   "source": [
    "## Code"
   ]
  },
  {
   "cell_type": "code",
   "execution_count": 47,
   "metadata": {
    "execution": {
     "iopub.execute_input": "2020-06-04T08:22:37.458228Z",
     "iopub.status.busy": "2020-06-04T08:22:37.458228Z",
     "iopub.status.idle": "2020-06-04T08:22:45.547989Z",
     "shell.execute_reply": "2020-06-04T08:22:45.546990Z",
     "shell.execute_reply.started": "2020-06-04T08:22:37.458228Z"
    }
   },
   "outputs": [],
   "source": [
    "import numpy as np\n",
    "import pandas as pd\n",
    "\n",
    "import matplotlib.pyplot as plt\n",
    "import seaborn as sns\n",
    "\n",
    "from scipy.cluster.hierarchy import dendrogram, linkage\n",
    "from scipy.cluster.hierarchy import cophenet\n",
    "from scipy.spatial.distance import pdist\n",
    "\n",
    "from sklearn.cluster import AgglomerativeClustering"
   ]
  },
  {
   "cell_type": "code",
   "execution_count": 48,
   "metadata": {
    "execution": {
     "iopub.execute_input": "2020-06-04T08:22:45.548975Z",
     "iopub.status.busy": "2020-06-04T08:22:45.548975Z",
     "iopub.status.idle": "2020-06-04T08:22:45.614991Z",
     "shell.execute_reply": "2020-06-04T08:22:45.613977Z",
     "shell.execute_reply.started": "2020-06-04T08:22:45.548975Z"
    }
   },
   "outputs": [],
   "source": [
    "import prepostprocessing.pre_processing as preproc"
   ]
  },
  {
   "cell_type": "code",
   "execution_count": 49,
   "metadata": {
    "execution": {
     "iopub.execute_input": "2020-06-04T08:22:45.615985Z",
     "iopub.status.busy": "2020-06-04T08:22:45.615985Z",
     "iopub.status.idle": "2020-06-04T08:22:45.910752Z",
     "shell.execute_reply": "2020-06-04T08:22:45.909744Z",
     "shell.execute_reply.started": "2020-06-04T08:22:45.615985Z"
    }
   },
   "outputs": [],
   "source": [
    "pca_df_area1 = preproc.load_obj(\"mineralogy_pca_area1_df\")\n",
    "metadata_area1 = preproc.load_obj(\"metadata_area1\")\n",
    "\n",
    "pca_df_area2 = preproc.load_obj(\"mineralogy_pca_area2_df\")\n",
    "metadata_area2 = preproc.load_obj(\"metadata_area2\")\n",
    "\n",
    "pca_df_area3 = preproc.load_obj(\"mineralogy_pca_area3_df\")\n",
    "metadata_area3 = preproc.load_obj(\"metadata_area3\")\n",
    "\n",
    "pca_df_area4 = preproc.load_obj(\"mineralogy_pca_area4_df\")\n",
    "metadata_area4 = preproc.load_obj(\"metadata_area4\")\n",
    "\n",
    "pca_df_area5 = preproc.load_obj(\"mineralogy_pca_area5_df\")\n",
    "metadata_area5 = preproc.load_obj(\"metadata_area5\")\n",
    "\n",
    "pca_df = preproc.load_obj(\"mineralogy_pca_df1\")\n",
    "metadata = preproc.load_obj(\"metadata\")\n",
    "\n",
    "mineralogy_clr = preproc.load_obj(\"mineralogy_clr1\")"
   ]
  },
  {
   "cell_type": "code",
   "execution_count": 50,
   "metadata": {
    "execution": {
     "iopub.execute_input": "2020-06-04T08:35:19.969217Z",
     "iopub.status.busy": "2020-06-04T08:35:19.969217Z",
     "iopub.status.idle": "2020-06-04T08:35:21.289219Z",
     "shell.execute_reply": "2020-06-04T08:35:21.289219Z",
     "shell.execute_reply.started": "2020-06-04T08:35:19.969217Z"
    }
   },
   "outputs": [],
   "source": [
    "area_numbers = pd.read_excel(\"../_INTERPOLATION/area_subdivided.xlsx\", index_col=0, usecols=[0, 24, 29])\n",
    "#area_numbers = pd.read_excel(\"../_INTERPOLATION/area1.xlsx\", index_col=None, usecols=[0, 24, 29])"
   ]
  },
  {
   "cell_type": "code",
   "execution_count": 51,
   "metadata": {
    "execution": {
     "iopub.execute_input": "2020-06-04T08:22:52.528091Z",
     "iopub.status.busy": "2020-06-04T08:22:52.527085Z",
     "iopub.status.idle": "2020-06-04T08:22:52.554088Z",
     "shell.execute_reply": "2020-06-04T08:22:52.553125Z",
     "shell.execute_reply.started": "2020-06-04T08:22:52.528091Z"
    }
   },
   "outputs": [
    {
     "data": {
      "text/html": [
       "<div>\n",
       "<style scoped>\n",
       "    .dataframe tbody tr th:only-of-type {\n",
       "        vertical-align: middle;\n",
       "    }\n",
       "\n",
       "    .dataframe tbody tr th {\n",
       "        vertical-align: top;\n",
       "    }\n",
       "\n",
       "    .dataframe thead th {\n",
       "        text-align: right;\n",
       "    }\n",
       "</style>\n",
       "<table border=\"1\" class=\"dataframe\">\n",
       "  <thead>\n",
       "    <tr style=\"text-align: right;\">\n",
       "      <th></th>\n",
       "      <th>SiO2</th>\n",
       "      <th>TiO2</th>\n",
       "      <th>Al2O3</th>\n",
       "      <th>Fe2O3</th>\n",
       "      <th>FeO</th>\n",
       "      <th>MnO</th>\n",
       "      <th>MgO</th>\n",
       "      <th>CaO</th>\n",
       "      <th>Na2O</th>\n",
       "      <th>K2O</th>\n",
       "    </tr>\n",
       "  </thead>\n",
       "  <tbody>\n",
       "    <tr>\n",
       "      <th>1</th>\n",
       "      <td>4.452818</td>\n",
       "      <td>-3.158035</td>\n",
       "      <td>2.379300</td>\n",
       "      <td>-0.433455</td>\n",
       "      <td>0.603165</td>\n",
       "      <td>-4.544329</td>\n",
       "      <td>-0.855450</td>\n",
       "      <td>-0.536996</td>\n",
       "      <td>0.753988</td>\n",
       "      <td>1.338993</td>\n",
       "    </tr>\n",
       "    <tr>\n",
       "      <th>2</th>\n",
       "      <td>4.519605</td>\n",
       "      <td>-2.165007</td>\n",
       "      <td>2.450114</td>\n",
       "      <td>-1.634378</td>\n",
       "      <td>-0.442240</td>\n",
       "      <td>-3.774445</td>\n",
       "      <td>-0.778712</td>\n",
       "      <td>-0.912244</td>\n",
       "      <td>0.970488</td>\n",
       "      <td>1.766819</td>\n",
       "    </tr>\n",
       "    <tr>\n",
       "      <th>3</th>\n",
       "      <td>4.788753</td>\n",
       "      <td>-2.588005</td>\n",
       "      <td>2.699251</td>\n",
       "      <td>-1.424854</td>\n",
       "      <td>0.955849</td>\n",
       "      <td>-3.504296</td>\n",
       "      <td>-1.712536</td>\n",
       "      <td>-1.558386</td>\n",
       "      <td>0.120045</td>\n",
       "      <td>2.224179</td>\n",
       "    </tr>\n",
       "    <tr>\n",
       "      <th>4</th>\n",
       "      <td>4.124327</td>\n",
       "      <td>-3.472191</td>\n",
       "      <td>2.012606</td>\n",
       "      <td>-0.113553</td>\n",
       "      <td>-0.540997</td>\n",
       "      <td>-2.555900</td>\n",
       "      <td>-1.051822</td>\n",
       "      <td>-0.653792</td>\n",
       "      <td>1.057717</td>\n",
       "      <td>1.193604</td>\n",
       "    </tr>\n",
       "    <tr>\n",
       "      <th>5</th>\n",
       "      <td>4.348354</td>\n",
       "      <td>-2.549098</td>\n",
       "      <td>2.302932</td>\n",
       "      <td>-0.469657</td>\n",
       "      <td>0.932142</td>\n",
       "      <td>-3.242245</td>\n",
       "      <td>-3.019102</td>\n",
       "      <td>0.199774</td>\n",
       "      <td>0.395341</td>\n",
       "      <td>1.101560</td>\n",
       "    </tr>\n",
       "    <tr>\n",
       "      <th>...</th>\n",
       "      <td>...</td>\n",
       "      <td>...</td>\n",
       "      <td>...</td>\n",
       "      <td>...</td>\n",
       "      <td>...</td>\n",
       "      <td>...</td>\n",
       "      <td>...</td>\n",
       "      <td>...</td>\n",
       "      <td>...</td>\n",
       "      <td>...</td>\n",
       "    </tr>\n",
       "    <tr>\n",
       "      <th>4655</th>\n",
       "      <td>2.635045</td>\n",
       "      <td>-2.240153</td>\n",
       "      <td>1.668789</td>\n",
       "      <td>0.110001</td>\n",
       "      <td>0.304876</td>\n",
       "      <td>-2.812672</td>\n",
       "      <td>0.033822</td>\n",
       "      <td>0.783394</td>\n",
       "      <td>0.117309</td>\n",
       "      <td>-0.600410</td>\n",
       "    </tr>\n",
       "    <tr>\n",
       "      <th>4656</th>\n",
       "      <td>2.640723</td>\n",
       "      <td>-1.289140</td>\n",
       "      <td>1.587809</td>\n",
       "      <td>-0.329790</td>\n",
       "      <td>0.906973</td>\n",
       "      <td>-3.591725</td>\n",
       "      <td>0.334201</td>\n",
       "      <td>0.846209</td>\n",
       "      <td>-0.310814</td>\n",
       "      <td>-0.794444</td>\n",
       "    </tr>\n",
       "    <tr>\n",
       "      <th>4657</th>\n",
       "      <td>2.529955</td>\n",
       "      <td>-1.250274</td>\n",
       "      <td>1.502001</td>\n",
       "      <td>0.047427</td>\n",
       "      <td>0.262462</td>\n",
       "      <td>-3.222617</td>\n",
       "      <td>0.374695</td>\n",
       "      <td>0.744131</td>\n",
       "      <td>-0.404219</td>\n",
       "      <td>-0.583560</td>\n",
       "    </tr>\n",
       "    <tr>\n",
       "      <th>4658</th>\n",
       "      <td>2.737015</td>\n",
       "      <td>-1.059568</td>\n",
       "      <td>1.909712</td>\n",
       "      <td>-0.357610</td>\n",
       "      <td>0.248526</td>\n",
       "      <td>-3.484370</td>\n",
       "      <td>-0.177484</td>\n",
       "      <td>1.059988</td>\n",
       "      <td>0.219398</td>\n",
       "      <td>-1.095607</td>\n",
       "    </tr>\n",
       "    <tr>\n",
       "      <th>4659</th>\n",
       "      <td>2.923753</td>\n",
       "      <td>-1.215206</td>\n",
       "      <td>1.975784</td>\n",
       "      <td>0.681288</td>\n",
       "      <td>0.418924</td>\n",
       "      <td>-5.597233</td>\n",
       "      <td>0.605302</td>\n",
       "      <td>1.435391</td>\n",
       "      <td>0.051741</td>\n",
       "      <td>-1.279745</td>\n",
       "    </tr>\n",
       "  </tbody>\n",
       "</table>\n",
       "<p>4659 rows × 10 columns</p>\n",
       "</div>"
      ],
      "text/plain": [
       "          SiO2      TiO2     Al2O3     Fe2O3       FeO       MnO       MgO  \\\n",
       "1     4.452818 -3.158035  2.379300 -0.433455  0.603165 -4.544329 -0.855450   \n",
       "2     4.519605 -2.165007  2.450114 -1.634378 -0.442240 -3.774445 -0.778712   \n",
       "3     4.788753 -2.588005  2.699251 -1.424854  0.955849 -3.504296 -1.712536   \n",
       "4     4.124327 -3.472191  2.012606 -0.113553 -0.540997 -2.555900 -1.051822   \n",
       "5     4.348354 -2.549098  2.302932 -0.469657  0.932142 -3.242245 -3.019102   \n",
       "...        ...       ...       ...       ...       ...       ...       ...   \n",
       "4655  2.635045 -2.240153  1.668789  0.110001  0.304876 -2.812672  0.033822   \n",
       "4656  2.640723 -1.289140  1.587809 -0.329790  0.906973 -3.591725  0.334201   \n",
       "4657  2.529955 -1.250274  1.502001  0.047427  0.262462 -3.222617  0.374695   \n",
       "4658  2.737015 -1.059568  1.909712 -0.357610  0.248526 -3.484370 -0.177484   \n",
       "4659  2.923753 -1.215206  1.975784  0.681288  0.418924 -5.597233  0.605302   \n",
       "\n",
       "           CaO      Na2O       K2O  \n",
       "1    -0.536996  0.753988  1.338993  \n",
       "2    -0.912244  0.970488  1.766819  \n",
       "3    -1.558386  0.120045  2.224179  \n",
       "4    -0.653792  1.057717  1.193604  \n",
       "5     0.199774  0.395341  1.101560  \n",
       "...        ...       ...       ...  \n",
       "4655  0.783394  0.117309 -0.600410  \n",
       "4656  0.846209 -0.310814 -0.794444  \n",
       "4657  0.744131 -0.404219 -0.583560  \n",
       "4658  1.059988  0.219398 -1.095607  \n",
       "4659  1.435391  0.051741 -1.279745  \n",
       "\n",
       "[4659 rows x 10 columns]"
      ]
     },
     "execution_count": 51,
     "metadata": {},
     "output_type": "execute_result"
    }
   ],
   "source": [
    "mineralogy_clr"
   ]
  },
  {
   "cell_type": "code",
   "execution_count": 52,
   "metadata": {
    "execution": {
     "iopub.execute_input": "2020-06-04T08:23:31.779286Z",
     "iopub.status.busy": "2020-06-04T08:23:31.779286Z",
     "iopub.status.idle": "2020-06-04T08:23:31.794304Z",
     "shell.execute_reply": "2020-06-04T08:23:31.793281Z",
     "shell.execute_reply.started": "2020-06-04T08:23:31.779286Z"
    }
   },
   "outputs": [
    {
     "data": {
      "text/html": [
       "<div>\n",
       "<style scoped>\n",
       "    .dataframe tbody tr th:only-of-type {\n",
       "        vertical-align: middle;\n",
       "    }\n",
       "\n",
       "    .dataframe tbody tr th {\n",
       "        vertical-align: top;\n",
       "    }\n",
       "\n",
       "    .dataframe thead th {\n",
       "        text-align: right;\n",
       "    }\n",
       "</style>\n",
       "<table border=\"1\" class=\"dataframe\">\n",
       "  <thead>\n",
       "    <tr style=\"text-align: right;\">\n",
       "      <th></th>\n",
       "      <th>type_granite</th>\n",
       "      <th>time</th>\n",
       "      <th>massif</th>\n",
       "      <th>sampler</th>\n",
       "      <th>others</th>\n",
       "      <th>sampler+year</th>\n",
       "    </tr>\n",
       "  </thead>\n",
       "  <tbody>\n",
       "    <tr>\n",
       "      <th>1</th>\n",
       "      <td>Granite leucogranitic</td>\n",
       "      <td>K</td>\n",
       "      <td>NaN</td>\n",
       "      <td>NaN</td>\n",
       "      <td>NaN</td>\n",
       "      <td>V.N.Musin,1970</td>\n",
       "    </tr>\n",
       "    <tr>\n",
       "      <th>2</th>\n",
       "      <td>Granite leucocratic</td>\n",
       "      <td>Tr</td>\n",
       "      <td>NaN</td>\n",
       "      <td>V.I.Zhigalova</td>\n",
       "      <td>NaN</td>\n",
       "      <td>E.A.Ivanov,1969</td>\n",
       "    </tr>\n",
       "    <tr>\n",
       "      <th>3</th>\n",
       "      <td>Granite leucocratic coarse-grained</td>\n",
       "      <td>K</td>\n",
       "      <td>Omsukchan massif</td>\n",
       "      <td>P.M.Bosek</td>\n",
       "      <td>NaN</td>\n",
       "      <td>O.S.Gracheva,1948</td>\n",
       "    </tr>\n",
       "    <tr>\n",
       "      <th>4</th>\n",
       "      <td>Granite leucocratic</td>\n",
       "      <td>K</td>\n",
       "      <td>Buksandzhin massif</td>\n",
       "      <td>A.Kh.Brovtman</td>\n",
       "      <td>NaN</td>\n",
       "      <td>A.F.Mikhaylov,1948</td>\n",
       "    </tr>\n",
       "    <tr>\n",
       "      <th>5</th>\n",
       "      <td>Granite-porphyry micropegmatitic</td>\n",
       "      <td>K</td>\n",
       "      <td>Attykveem massif</td>\n",
       "      <td>L.G.Semenova</td>\n",
       "      <td>0th.:S-0.16</td>\n",
       "      <td>A.I.Sadovsky,1963</td>\n",
       "    </tr>\n",
       "    <tr>\n",
       "      <th>...</th>\n",
       "      <td>...</td>\n",
       "      <td>...</td>\n",
       "      <td>...</td>\n",
       "      <td>...</td>\n",
       "      <td>...</td>\n",
       "      <td>...</td>\n",
       "    </tr>\n",
       "    <tr>\n",
       "      <th>4655</th>\n",
       "      <td>Diorite</td>\n",
       "      <td>K</td>\n",
       "      <td>Egdegkych massif</td>\n",
       "      <td>NaN</td>\n",
       "      <td>Oth.:co2-0.12</td>\n",
       "      <td>V.A.lgnat'ev,1964</td>\n",
       "    </tr>\n",
       "    <tr>\n",
       "      <th>4656</th>\n",
       "      <td>Quartz diorite</td>\n",
       "      <td>K</td>\n",
       "      <td>Verkhneplotnikovsky massif</td>\n",
       "      <td>NaN</td>\n",
       "      <td>NaN</td>\n",
       "      <td>A.A.Syas'ko,1969</td>\n",
       "    </tr>\n",
       "    <tr>\n",
       "      <th>4657</th>\n",
       "      <td>Diorite</td>\n",
       "      <td>J</td>\n",
       "      <td>NaN</td>\n",
       "      <td>NaN</td>\n",
       "      <td>Oth.:co2-0.02,so3-0.0l</td>\n",
       "      <td>N.N.Remizov,1967</td>\n",
       "    </tr>\n",
       "    <tr>\n",
       "      <th>4658</th>\n",
       "      <td>Diorite</td>\n",
       "      <td>K</td>\n",
       "      <td>NaN</td>\n",
       "      <td>NaN</td>\n",
       "      <td>NaN</td>\n",
       "      <td>A.P.Osipov,1966</td>\n",
       "    </tr>\n",
       "    <tr>\n",
       "      <th>4659</th>\n",
       "      <td>Diorite</td>\n",
       "      <td>K</td>\n",
       "      <td>Vukney massif</td>\n",
       "      <td>V.V.Langvagen</td>\n",
       "      <td>Oth:Ba0-0.03</td>\n",
       "      <td>M.G.Ravich,1938</td>\n",
       "    </tr>\n",
       "  </tbody>\n",
       "</table>\n",
       "<p>4659 rows × 6 columns</p>\n",
       "</div>"
      ],
      "text/plain": [
       "                            type_granite time                      massif  \\\n",
       "1                  Granite leucogranitic    K                         NaN   \n",
       "2                    Granite leucocratic   Tr                         NaN   \n",
       "3     Granite leucocratic coarse-grained    K            Omsukchan massif   \n",
       "4                    Granite leucocratic    K          Buksandzhin massif   \n",
       "5       Granite-porphyry micropegmatitic    K            Attykveem massif   \n",
       "...                                  ...  ...                         ...   \n",
       "4655                             Diorite    K            Egdegkych massif   \n",
       "4656                      Quartz diorite    K  Verkhneplotnikovsky massif   \n",
       "4657                             Diorite    J                         NaN   \n",
       "4658                             Diorite    K                         NaN   \n",
       "4659                             Diorite    K               Vukney massif   \n",
       "\n",
       "            sampler                  others        sampler+year  \n",
       "1               NaN                     NaN      V.N.Musin,1970  \n",
       "2     V.I.Zhigalova                     NaN     E.A.Ivanov,1969  \n",
       "3         P.M.Bosek                     NaN   O.S.Gracheva,1948  \n",
       "4     A.Kh.Brovtman                     NaN  A.F.Mikhaylov,1948  \n",
       "5      L.G.Semenova             0th.:S-0.16   A.I.Sadovsky,1963  \n",
       "...             ...                     ...                 ...  \n",
       "4655            NaN           Oth.:co2-0.12   V.A.lgnat'ev,1964  \n",
       "4656            NaN                     NaN    A.A.Syas'ko,1969  \n",
       "4657            NaN  Oth.:co2-0.02,so3-0.0l    N.N.Remizov,1967  \n",
       "4658            NaN                     NaN     A.P.Osipov,1966  \n",
       "4659  V.V.Langvagen            Oth:Ba0-0.03     M.G.Ravich,1938  \n",
       "\n",
       "[4659 rows x 6 columns]"
      ]
     },
     "execution_count": 52,
     "metadata": {},
     "output_type": "execute_result"
    }
   ],
   "source": [
    "metadata"
   ]
  },
  {
   "cell_type": "markdown",
   "metadata": {},
   "source": [
    "### Remark\n",
    "**The metadata dataframe you use here for the entire dataset is actually the one for area 1.**  \n",
    "**Note that metadata for samples that fall outside one of the 5 areas are already excluded from 'area_numbers', though.**"
   ]
  },
  {
   "cell_type": "code",
   "execution_count": 53,
   "metadata": {},
   "outputs": [
    {
     "data": {
      "image/png": "[encoded data removed]",
      "text/plain": [
       "<Figure size 432x288 with 1 Axes>"
      ]
     },
     "metadata": {
      "needs_background": "light"
     },
     "output_type": "display_data"
    }
   ],
   "source": [
    "sns.scatterplot(x=\"SiO2\", y=\"Al2O3\", data=mineralogy_clr, hue=metadata[\"time\"])\n",
    "plt.show();"
   ]
  },
  {
   "cell_type": "code",
   "execution_count": 54,
   "metadata": {
    "execution": {
     "iopub.execute_input": "2020-06-04T08:38:47.202049Z",
     "iopub.status.busy": "2020-06-04T08:38:47.201037Z",
     "iopub.status.idle": "2020-06-04T08:38:47.210036Z",
     "shell.execute_reply": "2020-06-04T08:38:47.210036Z",
     "shell.execute_reply.started": "2020-06-04T08:38:47.202049Z"
    }
   },
   "outputs": [
    {
     "data": {
      "text/plain": [
       "Int64Index([ 370,  477, 1573,    1,    7,    8,   13,   16,   20,   28,\n",
       "            ...\n",
       "            4310, 4317, 4385, 4429, 4516, 4522, 4562, 4594, 4628, 4643],\n",
       "           dtype='int64', length=2341)"
      ]
     },
     "execution_count": 54,
     "metadata": {},
     "output_type": "execute_result"
    }
   ],
   "source": [
    "area_numbers[area_numbers[\"time\"] == \"K\"].index"
   ]
  },
  {
   "cell_type": "code",
   "execution_count": 55,
   "metadata": {},
   "outputs": [
    {
     "data": {
      "image/png": "[encoded data removed]",
      "text/plain": [
       "<Figure size 432x288 with 1 Axes>"
      ]
     },
     "metadata": {
      "needs_background": "light"
     },
     "output_type": "display_data"
    }
   ],
   "source": [
    "sns.scatterplot(x=\"SiO2\", y=\"Al2O3\", data=mineralogy_clr.loc[area_numbers[area_numbers[\"time\"] == \"Tr\"].index, :])\n",
    "plt.show();"
   ]
  },
  {
   "cell_type": "code",
   "execution_count": 56,
   "metadata": {
    "execution": {
     "iopub.execute_input": "2020-06-04T08:27:45.490249Z",
     "iopub.status.busy": "2020-06-04T08:27:45.490249Z",
     "iopub.status.idle": "2020-06-04T08:27:45.497252Z",
     "shell.execute_reply": "2020-06-04T08:27:45.496254Z",
     "shell.execute_reply.started": "2020-06-04T08:27:45.490249Z"
    }
   },
   "outputs": [],
   "source": [
    "def create_dendrogram(data, linkage_method='ward', save=\"\"):\n",
    "    \"\"\"Plot dendrogram\n",
    "    \n",
    "    Parameters:\n",
    "    -----------\n",
    "    data : array or DataFrame\n",
    "        Data to be clustered\n",
    "    linkage_method : str (optional)\n",
    "        Method to use to construct the linkage matrix\n",
    "        Choose between ['single', 'complete', 'average',\n",
    "        'weighted', 'centroid', 'median', 'ward']\n",
    "        For detailed information see \n",
    "        https://docs.scipy.org/doc/scipy-0.14.0/reference/ \\\n",
    "        generated/scipy.cluster.hierarchy.linkage.html\n",
    "    save : str (optional)\n",
    "        Name to use for figure file when saving\n",
    "    \"\"\"\n",
    "    \n",
    "    linkage_matrix = linkage(data, linkage_method)\n",
    "    c, coph_dists = cophenet(linkage_matrix, pdist(data))\n",
    "    print(\"Cophenetic correlation coefficient:\", c)\n",
    "    \n",
    "    plt.figure(figsize=(25, 10))\n",
    "    dendrogram(linkage_matrix, labels=data.index)\n",
    "    if save != \"\":\n",
    "        plt.savefig(f\"../_FIGURES/{save}.pdf\")\n",
    "    plt.show()"
   ]
  },
  {
   "cell_type": "code",
   "execution_count": 57,
   "metadata": {
    "execution": {
     "iopub.execute_input": "2020-06-04T08:27:47.270390Z",
     "iopub.status.busy": "2020-06-04T08:27:47.269389Z",
     "iopub.status.idle": "2020-06-04T08:29:21.880692Z",
     "shell.execute_reply": "2020-06-04T08:29:21.879676Z",
     "shell.execute_reply.started": "2020-06-04T08:27:47.270390Z"
    }
   },
   "outputs": [
    {
     "name": "stdout",
     "output_type": "stream",
     "text": [
      "Cophenetic correlation coefficient: 0.39146922638348935\n"
     ]
    },
    {
     "data": {
      "image/png": "[encoded data removed]",
      "text/plain": [
       "<Figure size 1800x720 with 1 Axes>"
      ]
     },
     "metadata": {
      "needs_background": "light"
     },
     "output_type": "display_data"
    },
    {
     "name": "stdout",
     "output_type": "stream",
     "text": [
      "Wall time: 1min 46s\n"
     ]
    }
   ],
   "source": [
    "%%time\n",
    "create_dendrogram(mineralogy_clr, linkage_method='ward')"
   ]
  },
  {
   "cell_type": "code",
   "execution_count": 58,
   "metadata": {
    "execution": {
     "iopub.execute_input": "2020-06-04T08:30:48.688826Z",
     "iopub.status.busy": "2020-06-04T08:30:48.688826Z",
     "iopub.status.idle": "2020-06-04T08:30:49.582855Z",
     "shell.execute_reply": "2020-06-04T08:30:49.582855Z",
     "shell.execute_reply.started": "2020-06-04T08:30:48.688826Z"
    }
   },
   "outputs": [
    {
     "data": {
      "text/plain": [
       "array([0, 2, 0, ..., 3, 3, 3], dtype=int64)"
      ]
     },
     "execution_count": 58,
     "metadata": {},
     "output_type": "execute_result"
    }
   ],
   "source": [
    "X = mineralogy_clr.values\n",
    "\n",
    "cluster = AgglomerativeClustering(n_clusters=4, affinity='euclidean', linkage='ward')\n",
    "cluster.fit_predict(X)"
   ]
  },
  {
   "cell_type": "code",
   "execution_count": 59,
   "metadata": {
    "execution": {
     "iopub.execute_input": "2020-06-04T08:30:52.485254Z",
     "iopub.status.busy": "2020-06-04T08:30:52.485254Z",
     "iopub.status.idle": "2020-06-04T08:30:52.733252Z",
     "shell.execute_reply": "2020-06-04T08:30:52.732256Z",
     "shell.execute_reply.started": "2020-06-04T08:30:52.485254Z"
    }
   },
   "outputs": [
    {
     "data": {
      "image/png": "[encoded data removed]",
      "text/plain": [
       "<Figure size 432x288 with 1 Axes>"
      ]
     },
     "metadata": {
      "needs_background": "light"
     },
     "output_type": "display_data"
    }
   ],
   "source": [
    "plt.scatter(X[:,0], X[:,1], c=cluster.labels_, cmap='rainbow', s=10)\n",
    "plt.show();"
   ]
  },
  {
   "cell_type": "code",
   "execution_count": 60,
   "metadata": {
    "execution": {
     "iopub.execute_input": "2020-06-04T08:31:55.307396Z",
     "iopub.status.busy": "2020-06-04T08:31:55.306396Z",
     "iopub.status.idle": "2020-06-04T08:31:55.312398Z",
     "shell.execute_reply": "2020-06-04T08:31:55.311401Z",
     "shell.execute_reply.started": "2020-06-04T08:31:55.307396Z"
    }
   },
   "outputs": [],
   "source": [
    "# You can call the 'labels_' attribute of 'cluster' here instead of \n",
    "# performing the 'fit_transform' operation again.\n",
    "cluster_groups= pd.DataFrame(data=cluster.labels_)"
   ]
  },
  {
   "cell_type": "code",
   "execution_count": 61,
   "metadata": {
    "execution": {
     "iopub.execute_input": "2020-06-04T08:31:56.306302Z",
     "iopub.status.busy": "2020-06-04T08:31:56.305302Z",
     "iopub.status.idle": "2020-06-04T08:31:56.315319Z",
     "shell.execute_reply": "2020-06-04T08:31:56.314307Z",
     "shell.execute_reply.started": "2020-06-04T08:31:56.306302Z"
    }
   },
   "outputs": [
    {
     "data": {
      "text/html": [
       "<div>\n",
       "<style scoped>\n",
       "    .dataframe tbody tr th:only-of-type {\n",
       "        vertical-align: middle;\n",
       "    }\n",
       "\n",
       "    .dataframe tbody tr th {\n",
       "        vertical-align: top;\n",
       "    }\n",
       "\n",
       "    .dataframe thead th {\n",
       "        text-align: right;\n",
       "    }\n",
       "</style>\n",
       "<table border=\"1\" class=\"dataframe\">\n",
       "  <thead>\n",
       "    <tr style=\"text-align: right;\">\n",
       "      <th></th>\n",
       "      <th>0</th>\n",
       "    </tr>\n",
       "  </thead>\n",
       "  <tbody>\n",
       "    <tr>\n",
       "      <th>0</th>\n",
       "      <td>0</td>\n",
       "    </tr>\n",
       "    <tr>\n",
       "      <th>1</th>\n",
       "      <td>2</td>\n",
       "    </tr>\n",
       "    <tr>\n",
       "      <th>2</th>\n",
       "      <td>0</td>\n",
       "    </tr>\n",
       "    <tr>\n",
       "      <th>3</th>\n",
       "      <td>0</td>\n",
       "    </tr>\n",
       "    <tr>\n",
       "      <th>4</th>\n",
       "      <td>0</td>\n",
       "    </tr>\n",
       "    <tr>\n",
       "      <th>...</th>\n",
       "      <td>...</td>\n",
       "    </tr>\n",
       "    <tr>\n",
       "      <th>4654</th>\n",
       "      <td>3</td>\n",
       "    </tr>\n",
       "    <tr>\n",
       "      <th>4655</th>\n",
       "      <td>3</td>\n",
       "    </tr>\n",
       "    <tr>\n",
       "      <th>4656</th>\n",
       "      <td>3</td>\n",
       "    </tr>\n",
       "    <tr>\n",
       "      <th>4657</th>\n",
       "      <td>3</td>\n",
       "    </tr>\n",
       "    <tr>\n",
       "      <th>4658</th>\n",
       "      <td>3</td>\n",
       "    </tr>\n",
       "  </tbody>\n",
       "</table>\n",
       "<p>4659 rows × 1 columns</p>\n",
       "</div>"
      ],
      "text/plain": [
       "      0\n",
       "0     0\n",
       "1     2\n",
       "2     0\n",
       "3     0\n",
       "4     0\n",
       "...  ..\n",
       "4654  3\n",
       "4655  3\n",
       "4656  3\n",
       "4657  3\n",
       "4658  3\n",
       "\n",
       "[4659 rows x 1 columns]"
      ]
     },
     "execution_count": 61,
     "metadata": {},
     "output_type": "execute_result"
    }
   ],
   "source": [
    "cluster_groups"
   ]
  },
  {
   "cell_type": "code",
   "execution_count": 70,
   "metadata": {},
   "outputs": [],
   "source": [
    "area_numbers = pd.read_excel(\"../_INTERPOLATION/area_subdivided.xlsx\", index_col=0, usecols=[0, 24, 29])\n",
    "#area_numbers = pd.read_excel(\"../_INTERPOLATION/area1.xlsx\", index_col=None, usecols=[0, 24, 29])"
   ]
  },
  {
   "cell_type": "code",
   "execution_count": 71,
   "metadata": {},
   "outputs": [],
   "source": [
    "clustering = pd.concat([area_numbers, cluster_groups], axis = 1)\n",
    "clustering = clustering.dropna()"
   ]
  },
  {
   "cell_type": "raw",
   "metadata": {},
   "source": [
    "clustering = clustering.rename(columns={ clustering.columns[0]: \"index\" })\n",
    "clustering = clustering.set_index('index')"
   ]
  },
  {
   "cell_type": "code",
   "execution_count": 72,
   "metadata": {},
   "outputs": [
    {
     "data": {
      "text/html": [
       "<div>\n",
       "<style scoped>\n",
       "    .dataframe tbody tr th:only-of-type {\n",
       "        vertical-align: middle;\n",
       "    }\n",
       "\n",
       "    .dataframe tbody tr th {\n",
       "        vertical-align: top;\n",
       "    }\n",
       "\n",
       "    .dataframe thead th {\n",
       "        text-align: right;\n",
       "    }\n",
       "</style>\n",
       "<table border=\"1\" class=\"dataframe\">\n",
       "  <thead>\n",
       "    <tr style=\"text-align: right;\">\n",
       "      <th></th>\n",
       "      <th>time</th>\n",
       "      <th>area</th>\n",
       "      <th>0</th>\n",
       "    </tr>\n",
       "  </thead>\n",
       "  <tbody>\n",
       "    <tr>\n",
       "      <th>1</th>\n",
       "      <td>K</td>\n",
       "      <td>2.0</td>\n",
       "      <td>2.0</td>\n",
       "    </tr>\n",
       "    <tr>\n",
       "      <th>2</th>\n",
       "      <td>Tr</td>\n",
       "      <td>1.0</td>\n",
       "      <td>0.0</td>\n",
       "    </tr>\n",
       "    <tr>\n",
       "      <th>3</th>\n",
       "      <td>K</td>\n",
       "      <td>3.0</td>\n",
       "      <td>0.0</td>\n",
       "    </tr>\n",
       "    <tr>\n",
       "      <th>4</th>\n",
       "      <td>K</td>\n",
       "      <td>3.0</td>\n",
       "      <td>0.0</td>\n",
       "    </tr>\n",
       "    <tr>\n",
       "      <th>5</th>\n",
       "      <td>K</td>\n",
       "      <td>4.0</td>\n",
       "      <td>2.0</td>\n",
       "    </tr>\n",
       "    <tr>\n",
       "      <th>...</th>\n",
       "      <td>...</td>\n",
       "      <td>...</td>\n",
       "      <td>...</td>\n",
       "    </tr>\n",
       "    <tr>\n",
       "      <th>4653</th>\n",
       "      <td>K</td>\n",
       "      <td>3.0</td>\n",
       "      <td>3.0</td>\n",
       "    </tr>\n",
       "    <tr>\n",
       "      <th>4654</th>\n",
       "      <td>K</td>\n",
       "      <td>2.0</td>\n",
       "      <td>3.0</td>\n",
       "    </tr>\n",
       "    <tr>\n",
       "      <th>4655</th>\n",
       "      <td>K</td>\n",
       "      <td>4.0</td>\n",
       "      <td>3.0</td>\n",
       "    </tr>\n",
       "    <tr>\n",
       "      <th>4656</th>\n",
       "      <td>K</td>\n",
       "      <td>2.0</td>\n",
       "      <td>3.0</td>\n",
       "    </tr>\n",
       "    <tr>\n",
       "      <th>4658</th>\n",
       "      <td>K</td>\n",
       "      <td>3.0</td>\n",
       "      <td>3.0</td>\n",
       "    </tr>\n",
       "  </tbody>\n",
       "</table>\n",
       "<p>4258 rows × 3 columns</p>\n",
       "</div>"
      ],
      "text/plain": [
       "     time  area    0\n",
       "1       K   2.0  2.0\n",
       "2      Tr   1.0  0.0\n",
       "3       K   3.0  0.0\n",
       "4       K   3.0  0.0\n",
       "5       K   4.0  2.0\n",
       "...   ...   ...  ...\n",
       "4653    K   3.0  3.0\n",
       "4654    K   2.0  3.0\n",
       "4655    K   4.0  3.0\n",
       "4656    K   2.0  3.0\n",
       "4658    K   3.0  3.0\n",
       "\n",
       "[4258 rows x 3 columns]"
      ]
     },
     "execution_count": 72,
     "metadata": {},
     "output_type": "execute_result"
    }
   ],
   "source": [
    "clustering"
   ]
  },
  {
   "cell_type": "code",
   "execution_count": 73,
   "metadata": {},
   "outputs": [],
   "source": [
    "clustering.to_excel(\"../_CLUSTER/groups_time_area/clr/cluster_control_points.xlsx\", index=True)"
   ]
  },
  {
   "cell_type": "code",
   "execution_count": 74,
   "metadata": {},
   "outputs": [
    {
     "data": {
      "text/html": [
       "<div>\n",
       "<style scoped>\n",
       "    .dataframe tbody tr th:only-of-type {\n",
       "        vertical-align: middle;\n",
       "    }\n",
       "\n",
       "    .dataframe tbody tr th {\n",
       "        vertical-align: top;\n",
       "    }\n",
       "\n",
       "    .dataframe thead th {\n",
       "        text-align: right;\n",
       "    }\n",
       "</style>\n",
       "<table border=\"1\" class=\"dataframe\">\n",
       "  <thead>\n",
       "    <tr style=\"text-align: right;\">\n",
       "      <th></th>\n",
       "      <th>time</th>\n",
       "      <th>area</th>\n",
       "      <th>0</th>\n",
       "    </tr>\n",
       "  </thead>\n",
       "  <tbody>\n",
       "    <tr>\n",
       "      <th>1</th>\n",
       "      <td>K</td>\n",
       "      <td>2.0</td>\n",
       "      <td>2.0</td>\n",
       "    </tr>\n",
       "    <tr>\n",
       "      <th>2</th>\n",
       "      <td>Tr</td>\n",
       "      <td>1.0</td>\n",
       "      <td>0.0</td>\n",
       "    </tr>\n",
       "    <tr>\n",
       "      <th>3</th>\n",
       "      <td>K</td>\n",
       "      <td>3.0</td>\n",
       "      <td>0.0</td>\n",
       "    </tr>\n",
       "    <tr>\n",
       "      <th>4</th>\n",
       "      <td>K</td>\n",
       "      <td>3.0</td>\n",
       "      <td>0.0</td>\n",
       "    </tr>\n",
       "    <tr>\n",
       "      <th>5</th>\n",
       "      <td>K</td>\n",
       "      <td>4.0</td>\n",
       "      <td>2.0</td>\n",
       "    </tr>\n",
       "    <tr>\n",
       "      <th>...</th>\n",
       "      <td>...</td>\n",
       "      <td>...</td>\n",
       "      <td>...</td>\n",
       "    </tr>\n",
       "    <tr>\n",
       "      <th>4653</th>\n",
       "      <td>K</td>\n",
       "      <td>3.0</td>\n",
       "      <td>3.0</td>\n",
       "    </tr>\n",
       "    <tr>\n",
       "      <th>4654</th>\n",
       "      <td>K</td>\n",
       "      <td>2.0</td>\n",
       "      <td>3.0</td>\n",
       "    </tr>\n",
       "    <tr>\n",
       "      <th>4655</th>\n",
       "      <td>K</td>\n",
       "      <td>4.0</td>\n",
       "      <td>3.0</td>\n",
       "    </tr>\n",
       "    <tr>\n",
       "      <th>4656</th>\n",
       "      <td>K</td>\n",
       "      <td>2.0</td>\n",
       "      <td>3.0</td>\n",
       "    </tr>\n",
       "    <tr>\n",
       "      <th>4658</th>\n",
       "      <td>K</td>\n",
       "      <td>3.0</td>\n",
       "      <td>3.0</td>\n",
       "    </tr>\n",
       "  </tbody>\n",
       "</table>\n",
       "<p>4258 rows × 3 columns</p>\n",
       "</div>"
      ],
      "text/plain": [
       "     time  area    0\n",
       "1       K   2.0  2.0\n",
       "2      Tr   1.0  0.0\n",
       "3       K   3.0  0.0\n",
       "4       K   3.0  0.0\n",
       "5       K   4.0  2.0\n",
       "...   ...   ...  ...\n",
       "4653    K   3.0  3.0\n",
       "4654    K   2.0  3.0\n",
       "4655    K   4.0  3.0\n",
       "4656    K   2.0  3.0\n",
       "4658    K   3.0  3.0\n",
       "\n",
       "[4258 rows x 3 columns]"
      ]
     },
     "execution_count": 74,
     "metadata": {},
     "output_type": "execute_result"
    }
   ],
   "source": [
    "clustering"
   ]
  },
  {
   "cell_type": "code",
   "execution_count": 75,
   "metadata": {},
   "outputs": [],
   "source": [
    "clustering.iloc[:, 2].value_counts().to_excel(\"../_CLUSTER/groups_time_area/clr/control_points_count.xlsx\")"
   ]
  },
  {
   "cell_type": "markdown",
   "metadata": {},
   "source": [
    "-----"
   ]
  },
  {
   "cell_type": "code",
   "execution_count": null,
   "metadata": {},
   "outputs": [],
   "source": []
  },
  {
   "cell_type": "code",
   "execution_count": 76,
   "metadata": {},
   "outputs": [],
   "source": [
    "clustering1= clustering.loc[clustering['area'] == 1]\n",
    "clustering2= clustering.loc[clustering['area'] == 2]\n",
    "clustering3= clustering.loc[clustering['area'] == 3]\n",
    "clustering4= clustering.loc[clustering['area'] == 4]\n",
    "clustering5= clustering.loc[clustering['area'] == 5]"
   ]
  },
  {
   "cell_type": "code",
   "execution_count": 77,
   "metadata": {},
   "outputs": [],
   "source": [
    "clustering1_J = clustering1.loc[clustering1['time'] == 'J']\n",
    "clustering1_Tr = clustering1.loc[clustering1['time'] == 'Tr']\n",
    "clustering1_Tr_J = clustering1.loc[clustering1['time'] == 'Tr-J']\n",
    "clustering1_Mz = clustering1.loc[clustering1['time'] == 'Mz']\n",
    "clustering1_K = clustering1.loc[clustering1['time'] == 'K']\n",
    "\n",
    "clustering1_J.iloc[:, 2].value_counts().to_excel(\"../_CLUSTER/groups_time_area/clr/groups_counts_area1_J.xlsx\")\n",
    "clustering1_Tr.iloc[:, 2].value_counts().to_excel(\"../_CLUSTER/groups_time_area/clr/groups_counts_area1_Tr.xlsx\")\n",
    "clustering1_Tr_J.iloc[:, 2].value_counts().to_excel(\"../_CLUSTER/groups_time_area/clr/groups_counts_area1_Tr_J.xlsx\")\n",
    "clustering1_Mz.iloc[:, 2].value_counts().to_excel(\"../_CLUSTER/groups_time_area/clr/groups_counts_area1_Mz.xlsx\")\n",
    "clustering1_K.iloc[:, 2].value_counts().to_excel(\"../_CLUSTER/groups_time_area/clr/groups_counts_area1_K.xlsx\")"
   ]
  },
  {
   "cell_type": "code",
   "execution_count": 78,
   "metadata": {},
   "outputs": [],
   "source": [
    "clustering2_J = clustering2.loc[clustering2['time'] == 'J']\n",
    "clustering2_Tr = clustering2.loc[clustering2['time'] == 'Tr']\n",
    "clustering2_Pg = clustering2.loc[clustering2['time'] == 'Pg']\n",
    "clustering2_K = clustering2.loc[clustering2['time'] == 'K']\n",
    "\n",
    "clustering2_J.iloc[:, 2].value_counts().to_excel(\"../_CLUSTER/groups_time_area/clr/groups_counts_area2_J.xlsx\")\n",
    "clustering2_Tr.iloc[:, 2].value_counts().to_excel(\"../_CLUSTER/groups_time_area/clr/groups_counts_area2_Tr.xlsx\")\n",
    "clustering2_Pg.iloc[:, 2].value_counts().to_excel(\"../_CLUSTER/groups_time_area/clr/groups_counts_area2_Pg.xlsx\")\n",
    "clustering2_K.iloc[:, 2].value_counts().to_excel(\"../_CLUSTER/groups_time_area/clr/groups_counts_area2_K.xlsx\")"
   ]
  },
  {
   "cell_type": "code",
   "execution_count": 79,
   "metadata": {},
   "outputs": [],
   "source": [
    "clustering3_J = clustering3.loc[clustering3['time'] == 'J']\n",
    "clustering3_Tr = clustering3.loc[clustering3['time'] == 'Tr']\n",
    "clustering3_Pg = clustering3.loc[clustering3['time'] == 'Pg']\n",
    "clustering3_K = clustering3.loc[clustering3['time'] == 'K']\n",
    "\n",
    "clustering3_J.iloc[:, 2].value_counts().to_excel(\"../_CLUSTER/groups_time_area/clr/groups_counts_area3_J.xlsx\")\n",
    "clustering3_Tr.iloc[:, 2].value_counts().to_excel(\"../_CLUSTER/groups_time_area/clr/groups_counts_area3_Tr.xlsx\")\n",
    "clustering3_Pg.iloc[:, 2].value_counts().to_excel(\"../_CLUSTER/groups_time_area/clr/groups_counts_area3_Pg.xlsx\")\n",
    "clustering3_K.iloc[:, 2].value_counts().to_excel(\"../_CLUSTER/groups_time_area/clr/groups_counts_area3_K.xlsx\")"
   ]
  },
  {
   "cell_type": "code",
   "execution_count": 80,
   "metadata": {},
   "outputs": [],
   "source": [
    "clustering4_J = clustering4.loc[clustering4['time'] == 'J']\n",
    "clustering4_Mz = clustering4.loc[clustering4['time'] == 'Mz']\n",
    "clustering4_Pg = clustering4.loc[clustering4['time'] == 'Pg']\n",
    "clustering4_K = clustering4.loc[clustering4['time'] == 'K']\n",
    "\n",
    "clustering4_J.iloc[:, 2].value_counts().to_excel(\"../_CLUSTER/groups_time_area/clr/groups_counts_area4_J.xlsx\")\n",
    "clustering4_Mz.iloc[:, 2].value_counts().to_excel(\"../_CLUSTER/groups_time_area/clr/groups_counts_area4_Mz.xlsx\")\n",
    "clustering4_Pg.iloc[:, 2].value_counts().to_excel(\"../_CLUSTER/groups_time_area/clr/groups_counts_area4_Pg.xlsx\")\n",
    "clustering4_K.iloc[:, 2].value_counts().to_excel(\"../_CLUSTER/groups_time_area/clr/groups_counts_area4_K.xlsx\")"
   ]
  },
  {
   "cell_type": "code",
   "execution_count": 81,
   "metadata": {},
   "outputs": [],
   "source": [
    "clustering5_Mz = clustering5.loc[clustering5['time'] == 'Mz']\n",
    "clustering5_Pg = clustering5.loc[clustering5['time'] == 'Pg']\n",
    "clustering5_K = clustering5.loc[clustering5['time'] == 'K']\n",
    "\n",
    "clustering5_Mz.iloc[:, 2].value_counts().to_excel(\"../_CLUSTER/groups_time_area/clr/groups_counts_area5_Mz.xlsx\")\n",
    "clustering5_Pg.iloc[:, 2].value_counts().to_excel(\"../_CLUSTER/groups_time_area/clr/groups_counts_area5_Pg.xlsx\")\n",
    "clustering5_K.iloc[:, 2].value_counts().to_excel(\"../_CLUSTER/groups_time_area/clr/groups_counts_area5_K.xlsx\")"
   ]
  },
  {
   "cell_type": "markdown",
   "metadata": {},
   "source": [
    "----"
   ]
  },
  {
   "cell_type": "code",
   "execution_count": null,
   "metadata": {},
   "outputs": [],
   "source": []
  },
  {
   "cell_type": "code",
   "execution_count": 82,
   "metadata": {},
   "outputs": [],
   "source": [
    "coordinates = pd.read_excel(\"../_PETRO/classification_altereddata.xlsx\", index_col=0, usecols=[0, 5, 6])\n",
    "#coordinates = pd.read_excel(\"../_INTERPOLATION/area5.xlsx\", index_col=0, usecols=[0, 5, 6])"
   ]
  },
  {
   "cell_type": "code",
   "execution_count": 83,
   "metadata": {},
   "outputs": [],
   "source": [
    "cluster_plot = pd.concat([coordinates, clustering], axis=1)\n",
    "cluster_plot = cluster_plot.dropna()"
   ]
  },
  {
   "cell_type": "code",
   "execution_count": 84,
   "metadata": {},
   "outputs": [
    {
     "data": {
      "text/html": [
       "<div>\n",
       "<style scoped>\n",
       "    .dataframe tbody tr th:only-of-type {\n",
       "        vertical-align: middle;\n",
       "    }\n",
       "\n",
       "    .dataframe tbody tr th {\n",
       "        vertical-align: top;\n",
       "    }\n",
       "\n",
       "    .dataframe thead th {\n",
       "        text-align: right;\n",
       "    }\n",
       "</style>\n",
       "<table border=\"1\" class=\"dataframe\">\n",
       "  <thead>\n",
       "    <tr style=\"text-align: right;\">\n",
       "      <th></th>\n",
       "      <th>Latitude</th>\n",
       "      <th>Longitude</th>\n",
       "      <th>time</th>\n",
       "      <th>area</th>\n",
       "      <th>0</th>\n",
       "    </tr>\n",
       "  </thead>\n",
       "  <tbody>\n",
       "    <tr>\n",
       "      <th>1</th>\n",
       "      <td>44°31'30.0\"</td>\n",
       "      <td>138°37'30.0\"</td>\n",
       "      <td>K</td>\n",
       "      <td>2.0</td>\n",
       "      <td>2.0</td>\n",
       "    </tr>\n",
       "    <tr>\n",
       "      <th>2</th>\n",
       "      <td>54°12'10.0\"</td>\n",
       "      <td>119°24'0.0\"</td>\n",
       "      <td>Tr</td>\n",
       "      <td>1.0</td>\n",
       "      <td>0.0</td>\n",
       "    </tr>\n",
       "    <tr>\n",
       "      <th>3</th>\n",
       "      <td>62°36'0.0\"</td>\n",
       "      <td>155°36'0.0\"</td>\n",
       "      <td>K</td>\n",
       "      <td>3.0</td>\n",
       "      <td>0.0</td>\n",
       "    </tr>\n",
       "    <tr>\n",
       "      <th>4</th>\n",
       "      <td>61°35'0.0\"</td>\n",
       "      <td>146°2'0.0\"</td>\n",
       "      <td>K</td>\n",
       "      <td>3.0</td>\n",
       "      <td>0.0</td>\n",
       "    </tr>\n",
       "    <tr>\n",
       "      <th>5</th>\n",
       "      <td>68°55'0.0\"</td>\n",
       "      <td>164°24'0.0\"</td>\n",
       "      <td>K</td>\n",
       "      <td>4.0</td>\n",
       "      <td>2.0</td>\n",
       "    </tr>\n",
       "    <tr>\n",
       "      <th>...</th>\n",
       "      <td>...</td>\n",
       "      <td>...</td>\n",
       "      <td>...</td>\n",
       "      <td>...</td>\n",
       "      <td>...</td>\n",
       "    </tr>\n",
       "    <tr>\n",
       "      <th>4653</th>\n",
       "      <td>60°27'0.0\"</td>\n",
       "      <td>150°1'0.0\"</td>\n",
       "      <td>K</td>\n",
       "      <td>3.0</td>\n",
       "      <td>3.0</td>\n",
       "    </tr>\n",
       "    <tr>\n",
       "      <th>4654</th>\n",
       "      <td>46°28'40.0\"</td>\n",
       "      <td>136°34'0.0\"</td>\n",
       "      <td>K</td>\n",
       "      <td>2.0</td>\n",
       "      <td>3.0</td>\n",
       "    </tr>\n",
       "    <tr>\n",
       "      <th>4655</th>\n",
       "      <td>66°42'0.0\"</td>\n",
       "      <td>164°23'0.0\"</td>\n",
       "      <td>K</td>\n",
       "      <td>4.0</td>\n",
       "      <td>3.0</td>\n",
       "    </tr>\n",
       "    <tr>\n",
       "      <th>4656</th>\n",
       "      <td>46°56'30.0\"</td>\n",
       "      <td>137°5'3.0\"</td>\n",
       "      <td>K</td>\n",
       "      <td>2.0</td>\n",
       "      <td>3.0</td>\n",
       "    </tr>\n",
       "    <tr>\n",
       "      <th>4658</th>\n",
       "      <td>60°51'0.0\"</td>\n",
       "      <td>147°31'0.0\"</td>\n",
       "      <td>K</td>\n",
       "      <td>3.0</td>\n",
       "      <td>3.0</td>\n",
       "    </tr>\n",
       "  </tbody>\n",
       "</table>\n",
       "<p>4258 rows × 5 columns</p>\n",
       "</div>"
      ],
      "text/plain": [
       "         Latitude     Longitude time  area    0\n",
       "1     44°31'30.0\"  138°37'30.0\"    K   2.0  2.0\n",
       "2     54°12'10.0\"   119°24'0.0\"   Tr   1.0  0.0\n",
       "3      62°36'0.0\"   155°36'0.0\"    K   3.0  0.0\n",
       "4      61°35'0.0\"    146°2'0.0\"    K   3.0  0.0\n",
       "5      68°55'0.0\"   164°24'0.0\"    K   4.0  2.0\n",
       "...           ...           ...  ...   ...  ...\n",
       "4653   60°27'0.0\"    150°1'0.0\"    K   3.0  3.0\n",
       "4654  46°28'40.0\"   136°34'0.0\"    K   2.0  3.0\n",
       "4655   66°42'0.0\"   164°23'0.0\"    K   4.0  3.0\n",
       "4656  46°56'30.0\"    137°5'3.0\"    K   2.0  3.0\n",
       "4658   60°51'0.0\"   147°31'0.0\"    K   3.0  3.0\n",
       "\n",
       "[4258 rows x 5 columns]"
      ]
     },
     "execution_count": 84,
     "metadata": {},
     "output_type": "execute_result"
    }
   ],
   "source": [
    "cluster_plot"
   ]
  },
  {
   "cell_type": "code",
   "execution_count": 86,
   "metadata": {},
   "outputs": [],
   "source": [
    "cluster_plot.to_excel(\"../_CLUSTER/groups_time_area/clr/groups_try.xlsx\", index=True)"
   ]
  },
  {
   "cell_type": "code",
   "execution_count": null,
   "metadata": {},
   "outputs": [],
   "source": []
  },
  {
   "cell_type": "code",
   "execution_count": null,
   "metadata": {},
   "outputs": [],
   "source": []
  }
 ],
 "metadata": {
  "kernelspec": {
   "display_name": "Python 3",
   "language": "python",
   "name": "python3"
  },
  "language_info": {
   "codemirror_mode": {
    "name": "ipython",
    "version": 3
   },
   "file_extension": ".py",
   "mimetype": "text/x-python",
   "name": "python",
   "nbconvert_exporter": "python",
   "pygments_lexer": "ipython3",
   "version": "3.7.3"
  }
 },
 "nbformat": 4,
 "nbformat_minor": 4
}
