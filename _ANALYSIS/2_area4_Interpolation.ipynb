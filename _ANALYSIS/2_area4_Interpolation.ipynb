{
 "cells": [
  {
   "cell_type": "markdown",
   "metadata": {},
   "source": [
    "# Interpolation\n",
    "___"
   ]
  },
  {
   "cell_type": "markdown",
   "metadata": {},
   "source": [
    "**Remarks**\n",
    "- Code will need to be modified a bit to reflect the use of a certain group of data instead of all data"
   ]
  },
  {
   "cell_type": "code",
   "execution_count": 327,
   "metadata": {},
   "outputs": [],
   "source": [
    "import numpy as np\n",
    "import pandas as pd\n",
    "import os\n",
    "import pickle\n",
    "\n",
    "import matplotlib.pyplot as plt\n",
    "import seaborn as sns\n",
    "\n",
    "from collections import Counter\n",
    "from itertools import combinations\n",
    "\n",
    "# from scipy.spatial.distance import pdist\n",
    "# from scipy.stats import chisquare, chi2\n",
    "from scipy.stats import ttest_1samp, t\n",
    "\n",
    "from pykrige.ok import OrdinaryKriging\n",
    "from pykrige.rk import Krige\n",
    "import pykrige.kriging_tools as kt\n",
    "\n",
    "from sklearn.model_selection import cross_val_predict\n",
    "\n",
    "from joblib import Parallel, delayed\n",
    "import multiprocessing"
   ]
  },
  {
   "cell_type": "code",
   "execution_count": 328,
   "metadata": {},
   "outputs": [],
   "source": [
    "import prepostprocessing.pre_processing as preproc\n",
    "import prepostprocessing.post_processing as postproc\n",
    "import nugget_estimation.kriging_tools as krigingtools\n",
    "import nugget_estimation.detrending as detrending\n",
    "import plots.plots as plots\n",
    "import prepostprocessing.cleaning as cleaning\n",
    "import cross_validation.leave_one_out_cross_validation as loocv\n",
    "\n",
    "import qapf.qapf as qapf\n",
    "import statistics.ttest as ttest\n",
    "import statistics.simulations as sim\n",
    "\n",
    "import toolbox.toolbox as tb"
   ]
  },
  {
   "cell_type": "code",
   "execution_count": 329,
   "metadata": {},
   "outputs": [
    {
     "name": "stdout",
     "output_type": "stream",
     "text": [
      "The autoreload extension is already loaded. To reload it, use:\n",
      "  %reload_ext autoreload\n"
     ]
    }
   ],
   "source": [
    "# Load jupyter extension to reload packages before executing user code.\n",
    "# https://ipython.readtheMLcs.io/en/stable/config/extensions/autoreload.html\n",
    "%load_ext autoreload\n",
    "# Reload all packages (except those excluded by %aimport) every time before executing the Python code typed.\n",
    "%autoreload 2"
   ]
  },
  {
   "cell_type": "code",
   "execution_count": 330,
   "metadata": {},
   "outputs": [],
   "source": [
    "# You only need to run this cell once if you want to have multiple outputs in all your notebooks.\n",
    "# It is a general setting so you can set this cell's status to 'raw'\n",
    "from IPython.core.interactiveshell import InteractiveShell\n",
    "InteractiveShell.ast_node_interactivity = \"all\""
   ]
  },
  {
   "cell_type": "code",
   "execution_count": 331,
   "metadata": {},
   "outputs": [],
   "source": [
    "coordinates_latlon = preproc.load_obj(\"coordinates_area4\")\n",
    "coordinates_utm = preproc.load_obj(\"coordinates_utm_area4\")\n",
    "mineralogy = preproc.load_obj(\"mineralogy_area4\")\n",
    "mineralogy_clr = preproc.load_obj(\"mineralogy_clr_area4\")\n",
    "mineralogy_pca = preproc.load_obj(\"mineralogy_pca_area4\")\n",
    "mineralogy_pca_df = preproc.load_obj(\"mineralogy_pca_area4_df\")\n",
    "metadata = preproc.load_obj(\"metadata_area4\")"
   ]
  },
  {
   "cell_type": "markdown",
   "metadata": {},
   "source": [
    "## EDA\n",
    "___"
   ]
  },
  {
   "cell_type": "code",
   "execution_count": 332,
   "metadata": {},
   "outputs": [
    {
     "data": {
      "text/plain": [
       "466"
      ]
     },
     "execution_count": 332,
     "metadata": {},
     "output_type": "execute_result"
    }
   ],
   "source": [
    "# Get number of control points that will be used\n",
    "number_of_control_points = coordinates_utm.shape[0]\n",
    "number_of_control_points"
   ]
  },
  {
   "cell_type": "code",
   "execution_count": 333,
   "metadata": {},
   "outputs": [
    {
     "data": {
      "text/html": [
       "<div>\n",
       "<style scoped>\n",
       "    .dataframe tbody tr th:only-of-type {\n",
       "        vertical-align: middle;\n",
       "    }\n",
       "\n",
       "    .dataframe tbody tr th {\n",
       "        vertical-align: top;\n",
       "    }\n",
       "\n",
       "    .dataframe thead th {\n",
       "        text-align: right;\n",
       "    }\n",
       "</style>\n",
       "<table border=\"1\" class=\"dataframe\">\n",
       "  <thead>\n",
       "    <tr style=\"text-align: right;\">\n",
       "      <th></th>\n",
       "      <th>Y_UTM</th>\n",
       "      <th>X_UTM</th>\n",
       "      <th>ZoneNumber</th>\n",
       "      <th>ZoneLetter</th>\n",
       "    </tr>\n",
       "  </thead>\n",
       "  <tbody>\n",
       "    <tr>\n",
       "      <th>5</th>\n",
       "      <td>7.165453e+05</td>\n",
       "      <td>7.654590e+06</td>\n",
       "      <td>57</td>\n",
       "      <td>V</td>\n",
       "    </tr>\n",
       "    <tr>\n",
       "      <th>21</th>\n",
       "      <td>1.317109e+06</td>\n",
       "      <td>7.163468e+06</td>\n",
       "      <td>57</td>\n",
       "      <td>V</td>\n",
       "    </tr>\n",
       "    <tr>\n",
       "      <th>29</th>\n",
       "      <td>1.291319e+06</td>\n",
       "      <td>7.013925e+06</td>\n",
       "      <td>57</td>\n",
       "      <td>V</td>\n",
       "    </tr>\n",
       "    <tr>\n",
       "      <th>53</th>\n",
       "      <td>1.257902e+06</td>\n",
       "      <td>7.650810e+06</td>\n",
       "      <td>57</td>\n",
       "      <td>V</td>\n",
       "    </tr>\n",
       "    <tr>\n",
       "      <th>62</th>\n",
       "      <td>1.365606e+06</td>\n",
       "      <td>7.599095e+06</td>\n",
       "      <td>57</td>\n",
       "      <td>V</td>\n",
       "    </tr>\n",
       "    <tr>\n",
       "      <th>...</th>\n",
       "      <td>...</td>\n",
       "      <td>...</td>\n",
       "      <td>...</td>\n",
       "      <td>...</td>\n",
       "    </tr>\n",
       "    <tr>\n",
       "      <th>4635</th>\n",
       "      <td>8.124596e+05</td>\n",
       "      <td>7.045757e+06</td>\n",
       "      <td>57</td>\n",
       "      <td>V</td>\n",
       "    </tr>\n",
       "    <tr>\n",
       "      <th>4639</th>\n",
       "      <td>7.921554e+05</td>\n",
       "      <td>7.112601e+06</td>\n",
       "      <td>57</td>\n",
       "      <td>V</td>\n",
       "    </tr>\n",
       "    <tr>\n",
       "      <th>4651</th>\n",
       "      <td>6.209919e+05</td>\n",
       "      <td>7.621993e+06</td>\n",
       "      <td>57</td>\n",
       "      <td>V</td>\n",
       "    </tr>\n",
       "    <tr>\n",
       "      <th>4655</th>\n",
       "      <td>7.373749e+05</td>\n",
       "      <td>7.408189e+06</td>\n",
       "      <td>57</td>\n",
       "      <td>V</td>\n",
       "    </tr>\n",
       "    <tr>\n",
       "      <th>4659</th>\n",
       "      <td>7.909267e+05</td>\n",
       "      <td>7.370343e+06</td>\n",
       "      <td>57</td>\n",
       "      <td>V</td>\n",
       "    </tr>\n",
       "  </tbody>\n",
       "</table>\n",
       "<p>466 rows × 4 columns</p>\n",
       "</div>"
      ],
      "text/plain": [
       "             Y_UTM         X_UTM  ZoneNumber ZoneLetter\n",
       "5     7.165453e+05  7.654590e+06          57          V\n",
       "21    1.317109e+06  7.163468e+06          57          V\n",
       "29    1.291319e+06  7.013925e+06          57          V\n",
       "53    1.257902e+06  7.650810e+06          57          V\n",
       "62    1.365606e+06  7.599095e+06          57          V\n",
       "...            ...           ...         ...        ...\n",
       "4635  8.124596e+05  7.045757e+06          57          V\n",
       "4639  7.921554e+05  7.112601e+06          57          V\n",
       "4651  6.209919e+05  7.621993e+06          57          V\n",
       "4655  7.373749e+05  7.408189e+06          57          V\n",
       "4659  7.909267e+05  7.370343e+06          57          V\n",
       "\n",
       "[466 rows x 4 columns]"
      ]
     },
     "execution_count": 333,
     "metadata": {},
     "output_type": "execute_result"
    }
   ],
   "source": [
    "coordinates_utm"
   ]
  },
  {
   "cell_type": "code",
   "execution_count": 334,
   "metadata": {},
   "outputs": [],
   "source": [
    "coordinates_utm = coordinates_utm.rename({\"X_UTM\": \"Y\", \"Y_UTM\": \"X\"}, axis=1)"
   ]
  },
  {
   "cell_type": "code",
   "execution_count": 335,
   "metadata": {},
   "outputs": [],
   "source": [
    "# FILL IN SHORT NAME HERE THAT WILL BE USED WHEN SAVING THE PLOT (e.g. \"G1\")\n",
    "group_name = \"area4\""
   ]
  },
  {
   "cell_type": "code",
   "execution_count": 336,
   "metadata": {},
   "outputs": [
    {
     "data": {
      "image/png": "[encoded data removed]",
      "text/plain": [
       "<Figure size 432x288 with 1 Axes>"
      ]
     },
     "metadata": {},
     "output_type": "display_data"
    }
   ],
   "source": [
    "# Plot control points with labels\n",
    "plots.plot_map_with_control_points(coordinates_utm, group_name, label_size=4, subset=[\"X\", \"Y\"],\n",
    "                                   show_labels=False,\n",
    "                                  skip_xaxis_label=2, skip_yaxis_label=2, \n",
    "                                  skip_xaxis_start=1, skip_yaxis_start=1)"
   ]
  },
  {
   "cell_type": "code",
   "execution_count": 337,
   "metadata": {},
   "outputs": [
    {
     "data": {
      "text/plain": [
       "array([57], dtype=int64)"
      ]
     },
     "execution_count": 337,
     "metadata": {},
     "output_type": "execute_result"
    },
    {
     "data": {
      "text/plain": [
       "array(['V'], dtype=object)"
      ]
     },
     "execution_count": 337,
     "metadata": {},
     "output_type": "execute_result"
    }
   ],
   "source": [
    "# Show unique zone letters and zone numbers of utm coordinates\n",
    "coordinates_utm[\"ZoneNumber\"].unique()\n",
    "coordinates_utm[\"ZoneLetter\"].unique()"
   ]
  },
  {
   "cell_type": "code",
   "execution_count": 338,
   "metadata": {},
   "outputs": [
    {
     "data": {
      "text/plain": [
       "(0.1624489733490443, 1166493.902439194)"
      ]
     },
     "execution_count": 338,
     "metadata": {},
     "output_type": "execute_result"
    }
   ],
   "source": [
    "# Calculate minimum and maxmin lag distance between two points of the dataset\n",
    "distance_matrix = krigingtools.calculate_and_sort_square_distance_matrix(coordinates_utm[[\"X\", \"Y\"]])\n",
    "\n",
    "min_lag_distance = np.amin(distance_matrix)\n",
    "max_lag_distance = np.amax(distance_matrix)\n",
    "min_lag_distance, max_lag_distance"
   ]
  },
  {
   "cell_type": "code",
   "execution_count": 339,
   "metadata": {},
   "outputs": [
    {
     "data": {
      "text/plain": [
       "(array([3556., 5080., 5334., 5436., 5260., 6344., 6168., 6994., 7166.,\n",
       "        7554., 7622., 9096., 9038., 7428., 6946., 7358., 7688., 7820.,\n",
       "        8116., 8390., 9546., 9148., 9714., 8366., 7898., 7032., 6192.,\n",
       "        5746., 4892., 3072., 1700., 1410.,  884.,  710.,  630.,  550.,\n",
       "         312.,  222.,  220.,   52.]),\n",
       " array([1.62448973e-01, 2.91625059e+04, 5.83248494e+04, 8.74871929e+04,\n",
       "        1.16649536e+05, 1.45811880e+05, 1.74974223e+05, 2.04136567e+05,\n",
       "        2.33298910e+05, 2.62461254e+05, 2.91623597e+05, 3.20785941e+05,\n",
       "        3.49948284e+05, 3.79110628e+05, 4.08272971e+05, 4.37435315e+05,\n",
       "        4.66597658e+05, 4.95760002e+05, 5.24922345e+05, 5.54084689e+05,\n",
       "        5.83247032e+05, 6.12409376e+05, 6.41571719e+05, 6.70734063e+05,\n",
       "        6.99896406e+05, 7.29058750e+05, 7.58221093e+05, 7.87383437e+05,\n",
       "        8.16545780e+05, 8.45708124e+05, 8.74870467e+05, 9.04032811e+05,\n",
       "        9.33195154e+05, 9.62357498e+05, 9.91519841e+05, 1.02068218e+06,\n",
       "        1.04984453e+06, 1.07900687e+06, 1.10816922e+06, 1.13733156e+06,\n",
       "        1.16649390e+06]),\n",
       " <a list of 40 Patch objects>)"
      ]
     },
     "execution_count": 339,
     "metadata": {},
     "output_type": "execute_result"
    },
    {
     "data": {
      "image/png": "[encoded data removed]",
      "text/plain": [
       "<Figure size 432x288 with 1 Axes>"
      ]
     },
     "metadata": {
      "needs_background": "light"
     },
     "output_type": "display_data"
    }
   ],
   "source": [
    "plt.hist(distance_matrix.flatten(), bins=40)"
   ]
  },
  {
   "cell_type": "code",
   "execution_count": 340,
   "metadata": {},
   "outputs": [
    {
     "data": {
      "text/plain": [
       "(array([], dtype=int64), array([], dtype=int64))"
      ]
     },
     "execution_count": 340,
     "metadata": {},
     "output_type": "execute_result"
    }
   ],
   "source": [
    "np.where(distance_matrix == 0)"
   ]
  },
  {
   "cell_type": "markdown",
   "metadata": {},
   "source": [
    "## Critical distance estimation\n",
    "___"
   ]
  },
  {
   "cell_type": "code",
   "execution_count": 341,
   "metadata": {},
   "outputs": [],
   "source": [
    "# Range (lag distance at which the sill is reached; in meters)\n",
    "\n",
    "# Depending on how many principal components you will use, \n",
    "# you will have to add more entries to this list.\n",
    "\n",
    "# Modified the range since variograms are not correct yet\n",
    "# range_ = [100000] * 15\n",
    "range_ = [120000, 120000, 120000, 120000, 120000, 120000, 120000, 120000, 120000, 100000, 100000, 100000, 100000, 100000, 100000]\n",
    "\n"
   ]
  },
  {
   "cell_type": "code",
   "execution_count": 342,
   "metadata": {},
   "outputs": [
    {
     "data": {
      "image/png": "[encoded data removed]",
      "text/plain": [
       "<Figure size 1728x864 with 3 Axes>"
      ]
     },
     "metadata": {
      "needs_background": "light"
     },
     "output_type": "display_data"
    }
   ],
   "source": [
    "# You can adjust the radius parameters below to change the slider settings\n",
    "# to visualize the figures interactively\n",
    "plots.interactive_plot_search_radius(coordinates_utm, orient='rows', \n",
    "                                     radius_default=64000, # Default slider position\n",
    "                                     radius_min=30000,  # Slider start\n",
    "                                     radius_max=66000, # Slider stop\n",
    "                                     radius_step=500,  # Slider step\n",
    "                                     radius_offset=500) # Offset between visualizations shown\n",
    "\n",
    "# The x-axis stands for 'n_neighbours'"
   ]
  },
  {
   "cell_type": "code",
   "execution_count": 343,
   "metadata": {},
   "outputs": [],
   "source": [
    "# Critical distance (in meters)\n",
    "# This is the distance where at least 95% of your samples\n",
    "# will have at least 3 neighbours within that distance\n",
    "\n",
    "# You can refine this value later on, or we can use the range \n",
    "# instead of the critical distance as the only value for the search radius\n",
    "critical_distance = 63500"
   ]
  },
  {
   "cell_type": "code",
   "execution_count": 344,
   "metadata": {},
   "outputs": [],
   "source": [
    "# This is basically creating a list of how many neighbours each data point has \n",
    "# within the critical_distance and within the range\n",
    "nvalues_control_points = {}\n",
    "\n",
    "for radius in (0.05, critical_distance, range_[0]):\n",
    "    temp = krigingtools.find_points_within_search_radius(\n",
    "               krigingtools.calculate_and_sort_square_distance_matrix(coordinates_utm),\n",
    "               search_radius=radius # 'search_radius' should be equal to 'radius' here, not 'critical_distance'\n",
    "           )\n",
    "    nvalues_control_points[radius] = pd.Series(temp, index=coordinates_utm.index)\n",
    "    \n",
    "# You're performing a calculation in a for loop so we want to check how many neighbours each data point has \n",
    "# within the specified radius in the tuple (0.05, critical_distance, range_[0]). \n",
    "# So for each of these specified distances, the function will be executed and \n",
    "# the result stored in the nvalues_control_points dictionary"
   ]
  },
  {
   "cell_type": "code",
   "execution_count": 345,
   "metadata": {},
   "outputs": [
    {
     "data": {
      "text/plain": [
       "23.3"
      ]
     },
     "execution_count": 345,
     "metadata": {},
     "output_type": "execute_result"
    }
   ],
   "source": [
    "# Number of samples that may still have less than 3 neighbours within the critical distance\n",
    "number_of_control_points * 0.05"
   ]
  },
  {
   "cell_type": "code",
   "execution_count": 346,
   "metadata": {},
   "outputs": [
    {
     "data": {
      "text/plain": [
       "23"
      ]
     },
     "execution_count": 346,
     "metadata": {},
     "output_type": "execute_result"
    }
   ],
   "source": [
    "# Check number of samples outside of critical distance\n",
    "samples_outside_critical_distance = nvalues_control_points[critical_distance][nvalues_control_points[critical_distance] < 3].index.tolist()\n",
    "len(samples_outside_critical_distance)\n",
    "\n",
    "# 0.3 sample below 23.3"
   ]
  },
  {
   "cell_type": "code",
   "execution_count": 347,
   "metadata": {},
   "outputs": [
    {
     "data": {
      "text/html": [
       "<div>\n",
       "<style scoped>\n",
       "    .dataframe tbody tr th:only-of-type {\n",
       "        vertical-align: middle;\n",
       "    }\n",
       "\n",
       "    .dataframe tbody tr th {\n",
       "        vertical-align: top;\n",
       "    }\n",
       "\n",
       "    .dataframe thead th {\n",
       "        text-align: right;\n",
       "    }\n",
       "</style>\n",
       "<table border=\"1\" class=\"dataframe\">\n",
       "  <thead>\n",
       "    <tr style=\"text-align: right;\">\n",
       "      <th></th>\n",
       "      <th>PC01</th>\n",
       "      <th>PC02</th>\n",
       "      <th>PC03</th>\n",
       "      <th>PC04</th>\n",
       "      <th>PC05</th>\n",
       "      <th>PC06</th>\n",
       "      <th>PC07</th>\n",
       "      <th>PC08</th>\n",
       "      <th>PC09</th>\n",
       "      <th>PC10</th>\n",
       "      <th>PC11</th>\n",
       "      <th>PC12</th>\n",
       "      <th>PC13</th>\n",
       "    </tr>\n",
       "  </thead>\n",
       "  <tbody>\n",
       "    <tr>\n",
       "      <th>72</th>\n",
       "      <td>1.423909</td>\n",
       "      <td>-2.416476</td>\n",
       "      <td>-1.084798</td>\n",
       "      <td>2.133274</td>\n",
       "      <td>-1.373216</td>\n",
       "      <td>1.451430</td>\n",
       "      <td>-0.583754</td>\n",
       "      <td>-0.136166</td>\n",
       "      <td>-1.046901</td>\n",
       "      <td>0.722380</td>\n",
       "      <td>0.096580</td>\n",
       "      <td>0.017816</td>\n",
       "      <td>-8.885006e-16</td>\n",
       "    </tr>\n",
       "    <tr>\n",
       "      <th>331</th>\n",
       "      <td>1.271382</td>\n",
       "      <td>-0.330440</td>\n",
       "      <td>0.010423</td>\n",
       "      <td>-2.531172</td>\n",
       "      <td>-2.083306</td>\n",
       "      <td>-0.352746</td>\n",
       "      <td>0.407096</td>\n",
       "      <td>-0.526591</td>\n",
       "      <td>0.591441</td>\n",
       "      <td>0.214332</td>\n",
       "      <td>-0.012813</td>\n",
       "      <td>-0.116161</td>\n",
       "      <td>-7.792717e-17</td>\n",
       "    </tr>\n",
       "    <tr>\n",
       "      <th>429</th>\n",
       "      <td>1.353113</td>\n",
       "      <td>1.309329</td>\n",
       "      <td>2.475222</td>\n",
       "      <td>0.361385</td>\n",
       "      <td>-1.071083</td>\n",
       "      <td>1.007399</td>\n",
       "      <td>0.391698</td>\n",
       "      <td>-0.589235</td>\n",
       "      <td>1.361559</td>\n",
       "      <td>-0.394975</td>\n",
       "      <td>-0.002208</td>\n",
       "      <td>-0.109922</td>\n",
       "      <td>-9.353870e-17</td>\n",
       "    </tr>\n",
       "    <tr>\n",
       "      <th>624</th>\n",
       "      <td>0.724372</td>\n",
       "      <td>-1.721685</td>\n",
       "      <td>-0.604039</td>\n",
       "      <td>1.792159</td>\n",
       "      <td>0.232098</td>\n",
       "      <td>0.588725</td>\n",
       "      <td>-1.135492</td>\n",
       "      <td>0.084420</td>\n",
       "      <td>1.582756</td>\n",
       "      <td>-0.624820</td>\n",
       "      <td>0.101559</td>\n",
       "      <td>0.066271</td>\n",
       "      <td>1.213155e-15</td>\n",
       "    </tr>\n",
       "    <tr>\n",
       "      <th>1118</th>\n",
       "      <td>2.321754</td>\n",
       "      <td>1.410726</td>\n",
       "      <td>-0.917419</td>\n",
       "      <td>0.432264</td>\n",
       "      <td>1.068450</td>\n",
       "      <td>2.088105</td>\n",
       "      <td>0.559087</td>\n",
       "      <td>-0.513641</td>\n",
       "      <td>0.560491</td>\n",
       "      <td>-0.237361</td>\n",
       "      <td>-0.010619</td>\n",
       "      <td>-0.066209</td>\n",
       "      <td>1.658212e-16</td>\n",
       "    </tr>\n",
       "    <tr>\n",
       "      <th>1351</th>\n",
       "      <td>3.813286</td>\n",
       "      <td>0.773046</td>\n",
       "      <td>1.577416</td>\n",
       "      <td>-1.243630</td>\n",
       "      <td>-0.019431</td>\n",
       "      <td>-0.049683</td>\n",
       "      <td>0.144488</td>\n",
       "      <td>0.078498</td>\n",
       "      <td>0.415166</td>\n",
       "      <td>0.486625</td>\n",
       "      <td>0.100569</td>\n",
       "      <td>0.047025</td>\n",
       "      <td>-5.904206e-16</td>\n",
       "    </tr>\n",
       "    <tr>\n",
       "      <th>1541</th>\n",
       "      <td>0.556728</td>\n",
       "      <td>-1.672889</td>\n",
       "      <td>0.046431</td>\n",
       "      <td>0.817323</td>\n",
       "      <td>-0.176186</td>\n",
       "      <td>0.343697</td>\n",
       "      <td>-0.349438</td>\n",
       "      <td>-0.061907</td>\n",
       "      <td>0.295179</td>\n",
       "      <td>-0.188817</td>\n",
       "      <td>-0.043077</td>\n",
       "      <td>0.077649</td>\n",
       "      <td>2.108708e-16</td>\n",
       "    </tr>\n",
       "    <tr>\n",
       "      <th>1915</th>\n",
       "      <td>2.929445</td>\n",
       "      <td>0.322077</td>\n",
       "      <td>-0.293153</td>\n",
       "      <td>0.913177</td>\n",
       "      <td>-0.855640</td>\n",
       "      <td>0.232568</td>\n",
       "      <td>-1.241740</td>\n",
       "      <td>0.067063</td>\n",
       "      <td>-0.324246</td>\n",
       "      <td>0.108266</td>\n",
       "      <td>0.016882</td>\n",
       "      <td>0.067130</td>\n",
       "      <td>-1.009601e-16</td>\n",
       "    </tr>\n",
       "    <tr>\n",
       "      <th>2141</th>\n",
       "      <td>0.826690</td>\n",
       "      <td>-2.191530</td>\n",
       "      <td>0.859004</td>\n",
       "      <td>0.943444</td>\n",
       "      <td>0.668294</td>\n",
       "      <td>0.550927</td>\n",
       "      <td>-0.161606</td>\n",
       "      <td>-0.177766</td>\n",
       "      <td>-0.220838</td>\n",
       "      <td>-0.023146</td>\n",
       "      <td>-0.147093</td>\n",
       "      <td>0.068579</td>\n",
       "      <td>5.438881e-16</td>\n",
       "    </tr>\n",
       "    <tr>\n",
       "      <th>2208</th>\n",
       "      <td>-0.047090</td>\n",
       "      <td>-1.613088</td>\n",
       "      <td>1.441721</td>\n",
       "      <td>0.145233</td>\n",
       "      <td>0.773612</td>\n",
       "      <td>0.003384</td>\n",
       "      <td>-0.408253</td>\n",
       "      <td>0.261990</td>\n",
       "      <td>0.040651</td>\n",
       "      <td>0.613904</td>\n",
       "      <td>-0.005261</td>\n",
       "      <td>-0.113019</td>\n",
       "      <td>3.782371e-16</td>\n",
       "    </tr>\n",
       "    <tr>\n",
       "      <th>2731</th>\n",
       "      <td>-0.721155</td>\n",
       "      <td>-0.215937</td>\n",
       "      <td>-0.953906</td>\n",
       "      <td>0.170505</td>\n",
       "      <td>0.465396</td>\n",
       "      <td>-0.272866</td>\n",
       "      <td>0.100177</td>\n",
       "      <td>0.141068</td>\n",
       "      <td>0.026967</td>\n",
       "      <td>-0.214277</td>\n",
       "      <td>-0.103745</td>\n",
       "      <td>-0.072564</td>\n",
       "      <td>9.276760e-16</td>\n",
       "    </tr>\n",
       "    <tr>\n",
       "      <th>2795</th>\n",
       "      <td>-0.677437</td>\n",
       "      <td>-0.273563</td>\n",
       "      <td>0.596746</td>\n",
       "      <td>0.334308</td>\n",
       "      <td>0.413149</td>\n",
       "      <td>-1.908167</td>\n",
       "      <td>0.054306</td>\n",
       "      <td>-0.806744</td>\n",
       "      <td>-0.611688</td>\n",
       "      <td>-0.195362</td>\n",
       "      <td>-0.224269</td>\n",
       "      <td>-0.048352</td>\n",
       "      <td>-2.406484e-16</td>\n",
       "    </tr>\n",
       "    <tr>\n",
       "      <th>2947</th>\n",
       "      <td>-0.122492</td>\n",
       "      <td>-1.004259</td>\n",
       "      <td>1.516393</td>\n",
       "      <td>-0.703364</td>\n",
       "      <td>1.602387</td>\n",
       "      <td>-0.723241</td>\n",
       "      <td>-0.110395</td>\n",
       "      <td>-0.846398</td>\n",
       "      <td>-0.360849</td>\n",
       "      <td>0.335507</td>\n",
       "      <td>-0.069444</td>\n",
       "      <td>-0.059244</td>\n",
       "      <td>-9.236049e-16</td>\n",
       "    </tr>\n",
       "    <tr>\n",
       "      <th>3046</th>\n",
       "      <td>-0.928801</td>\n",
       "      <td>-0.319777</td>\n",
       "      <td>0.961155</td>\n",
       "      <td>-0.165883</td>\n",
       "      <td>-0.643884</td>\n",
       "      <td>-1.020391</td>\n",
       "      <td>0.259825</td>\n",
       "      <td>-0.238398</td>\n",
       "      <td>0.110649</td>\n",
       "      <td>0.052486</td>\n",
       "      <td>-0.087892</td>\n",
       "      <td>0.033384</td>\n",
       "      <td>9.552003e-17</td>\n",
       "    </tr>\n",
       "    <tr>\n",
       "      <th>3047</th>\n",
       "      <td>-0.646589</td>\n",
       "      <td>0.053945</td>\n",
       "      <td>-0.751077</td>\n",
       "      <td>-0.879956</td>\n",
       "      <td>-0.355556</td>\n",
       "      <td>-0.165409</td>\n",
       "      <td>0.503282</td>\n",
       "      <td>-0.425515</td>\n",
       "      <td>0.155625</td>\n",
       "      <td>0.010974</td>\n",
       "      <td>-0.093839</td>\n",
       "      <td>0.005278</td>\n",
       "      <td>1.599399e-16</td>\n",
       "    </tr>\n",
       "    <tr>\n",
       "      <th>3379</th>\n",
       "      <td>0.512202</td>\n",
       "      <td>-0.225468</td>\n",
       "      <td>2.295678</td>\n",
       "      <td>0.372070</td>\n",
       "      <td>0.907454</td>\n",
       "      <td>0.313749</td>\n",
       "      <td>-0.307576</td>\n",
       "      <td>0.599212</td>\n",
       "      <td>-0.023473</td>\n",
       "      <td>0.570180</td>\n",
       "      <td>0.017007</td>\n",
       "      <td>-0.059315</td>\n",
       "      <td>-2.007639e-16</td>\n",
       "    </tr>\n",
       "    <tr>\n",
       "      <th>3445</th>\n",
       "      <td>-0.853498</td>\n",
       "      <td>-0.311760</td>\n",
       "      <td>-0.705670</td>\n",
       "      <td>0.384965</td>\n",
       "      <td>0.582903</td>\n",
       "      <td>0.049682</td>\n",
       "      <td>-0.205703</td>\n",
       "      <td>-0.216681</td>\n",
       "      <td>-0.097589</td>\n",
       "      <td>-0.056111</td>\n",
       "      <td>-0.132572</td>\n",
       "      <td>0.007933</td>\n",
       "      <td>3.628209e-16</td>\n",
       "    </tr>\n",
       "    <tr>\n",
       "      <th>3466</th>\n",
       "      <td>-0.866170</td>\n",
       "      <td>-0.424295</td>\n",
       "      <td>-0.906265</td>\n",
       "      <td>-0.706711</td>\n",
       "      <td>-0.771985</td>\n",
       "      <td>0.287958</td>\n",
       "      <td>-0.761025</td>\n",
       "      <td>0.495532</td>\n",
       "      <td>-0.252585</td>\n",
       "      <td>0.206171</td>\n",
       "      <td>0.086580</td>\n",
       "      <td>-0.079684</td>\n",
       "      <td>-3.923067e-16</td>\n",
       "    </tr>\n",
       "    <tr>\n",
       "      <th>3529</th>\n",
       "      <td>-0.975728</td>\n",
       "      <td>-0.088855</td>\n",
       "      <td>-0.618052</td>\n",
       "      <td>-0.737327</td>\n",
       "      <td>-0.315348</td>\n",
       "      <td>-0.076165</td>\n",
       "      <td>-0.146750</td>\n",
       "      <td>-0.057369</td>\n",
       "      <td>-0.092803</td>\n",
       "      <td>0.070008</td>\n",
       "      <td>-0.092233</td>\n",
       "      <td>-0.057608</td>\n",
       "      <td>7.207872e-16</td>\n",
       "    </tr>\n",
       "    <tr>\n",
       "      <th>4261</th>\n",
       "      <td>-1.439537</td>\n",
       "      <td>-0.660399</td>\n",
       "      <td>1.990204</td>\n",
       "      <td>-0.294425</td>\n",
       "      <td>0.712635</td>\n",
       "      <td>1.422260</td>\n",
       "      <td>-0.071719</td>\n",
       "      <td>-0.706771</td>\n",
       "      <td>0.312724</td>\n",
       "      <td>0.085987</td>\n",
       "      <td>-0.248819</td>\n",
       "      <td>-0.008966</td>\n",
       "      <td>5.624665e-16</td>\n",
       "    </tr>\n",
       "    <tr>\n",
       "      <th>4366</th>\n",
       "      <td>-2.151510</td>\n",
       "      <td>0.412555</td>\n",
       "      <td>0.238986</td>\n",
       "      <td>0.338343</td>\n",
       "      <td>-0.276502</td>\n",
       "      <td>0.047836</td>\n",
       "      <td>-0.083594</td>\n",
       "      <td>-0.003073</td>\n",
       "      <td>0.153329</td>\n",
       "      <td>0.077226</td>\n",
       "      <td>-0.088390</td>\n",
       "      <td>0.023844</td>\n",
       "      <td>6.371595e-16</td>\n",
       "    </tr>\n",
       "    <tr>\n",
       "      <th>4468</th>\n",
       "      <td>0.432425</td>\n",
       "      <td>1.639782</td>\n",
       "      <td>1.273480</td>\n",
       "      <td>-0.172513</td>\n",
       "      <td>-1.582088</td>\n",
       "      <td>-1.457015</td>\n",
       "      <td>0.416900</td>\n",
       "      <td>-1.003467</td>\n",
       "      <td>0.079191</td>\n",
       "      <td>0.464942</td>\n",
       "      <td>-0.319494</td>\n",
       "      <td>0.331722</td>\n",
       "      <td>-5.282152e-16</td>\n",
       "    </tr>\n",
       "    <tr>\n",
       "      <th>4655</th>\n",
       "      <td>-2.401271</td>\n",
       "      <td>0.674245</td>\n",
       "      <td>-0.831234</td>\n",
       "      <td>0.575198</td>\n",
       "      <td>-0.400161</td>\n",
       "      <td>-0.039057</td>\n",
       "      <td>0.353242</td>\n",
       "      <td>0.736961</td>\n",
       "      <td>-0.412158</td>\n",
       "      <td>-0.304992</td>\n",
       "      <td>-0.232908</td>\n",
       "      <td>0.218462</td>\n",
       "      <td>5.765554e-16</td>\n",
       "    </tr>\n",
       "  </tbody>\n",
       "</table>\n",
       "</div>"
      ],
      "text/plain": [
       "          PC01      PC02      PC03      PC04      PC05      PC06      PC07  \\\n",
       "72    1.423909 -2.416476 -1.084798  2.133274 -1.373216  1.451430 -0.583754   \n",
       "331   1.271382 -0.330440  0.010423 -2.531172 -2.083306 -0.352746  0.407096   \n",
       "429   1.353113  1.309329  2.475222  0.361385 -1.071083  1.007399  0.391698   \n",
       "624   0.724372 -1.721685 -0.604039  1.792159  0.232098  0.588725 -1.135492   \n",
       "1118  2.321754  1.410726 -0.917419  0.432264  1.068450  2.088105  0.559087   \n",
       "1351  3.813286  0.773046  1.577416 -1.243630 -0.019431 -0.049683  0.144488   \n",
       "1541  0.556728 -1.672889  0.046431  0.817323 -0.176186  0.343697 -0.349438   \n",
       "1915  2.929445  0.322077 -0.293153  0.913177 -0.855640  0.232568 -1.241740   \n",
       "2141  0.826690 -2.191530  0.859004  0.943444  0.668294  0.550927 -0.161606   \n",
       "2208 -0.047090 -1.613088  1.441721  0.145233  0.773612  0.003384 -0.408253   \n",
       "2731 -0.721155 -0.215937 -0.953906  0.170505  0.465396 -0.272866  0.100177   \n",
       "2795 -0.677437 -0.273563  0.596746  0.334308  0.413149 -1.908167  0.054306   \n",
       "2947 -0.122492 -1.004259  1.516393 -0.703364  1.602387 -0.723241 -0.110395   \n",
       "3046 -0.928801 -0.319777  0.961155 -0.165883 -0.643884 -1.020391  0.259825   \n",
       "3047 -0.646589  0.053945 -0.751077 -0.879956 -0.355556 -0.165409  0.503282   \n",
       "3379  0.512202 -0.225468  2.295678  0.372070  0.907454  0.313749 -0.307576   \n",
       "3445 -0.853498 -0.311760 -0.705670  0.384965  0.582903  0.049682 -0.205703   \n",
       "3466 -0.866170 -0.424295 -0.906265 -0.706711 -0.771985  0.287958 -0.761025   \n",
       "3529 -0.975728 -0.088855 -0.618052 -0.737327 -0.315348 -0.076165 -0.146750   \n",
       "4261 -1.439537 -0.660399  1.990204 -0.294425  0.712635  1.422260 -0.071719   \n",
       "4366 -2.151510  0.412555  0.238986  0.338343 -0.276502  0.047836 -0.083594   \n",
       "4468  0.432425  1.639782  1.273480 -0.172513 -1.582088 -1.457015  0.416900   \n",
       "4655 -2.401271  0.674245 -0.831234  0.575198 -0.400161 -0.039057  0.353242   \n",
       "\n",
       "          PC08      PC09      PC10      PC11      PC12          PC13  \n",
       "72   -0.136166 -1.046901  0.722380  0.096580  0.017816 -8.885006e-16  \n",
       "331  -0.526591  0.591441  0.214332 -0.012813 -0.116161 -7.792717e-17  \n",
       "429  -0.589235  1.361559 -0.394975 -0.002208 -0.109922 -9.353870e-17  \n",
       "624   0.084420  1.582756 -0.624820  0.101559  0.066271  1.213155e-15  \n",
       "1118 -0.513641  0.560491 -0.237361 -0.010619 -0.066209  1.658212e-16  \n",
       "1351  0.078498  0.415166  0.486625  0.100569  0.047025 -5.904206e-16  \n",
       "1541 -0.061907  0.295179 -0.188817 -0.043077  0.077649  2.108708e-16  \n",
       "1915  0.067063 -0.324246  0.108266  0.016882  0.067130 -1.009601e-16  \n",
       "2141 -0.177766 -0.220838 -0.023146 -0.147093  0.068579  5.438881e-16  \n",
       "2208  0.261990  0.040651  0.613904 -0.005261 -0.113019  3.782371e-16  \n",
       "2731  0.141068  0.026967 -0.214277 -0.103745 -0.072564  9.276760e-16  \n",
       "2795 -0.806744 -0.611688 -0.195362 -0.224269 -0.048352 -2.406484e-16  \n",
       "2947 -0.846398 -0.360849  0.335507 -0.069444 -0.059244 -9.236049e-16  \n",
       "3046 -0.238398  0.110649  0.052486 -0.087892  0.033384  9.552003e-17  \n",
       "3047 -0.425515  0.155625  0.010974 -0.093839  0.005278  1.599399e-16  \n",
       "3379  0.599212 -0.023473  0.570180  0.017007 -0.059315 -2.007639e-16  \n",
       "3445 -0.216681 -0.097589 -0.056111 -0.132572  0.007933  3.628209e-16  \n",
       "3466  0.495532 -0.252585  0.206171  0.086580 -0.079684 -3.923067e-16  \n",
       "3529 -0.057369 -0.092803  0.070008 -0.092233 -0.057608  7.207872e-16  \n",
       "4261 -0.706771  0.312724  0.085987 -0.248819 -0.008966  5.624665e-16  \n",
       "4366 -0.003073  0.153329  0.077226 -0.088390  0.023844  6.371595e-16  \n",
       "4468 -1.003467  0.079191  0.464942 -0.319494  0.331722 -5.282152e-16  \n",
       "4655  0.736961 -0.412158 -0.304992 -0.232908  0.218462  5.765554e-16  "
      ]
     },
     "execution_count": 347,
     "metadata": {},
     "output_type": "execute_result"
    }
   ],
   "source": [
    "# Overview of samples that are outside search_radius\n",
    "mineralogy_pca_df.loc[samples_outside_critical_distance, :]"
   ]
  },
  {
   "cell_type": "markdown",
   "metadata": {},
   "source": [
    "____"
   ]
  },
  {
   "cell_type": "markdown",
   "metadata": {},
   "source": [
    "## Create high resolution grids\n",
    "____"
   ]
  },
  {
   "cell_type": "code",
   "execution_count": 348,
   "metadata": {},
   "outputs": [
    {
     "data": {
      "text/plain": [
       "array([[529106.8793388287, 1570979.851634499],\n",
       "       [(6741366.547381579,), 7895036.872455263]], dtype=object)"
      ]
     },
     "execution_count": 348,
     "metadata": {},
     "output_type": "execute_result"
    }
   ],
   "source": [
    "# Determine (wide) grid boundaries\n",
    "X = coordinates_utm.iloc[:, 0].values\n",
    "Xmin = np.min(X) - critical_distance * 1.05\n",
    "Xmax = np.max(X) + critical_distance * 1.05\n",
    "\n",
    "Y = coordinates_utm.iloc[:, 1].values\n",
    "Ymin = np.min(Y) - critical_distance * 1.05, \n",
    "Ymax = np.max(Y) + critical_distance * 1.05\n",
    "\n",
    "coordinates_boundaries = np.array([[Xmin, Xmax], [Ymin, Ymax]])\n",
    "coordinates_boundaries"
   ]
  },
  {
   "cell_type": "code",
   "execution_count": 349,
   "metadata": {},
   "outputs": [
    {
     "name": "stdout",
     "output_type": "stream",
     "text": [
      "x [529106.8793388287 1570979.851634499]\n",
      "y [(6741366.547381579,) 7895036.872455263]\n",
      "x range:  1041873\n",
      "y range:  1153670\n",
      "smallest dimension x\n",
      "theoretical x spacing:  3484.5249909554186\n",
      "actual x spacing:  3484.5249909553677\n",
      "actual y spacing:  3484.5249909553677\n",
      "Number of points:  100534\n",
      "xy grid:  301 334 \n",
      "\n"
     ]
    }
   ],
   "source": [
    "# Set approximate number of points along each axis\n",
    "n_points = 300\n",
    "\n",
    "temp = {}\n",
    "x, y = coordinates_boundaries\n",
    "\n",
    "temp[\"x_start (m)\"] = int(np.floor(x[0]))\n",
    "temp[\"x_end (m)\"] = int(np.floor(x[1]))\n",
    "temp[\"y_start (m)\"] = int(np.floor(y[0]))\n",
    "temp[\"y_end (m)\"] = int(np.floor(y[1]))\n",
    "\n",
    "print(\"x\", x)\n",
    "print(\"y\", y)\n",
    "\n",
    "temp[\"x_range (m)\"] = int(np.floor(x[1])) - int(np.floor(x[0]))\n",
    "temp[\"y_range (m)\"] = int(np.floor(y[1])) - int(np.floor(y[0]))\n",
    "print(\"x range: \", temp[\"x_range (m)\"])\n",
    "print(\"y range: \", temp[\"y_range (m)\"])\n",
    "\n",
    "ranges = {\"x\": temp[\"x_range (m)\"],\n",
    "          \"y\": temp[\"y_range (m)\"],\n",
    "         }\n",
    "\n",
    "threshold = 10000000\n",
    "for dimension, ranger in ranges.items():\n",
    "    if ranger < threshold:\n",
    "        smallest_dimension = dimension\n",
    "        threshold = ranger\n",
    "print(\"smallest dimension\", smallest_dimension)\n",
    "\n",
    "x_spacing, dx = np.linspace(x[0], x[1], n_points, retstep=True)\n",
    "y_spacing, dy = np.linspace(y[0], y[1], n_points, retstep=True)\n",
    "\n",
    "steps = {\"x\": dx,\n",
    "         \"y\": dy,\n",
    "        }\n",
    "\n",
    "print(\"theoretical x spacing: \", dx)\n",
    "\n",
    "xgrid = np.arange(x[0]-dx, x[1]+dx, steps[smallest_dimension])\n",
    "ygrid = np.arange(y[0]-dy, y[1]+dy, steps[smallest_dimension])\n",
    "\n",
    "print(\"actual x spacing: \", xgrid[1] - xgrid[0])\n",
    "print(\"actual y spacing: \", ygrid[1] - ygrid[0])\n",
    "\n",
    "temp[\"x_spacing (m)\"] = np.round(xgrid[1] - xgrid[0], 2)\n",
    "temp[\"y_spacing (m)\"] = np.round(ygrid[1] - ygrid[0], 2)\n",
    "\n",
    "print(\"Number of points: \", len(xgrid) * len(ygrid))\n",
    "print(\"xy grid: \", len(xgrid), len(ygrid), \"\\n\")\n",
    "\n",
    "temp[\"#xgrid_points\"] = len(xgrid)\n",
    "temp[\"#ygrid_points\"] = len(ygrid)\n",
    "temp[\"#total_grid_nodes\"] = len(xgrid) * len(ygrid)\n",
    "\n",
    "coordinates_grids = [xgrid, ygrid]\n",
    "coordinates_grids_details = temp\n",
    "\n",
    "# Assigned to a different variable (name) because later on 'grid' gets used in the code\n",
    "grid = coordinates_grids"
   ]
  },
  {
   "cell_type": "markdown",
   "metadata": {},
   "source": [
    "## Classification map\n",
    "___"
   ]
  },
  {
   "cell_type": "markdown",
   "metadata": {},
   "source": [
    "We will have to decide on a certain classification scheme before we could use this.  \n",
    "Another option might be to use a condensed version of the 'type_granite' column."
   ]
  },
  {
   "cell_type": "markdown",
   "metadata": {},
   "source": [
    "**Yep**"
   ]
  },
  {
   "cell_type": "markdown",
   "metadata": {},
   "source": [
    "## Detrending\n",
    "____"
   ]
  },
  {
   "cell_type": "code",
   "execution_count": 350,
   "metadata": {},
   "outputs": [
    {
     "name": "stdout",
     "output_type": "stream",
     "text": [
      "R² for PC01 order = 1 :\n"
     ]
    },
    {
     "data": {
      "text/plain": [
       "0.22410868320127664"
      ]
     },
     "execution_count": 350,
     "metadata": {},
     "output_type": "execute_result"
    },
    {
     "name": "stdout",
     "output_type": "stream",
     "text": [
      "R² for PC01 order = 2 :\n"
     ]
    },
    {
     "data": {
      "text/plain": [
       "0.233137901461839"
      ]
     },
     "execution_count": 350,
     "metadata": {},
     "output_type": "execute_result"
    },
    {
     "name": "stdout",
     "output_type": "stream",
     "text": [
      "R² for PC02 order = 1 :\n"
     ]
    },
    {
     "data": {
      "text/plain": [
       "0.03756692633809067"
      ]
     },
     "execution_count": 350,
     "metadata": {},
     "output_type": "execute_result"
    },
    {
     "name": "stdout",
     "output_type": "stream",
     "text": [
      "R² for PC02 order = 2 :\n"
     ]
    },
    {
     "data": {
      "text/plain": [
       "0.0834728991297703"
      ]
     },
     "execution_count": 350,
     "metadata": {},
     "output_type": "execute_result"
    },
    {
     "name": "stdout",
     "output_type": "stream",
     "text": [
      "R² for PC03 order = 1 :\n"
     ]
    },
    {
     "data": {
      "text/plain": [
       "0.03194191490891718"
      ]
     },
     "execution_count": 350,
     "metadata": {},
     "output_type": "execute_result"
    },
    {
     "name": "stdout",
     "output_type": "stream",
     "text": [
      "R² for PC03 order = 2 :\n"
     ]
    },
    {
     "data": {
      "text/plain": [
       "0.04565006085400858"
      ]
     },
     "execution_count": 350,
     "metadata": {},
     "output_type": "execute_result"
    },
    {
     "name": "stdout",
     "output_type": "stream",
     "text": [
      "R² for PC04 order = 1 :\n"
     ]
    },
    {
     "data": {
      "text/plain": [
       "0.12440690897996232"
      ]
     },
     "execution_count": 350,
     "metadata": {},
     "output_type": "execute_result"
    },
    {
     "name": "stdout",
     "output_type": "stream",
     "text": [
      "R² for PC04 order = 2 :\n"
     ]
    },
    {
     "data": {
      "text/plain": [
       "0.1286704541863899"
      ]
     },
     "execution_count": 350,
     "metadata": {},
     "output_type": "execute_result"
    },
    {
     "name": "stdout",
     "output_type": "stream",
     "text": [
      "R² for PC05 order = 1 :\n"
     ]
    },
    {
     "data": {
      "text/plain": [
       "0.07815875232064862"
      ]
     },
     "execution_count": 350,
     "metadata": {},
     "output_type": "execute_result"
    },
    {
     "name": "stdout",
     "output_type": "stream",
     "text": [
      "R² for PC05 order = 2 :\n"
     ]
    },
    {
     "data": {
      "text/plain": [
       "0.1053738460569773"
      ]
     },
     "execution_count": 350,
     "metadata": {},
     "output_type": "execute_result"
    },
    {
     "name": "stdout",
     "output_type": "stream",
     "text": [
      "R² for PC06 order = 1 :\n"
     ]
    },
    {
     "data": {
      "text/plain": [
       "0.04909732179759374"
      ]
     },
     "execution_count": 350,
     "metadata": {},
     "output_type": "execute_result"
    },
    {
     "name": "stdout",
     "output_type": "stream",
     "text": [
      "R² for PC06 order = 2 :\n"
     ]
    },
    {
     "data": {
      "text/plain": [
       "0.07080242600840092"
      ]
     },
     "execution_count": 350,
     "metadata": {},
     "output_type": "execute_result"
    },
    {
     "name": "stdout",
     "output_type": "stream",
     "text": [
      "R² for PC07 order = 1 :\n"
     ]
    },
    {
     "data": {
      "text/plain": [
       "0.02091790116572545"
      ]
     },
     "execution_count": 350,
     "metadata": {},
     "output_type": "execute_result"
    },
    {
     "name": "stdout",
     "output_type": "stream",
     "text": [
      "R² for PC07 order = 2 :\n"
     ]
    },
    {
     "data": {
      "text/plain": [
       "0.06260017519397887"
      ]
     },
     "execution_count": 350,
     "metadata": {},
     "output_type": "execute_result"
    },
    {
     "name": "stdout",
     "output_type": "stream",
     "text": [
      "R² for PC08 order = 1 :\n"
     ]
    },
    {
     "data": {
      "text/plain": [
       "0.017802333528790237"
      ]
     },
     "execution_count": 350,
     "metadata": {},
     "output_type": "execute_result"
    },
    {
     "name": "stdout",
     "output_type": "stream",
     "text": [
      "R² for PC08 order = 2 :\n"
     ]
    },
    {
     "data": {
      "text/plain": [
       "0.031055950526446274"
      ]
     },
     "execution_count": 350,
     "metadata": {},
     "output_type": "execute_result"
    },
    {
     "name": "stdout",
     "output_type": "stream",
     "text": [
      "R² for PC09 order = 1 :\n"
     ]
    },
    {
     "data": {
      "text/plain": [
       "0.05007237893661476"
      ]
     },
     "execution_count": 350,
     "metadata": {},
     "output_type": "execute_result"
    },
    {
     "name": "stdout",
     "output_type": "stream",
     "text": [
      "R² for PC09 order = 2 :\n"
     ]
    },
    {
     "data": {
      "text/plain": [
       "0.07265064539656407"
      ]
     },
     "execution_count": 350,
     "metadata": {},
     "output_type": "execute_result"
    },
    {
     "name": "stdout",
     "output_type": "stream",
     "text": [
      "R² for PC10 order = 1 :\n"
     ]
    },
    {
     "data": {
      "text/plain": [
       "0.009830477517199343"
      ]
     },
     "execution_count": 350,
     "metadata": {},
     "output_type": "execute_result"
    },
    {
     "name": "stdout",
     "output_type": "stream",
     "text": [
      "R² for PC10 order = 2 :\n"
     ]
    },
    {
     "data": {
      "text/plain": [
       "0.04079394575634443"
      ]
     },
     "execution_count": 350,
     "metadata": {},
     "output_type": "execute_result"
    },
    {
     "name": "stdout",
     "output_type": "stream",
     "text": [
      "R² for PC11 order = 1 :\n"
     ]
    },
    {
     "data": {
      "text/plain": [
       "0.0465370015128137"
      ]
     },
     "execution_count": 350,
     "metadata": {},
     "output_type": "execute_result"
    },
    {
     "name": "stdout",
     "output_type": "stream",
     "text": [
      "R² for PC11 order = 2 :\n"
     ]
    },
    {
     "data": {
      "text/plain": [
       "0.07083168726346545"
      ]
     },
     "execution_count": 350,
     "metadata": {},
     "output_type": "execute_result"
    },
    {
     "name": "stdout",
     "output_type": "stream",
     "text": [
      "R² for PC12 order = 1 :\n"
     ]
    },
    {
     "data": {
      "text/plain": [
       "0.02572533476087735"
      ]
     },
     "execution_count": 350,
     "metadata": {},
     "output_type": "execute_result"
    },
    {
     "name": "stdout",
     "output_type": "stream",
     "text": [
      "R² for PC12 order = 2 :\n"
     ]
    },
    {
     "data": {
      "text/plain": [
       "0.04517781055873793"
      ]
     },
     "execution_count": 350,
     "metadata": {},
     "output_type": "execute_result"
    }
   ],
   "source": [
    "# Check if there is a trend present in the data\n",
    "# This is the case if R² is above say 0.70 \n",
    "\n",
    "for component in mineralogy_pca_df.columns.tolist()[:-1]:\n",
    "    for order in [1, 2]:\n",
    "        print(\"R² for\", component, \"order =\", order, \":\")\n",
    "        detrending.detrend(coordinates_utm, \n",
    "                           mineralogy_pca_df[component], \n",
    "                           order=order, \n",
    "                           verbose=False, \n",
    "                           plot_points=False)[1]"
   ]
  },
  {
   "cell_type": "markdown",
   "metadata": {},
   "source": [
    "## Variogram modelling\n",
    "___"
   ]
  },
  {
   "cell_type": "markdown",
   "metadata": {},
   "source": [
    "* Variogram model (str)\n",
    "* Sill (float)\n",
    "* Range (float)\n",
    "* Nugget (float)\n",
    "* Number of lag bins (int)\n",
    "* Weighted (Bool)"
   ]
  },
  {
   "cell_type": "code",
   "execution_count": 351,
   "metadata": {},
   "outputs": [],
   "source": [
    "# Nugget (variance at lag=0 metric)\n",
    "\n",
    "# Since we are not dealing with point count data here,\n",
    "# we can not use the formulas from our paper we have talked about\n",
    "# Therefore I would just start with nugget=0 and perhaps later change this\n",
    "\n",
    "# Depending on how many principal components you will use, \n",
    "# you will have to add more entries to this list.\n",
    "nugget_ = [0.8921, 0.9248, 0.4113, 0.4315, 0.3035, 0.2601, 0.2073, 0.0969, 0.07362, 0., 0., 0., 0., 0., 0.]"
   ]
  },
  {
   "cell_type": "code",
   "execution_count": 352,
   "metadata": {},
   "outputs": [
    {
     "data": {
      "text/plain": [
       "['01', '02', '03', '04', '05', '06', '07', '08', '09', '10', '11', '12', '13']"
      ]
     },
     "execution_count": 352,
     "metadata": {},
     "output_type": "execute_result"
    }
   ],
   "source": [
    "PC_nr_list = [nr[2:] for nr in mineralogy_pca_df.columns]\n",
    "PC_nr_list"
   ]
  },
  {
   "cell_type": "code",
   "execution_count": 353,
   "metadata": {},
   "outputs": [],
   "source": [
    "# Sill (total variance metric)\n",
    "\n",
    "# A 'list comprehension' construction is used here\n",
    "sill_ = [mineralogy_pca_df.loc[:, f\"PC{i}\"].values.var(ddof=1) \n",
    "         for i in PC_nr_list]"
   ]
  },
  {
   "cell_type": "code",
   "execution_count": 354,
   "metadata": {},
   "outputs": [],
   "source": [
    "# Variogram model parameters dictionary\n",
    "\n",
    "variogram_model_parameters = {}\n",
    "\n",
    "for i, PC in enumerate(mineralogy_pca_df.columns):\n",
    "    parameters = {}\n",
    "    parameters[\"sill\"] = sill_[i]\n",
    "    parameters[\"range\"] = range_[i]\n",
    "    parameters[\"nugget\"] = nugget_[i]\n",
    "        \n",
    "    variogram_model_parameters[PC] = parameters"
   ]
  },
  {
   "cell_type": "code",
   "execution_count": 355,
   "metadata": {},
   "outputs": [],
   "source": [
    "# Variogram model\n",
    "\n",
    "# You can choose between [\"exponential\", \"linear\", \"spherical\", \"power\", \"gaussian\"]\n",
    "# see https://pykrige.readthedocs.io/en/latest/variogram_models.html for equations\n",
    "variogram_model = \"exponential\""
   ]
  },
  {
   "cell_type": "code",
   "execution_count": 356,
   "metadata": {},
   "outputs": [
    {
     "data": {
      "text/plain": [
       "21"
      ]
     },
     "execution_count": 356,
     "metadata": {},
     "output_type": "execute_result"
    }
   ],
   "source": [
    "# Number of lag bins\n",
    "\n",
    "n_lags = int(np.floor(np.sqrt(coordinates_utm.shape[0])))\n",
    "n_lags"
   ]
  },
  {
   "cell_type": "code",
   "execution_count": 357,
   "metadata": {},
   "outputs": [],
   "source": [
    "# Set utm coordinates to use in variogram\n",
    "\n",
    "X = coordinates_utm.iloc[:, 0].values\n",
    "Y = coordinates_utm.iloc[:, 1].values"
   ]
  },
  {
   "cell_type": "code",
   "execution_count": 358,
   "metadata": {},
   "outputs": [
    {
     "name": "stdout",
     "output_type": "stream",
     "text": [
      "PC01\n",
      "Plotting Enabled\n",
      "\n",
      "Adjusting data for anisotropy...\n",
      "Initializing variogram model...\n",
      "Coordinates type: 'euclidean' \n",
      "\n",
      "Using 'exponential' Variogram Model\n",
      "Partial Sill: 1.3382743634097896\n",
      "Full Sill: 2.2303743634097897\n",
      "Range: 120000\n",
      "Nugget: 0.8921 \n",
      "\n"
     ]
    },
    {
     "data": {
      "image/png": "[encoded data removed]",
      "text/plain": [
       "<Figure size 432x288 with 1 Axes>"
      ]
     },
     "metadata": {
      "needs_background": "light"
     },
     "output_type": "display_data"
    },
    {
     "name": "stdout",
     "output_type": "stream",
     "text": [
      "Calculating statistics on variogram model fit...\n",
      "PC02\n",
      "Plotting Enabled\n",
      "\n",
      "Adjusting data for anisotropy...\n",
      "Initializing variogram model...\n",
      "Coordinates type: 'euclidean' \n",
      "\n",
      "Using 'exponential' Variogram Model\n",
      "Partial Sill: 0.39636529524530617\n",
      "Full Sill: 1.3211652952453061\n",
      "Range: 120000\n",
      "Nugget: 0.9248 \n",
      "\n"
     ]
    },
    {
     "data": {
      "image/png": "[encoded data removed]",
      "text/plain": [
       "<Figure size 432x288 with 1 Axes>"
      ]
     },
     "metadata": {
      "needs_background": "light"
     },
     "output_type": "display_data"
    },
    {
     "name": "stdout",
     "output_type": "stream",
     "text": [
      "Calculating statistics on variogram model fit...\n",
      "PC03\n",
      "Plotting Enabled\n",
      "\n",
      "Adjusting data for anisotropy...\n",
      "Initializing variogram model...\n",
      "Coordinates type: 'euclidean' \n",
      "\n",
      "Using 'exponential' Variogram Model\n",
      "Partial Sill: 0.6168829227096531\n",
      "Full Sill: 1.028182922709653\n",
      "Range: 120000\n",
      "Nugget: 0.4113 \n",
      "\n"
     ]
    },
    {
     "data": {
      "image/png": "[encoded data removed]",
      "text/plain": [
       "<Figure size 432x288 with 1 Axes>"
      ]
     },
     "metadata": {
      "needs_background": "light"
     },
     "output_type": "display_data"
    },
    {
     "name": "stdout",
     "output_type": "stream",
     "text": [
      "Calculating statistics on variogram model fit...\n",
      "PC04\n",
      "Plotting Enabled\n",
      "\n",
      "Adjusting data for anisotropy...\n",
      "Initializing variogram model...\n",
      "Coordinates type: 'euclidean' \n",
      "\n",
      "Using 'exponential' Variogram Model\n",
      "Partial Sill: 0.18485604210851558\n",
      "Full Sill: 0.6163560421085156\n",
      "Range: 120000\n",
      "Nugget: 0.4315 \n",
      "\n"
     ]
    },
    {
     "data": {
      "image/png": "[encoded data removed]",
      "text/plain": [
       "<Figure size 432x288 with 1 Axes>"
      ]
     },
     "metadata": {
      "needs_background": "light"
     },
     "output_type": "display_data"
    },
    {
     "name": "stdout",
     "output_type": "stream",
     "text": [
      "Calculating statistics on variogram model fit...\n",
      "PC05\n",
      "Plotting Enabled\n",
      "\n",
      "Adjusting data for anisotropy...\n",
      "Initializing variogram model...\n",
      "Coordinates type: 'euclidean' \n",
      "\n",
      "Using 'exponential' Variogram Model\n",
      "Partial Sill: 0.13011260065648883\n",
      "Full Sill: 0.4336126006564888\n",
      "Range: 120000\n",
      "Nugget: 0.3035 \n",
      "\n"
     ]
    },
    {
     "data": {
      "image/png": "[encoded data removed]",
      "text/plain": [
       "<Figure size 432x288 with 1 Axes>"
      ]
     },
     "metadata": {
      "needs_background": "light"
     },
     "output_type": "display_data"
    },
    {
     "name": "stdout",
     "output_type": "stream",
     "text": [
      "Calculating statistics on variogram model fit...\n",
      "PC06\n",
      "Plotting Enabled\n",
      "\n",
      "Adjusting data for anisotropy...\n",
      "Initializing variogram model...\n",
      "Coordinates type: 'euclidean' \n",
      "\n",
      "Using 'exponential' Variogram Model\n",
      "Partial Sill: 0.11145988388543088\n",
      "Full Sill: 0.3715598838854309\n",
      "Range: 120000\n",
      "Nugget: 0.2601 \n",
      "\n"
     ]
    },
    {
     "data": {
      "image/png": "[encoded data removed]",
      "text/plain": [
       "<Figure size 432x288 with 1 Axes>"
      ]
     },
     "metadata": {
      "needs_background": "light"
     },
     "output_type": "display_data"
    },
    {
     "name": "stdout",
     "output_type": "stream",
     "text": [
      "Calculating statistics on variogram model fit...\n",
      "PC07\n",
      "Plotting Enabled\n",
      "\n",
      "Adjusting data for anisotropy...\n",
      "Initializing variogram model...\n",
      "Coordinates type: 'euclidean' \n",
      "\n",
      "Using 'exponential' Variogram Model\n",
      "Partial Sill: 0.022984074632380613\n",
      "Full Sill: 0.23028407463238063\n",
      "Range: 120000\n",
      "Nugget: 0.2073 \n",
      "\n"
     ]
    },
    {
     "data": {
      "image/png": "[encoded data removed]",
      "text/plain": [
       "<Figure size 432x288 with 1 Axes>"
      ]
     },
     "metadata": {
      "needs_background": "light"
     },
     "output_type": "display_data"
    },
    {
     "name": "stdout",
     "output_type": "stream",
     "text": [
      "Calculating statistics on variogram model fit...\n",
      "PC08\n",
      "Plotting Enabled\n",
      "\n",
      "Adjusting data for anisotropy...\n",
      "Initializing variogram model...\n",
      "Coordinates type: 'euclidean' \n",
      "\n",
      "Using 'exponential' Variogram Model\n",
      "Partial Sill: 0.06461428592546116\n",
      "Full Sill: 0.16151428592546116\n",
      "Range: 120000\n",
      "Nugget: 0.0969 \n",
      "\n"
     ]
    },
    {
     "data": {
      "image/png": "[encoded data removed]",
      "text/plain": [
       "<Figure size 432x288 with 1 Axes>"
      ]
     },
     "metadata": {
      "needs_background": "light"
     },
     "output_type": "display_data"
    },
    {
     "name": "stdout",
     "output_type": "stream",
     "text": [
      "Calculating statistics on variogram model fit...\n",
      "PC09\n",
      "Plotting Enabled\n",
      "\n",
      "Adjusting data for anisotropy...\n",
      "Initializing variogram model...\n",
      "Coordinates type: 'euclidean' \n",
      "\n",
      "Using 'exponential' Variogram Model\n",
      "Partial Sill: 0.049033377818827995\n",
      "Full Sill: 0.122653377818828\n",
      "Range: 120000\n",
      "Nugget: 0.07362 \n",
      "\n"
     ]
    },
    {
     "data": {
      "image/png": "[encoded data removed]",
      "text/plain": [
       "<Figure size 432x288 with 1 Axes>"
      ]
     },
     "metadata": {
      "needs_background": "light"
     },
     "output_type": "display_data"
    },
    {
     "name": "stdout",
     "output_type": "stream",
     "text": [
      "Calculating statistics on variogram model fit...\n",
      "PC10\n",
      "Plotting Enabled\n",
      "\n",
      "Adjusting data for anisotropy...\n",
      "Initializing variogram model...\n",
      "Coordinates type: 'euclidean' \n",
      "\n",
      "Using 'exponential' Variogram Model\n",
      "Partial Sill: 0.10722880536942772\n",
      "Full Sill: 0.10722880536942772\n",
      "Range: 100000\n",
      "Nugget: 0.0 \n",
      "\n"
     ]
    },
    {
     "data": {
      "image/png": "[encoded data removed]",
      "text/plain": [
       "<Figure size 432x288 with 1 Axes>"
      ]
     },
     "metadata": {
      "needs_background": "light"
     },
     "output_type": "display_data"
    },
    {
     "name": "stdout",
     "output_type": "stream",
     "text": [
      "Calculating statistics on variogram model fit...\n",
      "PC11\n",
      "Plotting Enabled\n",
      "\n",
      "Adjusting data for anisotropy...\n",
      "Initializing variogram model...\n",
      "Coordinates type: 'euclidean' \n",
      "\n",
      "Using 'exponential' Variogram Model\n",
      "Partial Sill: 0.02845727988535662\n",
      "Full Sill: 0.02845727988535662\n",
      "Range: 100000\n",
      "Nugget: 0.0 \n",
      "\n"
     ]
    },
    {
     "data": {
      "image/png": "[encoded data removed]",
      "text/plain": [
       "<Figure size 432x288 with 1 Axes>"
      ]
     },
     "metadata": {
      "needs_background": "light"
     },
     "output_type": "display_data"
    },
    {
     "name": "stdout",
     "output_type": "stream",
     "text": [
      "Calculating statistics on variogram model fit...\n",
      "PC12\n",
      "Plotting Enabled\n",
      "\n",
      "Adjusting data for anisotropy...\n",
      "Initializing variogram model...\n",
      "Coordinates type: 'euclidean' \n",
      "\n",
      "Using 'exponential' Variogram Model\n",
      "Partial Sill: 0.006092722165067305\n",
      "Full Sill: 0.006092722165067305\n",
      "Range: 100000\n",
      "Nugget: 0.0 \n",
      "\n"
     ]
    },
    {
     "data": {
      "image/png": "[encoded data removed]",
      "text/plain": [
       "<Figure size 432x288 with 1 Axes>"
      ]
     },
     "metadata": {
      "needs_background": "light"
     },
     "output_type": "display_data"
    },
    {
     "name": "stdout",
     "output_type": "stream",
     "text": [
      "Calculating statistics on variogram model fit...\n",
      "Wall time: 4.43 s\n"
     ]
    }
   ],
   "source": [
    "%%time\n",
    "# Initialize empty dictionary\n",
    "variograms = {}\n",
    "\n",
    "# Loop though the diiferent principal components\n",
    "for component in mineralogy_pca_df.columns.tolist()[:-1]:\n",
    "    print(component)\n",
    "    # Subset principal component to use\n",
    "    data = mineralogy_pca_df.loc[:, component].values\n",
    "    variograms[component] = \\\n",
    "        OrdinaryKriging(X, Y, data,\n",
    "                        variogram_model='exponential',\n",
    "                        variogram_parameters=variogram_model_parameters[component],\n",
    "                        nlags=n_lags,\n",
    "                        verbose=True,\n",
    "                        enable_statistics=False,\n",
    "                        enable_plotting=True,\n",
    "                        weight=True,\n",
    "                        saveplot=True,\n",
    "                        coordinates_type='euclidean',\n",
    "                        saveloc=\"../_FIGURES/variograms/\",\n",
    "                        principal_component=component,\n",
    "                        pluton=group_name,\n",
    "                        show_nlag_pairs=False, # Turn off displaying number of lag pairs in lag bin\n",
    "                        show_range_determine_guide=True, # 0.95 * sill highlighted with blue line to help determining range\n",
    "                        range_estimate=150000) # Pass in value in meters to display a line at range estimate; set value to None to not display line\n",
    "    \n",
    "# NOTE that ideally Q1 is close to zero, Q2 is close to 1, and cR is as small as possible."
   ]
  },
  {
   "cell_type": "markdown",
   "metadata": {},
   "source": [
    "## Leave One Out Cross Validation (LOOCV) of PCA\n",
    "____"
   ]
  },
  {
   "cell_type": "code",
   "execution_count": 359,
   "metadata": {},
   "outputs": [],
   "source": [
    "# If you have run the cross validation before you can load the results by\n",
    "# running this cell and don't have to run the next cell anymore.\n",
    "CV_results = preproc.load_obj(\"CV_results_fast\")"
   ]
  },
  {
   "cell_type": "code",
   "execution_count": 360,
   "metadata": {},
   "outputs": [],
   "source": [
    "# Use this cross validation to check the hyper-parameters of your chosen variogram model \n",
    "# such as the search_radius, variogram_model, lag_bins etc.\n",
    "\n",
    "# Cross validation parameter dictionary to use\n",
    "# You can remove or add options here which will decrease or increase the number \n",
    "# of combinations of parameters the cross validation will run\n",
    "cv_param_dict = {}\n",
    "\n",
    "for component in mineralogy_pca_df.columns.tolist()[:-1]:\n",
    "    cv_param_dict[component] = {\"method\": [\"ordinary\"],\n",
    "                                \"variogram_model\": [\"exponential\", \"spherical\"],\n",
    "                                \"variogram_model_parameters\": [variogram_model_parameters[component]],\n",
    "                                \"nlags\": [n_lags],\n",
    "                                \"weight\": [True],\n",
    "                                \"n_closest_points\": [number_of_control_points],\n",
    "                                \"search_radius\": [range_[0]]\n",
    "                                }\n",
    "\n",
    "# The CV function below uses parallel processing to speed things up\n",
    "# Your CPU will thus reach 100% probably\n",
    "# To reduce the number of parallel processes to use you can change the following value\n",
    "# Defaults to -1 to use all available CPU cores; change to number between 1 and 8 e.g. \n",
    "# depending on how many cores your CPU has\n",
    "n_jobs = -1 "
   ]
  },
  {
   "cell_type": "code",
   "execution_count": 361,
   "metadata": {},
   "outputs": [
    {
     "name": "stdout",
     "output_type": "stream",
     "text": [
      "PC01\n",
      "Fitting 10 folds for each of 2 candidates, totalling 20 fits\n"
     ]
    },
    {
     "name": "stderr",
     "output_type": "stream",
     "text": [
      "[Parallel(n_jobs=-1)]: Using backend LokyBackend with 8 concurrent workers.\n",
      "[Parallel(n_jobs=-1)]: Done   2 tasks      | elapsed:    2.7s\n",
      "[Parallel(n_jobs=-1)]: Done  10 out of  20 | elapsed:    3.1s remaining:    3.1s\n",
      "[Parallel(n_jobs=-1)]: Done  15 out of  20 | elapsed:    3.1s remaining:    1.0s\n",
      "[Parallel(n_jobs=-1)]: Done  20 out of  20 | elapsed:    3.3s remaining:    0.0s\n",
      "[Parallel(n_jobs=-1)]: Done  20 out of  20 | elapsed:    3.3s finished\n",
      "C:\\Users\\Sebastian\\Anaconda3\\envs\\main\\lib\\site-packages\\sklearn\\model_selection\\_search.py:825: FutureWarning: The parameter 'iid' is deprecated in 0.22 and will be removed in 0.24.\n",
      "  \"removed in 0.24.\", FutureWarning\n",
      "[Parallel(n_jobs=-1)]: Using backend LokyBackend with 8 concurrent workers.\n"
     ]
    },
    {
     "name": "stdout",
     "output_type": "stream",
     "text": [
      "PC02\n",
      "Fitting 10 folds for each of 2 candidates, totalling 20 fits\n"
     ]
    },
    {
     "name": "stderr",
     "output_type": "stream",
     "text": [
      "[Parallel(n_jobs=-1)]: Done   2 tasks      | elapsed:    0.2s\n",
      "[Parallel(n_jobs=-1)]: Done  10 out of  20 | elapsed:    0.4s remaining:    0.4s\n",
      "[Parallel(n_jobs=-1)]: Done  15 out of  20 | elapsed:    0.5s remaining:    0.1s\n",
      "[Parallel(n_jobs=-1)]: Done  20 out of  20 | elapsed:    0.7s remaining:    0.0s\n",
      "[Parallel(n_jobs=-1)]: Done  20 out of  20 | elapsed:    0.7s finished\n",
      "[Parallel(n_jobs=-1)]: Using backend LokyBackend with 8 concurrent workers.\n"
     ]
    },
    {
     "name": "stdout",
     "output_type": "stream",
     "text": [
      "PC03\n",
      "Fitting 10 folds for each of 2 candidates, totalling 20 fits\n"
     ]
    },
    {
     "name": "stderr",
     "output_type": "stream",
     "text": [
      "[Parallel(n_jobs=-1)]: Done   2 tasks      | elapsed:    0.2s\n",
      "[Parallel(n_jobs=-1)]: Done  10 out of  20 | elapsed:    0.4s remaining:    0.4s\n",
      "[Parallel(n_jobs=-1)]: Done  15 out of  20 | elapsed:    0.5s remaining:    0.1s\n",
      "[Parallel(n_jobs=-1)]: Done  20 out of  20 | elapsed:    0.7s remaining:    0.0s\n",
      "[Parallel(n_jobs=-1)]: Done  20 out of  20 | elapsed:    0.7s finished\n",
      "[Parallel(n_jobs=-1)]: Using backend LokyBackend with 8 concurrent workers.\n"
     ]
    },
    {
     "name": "stdout",
     "output_type": "stream",
     "text": [
      "PC04\n",
      "Fitting 10 folds for each of 2 candidates, totalling 20 fits\n"
     ]
    },
    {
     "name": "stderr",
     "output_type": "stream",
     "text": [
      "[Parallel(n_jobs=-1)]: Done   2 tasks      | elapsed:    0.2s\n",
      "[Parallel(n_jobs=-1)]: Done  10 out of  20 | elapsed:    0.5s remaining:    0.5s\n",
      "[Parallel(n_jobs=-1)]: Done  15 out of  20 | elapsed:    0.5s remaining:    0.1s\n",
      "[Parallel(n_jobs=-1)]: Done  20 out of  20 | elapsed:    0.8s remaining:    0.0s\n",
      "[Parallel(n_jobs=-1)]: Done  20 out of  20 | elapsed:    0.8s finished\n",
      "[Parallel(n_jobs=-1)]: Using backend LokyBackend with 8 concurrent workers.\n"
     ]
    },
    {
     "name": "stdout",
     "output_type": "stream",
     "text": [
      "PC05\n",
      "Fitting 10 folds for each of 2 candidates, totalling 20 fits\n"
     ]
    },
    {
     "name": "stderr",
     "output_type": "stream",
     "text": [
      "[Parallel(n_jobs=-1)]: Done   2 tasks      | elapsed:    0.2s\n",
      "[Parallel(n_jobs=-1)]: Done  10 out of  20 | elapsed:    0.5s remaining:    0.5s\n",
      "[Parallel(n_jobs=-1)]: Done  15 out of  20 | elapsed:    0.5s remaining:    0.1s\n",
      "[Parallel(n_jobs=-1)]: Done  20 out of  20 | elapsed:    0.7s remaining:    0.0s\n",
      "[Parallel(n_jobs=-1)]: Done  20 out of  20 | elapsed:    0.7s finished\n",
      "[Parallel(n_jobs=-1)]: Using backend LokyBackend with 8 concurrent workers.\n"
     ]
    },
    {
     "name": "stdout",
     "output_type": "stream",
     "text": [
      "PC06\n",
      "Fitting 10 folds for each of 2 candidates, totalling 20 fits\n"
     ]
    },
    {
     "name": "stderr",
     "output_type": "stream",
     "text": [
      "[Parallel(n_jobs=-1)]: Done   2 tasks      | elapsed:    0.2s\n",
      "[Parallel(n_jobs=-1)]: Done  10 out of  20 | elapsed:    0.5s remaining:    0.5s\n",
      "[Parallel(n_jobs=-1)]: Done  15 out of  20 | elapsed:    0.5s remaining:    0.1s\n",
      "[Parallel(n_jobs=-1)]: Done  20 out of  20 | elapsed:    0.7s remaining:    0.0s\n",
      "[Parallel(n_jobs=-1)]: Done  20 out of  20 | elapsed:    0.7s finished\n"
     ]
    },
    {
     "name": "stdout",
     "output_type": "stream",
     "text": [
      "PC07\n",
      "Fitting 10 folds for each of 2 candidates, totalling 20 fits\n"
     ]
    },
    {
     "name": "stderr",
     "output_type": "stream",
     "text": [
      "[Parallel(n_jobs=-1)]: Using backend LokyBackend with 8 concurrent workers.\n",
      "[Parallel(n_jobs=-1)]: Done   2 tasks      | elapsed:    0.2s\n",
      "[Parallel(n_jobs=-1)]: Done  10 out of  20 | elapsed:    0.5s remaining:    0.5s\n",
      "[Parallel(n_jobs=-1)]: Done  15 out of  20 | elapsed:    0.5s remaining:    0.1s\n",
      "[Parallel(n_jobs=-1)]: Done  20 out of  20 | elapsed:    0.7s remaining:    0.0s\n",
      "[Parallel(n_jobs=-1)]: Done  20 out of  20 | elapsed:    0.7s finished\n",
      "[Parallel(n_jobs=-1)]: Using backend LokyBackend with 8 concurrent workers.\n"
     ]
    },
    {
     "name": "stdout",
     "output_type": "stream",
     "text": [
      "PC08\n",
      "Fitting 10 folds for each of 2 candidates, totalling 20 fits\n"
     ]
    },
    {
     "name": "stderr",
     "output_type": "stream",
     "text": [
      "[Parallel(n_jobs=-1)]: Done   2 tasks      | elapsed:    0.2s\n",
      "[Parallel(n_jobs=-1)]: Done  10 out of  20 | elapsed:    0.5s remaining:    0.5s\n",
      "[Parallel(n_jobs=-1)]: Done  15 out of  20 | elapsed:    0.5s remaining:    0.1s\n",
      "[Parallel(n_jobs=-1)]: Done  20 out of  20 | elapsed:    0.7s remaining:    0.0s\n",
      "[Parallel(n_jobs=-1)]: Done  20 out of  20 | elapsed:    0.7s finished\n"
     ]
    },
    {
     "name": "stdout",
     "output_type": "stream",
     "text": [
      "PC09\n",
      "Fitting 10 folds for each of 2 candidates, totalling 20 fits\n"
     ]
    },
    {
     "name": "stderr",
     "output_type": "stream",
     "text": [
      "[Parallel(n_jobs=-1)]: Using backend LokyBackend with 8 concurrent workers.\n",
      "[Parallel(n_jobs=-1)]: Done   2 tasks      | elapsed:    0.2s\n",
      "[Parallel(n_jobs=-1)]: Done  10 out of  20 | elapsed:    0.5s remaining:    0.5s\n",
      "[Parallel(n_jobs=-1)]: Done  15 out of  20 | elapsed:    0.5s remaining:    0.1s\n"
     ]
    },
    {
     "name": "stdout",
     "output_type": "stream",
     "text": [
      "Wall time: 10 s\n"
     ]
    },
    {
     "name": "stderr",
     "output_type": "stream",
     "text": [
      "[Parallel(n_jobs=-1)]: Done  20 out of  20 | elapsed:    0.7s remaining:    0.0s\n",
      "[Parallel(n_jobs=-1)]: Done  20 out of  20 | elapsed:    0.7s finished\n"
     ]
    }
   ],
   "source": [
    "%%time\n",
    "# Run CV and get estimators (using default MSE scorer)\n",
    "\n",
    "# Instead of running the CV for all the PCs, let's start with only the first 3 \n",
    "# to get an idea of what are the best parameters to use for the first 3 PCs.\n",
    "# In a later step we can then obtain the best parameters for all PCs that have \n",
    "# a sensible variogram; here this would mean up to and including PC09.\n",
    "# To specify which PCs to use, you can pass them in as list to the 'components_to_use' variable\n",
    "\n",
    "# Another change I've made, is that instead of performing leave-one-out-CV \n",
    "# where the train set is equal to n_sample - 1 and the test set is equal to 1,\n",
    "# it makes sense to here use a different strategy, since you're dealing with many more samples.\n",
    "# Therefore I've included the 'cv_folds' parameter where you can specify \n",
    "# the number of train/test groups you want to use during CV\n",
    "# Let's start with ten groups, which basically means that \n",
    "# you use 90% of the samples as train set and 10% as test test\n",
    "# and this in 10 combinations.\n",
    "\n",
    "# A a later stage we could change the CV to use a statified cv_fold\n",
    "# meaning that it ensures for example that for every train/test grouping of the 10 groups\n",
    "# equal numbers of samples of spcified grouping variable are used \n",
    "# (for example your time category or classification later on)\n",
    "\n",
    "# I've also included the '%%time' statement at the beginning of the cell,\n",
    "# so that at the end of the calculation you can see how much time it took.\n",
    "\n",
    "# Have a look here if you want some background info on the CV method used:\n",
    "# https://scikit-learn.org/stable/modules/generated/sklearn.model_selection.GridSearchCV.html\n",
    "\n",
    "estimators = loocv.perform_loocv(mineralogy_pca_df,\n",
    "                                 coordinates_utm,\n",
    "                                 cv_param_dict,\n",
    "                                 n_jobs=n_jobs,\n",
    "                                 cv_folds=10,\n",
    "                                 components_to_use=[f\"PC0{i}\" for i in range(1, 10)])"
   ]
  },
  {
   "cell_type": "code",
   "execution_count": 362,
   "metadata": {},
   "outputs": [],
   "source": [
    "# Convert estimators to dict of dataframes\n",
    "CV_results = loocv.convert_scores_to_df(estimators)"
   ]
  },
  {
   "cell_type": "code",
   "execution_count": 363,
   "metadata": {},
   "outputs": [],
   "source": [
    "# Save CV_results to pickle file for easy use later\n",
    "# These are the results from the 56min CV above (with only first 3 PCs)\n",
    "preproc.save_obj(CV_results, \"CV_results_summarized\")"
   ]
  },
  {
   "cell_type": "code",
   "execution_count": 364,
   "metadata": {},
   "outputs": [],
   "source": [
    "# Save CV_results to pickle file for easy use later\n",
    "# These are the results from the 2min CV above (with only first 9 PCs, simple parameters)\n",
    "preproc.save_obj(CV_results, \"CV_results_fast\")"
   ]
  },
  {
   "cell_type": "code",
   "execution_count": 365,
   "metadata": {},
   "outputs": [
    {
     "name": "stdout",
     "output_type": "stream",
     "text": [
      "PC01\n",
      "rank_test_score                    2\n",
      "mean_test_score              1.61471\n",
      "std_test_score              0.570571\n",
      "mean_train_score         3.22499e-31\n",
      "param_method                ordinary\n",
      "param_variogram_model    exponential\n",
      "param_search_radius           120000\n",
      "Name: 0, dtype: object\n",
      "\n",
      "\n",
      "PC02\n",
      "rank_test_score                    2\n",
      "mean_test_score              1.19712\n",
      "std_test_score              0.301564\n",
      "mean_train_score         6.42804e-32\n",
      "param_method                ordinary\n",
      "param_variogram_model    exponential\n",
      "param_search_radius           120000\n",
      "Name: 0, dtype: object\n",
      "\n",
      "\n",
      "PC03\n",
      "rank_test_score                    2\n",
      "mean_test_score             0.923138\n",
      "std_test_score              0.233608\n",
      "mean_train_score                   0\n",
      "param_method                ordinary\n",
      "param_variogram_model    exponential\n",
      "param_search_radius           120000\n",
      "Name: 0, dtype: object\n",
      "\n",
      "\n",
      "PC04\n",
      "rank_test_score                  2\n",
      "mean_test_score           0.497765\n",
      "std_test_score            0.182152\n",
      "mean_train_score                 0\n",
      "param_method              ordinary\n",
      "param_variogram_model    spherical\n",
      "param_search_radius         120000\n",
      "Name: 1, dtype: object\n",
      "\n",
      "\n",
      "PC05\n",
      "rank_test_score                  2\n",
      "mean_test_score           0.345481\n",
      "std_test_score           0.0889812\n",
      "mean_train_score                 0\n",
      "param_method              ordinary\n",
      "param_variogram_model    spherical\n",
      "param_search_radius         120000\n",
      "Name: 1, dtype: object\n",
      "\n",
      "\n",
      "PC06\n",
      "rank_test_score                    2\n",
      "mean_test_score             0.346381\n",
      "std_test_score             0.0807396\n",
      "mean_train_score                   0\n",
      "param_method                ordinary\n",
      "param_variogram_model    exponential\n",
      "param_search_radius           120000\n",
      "Name: 0, dtype: object\n",
      "\n",
      "\n",
      "PC07\n",
      "rank_test_score                    2\n",
      "mean_test_score             0.211368\n",
      "std_test_score             0.0667797\n",
      "mean_train_score                   0\n",
      "param_method                ordinary\n",
      "param_variogram_model    exponential\n",
      "param_search_radius           120000\n",
      "Name: 0, dtype: object\n",
      "\n",
      "\n",
      "PC08\n",
      "rank_test_score                    2\n",
      "mean_test_score             0.153309\n",
      "std_test_score             0.0506307\n",
      "mean_train_score                   0\n",
      "param_method                ordinary\n",
      "param_variogram_model    exponential\n",
      "param_search_radius           120000\n",
      "Name: 0, dtype: object\n",
      "\n",
      "\n",
      "PC09\n",
      "rank_test_score                    2\n",
      "mean_test_score             0.120136\n",
      "std_test_score             0.0934307\n",
      "mean_train_score                   0\n",
      "param_method                ordinary\n",
      "param_variogram_model    exponential\n",
      "param_search_radius           120000\n",
      "Name: 0, dtype: object\n",
      "\n",
      "\n"
     ]
    }
   ],
   "source": [
    "# Quick look at best results per PC\n",
    "loocv.print_best_scores(CV_results)"
   ]
  },
  {
   "cell_type": "markdown",
   "metadata": {},
   "source": [
    "## Calculating predictions for best model\n",
    "____"
   ]
  },
  {
   "cell_type": "code",
   "execution_count": 366,
   "metadata": {},
   "outputs": [],
   "source": [
    "# Here you can specify the components and search_radii you want to use \n",
    "# when performing the kriging and performing the postprocessing calculations\n",
    "components_to_use = [f\"PC0{i}\" for i in range(1, 10)]\n",
    "search_radii = [range_[0]]"
   ]
  },
  {
   "cell_type": "code",
   "execution_count": 367,
   "metadata": {},
   "outputs": [],
   "source": [
    "estimators_final = {}\n",
    "\n",
    "for component in components_to_use:  # Changed to only first 9 PCs\n",
    "    for radius in search_radii:  # Removed critical_distance\n",
    "        for variable_to_fit in [\"estimates\"]:\n",
    "\n",
    "            estimators_final[f\"{component}_{radius}_{variable_to_fit}\"] = \\\n",
    "                Krige(method='ordinary',\n",
    "                      variogram_model=variogram_model,\n",
    "                      variogram_model_parameters=variogram_model_parameters[component],\n",
    "                      nlags=n_lags,\n",
    "                      weight=True,\n",
    "                      n_closest_points=number_of_control_points,\n",
    "                      search_radius=radius,\n",
    "                      variable_to_fit=variable_to_fit)"
   ]
  },
  {
   "cell_type": "code",
   "execution_count": 368,
   "metadata": {},
   "outputs": [],
   "source": [
    "# Run this cell if you have previously run the next cell and saved its outcome\n",
    "kriging_predictions = preproc.load_obj(\"kriging_predictions\")"
   ]
  },
  {
   "cell_type": "code",
   "execution_count": 369,
   "metadata": {},
   "outputs": [
    {
     "name": "stdout",
     "output_type": "stream",
     "text": [
      "PC01 120000 estimates\n",
      "PC02 120000 estimates\n"
     ]
    },
    {
     "name": "stderr",
     "output_type": "stream",
     "text": [
      "[Parallel(n_jobs=-1)]: Using backend LokyBackend with 8 concurrent workers.\n",
      "[Parallel(n_jobs=-1)]: Done   4 out of  10 | elapsed:    0.0s remaining:    0.1s\n",
      "[Parallel(n_jobs=-1)]: Done   7 out of  10 | elapsed:    0.0s remaining:    0.0s\n",
      "[Parallel(n_jobs=-1)]: Done  10 out of  10 | elapsed:    0.0s remaining:    0.0s\n",
      "[Parallel(n_jobs=-1)]: Done  10 out of  10 | elapsed:    0.0s finished\n",
      "[Parallel(n_jobs=-1)]: Using backend LokyBackend with 8 concurrent workers.\n",
      "[Parallel(n_jobs=-1)]: Done   4 out of  10 | elapsed:    0.0s remaining:    0.0s\n",
      "[Parallel(n_jobs=-1)]: Done   7 out of  10 | elapsed:    0.0s remaining:    0.0s\n",
      "[Parallel(n_jobs=-1)]: Done  10 out of  10 | elapsed:    0.0s remaining:    0.0s\n",
      "[Parallel(n_jobs=-1)]: Done  10 out of  10 | elapsed:    0.0s finished\n",
      "[Parallel(n_jobs=-1)]: Using backend LokyBackend with 8 concurrent workers.\n",
      "[Parallel(n_jobs=-1)]: Done   4 out of  10 | elapsed:    0.0s remaining:    0.0s\n",
      "[Parallel(n_jobs=-1)]: Done   7 out of  10 | elapsed:    0.0s remaining:    0.0s\n",
      "[Parallel(n_jobs=-1)]: Done  10 out of  10 | elapsed:    0.0s remaining:    0.0s\n",
      "[Parallel(n_jobs=-1)]: Done  10 out of  10 | elapsed:    0.0s finished\n",
      "[Parallel(n_jobs=-1)]: Using backend LokyBackend with 8 concurrent workers.\n"
     ]
    },
    {
     "name": "stdout",
     "output_type": "stream",
     "text": [
      "PC03 120000 estimates\n",
      "PC04 120000 estimates\n"
     ]
    },
    {
     "name": "stderr",
     "output_type": "stream",
     "text": [
      "[Parallel(n_jobs=-1)]: Done   4 out of  10 | elapsed:    0.0s remaining:    0.0s\n",
      "[Parallel(n_jobs=-1)]: Done   7 out of  10 | elapsed:    0.0s remaining:    0.0s\n",
      "[Parallel(n_jobs=-1)]: Done  10 out of  10 | elapsed:    0.1s remaining:    0.0s\n",
      "[Parallel(n_jobs=-1)]: Done  10 out of  10 | elapsed:    0.1s finished\n",
      "[Parallel(n_jobs=-1)]: Using backend LokyBackend with 8 concurrent workers.\n",
      "[Parallel(n_jobs=-1)]: Done   4 out of  10 | elapsed:    0.0s remaining:    0.0s\n",
      "[Parallel(n_jobs=-1)]: Done   7 out of  10 | elapsed:    0.0s remaining:    0.0s\n",
      "[Parallel(n_jobs=-1)]: Done  10 out of  10 | elapsed:    0.0s remaining:    0.0s\n",
      "[Parallel(n_jobs=-1)]: Done  10 out of  10 | elapsed:    0.0s finished\n",
      "[Parallel(n_jobs=-1)]: Using backend LokyBackend with 8 concurrent workers.\n"
     ]
    },
    {
     "name": "stdout",
     "output_type": "stream",
     "text": [
      "PC05 120000 estimates\n",
      "PC06 120000 estimates\n"
     ]
    },
    {
     "name": "stderr",
     "output_type": "stream",
     "text": [
      "[Parallel(n_jobs=-1)]: Done   4 out of  10 | elapsed:    0.0s remaining:    0.0s\n",
      "[Parallel(n_jobs=-1)]: Done   7 out of  10 | elapsed:    0.0s remaining:    0.0s\n",
      "[Parallel(n_jobs=-1)]: Done  10 out of  10 | elapsed:    0.0s remaining:    0.0s\n",
      "[Parallel(n_jobs=-1)]: Done  10 out of  10 | elapsed:    0.0s finished\n",
      "[Parallel(n_jobs=-1)]: Using backend LokyBackend with 8 concurrent workers.\n",
      "[Parallel(n_jobs=-1)]: Done   4 out of  10 | elapsed:    0.0s remaining:    0.0s\n",
      "[Parallel(n_jobs=-1)]: Done   7 out of  10 | elapsed:    0.0s remaining:    0.0s\n",
      "[Parallel(n_jobs=-1)]: Done  10 out of  10 | elapsed:    0.0s remaining:    0.0s\n",
      "[Parallel(n_jobs=-1)]: Done  10 out of  10 | elapsed:    0.0s finished\n",
      "[Parallel(n_jobs=-1)]: Using backend LokyBackend with 8 concurrent workers.\n"
     ]
    },
    {
     "name": "stdout",
     "output_type": "stream",
     "text": [
      "PC07 120000 estimates\n",
      "PC08 120000 estimates\n",
      "PC09 120000 estimates\n",
      "Wall time: 1.19 s\n"
     ]
    },
    {
     "name": "stderr",
     "output_type": "stream",
     "text": [
      "[Parallel(n_jobs=-1)]: Done   4 out of  10 | elapsed:    0.0s remaining:    0.0s\n",
      "[Parallel(n_jobs=-1)]: Done   7 out of  10 | elapsed:    0.0s remaining:    0.0s\n",
      "[Parallel(n_jobs=-1)]: Done  10 out of  10 | elapsed:    0.0s remaining:    0.0s\n",
      "[Parallel(n_jobs=-1)]: Done  10 out of  10 | elapsed:    0.0s finished\n",
      "[Parallel(n_jobs=-1)]: Using backend LokyBackend with 8 concurrent workers.\n",
      "[Parallel(n_jobs=-1)]: Done   4 out of  10 | elapsed:    0.0s remaining:    0.0s\n",
      "[Parallel(n_jobs=-1)]: Done   7 out of  10 | elapsed:    0.0s remaining:    0.0s\n",
      "[Parallel(n_jobs=-1)]: Done  10 out of  10 | elapsed:    0.0s remaining:    0.0s\n",
      "[Parallel(n_jobs=-1)]: Done  10 out of  10 | elapsed:    0.0s finished\n"
     ]
    }
   ],
   "source": [
    "%%time\n",
    "# You can again change the n_jobs to lower the #CPU cores used for parallel processing\n",
    "# Also set the cv_folds variable below\n",
    "cv_folds = 10\n",
    "\n",
    "kriging_predictions = {}\n",
    "\n",
    "for component in components_to_use:  # Changed to only first 9 PCs\n",
    "    for radius in search_radii:  # Removed critical_distance\n",
    "        for variable_to_fit in [\"estimates\"]:\n",
    "            \n",
    "            # Let's print out the combination to see where we are in the loops\n",
    "            print(component, radius, variable_to_fit)\n",
    "            \n",
    "            kriging_predictions[f\"{component}_{radius}_{variable_to_fit}\"] = \\\n",
    "                cross_val_predict(estimators_final[f\"{component}_{radius}_{variable_to_fit}\"], \n",
    "                                  X=np.stack((coordinates_utm[\"X\"],\n",
    "                                              coordinates_utm[\"Y\"]), axis=1),\n",
    "                                  y=mineralogy_pca_df[component],\n",
    "                                  cv=cv_folds,\n",
    "                                  n_jobs=-1,\n",
    "                                  verbose=5)"
   ]
  },
  {
   "cell_type": "code",
   "execution_count": 370,
   "metadata": {},
   "outputs": [],
   "source": [
    "preproc.save_obj(kriging_predictions, \"kriging_predictions\")"
   ]
  },
  {
   "cell_type": "markdown",
   "metadata": {},
   "source": [
    "## Calculate clr solutions\n",
    "____"
   ]
  },
  {
   "cell_type": "code",
   "execution_count": 371,
   "metadata": {},
   "outputs": [
    {
     "name": "stdout",
     "output_type": "stream",
     "text": [
      "120000\n"
     ]
    },
    {
     "data": {
      "text/html": [
       "<div>\n",
       "<style scoped>\n",
       "    .dataframe tbody tr th:only-of-type {\n",
       "        vertical-align: middle;\n",
       "    }\n",
       "\n",
       "    .dataframe tbody tr th {\n",
       "        vertical-align: top;\n",
       "    }\n",
       "\n",
       "    .dataframe thead th {\n",
       "        text-align: right;\n",
       "    }\n",
       "</style>\n",
       "<table border=\"1\" class=\"dataframe\">\n",
       "  <thead>\n",
       "    <tr style=\"text-align: right;\">\n",
       "      <th></th>\n",
       "      <th>PC01</th>\n",
       "      <th>PC02</th>\n",
       "      <th>PC03</th>\n",
       "      <th>PC04</th>\n",
       "      <th>PC05</th>\n",
       "      <th>PC06</th>\n",
       "      <th>PC07</th>\n",
       "      <th>PC08</th>\n",
       "      <th>PC09</th>\n",
       "    </tr>\n",
       "  </thead>\n",
       "  <tbody>\n",
       "    <tr>\n",
       "      <th>5</th>\n",
       "      <td>0.458533</td>\n",
       "      <td>0.490967</td>\n",
       "      <td>0.062325</td>\n",
       "      <td>-0.194683</td>\n",
       "      <td>0.156480</td>\n",
       "      <td>0.088318</td>\n",
       "      <td>-0.059459</td>\n",
       "      <td>0.211643</td>\n",
       "      <td>-0.054997</td>\n",
       "    </tr>\n",
       "    <tr>\n",
       "      <th>21</th>\n",
       "      <td>-0.548420</td>\n",
       "      <td>0.794936</td>\n",
       "      <td>0.780042</td>\n",
       "      <td>0.706687</td>\n",
       "      <td>-0.674207</td>\n",
       "      <td>-0.589162</td>\n",
       "      <td>0.325007</td>\n",
       "      <td>0.130654</td>\n",
       "      <td>0.051279</td>\n",
       "    </tr>\n",
       "    <tr>\n",
       "      <th>29</th>\n",
       "      <td>-0.315939</td>\n",
       "      <td>0.854282</td>\n",
       "      <td>1.310442</td>\n",
       "      <td>0.864233</td>\n",
       "      <td>-1.022589</td>\n",
       "      <td>-0.204125</td>\n",
       "      <td>0.174093</td>\n",
       "      <td>-0.270322</td>\n",
       "      <td>0.370231</td>\n",
       "    </tr>\n",
       "    <tr>\n",
       "      <th>53</th>\n",
       "      <td>0.373650</td>\n",
       "      <td>-0.484374</td>\n",
       "      <td>-0.009445</td>\n",
       "      <td>0.270729</td>\n",
       "      <td>0.040402</td>\n",
       "      <td>-0.141978</td>\n",
       "      <td>-0.318647</td>\n",
       "      <td>0.081239</td>\n",
       "      <td>0.053279</td>\n",
       "    </tr>\n",
       "    <tr>\n",
       "      <th>62</th>\n",
       "      <td>-0.338018</td>\n",
       "      <td>-0.367155</td>\n",
       "      <td>-0.230865</td>\n",
       "      <td>-0.343635</td>\n",
       "      <td>-0.154347</td>\n",
       "      <td>-0.078580</td>\n",
       "      <td>-0.308082</td>\n",
       "      <td>0.072363</td>\n",
       "      <td>-0.052411</td>\n",
       "    </tr>\n",
       "  </tbody>\n",
       "</table>\n",
       "</div>"
      ],
      "text/plain": [
       "        PC01      PC02      PC03      PC04      PC05      PC06      PC07  \\\n",
       "5   0.458533  0.490967  0.062325 -0.194683  0.156480  0.088318 -0.059459   \n",
       "21 -0.548420  0.794936  0.780042  0.706687 -0.674207 -0.589162  0.325007   \n",
       "29 -0.315939  0.854282  1.310442  0.864233 -1.022589 -0.204125  0.174093   \n",
       "53  0.373650 -0.484374 -0.009445  0.270729  0.040402 -0.141978 -0.318647   \n",
       "62 -0.338018 -0.367155 -0.230865 -0.343635 -0.154347 -0.078580 -0.308082   \n",
       "\n",
       "        PC08      PC09  \n",
       "5   0.211643 -0.054997  \n",
       "21  0.130654  0.051279  \n",
       "29 -0.270322  0.370231  \n",
       "53  0.081239  0.053279  \n",
       "62  0.072363 -0.052411  "
      ]
     },
     "execution_count": 371,
     "metadata": {},
     "output_type": "execute_result"
    }
   ],
   "source": [
    "kriging_estimates_df = {}\n",
    "\n",
    "for radius in search_radii:\n",
    "    temp = {}\n",
    "    \n",
    "    for component in components_to_use:\n",
    "        key = f\"{component}_{radius}_estimates\"\n",
    "        temp[key] = kriging_predictions[key]\n",
    "\n",
    "    kriging_estimates_df[f\"{radius}\"] = pd.DataFrame.from_dict(temp)\n",
    "    kriging_estimates_df[f\"{radius}\"].index = mineralogy_pca_df.index\n",
    "    kriging_estimates_df[f\"{radius}\"].columns = components_to_use\n",
    "    \n",
    "    print(f\"{radius}\")\n",
    "    kriging_estimates_df[f\"{radius}\"].head()"
   ]
  },
  {
   "cell_type": "raw",
   "metadata": {},
   "source": [
    "kriging_variances_df = {}\n",
    "\n",
    "\n",
    "for radius in search_radii:\n",
    "    temp = {}\n",
    "    \n",
    "    for component in components_to_use:\n",
    "        key = f\"{component}_{radius}_variances\"\n",
    "        temp[key] = kriging_predictions[key]\n",
    "        \n",
    "    kriging_variances_df[f\"{radius}\"] = pd.DataFrame.from_dict(temp)\n",
    "    kriging_variances_df[f\"{radius}\"].index = mineralogy_pca_df.index\n",
    "    kriging_variances_df[f\"{radius}\"].columns = components_to_use\n",
    "    \n",
    "    print(f\"{radius}\")\n",
    "    kriging_variances_df[f\"{radius}\"].head()"
   ]
  },
  {
   "cell_type": "raw",
   "metadata": {},
   "source": [
    "kriging_variances_mean_df = {}\n",
    "\n",
    "for radius in search_radii:\n",
    "    kriging_variances_mean_df[f\"{radius}\"] = \\\n",
    "        kriging_variances_df[f\"{radius}\"].mean(axis=0)\n",
    "\n",
    "    print(f\"{radius}\")\n",
    "    kriging_variances_mean_df[f\"{radius}\"]"
   ]
  },
  {
   "cell_type": "code",
   "execution_count": 372,
   "metadata": {},
   "outputs": [],
   "source": [
    "kriging_estimates_clr = {}\n",
    "\n",
    "for ncomp in range(1, len(components_to_use) + 1):\n",
    "    for radius in search_radii:\n",
    "\n",
    "        kriging_estimates_clr[f\"{ncomp}_{radius}\"] = \\\n",
    "            postproc.reverse_pca(mineralogy_pca, \n",
    "                                 kriging_estimates_df[f\"{radius}\"],\n",
    "                                 mineralogy_clr,\n",
    "                                 n_comp=ncomp)"
   ]
  },
  {
   "cell_type": "code",
   "execution_count": 373,
   "metadata": {},
   "outputs": [],
   "source": [
    "solutions_clr = {}\n",
    "\n",
    "for ncomp in range(1, len(components_to_use) + 1):\n",
    "    for radius in search_radii:\n",
    "\n",
    "        solutions_clr[f\"{ncomp}_{radius}\"] = \\\n",
    "            pd.DataFrame(kriging_estimates_clr[f\"{ncomp}_{radius}\"], \n",
    "                         index=mineralogy_clr.index, \n",
    "                         columns=mineralogy_clr.columns)"
   ]
  },
  {
   "cell_type": "code",
   "execution_count": 374,
   "metadata": {},
   "outputs": [],
   "source": [
    "residuals_clr = {}\n",
    "\n",
    "for ncomp in range(1, len(components_to_use) + 1):\n",
    "    for radius in search_radii:\n",
    "\n",
    "        residuals_clr[f\"{ncomp}_{radius}\"] = \\\n",
    "            mineralogy_clr.subtract(solutions_clr[f\"{ncomp}_{radius}\"])"
   ]
  },
  {
   "cell_type": "code",
   "execution_count": 375,
   "metadata": {},
   "outputs": [],
   "source": [
    "for ncomp in range(1, len(components_to_use) + 1):\n",
    "    for radius in search_radii:\n",
    "        temp = pd.merge(residuals_clr[f\"{ncomp}_{radius}\"], \n",
    "                        pd.DataFrame(nvalues_control_points[radius], \n",
    "                                     columns=[\"n_closest_points\"]), \n",
    "                        left_index=True, \n",
    "                        right_index=True)\\\n",
    "                 .sort_values(\"n_closest_points\")\n",
    "        \n",
    "        temp.to_excel(f\"../_RESULTS/Residuals/residuals_clr_{ncomp}_{radius}_{group_name}.xlsx\")"
   ]
  },
  {
   "cell_type": "code",
   "execution_count": 376,
   "metadata": {},
   "outputs": [],
   "source": [
    "preproc.save_obj(residuals_clr, \"residuals_clr\")"
   ]
  },
  {
   "cell_type": "code",
   "execution_count": 377,
   "metadata": {},
   "outputs": [],
   "source": [
    "preproc.save_obj(nvalues_control_points, \"nvalues_control_points\")"
   ]
  },
  {
   "cell_type": "markdown",
   "metadata": {},
   "source": [
    "## Model selection\n",
    "____"
   ]
  },
  {
   "cell_type": "code",
   "execution_count": 378,
   "metadata": {},
   "outputs": [
    {
     "data": {
      "text/plain": [
       "{'1_120000': 6.032319885138804,\n",
       " '2_120000': 5.911469804138336,\n",
       " '3_120000': 5.807892747486808,\n",
       " '4_120000': 5.69176688981334,\n",
       " '5_120000': 5.606584187100444,\n",
       " '6_120000': 5.582565396729682,\n",
       " '7_120000': 5.564613845110005,\n",
       " '8_120000': 5.556891163051717,\n",
       " '9_120000': 5.555116743832956}"
      ]
     },
     "execution_count": 378,
     "metadata": {},
     "output_type": "execute_result"
    },
    {
     "data": {
      "text/plain": [
       "5.555116743832956"
      ]
     },
     "execution_count": 378,
     "metadata": {},
     "output_type": "execute_result"
    },
    {
     "data": {
      "text/plain": [
       "'9_120000'"
      ]
     },
     "execution_count": 378,
     "metadata": {},
     "output_type": "execute_result"
    }
   ],
   "source": [
    "# Get MSPE_Q values and select best model based on it\n",
    "# Make sure the selected model passes the Hotelling's T² 2-sample test above, though\n",
    "MSPE_Q = {}\n",
    "best_MSPE_Q = 1000\n",
    "\n",
    "for ncomp in range(1, len(components_to_use) + 1):\n",
    "    for radius in search_radii:\n",
    "\n",
    "        # Calculate MSPE_Q from clr residuals\n",
    "        MSPE_Q_temp = np.mean(np.sum(residuals_clr[f\"{ncomp}_{radius}\"] ** 2, axis=1), axis=0)\n",
    "\n",
    "        if MSPE_Q_temp < best_MSPE_Q:\n",
    "            # Store best MSPE_Q en corresponding model\n",
    "            best_MSPE_Q = MSPE_Q_temp\n",
    "            selected_model = f\"{ncomp}_{radius}\"\n",
    "\n",
    "        MSPE_Q[f\"{ncomp}_{radius}\"] = MSPE_Q_temp\n",
    "                \n",
    "MSPE_Q\n",
    "best_MSPE_Q\n",
    "selected_model\n",
    "selected_model_PCs = selected_model.split(\"_\")[0]"
   ]
  },
  {
   "cell_type": "code",
   "execution_count": 379,
   "metadata": {},
   "outputs": [],
   "source": [
    "# Number of PCs to use for reverse calculations based on selected model\n",
    "n_comp = int(selected_model.split(\"_\")[0])\n",
    "# Whcih PCs to use moving forward\n",
    "selected_components_to_use = [f\"PC{i:02d}\" for i in range(1, n_comp + 1)]"
   ]
  },
  {
   "cell_type": "code",
   "execution_count": 380,
   "metadata": {},
   "outputs": [
    {
     "data": {
      "text/plain": [
       "['PC01', 'PC02', 'PC03', 'PC04', 'PC05', 'PC06', 'PC07', 'PC08', 'PC09']"
      ]
     },
     "execution_count": 380,
     "metadata": {},
     "output_type": "execute_result"
    }
   ],
   "source": [
    "selected_components_to_use"
   ]
  },
  {
   "cell_type": "markdown",
   "metadata": {},
   "source": [
    "## Contour plots\n",
    "____"
   ]
  },
  {
   "cell_type": "code",
   "execution_count": 381,
   "metadata": {},
   "outputs": [
    {
     "name": "stdout",
     "output_type": "stream",
     "text": [
      "(466, 2)\n",
      "(100534, 2)\n",
      "301 334\n"
     ]
    },
    {
     "data": {
      "text/plain": [
       "(334, 301)"
      ]
     },
     "execution_count": 381,
     "metadata": {},
     "output_type": "execute_result"
    }
   ],
   "source": [
    "nvalues_critical_distance = \\\n",
    "    variograms[\"PC01\"].determine_mask_array(grid[0], \n",
    "                                            grid[1], \n",
    "                                            search_radius=critical_distance)\n",
    "mask_critical_distance = nvalues_critical_distance < 3\n",
    "mask_critical_distance.shape"
   ]
  },
  {
   "cell_type": "code",
   "execution_count": 382,
   "metadata": {},
   "outputs": [
    {
     "data": {
      "text/plain": [
       "56879"
      ]
     },
     "execution_count": 382,
     "metadata": {},
     "output_type": "execute_result"
    }
   ],
   "source": [
    "mask_critical_distance[mask_critical_distance == 1].sum()"
   ]
  },
  {
   "cell_type": "code",
   "execution_count": 383,
   "metadata": {},
   "outputs": [],
   "source": [
    "non_masked_grid_nodes = \\\n",
    "    grid[0].shape[0] * grid[1].shape[0] \\\n",
    "    - mask_critical_distance[mask_critical_distance == 1].sum()"
   ]
  },
  {
   "cell_type": "code",
   "execution_count": 384,
   "metadata": {},
   "outputs": [],
   "source": [
    "grid_cell_spacing = grid[0][1] - grid[0][0]\n",
    "grid_cell_area = grid_cell_spacing ** 2"
   ]
  },
  {
   "cell_type": "code",
   "execution_count": 385,
   "metadata": {},
   "outputs": [],
   "source": [
    "# Pluton area in m²\n",
    "pluton_area_m2 = non_masked_grid_nodes * grid_cell_area\n",
    "\n",
    "# Pluton area in km²\n",
    "pluton_area_km2 = pluton_area_m2 / 1_000_000"
   ]
  },
  {
   "cell_type": "code",
   "execution_count": 386,
   "metadata": {},
   "outputs": [
    {
     "data": {
      "text/plain": [
       "530055.2736817258"
      ]
     },
     "execution_count": 386,
     "metadata": {},
     "output_type": "execute_result"
    }
   ],
   "source": [
    "pluton_area_km2"
   ]
  },
  {
   "cell_type": "markdown",
   "metadata": {},
   "source": [
    "____"
   ]
  },
  {
   "cell_type": "code",
   "execution_count": 387,
   "metadata": {},
   "outputs": [],
   "source": [
    "interpolated_dict = preproc.load_obj(\"interpolated_dict\")"
   ]
  },
  {
   "cell_type": "code",
   "execution_count": 388,
   "metadata": {},
   "outputs": [],
   "source": [
    "# Since my desktop (with 32GB of RAM) ran out of memory,\n",
    "# I've reduced the grid spacing so that there are fewer grid points \n",
    "# to perform the interpolation for\n",
    "\n",
    "# You could also reduce the number of active CPU cores by decreasing 'n_jobs'\n",
    "# which would reduce memory consumption\n",
    "# so that you could still get a more detailed interpolation grid.\n",
    "# The interpolation will take a bit longer than since \n",
    "# not the maximum number of 'workers' can be used in that case."
   ]
  },
  {
   "cell_type": "code",
   "execution_count": 389,
   "metadata": {},
   "outputs": [
    {
     "name": "stdout",
     "output_type": "stream",
     "text": [
      "Wall time: 40.4 s\n",
      "Wall time: 40.4 s\n"
     ]
    }
   ],
   "source": [
    "%%time\n",
    "%%time\n",
    "interpolated_parallel = Parallel(n_jobs=-6)(delayed(\n",
    "    variograms[component].execute)('masked', \n",
    "                     grid[0], \n",
    "                     grid[1],\n",
    "                     mask_critical_distance,\n",
    "                     n_closest_points=number_of_control_points, \n",
    "                     search_radius=range_[0], \n",
    "                     backend='loop') for component in components_to_use)"
   ]
  },
  {
   "cell_type": "code",
   "execution_count": 390,
   "metadata": {},
   "outputs": [],
   "source": [
    "interpolated_dict = {}\n",
    "for i, item in enumerate(interpolated_parallel, start=1):\n",
    "    interpolated_dict[f\"PC0{i}\"] = item"
   ]
  },
  {
   "cell_type": "code",
   "execution_count": 391,
   "metadata": {},
   "outputs": [],
   "source": [
    "preproc.save_obj(interpolated_dict, \"interpolated_dict\")"
   ]
  },
  {
   "cell_type": "code",
   "execution_count": 392,
   "metadata": {},
   "outputs": [
    {
     "name": "stdout",
     "output_type": "stream",
     "text": [
      "1\n",
      "2\n",
      "3\n",
      "4\n",
      "5\n",
      "6\n",
      "7\n",
      "8\n",
      "9\n",
      "(9, 334, 301)\n"
     ]
    },
    {
     "name": "stderr",
     "output_type": "stream",
     "text": [
      "C:\\Users\\Sebastian\\Anaconda3\\envs\\main\\lib\\site-packages\\IPython\\core\\interactiveshell.py:3331: FutureWarning: arrays to stack must be passed as a \"sequence\" type such as list or tuple. Support for non-sequence iterables such as generators is deprecated as of NumPy 1.16 and will raise an error in the future.\n",
      "  exec(code_obj, self.user_global_ns, self.user_ns)\n"
     ]
    }
   ],
   "source": [
    "interpolated_array = postproc.convert_grid_to_array_of_scores(interpolated_dict)\n",
    "\n",
    "interpolated_reverse_pca = postproc.reverse_pca(mineralogy_pca, \n",
    "                                                interpolated_array, \n",
    "                                                mineralogy_clr, \n",
    "                                                n_comp=n_comp)\n",
    "\n",
    "interpolated_reverse_clr = postproc.reverse_clr(interpolated_reverse_pca, \n",
    "                                                mineralogy_clr)\n",
    "\n",
    "# You will get a FutureWarning here, that's fine"
   ]
  },
  {
   "cell_type": "code",
   "execution_count": 393,
   "metadata": {},
   "outputs": [
    {
     "data": {
      "text/plain": [
       "1.53187157506313"
      ]
     },
     "execution_count": 393,
     "metadata": {},
     "output_type": "execute_result"
    }
   ],
   "source": [
    "# Get kriging surface variance for error_budget\n",
    "var_OK = np.array(pd.DataFrame(interpolated_array).var(axis=0, ddof=1))\n",
    "var_OK.sum()"
   ]
  },
  {
   "cell_type": "code",
   "execution_count": 394,
   "metadata": {},
   "outputs": [],
   "source": [
    "# Check if the number of points based on the specified grid is equal to\n",
    "# the sum of the number of masked points and the number of interpolated points\n",
    "assert grid[0].shape[0] * grid[1].shape[0] == np.sum(np.isclose(interpolated_reverse_clr.sum(axis=1), 0.0)) + \\\n",
    "                                              np.sum(np.isclose(interpolated_reverse_clr.sum(axis=1), 100.0))"
   ]
  },
  {
   "cell_type": "code",
   "execution_count": 395,
   "metadata": {},
   "outputs": [],
   "source": [
    "interpolated_modal = {}\n",
    "for mineral in interpolated_reverse_clr.columns.tolist():\n",
    "    interpolated_modal[mineral] = np.reshape(interpolated_reverse_clr.loc[:, mineral].values, \n",
    "                                             (grid[1].shape[0], grid[0].shape[0]))"
   ]
  },
  {
   "cell_type": "code",
   "execution_count": 396,
   "metadata": {},
   "outputs": [
    {
     "name": "stdout",
     "output_type": "stream",
     "text": [
      "(334, 301)\n",
      "SiO2\n",
      "(334, 301)\n",
      "TiO2\n",
      "(334, 301)\n",
      "Al2O3\n",
      "(334, 301)\n",
      "Fe2O3\n",
      "(334, 301)\n",
      "FeO\n",
      "(334, 301)\n",
      "MnO\n",
      "(334, 301)\n",
      "MgO\n",
      "(334, 301)\n",
      "CaO\n",
      "(334, 301)\n",
      "Na2O\n",
      "(334, 301)\n",
      "K2O\n",
      "(334, 301)\n",
      "P2O5\n",
      "(334, 301)\n",
      "l.i.\n",
      "(334, 301)\n",
      "oth\n"
     ]
    }
   ],
   "source": [
    "# If you get an error related to an non-esixting save location\n",
    "# Please first create a folder on your pc with the same name that \n",
    "# you used for the variable 'group_name'\n",
    "\n",
    "for mineral, interpolation in interpolated_modal.items(): \n",
    "    for variable in [\"estimates\"]:\n",
    "        print(interpolation.shape)\n",
    "        plots.plot_contour_map(interpolation,\n",
    "                               grid,\n",
    "                               coordinates_utm,\n",
    "                               group_name,\n",
    "                               variable=variable,\n",
    "                               title=f\"{mineral} radius={range_[0]}m {variable} masked {critical_distance}m\",\n",
    "                               show_plot=False,\n",
    "                               single_mineral=True,\n",
    "                               mineral=mineral,                               \n",
    "                               label_pos = (0.03, 0.94),\n",
    "                               skip_xaxis_label=2,\n",
    "                               skip_yaxis_label=2,\n",
    "                               skip_xaxis_start=1,\n",
    "                               skip_yaxis_start=1,\n",
    "                               marker_symbol='.',\n",
    "                               marker_size=0.1,\n",
    "                               marker_color='r',)\n",
    "        \n",
    "# Added some options to function so that yu can easily change the appearance \n",
    "# of the markers used to show the position of the control points"
   ]
  },
  {
   "cell_type": "code",
   "execution_count": 397,
   "metadata": {},
   "outputs": [
    {
     "data": {
      "image/png": "[encoded data removed]",
      "text/plain": [
       "<Figure size 864x648 with 28 Axes>"
      ]
     },
     "metadata": {},
     "output_type": "display_data"
    }
   ],
   "source": [
    "# Specify how many rows and columns you want to use in the following figure\n",
    "# This will ofcourse depend an the number of variables you would like to plot\n",
    "# You can also set the figure size\n",
    "n_cols = 3\n",
    "n_rows = 5\n",
    "\n",
    "# Figure with single mineral maps as subplots\n",
    "plots.plot_contour_map_all(interpolated_modal,\n",
    "                           grid,\n",
    "                           coordinates_utm,\n",
    "                           group_name,\n",
    "                           title=f\"radius={range_[0]}m masked {critical_distance}m\",\n",
    "                           show_plot=True,\n",
    "                           label_pos = (0.03, 0.94),\n",
    "                           skip_xaxis_label=2,\n",
    "                           skip_yaxis_label=2,\n",
    "                           skip_xaxis_start=1,\n",
    "                           skip_yaxis_start=1,\n",
    "                           marker_size=0.1,\n",
    "                           marker_color='r',\n",
    "                           marker_symbol='.',\n",
    "                           figsize=(12, 9),\n",
    "                           ncols=n_cols,\n",
    "                           nrows=n_rows,\n",
    "                           sharex=True,\n",
    "                           sharey=True)"
   ]
  },
  {
   "cell_type": "markdown",
   "metadata": {},
   "source": [
    "## Biplots\n",
    "____"
   ]
  },
  {
   "cell_type": "markdown",
   "metadata": {},
   "source": [
    "Not relevant for now"
   ]
  },
  {
   "cell_type": "markdown",
   "metadata": {},
   "source": [
    "## Simulations\n",
    "____"
   ]
  },
  {
   "cell_type": "markdown",
   "metadata": {},
   "source": [
    "Not relevant for now"
   ]
  },
  {
   "cell_type": "markdown",
   "metadata": {},
   "source": [
    "## Error budget\n",
    "____"
   ]
  },
  {
   "cell_type": "code",
   "execution_count": 398,
   "metadata": {},
   "outputs": [],
   "source": [
    "# A = Variance of kriging surface\n",
    "# B = mean squared prediction error (MSPE)\n",
    "# C = Sum of nugget\n",
    "# D = Total variance based on simulation (not yet available)\n",
    "# E = Variance of original data set\n",
    "\n",
    "error_budget = {}\n",
    "\n",
    "for radius in search_radii:\n",
    "    for ncomp in range(1, len(components_to_use) + 1):\n",
    "        A = var_OK[:ncomp].sum()\n",
    "        B = np.mean(np.sum(residuals_clr[f\"{ncomp}_{radius}\"] ** 2, axis=1), axis=0) # MSPE\n",
    "        C = np.array(nugget_)[:ncomp].sum()\n",
    "        D = np.nan\n",
    "        E = mineralogy_clr.var(axis=0).sum()\n",
    "        \n",
    "\n",
    "        error_budget[f\"{ncomp}_{radius}\"] = [A, B, C, D, E]"
   ]
  },
  {
   "cell_type": "code",
   "execution_count": 399,
   "metadata": {},
   "outputs": [
    {
     "data": {
      "text/html": [
       "<div>\n",
       "<style scoped>\n",
       "    .dataframe tbody tr th:only-of-type {\n",
       "        vertical-align: middle;\n",
       "    }\n",
       "\n",
       "    .dataframe tbody tr th {\n",
       "        vertical-align: top;\n",
       "    }\n",
       "\n",
       "    .dataframe thead th {\n",
       "        text-align: right;\n",
       "    }\n",
       "</style>\n",
       "<table border=\"1\" class=\"dataframe\">\n",
       "  <thead>\n",
       "    <tr style=\"text-align: right;\">\n",
       "      <th></th>\n",
       "      <th>search_radius</th>\n",
       "      <th>#PCs</th>\n",
       "      <th>VAR(OK)</th>\n",
       "      <th>MSPE</th>\n",
       "      <th>S_nugget</th>\n",
       "      <th>VAR(TOTAL)</th>\n",
       "      <th>VAR(DATA)</th>\n",
       "    </tr>\n",
       "  </thead>\n",
       "  <tbody>\n",
       "    <tr>\n",
       "      <th>0</th>\n",
       "      <td>120000</td>\n",
       "      <td>1</td>\n",
       "      <td>0.649926</td>\n",
       "      <td>6.032320</td>\n",
       "      <td>0.89210</td>\n",
       "      <td>NaN</td>\n",
       "      <td>6.657482</td>\n",
       "    </tr>\n",
       "    <tr>\n",
       "      <th>1</th>\n",
       "      <td>120000</td>\n",
       "      <td>2</td>\n",
       "      <td>0.907452</td>\n",
       "      <td>5.911470</td>\n",
       "      <td>1.81690</td>\n",
       "      <td>NaN</td>\n",
       "      <td>6.657482</td>\n",
       "    </tr>\n",
       "    <tr>\n",
       "      <th>2</th>\n",
       "      <td>120000</td>\n",
       "      <td>3</td>\n",
       "      <td>1.127206</td>\n",
       "      <td>5.807893</td>\n",
       "      <td>2.22820</td>\n",
       "      <td>NaN</td>\n",
       "      <td>6.657482</td>\n",
       "    </tr>\n",
       "    <tr>\n",
       "      <th>3</th>\n",
       "      <td>120000</td>\n",
       "      <td>4</td>\n",
       "      <td>1.267179</td>\n",
       "      <td>5.691767</td>\n",
       "      <td>2.65970</td>\n",
       "      <td>NaN</td>\n",
       "      <td>6.657482</td>\n",
       "    </tr>\n",
       "    <tr>\n",
       "      <th>4</th>\n",
       "      <td>120000</td>\n",
       "      <td>5</td>\n",
       "      <td>1.375422</td>\n",
       "      <td>5.606584</td>\n",
       "      <td>2.96320</td>\n",
       "      <td>NaN</td>\n",
       "      <td>6.657482</td>\n",
       "    </tr>\n",
       "    <tr>\n",
       "      <th>5</th>\n",
       "      <td>120000</td>\n",
       "      <td>6</td>\n",
       "      <td>1.447466</td>\n",
       "      <td>5.582565</td>\n",
       "      <td>3.22330</td>\n",
       "      <td>NaN</td>\n",
       "      <td>6.657482</td>\n",
       "    </tr>\n",
       "    <tr>\n",
       "      <th>6</th>\n",
       "      <td>120000</td>\n",
       "      <td>7</td>\n",
       "      <td>1.483948</td>\n",
       "      <td>5.564614</td>\n",
       "      <td>3.43060</td>\n",
       "      <td>NaN</td>\n",
       "      <td>6.657482</td>\n",
       "    </tr>\n",
       "    <tr>\n",
       "      <th>7</th>\n",
       "      <td>120000</td>\n",
       "      <td>8</td>\n",
       "      <td>1.506771</td>\n",
       "      <td>5.556891</td>\n",
       "      <td>3.52750</td>\n",
       "      <td>NaN</td>\n",
       "      <td>6.657482</td>\n",
       "    </tr>\n",
       "    <tr>\n",
       "      <th>8</th>\n",
       "      <td>120000</td>\n",
       "      <td>9</td>\n",
       "      <td>1.531872</td>\n",
       "      <td>5.555117</td>\n",
       "      <td>3.60112</td>\n",
       "      <td>NaN</td>\n",
       "      <td>6.657482</td>\n",
       "    </tr>\n",
       "  </tbody>\n",
       "</table>\n",
       "</div>"
      ],
      "text/plain": [
       "   search_radius  #PCs   VAR(OK)      MSPE  S_nugget  VAR(TOTAL)  VAR(DATA)\n",
       "0         120000     1  0.649926  6.032320   0.89210         NaN   6.657482\n",
       "1         120000     2  0.907452  5.911470   1.81690         NaN   6.657482\n",
       "2         120000     3  1.127206  5.807893   2.22820         NaN   6.657482\n",
       "3         120000     4  1.267179  5.691767   2.65970         NaN   6.657482\n",
       "4         120000     5  1.375422  5.606584   2.96320         NaN   6.657482\n",
       "5         120000     6  1.447466  5.582565   3.22330         NaN   6.657482\n",
       "6         120000     7  1.483948  5.564614   3.43060         NaN   6.657482\n",
       "7         120000     8  1.506771  5.556891   3.52750         NaN   6.657482\n",
       "8         120000     9  1.531872  5.555117   3.60112         NaN   6.657482"
      ]
     },
     "execution_count": 399,
     "metadata": {},
     "output_type": "execute_result"
    }
   ],
   "source": [
    "error_budget_df = \\\n",
    "    ttest.convert_summary_test_results_to_df(error_budget, \n",
    "                                             variable_names=[\"VAR(OK)\",\n",
    "                                                             \"MSPE\", \n",
    "                                                             \"S_nugget\", # Sum of nuggets\n",
    "                                                             \"VAR(TOTAL)\",\n",
    "                                                             \"VAR(DATA)\"], \n",
    "                                             order=[\"search_radius\", \n",
    "                                                    \"#PCs\"])\n",
    "error_budget_df"
   ]
  },
  {
   "cell_type": "code",
   "execution_count": 400,
   "metadata": {},
   "outputs": [],
   "source": [
    "error_budget_df.to_excel(f\"../_RESULTS/Error_budget/error_budget_{group_name}.xlsx\")"
   ]
  }
 ],
 "metadata": {
  "kernelspec": {
   "display_name": "Python 3",
   "language": "python",
   "name": "python3"
  },
  "language_info": {
   "codemirror_mode": {
    "name": "ipython",
    "version": 3
   },
   "file_extension": ".py",
   "mimetype": "text/x-python",
   "name": "python",
   "nbconvert_exporter": "python",
   "pygments_lexer": "ipython3",
   "version": "3.7.3"
  }
 },
 "nbformat": 4,
 "nbformat_minor": 4
}
