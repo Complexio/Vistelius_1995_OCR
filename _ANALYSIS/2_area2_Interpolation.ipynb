{
 "cells": [
  {
   "cell_type": "markdown",
   "metadata": {},
   "source": [
    "# Interpolation\n",
    "___"
   ]
  },
  {
   "cell_type": "markdown",
   "metadata": {},
   "source": [
    "**Remarks**\n",
    "- Code will need to be modified a bit to reflect the use of a certain group of data instead of all data"
   ]
  },
  {
   "cell_type": "code",
   "execution_count": 1,
   "metadata": {},
   "outputs": [],
   "source": [
    "import numpy as np\n",
    "import pandas as pd\n",
    "import os\n",
    "import pickle\n",
    "\n",
    "import matplotlib.pyplot as plt\n",
    "import seaborn as sns\n",
    "\n",
    "from collections import Counter\n",
    "from itertools import combinations\n",
    "\n",
    "# from scipy.spatial.distance import pdist\n",
    "# from scipy.stats import chisquare, chi2\n",
    "from scipy.stats import ttest_1samp, t\n",
    "\n",
    "from pykrige.ok import OrdinaryKriging\n",
    "from pykrige.rk import Krige\n",
    "import pykrige.kriging_tools as kt\n",
    "\n",
    "from sklearn.model_selection import cross_val_predict\n",
    "\n",
    "from joblib import Parallel, delayed\n",
    "import multiprocessing"
   ]
  },
  {
   "cell_type": "code",
   "execution_count": 2,
   "metadata": {},
   "outputs": [],
   "source": [
    "import prepostprocessing.pre_processing as preproc\n",
    "import prepostprocessing.post_processing as postproc\n",
    "import nugget_estimation.kriging_tools as krigingtools\n",
    "import nugget_estimation.detrending as detrending\n",
    "import plots.plots as plots\n",
    "import prepostprocessing.cleaning as cleaning\n",
    "import cross_validation.leave_one_out_cross_validation as loocv\n",
    "\n",
    "import qapf.qapf as qapf\n",
    "import statistics.ttest as ttest\n",
    "import statistics.simulations as sim\n",
    "\n",
    "import toolbox.toolbox as tb"
   ]
  },
  {
   "cell_type": "code",
   "execution_count": 3,
   "metadata": {},
   "outputs": [],
   "source": [
    "# Load jupyter extension to reload packages before executing user code.\n",
    "# https://ipython.readtheMLcs.io/en/stable/config/extensions/autoreload.html\n",
    "%load_ext autoreload\n",
    "# Reload all packages (except those excluded by %aimport) every time before executing the Python code typed.\n",
    "%autoreload 2"
   ]
  },
  {
   "cell_type": "markdown",
   "metadata": {},
   "source": [
    "**Remark below**"
   ]
  },
  {
   "cell_type": "raw",
   "metadata": {},
   "source": [
    "# You only need to run this cell once if you want to have multiple outputs in all your notebooks.\n",
    "# It is a general setting so you can set this cell's status to 'raw'\n",
    "from IPython.core.interactiveshell import InteractiveShell\n",
    "InteractiveShell.ast_node_interactivity = \"all\""
   ]
  },
  {
   "cell_type": "code",
   "execution_count": 5,
   "metadata": {},
   "outputs": [],
   "source": [
    "coordinates_latlon = preproc.load_obj(\"coordinates_area2\")\n",
    "coordinates_utm = preproc.load_obj(\"coordinates_utm_area2\")\n",
    "mineralogy = preproc.load_obj(\"mineralogy_area2\")\n",
    "mineralogy_clr = preproc.load_obj(\"mineralogy_clr_area2\")\n",
    "mineralogy_pca = preproc.load_obj(\"mineralogy_pca_area2\")\n",
    "mineralogy_pca_df = preproc.load_obj(\"mineralogy_pca_area2_df\")\n",
    "metadata = preproc.load_obj(\"metadata_area2\")"
   ]
  },
  {
   "cell_type": "markdown",
   "metadata": {},
   "source": [
    "## EDA\n",
    "___"
   ]
  },
  {
   "cell_type": "code",
   "execution_count": 6,
   "metadata": {},
   "outputs": [
    {
     "data": {
      "text/plain": [
       "1135"
      ]
     },
     "execution_count": 6,
     "metadata": {},
     "output_type": "execute_result"
    }
   ],
   "source": [
    "# Get number of control points that will be used\n",
    "number_of_control_points = coordinates_utm.shape[0]\n",
    "number_of_control_points"
   ]
  },
  {
   "cell_type": "code",
   "execution_count": 7,
   "metadata": {},
   "outputs": [
    {
     "data": {
      "text/html": [
       "<div>\n",
       "<style scoped>\n",
       "    .dataframe tbody tr th:only-of-type {\n",
       "        vertical-align: middle;\n",
       "    }\n",
       "\n",
       "    .dataframe tbody tr th {\n",
       "        vertical-align: top;\n",
       "    }\n",
       "\n",
       "    .dataframe thead th {\n",
       "        text-align: right;\n",
       "    }\n",
       "</style>\n",
       "<table border=\"1\" class=\"dataframe\">\n",
       "  <thead>\n",
       "    <tr style=\"text-align: right;\">\n",
       "      <th></th>\n",
       "      <th>Y_UTM</th>\n",
       "      <th>X_UTM</th>\n",
       "      <th>ZoneNumber</th>\n",
       "      <th>ZoneLetter</th>\n",
       "    </tr>\n",
       "  </thead>\n",
       "  <tbody>\n",
       "    <tr>\n",
       "      <th>1</th>\n",
       "      <td>1.741734e+06</td>\n",
       "      <td>5.050430e+06</td>\n",
       "      <td>51</td>\n",
       "      <td>T</td>\n",
       "    </tr>\n",
       "    <tr>\n",
       "      <th>7</th>\n",
       "      <td>1.512087e+06</td>\n",
       "      <td>5.349094e+06</td>\n",
       "      <td>51</td>\n",
       "      <td>T</td>\n",
       "    </tr>\n",
       "    <tr>\n",
       "      <th>8</th>\n",
       "      <td>1.572885e+06</td>\n",
       "      <td>5.444282e+06</td>\n",
       "      <td>51</td>\n",
       "      <td>T</td>\n",
       "    </tr>\n",
       "    <tr>\n",
       "      <th>13</th>\n",
       "      <td>1.491872e+06</td>\n",
       "      <td>5.196212e+06</td>\n",
       "      <td>51</td>\n",
       "      <td>T</td>\n",
       "    </tr>\n",
       "    <tr>\n",
       "      <th>16</th>\n",
       "      <td>1.325879e+06</td>\n",
       "      <td>5.890603e+06</td>\n",
       "      <td>51</td>\n",
       "      <td>T</td>\n",
       "    </tr>\n",
       "    <tr>\n",
       "      <th>...</th>\n",
       "      <td>...</td>\n",
       "      <td>...</td>\n",
       "      <td>...</td>\n",
       "      <td>...</td>\n",
       "    </tr>\n",
       "    <tr>\n",
       "      <th>4649</th>\n",
       "      <td>1.300271e+06</td>\n",
       "      <td>5.725428e+06</td>\n",
       "      <td>51</td>\n",
       "      <td>T</td>\n",
       "    </tr>\n",
       "    <tr>\n",
       "      <th>4650</th>\n",
       "      <td>1.701895e+06</td>\n",
       "      <td>6.003739e+06</td>\n",
       "      <td>51</td>\n",
       "      <td>T</td>\n",
       "    </tr>\n",
       "    <tr>\n",
       "      <th>4654</th>\n",
       "      <td>1.540846e+06</td>\n",
       "      <td>5.237310e+06</td>\n",
       "      <td>51</td>\n",
       "      <td>T</td>\n",
       "    </tr>\n",
       "    <tr>\n",
       "      <th>4656</th>\n",
       "      <td>1.571099e+06</td>\n",
       "      <td>5.295810e+06</td>\n",
       "      <td>51</td>\n",
       "      <td>T</td>\n",
       "    </tr>\n",
       "    <tr>\n",
       "      <th>4657</th>\n",
       "      <td>1.388693e+06</td>\n",
       "      <td>6.552095e+06</td>\n",
       "      <td>51</td>\n",
       "      <td>T</td>\n",
       "    </tr>\n",
       "  </tbody>\n",
       "</table>\n",
       "<p>1135 rows × 4 columns</p>\n",
       "</div>"
      ],
      "text/plain": [
       "             Y_UTM         X_UTM  ZoneNumber ZoneLetter\n",
       "1     1.741734e+06  5.050430e+06          51          T\n",
       "7     1.512087e+06  5.349094e+06          51          T\n",
       "8     1.572885e+06  5.444282e+06          51          T\n",
       "13    1.491872e+06  5.196212e+06          51          T\n",
       "16    1.325879e+06  5.890603e+06          51          T\n",
       "...            ...           ...         ...        ...\n",
       "4649  1.300271e+06  5.725428e+06          51          T\n",
       "4650  1.701895e+06  6.003739e+06          51          T\n",
       "4654  1.540846e+06  5.237310e+06          51          T\n",
       "4656  1.571099e+06  5.295810e+06          51          T\n",
       "4657  1.388693e+06  6.552095e+06          51          T\n",
       "\n",
       "[1135 rows x 4 columns]"
      ]
     },
     "execution_count": 7,
     "metadata": {},
     "output_type": "execute_result"
    }
   ],
   "source": [
    "coordinates_utm"
   ]
  },
  {
   "cell_type": "code",
   "execution_count": 8,
   "metadata": {},
   "outputs": [],
   "source": [
    "coordinates_utm = coordinates_utm.rename({\"X_UTM\": \"Y\", \"Y_UTM\": \"X\"}, axis=1)"
   ]
  },
  {
   "cell_type": "code",
   "execution_count": 10,
   "metadata": {},
   "outputs": [],
   "source": [
    "# FILL IN SHORT NAME HERE THAT WILL BE USED WHEN SAVING THE PLOT (e.g. \"G1\")\n",
    "group_name = \"area2\""
   ]
  },
  {
   "cell_type": "code",
   "execution_count": 11,
   "metadata": {},
   "outputs": [
    {
     "data": {
      "image/png": "[encoded data removed]",
      "text/plain": [
       "<Figure size 432x288 with 1 Axes>"
      ]
     },
     "metadata": {},
     "output_type": "display_data"
    }
   ],
   "source": [
    "# Plot control points with labels\n",
    "plots.plot_map_with_control_points(coordinates_utm, group_name, label_size=4, subset=[\"X\", \"Y\"],\n",
    "                                   show_labels=False,\n",
    "                                  skip_xaxis_label=2, skip_yaxis_label=2, \n",
    "                                  skip_xaxis_start=1, skip_yaxis_start=1)"
   ]
  },
  {
   "cell_type": "code",
   "execution_count": 12,
   "metadata": {},
   "outputs": [
    {
     "data": {
      "text/plain": [
       "array(['T'], dtype=object)"
      ]
     },
     "execution_count": 12,
     "metadata": {},
     "output_type": "execute_result"
    }
   ],
   "source": [
    "# Show unique zone letters and zone numbers of utm coordinates\n",
    "coordinates_utm[\"ZoneNumber\"].unique()\n",
    "coordinates_utm[\"ZoneLetter\"].unique()"
   ]
  },
  {
   "cell_type": "code",
   "execution_count": 13,
   "metadata": {},
   "outputs": [
    {
     "data": {
      "text/plain": [
       "(0.037075087274676406, 1796663.0027041154)"
      ]
     },
     "execution_count": 13,
     "metadata": {},
     "output_type": "execute_result"
    }
   ],
   "source": [
    "# Calculate minimum and maxmin lag distance between two points of the dataset\n",
    "distance_matrix = krigingtools.calculate_and_sort_square_distance_matrix(coordinates_utm[[\"X\", \"Y\"]])\n",
    "\n",
    "min_lag_distance = np.amin(distance_matrix)\n",
    "max_lag_distance = np.amax(distance_matrix)\n",
    "min_lag_distance, max_lag_distance"
   ]
  },
  {
   "cell_type": "code",
   "execution_count": 14,
   "metadata": {},
   "outputs": [
    {
     "data": {
      "text/plain": [
       "(array([4.0996e+04, 5.6566e+04, 8.3782e+04, 7.5958e+04, 7.9892e+04,\n",
       "        7.1898e+04, 6.4750e+04, 6.1564e+04, 6.5490e+04, 5.8166e+04,\n",
       "        5.3556e+04, 4.6540e+04, 3.9842e+04, 3.7808e+04, 3.7848e+04,\n",
       "        3.3522e+04, 3.0814e+04, 3.1132e+04, 2.8774e+04, 2.5738e+04,\n",
       "        2.5418e+04, 2.2778e+04, 2.0976e+04, 2.2584e+04, 2.1874e+04,\n",
       "        2.0736e+04, 1.7430e+04, 1.9650e+04, 1.4284e+04, 1.6654e+04,\n",
       "        1.5092e+04, 1.2196e+04, 1.0138e+04, 7.2460e+03, 7.1860e+03,\n",
       "        3.6880e+03, 3.0720e+03, 9.4600e+02, 4.7000e+02, 3.6000e+01]),\n",
       " array([3.70750873e-02, 4.49166112e+04, 8.98331854e+04, 1.34749759e+05,\n",
       "        1.79666334e+05, 2.24582908e+05, 2.69499482e+05, 3.14416056e+05,\n",
       "        3.59332630e+05, 4.04249204e+05, 4.49165778e+05, 4.94082353e+05,\n",
       "        5.38998927e+05, 5.83915501e+05, 6.28832075e+05, 6.73748649e+05,\n",
       "        7.18665223e+05, 7.63581797e+05, 8.08498372e+05, 8.53414946e+05,\n",
       "        8.98331520e+05, 9.43248094e+05, 9.88164668e+05, 1.03308124e+06,\n",
       "        1.07799782e+06, 1.12291439e+06, 1.16783096e+06, 1.21274754e+06,\n",
       "        1.25766411e+06, 1.30258069e+06, 1.34749726e+06, 1.39241384e+06,\n",
       "        1.43733041e+06, 1.48224698e+06, 1.52716356e+06, 1.57208013e+06,\n",
       "        1.61699671e+06, 1.66191328e+06, 1.70682985e+06, 1.75174643e+06,\n",
       "        1.79666300e+06]),\n",
       " <a list of 40 Patch objects>)"
      ]
     },
     "execution_count": 14,
     "metadata": {},
     "output_type": "execute_result"
    },
    {
     "data": {
      "image/png": "[encoded data removed]",
      "text/plain": [
       "<Figure size 432x288 with 1 Axes>"
      ]
     },
     "metadata": {
      "needs_background": "light"
     },
     "output_type": "display_data"
    }
   ],
   "source": [
    "plt.hist(distance_matrix.flatten(), bins=40)"
   ]
  },
  {
   "cell_type": "code",
   "execution_count": 15,
   "metadata": {},
   "outputs": [
    {
     "data": {
      "text/plain": [
       "(array([], dtype=int64), array([], dtype=int64))"
      ]
     },
     "execution_count": 15,
     "metadata": {},
     "output_type": "execute_result"
    }
   ],
   "source": [
    "np.where(distance_matrix == 0)"
   ]
  },
  {
   "cell_type": "markdown",
   "metadata": {},
   "source": [
    "## Critical distance estimation\n",
    "___"
   ]
  },
  {
   "cell_type": "code",
   "execution_count": 525,
   "metadata": {},
   "outputs": [],
   "source": [
    "# Range (lag distance at which the sill is reached; in meters)\n",
    "\n",
    "# Depending on how many principal components you will use, \n",
    "# you will have to add more entries to this list.\n",
    "\n",
    "# Modified the range since variograms are not correct yet\n",
    "# range_ = [100000] * 15\n",
    "range_ = [130000, 140000, 150000, 140000, 140000, 170000, 150000, 130000, 140000, 100000, 100000, 100000, 100000, 100000, 100000]\n",
    "\n"
   ]
  },
  {
   "cell_type": "code",
   "execution_count": 526,
   "metadata": {},
   "outputs": [
    {
     "data": {
      "image/png": "[encoded data removed]",
      "text/plain": [
       "<Figure size 1728x864 with 3 Axes>"
      ]
     },
     "metadata": {
      "needs_background": "light"
     },
     "output_type": "display_data"
    }
   ],
   "source": [
    "# You can adjust the radius parameters below to change the slider settings\n",
    "# to visualize the figures interactively\n",
    "plots.interactive_plot_search_radius(coordinates_utm, orient='rows', \n",
    "                                     radius_default=56000, # Default slider position\n",
    "                                     radius_min=30000,  # Slider start\n",
    "                                     radius_max=60000, # Slider stop\n",
    "                                     radius_step=1000,  # Slider step\n",
    "                                     radius_offset=1000) # Offset between visualizations shown\n",
    "\n",
    "# The x-axis stands for 'n_neighbours'"
   ]
  },
  {
   "cell_type": "code",
   "execution_count": 527,
   "metadata": {},
   "outputs": [],
   "source": [
    "# Critical distance (in meters)\n",
    "# This is the distance where at least 95% of your samples\n",
    "# will have at least 3 neighbours within that distance\n",
    "\n",
    "# You can refine this value later on, or we can use the range \n",
    "# instead of the critical distance as the only value for the search radius\n",
    "critical_distance = 57000"
   ]
  },
  {
   "cell_type": "code",
   "execution_count": 528,
   "metadata": {},
   "outputs": [],
   "source": [
    "# This is basically creating a list of how many neighbours each data point has \n",
    "# within the critical_distance and within the range\n",
    "nvalues_control_points = {}\n",
    "\n",
    "for radius in (0.05, critical_distance, range_[0]):\n",
    "    temp = krigingtools.find_points_within_search_radius(\n",
    "               krigingtools.calculate_and_sort_square_distance_matrix(coordinates_utm),\n",
    "               search_radius=radius # 'search_radius' should be equal to 'radius' here, not 'critical_distance'\n",
    "           )\n",
    "    nvalues_control_points[radius] = pd.Series(temp, index=coordinates_utm.index)\n",
    "    \n",
    "# You're performing a calculation in a for loop so we want to check how many neighbours each data point has \n",
    "# within the specified radius in the tuple (0.05, critical_distance, range_[0]). \n",
    "# So for each of these specified distances, the function will be executed and \n",
    "# the result stored in the nvalues_control_points dictionary"
   ]
  },
  {
   "cell_type": "code",
   "execution_count": 529,
   "metadata": {},
   "outputs": [
    {
     "data": {
      "text/plain": [
       "56.75"
      ]
     },
     "execution_count": 529,
     "metadata": {},
     "output_type": "execute_result"
    }
   ],
   "source": [
    "# Number of samples that may still have less than 3 neighbours within the critical distance\n",
    "number_of_control_points * 0.05"
   ]
  },
  {
   "cell_type": "code",
   "execution_count": 530,
   "metadata": {},
   "outputs": [
    {
     "data": {
      "text/plain": [
       "55"
      ]
     },
     "execution_count": 530,
     "metadata": {},
     "output_type": "execute_result"
    }
   ],
   "source": [
    "# Check number of samples outside of critical distance\n",
    "samples_outside_critical_distance = nvalues_control_points[critical_distance][nvalues_control_points[critical_distance] < 3].index.tolist()\n",
    "len(samples_outside_critical_distance)\n",
    "\n",
    "# one sample below 56.75"
   ]
  },
  {
   "cell_type": "code",
   "execution_count": 531,
   "metadata": {},
   "outputs": [
    {
     "data": {
      "text/html": [
       "<div>\n",
       "<style scoped>\n",
       "    .dataframe tbody tr th:only-of-type {\n",
       "        vertical-align: middle;\n",
       "    }\n",
       "\n",
       "    .dataframe tbody tr th {\n",
       "        vertical-align: top;\n",
       "    }\n",
       "\n",
       "    .dataframe thead th {\n",
       "        text-align: right;\n",
       "    }\n",
       "</style>\n",
       "<table border=\"1\" class=\"dataframe\">\n",
       "  <thead>\n",
       "    <tr style=\"text-align: right;\">\n",
       "      <th></th>\n",
       "      <th>PC01</th>\n",
       "      <th>PC02</th>\n",
       "      <th>PC03</th>\n",
       "      <th>PC04</th>\n",
       "      <th>PC05</th>\n",
       "      <th>PC06</th>\n",
       "      <th>PC07</th>\n",
       "      <th>PC08</th>\n",
       "      <th>PC09</th>\n",
       "      <th>PC10</th>\n",
       "      <th>PC11</th>\n",
       "      <th>PC12</th>\n",
       "      <th>PC13</th>\n",
       "    </tr>\n",
       "  </thead>\n",
       "  <tbody>\n",
       "    <tr>\n",
       "      <th>1</th>\n",
       "      <td>1.515511</td>\n",
       "      <td>-0.240487</td>\n",
       "      <td>0.248839</td>\n",
       "      <td>-0.006512</td>\n",
       "      <td>-0.434335</td>\n",
       "      <td>-1.309089</td>\n",
       "      <td>0.703173</td>\n",
       "      <td>-0.533721</td>\n",
       "      <td>-0.938193</td>\n",
       "      <td>-0.066608</td>\n",
       "      <td>0.309708</td>\n",
       "      <td>0.229234</td>\n",
       "      <td>2.477020e-16</td>\n",
       "    </tr>\n",
       "    <tr>\n",
       "      <th>83</th>\n",
       "      <td>1.116815</td>\n",
       "      <td>-0.257093</td>\n",
       "      <td>0.651268</td>\n",
       "      <td>-0.492877</td>\n",
       "      <td>0.011158</td>\n",
       "      <td>-1.857616</td>\n",
       "      <td>1.343970</td>\n",
       "      <td>-1.782137</td>\n",
       "      <td>0.780196</td>\n",
       "      <td>0.365121</td>\n",
       "      <td>0.052813</td>\n",
       "      <td>0.009467</td>\n",
       "      <td>4.359050e-16</td>\n",
       "    </tr>\n",
       "    <tr>\n",
       "      <th>207</th>\n",
       "      <td>1.670369</td>\n",
       "      <td>-0.362004</td>\n",
       "      <td>0.144109</td>\n",
       "      <td>-0.061965</td>\n",
       "      <td>1.245621</td>\n",
       "      <td>-0.610037</td>\n",
       "      <td>-0.052678</td>\n",
       "      <td>0.468337</td>\n",
       "      <td>-0.105525</td>\n",
       "      <td>-0.044933</td>\n",
       "      <td>0.087971</td>\n",
       "      <td>0.027930</td>\n",
       "      <td>5.005374e-16</td>\n",
       "    </tr>\n",
       "    <tr>\n",
       "      <th>306</th>\n",
       "      <td>1.647781</td>\n",
       "      <td>0.673481</td>\n",
       "      <td>1.063507</td>\n",
       "      <td>-0.594639</td>\n",
       "      <td>-0.096656</td>\n",
       "      <td>0.466807</td>\n",
       "      <td>0.765858</td>\n",
       "      <td>0.258339</td>\n",
       "      <td>0.134872</td>\n",
       "      <td>-0.077756</td>\n",
       "      <td>-0.045070</td>\n",
       "      <td>0.071755</td>\n",
       "      <td>7.228185e-17</td>\n",
       "    </tr>\n",
       "    <tr>\n",
       "      <th>363</th>\n",
       "      <td>3.143258</td>\n",
       "      <td>0.611867</td>\n",
       "      <td>2.419792</td>\n",
       "      <td>-1.602647</td>\n",
       "      <td>-1.341186</td>\n",
       "      <td>-0.105027</td>\n",
       "      <td>0.567708</td>\n",
       "      <td>0.263031</td>\n",
       "      <td>-0.004404</td>\n",
       "      <td>-0.513016</td>\n",
       "      <td>0.070343</td>\n",
       "      <td>-0.001112</td>\n",
       "      <td>-6.053741e-16</td>\n",
       "    </tr>\n",
       "    <tr>\n",
       "      <th>461</th>\n",
       "      <td>1.053711</td>\n",
       "      <td>-0.132912</td>\n",
       "      <td>-0.026938</td>\n",
       "      <td>0.119208</td>\n",
       "      <td>0.217270</td>\n",
       "      <td>-0.479546</td>\n",
       "      <td>0.602164</td>\n",
       "      <td>-0.135237</td>\n",
       "      <td>0.235645</td>\n",
       "      <td>-0.093104</td>\n",
       "      <td>-0.027667</td>\n",
       "      <td>0.050017</td>\n",
       "      <td>2.323637e-16</td>\n",
       "    </tr>\n",
       "    <tr>\n",
       "      <th>553</th>\n",
       "      <td>0.910313</td>\n",
       "      <td>0.834016</td>\n",
       "      <td>1.566963</td>\n",
       "      <td>-1.148299</td>\n",
       "      <td>1.738838</td>\n",
       "      <td>-0.765095</td>\n",
       "      <td>-0.622091</td>\n",
       "      <td>0.006157</td>\n",
       "      <td>0.180199</td>\n",
       "      <td>0.364202</td>\n",
       "      <td>0.281812</td>\n",
       "      <td>0.025286</td>\n",
       "      <td>-4.018970e-16</td>\n",
       "    </tr>\n",
       "    <tr>\n",
       "      <th>566</th>\n",
       "      <td>0.796378</td>\n",
       "      <td>1.216789</td>\n",
       "      <td>0.156223</td>\n",
       "      <td>1.267387</td>\n",
       "      <td>-0.151833</td>\n",
       "      <td>-0.673012</td>\n",
       "      <td>-0.200901</td>\n",
       "      <td>0.315812</td>\n",
       "      <td>0.219846</td>\n",
       "      <td>0.152273</td>\n",
       "      <td>-0.023765</td>\n",
       "      <td>0.037295</td>\n",
       "      <td>7.674363e-17</td>\n",
       "    </tr>\n",
       "    <tr>\n",
       "      <th>604</th>\n",
       "      <td>1.961665</td>\n",
       "      <td>-0.233543</td>\n",
       "      <td>0.226018</td>\n",
       "      <td>0.752048</td>\n",
       "      <td>-0.048303</td>\n",
       "      <td>-0.580967</td>\n",
       "      <td>-0.474123</td>\n",
       "      <td>-0.807856</td>\n",
       "      <td>0.117648</td>\n",
       "      <td>0.025880</td>\n",
       "      <td>-0.047440</td>\n",
       "      <td>-0.036843</td>\n",
       "      <td>-2.274452e-16</td>\n",
       "    </tr>\n",
       "    <tr>\n",
       "      <th>771</th>\n",
       "      <td>2.294959</td>\n",
       "      <td>-0.470582</td>\n",
       "      <td>-0.974587</td>\n",
       "      <td>-0.611279</td>\n",
       "      <td>0.032203</td>\n",
       "      <td>0.622568</td>\n",
       "      <td>2.044263</td>\n",
       "      <td>-1.579638</td>\n",
       "      <td>-1.104897</td>\n",
       "      <td>0.304673</td>\n",
       "      <td>-0.230156</td>\n",
       "      <td>0.060030</td>\n",
       "      <td>5.553826e-16</td>\n",
       "    </tr>\n",
       "    <tr>\n",
       "      <th>1154</th>\n",
       "      <td>0.148519</td>\n",
       "      <td>0.985714</td>\n",
       "      <td>1.013653</td>\n",
       "      <td>2.185316</td>\n",
       "      <td>0.977943</td>\n",
       "      <td>0.188444</td>\n",
       "      <td>0.237615</td>\n",
       "      <td>0.107026</td>\n",
       "      <td>0.369058</td>\n",
       "      <td>0.101135</td>\n",
       "      <td>0.088595</td>\n",
       "      <td>-0.044503</td>\n",
       "      <td>4.745634e-16</td>\n",
       "    </tr>\n",
       "    <tr>\n",
       "      <th>1366</th>\n",
       "      <td>2.333549</td>\n",
       "      <td>-0.567242</td>\n",
       "      <td>-1.152015</td>\n",
       "      <td>-0.461000</td>\n",
       "      <td>-0.639290</td>\n",
       "      <td>0.162545</td>\n",
       "      <td>-0.790843</td>\n",
       "      <td>0.446663</td>\n",
       "      <td>0.425200</td>\n",
       "      <td>-0.021507</td>\n",
       "      <td>0.051068</td>\n",
       "      <td>-0.066719</td>\n",
       "      <td>-4.756250e-16</td>\n",
       "    </tr>\n",
       "    <tr>\n",
       "      <th>1774</th>\n",
       "      <td>1.142595</td>\n",
       "      <td>-1.287414</td>\n",
       "      <td>-0.626026</td>\n",
       "      <td>-0.476463</td>\n",
       "      <td>0.088055</td>\n",
       "      <td>0.548904</td>\n",
       "      <td>-0.496044</td>\n",
       "      <td>-0.227386</td>\n",
       "      <td>0.663821</td>\n",
       "      <td>0.030226</td>\n",
       "      <td>-0.057461</td>\n",
       "      <td>0.005268</td>\n",
       "      <td>-2.353153e-17</td>\n",
       "    </tr>\n",
       "    <tr>\n",
       "      <th>1796</th>\n",
       "      <td>-0.500756</td>\n",
       "      <td>0.771443</td>\n",
       "      <td>-0.606439</td>\n",
       "      <td>0.251410</td>\n",
       "      <td>0.547761</td>\n",
       "      <td>1.007197</td>\n",
       "      <td>0.651690</td>\n",
       "      <td>-0.445259</td>\n",
       "      <td>0.339484</td>\n",
       "      <td>0.174701</td>\n",
       "      <td>-0.027588</td>\n",
       "      <td>0.045944</td>\n",
       "      <td>6.037711e-16</td>\n",
       "    </tr>\n",
       "    <tr>\n",
       "      <th>1930</th>\n",
       "      <td>-0.531185</td>\n",
       "      <td>0.409784</td>\n",
       "      <td>0.624249</td>\n",
       "      <td>1.659964</td>\n",
       "      <td>0.308615</td>\n",
       "      <td>0.112024</td>\n",
       "      <td>0.086923</td>\n",
       "      <td>0.337332</td>\n",
       "      <td>0.149316</td>\n",
       "      <td>-0.002601</td>\n",
       "      <td>-0.009125</td>\n",
       "      <td>0.052909</td>\n",
       "      <td>1.930939e-16</td>\n",
       "    </tr>\n",
       "    <tr>\n",
       "      <th>2151</th>\n",
       "      <td>0.145249</td>\n",
       "      <td>0.677078</td>\n",
       "      <td>0.023344</td>\n",
       "      <td>0.436825</td>\n",
       "      <td>0.394110</td>\n",
       "      <td>-0.815866</td>\n",
       "      <td>0.057654</td>\n",
       "      <td>0.247892</td>\n",
       "      <td>0.223772</td>\n",
       "      <td>0.266446</td>\n",
       "      <td>-0.088831</td>\n",
       "      <td>-0.087626</td>\n",
       "      <td>-2.626650e-16</td>\n",
       "    </tr>\n",
       "    <tr>\n",
       "      <th>2157</th>\n",
       "      <td>0.465166</td>\n",
       "      <td>-1.081221</td>\n",
       "      <td>0.784628</td>\n",
       "      <td>0.423717</td>\n",
       "      <td>-0.255013</td>\n",
       "      <td>-1.886752</td>\n",
       "      <td>0.016441</td>\n",
       "      <td>1.257038</td>\n",
       "      <td>-0.321456</td>\n",
       "      <td>0.085623</td>\n",
       "      <td>0.049933</td>\n",
       "      <td>-0.015382</td>\n",
       "      <td>3.921740e-16</td>\n",
       "    </tr>\n",
       "    <tr>\n",
       "      <th>2259</th>\n",
       "      <td>-0.431759</td>\n",
       "      <td>-1.297892</td>\n",
       "      <td>2.298840</td>\n",
       "      <td>2.485924</td>\n",
       "      <td>0.576667</td>\n",
       "      <td>-0.471399</td>\n",
       "      <td>0.080817</td>\n",
       "      <td>0.280282</td>\n",
       "      <td>0.608847</td>\n",
       "      <td>0.145812</td>\n",
       "      <td>-0.014270</td>\n",
       "      <td>0.094690</td>\n",
       "      <td>6.453225e-16</td>\n",
       "    </tr>\n",
       "    <tr>\n",
       "      <th>2414</th>\n",
       "      <td>-0.157007</td>\n",
       "      <td>0.662458</td>\n",
       "      <td>-0.339528</td>\n",
       "      <td>0.344489</td>\n",
       "      <td>0.007111</td>\n",
       "      <td>-0.345618</td>\n",
       "      <td>-0.041765</td>\n",
       "      <td>0.163065</td>\n",
       "      <td>0.357180</td>\n",
       "      <td>0.093816</td>\n",
       "      <td>-0.098974</td>\n",
       "      <td>-0.045000</td>\n",
       "      <td>2.420270e-16</td>\n",
       "    </tr>\n",
       "    <tr>\n",
       "      <th>2450</th>\n",
       "      <td>-0.179489</td>\n",
       "      <td>0.430121</td>\n",
       "      <td>-0.861985</td>\n",
       "      <td>-0.274412</td>\n",
       "      <td>0.128938</td>\n",
       "      <td>0.289275</td>\n",
       "      <td>0.407848</td>\n",
       "      <td>-0.640818</td>\n",
       "      <td>-0.309358</td>\n",
       "      <td>-0.235439</td>\n",
       "      <td>-0.059830</td>\n",
       "      <td>0.026335</td>\n",
       "      <td>1.564230e-16</td>\n",
       "    </tr>\n",
       "    <tr>\n",
       "      <th>2539</th>\n",
       "      <td>-1.002822</td>\n",
       "      <td>1.258788</td>\n",
       "      <td>0.149363</td>\n",
       "      <td>0.901347</td>\n",
       "      <td>0.179801</td>\n",
       "      <td>-0.669570</td>\n",
       "      <td>-0.130416</td>\n",
       "      <td>0.123104</td>\n",
       "      <td>0.567150</td>\n",
       "      <td>0.085816</td>\n",
       "      <td>-0.125388</td>\n",
       "      <td>0.002087</td>\n",
       "      <td>-3.803477e-16</td>\n",
       "    </tr>\n",
       "    <tr>\n",
       "      <th>2615</th>\n",
       "      <td>-0.747943</td>\n",
       "      <td>1.115012</td>\n",
       "      <td>-0.098666</td>\n",
       "      <td>-0.731313</td>\n",
       "      <td>2.313614</td>\n",
       "      <td>-0.995363</td>\n",
       "      <td>-0.297030</td>\n",
       "      <td>0.108179</td>\n",
       "      <td>0.049399</td>\n",
       "      <td>-0.133585</td>\n",
       "      <td>0.075329</td>\n",
       "      <td>-0.039910</td>\n",
       "      <td>-5.479278e-16</td>\n",
       "    </tr>\n",
       "    <tr>\n",
       "      <th>2720</th>\n",
       "      <td>-0.507870</td>\n",
       "      <td>-1.902925</td>\n",
       "      <td>0.776222</td>\n",
       "      <td>0.334516</td>\n",
       "      <td>0.128830</td>\n",
       "      <td>-0.227904</td>\n",
       "      <td>0.155298</td>\n",
       "      <td>-0.132184</td>\n",
       "      <td>0.147604</td>\n",
       "      <td>0.038385</td>\n",
       "      <td>0.003638</td>\n",
       "      <td>0.121327</td>\n",
       "      <td>4.797514e-16</td>\n",
       "    </tr>\n",
       "    <tr>\n",
       "      <th>2799</th>\n",
       "      <td>0.023045</td>\n",
       "      <td>-1.708838</td>\n",
       "      <td>0.188920</td>\n",
       "      <td>-0.383528</td>\n",
       "      <td>0.517853</td>\n",
       "      <td>-0.095780</td>\n",
       "      <td>0.095529</td>\n",
       "      <td>-0.198575</td>\n",
       "      <td>0.208950</td>\n",
       "      <td>0.200087</td>\n",
       "      <td>-0.031981</td>\n",
       "      <td>0.020673</td>\n",
       "      <td>5.730509e-16</td>\n",
       "    </tr>\n",
       "    <tr>\n",
       "      <th>2949</th>\n",
       "      <td>-0.999441</td>\n",
       "      <td>0.535119</td>\n",
       "      <td>-0.907823</td>\n",
       "      <td>-0.527191</td>\n",
       "      <td>-0.635094</td>\n",
       "      <td>-0.452594</td>\n",
       "      <td>-0.125258</td>\n",
       "      <td>0.682173</td>\n",
       "      <td>0.294573</td>\n",
       "      <td>0.012917</td>\n",
       "      <td>0.104254</td>\n",
       "      <td>0.011936</td>\n",
       "      <td>-4.202559e-16</td>\n",
       "    </tr>\n",
       "    <tr>\n",
       "      <th>3184</th>\n",
       "      <td>-1.641391</td>\n",
       "      <td>0.531225</td>\n",
       "      <td>1.495579</td>\n",
       "      <td>2.319001</td>\n",
       "      <td>0.758887</td>\n",
       "      <td>0.241642</td>\n",
       "      <td>0.010826</td>\n",
       "      <td>0.156057</td>\n",
       "      <td>0.517017</td>\n",
       "      <td>0.233944</td>\n",
       "      <td>0.245543</td>\n",
       "      <td>-0.017227</td>\n",
       "      <td>2.343323e-16</td>\n",
       "    </tr>\n",
       "    <tr>\n",
       "      <th>3362</th>\n",
       "      <td>-0.451624</td>\n",
       "      <td>0.346728</td>\n",
       "      <td>-0.223014</td>\n",
       "      <td>-0.346884</td>\n",
       "      <td>1.033901</td>\n",
       "      <td>-0.398058</td>\n",
       "      <td>-0.314384</td>\n",
       "      <td>-0.762630</td>\n",
       "      <td>0.337330</td>\n",
       "      <td>0.214937</td>\n",
       "      <td>-0.110790</td>\n",
       "      <td>-0.105255</td>\n",
       "      <td>3.756674e-17</td>\n",
       "    </tr>\n",
       "    <tr>\n",
       "      <th>3365</th>\n",
       "      <td>1.936858</td>\n",
       "      <td>-0.436042</td>\n",
       "      <td>2.543099</td>\n",
       "      <td>-0.895772</td>\n",
       "      <td>-0.275574</td>\n",
       "      <td>1.150063</td>\n",
       "      <td>-1.603182</td>\n",
       "      <td>-0.293462</td>\n",
       "      <td>0.039921</td>\n",
       "      <td>0.046596</td>\n",
       "      <td>-0.074527</td>\n",
       "      <td>-0.127280</td>\n",
       "      <td>-4.317755e-16</td>\n",
       "    </tr>\n",
       "    <tr>\n",
       "      <th>3374</th>\n",
       "      <td>-0.570939</td>\n",
       "      <td>-0.171985</td>\n",
       "      <td>1.047148</td>\n",
       "      <td>0.641121</td>\n",
       "      <td>-2.313671</td>\n",
       "      <td>1.364191</td>\n",
       "      <td>-0.750240</td>\n",
       "      <td>-0.623553</td>\n",
       "      <td>-0.154087</td>\n",
       "      <td>0.357113</td>\n",
       "      <td>0.563087</td>\n",
       "      <td>0.195969</td>\n",
       "      <td>2.111996e-16</td>\n",
       "    </tr>\n",
       "    <tr>\n",
       "      <th>3381</th>\n",
       "      <td>-0.464966</td>\n",
       "      <td>-1.703243</td>\n",
       "      <td>1.316366</td>\n",
       "      <td>0.932688</td>\n",
       "      <td>0.354291</td>\n",
       "      <td>-0.759636</td>\n",
       "      <td>-0.053802</td>\n",
       "      <td>0.194410</td>\n",
       "      <td>0.719010</td>\n",
       "      <td>-0.021152</td>\n",
       "      <td>-0.094449</td>\n",
       "      <td>-0.030901</td>\n",
       "      <td>7.445568e-16</td>\n",
       "    </tr>\n",
       "    <tr>\n",
       "      <th>3453</th>\n",
       "      <td>-0.511558</td>\n",
       "      <td>-0.156193</td>\n",
       "      <td>1.022933</td>\n",
       "      <td>-0.192780</td>\n",
       "      <td>0.094960</td>\n",
       "      <td>-0.254412</td>\n",
       "      <td>-0.032948</td>\n",
       "      <td>-0.075206</td>\n",
       "      <td>-0.202064</td>\n",
       "      <td>-0.105500</td>\n",
       "      <td>-0.024236</td>\n",
       "      <td>-0.014180</td>\n",
       "      <td>2.407446e-17</td>\n",
       "    </tr>\n",
       "    <tr>\n",
       "      <th>3570</th>\n",
       "      <td>-0.318702</td>\n",
       "      <td>-1.782994</td>\n",
       "      <td>0.319530</td>\n",
       "      <td>-0.590374</td>\n",
       "      <td>-1.233156</td>\n",
       "      <td>-1.984637</td>\n",
       "      <td>-0.258562</td>\n",
       "      <td>-0.283042</td>\n",
       "      <td>-0.267361</td>\n",
       "      <td>0.241277</td>\n",
       "      <td>-0.105430</td>\n",
       "      <td>0.069189</td>\n",
       "      <td>1.094765e-15</td>\n",
       "    </tr>\n",
       "    <tr>\n",
       "      <th>3649</th>\n",
       "      <td>-0.339005</td>\n",
       "      <td>-1.935751</td>\n",
       "      <td>0.377227</td>\n",
       "      <td>-0.298920</td>\n",
       "      <td>0.371707</td>\n",
       "      <td>-0.251932</td>\n",
       "      <td>0.164271</td>\n",
       "      <td>-0.432275</td>\n",
       "      <td>0.240189</td>\n",
       "      <td>0.059729</td>\n",
       "      <td>-0.034601</td>\n",
       "      <td>-0.067904</td>\n",
       "      <td>5.337389e-17</td>\n",
       "    </tr>\n",
       "    <tr>\n",
       "      <th>3905</th>\n",
       "      <td>-1.589620</td>\n",
       "      <td>1.221747</td>\n",
       "      <td>0.860547</td>\n",
       "      <td>-0.845029</td>\n",
       "      <td>0.869785</td>\n",
       "      <td>-0.033778</td>\n",
       "      <td>0.181174</td>\n",
       "      <td>-0.250772</td>\n",
       "      <td>-0.154563</td>\n",
       "      <td>0.297862</td>\n",
       "      <td>-0.045167</td>\n",
       "      <td>0.030099</td>\n",
       "      <td>6.269125e-17</td>\n",
       "    </tr>\n",
       "    <tr>\n",
       "      <th>3929</th>\n",
       "      <td>1.062087</td>\n",
       "      <td>-1.812062</td>\n",
       "      <td>-0.969721</td>\n",
       "      <td>0.137476</td>\n",
       "      <td>1.190846</td>\n",
       "      <td>3.356556</td>\n",
       "      <td>-0.954492</td>\n",
       "      <td>-1.209118</td>\n",
       "      <td>0.093072</td>\n",
       "      <td>-0.055568</td>\n",
       "      <td>-0.022565</td>\n",
       "      <td>-0.135721</td>\n",
       "      <td>1.981173e-16</td>\n",
       "    </tr>\n",
       "    <tr>\n",
       "      <th>3981</th>\n",
       "      <td>-0.709212</td>\n",
       "      <td>1.680833</td>\n",
       "      <td>3.013408</td>\n",
       "      <td>-0.545211</td>\n",
       "      <td>-0.041891</td>\n",
       "      <td>0.850492</td>\n",
       "      <td>-0.300011</td>\n",
       "      <td>0.061809</td>\n",
       "      <td>-0.033285</td>\n",
       "      <td>0.230192</td>\n",
       "      <td>0.038676</td>\n",
       "      <td>-0.024749</td>\n",
       "      <td>-3.943629e-16</td>\n",
       "    </tr>\n",
       "    <tr>\n",
       "      <th>4043</th>\n",
       "      <td>-1.655296</td>\n",
       "      <td>-0.059870</td>\n",
       "      <td>0.231438</td>\n",
       "      <td>0.823905</td>\n",
       "      <td>-0.495284</td>\n",
       "      <td>-0.095167</td>\n",
       "      <td>0.330856</td>\n",
       "      <td>0.156330</td>\n",
       "      <td>0.010475</td>\n",
       "      <td>-0.120908</td>\n",
       "      <td>0.035251</td>\n",
       "      <td>0.001940</td>\n",
       "      <td>3.203979e-16</td>\n",
       "    </tr>\n",
       "    <tr>\n",
       "      <th>4160</th>\n",
       "      <td>-0.574395</td>\n",
       "      <td>-2.172418</td>\n",
       "      <td>0.629437</td>\n",
       "      <td>0.628378</td>\n",
       "      <td>-0.633787</td>\n",
       "      <td>-0.019318</td>\n",
       "      <td>0.203953</td>\n",
       "      <td>0.135430</td>\n",
       "      <td>0.202759</td>\n",
       "      <td>-0.087672</td>\n",
       "      <td>0.017769</td>\n",
       "      <td>-0.096861</td>\n",
       "      <td>-3.615420e-16</td>\n",
       "    </tr>\n",
       "    <tr>\n",
       "      <th>4216</th>\n",
       "      <td>-0.626580</td>\n",
       "      <td>1.094659</td>\n",
       "      <td>2.072004</td>\n",
       "      <td>-1.162282</td>\n",
       "      <td>-0.122631</td>\n",
       "      <td>0.737511</td>\n",
       "      <td>-0.290707</td>\n",
       "      <td>0.276478</td>\n",
       "      <td>-0.204969</td>\n",
       "      <td>-0.063524</td>\n",
       "      <td>-0.136892</td>\n",
       "      <td>-0.013666</td>\n",
       "      <td>-2.367025e-16</td>\n",
       "    </tr>\n",
       "    <tr>\n",
       "      <th>4228</th>\n",
       "      <td>-0.901808</td>\n",
       "      <td>0.891805</td>\n",
       "      <td>1.445231</td>\n",
       "      <td>-1.653206</td>\n",
       "      <td>-0.942934</td>\n",
       "      <td>0.339299</td>\n",
       "      <td>0.139815</td>\n",
       "      <td>0.023830</td>\n",
       "      <td>0.077542</td>\n",
       "      <td>-0.050421</td>\n",
       "      <td>-0.162785</td>\n",
       "      <td>0.065679</td>\n",
       "      <td>-2.639271e-16</td>\n",
       "    </tr>\n",
       "    <tr>\n",
       "      <th>4251</th>\n",
       "      <td>-1.405395</td>\n",
       "      <td>0.795288</td>\n",
       "      <td>0.721339</td>\n",
       "      <td>-0.487389</td>\n",
       "      <td>-0.927281</td>\n",
       "      <td>0.218345</td>\n",
       "      <td>0.307930</td>\n",
       "      <td>0.107527</td>\n",
       "      <td>0.110158</td>\n",
       "      <td>-0.049645</td>\n",
       "      <td>-0.182502</td>\n",
       "      <td>0.040086</td>\n",
       "      <td>6.040839e-16</td>\n",
       "    </tr>\n",
       "    <tr>\n",
       "      <th>4284</th>\n",
       "      <td>-1.026117</td>\n",
       "      <td>-2.094825</td>\n",
       "      <td>0.614168</td>\n",
       "      <td>-0.372184</td>\n",
       "      <td>-0.787469</td>\n",
       "      <td>-0.891554</td>\n",
       "      <td>-0.470318</td>\n",
       "      <td>-0.356764</td>\n",
       "      <td>-0.417099</td>\n",
       "      <td>-0.773138</td>\n",
       "      <td>0.815832</td>\n",
       "      <td>-0.133911</td>\n",
       "      <td>-2.219644e-16</td>\n",
       "    </tr>\n",
       "    <tr>\n",
       "      <th>4370</th>\n",
       "      <td>-0.764254</td>\n",
       "      <td>1.776743</td>\n",
       "      <td>1.807197</td>\n",
       "      <td>-2.156408</td>\n",
       "      <td>0.468111</td>\n",
       "      <td>0.496597</td>\n",
       "      <td>-0.105177</td>\n",
       "      <td>-0.303837</td>\n",
       "      <td>0.064660</td>\n",
       "      <td>0.056156</td>\n",
       "      <td>-0.167696</td>\n",
       "      <td>-0.094495</td>\n",
       "      <td>-5.669202e-16</td>\n",
       "    </tr>\n",
       "    <tr>\n",
       "      <th>4386</th>\n",
       "      <td>-1.450069</td>\n",
       "      <td>0.330888</td>\n",
       "      <td>-0.322030</td>\n",
       "      <td>0.183310</td>\n",
       "      <td>0.108622</td>\n",
       "      <td>0.118641</td>\n",
       "      <td>-0.237517</td>\n",
       "      <td>-0.603209</td>\n",
       "      <td>-0.193077</td>\n",
       "      <td>0.286627</td>\n",
       "      <td>-0.029929</td>\n",
       "      <td>-0.167967</td>\n",
       "      <td>-4.512071e-16</td>\n",
       "    </tr>\n",
       "    <tr>\n",
       "      <th>4390</th>\n",
       "      <td>-2.149845</td>\n",
       "      <td>0.401987</td>\n",
       "      <td>-0.213491</td>\n",
       "      <td>0.217861</td>\n",
       "      <td>-0.524805</td>\n",
       "      <td>-0.347613</td>\n",
       "      <td>0.023798</td>\n",
       "      <td>-0.181437</td>\n",
       "      <td>-0.191784</td>\n",
       "      <td>0.122855</td>\n",
       "      <td>-0.090776</td>\n",
       "      <td>0.022878</td>\n",
       "      <td>2.475758e-16</td>\n",
       "    </tr>\n",
       "    <tr>\n",
       "      <th>4400</th>\n",
       "      <td>-0.674545</td>\n",
       "      <td>-1.836154</td>\n",
       "      <td>1.751967</td>\n",
       "      <td>1.717345</td>\n",
       "      <td>0.048422</td>\n",
       "      <td>-1.002538</td>\n",
       "      <td>-0.592768</td>\n",
       "      <td>1.446062</td>\n",
       "      <td>1.718572</td>\n",
       "      <td>0.353389</td>\n",
       "      <td>-0.338010</td>\n",
       "      <td>-0.182165</td>\n",
       "      <td>4.582291e-16</td>\n",
       "    </tr>\n",
       "    <tr>\n",
       "      <th>4407</th>\n",
       "      <td>-1.124169</td>\n",
       "      <td>-2.265438</td>\n",
       "      <td>0.772572</td>\n",
       "      <td>-0.443112</td>\n",
       "      <td>0.312954</td>\n",
       "      <td>-1.129838</td>\n",
       "      <td>-0.184325</td>\n",
       "      <td>0.091673</td>\n",
       "      <td>-0.265618</td>\n",
       "      <td>0.263464</td>\n",
       "      <td>-0.071247</td>\n",
       "      <td>-0.017979</td>\n",
       "      <td>9.413206e-16</td>\n",
       "    </tr>\n",
       "    <tr>\n",
       "      <th>4463</th>\n",
       "      <td>-2.400222</td>\n",
       "      <td>0.454071</td>\n",
       "      <td>-0.872857</td>\n",
       "      <td>-0.366271</td>\n",
       "      <td>-0.278666</td>\n",
       "      <td>0.673208</td>\n",
       "      <td>0.035053</td>\n",
       "      <td>-0.206944</td>\n",
       "      <td>-0.168091</td>\n",
       "      <td>0.582789</td>\n",
       "      <td>-0.066653</td>\n",
       "      <td>0.048169</td>\n",
       "      <td>3.118967e-16</td>\n",
       "    </tr>\n",
       "    <tr>\n",
       "      <th>4465</th>\n",
       "      <td>-0.107068</td>\n",
       "      <td>-0.630784</td>\n",
       "      <td>4.843302</td>\n",
       "      <td>-2.654217</td>\n",
       "      <td>3.234411</td>\n",
       "      <td>0.126198</td>\n",
       "      <td>-0.056916</td>\n",
       "      <td>-0.221373</td>\n",
       "      <td>-0.235535</td>\n",
       "      <td>0.999899</td>\n",
       "      <td>0.073835</td>\n",
       "      <td>-0.117040</td>\n",
       "      <td>-5.319051e-16</td>\n",
       "    </tr>\n",
       "    <tr>\n",
       "      <th>4484</th>\n",
       "      <td>-0.172035</td>\n",
       "      <td>-2.395869</td>\n",
       "      <td>-0.126891</td>\n",
       "      <td>-0.132615</td>\n",
       "      <td>0.319921</td>\n",
       "      <td>1.058000</td>\n",
       "      <td>1.151386</td>\n",
       "      <td>-0.442904</td>\n",
       "      <td>0.955246</td>\n",
       "      <td>0.037806</td>\n",
       "      <td>-0.623711</td>\n",
       "      <td>-0.191247</td>\n",
       "      <td>3.026752e-16</td>\n",
       "    </tr>\n",
       "    <tr>\n",
       "      <th>4553</th>\n",
       "      <td>-2.685487</td>\n",
       "      <td>-0.057813</td>\n",
       "      <td>0.331971</td>\n",
       "      <td>0.850559</td>\n",
       "      <td>0.514103</td>\n",
       "      <td>1.059423</td>\n",
       "      <td>0.414999</td>\n",
       "      <td>0.007878</td>\n",
       "      <td>0.236773</td>\n",
       "      <td>0.198908</td>\n",
       "      <td>0.118323</td>\n",
       "      <td>-0.095279</td>\n",
       "      <td>6.661826e-16</td>\n",
       "    </tr>\n",
       "    <tr>\n",
       "      <th>4565</th>\n",
       "      <td>-2.735672</td>\n",
       "      <td>0.547336</td>\n",
       "      <td>-0.684035</td>\n",
       "      <td>-0.725173</td>\n",
       "      <td>0.654595</td>\n",
       "      <td>0.303463</td>\n",
       "      <td>-0.023516</td>\n",
       "      <td>-0.121528</td>\n",
       "      <td>-0.344677</td>\n",
       "      <td>0.257219</td>\n",
       "      <td>-0.022701</td>\n",
       "      <td>0.025926</td>\n",
       "      <td>7.153190e-17</td>\n",
       "    </tr>\n",
       "    <tr>\n",
       "      <th>4581</th>\n",
       "      <td>-1.027101</td>\n",
       "      <td>-2.718338</td>\n",
       "      <td>-0.002153</td>\n",
       "      <td>-0.626557</td>\n",
       "      <td>-0.286597</td>\n",
       "      <td>0.057366</td>\n",
       "      <td>-0.194273</td>\n",
       "      <td>0.164078</td>\n",
       "      <td>-0.136145</td>\n",
       "      <td>-0.069460</td>\n",
       "      <td>-0.102900</td>\n",
       "      <td>-0.093769</td>\n",
       "      <td>1.047113e-15</td>\n",
       "    </tr>\n",
       "    <tr>\n",
       "      <th>4618</th>\n",
       "      <td>-2.772487</td>\n",
       "      <td>0.155462</td>\n",
       "      <td>-0.592594</td>\n",
       "      <td>-0.203715</td>\n",
       "      <td>-0.605284</td>\n",
       "      <td>0.475756</td>\n",
       "      <td>0.040519</td>\n",
       "      <td>-0.072147</td>\n",
       "      <td>0.099235</td>\n",
       "      <td>0.427150</td>\n",
       "      <td>0.034148</td>\n",
       "      <td>-0.078110</td>\n",
       "      <td>1.189350e-16</td>\n",
       "    </tr>\n",
       "    <tr>\n",
       "      <th>4633</th>\n",
       "      <td>-3.116840</td>\n",
       "      <td>-0.135559</td>\n",
       "      <td>-0.018859</td>\n",
       "      <td>-0.334682</td>\n",
       "      <td>0.373980</td>\n",
       "      <td>0.566866</td>\n",
       "      <td>-0.189065</td>\n",
       "      <td>-0.238790</td>\n",
       "      <td>-0.370301</td>\n",
       "      <td>0.732153</td>\n",
       "      <td>0.380322</td>\n",
       "      <td>-0.050459</td>\n",
       "      <td>2.297961e-16</td>\n",
       "    </tr>\n",
       "  </tbody>\n",
       "</table>\n",
       "</div>"
      ],
      "text/plain": [
       "          PC01      PC02      PC03      PC04      PC05      PC06      PC07  \\\n",
       "1     1.515511 -0.240487  0.248839 -0.006512 -0.434335 -1.309089  0.703173   \n",
       "83    1.116815 -0.257093  0.651268 -0.492877  0.011158 -1.857616  1.343970   \n",
       "207   1.670369 -0.362004  0.144109 -0.061965  1.245621 -0.610037 -0.052678   \n",
       "306   1.647781  0.673481  1.063507 -0.594639 -0.096656  0.466807  0.765858   \n",
       "363   3.143258  0.611867  2.419792 -1.602647 -1.341186 -0.105027  0.567708   \n",
       "461   1.053711 -0.132912 -0.026938  0.119208  0.217270 -0.479546  0.602164   \n",
       "553   0.910313  0.834016  1.566963 -1.148299  1.738838 -0.765095 -0.622091   \n",
       "566   0.796378  1.216789  0.156223  1.267387 -0.151833 -0.673012 -0.200901   \n",
       "604   1.961665 -0.233543  0.226018  0.752048 -0.048303 -0.580967 -0.474123   \n",
       "771   2.294959 -0.470582 -0.974587 -0.611279  0.032203  0.622568  2.044263   \n",
       "1154  0.148519  0.985714  1.013653  2.185316  0.977943  0.188444  0.237615   \n",
       "1366  2.333549 -0.567242 -1.152015 -0.461000 -0.639290  0.162545 -0.790843   \n",
       "1774  1.142595 -1.287414 -0.626026 -0.476463  0.088055  0.548904 -0.496044   \n",
       "1796 -0.500756  0.771443 -0.606439  0.251410  0.547761  1.007197  0.651690   \n",
       "1930 -0.531185  0.409784  0.624249  1.659964  0.308615  0.112024  0.086923   \n",
       "2151  0.145249  0.677078  0.023344  0.436825  0.394110 -0.815866  0.057654   \n",
       "2157  0.465166 -1.081221  0.784628  0.423717 -0.255013 -1.886752  0.016441   \n",
       "2259 -0.431759 -1.297892  2.298840  2.485924  0.576667 -0.471399  0.080817   \n",
       "2414 -0.157007  0.662458 -0.339528  0.344489  0.007111 -0.345618 -0.041765   \n",
       "2450 -0.179489  0.430121 -0.861985 -0.274412  0.128938  0.289275  0.407848   \n",
       "2539 -1.002822  1.258788  0.149363  0.901347  0.179801 -0.669570 -0.130416   \n",
       "2615 -0.747943  1.115012 -0.098666 -0.731313  2.313614 -0.995363 -0.297030   \n",
       "2720 -0.507870 -1.902925  0.776222  0.334516  0.128830 -0.227904  0.155298   \n",
       "2799  0.023045 -1.708838  0.188920 -0.383528  0.517853 -0.095780  0.095529   \n",
       "2949 -0.999441  0.535119 -0.907823 -0.527191 -0.635094 -0.452594 -0.125258   \n",
       "3184 -1.641391  0.531225  1.495579  2.319001  0.758887  0.241642  0.010826   \n",
       "3362 -0.451624  0.346728 -0.223014 -0.346884  1.033901 -0.398058 -0.314384   \n",
       "3365  1.936858 -0.436042  2.543099 -0.895772 -0.275574  1.150063 -1.603182   \n",
       "3374 -0.570939 -0.171985  1.047148  0.641121 -2.313671  1.364191 -0.750240   \n",
       "3381 -0.464966 -1.703243  1.316366  0.932688  0.354291 -0.759636 -0.053802   \n",
       "3453 -0.511558 -0.156193  1.022933 -0.192780  0.094960 -0.254412 -0.032948   \n",
       "3570 -0.318702 -1.782994  0.319530 -0.590374 -1.233156 -1.984637 -0.258562   \n",
       "3649 -0.339005 -1.935751  0.377227 -0.298920  0.371707 -0.251932  0.164271   \n",
       "3905 -1.589620  1.221747  0.860547 -0.845029  0.869785 -0.033778  0.181174   \n",
       "3929  1.062087 -1.812062 -0.969721  0.137476  1.190846  3.356556 -0.954492   \n",
       "3981 -0.709212  1.680833  3.013408 -0.545211 -0.041891  0.850492 -0.300011   \n",
       "4043 -1.655296 -0.059870  0.231438  0.823905 -0.495284 -0.095167  0.330856   \n",
       "4160 -0.574395 -2.172418  0.629437  0.628378 -0.633787 -0.019318  0.203953   \n",
       "4216 -0.626580  1.094659  2.072004 -1.162282 -0.122631  0.737511 -0.290707   \n",
       "4228 -0.901808  0.891805  1.445231 -1.653206 -0.942934  0.339299  0.139815   \n",
       "4251 -1.405395  0.795288  0.721339 -0.487389 -0.927281  0.218345  0.307930   \n",
       "4284 -1.026117 -2.094825  0.614168 -0.372184 -0.787469 -0.891554 -0.470318   \n",
       "4370 -0.764254  1.776743  1.807197 -2.156408  0.468111  0.496597 -0.105177   \n",
       "4386 -1.450069  0.330888 -0.322030  0.183310  0.108622  0.118641 -0.237517   \n",
       "4390 -2.149845  0.401987 -0.213491  0.217861 -0.524805 -0.347613  0.023798   \n",
       "4400 -0.674545 -1.836154  1.751967  1.717345  0.048422 -1.002538 -0.592768   \n",
       "4407 -1.124169 -2.265438  0.772572 -0.443112  0.312954 -1.129838 -0.184325   \n",
       "4463 -2.400222  0.454071 -0.872857 -0.366271 -0.278666  0.673208  0.035053   \n",
       "4465 -0.107068 -0.630784  4.843302 -2.654217  3.234411  0.126198 -0.056916   \n",
       "4484 -0.172035 -2.395869 -0.126891 -0.132615  0.319921  1.058000  1.151386   \n",
       "4553 -2.685487 -0.057813  0.331971  0.850559  0.514103  1.059423  0.414999   \n",
       "4565 -2.735672  0.547336 -0.684035 -0.725173  0.654595  0.303463 -0.023516   \n",
       "4581 -1.027101 -2.718338 -0.002153 -0.626557 -0.286597  0.057366 -0.194273   \n",
       "4618 -2.772487  0.155462 -0.592594 -0.203715 -0.605284  0.475756  0.040519   \n",
       "4633 -3.116840 -0.135559 -0.018859 -0.334682  0.373980  0.566866 -0.189065   \n",
       "\n",
       "          PC08      PC09      PC10      PC11      PC12          PC13  \n",
       "1    -0.533721 -0.938193 -0.066608  0.309708  0.229234  2.477020e-16  \n",
       "83   -1.782137  0.780196  0.365121  0.052813  0.009467  4.359050e-16  \n",
       "207   0.468337 -0.105525 -0.044933  0.087971  0.027930  5.005374e-16  \n",
       "306   0.258339  0.134872 -0.077756 -0.045070  0.071755  7.228185e-17  \n",
       "363   0.263031 -0.004404 -0.513016  0.070343 -0.001112 -6.053741e-16  \n",
       "461  -0.135237  0.235645 -0.093104 -0.027667  0.050017  2.323637e-16  \n",
       "553   0.006157  0.180199  0.364202  0.281812  0.025286 -4.018970e-16  \n",
       "566   0.315812  0.219846  0.152273 -0.023765  0.037295  7.674363e-17  \n",
       "604  -0.807856  0.117648  0.025880 -0.047440 -0.036843 -2.274452e-16  \n",
       "771  -1.579638 -1.104897  0.304673 -0.230156  0.060030  5.553826e-16  \n",
       "1154  0.107026  0.369058  0.101135  0.088595 -0.044503  4.745634e-16  \n",
       "1366  0.446663  0.425200 -0.021507  0.051068 -0.066719 -4.756250e-16  \n",
       "1774 -0.227386  0.663821  0.030226 -0.057461  0.005268 -2.353153e-17  \n",
       "1796 -0.445259  0.339484  0.174701 -0.027588  0.045944  6.037711e-16  \n",
       "1930  0.337332  0.149316 -0.002601 -0.009125  0.052909  1.930939e-16  \n",
       "2151  0.247892  0.223772  0.266446 -0.088831 -0.087626 -2.626650e-16  \n",
       "2157  1.257038 -0.321456  0.085623  0.049933 -0.015382  3.921740e-16  \n",
       "2259  0.280282  0.608847  0.145812 -0.014270  0.094690  6.453225e-16  \n",
       "2414  0.163065  0.357180  0.093816 -0.098974 -0.045000  2.420270e-16  \n",
       "2450 -0.640818 -0.309358 -0.235439 -0.059830  0.026335  1.564230e-16  \n",
       "2539  0.123104  0.567150  0.085816 -0.125388  0.002087 -3.803477e-16  \n",
       "2615  0.108179  0.049399 -0.133585  0.075329 -0.039910 -5.479278e-16  \n",
       "2720 -0.132184  0.147604  0.038385  0.003638  0.121327  4.797514e-16  \n",
       "2799 -0.198575  0.208950  0.200087 -0.031981  0.020673  5.730509e-16  \n",
       "2949  0.682173  0.294573  0.012917  0.104254  0.011936 -4.202559e-16  \n",
       "3184  0.156057  0.517017  0.233944  0.245543 -0.017227  2.343323e-16  \n",
       "3362 -0.762630  0.337330  0.214937 -0.110790 -0.105255  3.756674e-17  \n",
       "3365 -0.293462  0.039921  0.046596 -0.074527 -0.127280 -4.317755e-16  \n",
       "3374 -0.623553 -0.154087  0.357113  0.563087  0.195969  2.111996e-16  \n",
       "3381  0.194410  0.719010 -0.021152 -0.094449 -0.030901  7.445568e-16  \n",
       "3453 -0.075206 -0.202064 -0.105500 -0.024236 -0.014180  2.407446e-17  \n",
       "3570 -0.283042 -0.267361  0.241277 -0.105430  0.069189  1.094765e-15  \n",
       "3649 -0.432275  0.240189  0.059729 -0.034601 -0.067904  5.337389e-17  \n",
       "3905 -0.250772 -0.154563  0.297862 -0.045167  0.030099  6.269125e-17  \n",
       "3929 -1.209118  0.093072 -0.055568 -0.022565 -0.135721  1.981173e-16  \n",
       "3981  0.061809 -0.033285  0.230192  0.038676 -0.024749 -3.943629e-16  \n",
       "4043  0.156330  0.010475 -0.120908  0.035251  0.001940  3.203979e-16  \n",
       "4160  0.135430  0.202759 -0.087672  0.017769 -0.096861 -3.615420e-16  \n",
       "4216  0.276478 -0.204969 -0.063524 -0.136892 -0.013666 -2.367025e-16  \n",
       "4228  0.023830  0.077542 -0.050421 -0.162785  0.065679 -2.639271e-16  \n",
       "4251  0.107527  0.110158 -0.049645 -0.182502  0.040086  6.040839e-16  \n",
       "4284 -0.356764 -0.417099 -0.773138  0.815832 -0.133911 -2.219644e-16  \n",
       "4370 -0.303837  0.064660  0.056156 -0.167696 -0.094495 -5.669202e-16  \n",
       "4386 -0.603209 -0.193077  0.286627 -0.029929 -0.167967 -4.512071e-16  \n",
       "4390 -0.181437 -0.191784  0.122855 -0.090776  0.022878  2.475758e-16  \n",
       "4400  1.446062  1.718572  0.353389 -0.338010 -0.182165  4.582291e-16  \n",
       "4407  0.091673 -0.265618  0.263464 -0.071247 -0.017979  9.413206e-16  \n",
       "4463 -0.206944 -0.168091  0.582789 -0.066653  0.048169  3.118967e-16  \n",
       "4465 -0.221373 -0.235535  0.999899  0.073835 -0.117040 -5.319051e-16  \n",
       "4484 -0.442904  0.955246  0.037806 -0.623711 -0.191247  3.026752e-16  \n",
       "4553  0.007878  0.236773  0.198908  0.118323 -0.095279  6.661826e-16  \n",
       "4565 -0.121528 -0.344677  0.257219 -0.022701  0.025926  7.153190e-17  \n",
       "4581  0.164078 -0.136145 -0.069460 -0.102900 -0.093769  1.047113e-15  \n",
       "4618 -0.072147  0.099235  0.427150  0.034148 -0.078110  1.189350e-16  \n",
       "4633 -0.238790 -0.370301  0.732153  0.380322 -0.050459  2.297961e-16  "
      ]
     },
     "execution_count": 531,
     "metadata": {},
     "output_type": "execute_result"
    }
   ],
   "source": [
    "# Overview of samples that are outside search_radius\n",
    "mineralogy_pca_df.loc[samples_outside_critical_distance, :]"
   ]
  },
  {
   "cell_type": "markdown",
   "metadata": {},
   "source": [
    "____"
   ]
  },
  {
   "cell_type": "code",
   "execution_count": 532,
   "metadata": {},
   "outputs": [],
   "source": [
    "# Create dataframe with duplicates grouping and count info\n",
    "# https://stackoverflow.com/questions/53760860/pd-duplicated-groups-of-duplicates\n",
    "cols = [\"X\", \"Y\"]\n",
    "df1 = coordinates_utm[coordinates_utm.duplicated(subset=cols, keep=False)].copy()\n",
    "df1 = df1.sort_values(cols)\n",
    "df1['group'] = 'g' + (df1.groupby(cols).ngroup() + 1).astype(str)\n",
    "# df1['group'] = 'g' + f\"{df1['group'].str()[1:]:02d}\"\n",
    "df1['duplicate_count'] = df1.groupby(cols)['X'].transform('size')"
   ]
  },
  {
   "cell_type": "code",
   "execution_count": 533,
   "metadata": {},
   "outputs": [
    {
     "data": {
      "text/html": [
       "<div>\n",
       "<style scoped>\n",
       "    .dataframe tbody tr th:only-of-type {\n",
       "        vertical-align: middle;\n",
       "    }\n",
       "\n",
       "    .dataframe tbody tr th {\n",
       "        vertical-align: top;\n",
       "    }\n",
       "\n",
       "    .dataframe thead th {\n",
       "        text-align: right;\n",
       "    }\n",
       "</style>\n",
       "<table border=\"1\" class=\"dataframe\">\n",
       "  <thead>\n",
       "    <tr style=\"text-align: right;\">\n",
       "      <th></th>\n",
       "      <th>X</th>\n",
       "      <th>Y</th>\n",
       "      <th>ZoneNumber</th>\n",
       "      <th>ZoneLetter</th>\n",
       "      <th>group</th>\n",
       "      <th>duplicate_count</th>\n",
       "    </tr>\n",
       "  </thead>\n",
       "  <tbody>\n",
       "  </tbody>\n",
       "</table>\n",
       "</div>"
      ],
      "text/plain": [
       "Empty DataFrame\n",
       "Columns: [X, Y, ZoneNumber, ZoneLetter, group, duplicate_count]\n",
       "Index: []"
      ]
     },
     "execution_count": 533,
     "metadata": {},
     "output_type": "execute_result"
    }
   ],
   "source": [
    "df1.sort_index().sort_values(by=\"duplicate_count\", ascending=False)"
   ]
  },
  {
   "cell_type": "raw",
   "metadata": {},
   "source": [
    "# Manual check for first found duplicate group in scans of Vistelius\n",
    "1121 50°18' 103°25' Bt granite. Mz. Pervomaysky stock. Oth.:so3-0.70 (D.Zhalsabon,1964).\n",
    "74.06 0.14 12.57 o. 77 0.51 0.06 1.00 0.92 3.24 5.84 0.06 0.65 0.70 100.52\n",
    "1364 50°18' 103°25' Bt granite. Mz. Pervomaysky stock. Oth.:S03-0.19 (D.Zhalsabon,1964).\n",
    "73.50 0.16 13.28 1.35 0.51 0.06 1.33 0.92 2.88 6.13 0.04 0.46 0.19 100.81"
   ]
  },
  {
   "cell_type": "code",
   "execution_count": 534,
   "metadata": {},
   "outputs": [
    {
     "data": {
      "text/html": [
       "<div>\n",
       "<style scoped>\n",
       "    .dataframe tbody tr th:only-of-type {\n",
       "        vertical-align: middle;\n",
       "    }\n",
       "\n",
       "    .dataframe tbody tr th {\n",
       "        vertical-align: top;\n",
       "    }\n",
       "\n",
       "    .dataframe thead th {\n",
       "        text-align: right;\n",
       "    }\n",
       "</style>\n",
       "<table border=\"1\" class=\"dataframe\">\n",
       "  <thead>\n",
       "    <tr style=\"text-align: right;\">\n",
       "      <th></th>\n",
       "    </tr>\n",
       "    <tr>\n",
       "      <th>group</th>\n",
       "    </tr>\n",
       "  </thead>\n",
       "  <tbody>\n",
       "  </tbody>\n",
       "</table>\n",
       "</div>"
      ],
      "text/plain": [
       "Empty DataFrame\n",
       "Columns: []\n",
       "Index: []"
      ]
     },
     "execution_count": 534,
     "metadata": {},
     "output_type": "execute_result"
    }
   ],
   "source": [
    "# Get list of duplicate groups which hold list of corresponding items\n",
    "group_items = df1.groupby(\"group\").apply(lambda x: x.index.tolist())\n",
    "group_items"
   ]
  },
  {
   "cell_type": "code",
   "execution_count": 535,
   "metadata": {},
   "outputs": [],
   "source": [
    "group_items_df = pd.DataFrame(group_items)"
   ]
  },
  {
   "cell_type": "code",
   "execution_count": 536,
   "metadata": {},
   "outputs": [],
   "source": [
    "# Create dictionary of droup items for easy reference\n",
    "group_items_dict = {k:v for (k, v) in zip(group_items.index, group_items.values)}"
   ]
  },
  {
   "cell_type": "code",
   "execution_count": 537,
   "metadata": {},
   "outputs": [],
   "source": [
    "for group, items in group_items_dict.items():\n",
    "    print(group)\n",
    "    coordinates_latlon.loc[items, :]"
   ]
  },
  {
   "cell_type": "code",
   "execution_count": 538,
   "metadata": {},
   "outputs": [],
   "source": [
    "for group, items in group_items_dict.items():\n",
    "    print(group)\n",
    "    metadata.loc[items, :]"
   ]
  },
  {
   "cell_type": "code",
   "execution_count": 539,
   "metadata": {},
   "outputs": [],
   "source": [
    "for group, items in group_items_dict.items():\n",
    "    print(group)\n",
    "    mineralogy.loc[items, :]"
   ]
  },
  {
   "cell_type": "code",
   "execution_count": 540,
   "metadata": {},
   "outputs": [
    {
     "data": {
      "text/plain": [
       "2"
      ]
     },
     "execution_count": 540,
     "metadata": {},
     "output_type": "execute_result"
    }
   ],
   "source": [
    "# Check to see how many points are on a shared location\n",
    "nvalues_control_points[0.05].sum()\n",
    "\n",
    "# 57812 seems very high as there are also only 1623 points..."
   ]
  },
  {
   "cell_type": "markdown",
   "metadata": {},
   "source": [
    "___"
   ]
  },
  {
   "cell_type": "markdown",
   "metadata": {},
   "source": [
    "## Create high resolution grids\n",
    "____"
   ]
  },
  {
   "cell_type": "code",
   "execution_count": 541,
   "metadata": {},
   "outputs": [
    {
     "data": {
      "text/plain": [
       "array([[383081.2183518684, 1803996.590798466],\n",
       "       [(4714365.43449676,), 6617207.836822157]], dtype=object)"
      ]
     },
     "execution_count": 541,
     "metadata": {},
     "output_type": "execute_result"
    }
   ],
   "source": [
    "# Determine (wide) grid boundaries\n",
    "X = coordinates_utm.iloc[:, 0].values\n",
    "Xmin = np.min(X) - critical_distance * 1.05\n",
    "Xmax = np.max(X) + critical_distance * 1.05\n",
    "\n",
    "Y = coordinates_utm.iloc[:, 1].values\n",
    "Ymin = np.min(Y) - critical_distance * 1.05, \n",
    "Ymax = np.max(Y) + critical_distance * 1.05\n",
    "\n",
    "coordinates_boundaries = np.array([[Xmin, Xmax], [Ymin, Ymax]])\n",
    "coordinates_boundaries"
   ]
  },
  {
   "cell_type": "code",
   "execution_count": 542,
   "metadata": {},
   "outputs": [
    {
     "name": "stdout",
     "output_type": "stream",
     "text": [
      "x [383081.2183518684 1803996.590798466]\n",
      "y [(4714365.43449676,) 6617207.836822157]\n",
      "x range:  1420915\n",
      "y range:  1902842\n",
      "smallest dimension x\n",
      "theoretical x spacing:  4752.225325908353\n",
      "actual x spacing:  4752.225325908337\n",
      "actual y spacing:  4752.225325908512\n",
      "Number of points:  121604\n",
      "xy grid:  301 404 \n",
      "\n"
     ]
    }
   ],
   "source": [
    "# Set approximate number of points along each axis\n",
    "n_points = 300\n",
    "\n",
    "temp = {}\n",
    "x, y = coordinates_boundaries\n",
    "\n",
    "temp[\"x_start (m)\"] = int(np.floor(x[0]))\n",
    "temp[\"x_end (m)\"] = int(np.floor(x[1]))\n",
    "temp[\"y_start (m)\"] = int(np.floor(y[0]))\n",
    "temp[\"y_end (m)\"] = int(np.floor(y[1]))\n",
    "\n",
    "print(\"x\", x)\n",
    "print(\"y\", y)\n",
    "\n",
    "temp[\"x_range (m)\"] = int(np.floor(x[1])) - int(np.floor(x[0]))\n",
    "temp[\"y_range (m)\"] = int(np.floor(y[1])) - int(np.floor(y[0]))\n",
    "print(\"x range: \", temp[\"x_range (m)\"])\n",
    "print(\"y range: \", temp[\"y_range (m)\"])\n",
    "\n",
    "ranges = {\"x\": temp[\"x_range (m)\"],\n",
    "          \"y\": temp[\"y_range (m)\"],\n",
    "         }\n",
    "\n",
    "threshold = 10000000\n",
    "for dimension, ranger in ranges.items():\n",
    "    if ranger < threshold:\n",
    "        smallest_dimension = dimension\n",
    "        threshold = ranger\n",
    "print(\"smallest dimension\", smallest_dimension)\n",
    "\n",
    "x_spacing, dx = np.linspace(x[0], x[1], n_points, retstep=True)\n",
    "y_spacing, dy = np.linspace(y[0], y[1], n_points, retstep=True)\n",
    "\n",
    "steps = {\"x\": dx,\n",
    "         \"y\": dy,\n",
    "        }\n",
    "\n",
    "print(\"theoretical x spacing: \", dx)\n",
    "\n",
    "xgrid = np.arange(x[0]-dx, x[1]+dx, steps[smallest_dimension])\n",
    "ygrid = np.arange(y[0]-dy, y[1]+dy, steps[smallest_dimension])\n",
    "\n",
    "print(\"actual x spacing: \", xgrid[1] - xgrid[0])\n",
    "print(\"actual y spacing: \", ygrid[1] - ygrid[0])\n",
    "\n",
    "temp[\"x_spacing (m)\"] = np.round(xgrid[1] - xgrid[0], 2)\n",
    "temp[\"y_spacing (m)\"] = np.round(ygrid[1] - ygrid[0], 2)\n",
    "\n",
    "print(\"Number of points: \", len(xgrid) * len(ygrid))\n",
    "print(\"xy grid: \", len(xgrid), len(ygrid), \"\\n\")\n",
    "\n",
    "temp[\"#xgrid_points\"] = len(xgrid)\n",
    "temp[\"#ygrid_points\"] = len(ygrid)\n",
    "temp[\"#total_grid_nodes\"] = len(xgrid) * len(ygrid)\n",
    "\n",
    "coordinates_grids = [xgrid, ygrid]\n",
    "coordinates_grids_details = temp\n",
    "\n",
    "# Assigned to a different variable (name) because later on 'grid' gets used in the code\n",
    "grid = coordinates_grids"
   ]
  },
  {
   "cell_type": "markdown",
   "metadata": {},
   "source": [
    "## Classification map\n",
    "___"
   ]
  },
  {
   "cell_type": "markdown",
   "metadata": {},
   "source": [
    "We will have to decide on a certain classification scheme before we could use this.  \n",
    "Another option might be to use a condensed version of the 'type_granite' column."
   ]
  },
  {
   "cell_type": "markdown",
   "metadata": {},
   "source": [
    "**Yep**"
   ]
  },
  {
   "cell_type": "markdown",
   "metadata": {},
   "source": [
    "## Detrending\n",
    "____"
   ]
  },
  {
   "cell_type": "markdown",
   "metadata": {},
   "source": [
    "### remark\n",
    "R² aren't given anymore"
   ]
  },
  {
   "cell_type": "code",
   "execution_count": 543,
   "metadata": {},
   "outputs": [
    {
     "name": "stdout",
     "output_type": "stream",
     "text": [
      "R² for PC01 order = 1 :\n",
      "R² for PC01 order = 2 :\n",
      "R² for PC02 order = 1 :\n",
      "R² for PC02 order = 2 :\n",
      "R² for PC03 order = 1 :\n",
      "R² for PC03 order = 2 :\n",
      "R² for PC04 order = 1 :\n",
      "R² for PC04 order = 2 :\n",
      "R² for PC05 order = 1 :\n",
      "R² for PC05 order = 2 :\n",
      "R² for PC06 order = 1 :\n",
      "R² for PC06 order = 2 :\n",
      "R² for PC07 order = 1 :\n",
      "R² for PC07 order = 2 :\n",
      "R² for PC08 order = 1 :\n",
      "R² for PC08 order = 2 :\n",
      "R² for PC09 order = 1 :\n",
      "R² for PC09 order = 2 :\n",
      "R² for PC10 order = 1 :\n",
      "R² for PC10 order = 2 :\n",
      "R² for PC11 order = 1 :\n",
      "R² for PC11 order = 2 :\n",
      "R² for PC12 order = 1 :\n",
      "R² for PC12 order = 2 :\n"
     ]
    }
   ],
   "source": [
    "# Check if there is a trend present in the data\n",
    "# This is the case if R² is above say 0.70 \n",
    "\n",
    "for component in mineralogy_pca_df.columns.tolist()[:-1]:\n",
    "    for order in [1, 2]:\n",
    "        print(\"R² for\", component, \"order =\", order, \":\")\n",
    "        detrending.detrend(coordinates_utm, \n",
    "                           mineralogy_pca_df[component], \n",
    "                           order=order, \n",
    "                           verbose=False, \n",
    "                           plot_points=False)[1]"
   ]
  },
  {
   "cell_type": "markdown",
   "metadata": {},
   "source": [
    "**Don't know why this is not printing for you?** --> yeah, kind of strange, because when I pull your progress, these numbers are given, but when I run it myself, these number disapear. "
   ]
  },
  {
   "cell_type": "markdown",
   "metadata": {},
   "source": [
    "## Variogram modelling\n",
    "___"
   ]
  },
  {
   "cell_type": "markdown",
   "metadata": {},
   "source": [
    "* Variogram model (str)\n",
    "* Sill (float)\n",
    "* Range (float)\n",
    "* Nugget (float)\n",
    "* Number of lag bins (int)\n",
    "* Weighted (Bool)"
   ]
  },
  {
   "cell_type": "code",
   "execution_count": 592,
   "metadata": {},
   "outputs": [],
   "source": [
    "# Nugget (variance at lag=0 metric)\n",
    "\n",
    "# Since we are not dealing with point count data here,\n",
    "# we can not use the formulas from our paper we have talked about\n",
    "# Therefore I would just start with nugget=0 and perhaps later change this\n",
    "\n",
    "# Depending on how many principal components you will use, \n",
    "# you will have to add more entries to this list.\n",
    "nugget_ = [1.067, 0.629, 0.601, 0.446, 0.320, 0.238, 0.207, 0.198, 0.107, 0., 0., 0., 0., 0., 0.]"
   ]
  },
  {
   "cell_type": "code",
   "execution_count": 593,
   "metadata": {},
   "outputs": [
    {
     "data": {
      "text/plain": [
       "['01', '02', '03', '04', '05', '06', '07', '08', '09', '10', '11', '12', '13']"
      ]
     },
     "execution_count": 593,
     "metadata": {},
     "output_type": "execute_result"
    }
   ],
   "source": [
    "PC_nr_list = [nr[2:] for nr in mineralogy_pca_df.columns]\n",
    "PC_nr_list"
   ]
  },
  {
   "cell_type": "code",
   "execution_count": 594,
   "metadata": {},
   "outputs": [],
   "source": [
    "# Sill (total variance metric)\n",
    "\n",
    "# A 'list comprehension' construction is used here\n",
    "sill_ = [mineralogy_pca_df.loc[:, f\"PC{i}\"].values.var(ddof=1) \n",
    "         for i in PC_nr_list]"
   ]
  },
  {
   "cell_type": "code",
   "execution_count": 595,
   "metadata": {},
   "outputs": [],
   "source": [
    "# Variogram model parameters dictionary\n",
    "\n",
    "variogram_model_parameters = {}\n",
    "\n",
    "for i, PC in enumerate(mineralogy_pca_df.columns):\n",
    "    parameters = {}\n",
    "    parameters[\"sill\"] = sill_[i]\n",
    "    parameters[\"range\"] = range_[i]\n",
    "    parameters[\"nugget\"] = nugget_[i]\n",
    "        \n",
    "    variogram_model_parameters[PC] = parameters"
   ]
  },
  {
   "cell_type": "code",
   "execution_count": 596,
   "metadata": {},
   "outputs": [],
   "source": [
    "# Variogram model\n",
    "\n",
    "# You can choose between [\"exponential\", \"linear\", \"spherical\", \"power\", \"gaussian\"]\n",
    "# see https://pykrige.readthedocs.io/en/latest/variogram_models.html for equations\n",
    "variogram_model = \"exponential\""
   ]
  },
  {
   "cell_type": "code",
   "execution_count": 597,
   "metadata": {},
   "outputs": [
    {
     "data": {
      "text/plain": [
       "33"
      ]
     },
     "execution_count": 597,
     "metadata": {},
     "output_type": "execute_result"
    }
   ],
   "source": [
    "# Number of lag bins\n",
    "\n",
    "n_lags = int(np.floor(np.sqrt(coordinates_utm.shape[0])))\n",
    "n_lags"
   ]
  },
  {
   "cell_type": "code",
   "execution_count": 598,
   "metadata": {},
   "outputs": [],
   "source": [
    "# Set utm coordinates to use in variogram\n",
    "\n",
    "X = coordinates_utm.iloc[:, 0].values\n",
    "Y = coordinates_utm.iloc[:, 1].values"
   ]
  },
  {
   "cell_type": "markdown",
   "metadata": {},
   "source": [
    "### remark\n",
    "found the ranges visually --> also did it for different kind of ranges (from 100000 --> 250000 in steps of 25000) sometimes a lower mean_test_score for the CV was obtained for these values, but when i did it for the wrong values the day before yesterday (wit a size order lower), i also got sometimes smaller values. These values does not differ that much.  "
   ]
  },
  {
   "cell_type": "markdown",
   "metadata": {},
   "source": [
    "**It looks like we only need to use the first 9 PCs as the later ones all have variograms that are 'flipped', meaning they are just producing nonsense.**  \n",
    "**Changed the for loop to only use the first 9 PCs**"
   ]
  },
  {
   "cell_type": "markdown",
   "metadata": {},
   "source": [
    "**Disabled the statistics calculation as they take quite some time to calculate. --> Visual inspection of variograms may suffice for now**  \n",
    "**Also removed the text in the variogram plots (temporarily), so that you can more easily see the points.**"
   ]
  },
  {
   "cell_type": "code",
   "execution_count": 599,
   "metadata": {},
   "outputs": [
    {
     "name": "stdout",
     "output_type": "stream",
     "text": [
      "PC01\n",
      "Plotting Enabled\n",
      "\n",
      "Adjusting data for anisotropy...\n",
      "Initializing variogram model...\n",
      "Coordinates type: 'euclidean' \n",
      "\n",
      "Using 'exponential' Variogram Model\n",
      "Partial Sill: 0.7125605449820025\n",
      "Full Sill: 1.7795605449820024\n",
      "Range: 130000\n",
      "Nugget: 1.067 \n",
      "\n"
     ]
    },
    {
     "data": {
      "image/png": "[encoded data removed]",
      "text/plain": [
       "<Figure size 432x288 with 1 Axes>"
      ]
     },
     "metadata": {
      "needs_background": "light"
     },
     "output_type": "display_data"
    },
    {
     "name": "stdout",
     "output_type": "stream",
     "text": [
      "Calculating statistics on variogram model fit...\n",
      "PC02\n",
      "Plotting Enabled\n",
      "\n",
      "Adjusting data for anisotropy...\n",
      "Initializing variogram model...\n",
      "Coordinates type: 'euclidean' \n",
      "\n",
      "Using 'exponential' Variogram Model\n",
      "Partial Sill: 0.6286980814642902\n",
      "Full Sill: 1.2576980814642902\n",
      "Range: 140000\n",
      "Nugget: 0.629 \n",
      "\n"
     ]
    },
    {
     "data": {
      "image/png": "[encoded data removed]",
      "text/plain": [
       "<Figure size 432x288 with 1 Axes>"
      ]
     },
     "metadata": {
      "needs_background": "light"
     },
     "output_type": "display_data"
    },
    {
     "name": "stdout",
     "output_type": "stream",
     "text": [
      "Calculating statistics on variogram model fit...\n",
      "PC03\n",
      "Plotting Enabled\n",
      "\n",
      "Adjusting data for anisotropy...\n",
      "Initializing variogram model...\n",
      "Coordinates type: 'euclidean' \n",
      "\n",
      "Using 'exponential' Variogram Model\n",
      "Partial Sill: 0.2577762765046432\n",
      "Full Sill: 0.8587762765046432\n",
      "Range: 150000\n",
      "Nugget: 0.601 \n",
      "\n"
     ]
    },
    {
     "data": {
      "image/png": "[encoded data removed]",
      "text/plain": [
       "<Figure size 432x288 with 1 Axes>"
      ]
     },
     "metadata": {
      "needs_background": "light"
     },
     "output_type": "display_data"
    },
    {
     "name": "stdout",
     "output_type": "stream",
     "text": [
      "Calculating statistics on variogram model fit...\n",
      "PC04\n",
      "Plotting Enabled\n",
      "\n",
      "Adjusting data for anisotropy...\n",
      "Initializing variogram model...\n",
      "Coordinates type: 'euclidean' \n",
      "\n",
      "Using 'exponential' Variogram Model\n",
      "Partial Sill: 0.19138074935766353\n",
      "Full Sill: 0.6373807493576635\n",
      "Range: 140000\n",
      "Nugget: 0.446 \n",
      "\n"
     ]
    },
    {
     "data": {
      "image/png": "[encoded data removed]",
      "text/plain": [
       "<Figure size 432x288 with 1 Axes>"
      ]
     },
     "metadata": {
      "needs_background": "light"
     },
     "output_type": "display_data"
    },
    {
     "name": "stdout",
     "output_type": "stream",
     "text": [
      "Calculating statistics on variogram model fit...\n",
      "PC05\n",
      "Plotting Enabled\n",
      "\n",
      "Adjusting data for anisotropy...\n",
      "Initializing variogram model...\n",
      "Coordinates type: 'euclidean' \n",
      "\n",
      "Using 'exponential' Variogram Model\n",
      "Partial Sill: 0.13698731550456528\n",
      "Full Sill: 0.4569873155045653\n",
      "Range: 140000\n",
      "Nugget: 0.32 \n",
      "\n"
     ]
    },
    {
     "data": {
      "image/png": "[encoded data removed]",
      "text/plain": [
       "<Figure size 432x288 with 1 Axes>"
      ]
     },
     "metadata": {
      "needs_background": "light"
     },
     "output_type": "display_data"
    },
    {
     "name": "stdout",
     "output_type": "stream",
     "text": [
      "Calculating statistics on variogram model fit...\n",
      "PC06\n",
      "Plotting Enabled\n",
      "\n",
      "Adjusting data for anisotropy...\n",
      "Initializing variogram model...\n",
      "Coordinates type: 'euclidean' \n",
      "\n",
      "Using 'exponential' Variogram Model\n",
      "Partial Sill: 0.10227828537108163\n",
      "Full Sill: 0.3402782853710816\n",
      "Range: 170000\n",
      "Nugget: 0.238 \n",
      "\n"
     ]
    },
    {
     "data": {
      "image/png": "[encoded data removed]",
      "text/plain": [
       "<Figure size 432x288 with 1 Axes>"
      ]
     },
     "metadata": {
      "needs_background": "light"
     },
     "output_type": "display_data"
    },
    {
     "name": "stdout",
     "output_type": "stream",
     "text": [
      "Calculating statistics on variogram model fit...\n",
      "PC07\n",
      "Plotting Enabled\n",
      "\n",
      "Adjusting data for anisotropy...\n",
      "Initializing variogram model...\n",
      "Coordinates type: 'euclidean' \n",
      "\n",
      "Using 'exponential' Variogram Model\n",
      "Partial Sill: 0.0523482590969602\n",
      "Full Sill: 0.2593482590969602\n",
      "Range: 150000\n",
      "Nugget: 0.207 \n",
      "\n"
     ]
    },
    {
     "data": {
      "image/png": "[encoded data removed]",
      "text/plain": [
       "<Figure size 432x288 with 1 Axes>"
      ]
     },
     "metadata": {
      "needs_background": "light"
     },
     "output_type": "display_data"
    },
    {
     "name": "stdout",
     "output_type": "stream",
     "text": [
      "Calculating statistics on variogram model fit...\n",
      "PC08\n",
      "Plotting Enabled\n",
      "\n",
      "Adjusting data for anisotropy...\n",
      "Initializing variogram model...\n",
      "Coordinates type: 'euclidean' \n",
      "\n",
      "Using 'exponential' Variogram Model\n",
      "Partial Sill: 0.04917369588860271\n",
      "Full Sill: 0.24717369588860272\n",
      "Range: 130000\n",
      "Nugget: 0.198 \n",
      "\n"
     ]
    },
    {
     "data": {
      "image/png": "[encoded data removed]",
      "text/plain": [
       "<Figure size 432x288 with 1 Axes>"
      ]
     },
     "metadata": {
      "needs_background": "light"
     },
     "output_type": "display_data"
    },
    {
     "name": "stdout",
     "output_type": "stream",
     "text": [
      "Calculating statistics on variogram model fit...\n",
      "PC09\n",
      "Plotting Enabled\n",
      "\n",
      "Adjusting data for anisotropy...\n",
      "Initializing variogram model...\n",
      "Coordinates type: 'euclidean' \n",
      "\n",
      "Using 'exponential' Variogram Model\n",
      "Partial Sill: 0.04629474129209944\n",
      "Full Sill: 0.15329474129209944\n",
      "Range: 140000\n",
      "Nugget: 0.107 \n",
      "\n"
     ]
    },
    {
     "data": {
      "image/png": "[encoded data removed]",
      "text/plain": [
       "<Figure size 432x288 with 1 Axes>"
      ]
     },
     "metadata": {
      "needs_background": "light"
     },
     "output_type": "display_data"
    },
    {
     "name": "stdout",
     "output_type": "stream",
     "text": [
      "Calculating statistics on variogram model fit...\n",
      "PC10\n",
      "Plotting Enabled\n",
      "\n",
      "Adjusting data for anisotropy...\n",
      "Initializing variogram model...\n",
      "Coordinates type: 'euclidean' \n",
      "\n",
      "Using 'exponential' Variogram Model\n",
      "Partial Sill: 0.06931180620240328\n",
      "Full Sill: 0.06931180620240328\n",
      "Range: 100000\n",
      "Nugget: 0.0 \n",
      "\n"
     ]
    },
    {
     "data": {
      "image/png": "[encoded data removed]",
      "text/plain": [
       "<Figure size 432x288 with 1 Axes>"
      ]
     },
     "metadata": {
      "needs_background": "light"
     },
     "output_type": "display_data"
    },
    {
     "name": "stdout",
     "output_type": "stream",
     "text": [
      "Calculating statistics on variogram model fit...\n",
      "PC11\n",
      "Plotting Enabled\n",
      "\n",
      "Adjusting data for anisotropy...\n",
      "Initializing variogram model...\n",
      "Coordinates type: 'euclidean' \n",
      "\n",
      "Using 'exponential' Variogram Model\n",
      "Partial Sill: 0.01904822657600242\n",
      "Full Sill: 0.01904822657600242\n",
      "Range: 100000\n",
      "Nugget: 0.0 \n",
      "\n"
     ]
    },
    {
     "data": {
      "image/png": "[encoded data removed]",
      "text/plain": [
       "<Figure size 432x288 with 1 Axes>"
      ]
     },
     "metadata": {
      "needs_background": "light"
     },
     "output_type": "display_data"
    },
    {
     "name": "stdout",
     "output_type": "stream",
     "text": [
      "Calculating statistics on variogram model fit...\n",
      "PC12\n",
      "Plotting Enabled\n",
      "\n",
      "Adjusting data for anisotropy...\n",
      "Initializing variogram model...\n",
      "Coordinates type: 'euclidean' \n",
      "\n",
      "Using 'exponential' Variogram Model\n",
      "Partial Sill: 0.005229195763518417\n",
      "Full Sill: 0.005229195763518417\n",
      "Range: 100000\n",
      "Nugget: 0.0 \n",
      "\n"
     ]
    },
    {
     "data": {
      "image/png": "[encoded data removed]",
      "text/plain": [
       "<Figure size 432x288 with 1 Axes>"
      ]
     },
     "metadata": {
      "needs_background": "light"
     },
     "output_type": "display_data"
    },
    {
     "name": "stdout",
     "output_type": "stream",
     "text": [
      "Calculating statistics on variogram model fit...\n",
      "Wall time: 7.41 s\n"
     ]
    }
   ],
   "source": [
    "%%time\n",
    "# Initialize empty dictionary\n",
    "variograms = {}\n",
    "\n",
    "# Loop though the diiferent principal components\n",
    "for component in mineralogy_pca_df.columns.tolist()[:-1]:\n",
    "    print(component)\n",
    "    # Subset principal component to use\n",
    "    data = mineralogy_pca_df.iloc[:, int(component[-1])-1].values\n",
    "    variograms[component] = \\\n",
    "        OrdinaryKriging(X, Y, data,\n",
    "                        variogram_model='exponential',\n",
    "                        variogram_parameters=variogram_model_parameters[component],\n",
    "                        nlags=n_lags,\n",
    "                        verbose=True,\n",
    "                        enable_statistics=False,\n",
    "                        enable_plotting=True,\n",
    "                        weight=True,\n",
    "                        saveplot=True,\n",
    "                        coordinates_type='euclidean',\n",
    "                        saveloc=\"../_FIGURES/variograms/\",\n",
    "                        principal_component=component,\n",
    "                        pluton=group_name,\n",
    "                        show_nlag_pairs=False, # Turn off displaying number of lag pairs in lag bin\n",
    "                        show_range_determine_guide=True, # 0.95 * sill highlighted with blue line to help determining range\n",
    "                        range_estimate=150000) # Pass in value in meters to display a line at range estimate; set value to None to not display line\n",
    "    \n",
    "# NOTE that ideally Q1 is close to zero, Q2 is close to 1, and cR is as small as possible."
   ]
  },
  {
   "cell_type": "markdown",
   "metadata": {},
   "source": [
    "## Leave One Out Cross Validation (LOOCV) of PCA\n",
    "____"
   ]
  },
  {
   "cell_type": "code",
   "execution_count": 600,
   "metadata": {},
   "outputs": [],
   "source": [
    "# If you have run the cross validation before you can load the results by\n",
    "# running this cell and don't have to run the next cell anymore.\n",
    "CV_results = preproc.load_obj(\"CV_results_fast\")"
   ]
  },
  {
   "cell_type": "markdown",
   "metadata": {},
   "source": [
    "**The error below should be fixed now. --> Confirmed, but other error due to NaN values? --> Actual error is also related to linalg error from above**\n",
    "\n",
    "**The cv_param°dict has been rewritten so that the parameters can be set for each PC.  \n",
    "Was not sure about the numbers of PCs that you are going to use so I quickly created a loop since the parameters you use aree the same over all PCs (except for variogram_model_parameters).**\n",
    "\n",
    "**Also made a small change in the function that gets called.  \n",
    "Basically what happened was that a list was being passed with one item whereas it just expected that one item (without being in a list).  \n",
    "So just added 'list_name[0]' in the function instead of 'list_name' and all should be good now.**"
   ]
  },
  {
   "cell_type": "code",
   "execution_count": 601,
   "metadata": {},
   "outputs": [],
   "source": [
    "# Use this cross validation to check the hyper-parameters of your chosen variogram model \n",
    "# such as the search_radius, variogram_model, lag_bins etc.\n",
    "\n",
    "# Cross validation parameter dictionary to use\n",
    "# You can remove or add options here which will decrease or increase the number \n",
    "# of combinations of parameters the cross validation will run\n",
    "cv_param_dict = {}\n",
    "\n",
    "for component in mineralogy_pca_df.columns.tolist()[:-1]:\n",
    "    cv_param_dict[component] = {\"method\": [\"ordinary\"],\n",
    "                                \"variogram_model\": [\"exponential\", \"spherical\"],\n",
    "                                \"variogram_model_parameters\": [variogram_model_parameters[component]],\n",
    "                                \"nlags\": [n_lags],\n",
    "                                \"weight\": [True],\n",
    "                                \"n_closest_points\": [number_of_control_points],\n",
    "                                \"search_radius\": [range_[0]]\n",
    "                                }\n",
    "\n",
    "# The CV function below uses parallel processing to speed things up\n",
    "# Your CPU will thus reach 100% probably\n",
    "# To reduce the number of parallel processes to use you can change the following value\n",
    "# Defaults to -1 to use all available CPU cores; change to number between 1 and 8 e.g. \n",
    "# depending on how many cores your CPU has\n",
    "n_jobs = -1 "
   ]
  },
  {
   "cell_type": "code",
   "execution_count": 602,
   "metadata": {},
   "outputs": [
    {
     "name": "stdout",
     "output_type": "stream",
     "text": [
      "PC01\n",
      "Fitting 10 folds for each of 2 candidates, totalling 20 fits\n"
     ]
    },
    {
     "name": "stderr",
     "output_type": "stream",
     "text": [
      "[Parallel(n_jobs=-1)]: Using backend LokyBackend with 8 concurrent workers.\n",
      "[Parallel(n_jobs=-1)]: Done   2 tasks      | elapsed:    5.8s\n",
      "[Parallel(n_jobs=-1)]: Done  10 out of  20 | elapsed:    9.1s remaining:    9.1s\n",
      "[Parallel(n_jobs=-1)]: Done  15 out of  20 | elapsed:    9.4s remaining:    3.1s\n",
      "[Parallel(n_jobs=-1)]: Done  20 out of  20 | elapsed:   11.2s remaining:    0.0s\n",
      "[Parallel(n_jobs=-1)]: Done  20 out of  20 | elapsed:   11.2s finished\n",
      "C:\\Users\\Sebastian\\Anaconda3\\envs\\main\\lib\\site-packages\\sklearn\\model_selection\\_search.py:825: FutureWarning: The parameter 'iid' is deprecated in 0.22 and will be removed in 0.24.\n",
      "  \"removed in 0.24.\", FutureWarning\n"
     ]
    },
    {
     "name": "stdout",
     "output_type": "stream",
     "text": [
      "PC02\n",
      "Fitting 10 folds for each of 2 candidates, totalling 20 fits\n"
     ]
    },
    {
     "name": "stderr",
     "output_type": "stream",
     "text": [
      "[Parallel(n_jobs=-1)]: Using backend LokyBackend with 8 concurrent workers.\n",
      "[Parallel(n_jobs=-1)]: Done   2 tasks      | elapsed:    3.2s\n",
      "[Parallel(n_jobs=-1)]: Done  10 out of  20 | elapsed:    6.4s remaining:    6.4s\n",
      "[Parallel(n_jobs=-1)]: Done  15 out of  20 | elapsed:    6.7s remaining:    2.2s\n",
      "[Parallel(n_jobs=-1)]: Done  20 out of  20 | elapsed:    8.8s remaining:    0.0s\n",
      "[Parallel(n_jobs=-1)]: Done  20 out of  20 | elapsed:    8.8s finished\n"
     ]
    },
    {
     "name": "stdout",
     "output_type": "stream",
     "text": [
      "PC03\n",
      "Fitting 10 folds for each of 2 candidates, totalling 20 fits\n"
     ]
    },
    {
     "name": "stderr",
     "output_type": "stream",
     "text": [
      "[Parallel(n_jobs=-1)]: Using backend LokyBackend with 8 concurrent workers.\n",
      "[Parallel(n_jobs=-1)]: Done   2 tasks      | elapsed:    3.1s\n",
      "[Parallel(n_jobs=-1)]: Done  10 out of  20 | elapsed:    6.4s remaining:    6.4s\n",
      "[Parallel(n_jobs=-1)]: Done  15 out of  20 | elapsed:    6.6s remaining:    2.1s\n"
     ]
    },
    {
     "name": "stdout",
     "output_type": "stream",
     "text": [
      "Wall time: 29.4 s\n"
     ]
    },
    {
     "name": "stderr",
     "output_type": "stream",
     "text": [
      "[Parallel(n_jobs=-1)]: Done  20 out of  20 | elapsed:    8.6s remaining:    0.0s\n",
      "[Parallel(n_jobs=-1)]: Done  20 out of  20 | elapsed:    8.6s finished\n"
     ]
    }
   ],
   "source": [
    "%%time\n",
    "# Run CV and get estimators (using default MSE scorer)\n",
    "\n",
    "# Instead of running the CV for all the PCs, let's start with only the first 3 \n",
    "# to get an idea of what are the best parameters to use for the first 3 PCs.\n",
    "# In a later step we can then obtain the best parameters for all PCs that have \n",
    "# a sensible variogram; here this would mean up to and including PC09.\n",
    "# To specify which PCs to use, you can pass them in as list to the 'components_to_use' variable\n",
    "\n",
    "# Another change I've made, is that instead of performing leave-one-out-CV \n",
    "# where the train set is equal to n_sample - 1 and the test set is equal to 1,\n",
    "# it makes sense to here use a different strategy, since you're dealing with many more samples.\n",
    "# Therefore I've included the 'cv_folds' parameter where you can specify \n",
    "# the number of train/test groups you want to use during CV\n",
    "# Let's start with ten groups, which basically means that \n",
    "# you use 90% of the samples as train set and 10% as test test\n",
    "# and this in 10 combinations.\n",
    "\n",
    "# A a later stage we could change the CV to use a statified cv_fold\n",
    "# meaning that it ensures for example that for every train/test grouping of the 10 groups\n",
    "# equal numbers of samples of spcified grouping variable are used \n",
    "# (for example your time category or classification later on)\n",
    "\n",
    "# I've also included the '%%time' statement at the beginning of the cell,\n",
    "# so that at the end of the calculation you can see how much time it took.\n",
    "\n",
    "# Have a look here if you want some background info on the CV method used:\n",
    "# https://scikit-learn.org/stable/modules/generated/sklearn.model_selection.GridSearchCV.html\n",
    "\n",
    "estimators = loocv.perform_loocv(mineralogy_pca_df,\n",
    "                                 coordinates_utm,\n",
    "                                 cv_param_dict,\n",
    "                                 n_jobs=n_jobs,\n",
    "                                 cv_folds=10,\n",
    "                                 components_to_use=[\"PC01\", \"PC02\", \"PC03\"])"
   ]
  },
  {
   "cell_type": "code",
   "execution_count": 603,
   "metadata": {},
   "outputs": [
    {
     "name": "stdout",
     "output_type": "stream",
     "text": [
      "PC01\n",
      "Fitting 10 folds for each of 2 candidates, totalling 20 fits\n"
     ]
    },
    {
     "name": "stderr",
     "output_type": "stream",
     "text": [
      "[Parallel(n_jobs=-1)]: Using backend LokyBackend with 8 concurrent workers.\n",
      "[Parallel(n_jobs=-1)]: Done   2 tasks      | elapsed:    3.2s\n",
      "[Parallel(n_jobs=-1)]: Done  10 out of  20 | elapsed:    6.5s remaining:    6.5s\n",
      "[Parallel(n_jobs=-1)]: Done  15 out of  20 | elapsed:    6.7s remaining:    2.2s\n",
      "[Parallel(n_jobs=-1)]: Done  20 out of  20 | elapsed:    8.6s remaining:    0.0s\n",
      "[Parallel(n_jobs=-1)]: Done  20 out of  20 | elapsed:    8.6s finished\n",
      "[Parallel(n_jobs=-1)]: Using backend LokyBackend with 8 concurrent workers.\n"
     ]
    },
    {
     "name": "stdout",
     "output_type": "stream",
     "text": [
      "PC02\n",
      "Fitting 10 folds for each of 2 candidates, totalling 20 fits\n"
     ]
    },
    {
     "name": "stderr",
     "output_type": "stream",
     "text": [
      "[Parallel(n_jobs=-1)]: Done   2 tasks      | elapsed:    3.1s\n",
      "[Parallel(n_jobs=-1)]: Done  10 out of  20 | elapsed:    6.4s remaining:    6.4s\n",
      "[Parallel(n_jobs=-1)]: Done  15 out of  20 | elapsed:    6.9s remaining:    2.2s\n",
      "[Parallel(n_jobs=-1)]: Done  20 out of  20 | elapsed:    8.6s remaining:    0.0s\n",
      "[Parallel(n_jobs=-1)]: Done  20 out of  20 | elapsed:    8.6s finished\n"
     ]
    },
    {
     "name": "stdout",
     "output_type": "stream",
     "text": [
      "PC03\n",
      "Fitting 10 folds for each of 2 candidates, totalling 20 fits\n"
     ]
    },
    {
     "name": "stderr",
     "output_type": "stream",
     "text": [
      "[Parallel(n_jobs=-1)]: Using backend LokyBackend with 8 concurrent workers.\n",
      "[Parallel(n_jobs=-1)]: Done   2 tasks      | elapsed:    3.2s\n",
      "[Parallel(n_jobs=-1)]: Done  10 out of  20 | elapsed:    6.5s remaining:    6.5s\n",
      "[Parallel(n_jobs=-1)]: Done  15 out of  20 | elapsed:    6.6s remaining:    2.1s\n",
      "[Parallel(n_jobs=-1)]: Done  20 out of  20 | elapsed:    8.6s remaining:    0.0s\n",
      "[Parallel(n_jobs=-1)]: Done  20 out of  20 | elapsed:    8.6s finished\n"
     ]
    },
    {
     "name": "stdout",
     "output_type": "stream",
     "text": [
      "PC04\n",
      "Fitting 10 folds for each of 2 candidates, totalling 20 fits\n"
     ]
    },
    {
     "name": "stderr",
     "output_type": "stream",
     "text": [
      "[Parallel(n_jobs=-1)]: Using backend LokyBackend with 8 concurrent workers.\n",
      "[Parallel(n_jobs=-1)]: Done   2 tasks      | elapsed:    3.2s\n",
      "[Parallel(n_jobs=-1)]: Done  10 out of  20 | elapsed:    6.5s remaining:    6.5s\n",
      "[Parallel(n_jobs=-1)]: Done  15 out of  20 | elapsed:    6.7s remaining:    2.2s\n",
      "[Parallel(n_jobs=-1)]: Done  20 out of  20 | elapsed:    8.7s remaining:    0.0s\n",
      "[Parallel(n_jobs=-1)]: Done  20 out of  20 | elapsed:    8.7s finished\n"
     ]
    },
    {
     "name": "stdout",
     "output_type": "stream",
     "text": [
      "PC05\n",
      "Fitting 10 folds for each of 2 candidates, totalling 20 fits\n"
     ]
    },
    {
     "name": "stderr",
     "output_type": "stream",
     "text": [
      "[Parallel(n_jobs=-1)]: Using backend LokyBackend with 8 concurrent workers.\n",
      "[Parallel(n_jobs=-1)]: Done   2 tasks      | elapsed:    3.2s\n",
      "[Parallel(n_jobs=-1)]: Done  10 out of  20 | elapsed:    6.5s remaining:    6.5s\n",
      "[Parallel(n_jobs=-1)]: Done  15 out of  20 | elapsed:    6.7s remaining:    2.2s\n",
      "[Parallel(n_jobs=-1)]: Done  20 out of  20 | elapsed:    8.7s remaining:    0.0s\n",
      "[Parallel(n_jobs=-1)]: Done  20 out of  20 | elapsed:    8.7s finished\n"
     ]
    },
    {
     "name": "stdout",
     "output_type": "stream",
     "text": [
      "PC06\n",
      "Fitting 10 folds for each of 2 candidates, totalling 20 fits\n"
     ]
    },
    {
     "name": "stderr",
     "output_type": "stream",
     "text": [
      "[Parallel(n_jobs=-1)]: Using backend LokyBackend with 8 concurrent workers.\n",
      "[Parallel(n_jobs=-1)]: Done   2 tasks      | elapsed:    3.1s\n",
      "[Parallel(n_jobs=-1)]: Done  10 out of  20 | elapsed:    6.5s remaining:    6.5s\n",
      "[Parallel(n_jobs=-1)]: Done  15 out of  20 | elapsed:    6.7s remaining:    2.2s\n",
      "[Parallel(n_jobs=-1)]: Done  20 out of  20 | elapsed:    8.7s remaining:    0.0s\n",
      "[Parallel(n_jobs=-1)]: Done  20 out of  20 | elapsed:    8.7s finished\n",
      "[Parallel(n_jobs=-1)]: Using backend LokyBackend with 8 concurrent workers.\n"
     ]
    },
    {
     "name": "stdout",
     "output_type": "stream",
     "text": [
      "PC07\n",
      "Fitting 10 folds for each of 2 candidates, totalling 20 fits\n"
     ]
    },
    {
     "name": "stderr",
     "output_type": "stream",
     "text": [
      "[Parallel(n_jobs=-1)]: Done   2 tasks      | elapsed:    3.1s\n",
      "[Parallel(n_jobs=-1)]: Done  10 out of  20 | elapsed:    6.4s remaining:    6.4s\n",
      "[Parallel(n_jobs=-1)]: Done  15 out of  20 | elapsed:    6.8s remaining:    2.2s\n",
      "[Parallel(n_jobs=-1)]: Done  20 out of  20 | elapsed:    8.8s remaining:    0.0s\n",
      "[Parallel(n_jobs=-1)]: Done  20 out of  20 | elapsed:    8.8s finished\n",
      "[Parallel(n_jobs=-1)]: Using backend LokyBackend with 8 concurrent workers.\n"
     ]
    },
    {
     "name": "stdout",
     "output_type": "stream",
     "text": [
      "PC08\n",
      "Fitting 10 folds for each of 2 candidates, totalling 20 fits\n"
     ]
    },
    {
     "name": "stderr",
     "output_type": "stream",
     "text": [
      "[Parallel(n_jobs=-1)]: Done   2 tasks      | elapsed:    3.2s\n",
      "[Parallel(n_jobs=-1)]: Done  10 out of  20 | elapsed:    6.6s remaining:    6.6s\n",
      "[Parallel(n_jobs=-1)]: Done  15 out of  20 | elapsed:    6.9s remaining:    2.2s\n",
      "[Parallel(n_jobs=-1)]: Done  20 out of  20 | elapsed:    8.7s remaining:    0.0s\n",
      "[Parallel(n_jobs=-1)]: Done  20 out of  20 | elapsed:    8.7s finished\n"
     ]
    },
    {
     "name": "stdout",
     "output_type": "stream",
     "text": [
      "PC09\n",
      "Fitting 10 folds for each of 2 candidates, totalling 20 fits\n"
     ]
    },
    {
     "name": "stderr",
     "output_type": "stream",
     "text": [
      "[Parallel(n_jobs=-1)]: Using backend LokyBackend with 8 concurrent workers.\n",
      "[Parallel(n_jobs=-1)]: Done   2 tasks      | elapsed:    3.2s\n",
      "[Parallel(n_jobs=-1)]: Done  10 out of  20 | elapsed:    6.6s remaining:    6.6s\n",
      "[Parallel(n_jobs=-1)]: Done  15 out of  20 | elapsed:    6.8s remaining:    2.2s\n"
     ]
    },
    {
     "name": "stdout",
     "output_type": "stream",
     "text": [
      "Wall time: 1min 20s\n"
     ]
    },
    {
     "name": "stderr",
     "output_type": "stream",
     "text": [
      "[Parallel(n_jobs=-1)]: Done  20 out of  20 | elapsed:    8.8s remaining:    0.0s\n",
      "[Parallel(n_jobs=-1)]: Done  20 out of  20 | elapsed:    8.8s finished\n"
     ]
    }
   ],
   "source": [
    "%%time\n",
    "# Run CV and get estimators (using default MSE scorer)\n",
    "\n",
    "# Instead of running the CV for all the PCs, let's start with only the first 3 \n",
    "# to get an idea of what are the best parameters to use for the first 3 PCs.\n",
    "# In a later step we can then obtain the best parameters for all PCs that have \n",
    "# a sensible variogram; here this would mean up to and including PC09.\n",
    "# To specify which PCs to use, you can pass them in as list to the 'components_to_use' variable\n",
    "\n",
    "# Another change I've made, is that instead of performing leave-one-out-CV \n",
    "# where the train set is equal to n_sample - 1 and the test set is equal to 1,\n",
    "# it makes sense to here use a different strategy, since you're dealing with many more samples.\n",
    "# Therefore I've included the 'cv_folds' parameter where you can specify \n",
    "# the number of train/test groups you want to use during CV\n",
    "# Let's start with ten groups, which basically means that \n",
    "# you use 90% of the samples as train set and 10% as test test\n",
    "# and this in 10 combinations.\n",
    "\n",
    "# A a later stage we could change the CV to use a statified cv_fold\n",
    "# meaning that it ensures for example that for every train/test grouping of the 10 groups\n",
    "# equal numbers of samples of spcified grouping variable are used \n",
    "# (for example your time category or classification later on)\n",
    "\n",
    "# I've also included the '%%time' statement at the beginning of the cell,\n",
    "# so that at the end of the calculation you can see how much time it took.\n",
    "\n",
    "# Have a look here if you want some background info on the CV method used:\n",
    "# https://scikit-learn.org/stable/modules/generated/sklearn.model_selection.GridSearchCV.html\n",
    "\n",
    "estimators = loocv.perform_loocv(mineralogy_pca_df,\n",
    "                                 coordinates_utm,\n",
    "                                 cv_param_dict,\n",
    "                                 n_jobs=n_jobs,\n",
    "                                 cv_folds=10,\n",
    "                                 components_to_use=[f\"PC0{i}\" for i in range(1, 10)])"
   ]
  },
  {
   "cell_type": "code",
   "execution_count": 604,
   "metadata": {},
   "outputs": [],
   "source": [
    "# Convert estimators to dict of dataframes\n",
    "CV_results = loocv.convert_scores_to_df(estimators)"
   ]
  },
  {
   "cell_type": "code",
   "execution_count": 605,
   "metadata": {},
   "outputs": [],
   "source": [
    "# Save CV_results to pickle file for easy use later\n",
    "# These are the results from the 56min CV above (with only first 3 PCs)\n",
    "preproc.save_obj(CV_results, \"CV_results_summarized\")"
   ]
  },
  {
   "cell_type": "code",
   "execution_count": 606,
   "metadata": {},
   "outputs": [],
   "source": [
    "# Save CV_results to pickle file for easy use later\n",
    "# These are the results from the 2min CV above (with only first 9 PCs, simple parameters)\n",
    "preproc.save_obj(CV_results, \"CV_results_fast\")"
   ]
  },
  {
   "cell_type": "code",
   "execution_count": 607,
   "metadata": {},
   "outputs": [
    {
     "name": "stdout",
     "output_type": "stream",
     "text": [
      "PC01\n",
      "rank_test_score                    2\n",
      "mean_test_score              1.80393\n",
      "std_test_score                1.3477\n",
      "mean_train_score         8.31148e-31\n",
      "param_method                ordinary\n",
      "param_variogram_model    exponential\n",
      "param_search_radius           130000\n",
      "Name: 0, dtype: object\n",
      "\n",
      "\n",
      "PC02\n",
      "rank_test_score                    2\n",
      "mean_test_score              1.06042\n",
      "std_test_score              0.204659\n",
      "mean_train_score         7.71224e-31\n",
      "param_method                ordinary\n",
      "param_variogram_model    exponential\n",
      "param_search_radius           130000\n",
      "Name: 0, dtype: object\n",
      "\n",
      "\n",
      "PC03\n",
      "rank_test_score                    2\n",
      "mean_test_score             0.689719\n",
      "std_test_score               0.14187\n",
      "mean_train_score                   0\n",
      "param_method                ordinary\n",
      "param_variogram_model    exponential\n",
      "param_search_radius           130000\n",
      "Name: 0, dtype: object\n",
      "\n",
      "\n",
      "PC04\n",
      "rank_test_score                    2\n",
      "mean_test_score              0.54908\n",
      "std_test_score              0.118626\n",
      "mean_train_score                   0\n",
      "param_method                ordinary\n",
      "param_variogram_model    exponential\n",
      "param_search_radius           130000\n",
      "Name: 0, dtype: object\n",
      "\n",
      "\n",
      "PC05\n",
      "rank_test_score                    2\n",
      "mean_test_score              0.44599\n",
      "std_test_score             0.0869488\n",
      "mean_train_score                   0\n",
      "param_method                ordinary\n",
      "param_variogram_model    exponential\n",
      "param_search_radius           130000\n",
      "Name: 0, dtype: object\n",
      "\n",
      "\n",
      "PC06\n",
      "rank_test_score                    2\n",
      "mean_test_score              0.33528\n",
      "std_test_score             0.0584848\n",
      "mean_train_score                   0\n",
      "param_method                ordinary\n",
      "param_variogram_model    exponential\n",
      "param_search_radius           130000\n",
      "Name: 0, dtype: object\n",
      "\n",
      "\n",
      "PC07\n",
      "rank_test_score                    2\n",
      "mean_test_score             0.256734\n",
      "std_test_score              0.134139\n",
      "mean_train_score                   0\n",
      "param_method                ordinary\n",
      "param_variogram_model    exponential\n",
      "param_search_radius           130000\n",
      "Name: 0, dtype: object\n",
      "\n",
      "\n",
      "PC08\n",
      "rank_test_score                    2\n",
      "mean_test_score             0.245113\n",
      "std_test_score              0.141612\n",
      "mean_train_score                   0\n",
      "param_method                ordinary\n",
      "param_variogram_model    exponential\n",
      "param_search_radius           130000\n",
      "Name: 0, dtype: object\n",
      "\n",
      "\n",
      "PC09\n",
      "rank_test_score                    2\n",
      "mean_test_score             0.142623\n",
      "std_test_score             0.0783072\n",
      "mean_train_score                   0\n",
      "param_method                ordinary\n",
      "param_variogram_model    exponential\n",
      "param_search_radius           130000\n",
      "Name: 0, dtype: object\n",
      "\n",
      "\n"
     ]
    }
   ],
   "source": [
    "# Quick look at best results per PC\n",
    "loocv.print_best_scores(CV_results)"
   ]
  },
  {
   "cell_type": "markdown",
   "metadata": {},
   "source": [
    "## Calculating predictions for best model\n",
    "____"
   ]
  },
  {
   "cell_type": "code",
   "execution_count": 390,
   "metadata": {},
   "outputs": [],
   "source": [
    "# Here you can specify the components and search_radii you want to use \n",
    "# when performing the kriging and performing the postprocessing calculations\n",
    "components_to_use = [f\"PC0{i}\" for i in range(1, 10)]\n",
    "search_radii = [range_[0]]"
   ]
  },
  {
   "cell_type": "code",
   "execution_count": 391,
   "metadata": {},
   "outputs": [],
   "source": [
    "estimators_final = {}\n",
    "\n",
    "for component in components_to_use:  # Changed to only first 9 PCs\n",
    "    for radius in search_radii:  # Removed critical_distance\n",
    "        for variable_to_fit in [\"estimates\", \"variances\"]:\n",
    "\n",
    "            estimators_final[f\"{component}_{radius}_{variable_to_fit}\"] = \\\n",
    "                Krige(method='ordinary',\n",
    "                      variogram_model=variogram_model,\n",
    "                      variogram_model_parameters=variogram_model_parameters[component],\n",
    "                      nlags=n_lags,\n",
    "                      weight=True,\n",
    "                      n_closest_points=number_of_control_points,\n",
    "                      search_radius=radius,\n",
    "                      variable_to_fit=variable_to_fit)"
   ]
  },
  {
   "cell_type": "code",
   "execution_count": 392,
   "metadata": {},
   "outputs": [],
   "source": [
    "# Run this cell if you have previously run the next cell and saved its outcome\n",
    "kriging_predictions = preproc.load_obj(\"kriging_predictions\")"
   ]
  },
  {
   "cell_type": "code",
   "execution_count": 393,
   "metadata": {},
   "outputs": [
    {
     "name": "stdout",
     "output_type": "stream",
     "text": [
      "PC01 130000 estimates\n"
     ]
    },
    {
     "name": "stderr",
     "output_type": "stream",
     "text": [
      "[Parallel(n_jobs=-1)]: Using backend LokyBackend with 8 concurrent workers.\n",
      "[Parallel(n_jobs=-1)]: Done   4 out of  10 | elapsed:    1.0s remaining:    1.5s\n",
      "[Parallel(n_jobs=-1)]: Done   7 out of  10 | elapsed:    1.0s remaining:    0.4s\n",
      "[Parallel(n_jobs=-1)]: Done  10 out of  10 | elapsed:    1.3s remaining:    0.0s\n",
      "[Parallel(n_jobs=-1)]: Done  10 out of  10 | elapsed:    1.3s finished\n",
      "[Parallel(n_jobs=-1)]: Using backend LokyBackend with 8 concurrent workers.\n"
     ]
    },
    {
     "name": "stdout",
     "output_type": "stream",
     "text": [
      "PC01 130000 variances\n"
     ]
    },
    {
     "name": "stderr",
     "output_type": "stream",
     "text": [
      "[Parallel(n_jobs=-1)]: Done   4 out of  10 | elapsed:    1.0s remaining:    1.5s\n",
      "[Parallel(n_jobs=-1)]: Done   7 out of  10 | elapsed:    1.0s remaining:    0.4s\n",
      "[Parallel(n_jobs=-1)]: Done  10 out of  10 | elapsed:    1.3s remaining:    0.0s\n",
      "[Parallel(n_jobs=-1)]: Done  10 out of  10 | elapsed:    1.3s finished\n",
      "[Parallel(n_jobs=-1)]: Using backend LokyBackend with 8 concurrent workers.\n"
     ]
    },
    {
     "name": "stdout",
     "output_type": "stream",
     "text": [
      "PC02 130000 estimates\n"
     ]
    },
    {
     "name": "stderr",
     "output_type": "stream",
     "text": [
      "[Parallel(n_jobs=-1)]: Done   4 out of  10 | elapsed:    1.0s remaining:    1.5s\n",
      "[Parallel(n_jobs=-1)]: Done   7 out of  10 | elapsed:    1.0s remaining:    0.4s\n",
      "[Parallel(n_jobs=-1)]: Done  10 out of  10 | elapsed:    1.3s remaining:    0.0s\n",
      "[Parallel(n_jobs=-1)]: Done  10 out of  10 | elapsed:    1.3s finished\n",
      "[Parallel(n_jobs=-1)]: Using backend LokyBackend with 8 concurrent workers.\n"
     ]
    },
    {
     "name": "stdout",
     "output_type": "stream",
     "text": [
      "PC02 130000 variances\n"
     ]
    },
    {
     "name": "stderr",
     "output_type": "stream",
     "text": [
      "[Parallel(n_jobs=-1)]: Done   4 out of  10 | elapsed:    1.0s remaining:    1.5s\n",
      "[Parallel(n_jobs=-1)]: Done   7 out of  10 | elapsed:    1.0s remaining:    0.4s\n",
      "[Parallel(n_jobs=-1)]: Done  10 out of  10 | elapsed:    1.3s remaining:    0.0s\n",
      "[Parallel(n_jobs=-1)]: Done  10 out of  10 | elapsed:    1.3s finished\n",
      "[Parallel(n_jobs=-1)]: Using backend LokyBackend with 8 concurrent workers.\n"
     ]
    },
    {
     "name": "stdout",
     "output_type": "stream",
     "text": [
      "PC03 130000 estimates\n"
     ]
    },
    {
     "name": "stderr",
     "output_type": "stream",
     "text": [
      "[Parallel(n_jobs=-1)]: Done   4 out of  10 | elapsed:    0.9s remaining:    1.5s\n",
      "[Parallel(n_jobs=-1)]: Done   7 out of  10 | elapsed:    1.0s remaining:    0.4s\n",
      "[Parallel(n_jobs=-1)]: Done  10 out of  10 | elapsed:    1.3s remaining:    0.0s\n",
      "[Parallel(n_jobs=-1)]: Done  10 out of  10 | elapsed:    1.3s finished\n",
      "[Parallel(n_jobs=-1)]: Using backend LokyBackend with 8 concurrent workers.\n"
     ]
    },
    {
     "name": "stdout",
     "output_type": "stream",
     "text": [
      "PC03 130000 variances\n"
     ]
    },
    {
     "name": "stderr",
     "output_type": "stream",
     "text": [
      "[Parallel(n_jobs=-1)]: Done   4 out of  10 | elapsed:    1.0s remaining:    1.5s\n",
      "[Parallel(n_jobs=-1)]: Done   7 out of  10 | elapsed:    1.0s remaining:    0.4s\n",
      "[Parallel(n_jobs=-1)]: Done  10 out of  10 | elapsed:    1.3s remaining:    0.0s\n",
      "[Parallel(n_jobs=-1)]: Done  10 out of  10 | elapsed:    1.3s finished\n",
      "[Parallel(n_jobs=-1)]: Using backend LokyBackend with 8 concurrent workers.\n"
     ]
    },
    {
     "name": "stdout",
     "output_type": "stream",
     "text": [
      "PC04 130000 estimates\n"
     ]
    },
    {
     "name": "stderr",
     "output_type": "stream",
     "text": [
      "[Parallel(n_jobs=-1)]: Done   4 out of  10 | elapsed:    1.0s remaining:    1.5s\n",
      "[Parallel(n_jobs=-1)]: Done   7 out of  10 | elapsed:    1.0s remaining:    0.4s\n",
      "[Parallel(n_jobs=-1)]: Done  10 out of  10 | elapsed:    1.3s remaining:    0.0s\n",
      "[Parallel(n_jobs=-1)]: Done  10 out of  10 | elapsed:    1.3s finished\n",
      "[Parallel(n_jobs=-1)]: Using backend LokyBackend with 8 concurrent workers.\n"
     ]
    },
    {
     "name": "stdout",
     "output_type": "stream",
     "text": [
      "PC04 130000 variances\n"
     ]
    },
    {
     "name": "stderr",
     "output_type": "stream",
     "text": [
      "[Parallel(n_jobs=-1)]: Done   4 out of  10 | elapsed:    1.0s remaining:    1.5s\n",
      "[Parallel(n_jobs=-1)]: Done   7 out of  10 | elapsed:    1.0s remaining:    0.4s\n",
      "[Parallel(n_jobs=-1)]: Done  10 out of  10 | elapsed:    1.3s remaining:    0.0s\n",
      "[Parallel(n_jobs=-1)]: Done  10 out of  10 | elapsed:    1.3s finished\n",
      "[Parallel(n_jobs=-1)]: Using backend LokyBackend with 8 concurrent workers.\n"
     ]
    },
    {
     "name": "stdout",
     "output_type": "stream",
     "text": [
      "PC05 130000 estimates\n"
     ]
    },
    {
     "name": "stderr",
     "output_type": "stream",
     "text": [
      "[Parallel(n_jobs=-1)]: Done   4 out of  10 | elapsed:    0.9s remaining:    1.4s\n",
      "[Parallel(n_jobs=-1)]: Done   7 out of  10 | elapsed:    1.0s remaining:    0.4s\n",
      "[Parallel(n_jobs=-1)]: Done  10 out of  10 | elapsed:    1.3s remaining:    0.0s\n",
      "[Parallel(n_jobs=-1)]: Done  10 out of  10 | elapsed:    1.3s finished\n",
      "[Parallel(n_jobs=-1)]: Using backend LokyBackend with 8 concurrent workers.\n"
     ]
    },
    {
     "name": "stdout",
     "output_type": "stream",
     "text": [
      "PC05 130000 variances\n"
     ]
    },
    {
     "name": "stderr",
     "output_type": "stream",
     "text": [
      "[Parallel(n_jobs=-1)]: Done   4 out of  10 | elapsed:    1.0s remaining:    1.5s\n",
      "[Parallel(n_jobs=-1)]: Done   7 out of  10 | elapsed:    1.0s remaining:    0.4s\n",
      "[Parallel(n_jobs=-1)]: Done  10 out of  10 | elapsed:    1.3s remaining:    0.0s\n",
      "[Parallel(n_jobs=-1)]: Done  10 out of  10 | elapsed:    1.3s finished\n",
      "[Parallel(n_jobs=-1)]: Using backend LokyBackend with 8 concurrent workers.\n"
     ]
    },
    {
     "name": "stdout",
     "output_type": "stream",
     "text": [
      "PC06 130000 estimates\n"
     ]
    },
    {
     "name": "stderr",
     "output_type": "stream",
     "text": [
      "[Parallel(n_jobs=-1)]: Done   4 out of  10 | elapsed:    0.9s remaining:    1.5s\n",
      "[Parallel(n_jobs=-1)]: Done   7 out of  10 | elapsed:    1.0s remaining:    0.4s\n",
      "[Parallel(n_jobs=-1)]: Done  10 out of  10 | elapsed:    1.4s remaining:    0.0s\n",
      "[Parallel(n_jobs=-1)]: Done  10 out of  10 | elapsed:    1.4s finished\n",
      "[Parallel(n_jobs=-1)]: Using backend LokyBackend with 8 concurrent workers.\n"
     ]
    },
    {
     "name": "stdout",
     "output_type": "stream",
     "text": [
      "PC06 130000 variances\n"
     ]
    },
    {
     "name": "stderr",
     "output_type": "stream",
     "text": [
      "[Parallel(n_jobs=-1)]: Done   4 out of  10 | elapsed:    1.0s remaining:    1.5s\n",
      "[Parallel(n_jobs=-1)]: Done   7 out of  10 | elapsed:    1.0s remaining:    0.4s\n",
      "[Parallel(n_jobs=-1)]: Done  10 out of  10 | elapsed:    1.3s remaining:    0.0s\n",
      "[Parallel(n_jobs=-1)]: Done  10 out of  10 | elapsed:    1.3s finished\n",
      "[Parallel(n_jobs=-1)]: Using backend LokyBackend with 8 concurrent workers.\n"
     ]
    },
    {
     "name": "stdout",
     "output_type": "stream",
     "text": [
      "PC07 130000 estimates\n"
     ]
    },
    {
     "name": "stderr",
     "output_type": "stream",
     "text": [
      "[Parallel(n_jobs=-1)]: Done   4 out of  10 | elapsed:    1.0s remaining:    1.5s\n",
      "[Parallel(n_jobs=-1)]: Done   7 out of  10 | elapsed:    1.0s remaining:    0.4s\n",
      "[Parallel(n_jobs=-1)]: Done  10 out of  10 | elapsed:    1.3s remaining:    0.0s\n",
      "[Parallel(n_jobs=-1)]: Done  10 out of  10 | elapsed:    1.3s finished\n",
      "[Parallel(n_jobs=-1)]: Using backend LokyBackend with 8 concurrent workers.\n"
     ]
    },
    {
     "name": "stdout",
     "output_type": "stream",
     "text": [
      "PC07 130000 variances\n"
     ]
    },
    {
     "name": "stderr",
     "output_type": "stream",
     "text": [
      "[Parallel(n_jobs=-1)]: Done   4 out of  10 | elapsed:    0.9s remaining:    1.4s\n",
      "[Parallel(n_jobs=-1)]: Done   7 out of  10 | elapsed:    1.0s remaining:    0.4s\n",
      "[Parallel(n_jobs=-1)]: Done  10 out of  10 | elapsed:    1.3s remaining:    0.0s\n",
      "[Parallel(n_jobs=-1)]: Done  10 out of  10 | elapsed:    1.3s finished\n",
      "[Parallel(n_jobs=-1)]: Using backend LokyBackend with 8 concurrent workers.\n"
     ]
    },
    {
     "name": "stdout",
     "output_type": "stream",
     "text": [
      "PC08 130000 estimates\n"
     ]
    },
    {
     "name": "stderr",
     "output_type": "stream",
     "text": [
      "[Parallel(n_jobs=-1)]: Done   4 out of  10 | elapsed:    0.9s remaining:    1.4s\n",
      "[Parallel(n_jobs=-1)]: Done   7 out of  10 | elapsed:    1.0s remaining:    0.4s\n",
      "[Parallel(n_jobs=-1)]: Done  10 out of  10 | elapsed:    1.3s remaining:    0.0s\n",
      "[Parallel(n_jobs=-1)]: Done  10 out of  10 | elapsed:    1.3s finished\n",
      "[Parallel(n_jobs=-1)]: Using backend LokyBackend with 8 concurrent workers.\n"
     ]
    },
    {
     "name": "stdout",
     "output_type": "stream",
     "text": [
      "PC08 130000 variances\n"
     ]
    },
    {
     "name": "stderr",
     "output_type": "stream",
     "text": [
      "[Parallel(n_jobs=-1)]: Done   4 out of  10 | elapsed:    1.0s remaining:    1.5s\n",
      "[Parallel(n_jobs=-1)]: Done   7 out of  10 | elapsed:    1.0s remaining:    0.4s\n",
      "[Parallel(n_jobs=-1)]: Done  10 out of  10 | elapsed:    1.3s remaining:    0.0s\n",
      "[Parallel(n_jobs=-1)]: Done  10 out of  10 | elapsed:    1.3s finished\n",
      "[Parallel(n_jobs=-1)]: Using backend LokyBackend with 8 concurrent workers.\n"
     ]
    },
    {
     "name": "stdout",
     "output_type": "stream",
     "text": [
      "PC09 130000 estimates\n"
     ]
    },
    {
     "name": "stderr",
     "output_type": "stream",
     "text": [
      "[Parallel(n_jobs=-1)]: Done   4 out of  10 | elapsed:    1.0s remaining:    1.5s\n",
      "[Parallel(n_jobs=-1)]: Done   7 out of  10 | elapsed:    1.0s remaining:    0.4s\n",
      "[Parallel(n_jobs=-1)]: Done  10 out of  10 | elapsed:    1.3s remaining:    0.0s\n",
      "[Parallel(n_jobs=-1)]: Done  10 out of  10 | elapsed:    1.3s finished\n",
      "[Parallel(n_jobs=-1)]: Using backend LokyBackend with 8 concurrent workers.\n"
     ]
    },
    {
     "name": "stdout",
     "output_type": "stream",
     "text": [
      "PC09 130000 variances\n"
     ]
    },
    {
     "name": "stderr",
     "output_type": "stream",
     "text": [
      "[Parallel(n_jobs=-1)]: Done   4 out of  10 | elapsed:    0.9s remaining:    1.4s\n",
      "[Parallel(n_jobs=-1)]: Done   7 out of  10 | elapsed:    1.0s remaining:    0.4s\n"
     ]
    },
    {
     "name": "stdout",
     "output_type": "stream",
     "text": [
      "Wall time: 25.4 s\n"
     ]
    },
    {
     "name": "stderr",
     "output_type": "stream",
     "text": [
      "[Parallel(n_jobs=-1)]: Done  10 out of  10 | elapsed:    1.3s remaining:    0.0s\n",
      "[Parallel(n_jobs=-1)]: Done  10 out of  10 | elapsed:    1.3s finished\n"
     ]
    }
   ],
   "source": [
    "%%time\n",
    "# You can again change the n_jobs to lower the #CPU cores used for parallel processing\n",
    "# Also set the cv_folds variable below\n",
    "cv_folds = 10\n",
    "\n",
    "kriging_predictions = {}\n",
    "\n",
    "for component in components_to_use:  # Changed to only first 9 PCs\n",
    "    for radius in search_radii:  # Removed critical_distance\n",
    "        for variable_to_fit in [\"estimates\", \"variances\"]:\n",
    "            \n",
    "            # Let's print out the combination to see where we are in the loops\n",
    "            print(component, radius, variable_to_fit)\n",
    "            \n",
    "            kriging_predictions[f\"{component}_{radius}_{variable_to_fit}\"] = \\\n",
    "                cross_val_predict(estimators_final[f\"{component}_{radius}_{variable_to_fit}\"], \n",
    "                                  X=np.stack((coordinates_utm[\"X\"],\n",
    "                                              coordinates_utm[\"Y\"]), axis=1),\n",
    "                                  y=mineralogy_pca_df[component],\n",
    "                                  cv=cv_folds,\n",
    "                                  n_jobs=-1,\n",
    "                                  verbose=5)"
   ]
  },
  {
   "cell_type": "code",
   "execution_count": 394,
   "metadata": {},
   "outputs": [],
   "source": [
    "preproc.save_obj(kriging_predictions, \"kriging_predictions\")"
   ]
  },
  {
   "cell_type": "markdown",
   "metadata": {},
   "source": [
    "## Calculate clr solutions\n",
    "____"
   ]
  },
  {
   "cell_type": "code",
   "execution_count": 76,
   "metadata": {},
   "outputs": [
    {
     "name": "stdout",
     "output_type": "stream",
     "text": [
      "100000\n"
     ]
    },
    {
     "data": {
      "text/html": [
       "<div>\n",
       "<style scoped>\n",
       "    .dataframe tbody tr th:only-of-type {\n",
       "        vertical-align: middle;\n",
       "    }\n",
       "\n",
       "    .dataframe tbody tr th {\n",
       "        vertical-align: top;\n",
       "    }\n",
       "\n",
       "    .dataframe thead th {\n",
       "        text-align: right;\n",
       "    }\n",
       "</style>\n",
       "<table border=\"1\" class=\"dataframe\">\n",
       "  <thead>\n",
       "    <tr style=\"text-align: right;\">\n",
       "      <th></th>\n",
       "      <th>PC01</th>\n",
       "      <th>PC02</th>\n",
       "      <th>PC03</th>\n",
       "      <th>PC04</th>\n",
       "      <th>PC05</th>\n",
       "      <th>PC06</th>\n",
       "      <th>PC07</th>\n",
       "      <th>PC08</th>\n",
       "      <th>PC09</th>\n",
       "    </tr>\n",
       "  </thead>\n",
       "  <tbody>\n",
       "    <tr>\n",
       "      <th>2</th>\n",
       "      <td>0.273554</td>\n",
       "      <td>0.435648</td>\n",
       "      <td>-0.444476</td>\n",
       "      <td>-0.325809</td>\n",
       "      <td>0.047065</td>\n",
       "      <td>0.013970</td>\n",
       "      <td>-0.728241</td>\n",
       "      <td>0.633211</td>\n",
       "      <td>-0.136155</td>\n",
       "    </tr>\n",
       "    <tr>\n",
       "      <th>6</th>\n",
       "      <td>0.309857</td>\n",
       "      <td>1.874730</td>\n",
       "      <td>-0.498841</td>\n",
       "      <td>-0.679035</td>\n",
       "      <td>0.454673</td>\n",
       "      <td>0.071768</td>\n",
       "      <td>-0.141408</td>\n",
       "      <td>0.058530</td>\n",
       "      <td>0.091388</td>\n",
       "    </tr>\n",
       "    <tr>\n",
       "      <th>9</th>\n",
       "      <td>-0.369577</td>\n",
       "      <td>-0.155144</td>\n",
       "      <td>-0.386684</td>\n",
       "      <td>0.120521</td>\n",
       "      <td>-0.077049</td>\n",
       "      <td>0.237996</td>\n",
       "      <td>0.035129</td>\n",
       "      <td>-0.153100</td>\n",
       "      <td>0.009231</td>\n",
       "    </tr>\n",
       "    <tr>\n",
       "      <th>10</th>\n",
       "      <td>-0.271459</td>\n",
       "      <td>0.418690</td>\n",
       "      <td>-0.103894</td>\n",
       "      <td>-0.393086</td>\n",
       "      <td>0.603604</td>\n",
       "      <td>0.046844</td>\n",
       "      <td>0.428304</td>\n",
       "      <td>0.166996</td>\n",
       "      <td>0.070413</td>\n",
       "    </tr>\n",
       "    <tr>\n",
       "      <th>11</th>\n",
       "      <td>0.448333</td>\n",
       "      <td>0.554416</td>\n",
       "      <td>-0.217176</td>\n",
       "      <td>-0.356546</td>\n",
       "      <td>-0.274651</td>\n",
       "      <td>0.271918</td>\n",
       "      <td>-0.402506</td>\n",
       "      <td>-0.118436</td>\n",
       "      <td>-0.110388</td>\n",
       "    </tr>\n",
       "  </tbody>\n",
       "</table>\n",
       "</div>"
      ],
      "text/plain": [
       "        PC01      PC02      PC03      PC04      PC05      PC06      PC07  \\\n",
       "2   0.273554  0.435648 -0.444476 -0.325809  0.047065  0.013970 -0.728241   \n",
       "6   0.309857  1.874730 -0.498841 -0.679035  0.454673  0.071768 -0.141408   \n",
       "9  -0.369577 -0.155144 -0.386684  0.120521 -0.077049  0.237996  0.035129   \n",
       "10 -0.271459  0.418690 -0.103894 -0.393086  0.603604  0.046844  0.428304   \n",
       "11  0.448333  0.554416 -0.217176 -0.356546 -0.274651  0.271918 -0.402506   \n",
       "\n",
       "        PC08      PC09  \n",
       "2   0.633211 -0.136155  \n",
       "6   0.058530  0.091388  \n",
       "9  -0.153100  0.009231  \n",
       "10  0.166996  0.070413  \n",
       "11 -0.118436 -0.110388  "
      ]
     },
     "execution_count": 76,
     "metadata": {},
     "output_type": "execute_result"
    }
   ],
   "source": [
    "kriging_estimates_df = {}\n",
    "\n",
    "for radius in search_radii:\n",
    "    temp = {}\n",
    "    \n",
    "    for component in components_to_use:\n",
    "        key = f\"{component}_{radius}_estimates\"\n",
    "        temp[key] = kriging_predictions[key]\n",
    "\n",
    "    kriging_estimates_df[f\"{radius}\"] = pd.DataFrame.from_dict(temp)\n",
    "    kriging_estimates_df[f\"{radius}\"].index = mineralogy_pca_df.index\n",
    "    kriging_estimates_df[f\"{radius}\"].columns = components_to_use\n",
    "    \n",
    "    print(f\"{radius}\")\n",
    "    kriging_estimates_df[f\"{radius}\"].head()"
   ]
  },
  {
   "cell_type": "code",
   "execution_count": 77,
   "metadata": {},
   "outputs": [
    {
     "name": "stdout",
     "output_type": "stream",
     "text": [
      "100000\n"
     ]
    },
    {
     "data": {
      "text/html": [
       "<div>\n",
       "<style scoped>\n",
       "    .dataframe tbody tr th:only-of-type {\n",
       "        vertical-align: middle;\n",
       "    }\n",
       "\n",
       "    .dataframe tbody tr th {\n",
       "        vertical-align: top;\n",
       "    }\n",
       "\n",
       "    .dataframe thead th {\n",
       "        text-align: right;\n",
       "    }\n",
       "</style>\n",
       "<table border=\"1\" class=\"dataframe\">\n",
       "  <thead>\n",
       "    <tr style=\"text-align: right;\">\n",
       "      <th></th>\n",
       "      <th>PC01</th>\n",
       "      <th>PC02</th>\n",
       "      <th>PC03</th>\n",
       "      <th>PC04</th>\n",
       "      <th>PC05</th>\n",
       "      <th>PC06</th>\n",
       "      <th>PC07</th>\n",
       "      <th>PC08</th>\n",
       "      <th>PC09</th>\n",
       "    </tr>\n",
       "  </thead>\n",
       "  <tbody>\n",
       "    <tr>\n",
       "      <th>2</th>\n",
       "      <td>0.039475</td>\n",
       "      <td>0.025100</td>\n",
       "      <td>0.018675</td>\n",
       "      <td>0.015415</td>\n",
       "      <td>0.009975</td>\n",
       "      <td>0.009330</td>\n",
       "      <td>0.006973</td>\n",
       "      <td>0.006710</td>\n",
       "      <td>0.004499</td>\n",
       "    </tr>\n",
       "    <tr>\n",
       "      <th>6</th>\n",
       "      <td>0.232005</td>\n",
       "      <td>0.147519</td>\n",
       "      <td>0.109758</td>\n",
       "      <td>0.090600</td>\n",
       "      <td>0.058625</td>\n",
       "      <td>0.054834</td>\n",
       "      <td>0.040983</td>\n",
       "      <td>0.039439</td>\n",
       "      <td>0.026439</td>\n",
       "    </tr>\n",
       "    <tr>\n",
       "      <th>9</th>\n",
       "      <td>0.363719</td>\n",
       "      <td>0.231269</td>\n",
       "      <td>0.172069</td>\n",
       "      <td>0.142035</td>\n",
       "      <td>0.091908</td>\n",
       "      <td>0.085964</td>\n",
       "      <td>0.064250</td>\n",
       "      <td>0.061830</td>\n",
       "      <td>0.041449</td>\n",
       "    </tr>\n",
       "    <tr>\n",
       "      <th>10</th>\n",
       "      <td>0.524870</td>\n",
       "      <td>0.333736</td>\n",
       "      <td>0.248307</td>\n",
       "      <td>0.204965</td>\n",
       "      <td>0.132629</td>\n",
       "      <td>0.124052</td>\n",
       "      <td>0.092716</td>\n",
       "      <td>0.089224</td>\n",
       "      <td>0.059814</td>\n",
       "    </tr>\n",
       "    <tr>\n",
       "      <th>11</th>\n",
       "      <td>0.441878</td>\n",
       "      <td>0.280966</td>\n",
       "      <td>0.209045</td>\n",
       "      <td>0.172556</td>\n",
       "      <td>0.111658</td>\n",
       "      <td>0.104437</td>\n",
       "      <td>0.078056</td>\n",
       "      <td>0.075116</td>\n",
       "      <td>0.050356</td>\n",
       "    </tr>\n",
       "  </tbody>\n",
       "</table>\n",
       "</div>"
      ],
      "text/plain": [
       "        PC01      PC02      PC03      PC04      PC05      PC06      PC07  \\\n",
       "2   0.039475  0.025100  0.018675  0.015415  0.009975  0.009330  0.006973   \n",
       "6   0.232005  0.147519  0.109758  0.090600  0.058625  0.054834  0.040983   \n",
       "9   0.363719  0.231269  0.172069  0.142035  0.091908  0.085964  0.064250   \n",
       "10  0.524870  0.333736  0.248307  0.204965  0.132629  0.124052  0.092716   \n",
       "11  0.441878  0.280966  0.209045  0.172556  0.111658  0.104437  0.078056   \n",
       "\n",
       "        PC08      PC09  \n",
       "2   0.006710  0.004499  \n",
       "6   0.039439  0.026439  \n",
       "9   0.061830  0.041449  \n",
       "10  0.089224  0.059814  \n",
       "11  0.075116  0.050356  "
      ]
     },
     "execution_count": 77,
     "metadata": {},
     "output_type": "execute_result"
    }
   ],
   "source": [
    "kriging_variances_df = {}\n",
    "\n",
    "\n",
    "for radius in search_radii:\n",
    "    temp = {}\n",
    "    \n",
    "    for component in components_to_use:\n",
    "        key = f\"{component}_{radius}_variances\"\n",
    "        temp[key] = kriging_predictions[key]\n",
    "        \n",
    "    kriging_variances_df[f\"{radius}\"] = pd.DataFrame.from_dict(temp)\n",
    "    kriging_variances_df[f\"{radius}\"].index = mineralogy_pca_df.index\n",
    "    kriging_variances_df[f\"{radius}\"].columns = components_to_use\n",
    "    \n",
    "    print(f\"{radius}\")\n",
    "    kriging_variances_df[f\"{radius}\"].head()"
   ]
  },
  {
   "cell_type": "code",
   "execution_count": 78,
   "metadata": {},
   "outputs": [
    {
     "name": "stdout",
     "output_type": "stream",
     "text": [
      "100000\n"
     ]
    },
    {
     "data": {
      "text/plain": [
       "PC01    0.223605\n",
       "PC02    0.142178\n",
       "PC03    0.105784\n",
       "PC04    0.087319\n",
       "PC05    0.056503\n",
       "PC06    0.052849\n",
       "PC07    0.039499\n",
       "PC08    0.038011\n",
       "PC09    0.025482\n",
       "dtype: float64"
      ]
     },
     "execution_count": 78,
     "metadata": {},
     "output_type": "execute_result"
    }
   ],
   "source": [
    "kriging_variances_mean_df = {}\n",
    "\n",
    "for radius in search_radii:\n",
    "    kriging_variances_mean_df[f\"{radius}\"] = \\\n",
    "        kriging_variances_df[f\"{radius}\"].mean(axis=0)\n",
    "\n",
    "    print(f\"{radius}\")\n",
    "    kriging_variances_mean_df[f\"{radius}\"]"
   ]
  },
  {
   "cell_type": "code",
   "execution_count": 97,
   "metadata": {},
   "outputs": [],
   "source": [
    "kriging_estimates_clr = {}\n",
    "\n",
    "for ncomp in range(1, len(components_to_use) + 1):\n",
    "    for radius in search_radii:\n",
    "\n",
    "        kriging_estimates_clr[f\"{ncomp}_{radius}\"] = \\\n",
    "            postproc.reverse_pca(mineralogy_pca, \n",
    "                                 kriging_estimates_df[f\"{radius}\"],\n",
    "                                 mineralogy_clr,\n",
    "                                 n_comp=ncomp)"
   ]
  },
  {
   "cell_type": "code",
   "execution_count": 98,
   "metadata": {},
   "outputs": [],
   "source": [
    "solutions_clr = {}\n",
    "\n",
    "for ncomp in range(1, len(components_to_use) + 1):\n",
    "    for radius in search_radii:\n",
    "\n",
    "        solutions_clr[f\"{ncomp}_{radius}\"] = \\\n",
    "            pd.DataFrame(kriging_estimates_clr[f\"{ncomp}_{radius}\"], \n",
    "                         index=mineralogy_clr.index, \n",
    "                         columns=mineralogy_clr.columns)"
   ]
  },
  {
   "cell_type": "code",
   "execution_count": 99,
   "metadata": {},
   "outputs": [],
   "source": [
    "residuals_clr = {}\n",
    "\n",
    "for ncomp in range(1, len(components_to_use) + 1):\n",
    "    for radius in search_radii:\n",
    "\n",
    "        residuals_clr[f\"{ncomp}_{radius}\"] = \\\n",
    "            mineralogy_clr.subtract(solutions_clr[f\"{ncomp}_{radius}\"])"
   ]
  },
  {
   "cell_type": "code",
   "execution_count": 106,
   "metadata": {},
   "outputs": [],
   "source": [
    "for ncomp in range(1, len(components_to_use) + 1):\n",
    "    for radius in search_radii:\n",
    "        temp = pd.merge(residuals_clr[f\"{ncomp}_{radius}\"], \n",
    "                        pd.DataFrame(nvalues_control_points[radius], \n",
    "                                     columns=[\"n_closest_points\"]), \n",
    "                        left_index=True, \n",
    "                        right_index=True)\\\n",
    "                 .sort_values(\"n_closest_points\")\n",
    "        \n",
    "        temp.to_excel(f\"../_RESULTS/Residuals/residuals_clr_{ncomp}_{radius}_{group_name}.xlsx\")"
   ]
  },
  {
   "cell_type": "code",
   "execution_count": 142,
   "metadata": {},
   "outputs": [],
   "source": [
    "preproc.save_obj(residuals_clr, \"residuals_clr\")"
   ]
  },
  {
   "cell_type": "code",
   "execution_count": 143,
   "metadata": {},
   "outputs": [],
   "source": [
    "preproc.save_obj(nvalues_control_points, \"nvalues_control_points\")"
   ]
  },
  {
   "cell_type": "markdown",
   "metadata": {},
   "source": [
    "## Error budget\n",
    "____"
   ]
  },
  {
   "cell_type": "code",
   "execution_count": 101,
   "metadata": {},
   "outputs": [],
   "source": [
    "# A = mean squared prediction error\n",
    "# B = nugget\n",
    "# C = non-explained variance of model\n",
    "error_budget = {}\n",
    "\n",
    "for radius in search_radii:\n",
    "    for ncomp in range(1, len(components_to_use) + 1):\n",
    "        A = np.mean(np.sum(residuals_clr[f\"{ncomp}_{radius}\"] ** 2, axis=1), axis=0)\n",
    "        B = np.array(nugget_)[:ncomp].sum()\n",
    "        C = A - B\n",
    "\n",
    "        error_budget[f\"{ncomp}_{radius}\"] = [A, B, C]"
   ]
  },
  {
   "cell_type": "code",
   "execution_count": 103,
   "metadata": {},
   "outputs": [
    {
     "data": {
      "text/html": [
       "<div>\n",
       "<style scoped>\n",
       "    .dataframe tbody tr th:only-of-type {\n",
       "        vertical-align: middle;\n",
       "    }\n",
       "\n",
       "    .dataframe tbody tr th {\n",
       "        vertical-align: top;\n",
       "    }\n",
       "\n",
       "    .dataframe thead th {\n",
       "        text-align: right;\n",
       "    }\n",
       "</style>\n",
       "<table border=\"1\" class=\"dataframe\">\n",
       "  <thead>\n",
       "    <tr style=\"text-align: right;\">\n",
       "      <th></th>\n",
       "      <th>search_radius</th>\n",
       "      <th>#PCs</th>\n",
       "      <th>MSPE</th>\n",
       "      <th>Nugget</th>\n",
       "      <th>Non-expl var of model</th>\n",
       "    </tr>\n",
       "  </thead>\n",
       "  <tbody>\n",
       "    <tr>\n",
       "      <th>0</th>\n",
       "      <td>100000</td>\n",
       "      <td>1</td>\n",
       "      <td>4.376092</td>\n",
       "      <td>0.0</td>\n",
       "      <td>4.376092</td>\n",
       "    </tr>\n",
       "    <tr>\n",
       "      <th>1</th>\n",
       "      <td>100000</td>\n",
       "      <td>2</td>\n",
       "      <td>4.335588</td>\n",
       "      <td>0.0</td>\n",
       "      <td>4.335588</td>\n",
       "    </tr>\n",
       "    <tr>\n",
       "      <th>2</th>\n",
       "      <td>100000</td>\n",
       "      <td>3</td>\n",
       "      <td>4.318424</td>\n",
       "      <td>0.0</td>\n",
       "      <td>4.318424</td>\n",
       "    </tr>\n",
       "    <tr>\n",
       "      <th>3</th>\n",
       "      <td>100000</td>\n",
       "      <td>4</td>\n",
       "      <td>4.436020</td>\n",
       "      <td>0.0</td>\n",
       "      <td>4.436020</td>\n",
       "    </tr>\n",
       "    <tr>\n",
       "      <th>4</th>\n",
       "      <td>100000</td>\n",
       "      <td>5</td>\n",
       "      <td>4.503288</td>\n",
       "      <td>0.0</td>\n",
       "      <td>4.503288</td>\n",
       "    </tr>\n",
       "    <tr>\n",
       "      <th>5</th>\n",
       "      <td>100000</td>\n",
       "      <td>6</td>\n",
       "      <td>4.542429</td>\n",
       "      <td>0.0</td>\n",
       "      <td>4.542429</td>\n",
       "    </tr>\n",
       "    <tr>\n",
       "      <th>6</th>\n",
       "      <td>100000</td>\n",
       "      <td>7</td>\n",
       "      <td>4.582538</td>\n",
       "      <td>0.0</td>\n",
       "      <td>4.582538</td>\n",
       "    </tr>\n",
       "    <tr>\n",
       "      <th>7</th>\n",
       "      <td>100000</td>\n",
       "      <td>8</td>\n",
       "      <td>4.620849</td>\n",
       "      <td>0.0</td>\n",
       "      <td>4.620849</td>\n",
       "    </tr>\n",
       "    <tr>\n",
       "      <th>8</th>\n",
       "      <td>100000</td>\n",
       "      <td>9</td>\n",
       "      <td>4.637283</td>\n",
       "      <td>0.0</td>\n",
       "      <td>4.637283</td>\n",
       "    </tr>\n",
       "  </tbody>\n",
       "</table>\n",
       "</div>"
      ],
      "text/plain": [
       "   search_radius  #PCs      MSPE  Nugget  Non-expl var of model\n",
       "0         100000     1  4.376092     0.0               4.376092\n",
       "1         100000     2  4.335588     0.0               4.335588\n",
       "2         100000     3  4.318424     0.0               4.318424\n",
       "3         100000     4  4.436020     0.0               4.436020\n",
       "4         100000     5  4.503288     0.0               4.503288\n",
       "5         100000     6  4.542429     0.0               4.542429\n",
       "6         100000     7  4.582538     0.0               4.582538\n",
       "7         100000     8  4.620849     0.0               4.620849\n",
       "8         100000     9  4.637283     0.0               4.637283"
      ]
     },
     "execution_count": 103,
     "metadata": {},
     "output_type": "execute_result"
    }
   ],
   "source": [
    "error_budget_df = \\\n",
    "    ttest.convert_summary_test_results_to_df(error_budget, \n",
    "                                             variable_names=[\"MSPE\", \n",
    "                                                             \"Nugget\", \n",
    "                                                             \"Non-expl var of model\"], \n",
    "                                             order=[\"search_radius\", \n",
    "                                                    \"#PCs\"])\n",
    "error_budget_df"
   ]
  },
  {
   "cell_type": "code",
   "execution_count": 107,
   "metadata": {},
   "outputs": [],
   "source": [
    "error_budget_df.to_excel(f\"../_RESULTS/Error_budget/error_budget_{group_name}.xlsx\")"
   ]
  },
  {
   "cell_type": "markdown",
   "metadata": {},
   "source": [
    "## Contour plots\n",
    "____"
   ]
  },
  {
   "cell_type": "code",
   "execution_count": 84,
   "metadata": {},
   "outputs": [
    {
     "name": "stdout",
     "output_type": "stream",
     "text": [
      "(1623, 2)\n",
      "(117691, 2)\n",
      "301 391\n"
     ]
    },
    {
     "data": {
      "text/plain": [
       "(391, 301)"
      ]
     },
     "execution_count": 84,
     "metadata": {},
     "output_type": "execute_result"
    }
   ],
   "source": [
    "nvalues_critical_distance = \\\n",
    "    variograms[\"PC01\"].determine_mask_array(grid[0], \n",
    "                                            grid[1], \n",
    "                                            search_radius=critical_distance)\n",
    "mask_critical_distance = nvalues_critical_distance < 3\n",
    "mask_critical_distance.shape"
   ]
  },
  {
   "cell_type": "code",
   "execution_count": 85,
   "metadata": {},
   "outputs": [
    {
     "data": {
      "text/plain": [
       "98526"
      ]
     },
     "execution_count": 85,
     "metadata": {},
     "output_type": "execute_result"
    }
   ],
   "source": [
    "mask_critical_distance[mask_critical_distance == 1].sum()"
   ]
  },
  {
   "cell_type": "code",
   "execution_count": 86,
   "metadata": {},
   "outputs": [],
   "source": [
    "non_masked_grid_nodes = \\\n",
    "    grid[0].shape[0] * grid[1].shape[0] \\\n",
    "    - mask_critical_distance[mask_critical_distance == 1].sum()"
   ]
  },
  {
   "cell_type": "code",
   "execution_count": 87,
   "metadata": {},
   "outputs": [],
   "source": [
    "grid_cell_spacing = grid[0][1] - grid[0][0]\n",
    "grid_cell_area = grid_cell_spacing ** 2"
   ]
  },
  {
   "cell_type": "code",
   "execution_count": 88,
   "metadata": {},
   "outputs": [],
   "source": [
    "# Pluton area in m²\n",
    "pluton_area_m2 = non_masked_grid_nodes * grid_cell_area\n",
    "\n",
    "# Pluton area in km²\n",
    "pluton_area_km2 = pluton_area_m2 / 1_000_000"
   ]
  },
  {
   "cell_type": "code",
   "execution_count": 89,
   "metadata": {},
   "outputs": [
    {
     "data": {
      "text/plain": [
       "461454.57445354265"
      ]
     },
     "execution_count": 89,
     "metadata": {},
     "output_type": "execute_result"
    }
   ],
   "source": [
    "pluton_area_km2"
   ]
  },
  {
   "cell_type": "markdown",
   "metadata": {},
   "source": [
    "____"
   ]
  },
  {
   "cell_type": "code",
   "execution_count": 153,
   "metadata": {},
   "outputs": [],
   "source": [
    "interpolated_dict = preproc.load_obj(\"interpolated_dict\")"
   ]
  },
  {
   "cell_type": "code",
   "execution_count": 154,
   "metadata": {},
   "outputs": [],
   "source": [
    "# Since my desktop (with 32GB of RAM) ran out of memory,\n",
    "# I've reduced the grid spacing so that there are fewer grid points \n",
    "# to perform the interpolation for\n",
    "\n",
    "# You could also reduce the number of active CPU cores by decreasing 'n_jobs'\n",
    "# which would reduce memory consumption\n",
    "# so that you could still get a more detailed interpolation grid.\n",
    "# The interpolation will take a bit longer than since \n",
    "# not the maximum number of 'workers' can be used in that case."
   ]
  },
  {
   "cell_type": "code",
   "execution_count": 90,
   "metadata": {},
   "outputs": [
    {
     "name": "stdout",
     "output_type": "stream",
     "text": [
      "Wall time: 1min 30s\n"
     ]
    }
   ],
   "source": [
    "%%time\n",
    "interpolated_parallel = Parallel(n_jobs=-1)(delayed(\n",
    "    OK_model.execute)('masked', \n",
    "                     grid[0], \n",
    "                     grid[1],\n",
    "                     mask_critical_distance,\n",
    "                     n_closest_points=number_of_control_points, \n",
    "                     search_radius=range_[0], \n",
    "                     backend='loop') for component, OK_model in variograms.items())"
   ]
  },
  {
   "cell_type": "code",
   "execution_count": 91,
   "metadata": {},
   "outputs": [],
   "source": [
    "interpolated_dict = {}\n",
    "for i, item in enumerate(interpolated_parallel, start=1):\n",
    "    interpolated_dict[f\"PC0{i}\"] = item"
   ]
  },
  {
   "cell_type": "code",
   "execution_count": 92,
   "metadata": {},
   "outputs": [],
   "source": [
    "preproc.save_obj(interpolated_dict, \"interpolated_dict\")"
   ]
  },
  {
   "cell_type": "code",
   "execution_count": 108,
   "metadata": {},
   "outputs": [
    {
     "name": "stdout",
     "output_type": "stream",
     "text": [
      "1\n",
      "2\n",
      "3\n",
      "4\n",
      "5\n",
      "6\n",
      "7\n",
      "8\n",
      "9\n",
      "10\n",
      "11\n",
      "12\n",
      "(12, 391, 301)\n"
     ]
    },
    {
     "name": "stderr",
     "output_type": "stream",
     "text": [
      "C:\\Users\\u0108248\\AppData\\Local\\Continuum\\miniconda3\\envs\\main\\lib\\site-packages\\IPython\\core\\interactiveshell.py:3331: FutureWarning: arrays to stack must be passed as a \"sequence\" type such as list or tuple. Support for non-sequence iterables such as generators is deprecated as of NumPy 1.16 and will raise an error in the future.\n",
      "  exec(code_obj, self.user_global_ns, self.user_ns)\n"
     ]
    }
   ],
   "source": [
    "# Number of PCs to use for reverse calculations\n",
    "# Set this variable based on the number of PCs to use to obtain the lowest MSPE value in 1.10 Error budget\n",
    "n_comp = 3\n",
    "\n",
    "interpolated_array = postproc.convert_grid_to_array_of_scores(interpolated_dict)\n",
    "\n",
    "interpolated_reverse_pca = postproc.reverse_pca(mineralogy_pca, \n",
    "                                                interpolated_array, \n",
    "                                                mineralogy_clr, \n",
    "                                                n_comp=n_comp)\n",
    "\n",
    "interpolated_reverse_clr = postproc.reverse_clr(interpolated_reverse_pca, \n",
    "                                                mineralogy_clr)\n",
    "\n",
    "# You will get a FutureWarning here, that's fine"
   ]
  },
  {
   "cell_type": "code",
   "execution_count": 109,
   "metadata": {},
   "outputs": [],
   "source": [
    "# Check if the number of points based on the specified grid is equal to\n",
    "# the sum of the number of masked points and the number of interpolated points\n",
    "assert grid[0].shape[0] * grid[1].shape[0] == np.sum(np.isclose(interpolated_reverse_clr.sum(axis=1), 0.0)) + \\\n",
    "                                              np.sum(np.isclose(interpolated_reverse_clr.sum(axis=1), 100.0))"
   ]
  },
  {
   "cell_type": "code",
   "execution_count": 110,
   "metadata": {},
   "outputs": [],
   "source": [
    "interpolated_modal = {}\n",
    "for mineral in interpolated_reverse_clr.columns.tolist():\n",
    "    interpolated_modal[mineral] = np.reshape(interpolated_reverse_clr.loc[:, mineral].values, \n",
    "                                             (grid[1].shape[0], grid[0].shape[0]))"
   ]
  },
  {
   "cell_type": "code",
   "execution_count": 117,
   "metadata": {},
   "outputs": [
    {
     "name": "stdout",
     "output_type": "stream",
     "text": [
      "(391, 301)\n",
      "SiO2\n",
      "(391, 301)\n",
      "TiO2\n",
      "(391, 301)\n",
      "Al2O3\n",
      "(391, 301)\n",
      "Fe2O3\n",
      "(391, 301)\n",
      "FeO\n",
      "(391, 301)\n",
      "MnO\n",
      "(391, 301)\n",
      "MgO\n",
      "(391, 301)\n",
      "CaO\n",
      "(391, 301)\n",
      "Na2O\n",
      "(391, 301)\n",
      "K2O\n",
      "(391, 301)\n",
      "P2O5\n",
      "(391, 301)\n",
      "l.i.\n",
      "(391, 301)\n",
      "oth\n"
     ]
    }
   ],
   "source": [
    "# If you get an error related to an non-esixting save location\n",
    "# Please first create a folder on your pc with the same name that \n",
    "# you used for the variable 'group_name'\n",
    "\n",
    "for mineral, interpolation in interpolated_modal.items(): \n",
    "    for variable in [\"estimates\"]:\n",
    "        print(interpolation.shape)\n",
    "        plots.plot_contour_map(interpolation,\n",
    "                               grid,\n",
    "                               coordinates_utm,\n",
    "                               group_name,\n",
    "                               variable=variable,\n",
    "                               title=f\"{mineral} radius={range_[0]}m {variable} masked {critical_distance}m\",\n",
    "                               show_plot=False,\n",
    "                               single_mineral=True,\n",
    "                               mineral=mineral,                               \n",
    "                               label_pos = (0.03, 0.94),\n",
    "                               skip_xaxis_label=2,\n",
    "                               skip_yaxis_label=2,\n",
    "                               skip_xaxis_start=1,\n",
    "                               skip_yaxis_start=1,\n",
    "                               marker_symbol='.',\n",
    "                               marker_size=0.1,\n",
    "                               marker_color='r',)\n",
    "        \n",
    "# Added some options to function so that yu can easily change the appearance \n",
    "# of the markers used to show the position of the control points"
   ]
  },
  {
   "cell_type": "code",
   "execution_count": 118,
   "metadata": {},
   "outputs": [
    {
     "data": {
      "image/png": "[encoded data removed]",
      "text/plain": [
       "<Figure size 864x648 with 28 Axes>"
      ]
     },
     "metadata": {},
     "output_type": "display_data"
    }
   ],
   "source": [
    "# Specify how many rows and columns you want to use in the following figure\n",
    "# This will ofcourse depend an the number of variables you would like to plot\n",
    "# You can also set the figure size\n",
    "n_cols = 3\n",
    "n_rows = 5\n",
    "\n",
    "# Figure with single mineral maps as subplots\n",
    "plots.plot_contour_map_all(interpolated_modal,\n",
    "                           grid,\n",
    "                           coordinates_utm,\n",
    "                           group_name,\n",
    "                           title=f\"radius={range_[0]}m masked {critical_distance}m\",\n",
    "                           show_plot=True,\n",
    "                           label_pos = (0.03, 0.94),\n",
    "                           skip_xaxis_label=2,\n",
    "                           skip_yaxis_label=2,\n",
    "                           skip_xaxis_start=1,\n",
    "                           skip_yaxis_start=1,\n",
    "                           marker_size=0.1,\n",
    "                           marker_color='r',\n",
    "                           marker_symbol='.',\n",
    "                           figsize=(12, 9),\n",
    "                           ncols=n_cols,\n",
    "                           nrows=n_rows,\n",
    "                           sharex=True,\n",
    "                           sharey=True)"
   ]
  },
  {
   "cell_type": "markdown",
   "metadata": {},
   "source": [
    "## Biplots\n",
    "____"
   ]
  },
  {
   "cell_type": "markdown",
   "metadata": {},
   "source": [
    "Not relevant for now"
   ]
  },
  {
   "cell_type": "markdown",
   "metadata": {},
   "source": [
    "## Simulations\n",
    "____"
   ]
  },
  {
   "cell_type": "markdown",
   "metadata": {},
   "source": [
    "Not relevant for now"
   ]
  },
  {
   "cell_type": "code",
   "execution_count": null,
   "metadata": {},
   "outputs": [],
   "source": []
  }
 ],
 "metadata": {
  "kernelspec": {
   "display_name": "Python 3",
   "language": "python",
   "name": "python3"
  },
  "language_info": {
   "codemirror_mode": {
    "name": "ipython",
    "version": 3
   },
   "file_extension": ".py",
   "mimetype": "text/x-python",
   "name": "python",
   "nbconvert_exporter": "python",
   "pygments_lexer": "ipython3",
   "version": "3.7.3"
  }
 },
 "nbformat": 4,
 "nbformat_minor": 4
}
