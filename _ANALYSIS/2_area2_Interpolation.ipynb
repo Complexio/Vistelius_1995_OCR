{
 "cells": [
  {
   "cell_type": "markdown",
   "metadata": {},
   "source": [
    "# Interpolation\n",
    "___"
   ]
  },
  {
   "cell_type": "markdown",
   "metadata": {},
   "source": [
    "**Remarks**\n",
    "- Code will need to be modified a bit to reflect the use of a certain group of data instead of all data"
   ]
  },
  {
   "cell_type": "code",
   "execution_count": 1,
   "metadata": {},
   "outputs": [],
   "source": [
    "import numpy as np\n",
    "import pandas as pd\n",
    "import os\n",
    "import pickle\n",
    "\n",
    "import matplotlib.pyplot as plt\n",
    "import seaborn as sns\n",
    "\n",
    "from collections import Counter\n",
    "from itertools import combinations\n",
    "\n",
    "# from scipy.spatial.distance import pdist\n",
    "# from scipy.stats import chisquare, chi2\n",
    "from scipy.stats import ttest_1samp, t\n",
    "\n",
    "from pykrige.ok import OrdinaryKriging\n",
    "from pykrige.rk import Krige\n",
    "import pykrige.kriging_tools as kt\n",
    "\n",
    "from sklearn.model_selection import cross_val_predict\n",
    "\n",
    "from joblib import Parallel, delayed\n",
    "import multiprocessing"
   ]
  },
  {
   "cell_type": "code",
   "execution_count": 2,
   "metadata": {},
   "outputs": [],
   "source": [
    "import prepostprocessing.pre_processing as preproc\n",
    "import prepostprocessing.post_processing as postproc\n",
    "import nugget_estimation.kriging_tools as krigingtools\n",
    "import nugget_estimation.detrending as detrending\n",
    "import plots.plots as plots\n",
    "import prepostprocessing.cleaning as cleaning\n",
    "import cross_validation.leave_one_out_cross_validation as loocv\n",
    "\n",
    "import qapf.qapf as qapf\n",
    "import statistics.ttest as ttest\n",
    "import statistics.simulations as sim\n",
    "\n",
    "import toolbox.toolbox as tb"
   ]
  },
  {
   "cell_type": "code",
   "execution_count": 3,
   "metadata": {},
   "outputs": [],
   "source": [
    "# Load jupyter extension to reload packages before executing user code.\n",
    "# https://ipython.readtheMLcs.io/en/stable/config/extensions/autoreload.html\n",
    "%load_ext autoreload\n",
    "# Reload all packages (except those excluded by %aimport) every time before executing the Python code typed.\n",
    "%autoreload 2"
   ]
  },
  {
   "cell_type": "code",
   "execution_count": 4,
   "metadata": {},
   "outputs": [],
   "source": [
    "# You only need to run this cell once if you want to have multiple outputs in all your notebooks.\n",
    "# It is a general setting so you can set this cell's status to 'raw'\n",
    "from IPython.core.interactiveshell import InteractiveShell\n",
    "InteractiveShell.ast_node_interactivity = \"all\""
   ]
  },
  {
   "cell_type": "code",
   "execution_count": 5,
   "metadata": {},
   "outputs": [],
   "source": [
    "coordinates_latlon = preproc.load_obj(\"coordinates_area2\")\n",
    "coordinates_utm = preproc.load_obj(\"coordinates_utm_area2\")\n",
    "mineralogy = preproc.load_obj(\"mineralogy_area2\")\n",
    "mineralogy_clr = preproc.load_obj(\"mineralogy_clr_area2\")\n",
    "mineralogy_pca = preproc.load_obj(\"mineralogy_pca_area2\")\n",
    "mineralogy_pca_df = preproc.load_obj(\"mineralogy_pca_area2_df\")\n",
    "metadata = preproc.load_obj(\"metadata_area2\")"
   ]
  },
  {
   "cell_type": "markdown",
   "metadata": {},
   "source": [
    "## EDA\n",
    "___"
   ]
  },
  {
   "cell_type": "code",
   "execution_count": 6,
   "metadata": {},
   "outputs": [
    {
     "data": {
      "text/plain": [
       "1039"
      ]
     },
     "execution_count": 6,
     "metadata": {},
     "output_type": "execute_result"
    }
   ],
   "source": [
    "# Get number of control points that will be used\n",
    "number_of_control_points = coordinates_utm.shape[0]\n",
    "number_of_control_points"
   ]
  },
  {
   "cell_type": "code",
   "execution_count": 7,
   "metadata": {},
   "outputs": [
    {
     "data": {
      "text/html": [
       "<div>\n",
       "<style scoped>\n",
       "    .dataframe tbody tr th:only-of-type {\n",
       "        vertical-align: middle;\n",
       "    }\n",
       "\n",
       "    .dataframe tbody tr th {\n",
       "        vertical-align: top;\n",
       "    }\n",
       "\n",
       "    .dataframe thead th {\n",
       "        text-align: right;\n",
       "    }\n",
       "</style>\n",
       "<table border=\"1\" class=\"dataframe\">\n",
       "  <thead>\n",
       "    <tr style=\"text-align: right;\">\n",
       "      <th></th>\n",
       "      <th>Y_UTM</th>\n",
       "      <th>X_UTM</th>\n",
       "      <th>ZoneNumber</th>\n",
       "      <th>ZoneLetter</th>\n",
       "    </tr>\n",
       "  </thead>\n",
       "  <tbody>\n",
       "    <tr>\n",
       "      <th>1</th>\n",
       "      <td>788062.538051</td>\n",
       "      <td>4.936585e+06</td>\n",
       "      <td>53</td>\n",
       "      <td>T</td>\n",
       "    </tr>\n",
       "    <tr>\n",
       "      <th>7</th>\n",
       "      <td>609204.390926</td>\n",
       "      <td>5.261750e+06</td>\n",
       "      <td>53</td>\n",
       "      <td>T</td>\n",
       "    </tr>\n",
       "    <tr>\n",
       "      <th>8</th>\n",
       "      <td>683161.686140</td>\n",
       "      <td>5.345172e+06</td>\n",
       "      <td>53</td>\n",
       "      <td>T</td>\n",
       "    </tr>\n",
       "    <tr>\n",
       "      <th>13</th>\n",
       "      <td>566277.769165</td>\n",
       "      <td>5.115580e+06</td>\n",
       "      <td>53</td>\n",
       "      <td>T</td>\n",
       "    </tr>\n",
       "    <tr>\n",
       "      <th>16</th>\n",
       "      <td>513561.171031</td>\n",
       "      <td>5.820370e+06</td>\n",
       "      <td>53</td>\n",
       "      <td>T</td>\n",
       "    </tr>\n",
       "    <tr>\n",
       "      <th>...</th>\n",
       "      <td>...</td>\n",
       "      <td>...</td>\n",
       "      <td>...</td>\n",
       "      <td>...</td>\n",
       "    </tr>\n",
       "    <tr>\n",
       "      <th>4646</th>\n",
       "      <td>626698.329397</td>\n",
       "      <td>4.987292e+06</td>\n",
       "      <td>53</td>\n",
       "      <td>T</td>\n",
       "    </tr>\n",
       "    <tr>\n",
       "      <th>4649</th>\n",
       "      <td>461509.372701</td>\n",
       "      <td>5.662951e+06</td>\n",
       "      <td>53</td>\n",
       "      <td>T</td>\n",
       "    </tr>\n",
       "    <tr>\n",
       "      <th>4650</th>\n",
       "      <td>898558.158803</td>\n",
       "      <td>5.868297e+06</td>\n",
       "      <td>53</td>\n",
       "      <td>T</td>\n",
       "    </tr>\n",
       "    <tr>\n",
       "      <th>4654</th>\n",
       "      <td>620259.749413</td>\n",
       "      <td>5.148324e+06</td>\n",
       "      <td>53</td>\n",
       "      <td>T</td>\n",
       "    </tr>\n",
       "    <tr>\n",
       "      <th>4656</th>\n",
       "      <td>658613.936703</td>\n",
       "      <td>5.200781e+06</td>\n",
       "      <td>53</td>\n",
       "      <td>T</td>\n",
       "    </tr>\n",
       "  </tbody>\n",
       "</table>\n",
       "<p>1039 rows × 4 columns</p>\n",
       "</div>"
      ],
      "text/plain": [
       "              Y_UTM         X_UTM  ZoneNumber ZoneLetter\n",
       "1     788062.538051  4.936585e+06          53          T\n",
       "7     609204.390926  5.261750e+06          53          T\n",
       "8     683161.686140  5.345172e+06          53          T\n",
       "13    566277.769165  5.115580e+06          53          T\n",
       "16    513561.171031  5.820370e+06          53          T\n",
       "...             ...           ...         ...        ...\n",
       "4646  626698.329397  4.987292e+06          53          T\n",
       "4649  461509.372701  5.662951e+06          53          T\n",
       "4650  898558.158803  5.868297e+06          53          T\n",
       "4654  620259.749413  5.148324e+06          53          T\n",
       "4656  658613.936703  5.200781e+06          53          T\n",
       "\n",
       "[1039 rows x 4 columns]"
      ]
     },
     "execution_count": 7,
     "metadata": {},
     "output_type": "execute_result"
    }
   ],
   "source": [
    "coordinates_utm"
   ]
  },
  {
   "cell_type": "code",
   "execution_count": 8,
   "metadata": {},
   "outputs": [],
   "source": [
    "coordinates_utm = coordinates_utm.rename({\"X_UTM\": \"Y\", \"Y_UTM\": \"X\"}, axis=1)"
   ]
  },
  {
   "cell_type": "code",
   "execution_count": 9,
   "metadata": {},
   "outputs": [],
   "source": [
    "# FILL IN SHORT NAME HERE THAT WILL BE USED WHEN SAVING THE PLOT (e.g. \"G1\")\n",
    "group_name = \"area2\""
   ]
  },
  {
   "cell_type": "code",
   "execution_count": 10,
   "metadata": {},
   "outputs": [
    {
     "data": {
      "image/png": "[encoded data removed]",
      "text/plain": [
       "<Figure size 432x288 with 1 Axes>"
      ]
     },
     "metadata": {},
     "output_type": "display_data"
    }
   ],
   "source": [
    "# Plot control points with labels\n",
    "plots.plot_map_with_control_points(coordinates_utm, group_name, label_size=4, subset=[\"X\", \"Y\"],\n",
    "                                   show_labels=False,\n",
    "                                  skip_xaxis_label=2, skip_yaxis_label=2, \n",
    "                                  skip_xaxis_start=1, skip_yaxis_start=1)"
   ]
  },
  {
   "cell_type": "code",
   "execution_count": 11,
   "metadata": {},
   "outputs": [
    {
     "data": {
      "text/plain": [
       "array([53], dtype=int64)"
      ]
     },
     "execution_count": 11,
     "metadata": {},
     "output_type": "execute_result"
    },
    {
     "data": {
      "text/plain": [
       "array(['T'], dtype=object)"
      ]
     },
     "execution_count": 11,
     "metadata": {},
     "output_type": "execute_result"
    }
   ],
   "source": [
    "# Show unique zone letters and zone numbers of utm coordinates\n",
    "coordinates_utm[\"ZoneNumber\"].unique()\n",
    "coordinates_utm[\"ZoneLetter\"].unique()"
   ]
  },
  {
   "cell_type": "code",
   "execution_count": 12,
   "metadata": {},
   "outputs": [
    {
     "data": {
      "text/plain": [
       "(0.036756900077009005, 1462675.8606845895)"
      ]
     },
     "execution_count": 12,
     "metadata": {},
     "output_type": "execute_result"
    }
   ],
   "source": [
    "# Calculate minimum and maxmin lag distance between two points of the dataset\n",
    "distance_matrix = krigingtools.calculate_and_sort_square_distance_matrix(coordinates_utm[[\"X\", \"Y\"]])\n",
    "\n",
    "min_lag_distance = np.amin(distance_matrix)\n",
    "max_lag_distance = np.amax(distance_matrix)\n",
    "min_lag_distance, max_lag_distance"
   ]
  },
  {
   "cell_type": "code",
   "execution_count": 13,
   "metadata": {},
   "outputs": [
    {
     "data": {
      "text/plain": [
       "(array([3.2336e+04, 3.9686e+04, 6.1804e+04, 6.9812e+04, 6.0396e+04,\n",
       "        6.5690e+04, 6.1356e+04, 5.2112e+04, 5.3582e+04, 4.6932e+04,\n",
       "        5.3996e+04, 4.7120e+04, 4.1102e+04, 3.9522e+04, 3.3524e+04,\n",
       "        2.8934e+04, 2.8726e+04, 2.8920e+04, 2.5790e+04, 2.2308e+04,\n",
       "        2.2722e+04, 2.1746e+04, 2.0004e+04, 1.6014e+04, 1.7298e+04,\n",
       "        1.4010e+04, 1.3996e+04, 1.0274e+04, 1.0212e+04, 8.7160e+03,\n",
       "        7.9820e+03, 6.3000e+03, 4.4160e+03, 4.8840e+03, 1.8900e+03,\n",
       "        2.4840e+03, 1.0080e+03, 4.3800e+02, 4.1200e+02, 2.8000e+01]),\n",
       " array([3.67569001e-02, 3.65669324e+04, 7.31338280e+04, 1.09700724e+05,\n",
       "        1.46267619e+05, 1.82834515e+05, 2.19401410e+05, 2.55968306e+05,\n",
       "        2.92535202e+05, 3.29102097e+05, 3.65668993e+05, 4.02235888e+05,\n",
       "        4.38802784e+05, 4.75369680e+05, 5.11936575e+05, 5.48503471e+05,\n",
       "        5.85070366e+05, 6.21637262e+05, 6.58204158e+05, 6.94771053e+05,\n",
       "        7.31337949e+05, 7.67904844e+05, 8.04471740e+05, 8.41038636e+05,\n",
       "        8.77605531e+05, 9.14172427e+05, 9.50739322e+05, 9.87306218e+05,\n",
       "        1.02387311e+06, 1.06044001e+06, 1.09700690e+06, 1.13357380e+06,\n",
       "        1.17014070e+06, 1.20670759e+06, 1.24327449e+06, 1.27984138e+06,\n",
       "        1.31640828e+06, 1.35297517e+06, 1.38954207e+06, 1.42610897e+06,\n",
       "        1.46267586e+06]),\n",
       " <a list of 40 Patch objects>)"
      ]
     },
     "execution_count": 13,
     "metadata": {},
     "output_type": "execute_result"
    },
    {
     "data": {
      "image/png": "[encoded data removed]",
      "text/plain": [
       "<Figure size 432x288 with 1 Axes>"
      ]
     },
     "metadata": {
      "needs_background": "light"
     },
     "output_type": "display_data"
    }
   ],
   "source": [
    "plt.hist(distance_matrix.flatten(), bins=40)"
   ]
  },
  {
   "cell_type": "code",
   "execution_count": 14,
   "metadata": {},
   "outputs": [
    {
     "data": {
      "text/plain": [
       "(array([], dtype=int64), array([], dtype=int64))"
      ]
     },
     "execution_count": 14,
     "metadata": {},
     "output_type": "execute_result"
    }
   ],
   "source": [
    "np.where(distance_matrix == 0)"
   ]
  },
  {
   "cell_type": "markdown",
   "metadata": {},
   "source": [
    "## Critical distance estimation\n",
    "___"
   ]
  },
  {
   "cell_type": "code",
   "execution_count": 15,
   "metadata": {},
   "outputs": [],
   "source": [
    "# Range (lag distance at which the sill is reached; in meters)\n",
    "\n",
    "# Depending on how many principal components you will use, \n",
    "# you will have to add more entries to this list.\n",
    "\n",
    "# Modified the range since variograms are not correct yet\n",
    "# range_ = [100000] * 15\n",
    "range_ = [50000, 50000, 50000, 50000, 50000, 50000, 50000, 50000, 50000, 100000, 100000, 100000, 100000, 100000, 100000]\n",
    "\n"
   ]
  },
  {
   "cell_type": "code",
   "execution_count": 16,
   "metadata": {},
   "outputs": [
    {
     "data": {
      "image/png": "[encoded data removed]",
      "text/plain": [
       "<Figure size 1728x864 with 3 Axes>"
      ]
     },
     "metadata": {
      "needs_background": "light"
     },
     "output_type": "display_data"
    }
   ],
   "source": [
    "# You can adjust the radius parameters below to change the slider settings\n",
    "# to visualize the figures interactively\n",
    "plots.interactive_plot_search_radius(coordinates_utm, orient='rows', \n",
    "                                     radius_default=44000, # Default slider position\n",
    "                                     radius_min=30000,  # Slider start\n",
    "                                     radius_max=60000, # Slider stop\n",
    "                                     radius_step=500,  # Slider step\n",
    "                                     radius_offset=500) # Offset between visualizations shown\n",
    "\n",
    "# The x-axis stands for 'n_neighbours'"
   ]
  },
  {
   "cell_type": "code",
   "execution_count": 17,
   "metadata": {},
   "outputs": [],
   "source": [
    "# Critical distance (in meters)\n",
    "# This is the distance where at least 95% of your samples\n",
    "# will have at least 3 neighbours within that distance\n",
    "\n",
    "# You can refine this value later on, or we can use the range \n",
    "# instead of the critical distance as the only value for the search radius\n",
    "critical_distance = 44000"
   ]
  },
  {
   "cell_type": "code",
   "execution_count": 18,
   "metadata": {},
   "outputs": [],
   "source": [
    "# This is basically creating a list of how many neighbours each data point has \n",
    "# within the critical_distance and within the range\n",
    "nvalues_control_points = {}\n",
    "\n",
    "for radius in (0.05, critical_distance, range_[0]):\n",
    "    temp = krigingtools.find_points_within_search_radius(\n",
    "               krigingtools.calculate_and_sort_square_distance_matrix(coordinates_utm),\n",
    "               search_radius=radius # 'search_radius' should be equal to 'radius' here, not 'critical_distance'\n",
    "           )\n",
    "    nvalues_control_points[radius] = pd.Series(temp, index=coordinates_utm.index)\n",
    "    \n",
    "# You're performing a calculation in a for loop so we want to check how many neighbours each data point has \n",
    "# within the specified radius in the tuple (0.05, critical_distance, range_[0]). \n",
    "# So for each of these specified distances, the function will be executed and \n",
    "# the result stored in the nvalues_control_points dictionary"
   ]
  },
  {
   "cell_type": "code",
   "execution_count": 19,
   "metadata": {},
   "outputs": [
    {
     "data": {
      "text/plain": [
       "51.95"
      ]
     },
     "execution_count": 19,
     "metadata": {},
     "output_type": "execute_result"
    }
   ],
   "source": [
    "# Number of samples that may still have less than 3 neighbours within the critical distance\n",
    "number_of_control_points * 0.05"
   ]
  },
  {
   "cell_type": "code",
   "execution_count": 20,
   "metadata": {},
   "outputs": [
    {
     "data": {
      "text/plain": [
       "52"
      ]
     },
     "execution_count": 20,
     "metadata": {},
     "output_type": "execute_result"
    }
   ],
   "source": [
    "# Check number of samples outside of critical distance\n",
    "samples_outside_critical_distance = nvalues_control_points[critical_distance][nvalues_control_points[critical_distance] < 3].index.tolist()\n",
    "len(samples_outside_critical_distance)\n",
    "\n",
    "# 0.05 sample above 51.95"
   ]
  },
  {
   "cell_type": "code",
   "execution_count": 21,
   "metadata": {},
   "outputs": [
    {
     "data": {
      "text/html": [
       "<div>\n",
       "<style scoped>\n",
       "    .dataframe tbody tr th:only-of-type {\n",
       "        vertical-align: middle;\n",
       "    }\n",
       "\n",
       "    .dataframe tbody tr th {\n",
       "        vertical-align: top;\n",
       "    }\n",
       "\n",
       "    .dataframe thead th {\n",
       "        text-align: right;\n",
       "    }\n",
       "</style>\n",
       "<table border=\"1\" class=\"dataframe\">\n",
       "  <thead>\n",
       "    <tr style=\"text-align: right;\">\n",
       "      <th></th>\n",
       "      <th>PC01</th>\n",
       "      <th>PC02</th>\n",
       "      <th>PC03</th>\n",
       "      <th>PC04</th>\n",
       "      <th>PC05</th>\n",
       "      <th>PC06</th>\n",
       "      <th>PC07</th>\n",
       "      <th>PC08</th>\n",
       "      <th>PC09</th>\n",
       "      <th>PC10</th>\n",
       "      <th>PC11</th>\n",
       "    </tr>\n",
       "  </thead>\n",
       "  <tbody>\n",
       "    <tr>\n",
       "      <th>1</th>\n",
       "      <td>-1.176977</td>\n",
       "      <td>0.205200</td>\n",
       "      <td>-0.463799</td>\n",
       "      <td>-1.392977</td>\n",
       "      <td>0.712086</td>\n",
       "      <td>-0.059895</td>\n",
       "      <td>-0.925814</td>\n",
       "      <td>-0.054471</td>\n",
       "      <td>0.326348</td>\n",
       "      <td>0.240396</td>\n",
       "      <td>2.211053e-17</td>\n",
       "    </tr>\n",
       "    <tr>\n",
       "      <th>16</th>\n",
       "      <td>-0.334265</td>\n",
       "      <td>1.129200</td>\n",
       "      <td>0.158247</td>\n",
       "      <td>0.115116</td>\n",
       "      <td>-0.174948</td>\n",
       "      <td>0.097678</td>\n",
       "      <td>-0.053427</td>\n",
       "      <td>0.336586</td>\n",
       "      <td>-0.045371</td>\n",
       "      <td>0.259124</td>\n",
       "      <td>-3.655372e-16</td>\n",
       "    </tr>\n",
       "    <tr>\n",
       "      <th>83</th>\n",
       "      <td>-0.702679</td>\n",
       "      <td>0.086807</td>\n",
       "      <td>-0.104545</td>\n",
       "      <td>-2.378462</td>\n",
       "      <td>1.576918</td>\n",
       "      <td>-1.065333</td>\n",
       "      <td>0.751422</td>\n",
       "      <td>0.411507</td>\n",
       "      <td>0.021118</td>\n",
       "      <td>0.003581</td>\n",
       "      <td>2.552477e-16</td>\n",
       "    </tr>\n",
       "    <tr>\n",
       "      <th>113</th>\n",
       "      <td>-2.707986</td>\n",
       "      <td>0.286765</td>\n",
       "      <td>0.064829</td>\n",
       "      <td>0.394699</td>\n",
       "      <td>-1.528590</td>\n",
       "      <td>-0.980395</td>\n",
       "      <td>-0.134214</td>\n",
       "      <td>-0.107912</td>\n",
       "      <td>0.186464</td>\n",
       "      <td>-0.029624</td>\n",
       "      <td>-2.307087e-16</td>\n",
       "    </tr>\n",
       "    <tr>\n",
       "      <th>207</th>\n",
       "      <td>-1.370990</td>\n",
       "      <td>0.217782</td>\n",
       "      <td>1.265079</td>\n",
       "      <td>-0.747016</td>\n",
       "      <td>-0.204845</td>\n",
       "      <td>0.625591</td>\n",
       "      <td>-0.003177</td>\n",
       "      <td>-0.002733</td>\n",
       "      <td>0.094473</td>\n",
       "      <td>0.026560</td>\n",
       "      <td>-2.867522e-16</td>\n",
       "    </tr>\n",
       "    <tr>\n",
       "      <th>363</th>\n",
       "      <td>-1.643168</td>\n",
       "      <td>-0.157149</td>\n",
       "      <td>-1.244966</td>\n",
       "      <td>-0.517795</td>\n",
       "      <td>0.683067</td>\n",
       "      <td>0.350335</td>\n",
       "      <td>0.173243</td>\n",
       "      <td>-0.481973</td>\n",
       "      <td>0.125186</td>\n",
       "      <td>0.014045</td>\n",
       "      <td>1.999528e-17</td>\n",
       "    </tr>\n",
       "    <tr>\n",
       "      <th>461</th>\n",
       "      <td>-0.927306</td>\n",
       "      <td>0.185184</td>\n",
       "      <td>0.211186</td>\n",
       "      <td>-0.540971</td>\n",
       "      <td>0.576251</td>\n",
       "      <td>0.084535</td>\n",
       "      <td>0.254792</td>\n",
       "      <td>-0.083672</td>\n",
       "      <td>-0.034249</td>\n",
       "      <td>0.049671</td>\n",
       "      <td>1.036940e-16</td>\n",
       "    </tr>\n",
       "    <tr>\n",
       "      <th>553</th>\n",
       "      <td>-0.414678</td>\n",
       "      <td>0.192450</td>\n",
       "      <td>0.954060</td>\n",
       "      <td>-1.191437</td>\n",
       "      <td>-0.583383</td>\n",
       "      <td>0.040936</td>\n",
       "      <td>0.379380</td>\n",
       "      <td>0.472434</td>\n",
       "      <td>0.252502</td>\n",
       "      <td>0.019473</td>\n",
       "      <td>4.023931e-17</td>\n",
       "    </tr>\n",
       "    <tr>\n",
       "      <th>566</th>\n",
       "      <td>-1.104520</td>\n",
       "      <td>1.297252</td>\n",
       "      <td>-0.424077</td>\n",
       "      <td>-0.439791</td>\n",
       "      <td>-0.317963</td>\n",
       "      <td>0.392481</td>\n",
       "      <td>0.228220</td>\n",
       "      <td>0.179660</td>\n",
       "      <td>-0.048189</td>\n",
       "      <td>0.033266</td>\n",
       "      <td>1.030970e-16</td>\n",
       "    </tr>\n",
       "    <tr>\n",
       "      <th>771</th>\n",
       "      <td>-2.135239</td>\n",
       "      <td>-0.889300</td>\n",
       "      <td>0.397291</td>\n",
       "      <td>0.198734</td>\n",
       "      <td>2.297198</td>\n",
       "      <td>-1.236898</td>\n",
       "      <td>-1.183515</td>\n",
       "      <td>0.224360</td>\n",
       "      <td>-0.205730</td>\n",
       "      <td>0.059899</td>\n",
       "      <td>-6.529540e-16</td>\n",
       "    </tr>\n",
       "    <tr>\n",
       "      <th>1111</th>\n",
       "      <td>-1.369687</td>\n",
       "      <td>-0.345531</td>\n",
       "      <td>-0.015090</td>\n",
       "      <td>0.288016</td>\n",
       "      <td>0.364285</td>\n",
       "      <td>-0.252516</td>\n",
       "      <td>0.779395</td>\n",
       "      <td>-0.107614</td>\n",
       "      <td>-0.091099</td>\n",
       "      <td>-0.052887</td>\n",
       "      <td>3.292479e-16</td>\n",
       "    </tr>\n",
       "    <tr>\n",
       "      <th>1163</th>\n",
       "      <td>-0.447712</td>\n",
       "      <td>-0.637334</td>\n",
       "      <td>0.435651</td>\n",
       "      <td>0.263617</td>\n",
       "      <td>0.582665</td>\n",
       "      <td>-0.344394</td>\n",
       "      <td>0.521723</td>\n",
       "      <td>-0.317087</td>\n",
       "      <td>-0.040577</td>\n",
       "      <td>0.103722</td>\n",
       "      <td>-3.513015e-16</td>\n",
       "    </tr>\n",
       "    <tr>\n",
       "      <th>1193</th>\n",
       "      <td>-0.283481</td>\n",
       "      <td>0.373756</td>\n",
       "      <td>-0.227813</td>\n",
       "      <td>0.039408</td>\n",
       "      <td>0.076119</td>\n",
       "      <td>-0.053499</td>\n",
       "      <td>0.126622</td>\n",
       "      <td>-0.281418</td>\n",
       "      <td>0.060537</td>\n",
       "      <td>0.067716</td>\n",
       "      <td>-1.495220e-16</td>\n",
       "    </tr>\n",
       "    <tr>\n",
       "      <th>1257</th>\n",
       "      <td>-1.315799</td>\n",
       "      <td>0.315914</td>\n",
       "      <td>0.183002</td>\n",
       "      <td>0.367804</td>\n",
       "      <td>-0.636121</td>\n",
       "      <td>-0.278689</td>\n",
       "      <td>-0.015242</td>\n",
       "      <td>-0.086386</td>\n",
       "      <td>0.012673</td>\n",
       "      <td>-0.045051</td>\n",
       "      <td>-2.056029e-16</td>\n",
       "    </tr>\n",
       "    <tr>\n",
       "      <th>1774</th>\n",
       "      <td>-0.775780</td>\n",
       "      <td>-0.799828</td>\n",
       "      <td>0.370659</td>\n",
       "      <td>0.472571</td>\n",
       "      <td>-0.415833</td>\n",
       "      <td>-0.457011</td>\n",
       "      <td>0.669536</td>\n",
       "      <td>0.015972</td>\n",
       "      <td>-0.077024</td>\n",
       "      <td>0.001551</td>\n",
       "      <td>-2.996898e-17</td>\n",
       "    </tr>\n",
       "    <tr>\n",
       "      <th>1796</th>\n",
       "      <td>0.000594</td>\n",
       "      <td>-0.008301</td>\n",
       "      <td>0.588716</td>\n",
       "      <td>0.856907</td>\n",
       "      <td>0.739830</td>\n",
       "      <td>-0.545229</td>\n",
       "      <td>0.307780</td>\n",
       "      <td>0.167173</td>\n",
       "      <td>-0.043594</td>\n",
       "      <td>0.031275</td>\n",
       "      <td>-3.658835e-16</td>\n",
       "    </tr>\n",
       "    <tr>\n",
       "      <th>1930</th>\n",
       "      <td>0.403118</td>\n",
       "      <td>1.747344</td>\n",
       "      <td>0.167616</td>\n",
       "      <td>0.279578</td>\n",
       "      <td>-0.022027</td>\n",
       "      <td>0.323016</td>\n",
       "      <td>0.165755</td>\n",
       "      <td>0.004728</td>\n",
       "      <td>-0.027566</td>\n",
       "      <td>0.048079</td>\n",
       "      <td>8.461773e-17</td>\n",
       "    </tr>\n",
       "    <tr>\n",
       "      <th>2157</th>\n",
       "      <td>0.077740</td>\n",
       "      <td>0.714365</td>\n",
       "      <td>-0.438309</td>\n",
       "      <td>-1.488756</td>\n",
       "      <td>-0.307135</td>\n",
       "      <td>1.641638</td>\n",
       "      <td>-0.231403</td>\n",
       "      <td>0.113426</td>\n",
       "      <td>0.028208</td>\n",
       "      <td>0.000533</td>\n",
       "      <td>2.346240e-16</td>\n",
       "    </tr>\n",
       "    <tr>\n",
       "      <th>2259</th>\n",
       "      <td>1.254055</td>\n",
       "      <td>3.193229</td>\n",
       "      <td>0.398571</td>\n",
       "      <td>-0.346679</td>\n",
       "      <td>-0.043112</td>\n",
       "      <td>0.417935</td>\n",
       "      <td>0.672074</td>\n",
       "      <td>0.159837</td>\n",
       "      <td>-0.058290</td>\n",
       "      <td>0.096007</td>\n",
       "      <td>-4.318739e-16</td>\n",
       "    </tr>\n",
       "    <tr>\n",
       "      <th>2450</th>\n",
       "      <td>-0.224130</td>\n",
       "      <td>-0.610015</td>\n",
       "      <td>0.222690</td>\n",
       "      <td>0.125448</td>\n",
       "      <td>0.501150</td>\n",
       "      <td>-0.598681</td>\n",
       "      <td>-0.346143</td>\n",
       "      <td>-0.244982</td>\n",
       "      <td>-0.044573</td>\n",
       "      <td>0.018635</td>\n",
       "      <td>1.806313e-16</td>\n",
       "    </tr>\n",
       "    <tr>\n",
       "      <th>2574</th>\n",
       "      <td>-0.517680</td>\n",
       "      <td>-0.154786</td>\n",
       "      <td>-0.238759</td>\n",
       "      <td>0.328413</td>\n",
       "      <td>-0.709551</td>\n",
       "      <td>0.130293</td>\n",
       "      <td>-0.579223</td>\n",
       "      <td>-0.234729</td>\n",
       "      <td>-0.000525</td>\n",
       "      <td>0.033580</td>\n",
       "      <td>-1.225208e-16</td>\n",
       "    </tr>\n",
       "    <tr>\n",
       "      <th>2603</th>\n",
       "      <td>-1.547655</td>\n",
       "      <td>-0.949900</td>\n",
       "      <td>-1.105025</td>\n",
       "      <td>0.384287</td>\n",
       "      <td>0.524405</td>\n",
       "      <td>2.875130</td>\n",
       "      <td>-0.578496</td>\n",
       "      <td>0.234675</td>\n",
       "      <td>0.217158</td>\n",
       "      <td>-0.125132</td>\n",
       "      <td>-4.744150e-16</td>\n",
       "    </tr>\n",
       "    <tr>\n",
       "      <th>2615</th>\n",
       "      <td>0.173267</td>\n",
       "      <td>-0.163184</td>\n",
       "      <td>0.951915</td>\n",
       "      <td>-0.989785</td>\n",
       "      <td>-0.372404</td>\n",
       "      <td>0.196183</td>\n",
       "      <td>0.183205</td>\n",
       "      <td>-0.053432</td>\n",
       "      <td>0.023558</td>\n",
       "      <td>-0.043781</td>\n",
       "      <td>-2.118179e-16</td>\n",
       "    </tr>\n",
       "    <tr>\n",
       "      <th>2720</th>\n",
       "      <td>1.204650</td>\n",
       "      <td>0.506569</td>\n",
       "      <td>0.270168</td>\n",
       "      <td>-0.268375</td>\n",
       "      <td>0.155339</td>\n",
       "      <td>-0.028003</td>\n",
       "      <td>0.174399</td>\n",
       "      <td>0.030100</td>\n",
       "      <td>-0.017102</td>\n",
       "      <td>0.124523</td>\n",
       "      <td>-2.573178e-16</td>\n",
       "    </tr>\n",
       "    <tr>\n",
       "      <th>2799</th>\n",
       "      <td>0.537988</td>\n",
       "      <td>-0.314966</td>\n",
       "      <td>0.730775</td>\n",
       "      <td>-0.268780</td>\n",
       "      <td>0.119755</td>\n",
       "      <td>-0.129887</td>\n",
       "      <td>0.241314</td>\n",
       "      <td>0.199810</td>\n",
       "      <td>-0.051076</td>\n",
       "      <td>0.018715</td>\n",
       "      <td>-3.737032e-16</td>\n",
       "    </tr>\n",
       "    <tr>\n",
       "      <th>2949</th>\n",
       "      <td>0.493662</td>\n",
       "      <td>-0.972010</td>\n",
       "      <td>-0.640564</td>\n",
       "      <td>-0.189336</td>\n",
       "      <td>-0.252321</td>\n",
       "      <td>0.684019</td>\n",
       "      <td>0.291495</td>\n",
       "      <td>0.037273</td>\n",
       "      <td>0.084382</td>\n",
       "      <td>0.009875</td>\n",
       "      <td>3.430726e-16</td>\n",
       "    </tr>\n",
       "    <tr>\n",
       "      <th>3184</th>\n",
       "      <td>1.560858</td>\n",
       "      <td>2.745226</td>\n",
       "      <td>0.488960</td>\n",
       "      <td>0.309814</td>\n",
       "      <td>-0.063476</td>\n",
       "      <td>0.114390</td>\n",
       "      <td>0.547824</td>\n",
       "      <td>0.269912</td>\n",
       "      <td>0.206934</td>\n",
       "      <td>-0.027777</td>\n",
       "      <td>-9.543644e-17</td>\n",
       "    </tr>\n",
       "    <tr>\n",
       "      <th>3374</th>\n",
       "      <td>1.149667</td>\n",
       "      <td>0.633069</td>\n",
       "      <td>-1.861558</td>\n",
       "      <td>1.369199</td>\n",
       "      <td>-0.483317</td>\n",
       "      <td>-1.067802</td>\n",
       "      <td>-0.202874</td>\n",
       "      <td>0.330074</td>\n",
       "      <td>0.558055</td>\n",
       "      <td>0.198268</td>\n",
       "      <td>2.413113e-16</td>\n",
       "    </tr>\n",
       "    <tr>\n",
       "      <th>3453</th>\n",
       "      <td>0.921502</td>\n",
       "      <td>0.300940</td>\n",
       "      <td>0.187125</td>\n",
       "      <td>-0.496977</td>\n",
       "      <td>-0.011031</td>\n",
       "      <td>0.012257</td>\n",
       "      <td>-0.141706</td>\n",
       "      <td>-0.078002</td>\n",
       "      <td>-0.009604</td>\n",
       "      <td>-0.017988</td>\n",
       "      <td>-3.740506e-16</td>\n",
       "    </tr>\n",
       "    <tr>\n",
       "      <th>3454</th>\n",
       "      <td>0.655332</td>\n",
       "      <td>-0.712226</td>\n",
       "      <td>-0.617869</td>\n",
       "      <td>0.314827</td>\n",
       "      <td>0.556277</td>\n",
       "      <td>-0.009502</td>\n",
       "      <td>0.764375</td>\n",
       "      <td>-0.015412</td>\n",
       "      <td>-0.057461</td>\n",
       "      <td>-0.024664</td>\n",
       "      <td>-1.553150e-16</td>\n",
       "    </tr>\n",
       "    <tr>\n",
       "      <th>3477</th>\n",
       "      <td>0.702093</td>\n",
       "      <td>-0.559695</td>\n",
       "      <td>-0.306479</td>\n",
       "      <td>-0.050200</td>\n",
       "      <td>0.123654</td>\n",
       "      <td>-0.420318</td>\n",
       "      <td>0.346306</td>\n",
       "      <td>0.032801</td>\n",
       "      <td>-0.119054</td>\n",
       "      <td>-0.004083</td>\n",
       "      <td>9.761652e-16</td>\n",
       "    </tr>\n",
       "    <tr>\n",
       "      <th>3649</th>\n",
       "      <td>0.971599</td>\n",
       "      <td>-0.186661</td>\n",
       "      <td>0.564392</td>\n",
       "      <td>-0.445116</td>\n",
       "      <td>0.222771</td>\n",
       "      <td>-0.308080</td>\n",
       "      <td>0.260842</td>\n",
       "      <td>0.056973</td>\n",
       "      <td>-0.051562</td>\n",
       "      <td>-0.068576</td>\n",
       "      <td>-1.582828e-16</td>\n",
       "    </tr>\n",
       "    <tr>\n",
       "      <th>3718</th>\n",
       "      <td>1.462034</td>\n",
       "      <td>-0.691275</td>\n",
       "      <td>0.577017</td>\n",
       "      <td>-0.236144</td>\n",
       "      <td>0.114414</td>\n",
       "      <td>-0.169121</td>\n",
       "      <td>0.119422</td>\n",
       "      <td>0.004058</td>\n",
       "      <td>0.265238</td>\n",
       "      <td>-0.034003</td>\n",
       "      <td>-1.933802e-16</td>\n",
       "    </tr>\n",
       "    <tr>\n",
       "      <th>3788</th>\n",
       "      <td>1.309000</td>\n",
       "      <td>0.040031</td>\n",
       "      <td>-0.532273</td>\n",
       "      <td>0.032194</td>\n",
       "      <td>-0.201855</td>\n",
       "      <td>0.086479</td>\n",
       "      <td>0.352114</td>\n",
       "      <td>-0.043784</td>\n",
       "      <td>-0.009932</td>\n",
       "      <td>0.025667</td>\n",
       "      <td>-1.667952e-16</td>\n",
       "    </tr>\n",
       "    <tr>\n",
       "      <th>3853</th>\n",
       "      <td>0.906028</td>\n",
       "      <td>0.108162</td>\n",
       "      <td>-1.524274</td>\n",
       "      <td>-0.861183</td>\n",
       "      <td>-0.369559</td>\n",
       "      <td>0.124096</td>\n",
       "      <td>-0.255283</td>\n",
       "      <td>-0.158317</td>\n",
       "      <td>0.047185</td>\n",
       "      <td>-0.014977</td>\n",
       "      <td>2.259081e-16</td>\n",
       "    </tr>\n",
       "    <tr>\n",
       "      <th>3905</th>\n",
       "      <td>1.442789</td>\n",
       "      <td>-0.122686</td>\n",
       "      <td>0.390038</td>\n",
       "      <td>-0.365040</td>\n",
       "      <td>0.268095</td>\n",
       "      <td>-0.214792</td>\n",
       "      <td>-0.074236</td>\n",
       "      <td>0.350290</td>\n",
       "      <td>-0.061827</td>\n",
       "      <td>0.017650</td>\n",
       "      <td>-2.727935e-16</td>\n",
       "    </tr>\n",
       "    <tr>\n",
       "      <th>3916</th>\n",
       "      <td>1.332016</td>\n",
       "      <td>0.362040</td>\n",
       "      <td>-0.152534</td>\n",
       "      <td>0.305311</td>\n",
       "      <td>0.514170</td>\n",
       "      <td>0.011462</td>\n",
       "      <td>0.019393</td>\n",
       "      <td>-0.253496</td>\n",
       "      <td>-0.140844</td>\n",
       "      <td>0.040009</td>\n",
       "      <td>-7.151766e-16</td>\n",
       "    </tr>\n",
       "    <tr>\n",
       "      <th>3981</th>\n",
       "      <td>1.493369</td>\n",
       "      <td>1.035859</td>\n",
       "      <td>-0.133964</td>\n",
       "      <td>0.275627</td>\n",
       "      <td>-0.134241</td>\n",
       "      <td>-0.171772</td>\n",
       "      <td>0.126826</td>\n",
       "      <td>0.295375</td>\n",
       "      <td>0.060695</td>\n",
       "      <td>-0.036650</td>\n",
       "      <td>-3.918877e-16</td>\n",
       "    </tr>\n",
       "    <tr>\n",
       "      <th>4028</th>\n",
       "      <td>1.788411</td>\n",
       "      <td>-0.346512</td>\n",
       "      <td>0.141949</td>\n",
       "      <td>-0.084512</td>\n",
       "      <td>0.275294</td>\n",
       "      <td>0.115652</td>\n",
       "      <td>-0.037940</td>\n",
       "      <td>-0.094373</td>\n",
       "      <td>-0.033994</td>\n",
       "      <td>0.133246</td>\n",
       "      <td>-1.248065e-16</td>\n",
       "    </tr>\n",
       "    <tr>\n",
       "      <th>4040</th>\n",
       "      <td>1.509851</td>\n",
       "      <td>0.360435</td>\n",
       "      <td>-0.110860</td>\n",
       "      <td>0.044265</td>\n",
       "      <td>-0.067285</td>\n",
       "      <td>0.195511</td>\n",
       "      <td>0.205137</td>\n",
       "      <td>-0.095052</td>\n",
       "      <td>-0.037121</td>\n",
       "      <td>0.007463</td>\n",
       "      <td>3.503537e-18</td>\n",
       "    </tr>\n",
       "    <tr>\n",
       "      <th>4043</th>\n",
       "      <td>1.495694</td>\n",
       "      <td>0.671129</td>\n",
       "      <td>-0.477145</td>\n",
       "      <td>0.085293</td>\n",
       "      <td>0.271606</td>\n",
       "      <td>0.226550</td>\n",
       "      <td>-0.011964</td>\n",
       "      <td>-0.125797</td>\n",
       "      <td>0.023650</td>\n",
       "      <td>0.001039</td>\n",
       "      <td>3.231450e-16</td>\n",
       "    </tr>\n",
       "    <tr>\n",
       "      <th>4160</th>\n",
       "      <td>1.301364</td>\n",
       "      <td>0.559531</td>\n",
       "      <td>-0.472983</td>\n",
       "      <td>0.194355</td>\n",
       "      <td>0.174863</td>\n",
       "      <td>0.161158</td>\n",
       "      <td>0.204842</td>\n",
       "      <td>-0.125310</td>\n",
       "      <td>-0.007047</td>\n",
       "      <td>-0.086154</td>\n",
       "      <td>-5.245448e-16</td>\n",
       "    </tr>\n",
       "    <tr>\n",
       "      <th>4216</th>\n",
       "      <td>1.298114</td>\n",
       "      <td>-0.017127</td>\n",
       "      <td>0.024012</td>\n",
       "      <td>0.220837</td>\n",
       "      <td>-0.184732</td>\n",
       "      <td>0.072578</td>\n",
       "      <td>-0.062705</td>\n",
       "      <td>-0.016554</td>\n",
       "      <td>-0.096794</td>\n",
       "      <td>-0.023515</td>\n",
       "      <td>-2.154975e-16</td>\n",
       "    </tr>\n",
       "    <tr>\n",
       "      <th>4228</th>\n",
       "      <td>1.439962</td>\n",
       "      <td>-0.851871</td>\n",
       "      <td>-0.584548</td>\n",
       "      <td>-0.146143</td>\n",
       "      <td>0.281471</td>\n",
       "      <td>-0.024713</td>\n",
       "      <td>0.158245</td>\n",
       "      <td>-0.013095</td>\n",
       "      <td>-0.127012</td>\n",
       "      <td>0.056669</td>\n",
       "      <td>6.700610e-16</td>\n",
       "    </tr>\n",
       "    <tr>\n",
       "      <th>4251</th>\n",
       "      <td>1.462632</td>\n",
       "      <td>-0.219093</td>\n",
       "      <td>-0.703096</td>\n",
       "      <td>0.069465</td>\n",
       "      <td>0.358096</td>\n",
       "      <td>0.101249</td>\n",
       "      <td>0.125300</td>\n",
       "      <td>-0.037315</td>\n",
       "      <td>-0.169346</td>\n",
       "      <td>0.032447</td>\n",
       "      <td>4.498957e-16</td>\n",
       "    </tr>\n",
       "    <tr>\n",
       "      <th>4363</th>\n",
       "      <td>1.407547</td>\n",
       "      <td>-0.723485</td>\n",
       "      <td>-0.168773</td>\n",
       "      <td>-0.595926</td>\n",
       "      <td>-0.282330</td>\n",
       "      <td>0.208578</td>\n",
       "      <td>0.018225</td>\n",
       "      <td>-0.097170</td>\n",
       "      <td>-0.083865</td>\n",
       "      <td>-0.060812</td>\n",
       "      <td>-2.011211e-17</td>\n",
       "    </tr>\n",
       "    <tr>\n",
       "      <th>4377</th>\n",
       "      <td>1.896371</td>\n",
       "      <td>0.312365</td>\n",
       "      <td>0.060220</td>\n",
       "      <td>0.083333</td>\n",
       "      <td>0.206601</td>\n",
       "      <td>0.027152</td>\n",
       "      <td>-0.099875</td>\n",
       "      <td>-0.384121</td>\n",
       "      <td>0.162039</td>\n",
       "      <td>-0.041282</td>\n",
       "      <td>5.489628e-16</td>\n",
       "    </tr>\n",
       "    <tr>\n",
       "      <th>4463</th>\n",
       "      <td>1.757886</td>\n",
       "      <td>-0.880355</td>\n",
       "      <td>-0.173670</td>\n",
       "      <td>0.688411</td>\n",
       "      <td>0.106177</td>\n",
       "      <td>-0.360469</td>\n",
       "      <td>-0.230673</td>\n",
       "      <td>0.571133</td>\n",
       "      <td>-0.095869</td>\n",
       "      <td>0.033966</td>\n",
       "      <td>2.572577e-16</td>\n",
       "    </tr>\n",
       "    <tr>\n",
       "      <th>4465</th>\n",
       "      <td>2.116424</td>\n",
       "      <td>0.788109</td>\n",
       "      <td>0.149759</td>\n",
       "      <td>-0.200015</td>\n",
       "      <td>0.251545</td>\n",
       "      <td>-0.476076</td>\n",
       "      <td>0.202752</td>\n",
       "      <td>1.064593</td>\n",
       "      <td>-0.075897</td>\n",
       "      <td>-0.091980</td>\n",
       "      <td>-2.591057e-16</td>\n",
       "    </tr>\n",
       "    <tr>\n",
       "      <th>4506</th>\n",
       "      <td>1.471912</td>\n",
       "      <td>-0.867859</td>\n",
       "      <td>0.015072</td>\n",
       "      <td>0.018303</td>\n",
       "      <td>-0.133971</td>\n",
       "      <td>0.140380</td>\n",
       "      <td>0.060728</td>\n",
       "      <td>-0.088008</td>\n",
       "      <td>-0.267092</td>\n",
       "      <td>-0.064759</td>\n",
       "      <td>-6.399134e-16</td>\n",
       "    </tr>\n",
       "    <tr>\n",
       "      <th>4581</th>\n",
       "      <td>1.742260</td>\n",
       "      <td>-0.860973</td>\n",
       "      <td>0.046019</td>\n",
       "      <td>0.125228</td>\n",
       "      <td>-0.207011</td>\n",
       "      <td>0.119895</td>\n",
       "      <td>-0.119709</td>\n",
       "      <td>-0.105403</td>\n",
       "      <td>-0.114697</td>\n",
       "      <td>-0.086359</td>\n",
       "      <td>6.343951e-16</td>\n",
       "    </tr>\n",
       "    <tr>\n",
       "      <th>4633</th>\n",
       "      <td>2.812082</td>\n",
       "      <td>-0.434028</td>\n",
       "      <td>0.420028</td>\n",
       "      <td>0.426232</td>\n",
       "      <td>-0.115346</td>\n",
       "      <td>-0.369150</td>\n",
       "      <td>-0.377565</td>\n",
       "      <td>0.754787</td>\n",
       "      <td>0.348795</td>\n",
       "      <td>-0.063274</td>\n",
       "      <td>-2.149463e-16</td>\n",
       "    </tr>\n",
       "  </tbody>\n",
       "</table>\n",
       "</div>"
      ],
      "text/plain": [
       "          PC01      PC02      PC03      PC04      PC05      PC06      PC07  \\\n",
       "1    -1.176977  0.205200 -0.463799 -1.392977  0.712086 -0.059895 -0.925814   \n",
       "16   -0.334265  1.129200  0.158247  0.115116 -0.174948  0.097678 -0.053427   \n",
       "83   -0.702679  0.086807 -0.104545 -2.378462  1.576918 -1.065333  0.751422   \n",
       "113  -2.707986  0.286765  0.064829  0.394699 -1.528590 -0.980395 -0.134214   \n",
       "207  -1.370990  0.217782  1.265079 -0.747016 -0.204845  0.625591 -0.003177   \n",
       "363  -1.643168 -0.157149 -1.244966 -0.517795  0.683067  0.350335  0.173243   \n",
       "461  -0.927306  0.185184  0.211186 -0.540971  0.576251  0.084535  0.254792   \n",
       "553  -0.414678  0.192450  0.954060 -1.191437 -0.583383  0.040936  0.379380   \n",
       "566  -1.104520  1.297252 -0.424077 -0.439791 -0.317963  0.392481  0.228220   \n",
       "771  -2.135239 -0.889300  0.397291  0.198734  2.297198 -1.236898 -1.183515   \n",
       "1111 -1.369687 -0.345531 -0.015090  0.288016  0.364285 -0.252516  0.779395   \n",
       "1163 -0.447712 -0.637334  0.435651  0.263617  0.582665 -0.344394  0.521723   \n",
       "1193 -0.283481  0.373756 -0.227813  0.039408  0.076119 -0.053499  0.126622   \n",
       "1257 -1.315799  0.315914  0.183002  0.367804 -0.636121 -0.278689 -0.015242   \n",
       "1774 -0.775780 -0.799828  0.370659  0.472571 -0.415833 -0.457011  0.669536   \n",
       "1796  0.000594 -0.008301  0.588716  0.856907  0.739830 -0.545229  0.307780   \n",
       "1930  0.403118  1.747344  0.167616  0.279578 -0.022027  0.323016  0.165755   \n",
       "2157  0.077740  0.714365 -0.438309 -1.488756 -0.307135  1.641638 -0.231403   \n",
       "2259  1.254055  3.193229  0.398571 -0.346679 -0.043112  0.417935  0.672074   \n",
       "2450 -0.224130 -0.610015  0.222690  0.125448  0.501150 -0.598681 -0.346143   \n",
       "2574 -0.517680 -0.154786 -0.238759  0.328413 -0.709551  0.130293 -0.579223   \n",
       "2603 -1.547655 -0.949900 -1.105025  0.384287  0.524405  2.875130 -0.578496   \n",
       "2615  0.173267 -0.163184  0.951915 -0.989785 -0.372404  0.196183  0.183205   \n",
       "2720  1.204650  0.506569  0.270168 -0.268375  0.155339 -0.028003  0.174399   \n",
       "2799  0.537988 -0.314966  0.730775 -0.268780  0.119755 -0.129887  0.241314   \n",
       "2949  0.493662 -0.972010 -0.640564 -0.189336 -0.252321  0.684019  0.291495   \n",
       "3184  1.560858  2.745226  0.488960  0.309814 -0.063476  0.114390  0.547824   \n",
       "3374  1.149667  0.633069 -1.861558  1.369199 -0.483317 -1.067802 -0.202874   \n",
       "3453  0.921502  0.300940  0.187125 -0.496977 -0.011031  0.012257 -0.141706   \n",
       "3454  0.655332 -0.712226 -0.617869  0.314827  0.556277 -0.009502  0.764375   \n",
       "3477  0.702093 -0.559695 -0.306479 -0.050200  0.123654 -0.420318  0.346306   \n",
       "3649  0.971599 -0.186661  0.564392 -0.445116  0.222771 -0.308080  0.260842   \n",
       "3718  1.462034 -0.691275  0.577017 -0.236144  0.114414 -0.169121  0.119422   \n",
       "3788  1.309000  0.040031 -0.532273  0.032194 -0.201855  0.086479  0.352114   \n",
       "3853  0.906028  0.108162 -1.524274 -0.861183 -0.369559  0.124096 -0.255283   \n",
       "3905  1.442789 -0.122686  0.390038 -0.365040  0.268095 -0.214792 -0.074236   \n",
       "3916  1.332016  0.362040 -0.152534  0.305311  0.514170  0.011462  0.019393   \n",
       "3981  1.493369  1.035859 -0.133964  0.275627 -0.134241 -0.171772  0.126826   \n",
       "4028  1.788411 -0.346512  0.141949 -0.084512  0.275294  0.115652 -0.037940   \n",
       "4040  1.509851  0.360435 -0.110860  0.044265 -0.067285  0.195511  0.205137   \n",
       "4043  1.495694  0.671129 -0.477145  0.085293  0.271606  0.226550 -0.011964   \n",
       "4160  1.301364  0.559531 -0.472983  0.194355  0.174863  0.161158  0.204842   \n",
       "4216  1.298114 -0.017127  0.024012  0.220837 -0.184732  0.072578 -0.062705   \n",
       "4228  1.439962 -0.851871 -0.584548 -0.146143  0.281471 -0.024713  0.158245   \n",
       "4251  1.462632 -0.219093 -0.703096  0.069465  0.358096  0.101249  0.125300   \n",
       "4363  1.407547 -0.723485 -0.168773 -0.595926 -0.282330  0.208578  0.018225   \n",
       "4377  1.896371  0.312365  0.060220  0.083333  0.206601  0.027152 -0.099875   \n",
       "4463  1.757886 -0.880355 -0.173670  0.688411  0.106177 -0.360469 -0.230673   \n",
       "4465  2.116424  0.788109  0.149759 -0.200015  0.251545 -0.476076  0.202752   \n",
       "4506  1.471912 -0.867859  0.015072  0.018303 -0.133971  0.140380  0.060728   \n",
       "4581  1.742260 -0.860973  0.046019  0.125228 -0.207011  0.119895 -0.119709   \n",
       "4633  2.812082 -0.434028  0.420028  0.426232 -0.115346 -0.369150 -0.377565   \n",
       "\n",
       "          PC08      PC09      PC10          PC11  \n",
       "1    -0.054471  0.326348  0.240396  2.211053e-17  \n",
       "16    0.336586 -0.045371  0.259124 -3.655372e-16  \n",
       "83    0.411507  0.021118  0.003581  2.552477e-16  \n",
       "113  -0.107912  0.186464 -0.029624 -2.307087e-16  \n",
       "207  -0.002733  0.094473  0.026560 -2.867522e-16  \n",
       "363  -0.481973  0.125186  0.014045  1.999528e-17  \n",
       "461  -0.083672 -0.034249  0.049671  1.036940e-16  \n",
       "553   0.472434  0.252502  0.019473  4.023931e-17  \n",
       "566   0.179660 -0.048189  0.033266  1.030970e-16  \n",
       "771   0.224360 -0.205730  0.059899 -6.529540e-16  \n",
       "1111 -0.107614 -0.091099 -0.052887  3.292479e-16  \n",
       "1163 -0.317087 -0.040577  0.103722 -3.513015e-16  \n",
       "1193 -0.281418  0.060537  0.067716 -1.495220e-16  \n",
       "1257 -0.086386  0.012673 -0.045051 -2.056029e-16  \n",
       "1774  0.015972 -0.077024  0.001551 -2.996898e-17  \n",
       "1796  0.167173 -0.043594  0.031275 -3.658835e-16  \n",
       "1930  0.004728 -0.027566  0.048079  8.461773e-17  \n",
       "2157  0.113426  0.028208  0.000533  2.346240e-16  \n",
       "2259  0.159837 -0.058290  0.096007 -4.318739e-16  \n",
       "2450 -0.244982 -0.044573  0.018635  1.806313e-16  \n",
       "2574 -0.234729 -0.000525  0.033580 -1.225208e-16  \n",
       "2603  0.234675  0.217158 -0.125132 -4.744150e-16  \n",
       "2615 -0.053432  0.023558 -0.043781 -2.118179e-16  \n",
       "2720  0.030100 -0.017102  0.124523 -2.573178e-16  \n",
       "2799  0.199810 -0.051076  0.018715 -3.737032e-16  \n",
       "2949  0.037273  0.084382  0.009875  3.430726e-16  \n",
       "3184  0.269912  0.206934 -0.027777 -9.543644e-17  \n",
       "3374  0.330074  0.558055  0.198268  2.413113e-16  \n",
       "3453 -0.078002 -0.009604 -0.017988 -3.740506e-16  \n",
       "3454 -0.015412 -0.057461 -0.024664 -1.553150e-16  \n",
       "3477  0.032801 -0.119054 -0.004083  9.761652e-16  \n",
       "3649  0.056973 -0.051562 -0.068576 -1.582828e-16  \n",
       "3718  0.004058  0.265238 -0.034003 -1.933802e-16  \n",
       "3788 -0.043784 -0.009932  0.025667 -1.667952e-16  \n",
       "3853 -0.158317  0.047185 -0.014977  2.259081e-16  \n",
       "3905  0.350290 -0.061827  0.017650 -2.727935e-16  \n",
       "3916 -0.253496 -0.140844  0.040009 -7.151766e-16  \n",
       "3981  0.295375  0.060695 -0.036650 -3.918877e-16  \n",
       "4028 -0.094373 -0.033994  0.133246 -1.248065e-16  \n",
       "4040 -0.095052 -0.037121  0.007463  3.503537e-18  \n",
       "4043 -0.125797  0.023650  0.001039  3.231450e-16  \n",
       "4160 -0.125310 -0.007047 -0.086154 -5.245448e-16  \n",
       "4216 -0.016554 -0.096794 -0.023515 -2.154975e-16  \n",
       "4228 -0.013095 -0.127012  0.056669  6.700610e-16  \n",
       "4251 -0.037315 -0.169346  0.032447  4.498957e-16  \n",
       "4363 -0.097170 -0.083865 -0.060812 -2.011211e-17  \n",
       "4377 -0.384121  0.162039 -0.041282  5.489628e-16  \n",
       "4463  0.571133 -0.095869  0.033966  2.572577e-16  \n",
       "4465  1.064593 -0.075897 -0.091980 -2.591057e-16  \n",
       "4506 -0.088008 -0.267092 -0.064759 -6.399134e-16  \n",
       "4581 -0.105403 -0.114697 -0.086359  6.343951e-16  \n",
       "4633  0.754787  0.348795 -0.063274 -2.149463e-16  "
      ]
     },
     "execution_count": 21,
     "metadata": {},
     "output_type": "execute_result"
    }
   ],
   "source": [
    "# Overview of samples that are outside search_radius\n",
    "mineralogy_pca_df.loc[samples_outside_critical_distance, :]"
   ]
  },
  {
   "cell_type": "markdown",
   "metadata": {},
   "source": [
    "____"
   ]
  },
  {
   "cell_type": "markdown",
   "metadata": {},
   "source": [
    "## Create high resolution grids\n",
    "____"
   ]
  },
  {
   "cell_type": "code",
   "execution_count": 22,
   "metadata": {},
   "outputs": [
    {
     "data": {
      "text/plain": [
       "array([[237832.25743787782, 952978.2634567402],\n",
       "       [(4680698.080159552,), 6220991.776912029]], dtype=object)"
      ]
     },
     "execution_count": 22,
     "metadata": {},
     "output_type": "execute_result"
    }
   ],
   "source": [
    "# Determine (wide) grid boundaries\n",
    "X = coordinates_utm.iloc[:, 0].values\n",
    "Xmin = np.min(X) - critical_distance * 1.05\n",
    "Xmax = np.max(X) + critical_distance * 1.05\n",
    "\n",
    "Y = coordinates_utm.iloc[:, 1].values\n",
    "Ymin = np.min(Y) - critical_distance * 1.05, \n",
    "Ymax = np.max(Y) + critical_distance * 1.05\n",
    "\n",
    "coordinates_boundaries = np.array([[Xmin, Xmax], [Ymin, Ymax]])\n",
    "coordinates_boundaries"
   ]
  },
  {
   "cell_type": "code",
   "execution_count": 23,
   "metadata": {},
   "outputs": [
    {
     "name": "stdout",
     "output_type": "stream",
     "text": [
      "x [237832.25743787782 952978.2634567402]\n",
      "y [(4680698.080159552,) 6220991.776912029]\n",
      "x range:  715146\n",
      "y range:  1540293\n",
      "smallest dimension x\n",
      "theoretical x spacing:  2049.128957074104\n",
      "actual x spacing:  2049.1289570741064\n",
      "actual y spacing:  2049.1289570741355\n",
      "Number of points:  266112\n",
      "xy grid:  352 756 \n",
      "\n"
     ]
    }
   ],
   "source": [
    "# Set approximate number of points along each axis\n",
    "n_points = 350\n",
    "\n",
    "temp = {}\n",
    "x, y = coordinates_boundaries\n",
    "\n",
    "temp[\"x_start (m)\"] = int(np.floor(x[0]))\n",
    "temp[\"x_end (m)\"] = int(np.floor(x[1]))\n",
    "temp[\"y_start (m)\"] = int(np.floor(y[0]))\n",
    "temp[\"y_end (m)\"] = int(np.floor(y[1]))\n",
    "\n",
    "print(\"x\", x)\n",
    "print(\"y\", y)\n",
    "\n",
    "temp[\"x_range (m)\"] = int(np.floor(x[1])) - int(np.floor(x[0]))\n",
    "temp[\"y_range (m)\"] = int(np.floor(y[1])) - int(np.floor(y[0]))\n",
    "print(\"x range: \", temp[\"x_range (m)\"])\n",
    "print(\"y range: \", temp[\"y_range (m)\"])\n",
    "\n",
    "ranges = {\"x\": temp[\"x_range (m)\"],\n",
    "          \"y\": temp[\"y_range (m)\"],\n",
    "         }\n",
    "\n",
    "threshold = 10000000\n",
    "for dimension, ranger in ranges.items():\n",
    "    if ranger < threshold:\n",
    "        smallest_dimension = dimension\n",
    "        threshold = ranger\n",
    "print(\"smallest dimension\", smallest_dimension)\n",
    "\n",
    "x_spacing, dx = np.linspace(x[0], x[1], n_points, retstep=True)\n",
    "y_spacing, dy = np.linspace(y[0], y[1], n_points, retstep=True)\n",
    "\n",
    "steps = {\"x\": dx,\n",
    "         \"y\": dy,\n",
    "        }\n",
    "\n",
    "print(\"theoretical x spacing: \", dx)\n",
    "\n",
    "xgrid = np.arange(x[0]-dx, x[1]+dx, steps[smallest_dimension])\n",
    "ygrid = np.arange(y[0]-dy, y[1]+dy, steps[smallest_dimension])\n",
    "\n",
    "print(\"actual x spacing: \", xgrid[1] - xgrid[0])\n",
    "print(\"actual y spacing: \", ygrid[1] - ygrid[0])\n",
    "\n",
    "temp[\"x_spacing (m)\"] = np.round(xgrid[1] - xgrid[0], 2)\n",
    "temp[\"y_spacing (m)\"] = np.round(ygrid[1] - ygrid[0], 2)\n",
    "\n",
    "print(\"Number of points: \", len(xgrid) * len(ygrid))\n",
    "print(\"xy grid: \", len(xgrid), len(ygrid), \"\\n\")\n",
    "\n",
    "temp[\"#xgrid_points\"] = len(xgrid)\n",
    "temp[\"#ygrid_points\"] = len(ygrid)\n",
    "temp[\"#total_grid_nodes\"] = len(xgrid) * len(ygrid)\n",
    "\n",
    "coordinates_grids = [xgrid, ygrid]\n",
    "coordinates_grids_details = temp\n",
    "\n",
    "# Assigned to a different variable (name) because later on 'grid' gets used in the code\n",
    "grid = coordinates_grids"
   ]
  },
  {
   "cell_type": "markdown",
   "metadata": {},
   "source": [
    "## Classification map\n",
    "___"
   ]
  },
  {
   "cell_type": "markdown",
   "metadata": {},
   "source": [
    "We will have to decide on a certain classification scheme before we could use this.  \n",
    "Another option might be to use a condensed version of the 'type_granite' column."
   ]
  },
  {
   "cell_type": "markdown",
   "metadata": {},
   "source": [
    "**Yep**"
   ]
  },
  {
   "cell_type": "markdown",
   "metadata": {},
   "source": [
    "## Detrending\n",
    "____"
   ]
  },
  {
   "cell_type": "code",
   "execution_count": 24,
   "metadata": {},
   "outputs": [
    {
     "name": "stdout",
     "output_type": "stream",
     "text": [
      "R² for PC01 order = 1 :\n"
     ]
    },
    {
     "data": {
      "text/plain": [
       "0.040766245168342596"
      ]
     },
     "execution_count": 24,
     "metadata": {},
     "output_type": "execute_result"
    },
    {
     "name": "stdout",
     "output_type": "stream",
     "text": [
      "R² for PC01 order = 2 :\n"
     ]
    },
    {
     "data": {
      "text/plain": [
       "0.049253943796217614"
      ]
     },
     "execution_count": 24,
     "metadata": {},
     "output_type": "execute_result"
    },
    {
     "name": "stdout",
     "output_type": "stream",
     "text": [
      "R² for PC02 order = 1 :\n"
     ]
    },
    {
     "data": {
      "text/plain": [
       "0.08524948333575544"
      ]
     },
     "execution_count": 24,
     "metadata": {},
     "output_type": "execute_result"
    },
    {
     "name": "stdout",
     "output_type": "stream",
     "text": [
      "R² for PC02 order = 2 :\n"
     ]
    },
    {
     "data": {
      "text/plain": [
       "0.11660237104683191"
      ]
     },
     "execution_count": 24,
     "metadata": {},
     "output_type": "execute_result"
    },
    {
     "name": "stdout",
     "output_type": "stream",
     "text": [
      "R² for PC03 order = 1 :\n"
     ]
    },
    {
     "data": {
      "text/plain": [
       "0.0010756002805327736"
      ]
     },
     "execution_count": 24,
     "metadata": {},
     "output_type": "execute_result"
    },
    {
     "name": "stdout",
     "output_type": "stream",
     "text": [
      "R² for PC03 order = 2 :\n"
     ]
    },
    {
     "data": {
      "text/plain": [
       "0.001481792341139987"
      ]
     },
     "execution_count": 24,
     "metadata": {},
     "output_type": "execute_result"
    },
    {
     "name": "stdout",
     "output_type": "stream",
     "text": [
      "R² for PC04 order = 1 :\n"
     ]
    },
    {
     "data": {
      "text/plain": [
       "0.013860931632997064"
      ]
     },
     "execution_count": 24,
     "metadata": {},
     "output_type": "execute_result"
    },
    {
     "name": "stdout",
     "output_type": "stream",
     "text": [
      "R² for PC04 order = 2 :\n"
     ]
    },
    {
     "data": {
      "text/plain": [
       "0.020895922605576045"
      ]
     },
     "execution_count": 24,
     "metadata": {},
     "output_type": "execute_result"
    },
    {
     "name": "stdout",
     "output_type": "stream",
     "text": [
      "R² for PC05 order = 1 :\n"
     ]
    },
    {
     "data": {
      "text/plain": [
       "0.004926706870225672"
      ]
     },
     "execution_count": 24,
     "metadata": {},
     "output_type": "execute_result"
    },
    {
     "name": "stdout",
     "output_type": "stream",
     "text": [
      "R² for PC05 order = 2 :\n"
     ]
    },
    {
     "data": {
      "text/plain": [
       "0.006466612204490962"
      ]
     },
     "execution_count": 24,
     "metadata": {},
     "output_type": "execute_result"
    },
    {
     "name": "stdout",
     "output_type": "stream",
     "text": [
      "R² for PC06 order = 1 :\n"
     ]
    },
    {
     "data": {
      "text/plain": [
       "0.0006084174769093176"
      ]
     },
     "execution_count": 24,
     "metadata": {},
     "output_type": "execute_result"
    },
    {
     "name": "stdout",
     "output_type": "stream",
     "text": [
      "R² for PC06 order = 2 :\n"
     ]
    },
    {
     "data": {
      "text/plain": [
       "0.0018464387289678363"
      ]
     },
     "execution_count": 24,
     "metadata": {},
     "output_type": "execute_result"
    },
    {
     "name": "stdout",
     "output_type": "stream",
     "text": [
      "R² for PC07 order = 1 :\n"
     ]
    },
    {
     "data": {
      "text/plain": [
       "0.009197337624873736"
      ]
     },
     "execution_count": 24,
     "metadata": {},
     "output_type": "execute_result"
    },
    {
     "name": "stdout",
     "output_type": "stream",
     "text": [
      "R² for PC07 order = 2 :\n"
     ]
    },
    {
     "data": {
      "text/plain": [
       "0.017292446442148002"
      ]
     },
     "execution_count": 24,
     "metadata": {},
     "output_type": "execute_result"
    },
    {
     "name": "stdout",
     "output_type": "stream",
     "text": [
      "R² for PC08 order = 1 :\n"
     ]
    },
    {
     "data": {
      "text/plain": [
       "0.0035551747436601833"
      ]
     },
     "execution_count": 24,
     "metadata": {},
     "output_type": "execute_result"
    },
    {
     "name": "stdout",
     "output_type": "stream",
     "text": [
      "R² for PC08 order = 2 :\n"
     ]
    },
    {
     "data": {
      "text/plain": [
       "0.01902534459306049"
      ]
     },
     "execution_count": 24,
     "metadata": {},
     "output_type": "execute_result"
    },
    {
     "name": "stdout",
     "output_type": "stream",
     "text": [
      "R² for PC09 order = 1 :\n"
     ]
    },
    {
     "data": {
      "text/plain": [
       "0.04104585934168792"
      ]
     },
     "execution_count": 24,
     "metadata": {},
     "output_type": "execute_result"
    },
    {
     "name": "stdout",
     "output_type": "stream",
     "text": [
      "R² for PC09 order = 2 :\n"
     ]
    },
    {
     "data": {
      "text/plain": [
       "0.05474585399279763"
      ]
     },
     "execution_count": 24,
     "metadata": {},
     "output_type": "execute_result"
    },
    {
     "name": "stdout",
     "output_type": "stream",
     "text": [
      "R² for PC10 order = 1 :\n"
     ]
    },
    {
     "data": {
      "text/plain": [
       "0.006103223094531818"
      ]
     },
     "execution_count": 24,
     "metadata": {},
     "output_type": "execute_result"
    },
    {
     "name": "stdout",
     "output_type": "stream",
     "text": [
      "R² for PC10 order = 2 :\n"
     ]
    },
    {
     "data": {
      "text/plain": [
       "0.022879548996537658"
      ]
     },
     "execution_count": 24,
     "metadata": {},
     "output_type": "execute_result"
    }
   ],
   "source": [
    "# Check if there is a trend present in the data\n",
    "# This is the case if R² is above say 0.70 \n",
    "\n",
    "for component in mineralogy_pca_df.columns.tolist()[:-1]:\n",
    "    for order in [1, 2]:\n",
    "        print(\"R² for\", component, \"order =\", order, \":\")\n",
    "        detrending.detrend(coordinates_utm, \n",
    "                           mineralogy_pca_df[component], \n",
    "                           order=order, \n",
    "                           verbose=False, \n",
    "                           plot_points=False)[1]"
   ]
  },
  {
   "cell_type": "markdown",
   "metadata": {},
   "source": [
    "## Variogram modelling\n",
    "___"
   ]
  },
  {
   "cell_type": "markdown",
   "metadata": {},
   "source": [
    "* Variogram model (str)\n",
    "* Sill (float)\n",
    "* Range (float)\n",
    "* Nugget (float)\n",
    "* Number of lag bins (int)\n",
    "* Weighted (Bool)"
   ]
  },
  {
   "cell_type": "code",
   "execution_count": 25,
   "metadata": {},
   "outputs": [],
   "source": [
    "# Nugget (variance at lag=0 metric)\n",
    "\n",
    "# Since we are not dealing with point count data here,\n",
    "# we can not use the formulas from our paper we have talked about\n",
    "# Therefore I would just start with nugget=0 and perhaps later change this\n",
    "\n",
    "# Depending on how many principal components you will use, \n",
    "# you will have to add more entries to this list.\n",
    "nugget_ = [0.9524, 0.4960, 0.2587, 0.2157, 0.2123, 0.1952, 0.1090, 0.04132, 0.01267, 0., 0., 0., 0., 0., 0.]"
   ]
  },
  {
   "cell_type": "code",
   "execution_count": 26,
   "metadata": {},
   "outputs": [
    {
     "data": {
      "text/plain": [
       "['01', '02', '03', '04', '05', '06', '07', '08', '09', '10', '11']"
      ]
     },
     "execution_count": 26,
     "metadata": {},
     "output_type": "execute_result"
    }
   ],
   "source": [
    "PC_nr_list = [nr[2:] for nr in mineralogy_pca_df.columns]\n",
    "PC_nr_list"
   ]
  },
  {
   "cell_type": "code",
   "execution_count": 27,
   "metadata": {},
   "outputs": [],
   "source": [
    "# Sill (total variance metric)\n",
    "\n",
    "# A 'list comprehension' construction is used here\n",
    "sill_ = [mineralogy_pca_df.loc[:, f\"PC{i}\"].values.var(ddof=1) \n",
    "         for i in PC_nr_list]"
   ]
  },
  {
   "cell_type": "code",
   "execution_count": 28,
   "metadata": {},
   "outputs": [],
   "source": [
    "# Variogram model parameters dictionary\n",
    "\n",
    "variogram_model_parameters = {}\n",
    "\n",
    "for i, PC in enumerate(mineralogy_pca_df.columns):\n",
    "    parameters = {}\n",
    "    parameters[\"sill\"] = sill_[i]\n",
    "    parameters[\"range\"] = range_[i]\n",
    "    parameters[\"nugget\"] = nugget_[i]\n",
    "        \n",
    "    variogram_model_parameters[PC] = parameters"
   ]
  },
  {
   "cell_type": "code",
   "execution_count": 29,
   "metadata": {},
   "outputs": [],
   "source": [
    "# Variogram model\n",
    "\n",
    "# You can choose between [\"exponential\", \"linear\", \"spherical\", \"power\", \"gaussian\"]\n",
    "# see https://pykrige.readthedocs.io/en/latest/variogram_models.html for equations\n",
    "variogram_model = \"exponential\""
   ]
  },
  {
   "cell_type": "code",
   "execution_count": 30,
   "metadata": {},
   "outputs": [
    {
     "data": {
      "text/plain": [
       "32"
      ]
     },
     "execution_count": 30,
     "metadata": {},
     "output_type": "execute_result"
    }
   ],
   "source": [
    "# Number of lag bins\n",
    "\n",
    "n_lags = int(np.floor(np.sqrt(coordinates_utm.shape[0])))\n",
    "n_lags"
   ]
  },
  {
   "cell_type": "code",
   "execution_count": 31,
   "metadata": {},
   "outputs": [],
   "source": [
    "# Set utm coordinates to use in variogram\n",
    "\n",
    "X = coordinates_utm.iloc[:, 0].values\n",
    "Y = coordinates_utm.iloc[:, 1].values"
   ]
  },
  {
   "cell_type": "code",
   "execution_count": 32,
   "metadata": {},
   "outputs": [
    {
     "name": "stdout",
     "output_type": "stream",
     "text": [
      "PC01\n",
      "Plotting Enabled\n",
      "\n",
      "Adjusting data for anisotropy...\n",
      "Initializing variogram model...\n",
      "Coordinates type: 'euclidean' \n",
      "\n",
      "Using 'exponential' Variogram Model\n",
      "Partial Sill: 0.6349090104005547\n",
      "Full Sill: 1.5873090104005547\n",
      "Range: 50000\n",
      "Nugget: 0.9524 \n",
      "\n"
     ]
    },
    {
     "data": {
      "image/png": "[encoded data removed]",
      "text/plain": [
       "<Figure size 432x288 with 1 Axes>"
      ]
     },
     "metadata": {
      "needs_background": "light"
     },
     "output_type": "display_data"
    },
    {
     "name": "stdout",
     "output_type": "stream",
     "text": [
      "Calculating statistics on variogram model fit...\n",
      "PC02\n",
      "Plotting Enabled\n",
      "\n",
      "Adjusting data for anisotropy...\n",
      "Initializing variogram model...\n",
      "Coordinates type: 'euclidean' \n",
      "\n",
      "Using 'exponential' Variogram Model\n",
      "Partial Sill: 0.21262938816088373\n",
      "Full Sill: 0.7086293881608837\n",
      "Range: 50000\n",
      "Nugget: 0.496 \n",
      "\n"
     ]
    },
    {
     "data": {
      "image/png": "[encoded data removed]",
      "text/plain": [
       "<Figure size 432x288 with 1 Axes>"
      ]
     },
     "metadata": {
      "needs_background": "light"
     },
     "output_type": "display_data"
    },
    {
     "name": "stdout",
     "output_type": "stream",
     "text": [
      "Calculating statistics on variogram model fit...\n",
      "PC03\n",
      "Plotting Enabled\n",
      "\n",
      "Adjusting data for anisotropy...\n",
      "Initializing variogram model...\n",
      "Coordinates type: 'euclidean' \n",
      "\n",
      "Using 'exponential' Variogram Model\n",
      "Partial Sill: 0.11087115266775993\n",
      "Full Sill: 0.3695711526677599\n",
      "Range: 50000\n",
      "Nugget: 0.2587 \n",
      "\n"
     ]
    },
    {
     "data": {
      "image/png": "[encoded data removed]",
      "text/plain": [
       "<Figure size 432x288 with 1 Axes>"
      ]
     },
     "metadata": {
      "needs_background": "light"
     },
     "output_type": "display_data"
    },
    {
     "name": "stdout",
     "output_type": "stream",
     "text": [
      "Calculating statistics on variogram model fit...\n",
      "PC04\n",
      "Plotting Enabled\n",
      "\n",
      "Adjusting data for anisotropy...\n",
      "Initializing variogram model...\n",
      "Coordinates type: 'euclidean' \n",
      "\n",
      "Using 'exponential' Variogram Model\n",
      "Partial Sill: 0.09247757711457444\n",
      "Full Sill: 0.30817757711457444\n",
      "Range: 50000\n",
      "Nugget: 0.2157 \n",
      "\n"
     ]
    },
    {
     "data": {
      "image/png": "[encoded data removed]",
      "text/plain": [
       "<Figure size 432x288 with 1 Axes>"
      ]
     },
     "metadata": {
      "needs_background": "light"
     },
     "output_type": "display_data"
    },
    {
     "name": "stdout",
     "output_type": "stream",
     "text": [
      "Calculating statistics on variogram model fit...\n",
      "PC05\n",
      "Plotting Enabled\n",
      "\n",
      "Adjusting data for anisotropy...\n",
      "Initializing variogram model...\n",
      "Coordinates type: 'euclidean' \n",
      "\n",
      "Using 'exponential' Variogram Model\n",
      "Partial Sill: 0.053084970443871005\n",
      "Full Sill: 0.265384970443871\n",
      "Range: 50000\n",
      "Nugget: 0.2123 \n",
      "\n"
     ]
    },
    {
     "data": {
      "image/png": "[encoded data removed]",
      "text/plain": [
       "<Figure size 432x288 with 1 Axes>"
      ]
     },
     "metadata": {
      "needs_background": "light"
     },
     "output_type": "display_data"
    },
    {
     "name": "stdout",
     "output_type": "stream",
     "text": [
      "Calculating statistics on variogram model fit...\n",
      "PC06\n",
      "Plotting Enabled\n",
      "\n",
      "Adjusting data for anisotropy...\n",
      "Initializing variogram model...\n",
      "Coordinates type: 'euclidean' \n",
      "\n",
      "Using 'exponential' Variogram Model\n",
      "Partial Sill: 0.048832123548826684\n",
      "Full Sill: 0.2440321235488267\n",
      "Range: 50000\n",
      "Nugget: 0.1952 \n",
      "\n"
     ]
    },
    {
     "data": {
      "image/png": "[encoded data removed]",
      "text/plain": [
       "<Figure size 432x288 with 1 Axes>"
      ]
     },
     "metadata": {
      "needs_background": "light"
     },
     "output_type": "display_data"
    },
    {
     "name": "stdout",
     "output_type": "stream",
     "text": [
      "Calculating statistics on variogram model fit...\n",
      "PC07\n",
      "Plotting Enabled\n",
      "\n",
      "Adjusting data for anisotropy...\n",
      "Initializing variogram model...\n",
      "Coordinates type: 'euclidean' \n",
      "\n",
      "Using 'exponential' Variogram Model\n",
      "Partial Sill: 0.046732165055388256\n",
      "Full Sill: 0.15573216505538826\n",
      "Range: 50000\n",
      "Nugget: 0.109 \n",
      "\n"
     ]
    },
    {
     "data": {
      "image/png": "[encoded data removed]",
      "text/plain": [
       "<Figure size 432x288 with 1 Axes>"
      ]
     },
     "metadata": {
      "needs_background": "light"
     },
     "output_type": "display_data"
    },
    {
     "name": "stdout",
     "output_type": "stream",
     "text": [
      "Calculating statistics on variogram model fit...\n",
      "PC08\n",
      "Plotting Enabled\n",
      "\n",
      "Adjusting data for anisotropy...\n",
      "Initializing variogram model...\n",
      "Coordinates type: 'euclidean' \n",
      "\n",
      "Using 'exponential' Variogram Model\n",
      "Partial Sill: 0.02754911611548814\n",
      "Full Sill: 0.06886911611548814\n",
      "Range: 50000\n",
      "Nugget: 0.04132 \n",
      "\n"
     ]
    },
    {
     "data": {
      "image/png": "[encoded data removed]",
      "text/plain": [
       "<Figure size 432x288 with 1 Axes>"
      ]
     },
     "metadata": {
      "needs_background": "light"
     },
     "output_type": "display_data"
    },
    {
     "name": "stdout",
     "output_type": "stream",
     "text": [
      "Calculating statistics on variogram model fit...\n",
      "PC09\n",
      "Plotting Enabled\n",
      "\n",
      "Adjusting data for anisotropy...\n",
      "Initializing variogram model...\n",
      "Coordinates type: 'euclidean' \n",
      "\n",
      "Using 'exponential' Variogram Model\n",
      "Partial Sill: 0.005432110663962021\n",
      "Full Sill: 0.018102110663962022\n",
      "Range: 50000\n",
      "Nugget: 0.01267 \n",
      "\n"
     ]
    },
    {
     "data": {
      "image/png": "[encoded data removed]",
      "text/plain": [
       "<Figure size 432x288 with 1 Axes>"
      ]
     },
     "metadata": {
      "needs_background": "light"
     },
     "output_type": "display_data"
    },
    {
     "name": "stdout",
     "output_type": "stream",
     "text": [
      "Calculating statistics on variogram model fit...\n",
      "PC10\n",
      "Plotting Enabled\n",
      "\n",
      "Adjusting data for anisotropy...\n",
      "Initializing variogram model...\n",
      "Coordinates type: 'euclidean' \n",
      "\n",
      "Using 'exponential' Variogram Model\n",
      "Partial Sill: 0.005254722305621804\n",
      "Full Sill: 0.005254722305621804\n",
      "Range: 100000\n",
      "Nugget: 0.0 \n",
      "\n"
     ]
    },
    {
     "data": {
      "image/png": "[encoded data removed]",
      "text/plain": [
       "<Figure size 432x288 with 1 Axes>"
      ]
     },
     "metadata": {
      "needs_background": "light"
     },
     "output_type": "display_data"
    },
    {
     "name": "stdout",
     "output_type": "stream",
     "text": [
      "Calculating statistics on variogram model fit...\n",
      "Wall time: 6.17 s\n"
     ]
    }
   ],
   "source": [
    "%%time\n",
    "# Initialize empty dictionary\n",
    "variograms = {}\n",
    "\n",
    "# Loop though the diiferent principal components\n",
    "for component in mineralogy_pca_df.columns.tolist()[:-1]:\n",
    "    print(component)\n",
    "    # Subset principal component to use\n",
    "    data = mineralogy_pca_df.loc[:, component].values\n",
    "    variograms[component] = \\\n",
    "        OrdinaryKriging(X, Y, data,\n",
    "                        variogram_model='exponential',\n",
    "                        variogram_parameters=variogram_model_parameters[component],\n",
    "                        nlags=n_lags,\n",
    "                        verbose=True,\n",
    "                        enable_statistics=False,\n",
    "                        enable_plotting=True,\n",
    "                        weight=True,\n",
    "                        saveplot=True,\n",
    "                        coordinates_type='euclidean',\n",
    "                        saveloc=\"../_FIGURES/variograms/\",\n",
    "                        principal_component=component,\n",
    "                        pluton=group_name,\n",
    "                        show_nlag_pairs=False, # Turn off displaying number of lag pairs in lag bin\n",
    "                        show_range_determine_guide=True, # 0.95 * sill highlighted with blue line to help determining range\n",
    "                        range_estimate=50000) # Pass in value in meters to display a line at range estimate; set value to None to not display line\n",
    "    \n",
    "# NOTE that ideally Q1 is close to zero, Q2 is close to 1, and cR is as small as possible."
   ]
  },
  {
   "cell_type": "markdown",
   "metadata": {},
   "source": [
    "## Leave One Out Cross Validation (LOOCV) of PCA\n",
    "____"
   ]
  },
  {
   "cell_type": "code",
   "execution_count": 33,
   "metadata": {},
   "outputs": [],
   "source": [
    "# If you have run the cross validation before you can load the results by\n",
    "# running this cell and don't have to run the next cell anymore.\n",
    "CV_results = preproc.load_obj(\"CV_results_fast\")"
   ]
  },
  {
   "cell_type": "code",
   "execution_count": 34,
   "metadata": {},
   "outputs": [],
   "source": [
    "# Use this cross validation to check the hyper-parameters of your chosen variogram model \n",
    "# such as the search_radius, variogram_model, lag_bins etc.\n",
    "\n",
    "# Cross validation parameter dictionary to use\n",
    "# You can remove or add options here which will decrease or increase the number \n",
    "# of combinations of parameters the cross validation will run\n",
    "cv_param_dict = {}\n",
    "\n",
    "for component in mineralogy_pca_df.columns.tolist()[:-1]:\n",
    "    cv_param_dict[component] = {\"method\": [\"ordinary\"],\n",
    "                                \"variogram_model\": [\"exponential\", \"spherical\"],\n",
    "                                \"variogram_model_parameters\": [variogram_model_parameters[component]],\n",
    "                                \"nlags\": [n_lags],\n",
    "                                \"weight\": [True],\n",
    "                                \"n_closest_points\": [number_of_control_points],\n",
    "                                \"search_radius\": [range_[0]]\n",
    "                                }\n",
    "\n",
    "# The CV function below uses parallel processing to speed things up\n",
    "# Your CPU will thus reach 100% probably\n",
    "# To reduce the number of parallel processes to use you can change the following value\n",
    "# Defaults to -1 to use all available CPU cores; change to number between 1 and 8 e.g. \n",
    "# depending on how many cores your CPU has\n",
    "n_jobs = -1 "
   ]
  },
  {
   "cell_type": "code",
   "execution_count": 35,
   "metadata": {},
   "outputs": [
    {
     "name": "stdout",
     "output_type": "stream",
     "text": [
      "PC01\n",
      "Fitting 10 folds for each of 2 candidates, totalling 20 fits\n"
     ]
    },
    {
     "name": "stderr",
     "output_type": "stream",
     "text": [
      "[Parallel(n_jobs=-1)]: Using backend LokyBackend with 8 concurrent workers.\n",
      "[Parallel(n_jobs=-1)]: Done   2 tasks      | elapsed:    4.1s\n",
      "[Parallel(n_jobs=-1)]: Done  10 out of  20 | elapsed:    5.4s remaining:    5.4s\n",
      "[Parallel(n_jobs=-1)]: Done  15 out of  20 | elapsed:    5.6s remaining:    1.8s\n",
      "[Parallel(n_jobs=-1)]: Done  20 out of  20 | elapsed:    6.1s remaining:    0.0s\n",
      "[Parallel(n_jobs=-1)]: Done  20 out of  20 | elapsed:    6.1s finished\n",
      "C:\\Users\\Sebastian\\Anaconda3\\envs\\main\\lib\\site-packages\\sklearn\\model_selection\\_search.py:825: FutureWarning: The parameter 'iid' is deprecated in 0.22 and will be removed in 0.24.\n",
      "  \"removed in 0.24.\", FutureWarning\n",
      "[Parallel(n_jobs=-1)]: Using backend LokyBackend with 8 concurrent workers.\n"
     ]
    },
    {
     "name": "stdout",
     "output_type": "stream",
     "text": [
      "PC02\n",
      "Fitting 10 folds for each of 2 candidates, totalling 20 fits\n"
     ]
    },
    {
     "name": "stderr",
     "output_type": "stream",
     "text": [
      "[Parallel(n_jobs=-1)]: Done   2 tasks      | elapsed:    1.1s\n",
      "[Parallel(n_jobs=-1)]: Done  10 out of  20 | elapsed:    2.3s remaining:    2.3s\n",
      "[Parallel(n_jobs=-1)]: Done  15 out of  20 | elapsed:    2.5s remaining:    0.8s\n",
      "[Parallel(n_jobs=-1)]: Done  20 out of  20 | elapsed:    3.2s remaining:    0.0s\n",
      "[Parallel(n_jobs=-1)]: Done  20 out of  20 | elapsed:    3.2s finished\n"
     ]
    },
    {
     "name": "stdout",
     "output_type": "stream",
     "text": [
      "PC03\n",
      "Fitting 10 folds for each of 2 candidates, totalling 20 fits\n"
     ]
    },
    {
     "name": "stderr",
     "output_type": "stream",
     "text": [
      "[Parallel(n_jobs=-1)]: Using backend LokyBackend with 8 concurrent workers.\n",
      "[Parallel(n_jobs=-1)]: Done   2 tasks      | elapsed:    1.1s\n",
      "[Parallel(n_jobs=-1)]: Done  10 out of  20 | elapsed:    2.4s remaining:    2.4s\n",
      "[Parallel(n_jobs=-1)]: Done  15 out of  20 | elapsed:    2.5s remaining:    0.8s\n",
      "[Parallel(n_jobs=-1)]: Done  20 out of  20 | elapsed:    3.2s remaining:    0.0s\n",
      "[Parallel(n_jobs=-1)]: Done  20 out of  20 | elapsed:    3.2s finished\n",
      "[Parallel(n_jobs=-1)]: Using backend LokyBackend with 8 concurrent workers.\n"
     ]
    },
    {
     "name": "stdout",
     "output_type": "stream",
     "text": [
      "PC04\n",
      "Fitting 10 folds for each of 2 candidates, totalling 20 fits\n"
     ]
    },
    {
     "name": "stderr",
     "output_type": "stream",
     "text": [
      "[Parallel(n_jobs=-1)]: Done   2 tasks      | elapsed:    1.1s\n",
      "[Parallel(n_jobs=-1)]: Done  10 out of  20 | elapsed:    2.3s remaining:    2.3s\n",
      "[Parallel(n_jobs=-1)]: Done  15 out of  20 | elapsed:    2.4s remaining:    0.7s\n",
      "[Parallel(n_jobs=-1)]: Done  20 out of  20 | elapsed:    3.1s remaining:    0.0s\n",
      "[Parallel(n_jobs=-1)]: Done  20 out of  20 | elapsed:    3.1s finished\n",
      "[Parallel(n_jobs=-1)]: Using backend LokyBackend with 8 concurrent workers.\n"
     ]
    },
    {
     "name": "stdout",
     "output_type": "stream",
     "text": [
      "PC05\n",
      "Fitting 10 folds for each of 2 candidates, totalling 20 fits\n"
     ]
    },
    {
     "name": "stderr",
     "output_type": "stream",
     "text": [
      "[Parallel(n_jobs=-1)]: Done   2 tasks      | elapsed:    1.1s\n",
      "[Parallel(n_jobs=-1)]: Done  10 out of  20 | elapsed:    2.3s remaining:    2.3s\n",
      "[Parallel(n_jobs=-1)]: Done  15 out of  20 | elapsed:    2.4s remaining:    0.7s\n",
      "[Parallel(n_jobs=-1)]: Done  20 out of  20 | elapsed:    3.2s remaining:    0.0s\n",
      "[Parallel(n_jobs=-1)]: Done  20 out of  20 | elapsed:    3.2s finished\n"
     ]
    },
    {
     "name": "stdout",
     "output_type": "stream",
     "text": [
      "PC06\n",
      "Fitting 10 folds for each of 2 candidates, totalling 20 fits\n"
     ]
    },
    {
     "name": "stderr",
     "output_type": "stream",
     "text": [
      "[Parallel(n_jobs=-1)]: Using backend LokyBackend with 8 concurrent workers.\n",
      "[Parallel(n_jobs=-1)]: Done   2 tasks      | elapsed:    1.1s\n",
      "[Parallel(n_jobs=-1)]: Done  10 out of  20 | elapsed:    2.3s remaining:    2.3s\n",
      "[Parallel(n_jobs=-1)]: Done  15 out of  20 | elapsed:    2.4s remaining:    0.7s\n",
      "[Parallel(n_jobs=-1)]: Done  20 out of  20 | elapsed:    3.2s remaining:    0.0s\n",
      "[Parallel(n_jobs=-1)]: Done  20 out of  20 | elapsed:    3.2s finished\n",
      "[Parallel(n_jobs=-1)]: Using backend LokyBackend with 8 concurrent workers.\n"
     ]
    },
    {
     "name": "stdout",
     "output_type": "stream",
     "text": [
      "PC07\n",
      "Fitting 10 folds for each of 2 candidates, totalling 20 fits\n"
     ]
    },
    {
     "name": "stderr",
     "output_type": "stream",
     "text": [
      "[Parallel(n_jobs=-1)]: Done   2 tasks      | elapsed:    1.1s\n",
      "[Parallel(n_jobs=-1)]: Done  10 out of  20 | elapsed:    2.3s remaining:    2.3s\n",
      "[Parallel(n_jobs=-1)]: Done  15 out of  20 | elapsed:    2.4s remaining:    0.7s\n",
      "[Parallel(n_jobs=-1)]: Done  20 out of  20 | elapsed:    3.2s remaining:    0.0s\n",
      "[Parallel(n_jobs=-1)]: Done  20 out of  20 | elapsed:    3.2s finished\n",
      "[Parallel(n_jobs=-1)]: Using backend LokyBackend with 8 concurrent workers.\n"
     ]
    },
    {
     "name": "stdout",
     "output_type": "stream",
     "text": [
      "PC08\n",
      "Fitting 10 folds for each of 2 candidates, totalling 20 fits\n"
     ]
    },
    {
     "name": "stderr",
     "output_type": "stream",
     "text": [
      "[Parallel(n_jobs=-1)]: Done   2 tasks      | elapsed:    1.2s\n",
      "[Parallel(n_jobs=-1)]: Done  10 out of  20 | elapsed:    2.4s remaining:    2.4s\n",
      "[Parallel(n_jobs=-1)]: Done  15 out of  20 | elapsed:    2.5s remaining:    0.8s\n",
      "[Parallel(n_jobs=-1)]: Done  20 out of  20 | elapsed:    3.3s remaining:    0.0s\n",
      "[Parallel(n_jobs=-1)]: Done  20 out of  20 | elapsed:    3.3s finished\n",
      "[Parallel(n_jobs=-1)]: Using backend LokyBackend with 8 concurrent workers.\n"
     ]
    },
    {
     "name": "stdout",
     "output_type": "stream",
     "text": [
      "PC09\n",
      "Fitting 10 folds for each of 2 candidates, totalling 20 fits\n"
     ]
    },
    {
     "name": "stderr",
     "output_type": "stream",
     "text": [
      "[Parallel(n_jobs=-1)]: Done   2 tasks      | elapsed:    1.1s\n",
      "[Parallel(n_jobs=-1)]: Done  10 out of  20 | elapsed:    2.2s remaining:    2.2s\n",
      "[Parallel(n_jobs=-1)]: Done  15 out of  20 | elapsed:    2.4s remaining:    0.7s\n"
     ]
    },
    {
     "name": "stdout",
     "output_type": "stream",
     "text": [
      "Wall time: 33.8 s\n"
     ]
    },
    {
     "name": "stderr",
     "output_type": "stream",
     "text": [
      "[Parallel(n_jobs=-1)]: Done  20 out of  20 | elapsed:    3.1s remaining:    0.0s\n",
      "[Parallel(n_jobs=-1)]: Done  20 out of  20 | elapsed:    3.1s finished\n"
     ]
    }
   ],
   "source": [
    "%%time\n",
    "# Run CV and get estimators (using default MSE scorer)\n",
    "\n",
    "# Instead of running the CV for all the PCs, let's start with only the first 3 \n",
    "# to get an idea of what are the best parameters to use for the first 3 PCs.\n",
    "# In a later step we can then obtain the best parameters for all PCs that have \n",
    "# a sensible variogram; here this would mean up to and including PC09.\n",
    "# To specify which PCs to use, you can pass them in as list to the 'components_to_use' variable\n",
    "\n",
    "# Another change I've made, is that instead of performing leave-one-out-CV \n",
    "# where the train set is equal to n_sample - 1 and the test set is equal to 1,\n",
    "# it makes sense to here use a different strategy, since you're dealing with many more samples.\n",
    "# Therefore I've included the 'cv_folds' parameter where you can specify \n",
    "# the number of train/test groups you want to use during CV\n",
    "# Let's start with ten groups, which basically means that \n",
    "# you use 90% of the samples as train set and 10% as test test\n",
    "# and this in 10 combinations.\n",
    "\n",
    "# A a later stage we could change the CV to use a statified cv_fold\n",
    "# meaning that it ensures for example that for every train/test grouping of the 10 groups\n",
    "# equal numbers of samples of spcified grouping variable are used \n",
    "# (for example your time category or classification later on)\n",
    "\n",
    "# I've also included the '%%time' statement at the beginning of the cell,\n",
    "# so that at the end of the calculation you can see how much time it took.\n",
    "\n",
    "# Have a look here if you want some background info on the CV method used:\n",
    "# https://scikit-learn.org/stable/modules/generated/sklearn.model_selection.GridSearchCV.html\n",
    "\n",
    "estimators = loocv.perform_loocv(mineralogy_pca_df,\n",
    "                                 coordinates_utm,\n",
    "                                 cv_param_dict,\n",
    "                                 n_jobs=n_jobs,\n",
    "                                 cv_folds=10,\n",
    "                                 components_to_use=[f\"PC0{i}\" for i in range(1, 10)])"
   ]
  },
  {
   "cell_type": "code",
   "execution_count": 36,
   "metadata": {},
   "outputs": [],
   "source": [
    "# Convert estimators to dict of dataframes\n",
    "CV_results = loocv.convert_scores_to_df(estimators)"
   ]
  },
  {
   "cell_type": "code",
   "execution_count": 37,
   "metadata": {},
   "outputs": [],
   "source": [
    "# Save CV_results to pickle file for easy use later\n",
    "# These are the results from the 56min CV above (with only first 3 PCs)\n",
    "preproc.save_obj(CV_results, \"CV_results_summarized\")"
   ]
  },
  {
   "cell_type": "code",
   "execution_count": 38,
   "metadata": {},
   "outputs": [],
   "source": [
    "# Save CV_results to pickle file for easy use later\n",
    "# These are the results from the 2min CV above (with only first 9 PCs, simple parameters)\n",
    "preproc.save_obj(CV_results, \"CV_results_fast\")"
   ]
  },
  {
   "cell_type": "code",
   "execution_count": 39,
   "metadata": {},
   "outputs": [
    {
     "name": "stdout",
     "output_type": "stream",
     "text": [
      "PC01\n",
      "rank_test_score                    2\n",
      "mean_test_score              1.58915\n",
      "std_test_score               1.13874\n",
      "mean_train_score         1.73497e-31\n",
      "param_method                ordinary\n",
      "param_variogram_model    exponential\n",
      "param_search_radius            50000\n",
      "Name: 0, dtype: object\n",
      "\n",
      "\n",
      "PC02\n",
      "rank_test_score                    2\n",
      "mean_test_score             0.585459\n",
      "std_test_score              0.140696\n",
      "mean_train_score                   0\n",
      "param_method                ordinary\n",
      "param_variogram_model    exponential\n",
      "param_search_radius            50000\n",
      "Name: 0, dtype: object\n",
      "\n",
      "\n",
      "PC03\n",
      "rank_test_score                    2\n",
      "mean_test_score             0.363296\n",
      "std_test_score             0.0911622\n",
      "mean_train_score                   0\n",
      "param_method                ordinary\n",
      "param_variogram_model    exponential\n",
      "param_search_radius            50000\n",
      "Name: 0, dtype: object\n",
      "\n",
      "\n",
      "PC04\n",
      "rank_test_score                    2\n",
      "mean_test_score             0.304507\n",
      "std_test_score             0.0857024\n",
      "mean_train_score                   0\n",
      "param_method                ordinary\n",
      "param_variogram_model    exponential\n",
      "param_search_radius            50000\n",
      "Name: 0, dtype: object\n",
      "\n",
      "\n",
      "PC05\n",
      "rank_test_score                    2\n",
      "mean_test_score             0.275154\n",
      "std_test_score               0.14466\n",
      "mean_train_score                   0\n",
      "param_method                ordinary\n",
      "param_variogram_model    exponential\n",
      "param_search_radius            50000\n",
      "Name: 0, dtype: object\n",
      "\n",
      "\n",
      "PC06\n",
      "rank_test_score                    2\n",
      "mean_test_score             0.245996\n",
      "std_test_score              0.127058\n",
      "mean_train_score                   0\n",
      "param_method                ordinary\n",
      "param_variogram_model    exponential\n",
      "param_search_radius            50000\n",
      "Name: 0, dtype: object\n",
      "\n",
      "\n",
      "PC07\n",
      "rank_test_score                  2\n",
      "mean_test_score           0.148447\n",
      "std_test_score            0.081632\n",
      "mean_train_score                 0\n",
      "param_method              ordinary\n",
      "param_variogram_model    spherical\n",
      "param_search_radius          50000\n",
      "Name: 1, dtype: object\n",
      "\n",
      "\n",
      "PC08\n",
      "rank_test_score                    2\n",
      "mean_test_score            0.0660013\n",
      "std_test_score             0.0160291\n",
      "mean_train_score                   0\n",
      "param_method                ordinary\n",
      "param_variogram_model    exponential\n",
      "param_search_radius            50000\n",
      "Name: 0, dtype: object\n",
      "\n",
      "\n",
      "PC09\n",
      "rank_test_score                    2\n",
      "mean_test_score            0.0169462\n",
      "std_test_score            0.00334563\n",
      "mean_train_score                   0\n",
      "param_method                ordinary\n",
      "param_variogram_model    exponential\n",
      "param_search_radius            50000\n",
      "Name: 0, dtype: object\n",
      "\n",
      "\n"
     ]
    }
   ],
   "source": [
    "# Quick look at best results per PC\n",
    "loocv.print_best_scores(CV_results)"
   ]
  },
  {
   "cell_type": "markdown",
   "metadata": {},
   "source": [
    "## Calculating predictions for best model\n",
    "____"
   ]
  },
  {
   "cell_type": "code",
   "execution_count": 40,
   "metadata": {},
   "outputs": [],
   "source": [
    "# Here you can specify the components and search_radii you want to use \n",
    "# when performing the kriging and performing the postprocessing calculations\n",
    "components_to_use = [f\"PC{i:02d}\" for i in range(1, 3)]\n",
    "search_radii = [range_[0]]"
   ]
  },
  {
   "cell_type": "code",
   "execution_count": 41,
   "metadata": {},
   "outputs": [],
   "source": [
    "estimators_final = {}\n",
    "\n",
    "for component in components_to_use:  # Changed to only first 9 PCs\n",
    "    for radius in search_radii:  # Removed critical_distance\n",
    "        for variable_to_fit in [\"estimates\"]:\n",
    "\n",
    "            estimators_final[f\"{component}_{radius}_{variable_to_fit}\"] = \\\n",
    "                Krige(method='ordinary',\n",
    "                      variogram_model=variogram_model,\n",
    "                      variogram_model_parameters=variogram_model_parameters[component],\n",
    "                      nlags=n_lags,\n",
    "                      weight=True,\n",
    "                      n_closest_points=number_of_control_points,\n",
    "                      search_radius=radius,\n",
    "                      variable_to_fit=variable_to_fit)"
   ]
  },
  {
   "cell_type": "code",
   "execution_count": 42,
   "metadata": {},
   "outputs": [],
   "source": [
    "# Run this cell if you have previously run the next cell and saved its outcome\n",
    "kriging_predictions = preproc.load_obj(\"kriging_predictions\")"
   ]
  },
  {
   "cell_type": "code",
   "execution_count": 43,
   "metadata": {},
   "outputs": [
    {
     "name": "stdout",
     "output_type": "stream",
     "text": [
      "PC01 50000 estimates\n"
     ]
    },
    {
     "name": "stderr",
     "output_type": "stream",
     "text": [
      "[Parallel(n_jobs=4)]: Using backend LokyBackend with 4 concurrent workers.\n",
      "[Parallel(n_jobs=4)]: Done   6 out of  10 | elapsed:    2.5s remaining:    1.7s\n",
      "[Parallel(n_jobs=4)]: Done  10 out of  10 | elapsed:    2.8s finished\n",
      "[Parallel(n_jobs=4)]: Using backend LokyBackend with 4 concurrent workers.\n"
     ]
    },
    {
     "name": "stdout",
     "output_type": "stream",
     "text": [
      "PC02 50000 estimates\n"
     ]
    },
    {
     "name": "stderr",
     "output_type": "stream",
     "text": [
      "[Parallel(n_jobs=4)]: Done   6 out of  10 | elapsed:    0.6s remaining:    0.4s\n"
     ]
    },
    {
     "name": "stdout",
     "output_type": "stream",
     "text": [
      "Wall time: 4.18 s\n"
     ]
    },
    {
     "name": "stderr",
     "output_type": "stream",
     "text": [
      "[Parallel(n_jobs=4)]: Done  10 out of  10 | elapsed:    0.8s finished\n"
     ]
    }
   ],
   "source": [
    "%%time\n",
    "# You can again change the n_jobs to lower the #CPU cores used for parallel processing\n",
    "# Also set the cv_folds variable below\n",
    "cv_folds = 10\n",
    "\n",
    "kriging_predictions = {}\n",
    "\n",
    "for component in components_to_use:  # Changed to only first 9 PCs\n",
    "    for radius in search_radii:  # Removed critical_distance\n",
    "        for variable_to_fit in [\"estimates\"]:\n",
    "            \n",
    "            # Let's print out the combination to see where we are in the loops\n",
    "            print(component, radius, variable_to_fit)\n",
    "            \n",
    "            kriging_predictions[f\"{component}_{radius}_{variable_to_fit}\"] = \\\n",
    "                cross_val_predict(estimators_final[f\"{component}_{radius}_{variable_to_fit}\"], \n",
    "                                  X=np.stack((coordinates_utm[\"X\"],\n",
    "                                              coordinates_utm[\"Y\"]), axis=1),\n",
    "                                  y=mineralogy_pca_df[component],\n",
    "                                  cv=cv_folds,\n",
    "                                  n_jobs=4,\n",
    "                                  verbose=5)"
   ]
  },
  {
   "cell_type": "code",
   "execution_count": 44,
   "metadata": {},
   "outputs": [],
   "source": [
    "preproc.save_obj(kriging_predictions, \"kriging_predictions\")"
   ]
  },
  {
   "cell_type": "markdown",
   "metadata": {},
   "source": [
    "## Calculate clr solutions\n",
    "____"
   ]
  },
  {
   "cell_type": "code",
   "execution_count": 45,
   "metadata": {},
   "outputs": [
    {
     "name": "stdout",
     "output_type": "stream",
     "text": [
      "50000\n"
     ]
    },
    {
     "data": {
      "text/html": [
       "<div>\n",
       "<style scoped>\n",
       "    .dataframe tbody tr th:only-of-type {\n",
       "        vertical-align: middle;\n",
       "    }\n",
       "\n",
       "    .dataframe tbody tr th {\n",
       "        vertical-align: top;\n",
       "    }\n",
       "\n",
       "    .dataframe thead th {\n",
       "        text-align: right;\n",
       "    }\n",
       "</style>\n",
       "<table border=\"1\" class=\"dataframe\">\n",
       "  <thead>\n",
       "    <tr style=\"text-align: right;\">\n",
       "      <th></th>\n",
       "      <th>PC01</th>\n",
       "      <th>PC02</th>\n",
       "    </tr>\n",
       "  </thead>\n",
       "  <tbody>\n",
       "    <tr>\n",
       "      <th>1</th>\n",
       "      <td>0.000000</td>\n",
       "      <td>0.000000</td>\n",
       "    </tr>\n",
       "    <tr>\n",
       "      <th>7</th>\n",
       "      <td>0.989256</td>\n",
       "      <td>0.617834</td>\n",
       "    </tr>\n",
       "    <tr>\n",
       "      <th>8</th>\n",
       "      <td>0.793228</td>\n",
       "      <td>0.632987</td>\n",
       "    </tr>\n",
       "    <tr>\n",
       "      <th>13</th>\n",
       "      <td>0.050444</td>\n",
       "      <td>0.574987</td>\n",
       "    </tr>\n",
       "    <tr>\n",
       "      <th>16</th>\n",
       "      <td>1.332016</td>\n",
       "      <td>0.362040</td>\n",
       "    </tr>\n",
       "  </tbody>\n",
       "</table>\n",
       "</div>"
      ],
      "text/plain": [
       "        PC01      PC02\n",
       "1   0.000000  0.000000\n",
       "7   0.989256  0.617834\n",
       "8   0.793228  0.632987\n",
       "13  0.050444  0.574987\n",
       "16  1.332016  0.362040"
      ]
     },
     "execution_count": 45,
     "metadata": {},
     "output_type": "execute_result"
    }
   ],
   "source": [
    "kriging_estimates_df = {}\n",
    "\n",
    "for radius in search_radii:\n",
    "    temp = {}\n",
    "    \n",
    "    for component in components_to_use:\n",
    "        key = f\"{component}_{radius}_estimates\"\n",
    "        temp[key] = kriging_predictions[key]\n",
    "\n",
    "    kriging_estimates_df[f\"{radius}\"] = pd.DataFrame.from_dict(temp)\n",
    "    kriging_estimates_df[f\"{radius}\"].index = mineralogy_pca_df.index\n",
    "    kriging_estimates_df[f\"{radius}\"].columns = components_to_use\n",
    "    \n",
    "    print(f\"{radius}\")\n",
    "    kriging_estimates_df[f\"{radius}\"].head()"
   ]
  },
  {
   "cell_type": "raw",
   "metadata": {},
   "source": [
    "kriging_variances_df = {}\n",
    "\n",
    "\n",
    "for radius in search_radii:\n",
    "    temp = {}\n",
    "    \n",
    "    for component in components_to_use:\n",
    "        key = f\"{component}_{radius}_variances\"\n",
    "        temp[key] = kriging_predictions[key]\n",
    "        \n",
    "    kriging_variances_df[f\"{radius}\"] = pd.DataFrame.from_dict(temp)\n",
    "    kriging_variances_df[f\"{radius}\"].index = mineralogy_pca_df.index\n",
    "    kriging_variances_df[f\"{radius}\"].columns = components_to_use\n",
    "    \n",
    "    print(f\"{radius}\")\n",
    "    kriging_variances_df[f\"{radius}\"].head()"
   ]
  },
  {
   "cell_type": "raw",
   "metadata": {},
   "source": [
    "kriging_variances_mean_df = {}\n",
    "\n",
    "for radius in search_radii:\n",
    "    kriging_variances_mean_df[f\"{radius}\"] = \\\n",
    "        kriging_variances_df[f\"{radius}\"].mean(axis=0)\n",
    "\n",
    "    print(f\"{radius}\")\n",
    "    kriging_variances_mean_df[f\"{radius}\"]"
   ]
  },
  {
   "cell_type": "code",
   "execution_count": 46,
   "metadata": {},
   "outputs": [],
   "source": [
    "kriging_estimates_clr = {}\n",
    "\n",
    "for ncomp in range(1, len(components_to_use) + 1):\n",
    "    for radius in search_radii:\n",
    "\n",
    "        kriging_estimates_clr[f\"{ncomp}_{radius}\"] = \\\n",
    "            postproc.reverse_pca(mineralogy_pca, \n",
    "                                 kriging_estimates_df[f\"{radius}\"],\n",
    "                                 mineralogy_clr,\n",
    "                                 n_comp=ncomp)"
   ]
  },
  {
   "cell_type": "code",
   "execution_count": 47,
   "metadata": {},
   "outputs": [],
   "source": [
    "solutions_clr = {}\n",
    "\n",
    "for ncomp in range(1, len(components_to_use) + 1):\n",
    "    for radius in search_radii:\n",
    "\n",
    "        solutions_clr[f\"{ncomp}_{radius}\"] = \\\n",
    "            pd.DataFrame(kriging_estimates_clr[f\"{ncomp}_{radius}\"], \n",
    "                         index=mineralogy_clr.index, \n",
    "                         columns=mineralogy_clr.columns)"
   ]
  },
  {
   "cell_type": "code",
   "execution_count": 48,
   "metadata": {},
   "outputs": [],
   "source": [
    "residuals_clr = {}\n",
    "\n",
    "for ncomp in range(1, len(components_to_use) + 1):\n",
    "    for radius in search_radii:\n",
    "\n",
    "        residuals_clr[f\"{ncomp}_{radius}\"] = \\\n",
    "            mineralogy_clr.subtract(solutions_clr[f\"{ncomp}_{radius}\"])"
   ]
  },
  {
   "cell_type": "code",
   "execution_count": 49,
   "metadata": {},
   "outputs": [],
   "source": [
    "for ncomp in range(1, len(components_to_use) + 1):\n",
    "    for radius in search_radii:\n",
    "        temp = pd.merge(residuals_clr[f\"{ncomp}_{radius}\"], \n",
    "                        pd.DataFrame(nvalues_control_points[radius], \n",
    "                                     columns=[\"n_closest_points\"]), \n",
    "                        left_index=True, \n",
    "                        right_index=True)\\\n",
    "                 .sort_values(\"n_closest_points\")\n",
    "        \n",
    "        temp.to_excel(f\"../_RESULTS/Residuals/residuals_clr_{ncomp}_{radius}_{group_name}.xlsx\")"
   ]
  },
  {
   "cell_type": "code",
   "execution_count": 50,
   "metadata": {},
   "outputs": [],
   "source": [
    "preproc.save_obj(residuals_clr, \"residuals_clr\")"
   ]
  },
  {
   "cell_type": "code",
   "execution_count": 51,
   "metadata": {},
   "outputs": [],
   "source": [
    "preproc.save_obj(nvalues_control_points, \"nvalues_control_points\")"
   ]
  },
  {
   "cell_type": "markdown",
   "metadata": {},
   "source": [
    "## Model selection\n",
    "____"
   ]
  },
  {
   "cell_type": "code",
   "execution_count": 52,
   "metadata": {},
   "outputs": [
    {
     "data": {
      "text/plain": [
       "{'1_50000': 3.728306393057234, '2_50000': 3.605889614447373}"
      ]
     },
     "execution_count": 52,
     "metadata": {},
     "output_type": "execute_result"
    },
    {
     "data": {
      "text/plain": [
       "3.605889614447373"
      ]
     },
     "execution_count": 52,
     "metadata": {},
     "output_type": "execute_result"
    },
    {
     "data": {
      "text/plain": [
       "'2_50000'"
      ]
     },
     "execution_count": 52,
     "metadata": {},
     "output_type": "execute_result"
    }
   ],
   "source": [
    "# Get MSPE_Q values and select best model based on it\n",
    "# Make sure the selected model passes the Hotelling's T² 2-sample test above, though\n",
    "MSPE_Q = {}\n",
    "best_MSPE_Q = 1000\n",
    "\n",
    "for ncomp in range(1, len(components_to_use) + 1):\n",
    "    for radius in search_radii:\n",
    "\n",
    "        # Calculate MSPE_Q from clr residuals\n",
    "        MSPE_Q_temp = np.mean(np.sum(residuals_clr[f\"{ncomp}_{radius}\"] ** 2, axis=1), axis=0)\n",
    "\n",
    "        if MSPE_Q_temp < best_MSPE_Q:\n",
    "            # Store best MSPE_Q en corresponding model\n",
    "            best_MSPE_Q = MSPE_Q_temp\n",
    "            selected_model = f\"{ncomp}_{radius}\"\n",
    "\n",
    "        MSPE_Q[f\"{ncomp}_{radius}\"] = MSPE_Q_temp\n",
    "                \n",
    "MSPE_Q\n",
    "best_MSPE_Q\n",
    "selected_model\n",
    "selected_model_PCs = selected_model.split(\"_\")[0]"
   ]
  },
  {
   "cell_type": "code",
   "execution_count": 53,
   "metadata": {},
   "outputs": [],
   "source": [
    "# Number of PCs to use for reverse calculations based on selected model\n",
    "n_comp = int(selected_model.split(\"_\")[0])\n",
    "# Whcih PCs to use moving forward\n",
    "selected_components_to_use = [f\"PC{i:02d}\" for i in range(1, n_comp + 1)]"
   ]
  },
  {
   "cell_type": "code",
   "execution_count": 54,
   "metadata": {},
   "outputs": [
    {
     "data": {
      "text/plain": [
       "['PC01', 'PC02']"
      ]
     },
     "execution_count": 54,
     "metadata": {},
     "output_type": "execute_result"
    }
   ],
   "source": [
    "selected_components_to_use"
   ]
  },
  {
   "cell_type": "markdown",
   "metadata": {},
   "source": [
    "## Contour plots\n",
    "____"
   ]
  },
  {
   "cell_type": "code",
   "execution_count": 55,
   "metadata": {},
   "outputs": [
    {
     "name": "stdout",
     "output_type": "stream",
     "text": [
      "(1039, 2)\n",
      "(266112, 2)\n",
      "352 756\n"
     ]
    },
    {
     "data": {
      "text/plain": [
       "(756, 352)"
      ]
     },
     "execution_count": 55,
     "metadata": {},
     "output_type": "execute_result"
    }
   ],
   "source": [
    "nvalues_critical_distance = \\\n",
    "    variograms[\"PC01\"].determine_mask_array(grid[0], \n",
    "                                            grid[1], \n",
    "                                            search_radius=critical_distance)\n",
    "mask_critical_distance = nvalues_critical_distance < 3\n",
    "mask_critical_distance.shape"
   ]
  },
  {
   "cell_type": "code",
   "execution_count": 56,
   "metadata": {},
   "outputs": [
    {
     "data": {
      "text/plain": [
       "173802"
      ]
     },
     "execution_count": 56,
     "metadata": {},
     "output_type": "execute_result"
    }
   ],
   "source": [
    "mask_critical_distance[mask_critical_distance == 1].sum()"
   ]
  },
  {
   "cell_type": "code",
   "execution_count": 57,
   "metadata": {},
   "outputs": [],
   "source": [
    "non_masked_grid_nodes = \\\n",
    "    grid[0].shape[0] * grid[1].shape[0] \\\n",
    "    - mask_critical_distance[mask_critical_distance == 1].sum()"
   ]
  },
  {
   "cell_type": "code",
   "execution_count": 58,
   "metadata": {},
   "outputs": [],
   "source": [
    "grid_cell_spacing = grid[0][1] - grid[0][0]\n",
    "grid_cell_area = grid_cell_spacing ** 2"
   ]
  },
  {
   "cell_type": "code",
   "execution_count": 59,
   "metadata": {},
   "outputs": [],
   "source": [
    "# Pluton area in m²\n",
    "pluton_area_m2 = non_masked_grid_nodes * grid_cell_area\n",
    "\n",
    "# Pluton area in km²\n",
    "pluton_area_km2 = pluton_area_m2 / 1_000_000"
   ]
  },
  {
   "cell_type": "code",
   "execution_count": 60,
   "metadata": {},
   "outputs": [
    {
     "data": {
      "text/plain": [
       "387603.18054984766"
      ]
     },
     "execution_count": 60,
     "metadata": {},
     "output_type": "execute_result"
    }
   ],
   "source": [
    "pluton_area_km2"
   ]
  },
  {
   "cell_type": "markdown",
   "metadata": {},
   "source": [
    "____"
   ]
  },
  {
   "cell_type": "code",
   "execution_count": 61,
   "metadata": {},
   "outputs": [],
   "source": [
    "interpolated_dict = preproc.load_obj(\"interpolated_dict\")"
   ]
  },
  {
   "cell_type": "code",
   "execution_count": 62,
   "metadata": {},
   "outputs": [],
   "source": [
    "# Since my desktop (with 32GB of RAM) ran out of memory,\n",
    "# I've reduced the grid spacing so that there are fewer grid points \n",
    "# to perform the interpolation for\n",
    "\n",
    "# You could also reduce the number of active CPU cores by decreasing 'n_jobs'\n",
    "# which would reduce memory consumption\n",
    "# so that you could still get a more detailed interpolation grid.\n",
    "# The interpolation will take a bit longer than since \n",
    "# not the maximum number of 'workers' can be used in that case."
   ]
  },
  {
   "cell_type": "code",
   "execution_count": 63,
   "metadata": {},
   "outputs": [
    {
     "name": "stdout",
     "output_type": "stream",
     "text": [
      "Wall time: 1min 25s\n"
     ]
    }
   ],
   "source": [
    "%%time\n",
    "interpolated_parallel = Parallel(n_jobs=1)(delayed(\n",
    "    variograms[component].execute)('masked', \n",
    "                     grid[0], \n",
    "                     grid[1],\n",
    "                     mask_critical_distance,\n",
    "                     n_closest_points=number_of_control_points, \n",
    "                     search_radius=range_[0], \n",
    "                     backend='loop') for component in components_to_use)"
   ]
  },
  {
   "cell_type": "code",
   "execution_count": 64,
   "metadata": {},
   "outputs": [],
   "source": [
    "interpolated_dict = {}\n",
    "for i, item in enumerate(interpolated_parallel, start=1):\n",
    "    interpolated_dict[f\"PC0{i}\"] = item"
   ]
  },
  {
   "cell_type": "code",
   "execution_count": 65,
   "metadata": {},
   "outputs": [],
   "source": [
    "preproc.save_obj(interpolated_dict, \"interpolated_dict\")"
   ]
  },
  {
   "cell_type": "code",
   "execution_count": 66,
   "metadata": {},
   "outputs": [
    {
     "name": "stdout",
     "output_type": "stream",
     "text": [
      "1\n",
      "2\n",
      "(2, 756, 352)\n"
     ]
    },
    {
     "name": "stderr",
     "output_type": "stream",
     "text": [
      "C:\\Users\\Sebastian\\Anaconda3\\envs\\main\\lib\\site-packages\\IPython\\core\\interactiveshell.py:3331: FutureWarning: arrays to stack must be passed as a \"sequence\" type such as list or tuple. Support for non-sequence iterables such as generators is deprecated as of NumPy 1.16 and will raise an error in the future.\n",
      "  exec(code_obj, self.user_global_ns, self.user_ns)\n"
     ]
    }
   ],
   "source": [
    "interpolated_array = postproc.convert_grid_to_array_of_scores(interpolated_dict)\n",
    "\n",
    "interpolated_reverse_pca = postproc.reverse_pca(mineralogy_pca, \n",
    "                                                interpolated_array, \n",
    "                                                mineralogy_clr, \n",
    "                                                n_comp=n_comp)\n",
    "\n",
    "interpolated_reverse_clr = postproc.reverse_clr(interpolated_reverse_pca, \n",
    "                                                mineralogy_clr)\n",
    "\n",
    "# You will get a FutureWarning here, that's fine"
   ]
  },
  {
   "cell_type": "code",
   "execution_count": 67,
   "metadata": {},
   "outputs": [
    {
     "data": {
      "text/plain": [
       "0.7652061428218204"
      ]
     },
     "execution_count": 67,
     "metadata": {},
     "output_type": "execute_result"
    }
   ],
   "source": [
    "# Get kriging surface variance for error_budget\n",
    "var_OK = np.array(pd.DataFrame(interpolated_array).var(axis=0, ddof=1))\n",
    "var_OK.sum()"
   ]
  },
  {
   "cell_type": "code",
   "execution_count": 68,
   "metadata": {},
   "outputs": [],
   "source": [
    "# Check if the number of points based on the specified grid is equal to\n",
    "# the sum of the number of masked points and the number of interpolated points\n",
    "assert grid[0].shape[0] * grid[1].shape[0] == np.sum(np.isclose(interpolated_reverse_clr.sum(axis=1), 0.0)) + \\\n",
    "                                              np.sum(np.isclose(interpolated_reverse_clr.sum(axis=1), 100.0))"
   ]
  },
  {
   "cell_type": "code",
   "execution_count": 69,
   "metadata": {},
   "outputs": [],
   "source": [
    "interpolated_modal = {}\n",
    "for mineral in interpolated_reverse_clr.columns.tolist():\n",
    "    interpolated_modal[mineral] = np.reshape(interpolated_reverse_clr.loc[:, mineral].values, \n",
    "                                             (grid[1].shape[0], grid[0].shape[0]))"
   ]
  },
  {
   "cell_type": "code",
   "execution_count": 70,
   "metadata": {},
   "outputs": [
    {
     "name": "stdout",
     "output_type": "stream",
     "text": [
      "(756, 352)\n",
      "SiO2\n",
      "(756, 352)\n",
      "TiO2\n",
      "(756, 352)\n",
      "Al2O3\n",
      "(756, 352)\n",
      "Fe2O3\n",
      "(756, 352)\n",
      "FeO\n",
      "(756, 352)\n",
      "MnO\n",
      "(756, 352)\n",
      "MgO\n",
      "(756, 352)\n",
      "CaO\n",
      "(756, 352)\n",
      "Na2O\n",
      "(756, 352)\n",
      "K2O\n",
      "(756, 352)\n",
      "oth\n"
     ]
    }
   ],
   "source": [
    "# If you get an error related to an non-esixting save location\n",
    "# Please first create a folder on your pc with the same name that \n",
    "# you used for the variable 'group_name'\n",
    "\n",
    "for mineral, interpolation in interpolated_modal.items(): \n",
    "    for variable in [\"estimates\"]:\n",
    "        print(interpolation.shape)\n",
    "        plots.plot_contour_map(interpolation,\n",
    "                               grid,\n",
    "                               coordinates_utm,\n",
    "                               group_name,\n",
    "                               variable=variable,\n",
    "                               title=f\"{mineral} radius={range_[0]}m {variable} masked {critical_distance}m\",\n",
    "                               show_plot=False,\n",
    "                               single_mineral=True,\n",
    "                               mineral=mineral,                               \n",
    "                               label_pos = (0.03, 0.94),\n",
    "                               skip_xaxis_label=2,\n",
    "                               skip_yaxis_label=2,\n",
    "                               skip_xaxis_start=1,\n",
    "                               skip_yaxis_start=1,\n",
    "                               marker_symbol='.',\n",
    "                               marker_size=0.1,\n",
    "                               marker_color='r',)\n",
    "        \n",
    "# Added some options to function so that yu can easily change the appearance \n",
    "# of the markers used to show the position of the control points"
   ]
  },
  {
   "cell_type": "code",
   "execution_count": 71,
   "metadata": {},
   "outputs": [
    {
     "data": {
      "image/png": "[encoded data removed]",
      "text/plain": [
       "<Figure size 864x648 with 26 Axes>"
      ]
     },
     "metadata": {},
     "output_type": "display_data"
    }
   ],
   "source": [
    "# Specify how many rows and columns you want to use in the following figure\n",
    "# This will ofcourse depend an the number of variables you would like to plot\n",
    "# You can also set the figure size\n",
    "n_cols = 3\n",
    "n_rows = 5\n",
    "\n",
    "# Figure with single mineral maps as subplots\n",
    "plots.plot_contour_map_all(interpolated_modal,\n",
    "                           grid,\n",
    "                           coordinates_utm,\n",
    "                           group_name,\n",
    "                           title=f\"radius={range_[0]}m masked {critical_distance}m\",\n",
    "                           show_plot=True,\n",
    "                           label_pos = (0.03, 0.94),\n",
    "                           skip_xaxis_label=2,\n",
    "                           skip_yaxis_label=2,\n",
    "                           skip_xaxis_start=1,\n",
    "                           skip_yaxis_start=1,\n",
    "                           marker_size=0.1,\n",
    "                           marker_color='r',\n",
    "                           marker_symbol='.',\n",
    "                           figsize=(12, 9),\n",
    "                           ncols=n_cols,\n",
    "                           nrows=n_rows,\n",
    "                           sharex=True,\n",
    "                           sharey=True)"
   ]
  },
  {
   "cell_type": "markdown",
   "metadata": {},
   "source": [
    "## QAPF maps\n",
    "____"
   ]
  },
  {
   "cell_type": "code",
   "execution_count": 81,
   "metadata": {},
   "outputs": [],
   "source": [
    "interpolated_mineralogy = pd.read_excel(\"../_CIPW/CIPW/AREA2/qapf.xlsx\")"
   ]
  },
  {
   "cell_type": "code",
   "execution_count": 82,
   "metadata": {},
   "outputs": [],
   "source": [
    "interpolated_reverse_clr = pd.read_excel(\"../_CIPW/CIPW/AREA2/interpolated_data.xlsx\")"
   ]
  },
  {
   "cell_type": "code",
   "execution_count": 83,
   "metadata": {},
   "outputs": [],
   "source": [
    "interpolated_mineralogy = interpolated_mineralogy.set_index(\" SAMPLE\")"
   ]
  },
  {
   "cell_type": "code",
   "execution_count": 84,
   "metadata": {},
   "outputs": [],
   "source": [
    "interpolated_mineralogy[\"QAPF_numbers\"] = interpolated_mineralogy[\"QAPF\"].map(qapf.QAPF_upper_regions_numbers)"
   ]
  },
  {
   "cell_type": "code",
   "execution_count": 85,
   "metadata": {},
   "outputs": [
    {
     "data": {
      "text/html": [
       "<div>\n",
       "<style scoped>\n",
       "    .dataframe tbody tr th:only-of-type {\n",
       "        vertical-align: middle;\n",
       "    }\n",
       "\n",
       "    .dataframe tbody tr th {\n",
       "        vertical-align: top;\n",
       "    }\n",
       "\n",
       "    .dataframe thead th {\n",
       "        text-align: right;\n",
       "    }\n",
       "</style>\n",
       "<table border=\"1\" class=\"dataframe\">\n",
       "  <thead>\n",
       "    <tr style=\"text-align: right;\">\n",
       "      <th></th>\n",
       "      <th>Q</th>\n",
       "      <th>P</th>\n",
       "      <th>K</th>\n",
       "      <th>QAPF</th>\n",
       "      <th>QAPF_numbers</th>\n",
       "    </tr>\n",
       "    <tr>\n",
       "      <th>SAMPLE</th>\n",
       "      <th></th>\n",
       "      <th></th>\n",
       "      <th></th>\n",
       "      <th></th>\n",
       "      <th></th>\n",
       "    </tr>\n",
       "  </thead>\n",
       "  <tbody>\n",
       "    <tr>\n",
       "      <th>6777</th>\n",
       "      <td>26.940096</td>\n",
       "      <td>39.281659</td>\n",
       "      <td>23.102748</td>\n",
       "      <td>monzo granite</td>\n",
       "      <td>5</td>\n",
       "    </tr>\n",
       "    <tr>\n",
       "      <th>6778</th>\n",
       "      <td>29.892830</td>\n",
       "      <td>36.163098</td>\n",
       "      <td>24.818975</td>\n",
       "      <td>monzo granite</td>\n",
       "      <td>5</td>\n",
       "    </tr>\n",
       "    <tr>\n",
       "      <th>6779</th>\n",
       "      <td>29.889517</td>\n",
       "      <td>36.166771</td>\n",
       "      <td>24.816662</td>\n",
       "      <td>monzo granite</td>\n",
       "      <td>5</td>\n",
       "    </tr>\n",
       "    <tr>\n",
       "      <th>6780</th>\n",
       "      <td>29.887060</td>\n",
       "      <td>36.169596</td>\n",
       "      <td>24.814820</td>\n",
       "      <td>monzo granite</td>\n",
       "      <td>5</td>\n",
       "    </tr>\n",
       "    <tr>\n",
       "      <th>6781</th>\n",
       "      <td>29.885414</td>\n",
       "      <td>36.171505</td>\n",
       "      <td>24.813638</td>\n",
       "      <td>monzo granite</td>\n",
       "      <td>5</td>\n",
       "    </tr>\n",
       "    <tr>\n",
       "      <th>...</th>\n",
       "      <td>...</td>\n",
       "      <td>...</td>\n",
       "      <td>...</td>\n",
       "      <td>...</td>\n",
       "      <td>...</td>\n",
       "    </tr>\n",
       "    <tr>\n",
       "      <th>261339</th>\n",
       "      <td>24.367887</td>\n",
       "      <td>41.891039</td>\n",
       "      <td>21.936420</td>\n",
       "      <td>granodiorite</td>\n",
       "      <td>6</td>\n",
       "    </tr>\n",
       "    <tr>\n",
       "      <th>261340</th>\n",
       "      <td>24.367991</td>\n",
       "      <td>41.890731</td>\n",
       "      <td>21.936420</td>\n",
       "      <td>granodiorite</td>\n",
       "      <td>6</td>\n",
       "    </tr>\n",
       "    <tr>\n",
       "      <th>261341</th>\n",
       "      <td>24.367348</td>\n",
       "      <td>41.891213</td>\n",
       "      <td>21.936008</td>\n",
       "      <td>granodiorite</td>\n",
       "      <td>6</td>\n",
       "    </tr>\n",
       "    <tr>\n",
       "      <th>261344</th>\n",
       "      <td>24.660397</td>\n",
       "      <td>41.581580</td>\n",
       "      <td>22.048848</td>\n",
       "      <td>granodiorite</td>\n",
       "      <td>6</td>\n",
       "    </tr>\n",
       "    <tr>\n",
       "      <th>261345</th>\n",
       "      <td>24.660099</td>\n",
       "      <td>41.581575</td>\n",
       "      <td>22.048529</td>\n",
       "      <td>granodiorite</td>\n",
       "      <td>6</td>\n",
       "    </tr>\n",
       "  </tbody>\n",
       "</table>\n",
       "<p>92309 rows × 5 columns</p>\n",
       "</div>"
      ],
      "text/plain": [
       "                 Q          P          K           QAPF  QAPF_numbers\n",
       " SAMPLE                                                              \n",
       "6777     26.940096  39.281659  23.102748  monzo granite             5\n",
       "6778     29.892830  36.163098  24.818975  monzo granite             5\n",
       "6779     29.889517  36.166771  24.816662  monzo granite             5\n",
       "6780     29.887060  36.169596  24.814820  monzo granite             5\n",
       "6781     29.885414  36.171505  24.813638  monzo granite             5\n",
       "...            ...        ...        ...            ...           ...\n",
       "261339   24.367887  41.891039  21.936420   granodiorite             6\n",
       "261340   24.367991  41.890731  21.936420   granodiorite             6\n",
       "261341   24.367348  41.891213  21.936008   granodiorite             6\n",
       "261344   24.660397  41.581580  22.048848   granodiorite             6\n",
       "261345   24.660099  41.581575  22.048529   granodiorite             6\n",
       "\n",
       "[92309 rows x 5 columns]"
      ]
     },
     "execution_count": 85,
     "metadata": {},
     "output_type": "execute_result"
    }
   ],
   "source": [
    "interpolated_mineralogy"
   ]
  },
  {
   "cell_type": "code",
   "execution_count": 86,
   "metadata": {},
   "outputs": [
    {
     "data": {
      "text/html": [
       "<div>\n",
       "<style scoped>\n",
       "    .dataframe tbody tr th:only-of-type {\n",
       "        vertical-align: middle;\n",
       "    }\n",
       "\n",
       "    .dataframe tbody tr th {\n",
       "        vertical-align: top;\n",
       "    }\n",
       "\n",
       "    .dataframe thead th {\n",
       "        text-align: right;\n",
       "    }\n",
       "</style>\n",
       "<table border=\"1\" class=\"dataframe\">\n",
       "  <thead>\n",
       "    <tr style=\"text-align: right;\">\n",
       "      <th></th>\n",
       "      <th>Q</th>\n",
       "      <th>P</th>\n",
       "      <th>K</th>\n",
       "      <th>QAPF</th>\n",
       "      <th>QAPF_numbers</th>\n",
       "    </tr>\n",
       "  </thead>\n",
       "  <tbody>\n",
       "    <tr>\n",
       "      <th>0</th>\n",
       "      <td>0.0</td>\n",
       "      <td>0.0</td>\n",
       "      <td>0.0</td>\n",
       "      <td>0</td>\n",
       "      <td>0.0</td>\n",
       "    </tr>\n",
       "    <tr>\n",
       "      <th>1</th>\n",
       "      <td>0.0</td>\n",
       "      <td>0.0</td>\n",
       "      <td>0.0</td>\n",
       "      <td>0</td>\n",
       "      <td>0.0</td>\n",
       "    </tr>\n",
       "    <tr>\n",
       "      <th>2</th>\n",
       "      <td>0.0</td>\n",
       "      <td>0.0</td>\n",
       "      <td>0.0</td>\n",
       "      <td>0</td>\n",
       "      <td>0.0</td>\n",
       "    </tr>\n",
       "    <tr>\n",
       "      <th>3</th>\n",
       "      <td>0.0</td>\n",
       "      <td>0.0</td>\n",
       "      <td>0.0</td>\n",
       "      <td>0</td>\n",
       "      <td>0.0</td>\n",
       "    </tr>\n",
       "    <tr>\n",
       "      <th>4</th>\n",
       "      <td>0.0</td>\n",
       "      <td>0.0</td>\n",
       "      <td>0.0</td>\n",
       "      <td>0</td>\n",
       "      <td>0.0</td>\n",
       "    </tr>\n",
       "    <tr>\n",
       "      <th>...</th>\n",
       "      <td>...</td>\n",
       "      <td>...</td>\n",
       "      <td>...</td>\n",
       "      <td>...</td>\n",
       "      <td>...</td>\n",
       "    </tr>\n",
       "    <tr>\n",
       "      <th>266107</th>\n",
       "      <td>0.0</td>\n",
       "      <td>0.0</td>\n",
       "      <td>0.0</td>\n",
       "      <td>0</td>\n",
       "      <td>0.0</td>\n",
       "    </tr>\n",
       "    <tr>\n",
       "      <th>266108</th>\n",
       "      <td>0.0</td>\n",
       "      <td>0.0</td>\n",
       "      <td>0.0</td>\n",
       "      <td>0</td>\n",
       "      <td>0.0</td>\n",
       "    </tr>\n",
       "    <tr>\n",
       "      <th>266109</th>\n",
       "      <td>0.0</td>\n",
       "      <td>0.0</td>\n",
       "      <td>0.0</td>\n",
       "      <td>0</td>\n",
       "      <td>0.0</td>\n",
       "    </tr>\n",
       "    <tr>\n",
       "      <th>266110</th>\n",
       "      <td>0.0</td>\n",
       "      <td>0.0</td>\n",
       "      <td>0.0</td>\n",
       "      <td>0</td>\n",
       "      <td>0.0</td>\n",
       "    </tr>\n",
       "    <tr>\n",
       "      <th>266111</th>\n",
       "      <td>0.0</td>\n",
       "      <td>0.0</td>\n",
       "      <td>0.0</td>\n",
       "      <td>0</td>\n",
       "      <td>0.0</td>\n",
       "    </tr>\n",
       "  </tbody>\n",
       "</table>\n",
       "<p>266112 rows × 5 columns</p>\n",
       "</div>"
      ],
      "text/plain": [
       "          Q    P    K QAPF  QAPF_numbers\n",
       "0       0.0  0.0  0.0    0           0.0\n",
       "1       0.0  0.0  0.0    0           0.0\n",
       "2       0.0  0.0  0.0    0           0.0\n",
       "3       0.0  0.0  0.0    0           0.0\n",
       "4       0.0  0.0  0.0    0           0.0\n",
       "...     ...  ...  ...  ...           ...\n",
       "266107  0.0  0.0  0.0    0           0.0\n",
       "266108  0.0  0.0  0.0    0           0.0\n",
       "266109  0.0  0.0  0.0    0           0.0\n",
       "266110  0.0  0.0  0.0    0           0.0\n",
       "266111  0.0  0.0  0.0    0           0.0\n",
       "\n",
       "[266112 rows x 5 columns]"
      ]
     },
     "execution_count": 86,
     "metadata": {},
     "output_type": "execute_result"
    }
   ],
   "source": [
    "interpolated_mineralogy_QAPF = pd.merge(interpolated_reverse_clr, interpolated_mineralogy, \n",
    "                                        left_index=True, right_index=True, how='outer')\\\n",
    "                                 .drop(interpolated_reverse_clr.columns, axis=1)\n",
    "\n",
    "interpolated_mineralogy_QAPF = interpolated_mineralogy_QAPF.fillna(0)\n",
    "interpolated_mineralogy_QAPF"
   ]
  },
  {
   "cell_type": "code",
   "execution_count": 87,
   "metadata": {},
   "outputs": [],
   "source": [
    "interpolated_mineralogy_QAPF_reshape = np.reshape(interpolated_mineralogy_QAPF[\"QAPF_numbers\"].values, (grid[1].shape[0], grid[0].shape[0]))"
   ]
  },
  {
   "cell_type": "code",
   "execution_count": 88,
   "metadata": {},
   "outputs": [
    {
     "data": {
      "text/plain": [
       "[5.0, 6.0, 11.0]"
      ]
     },
     "execution_count": 88,
     "metadata": {},
     "output_type": "execute_result"
    }
   ],
   "source": [
    "values_to_plot = list(np.sort(interpolated_mineralogy_QAPF[\"QAPF_numbers\"].unique()))[1:]\n",
    "values_to_plot"
   ]
  },
  {
   "cell_type": "code",
   "execution_count": 93,
   "metadata": {},
   "outputs": [],
   "source": [
    "# Need to have correct excel file with area's control points' CIPW-QAPF classification\n",
    "mineralogy_QAPF = pd.read_excel(\"../_CIPW/CIPW/AREA2/QAPF_control_points.xlsx\", index_col=0)"
   ]
  },
  {
   "cell_type": "code",
   "execution_count": 94,
   "metadata": {},
   "outputs": [],
   "source": [
    "QAPF_to_plot = pd.merge(coordinates_utm, mineralogy_QAPF[[\"QAPF\"]], left_index=True, right_index=True)"
   ]
  },
  {
   "cell_type": "code",
   "execution_count": 95,
   "metadata": {},
   "outputs": [
    {
     "data": {
      "image/png": "[encoded data removed]",
      "text/plain": [
       "<Figure size 432x288 with 1 Axes>"
      ]
     },
     "metadata": {},
     "output_type": "display_data"
    }
   ],
   "source": [
    "plots.plot_contour_map_interpolated_QAPF(interpolated_mineralogy_QAPF_reshape, grid, QAPF_to_plot, f\"{group_name}\", values_to_plot=values_to_plot,\n",
    "                                         skip_xaxis_label=2, skip_yaxis_label=2, skip_xaxis_start=1, skip_yaxis_start=1, show_qapf_control_points=True)"
   ]
  },
  {
   "cell_type": "code",
   "execution_count": 96,
   "metadata": {},
   "outputs": [
    {
     "data": {
      "image/png": "[encoded data removed]",
      "text/plain": [
       "<Figure size 432x288 with 1 Axes>"
      ]
     },
     "metadata": {},
     "output_type": "display_data"
    }
   ],
   "source": [
    "plots.plot_contour_map_interpolated_QAPF(interpolated_mineralogy_QAPF_reshape, grid, QAPF_to_plot, f\"{group_name}\", values_to_plot=values_to_plot,\n",
    "                                         skip_xaxis_label=2, skip_yaxis_label=2, skip_xaxis_start=1, skip_yaxis_start=1, show_qapf_control_points=False, no_legend=True)"
   ]
  },
  {
   "cell_type": "markdown",
   "metadata": {},
   "source": [
    "## Biplots\n",
    "____"
   ]
  },
  {
   "cell_type": "markdown",
   "metadata": {},
   "source": [
    "Not relevant for now"
   ]
  },
  {
   "cell_type": "markdown",
   "metadata": {},
   "source": [
    "## Simulations\n",
    "____"
   ]
  },
  {
   "cell_type": "markdown",
   "metadata": {},
   "source": [
    "Not relevant for now"
   ]
  },
  {
   "cell_type": "markdown",
   "metadata": {},
   "source": [
    "## Error budget\n",
    "____"
   ]
  },
  {
   "cell_type": "code",
   "execution_count": 72,
   "metadata": {},
   "outputs": [],
   "source": [
    "# A = Variance of kriging surface\n",
    "# B = mean squared prediction error (MSPE)\n",
    "# C = Sum of nugget\n",
    "# D = Total variance based on simulation (not yet available)\n",
    "# E = Variance of original data set\n",
    "\n",
    "error_budget = {}\n",
    "\n",
    "for radius in search_radii:\n",
    "    for ncomp in range(1, len(components_to_use) + 1):\n",
    "        A = var_OK[:ncomp].sum()\n",
    "        B = np.mean(np.sum(residuals_clr[f\"{ncomp}_{radius}\"] ** 2, axis=1), axis=0) # MSPE\n",
    "        C = np.array(nugget_)[:ncomp].sum()\n",
    "        D = np.nan\n",
    "        E = mineralogy_clr.var(axis=0).sum()\n",
    "        \n",
    "\n",
    "        error_budget[f\"{ncomp}_{radius}\"] = [A, B, C, D, E]"
   ]
  },
  {
   "cell_type": "code",
   "execution_count": 73,
   "metadata": {},
   "outputs": [
    {
     "data": {
      "text/html": [
       "<div>\n",
       "<style scoped>\n",
       "    .dataframe tbody tr th:only-of-type {\n",
       "        vertical-align: middle;\n",
       "    }\n",
       "\n",
       "    .dataframe tbody tr th {\n",
       "        vertical-align: top;\n",
       "    }\n",
       "\n",
       "    .dataframe thead th {\n",
       "        text-align: right;\n",
       "    }\n",
       "</style>\n",
       "<table border=\"1\" class=\"dataframe\">\n",
       "  <thead>\n",
       "    <tr style=\"text-align: right;\">\n",
       "      <th></th>\n",
       "      <th>search_radius</th>\n",
       "      <th>#PCs</th>\n",
       "      <th>VAR(OK)</th>\n",
       "      <th>MSPE</th>\n",
       "      <th>S_nugget</th>\n",
       "      <th>VAR(TOTAL)</th>\n",
       "      <th>VAR(DATA)</th>\n",
       "    </tr>\n",
       "  </thead>\n",
       "  <tbody>\n",
       "    <tr>\n",
       "      <th>0</th>\n",
       "      <td>50000</td>\n",
       "      <td>1</td>\n",
       "      <td>0.480673</td>\n",
       "      <td>3.728306</td>\n",
       "      <td>0.9524</td>\n",
       "      <td>NaN</td>\n",
       "      <td>3.731062</td>\n",
       "    </tr>\n",
       "    <tr>\n",
       "      <th>1</th>\n",
       "      <td>50000</td>\n",
       "      <td>2</td>\n",
       "      <td>0.765206</td>\n",
       "      <td>3.605890</td>\n",
       "      <td>1.4484</td>\n",
       "      <td>NaN</td>\n",
       "      <td>3.731062</td>\n",
       "    </tr>\n",
       "  </tbody>\n",
       "</table>\n",
       "</div>"
      ],
      "text/plain": [
       "   search_radius  #PCs   VAR(OK)      MSPE  S_nugget  VAR(TOTAL)  VAR(DATA)\n",
       "0          50000     1  0.480673  3.728306    0.9524         NaN   3.731062\n",
       "1          50000     2  0.765206  3.605890    1.4484         NaN   3.731062"
      ]
     },
     "execution_count": 73,
     "metadata": {},
     "output_type": "execute_result"
    }
   ],
   "source": [
    "error_budget_df = \\\n",
    "    ttest.convert_summary_test_results_to_df(error_budget, \n",
    "                                             variable_names=[\"VAR(OK)\",\n",
    "                                                             \"MSPE\", \n",
    "                                                             \"S_nugget\", # Sum of nuggets\n",
    "                                                             \"VAR(TOTAL)\",\n",
    "                                                             \"VAR(DATA)\"], \n",
    "                                             order=[\"search_radius\", \n",
    "                                                    \"#PCs\"])\n",
    "error_budget_df"
   ]
  },
  {
   "cell_type": "code",
   "execution_count": 74,
   "metadata": {},
   "outputs": [],
   "source": [
    "error_budget_df.to_excel(f\"../_RESULTS/Error_budget/error_budget_{group_name}.xlsx\")"
   ]
  },
  {
   "cell_type": "markdown",
   "metadata": {},
   "source": [
    "-----"
   ]
  },
  {
   "cell_type": "markdown",
   "metadata": {},
   "source": [
    "## variance for each time class"
   ]
  },
  {
   "cell_type": "code",
   "execution_count": 75,
   "metadata": {},
   "outputs": [
    {
     "data": {
      "text/html": [
       "<div>\n",
       "<style scoped>\n",
       "    .dataframe tbody tr th:only-of-type {\n",
       "        vertical-align: middle;\n",
       "    }\n",
       "\n",
       "    .dataframe tbody tr th {\n",
       "        vertical-align: top;\n",
       "    }\n",
       "\n",
       "    .dataframe thead th {\n",
       "        text-align: right;\n",
       "    }\n",
       "</style>\n",
       "<table border=\"1\" class=\"dataframe\">\n",
       "  <thead>\n",
       "    <tr style=\"text-align: right;\">\n",
       "      <th></th>\n",
       "      <th>type_granite</th>\n",
       "      <th>time</th>\n",
       "      <th>massif</th>\n",
       "      <th>sampler</th>\n",
       "      <th>others</th>\n",
       "      <th>sampler+year</th>\n",
       "    </tr>\n",
       "  </thead>\n",
       "  <tbody>\n",
       "    <tr>\n",
       "      <th>1</th>\n",
       "      <td>Granite leucogranitic</td>\n",
       "      <td>K</td>\n",
       "      <td>NaN</td>\n",
       "      <td>NaN</td>\n",
       "      <td>NaN</td>\n",
       "      <td>V.N.Musin,1970</td>\n",
       "    </tr>\n",
       "    <tr>\n",
       "      <th>7</th>\n",
       "      <td>Bt granite</td>\n",
       "      <td>K</td>\n",
       "      <td>NaN</td>\n",
       "      <td>N.A.Krivitskaya</td>\n",
       "      <td>NaN</td>\n",
       "      <td>A.A.Golovneva,1950</td>\n",
       "    </tr>\n",
       "    <tr>\n",
       "      <th>8</th>\n",
       "      <td>Granite fine-grained</td>\n",
       "      <td>K</td>\n",
       "      <td>NaN</td>\n",
       "      <td>NaN</td>\n",
       "      <td>NaN</td>\n",
       "      <td>V.A.Yarmolyuk,1949</td>\n",
       "    </tr>\n",
       "    <tr>\n",
       "      <th>13</th>\n",
       "      <td>Granite-porphyry</td>\n",
       "      <td>K</td>\n",
       "      <td>NaN</td>\n",
       "      <td>NaN</td>\n",
       "      <td>NaN</td>\n",
       "      <td>I.A.Gaev,1960</td>\n",
       "    </tr>\n",
       "    <tr>\n",
       "      <th>16</th>\n",
       "      <td>Granite</td>\n",
       "      <td>K</td>\n",
       "      <td>Nipnin massif</td>\n",
       "      <td>NaN</td>\n",
       "      <td>NaN</td>\n",
       "      <td>L.V.Eyrish,1963</td>\n",
       "    </tr>\n",
       "    <tr>\n",
       "      <th>...</th>\n",
       "      <td>...</td>\n",
       "      <td>...</td>\n",
       "      <td>...</td>\n",
       "      <td>...</td>\n",
       "      <td>...</td>\n",
       "      <td>...</td>\n",
       "    </tr>\n",
       "    <tr>\n",
       "      <th>4646</th>\n",
       "      <td>Quartz diorite</td>\n",
       "      <td>Pg</td>\n",
       "      <td>Terney massif</td>\n",
       "      <td>NaN</td>\n",
       "      <td>NaN</td>\n",
       "      <td>V.V.Vetrennikov,1965</td>\n",
       "    </tr>\n",
       "    <tr>\n",
       "      <th>4649</th>\n",
       "      <td>Quartz diorite</td>\n",
       "      <td>K</td>\n",
       "      <td>NaN</td>\n",
       "      <td>NaN</td>\n",
       "      <td>NaN</td>\n",
       "      <td>A.A.Golovneva,1960</td>\n",
       "    </tr>\n",
       "    <tr>\n",
       "      <th>4650</th>\n",
       "      <td>Bt-Px diorite</td>\n",
       "      <td>Pg</td>\n",
       "      <td>NaN</td>\n",
       "      <td>NaN</td>\n",
       "      <td>NaN</td>\n",
       "      <td>V.V.Shadynsky,1966</td>\n",
       "    </tr>\n",
       "    <tr>\n",
       "      <th>4654</th>\n",
       "      <td>Diorite</td>\n",
       "      <td>K</td>\n",
       "      <td>NaN</td>\n",
       "      <td>NaN</td>\n",
       "      <td>Det.:H2o+-0.60</td>\n",
       "      <td>V.K.Matushkin,1972</td>\n",
       "    </tr>\n",
       "    <tr>\n",
       "      <th>4656</th>\n",
       "      <td>Quartz diorite</td>\n",
       "      <td>K</td>\n",
       "      <td>Verkhneplotnikovsky massif</td>\n",
       "      <td>NaN</td>\n",
       "      <td>NaN</td>\n",
       "      <td>A.A.Syas'ko,1969</td>\n",
       "    </tr>\n",
       "  </tbody>\n",
       "</table>\n",
       "<p>1039 rows × 6 columns</p>\n",
       "</div>"
      ],
      "text/plain": [
       "               type_granite time                      massif          sampler  \\\n",
       "1     Granite leucogranitic    K                         NaN              NaN   \n",
       "7                Bt granite    K                         NaN  N.A.Krivitskaya   \n",
       "8      Granite fine-grained    K                         NaN              NaN   \n",
       "13         Granite-porphyry    K                         NaN              NaN   \n",
       "16                  Granite    K               Nipnin massif              NaN   \n",
       "...                     ...  ...                         ...              ...   \n",
       "4646         Quartz diorite   Pg               Terney massif              NaN   \n",
       "4649         Quartz diorite    K                         NaN              NaN   \n",
       "4650          Bt-Px diorite   Pg                         NaN              NaN   \n",
       "4654                Diorite    K                         NaN              NaN   \n",
       "4656         Quartz diorite    K  Verkhneplotnikovsky massif              NaN   \n",
       "\n",
       "              others          sampler+year  \n",
       "1                NaN        V.N.Musin,1970  \n",
       "7                NaN    A.A.Golovneva,1950  \n",
       "8                NaN    V.A.Yarmolyuk,1949  \n",
       "13               NaN         I.A.Gaev,1960  \n",
       "16               NaN       L.V.Eyrish,1963  \n",
       "...              ...                   ...  \n",
       "4646             NaN  V.V.Vetrennikov,1965  \n",
       "4649             NaN    A.A.Golovneva,1960  \n",
       "4650             NaN    V.V.Shadynsky,1966  \n",
       "4654  Det.:H2o+-0.60    V.K.Matushkin,1972  \n",
       "4656             NaN      A.A.Syas'ko,1969  \n",
       "\n",
       "[1039 rows x 6 columns]"
      ]
     },
     "execution_count": 75,
     "metadata": {},
     "output_type": "execute_result"
    }
   ],
   "source": [
    "metadata"
   ]
  },
  {
   "cell_type": "code",
   "execution_count": 76,
   "metadata": {},
   "outputs": [
    {
     "data": {
      "text/plain": [
       "K     715\n",
       "Pg    315\n",
       "J       7\n",
       "Tr      1\n",
       "Name: time, dtype: int64"
      ]
     },
     "execution_count": 76,
     "metadata": {},
     "output_type": "execute_result"
    }
   ],
   "source": [
    "metadata['time'].value_counts()"
   ]
  },
  {
   "cell_type": "code",
   "execution_count": 77,
   "metadata": {},
   "outputs": [],
   "source": [
    "mineralogy_clr1 = mineralogy_clr.loc[metadata['time'] == 'K']\n",
    "mineralogy_clr2 = mineralogy_clr.loc[metadata['time'] == 'Pg']\n",
    "mineralogy_clr3 = mineralogy_clr.loc[metadata['time'] == 'J']\n",
    "mineralogy_clr4 = mineralogy_clr.loc[metadata['time'] == 'Tr']"
   ]
  },
  {
   "cell_type": "code",
   "execution_count": 78,
   "metadata": {},
   "outputs": [
    {
     "name": "stdout",
     "output_type": "stream",
     "text": [
      "variance for subset K is 3.7953216228448765\n",
      "variance for subset Pg is 3.5488000462404625\n",
      "variance for subset J is 2.2126177007747234\n",
      "variance for subset Tr is 0.0\n"
     ]
    }
   ],
   "source": [
    "print('variance for subset K is' ,  mineralogy_clr1.var(axis=0).sum())\n",
    "print('variance for subset Pg is' ,  mineralogy_clr2.var(axis=0).sum())\n",
    "print('variance for subset J is' ,  mineralogy_clr3.var(axis=0).sum())\n",
    "print('variance for subset Tr is' ,  mineralogy_clr4.var(axis=0).sum())"
   ]
  },
  {
   "cell_type": "markdown",
   "metadata": {},
   "source": [
    "-----"
   ]
  },
  {
   "cell_type": "code",
   "execution_count": 79,
   "metadata": {},
   "outputs": [],
   "source": [
    "interpolated_reverse_clr.to_excel(\"../_CIPW/CIPW/AREA2/interpolated_data.xlsx\")"
   ]
  },
  {
   "cell_type": "code",
   "execution_count": 80,
   "metadata": {},
   "outputs": [
    {
     "data": {
      "text/html": [
       "<div>\n",
       "<style scoped>\n",
       "    .dataframe tbody tr th:only-of-type {\n",
       "        vertical-align: middle;\n",
       "    }\n",
       "\n",
       "    .dataframe tbody tr th {\n",
       "        vertical-align: top;\n",
       "    }\n",
       "\n",
       "    .dataframe thead th {\n",
       "        text-align: right;\n",
       "    }\n",
       "</style>\n",
       "<table border=\"1\" class=\"dataframe\">\n",
       "  <thead>\n",
       "    <tr style=\"text-align: right;\">\n",
       "      <th></th>\n",
       "      <th>SiO2</th>\n",
       "      <th>TiO2</th>\n",
       "      <th>Al2O3</th>\n",
       "      <th>Fe2O3</th>\n",
       "      <th>FeO</th>\n",
       "      <th>MnO</th>\n",
       "      <th>MgO</th>\n",
       "      <th>CaO</th>\n",
       "      <th>Na2O</th>\n",
       "      <th>K2O</th>\n",
       "      <th>oth</th>\n",
       "    </tr>\n",
       "  </thead>\n",
       "  <tbody>\n",
       "    <tr>\n",
       "      <th>0</th>\n",
       "      <td>NaN</td>\n",
       "      <td>NaN</td>\n",
       "      <td>NaN</td>\n",
       "      <td>NaN</td>\n",
       "      <td>NaN</td>\n",
       "      <td>NaN</td>\n",
       "      <td>NaN</td>\n",
       "      <td>NaN</td>\n",
       "      <td>NaN</td>\n",
       "      <td>NaN</td>\n",
       "      <td>NaN</td>\n",
       "    </tr>\n",
       "    <tr>\n",
       "      <th>1</th>\n",
       "      <td>NaN</td>\n",
       "      <td>NaN</td>\n",
       "      <td>NaN</td>\n",
       "      <td>NaN</td>\n",
       "      <td>NaN</td>\n",
       "      <td>NaN</td>\n",
       "      <td>NaN</td>\n",
       "      <td>NaN</td>\n",
       "      <td>NaN</td>\n",
       "      <td>NaN</td>\n",
       "      <td>NaN</td>\n",
       "    </tr>\n",
       "    <tr>\n",
       "      <th>2</th>\n",
       "      <td>NaN</td>\n",
       "      <td>NaN</td>\n",
       "      <td>NaN</td>\n",
       "      <td>NaN</td>\n",
       "      <td>NaN</td>\n",
       "      <td>NaN</td>\n",
       "      <td>NaN</td>\n",
       "      <td>NaN</td>\n",
       "      <td>NaN</td>\n",
       "      <td>NaN</td>\n",
       "      <td>NaN</td>\n",
       "    </tr>\n",
       "    <tr>\n",
       "      <th>3</th>\n",
       "      <td>NaN</td>\n",
       "      <td>NaN</td>\n",
       "      <td>NaN</td>\n",
       "      <td>NaN</td>\n",
       "      <td>NaN</td>\n",
       "      <td>NaN</td>\n",
       "      <td>NaN</td>\n",
       "      <td>NaN</td>\n",
       "      <td>NaN</td>\n",
       "      <td>NaN</td>\n",
       "      <td>NaN</td>\n",
       "    </tr>\n",
       "    <tr>\n",
       "      <th>4</th>\n",
       "      <td>NaN</td>\n",
       "      <td>NaN</td>\n",
       "      <td>NaN</td>\n",
       "      <td>NaN</td>\n",
       "      <td>NaN</td>\n",
       "      <td>NaN</td>\n",
       "      <td>NaN</td>\n",
       "      <td>NaN</td>\n",
       "      <td>NaN</td>\n",
       "      <td>NaN</td>\n",
       "      <td>NaN</td>\n",
       "    </tr>\n",
       "    <tr>\n",
       "      <th>...</th>\n",
       "      <td>...</td>\n",
       "      <td>...</td>\n",
       "      <td>...</td>\n",
       "      <td>...</td>\n",
       "      <td>...</td>\n",
       "      <td>...</td>\n",
       "      <td>...</td>\n",
       "      <td>...</td>\n",
       "      <td>...</td>\n",
       "      <td>...</td>\n",
       "      <td>...</td>\n",
       "    </tr>\n",
       "    <tr>\n",
       "      <th>266107</th>\n",
       "      <td>NaN</td>\n",
       "      <td>NaN</td>\n",
       "      <td>NaN</td>\n",
       "      <td>NaN</td>\n",
       "      <td>NaN</td>\n",
       "      <td>NaN</td>\n",
       "      <td>NaN</td>\n",
       "      <td>NaN</td>\n",
       "      <td>NaN</td>\n",
       "      <td>NaN</td>\n",
       "      <td>NaN</td>\n",
       "    </tr>\n",
       "    <tr>\n",
       "      <th>266108</th>\n",
       "      <td>NaN</td>\n",
       "      <td>NaN</td>\n",
       "      <td>NaN</td>\n",
       "      <td>NaN</td>\n",
       "      <td>NaN</td>\n",
       "      <td>NaN</td>\n",
       "      <td>NaN</td>\n",
       "      <td>NaN</td>\n",
       "      <td>NaN</td>\n",
       "      <td>NaN</td>\n",
       "      <td>NaN</td>\n",
       "    </tr>\n",
       "    <tr>\n",
       "      <th>266109</th>\n",
       "      <td>NaN</td>\n",
       "      <td>NaN</td>\n",
       "      <td>NaN</td>\n",
       "      <td>NaN</td>\n",
       "      <td>NaN</td>\n",
       "      <td>NaN</td>\n",
       "      <td>NaN</td>\n",
       "      <td>NaN</td>\n",
       "      <td>NaN</td>\n",
       "      <td>NaN</td>\n",
       "      <td>NaN</td>\n",
       "    </tr>\n",
       "    <tr>\n",
       "      <th>266110</th>\n",
       "      <td>NaN</td>\n",
       "      <td>NaN</td>\n",
       "      <td>NaN</td>\n",
       "      <td>NaN</td>\n",
       "      <td>NaN</td>\n",
       "      <td>NaN</td>\n",
       "      <td>NaN</td>\n",
       "      <td>NaN</td>\n",
       "      <td>NaN</td>\n",
       "      <td>NaN</td>\n",
       "      <td>NaN</td>\n",
       "    </tr>\n",
       "    <tr>\n",
       "      <th>266111</th>\n",
       "      <td>NaN</td>\n",
       "      <td>NaN</td>\n",
       "      <td>NaN</td>\n",
       "      <td>NaN</td>\n",
       "      <td>NaN</td>\n",
       "      <td>NaN</td>\n",
       "      <td>NaN</td>\n",
       "      <td>NaN</td>\n",
       "      <td>NaN</td>\n",
       "      <td>NaN</td>\n",
       "      <td>NaN</td>\n",
       "    </tr>\n",
       "  </tbody>\n",
       "</table>\n",
       "<p>266112 rows × 11 columns</p>\n",
       "</div>"
      ],
      "text/plain": [
       "        SiO2  TiO2  Al2O3  Fe2O3  FeO  MnO  MgO  CaO  Na2O  K2O  oth\n",
       "0        NaN   NaN    NaN    NaN  NaN  NaN  NaN  NaN   NaN  NaN  NaN\n",
       "1        NaN   NaN    NaN    NaN  NaN  NaN  NaN  NaN   NaN  NaN  NaN\n",
       "2        NaN   NaN    NaN    NaN  NaN  NaN  NaN  NaN   NaN  NaN  NaN\n",
       "3        NaN   NaN    NaN    NaN  NaN  NaN  NaN  NaN   NaN  NaN  NaN\n",
       "4        NaN   NaN    NaN    NaN  NaN  NaN  NaN  NaN   NaN  NaN  NaN\n",
       "...      ...   ...    ...    ...  ...  ...  ...  ...   ...  ...  ...\n",
       "266107   NaN   NaN    NaN    NaN  NaN  NaN  NaN  NaN   NaN  NaN  NaN\n",
       "266108   NaN   NaN    NaN    NaN  NaN  NaN  NaN  NaN   NaN  NaN  NaN\n",
       "266109   NaN   NaN    NaN    NaN  NaN  NaN  NaN  NaN   NaN  NaN  NaN\n",
       "266110   NaN   NaN    NaN    NaN  NaN  NaN  NaN  NaN   NaN  NaN  NaN\n",
       "266111   NaN   NaN    NaN    NaN  NaN  NaN  NaN  NaN   NaN  NaN  NaN\n",
       "\n",
       "[266112 rows x 11 columns]"
      ]
     },
     "execution_count": 80,
     "metadata": {},
     "output_type": "execute_result"
    }
   ],
   "source": [
    "interpolated_reverse_clr"
   ]
  },
  {
   "cell_type": "code",
   "execution_count": null,
   "metadata": {},
   "outputs": [],
   "source": []
  },
  {
   "cell_type": "code",
   "execution_count": null,
   "metadata": {},
   "outputs": [],
   "source": []
  }
 ],
 "metadata": {
  "kernelspec": {
   "display_name": "Python 3",
   "language": "python",
   "name": "python3"
  },
  "language_info": {
   "codemirror_mode": {
    "name": "ipython",
    "version": 3
   },
   "file_extension": ".py",
   "mimetype": "text/x-python",
   "name": "python",
   "nbconvert_exporter": "python",
   "pygments_lexer": "ipython3",
   "version": "3.7.3"
  }
 },
 "nbformat": 4,
 "nbformat_minor": 4
}
