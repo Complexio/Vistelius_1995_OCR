{
 "cells": [
  {
   "cell_type": "markdown",
   "metadata": {},
   "source": [
    "# Interpolation\n",
    "___"
   ]
  },
  {
   "cell_type": "markdown",
   "metadata": {},
   "source": [
    "**Remarks**\n",
    "- Code will need to be modified a bit to reflect the use of a certain group of data instead of all data"
   ]
  },
  {
   "cell_type": "code",
   "execution_count": 263,
   "metadata": {},
   "outputs": [],
   "source": [
    "import numpy as np\n",
    "import pandas as pd\n",
    "import os\n",
    "import pickle\n",
    "\n",
    "import matplotlib.pyplot as plt\n",
    "import seaborn as sns\n",
    "\n",
    "from collections import Counter\n",
    "from itertools import combinations\n",
    "\n",
    "# from scipy.spatial.distance import pdist\n",
    "# from scipy.stats import chisquare, chi2\n",
    "from scipy.stats import ttest_1samp, t\n",
    "\n",
    "from pykrige.ok import OrdinaryKriging\n",
    "from pykrige.rk import Krige\n",
    "import pykrige.kriging_tools as kt\n",
    "\n",
    "from sklearn.model_selection import cross_val_predict\n",
    "\n",
    "from joblib import Parallel, delayed\n",
    "import multiprocessing"
   ]
  },
  {
   "cell_type": "code",
   "execution_count": 264,
   "metadata": {},
   "outputs": [],
   "source": [
    "import prepostprocessing.pre_processing as preproc\n",
    "import prepostprocessing.post_processing as postproc\n",
    "import nugget_estimation.kriging_tools as krigingtools\n",
    "import nugget_estimation.detrending as detrending\n",
    "import plots.plots as plots\n",
    "import prepostprocessing.cleaning as cleaning\n",
    "import cross_validation.leave_one_out_cross_validation as loocv\n",
    "\n",
    "import qapf.qapf as qapf\n",
    "import statistics.ttest as ttest\n",
    "import statistics.simulations as sim\n",
    "\n",
    "import toolbox.toolbox as tb"
   ]
  },
  {
   "cell_type": "code",
   "execution_count": 265,
   "metadata": {},
   "outputs": [
    {
     "name": "stdout",
     "output_type": "stream",
     "text": [
      "The autoreload extension is already loaded. To reload it, use:\n",
      "  %reload_ext autoreload\n"
     ]
    }
   ],
   "source": [
    "# Load jupyter extension to reload packages before executing user code.\n",
    "# https://ipython.readtheMLcs.io/en/stable/config/extensions/autoreload.html\n",
    "%load_ext autoreload\n",
    "# Reload all packages (except those excluded by %aimport) every time before executing the Python code typed.\n",
    "%autoreload 2"
   ]
  },
  {
   "cell_type": "code",
   "execution_count": 266,
   "metadata": {},
   "outputs": [],
   "source": [
    "# You only need to run this cell once if you want to have multiple outputs in all your notebooks.\n",
    "# It is a general setting so you can set this cell's status to 'raw'\n",
    "from IPython.core.interactiveshell import InteractiveShell\n",
    "InteractiveShell.ast_node_interactivity = \"all\""
   ]
  },
  {
   "cell_type": "code",
   "execution_count": 267,
   "metadata": {},
   "outputs": [],
   "source": [
    "coordinates_latlon = preproc.load_obj(\"coordinates_area2\")\n",
    "coordinates_utm = preproc.load_obj(\"coordinates_utm_area2\")\n",
    "mineralogy = preproc.load_obj(\"mineralogy_area2\")\n",
    "mineralogy_clr = preproc.load_obj(\"mineralogy_clr_area2\")\n",
    "mineralogy_pca = preproc.load_obj(\"mineralogy_pca_area2\")\n",
    "mineralogy_pca_df = preproc.load_obj(\"mineralogy_pca_area2_df\")\n",
    "metadata = preproc.load_obj(\"metadata_area2\")"
   ]
  },
  {
   "cell_type": "markdown",
   "metadata": {},
   "source": [
    "## EDA\n",
    "___"
   ]
  },
  {
   "cell_type": "code",
   "execution_count": 268,
   "metadata": {},
   "outputs": [
    {
     "data": {
      "text/plain": [
       "1039"
      ]
     },
     "execution_count": 268,
     "metadata": {},
     "output_type": "execute_result"
    }
   ],
   "source": [
    "# Get number of control points that will be used\n",
    "number_of_control_points = coordinates_utm.shape[0]\n",
    "number_of_control_points"
   ]
  },
  {
   "cell_type": "code",
   "execution_count": 269,
   "metadata": {},
   "outputs": [
    {
     "data": {
      "text/html": [
       "<div>\n",
       "<style scoped>\n",
       "    .dataframe tbody tr th:only-of-type {\n",
       "        vertical-align: middle;\n",
       "    }\n",
       "\n",
       "    .dataframe tbody tr th {\n",
       "        vertical-align: top;\n",
       "    }\n",
       "\n",
       "    .dataframe thead th {\n",
       "        text-align: right;\n",
       "    }\n",
       "</style>\n",
       "<table border=\"1\" class=\"dataframe\">\n",
       "  <thead>\n",
       "    <tr style=\"text-align: right;\">\n",
       "      <th></th>\n",
       "      <th>Y_UTM</th>\n",
       "      <th>X_UTM</th>\n",
       "      <th>ZoneNumber</th>\n",
       "      <th>ZoneLetter</th>\n",
       "    </tr>\n",
       "  </thead>\n",
       "  <tbody>\n",
       "    <tr>\n",
       "      <th>1</th>\n",
       "      <td>788062.538051</td>\n",
       "      <td>4.936585e+06</td>\n",
       "      <td>53</td>\n",
       "      <td>T</td>\n",
       "    </tr>\n",
       "    <tr>\n",
       "      <th>7</th>\n",
       "      <td>609204.390926</td>\n",
       "      <td>5.261750e+06</td>\n",
       "      <td>53</td>\n",
       "      <td>T</td>\n",
       "    </tr>\n",
       "    <tr>\n",
       "      <th>8</th>\n",
       "      <td>683161.686140</td>\n",
       "      <td>5.345172e+06</td>\n",
       "      <td>53</td>\n",
       "      <td>T</td>\n",
       "    </tr>\n",
       "    <tr>\n",
       "      <th>13</th>\n",
       "      <td>566277.769165</td>\n",
       "      <td>5.115580e+06</td>\n",
       "      <td>53</td>\n",
       "      <td>T</td>\n",
       "    </tr>\n",
       "    <tr>\n",
       "      <th>16</th>\n",
       "      <td>513561.171031</td>\n",
       "      <td>5.820370e+06</td>\n",
       "      <td>53</td>\n",
       "      <td>T</td>\n",
       "    </tr>\n",
       "    <tr>\n",
       "      <th>...</th>\n",
       "      <td>...</td>\n",
       "      <td>...</td>\n",
       "      <td>...</td>\n",
       "      <td>...</td>\n",
       "    </tr>\n",
       "    <tr>\n",
       "      <th>4646</th>\n",
       "      <td>626698.329397</td>\n",
       "      <td>4.987292e+06</td>\n",
       "      <td>53</td>\n",
       "      <td>T</td>\n",
       "    </tr>\n",
       "    <tr>\n",
       "      <th>4649</th>\n",
       "      <td>461509.372701</td>\n",
       "      <td>5.662951e+06</td>\n",
       "      <td>53</td>\n",
       "      <td>T</td>\n",
       "    </tr>\n",
       "    <tr>\n",
       "      <th>4650</th>\n",
       "      <td>898558.158803</td>\n",
       "      <td>5.868297e+06</td>\n",
       "      <td>53</td>\n",
       "      <td>T</td>\n",
       "    </tr>\n",
       "    <tr>\n",
       "      <th>4654</th>\n",
       "      <td>620259.749413</td>\n",
       "      <td>5.148324e+06</td>\n",
       "      <td>53</td>\n",
       "      <td>T</td>\n",
       "    </tr>\n",
       "    <tr>\n",
       "      <th>4656</th>\n",
       "      <td>658613.936703</td>\n",
       "      <td>5.200781e+06</td>\n",
       "      <td>53</td>\n",
       "      <td>T</td>\n",
       "    </tr>\n",
       "  </tbody>\n",
       "</table>\n",
       "<p>1039 rows × 4 columns</p>\n",
       "</div>"
      ],
      "text/plain": [
       "              Y_UTM         X_UTM  ZoneNumber ZoneLetter\n",
       "1     788062.538051  4.936585e+06          53          T\n",
       "7     609204.390926  5.261750e+06          53          T\n",
       "8     683161.686140  5.345172e+06          53          T\n",
       "13    566277.769165  5.115580e+06          53          T\n",
       "16    513561.171031  5.820370e+06          53          T\n",
       "...             ...           ...         ...        ...\n",
       "4646  626698.329397  4.987292e+06          53          T\n",
       "4649  461509.372701  5.662951e+06          53          T\n",
       "4650  898558.158803  5.868297e+06          53          T\n",
       "4654  620259.749413  5.148324e+06          53          T\n",
       "4656  658613.936703  5.200781e+06          53          T\n",
       "\n",
       "[1039 rows x 4 columns]"
      ]
     },
     "execution_count": 269,
     "metadata": {},
     "output_type": "execute_result"
    }
   ],
   "source": [
    "coordinates_utm"
   ]
  },
  {
   "cell_type": "code",
   "execution_count": 270,
   "metadata": {},
   "outputs": [],
   "source": [
    "coordinates_utm = coordinates_utm.rename({\"X_UTM\": \"Y\", \"Y_UTM\": \"X\"}, axis=1)"
   ]
  },
  {
   "cell_type": "code",
   "execution_count": 271,
   "metadata": {},
   "outputs": [],
   "source": [
    "# FILL IN SHORT NAME HERE THAT WILL BE USED WHEN SAVING THE PLOT (e.g. \"G1\")\n",
    "group_name = \"area2\""
   ]
  },
  {
   "cell_type": "code",
   "execution_count": 272,
   "metadata": {},
   "outputs": [
    {
     "data": {
      "image/png": "[encoded data removed]",
      "text/plain": [
       "<Figure size 432x288 with 1 Axes>"
      ]
     },
     "metadata": {},
     "output_type": "display_data"
    }
   ],
   "source": [
    "# Plot control points with labels\n",
    "plots.plot_map_with_control_points(coordinates_utm, group_name, label_size=4, subset=[\"X\", \"Y\"],\n",
    "                                   show_labels=False,\n",
    "                                  skip_xaxis_label=2, skip_yaxis_label=2, \n",
    "                                  skip_xaxis_start=1, skip_yaxis_start=1)"
   ]
  },
  {
   "cell_type": "code",
   "execution_count": 273,
   "metadata": {},
   "outputs": [
    {
     "data": {
      "text/plain": [
       "array([53], dtype=int64)"
      ]
     },
     "execution_count": 273,
     "metadata": {},
     "output_type": "execute_result"
    },
    {
     "data": {
      "text/plain": [
       "array(['T'], dtype=object)"
      ]
     },
     "execution_count": 273,
     "metadata": {},
     "output_type": "execute_result"
    }
   ],
   "source": [
    "# Show unique zone letters and zone numbers of utm coordinates\n",
    "coordinates_utm[\"ZoneNumber\"].unique()\n",
    "coordinates_utm[\"ZoneLetter\"].unique()"
   ]
  },
  {
   "cell_type": "code",
   "execution_count": 274,
   "metadata": {},
   "outputs": [
    {
     "data": {
      "text/plain": [
       "(0.036756900077009005, 1462675.8606845895)"
      ]
     },
     "execution_count": 274,
     "metadata": {},
     "output_type": "execute_result"
    }
   ],
   "source": [
    "# Calculate minimum and maxmin lag distance between two points of the dataset\n",
    "distance_matrix = krigingtools.calculate_and_sort_square_distance_matrix(coordinates_utm[[\"X\", \"Y\"]])\n",
    "\n",
    "min_lag_distance = np.amin(distance_matrix)\n",
    "max_lag_distance = np.amax(distance_matrix)\n",
    "min_lag_distance, max_lag_distance"
   ]
  },
  {
   "cell_type": "code",
   "execution_count": 275,
   "metadata": {},
   "outputs": [
    {
     "data": {
      "text/plain": [
       "(array([3.2336e+04, 3.9686e+04, 6.1804e+04, 6.9812e+04, 6.0396e+04,\n",
       "        6.5690e+04, 6.1356e+04, 5.2112e+04, 5.3582e+04, 4.6932e+04,\n",
       "        5.3996e+04, 4.7120e+04, 4.1102e+04, 3.9522e+04, 3.3524e+04,\n",
       "        2.8934e+04, 2.8726e+04, 2.8920e+04, 2.5790e+04, 2.2308e+04,\n",
       "        2.2722e+04, 2.1746e+04, 2.0004e+04, 1.6014e+04, 1.7298e+04,\n",
       "        1.4010e+04, 1.3996e+04, 1.0274e+04, 1.0212e+04, 8.7160e+03,\n",
       "        7.9820e+03, 6.3000e+03, 4.4160e+03, 4.8840e+03, 1.8900e+03,\n",
       "        2.4840e+03, 1.0080e+03, 4.3800e+02, 4.1200e+02, 2.8000e+01]),\n",
       " array([3.67569001e-02, 3.65669324e+04, 7.31338280e+04, 1.09700724e+05,\n",
       "        1.46267619e+05, 1.82834515e+05, 2.19401410e+05, 2.55968306e+05,\n",
       "        2.92535202e+05, 3.29102097e+05, 3.65668993e+05, 4.02235888e+05,\n",
       "        4.38802784e+05, 4.75369680e+05, 5.11936575e+05, 5.48503471e+05,\n",
       "        5.85070366e+05, 6.21637262e+05, 6.58204158e+05, 6.94771053e+05,\n",
       "        7.31337949e+05, 7.67904844e+05, 8.04471740e+05, 8.41038636e+05,\n",
       "        8.77605531e+05, 9.14172427e+05, 9.50739322e+05, 9.87306218e+05,\n",
       "        1.02387311e+06, 1.06044001e+06, 1.09700690e+06, 1.13357380e+06,\n",
       "        1.17014070e+06, 1.20670759e+06, 1.24327449e+06, 1.27984138e+06,\n",
       "        1.31640828e+06, 1.35297517e+06, 1.38954207e+06, 1.42610897e+06,\n",
       "        1.46267586e+06]),\n",
       " <a list of 40 Patch objects>)"
      ]
     },
     "execution_count": 275,
     "metadata": {},
     "output_type": "execute_result"
    },
    {
     "data": {
      "image/png": "[encoded data removed]",
      "text/plain": [
       "<Figure size 432x288 with 1 Axes>"
      ]
     },
     "metadata": {
      "needs_background": "light"
     },
     "output_type": "display_data"
    }
   ],
   "source": [
    "plt.hist(distance_matrix.flatten(), bins=40)"
   ]
  },
  {
   "cell_type": "code",
   "execution_count": 276,
   "metadata": {},
   "outputs": [
    {
     "data": {
      "text/plain": [
       "(array([], dtype=int64), array([], dtype=int64))"
      ]
     },
     "execution_count": 276,
     "metadata": {},
     "output_type": "execute_result"
    }
   ],
   "source": [
    "np.where(distance_matrix == 0)"
   ]
  },
  {
   "cell_type": "markdown",
   "metadata": {},
   "source": [
    "## Critical distance estimation\n",
    "___"
   ]
  },
  {
   "cell_type": "code",
   "execution_count": 277,
   "metadata": {},
   "outputs": [],
   "source": [
    "# Range (lag distance at which the sill is reached; in meters)\n",
    "\n",
    "# Depending on how many principal components you will use, \n",
    "# you will have to add more entries to this list.\n",
    "\n",
    "# Modified the range since variograms are not correct yet\n",
    "# range_ = [100000] * 15\n",
    "range_ = [120000, 120000, 120000, 120000, 120000, 120000, 120000, 120000, 120000, 100000, 100000, 100000, 100000, 100000, 100000]\n",
    "\n"
   ]
  },
  {
   "cell_type": "code",
   "execution_count": 278,
   "metadata": {},
   "outputs": [
    {
     "data": {
      "image/png": "[encoded data removed]",
      "text/plain": [
       "<Figure size 1728x864 with 3 Axes>"
      ]
     },
     "metadata": {
      "needs_background": "light"
     },
     "output_type": "display_data"
    }
   ],
   "source": [
    "# You can adjust the radius parameters below to change the slider settings\n",
    "# to visualize the figures interactively\n",
    "plots.interactive_plot_search_radius(coordinates_utm, orient='rows', \n",
    "                                     radius_default=44000, # Default slider position\n",
    "                                     radius_min=30000,  # Slider start\n",
    "                                     radius_max=60000, # Slider stop\n",
    "                                     radius_step=500,  # Slider step\n",
    "                                     radius_offset=500) # Offset between visualizations shown\n",
    "\n",
    "# The x-axis stands for 'n_neighbours'"
   ]
  },
  {
   "cell_type": "code",
   "execution_count": 279,
   "metadata": {},
   "outputs": [],
   "source": [
    "# Critical distance (in meters)\n",
    "# This is the distance where at least 95% of your samples\n",
    "# will have at least 3 neighbours within that distance\n",
    "\n",
    "# You can refine this value later on, or we can use the range \n",
    "# instead of the critical distance as the only value for the search radius\n",
    "critical_distance = 44000"
   ]
  },
  {
   "cell_type": "code",
   "execution_count": 280,
   "metadata": {},
   "outputs": [],
   "source": [
    "# This is basically creating a list of how many neighbours each data point has \n",
    "# within the critical_distance and within the range\n",
    "nvalues_control_points = {}\n",
    "\n",
    "for radius in (0.05, critical_distance, range_[0]):\n",
    "    temp = krigingtools.find_points_within_search_radius(\n",
    "               krigingtools.calculate_and_sort_square_distance_matrix(coordinates_utm),\n",
    "               search_radius=radius # 'search_radius' should be equal to 'radius' here, not 'critical_distance'\n",
    "           )\n",
    "    nvalues_control_points[radius] = pd.Series(temp, index=coordinates_utm.index)\n",
    "    \n",
    "# You're performing a calculation in a for loop so we want to check how many neighbours each data point has \n",
    "# within the specified radius in the tuple (0.05, critical_distance, range_[0]). \n",
    "# So for each of these specified distances, the function will be executed and \n",
    "# the result stored in the nvalues_control_points dictionary"
   ]
  },
  {
   "cell_type": "code",
   "execution_count": 281,
   "metadata": {},
   "outputs": [
    {
     "data": {
      "text/plain": [
       "51.95"
      ]
     },
     "execution_count": 281,
     "metadata": {},
     "output_type": "execute_result"
    }
   ],
   "source": [
    "# Number of samples that may still have less than 3 neighbours within the critical distance\n",
    "number_of_control_points * 0.05"
   ]
  },
  {
   "cell_type": "code",
   "execution_count": 282,
   "metadata": {},
   "outputs": [
    {
     "data": {
      "text/plain": [
       "52"
      ]
     },
     "execution_count": 282,
     "metadata": {},
     "output_type": "execute_result"
    }
   ],
   "source": [
    "# Check number of samples outside of critical distance\n",
    "samples_outside_critical_distance = nvalues_control_points[critical_distance][nvalues_control_points[critical_distance] < 3].index.tolist()\n",
    "len(samples_outside_critical_distance)\n",
    "\n",
    "# 0.05 sample above 51.95"
   ]
  },
  {
   "cell_type": "code",
   "execution_count": 283,
   "metadata": {},
   "outputs": [
    {
     "data": {
      "text/html": [
       "<div>\n",
       "<style scoped>\n",
       "    .dataframe tbody tr th:only-of-type {\n",
       "        vertical-align: middle;\n",
       "    }\n",
       "\n",
       "    .dataframe tbody tr th {\n",
       "        vertical-align: top;\n",
       "    }\n",
       "\n",
       "    .dataframe thead th {\n",
       "        text-align: right;\n",
       "    }\n",
       "</style>\n",
       "<table border=\"1\" class=\"dataframe\">\n",
       "  <thead>\n",
       "    <tr style=\"text-align: right;\">\n",
       "      <th></th>\n",
       "      <th>PC01</th>\n",
       "      <th>PC02</th>\n",
       "      <th>PC03</th>\n",
       "      <th>PC04</th>\n",
       "      <th>PC05</th>\n",
       "      <th>PC06</th>\n",
       "      <th>PC07</th>\n",
       "      <th>PC08</th>\n",
       "      <th>PC09</th>\n",
       "      <th>PC10</th>\n",
       "      <th>PC11</th>\n",
       "      <th>PC12</th>\n",
       "      <th>PC13</th>\n",
       "    </tr>\n",
       "  </thead>\n",
       "  <tbody>\n",
       "    <tr>\n",
       "      <th>1</th>\n",
       "      <td>1.487880</td>\n",
       "      <td>-0.285481</td>\n",
       "      <td>0.288952</td>\n",
       "      <td>-0.077558</td>\n",
       "      <td>-0.278738</td>\n",
       "      <td>-1.304030</td>\n",
       "      <td>0.950395</td>\n",
       "      <td>-0.141482</td>\n",
       "      <td>-0.871135</td>\n",
       "      <td>-0.042956</td>\n",
       "      <td>0.329448</td>\n",
       "      <td>0.238036</td>\n",
       "      <td>4.988034e-16</td>\n",
       "    </tr>\n",
       "    <tr>\n",
       "      <th>16</th>\n",
       "      <td>0.154234</td>\n",
       "      <td>0.653656</td>\n",
       "      <td>0.468895</td>\n",
       "      <td>0.993410</td>\n",
       "      <td>0.258180</td>\n",
       "      <td>0.029939</td>\n",
       "      <td>-0.151941</td>\n",
       "      <td>0.091591</td>\n",
       "      <td>-0.035518</td>\n",
       "      <td>0.333694</td>\n",
       "      <td>-0.046614</td>\n",
       "      <td>0.262552</td>\n",
       "      <td>2.102989e-16</td>\n",
       "    </tr>\n",
       "    <tr>\n",
       "      <th>83</th>\n",
       "      <td>1.090994</td>\n",
       "      <td>-0.353066</td>\n",
       "      <td>0.630796</td>\n",
       "      <td>-0.642222</td>\n",
       "      <td>0.162808</td>\n",
       "      <td>-1.804057</td>\n",
       "      <td>1.861200</td>\n",
       "      <td>-1.205815</td>\n",
       "      <td>0.832515</td>\n",
       "      <td>0.433174</td>\n",
       "      <td>0.027721</td>\n",
       "      <td>0.004638</td>\n",
       "      <td>1.519674e-15</td>\n",
       "    </tr>\n",
       "    <tr>\n",
       "      <th>113</th>\n",
       "      <td>2.810491</td>\n",
       "      <td>0.056655</td>\n",
       "      <td>-0.435380</td>\n",
       "      <td>0.639919</td>\n",
       "      <td>-0.019753</td>\n",
       "      <td>0.064280</td>\n",
       "      <td>-1.563957</td>\n",
       "      <td>-0.940547</td>\n",
       "      <td>-0.152688</td>\n",
       "      <td>-0.101187</td>\n",
       "      <td>0.187602</td>\n",
       "      <td>-0.032884</td>\n",
       "      <td>-7.995384e-16</td>\n",
       "    </tr>\n",
       "    <tr>\n",
       "      <th>207</th>\n",
       "      <td>1.613143</td>\n",
       "      <td>-0.405652</td>\n",
       "      <td>0.148397</td>\n",
       "      <td>-0.088862</td>\n",
       "      <td>1.312119</td>\n",
       "      <td>-0.449539</td>\n",
       "      <td>-0.101271</td>\n",
       "      <td>0.542993</td>\n",
       "      <td>-0.015301</td>\n",
       "      <td>-0.023137</td>\n",
       "      <td>0.080867</td>\n",
       "      <td>0.031874</td>\n",
       "      <td>3.908164e-16</td>\n",
       "    </tr>\n",
       "    <tr>\n",
       "      <th>363</th>\n",
       "      <td>3.115132</td>\n",
       "      <td>0.313153</td>\n",
       "      <td>2.238603</td>\n",
       "      <td>-2.010482</td>\n",
       "      <td>-1.264655</td>\n",
       "      <td>-0.031202</td>\n",
       "      <td>0.498742</td>\n",
       "      <td>0.418100</td>\n",
       "      <td>-0.007721</td>\n",
       "      <td>-0.522039</td>\n",
       "      <td>0.082670</td>\n",
       "      <td>0.003803</td>\n",
       "      <td>-7.671694e-17</td>\n",
       "    </tr>\n",
       "    <tr>\n",
       "      <th>461</th>\n",
       "      <td>1.021666</td>\n",
       "      <td>-0.138104</td>\n",
       "      <td>0.028288</td>\n",
       "      <td>0.094271</td>\n",
       "      <td>0.270863</td>\n",
       "      <td>-0.374542</td>\n",
       "      <td>0.656251</td>\n",
       "      <td>0.036707</td>\n",
       "      <td>0.284427</td>\n",
       "      <td>-0.076056</td>\n",
       "      <td>-0.031786</td>\n",
       "      <td>0.050384</td>\n",
       "      <td>3.169317e-16</td>\n",
       "    </tr>\n",
       "    <tr>\n",
       "      <th>553</th>\n",
       "      <td>0.873003</td>\n",
       "      <td>0.671696</td>\n",
       "      <td>1.451089</td>\n",
       "      <td>-1.443502</td>\n",
       "      <td>1.811720</td>\n",
       "      <td>-0.681656</td>\n",
       "      <td>-0.558547</td>\n",
       "      <td>0.031396</td>\n",
       "      <td>0.255669</td>\n",
       "      <td>0.413645</td>\n",
       "      <td>0.240268</td>\n",
       "      <td>0.023054</td>\n",
       "      <td>-2.063067e-16</td>\n",
       "    </tr>\n",
       "    <tr>\n",
       "      <th>566</th>\n",
       "      <td>0.805805</td>\n",
       "      <td>1.254842</td>\n",
       "      <td>0.449316</td>\n",
       "      <td>1.123463</td>\n",
       "      <td>-0.097543</td>\n",
       "      <td>-0.668274</td>\n",
       "      <td>-0.175621</td>\n",
       "      <td>0.376743</td>\n",
       "      <td>0.278155</td>\n",
       "      <td>0.186719</td>\n",
       "      <td>-0.043701</td>\n",
       "      <td>0.037210</td>\n",
       "      <td>3.833562e-16</td>\n",
       "    </tr>\n",
       "    <tr>\n",
       "      <th>771</th>\n",
       "      <td>2.275927</td>\n",
       "      <td>-0.493790</td>\n",
       "      <td>-0.982327</td>\n",
       "      <td>-0.427667</td>\n",
       "      <td>0.084487</td>\n",
       "      <td>0.681361</td>\n",
       "      <td>2.213730</td>\n",
       "      <td>-1.285320</td>\n",
       "      <td>-1.150138</td>\n",
       "      <td>0.230079</td>\n",
       "      <td>-0.202850</td>\n",
       "      <td>0.055875</td>\n",
       "      <td>8.619952e-16</td>\n",
       "    </tr>\n",
       "    <tr>\n",
       "      <th>1111</th>\n",
       "      <td>1.629711</td>\n",
       "      <td>-0.826815</td>\n",
       "      <td>-0.497345</td>\n",
       "      <td>-0.002625</td>\n",
       "      <td>-0.217530</td>\n",
       "      <td>0.315722</td>\n",
       "      <td>0.294494</td>\n",
       "      <td>-0.236792</td>\n",
       "      <td>0.780071</td>\n",
       "      <td>-0.081504</td>\n",
       "      <td>-0.080284</td>\n",
       "      <td>-0.058840</td>\n",
       "      <td>4.548551e-16</td>\n",
       "    </tr>\n",
       "    <tr>\n",
       "      <th>1163</th>\n",
       "      <td>0.795021</td>\n",
       "      <td>-1.332877</td>\n",
       "      <td>-0.460267</td>\n",
       "      <td>-0.354304</td>\n",
       "      <td>0.121141</td>\n",
       "      <td>0.463695</td>\n",
       "      <td>0.492778</td>\n",
       "      <td>-0.349540</td>\n",
       "      <td>0.512922</td>\n",
       "      <td>-0.300193</td>\n",
       "      <td>-0.035790</td>\n",
       "      <td>0.098784</td>\n",
       "      <td>3.188078e-16</td>\n",
       "    </tr>\n",
       "    <tr>\n",
       "      <th>1193</th>\n",
       "      <td>0.086600</td>\n",
       "      <td>1.125776</td>\n",
       "      <td>0.285930</td>\n",
       "      <td>0.183815</td>\n",
       "      <td>-0.206950</td>\n",
       "      <td>0.065613</td>\n",
       "      <td>0.059484</td>\n",
       "      <td>-0.049022</td>\n",
       "      <td>0.130654</td>\n",
       "      <td>-0.293634</td>\n",
       "      <td>0.048595</td>\n",
       "      <td>0.072500</td>\n",
       "      <td>1.875954e-16</td>\n",
       "    </tr>\n",
       "    <tr>\n",
       "      <th>1257</th>\n",
       "      <td>1.121573</td>\n",
       "      <td>0.446129</td>\n",
       "      <td>-0.356145</td>\n",
       "      <td>0.615363</td>\n",
       "      <td>0.150521</td>\n",
       "      <td>0.197038</td>\n",
       "      <td>-0.655614</td>\n",
       "      <td>-0.264697</td>\n",
       "      <td>-0.007316</td>\n",
       "      <td>-0.085844</td>\n",
       "      <td>0.012686</td>\n",
       "      <td>-0.043437</td>\n",
       "      <td>-4.627520e-16</td>\n",
       "    </tr>\n",
       "    <tr>\n",
       "      <th>1774</th>\n",
       "      <td>1.071192</td>\n",
       "      <td>-1.268493</td>\n",
       "      <td>-0.726543</td>\n",
       "      <td>-0.337798</td>\n",
       "      <td>0.048067</td>\n",
       "      <td>0.464832</td>\n",
       "      <td>-0.524038</td>\n",
       "      <td>-0.430706</td>\n",
       "      <td>0.639501</td>\n",
       "      <td>0.032856</td>\n",
       "      <td>-0.071266</td>\n",
       "      <td>-0.004118</td>\n",
       "      <td>6.103646e-17</td>\n",
       "    </tr>\n",
       "    <tr>\n",
       "      <th>1796</th>\n",
       "      <td>-0.500768</td>\n",
       "      <td>0.863851</td>\n",
       "      <td>-0.479748</td>\n",
       "      <td>0.293970</td>\n",
       "      <td>0.486533</td>\n",
       "      <td>1.052781</td>\n",
       "      <td>0.588406</td>\n",
       "      <td>-0.532993</td>\n",
       "      <td>0.318917</td>\n",
       "      <td>0.156508</td>\n",
       "      <td>-0.045101</td>\n",
       "      <td>0.037658</td>\n",
       "      <td>6.328279e-16</td>\n",
       "    </tr>\n",
       "    <tr>\n",
       "      <th>1930</th>\n",
       "      <td>-0.566076</td>\n",
       "      <td>0.483459</td>\n",
       "      <td>0.908086</td>\n",
       "      <td>1.496469</td>\n",
       "      <td>0.292009</td>\n",
       "      <td>0.155843</td>\n",
       "      <td>-0.008179</td>\n",
       "      <td>0.322017</td>\n",
       "      <td>0.194395</td>\n",
       "      <td>0.008894</td>\n",
       "      <td>-0.023896</td>\n",
       "      <td>0.051011</td>\n",
       "      <td>2.776619e-16</td>\n",
       "    </tr>\n",
       "    <tr>\n",
       "      <th>2157</th>\n",
       "      <td>0.392621</td>\n",
       "      <td>-1.093487</td>\n",
       "      <td>0.775564</td>\n",
       "      <td>0.289813</td>\n",
       "      <td>-0.114084</td>\n",
       "      <td>-1.684140</td>\n",
       "      <td>0.006831</td>\n",
       "      <td>1.573287</td>\n",
       "      <td>-0.195644</td>\n",
       "      <td>0.135368</td>\n",
       "      <td>0.039650</td>\n",
       "      <td>-0.004292</td>\n",
       "      <td>6.987866e-16</td>\n",
       "    </tr>\n",
       "    <tr>\n",
       "      <th>2259</th>\n",
       "      <td>-0.555429</td>\n",
       "      <td>-1.305931</td>\n",
       "      <td>2.585074</td>\n",
       "      <td>2.126384</td>\n",
       "      <td>0.568539</td>\n",
       "      <td>-0.386888</td>\n",
       "      <td>0.036421</td>\n",
       "      <td>0.390189</td>\n",
       "      <td>0.685111</td>\n",
       "      <td>0.185921</td>\n",
       "      <td>-0.046135</td>\n",
       "      <td>0.090938</td>\n",
       "      <td>8.409128e-16</td>\n",
       "    </tr>\n",
       "    <tr>\n",
       "      <th>2450</th>\n",
       "      <td>-0.179243</td>\n",
       "      <td>0.509393</td>\n",
       "      <td>-0.827996</td>\n",
       "      <td>-0.181116</td>\n",
       "      <td>0.143115</td>\n",
       "      <td>0.234797</td>\n",
       "      <td>0.490846</td>\n",
       "      <td>-0.620215</td>\n",
       "      <td>-0.309719</td>\n",
       "      <td>-0.249819</td>\n",
       "      <td>-0.045807</td>\n",
       "      <td>0.022860</td>\n",
       "      <td>1.993576e-16</td>\n",
       "    </tr>\n",
       "    <tr>\n",
       "      <th>2574</th>\n",
       "      <td>1.096616</td>\n",
       "      <td>1.185767</td>\n",
       "      <td>1.310342</td>\n",
       "      <td>-1.247031</td>\n",
       "      <td>-0.457662</td>\n",
       "      <td>0.570509</td>\n",
       "      <td>-0.919973</td>\n",
       "      <td>0.192207</td>\n",
       "      <td>-0.735437</td>\n",
       "      <td>-0.300622</td>\n",
       "      <td>-0.054607</td>\n",
       "      <td>0.035411</td>\n",
       "      <td>-3.259026e-16</td>\n",
       "    </tr>\n",
       "    <tr>\n",
       "      <th>2603</th>\n",
       "      <td>2.261216</td>\n",
       "      <td>1.224352</td>\n",
       "      <td>0.858243</td>\n",
       "      <td>-1.876702</td>\n",
       "      <td>-1.334839</td>\n",
       "      <td>0.608089</td>\n",
       "      <td>0.333403</td>\n",
       "      <td>2.948047</td>\n",
       "      <td>-0.752003</td>\n",
       "      <td>0.172924</td>\n",
       "      <td>0.163302</td>\n",
       "      <td>-0.126035</td>\n",
       "      <td>-1.920445e-16</td>\n",
       "    </tr>\n",
       "    <tr>\n",
       "      <th>2615</th>\n",
       "      <td>-0.753306</td>\n",
       "      <td>1.135127</td>\n",
       "      <td>-0.132234</td>\n",
       "      <td>-0.791848</td>\n",
       "      <td>2.391330</td>\n",
       "      <td>-0.845783</td>\n",
       "      <td>-0.216904</td>\n",
       "      <td>0.187945</td>\n",
       "      <td>0.170136</td>\n",
       "      <td>-0.084481</td>\n",
       "      <td>0.056995</td>\n",
       "      <td>-0.039022</td>\n",
       "      <td>-6.854044e-16</td>\n",
       "    </tr>\n",
       "    <tr>\n",
       "      <th>2720</th>\n",
       "      <td>-0.617361</td>\n",
       "      <td>-1.886952</td>\n",
       "      <td>0.722950</td>\n",
       "      <td>0.267741</td>\n",
       "      <td>0.136330</td>\n",
       "      <td>-0.210441</td>\n",
       "      <td>0.186534</td>\n",
       "      <td>-0.051765</td>\n",
       "      <td>0.174717</td>\n",
       "      <td>0.053171</td>\n",
       "      <td>-0.007229</td>\n",
       "      <td>0.117479</td>\n",
       "      <td>4.810527e-16</td>\n",
       "    </tr>\n",
       "    <tr>\n",
       "      <th>2799</th>\n",
       "      <td>-0.072558</td>\n",
       "      <td>-1.703914</td>\n",
       "      <td>0.053149</td>\n",
       "      <td>-0.354368</td>\n",
       "      <td>0.524804</td>\n",
       "      <td>-0.052943</td>\n",
       "      <td>0.122736</td>\n",
       "      <td>-0.166861</td>\n",
       "      <td>0.226678</td>\n",
       "      <td>0.208881</td>\n",
       "      <td>-0.048495</td>\n",
       "      <td>0.015063</td>\n",
       "      <td>5.188410e-16</td>\n",
       "    </tr>\n",
       "    <tr>\n",
       "      <th>2949</th>\n",
       "      <td>-0.987639</td>\n",
       "      <td>0.648536</td>\n",
       "      <td>-0.949487</td>\n",
       "      <td>-0.458195</td>\n",
       "      <td>-0.602627</td>\n",
       "      <td>-0.398999</td>\n",
       "      <td>-0.167897</td>\n",
       "      <td>0.686209</td>\n",
       "      <td>0.326545</td>\n",
       "      <td>0.043308</td>\n",
       "      <td>0.087450</td>\n",
       "      <td>0.013767</td>\n",
       "      <td>-3.911991e-16</td>\n",
       "    </tr>\n",
       "    <tr>\n",
       "      <th>3184</th>\n",
       "      <td>-1.692003</td>\n",
       "      <td>0.608993</td>\n",
       "      <td>1.865597</td>\n",
       "      <td>2.006577</td>\n",
       "      <td>0.706079</td>\n",
       "      <td>0.278109</td>\n",
       "      <td>-0.077630</td>\n",
       "      <td>0.113182</td>\n",
       "      <td>0.566330</td>\n",
       "      <td>0.267218</td>\n",
       "      <td>0.209031</td>\n",
       "      <td>-0.021853</td>\n",
       "      <td>4.299226e-16</td>\n",
       "    </tr>\n",
       "    <tr>\n",
       "      <th>3374</th>\n",
       "      <td>-0.612272</td>\n",
       "      <td>-0.146997</td>\n",
       "      <td>1.147613</td>\n",
       "      <td>0.447784</td>\n",
       "      <td>-2.396885</td>\n",
       "      <td>0.949287</td>\n",
       "      <td>-0.752162</td>\n",
       "      <td>-0.920333</td>\n",
       "      <td>-0.273620</td>\n",
       "      <td>0.347669</td>\n",
       "      <td>0.549762</td>\n",
       "      <td>0.186828</td>\n",
       "      <td>4.067899e-16</td>\n",
       "    </tr>\n",
       "    <tr>\n",
       "      <th>3453</th>\n",
       "      <td>-0.561516</td>\n",
       "      <td>-0.181251</td>\n",
       "      <td>0.987536</td>\n",
       "      <td>-0.372390</td>\n",
       "      <td>0.128233</td>\n",
       "      <td>-0.270743</td>\n",
       "      <td>0.005623</td>\n",
       "      <td>-0.015916</td>\n",
       "      <td>-0.174142</td>\n",
       "      <td>-0.096945</td>\n",
       "      <td>-0.028056</td>\n",
       "      <td>-0.016477</td>\n",
       "      <td>2.751759e-16</td>\n",
       "    </tr>\n",
       "    <tr>\n",
       "      <th>3454</th>\n",
       "      <td>0.303576</td>\n",
       "      <td>1.536256</td>\n",
       "      <td>2.284472</td>\n",
       "      <td>-2.817774</td>\n",
       "      <td>-0.539848</td>\n",
       "      <td>1.056164</td>\n",
       "      <td>0.154019</td>\n",
       "      <td>0.112959</td>\n",
       "      <td>0.515603</td>\n",
       "      <td>-0.098334</td>\n",
       "      <td>-0.112845</td>\n",
       "      <td>-0.026148</td>\n",
       "      <td>1.423186e-16</td>\n",
       "    </tr>\n",
       "    <tr>\n",
       "      <th>3477</th>\n",
       "      <td>-1.490847</td>\n",
       "      <td>1.406775</td>\n",
       "      <td>-0.785823</td>\n",
       "      <td>-0.214042</td>\n",
       "      <td>-0.034985</td>\n",
       "      <td>-0.110260</td>\n",
       "      <td>0.159568</td>\n",
       "      <td>-0.414302</td>\n",
       "      <td>0.395243</td>\n",
       "      <td>0.031156</td>\n",
       "      <td>-0.109908</td>\n",
       "      <td>0.002529</td>\n",
       "      <td>4.710521e-16</td>\n",
       "    </tr>\n",
       "    <tr>\n",
       "      <th>3649</th>\n",
       "      <td>-0.442549</td>\n",
       "      <td>-1.927615</td>\n",
       "      <td>0.238033</td>\n",
       "      <td>-0.294351</td>\n",
       "      <td>0.385788</td>\n",
       "      <td>-0.243881</td>\n",
       "      <td>0.255013</td>\n",
       "      <td>-0.350264</td>\n",
       "      <td>0.259519</td>\n",
       "      <td>0.074055</td>\n",
       "      <td>-0.044461</td>\n",
       "      <td>-0.073767</td>\n",
       "      <td>2.489642e-16</td>\n",
       "    </tr>\n",
       "    <tr>\n",
       "      <th>3718</th>\n",
       "      <td>-1.715406</td>\n",
       "      <td>-0.057992</td>\n",
       "      <td>-0.355373</td>\n",
       "      <td>-0.625076</td>\n",
       "      <td>0.574073</td>\n",
       "      <td>-0.027557</td>\n",
       "      <td>0.131096</td>\n",
       "      <td>-0.203054</td>\n",
       "      <td>0.127049</td>\n",
       "      <td>-0.009553</td>\n",
       "      <td>0.261572</td>\n",
       "      <td>-0.027736</td>\n",
       "      <td>8.522554e-17</td>\n",
       "    </tr>\n",
       "    <tr>\n",
       "      <th>3788</th>\n",
       "      <td>-1.597373</td>\n",
       "      <td>0.178002</td>\n",
       "      <td>-0.122302</td>\n",
       "      <td>0.292210</td>\n",
       "      <td>-0.567277</td>\n",
       "      <td>-0.183073</td>\n",
       "      <td>-0.159513</td>\n",
       "      <td>0.095970</td>\n",
       "      <td>0.390917</td>\n",
       "      <td>-0.027962</td>\n",
       "      <td>-0.003380</td>\n",
       "      <td>0.026842</td>\n",
       "      <td>1.681300e-16</td>\n",
       "    </tr>\n",
       "    <tr>\n",
       "      <th>3853</th>\n",
       "      <td>1.117789</td>\n",
       "      <td>-0.909893</td>\n",
       "      <td>3.389087</td>\n",
       "      <td>-2.299740</td>\n",
       "      <td>-1.634560</td>\n",
       "      <td>-0.503846</td>\n",
       "      <td>-0.526557</td>\n",
       "      <td>0.206382</td>\n",
       "      <td>-0.483900</td>\n",
       "      <td>-0.199863</td>\n",
       "      <td>-0.001042</td>\n",
       "      <td>-0.031088</td>\n",
       "      <td>1.481465e-16</td>\n",
       "    </tr>\n",
       "    <tr>\n",
       "      <th>3905</th>\n",
       "      <td>-1.591184</td>\n",
       "      <td>1.210397</td>\n",
       "      <td>0.800747</td>\n",
       "      <td>-1.050203</td>\n",
       "      <td>0.889492</td>\n",
       "      <td>0.020642</td>\n",
       "      <td>0.223274</td>\n",
       "      <td>-0.209781</td>\n",
       "      <td>-0.134402</td>\n",
       "      <td>0.303017</td>\n",
       "      <td>-0.073021</td>\n",
       "      <td>0.023888</td>\n",
       "      <td>3.693038e-16</td>\n",
       "    </tr>\n",
       "    <tr>\n",
       "      <th>3916</th>\n",
       "      <td>-0.727269</td>\n",
       "      <td>-2.235757</td>\n",
       "      <td>0.453676</td>\n",
       "      <td>0.444367</td>\n",
       "      <td>-0.400701</td>\n",
       "      <td>0.223423</td>\n",
       "      <td>0.477290</td>\n",
       "      <td>0.024499</td>\n",
       "      <td>0.026476</td>\n",
       "      <td>-0.214137</td>\n",
       "      <td>-0.121083</td>\n",
       "      <td>0.027650</td>\n",
       "      <td>7.529321e-16</td>\n",
       "    </tr>\n",
       "    <tr>\n",
       "      <th>3981</th>\n",
       "      <td>-0.729174</td>\n",
       "      <td>1.516567</td>\n",
       "      <td>3.000557</td>\n",
       "      <td>-1.095477</td>\n",
       "      <td>-0.081413</td>\n",
       "      <td>0.797633</td>\n",
       "      <td>-0.426647</td>\n",
       "      <td>-0.091533</td>\n",
       "      <td>-0.067630</td>\n",
       "      <td>0.216517</td>\n",
       "      <td>0.005966</td>\n",
       "      <td>-0.033495</td>\n",
       "      <td>2.327201e-17</td>\n",
       "    </tr>\n",
       "    <tr>\n",
       "      <th>4028</th>\n",
       "      <td>-2.286938</td>\n",
       "      <td>0.512532</td>\n",
       "      <td>-0.294203</td>\n",
       "      <td>-0.224490</td>\n",
       "      <td>0.283196</td>\n",
       "      <td>-0.030322</td>\n",
       "      <td>0.312468</td>\n",
       "      <td>0.097607</td>\n",
       "      <td>-0.006278</td>\n",
       "      <td>-0.102890</td>\n",
       "      <td>-0.031589</td>\n",
       "      <td>0.139222</td>\n",
       "      <td>-4.531191e-16</td>\n",
       "    </tr>\n",
       "    <tr>\n",
       "      <th>4040</th>\n",
       "      <td>-1.861035</td>\n",
       "      <td>0.344410</td>\n",
       "      <td>0.103722</td>\n",
       "      <td>0.449683</td>\n",
       "      <td>-0.066330</td>\n",
       "      <td>-0.069122</td>\n",
       "      <td>-0.027398</td>\n",
       "      <td>0.190455</td>\n",
       "      <td>0.241916</td>\n",
       "      <td>-0.090385</td>\n",
       "      <td>-0.033452</td>\n",
       "      <td>0.011267</td>\n",
       "      <td>-2.506801e-16</td>\n",
       "    </tr>\n",
       "    <tr>\n",
       "      <th>4043</th>\n",
       "      <td>-1.686284</td>\n",
       "      <td>0.052072</td>\n",
       "      <td>0.352153</td>\n",
       "      <td>0.740804</td>\n",
       "      <td>-0.493652</td>\n",
       "      <td>-0.087068</td>\n",
       "      <td>0.316930</td>\n",
       "      <td>0.225794</td>\n",
       "      <td>0.036044</td>\n",
       "      <td>-0.109064</td>\n",
       "      <td>0.031365</td>\n",
       "      <td>0.001347</td>\n",
       "      <td>5.159882e-16</td>\n",
       "    </tr>\n",
       "    <tr>\n",
       "      <th>4160</th>\n",
       "      <td>-0.686483</td>\n",
       "      <td>-2.125146</td>\n",
       "      <td>0.600961</td>\n",
       "      <td>0.590289</td>\n",
       "      <td>-0.645167</td>\n",
       "      <td>-0.020488</td>\n",
       "      <td>0.169954</td>\n",
       "      <td>0.185890</td>\n",
       "      <td>0.212884</td>\n",
       "      <td>-0.080363</td>\n",
       "      <td>0.015990</td>\n",
       "      <td>-0.099161</td>\n",
       "      <td>-1.104405e-16</td>\n",
       "    </tr>\n",
       "    <tr>\n",
       "      <th>4216</th>\n",
       "      <td>-0.650118</td>\n",
       "      <td>0.970181</td>\n",
       "      <td>1.937908</td>\n",
       "      <td>-1.532527</td>\n",
       "      <td>-0.146987</td>\n",
       "      <td>0.710646</td>\n",
       "      <td>-0.434255</td>\n",
       "      <td>0.126532</td>\n",
       "      <td>-0.232590</td>\n",
       "      <td>-0.088270</td>\n",
       "      <td>-0.151546</td>\n",
       "      <td>-0.020225</td>\n",
       "      <td>6.991006e-17</td>\n",
       "    </tr>\n",
       "    <tr>\n",
       "      <th>4228</th>\n",
       "      <td>-0.907634</td>\n",
       "      <td>0.799621</td>\n",
       "      <td>1.234205</td>\n",
       "      <td>-1.929551</td>\n",
       "      <td>-0.940325</td>\n",
       "      <td>0.316107</td>\n",
       "      <td>0.104256</td>\n",
       "      <td>0.005891</td>\n",
       "      <td>0.037396</td>\n",
       "      <td>-0.063614</td>\n",
       "      <td>-0.177743</td>\n",
       "      <td>0.059385</td>\n",
       "      <td>4.268548e-17</td>\n",
       "    </tr>\n",
       "    <tr>\n",
       "      <th>4251</th>\n",
       "      <td>-1.405949</td>\n",
       "      <td>0.814248</td>\n",
       "      <td>0.687343</td>\n",
       "      <td>-0.667236</td>\n",
       "      <td>-0.931241</td>\n",
       "      <td>0.210814</td>\n",
       "      <td>0.273411</td>\n",
       "      <td>0.123164</td>\n",
       "      <td>0.090661</td>\n",
       "      <td>-0.056763</td>\n",
       "      <td>-0.194485</td>\n",
       "      <td>0.035153</td>\n",
       "      <td>9.939632e-16</td>\n",
       "    </tr>\n",
       "    <tr>\n",
       "      <th>4363</th>\n",
       "      <td>-0.839050</td>\n",
       "      <td>-2.324320</td>\n",
       "      <td>-0.097425</td>\n",
       "      <td>-0.580753</td>\n",
       "      <td>-0.315895</td>\n",
       "      <td>-0.690753</td>\n",
       "      <td>-0.179811</td>\n",
       "      <td>0.187163</td>\n",
       "      <td>0.022400</td>\n",
       "      <td>-0.066013</td>\n",
       "      <td>-0.068840</td>\n",
       "      <td>-0.070740</td>\n",
       "      <td>1.014310e-15</td>\n",
       "    </tr>\n",
       "    <tr>\n",
       "      <th>4377</th>\n",
       "      <td>-1.606187</td>\n",
       "      <td>0.478939</td>\n",
       "      <td>1.381643</td>\n",
       "      <td>-0.587698</td>\n",
       "      <td>-0.140356</td>\n",
       "      <td>0.406051</td>\n",
       "      <td>0.085018</td>\n",
       "      <td>0.035482</td>\n",
       "      <td>-0.169089</td>\n",
       "      <td>-0.423343</td>\n",
       "      <td>0.127783</td>\n",
       "      <td>-0.036627</td>\n",
       "      <td>-5.965392e-16</td>\n",
       "    </tr>\n",
       "    <tr>\n",
       "      <th>4463</th>\n",
       "      <td>-2.395923</td>\n",
       "      <td>0.617441</td>\n",
       "      <td>-0.893220</td>\n",
       "      <td>-0.277972</td>\n",
       "      <td>-0.322062</td>\n",
       "      <td>0.604371</td>\n",
       "      <td>0.023543</td>\n",
       "      <td>-0.331405</td>\n",
       "      <td>-0.213244</td>\n",
       "      <td>0.566214</td>\n",
       "      <td>-0.094128</td>\n",
       "      <td>0.038290</td>\n",
       "      <td>4.519758e-16</td>\n",
       "    </tr>\n",
       "    <tr>\n",
       "      <th>4465</th>\n",
       "      <td>-0.255256</td>\n",
       "      <td>-1.034876</td>\n",
       "      <td>4.355990</td>\n",
       "      <td>-3.323256</td>\n",
       "      <td>3.250541</td>\n",
       "      <td>0.383891</td>\n",
       "      <td>-0.123532</td>\n",
       "      <td>-0.181621</td>\n",
       "      <td>-0.201262</td>\n",
       "      <td>0.996916</td>\n",
       "      <td>0.003328</td>\n",
       "      <td>-0.128801</td>\n",
       "      <td>-2.252925e-16</td>\n",
       "    </tr>\n",
       "    <tr>\n",
       "      <th>4506</th>\n",
       "      <td>-1.432516</td>\n",
       "      <td>1.124865</td>\n",
       "      <td>0.590239</td>\n",
       "      <td>-1.609167</td>\n",
       "      <td>-0.013022</td>\n",
       "      <td>0.361750</td>\n",
       "      <td>-0.270175</td>\n",
       "      <td>0.168681</td>\n",
       "      <td>-0.036334</td>\n",
       "      <td>-0.142242</td>\n",
       "      <td>-0.302737</td>\n",
       "      <td>-0.058779</td>\n",
       "      <td>5.047756e-16</td>\n",
       "    </tr>\n",
       "    <tr>\n",
       "      <th>4581</th>\n",
       "      <td>-1.149561</td>\n",
       "      <td>-2.658844</td>\n",
       "      <td>-0.257720</td>\n",
       "      <td>-0.520783</td>\n",
       "      <td>-0.295129</td>\n",
       "      <td>0.028574</td>\n",
       "      <td>-0.225238</td>\n",
       "      <td>0.128734</td>\n",
       "      <td>-0.138265</td>\n",
       "      <td>-0.076135</td>\n",
       "      <td>-0.100353</td>\n",
       "      <td>-0.097948</td>\n",
       "      <td>9.096365e-16</td>\n",
       "    </tr>\n",
       "    <tr>\n",
       "      <th>4633</th>\n",
       "      <td>-3.153677</td>\n",
       "      <td>-0.001630</td>\n",
       "      <td>-0.090602</td>\n",
       "      <td>-0.346674</td>\n",
       "      <td>0.330120</td>\n",
       "      <td>0.502062</td>\n",
       "      <td>-0.191865</td>\n",
       "      <td>-0.359782</td>\n",
       "      <td>-0.393085</td>\n",
       "      <td>0.735470</td>\n",
       "      <td>0.345349</td>\n",
       "      <td>-0.057763</td>\n",
       "      <td>2.033417e-16</td>\n",
       "    </tr>\n",
       "  </tbody>\n",
       "</table>\n",
       "</div>"
      ],
      "text/plain": [
       "          PC01      PC02      PC03      PC04      PC05      PC06      PC07  \\\n",
       "1     1.487880 -0.285481  0.288952 -0.077558 -0.278738 -1.304030  0.950395   \n",
       "16    0.154234  0.653656  0.468895  0.993410  0.258180  0.029939 -0.151941   \n",
       "83    1.090994 -0.353066  0.630796 -0.642222  0.162808 -1.804057  1.861200   \n",
       "113   2.810491  0.056655 -0.435380  0.639919 -0.019753  0.064280 -1.563957   \n",
       "207   1.613143 -0.405652  0.148397 -0.088862  1.312119 -0.449539 -0.101271   \n",
       "363   3.115132  0.313153  2.238603 -2.010482 -1.264655 -0.031202  0.498742   \n",
       "461   1.021666 -0.138104  0.028288  0.094271  0.270863 -0.374542  0.656251   \n",
       "553   0.873003  0.671696  1.451089 -1.443502  1.811720 -0.681656 -0.558547   \n",
       "566   0.805805  1.254842  0.449316  1.123463 -0.097543 -0.668274 -0.175621   \n",
       "771   2.275927 -0.493790 -0.982327 -0.427667  0.084487  0.681361  2.213730   \n",
       "1111  1.629711 -0.826815 -0.497345 -0.002625 -0.217530  0.315722  0.294494   \n",
       "1163  0.795021 -1.332877 -0.460267 -0.354304  0.121141  0.463695  0.492778   \n",
       "1193  0.086600  1.125776  0.285930  0.183815 -0.206950  0.065613  0.059484   \n",
       "1257  1.121573  0.446129 -0.356145  0.615363  0.150521  0.197038 -0.655614   \n",
       "1774  1.071192 -1.268493 -0.726543 -0.337798  0.048067  0.464832 -0.524038   \n",
       "1796 -0.500768  0.863851 -0.479748  0.293970  0.486533  1.052781  0.588406   \n",
       "1930 -0.566076  0.483459  0.908086  1.496469  0.292009  0.155843 -0.008179   \n",
       "2157  0.392621 -1.093487  0.775564  0.289813 -0.114084 -1.684140  0.006831   \n",
       "2259 -0.555429 -1.305931  2.585074  2.126384  0.568539 -0.386888  0.036421   \n",
       "2450 -0.179243  0.509393 -0.827996 -0.181116  0.143115  0.234797  0.490846   \n",
       "2574  1.096616  1.185767  1.310342 -1.247031 -0.457662  0.570509 -0.919973   \n",
       "2603  2.261216  1.224352  0.858243 -1.876702 -1.334839  0.608089  0.333403   \n",
       "2615 -0.753306  1.135127 -0.132234 -0.791848  2.391330 -0.845783 -0.216904   \n",
       "2720 -0.617361 -1.886952  0.722950  0.267741  0.136330 -0.210441  0.186534   \n",
       "2799 -0.072558 -1.703914  0.053149 -0.354368  0.524804 -0.052943  0.122736   \n",
       "2949 -0.987639  0.648536 -0.949487 -0.458195 -0.602627 -0.398999 -0.167897   \n",
       "3184 -1.692003  0.608993  1.865597  2.006577  0.706079  0.278109 -0.077630   \n",
       "3374 -0.612272 -0.146997  1.147613  0.447784 -2.396885  0.949287 -0.752162   \n",
       "3453 -0.561516 -0.181251  0.987536 -0.372390  0.128233 -0.270743  0.005623   \n",
       "3454  0.303576  1.536256  2.284472 -2.817774 -0.539848  1.056164  0.154019   \n",
       "3477 -1.490847  1.406775 -0.785823 -0.214042 -0.034985 -0.110260  0.159568   \n",
       "3649 -0.442549 -1.927615  0.238033 -0.294351  0.385788 -0.243881  0.255013   \n",
       "3718 -1.715406 -0.057992 -0.355373 -0.625076  0.574073 -0.027557  0.131096   \n",
       "3788 -1.597373  0.178002 -0.122302  0.292210 -0.567277 -0.183073 -0.159513   \n",
       "3853  1.117789 -0.909893  3.389087 -2.299740 -1.634560 -0.503846 -0.526557   \n",
       "3905 -1.591184  1.210397  0.800747 -1.050203  0.889492  0.020642  0.223274   \n",
       "3916 -0.727269 -2.235757  0.453676  0.444367 -0.400701  0.223423  0.477290   \n",
       "3981 -0.729174  1.516567  3.000557 -1.095477 -0.081413  0.797633 -0.426647   \n",
       "4028 -2.286938  0.512532 -0.294203 -0.224490  0.283196 -0.030322  0.312468   \n",
       "4040 -1.861035  0.344410  0.103722  0.449683 -0.066330 -0.069122 -0.027398   \n",
       "4043 -1.686284  0.052072  0.352153  0.740804 -0.493652 -0.087068  0.316930   \n",
       "4160 -0.686483 -2.125146  0.600961  0.590289 -0.645167 -0.020488  0.169954   \n",
       "4216 -0.650118  0.970181  1.937908 -1.532527 -0.146987  0.710646 -0.434255   \n",
       "4228 -0.907634  0.799621  1.234205 -1.929551 -0.940325  0.316107  0.104256   \n",
       "4251 -1.405949  0.814248  0.687343 -0.667236 -0.931241  0.210814  0.273411   \n",
       "4363 -0.839050 -2.324320 -0.097425 -0.580753 -0.315895 -0.690753 -0.179811   \n",
       "4377 -1.606187  0.478939  1.381643 -0.587698 -0.140356  0.406051  0.085018   \n",
       "4463 -2.395923  0.617441 -0.893220 -0.277972 -0.322062  0.604371  0.023543   \n",
       "4465 -0.255256 -1.034876  4.355990 -3.323256  3.250541  0.383891 -0.123532   \n",
       "4506 -1.432516  1.124865  0.590239 -1.609167 -0.013022  0.361750 -0.270175   \n",
       "4581 -1.149561 -2.658844 -0.257720 -0.520783 -0.295129  0.028574 -0.225238   \n",
       "4633 -3.153677 -0.001630 -0.090602 -0.346674  0.330120  0.502062 -0.191865   \n",
       "\n",
       "          PC08      PC09      PC10      PC11      PC12          PC13  \n",
       "1    -0.141482 -0.871135 -0.042956  0.329448  0.238036  4.988034e-16  \n",
       "16    0.091591 -0.035518  0.333694 -0.046614  0.262552  2.102989e-16  \n",
       "83   -1.205815  0.832515  0.433174  0.027721  0.004638  1.519674e-15  \n",
       "113  -0.940547 -0.152688 -0.101187  0.187602 -0.032884 -7.995384e-16  \n",
       "207   0.542993 -0.015301 -0.023137  0.080867  0.031874  3.908164e-16  \n",
       "363   0.418100 -0.007721 -0.522039  0.082670  0.003803 -7.671694e-17  \n",
       "461   0.036707  0.284427 -0.076056 -0.031786  0.050384  3.169317e-16  \n",
       "553   0.031396  0.255669  0.413645  0.240268  0.023054 -2.063067e-16  \n",
       "566   0.376743  0.278155  0.186719 -0.043701  0.037210  3.833562e-16  \n",
       "771  -1.285320 -1.150138  0.230079 -0.202850  0.055875  8.619952e-16  \n",
       "1111 -0.236792  0.780071 -0.081504 -0.080284 -0.058840  4.548551e-16  \n",
       "1163 -0.349540  0.512922 -0.300193 -0.035790  0.098784  3.188078e-16  \n",
       "1193 -0.049022  0.130654 -0.293634  0.048595  0.072500  1.875954e-16  \n",
       "1257 -0.264697 -0.007316 -0.085844  0.012686 -0.043437 -4.627520e-16  \n",
       "1774 -0.430706  0.639501  0.032856 -0.071266 -0.004118  6.103646e-17  \n",
       "1796 -0.532993  0.318917  0.156508 -0.045101  0.037658  6.328279e-16  \n",
       "1930  0.322017  0.194395  0.008894 -0.023896  0.051011  2.776619e-16  \n",
       "2157  1.573287 -0.195644  0.135368  0.039650 -0.004292  6.987866e-16  \n",
       "2259  0.390189  0.685111  0.185921 -0.046135  0.090938  8.409128e-16  \n",
       "2450 -0.620215 -0.309719 -0.249819 -0.045807  0.022860  1.993576e-16  \n",
       "2574  0.192207 -0.735437 -0.300622 -0.054607  0.035411 -3.259026e-16  \n",
       "2603  2.948047 -0.752003  0.172924  0.163302 -0.126035 -1.920445e-16  \n",
       "2615  0.187945  0.170136 -0.084481  0.056995 -0.039022 -6.854044e-16  \n",
       "2720 -0.051765  0.174717  0.053171 -0.007229  0.117479  4.810527e-16  \n",
       "2799 -0.166861  0.226678  0.208881 -0.048495  0.015063  5.188410e-16  \n",
       "2949  0.686209  0.326545  0.043308  0.087450  0.013767 -3.911991e-16  \n",
       "3184  0.113182  0.566330  0.267218  0.209031 -0.021853  4.299226e-16  \n",
       "3374 -0.920333 -0.273620  0.347669  0.549762  0.186828  4.067899e-16  \n",
       "3453 -0.015916 -0.174142 -0.096945 -0.028056 -0.016477  2.751759e-16  \n",
       "3454  0.112959  0.515603 -0.098334 -0.112845 -0.026148  1.423186e-16  \n",
       "3477 -0.414302  0.395243  0.031156 -0.109908  0.002529  4.710521e-16  \n",
       "3649 -0.350264  0.259519  0.074055 -0.044461 -0.073767  2.489642e-16  \n",
       "3718 -0.203054  0.127049 -0.009553  0.261572 -0.027736  8.522554e-17  \n",
       "3788  0.095970  0.390917 -0.027962 -0.003380  0.026842  1.681300e-16  \n",
       "3853  0.206382 -0.483900 -0.199863 -0.001042 -0.031088  1.481465e-16  \n",
       "3905 -0.209781 -0.134402  0.303017 -0.073021  0.023888  3.693038e-16  \n",
       "3916  0.024499  0.026476 -0.214137 -0.121083  0.027650  7.529321e-16  \n",
       "3981 -0.091533 -0.067630  0.216517  0.005966 -0.033495  2.327201e-17  \n",
       "4028  0.097607 -0.006278 -0.102890 -0.031589  0.139222 -4.531191e-16  \n",
       "4040  0.190455  0.241916 -0.090385 -0.033452  0.011267 -2.506801e-16  \n",
       "4043  0.225794  0.036044 -0.109064  0.031365  0.001347  5.159882e-16  \n",
       "4160  0.185890  0.212884 -0.080363  0.015990 -0.099161 -1.104405e-16  \n",
       "4216  0.126532 -0.232590 -0.088270 -0.151546 -0.020225  6.991006e-17  \n",
       "4228  0.005891  0.037396 -0.063614 -0.177743  0.059385  4.268548e-17  \n",
       "4251  0.123164  0.090661 -0.056763 -0.194485  0.035153  9.939632e-16  \n",
       "4363  0.187163  0.022400 -0.066013 -0.068840 -0.070740  1.014310e-15  \n",
       "4377  0.035482 -0.169089 -0.423343  0.127783 -0.036627 -5.965392e-16  \n",
       "4463 -0.331405 -0.213244  0.566214 -0.094128  0.038290  4.519758e-16  \n",
       "4465 -0.181621 -0.201262  0.996916  0.003328 -0.128801 -2.252925e-16  \n",
       "4506  0.168681 -0.036334 -0.142242 -0.302737 -0.058779  5.047756e-16  \n",
       "4581  0.128734 -0.138265 -0.076135 -0.100353 -0.097948  9.096365e-16  \n",
       "4633 -0.359782 -0.393085  0.735470  0.345349 -0.057763  2.033417e-16  "
      ]
     },
     "execution_count": 283,
     "metadata": {},
     "output_type": "execute_result"
    }
   ],
   "source": [
    "# Overview of samples that are outside search_radius\n",
    "mineralogy_pca_df.loc[samples_outside_critical_distance, :]"
   ]
  },
  {
   "cell_type": "markdown",
   "metadata": {},
   "source": [
    "____"
   ]
  },
  {
   "cell_type": "markdown",
   "metadata": {},
   "source": [
    "## Create high resolution grids\n",
    "____"
   ]
  },
  {
   "cell_type": "code",
   "execution_count": 284,
   "metadata": {},
   "outputs": [
    {
     "data": {
      "text/plain": [
       "array([[237832.25743787782, 952978.2634567402],\n",
       "       [(4680698.080159552,), 6220991.776912029]], dtype=object)"
      ]
     },
     "execution_count": 284,
     "metadata": {},
     "output_type": "execute_result"
    }
   ],
   "source": [
    "# Determine (wide) grid boundaries\n",
    "X = coordinates_utm.iloc[:, 0].values\n",
    "Xmin = np.min(X) - critical_distance * 1.05\n",
    "Xmax = np.max(X) + critical_distance * 1.05\n",
    "\n",
    "Y = coordinates_utm.iloc[:, 1].values\n",
    "Ymin = np.min(Y) - critical_distance * 1.05, \n",
    "Ymax = np.max(Y) + critical_distance * 1.05\n",
    "\n",
    "coordinates_boundaries = np.array([[Xmin, Xmax], [Ymin, Ymax]])\n",
    "coordinates_boundaries"
   ]
  },
  {
   "cell_type": "code",
   "execution_count": 285,
   "metadata": {},
   "outputs": [
    {
     "name": "stdout",
     "output_type": "stream",
     "text": [
      "x [237832.25743787782 952978.2634567402]\n",
      "y [(4680698.080159552,) 6220991.776912029]\n",
      "x range:  715146\n",
      "y range:  1540293\n",
      "smallest dimension x\n",
      "theoretical x spacing:  1433.158328695115\n",
      "actual x spacing:  1433.1583286951063\n",
      "actual y spacing:  1433.1583286952227\n",
      "Number of points:  541080\n",
      "xy grid:  501 1080 \n",
      "\n"
     ]
    }
   ],
   "source": [
    "# Set approximate number of points along each axis\n",
    "n_points = 500\n",
    "\n",
    "temp = {}\n",
    "x, y = coordinates_boundaries\n",
    "\n",
    "temp[\"x_start (m)\"] = int(np.floor(x[0]))\n",
    "temp[\"x_end (m)\"] = int(np.floor(x[1]))\n",
    "temp[\"y_start (m)\"] = int(np.floor(y[0]))\n",
    "temp[\"y_end (m)\"] = int(np.floor(y[1]))\n",
    "\n",
    "print(\"x\", x)\n",
    "print(\"y\", y)\n",
    "\n",
    "temp[\"x_range (m)\"] = int(np.floor(x[1])) - int(np.floor(x[0]))\n",
    "temp[\"y_range (m)\"] = int(np.floor(y[1])) - int(np.floor(y[0]))\n",
    "print(\"x range: \", temp[\"x_range (m)\"])\n",
    "print(\"y range: \", temp[\"y_range (m)\"])\n",
    "\n",
    "ranges = {\"x\": temp[\"x_range (m)\"],\n",
    "          \"y\": temp[\"y_range (m)\"],\n",
    "         }\n",
    "\n",
    "threshold = 10000000\n",
    "for dimension, ranger in ranges.items():\n",
    "    if ranger < threshold:\n",
    "        smallest_dimension = dimension\n",
    "        threshold = ranger\n",
    "print(\"smallest dimension\", smallest_dimension)\n",
    "\n",
    "x_spacing, dx = np.linspace(x[0], x[1], n_points, retstep=True)\n",
    "y_spacing, dy = np.linspace(y[0], y[1], n_points, retstep=True)\n",
    "\n",
    "steps = {\"x\": dx,\n",
    "         \"y\": dy,\n",
    "        }\n",
    "\n",
    "print(\"theoretical x spacing: \", dx)\n",
    "\n",
    "xgrid = np.arange(x[0]-dx, x[1]+dx, steps[smallest_dimension])\n",
    "ygrid = np.arange(y[0]-dy, y[1]+dy, steps[smallest_dimension])\n",
    "\n",
    "print(\"actual x spacing: \", xgrid[1] - xgrid[0])\n",
    "print(\"actual y spacing: \", ygrid[1] - ygrid[0])\n",
    "\n",
    "temp[\"x_spacing (m)\"] = np.round(xgrid[1] - xgrid[0], 2)\n",
    "temp[\"y_spacing (m)\"] = np.round(ygrid[1] - ygrid[0], 2)\n",
    "\n",
    "print(\"Number of points: \", len(xgrid) * len(ygrid))\n",
    "print(\"xy grid: \", len(xgrid), len(ygrid), \"\\n\")\n",
    "\n",
    "temp[\"#xgrid_points\"] = len(xgrid)\n",
    "temp[\"#ygrid_points\"] = len(ygrid)\n",
    "temp[\"#total_grid_nodes\"] = len(xgrid) * len(ygrid)\n",
    "\n",
    "coordinates_grids = [xgrid, ygrid]\n",
    "coordinates_grids_details = temp\n",
    "\n",
    "# Assigned to a different variable (name) because later on 'grid' gets used in the code\n",
    "grid = coordinates_grids"
   ]
  },
  {
   "cell_type": "markdown",
   "metadata": {},
   "source": [
    "## Classification map\n",
    "___"
   ]
  },
  {
   "cell_type": "markdown",
   "metadata": {},
   "source": [
    "We will have to decide on a certain classification scheme before we could use this.  \n",
    "Another option might be to use a condensed version of the 'type_granite' column."
   ]
  },
  {
   "cell_type": "markdown",
   "metadata": {},
   "source": [
    "**Yep**"
   ]
  },
  {
   "cell_type": "markdown",
   "metadata": {},
   "source": [
    "## Detrending\n",
    "____"
   ]
  },
  {
   "cell_type": "code",
   "execution_count": 286,
   "metadata": {},
   "outputs": [
    {
     "name": "stdout",
     "output_type": "stream",
     "text": [
      "R² for PC01 order = 1 :\n"
     ]
    },
    {
     "data": {
      "text/plain": [
       "0.026849394622496026"
      ]
     },
     "execution_count": 286,
     "metadata": {},
     "output_type": "execute_result"
    },
    {
     "name": "stdout",
     "output_type": "stream",
     "text": [
      "R² for PC01 order = 2 :\n"
     ]
    },
    {
     "data": {
      "text/plain": [
       "0.0383518053040407"
      ]
     },
     "execution_count": 286,
     "metadata": {},
     "output_type": "execute_result"
    },
    {
     "name": "stdout",
     "output_type": "stream",
     "text": [
      "R² for PC02 order = 1 :\n"
     ]
    },
    {
     "data": {
      "text/plain": [
       "0.02962970569882717"
      ]
     },
     "execution_count": 286,
     "metadata": {},
     "output_type": "execute_result"
    },
    {
     "name": "stdout",
     "output_type": "stream",
     "text": [
      "R² for PC02 order = 2 :\n"
     ]
    },
    {
     "data": {
      "text/plain": [
       "0.029957783186074227"
      ]
     },
     "execution_count": 286,
     "metadata": {},
     "output_type": "execute_result"
    },
    {
     "name": "stdout",
     "output_type": "stream",
     "text": [
      "R² for PC03 order = 1 :\n"
     ]
    },
    {
     "data": {
      "text/plain": [
       "0.15330396332785923"
      ]
     },
     "execution_count": 286,
     "metadata": {},
     "output_type": "execute_result"
    },
    {
     "name": "stdout",
     "output_type": "stream",
     "text": [
      "R² for PC03 order = 2 :\n"
     ]
    },
    {
     "data": {
      "text/plain": [
       "0.1537383068507201"
      ]
     },
     "execution_count": 286,
     "metadata": {},
     "output_type": "execute_result"
    },
    {
     "name": "stdout",
     "output_type": "stream",
     "text": [
      "R² for PC04 order = 1 :\n"
     ]
    },
    {
     "data": {
      "text/plain": [
       "0.020281255590879232"
      ]
     },
     "execution_count": 286,
     "metadata": {},
     "output_type": "execute_result"
    },
    {
     "name": "stdout",
     "output_type": "stream",
     "text": [
      "R² for PC04 order = 2 :\n"
     ]
    },
    {
     "data": {
      "text/plain": [
       "0.07496823942493391"
      ]
     },
     "execution_count": 286,
     "metadata": {},
     "output_type": "execute_result"
    },
    {
     "name": "stdout",
     "output_type": "stream",
     "text": [
      "R² for PC05 order = 1 :\n"
     ]
    },
    {
     "data": {
      "text/plain": [
       "4.172081082376433e-05"
      ]
     },
     "execution_count": 286,
     "metadata": {},
     "output_type": "execute_result"
    },
    {
     "name": "stdout",
     "output_type": "stream",
     "text": [
      "R² for PC05 order = 2 :\n"
     ]
    },
    {
     "data": {
      "text/plain": [
       "0.0007205946010815367"
      ]
     },
     "execution_count": 286,
     "metadata": {},
     "output_type": "execute_result"
    },
    {
     "name": "stdout",
     "output_type": "stream",
     "text": [
      "R² for PC06 order = 1 :\n"
     ]
    },
    {
     "data": {
      "text/plain": [
       "0.0006827685627240898"
      ]
     },
     "execution_count": 286,
     "metadata": {},
     "output_type": "execute_result"
    },
    {
     "name": "stdout",
     "output_type": "stream",
     "text": [
      "R² for PC06 order = 2 :\n"
     ]
    },
    {
     "data": {
      "text/plain": [
       "0.0010559565447327834"
      ]
     },
     "execution_count": 286,
     "metadata": {},
     "output_type": "execute_result"
    },
    {
     "name": "stdout",
     "output_type": "stream",
     "text": [
      "R² for PC07 order = 1 :\n"
     ]
    },
    {
     "data": {
      "text/plain": [
       "0.003088139081160568"
      ]
     },
     "execution_count": 286,
     "metadata": {},
     "output_type": "execute_result"
    },
    {
     "name": "stdout",
     "output_type": "stream",
     "text": [
      "R² for PC07 order = 2 :\n"
     ]
    },
    {
     "data": {
      "text/plain": [
       "0.004168632961387919"
      ]
     },
     "execution_count": 286,
     "metadata": {},
     "output_type": "execute_result"
    },
    {
     "name": "stdout",
     "output_type": "stream",
     "text": [
      "R² for PC08 order = 1 :\n"
     ]
    },
    {
     "data": {
      "text/plain": [
       "0.0006245075165677294"
      ]
     },
     "execution_count": 286,
     "metadata": {},
     "output_type": "execute_result"
    },
    {
     "name": "stdout",
     "output_type": "stream",
     "text": [
      "R² for PC08 order = 2 :\n"
     ]
    },
    {
     "data": {
      "text/plain": [
       "0.0017029578909802945"
      ]
     },
     "execution_count": 286,
     "metadata": {},
     "output_type": "execute_result"
    },
    {
     "name": "stdout",
     "output_type": "stream",
     "text": [
      "R² for PC09 order = 1 :\n"
     ]
    },
    {
     "data": {
      "text/plain": [
       "0.005239253016094181"
      ]
     },
     "execution_count": 286,
     "metadata": {},
     "output_type": "execute_result"
    },
    {
     "name": "stdout",
     "output_type": "stream",
     "text": [
      "R² for PC09 order = 2 :\n"
     ]
    },
    {
     "data": {
      "text/plain": [
       "0.010976742171012521"
      ]
     },
     "execution_count": 286,
     "metadata": {},
     "output_type": "execute_result"
    },
    {
     "name": "stdout",
     "output_type": "stream",
     "text": [
      "R² for PC10 order = 1 :\n"
     ]
    },
    {
     "data": {
      "text/plain": [
       "0.006372495723783511"
      ]
     },
     "execution_count": 286,
     "metadata": {},
     "output_type": "execute_result"
    },
    {
     "name": "stdout",
     "output_type": "stream",
     "text": [
      "R² for PC10 order = 2 :\n"
     ]
    },
    {
     "data": {
      "text/plain": [
       "0.021204897051579685"
      ]
     },
     "execution_count": 286,
     "metadata": {},
     "output_type": "execute_result"
    },
    {
     "name": "stdout",
     "output_type": "stream",
     "text": [
      "R² for PC11 order = 1 :\n"
     ]
    },
    {
     "data": {
      "text/plain": [
       "0.03439238202959338"
      ]
     },
     "execution_count": 286,
     "metadata": {},
     "output_type": "execute_result"
    },
    {
     "name": "stdout",
     "output_type": "stream",
     "text": [
      "R² for PC11 order = 2 :\n"
     ]
    },
    {
     "data": {
      "text/plain": [
       "0.05175586450031466"
      ]
     },
     "execution_count": 286,
     "metadata": {},
     "output_type": "execute_result"
    },
    {
     "name": "stdout",
     "output_type": "stream",
     "text": [
      "R² for PC12 order = 1 :\n"
     ]
    },
    {
     "data": {
      "text/plain": [
       "0.004213237735337216"
      ]
     },
     "execution_count": 286,
     "metadata": {},
     "output_type": "execute_result"
    },
    {
     "name": "stdout",
     "output_type": "stream",
     "text": [
      "R² for PC12 order = 2 :\n"
     ]
    },
    {
     "data": {
      "text/plain": [
       "0.020899674127198065"
      ]
     },
     "execution_count": 286,
     "metadata": {},
     "output_type": "execute_result"
    }
   ],
   "source": [
    "# Check if there is a trend present in the data\n",
    "# This is the case if R² is above say 0.70 \n",
    "\n",
    "for component in mineralogy_pca_df.columns.tolist()[:-1]:\n",
    "    for order in [1, 2]:\n",
    "        print(\"R² for\", component, \"order =\", order, \":\")\n",
    "        detrending.detrend(coordinates_utm, \n",
    "                           mineralogy_pca_df[component], \n",
    "                           order=order, \n",
    "                           verbose=False, \n",
    "                           plot_points=False)[1]"
   ]
  },
  {
   "cell_type": "markdown",
   "metadata": {},
   "source": [
    "## Variogram modelling\n",
    "___"
   ]
  },
  {
   "cell_type": "markdown",
   "metadata": {},
   "source": [
    "* Variogram model (str)\n",
    "* Sill (float)\n",
    "* Range (float)\n",
    "* Nugget (float)\n",
    "* Number of lag bins (int)\n",
    "* Weighted (Bool)"
   ]
  },
  {
   "cell_type": "code",
   "execution_count": 287,
   "metadata": {},
   "outputs": [],
   "source": [
    "# Nugget (variance at lag=0 metric)\n",
    "\n",
    "# Since we are not dealing with point count data here,\n",
    "# we can not use the formulas from our paper we have talked about\n",
    "# Therefore I would just start with nugget=0 and perhaps later change this\n",
    "\n",
    "# Depending on how many principal components you will use, \n",
    "# you will have to add more entries to this list.\n",
    "nugget_ = [1.0685, 0.6350, 0.5930, 0.4405, 0.3148, 0.2059, 0.2105, 0.1955, 0.1073, 0., 0., 0., 0., 0., 0.]"
   ]
  },
  {
   "cell_type": "code",
   "execution_count": 288,
   "metadata": {},
   "outputs": [
    {
     "data": {
      "text/plain": [
       "['01', '02', '03', '04', '05', '06', '07', '08', '09', '10', '11', '12', '13']"
      ]
     },
     "execution_count": 288,
     "metadata": {},
     "output_type": "execute_result"
    }
   ],
   "source": [
    "PC_nr_list = [nr[2:] for nr in mineralogy_pca_df.columns]\n",
    "PC_nr_list"
   ]
  },
  {
   "cell_type": "code",
   "execution_count": 289,
   "metadata": {},
   "outputs": [],
   "source": [
    "# Sill (total variance metric)\n",
    "\n",
    "# A 'list comprehension' construction is used here\n",
    "sill_ = [mineralogy_pca_df.loc[:, f\"PC{i}\"].values.var(ddof=1) \n",
    "         for i in PC_nr_list]"
   ]
  },
  {
   "cell_type": "code",
   "execution_count": 290,
   "metadata": {},
   "outputs": [],
   "source": [
    "# Variogram model parameters dictionary\n",
    "\n",
    "variogram_model_parameters = {}\n",
    "\n",
    "for i, PC in enumerate(mineralogy_pca_df.columns):\n",
    "    parameters = {}\n",
    "    parameters[\"sill\"] = sill_[i]\n",
    "    parameters[\"range\"] = range_[i]\n",
    "    parameters[\"nugget\"] = nugget_[i]\n",
    "        \n",
    "    variogram_model_parameters[PC] = parameters"
   ]
  },
  {
   "cell_type": "code",
   "execution_count": 291,
   "metadata": {},
   "outputs": [],
   "source": [
    "# Variogram model\n",
    "\n",
    "# You can choose between [\"exponential\", \"linear\", \"spherical\", \"power\", \"gaussian\"]\n",
    "# see https://pykrige.readthedocs.io/en/latest/variogram_models.html for equations\n",
    "variogram_model = \"exponential\""
   ]
  },
  {
   "cell_type": "code",
   "execution_count": 292,
   "metadata": {},
   "outputs": [
    {
     "data": {
      "text/plain": [
       "32"
      ]
     },
     "execution_count": 292,
     "metadata": {},
     "output_type": "execute_result"
    }
   ],
   "source": [
    "# Number of lag bins\n",
    "\n",
    "n_lags = int(np.floor(np.sqrt(coordinates_utm.shape[0])))\n",
    "n_lags"
   ]
  },
  {
   "cell_type": "code",
   "execution_count": 293,
   "metadata": {},
   "outputs": [],
   "source": [
    "# Set utm coordinates to use in variogram\n",
    "\n",
    "X = coordinates_utm.iloc[:, 0].values\n",
    "Y = coordinates_utm.iloc[:, 1].values"
   ]
  },
  {
   "cell_type": "code",
   "execution_count": 294,
   "metadata": {},
   "outputs": [
    {
     "name": "stdout",
     "output_type": "stream",
     "text": [
      "PC01\n",
      "Plotting Enabled\n",
      "\n",
      "Adjusting data for anisotropy...\n",
      "Initializing variogram model...\n",
      "Coordinates type: 'euclidean' \n",
      "\n",
      "Using 'exponential' Variogram Model\n",
      "Partial Sill: 0.712367153651484\n",
      "Full Sill: 1.780867153651484\n",
      "Range: 120000\n",
      "Nugget: 1.0685 \n",
      "\n"
     ]
    },
    {
     "data": {
      "image/png": "[encoded data removed]",
      "text/plain": [
       "<Figure size 432x288 with 1 Axes>"
      ]
     },
     "metadata": {
      "needs_background": "light"
     },
     "output_type": "display_data"
    },
    {
     "name": "stdout",
     "output_type": "stream",
     "text": [
      "Calculating statistics on variogram model fit...\n",
      "PC02\n",
      "Plotting Enabled\n",
      "\n",
      "Adjusting data for anisotropy...\n",
      "Initializing variogram model...\n",
      "Coordinates type: 'euclidean' \n",
      "\n",
      "Using 'exponential' Variogram Model\n",
      "Partial Sill: 0.6348878572701646\n",
      "Full Sill: 1.2698878572701646\n",
      "Range: 120000\n",
      "Nugget: 0.635 \n",
      "\n"
     ]
    },
    {
     "data": {
      "image/png": "[encoded data removed]",
      "text/plain": [
       "<Figure size 432x288 with 1 Axes>"
      ]
     },
     "metadata": {
      "needs_background": "light"
     },
     "output_type": "display_data"
    },
    {
     "name": "stdout",
     "output_type": "stream",
     "text": [
      "Calculating statistics on variogram model fit...\n",
      "PC03\n",
      "Plotting Enabled\n",
      "\n",
      "Adjusting data for anisotropy...\n",
      "Initializing variogram model...\n",
      "Coordinates type: 'euclidean' \n",
      "\n",
      "Using 'exponential' Variogram Model\n",
      "Partial Sill: 0.2541277028343827\n",
      "Full Sill: 0.8471277028343827\n",
      "Range: 120000\n",
      "Nugget: 0.593 \n",
      "\n"
     ]
    },
    {
     "data": {
      "image/png": "[encoded data removed]",
      "text/plain": [
       "<Figure size 432x288 with 1 Axes>"
      ]
     },
     "metadata": {
      "needs_background": "light"
     },
     "output_type": "display_data"
    },
    {
     "name": "stdout",
     "output_type": "stream",
     "text": [
      "Calculating statistics on variogram model fit...\n",
      "PC04\n",
      "Plotting Enabled\n",
      "\n",
      "Adjusting data for anisotropy...\n",
      "Initializing variogram model...\n",
      "Coordinates type: 'euclidean' \n",
      "\n",
      "Using 'exponential' Variogram Model\n",
      "Partial Sill: 0.18877941346236482\n",
      "Full Sill: 0.6292794134623648\n",
      "Range: 120000\n",
      "Nugget: 0.4405 \n",
      "\n"
     ]
    },
    {
     "data": {
      "image/png": "[encoded data removed]",
      "text/plain": [
       "<Figure size 432x288 with 1 Axes>"
      ]
     },
     "metadata": {
      "needs_background": "light"
     },
     "output_type": "display_data"
    },
    {
     "name": "stdout",
     "output_type": "stream",
     "text": [
      "Calculating statistics on variogram model fit...\n",
      "PC05\n",
      "Plotting Enabled\n",
      "\n",
      "Adjusting data for anisotropy...\n",
      "Initializing variogram model...\n",
      "Coordinates type: 'euclidean' \n",
      "\n",
      "Using 'exponential' Variogram Model\n",
      "Partial Sill: 0.1348601523454241\n",
      "Full Sill: 0.4496601523454241\n",
      "Range: 120000\n",
      "Nugget: 0.3148 \n",
      "\n"
     ]
    },
    {
     "data": {
      "image/png": "[encoded data removed]",
      "text/plain": [
       "<Figure size 432x288 with 1 Axes>"
      ]
     },
     "metadata": {
      "needs_background": "light"
     },
     "output_type": "display_data"
    },
    {
     "name": "stdout",
     "output_type": "stream",
     "text": [
      "Calculating statistics on variogram model fit...\n",
      "PC06\n",
      "Plotting Enabled\n",
      "\n",
      "Adjusting data for anisotropy...\n",
      "Initializing variogram model...\n",
      "Coordinates type: 'euclidean' \n",
      "\n",
      "Using 'exponential' Variogram Model\n",
      "Partial Sill: 0.0882143091411409\n",
      "Full Sill: 0.2941143091411409\n",
      "Range: 120000\n",
      "Nugget: 0.2059 \n",
      "\n"
     ]
    },
    {
     "data": {
      "image/png": "[encoded data removed]",
      "text/plain": [
       "<Figure size 432x288 with 1 Axes>"
      ]
     },
     "metadata": {
      "needs_background": "light"
     },
     "output_type": "display_data"
    },
    {
     "name": "stdout",
     "output_type": "stream",
     "text": [
      "Calculating statistics on variogram model fit...\n",
      "PC07\n",
      "Plotting Enabled\n",
      "\n",
      "Adjusting data for anisotropy...\n",
      "Initializing variogram model...\n",
      "Coordinates type: 'euclidean' \n",
      "\n",
      "Using 'exponential' Variogram Model\n",
      "Partial Sill: 0.052600729338776325\n",
      "Full Sill: 0.2631007293387763\n",
      "Range: 120000\n",
      "Nugget: 0.2105 \n",
      "\n"
     ]
    },
    {
     "data": {
      "image/png": "[encoded data removed]",
      "text/plain": [
       "<Figure size 432x288 with 1 Axes>"
      ]
     },
     "metadata": {
      "needs_background": "light"
     },
     "output_type": "display_data"
    },
    {
     "name": "stdout",
     "output_type": "stream",
     "text": [
      "Calculating statistics on variogram model fit...\n",
      "PC08\n",
      "Plotting Enabled\n",
      "\n",
      "Adjusting data for anisotropy...\n",
      "Initializing variogram model...\n",
      "Coordinates type: 'euclidean' \n",
      "\n",
      "Using 'exponential' Variogram Model\n",
      "Partial Sill: 0.04892131675262967\n",
      "Full Sill: 0.24442131675262968\n",
      "Range: 120000\n",
      "Nugget: 0.1955 \n",
      "\n"
     ]
    },
    {
     "data": {
      "image/png": "[encoded data removed]",
      "text/plain": [
       "<Figure size 432x288 with 1 Axes>"
      ]
     },
     "metadata": {
      "needs_background": "light"
     },
     "output_type": "display_data"
    },
    {
     "name": "stdout",
     "output_type": "stream",
     "text": [
      "Calculating statistics on variogram model fit...\n",
      "PC09\n",
      "Plotting Enabled\n",
      "\n",
      "Adjusting data for anisotropy...\n",
      "Initializing variogram model...\n",
      "Coordinates type: 'euclidean' \n",
      "\n",
      "Using 'exponential' Variogram Model\n",
      "Partial Sill: 0.045975942838416134\n",
      "Full Sill: 0.15327594283841614\n",
      "Range: 120000\n",
      "Nugget: 0.1073 \n",
      "\n"
     ]
    },
    {
     "data": {
      "image/png": "[encoded data removed]",
      "text/plain": [
       "<Figure size 432x288 with 1 Axes>"
      ]
     },
     "metadata": {
      "needs_background": "light"
     },
     "output_type": "display_data"
    },
    {
     "name": "stdout",
     "output_type": "stream",
     "text": [
      "Calculating statistics on variogram model fit...\n",
      "PC10\n",
      "Plotting Enabled\n",
      "\n",
      "Adjusting data for anisotropy...\n",
      "Initializing variogram model...\n",
      "Coordinates type: 'euclidean' \n",
      "\n",
      "Using 'exponential' Variogram Model\n",
      "Partial Sill: 0.06849189293623412\n",
      "Full Sill: 0.06849189293623412\n",
      "Range: 100000\n",
      "Nugget: 0.0 \n",
      "\n"
     ]
    },
    {
     "data": {
      "image/png": "[encoded data removed]",
      "text/plain": [
       "<Figure size 432x288 with 1 Axes>"
      ]
     },
     "metadata": {
      "needs_background": "light"
     },
     "output_type": "display_data"
    },
    {
     "name": "stdout",
     "output_type": "stream",
     "text": [
      "Calculating statistics on variogram model fit...\n",
      "PC11\n",
      "Plotting Enabled\n",
      "\n",
      "Adjusting data for anisotropy...\n",
      "Initializing variogram model...\n",
      "Coordinates type: 'euclidean' \n",
      "\n",
      "Using 'exponential' Variogram Model\n",
      "Partial Sill: 0.01789169251472656\n",
      "Full Sill: 0.01789169251472656\n",
      "Range: 100000\n",
      "Nugget: 0.0 \n",
      "\n"
     ]
    },
    {
     "data": {
      "image/png": "[encoded data removed]",
      "text/plain": [
       "<Figure size 432x288 with 1 Axes>"
      ]
     },
     "metadata": {
      "needs_background": "light"
     },
     "output_type": "display_data"
    },
    {
     "name": "stdout",
     "output_type": "stream",
     "text": [
      "Calculating statistics on variogram model fit...\n",
      "PC12\n",
      "Plotting Enabled\n",
      "\n",
      "Adjusting data for anisotropy...\n",
      "Initializing variogram model...\n",
      "Coordinates type: 'euclidean' \n",
      "\n",
      "Using 'exponential' Variogram Model\n",
      "Partial Sill: 0.005248604132679928\n",
      "Full Sill: 0.005248604132679928\n",
      "Range: 100000\n",
      "Nugget: 0.0 \n",
      "\n"
     ]
    },
    {
     "data": {
      "image/png": "[encoded data removed]",
      "text/plain": [
       "<Figure size 432x288 with 1 Axes>"
      ]
     },
     "metadata": {
      "needs_background": "light"
     },
     "output_type": "display_data"
    },
    {
     "name": "stdout",
     "output_type": "stream",
     "text": [
      "Calculating statistics on variogram model fit...\n",
      "Wall time: 6.38 s\n"
     ]
    }
   ],
   "source": [
    "%%time\n",
    "# Initialize empty dictionary\n",
    "variograms = {}\n",
    "\n",
    "# Loop though the diiferent principal components\n",
    "for component in mineralogy_pca_df.columns.tolist()[:-1]:\n",
    "    print(component)\n",
    "    # Subset principal component to use\n",
    "    data = mineralogy_pca_df.loc[:, component].values\n",
    "    variograms[component] = \\\n",
    "        OrdinaryKriging(X, Y, data,\n",
    "                        variogram_model='exponential',\n",
    "                        variogram_parameters=variogram_model_parameters[component],\n",
    "                        nlags=n_lags,\n",
    "                        verbose=True,\n",
    "                        enable_statistics=False,\n",
    "                        enable_plotting=True,\n",
    "                        weight=True,\n",
    "                        saveplot=True,\n",
    "                        coordinates_type='euclidean',\n",
    "                        saveloc=\"../_FIGURES/variograms/\",\n",
    "                        principal_component=component,\n",
    "                        pluton=group_name,\n",
    "                        show_nlag_pairs=False, # Turn off displaying number of lag pairs in lag bin\n",
    "                        show_range_determine_guide=True, # 0.95 * sill highlighted with blue line to help determining range\n",
    "                        range_estimate=150000) # Pass in value in meters to display a line at range estimate; set value to None to not display line\n",
    "    \n",
    "# NOTE that ideally Q1 is close to zero, Q2 is close to 1, and cR is as small as possible."
   ]
  },
  {
   "cell_type": "markdown",
   "metadata": {},
   "source": [
    "## Leave One Out Cross Validation (LOOCV) of PCA\n",
    "____"
   ]
  },
  {
   "cell_type": "code",
   "execution_count": 295,
   "metadata": {},
   "outputs": [],
   "source": [
    "# If you have run the cross validation before you can load the results by\n",
    "# running this cell and don't have to run the next cell anymore.\n",
    "CV_results = preproc.load_obj(\"CV_results_fast\")"
   ]
  },
  {
   "cell_type": "code",
   "execution_count": 296,
   "metadata": {},
   "outputs": [],
   "source": [
    "# Use this cross validation to check the hyper-parameters of your chosen variogram model \n",
    "# such as the search_radius, variogram_model, lag_bins etc.\n",
    "\n",
    "# Cross validation parameter dictionary to use\n",
    "# You can remove or add options here which will decrease or increase the number \n",
    "# of combinations of parameters the cross validation will run\n",
    "cv_param_dict = {}\n",
    "\n",
    "for component in mineralogy_pca_df.columns.tolist()[:-1]:\n",
    "    cv_param_dict[component] = {\"method\": [\"ordinary\"],\n",
    "                                \"variogram_model\": [\"exponential\", \"spherical\"],\n",
    "                                \"variogram_model_parameters\": [variogram_model_parameters[component]],\n",
    "                                \"nlags\": [n_lags],\n",
    "                                \"weight\": [True],\n",
    "                                \"n_closest_points\": [number_of_control_points],\n",
    "                                \"search_radius\": [range_[0]]\n",
    "                                }\n",
    "\n",
    "# The CV function below uses parallel processing to speed things up\n",
    "# Your CPU will thus reach 100% probably\n",
    "# To reduce the number of parallel processes to use you can change the following value\n",
    "# Defaults to -1 to use all available CPU cores; change to number between 1 and 8 e.g. \n",
    "# depending on how many cores your CPU has\n",
    "n_jobs = -1 "
   ]
  },
  {
   "cell_type": "code",
   "execution_count": 297,
   "metadata": {},
   "outputs": [
    {
     "name": "stdout",
     "output_type": "stream",
     "text": [
      "PC01\n",
      "Fitting 10 folds for each of 2 candidates, totalling 20 fits\n"
     ]
    },
    {
     "name": "stderr",
     "output_type": "stream",
     "text": [
      "[Parallel(n_jobs=-1)]: Using backend LokyBackend with 8 concurrent workers.\n",
      "[Parallel(n_jobs=-1)]: Done   2 tasks      | elapsed:    6.4s\n",
      "[Parallel(n_jobs=-1)]: Done  10 out of  20 | elapsed:    9.1s remaining:    9.1s\n",
      "[Parallel(n_jobs=-1)]: Done  15 out of  20 | elapsed:    9.3s remaining:    3.0s\n",
      "[Parallel(n_jobs=-1)]: Done  20 out of  20 | elapsed:   10.8s remaining:    0.0s\n",
      "[Parallel(n_jobs=-1)]: Done  20 out of  20 | elapsed:   10.8s finished\n",
      "C:\\Users\\Sebastian\\Anaconda3\\envs\\main\\lib\\site-packages\\sklearn\\model_selection\\_search.py:825: FutureWarning: The parameter 'iid' is deprecated in 0.22 and will be removed in 0.24.\n",
      "  \"removed in 0.24.\", FutureWarning\n",
      "[Parallel(n_jobs=-1)]: Using backend LokyBackend with 8 concurrent workers.\n"
     ]
    },
    {
     "name": "stdout",
     "output_type": "stream",
     "text": [
      "PC02\n",
      "Fitting 10 folds for each of 2 candidates, totalling 20 fits\n"
     ]
    },
    {
     "name": "stderr",
     "output_type": "stream",
     "text": [
      "[Parallel(n_jobs=-1)]: Done   2 tasks      | elapsed:    2.5s\n",
      "[Parallel(n_jobs=-1)]: Done  10 out of  20 | elapsed:    5.1s remaining:    5.1s\n",
      "[Parallel(n_jobs=-1)]: Done  15 out of  20 | elapsed:    5.3s remaining:    1.7s\n",
      "[Parallel(n_jobs=-1)]: Done  20 out of  20 | elapsed:    6.8s remaining:    0.0s\n",
      "[Parallel(n_jobs=-1)]: Done  20 out of  20 | elapsed:    6.8s finished\n",
      "[Parallel(n_jobs=-1)]: Using backend LokyBackend with 8 concurrent workers.\n"
     ]
    },
    {
     "name": "stdout",
     "output_type": "stream",
     "text": [
      "PC03\n",
      "Fitting 10 folds for each of 2 candidates, totalling 20 fits\n"
     ]
    },
    {
     "name": "stderr",
     "output_type": "stream",
     "text": [
      "[Parallel(n_jobs=-1)]: Done   2 tasks      | elapsed:    2.5s\n",
      "[Parallel(n_jobs=-1)]: Done  10 out of  20 | elapsed:    5.1s remaining:    5.1s\n",
      "[Parallel(n_jobs=-1)]: Done  15 out of  20 | elapsed:    5.3s remaining:    1.7s\n",
      "[Parallel(n_jobs=-1)]: Done  20 out of  20 | elapsed:    6.7s remaining:    0.0s\n",
      "[Parallel(n_jobs=-1)]: Done  20 out of  20 | elapsed:    6.7s finished\n",
      "[Parallel(n_jobs=-1)]: Using backend LokyBackend with 8 concurrent workers.\n"
     ]
    },
    {
     "name": "stdout",
     "output_type": "stream",
     "text": [
      "PC04\n",
      "Fitting 10 folds for each of 2 candidates, totalling 20 fits\n"
     ]
    },
    {
     "name": "stderr",
     "output_type": "stream",
     "text": [
      "[Parallel(n_jobs=-1)]: Done   2 tasks      | elapsed:    2.5s\n",
      "[Parallel(n_jobs=-1)]: Done  10 out of  20 | elapsed:    5.1s remaining:    5.1s\n",
      "[Parallel(n_jobs=-1)]: Done  15 out of  20 | elapsed:    5.3s remaining:    1.7s\n",
      "[Parallel(n_jobs=-1)]: Done  20 out of  20 | elapsed:    6.8s remaining:    0.0s\n",
      "[Parallel(n_jobs=-1)]: Done  20 out of  20 | elapsed:    6.8s finished\n",
      "[Parallel(n_jobs=-1)]: Using backend LokyBackend with 8 concurrent workers.\n"
     ]
    },
    {
     "name": "stdout",
     "output_type": "stream",
     "text": [
      "PC05\n",
      "Fitting 10 folds for each of 2 candidates, totalling 20 fits\n"
     ]
    },
    {
     "name": "stderr",
     "output_type": "stream",
     "text": [
      "[Parallel(n_jobs=-1)]: Done   2 tasks      | elapsed:    2.5s\n",
      "[Parallel(n_jobs=-1)]: Done  10 out of  20 | elapsed:    5.1s remaining:    5.1s\n",
      "[Parallel(n_jobs=-1)]: Done  15 out of  20 | elapsed:    5.3s remaining:    1.7s\n",
      "[Parallel(n_jobs=-1)]: Done  20 out of  20 | elapsed:    6.8s remaining:    0.0s\n",
      "[Parallel(n_jobs=-1)]: Done  20 out of  20 | elapsed:    6.8s finished\n",
      "[Parallel(n_jobs=-1)]: Using backend LokyBackend with 8 concurrent workers.\n"
     ]
    },
    {
     "name": "stdout",
     "output_type": "stream",
     "text": [
      "PC06\n",
      "Fitting 10 folds for each of 2 candidates, totalling 20 fits\n"
     ]
    },
    {
     "name": "stderr",
     "output_type": "stream",
     "text": [
      "[Parallel(n_jobs=-1)]: Done   2 tasks      | elapsed:    2.4s\n",
      "[Parallel(n_jobs=-1)]: Done  10 out of  20 | elapsed:    5.2s remaining:    5.2s\n",
      "[Parallel(n_jobs=-1)]: Done  15 out of  20 | elapsed:    5.3s remaining:    1.7s\n",
      "[Parallel(n_jobs=-1)]: Done  20 out of  20 | elapsed:    6.9s remaining:    0.0s\n",
      "[Parallel(n_jobs=-1)]: Done  20 out of  20 | elapsed:    6.9s finished\n",
      "[Parallel(n_jobs=-1)]: Using backend LokyBackend with 8 concurrent workers.\n"
     ]
    },
    {
     "name": "stdout",
     "output_type": "stream",
     "text": [
      "PC07\n",
      "Fitting 10 folds for each of 2 candidates, totalling 20 fits\n"
     ]
    },
    {
     "name": "stderr",
     "output_type": "stream",
     "text": [
      "[Parallel(n_jobs=-1)]: Done   2 tasks      | elapsed:    2.5s\n",
      "[Parallel(n_jobs=-1)]: Done  10 out of  20 | elapsed:    5.1s remaining:    5.1s\n",
      "[Parallel(n_jobs=-1)]: Done  15 out of  20 | elapsed:    5.4s remaining:    1.7s\n",
      "[Parallel(n_jobs=-1)]: Done  20 out of  20 | elapsed:    6.8s remaining:    0.0s\n",
      "[Parallel(n_jobs=-1)]: Done  20 out of  20 | elapsed:    6.8s finished\n",
      "[Parallel(n_jobs=-1)]: Using backend LokyBackend with 8 concurrent workers.\n"
     ]
    },
    {
     "name": "stdout",
     "output_type": "stream",
     "text": [
      "PC08\n",
      "Fitting 10 folds for each of 2 candidates, totalling 20 fits\n"
     ]
    },
    {
     "name": "stderr",
     "output_type": "stream",
     "text": [
      "[Parallel(n_jobs=-1)]: Done   2 tasks      | elapsed:    2.5s\n",
      "[Parallel(n_jobs=-1)]: Done  10 out of  20 | elapsed:    5.1s remaining:    5.1s\n",
      "[Parallel(n_jobs=-1)]: Done  15 out of  20 | elapsed:    5.4s remaining:    1.7s\n",
      "[Parallel(n_jobs=-1)]: Done  20 out of  20 | elapsed:    6.8s remaining:    0.0s\n",
      "[Parallel(n_jobs=-1)]: Done  20 out of  20 | elapsed:    6.8s finished\n",
      "[Parallel(n_jobs=-1)]: Using backend LokyBackend with 8 concurrent workers.\n"
     ]
    },
    {
     "name": "stdout",
     "output_type": "stream",
     "text": [
      "PC09\n",
      "Fitting 10 folds for each of 2 candidates, totalling 20 fits\n"
     ]
    },
    {
     "name": "stderr",
     "output_type": "stream",
     "text": [
      "[Parallel(n_jobs=-1)]: Done   2 tasks      | elapsed:    2.5s\n",
      "[Parallel(n_jobs=-1)]: Done  10 out of  20 | elapsed:    5.2s remaining:    5.2s\n",
      "[Parallel(n_jobs=-1)]: Done  15 out of  20 | elapsed:    5.4s remaining:    1.7s\n"
     ]
    },
    {
     "name": "stdout",
     "output_type": "stream",
     "text": [
      "Wall time: 1min 7s\n"
     ]
    },
    {
     "name": "stderr",
     "output_type": "stream",
     "text": [
      "[Parallel(n_jobs=-1)]: Done  20 out of  20 | elapsed:    6.8s remaining:    0.0s\n",
      "[Parallel(n_jobs=-1)]: Done  20 out of  20 | elapsed:    6.8s finished\n"
     ]
    }
   ],
   "source": [
    "%%time\n",
    "# Run CV and get estimators (using default MSE scorer)\n",
    "\n",
    "# Instead of running the CV for all the PCs, let's start with only the first 3 \n",
    "# to get an idea of what are the best parameters to use for the first 3 PCs.\n",
    "# In a later step we can then obtain the best parameters for all PCs that have \n",
    "# a sensible variogram; here this would mean up to and including PC09.\n",
    "# To specify which PCs to use, you can pass them in as list to the 'components_to_use' variable\n",
    "\n",
    "# Another change I've made, is that instead of performing leave-one-out-CV \n",
    "# where the train set is equal to n_sample - 1 and the test set is equal to 1,\n",
    "# it makes sense to here use a different strategy, since you're dealing with many more samples.\n",
    "# Therefore I've included the 'cv_folds' parameter where you can specify \n",
    "# the number of train/test groups you want to use during CV\n",
    "# Let's start with ten groups, which basically means that \n",
    "# you use 90% of the samples as train set and 10% as test test\n",
    "# and this in 10 combinations.\n",
    "\n",
    "# A a later stage we could change the CV to use a statified cv_fold\n",
    "# meaning that it ensures for example that for every train/test grouping of the 10 groups\n",
    "# equal numbers of samples of spcified grouping variable are used \n",
    "# (for example your time category or classification later on)\n",
    "\n",
    "# I've also included the '%%time' statement at the beginning of the cell,\n",
    "# so that at the end of the calculation you can see how much time it took.\n",
    "\n",
    "# Have a look here if you want some background info on the CV method used:\n",
    "# https://scikit-learn.org/stable/modules/generated/sklearn.model_selection.GridSearchCV.html\n",
    "\n",
    "estimators = loocv.perform_loocv(mineralogy_pca_df,\n",
    "                                 coordinates_utm,\n",
    "                                 cv_param_dict,\n",
    "                                 n_jobs=n_jobs,\n",
    "                                 cv_folds=10,\n",
    "                                 components_to_use=[f\"PC0{i}\" for i in range(1, 10)])"
   ]
  },
  {
   "cell_type": "code",
   "execution_count": 298,
   "metadata": {},
   "outputs": [],
   "source": [
    "# Convert estimators to dict of dataframes\n",
    "CV_results = loocv.convert_scores_to_df(estimators)"
   ]
  },
  {
   "cell_type": "code",
   "execution_count": 299,
   "metadata": {},
   "outputs": [],
   "source": [
    "# Save CV_results to pickle file for easy use later\n",
    "# These are the results from the 56min CV above (with only first 3 PCs)\n",
    "preproc.save_obj(CV_results, \"CV_results_summarized\")"
   ]
  },
  {
   "cell_type": "code",
   "execution_count": 300,
   "metadata": {},
   "outputs": [],
   "source": [
    "# Save CV_results to pickle file for easy use later\n",
    "# These are the results from the 2min CV above (with only first 9 PCs, simple parameters)\n",
    "preproc.save_obj(CV_results, \"CV_results_fast\")"
   ]
  },
  {
   "cell_type": "code",
   "execution_count": 301,
   "metadata": {},
   "outputs": [
    {
     "name": "stdout",
     "output_type": "stream",
     "text": [
      "PC01\n",
      "rank_test_score                    2\n",
      "mean_test_score              1.79287\n",
      "std_test_score               1.34682\n",
      "mean_train_score         8.20006e-31\n",
      "param_method                ordinary\n",
      "param_variogram_model    exponential\n",
      "param_search_radius           120000\n",
      "Name: 0, dtype: object\n",
      "\n",
      "\n",
      "PC02\n",
      "rank_test_score                    2\n",
      "mean_test_score              1.05058\n",
      "std_test_score              0.201079\n",
      "mean_train_score         7.63934e-31\n",
      "param_method                ordinary\n",
      "param_variogram_model    exponential\n",
      "param_search_radius           120000\n",
      "Name: 0, dtype: object\n",
      "\n",
      "\n",
      "PC03\n",
      "rank_test_score                    2\n",
      "mean_test_score             0.662727\n",
      "std_test_score              0.121056\n",
      "mean_train_score                   0\n",
      "param_method                ordinary\n",
      "param_variogram_model    exponential\n",
      "param_search_radius           120000\n",
      "Name: 0, dtype: object\n",
      "\n",
      "\n",
      "PC04\n",
      "rank_test_score                    2\n",
      "mean_test_score             0.539472\n",
      "std_test_score              0.111541\n",
      "mean_train_score                   0\n",
      "param_method                ordinary\n",
      "param_variogram_model    exponential\n",
      "param_search_radius           120000\n",
      "Name: 0, dtype: object\n",
      "\n",
      "\n",
      "PC05\n",
      "rank_test_score                    2\n",
      "mean_test_score             0.429463\n",
      "std_test_score             0.0823099\n",
      "mean_train_score                   0\n",
      "param_method                ordinary\n",
      "param_variogram_model    exponential\n",
      "param_search_radius           120000\n",
      "Name: 0, dtype: object\n",
      "\n",
      "\n",
      "PC06\n",
      "rank_test_score                    2\n",
      "mean_test_score             0.287406\n",
      "std_test_score             0.0506029\n",
      "mean_train_score                   0\n",
      "param_method                ordinary\n",
      "param_variogram_model    exponential\n",
      "param_search_radius           120000\n",
      "Name: 0, dtype: object\n",
      "\n",
      "\n",
      "PC07\n",
      "rank_test_score                    2\n",
      "mean_test_score             0.258245\n",
      "std_test_score              0.152557\n",
      "mean_train_score                   0\n",
      "param_method                ordinary\n",
      "param_variogram_model    exponential\n",
      "param_search_radius           120000\n",
      "Name: 0, dtype: object\n",
      "\n",
      "\n",
      "PC08\n",
      "rank_test_score                    2\n",
      "mean_test_score             0.242827\n",
      "std_test_score              0.134754\n",
      "mean_train_score                   0\n",
      "param_method                ordinary\n",
      "param_variogram_model    exponential\n",
      "param_search_radius           120000\n",
      "Name: 0, dtype: object\n",
      "\n",
      "\n",
      "PC09\n",
      "rank_test_score                    2\n",
      "mean_test_score             0.144255\n",
      "std_test_score             0.0827618\n",
      "mean_train_score                   0\n",
      "param_method                ordinary\n",
      "param_variogram_model    exponential\n",
      "param_search_radius           120000\n",
      "Name: 0, dtype: object\n",
      "\n",
      "\n"
     ]
    }
   ],
   "source": [
    "# Quick look at best results per PC\n",
    "loocv.print_best_scores(CV_results)"
   ]
  },
  {
   "cell_type": "markdown",
   "metadata": {},
   "source": [
    "## Calculating predictions for best model\n",
    "____"
   ]
  },
  {
   "cell_type": "code",
   "execution_count": 302,
   "metadata": {},
   "outputs": [],
   "source": [
    "# Here you can specify the components and search_radii you want to use \n",
    "# when performing the kriging and performing the postprocessing calculations\n",
    "components_to_use = [f\"PC{i:02d}\" for i in range(1, 13)]\n",
    "search_radii = [range_[0]]"
   ]
  },
  {
   "cell_type": "code",
   "execution_count": 303,
   "metadata": {},
   "outputs": [],
   "source": [
    "estimators_final = {}\n",
    "\n",
    "for component in components_to_use:  # Changed to only first 9 PCs\n",
    "    for radius in search_radii:  # Removed critical_distance\n",
    "        for variable_to_fit in [\"estimates\"]:\n",
    "\n",
    "            estimators_final[f\"{component}_{radius}_{variable_to_fit}\"] = \\\n",
    "                Krige(method='ordinary',\n",
    "                      variogram_model=variogram_model,\n",
    "                      variogram_model_parameters=variogram_model_parameters[component],\n",
    "                      nlags=n_lags,\n",
    "                      weight=True,\n",
    "                      n_closest_points=number_of_control_points,\n",
    "                      search_radius=radius,\n",
    "                      variable_to_fit=variable_to_fit)"
   ]
  },
  {
   "cell_type": "code",
   "execution_count": 304,
   "metadata": {},
   "outputs": [],
   "source": [
    "# Run this cell if you have previously run the next cell and saved its outcome\n",
    "kriging_predictions = preproc.load_obj(\"kriging_predictions\")"
   ]
  },
  {
   "cell_type": "code",
   "execution_count": 305,
   "metadata": {},
   "outputs": [
    {
     "name": "stdout",
     "output_type": "stream",
     "text": [
      "PC01 120000 estimates\n"
     ]
    },
    {
     "name": "stderr",
     "output_type": "stream",
     "text": [
      "[Parallel(n_jobs=-1)]: Using backend LokyBackend with 8 concurrent workers.\n",
      "[Parallel(n_jobs=-1)]: Done   4 out of  10 | elapsed:    0.7s remaining:    1.1s\n",
      "[Parallel(n_jobs=-1)]: Done   7 out of  10 | elapsed:    0.7s remaining:    0.2s\n",
      "[Parallel(n_jobs=-1)]: Done  10 out of  10 | elapsed:    1.0s remaining:    0.0s\n",
      "[Parallel(n_jobs=-1)]: Done  10 out of  10 | elapsed:    1.0s finished\n",
      "[Parallel(n_jobs=-1)]: Using backend LokyBackend with 8 concurrent workers.\n"
     ]
    },
    {
     "name": "stdout",
     "output_type": "stream",
     "text": [
      "PC02 120000 estimates\n"
     ]
    },
    {
     "name": "stderr",
     "output_type": "stream",
     "text": [
      "[Parallel(n_jobs=-1)]: Done   4 out of  10 | elapsed:    0.7s remaining:    1.1s\n",
      "[Parallel(n_jobs=-1)]: Done   7 out of  10 | elapsed:    0.7s remaining:    0.3s\n",
      "[Parallel(n_jobs=-1)]: Done  10 out of  10 | elapsed:    1.0s remaining:    0.0s\n",
      "[Parallel(n_jobs=-1)]: Done  10 out of  10 | elapsed:    1.0s finished\n",
      "[Parallel(n_jobs=-1)]: Using backend LokyBackend with 8 concurrent workers.\n"
     ]
    },
    {
     "name": "stdout",
     "output_type": "stream",
     "text": [
      "PC03 120000 estimates\n"
     ]
    },
    {
     "name": "stderr",
     "output_type": "stream",
     "text": [
      "[Parallel(n_jobs=-1)]: Done   4 out of  10 | elapsed:    0.7s remaining:    1.1s\n",
      "[Parallel(n_jobs=-1)]: Done   7 out of  10 | elapsed:    0.7s remaining:    0.2s\n",
      "[Parallel(n_jobs=-1)]: Done  10 out of  10 | elapsed:    1.0s remaining:    0.0s\n",
      "[Parallel(n_jobs=-1)]: Done  10 out of  10 | elapsed:    1.0s finished\n",
      "[Parallel(n_jobs=-1)]: Using backend LokyBackend with 8 concurrent workers.\n"
     ]
    },
    {
     "name": "stdout",
     "output_type": "stream",
     "text": [
      "PC04 120000 estimates\n"
     ]
    },
    {
     "name": "stderr",
     "output_type": "stream",
     "text": [
      "[Parallel(n_jobs=-1)]: Done   4 out of  10 | elapsed:    0.7s remaining:    1.1s\n",
      "[Parallel(n_jobs=-1)]: Done   7 out of  10 | elapsed:    0.7s remaining:    0.2s\n",
      "[Parallel(n_jobs=-1)]: Done  10 out of  10 | elapsed:    1.0s remaining:    0.0s\n",
      "[Parallel(n_jobs=-1)]: Done  10 out of  10 | elapsed:    1.0s finished\n",
      "[Parallel(n_jobs=-1)]: Using backend LokyBackend with 8 concurrent workers.\n"
     ]
    },
    {
     "name": "stdout",
     "output_type": "stream",
     "text": [
      "PC05 120000 estimates\n"
     ]
    },
    {
     "name": "stderr",
     "output_type": "stream",
     "text": [
      "[Parallel(n_jobs=-1)]: Done   4 out of  10 | elapsed:    0.7s remaining:    1.1s\n",
      "[Parallel(n_jobs=-1)]: Done   7 out of  10 | elapsed:    0.7s remaining:    0.2s\n",
      "[Parallel(n_jobs=-1)]: Done  10 out of  10 | elapsed:    1.0s remaining:    0.0s\n",
      "[Parallel(n_jobs=-1)]: Done  10 out of  10 | elapsed:    1.0s finished\n",
      "[Parallel(n_jobs=-1)]: Using backend LokyBackend with 8 concurrent workers.\n"
     ]
    },
    {
     "name": "stdout",
     "output_type": "stream",
     "text": [
      "PC06 120000 estimates\n"
     ]
    },
    {
     "name": "stderr",
     "output_type": "stream",
     "text": [
      "[Parallel(n_jobs=-1)]: Done   4 out of  10 | elapsed:    0.7s remaining:    1.1s\n",
      "[Parallel(n_jobs=-1)]: Done   7 out of  10 | elapsed:    0.7s remaining:    0.2s\n",
      "[Parallel(n_jobs=-1)]: Done  10 out of  10 | elapsed:    1.0s remaining:    0.0s\n",
      "[Parallel(n_jobs=-1)]: Done  10 out of  10 | elapsed:    1.0s finished\n",
      "[Parallel(n_jobs=-1)]: Using backend LokyBackend with 8 concurrent workers.\n"
     ]
    },
    {
     "name": "stdout",
     "output_type": "stream",
     "text": [
      "PC07 120000 estimates\n"
     ]
    },
    {
     "name": "stderr",
     "output_type": "stream",
     "text": [
      "[Parallel(n_jobs=-1)]: Done   4 out of  10 | elapsed:    0.7s remaining:    1.1s\n",
      "[Parallel(n_jobs=-1)]: Done   7 out of  10 | elapsed:    0.7s remaining:    0.2s\n",
      "[Parallel(n_jobs=-1)]: Done  10 out of  10 | elapsed:    1.0s remaining:    0.0s\n",
      "[Parallel(n_jobs=-1)]: Done  10 out of  10 | elapsed:    1.0s finished\n",
      "[Parallel(n_jobs=-1)]: Using backend LokyBackend with 8 concurrent workers.\n"
     ]
    },
    {
     "name": "stdout",
     "output_type": "stream",
     "text": [
      "PC08 120000 estimates\n"
     ]
    },
    {
     "name": "stderr",
     "output_type": "stream",
     "text": [
      "[Parallel(n_jobs=-1)]: Done   4 out of  10 | elapsed:    0.7s remaining:    1.1s\n",
      "[Parallel(n_jobs=-1)]: Done   7 out of  10 | elapsed:    0.7s remaining:    0.2s\n",
      "[Parallel(n_jobs=-1)]: Done  10 out of  10 | elapsed:    1.0s remaining:    0.0s\n",
      "[Parallel(n_jobs=-1)]: Done  10 out of  10 | elapsed:    1.0s finished\n",
      "[Parallel(n_jobs=-1)]: Using backend LokyBackend with 8 concurrent workers.\n"
     ]
    },
    {
     "name": "stdout",
     "output_type": "stream",
     "text": [
      "PC09 120000 estimates\n"
     ]
    },
    {
     "name": "stderr",
     "output_type": "stream",
     "text": [
      "[Parallel(n_jobs=-1)]: Done   4 out of  10 | elapsed:    0.7s remaining:    1.1s\n",
      "[Parallel(n_jobs=-1)]: Done   7 out of  10 | elapsed:    0.7s remaining:    0.2s\n",
      "[Parallel(n_jobs=-1)]: Done  10 out of  10 | elapsed:    1.0s remaining:    0.0s\n",
      "[Parallel(n_jobs=-1)]: Done  10 out of  10 | elapsed:    1.0s finished\n",
      "[Parallel(n_jobs=-1)]: Using backend LokyBackend with 8 concurrent workers.\n"
     ]
    },
    {
     "name": "stdout",
     "output_type": "stream",
     "text": [
      "PC10 120000 estimates\n"
     ]
    },
    {
     "name": "stderr",
     "output_type": "stream",
     "text": [
      "[Parallel(n_jobs=-1)]: Done   4 out of  10 | elapsed:    0.7s remaining:    1.1s\n",
      "[Parallel(n_jobs=-1)]: Done   7 out of  10 | elapsed:    0.7s remaining:    0.2s\n",
      "[Parallel(n_jobs=-1)]: Done  10 out of  10 | elapsed:    1.0s remaining:    0.0s\n",
      "[Parallel(n_jobs=-1)]: Done  10 out of  10 | elapsed:    1.0s finished\n",
      "[Parallel(n_jobs=-1)]: Using backend LokyBackend with 8 concurrent workers.\n"
     ]
    },
    {
     "name": "stdout",
     "output_type": "stream",
     "text": [
      "PC11 120000 estimates\n"
     ]
    },
    {
     "name": "stderr",
     "output_type": "stream",
     "text": [
      "[Parallel(n_jobs=-1)]: Done   4 out of  10 | elapsed:    0.7s remaining:    1.1s\n",
      "[Parallel(n_jobs=-1)]: Done   7 out of  10 | elapsed:    0.7s remaining:    0.2s\n",
      "[Parallel(n_jobs=-1)]: Done  10 out of  10 | elapsed:    1.0s remaining:    0.0s\n",
      "[Parallel(n_jobs=-1)]: Done  10 out of  10 | elapsed:    1.0s finished\n",
      "[Parallel(n_jobs=-1)]: Using backend LokyBackend with 8 concurrent workers.\n"
     ]
    },
    {
     "name": "stdout",
     "output_type": "stream",
     "text": [
      "PC12 120000 estimates\n"
     ]
    },
    {
     "name": "stderr",
     "output_type": "stream",
     "text": [
      "[Parallel(n_jobs=-1)]: Done   4 out of  10 | elapsed:    0.7s remaining:    1.1s\n",
      "[Parallel(n_jobs=-1)]: Done   7 out of  10 | elapsed:    0.7s remaining:    0.2s\n"
     ]
    },
    {
     "name": "stdout",
     "output_type": "stream",
     "text": [
      "Wall time: 13.2 s\n"
     ]
    },
    {
     "name": "stderr",
     "output_type": "stream",
     "text": [
      "[Parallel(n_jobs=-1)]: Done  10 out of  10 | elapsed:    1.0s remaining:    0.0s\n",
      "[Parallel(n_jobs=-1)]: Done  10 out of  10 | elapsed:    1.0s finished\n"
     ]
    }
   ],
   "source": [
    "%%time\n",
    "# You can again change the n_jobs to lower the #CPU cores used for parallel processing\n",
    "# Also set the cv_folds variable below\n",
    "cv_folds = 10\n",
    "\n",
    "kriging_predictions = {}\n",
    "\n",
    "for component in components_to_use:  # Changed to only first 9 PCs\n",
    "    for radius in search_radii:  # Removed critical_distance\n",
    "        for variable_to_fit in [\"estimates\"]:\n",
    "            \n",
    "            # Let's print out the combination to see where we are in the loops\n",
    "            print(component, radius, variable_to_fit)\n",
    "            \n",
    "            kriging_predictions[f\"{component}_{radius}_{variable_to_fit}\"] = \\\n",
    "                cross_val_predict(estimators_final[f\"{component}_{radius}_{variable_to_fit}\"], \n",
    "                                  X=np.stack((coordinates_utm[\"X\"],\n",
    "                                              coordinates_utm[\"Y\"]), axis=1),\n",
    "                                  y=mineralogy_pca_df[component],\n",
    "                                  cv=cv_folds,\n",
    "                                  n_jobs=-1,\n",
    "                                  verbose=5)"
   ]
  },
  {
   "cell_type": "code",
   "execution_count": 306,
   "metadata": {},
   "outputs": [],
   "source": [
    "preproc.save_obj(kriging_predictions, \"kriging_predictions\")"
   ]
  },
  {
   "cell_type": "markdown",
   "metadata": {},
   "source": [
    "## Calculate clr solutions\n",
    "____"
   ]
  },
  {
   "cell_type": "code",
   "execution_count": 307,
   "metadata": {},
   "outputs": [
    {
     "name": "stdout",
     "output_type": "stream",
     "text": [
      "120000\n"
     ]
    },
    {
     "data": {
      "text/html": [
       "<div>\n",
       "<style scoped>\n",
       "    .dataframe tbody tr th:only-of-type {\n",
       "        vertical-align: middle;\n",
       "    }\n",
       "\n",
       "    .dataframe tbody tr th {\n",
       "        vertical-align: top;\n",
       "    }\n",
       "\n",
       "    .dataframe thead th {\n",
       "        text-align: right;\n",
       "    }\n",
       "</style>\n",
       "<table border=\"1\" class=\"dataframe\">\n",
       "  <thead>\n",
       "    <tr style=\"text-align: right;\">\n",
       "      <th></th>\n",
       "      <th>PC01</th>\n",
       "      <th>PC02</th>\n",
       "      <th>PC03</th>\n",
       "      <th>PC04</th>\n",
       "      <th>PC05</th>\n",
       "      <th>PC06</th>\n",
       "      <th>PC07</th>\n",
       "      <th>PC08</th>\n",
       "      <th>PC09</th>\n",
       "      <th>PC10</th>\n",
       "      <th>PC11</th>\n",
       "      <th>PC12</th>\n",
       "    </tr>\n",
       "  </thead>\n",
       "  <tbody>\n",
       "    <tr>\n",
       "      <th>1</th>\n",
       "      <td>-0.336342</td>\n",
       "      <td>1.233933</td>\n",
       "      <td>0.618873</td>\n",
       "      <td>0.074721</td>\n",
       "      <td>0.378682</td>\n",
       "      <td>-0.335886</td>\n",
       "      <td>0.019195</td>\n",
       "      <td>0.090298</td>\n",
       "      <td>0.079105</td>\n",
       "      <td>0.239567</td>\n",
       "      <td>-0.057025</td>\n",
       "      <td>0.031156</td>\n",
       "    </tr>\n",
       "    <tr>\n",
       "      <th>7</th>\n",
       "      <td>-0.549491</td>\n",
       "      <td>0.128073</td>\n",
       "      <td>0.292042</td>\n",
       "      <td>0.254326</td>\n",
       "      <td>-0.250365</td>\n",
       "      <td>-0.160589</td>\n",
       "      <td>-0.081337</td>\n",
       "      <td>0.077138</td>\n",
       "      <td>-0.022326</td>\n",
       "      <td>-0.066706</td>\n",
       "      <td>0.017640</td>\n",
       "      <td>-0.018153</td>\n",
       "    </tr>\n",
       "    <tr>\n",
       "      <th>8</th>\n",
       "      <td>-0.418788</td>\n",
       "      <td>-0.000228</td>\n",
       "      <td>0.255997</td>\n",
       "      <td>0.233333</td>\n",
       "      <td>-0.155242</td>\n",
       "      <td>0.005596</td>\n",
       "      <td>0.019341</td>\n",
       "      <td>0.197002</td>\n",
       "      <td>-0.064432</td>\n",
       "      <td>-0.041782</td>\n",
       "      <td>0.030656</td>\n",
       "      <td>-0.003755</td>\n",
       "    </tr>\n",
       "    <tr>\n",
       "      <th>13</th>\n",
       "      <td>0.125176</td>\n",
       "      <td>-0.971352</td>\n",
       "      <td>0.285531</td>\n",
       "      <td>0.460417</td>\n",
       "      <td>0.188781</td>\n",
       "      <td>0.036062</td>\n",
       "      <td>0.016200</td>\n",
       "      <td>0.042008</td>\n",
       "      <td>0.007872</td>\n",
       "      <td>0.183027</td>\n",
       "      <td>-0.023738</td>\n",
       "      <td>-0.162690</td>\n",
       "    </tr>\n",
       "    <tr>\n",
       "      <th>16</th>\n",
       "      <td>-0.845672</td>\n",
       "      <td>-0.168093</td>\n",
       "      <td>0.795804</td>\n",
       "      <td>0.401941</td>\n",
       "      <td>-0.011057</td>\n",
       "      <td>0.088719</td>\n",
       "      <td>0.090086</td>\n",
       "      <td>-0.045792</td>\n",
       "      <td>0.090065</td>\n",
       "      <td>-0.075390</td>\n",
       "      <td>0.067842</td>\n",
       "      <td>0.005710</td>\n",
       "    </tr>\n",
       "  </tbody>\n",
       "</table>\n",
       "</div>"
      ],
      "text/plain": [
       "        PC01      PC02      PC03      PC04      PC05      PC06      PC07  \\\n",
       "1  -0.336342  1.233933  0.618873  0.074721  0.378682 -0.335886  0.019195   \n",
       "7  -0.549491  0.128073  0.292042  0.254326 -0.250365 -0.160589 -0.081337   \n",
       "8  -0.418788 -0.000228  0.255997  0.233333 -0.155242  0.005596  0.019341   \n",
       "13  0.125176 -0.971352  0.285531  0.460417  0.188781  0.036062  0.016200   \n",
       "16 -0.845672 -0.168093  0.795804  0.401941 -0.011057  0.088719  0.090086   \n",
       "\n",
       "        PC08      PC09      PC10      PC11      PC12  \n",
       "1   0.090298  0.079105  0.239567 -0.057025  0.031156  \n",
       "7   0.077138 -0.022326 -0.066706  0.017640 -0.018153  \n",
       "8   0.197002 -0.064432 -0.041782  0.030656 -0.003755  \n",
       "13  0.042008  0.007872  0.183027 -0.023738 -0.162690  \n",
       "16 -0.045792  0.090065 -0.075390  0.067842  0.005710  "
      ]
     },
     "execution_count": 307,
     "metadata": {},
     "output_type": "execute_result"
    }
   ],
   "source": [
    "kriging_estimates_df = {}\n",
    "\n",
    "for radius in search_radii:\n",
    "    temp = {}\n",
    "    \n",
    "    for component in components_to_use:\n",
    "        key = f\"{component}_{radius}_estimates\"\n",
    "        temp[key] = kriging_predictions[key]\n",
    "\n",
    "    kriging_estimates_df[f\"{radius}\"] = pd.DataFrame.from_dict(temp)\n",
    "    kriging_estimates_df[f\"{radius}\"].index = mineralogy_pca_df.index\n",
    "    kriging_estimates_df[f\"{radius}\"].columns = components_to_use\n",
    "    \n",
    "    print(f\"{radius}\")\n",
    "    kriging_estimates_df[f\"{radius}\"].head()"
   ]
  },
  {
   "cell_type": "raw",
   "metadata": {},
   "source": [
    "kriging_variances_df = {}\n",
    "\n",
    "\n",
    "for radius in search_radii:\n",
    "    temp = {}\n",
    "    \n",
    "    for component in components_to_use:\n",
    "        key = f\"{component}_{radius}_variances\"\n",
    "        temp[key] = kriging_predictions[key]\n",
    "        \n",
    "    kriging_variances_df[f\"{radius}\"] = pd.DataFrame.from_dict(temp)\n",
    "    kriging_variances_df[f\"{radius}\"].index = mineralogy_pca_df.index\n",
    "    kriging_variances_df[f\"{radius}\"].columns = components_to_use\n",
    "    \n",
    "    print(f\"{radius}\")\n",
    "    kriging_variances_df[f\"{radius}\"].head()"
   ]
  },
  {
   "cell_type": "raw",
   "metadata": {},
   "source": [
    "kriging_variances_mean_df = {}\n",
    "\n",
    "for radius in search_radii:\n",
    "    kriging_variances_mean_df[f\"{radius}\"] = \\\n",
    "        kriging_variances_df[f\"{radius}\"].mean(axis=0)\n",
    "\n",
    "    print(f\"{radius}\")\n",
    "    kriging_variances_mean_df[f\"{radius}\"]"
   ]
  },
  {
   "cell_type": "code",
   "execution_count": 308,
   "metadata": {},
   "outputs": [],
   "source": [
    "kriging_estimates_clr = {}\n",
    "\n",
    "for ncomp in range(1, len(components_to_use) + 1):\n",
    "    for radius in search_radii:\n",
    "\n",
    "        kriging_estimates_clr[f\"{ncomp}_{radius}\"] = \\\n",
    "            postproc.reverse_pca(mineralogy_pca, \n",
    "                                 kriging_estimates_df[f\"{radius}\"],\n",
    "                                 mineralogy_clr,\n",
    "                                 n_comp=ncomp)"
   ]
  },
  {
   "cell_type": "code",
   "execution_count": 309,
   "metadata": {},
   "outputs": [],
   "source": [
    "solutions_clr = {}\n",
    "\n",
    "for ncomp in range(1, len(components_to_use) + 1):\n",
    "    for radius in search_radii:\n",
    "\n",
    "        solutions_clr[f\"{ncomp}_{radius}\"] = \\\n",
    "            pd.DataFrame(kriging_estimates_clr[f\"{ncomp}_{radius}\"], \n",
    "                         index=mineralogy_clr.index, \n",
    "                         columns=mineralogy_clr.columns)"
   ]
  },
  {
   "cell_type": "code",
   "execution_count": 310,
   "metadata": {},
   "outputs": [],
   "source": [
    "residuals_clr = {}\n",
    "\n",
    "for ncomp in range(1, len(components_to_use) + 1):\n",
    "    for radius in search_radii:\n",
    "\n",
    "        residuals_clr[f\"{ncomp}_{radius}\"] = \\\n",
    "            mineralogy_clr.subtract(solutions_clr[f\"{ncomp}_{radius}\"])"
   ]
  },
  {
   "cell_type": "code",
   "execution_count": 311,
   "metadata": {},
   "outputs": [],
   "source": [
    "for ncomp in range(1, len(components_to_use) + 1):\n",
    "    for radius in search_radii:\n",
    "        temp = pd.merge(residuals_clr[f\"{ncomp}_{radius}\"], \n",
    "                        pd.DataFrame(nvalues_control_points[radius], \n",
    "                                     columns=[\"n_closest_points\"]), \n",
    "                        left_index=True, \n",
    "                        right_index=True)\\\n",
    "                 .sort_values(\"n_closest_points\")\n",
    "        \n",
    "        temp.to_excel(f\"../_RESULTS/Residuals/residuals_clr_{ncomp}_{radius}_{group_name}.xlsx\")"
   ]
  },
  {
   "cell_type": "code",
   "execution_count": 312,
   "metadata": {},
   "outputs": [],
   "source": [
    "preproc.save_obj(residuals_clr, \"residuals_clr\")"
   ]
  },
  {
   "cell_type": "code",
   "execution_count": 313,
   "metadata": {},
   "outputs": [],
   "source": [
    "preproc.save_obj(nvalues_control_points, \"nvalues_control_points\")"
   ]
  },
  {
   "cell_type": "markdown",
   "metadata": {},
   "source": [
    "## Model selection\n",
    "____"
   ]
  },
  {
   "cell_type": "code",
   "execution_count": 314,
   "metadata": {},
   "outputs": [
    {
     "data": {
      "text/plain": [
       "{'1_120000': 6.028501476955377,\n",
       " '2_120000': 5.809960204749803,\n",
       " '3_120000': 5.626263271706533,\n",
       " '4_120000': 5.537035634286431,\n",
       " '5_120000': 5.517305282778459,\n",
       " '6_120000': 5.510908454821684,\n",
       " '7_120000': 5.506462332297233,\n",
       " '8_120000': 5.505251028771718,\n",
       " '9_120000': 5.49643823285963,\n",
       " '10_120000': 5.508101739920766,\n",
       " '11_120000': 5.511061940289639,\n",
       " '12_120000': 5.512414360966522}"
      ]
     },
     "execution_count": 314,
     "metadata": {},
     "output_type": "execute_result"
    },
    {
     "data": {
      "text/plain": [
       "5.49643823285963"
      ]
     },
     "execution_count": 314,
     "metadata": {},
     "output_type": "execute_result"
    },
    {
     "data": {
      "text/plain": [
       "'9_120000'"
      ]
     },
     "execution_count": 314,
     "metadata": {},
     "output_type": "execute_result"
    }
   ],
   "source": [
    "# Get MSPE_Q values and select best model based on it\n",
    "# Make sure the selected model passes the Hotelling's T² 2-sample test above, though\n",
    "MSPE_Q = {}\n",
    "best_MSPE_Q = 1000\n",
    "\n",
    "for ncomp in range(1, len(components_to_use) + 1):\n",
    "    for radius in search_radii:\n",
    "\n",
    "        # Calculate MSPE_Q from clr residuals\n",
    "        MSPE_Q_temp = np.mean(np.sum(residuals_clr[f\"{ncomp}_{radius}\"] ** 2, axis=1), axis=0)\n",
    "\n",
    "        if MSPE_Q_temp < best_MSPE_Q:\n",
    "            # Store best MSPE_Q en corresponding model\n",
    "            best_MSPE_Q = MSPE_Q_temp\n",
    "            selected_model = f\"{ncomp}_{radius}\"\n",
    "\n",
    "        MSPE_Q[f\"{ncomp}_{radius}\"] = MSPE_Q_temp\n",
    "                \n",
    "MSPE_Q\n",
    "best_MSPE_Q\n",
    "selected_model\n",
    "selected_model_PCs = selected_model.split(\"_\")[0]"
   ]
  },
  {
   "cell_type": "code",
   "execution_count": 315,
   "metadata": {},
   "outputs": [],
   "source": [
    "# Number of PCs to use for reverse calculations based on selected model\n",
    "n_comp = int(selected_model.split(\"_\")[0])\n",
    "# Whcih PCs to use moving forward\n",
    "selected_components_to_use = [f\"PC{i:02d}\" for i in range(1, n_comp + 1)]"
   ]
  },
  {
   "cell_type": "code",
   "execution_count": 316,
   "metadata": {},
   "outputs": [
    {
     "data": {
      "text/plain": [
       "['PC01', 'PC02', 'PC03', 'PC04', 'PC05', 'PC06', 'PC07', 'PC08', 'PC09']"
      ]
     },
     "execution_count": 316,
     "metadata": {},
     "output_type": "execute_result"
    }
   ],
   "source": [
    "selected_components_to_use"
   ]
  },
  {
   "cell_type": "markdown",
   "metadata": {},
   "source": [
    "## Contour plots\n",
    "____"
   ]
  },
  {
   "cell_type": "code",
   "execution_count": 317,
   "metadata": {},
   "outputs": [
    {
     "name": "stdout",
     "output_type": "stream",
     "text": [
      "(1039, 2)\n",
      "(541080, 2)\n",
      "501 1080\n"
     ]
    },
    {
     "data": {
      "text/plain": [
       "(1080, 501)"
      ]
     },
     "execution_count": 317,
     "metadata": {},
     "output_type": "execute_result"
    }
   ],
   "source": [
    "nvalues_critical_distance = \\\n",
    "    variograms[\"PC01\"].determine_mask_array(grid[0], \n",
    "                                            grid[1], \n",
    "                                            search_radius=critical_distance)\n",
    "mask_critical_distance = nvalues_critical_distance < 3\n",
    "mask_critical_distance.shape"
   ]
  },
  {
   "cell_type": "code",
   "execution_count": 318,
   "metadata": {},
   "outputs": [
    {
     "data": {
      "text/plain": [
       "352334"
      ]
     },
     "execution_count": 318,
     "metadata": {},
     "output_type": "execute_result"
    }
   ],
   "source": [
    "mask_critical_distance[mask_critical_distance == 1].sum()"
   ]
  },
  {
   "cell_type": "code",
   "execution_count": 319,
   "metadata": {},
   "outputs": [],
   "source": [
    "non_masked_grid_nodes = \\\n",
    "    grid[0].shape[0] * grid[1].shape[0] \\\n",
    "    - mask_critical_distance[mask_critical_distance == 1].sum()"
   ]
  },
  {
   "cell_type": "code",
   "execution_count": 320,
   "metadata": {},
   "outputs": [],
   "source": [
    "grid_cell_spacing = grid[0][1] - grid[0][0]\n",
    "grid_cell_area = grid_cell_spacing ** 2"
   ]
  },
  {
   "cell_type": "code",
   "execution_count": 321,
   "metadata": {},
   "outputs": [],
   "source": [
    "# Pluton area in m²\n",
    "pluton_area_m2 = non_masked_grid_nodes * grid_cell_area\n",
    "\n",
    "# Pluton area in km²\n",
    "pluton_area_km2 = pluton_area_m2 / 1_000_000"
   ]
  },
  {
   "cell_type": "code",
   "execution_count": 322,
   "metadata": {},
   "outputs": [
    {
     "data": {
      "text/plain": [
       "387673.48680548294"
      ]
     },
     "execution_count": 322,
     "metadata": {},
     "output_type": "execute_result"
    }
   ],
   "source": [
    "pluton_area_km2"
   ]
  },
  {
   "cell_type": "markdown",
   "metadata": {},
   "source": [
    "____"
   ]
  },
  {
   "cell_type": "code",
   "execution_count": 323,
   "metadata": {},
   "outputs": [],
   "source": [
    "interpolated_dict = preproc.load_obj(\"interpolated_dict\")"
   ]
  },
  {
   "cell_type": "code",
   "execution_count": 324,
   "metadata": {},
   "outputs": [],
   "source": [
    "# Since my desktop (with 32GB of RAM) ran out of memory,\n",
    "# I've reduced the grid spacing so that there are fewer grid points \n",
    "# to perform the interpolation for\n",
    "\n",
    "# You could also reduce the number of active CPU cores by decreasing 'n_jobs'\n",
    "# which would reduce memory consumption\n",
    "# so that you could still get a more detailed interpolation grid.\n",
    "# The interpolation will take a bit longer than since \n",
    "# not the maximum number of 'workers' can be used in that case."
   ]
  },
  {
   "cell_type": "code",
   "execution_count": 325,
   "metadata": {},
   "outputs": [
    {
     "name": "stdout",
     "output_type": "stream",
     "text": [
      "Wall time: 40min 58s\n"
     ]
    }
   ],
   "source": [
    "%%time\n",
    "interpolated_parallel = Parallel(n_jobs=1)(delayed(\n",
    "    variograms[component].execute)('masked', \n",
    "                     grid[0], \n",
    "                     grid[1],\n",
    "                     mask_critical_distance,\n",
    "                     n_closest_points=number_of_control_points, \n",
    "                     search_radius=range_[0], \n",
    "                     backend='loop') for component in components_to_use)"
   ]
  },
  {
   "cell_type": "code",
   "execution_count": 326,
   "metadata": {},
   "outputs": [],
   "source": [
    "interpolated_dict = {}\n",
    "for i, item in enumerate(interpolated_parallel, start=1):\n",
    "    interpolated_dict[f\"PC0{i}\"] = item"
   ]
  },
  {
   "cell_type": "code",
   "execution_count": 327,
   "metadata": {},
   "outputs": [],
   "source": [
    "preproc.save_obj(interpolated_dict, \"interpolated_dict\")"
   ]
  },
  {
   "cell_type": "code",
   "execution_count": 328,
   "metadata": {},
   "outputs": [
    {
     "name": "stdout",
     "output_type": "stream",
     "text": [
      "1\n",
      "2\n",
      "3\n",
      "4\n",
      "5\n",
      "6\n",
      "7\n",
      "8\n",
      "9\n",
      "10\n",
      "11\n",
      "12\n",
      "(12, 1080, 501)\n"
     ]
    },
    {
     "name": "stderr",
     "output_type": "stream",
     "text": [
      "C:\\Users\\Sebastian\\Anaconda3\\envs\\main\\lib\\site-packages\\IPython\\core\\interactiveshell.py:3331: FutureWarning: arrays to stack must be passed as a \"sequence\" type such as list or tuple. Support for non-sequence iterables such as generators is deprecated as of NumPy 1.16 and will raise an error in the future.\n",
      "  exec(code_obj, self.user_global_ns, self.user_ns)\n"
     ]
    }
   ],
   "source": [
    "interpolated_array = postproc.convert_grid_to_array_of_scores(interpolated_dict)\n",
    "\n",
    "interpolated_reverse_pca = postproc.reverse_pca(mineralogy_pca, \n",
    "                                                interpolated_array, \n",
    "                                                mineralogy_clr, \n",
    "                                                n_comp=n_comp)\n",
    "\n",
    "interpolated_reverse_clr = postproc.reverse_clr(interpolated_reverse_pca, \n",
    "                                                mineralogy_clr)\n",
    "\n",
    "# You will get a FutureWarning here, that's fine"
   ]
  },
  {
   "cell_type": "code",
   "execution_count": 329,
   "metadata": {},
   "outputs": [
    {
     "data": {
      "text/plain": [
       "1.190402897747897"
      ]
     },
     "execution_count": 329,
     "metadata": {},
     "output_type": "execute_result"
    }
   ],
   "source": [
    "# Get kriging surface variance for error_budget\n",
    "var_OK = np.array(pd.DataFrame(interpolated_array).var(axis=0, ddof=1))\n",
    "var_OK.sum()"
   ]
  },
  {
   "cell_type": "code",
   "execution_count": 330,
   "metadata": {},
   "outputs": [],
   "source": [
    "# Check if the number of points based on the specified grid is equal to\n",
    "# the sum of the number of masked points and the number of interpolated points\n",
    "assert grid[0].shape[0] * grid[1].shape[0] == np.sum(np.isclose(interpolated_reverse_clr.sum(axis=1), 0.0)) + \\\n",
    "                                              np.sum(np.isclose(interpolated_reverse_clr.sum(axis=1), 100.0))"
   ]
  },
  {
   "cell_type": "code",
   "execution_count": 331,
   "metadata": {},
   "outputs": [],
   "source": [
    "interpolated_modal = {}\n",
    "for mineral in interpolated_reverse_clr.columns.tolist():\n",
    "    interpolated_modal[mineral] = np.reshape(interpolated_reverse_clr.loc[:, mineral].values, \n",
    "                                             (grid[1].shape[0], grid[0].shape[0]))"
   ]
  },
  {
   "cell_type": "code",
   "execution_count": 332,
   "metadata": {},
   "outputs": [
    {
     "name": "stdout",
     "output_type": "stream",
     "text": [
      "(1080, 501)\n",
      "SiO2\n",
      "(1080, 501)\n",
      "TiO2\n",
      "(1080, 501)\n",
      "Al2O3\n",
      "(1080, 501)\n",
      "Fe2O3\n",
      "(1080, 501)\n",
      "FeO\n",
      "(1080, 501)\n",
      "MnO\n",
      "(1080, 501)\n",
      "MgO\n",
      "(1080, 501)\n",
      "CaO\n",
      "(1080, 501)\n",
      "Na2O\n",
      "(1080, 501)\n",
      "K2O\n",
      "(1080, 501)\n",
      "P2O5\n",
      "(1080, 501)\n",
      "l.i.\n",
      "(1080, 501)\n",
      "oth\n"
     ]
    }
   ],
   "source": [
    "# If you get an error related to an non-esixting save location\n",
    "# Please first create a folder on your pc with the same name that \n",
    "# you used for the variable 'group_name'\n",
    "\n",
    "for mineral, interpolation in interpolated_modal.items(): \n",
    "    for variable in [\"estimates\"]:\n",
    "        print(interpolation.shape)\n",
    "        plots.plot_contour_map(interpolation,\n",
    "                               grid,\n",
    "                               coordinates_utm,\n",
    "                               group_name,\n",
    "                               variable=variable,\n",
    "                               title=f\"{mineral} radius={range_[0]}m {variable} masked {critical_distance}m\",\n",
    "                               show_plot=False,\n",
    "                               single_mineral=True,\n",
    "                               mineral=mineral,                               \n",
    "                               label_pos = (0.03, 0.94),\n",
    "                               skip_xaxis_label=2,\n",
    "                               skip_yaxis_label=2,\n",
    "                               skip_xaxis_start=1,\n",
    "                               skip_yaxis_start=1,\n",
    "                               marker_symbol='.',\n",
    "                               marker_size=0.1,\n",
    "                               marker_color='r',)\n",
    "        \n",
    "# Added some options to function so that yu can easily change the appearance \n",
    "# of the markers used to show the position of the control points"
   ]
  },
  {
   "cell_type": "code",
   "execution_count": 333,
   "metadata": {},
   "outputs": [
    {
     "data": {
      "image/png": "[encoded data removed]",
      "text/plain": [
       "<Figure size 864x648 with 28 Axes>"
      ]
     },
     "metadata": {},
     "output_type": "display_data"
    }
   ],
   "source": [
    "# Specify how many rows and columns you want to use in the following figure\n",
    "# This will ofcourse depend an the number of variables you would like to plot\n",
    "# You can also set the figure size\n",
    "n_cols = 3\n",
    "n_rows = 5\n",
    "\n",
    "# Figure with single mineral maps as subplots\n",
    "plots.plot_contour_map_all(interpolated_modal,\n",
    "                           grid,\n",
    "                           coordinates_utm,\n",
    "                           group_name,\n",
    "                           title=f\"radius={range_[0]}m masked {critical_distance}m\",\n",
    "                           show_plot=True,\n",
    "                           label_pos = (0.03, 0.94),\n",
    "                           skip_xaxis_label=2,\n",
    "                           skip_yaxis_label=2,\n",
    "                           skip_xaxis_start=1,\n",
    "                           skip_yaxis_start=1,\n",
    "                           marker_size=0.1,\n",
    "                           marker_color='r',\n",
    "                           marker_symbol='.',\n",
    "                           figsize=(12, 9),\n",
    "                           ncols=n_cols,\n",
    "                           nrows=n_rows,\n",
    "                           sharex=True,\n",
    "                           sharey=True)"
   ]
  },
  {
   "cell_type": "markdown",
   "metadata": {},
   "source": [
    "## Biplots\n",
    "____"
   ]
  },
  {
   "cell_type": "markdown",
   "metadata": {},
   "source": [
    "Not relevant for now"
   ]
  },
  {
   "cell_type": "markdown",
   "metadata": {},
   "source": [
    "## Simulations\n",
    "____"
   ]
  },
  {
   "cell_type": "markdown",
   "metadata": {},
   "source": [
    "Not relevant for now"
   ]
  },
  {
   "cell_type": "markdown",
   "metadata": {},
   "source": [
    "## Error budget\n",
    "____"
   ]
  },
  {
   "cell_type": "code",
   "execution_count": 334,
   "metadata": {},
   "outputs": [],
   "source": [
    "# A = Variance of kriging surface\n",
    "# B = mean squared prediction error (MSPE)\n",
    "# C = Sum of nugget\n",
    "# D = Total variance based on simulation (not yet available)\n",
    "# E = Variance of original data set\n",
    "\n",
    "error_budget = {}\n",
    "\n",
    "for radius in search_radii:\n",
    "    for ncomp in range(1, len(components_to_use) + 1):\n",
    "        A = var_OK[:ncomp].sum()\n",
    "        B = np.mean(np.sum(residuals_clr[f\"{ncomp}_{radius}\"] ** 2, axis=1), axis=0) # MSPE\n",
    "        C = np.array(nugget_)[:ncomp].sum()\n",
    "        D = np.nan\n",
    "        E = mineralogy_clr.var(axis=0).sum()\n",
    "        \n",
    "\n",
    "        error_budget[f\"{ncomp}_{radius}\"] = [A, B, C, D, E]"
   ]
  },
  {
   "cell_type": "code",
   "execution_count": 335,
   "metadata": {},
   "outputs": [
    {
     "data": {
      "text/html": [
       "<div>\n",
       "<style scoped>\n",
       "    .dataframe tbody tr th:only-of-type {\n",
       "        vertical-align: middle;\n",
       "    }\n",
       "\n",
       "    .dataframe tbody tr th {\n",
       "        vertical-align: top;\n",
       "    }\n",
       "\n",
       "    .dataframe thead th {\n",
       "        text-align: right;\n",
       "    }\n",
       "</style>\n",
       "<table border=\"1\" class=\"dataframe\">\n",
       "  <thead>\n",
       "    <tr style=\"text-align: right;\">\n",
       "      <th></th>\n",
       "      <th>search_radius</th>\n",
       "      <th>#PCs</th>\n",
       "      <th>VAR(OK)</th>\n",
       "      <th>MSPE</th>\n",
       "      <th>S_nugget</th>\n",
       "      <th>VAR(TOTAL)</th>\n",
       "      <th>VAR(DATA)</th>\n",
       "    </tr>\n",
       "  </thead>\n",
       "  <tbody>\n",
       "    <tr>\n",
       "      <th>0</th>\n",
       "      <td>120000</td>\n",
       "      <td>1</td>\n",
       "      <td>0.394911</td>\n",
       "      <td>6.028501</td>\n",
       "      <td>1.0685</td>\n",
       "      <td>NaN</td>\n",
       "      <td>6.023367</td>\n",
       "    </tr>\n",
       "    <tr>\n",
       "      <th>1</th>\n",
       "      <td>120000</td>\n",
       "      <td>2</td>\n",
       "      <td>0.625961</td>\n",
       "      <td>5.809960</td>\n",
       "      <td>1.7035</td>\n",
       "      <td>NaN</td>\n",
       "      <td>6.023367</td>\n",
       "    </tr>\n",
       "    <tr>\n",
       "      <th>2</th>\n",
       "      <td>120000</td>\n",
       "      <td>3</td>\n",
       "      <td>0.866995</td>\n",
       "      <td>5.626263</td>\n",
       "      <td>2.2965</td>\n",
       "      <td>NaN</td>\n",
       "      <td>6.023367</td>\n",
       "    </tr>\n",
       "    <tr>\n",
       "      <th>3</th>\n",
       "      <td>120000</td>\n",
       "      <td>4</td>\n",
       "      <td>1.047676</td>\n",
       "      <td>5.537036</td>\n",
       "      <td>2.7370</td>\n",
       "      <td>NaN</td>\n",
       "      <td>6.023367</td>\n",
       "    </tr>\n",
       "    <tr>\n",
       "      <th>4</th>\n",
       "      <td>120000</td>\n",
       "      <td>5</td>\n",
       "      <td>1.087916</td>\n",
       "      <td>5.517305</td>\n",
       "      <td>3.0518</td>\n",
       "      <td>NaN</td>\n",
       "      <td>6.023367</td>\n",
       "    </tr>\n",
       "    <tr>\n",
       "      <th>5</th>\n",
       "      <td>120000</td>\n",
       "      <td>6</td>\n",
       "      <td>1.110560</td>\n",
       "      <td>5.510908</td>\n",
       "      <td>3.2577</td>\n",
       "      <td>NaN</td>\n",
       "      <td>6.023367</td>\n",
       "    </tr>\n",
       "    <tr>\n",
       "      <th>6</th>\n",
       "      <td>120000</td>\n",
       "      <td>7</td>\n",
       "      <td>1.122269</td>\n",
       "      <td>5.506462</td>\n",
       "      <td>3.4682</td>\n",
       "      <td>NaN</td>\n",
       "      <td>6.023367</td>\n",
       "    </tr>\n",
       "    <tr>\n",
       "      <th>7</th>\n",
       "      <td>120000</td>\n",
       "      <td>8</td>\n",
       "      <td>1.139822</td>\n",
       "      <td>5.505251</td>\n",
       "      <td>3.6637</td>\n",
       "      <td>NaN</td>\n",
       "      <td>6.023367</td>\n",
       "    </tr>\n",
       "    <tr>\n",
       "      <th>8</th>\n",
       "      <td>120000</td>\n",
       "      <td>9</td>\n",
       "      <td>1.158246</td>\n",
       "      <td>5.496438</td>\n",
       "      <td>3.7710</td>\n",
       "      <td>NaN</td>\n",
       "      <td>6.023367</td>\n",
       "    </tr>\n",
       "    <tr>\n",
       "      <th>9</th>\n",
       "      <td>120000</td>\n",
       "      <td>10</td>\n",
       "      <td>1.180623</td>\n",
       "      <td>5.508102</td>\n",
       "      <td>3.7710</td>\n",
       "      <td>NaN</td>\n",
       "      <td>6.023367</td>\n",
       "    </tr>\n",
       "    <tr>\n",
       "      <th>10</th>\n",
       "      <td>120000</td>\n",
       "      <td>11</td>\n",
       "      <td>1.188308</td>\n",
       "      <td>5.511062</td>\n",
       "      <td>3.7710</td>\n",
       "      <td>NaN</td>\n",
       "      <td>6.023367</td>\n",
       "    </tr>\n",
       "    <tr>\n",
       "      <th>11</th>\n",
       "      <td>120000</td>\n",
       "      <td>12</td>\n",
       "      <td>1.190403</td>\n",
       "      <td>5.512414</td>\n",
       "      <td>3.7710</td>\n",
       "      <td>NaN</td>\n",
       "      <td>6.023367</td>\n",
       "    </tr>\n",
       "  </tbody>\n",
       "</table>\n",
       "</div>"
      ],
      "text/plain": [
       "    search_radius  #PCs   VAR(OK)      MSPE  S_nugget  VAR(TOTAL)  VAR(DATA)\n",
       "0          120000     1  0.394911  6.028501    1.0685         NaN   6.023367\n",
       "1          120000     2  0.625961  5.809960    1.7035         NaN   6.023367\n",
       "2          120000     3  0.866995  5.626263    2.2965         NaN   6.023367\n",
       "3          120000     4  1.047676  5.537036    2.7370         NaN   6.023367\n",
       "4          120000     5  1.087916  5.517305    3.0518         NaN   6.023367\n",
       "5          120000     6  1.110560  5.510908    3.2577         NaN   6.023367\n",
       "6          120000     7  1.122269  5.506462    3.4682         NaN   6.023367\n",
       "7          120000     8  1.139822  5.505251    3.6637         NaN   6.023367\n",
       "8          120000     9  1.158246  5.496438    3.7710         NaN   6.023367\n",
       "9          120000    10  1.180623  5.508102    3.7710         NaN   6.023367\n",
       "10         120000    11  1.188308  5.511062    3.7710         NaN   6.023367\n",
       "11         120000    12  1.190403  5.512414    3.7710         NaN   6.023367"
      ]
     },
     "execution_count": 335,
     "metadata": {},
     "output_type": "execute_result"
    }
   ],
   "source": [
    "error_budget_df = \\\n",
    "    ttest.convert_summary_test_results_to_df(error_budget, \n",
    "                                             variable_names=[\"VAR(OK)\",\n",
    "                                                             \"MSPE\", \n",
    "                                                             \"S_nugget\", # Sum of nuggets\n",
    "                                                             \"VAR(TOTAL)\",\n",
    "                                                             \"VAR(DATA)\"], \n",
    "                                             order=[\"search_radius\", \n",
    "                                                    \"#PCs\"])\n",
    "error_budget_df"
   ]
  },
  {
   "cell_type": "code",
   "execution_count": 336,
   "metadata": {},
   "outputs": [],
   "source": [
    "error_budget_df.to_excel(f\"../_RESULTS/Error_budget/error_budget_{group_name}.xlsx\")"
   ]
  },
  {
   "cell_type": "code",
   "execution_count": null,
   "metadata": {},
   "outputs": [],
   "source": []
  },
  {
   "cell_type": "code",
   "execution_count": null,
   "metadata": {},
   "outputs": [],
   "source": []
  },
  {
   "cell_type": "code",
   "execution_count": null,
   "metadata": {},
   "outputs": [],
   "source": []
  },
  {
   "cell_type": "code",
   "execution_count": null,
   "metadata": {},
   "outputs": [],
   "source": []
  },
  {
   "cell_type": "code",
   "execution_count": null,
   "metadata": {},
   "outputs": [],
   "source": []
  },
  {
   "cell_type": "code",
   "execution_count": null,
   "metadata": {},
   "outputs": [],
   "source": []
  }
 ],
 "metadata": {
  "kernelspec": {
   "display_name": "Python 3",
   "language": "python",
   "name": "python3"
  },
  "language_info": {
   "codemirror_mode": {
    "name": "ipython",
    "version": 3
   },
   "file_extension": ".py",
   "mimetype": "text/x-python",
   "name": "python",
   "nbconvert_exporter": "python",
   "pygments_lexer": "ipython3",
   "version": "3.7.3"
  }
 },
 "nbformat": 4,
 "nbformat_minor": 4
}
