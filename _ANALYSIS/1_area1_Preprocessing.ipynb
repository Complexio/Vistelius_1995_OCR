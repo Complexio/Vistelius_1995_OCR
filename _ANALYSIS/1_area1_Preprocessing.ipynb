{
 "cells": [
  {
   "cell_type": "markdown",
   "metadata": {},
   "source": [
    "# Preprocessing"
   ]
  },
  {
   "cell_type": "code",
   "execution_count": 142,
   "metadata": {},
   "outputs": [],
   "source": [
    "import numpy as np\n",
    "import pandas as pd\n",
    "import os\n",
    "import pickle\n",
    "import utm\n",
    "import random\n",
    "\n",
    "import matplotlib.pyplot as plt\n",
    "import seaborn as sns"
   ]
  },
  {
   "cell_type": "code",
   "execution_count": 74,
   "metadata": {},
   "outputs": [],
   "source": [
    "import prepostprocessing.cleaning as cleaning\n",
    "import prepostprocessing.pre_processing as preproc\n",
    "from plots import plots as plots"
   ]
  },
  {
   "cell_type": "code",
   "execution_count": 3,
   "metadata": {},
   "outputs": [],
   "source": [
    "# Load jupyter extension to reload packages before executing user code.\n",
    "# https://ipython.readthedocs.io/en/stable/config/extensions/autoreload.html\n",
    "%load_ext autoreload\n",
    "# Reload all packages (except those excluded by %aimport) every time before executing the Python code typed.\n",
    "%autoreload 2"
   ]
  },
  {
   "cell_type": "markdown",
   "metadata": {},
   "source": [
    "## Mineralogy"
   ]
  },
  {
   "cell_type": "code",
   "execution_count": 4,
   "metadata": {},
   "outputs": [],
   "source": [
    "mineralogy = pd.read_excel(\"../_CLEANED/Vistelius_data_cleaned.xlsx\", index_col=0)"
   ]
  },
  {
   "cell_type": "markdown",
   "metadata": {},
   "source": [
    "### Check for wrong entries"
   ]
  },
  {
   "cell_type": "code",
   "execution_count": 5,
   "metadata": {},
   "outputs": [
    {
     "data": {
      "text/plain": [
       "array([ True,  True,  True, ...,  True,  True,  True])"
      ]
     },
     "execution_count": 5,
     "metadata": {},
     "output_type": "execute_result"
    }
   ],
   "source": [
    "np.isclose(mineralogy.loc[:, :\"oth\"].sum(axis=1), mineralogy.loc[:, \"sum\"])"
   ]
  },
  {
   "cell_type": "code",
   "execution_count": 6,
   "metadata": {},
   "outputs": [],
   "source": [
    "wrong_sum = mineralogy.loc[~np.isclose(mineralogy.loc[:, :\"oth\"].sum(axis=1), mineralogy.loc[:, \"sum\"]), :]"
   ]
  },
  {
   "cell_type": "code",
   "execution_count": 7,
   "metadata": {},
   "outputs": [
    {
     "data": {
      "text/html": [
       "<div>\n",
       "<style scoped>\n",
       "    .dataframe tbody tr th:only-of-type {\n",
       "        vertical-align: middle;\n",
       "    }\n",
       "\n",
       "    .dataframe tbody tr th {\n",
       "        vertical-align: top;\n",
       "    }\n",
       "\n",
       "    .dataframe thead th {\n",
       "        text-align: right;\n",
       "    }\n",
       "</style>\n",
       "<table border=\"1\" class=\"dataframe\">\n",
       "  <thead>\n",
       "    <tr style=\"text-align: right;\">\n",
       "      <th></th>\n",
       "      <th>SiO2</th>\n",
       "      <th>TiO2</th>\n",
       "      <th>Al2O3</th>\n",
       "      <th>Fe2O3</th>\n",
       "      <th>FeO</th>\n",
       "      <th>MnO</th>\n",
       "      <th>MgO</th>\n",
       "      <th>CaO</th>\n",
       "      <th>Na2O</th>\n",
       "      <th>K2O</th>\n",
       "      <th>P2O5</th>\n",
       "      <th>l.i.</th>\n",
       "      <th>oth</th>\n",
       "      <th>sum</th>\n",
       "      <th>hs</th>\n",
       "    </tr>\n",
       "  </thead>\n",
       "  <tbody>\n",
       "  </tbody>\n",
       "</table>\n",
       "</div>"
      ],
      "text/plain": [
       "Empty DataFrame\n",
       "Columns: [SiO2, TiO2, Al2O3, Fe2O3, FeO, MnO, MgO, CaO, Na2O, K2O, P2O5, l.i., oth, sum, hs]\n",
       "Index: []"
      ]
     },
     "execution_count": 7,
     "metadata": {},
     "output_type": "execute_result"
    }
   ],
   "source": [
    "# Check to see if any remaining incorrect lines are present\n",
    "wrong_sum"
   ]
  },
  {
   "cell_type": "code",
   "execution_count": 8,
   "metadata": {},
   "outputs": [
    {
     "name": "stdout",
     "output_type": "stream",
     "text": [
      "<class 'pandas.core.frame.DataFrame'>\n",
      "Int64Index: 4659 entries, 1 to 4659\n",
      "Data columns (total 15 columns):\n",
      " #   Column  Non-Null Count  Dtype  \n",
      "---  ------  --------------  -----  \n",
      " 0   SiO2    4659 non-null   float64\n",
      " 1   TiO2    4626 non-null   float64\n",
      " 2   Al2O3   4659 non-null   float64\n",
      " 3   Fe2O3   4657 non-null   float64\n",
      " 4   FeO     4659 non-null   float64\n",
      " 5   MnO     4544 non-null   float64\n",
      " 6   MgO     4658 non-null   float64\n",
      " 7   CaO     4659 non-null   float64\n",
      " 8   Na2O    4659 non-null   float64\n",
      " 9   K2O     4659 non-null   float64\n",
      " 10  P2O5    3834 non-null   float64\n",
      " 11  l.i.    4659 non-null   float64\n",
      " 12  oth     874 non-null    float64\n",
      " 13  sum     4659 non-null   float64\n",
      " 14  hs      2240 non-null   float64\n",
      "dtypes: float64(15)\n",
      "memory usage: 582.4 KB\n"
     ]
    }
   ],
   "source": [
    "mineralogy.info()"
   ]
  },
  {
   "cell_type": "code",
   "execution_count": 9,
   "metadata": {},
   "outputs": [
    {
     "data": {
      "text/plain": [
       "Series([], dtype: float64)"
      ]
     },
     "execution_count": 9,
     "metadata": {},
     "output_type": "execute_result"
    }
   ],
   "source": [
    "wrong_sum.loc[:, :\"oth\"].sum(axis=1)"
   ]
  },
  {
   "cell_type": "code",
   "execution_count": 10,
   "metadata": {},
   "outputs": [
    {
     "data": {
      "text/html": [
       "<div>\n",
       "<style scoped>\n",
       "    .dataframe tbody tr th:only-of-type {\n",
       "        vertical-align: middle;\n",
       "    }\n",
       "\n",
       "    .dataframe tbody tr th {\n",
       "        vertical-align: top;\n",
       "    }\n",
       "\n",
       "    .dataframe thead th {\n",
       "        text-align: right;\n",
       "    }\n",
       "</style>\n",
       "<table border=\"1\" class=\"dataframe\">\n",
       "  <thead>\n",
       "    <tr style=\"text-align: right;\">\n",
       "      <th></th>\n",
       "      <th>SiO2</th>\n",
       "      <th>TiO2</th>\n",
       "      <th>Al2O3</th>\n",
       "      <th>Fe2O3</th>\n",
       "      <th>FeO</th>\n",
       "      <th>MnO</th>\n",
       "      <th>MgO</th>\n",
       "      <th>CaO</th>\n",
       "      <th>Na2O</th>\n",
       "      <th>K2O</th>\n",
       "      <th>P2O5</th>\n",
       "      <th>l.i.</th>\n",
       "      <th>oth</th>\n",
       "      <th>sum</th>\n",
       "      <th>hs</th>\n",
       "    </tr>\n",
       "  </thead>\n",
       "  <tbody>\n",
       "    <tr>\n",
       "      <th>1</th>\n",
       "      <td>80.80</td>\n",
       "      <td>0.04</td>\n",
       "      <td>10.16</td>\n",
       "      <td>0.61</td>\n",
       "      <td>1.72</td>\n",
       "      <td>NaN</td>\n",
       "      <td>0.40</td>\n",
       "      <td>0.55</td>\n",
       "      <td>2.00</td>\n",
       "      <td>3.59</td>\n",
       "      <td>NaN</td>\n",
       "      <td>0.35</td>\n",
       "      <td>NaN</td>\n",
       "      <td>100.22</td>\n",
       "      <td>NaN</td>\n",
       "    </tr>\n",
       "    <tr>\n",
       "      <th>2</th>\n",
       "      <td>80.00</td>\n",
       "      <td>0.10</td>\n",
       "      <td>10.10</td>\n",
       "      <td>0.17</td>\n",
       "      <td>0.56</td>\n",
       "      <td>0.02</td>\n",
       "      <td>0.40</td>\n",
       "      <td>0.35</td>\n",
       "      <td>2.30</td>\n",
       "      <td>5.10</td>\n",
       "      <td>0.05</td>\n",
       "      <td>0.50</td>\n",
       "      <td>NaN</td>\n",
       "      <td>99.65</td>\n",
       "      <td>NaN</td>\n",
       "    </tr>\n",
       "    <tr>\n",
       "      <th>3</th>\n",
       "      <td>79.92</td>\n",
       "      <td>0.05</td>\n",
       "      <td>9.89</td>\n",
       "      <td>0.16</td>\n",
       "      <td>1.73</td>\n",
       "      <td>0.02</td>\n",
       "      <td>0.12</td>\n",
       "      <td>0.14</td>\n",
       "      <td>0.75</td>\n",
       "      <td>6.15</td>\n",
       "      <td>NaN</td>\n",
       "      <td>1.02</td>\n",
       "      <td>0.08</td>\n",
       "      <td>100.03</td>\n",
       "      <td>0.30</td>\n",
       "    </tr>\n",
       "    <tr>\n",
       "      <th>4</th>\n",
       "      <td>79.65</td>\n",
       "      <td>0.04</td>\n",
       "      <td>9.64</td>\n",
       "      <td>1.15</td>\n",
       "      <td>0.75</td>\n",
       "      <td>0.10</td>\n",
       "      <td>0.45</td>\n",
       "      <td>0.67</td>\n",
       "      <td>3.71</td>\n",
       "      <td>4.25</td>\n",
       "      <td>NaN</td>\n",
       "      <td>0.26</td>\n",
       "      <td>NaN</td>\n",
       "      <td>100.67</td>\n",
       "      <td>0.01</td>\n",
       "    </tr>\n",
       "    <tr>\n",
       "      <th>5</th>\n",
       "      <td>79.18</td>\n",
       "      <td>0.08</td>\n",
       "      <td>10.24</td>\n",
       "      <td>0.64</td>\n",
       "      <td>2.60</td>\n",
       "      <td>0.04</td>\n",
       "      <td>0.05</td>\n",
       "      <td>1.25</td>\n",
       "      <td>1.52</td>\n",
       "      <td>3.08</td>\n",
       "      <td>0.01</td>\n",
       "      <td>1.75</td>\n",
       "      <td>0.16</td>\n",
       "      <td>100.60</td>\n",
       "      <td>0.28</td>\n",
       "    </tr>\n",
       "  </tbody>\n",
       "</table>\n",
       "</div>"
      ],
      "text/plain": [
       "    SiO2  TiO2  Al2O3  Fe2O3   FeO   MnO   MgO   CaO  Na2O   K2O  P2O5  l.i.  \\\n",
       "1  80.80  0.04  10.16   0.61  1.72   NaN  0.40  0.55  2.00  3.59   NaN  0.35   \n",
       "2  80.00  0.10  10.10   0.17  0.56  0.02  0.40  0.35  2.30  5.10  0.05  0.50   \n",
       "3  79.92  0.05   9.89   0.16  1.73  0.02  0.12  0.14  0.75  6.15   NaN  1.02   \n",
       "4  79.65  0.04   9.64   1.15  0.75  0.10  0.45  0.67  3.71  4.25   NaN  0.26   \n",
       "5  79.18  0.08  10.24   0.64  2.60  0.04  0.05  1.25  1.52  3.08  0.01  1.75   \n",
       "\n",
       "    oth     sum    hs  \n",
       "1   NaN  100.22   NaN  \n",
       "2   NaN   99.65   NaN  \n",
       "3  0.08  100.03  0.30  \n",
       "4   NaN  100.67  0.01  \n",
       "5  0.16  100.60  0.28  "
      ]
     },
     "execution_count": 10,
     "metadata": {},
     "output_type": "execute_result"
    }
   ],
   "source": [
    "mineralogy.head()"
   ]
  },
  {
   "cell_type": "markdown",
   "metadata": {},
   "source": [
    "### Cleaning\n",
    "\n"
   ]
  },
  {
   "cell_type": "code",
   "execution_count": 11,
   "metadata": {},
   "outputs": [],
   "source": [
    "# Replace zero values\n",
    "mineralogy = preproc.replace_zero(mineralogy, 0.01)"
   ]
  },
  {
   "cell_type": "code",
   "execution_count": 12,
   "metadata": {},
   "outputs": [],
   "source": [
    "mineralogy.to_excel(\"../_CLEANED/Vistelius_data_cleaned.xlsx\")"
   ]
  },
  {
   "cell_type": "code",
   "execution_count": 12,
   "metadata": {},
   "outputs": [],
   "source": [
    "# Also replace NaN values by 0.01\n",
    "mineralogy = preproc.replace_nan(mineralogy, 0.01)"
   ]
  },
  {
   "cell_type": "code",
   "execution_count": 13,
   "metadata": {},
   "outputs": [],
   "source": [
    "# Normalize specific columns\n",
    "mineralogy.loc[:, :\"oth\"] = preproc.normalize(mineralogy.loc[:, :\"oth\"])# , total=mineralogy['sum'])"
   ]
  },
  {
   "cell_type": "code",
   "execution_count": 14,
   "metadata": {},
   "outputs": [],
   "source": [
    "# Renew 'sum' column to reflect changes applied during cleaning\n",
    "mineralogy[\"sum\"] = mineralogy.loc[:, :\"oth\"].sum(axis=1)"
   ]
  },
  {
   "cell_type": "code",
   "execution_count": 15,
   "metadata": {},
   "outputs": [],
   "source": [
    "# Check that sum of all variables + 'sum' == 200\n",
    "assert all(np.isclose(mineralogy.loc[:, :'sum'].sum(axis=1), 200.0))"
   ]
  },
  {
   "cell_type": "code",
   "execution_count": 17,
   "metadata": {},
   "outputs": [],
   "source": [
    "mineralogy.to_excel(\"../_INTERPOLATION/normalised_values.xlsx\")"
   ]
  },
  {
   "cell_type": "markdown",
   "metadata": {},
   "source": [
    "### centred log-ratio (clr) transformation"
   ]
  },
  {
   "cell_type": "code",
   "execution_count": 16,
   "metadata": {},
   "outputs": [
    {
     "data": {
      "text/html": [
       "<div>\n",
       "<style scoped>\n",
       "    .dataframe tbody tr th:only-of-type {\n",
       "        vertical-align: middle;\n",
       "    }\n",
       "\n",
       "    .dataframe tbody tr th {\n",
       "        vertical-align: top;\n",
       "    }\n",
       "\n",
       "    .dataframe thead th {\n",
       "        text-align: right;\n",
       "    }\n",
       "</style>\n",
       "<table border=\"1\" class=\"dataframe\">\n",
       "  <thead>\n",
       "    <tr style=\"text-align: right;\">\n",
       "      <th></th>\n",
       "      <th>SiO2</th>\n",
       "      <th>TiO2</th>\n",
       "      <th>Al2O3</th>\n",
       "      <th>Fe2O3</th>\n",
       "      <th>FeO</th>\n",
       "      <th>MnO</th>\n",
       "      <th>MgO</th>\n",
       "      <th>CaO</th>\n",
       "      <th>Na2O</th>\n",
       "      <th>K2O</th>\n",
       "      <th>P2O5</th>\n",
       "      <th>l.i.</th>\n",
       "      <th>oth</th>\n",
       "      <th>sum</th>\n",
       "      <th>hs</th>\n",
       "    </tr>\n",
       "  </thead>\n",
       "  <tbody>\n",
       "    <tr>\n",
       "      <th>1</th>\n",
       "      <td>5.116216</td>\n",
       "      <td>-2.494637</td>\n",
       "      <td>3.042697</td>\n",
       "      <td>0.229942</td>\n",
       "      <td>1.266563</td>\n",
       "      <td>-3.880932</td>\n",
       "      <td>-0.192052</td>\n",
       "      <td>0.126402</td>\n",
       "      <td>1.417386</td>\n",
       "      <td>2.002391</td>\n",
       "      <td>-3.880932</td>\n",
       "      <td>-0.325583</td>\n",
       "      <td>-3.880932</td>\n",
       "      <td>5.331906</td>\n",
       "      <td>-3.878435</td>\n",
       "    </tr>\n",
       "    <tr>\n",
       "      <th>2</th>\n",
       "      <td>5.027136</td>\n",
       "      <td>-1.657475</td>\n",
       "      <td>2.957645</td>\n",
       "      <td>-1.126847</td>\n",
       "      <td>0.065291</td>\n",
       "      <td>-3.266913</td>\n",
       "      <td>-0.271181</td>\n",
       "      <td>-0.404712</td>\n",
       "      <td>1.478019</td>\n",
       "      <td>2.274350</td>\n",
       "      <td>-2.350623</td>\n",
       "      <td>-0.048037</td>\n",
       "      <td>-3.960060</td>\n",
       "      <td>5.246874</td>\n",
       "      <td>-3.963466</td>\n",
       "    </tr>\n",
       "    <tr>\n",
       "      <th>3</th>\n",
       "      <td>4.900117</td>\n",
       "      <td>-2.476641</td>\n",
       "      <td>2.810616</td>\n",
       "      <td>-1.313490</td>\n",
       "      <td>1.067213</td>\n",
       "      <td>-3.392932</td>\n",
       "      <td>-1.601172</td>\n",
       "      <td>-1.447021</td>\n",
       "      <td>0.231409</td>\n",
       "      <td>2.335543</td>\n",
       "      <td>-4.086079</td>\n",
       "      <td>0.538894</td>\n",
       "      <td>-2.006637</td>\n",
       "      <td>5.124661</td>\n",
       "      <td>-0.684482</td>\n",
       "    </tr>\n",
       "    <tr>\n",
       "      <th>4</th>\n",
       "      <td>4.911676</td>\n",
       "      <td>-2.684842</td>\n",
       "      <td>2.799955</td>\n",
       "      <td>0.673796</td>\n",
       "      <td>0.246352</td>\n",
       "      <td>-1.768551</td>\n",
       "      <td>-0.264473</td>\n",
       "      <td>0.133557</td>\n",
       "      <td>1.845066</td>\n",
       "      <td>1.980953</td>\n",
       "      <td>-4.071136</td>\n",
       "      <td>-0.813039</td>\n",
       "      <td>-4.071136</td>\n",
       "      <td>5.146081</td>\n",
       "      <td>-4.064260</td>\n",
       "    </tr>\n",
       "    <tr>\n",
       "      <th>5</th>\n",
       "      <td>4.525075</td>\n",
       "      <td>-2.372377</td>\n",
       "      <td>2.479653</td>\n",
       "      <td>-0.292936</td>\n",
       "      <td>1.108863</td>\n",
       "      <td>-3.065524</td>\n",
       "      <td>-2.842381</td>\n",
       "      <td>0.376495</td>\n",
       "      <td>0.572062</td>\n",
       "      <td>1.278281</td>\n",
       "      <td>-4.451819</td>\n",
       "      <td>0.712967</td>\n",
       "      <td>-1.679230</td>\n",
       "      <td>4.764504</td>\n",
       "      <td>-1.113632</td>\n",
       "    </tr>\n",
       "  </tbody>\n",
       "</table>\n",
       "</div>"
      ],
      "text/plain": [
       "       SiO2      TiO2     Al2O3     Fe2O3       FeO       MnO       MgO  \\\n",
       "1  5.116216 -2.494637  3.042697  0.229942  1.266563 -3.880932 -0.192052   \n",
       "2  5.027136 -1.657475  2.957645 -1.126847  0.065291 -3.266913 -0.271181   \n",
       "3  4.900117 -2.476641  2.810616 -1.313490  1.067213 -3.392932 -1.601172   \n",
       "4  4.911676 -2.684842  2.799955  0.673796  0.246352 -1.768551 -0.264473   \n",
       "5  4.525075 -2.372377  2.479653 -0.292936  1.108863 -3.065524 -2.842381   \n",
       "\n",
       "        CaO      Na2O       K2O      P2O5      l.i.       oth       sum  \\\n",
       "1  0.126402  1.417386  2.002391 -3.880932 -0.325583 -3.880932  5.331906   \n",
       "2 -0.404712  1.478019  2.274350 -2.350623 -0.048037 -3.960060  5.246874   \n",
       "3 -1.447021  0.231409  2.335543 -4.086079  0.538894 -2.006637  5.124661   \n",
       "4  0.133557  1.845066  1.980953 -4.071136 -0.813039 -4.071136  5.146081   \n",
       "5  0.376495  0.572062  1.278281 -4.451819  0.712967 -1.679230  4.764504   \n",
       "\n",
       "         hs  \n",
       "1 -3.878435  \n",
       "2 -3.963466  \n",
       "3 -0.684482  \n",
       "4 -4.064260  \n",
       "5 -1.113632  "
      ]
     },
     "execution_count": 16,
     "metadata": {},
     "output_type": "execute_result"
    }
   ],
   "source": [
    "mineralogy_clr = preproc.clr(mineralogy)\n",
    "mineralogy_clr.head()"
   ]
  },
  {
   "cell_type": "markdown",
   "metadata": {},
   "source": [
    "### Principal Component Analysis (PCA)"
   ]
  },
  {
   "cell_type": "raw",
   "metadata": {},
   "source": [
    "mineralogy_clr['SiO2'] = mineralogy_clr['SiO2'].fillna(0.000001)\n",
    "mineralogy_clr['TiO2'] = mineralogy_clr['TiO2'].fillna(0.000001)\n",
    "mineralogy_clr['Al2O3'] = mineralogy_clr['Al2O3'].fillna(0.000001)\n",
    "mineralogy_clr['Fe2O3'] = mineralogy_clr['Fe2O3'].fillna(0.000001)\n",
    "mineralogy_clr['FeO'] = mineralogy_clr['FeO'].fillna(0.000001)\n",
    "mineralogy_clr['MnO'] = mineralogy_clr['MnO'].fillna(0.000001)\n",
    "mineralogy_clr['MgO'] = mineralogy_clr['MgO'].fillna(0.000001)\n",
    "mineralogy_clr['Na2O'] = mineralogy_clr['Na2O'].fillna(0.000001)\n",
    "mineralogy_clr['K2O'] = mineralogy_clr['K2O'].fillna(0.000001)\n",
    "mineralogy_clr['P2O5'] = mineralogy_clr['P2O5'].fillna(0.000001)\n",
    "mineralogy_clr['l.i.'] = mineralogy_clr['l.i.'].fillna(0.000001)\n",
    "mineralogy_clr['oth'] = mineralogy_clr['oth'].fillna(0.000001)\n",
    "mineralogy_clr['hs'] = mineralogy_clr['hs'].fillna(0.000001)"
   ]
  },
  {
   "cell_type": "code",
   "execution_count": 17,
   "metadata": {},
   "outputs": [
    {
     "name": "stdout",
     "output_type": "stream",
     "text": [
      "9 PCA components  out of 15 components with variance sum 0.966625886419962 needed for obtaining sum of variance > 0.95\n"
     ]
    },
    {
     "data": {
      "text/plain": [
       "array([2.72769107e-01, 1.98486337e-01, 1.35269270e-01, 1.11034812e-01,\n",
       "       8.48676592e-02, 5.96963124e-02, 4.62857519e-02, 3.20709944e-02,\n",
       "       2.61456423e-02, 1.88742451e-02, 1.07280680e-02, 3.03849513e-03,\n",
       "       7.04237437e-04, 2.90679570e-05, 1.71494552e-32])"
      ]
     },
     "execution_count": 17,
     "metadata": {},
     "output_type": "execute_result"
    }
   ],
   "source": [
    "mineralogy_pca = preproc.pca(mineralogy_clr)\n",
    "preproc.pca_variance(mineralogy_pca)"
   ]
  },
  {
   "cell_type": "code",
   "execution_count": 18,
   "metadata": {},
   "outputs": [],
   "source": [
    "mineralogy_pca_df = preproc.create_pca_df(mineralogy_pca, mineralogy_clr)"
   ]
  },
  {
   "cell_type": "code",
   "execution_count": 19,
   "metadata": {},
   "outputs": [
    {
     "data": {
      "text/html": [
       "<div>\n",
       "<style scoped>\n",
       "    .dataframe tbody tr th:only-of-type {\n",
       "        vertical-align: middle;\n",
       "    }\n",
       "\n",
       "    .dataframe tbody tr th {\n",
       "        vertical-align: top;\n",
       "    }\n",
       "\n",
       "    .dataframe thead th {\n",
       "        text-align: right;\n",
       "    }\n",
       "</style>\n",
       "<table border=\"1\" class=\"dataframe\">\n",
       "  <thead>\n",
       "    <tr style=\"text-align: right;\">\n",
       "      <th></th>\n",
       "      <th>PC01</th>\n",
       "      <th>PC02</th>\n",
       "      <th>PC03</th>\n",
       "      <th>PC04</th>\n",
       "      <th>PC05</th>\n",
       "      <th>PC06</th>\n",
       "      <th>PC07</th>\n",
       "      <th>PC08</th>\n",
       "      <th>PC09</th>\n",
       "      <th>PC10</th>\n",
       "      <th>PC11</th>\n",
       "      <th>PC12</th>\n",
       "      <th>PC13</th>\n",
       "      <th>PC14</th>\n",
       "      <th>PC15</th>\n",
       "    </tr>\n",
       "  </thead>\n",
       "  <tbody>\n",
       "    <tr>\n",
       "      <th>1</th>\n",
       "      <td>0.070870</td>\n",
       "      <td>-1.570739</td>\n",
       "      <td>-0.662051</td>\n",
       "      <td>0.609276</td>\n",
       "      <td>0.342458</td>\n",
       "      <td>-0.268580</td>\n",
       "      <td>-1.071697</td>\n",
       "      <td>0.923562</td>\n",
       "      <td>0.139705</td>\n",
       "      <td>-1.049387</td>\n",
       "      <td>-0.157287</td>\n",
       "      <td>0.386721</td>\n",
       "      <td>0.210287</td>\n",
       "      <td>0.012389</td>\n",
       "      <td>4.991755e-16</td>\n",
       "    </tr>\n",
       "    <tr>\n",
       "      <th>2</th>\n",
       "      <td>-0.261688</td>\n",
       "      <td>-1.375756</td>\n",
       "      <td>0.805870</td>\n",
       "      <td>-0.300059</td>\n",
       "      <td>0.759149</td>\n",
       "      <td>-0.675690</td>\n",
       "      <td>-0.451482</td>\n",
       "      <td>0.306834</td>\n",
       "      <td>0.781251</td>\n",
       "      <td>0.542305</td>\n",
       "      <td>-0.157483</td>\n",
       "      <td>0.341606</td>\n",
       "      <td>0.209525</td>\n",
       "      <td>0.039844</td>\n",
       "      <td>2.172231e-16</td>\n",
       "    </tr>\n",
       "    <tr>\n",
       "      <th>3</th>\n",
       "      <td>3.914195</td>\n",
       "      <td>-1.572119</td>\n",
       "      <td>0.813464</td>\n",
       "      <td>1.076293</td>\n",
       "      <td>0.784873</td>\n",
       "      <td>-1.234797</td>\n",
       "      <td>0.391221</td>\n",
       "      <td>-0.305773</td>\n",
       "      <td>0.900094</td>\n",
       "      <td>-1.047324</td>\n",
       "      <td>-0.883750</td>\n",
       "      <td>0.863245</td>\n",
       "      <td>0.139512</td>\n",
       "      <td>0.048587</td>\n",
       "      <td>5.252676e-16</td>\n",
       "    </tr>\n",
       "    <tr>\n",
       "      <th>4</th>\n",
       "      <td>-0.160643</td>\n",
       "      <td>-1.815379</td>\n",
       "      <td>-1.297618</td>\n",
       "      <td>0.321477</td>\n",
       "      <td>-0.189479</td>\n",
       "      <td>0.327796</td>\n",
       "      <td>0.756335</td>\n",
       "      <td>1.567153</td>\n",
       "      <td>0.233893</td>\n",
       "      <td>0.037679</td>\n",
       "      <td>-0.114667</td>\n",
       "      <td>-0.074479</td>\n",
       "      <td>0.277424</td>\n",
       "      <td>0.028466</td>\n",
       "      <td>-1.286639e-16</td>\n",
       "    </tr>\n",
       "    <tr>\n",
       "      <th>5</th>\n",
       "      <td>3.508039</td>\n",
       "      <td>-1.311824</td>\n",
       "      <td>0.204961</td>\n",
       "      <td>1.717288</td>\n",
       "      <td>-0.080573</td>\n",
       "      <td>-1.328450</td>\n",
       "      <td>1.018126</td>\n",
       "      <td>-0.541024</td>\n",
       "      <td>-1.417501</td>\n",
       "      <td>-1.140806</td>\n",
       "      <td>-0.429481</td>\n",
       "      <td>0.342445</td>\n",
       "      <td>0.272092</td>\n",
       "      <td>0.014137</td>\n",
       "      <td>7.446751e-16</td>\n",
       "    </tr>\n",
       "    <tr>\n",
       "      <th>...</th>\n",
       "      <td>...</td>\n",
       "      <td>...</td>\n",
       "      <td>...</td>\n",
       "      <td>...</td>\n",
       "      <td>...</td>\n",
       "      <td>...</td>\n",
       "      <td>...</td>\n",
       "      <td>...</td>\n",
       "      <td>...</td>\n",
       "      <td>...</td>\n",
       "      <td>...</td>\n",
       "      <td>...</td>\n",
       "      <td>...</td>\n",
       "      <td>...</td>\n",
       "      <td>...</td>\n",
       "    </tr>\n",
       "    <tr>\n",
       "      <th>4655</th>\n",
       "      <td>-0.006406</td>\n",
       "      <td>2.916627</td>\n",
       "      <td>-0.195252</td>\n",
       "      <td>-1.112546</td>\n",
       "      <td>-1.041502</td>\n",
       "      <td>-0.522344</td>\n",
       "      <td>0.727264</td>\n",
       "      <td>0.878206</td>\n",
       "      <td>-0.288274</td>\n",
       "      <td>-0.425628</td>\n",
       "      <td>0.025780</td>\n",
       "      <td>-0.221353</td>\n",
       "      <td>-0.205672</td>\n",
       "      <td>0.066938</td>\n",
       "      <td>-1.660513e-16</td>\n",
       "    </tr>\n",
       "    <tr>\n",
       "      <th>4656</th>\n",
       "      <td>-2.943692</td>\n",
       "      <td>2.152769</td>\n",
       "      <td>-0.382931</td>\n",
       "      <td>0.289568</td>\n",
       "      <td>-0.498874</td>\n",
       "      <td>0.052471</td>\n",
       "      <td>-0.014788</td>\n",
       "      <td>0.022861</td>\n",
       "      <td>-0.220074</td>\n",
       "      <td>-0.690008</td>\n",
       "      <td>0.068836</td>\n",
       "      <td>0.207449</td>\n",
       "      <td>-0.131385</td>\n",
       "      <td>0.085468</td>\n",
       "      <td>4.239758e-16</td>\n",
       "    </tr>\n",
       "    <tr>\n",
       "      <th>4657</th>\n",
       "      <td>0.390174</td>\n",
       "      <td>3.309386</td>\n",
       "      <td>0.031281</td>\n",
       "      <td>-0.029892</td>\n",
       "      <td>-1.308320</td>\n",
       "      <td>-0.381930</td>\n",
       "      <td>0.393931</td>\n",
       "      <td>0.030935</td>\n",
       "      <td>0.068661</td>\n",
       "      <td>-0.155013</td>\n",
       "      <td>-0.229203</td>\n",
       "      <td>0.029254</td>\n",
       "      <td>-0.115538</td>\n",
       "      <td>0.087171</td>\n",
       "      <td>1.345464e-16</td>\n",
       "    </tr>\n",
       "    <tr>\n",
       "      <th>4658</th>\n",
       "      <td>0.424394</td>\n",
       "      <td>3.407414</td>\n",
       "      <td>-0.188329</td>\n",
       "      <td>-0.859408</td>\n",
       "      <td>-0.620405</td>\n",
       "      <td>-1.057895</td>\n",
       "      <td>0.184711</td>\n",
       "      <td>-0.269273</td>\n",
       "      <td>-0.595109</td>\n",
       "      <td>-0.036959</td>\n",
       "      <td>0.622897</td>\n",
       "      <td>-0.002238</td>\n",
       "      <td>-0.274277</td>\n",
       "      <td>0.062982</td>\n",
       "      <td>4.152935e-16</td>\n",
       "    </tr>\n",
       "    <tr>\n",
       "      <th>4659</th>\n",
       "      <td>1.333205</td>\n",
       "      <td>2.646308</td>\n",
       "      <td>-2.146303</td>\n",
       "      <td>2.259293</td>\n",
       "      <td>-1.082918</td>\n",
       "      <td>0.405364</td>\n",
       "      <td>-2.010413</td>\n",
       "      <td>0.022675</td>\n",
       "      <td>-0.687408</td>\n",
       "      <td>-0.606494</td>\n",
       "      <td>0.795147</td>\n",
       "      <td>0.296495</td>\n",
       "      <td>-0.206530</td>\n",
       "      <td>0.090185</td>\n",
       "      <td>1.936140e-16</td>\n",
       "    </tr>\n",
       "  </tbody>\n",
       "</table>\n",
       "<p>4659 rows × 15 columns</p>\n",
       "</div>"
      ],
      "text/plain": [
       "          PC01      PC02      PC03      PC04      PC05      PC06      PC07  \\\n",
       "1     0.070870 -1.570739 -0.662051  0.609276  0.342458 -0.268580 -1.071697   \n",
       "2    -0.261688 -1.375756  0.805870 -0.300059  0.759149 -0.675690 -0.451482   \n",
       "3     3.914195 -1.572119  0.813464  1.076293  0.784873 -1.234797  0.391221   \n",
       "4    -0.160643 -1.815379 -1.297618  0.321477 -0.189479  0.327796  0.756335   \n",
       "5     3.508039 -1.311824  0.204961  1.717288 -0.080573 -1.328450  1.018126   \n",
       "...        ...       ...       ...       ...       ...       ...       ...   \n",
       "4655 -0.006406  2.916627 -0.195252 -1.112546 -1.041502 -0.522344  0.727264   \n",
       "4656 -2.943692  2.152769 -0.382931  0.289568 -0.498874  0.052471 -0.014788   \n",
       "4657  0.390174  3.309386  0.031281 -0.029892 -1.308320 -0.381930  0.393931   \n",
       "4658  0.424394  3.407414 -0.188329 -0.859408 -0.620405 -1.057895  0.184711   \n",
       "4659  1.333205  2.646308 -2.146303  2.259293 -1.082918  0.405364 -2.010413   \n",
       "\n",
       "          PC08      PC09      PC10      PC11      PC12      PC13      PC14  \\\n",
       "1     0.923562  0.139705 -1.049387 -0.157287  0.386721  0.210287  0.012389   \n",
       "2     0.306834  0.781251  0.542305 -0.157483  0.341606  0.209525  0.039844   \n",
       "3    -0.305773  0.900094 -1.047324 -0.883750  0.863245  0.139512  0.048587   \n",
       "4     1.567153  0.233893  0.037679 -0.114667 -0.074479  0.277424  0.028466   \n",
       "5    -0.541024 -1.417501 -1.140806 -0.429481  0.342445  0.272092  0.014137   \n",
       "...        ...       ...       ...       ...       ...       ...       ...   \n",
       "4655  0.878206 -0.288274 -0.425628  0.025780 -0.221353 -0.205672  0.066938   \n",
       "4656  0.022861 -0.220074 -0.690008  0.068836  0.207449 -0.131385  0.085468   \n",
       "4657  0.030935  0.068661 -0.155013 -0.229203  0.029254 -0.115538  0.087171   \n",
       "4658 -0.269273 -0.595109 -0.036959  0.622897 -0.002238 -0.274277  0.062982   \n",
       "4659  0.022675 -0.687408 -0.606494  0.795147  0.296495 -0.206530  0.090185   \n",
       "\n",
       "              PC15  \n",
       "1     4.991755e-16  \n",
       "2     2.172231e-16  \n",
       "3     5.252676e-16  \n",
       "4    -1.286639e-16  \n",
       "5     7.446751e-16  \n",
       "...            ...  \n",
       "4655 -1.660513e-16  \n",
       "4656  4.239758e-16  \n",
       "4657  1.345464e-16  \n",
       "4658  4.152935e-16  \n",
       "4659  1.936140e-16  \n",
       "\n",
       "[4659 rows x 15 columns]"
      ]
     },
     "execution_count": 19,
     "metadata": {},
     "output_type": "execute_result"
    }
   ],
   "source": [
    "mineralogy_pca_df"
   ]
  },
  {
   "cell_type": "markdown",
   "metadata": {},
   "source": [
    "____"
   ]
  },
  {
   "cell_type": "markdown",
   "metadata": {},
   "source": [
    "## Coordinates"
   ]
  },
  {
   "cell_type": "code",
   "execution_count": 24,
   "metadata": {},
   "outputs": [],
   "source": [
    "coordinates = pd.read_excel(\"../_DATA/full_with_coordinates.xlsx\", index_col=0, usecols=[0, 1, 2, 3])"
   ]
  },
  {
   "cell_type": "code",
   "execution_count": 25,
   "metadata": {},
   "outputs": [
    {
     "data": {
      "text/html": [
       "<div>\n",
       "<style scoped>\n",
       "    .dataframe tbody tr th:only-of-type {\n",
       "        vertical-align: middle;\n",
       "    }\n",
       "\n",
       "    .dataframe tbody tr th {\n",
       "        vertical-align: top;\n",
       "    }\n",
       "\n",
       "    .dataframe thead th {\n",
       "        text-align: right;\n",
       "    }\n",
       "</style>\n",
       "<table border=\"1\" class=\"dataframe\">\n",
       "  <thead>\n",
       "    <tr style=\"text-align: right;\">\n",
       "      <th></th>\n",
       "      <th>Latitude</th>\n",
       "      <th>Longitude</th>\n",
       "      <th>past_mer</th>\n",
       "    </tr>\n",
       "  </thead>\n",
       "  <tbody>\n",
       "    <tr>\n",
       "      <th>1</th>\n",
       "      <td>44°31'30.0\"</td>\n",
       "      <td>138°37'30.0\"</td>\n",
       "      <td>NaN</td>\n",
       "    </tr>\n",
       "    <tr>\n",
       "      <th>2</th>\n",
       "      <td>54°12'10.0\"</td>\n",
       "      <td>119°24'0.0\"</td>\n",
       "      <td>NaN</td>\n",
       "    </tr>\n",
       "    <tr>\n",
       "      <th>3</th>\n",
       "      <td>62°36'0.0\"</td>\n",
       "      <td>155°36'0.0\"</td>\n",
       "      <td>NaN</td>\n",
       "    </tr>\n",
       "    <tr>\n",
       "      <th>4</th>\n",
       "      <td>61°35'0.0\"</td>\n",
       "      <td>146°2'0.0\"</td>\n",
       "      <td>NaN</td>\n",
       "    </tr>\n",
       "    <tr>\n",
       "      <th>5</th>\n",
       "      <td>68°55'0.0\"</td>\n",
       "      <td>164°24'0.0\"</td>\n",
       "      <td>NaN</td>\n",
       "    </tr>\n",
       "    <tr>\n",
       "      <th>...</th>\n",
       "      <td>...</td>\n",
       "      <td>...</td>\n",
       "      <td>...</td>\n",
       "    </tr>\n",
       "    <tr>\n",
       "      <th>4655</th>\n",
       "      <td>66°42'0.0\"</td>\n",
       "      <td>164°23'0.0\"</td>\n",
       "      <td>NaN</td>\n",
       "    </tr>\n",
       "    <tr>\n",
       "      <th>4656</th>\n",
       "      <td>46°56'30.0\"</td>\n",
       "      <td>137°5'3.0\"</td>\n",
       "      <td>NaN</td>\n",
       "    </tr>\n",
       "    <tr>\n",
       "      <th>4657</th>\n",
       "      <td>58°12'0.0\"</td>\n",
       "      <td>138°12'0.0\"</td>\n",
       "      <td>NaN</td>\n",
       "    </tr>\n",
       "    <tr>\n",
       "      <th>4658</th>\n",
       "      <td>60°51'0.0\"</td>\n",
       "      <td>147°31'0.0\"</td>\n",
       "      <td>NaN</td>\n",
       "    </tr>\n",
       "    <tr>\n",
       "      <th>4659</th>\n",
       "      <td>66°19'0.0\"</td>\n",
       "      <td>165°30'0.0\"</td>\n",
       "      <td>NaN</td>\n",
       "    </tr>\n",
       "  </tbody>\n",
       "</table>\n",
       "<p>4659 rows × 3 columns</p>\n",
       "</div>"
      ],
      "text/plain": [
       "         Latitude     Longitude past_mer\n",
       "1     44°31'30.0\"  138°37'30.0\"      NaN\n",
       "2     54°12'10.0\"   119°24'0.0\"      NaN\n",
       "3      62°36'0.0\"   155°36'0.0\"      NaN\n",
       "4      61°35'0.0\"    146°2'0.0\"      NaN\n",
       "5      68°55'0.0\"   164°24'0.0\"      NaN\n",
       "...           ...           ...      ...\n",
       "4655   66°42'0.0\"   164°23'0.0\"      NaN\n",
       "4656  46°56'30.0\"    137°5'3.0\"      NaN\n",
       "4657   58°12'0.0\"   138°12'0.0\"      NaN\n",
       "4658   60°51'0.0\"   147°31'0.0\"      NaN\n",
       "4659   66°19'0.0\"   165°30'0.0\"      NaN\n",
       "\n",
       "[4659 rows x 3 columns]"
      ]
     },
     "execution_count": 25,
     "metadata": {},
     "output_type": "execute_result"
    }
   ],
   "source": [
    "coordinates"
   ]
  },
  {
   "cell_type": "code",
   "execution_count": 26,
   "metadata": {},
   "outputs": [],
   "source": [
    "# Delete negative signs in \"Longitude\" column for dms2dec function to work properly\n",
    "coordinates[\"Longitude\"] = coordinates[\"Longitude\"].str.replace(\"-\", \"\")"
   ]
  },
  {
   "cell_type": "code",
   "execution_count": 27,
   "metadata": {},
   "outputs": [],
   "source": [
    "# Include W in \"Longitude\" column\n",
    "sum_ = 0\n",
    "\n",
    "for index, row in coordinates.iterrows():\n",
    "    if (\"W\" in str(row[\"past_mer\"])) or (\"w\" in str(row[\"past_mer\"])):\n",
    "        coordinates.loc[index, \"Longitude\"] = row[\"Longitude\"] + \"W\"\n",
    "        \n",
    "        sum_ += 1"
   ]
  },
  {
   "cell_type": "code",
   "execution_count": 28,
   "metadata": {},
   "outputs": [],
   "source": [
    "# Check that all occurences of \"W\" or \"w\" are catched\n",
    "assert sum_ == int(coordinates[\"past_mer\"].value_counts())"
   ]
  },
  {
   "cell_type": "markdown",
   "metadata": {},
   "source": [
    "### Convert from degrees to decimal format"
   ]
  },
  {
   "cell_type": "code",
   "execution_count": 29,
   "metadata": {},
   "outputs": [],
   "source": [
    "coordinates[\"Y\"] = coordinates.loc[:, \"Latitude\"].apply(cleaning.dms2dec)\n",
    "coordinates[\"X\"] = coordinates.loc[:, \"Longitude\"].apply(cleaning.dms2dec)"
   ]
  },
  {
   "cell_type": "code",
   "execution_count": 30,
   "metadata": {},
   "outputs": [
    {
     "data": {
      "text/plain": [
       "149.38333333333333"
      ]
     },
     "execution_count": 30,
     "metadata": {},
     "output_type": "execute_result"
    }
   ],
   "source": [
    "# Check\n",
    "coordinates.loc[42, \"X\"]"
   ]
  },
  {
   "cell_type": "code",
   "execution_count": 31,
   "metadata": {},
   "outputs": [
    {
     "data": {
      "text/html": [
       "<div>\n",
       "<style scoped>\n",
       "    .dataframe tbody tr th:only-of-type {\n",
       "        vertical-align: middle;\n",
       "    }\n",
       "\n",
       "    .dataframe tbody tr th {\n",
       "        vertical-align: top;\n",
       "    }\n",
       "\n",
       "    .dataframe thead th {\n",
       "        text-align: right;\n",
       "    }\n",
       "</style>\n",
       "<table border=\"1\" class=\"dataframe\">\n",
       "  <thead>\n",
       "    <tr style=\"text-align: right;\">\n",
       "      <th></th>\n",
       "      <th>Latitude</th>\n",
       "      <th>Longitude</th>\n",
       "      <th>past_mer</th>\n",
       "      <th>Y</th>\n",
       "      <th>X</th>\n",
       "    </tr>\n",
       "  </thead>\n",
       "  <tbody>\n",
       "    <tr>\n",
       "      <th>1</th>\n",
       "      <td>44°31'30.0\"</td>\n",
       "      <td>138°37'30.0\"</td>\n",
       "      <td>NaN</td>\n",
       "      <td>44.525000</td>\n",
       "      <td>138.625000</td>\n",
       "    </tr>\n",
       "    <tr>\n",
       "      <th>2</th>\n",
       "      <td>54°12'10.0\"</td>\n",
       "      <td>119°24'0.0\"</td>\n",
       "      <td>NaN</td>\n",
       "      <td>54.202778</td>\n",
       "      <td>119.400000</td>\n",
       "    </tr>\n",
       "    <tr>\n",
       "      <th>3</th>\n",
       "      <td>62°36'0.0\"</td>\n",
       "      <td>155°36'0.0\"</td>\n",
       "      <td>NaN</td>\n",
       "      <td>62.600000</td>\n",
       "      <td>155.600000</td>\n",
       "    </tr>\n",
       "    <tr>\n",
       "      <th>4</th>\n",
       "      <td>61°35'0.0\"</td>\n",
       "      <td>146°2'0.0\"</td>\n",
       "      <td>NaN</td>\n",
       "      <td>61.583333</td>\n",
       "      <td>146.033333</td>\n",
       "    </tr>\n",
       "    <tr>\n",
       "      <th>5</th>\n",
       "      <td>68°55'0.0\"</td>\n",
       "      <td>164°24'0.0\"</td>\n",
       "      <td>NaN</td>\n",
       "      <td>68.916667</td>\n",
       "      <td>164.400000</td>\n",
       "    </tr>\n",
       "    <tr>\n",
       "      <th>...</th>\n",
       "      <td>...</td>\n",
       "      <td>...</td>\n",
       "      <td>...</td>\n",
       "      <td>...</td>\n",
       "      <td>...</td>\n",
       "    </tr>\n",
       "    <tr>\n",
       "      <th>4655</th>\n",
       "      <td>66°42'0.0\"</td>\n",
       "      <td>164°23'0.0\"</td>\n",
       "      <td>NaN</td>\n",
       "      <td>66.700000</td>\n",
       "      <td>164.383333</td>\n",
       "    </tr>\n",
       "    <tr>\n",
       "      <th>4656</th>\n",
       "      <td>46°56'30.0\"</td>\n",
       "      <td>137°5'3.0\"</td>\n",
       "      <td>NaN</td>\n",
       "      <td>46.941667</td>\n",
       "      <td>137.084167</td>\n",
       "    </tr>\n",
       "    <tr>\n",
       "      <th>4657</th>\n",
       "      <td>58°12'0.0\"</td>\n",
       "      <td>138°12'0.0\"</td>\n",
       "      <td>NaN</td>\n",
       "      <td>58.200000</td>\n",
       "      <td>138.200000</td>\n",
       "    </tr>\n",
       "    <tr>\n",
       "      <th>4658</th>\n",
       "      <td>60°51'0.0\"</td>\n",
       "      <td>147°31'0.0\"</td>\n",
       "      <td>NaN</td>\n",
       "      <td>60.850000</td>\n",
       "      <td>147.516667</td>\n",
       "    </tr>\n",
       "    <tr>\n",
       "      <th>4659</th>\n",
       "      <td>66°19'0.0\"</td>\n",
       "      <td>165°30'0.0\"</td>\n",
       "      <td>NaN</td>\n",
       "      <td>66.316667</td>\n",
       "      <td>165.500000</td>\n",
       "    </tr>\n",
       "  </tbody>\n",
       "</table>\n",
       "<p>4659 rows × 5 columns</p>\n",
       "</div>"
      ],
      "text/plain": [
       "         Latitude     Longitude past_mer          Y           X\n",
       "1     44°31'30.0\"  138°37'30.0\"      NaN  44.525000  138.625000\n",
       "2     54°12'10.0\"   119°24'0.0\"      NaN  54.202778  119.400000\n",
       "3      62°36'0.0\"   155°36'0.0\"      NaN  62.600000  155.600000\n",
       "4      61°35'0.0\"    146°2'0.0\"      NaN  61.583333  146.033333\n",
       "5      68°55'0.0\"   164°24'0.0\"      NaN  68.916667  164.400000\n",
       "...           ...           ...      ...        ...         ...\n",
       "4655   66°42'0.0\"   164°23'0.0\"      NaN  66.700000  164.383333\n",
       "4656  46°56'30.0\"    137°5'3.0\"      NaN  46.941667  137.084167\n",
       "4657   58°12'0.0\"   138°12'0.0\"      NaN  58.200000  138.200000\n",
       "4658   60°51'0.0\"   147°31'0.0\"      NaN  60.850000  147.516667\n",
       "4659   66°19'0.0\"   165°30'0.0\"      NaN  66.316667  165.500000\n",
       "\n",
       "[4659 rows x 5 columns]"
      ]
     },
     "execution_count": 31,
     "metadata": {},
     "output_type": "execute_result"
    }
   ],
   "source": [
    "coordinates"
   ]
  },
  {
   "cell_type": "markdown",
   "metadata": {},
   "source": [
    "### adding noise to coordinates"
   ]
  },
  {
   "cell_type": "code",
   "execution_count": 32,
   "metadata": {},
   "outputs": [],
   "source": [
    "coordinates_noise = pd.read_excel(\"../_INTERPOLATION/coordinates_decimal.xlsx\", index_col=0)"
   ]
  },
  {
   "cell_type": "code",
   "execution_count": 33,
   "metadata": {},
   "outputs": [],
   "source": [
    "coordinates_noise = coordinates_noise.rename({\"Y\": \"Y_without_noise\", \"X\": \"X_without_noise\"}, axis=1)"
   ]
  },
  {
   "cell_type": "code",
   "execution_count": 34,
   "metadata": {},
   "outputs": [],
   "source": [
    "# coordinates_noise[\"random_value\"] = np.random.random(size=len(coordinates_noise))\n",
    "# coordinates_noise[\"mean\"] = 0\n",
    "# coordinates_noise[\"std\"] = 0.00007\n",
    "\n",
    "# You don't seem to use the 'random_value' anywhere so commented it\n",
    "# Instead of assigning the mean and std to every row it is much faster to define it once\n",
    "# and then use it when calling the random normal sample.\n",
    "noise_mean = 0\n",
    "noise_std = 0.00007"
   ]
  },
  {
   "cell_type": "code",
   "execution_count": 35,
   "metadata": {},
   "outputs": [],
   "source": [
    "# You can set up your own 'pseudo' random number generator with np.random.RandomState(x)\n",
    "# where x is the random seed that you can choose, I just chose 4343\n",
    "# This way the samples from the normal distribution will be random but will be the same every time you\n",
    "# rerun this cell, so that your results in the second notebook 'Interpolation' will also stay the same\n",
    "# even after rerunning. Otherwise, at every run of the next cell, numpy will choose a new random seed.\n",
    "# You may also find online that people say to just set the RandomState with np.random.seed = 4343\n",
    "# but this will affect every random process you start anywhere and that's not what you want for now\n",
    "pnrg = np.random.RandomState(4343)"
   ]
  },
  {
   "cell_type": "code",
   "execution_count": 36,
   "metadata": {},
   "outputs": [],
   "source": [
    "# coordinates_noise[\"normal_distribution\"] =  np.random.normal(noise_mean, noise_std)\n",
    "\n",
    "# Would sample two random numbers so that the coordinates can change in all direction and not just NE or SW\n",
    "coordinates_noise[\"noise_for_X\"] =  pnrg.normal(noise_mean, noise_std, size=coordinates_noise.shape[0])\n",
    "coordinates_noise[\"noise_for_Y\"] =  pnrg.normal(noise_mean, noise_std, size=coordinates_noise.shape[0])"
   ]
  },
  {
   "cell_type": "code",
   "execution_count": 37,
   "metadata": {},
   "outputs": [],
   "source": [
    "coordinates_noise[\"Y\"] = coordinates_noise[\"Y_without_noise\"] + coordinates_noise[\"noise_for_X\"]\n",
    "coordinates_noise[\"X\"] = coordinates_noise[\"X_without_noise\"] + coordinates_noise[\"noise_for_Y\"]"
   ]
  },
  {
   "cell_type": "code",
   "execution_count": 38,
   "metadata": {},
   "outputs": [
    {
     "data": {
      "text/html": [
       "<div>\n",
       "<style scoped>\n",
       "    .dataframe tbody tr th:only-of-type {\n",
       "        vertical-align: middle;\n",
       "    }\n",
       "\n",
       "    .dataframe tbody tr th {\n",
       "        vertical-align: top;\n",
       "    }\n",
       "\n",
       "    .dataframe thead th {\n",
       "        text-align: right;\n",
       "    }\n",
       "</style>\n",
       "<table border=\"1\" class=\"dataframe\">\n",
       "  <thead>\n",
       "    <tr style=\"text-align: right;\">\n",
       "      <th></th>\n",
       "      <th>Latitude</th>\n",
       "      <th>Longitude</th>\n",
       "      <th>past_mer</th>\n",
       "      <th>Y_without_noise</th>\n",
       "      <th>X_without_noise</th>\n",
       "      <th>noise_for_X</th>\n",
       "      <th>noise_for_Y</th>\n",
       "      <th>Y</th>\n",
       "      <th>X</th>\n",
       "    </tr>\n",
       "  </thead>\n",
       "  <tbody>\n",
       "    <tr>\n",
       "      <th>1</th>\n",
       "      <td>44°31'30.0\"</td>\n",
       "      <td>138°37'30.0\"</td>\n",
       "      <td>NaN</td>\n",
       "      <td>44.525027</td>\n",
       "      <td>138.625027</td>\n",
       "      <td>0.000058</td>\n",
       "      <td>-0.000078</td>\n",
       "      <td>44.525085</td>\n",
       "      <td>138.624949</td>\n",
       "    </tr>\n",
       "    <tr>\n",
       "      <th>2</th>\n",
       "      <td>54°12'10.0\"</td>\n",
       "      <td>119°24'0.0\"</td>\n",
       "      <td>NaN</td>\n",
       "      <td>54.202861</td>\n",
       "      <td>119.400083</td>\n",
       "      <td>0.000016</td>\n",
       "      <td>-0.000237</td>\n",
       "      <td>54.202877</td>\n",
       "      <td>119.399847</td>\n",
       "    </tr>\n",
       "    <tr>\n",
       "      <th>3</th>\n",
       "      <td>62°36'0.0\"</td>\n",
       "      <td>155°36'0.0\"</td>\n",
       "      <td>NaN</td>\n",
       "      <td>62.600001</td>\n",
       "      <td>155.600001</td>\n",
       "      <td>0.000044</td>\n",
       "      <td>-0.000109</td>\n",
       "      <td>62.600044</td>\n",
       "      <td>155.599891</td>\n",
       "    </tr>\n",
       "    <tr>\n",
       "      <th>4</th>\n",
       "      <td>61°35'0.0\"</td>\n",
       "      <td>146°2'0.0\"</td>\n",
       "      <td>NaN</td>\n",
       "      <td>61.583302</td>\n",
       "      <td>146.033302</td>\n",
       "      <td>0.000132</td>\n",
       "      <td>-0.000076</td>\n",
       "      <td>61.583433</td>\n",
       "      <td>146.033226</td>\n",
       "    </tr>\n",
       "    <tr>\n",
       "      <th>5</th>\n",
       "      <td>68°55'0.0\"</td>\n",
       "      <td>164°24'0.0\"</td>\n",
       "      <td>NaN</td>\n",
       "      <td>68.916552</td>\n",
       "      <td>164.399886</td>\n",
       "      <td>-0.000019</td>\n",
       "      <td>-0.000077</td>\n",
       "      <td>68.916533</td>\n",
       "      <td>164.399808</td>\n",
       "    </tr>\n",
       "    <tr>\n",
       "      <th>...</th>\n",
       "      <td>...</td>\n",
       "      <td>...</td>\n",
       "      <td>...</td>\n",
       "      <td>...</td>\n",
       "      <td>...</td>\n",
       "      <td>...</td>\n",
       "      <td>...</td>\n",
       "      <td>...</td>\n",
       "      <td>...</td>\n",
       "    </tr>\n",
       "    <tr>\n",
       "      <th>4655</th>\n",
       "      <td>66°42'0.0\"</td>\n",
       "      <td>164°23'0.0\"</td>\n",
       "      <td>NaN</td>\n",
       "      <td>66.699978</td>\n",
       "      <td>164.383312</td>\n",
       "      <td>-0.000118</td>\n",
       "      <td>0.000014</td>\n",
       "      <td>66.699861</td>\n",
       "      <td>164.383326</td>\n",
       "    </tr>\n",
       "    <tr>\n",
       "      <th>4656</th>\n",
       "      <td>46°56'30.0\"</td>\n",
       "      <td>137°5'3.0\"</td>\n",
       "      <td>NaN</td>\n",
       "      <td>46.941677</td>\n",
       "      <td>137.084177</td>\n",
       "      <td>-0.000016</td>\n",
       "      <td>-0.000020</td>\n",
       "      <td>46.941661</td>\n",
       "      <td>137.084157</td>\n",
       "    </tr>\n",
       "    <tr>\n",
       "      <th>4657</th>\n",
       "      <td>58°12'0.0\"</td>\n",
       "      <td>138°12'0.0\"</td>\n",
       "      <td>NaN</td>\n",
       "      <td>58.199973</td>\n",
       "      <td>138.199973</td>\n",
       "      <td>-0.000079</td>\n",
       "      <td>-0.000040</td>\n",
       "      <td>58.199894</td>\n",
       "      <td>138.199934</td>\n",
       "    </tr>\n",
       "    <tr>\n",
       "      <th>4658</th>\n",
       "      <td>60°51'0.0\"</td>\n",
       "      <td>147°31'0.0\"</td>\n",
       "      <td>NaN</td>\n",
       "      <td>60.849992</td>\n",
       "      <td>147.516659</td>\n",
       "      <td>-0.000163</td>\n",
       "      <td>0.000135</td>\n",
       "      <td>60.849829</td>\n",
       "      <td>147.516794</td>\n",
       "    </tr>\n",
       "    <tr>\n",
       "      <th>4659</th>\n",
       "      <td>66°19'0.0\"</td>\n",
       "      <td>165°30'0.0\"</td>\n",
       "      <td>NaN</td>\n",
       "      <td>66.316727</td>\n",
       "      <td>165.500060</td>\n",
       "      <td>-0.000068</td>\n",
       "      <td>-0.000052</td>\n",
       "      <td>66.316659</td>\n",
       "      <td>165.500009</td>\n",
       "    </tr>\n",
       "  </tbody>\n",
       "</table>\n",
       "<p>4659 rows × 9 columns</p>\n",
       "</div>"
      ],
      "text/plain": [
       "         Latitude     Longitude past_mer  Y_without_noise  X_without_noise  \\\n",
       "1     44°31'30.0\"  138°37'30.0\"      NaN        44.525027       138.625027   \n",
       "2     54°12'10.0\"   119°24'0.0\"      NaN        54.202861       119.400083   \n",
       "3      62°36'0.0\"   155°36'0.0\"      NaN        62.600001       155.600001   \n",
       "4      61°35'0.0\"    146°2'0.0\"      NaN        61.583302       146.033302   \n",
       "5      68°55'0.0\"   164°24'0.0\"      NaN        68.916552       164.399886   \n",
       "...           ...           ...      ...              ...              ...   \n",
       "4655   66°42'0.0\"   164°23'0.0\"      NaN        66.699978       164.383312   \n",
       "4656  46°56'30.0\"    137°5'3.0\"      NaN        46.941677       137.084177   \n",
       "4657   58°12'0.0\"   138°12'0.0\"      NaN        58.199973       138.199973   \n",
       "4658   60°51'0.0\"   147°31'0.0\"      NaN        60.849992       147.516659   \n",
       "4659   66°19'0.0\"   165°30'0.0\"      NaN        66.316727       165.500060   \n",
       "\n",
       "      noise_for_X  noise_for_Y          Y           X  \n",
       "1        0.000058    -0.000078  44.525085  138.624949  \n",
       "2        0.000016    -0.000237  54.202877  119.399847  \n",
       "3        0.000044    -0.000109  62.600044  155.599891  \n",
       "4        0.000132    -0.000076  61.583433  146.033226  \n",
       "5       -0.000019    -0.000077  68.916533  164.399808  \n",
       "...           ...          ...        ...         ...  \n",
       "4655    -0.000118     0.000014  66.699861  164.383326  \n",
       "4656    -0.000016    -0.000020  46.941661  137.084157  \n",
       "4657    -0.000079    -0.000040  58.199894  138.199934  \n",
       "4658    -0.000163     0.000135  60.849829  147.516794  \n",
       "4659    -0.000068    -0.000052  66.316659  165.500009  \n",
       "\n",
       "[4659 rows x 9 columns]"
      ]
     },
     "execution_count": 38,
     "metadata": {},
     "output_type": "execute_result"
    }
   ],
   "source": [
    "# NEW\n",
    "coordinates_noise"
   ]
  },
  {
   "cell_type": "code",
   "execution_count": 39,
   "metadata": {},
   "outputs": [
    {
     "data": {
      "text/html": [
       "<div>\n",
       "<style scoped>\n",
       "    .dataframe tbody tr th:only-of-type {\n",
       "        vertical-align: middle;\n",
       "    }\n",
       "\n",
       "    .dataframe tbody tr th {\n",
       "        vertical-align: top;\n",
       "    }\n",
       "\n",
       "    .dataframe thead th {\n",
       "        text-align: right;\n",
       "    }\n",
       "</style>\n",
       "<table border=\"1\" class=\"dataframe\">\n",
       "  <thead>\n",
       "    <tr style=\"text-align: right;\">\n",
       "      <th></th>\n",
       "      <th>Latitude</th>\n",
       "      <th>Longitude</th>\n",
       "      <th>past_mer</th>\n",
       "      <th>Y_without_noise</th>\n",
       "      <th>X_without_noise</th>\n",
       "      <th>noise_for_X</th>\n",
       "      <th>noise_for_Y</th>\n",
       "      <th>Y</th>\n",
       "      <th>X</th>\n",
       "    </tr>\n",
       "  </thead>\n",
       "  <tbody>\n",
       "    <tr>\n",
       "      <th>1</th>\n",
       "      <td>44°31'30.0\"</td>\n",
       "      <td>138°37'30.0\"</td>\n",
       "      <td>NaN</td>\n",
       "      <td>44.525027</td>\n",
       "      <td>138.625027</td>\n",
       "      <td>0.000058</td>\n",
       "      <td>-0.000078</td>\n",
       "      <td>44.525085</td>\n",
       "      <td>138.624949</td>\n",
       "    </tr>\n",
       "    <tr>\n",
       "      <th>2</th>\n",
       "      <td>54°12'10.0\"</td>\n",
       "      <td>119°24'0.0\"</td>\n",
       "      <td>NaN</td>\n",
       "      <td>54.202861</td>\n",
       "      <td>119.400083</td>\n",
       "      <td>0.000016</td>\n",
       "      <td>-0.000237</td>\n",
       "      <td>54.202877</td>\n",
       "      <td>119.399847</td>\n",
       "    </tr>\n",
       "    <tr>\n",
       "      <th>3</th>\n",
       "      <td>62°36'0.0\"</td>\n",
       "      <td>155°36'0.0\"</td>\n",
       "      <td>NaN</td>\n",
       "      <td>62.600001</td>\n",
       "      <td>155.600001</td>\n",
       "      <td>0.000044</td>\n",
       "      <td>-0.000109</td>\n",
       "      <td>62.600044</td>\n",
       "      <td>155.599891</td>\n",
       "    </tr>\n",
       "    <tr>\n",
       "      <th>4</th>\n",
       "      <td>61°35'0.0\"</td>\n",
       "      <td>146°2'0.0\"</td>\n",
       "      <td>NaN</td>\n",
       "      <td>61.583302</td>\n",
       "      <td>146.033302</td>\n",
       "      <td>0.000132</td>\n",
       "      <td>-0.000076</td>\n",
       "      <td>61.583433</td>\n",
       "      <td>146.033226</td>\n",
       "    </tr>\n",
       "    <tr>\n",
       "      <th>5</th>\n",
       "      <td>68°55'0.0\"</td>\n",
       "      <td>164°24'0.0\"</td>\n",
       "      <td>NaN</td>\n",
       "      <td>68.916552</td>\n",
       "      <td>164.399886</td>\n",
       "      <td>-0.000019</td>\n",
       "      <td>-0.000077</td>\n",
       "      <td>68.916533</td>\n",
       "      <td>164.399808</td>\n",
       "    </tr>\n",
       "    <tr>\n",
       "      <th>...</th>\n",
       "      <td>...</td>\n",
       "      <td>...</td>\n",
       "      <td>...</td>\n",
       "      <td>...</td>\n",
       "      <td>...</td>\n",
       "      <td>...</td>\n",
       "      <td>...</td>\n",
       "      <td>...</td>\n",
       "      <td>...</td>\n",
       "    </tr>\n",
       "    <tr>\n",
       "      <th>4655</th>\n",
       "      <td>66°42'0.0\"</td>\n",
       "      <td>164°23'0.0\"</td>\n",
       "      <td>NaN</td>\n",
       "      <td>66.699978</td>\n",
       "      <td>164.383312</td>\n",
       "      <td>-0.000118</td>\n",
       "      <td>0.000014</td>\n",
       "      <td>66.699861</td>\n",
       "      <td>164.383326</td>\n",
       "    </tr>\n",
       "    <tr>\n",
       "      <th>4656</th>\n",
       "      <td>46°56'30.0\"</td>\n",
       "      <td>137°5'3.0\"</td>\n",
       "      <td>NaN</td>\n",
       "      <td>46.941677</td>\n",
       "      <td>137.084177</td>\n",
       "      <td>-0.000016</td>\n",
       "      <td>-0.000020</td>\n",
       "      <td>46.941661</td>\n",
       "      <td>137.084157</td>\n",
       "    </tr>\n",
       "    <tr>\n",
       "      <th>4657</th>\n",
       "      <td>58°12'0.0\"</td>\n",
       "      <td>138°12'0.0\"</td>\n",
       "      <td>NaN</td>\n",
       "      <td>58.199973</td>\n",
       "      <td>138.199973</td>\n",
       "      <td>-0.000079</td>\n",
       "      <td>-0.000040</td>\n",
       "      <td>58.199894</td>\n",
       "      <td>138.199934</td>\n",
       "    </tr>\n",
       "    <tr>\n",
       "      <th>4658</th>\n",
       "      <td>60°51'0.0\"</td>\n",
       "      <td>147°31'0.0\"</td>\n",
       "      <td>NaN</td>\n",
       "      <td>60.849992</td>\n",
       "      <td>147.516659</td>\n",
       "      <td>-0.000163</td>\n",
       "      <td>0.000135</td>\n",
       "      <td>60.849829</td>\n",
       "      <td>147.516794</td>\n",
       "    </tr>\n",
       "    <tr>\n",
       "      <th>4659</th>\n",
       "      <td>66°19'0.0\"</td>\n",
       "      <td>165°30'0.0\"</td>\n",
       "      <td>NaN</td>\n",
       "      <td>66.316727</td>\n",
       "      <td>165.500060</td>\n",
       "      <td>-0.000068</td>\n",
       "      <td>-0.000052</td>\n",
       "      <td>66.316659</td>\n",
       "      <td>165.500009</td>\n",
       "    </tr>\n",
       "  </tbody>\n",
       "</table>\n",
       "<p>4659 rows × 9 columns</p>\n",
       "</div>"
      ],
      "text/plain": [
       "         Latitude     Longitude past_mer  Y_without_noise  X_without_noise  \\\n",
       "1     44°31'30.0\"  138°37'30.0\"      NaN        44.525027       138.625027   \n",
       "2     54°12'10.0\"   119°24'0.0\"      NaN        54.202861       119.400083   \n",
       "3      62°36'0.0\"   155°36'0.0\"      NaN        62.600001       155.600001   \n",
       "4      61°35'0.0\"    146°2'0.0\"      NaN        61.583302       146.033302   \n",
       "5      68°55'0.0\"   164°24'0.0\"      NaN        68.916552       164.399886   \n",
       "...           ...           ...      ...              ...              ...   \n",
       "4655   66°42'0.0\"   164°23'0.0\"      NaN        66.699978       164.383312   \n",
       "4656  46°56'30.0\"    137°5'3.0\"      NaN        46.941677       137.084177   \n",
       "4657   58°12'0.0\"   138°12'0.0\"      NaN        58.199973       138.199973   \n",
       "4658   60°51'0.0\"   147°31'0.0\"      NaN        60.849992       147.516659   \n",
       "4659   66°19'0.0\"   165°30'0.0\"      NaN        66.316727       165.500060   \n",
       "\n",
       "      noise_for_X  noise_for_Y          Y           X  \n",
       "1        0.000058    -0.000078  44.525085  138.624949  \n",
       "2        0.000016    -0.000237  54.202877  119.399847  \n",
       "3        0.000044    -0.000109  62.600044  155.599891  \n",
       "4        0.000132    -0.000076  61.583433  146.033226  \n",
       "5       -0.000019    -0.000077  68.916533  164.399808  \n",
       "...           ...          ...        ...         ...  \n",
       "4655    -0.000118     0.000014  66.699861  164.383326  \n",
       "4656    -0.000016    -0.000020  46.941661  137.084157  \n",
       "4657    -0.000079    -0.000040  58.199894  138.199934  \n",
       "4658    -0.000163     0.000135  60.849829  147.516794  \n",
       "4659    -0.000068    -0.000052  66.316659  165.500009  \n",
       "\n",
       "[4659 rows x 9 columns]"
      ]
     },
     "execution_count": 39,
     "metadata": {},
     "output_type": "execute_result"
    }
   ],
   "source": [
    "# OLD\n",
    "coordinates_noise"
   ]
  },
  {
   "cell_type": "code",
   "execution_count": 40,
   "metadata": {},
   "outputs": [],
   "source": [
    "coordinates_noise.to_excel(\"../_DATA/full_with_coordinates_noice_final_new.xlsx\")"
   ]
  },
  {
   "cell_type": "code",
   "execution_count": 39,
   "metadata": {},
   "outputs": [],
   "source": [
    "coordinates = pd.read_excel(\"../_DATA/full_with_coordinates_noice_final.xlsx\", index_col=0, usecols=[0, 1, 2, 3, 10, 11])"
   ]
  },
  {
   "cell_type": "code",
   "execution_count": 41,
   "metadata": {},
   "outputs": [
    {
     "data": {
      "text/html": [
       "<div>\n",
       "<style scoped>\n",
       "    .dataframe tbody tr th:only-of-type {\n",
       "        vertical-align: middle;\n",
       "    }\n",
       "\n",
       "    .dataframe tbody tr th {\n",
       "        vertical-align: top;\n",
       "    }\n",
       "\n",
       "    .dataframe thead th {\n",
       "        text-align: right;\n",
       "    }\n",
       "</style>\n",
       "<table border=\"1\" class=\"dataframe\">\n",
       "  <thead>\n",
       "    <tr style=\"text-align: right;\">\n",
       "      <th></th>\n",
       "      <th>Latitude</th>\n",
       "      <th>Longitude</th>\n",
       "      <th>past_mer</th>\n",
       "      <th>Y</th>\n",
       "      <th>X</th>\n",
       "    </tr>\n",
       "  </thead>\n",
       "  <tbody>\n",
       "    <tr>\n",
       "      <th>1</th>\n",
       "      <td>44°31'30.0\"</td>\n",
       "      <td>138°37'30.0\"</td>\n",
       "      <td>NaN</td>\n",
       "      <td>44.525000</td>\n",
       "      <td>138.625000</td>\n",
       "    </tr>\n",
       "    <tr>\n",
       "      <th>2</th>\n",
       "      <td>54°12'10.0\"</td>\n",
       "      <td>119°24'0.0\"</td>\n",
       "      <td>NaN</td>\n",
       "      <td>54.202778</td>\n",
       "      <td>119.400000</td>\n",
       "    </tr>\n",
       "    <tr>\n",
       "      <th>3</th>\n",
       "      <td>62°36'0.0\"</td>\n",
       "      <td>155°36'0.0\"</td>\n",
       "      <td>NaN</td>\n",
       "      <td>62.600000</td>\n",
       "      <td>155.600000</td>\n",
       "    </tr>\n",
       "    <tr>\n",
       "      <th>4</th>\n",
       "      <td>61°35'0.0\"</td>\n",
       "      <td>146°2'0.0\"</td>\n",
       "      <td>NaN</td>\n",
       "      <td>61.583333</td>\n",
       "      <td>146.033333</td>\n",
       "    </tr>\n",
       "    <tr>\n",
       "      <th>5</th>\n",
       "      <td>68°55'0.0\"</td>\n",
       "      <td>164°24'0.0\"</td>\n",
       "      <td>NaN</td>\n",
       "      <td>68.916667</td>\n",
       "      <td>164.400000</td>\n",
       "    </tr>\n",
       "    <tr>\n",
       "      <th>...</th>\n",
       "      <td>...</td>\n",
       "      <td>...</td>\n",
       "      <td>...</td>\n",
       "      <td>...</td>\n",
       "      <td>...</td>\n",
       "    </tr>\n",
       "    <tr>\n",
       "      <th>4655</th>\n",
       "      <td>66°42'0.0\"</td>\n",
       "      <td>164°23'0.0\"</td>\n",
       "      <td>NaN</td>\n",
       "      <td>66.700000</td>\n",
       "      <td>164.383333</td>\n",
       "    </tr>\n",
       "    <tr>\n",
       "      <th>4656</th>\n",
       "      <td>46°56'30.0\"</td>\n",
       "      <td>137°5'3.0\"</td>\n",
       "      <td>NaN</td>\n",
       "      <td>46.941667</td>\n",
       "      <td>137.084167</td>\n",
       "    </tr>\n",
       "    <tr>\n",
       "      <th>4657</th>\n",
       "      <td>58°12'0.0\"</td>\n",
       "      <td>138°12'0.0\"</td>\n",
       "      <td>NaN</td>\n",
       "      <td>58.200000</td>\n",
       "      <td>138.200000</td>\n",
       "    </tr>\n",
       "    <tr>\n",
       "      <th>4658</th>\n",
       "      <td>60°51'0.0\"</td>\n",
       "      <td>147°31'0.0\"</td>\n",
       "      <td>NaN</td>\n",
       "      <td>60.850000</td>\n",
       "      <td>147.516667</td>\n",
       "    </tr>\n",
       "    <tr>\n",
       "      <th>4659</th>\n",
       "      <td>66°19'0.0\"</td>\n",
       "      <td>165°30'0.0\"</td>\n",
       "      <td>NaN</td>\n",
       "      <td>66.316667</td>\n",
       "      <td>165.500000</td>\n",
       "    </tr>\n",
       "  </tbody>\n",
       "</table>\n",
       "<p>4659 rows × 5 columns</p>\n",
       "</div>"
      ],
      "text/plain": [
       "         Latitude     Longitude past_mer          Y           X\n",
       "1     44°31'30.0\"  138°37'30.0\"      NaN  44.525000  138.625000\n",
       "2     54°12'10.0\"   119°24'0.0\"      NaN  54.202778  119.400000\n",
       "3      62°36'0.0\"   155°36'0.0\"      NaN  62.600000  155.600000\n",
       "4      61°35'0.0\"    146°2'0.0\"      NaN  61.583333  146.033333\n",
       "5      68°55'0.0\"   164°24'0.0\"      NaN  68.916667  164.400000\n",
       "...           ...           ...      ...        ...         ...\n",
       "4655   66°42'0.0\"   164°23'0.0\"      NaN  66.700000  164.383333\n",
       "4656  46°56'30.0\"    137°5'3.0\"      NaN  46.941667  137.084167\n",
       "4657   58°12'0.0\"   138°12'0.0\"      NaN  58.200000  138.200000\n",
       "4658   60°51'0.0\"   147°31'0.0\"      NaN  60.850000  147.516667\n",
       "4659   66°19'0.0\"   165°30'0.0\"      NaN  66.316667  165.500000\n",
       "\n",
       "[4659 rows x 5 columns]"
      ]
     },
     "execution_count": 41,
     "metadata": {},
     "output_type": "execute_result"
    }
   ],
   "source": [
    "coordinates"
   ]
  },
  {
   "cell_type": "markdown",
   "metadata": {},
   "source": [
    "### Convert to UTM coordinates"
   ]
  },
  {
   "cell_type": "code",
   "execution_count": 42,
   "metadata": {},
   "outputs": [],
   "source": [
    "coordinates_utm = coordinates.apply(lambda row : utm.from_latlon(row[\"Y\"], row[\"X\"], force_zone_number=48, force_zone_letter=\"U\"), axis=1)\n",
    "coordinates_utm = coordinates_utm.apply(pd.Series)\n",
    "coordinates_utm.columns = [\"Y_UTM\", \"X_UTM\", \"ZoneNumber\", \"ZoneLetter\"]"
   ]
  },
  {
   "cell_type": "code",
   "execution_count": 43,
   "metadata": {},
   "outputs": [
    {
     "data": {
      "text/html": [
       "<div>\n",
       "<style scoped>\n",
       "    .dataframe tbody tr th:only-of-type {\n",
       "        vertical-align: middle;\n",
       "    }\n",
       "\n",
       "    .dataframe tbody tr th {\n",
       "        vertical-align: top;\n",
       "    }\n",
       "\n",
       "    .dataframe thead th {\n",
       "        text-align: right;\n",
       "    }\n",
       "</style>\n",
       "<table border=\"1\" class=\"dataframe\">\n",
       "  <thead>\n",
       "    <tr style=\"text-align: right;\">\n",
       "      <th></th>\n",
       "      <th>Y_UTM</th>\n",
       "      <th>X_UTM</th>\n",
       "      <th>ZoneNumber</th>\n",
       "      <th>ZoneLetter</th>\n",
       "    </tr>\n",
       "  </thead>\n",
       "  <tbody>\n",
       "    <tr>\n",
       "      <th>1</th>\n",
       "      <td>3.166849e+06</td>\n",
       "      <td>5.512831e+06</td>\n",
       "      <td>48</td>\n",
       "      <td>U</td>\n",
       "    </tr>\n",
       "    <tr>\n",
       "      <th>2</th>\n",
       "      <td>1.436110e+06</td>\n",
       "      <td>6.102351e+06</td>\n",
       "      <td>48</td>\n",
       "      <td>U</td>\n",
       "    </tr>\n",
       "    <tr>\n",
       "      <th>3</th>\n",
       "      <td>2.874851e+06</td>\n",
       "      <td>7.966640e+06</td>\n",
       "      <td>48</td>\n",
       "      <td>U</td>\n",
       "    </tr>\n",
       "    <tr>\n",
       "      <th>4</th>\n",
       "      <td>2.565648e+06</td>\n",
       "      <td>7.521212e+06</td>\n",
       "      <td>48</td>\n",
       "      <td>U</td>\n",
       "    </tr>\n",
       "    <tr>\n",
       "      <th>5</th>\n",
       "      <td>2.540724e+06</td>\n",
       "      <td>8.757740e+06</td>\n",
       "      <td>48</td>\n",
       "      <td>U</td>\n",
       "    </tr>\n",
       "    <tr>\n",
       "      <th>...</th>\n",
       "      <td>...</td>\n",
       "      <td>...</td>\n",
       "      <td>...</td>\n",
       "      <td>...</td>\n",
       "    </tr>\n",
       "    <tr>\n",
       "      <th>4655</th>\n",
       "      <td>2.759727e+06</td>\n",
       "      <td>8.616852e+06</td>\n",
       "      <td>48</td>\n",
       "      <td>U</td>\n",
       "    </tr>\n",
       "    <tr>\n",
       "      <th>4656</th>\n",
       "      <td>2.927125e+06</td>\n",
       "      <td>5.721723e+06</td>\n",
       "      <td>48</td>\n",
       "      <td>U</td>\n",
       "    </tr>\n",
       "    <tr>\n",
       "      <th>4657</th>\n",
       "      <td>2.397980e+06</td>\n",
       "      <td>6.939539e+06</td>\n",
       "      <td>48</td>\n",
       "      <td>U</td>\n",
       "    </tr>\n",
       "    <tr>\n",
       "      <th>4658</th>\n",
       "      <td>2.684980e+06</td>\n",
       "      <td>7.505266e+06</td>\n",
       "      <td>48</td>\n",
       "      <td>U</td>\n",
       "    </tr>\n",
       "    <tr>\n",
       "      <th>4659</th>\n",
       "      <td>2.825331e+06</td>\n",
       "      <td>8.637312e+06</td>\n",
       "      <td>48</td>\n",
       "      <td>U</td>\n",
       "    </tr>\n",
       "  </tbody>\n",
       "</table>\n",
       "<p>4659 rows × 4 columns</p>\n",
       "</div>"
      ],
      "text/plain": [
       "             Y_UTM         X_UTM  ZoneNumber ZoneLetter\n",
       "1     3.166849e+06  5.512831e+06          48          U\n",
       "2     1.436110e+06  6.102351e+06          48          U\n",
       "3     2.874851e+06  7.966640e+06          48          U\n",
       "4     2.565648e+06  7.521212e+06          48          U\n",
       "5     2.540724e+06  8.757740e+06          48          U\n",
       "...            ...           ...         ...        ...\n",
       "4655  2.759727e+06  8.616852e+06          48          U\n",
       "4656  2.927125e+06  5.721723e+06          48          U\n",
       "4657  2.397980e+06  6.939539e+06          48          U\n",
       "4658  2.684980e+06  7.505266e+06          48          U\n",
       "4659  2.825331e+06  8.637312e+06          48          U\n",
       "\n",
       "[4659 rows x 4 columns]"
      ]
     },
     "execution_count": 43,
     "metadata": {},
     "output_type": "execute_result"
    }
   ],
   "source": [
    "coordinates_utm"
   ]
  },
  {
   "cell_type": "code",
   "execution_count": 44,
   "metadata": {},
   "outputs": [
    {
     "data": {
      "text/plain": [
       "48    4659\n",
       "Name: ZoneNumber, dtype: int64"
      ]
     },
     "execution_count": 44,
     "metadata": {},
     "output_type": "execute_result"
    }
   ],
   "source": [
    "coordinates_utm[\"ZoneNumber\"].value_counts()"
   ]
  },
  {
   "cell_type": "code",
   "execution_count": 45,
   "metadata": {},
   "outputs": [
    {
     "data": {
      "text/plain": [
       "U    4659\n",
       "Name: ZoneLetter, dtype: int64"
      ]
     },
     "execution_count": 45,
     "metadata": {},
     "output_type": "execute_result"
    }
   ],
   "source": [
    "coordinates_utm[\"ZoneLetter\"].value_counts()"
   ]
  },
  {
   "cell_type": "code",
   "execution_count": 46,
   "metadata": {},
   "outputs": [
    {
     "data": {
      "text/plain": [
       "48U    4659\n",
       "dtype: int64"
      ]
     },
     "execution_count": 46,
     "metadata": {},
     "output_type": "execute_result"
    }
   ],
   "source": [
    "(coordinates_utm[\"ZoneNumber\"].astype(str) + coordinates_utm[\"ZoneLetter\"]).value_counts()"
   ]
  },
  {
   "cell_type": "code",
   "execution_count": 48,
   "metadata": {},
   "outputs": [],
   "source": [
    "coordinates_utm.to_excel(\"../_INTERPOLATION/coordinates_UTM.xlsx\")\n",
    "cof= pd.read_excel(\"../_RESULTS/working_data.xlsx\", index_col=0, usecols = lambda column : column not in [\"Lat_deg\", \"Lat_min\", \"Lat_sec\", \"Long_deg\", \"Long_min\", \"Long_sec\", \"past_mer\"] )"
   ]
  },
  {
   "cell_type": "code",
   "execution_count": 49,
   "metadata": {},
   "outputs": [
    {
     "data": {
      "text/html": [
       "<div>\n",
       "<style scoped>\n",
       "    .dataframe tbody tr th:only-of-type {\n",
       "        vertical-align: middle;\n",
       "    }\n",
       "\n",
       "    .dataframe tbody tr th {\n",
       "        vertical-align: top;\n",
       "    }\n",
       "\n",
       "    .dataframe thead th {\n",
       "        text-align: right;\n",
       "    }\n",
       "</style>\n",
       "<table border=\"1\" class=\"dataframe\">\n",
       "  <thead>\n",
       "    <tr style=\"text-align: right;\">\n",
       "      <th></th>\n",
       "      <th>type_granite</th>\n",
       "      <th>time</th>\n",
       "      <th>massif</th>\n",
       "      <th>sampler</th>\n",
       "      <th>others</th>\n",
       "      <th>sampler+year</th>\n",
       "    </tr>\n",
       "  </thead>\n",
       "  <tbody>\n",
       "    <tr>\n",
       "      <th>512</th>\n",
       "      <td>Granite coarse-grained</td>\n",
       "      <td>Tr-J</td>\n",
       "      <td>Yugalkan massif</td>\n",
       "      <td>T.A.Alfer'eva</td>\n",
       "      <td>NaN</td>\n",
       "      <td>A.D.Kanischev,1959</td>\n",
       "    </tr>\n",
       "    <tr>\n",
       "      <th>1299</th>\n",
       "      <td>Granite coarse-grained</td>\n",
       "      <td>Tr-J</td>\n",
       "      <td>NaN</td>\n",
       "      <td>G.L.Znamenskaya</td>\n",
       "      <td>NaN</td>\n",
       "      <td>N.P.Kostyakov,1961</td>\n",
       "    </tr>\n",
       "    <tr>\n",
       "      <th>1536</th>\n",
       "      <td>Bt granite porphyraceous</td>\n",
       "      <td>Tr-J</td>\n",
       "      <td>NaN</td>\n",
       "      <td>E.G.Ivanova</td>\n",
       "      <td>NaN</td>\n",
       "      <td>L.A.Kozubova,1957</td>\n",
       "    </tr>\n",
       "    <tr>\n",
       "      <th>1760</th>\n",
       "      <td>Bt granite medium-grained</td>\n",
       "      <td>Tr-J</td>\n",
       "      <td>NaN</td>\n",
       "      <td>NaN</td>\n",
       "      <td>NaN</td>\n",
       "      <td>V.I.Fel'dman,1956</td>\n",
       "    </tr>\n",
       "    <tr>\n",
       "      <th>1890</th>\n",
       "      <td>Plagiogranite</td>\n",
       "      <td>Tr-J</td>\n",
       "      <td>NaN</td>\n",
       "      <td>NI.Serebryakova</td>\n",
       "      <td>NaN</td>\n",
       "      <td>A.V.Vnukov,1959</td>\n",
       "    </tr>\n",
       "    <tr>\n",
       "      <th>...</th>\n",
       "      <td>...</td>\n",
       "      <td>...</td>\n",
       "      <td>...</td>\n",
       "      <td>...</td>\n",
       "      <td>...</td>\n",
       "      <td>...</td>\n",
       "    </tr>\n",
       "    <tr>\n",
       "      <th>1150</th>\n",
       "      <td>Granite leucocratic</td>\n",
       "      <td>J</td>\n",
       "      <td>Upper-Buy massif</td>\n",
       "      <td>NaN</td>\n",
       "      <td>.N.P.Mel'nikova</td>\n",
       "      <td>V.V.Starchenko,1968</td>\n",
       "    </tr>\n",
       "    <tr>\n",
       "      <th>1396</th>\n",
       "      <td>Granite</td>\n",
       "      <td>Tr</td>\n",
       "      <td>Ust'-Nerchugan massifmassif</td>\n",
       "      <td>N.Aolebedeva</td>\n",
       "      <td>NaN</td>\n",
       "      <td>K.F.Khatskevich,1967</td>\n",
       "    </tr>\n",
       "    <tr>\n",
       "      <th>2116</th>\n",
       "      <td>Granite</td>\n",
       "      <td>NaN</td>\n",
       "      <td>NaN</td>\n",
       "      <td>N.I.Serebryakov~</td>\n",
       "      <td>NaN</td>\n",
       "      <td>V.Yu.Shenfil,1962</td>\n",
       "    </tr>\n",
       "    <tr>\n",
       "      <th>2973</th>\n",
       "      <td>Bt granite-porphyry</td>\n",
       "      <td>NaN</td>\n",
       "      <td>Ergelyakh massif</td>\n",
       "      <td>G.P.Ignatovich</td>\n",
       "      <td>NaN</td>\n",
       "      <td>G.G.Naumov,1978</td>\n",
       "    </tr>\n",
       "    <tr>\n",
       "      <th>4077</th>\n",
       "      <td>Quartz diorite</td>\n",
       "      <td>K</td>\n",
       "      <td>Ekachan massif</td>\n",
       "      <td>N.D.Tikhon'kikh</td>\n",
       "      <td>Oth:so3-0.12</td>\n",
       "      <td>A.M.Uzyunkoyan,1974</td>\n",
       "    </tr>\n",
       "  </tbody>\n",
       "</table>\n",
       "<p>4659 rows × 6 columns</p>\n",
       "</div>"
      ],
      "text/plain": [
       "                   type_granite  time                       massif  \\\n",
       "512      Granite coarse-grained  Tr-J              Yugalkan massif   \n",
       "1299     Granite coarse-grained  Tr-J                          NaN   \n",
       "1536   Bt granite porphyraceous  Tr-J                          NaN   \n",
       "1760  Bt granite medium-grained  Tr-J                          NaN   \n",
       "1890              Plagiogranite  Tr-J                          NaN   \n",
       "...                         ...   ...                          ...   \n",
       "1150        Granite leucocratic     J             Upper-Buy massif   \n",
       "1396                    Granite    Tr  Ust'-Nerchugan massifmassif   \n",
       "2116                    Granite   NaN                          NaN   \n",
       "2973        Bt granite-porphyry   NaN             Ergelyakh massif   \n",
       "4077             Quartz diorite     K               Ekachan massif   \n",
       "\n",
       "               sampler           others          sampler+year  \n",
       "512      T.A.Alfer'eva              NaN    A.D.Kanischev,1959  \n",
       "1299   G.L.Znamenskaya              NaN    N.P.Kostyakov,1961  \n",
       "1536       E.G.Ivanova              NaN     L.A.Kozubova,1957  \n",
       "1760               NaN              NaN     V.I.Fel'dman,1956  \n",
       "1890   NI.Serebryakova              NaN       A.V.Vnukov,1959  \n",
       "...                ...              ...                   ...  \n",
       "1150               NaN  .N.P.Mel'nikova   V.V.Starchenko,1968  \n",
       "1396      N.Aolebedeva              NaN  K.F.Khatskevich,1967  \n",
       "2116  N.I.Serebryakov~              NaN     V.Yu.Shenfil,1962  \n",
       "2973    G.P.Ignatovich              NaN       G.G.Naumov,1978  \n",
       "4077   N.D.Tikhon'kikh     Oth:so3-0.12   A.M.Uzyunkoyan,1974  \n",
       "\n",
       "[4659 rows x 6 columns]"
      ]
     },
     "execution_count": 49,
     "metadata": {},
     "output_type": "execute_result"
    }
   ],
   "source": [
    "cof"
   ]
  },
  {
   "cell_type": "code",
   "execution_count": 50,
   "metadata": {},
   "outputs": [],
   "source": [
    "coordinates_full = pd.concat([coordinates_utm, coordinates, mineralogy, cof], axis = 1)"
   ]
  },
  {
   "cell_type": "code",
   "execution_count": 49,
   "metadata": {},
   "outputs": [],
   "source": [
    "coordinates_full.to_excel(\"../_INTERPOLATION/coordinates_full_data.xlsx\")\n"
   ]
  },
  {
   "cell_type": "markdown",
   "metadata": {},
   "source": [
    "### Grouping of the data"
   ]
  },
  {
   "cell_type": "code",
   "execution_count": 51,
   "metadata": {},
   "outputs": [],
   "source": [
    "areax = coordinates_full\n",
    "areax[\"area\"] = \"\""
   ]
  },
  {
   "cell_type": "code",
   "execution_count": 52,
   "metadata": {},
   "outputs": [
    {
     "name": "stderr",
     "output_type": "stream",
     "text": [
      "C:\\Users\\u0108248\\AppData\\Local\\Continuum\\miniconda3\\envs\\main\\lib\\site-packages\\ipykernel_launcher.py:3: SettingWithCopyWarning: \n",
      "A value is trying to be set on a copy of a slice from a DataFrame.\n",
      "Try using .loc[row_indexer,col_indexer] = value instead\n",
      "\n",
      "See the caveats in the documentation: https://pandas.pydata.org/pandas-docs/stable/user_guide/indexing.html#returning-a-view-versus-a-copy\n",
      "  This is separate from the ipykernel package so we can avoid doing imports until\n"
     ]
    }
   ],
   "source": [
    "areay1 = areax[areax[\"X\"].between(107.20, 121)]\n",
    "area1 = areay1[areay1[\"Y\"].between(48.85, 56.6)]\n",
    "area1[\"area\"] = 1\n",
    "area1.to_excel(\"../_INTERPOLATION/area1.xlsx\")"
   ]
  },
  {
   "cell_type": "code",
   "execution_count": 53,
   "metadata": {},
   "outputs": [
    {
     "name": "stderr",
     "output_type": "stream",
     "text": [
      "C:\\Users\\u0108248\\AppData\\Local\\Continuum\\miniconda3\\envs\\main\\lib\\site-packages\\ipykernel_launcher.py:3: SettingWithCopyWarning: \n",
      "A value is trying to be set on a copy of a slice from a DataFrame.\n",
      "Try using .loc[row_indexer,col_indexer] = value instead\n",
      "\n",
      "See the caveats in the documentation: https://pandas.pydata.org/pandas-docs/stable/user_guide/indexing.html#returning-a-view-versus-a-copy\n",
      "  This is separate from the ipykernel package so we can avoid doing imports until\n"
     ]
    }
   ],
   "source": [
    "areay2 = areax[areax[\"X\"].between(131.75, 141.5)]\n",
    "area2 = areay2[areay2[\"Y\"].between(42, 56)]\n",
    "area2[\"area\"] = 2\n",
    "area2.to_excel(\"../_INTERPOLATION/area2.xlsx\")\n"
   ]
  },
  {
   "cell_type": "code",
   "execution_count": 54,
   "metadata": {},
   "outputs": [
    {
     "name": "stderr",
     "output_type": "stream",
     "text": [
      "C:\\Users\\u0108248\\AppData\\Local\\Continuum\\miniconda3\\envs\\main\\lib\\site-packages\\ipykernel_launcher.py:3: SettingWithCopyWarning: \n",
      "A value is trying to be set on a copy of a slice from a DataFrame.\n",
      "Try using .loc[row_indexer,col_indexer] = value instead\n",
      "\n",
      "See the caveats in the documentation: https://pandas.pydata.org/pandas-docs/stable/user_guide/indexing.html#returning-a-view-versus-a-copy\n",
      "  This is separate from the ipykernel package so we can avoid doing imports until\n"
     ]
    }
   ],
   "source": [
    "areay3 = areax[areax[\"X\"].between(133, 160.5)]\n",
    "area3 = areay3[areay3[\"Y\"].between(58.6, 70.85)]\n",
    "area3[\"area\"] = 3\n",
    "area3.to_excel(\"../_INTERPOLATION/area3.xlsx\")"
   ]
  },
  {
   "cell_type": "code",
   "execution_count": 55,
   "metadata": {},
   "outputs": [
    {
     "name": "stderr",
     "output_type": "stream",
     "text": [
      "C:\\Users\\u0108248\\AppData\\Local\\Continuum\\miniconda3\\envs\\main\\lib\\site-packages\\ipykernel_launcher.py:3: SettingWithCopyWarning: \n",
      "A value is trying to be set on a copy of a slice from a DataFrame.\n",
      "Try using .loc[row_indexer,col_indexer] = value instead\n",
      "\n",
      "See the caveats in the documentation: https://pandas.pydata.org/pandas-docs/stable/user_guide/indexing.html#returning-a-view-versus-a-copy\n",
      "  This is separate from the ipykernel package so we can avoid doing imports until\n"
     ]
    }
   ],
   "source": [
    "areay4 = areax[areax[\"X\"].between(160.5, 180)]\n",
    "area4 = areay4[areay4[\"Y\"].between(60.75, 70.25)]\n",
    "area4[\"area\"] = 4\n",
    "area4.to_excel(\"../_INTERPOLATION/area4.xlsx\")"
   ]
  },
  {
   "cell_type": "code",
   "execution_count": 56,
   "metadata": {},
   "outputs": [],
   "source": [
    "areay5 = areax[areax[\"X\"].between(-180, -165)]\n",
    "area5 = areay5[areay5[\"Y\"].between(63, 70)]\n",
    "area5[\"area\"] = 5\n",
    "area5.to_excel(\"../_INTERPOLATION/area5.xlsx\")"
   ]
  },
  {
   "cell_type": "code",
   "execution_count": 57,
   "metadata": {},
   "outputs": [],
   "source": [
    "area12 = area1.append(area2)\n",
    "area123 = area12.append(area3) \n",
    "area1234 = area123.append(area4) \n",
    "area = area1234.append(area5) \n",
    "area.to_excel(\"../_INTERPOLATION/area_subdivided.xlsx\")"
   ]
  },
  {
   "cell_type": "markdown",
   "metadata": {},
   "source": [
    "____"
   ]
  },
  {
   "cell_type": "markdown",
   "metadata": {},
   "source": [
    "## Metadata"
   ]
  },
  {
   "cell_type": "code",
   "execution_count": 59,
   "metadata": {},
   "outputs": [],
   "source": [
    "metadata = pd.read_excel(\"../_INTERPOLATION/coordinates_full_data.xlsx\", index_col=0, usecols=[0, 25, 26, 27, 28, 29, 30])"
   ]
  },
  {
   "cell_type": "code",
   "execution_count": 60,
   "metadata": {},
   "outputs": [
    {
     "data": {
      "text/html": [
       "<div>\n",
       "<style scoped>\n",
       "    .dataframe tbody tr th:only-of-type {\n",
       "        vertical-align: middle;\n",
       "    }\n",
       "\n",
       "    .dataframe tbody tr th {\n",
       "        vertical-align: top;\n",
       "    }\n",
       "\n",
       "    .dataframe thead th {\n",
       "        text-align: right;\n",
       "    }\n",
       "</style>\n",
       "<table border=\"1\" class=\"dataframe\">\n",
       "  <thead>\n",
       "    <tr style=\"text-align: right;\">\n",
       "      <th></th>\n",
       "      <th>type_granite</th>\n",
       "      <th>time</th>\n",
       "      <th>massif</th>\n",
       "      <th>sampler</th>\n",
       "      <th>others</th>\n",
       "      <th>sampler+year</th>\n",
       "    </tr>\n",
       "  </thead>\n",
       "  <tbody>\n",
       "    <tr>\n",
       "      <th>1</th>\n",
       "      <td>Granite leucogranitic</td>\n",
       "      <td>K</td>\n",
       "      <td>NaN</td>\n",
       "      <td>NaN</td>\n",
       "      <td>NaN</td>\n",
       "      <td>V.N.Musin,1970</td>\n",
       "    </tr>\n",
       "    <tr>\n",
       "      <th>2</th>\n",
       "      <td>Granite leucocratic</td>\n",
       "      <td>Tr</td>\n",
       "      <td>NaN</td>\n",
       "      <td>V.I.Zhigalova</td>\n",
       "      <td>NaN</td>\n",
       "      <td>E.A.Ivanov,1969</td>\n",
       "    </tr>\n",
       "    <tr>\n",
       "      <th>3</th>\n",
       "      <td>Granite leucocratic coarse-grained</td>\n",
       "      <td>K</td>\n",
       "      <td>Omsukchan massif</td>\n",
       "      <td>P.M.Bosek</td>\n",
       "      <td>NaN</td>\n",
       "      <td>O.S.Gracheva,1948</td>\n",
       "    </tr>\n",
       "    <tr>\n",
       "      <th>4</th>\n",
       "      <td>Granite leucocratic</td>\n",
       "      <td>K</td>\n",
       "      <td>Buksandzhin massif</td>\n",
       "      <td>A.Kh.Brovtman</td>\n",
       "      <td>NaN</td>\n",
       "      <td>A.F.Mikhaylov,1948</td>\n",
       "    </tr>\n",
       "    <tr>\n",
       "      <th>5</th>\n",
       "      <td>Granite-porphyry micropegmatitic</td>\n",
       "      <td>K</td>\n",
       "      <td>Attykveem massif</td>\n",
       "      <td>L.G.Semenova</td>\n",
       "      <td>0th.:S-0.16</td>\n",
       "      <td>A.I.Sadovsky,1963</td>\n",
       "    </tr>\n",
       "    <tr>\n",
       "      <th>...</th>\n",
       "      <td>...</td>\n",
       "      <td>...</td>\n",
       "      <td>...</td>\n",
       "      <td>...</td>\n",
       "      <td>...</td>\n",
       "      <td>...</td>\n",
       "    </tr>\n",
       "    <tr>\n",
       "      <th>4655</th>\n",
       "      <td>Diorite</td>\n",
       "      <td>K</td>\n",
       "      <td>Egdegkych massif</td>\n",
       "      <td>NaN</td>\n",
       "      <td>Oth.:co2-0.12</td>\n",
       "      <td>V.A.lgnat'ev,1964</td>\n",
       "    </tr>\n",
       "    <tr>\n",
       "      <th>4656</th>\n",
       "      <td>Quartz diorite</td>\n",
       "      <td>K</td>\n",
       "      <td>Verkhneplotnikovsky massif</td>\n",
       "      <td>NaN</td>\n",
       "      <td>NaN</td>\n",
       "      <td>A.A.Syas'ko,1969</td>\n",
       "    </tr>\n",
       "    <tr>\n",
       "      <th>4657</th>\n",
       "      <td>Diorite</td>\n",
       "      <td>J</td>\n",
       "      <td>NaN</td>\n",
       "      <td>NaN</td>\n",
       "      <td>Oth.:co2-0.02,so3-0.0l</td>\n",
       "      <td>N.N.Remizov,1967</td>\n",
       "    </tr>\n",
       "    <tr>\n",
       "      <th>4658</th>\n",
       "      <td>Diorite</td>\n",
       "      <td>K</td>\n",
       "      <td>NaN</td>\n",
       "      <td>NaN</td>\n",
       "      <td>NaN</td>\n",
       "      <td>A.P.Osipov,1966</td>\n",
       "    </tr>\n",
       "    <tr>\n",
       "      <th>4659</th>\n",
       "      <td>Diorite</td>\n",
       "      <td>K</td>\n",
       "      <td>Vukney massif</td>\n",
       "      <td>V.V.Langvagen</td>\n",
       "      <td>Oth:Ba0-0.03</td>\n",
       "      <td>M.G.Ravich,1938</td>\n",
       "    </tr>\n",
       "  </tbody>\n",
       "</table>\n",
       "<p>4659 rows × 6 columns</p>\n",
       "</div>"
      ],
      "text/plain": [
       "                            type_granite time                      massif  \\\n",
       "1                  Granite leucogranitic    K                         NaN   \n",
       "2                    Granite leucocratic   Tr                         NaN   \n",
       "3     Granite leucocratic coarse-grained    K            Omsukchan massif   \n",
       "4                    Granite leucocratic    K          Buksandzhin massif   \n",
       "5       Granite-porphyry micropegmatitic    K            Attykveem massif   \n",
       "...                                  ...  ...                         ...   \n",
       "4655                             Diorite    K            Egdegkych massif   \n",
       "4656                      Quartz diorite    K  Verkhneplotnikovsky massif   \n",
       "4657                             Diorite    J                         NaN   \n",
       "4658                             Diorite    K                         NaN   \n",
       "4659                             Diorite    K               Vukney massif   \n",
       "\n",
       "            sampler                  others        sampler+year  \n",
       "1               NaN                     NaN      V.N.Musin,1970  \n",
       "2     V.I.Zhigalova                     NaN     E.A.Ivanov,1969  \n",
       "3         P.M.Bosek                     NaN   O.S.Gracheva,1948  \n",
       "4     A.Kh.Brovtman                     NaN  A.F.Mikhaylov,1948  \n",
       "5      L.G.Semenova             0th.:S-0.16   A.I.Sadovsky,1963  \n",
       "...             ...                     ...                 ...  \n",
       "4655            NaN           Oth.:co2-0.12   V.A.lgnat'ev,1964  \n",
       "4656            NaN                     NaN    A.A.Syas'ko,1969  \n",
       "4657            NaN  Oth.:co2-0.02,so3-0.0l    N.N.Remizov,1967  \n",
       "4658            NaN                     NaN     A.P.Osipov,1966  \n",
       "4659  V.V.Langvagen            Oth:Ba0-0.03     M.G.Ravich,1938  \n",
       "\n",
       "[4659 rows x 6 columns]"
      ]
     },
     "execution_count": 60,
     "metadata": {},
     "output_type": "execute_result"
    }
   ],
   "source": [
    "metadata"
   ]
  },
  {
   "cell_type": "code",
   "execution_count": 61,
   "metadata": {},
   "outputs": [
    {
     "data": {
      "text/plain": [
       "Granite                                    656\n",
       "Granodiorite                               523\n",
       "Granite-porphyry                           282\n",
       "Bt granite                                 268\n",
       "Granite leucocratic                        220\n",
       "                                          ... \n",
       "Bt-Hb granodiorite(granite)                  1\n",
       "Hb-Bt tonalite                               1\n",
       "Cord-Bt granodiorite                         1\n",
       "Diorite medium-grained                       1\n",
       "Granite-porphyry alkaline leucogranitic      1\n",
       "Name: type_granite, Length: 401, dtype: int64"
      ]
     },
     "execution_count": 61,
     "metadata": {},
     "output_type": "execute_result"
    }
   ],
   "source": [
    "metadata[\"type_granite\"].value_counts()"
   ]
  },
  {
   "cell_type": "code",
   "execution_count": 62,
   "metadata": {},
   "outputs": [
    {
     "data": {
      "text/plain": [
       "Ulakhan-Sis massif         58\n",
       "Khoboyotuu-Echiy massif    56\n",
       "Vladimirsky massif         35\n",
       "Zimov'e massif             33\n",
       "Bom-Gorkhon massif         31\n",
       "                           ..\n",
       "Suntar massif               1\n",
       "Derbul-Angin massif         1\n",
       "Belaya Strelka massif       1\n",
       "Vaka massif                 1\n",
       "Kayvelmay massif            1\n",
       "Name: massif, Length: 941, dtype: int64"
      ]
     },
     "execution_count": 62,
     "metadata": {},
     "output_type": "execute_result"
    }
   ],
   "source": [
    "metadata[\"massif\"].value_counts()"
   ]
  },
  {
   "cell_type": "code",
   "execution_count": 63,
   "metadata": {},
   "outputs": [
    {
     "data": {
      "text/plain": [
       "K       2522\n",
       "J        825\n",
       "Tr       517\n",
       "Pg       365\n",
       "Tr-J     338\n",
       "Mz        88\n",
       "Name: time, dtype: int64"
      ]
     },
     "execution_count": 63,
     "metadata": {},
     "output_type": "execute_result"
    }
   ],
   "source": [
    "metadata[\"time\"].value_counts()"
   ]
  },
  {
   "cell_type": "code",
   "execution_count": 64,
   "metadata": {},
   "outputs": [
    {
     "data": {
      "text/plain": [
       "L.S.Voronova      120\n",
       "D.M.Shuster        87\n",
       "N.A.Lebedeva       86\n",
       "V.I.Zhigalova      70\n",
       "N.P.Mel'nikova     51\n",
       "                 ... \n",
       "P.1.Levin           1\n",
       "L.AKyanno           1\n",
       "T.S.Ogneva.         1\n",
       "GoloSurova          1\n",
       "Ikhe                1\n",
       "Name: sampler, Length: 736, dtype: int64"
      ]
     },
     "execution_count": 64,
     "metadata": {},
     "output_type": "execute_result"
    }
   ],
   "source": [
    "metadata[\"sampler\"].value_counts()"
   ]
  },
  {
   "cell_type": "code",
   "execution_count": 65,
   "metadata": {},
   "outputs": [
    {
     "data": {
      "text/plain": [
       "G.A.Valuy,1975             76\n",
       "V.A.Popeko,1968            61\n",
       "V.A.Faradzhev,1971         43\n",
       "V.S.Ivanov,1968            37\n",
       "R.O.Galabala,1976          37\n",
       "                           ..\n",
       "F.T.Fedchin,1975            1\n",
       "V.S.Alkin,1965              1\n",
       "V.I.Tolstopyatenko,1969     1\n",
       "V.N.Ovechkin,1977           1\n",
       "A.T.Timopheev               1\n",
       "Name: sampler+year, Length: 1392, dtype: int64"
      ]
     },
     "execution_count": 65,
     "metadata": {},
     "output_type": "execute_result"
    }
   ],
   "source": [
    "metadata[\"sampler+year\"].value_counts()"
   ]
  },
  {
   "cell_type": "markdown",
   "metadata": {},
   "source": [
    "## data for each area"
   ]
  },
  {
   "cell_type": "code",
   "execution_count": 66,
   "metadata": {},
   "outputs": [],
   "source": [
    "metadata_area1 = pd.read_excel(\"../_INTERPOLATION/area1.xlsx\", index_col=0, usecols=[0, 25, 26, 27, 28, 29, 30])\n",
    "metadata_area2 = pd.read_excel(\"../_INTERPOLATION/area2.xlsx\", index_col=0, usecols=[0, 25, 26, 27, 28, 29, 30])\n",
    "metadata_area3 = pd.read_excel(\"../_INTERPOLATION/area3.xlsx\", index_col=0, usecols=[0, 25, 26, 27, 28, 29, 30])\n",
    "metadata_area4 = pd.read_excel(\"../_INTERPOLATION/area4.xlsx\", index_col=0, usecols=[0, 25, 26, 27, 28, 29, 30])\n",
    "metadata_area5 = pd.read_excel(\"../_INTERPOLATION/area5.xlsx\", index_col=0, usecols=[0, 25, 26, 27, 28, 29, 30])\n"
   ]
  },
  {
   "cell_type": "code",
   "execution_count": 67,
   "metadata": {},
   "outputs": [],
   "source": [
    "coordinates_utm_area1 = pd.read_excel(\"../_INTERPOLATION/area1.xlsx\", index_col=0, usecols=[0, 1, 2, 3, 4])\n",
    "coordinates_utm_area2 = pd.read_excel(\"../_INTERPOLATION/area2.xlsx\", index_col=0, usecols=[0, 1, 2, 3, 4])\n",
    "coordinates_utm_area3 = pd.read_excel(\"../_INTERPOLATION/area3.xlsx\", index_col=0, usecols=[0, 1, 2, 3, 4])\n",
    "coordinates_utm_area4 = pd.read_excel(\"../_INTERPOLATION/area4.xlsx\", index_col=0, usecols=[0, 1, 2, 3, 4])\n",
    "coordinates_utm_area5 = pd.read_excel(\"../_INTERPOLATION/area5.xlsx\", index_col=0, usecols=[0, 1, 2, 3, 4])"
   ]
  },
  {
   "cell_type": "code",
   "execution_count": 68,
   "metadata": {},
   "outputs": [],
   "source": [
    "coordinates_area1 = pd.read_excel(\"../_INTERPOLATION/area1.xlsx\", index_col=0, usecols=[0, 5, 6, 7, 8, 9])\n",
    "coordinates_area2 = pd.read_excel(\"../_INTERPOLATION/area2.xlsx\", index_col=0, usecols=[0, 5, 6, 7, 8, 9])\n",
    "coordinates_area3 = pd.read_excel(\"../_INTERPOLATION/area3.xlsx\", index_col=0, usecols=[0, 5, 6, 7, 8, 9])\n",
    "coordinates_area4 = pd.read_excel(\"../_INTERPOLATION/area4.xlsx\", index_col=0, usecols=[0, 5, 6, 7, 8, 9])\n",
    "coordinates_area5 = pd.read_excel(\"../_INTERPOLATION/area5.xlsx\", index_col=0, usecols=[0, 5, 6, 7, 8, 9])"
   ]
  },
  {
   "cell_type": "code",
   "execution_count": 69,
   "metadata": {},
   "outputs": [],
   "source": [
    "mineralogy_area1 = pd.read_excel(\"../_INTERPOLATION/area1.xlsx\", index_col=0, usecols=[0, 10, 11, 12, 13, 14, 15, 16, 17, 18, 19, 20, 21, 22])\n",
    "mineralogy_area2 = pd.read_excel(\"../_INTERPOLATION/area2.xlsx\", index_col=0, usecols=[0, 10, 11, 12, 13, 14, 15, 16, 17, 18, 19, 20, 21, 22])\n",
    "mineralogy_area3 = pd.read_excel(\"../_INTERPOLATION/area3.xlsx\", index_col=0, usecols=[0, 10, 11, 12, 13, 14, 15, 16, 17, 18, 19, 20, 21, 22])\n",
    "mineralogy_area4 = pd.read_excel(\"../_INTERPOLATION/area4.xlsx\", index_col=0, usecols=[0, 10, 11, 12, 13, 14, 15, 16, 17, 18, 19, 20, 21, 22])\n",
    "mineralogy_area5 = pd.read_excel(\"../_INTERPOLATION/area5.xlsx\", index_col=0, usecols=[0, 10, 11, 12, 13, 14, 15, 16, 17, 18, 19, 20, 21, 22])"
   ]
  },
  {
   "cell_type": "code",
   "execution_count": 70,
   "metadata": {},
   "outputs": [],
   "source": [
    "mineralogy_clr_area1 = preproc.clr(mineralogy_area1)\n",
    "mineralogy_clr_area2 = preproc.clr(mineralogy_area2)\n",
    "mineralogy_clr_area3 = preproc.clr(mineralogy_area3)\n",
    "mineralogy_clr_area4 = preproc.clr(mineralogy_area4)\n",
    "mineralogy_clr_area5 = preproc.clr(mineralogy_area5)"
   ]
  },
  {
   "cell_type": "code",
   "execution_count": 167,
   "metadata": {},
   "outputs": [
    {
     "name": "stdout",
     "output_type": "stream",
     "text": [
      "8 PCA components  out of 13 components with variance sum 0.9555579066346551 needed for obtaining sum of variance > 0.95\n"
     ]
    },
    {
     "data": {
      "text/plain": [
       "array([2.96355019e-01, 1.85954192e-01, 1.38270700e-01, 1.12139084e-01,\n",
       "       6.66935380e-02, 6.24587158e-02, 4.95929980e-02, 4.40936596e-02,\n",
       "       2.94532110e-02, 1.04798880e-02, 3.36316913e-03, 1.14582524e-03,\n",
       "       2.32978932e-32])"
      ]
     },
     "execution_count": 167,
     "metadata": {},
     "output_type": "execute_result"
    },
    {
     "name": "stdout",
     "output_type": "stream",
     "text": [
      "8 PCA components  out of 13 components with variance sum 0.9593403254547035 needed for obtaining sum of variance > 0.95\n"
     ]
    },
    {
     "data": {
      "text/plain": [
       "array([2.95659757e-01, 2.10826919e-01, 1.40640233e-01, 1.04473036e-01,\n",
       "       7.46526270e-02, 4.88288893e-02, 4.36800114e-02, 4.05788534e-02,\n",
       "       2.54468886e-02, 1.13710314e-02, 2.97038072e-03, 8.71373824e-04,\n",
       "       2.79220168e-32])"
      ]
     },
     "execution_count": 167,
     "metadata": {},
     "output_type": "execute_result"
    },
    {
     "name": "stdout",
     "output_type": "stream",
     "text": [
      "8 PCA components  out of 13 components with variance sum 0.9627406809523947 needed for obtaining sum of variance > 0.95\n"
     ]
    },
    {
     "data": {
      "text/plain": [
       "array([2.75005381e-01, 2.06359875e-01, 1.71254993e-01, 1.18980339e-01,\n",
       "       7.62156381e-02, 5.36376156e-02, 3.35788609e-02, 2.77079785e-02,\n",
       "       2.35563401e-02, 9.68375408e-03, 3.26272353e-03, 7.56501376e-04,\n",
       "       1.69814082e-32])"
      ]
     },
     "execution_count": 167,
     "metadata": {},
     "output_type": "execute_result"
    },
    {
     "name": "stdout",
     "output_type": "stream",
     "text": [
      "8 PCA components  out of 13 components with variance sum 0.9602804485255654 needed for obtaining sum of variance > 0.95\n"
     ]
    },
    {
     "data": {
      "text/plain": [
       "array([3.35017726e-01, 1.98448207e-01, 1.54440219e-01, 9.25809599e-02,\n",
       "       6.51316253e-02, 5.58108761e-02, 3.45902680e-02, 2.42605679e-02,\n",
       "       1.84233895e-02, 1.61065116e-02, 4.27448116e-03, 9.15169201e-04,\n",
       "       2.29549240e-32])"
      ]
     },
     "execution_count": 167,
     "metadata": {},
     "output_type": "execute_result"
    },
    {
     "name": "stdout",
     "output_type": "stream",
     "text": [
      "7 PCA components  out of 13 components with variance sum 0.96013561671489 needed for obtaining sum of variance > 0.95\n"
     ]
    },
    {
     "data": {
      "text/plain": [
       "array([3.26599017e-01, 2.13750993e-01, 1.57958438e-01, 1.02940256e-01,\n",
       "       7.36900126e-02, 5.32433330e-02, 3.19535673e-02, 1.74469492e-02,\n",
       "       1.30907170e-02, 7.53890350e-03, 1.25766416e-03, 5.30149449e-04,\n",
       "       2.74294555e-32])"
      ]
     },
     "execution_count": 167,
     "metadata": {},
     "output_type": "execute_result"
    }
   ],
   "source": [
    "mineralogy_pca_area1 = preproc.pca(mineralogy_clr_area1)\n",
    "preproc.pca_variance(mineralogy_pca_area1)\n",
    "\n",
    "mineralogy_pca_area2 = preproc.pca(mineralogy_clr_area2)\n",
    "preproc.pca_variance(mineralogy_pca_area2)\n",
    "\n",
    "mineralogy_pca_area3 = preproc.pca(mineralogy_clr_area3)\n",
    "preproc.pca_variance(mineralogy_pca_area3)\n",
    "\n",
    "mineralogy_pca_area4 = preproc.pca(mineralogy_clr_area4)\n",
    "preproc.pca_variance(mineralogy_pca_area4)\n",
    "\n",
    "mineralogy_pca_area5 = preproc.pca(mineralogy_clr_area5)\n",
    "preproc.pca_variance(mineralogy_pca_area5)"
   ]
  },
  {
   "cell_type": "code",
   "execution_count": 72,
   "metadata": {},
   "outputs": [],
   "source": [
    "mineralogy_pca_area1_df = preproc.create_pca_df(mineralogy_pca_area1, mineralogy_clr_area1)\n",
    "mineralogy_pca_area2_df = preproc.create_pca_df(mineralogy_pca_area2, mineralogy_clr_area2)\n",
    "mineralogy_pca_area3_df = preproc.create_pca_df(mineralogy_pca_area3, mineralogy_clr_area3)\n",
    "mineralogy_pca_area4_df = preproc.create_pca_df(mineralogy_pca_area4, mineralogy_clr_area4)\n",
    "mineralogy_pca_area5_df = preproc.create_pca_df(mineralogy_pca_area5, mineralogy_clr_area5)"
   ]
  },
  {
   "cell_type": "code",
   "execution_count": 175,
   "metadata": {},
   "outputs": [],
   "source": [
    "mineralogy_all_areas = {\n",
    "    \"area1\": mineralogy_area1,\n",
    "    \"area2\": mineralogy_area2,\n",
    "    \"area3\": mineralogy_area3,\n",
    "    \"area4\": mineralogy_area4,\n",
    "    \"area5\": mineralogy_area5,\n",
    "}"
   ]
  },
  {
   "cell_type": "code",
   "execution_count": 134,
   "metadata": {},
   "outputs": [],
   "source": [
    "mineralogy_pca_all_areas = {\n",
    "    \"area1\": mineralogy_pca_area1,\n",
    "    \"area2\": mineralogy_pca_area2,\n",
    "    \"area3\": mineralogy_pca_area3,\n",
    "    \"area4\": mineralogy_pca_area4,\n",
    "    \"area5\": mineralogy_pca_area5,\n",
    "}"
   ]
  },
  {
   "cell_type": "code",
   "execution_count": 170,
   "metadata": {},
   "outputs": [],
   "source": [
    "mineralogy_pca_df_all_areas = {\n",
    "    \"area1\": mineralogy_pca_area1_df,\n",
    "    \"area2\": mineralogy_pca_area2_df,\n",
    "    \"area3\": mineralogy_pca_area3_df,\n",
    "    \"area4\": mineralogy_pca_area4_df,\n",
    "    \"area5\": mineralogy_pca_area5_df,\n",
    "}"
   ]
  },
  {
   "cell_type": "code",
   "execution_count": 172,
   "metadata": {},
   "outputs": [],
   "source": [
    "metadata_all_areas = {\n",
    "    \"area1\": metadata_area1,\n",
    "    \"area2\": metadata_area2,\n",
    "    \"area3\": metadata_area3,\n",
    "    \"area4\": metadata_area4,\n",
    "    \"area5\": metadata_area5,\n",
    "}"
   ]
  },
  {
   "cell_type": "markdown",
   "metadata": {},
   "source": [
    "### CPV plots"
   ]
  },
  {
   "cell_type": "markdown",
   "metadata": {},
   "source": [
    "**You can now also quickly query the number of PCs needed for reaching a different threshold value than 0.95. See example below.**"
   ]
  },
  {
   "cell_type": "code",
   "execution_count": 168,
   "metadata": {},
   "outputs": [
    {
     "name": "stdout",
     "output_type": "stream",
     "text": [
      "6 PCA components  out of 13 components with variance sum 0.8618712489921863 needed for obtaining sum of variance > 0.8\n"
     ]
    },
    {
     "data": {
      "text/plain": [
       "array([2.96355019e-01, 1.85954192e-01, 1.38270700e-01, 1.12139084e-01,\n",
       "       6.66935380e-02, 6.24587158e-02, 4.95929980e-02, 4.40936596e-02,\n",
       "       2.94532110e-02, 1.04798880e-02, 3.36316913e-03, 1.14582524e-03,\n",
       "       2.32978932e-32])"
      ]
     },
     "execution_count": 168,
     "metadata": {},
     "output_type": "execute_result"
    }
   ],
   "source": [
    "preproc.pca_variance(mineralogy_pca_area1, 0.80)"
   ]
  },
  {
   "cell_type": "code",
   "execution_count": 149,
   "metadata": {},
   "outputs": [],
   "source": [
    "pca_expl_var_areas = {}\n",
    "for i in range(1, 6):\n",
    "    area = f\"area{i}\"\n",
    "    pca_expl_var_areas[area] = mineralogy_pca_all_areas[area].explained_variance_ratio_"
   ]
  },
  {
   "cell_type": "code",
   "execution_count": 151,
   "metadata": {},
   "outputs": [
    {
     "data": {
      "text/plain": [
       "13"
      ]
     },
     "execution_count": 151,
     "metadata": {},
     "output_type": "execute_result"
    }
   ],
   "source": [
    "n_columns = mineralogy_pca_area1.n_components_\n",
    "n_columns"
   ]
  },
  {
   "cell_type": "code",
   "execution_count": 155,
   "metadata": {},
   "outputs": [
    {
     "data": {
      "text/html": [
       "<div>\n",
       "<style scoped>\n",
       "    .dataframe tbody tr th:only-of-type {\n",
       "        vertical-align: middle;\n",
       "    }\n",
       "\n",
       "    .dataframe tbody tr th {\n",
       "        vertical-align: top;\n",
       "    }\n",
       "\n",
       "    .dataframe thead th {\n",
       "        text-align: right;\n",
       "    }\n",
       "</style>\n",
       "<table border=\"1\" class=\"dataframe\">\n",
       "  <thead>\n",
       "    <tr style=\"text-align: right;\">\n",
       "      <th></th>\n",
       "      <th>area1</th>\n",
       "      <th>area2</th>\n",
       "      <th>area3</th>\n",
       "      <th>area4</th>\n",
       "      <th>area5</th>\n",
       "    </tr>\n",
       "  </thead>\n",
       "  <tbody>\n",
       "    <tr>\n",
       "      <th>0</th>\n",
       "      <td>0.000000e+00</td>\n",
       "      <td>0.000000e+00</td>\n",
       "      <td>0.000000e+00</td>\n",
       "      <td>0.000000e+00</td>\n",
       "      <td>0.000000e+00</td>\n",
       "    </tr>\n",
       "    <tr>\n",
       "      <th>1</th>\n",
       "      <td>2.963550e-01</td>\n",
       "      <td>2.956598e-01</td>\n",
       "      <td>2.750054e-01</td>\n",
       "      <td>3.350177e-01</td>\n",
       "      <td>3.265990e-01</td>\n",
       "    </tr>\n",
       "    <tr>\n",
       "      <th>2</th>\n",
       "      <td>1.859542e-01</td>\n",
       "      <td>2.108269e-01</td>\n",
       "      <td>2.063599e-01</td>\n",
       "      <td>1.984482e-01</td>\n",
       "      <td>2.137510e-01</td>\n",
       "    </tr>\n",
       "    <tr>\n",
       "      <th>3</th>\n",
       "      <td>1.382707e-01</td>\n",
       "      <td>1.406402e-01</td>\n",
       "      <td>1.712550e-01</td>\n",
       "      <td>1.544402e-01</td>\n",
       "      <td>1.579584e-01</td>\n",
       "    </tr>\n",
       "    <tr>\n",
       "      <th>4</th>\n",
       "      <td>1.121391e-01</td>\n",
       "      <td>1.044730e-01</td>\n",
       "      <td>1.189803e-01</td>\n",
       "      <td>9.258096e-02</td>\n",
       "      <td>1.029403e-01</td>\n",
       "    </tr>\n",
       "    <tr>\n",
       "      <th>5</th>\n",
       "      <td>6.669354e-02</td>\n",
       "      <td>7.465263e-02</td>\n",
       "      <td>7.621564e-02</td>\n",
       "      <td>6.513163e-02</td>\n",
       "      <td>7.369001e-02</td>\n",
       "    </tr>\n",
       "    <tr>\n",
       "      <th>6</th>\n",
       "      <td>6.245872e-02</td>\n",
       "      <td>4.882889e-02</td>\n",
       "      <td>5.363762e-02</td>\n",
       "      <td>5.581088e-02</td>\n",
       "      <td>5.324333e-02</td>\n",
       "    </tr>\n",
       "    <tr>\n",
       "      <th>7</th>\n",
       "      <td>4.959300e-02</td>\n",
       "      <td>4.368001e-02</td>\n",
       "      <td>3.357886e-02</td>\n",
       "      <td>3.459027e-02</td>\n",
       "      <td>3.195357e-02</td>\n",
       "    </tr>\n",
       "    <tr>\n",
       "      <th>8</th>\n",
       "      <td>4.409366e-02</td>\n",
       "      <td>4.057885e-02</td>\n",
       "      <td>2.770798e-02</td>\n",
       "      <td>2.426057e-02</td>\n",
       "      <td>1.744695e-02</td>\n",
       "    </tr>\n",
       "    <tr>\n",
       "      <th>9</th>\n",
       "      <td>2.945321e-02</td>\n",
       "      <td>2.544689e-02</td>\n",
       "      <td>2.355634e-02</td>\n",
       "      <td>1.842339e-02</td>\n",
       "      <td>1.309072e-02</td>\n",
       "    </tr>\n",
       "    <tr>\n",
       "      <th>10</th>\n",
       "      <td>1.047989e-02</td>\n",
       "      <td>1.137103e-02</td>\n",
       "      <td>9.683754e-03</td>\n",
       "      <td>1.610651e-02</td>\n",
       "      <td>7.538904e-03</td>\n",
       "    </tr>\n",
       "    <tr>\n",
       "      <th>11</th>\n",
       "      <td>3.363169e-03</td>\n",
       "      <td>2.970381e-03</td>\n",
       "      <td>3.262724e-03</td>\n",
       "      <td>4.274481e-03</td>\n",
       "      <td>1.257664e-03</td>\n",
       "    </tr>\n",
       "    <tr>\n",
       "      <th>12</th>\n",
       "      <td>1.145825e-03</td>\n",
       "      <td>8.713738e-04</td>\n",
       "      <td>7.565014e-04</td>\n",
       "      <td>9.151692e-04</td>\n",
       "      <td>5.301494e-04</td>\n",
       "    </tr>\n",
       "    <tr>\n",
       "      <th>13</th>\n",
       "      <td>2.329789e-32</td>\n",
       "      <td>2.792202e-32</td>\n",
       "      <td>1.698141e-32</td>\n",
       "      <td>2.295492e-32</td>\n",
       "      <td>2.742946e-32</td>\n",
       "    </tr>\n",
       "  </tbody>\n",
       "</table>\n",
       "</div>"
      ],
      "text/plain": [
       "           area1         area2         area3         area4         area5\n",
       "0   0.000000e+00  0.000000e+00  0.000000e+00  0.000000e+00  0.000000e+00\n",
       "1   2.963550e-01  2.956598e-01  2.750054e-01  3.350177e-01  3.265990e-01\n",
       "2   1.859542e-01  2.108269e-01  2.063599e-01  1.984482e-01  2.137510e-01\n",
       "3   1.382707e-01  1.406402e-01  1.712550e-01  1.544402e-01  1.579584e-01\n",
       "4   1.121391e-01  1.044730e-01  1.189803e-01  9.258096e-02  1.029403e-01\n",
       "5   6.669354e-02  7.465263e-02  7.621564e-02  6.513163e-02  7.369001e-02\n",
       "6   6.245872e-02  4.882889e-02  5.363762e-02  5.581088e-02  5.324333e-02\n",
       "7   4.959300e-02  4.368001e-02  3.357886e-02  3.459027e-02  3.195357e-02\n",
       "8   4.409366e-02  4.057885e-02  2.770798e-02  2.426057e-02  1.744695e-02\n",
       "9   2.945321e-02  2.544689e-02  2.355634e-02  1.842339e-02  1.309072e-02\n",
       "10  1.047989e-02  1.137103e-02  9.683754e-03  1.610651e-02  7.538904e-03\n",
       "11  3.363169e-03  2.970381e-03  3.262724e-03  4.274481e-03  1.257664e-03\n",
       "12  1.145825e-03  8.713738e-04  7.565014e-04  9.151692e-04  5.301494e-04\n",
       "13  2.329789e-32  2.792202e-32  1.698141e-32  2.295492e-32  2.742946e-32"
      ]
     },
     "execution_count": 155,
     "metadata": {},
     "output_type": "execute_result"
    }
   ],
   "source": [
    "pca_expl_var_areas_df = pd.DataFrame.from_dict(pca_expl_var_areas, orient='index', columns=range(1, n_columns+1))\n",
    "pca_expl_var_areas_df[0] = 0\n",
    "pca_expl_var_areas_df = pca_expl_var_areas_df.T\n",
    "pca_expl_var_areas_df = pca_expl_var_areas_df.sort_index()\n",
    "pca_expl_var_areas_df"
   ]
  },
  {
   "cell_type": "code",
   "execution_count": 156,
   "metadata": {},
   "outputs": [],
   "source": [
    "pca_expl_var_areas_df_cumulative_sum = np.cumsum(pca_expl_var_areas_df)"
   ]
  },
  {
   "cell_type": "code",
   "execution_count": 157,
   "metadata": {},
   "outputs": [
    {
     "data": {
      "text/html": [
       "<div>\n",
       "<style scoped>\n",
       "    .dataframe tbody tr th:only-of-type {\n",
       "        vertical-align: middle;\n",
       "    }\n",
       "\n",
       "    .dataframe tbody tr th {\n",
       "        vertical-align: top;\n",
       "    }\n",
       "\n",
       "    .dataframe thead th {\n",
       "        text-align: right;\n",
       "    }\n",
       "</style>\n",
       "<table border=\"1\" class=\"dataframe\">\n",
       "  <thead>\n",
       "    <tr style=\"text-align: right;\">\n",
       "      <th></th>\n",
       "      <th>area1</th>\n",
       "      <th>area2</th>\n",
       "      <th>area3</th>\n",
       "      <th>area4</th>\n",
       "      <th>area5</th>\n",
       "    </tr>\n",
       "  </thead>\n",
       "  <tbody>\n",
       "    <tr>\n",
       "      <th>0</th>\n",
       "      <td>0.000000</td>\n",
       "      <td>0.000000</td>\n",
       "      <td>0.000000</td>\n",
       "      <td>0.000000</td>\n",
       "      <td>0.000000</td>\n",
       "    </tr>\n",
       "    <tr>\n",
       "      <th>1</th>\n",
       "      <td>0.296355</td>\n",
       "      <td>0.295660</td>\n",
       "      <td>0.275005</td>\n",
       "      <td>0.335018</td>\n",
       "      <td>0.326599</td>\n",
       "    </tr>\n",
       "    <tr>\n",
       "      <th>2</th>\n",
       "      <td>0.482309</td>\n",
       "      <td>0.506487</td>\n",
       "      <td>0.481365</td>\n",
       "      <td>0.533466</td>\n",
       "      <td>0.540350</td>\n",
       "    </tr>\n",
       "    <tr>\n",
       "      <th>3</th>\n",
       "      <td>0.620580</td>\n",
       "      <td>0.647127</td>\n",
       "      <td>0.652620</td>\n",
       "      <td>0.687906</td>\n",
       "      <td>0.698308</td>\n",
       "    </tr>\n",
       "    <tr>\n",
       "      <th>4</th>\n",
       "      <td>0.732719</td>\n",
       "      <td>0.751600</td>\n",
       "      <td>0.771601</td>\n",
       "      <td>0.780487</td>\n",
       "      <td>0.801249</td>\n",
       "    </tr>\n",
       "    <tr>\n",
       "      <th>5</th>\n",
       "      <td>0.799413</td>\n",
       "      <td>0.826253</td>\n",
       "      <td>0.847816</td>\n",
       "      <td>0.845619</td>\n",
       "      <td>0.874939</td>\n",
       "    </tr>\n",
       "    <tr>\n",
       "      <th>6</th>\n",
       "      <td>0.861871</td>\n",
       "      <td>0.875081</td>\n",
       "      <td>0.901454</td>\n",
       "      <td>0.901430</td>\n",
       "      <td>0.928182</td>\n",
       "    </tr>\n",
       "    <tr>\n",
       "      <th>7</th>\n",
       "      <td>0.911464</td>\n",
       "      <td>0.918761</td>\n",
       "      <td>0.935033</td>\n",
       "      <td>0.936020</td>\n",
       "      <td>0.960136</td>\n",
       "    </tr>\n",
       "    <tr>\n",
       "      <th>8</th>\n",
       "      <td>0.955558</td>\n",
       "      <td>0.959340</td>\n",
       "      <td>0.962741</td>\n",
       "      <td>0.960280</td>\n",
       "      <td>0.977583</td>\n",
       "    </tr>\n",
       "    <tr>\n",
       "      <th>9</th>\n",
       "      <td>0.985011</td>\n",
       "      <td>0.984787</td>\n",
       "      <td>0.986297</td>\n",
       "      <td>0.978704</td>\n",
       "      <td>0.990673</td>\n",
       "    </tr>\n",
       "    <tr>\n",
       "      <th>10</th>\n",
       "      <td>0.995491</td>\n",
       "      <td>0.996158</td>\n",
       "      <td>0.995981</td>\n",
       "      <td>0.994810</td>\n",
       "      <td>0.998212</td>\n",
       "    </tr>\n",
       "    <tr>\n",
       "      <th>11</th>\n",
       "      <td>0.998854</td>\n",
       "      <td>0.999129</td>\n",
       "      <td>0.999243</td>\n",
       "      <td>0.999085</td>\n",
       "      <td>0.999470</td>\n",
       "    </tr>\n",
       "    <tr>\n",
       "      <th>12</th>\n",
       "      <td>1.000000</td>\n",
       "      <td>1.000000</td>\n",
       "      <td>1.000000</td>\n",
       "      <td>1.000000</td>\n",
       "      <td>1.000000</td>\n",
       "    </tr>\n",
       "    <tr>\n",
       "      <th>13</th>\n",
       "      <td>1.000000</td>\n",
       "      <td>1.000000</td>\n",
       "      <td>1.000000</td>\n",
       "      <td>1.000000</td>\n",
       "      <td>1.000000</td>\n",
       "    </tr>\n",
       "  </tbody>\n",
       "</table>\n",
       "</div>"
      ],
      "text/plain": [
       "       area1     area2     area3     area4     area5\n",
       "0   0.000000  0.000000  0.000000  0.000000  0.000000\n",
       "1   0.296355  0.295660  0.275005  0.335018  0.326599\n",
       "2   0.482309  0.506487  0.481365  0.533466  0.540350\n",
       "3   0.620580  0.647127  0.652620  0.687906  0.698308\n",
       "4   0.732719  0.751600  0.771601  0.780487  0.801249\n",
       "5   0.799413  0.826253  0.847816  0.845619  0.874939\n",
       "6   0.861871  0.875081  0.901454  0.901430  0.928182\n",
       "7   0.911464  0.918761  0.935033  0.936020  0.960136\n",
       "8   0.955558  0.959340  0.962741  0.960280  0.977583\n",
       "9   0.985011  0.984787  0.986297  0.978704  0.990673\n",
       "10  0.995491  0.996158  0.995981  0.994810  0.998212\n",
       "11  0.998854  0.999129  0.999243  0.999085  0.999470\n",
       "12  1.000000  1.000000  1.000000  1.000000  1.000000\n",
       "13  1.000000  1.000000  1.000000  1.000000  1.000000"
      ]
     },
     "execution_count": 157,
     "metadata": {},
     "output_type": "execute_result"
    }
   ],
   "source": [
    "pca_expl_var_areas_df_cumulative_sum"
   ]
  },
  {
   "cell_type": "code",
   "execution_count": 164,
   "metadata": {},
   "outputs": [
    {
     "data": {
      "image/png": "[encoded data removed]",
      "text/plain": [
       "<Figure size 432x288 with 1 Axes>"
      ]
     },
     "metadata": {},
     "output_type": "display_data"
    }
   ],
   "source": [
    "p = pca_expl_var_areas_df_cumulative_sum.iloc[:-1, :].plot(marker=\"o\", alpha=1)\n",
    "#plt.axhline(0.95, c=\"k\", alpha=0.5)\n",
    "\n",
    "plt.xlabel(\"Dimensions\", c='grey')\n",
    "plt.ylabel(r\"CPV\", c='grey', rotation=0, labelpad=20)\n",
    "plt.ylim((0, 1.05))\n",
    "\n",
    "# Change display of spines\n",
    "p.spines['right'].set_visible(False)\n",
    "p.spines['top'].set_visible(False)\n",
    "\n",
    "# Set the color of the visible spines\n",
    "p.spines['left'].set_color('grey')\n",
    "p.spines['bottom'].set_color('grey')\n",
    "\n",
    "# Set the bounds of the spines\n",
    "p.set_xlim(0, n_columns-0.9)\n",
    "p.set_ylim(0, 1.05)\n",
    "\n",
    "# Set axes ticks\n",
    "p.set_xticks([x for x in range(n_columns)])\n",
    "p.set_yticks([0.0, 0.2, 0.4, 0.6, 0.8, 0.95, 1.0])\n",
    "\n",
    "p.spines['bottom'].set_bounds(0.0, n_columns-1)\n",
    "p.spines['left'].set_bounds(0.0, 1.0)\n",
    "\n",
    "# Set general tick parameters\n",
    "p.tick_params(axis='both',\n",
    "              direction='out',\n",
    "              colors='grey',\n",
    "              labelsize=9)\n",
    "\n",
    "plt.hlines(0.95, 0, n_columns-1, color='grey', linewidth=1, linestyle=\"--\")\n",
    "\n",
    "plt.gcf().set_facecolor('white')\n",
    "\n",
    "# plt.margins(1)\n",
    "plt.tight_layout()\n",
    "\n",
    "plt.legend(loc=\"lower right\", frameon=True, fontsize='small')\n",
    "\n",
    "plt.savefig(\"../_FIGURES/cpv/cpv_all_areas.pdf\")\n",
    "plt.show();"
   ]
  },
  {
   "cell_type": "markdown",
   "metadata": {},
   "source": [
    "### Biplots"
   ]
  },
  {
   "cell_type": "code",
   "execution_count": 177,
   "metadata": {},
   "outputs": [],
   "source": [
    "# Concatenate pc scores with metadata for plotting of biplot\n",
    "mineralogy_pca_metadata_all_areas = {}\n",
    "\n",
    "for area, metadata in metadata_all_areas.items():\n",
    "    mineralogy_pca_metadata_all_areas[area] = pd.concat([mineralogy_pca_df_all_areas[area], metadata], axis=1)"
   ]
  },
  {
   "cell_type": "code",
   "execution_count": 185,
   "metadata": {},
   "outputs": [],
   "source": [
    "color_dict = {\n",
    "    \"Tr\": sns.color_palette()[0],\n",
    "    \"Tr-J\": sns.color_palette()[1],\n",
    "     \"J\": sns.color_palette()[2],\n",
    "     \"K\": sns.color_palette()[3],\n",
    "     \"Pg\": sns.color_palette()[4],\n",
    "     \"Mz\": sns.color_palette()[5],\n",
    "}"
   ]
  },
  {
   "cell_type": "code",
   "execution_count": 187,
   "metadata": {},
   "outputs": [],
   "source": [
    "hue_orders = {\n",
    "    \"area1\": [\"Tr\", \"Tr-J\", \"J\", \"K\", \"Mz\"],\n",
    "    \"area2\": [\"Tr\", \"J\", \"K\", \"Pg\"],\n",
    "    \"area3\": [\"Tr\", \"J\", \"K\", \"Pg\"],\n",
    "    \"area4\": [\"J\", \"K\", \"Pg\", \"Mz\"],\n",
    "    \"area5\": [\"K\", \"Pg\", \"Mz\"],\n",
    "}"
   ]
  },
  {
   "cell_type": "code",
   "execution_count": 189,
   "metadata": {},
   "outputs": [
    {
     "name": "stdout",
     "output_type": "stream",
     "text": [
      "[-4.0, -3.0, -2.0, -1.0, 0.0, 1.0, 2.0, 3.0, 4.0]\n",
      "[-4.0, -3.0, -2.0, -1.0, 0.0, 1.0, 2.0, 3.0, 4.0, 5.0]\n"
     ]
    },
    {
     "data": {
      "image/png": "[encoded data removed]",
      "text/plain": [
       "<Figure size 432x288 with 1 Axes>"
      ]
     },
     "metadata": {},
     "output_type": "display_data"
    },
    {
     "name": "stdout",
     "output_type": "stream",
     "text": [
      "[-4.0, -3.0, -2.0, -1.0, 0.0, 1.0, 2.0, 3.0, 4.0]\n",
      "[-3.0, -2.0, -1.0, 0.0, 1.0, 2.0, 3.0, 4.0]\n"
     ]
    },
    {
     "data": {
      "image/png": "[encoded data removed]",
      "text/plain": [
       "<Figure size 432x288 with 1 Axes>"
      ]
     },
     "metadata": {},
     "output_type": "display_data"
    },
    {
     "name": "stdout",
     "output_type": "stream",
     "text": [
      "[-4.0, -3.0, -2.0, -1.0, 0.0, 1.0, 2.0, 3.0, 4.0, 5.0]\n",
      "[-3.0, -2.0, -1.0, 0.0, 1.0, 2.0, 3.0, 4.0, 5.0]\n"
     ]
    },
    {
     "data": {
      "image/png": "[encoded data removed]",
      "text/plain": [
       "<Figure size 432x288 with 1 Axes>"
      ]
     },
     "metadata": {},
     "output_type": "display_data"
    },
    {
     "name": "stdout",
     "output_type": "stream",
     "text": [
      "[-4.0, -3.0, -2.0, -1.0, 0.0, 1.0, 2.0, 3.0, 4.0, 5.0]\n",
      "[-3.0, -2.0, -1.0, 0.0, 1.0, 2.0, 3.0]\n"
     ]
    },
    {
     "data": {
      "image/png": "[encoded data removed]",
      "text/plain": [
       "<Figure size 432x288 with 1 Axes>"
      ]
     },
     "metadata": {},
     "output_type": "display_data"
    },
    {
     "name": "stdout",
     "output_type": "stream",
     "text": [
      "[-3.0, -2.0, -1.0, 0.0, 1.0, 2.0, 3.0, 4.0, 5.0]\n",
      "[-3.0, -2.0, -1.0, 0.0, 1.0, 2.0, 3.0, 4.0]\n"
     ]
    },
    {
     "data": {
      "image/png": "[encoded data removed]",
      "text/plain": [
       "<Figure size 432x288 with 1 Axes>"
      ]
     },
     "metadata": {},
     "output_type": "display_data"
    },
    {
     "name": "stdout",
     "output_type": "stream",
     "text": [
      "Wall time: 2.2 s\n"
     ]
    }
   ],
   "source": [
    "%%time\n",
    "for area, pca in mineralogy_pca_all_areas.items():\n",
    "    plots.biplot(pca, \n",
    "                 mineralogy_pca_metadata_all_areas[area], \n",
    "                 columns=mineralogy_all_areas[area].columns, \n",
    "                 group=area,\n",
    "                 plot_datalabels=False,\n",
    "                 adjust='box',\n",
    "                 axes_offset=0.3,\n",
    "                 loading_factor=1,\n",
    "                 loadings_forward=True,\n",
    "                 hue=\"time\",\n",
    "                 hue_order=hue_orders[area],\n",
    "                 palette=color_dict,\n",
    "                 s=5)"
   ]
  },
  {
   "cell_type": "markdown",
   "metadata": {},
   "source": [
    "## Saving of data"
   ]
  },
  {
   "cell_type": "code",
   "execution_count": 71,
   "metadata": {},
   "outputs": [],
   "source": [
    "# Save data as pickle files to use them in later notebooks\n",
    "preproc.save_obj(mineralogy_area1, \"mineralogy_area1\") # mineralogy\n",
    "preproc.save_obj(mineralogy_clr_area1, \"mineralogy_clr_area1\") # mineralogy clr\n",
    "preproc.save_obj(mineralogy_pca_area1, \"mineralogy_pca_area1\") # mineralogy pca info\n",
    "preproc.save_obj(mineralogy_pca_area1_df, \"mineralogy_pca_area1_df\") # mineralogy pca scores\n",
    "\n",
    "preproc.save_obj(coordinates_area1, \"coordinates_area1\") # coordinates latlon\n",
    "preproc.save_obj(coordinates_utm_area1, \"coordinates_utm_area1\") # coordinates utm\n",
    "preproc.save_obj(metadata_area1, \"metadata_area1\") # metadata"
   ]
  },
  {
   "cell_type": "markdown",
   "metadata": {},
   "source": [
    "____"
   ]
  },
  {
   "cell_type": "code",
   "execution_count": 72,
   "metadata": {},
   "outputs": [
    {
     "data": {
      "text/html": [
       "<div>\n",
       "<style scoped>\n",
       "    .dataframe tbody tr th:only-of-type {\n",
       "        vertical-align: middle;\n",
       "    }\n",
       "\n",
       "    .dataframe tbody tr th {\n",
       "        vertical-align: top;\n",
       "    }\n",
       "\n",
       "    .dataframe thead th {\n",
       "        text-align: right;\n",
       "    }\n",
       "</style>\n",
       "<table border=\"1\" class=\"dataframe\">\n",
       "  <thead>\n",
       "    <tr style=\"text-align: right;\">\n",
       "      <th></th>\n",
       "      <th>Y_UTM</th>\n",
       "      <th>X_UTM</th>\n",
       "      <th>ZoneNumber</th>\n",
       "      <th>ZoneLetter</th>\n",
       "    </tr>\n",
       "  </thead>\n",
       "  <tbody>\n",
       "    <tr>\n",
       "      <th>2</th>\n",
       "      <td>1.436111e+06</td>\n",
       "      <td>6.102354e+06</td>\n",
       "      <td>48</td>\n",
       "      <td>U</td>\n",
       "    </tr>\n",
       "    <tr>\n",
       "      <th>6</th>\n",
       "      <td>1.113927e+06</td>\n",
       "      <td>5.652652e+06</td>\n",
       "      <td>48</td>\n",
       "      <td>U</td>\n",
       "    </tr>\n",
       "    <tr>\n",
       "      <th>9</th>\n",
       "      <td>1.068636e+06</td>\n",
       "      <td>5.598845e+06</td>\n",
       "      <td>48</td>\n",
       "      <td>U</td>\n",
       "    </tr>\n",
       "    <tr>\n",
       "      <th>10</th>\n",
       "      <td>1.098840e+06</td>\n",
       "      <td>5.690263e+06</td>\n",
       "      <td>48</td>\n",
       "      <td>U</td>\n",
       "    </tr>\n",
       "    <tr>\n",
       "      <th>11</th>\n",
       "      <td>9.048985e+05</td>\n",
       "      <td>5.630297e+06</td>\n",
       "      <td>48</td>\n",
       "      <td>U</td>\n",
       "    </tr>\n",
       "    <tr>\n",
       "      <th>...</th>\n",
       "      <td>...</td>\n",
       "      <td>...</td>\n",
       "      <td>...</td>\n",
       "      <td>...</td>\n",
       "    </tr>\n",
       "    <tr>\n",
       "      <th>4538</th>\n",
       "      <td>1.304961e+06</td>\n",
       "      <td>5.902228e+06</td>\n",
       "      <td>48</td>\n",
       "      <td>U</td>\n",
       "    </tr>\n",
       "    <tr>\n",
       "      <th>4552</th>\n",
       "      <td>1.328849e+06</td>\n",
       "      <td>6.028456e+06</td>\n",
       "      <td>48</td>\n",
       "      <td>U</td>\n",
       "    </tr>\n",
       "    <tr>\n",
       "      <th>4574</th>\n",
       "      <td>1.413275e+06</td>\n",
       "      <td>6.019949e+06</td>\n",
       "      <td>48</td>\n",
       "      <td>U</td>\n",
       "    </tr>\n",
       "    <tr>\n",
       "      <th>4585</th>\n",
       "      <td>1.455811e+06</td>\n",
       "      <td>5.990438e+06</td>\n",
       "      <td>48</td>\n",
       "      <td>U</td>\n",
       "    </tr>\n",
       "    <tr>\n",
       "      <th>4603</th>\n",
       "      <td>1.301794e+06</td>\n",
       "      <td>6.230043e+06</td>\n",
       "      <td>48</td>\n",
       "      <td>U</td>\n",
       "    </tr>\n",
       "  </tbody>\n",
       "</table>\n",
       "<p>1459 rows × 4 columns</p>\n",
       "</div>"
      ],
      "text/plain": [
       "             Y_UTM         X_UTM  ZoneNumber ZoneLetter\n",
       "2     1.436111e+06  6.102354e+06          48          U\n",
       "6     1.113927e+06  5.652652e+06          48          U\n",
       "9     1.068636e+06  5.598845e+06          48          U\n",
       "10    1.098840e+06  5.690263e+06          48          U\n",
       "11    9.048985e+05  5.630297e+06          48          U\n",
       "...            ...           ...         ...        ...\n",
       "4538  1.304961e+06  5.902228e+06          48          U\n",
       "4552  1.328849e+06  6.028456e+06          48          U\n",
       "4574  1.413275e+06  6.019949e+06          48          U\n",
       "4585  1.455811e+06  5.990438e+06          48          U\n",
       "4603  1.301794e+06  6.230043e+06          48          U\n",
       "\n",
       "[1459 rows x 4 columns]"
      ]
     },
     "execution_count": 72,
     "metadata": {},
     "output_type": "execute_result"
    }
   ],
   "source": [
    "coordinates_utm_area1"
   ]
  }
 ],
 "metadata": {
  "kernelspec": {
   "display_name": "Python [conda env:main]",
   "language": "python",
   "name": "conda-env-main-py"
  },
  "language_info": {
   "codemirror_mode": {
    "name": "ipython",
    "version": 3
   },
   "file_extension": ".py",
   "mimetype": "text/x-python",
   "name": "python",
   "nbconvert_exporter": "python",
   "pygments_lexer": "ipython3",
   "version": "3.7.6"
  },
  "toc-autonumbering": true
 },
 "nbformat": 4,
 "nbformat_minor": 4
}
